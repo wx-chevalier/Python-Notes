{
  "cells": [
    {
      "cell_type": "markdown",
      "metadata": {},
      "source": [
        "# \u7b2c\u4e09\u7ae0\uff1a\u6570\u5b57\u65e5\u671f\u548c\u65f6\u95f4\n \u5728Python\u4e2d\u6267\u884c\u6574\u6570\u548c\u6d6e\u70b9\u6570\u7684\u6570\u5b66\u8fd0\u7b97\u65f6\u5f88\u7b80\u5355\u7684\u3002\n\u5c3d\u7ba1\u5982\u6b64\uff0c\u5982\u679c\u4f60\u9700\u8981\u6267\u884c\u5206\u6570\u3001\u6570\u7ec4\u6216\u8005\u662f\u65e5\u671f\u548c\u65f6\u95f4\u7684\u8fd0\u7b97\u7684\u8bdd\uff0c\u5c31\u5f97\u505a\u66f4\u591a\u7684\u5de5\u4f5c\u4e86\u3002\n\u672c\u7ae0\u96c6\u4e2d\u8ba8\u8bba\u7684\u5c31\u662f\u8fd9\u4e9b\u4e3b\u9898\u3002"
      ]
    },
    {
      "cell_type": "markdown",
      "metadata": {},
      "source": [
        "## 3.1 \u6570\u5b57\u7684\u56db\u820d\u4e94\u5165\n"
      ]
    },
    {
      "cell_type": "markdown",
      "metadata": {},
      "source": [
        "### \u95ee\u9898\n"
      ]
    },
    {
      "cell_type": "markdown",
      "metadata": {},
      "source": [
        "\u4f60\u60f3\u5bf9\u6d6e\u70b9\u6570\u6267\u884c\u6307\u5b9a\u7cbe\u5ea6\u7684\u820d\u5165\u8fd0\u7b97\u3002"
      ]
    },
    {
      "cell_type": "markdown",
      "metadata": {},
      "source": [
        "### \u89e3\u51b3\u65b9\u6848\n"
      ]
    },
    {
      "cell_type": "markdown",
      "metadata": {},
      "source": [
        "\u5bf9\u4e8e\u7b80\u5355\u7684\u820d\u5165\u8fd0\u7b97\uff0c\u4f7f\u7528\u5185\u7f6e\u7684 round(value, ndigits) \u51fd\u6570\u5373\u53ef\u3002\u6bd4\u5982\uff1a"
      ]
    },
    {
      "cell_type": "code",
      "execution_count": null,
      "metadata": {},
      "outputs": [],
      "source": [
        "round(1.23, 1)"
      ]
    },
    {
      "cell_type": "code",
      "execution_count": null,
      "metadata": {},
      "outputs": [],
      "source": [
        "round(1.27, 1)"
      ]
    },
    {
      "cell_type": "code",
      "execution_count": null,
      "metadata": {},
      "outputs": [],
      "source": [
        "round(-1.27, 1)"
      ]
    },
    {
      "cell_type": "code",
      "execution_count": null,
      "metadata": {},
      "outputs": [],
      "source": [
        "round(1.25361,3)"
      ]
    },
    {
      "cell_type": "markdown",
      "metadata": {},
      "source": [
        "\u5f53\u4e00\u4e2a\u503c\u521a\u597d\u5728\u4e24\u4e2a\u8fb9\u754c\u7684\u4e2d\u95f4\u7684\u65f6\u5019\uff0c round \u51fd\u6570\u8fd4\u56de\u79bb\u5b83\u6700\u8fd1\u7684\u5076\u6570\u3002\n\u4e5f\u5c31\u662f\u8bf4\uff0c\u5bf91.5\u6216\u80052.5\u7684\u820d\u5165\u8fd0\u7b97\u90fd\u4f1a\u5f97\u52302\u3002"
      ]
    },
    {
      "cell_type": "markdown",
      "metadata": {},
      "source": [
        "\u4f20\u7ed9 round() \u51fd\u6570\u7684 ndigits \u53c2\u6570\u53ef\u4ee5\u662f\u8d1f\u6570\uff0c\u8fd9\u79cd\u60c5\u51b5\u4e0b\uff0c\n\u820d\u5165\u8fd0\u7b97\u4f1a\u4f5c\u7528\u5728\u5341\u4f4d\u3001\u767e\u4f4d\u3001\u5343\u4f4d\u7b49\u4e0a\u9762\u3002\u6bd4\u5982\uff1a"
      ]
    },
    {
      "cell_type": "code",
      "execution_count": null,
      "metadata": {},
      "outputs": [],
      "source": [
        "a = 1627731\nround(a, -1)"
      ]
    },
    {
      "cell_type": "code",
      "execution_count": null,
      "metadata": {},
      "outputs": [],
      "source": [
        "round(a, -2)"
      ]
    },
    {
      "cell_type": "code",
      "execution_count": null,
      "metadata": {},
      "outputs": [],
      "source": [
        "round(a, -3)"
      ]
    },
    {
      "cell_type": "markdown",
      "metadata": {},
      "source": [
        "### \u8ba8\u8bba\n"
      ]
    },
    {
      "cell_type": "markdown",
      "metadata": {},
      "source": [
        "\u4e0d\u8981\u5c06\u820d\u5165\u548c\u683c\u5f0f\u5316\u8f93\u51fa\u641e\u6df7\u6dc6\u4e86\u3002\n\u5982\u679c\u4f60\u7684\u76ee\u7684\u53ea\u662f\u7b80\u5355\u7684\u8f93\u51fa\u4e00\u5b9a\u5bbd\u5ea6\u7684\u6570\uff0c\u4f60\u4e0d\u9700\u8981\u4f7f\u7528 round() \u51fd\u6570\u3002\n\u800c\u4ec5\u4ec5\u53ea\u9700\u8981\u5728\u683c\u5f0f\u5316\u7684\u65f6\u5019\u6307\u5b9a\u7cbe\u5ea6\u5373\u53ef\u3002\u6bd4\u5982\uff1a"
      ]
    },
    {
      "cell_type": "code",
      "execution_count": null,
      "metadata": {},
      "outputs": [],
      "source": [
        "x = 1.23456\nformat(x, '0.2f')"
      ]
    },
    {
      "cell_type": "code",
      "execution_count": null,
      "metadata": {},
      "outputs": [],
      "source": [
        "format(x, '0.3f')"
      ]
    },
    {
      "cell_type": "code",
      "execution_count": null,
      "metadata": {},
      "outputs": [],
      "source": [
        "'value is {:0.3f}'.format(x)"
      ]
    },
    {
      "cell_type": "markdown",
      "metadata": {},
      "source": [
        "\u540c\u6837\uff0c\u4e0d\u8981\u8bd5\u7740\u53bb\u820d\u5165\u6d6e\u70b9\u503c\u6765\u201d\u4fee\u6b63\u201d\u8868\u9762\u4e0a\u770b\u8d77\u6765\u6b63\u786e\u7684\u95ee\u9898\u3002\u6bd4\u5982\uff0c\u4f60\u53ef\u80fd\u503e\u5411\u4e8e\u8fd9\u6837\u505a\uff1a"
      ]
    },
    {
      "cell_type": "code",
      "execution_count": null,
      "metadata": {},
      "outputs": [],
      "source": [
        "a = 2.1\nb = 4.2\nc = a + b\nc"
      ]
    },
    {
      "cell_type": "code",
      "execution_count": null,
      "metadata": {},
      "outputs": [],
      "source": [
        "c = round(c, 2) # \"Fix\" result (???)\nc"
      ]
    },
    {
      "cell_type": "markdown",
      "metadata": {},
      "source": [
        "\u5bf9\u4e8e\u5927\u591a\u6570\u4f7f\u7528\u5230\u6d6e\u70b9\u7684\u7a0b\u5e8f\uff0c\u6ca1\u6709\u5fc5\u8981\u4e5f\u4e0d\u63a8\u8350\u8fd9\u6837\u505a\u3002\n\u5c3d\u7ba1\u5728\u8ba1\u7b97\u7684\u65f6\u5019\u4f1a\u6709\u4e00\u70b9\u70b9\u5c0f\u7684\u8bef\u5dee\uff0c\u4f46\u662f\u8fd9\u4e9b\u5c0f\u7684\u8bef\u5dee\u662f\u80fd\u88ab\u7406\u89e3\u4e0e\u5bb9\u5fcd\u7684\u3002\n\u5982\u679c\u4e0d\u80fd\u5141\u8bb8\u8fd9\u6837\u7684\u5c0f\u8bef\u5dee(\u6bd4\u5982\u6d89\u53ca\u5230\u91d1\u878d\u9886\u57df)\uff0c\u90a3\u4e48\u5c31\u5f97\u8003\u8651\u4f7f\u7528 decimal \u6a21\u5757\u4e86\uff0c\u4e0b\u4e00\u8282\u6211\u4eec\u4f1a\u8be6\u7ec6\u8ba8\u8bba\u3002"
      ]
    },
    {
      "cell_type": "markdown",
      "metadata": {},
      "source": [
        "## 3.2 \u6267\u884c\u7cbe\u786e\u7684\u6d6e\u70b9\u6570\u8fd0\u7b97\n"
      ]
    },
    {
      "cell_type": "markdown",
      "metadata": {},
      "source": [
        "### \u95ee\u9898\n"
      ]
    },
    {
      "cell_type": "markdown",
      "metadata": {},
      "source": [
        "\u4f60\u9700\u8981\u5bf9\u6d6e\u70b9\u6570\u6267\u884c\u7cbe\u786e\u7684\u8ba1\u7b97\u64cd\u4f5c\uff0c\u5e76\u4e14\u4e0d\u5e0c\u671b\u6709\u4efb\u4f55\u5c0f\u8bef\u5dee\u7684\u51fa\u73b0\u3002"
      ]
    },
    {
      "cell_type": "markdown",
      "metadata": {},
      "source": [
        "### \u89e3\u51b3\u65b9\u6848\n"
      ]
    },
    {
      "cell_type": "markdown",
      "metadata": {},
      "source": [
        "\u6d6e\u70b9\u6570\u7684\u4e00\u4e2a\u666e\u904d\u95ee\u9898\u662f\u5b83\u4eec\u5e76\u4e0d\u80fd\u7cbe\u786e\u7684\u8868\u793a\u5341\u8fdb\u5236\u6570\u3002\n\u5e76\u4e14\uff0c\u5373\u4f7f\u662f\u6700\u7b80\u5355\u7684\u6570\u5b66\u8fd0\u7b97\u4e5f\u4f1a\u4ea7\u751f\u5c0f\u7684\u8bef\u5dee\uff0c\u6bd4\u5982\uff1a"
      ]
    },
    {
      "cell_type": "code",
      "execution_count": null,
      "metadata": {},
      "outputs": [],
      "source": [
        "a = 4.2\nb = 2.1\na + b"
      ]
    },
    {
      "cell_type": "code",
      "execution_count": null,
      "metadata": {},
      "outputs": [],
      "source": [
        "(a + b) == 6.3"
      ]
    },
    {
      "cell_type": "markdown",
      "metadata": {},
      "source": [
        "\u8fd9\u4e9b\u9519\u8bef\u662f\u7531\u5e95\u5c42CPU\u548cIEEE 754\u6807\u51c6\u901a\u8fc7\u81ea\u5df1\u7684\u6d6e\u70b9\u5355\u4f4d\u53bb\u6267\u884c\u7b97\u672f\u65f6\u7684\u7279\u5f81\u3002\n\u7531\u4e8ePython\u7684\u6d6e\u70b9\u6570\u636e\u7c7b\u578b\u4f7f\u7528\u5e95\u5c42\u8868\u793a\u5b58\u50a8\u6570\u636e\uff0c\u56e0\u6b64\u4f60\u6ca1\u529e\u6cd5\u53bb\u907f\u514d\u8fd9\u6837\u7684\u8bef\u5dee\u3002"
      ]
    },
    {
      "cell_type": "markdown",
      "metadata": {},
      "source": [
        "\u5982\u679c\u4f60\u60f3\u66f4\u52a0\u7cbe\u786e(\u5e76\u80fd\u5bb9\u5fcd\u4e00\u5b9a\u7684\u6027\u80fd\u635f\u8017)\uff0c\u4f60\u53ef\u4ee5\u4f7f\u7528 decimal \u6a21\u5757\uff1a"
      ]
    },
    {
      "cell_type": "code",
      "execution_count": null,
      "metadata": {},
      "outputs": [],
      "source": [
        "from decimal import Decimal\na = Decimal('4.2')\nb = Decimal('2.1')\na + b"
      ]
    },
    {
      "cell_type": "code",
      "execution_count": null,
      "metadata": {},
      "outputs": [],
      "source": [
        "print(a + b)"
      ]
    },
    {
      "cell_type": "code",
      "execution_count": null,
      "metadata": {},
      "outputs": [],
      "source": [
        "(a + b) == Decimal('6.3')"
      ]
    },
    {
      "cell_type": "markdown",
      "metadata": {},
      "source": [
        "\u521d\u770b\u8d77\u6765\uff0c\u4e0a\u9762\u7684\u4ee3\u7801\u597d\u50cf\u6709\u70b9\u5947\u602a\uff0c\u6bd4\u5982\u6211\u4eec\u7528\u5b57\u7b26\u4e32\u6765\u8868\u793a\u6570\u5b57\u3002\n\u7136\u800c\uff0c Decimal \u5bf9\u8c61\u4f1a\u50cf\u666e\u901a\u6d6e\u70b9\u6570\u4e00\u6837\u7684\u5de5\u4f5c(\u652f\u6301\u6240\u6709\u7684\u5e38\u7528\u6570\u5b66\u8fd0\u7b97)\u3002\n\u5982\u679c\u4f60\u6253\u5370\u5b83\u4eec\u6216\u8005\u5728\u5b57\u7b26\u4e32\u683c\u5f0f\u5316\u51fd\u6570\u4e2d\u4f7f\u7528\u5b83\u4eec\uff0c\u770b\u8d77\u6765\u8ddf\u666e\u901a\u6570\u5b57\u6ca1\u4ec0\u4e48\u4e24\u6837\u3002"
      ]
    },
    {
      "cell_type": "markdown",
      "metadata": {},
      "source": [
        "decimal \u6a21\u5757\u7684\u4e00\u4e2a\u4e3b\u8981\u7279\u5f81\u662f\u5141\u8bb8\u4f60\u63a7\u5236\u8ba1\u7b97\u7684\u6bcf\u4e00\u65b9\u9762\uff0c\u5305\u62ec\u6570\u5b57\u4f4d\u6570\u548c\u56db\u820d\u4e94\u5165\u8fd0\u7b97\u3002\n\u4e3a\u4e86\u8fd9\u6837\u505a\uff0c\u4f60\u5148\u5f97\u521b\u5efa\u4e00\u4e2a\u672c\u5730\u4e0a\u4e0b\u6587\u5e76\u66f4\u6539\u5b83\u7684\u8bbe\u7f6e\uff0c\u6bd4\u5982\uff1a"
      ]
    },
    {
      "cell_type": "code",
      "execution_count": null,
      "metadata": {},
      "outputs": [],
      "source": [
        "from decimal import localcontext\na = Decimal('1.3')\nb = Decimal('1.7')\nprint(a / b)"
      ]
    },
    {
      "cell_type": "code",
      "execution_count": null,
      "metadata": {},
      "outputs": [],
      "source": [
        "with localcontext() as ctx:\n    ctx.prec = 3\n    print(a / b)"
      ]
    },
    {
      "cell_type": "code",
      "execution_count": null,
      "metadata": {},
      "outputs": [],
      "source": [
        "with localcontext() as ctx:\n    ctx.prec = 50\n    print(a / b)"
      ]
    },
    {
      "cell_type": "markdown",
      "metadata": {},
      "source": [
        "### \u8ba8\u8bba\n"
      ]
    },
    {
      "cell_type": "markdown",
      "metadata": {},
      "source": [
        "decimal \u6a21\u5757\u5b9e\u73b0\u4e86IBM\u7684\u201d\u901a\u7528\u5c0f\u6570\u8fd0\u7b97\u89c4\u8303\u201d\u3002\u4e0d\u7528\u8bf4\uff0c\u6709\u5f88\u591a\u7684\u914d\u7f6e\u9009\u9879\u8fd9\u672c\u4e66\u6ca1\u6709\u63d0\u5230\u3002"
      ]
    },
    {
      "cell_type": "markdown",
      "metadata": {},
      "source": [
        "Python\u65b0\u624b\u4f1a\u503e\u5411\u4e8e\u4f7f\u7528 decimal \u6a21\u5757\u6765\u5904\u7406\u6d6e\u70b9\u6570\u7684\u7cbe\u786e\u8fd0\u7b97\u3002\n\u7136\u800c\uff0c\u5148\u7406\u89e3\u4f60\u7684\u5e94\u7528\u7a0b\u5e8f\u76ee\u7684\u662f\u975e\u5e38\u91cd\u8981\u7684\u3002\n\u5982\u679c\u4f60\u662f\u5728\u505a\u79d1\u5b66\u8ba1\u7b97\u6216\u5de5\u7a0b\u9886\u57df\u7684\u8ba1\u7b97\u3001\u7535\u8111\u7ed8\u56fe\uff0c\u6216\u8005\u662f\u79d1\u5b66\u9886\u57df\u7684\u5927\u591a\u6570\u8fd0\u7b97\uff0c\n\u90a3\u4e48\u4f7f\u7528\u666e\u901a\u7684\u6d6e\u70b9\u7c7b\u578b\u662f\u6bd4\u8f83\u666e\u904d\u7684\u505a\u6cd5\u3002\n\u5176\u4e2d\u4e00\u4e2a\u539f\u56e0\u662f\uff0c\u5728\u771f\u5b9e\u4e16\u754c\u4e2d\u5f88\u5c11\u4f1a\u8981\u6c42\u7cbe\u786e\u5230\u666e\u901a\u6d6e\u70b9\u6570\u80fd\u63d0\u4f9b\u768417\u4f4d\u7cbe\u5ea6\u3002\n\u56e0\u6b64\uff0c\u8ba1\u7b97\u8fc7\u7a0b\u4e2d\u7684\u90a3\u4e48\u4e00\u70b9\u70b9\u7684\u8bef\u5dee\u662f\u88ab\u5141\u8bb8\u7684\u3002\n\u7b2c\u4e8c\u70b9\u5c31\u662f\uff0c\u539f\u751f\u7684\u6d6e\u70b9\u6570\u8ba1\u7b97\u8981\u5feb\u7684\u591a-\u6709\u65f6\u5019\u4f60\u5728\u6267\u884c\u5927\u91cf\u8fd0\u7b97\u7684\u65f6\u5019\u901f\u5ea6\u4e5f\u662f\u975e\u5e38\u91cd\u8981\u7684\u3002"
      ]
    },
    {
      "cell_type": "markdown",
      "metadata": {},
      "source": [
        "\u5373\u4fbf\u5982\u6b64\uff0c\u4f60\u5374\u4e0d\u80fd\u5b8c\u5168\u5ffd\u7565\u8bef\u5dee\u3002\u6570\u5b66\u5bb6\u82b1\u4e86\u5927\u91cf\u65f6\u95f4\u53bb\u7814\u7a76\u5404\u7c7b\u7b97\u6cd5\uff0c\u6709\u4e9b\u5904\u7406\u8bef\u5dee\u4f1a\u6bd4\u5176\u4ed6\u65b9\u6cd5\u66f4\u597d\u3002\n\u4f60\u4e5f\u5f97\u6ce8\u610f\u4e0b\u51cf\u6cd5\u5220\u9664\u4ee5\u53ca\u5927\u6570\u548c\u5c0f\u6570\u7684\u52a0\u5206\u8fd0\u7b97\u6240\u5e26\u6765\u7684\u5f71\u54cd\u3002\u6bd4\u5982\uff1a"
      ]
    },
    {
      "cell_type": "code",
      "execution_count": null,
      "metadata": {},
      "outputs": [],
      "source": [
        "nums = [1.23e+18, 1, -1.23e+18]\nsum(nums) # Notice how 1 disappears"
      ]
    },
    {
      "cell_type": "markdown",
      "metadata": {},
      "source": [
        "\u4e0a\u9762\u7684\u9519\u8bef\u53ef\u4ee5\u5229\u7528 math.fsum() \u6240\u63d0\u4f9b\u7684\u66f4\u7cbe\u786e\u8ba1\u7b97\u80fd\u529b\u6765\u89e3\u51b3\uff1a"
      ]
    },
    {
      "cell_type": "code",
      "execution_count": null,
      "metadata": {},
      "outputs": [],
      "source": [
        "import math\nmath.fsum(nums)"
      ]
    },
    {
      "cell_type": "markdown",
      "metadata": {},
      "source": [
        "\u7136\u800c\uff0c\u5bf9\u4e8e\u5176\u4ed6\u7684\u7b97\u6cd5\uff0c\u4f60\u5e94\u8be5\u4ed4\u7ec6\u7814\u7a76\u5b83\u5e76\u7406\u89e3\u5b83\u7684\u8bef\u5dee\u4ea7\u751f\u6765\u6e90\u3002"
      ]
    },
    {
      "cell_type": "markdown",
      "metadata": {},
      "source": [
        "\u603b\u7684\u6765\u8bf4\uff0c decimal \u6a21\u5757\u4e3b\u8981\u7528\u5728\u6d89\u53ca\u5230\u91d1\u878d\u7684\u9886\u57df\u3002\n\u5728\u8fd9\u7c7b\u7a0b\u5e8f\u4e2d\uff0c\u54ea\u6015\u662f\u4e00\u70b9\u5c0f\u5c0f\u7684\u8bef\u5dee\u5728\u8ba1\u7b97\u8fc7\u7a0b\u4e2d\u8513\u5ef6\u90fd\u662f\u4e0d\u5141\u8bb8\u7684\u3002\n\u56e0\u6b64\uff0c decimal \u6a21\u5757\u4e3a\u89e3\u51b3\u8fd9\u7c7b\u95ee\u9898\u63d0\u4f9b\u4e86\u65b9\u6cd5\u3002\n\u5f53Python\u548c\u6570\u636e\u5e93\u6253\u4ea4\u9053\u7684\u65f6\u5019\u4e5f\u901a\u5e38\u4f1a\u9047\u5230 Decimal \u5bf9\u8c61\uff0c\u5e76\u4e14\uff0c\u901a\u5e38\u4e5f\u662f\u5728\u5904\u7406\u91d1\u878d\u6570\u636e\u7684\u65f6\u5019\u3002"
      ]
    },
    {
      "cell_type": "markdown",
      "metadata": {},
      "source": [
        "## 3.3 \u6570\u5b57\u7684\u683c\u5f0f\u5316\u8f93\u51fa\n"
      ]
    },
    {
      "cell_type": "markdown",
      "metadata": {},
      "source": [
        "### \u95ee\u9898\n"
      ]
    },
    {
      "cell_type": "markdown",
      "metadata": {},
      "source": [
        "\u4f60\u9700\u8981\u5c06\u6570\u5b57\u683c\u5f0f\u5316\u540e\u8f93\u51fa\uff0c\u5e76\u63a7\u5236\u6570\u5b57\u7684\u4f4d\u6570\u3001\u5bf9\u9f50\u3001\u5343\u4f4d\u5206\u9694\u7b26\u548c\u5176\u4ed6\u7684\u7ec6\u8282\u3002"
      ]
    },
    {
      "cell_type": "markdown",
      "metadata": {},
      "source": [
        "### \u89e3\u51b3\u65b9\u6848\n"
      ]
    },
    {
      "cell_type": "markdown",
      "metadata": {},
      "source": [
        "\u683c\u5f0f\u5316\u8f93\u51fa\u5355\u4e2a\u6570\u5b57\u7684\u65f6\u5019\uff0c\u53ef\u4ee5\u4f7f\u7528\u5185\u7f6e\u7684 format() \u51fd\u6570\uff0c\u6bd4\u5982\uff1a"
      ]
    },
    {
      "cell_type": "code",
      "execution_count": null,
      "metadata": {},
      "outputs": [],
      "source": [
        "x = 1234.56789"
      ]
    },
    {
      "cell_type": "code",
      "execution_count": null,
      "metadata": {},
      "outputs": [],
      "source": [
        "# Two decimal places of accuracy\nformat(x, '0.2f')"
      ]
    },
    {
      "cell_type": "code",
      "execution_count": null,
      "metadata": {},
      "outputs": [],
      "source": [
        "# Right justified in 10 chars, one-digit accuracy\nformat(x, '>10.1f')"
      ]
    },
    {
      "cell_type": "code",
      "execution_count": null,
      "metadata": {},
      "outputs": [],
      "source": [
        "# Left justified\nformat(x, '<10.1f')"
      ]
    },
    {
      "cell_type": "code",
      "execution_count": null,
      "metadata": {},
      "outputs": [],
      "source": [
        "# Centered\nformat(x, '^10.1f')"
      ]
    },
    {
      "cell_type": "code",
      "execution_count": null,
      "metadata": {},
      "outputs": [],
      "source": [
        "# Inclusion of thousands separator\nformat(x, ',')"
      ]
    },
    {
      "cell_type": "code",
      "execution_count": null,
      "metadata": {},
      "outputs": [],
      "source": [
        "format(x, '0,.1f')"
      ]
    },
    {
      "cell_type": "markdown",
      "metadata": {},
      "source": [
        "\u5982\u679c\u4f60\u60f3\u4f7f\u7528\u6307\u6570\u8bb0\u6cd5\uff0c\u5c06f\u6539\u6210e\u6216\u8005E(\u53d6\u51b3\u4e8e\u6307\u6570\u8f93\u51fa\u7684\u5927\u5c0f\u5199\u5f62\u5f0f)\u3002\u6bd4\u5982\uff1a"
      ]
    },
    {
      "cell_type": "code",
      "execution_count": null,
      "metadata": {},
      "outputs": [],
      "source": [
        "format(x, 'e')"
      ]
    },
    {
      "cell_type": "code",
      "execution_count": null,
      "metadata": {},
      "outputs": [],
      "source": [
        "format(x, '0.2E')"
      ]
    },
    {
      "cell_type": "markdown",
      "metadata": {},
      "source": [
        "\u540c\u65f6\u6307\u5b9a\u5bbd\u5ea6\u548c\u7cbe\u5ea6\u7684\u4e00\u822c\u5f62\u5f0f\u662f '[<>^]?width[,]?(.digits)?' \uff0c\n\u5176\u4e2d width \u548c digits \u4e3a\u6574\u6570\uff0c\uff1f\u4ee3\u8868\u53ef\u9009\u90e8\u5206\u3002\n\u540c\u6837\u7684\u683c\u5f0f\u4e5f\u88ab\u7528\u5728\u5b57\u7b26\u4e32\u7684 format() \u65b9\u6cd5\u4e2d\u3002\u6bd4\u5982\uff1a"
      ]
    },
    {
      "cell_type": "code",
      "execution_count": null,
      "metadata": {},
      "outputs": [],
      "source": [
        "'The value is {:0,.2f}'.format(x)"
      ]
    },
    {
      "cell_type": "markdown",
      "metadata": {},
      "source": [
        "### \u8ba8\u8bba\n"
      ]
    },
    {
      "cell_type": "markdown",
      "metadata": {},
      "source": [
        "\u6570\u5b57\u683c\u5f0f\u5316\u8f93\u51fa\u901a\u5e38\u662f\u6bd4\u8f83\u7b80\u5355\u7684\u3002\u4e0a\u9762\u6f14\u793a\u7684\u6280\u672f\u540c\u65f6\u9002\u7528\u4e8e\u6d6e\u70b9\u6570\u548c decimal \u6a21\u5757\u4e2d\u7684 Decimal \u6570\u5b57\u5bf9\u8c61\u3002"
      ]
    },
    {
      "cell_type": "markdown",
      "metadata": {},
      "source": [
        "\u5f53\u6307\u5b9a\u6570\u5b57\u7684\u4f4d\u6570\u540e\uff0c\u7ed3\u679c\u503c\u4f1a\u6839\u636e round() \u51fd\u6570\u540c\u6837\u7684\u89c4\u5219\u8fdb\u884c\u56db\u820d\u4e94\u5165\u540e\u8fd4\u56de\u3002\u6bd4\u5982\uff1a"
      ]
    },
    {
      "cell_type": "code",
      "execution_count": null,
      "metadata": {},
      "outputs": [],
      "source": [
        "x"
      ]
    },
    {
      "cell_type": "code",
      "execution_count": null,
      "metadata": {},
      "outputs": [],
      "source": [
        "format(x, '0.1f')"
      ]
    },
    {
      "cell_type": "code",
      "execution_count": null,
      "metadata": {},
      "outputs": [],
      "source": [
        "format(-x, '0.1f')"
      ]
    },
    {
      "cell_type": "markdown",
      "metadata": {},
      "source": [
        "\u5305\u542b\u5343\u4f4d\u7b26\u7684\u683c\u5f0f\u5316\u8ddf\u672c\u5730\u5316\u6ca1\u6709\u5173\u7cfb\u3002\n\u5982\u679c\u4f60\u9700\u8981\u6839\u636e\u5730\u533a\u6765\u663e\u793a\u5343\u4f4d\u7b26\uff0c\u4f60\u9700\u8981\u81ea\u5df1\u53bb\u8c03\u67e5\u4e0b locale \u6a21\u5757\u4e2d\u7684\u51fd\u6570\u4e86\u3002\n\u4f60\u540c\u6837\u4e5f\u53ef\u4ee5\u4f7f\u7528\u5b57\u7b26\u4e32\u7684 translate() \u65b9\u6cd5\u6765\u4ea4\u6362\u5343\u4f4d\u7b26\u3002\u6bd4\u5982\uff1a"
      ]
    },
    {
      "cell_type": "code",
      "execution_count": null,
      "metadata": {},
      "outputs": [],
      "source": [
        "swap_separators = { ord('.'):',', ord(','):'.' }\nformat(x, ',').translate(swap_separators)"
      ]
    },
    {
      "cell_type": "markdown",
      "metadata": {},
      "source": [
        "\u5728\u5f88\u591aPython\u4ee3\u7801\u4e2d\u4f1a\u770b\u5230\u4f7f\u7528%\u6765\u683c\u5f0f\u5316\u6570\u5b57\u7684\uff0c\u6bd4\u5982\uff1a"
      ]
    },
    {
      "cell_type": "code",
      "execution_count": null,
      "metadata": {},
      "outputs": [],
      "source": [
        "'%0.2f' % x"
      ]
    },
    {
      "cell_type": "code",
      "execution_count": null,
      "metadata": {},
      "outputs": [],
      "source": [
        "'%10.1f' % x"
      ]
    },
    {
      "cell_type": "code",
      "execution_count": null,
      "metadata": {},
      "outputs": [],
      "source": [
        "'%-10.1f' % x"
      ]
    },
    {
      "cell_type": "markdown",
      "metadata": {},
      "source": [
        "\u8fd9\u79cd\u683c\u5f0f\u5316\u65b9\u6cd5\u4e5f\u662f\u53ef\u884c\u7684\uff0c\u4e0d\u8fc7\u6bd4\u66f4\u52a0\u5148\u8fdb\u7684 format() \u8981\u5dee\u4e00\u70b9\u3002\n\u6bd4\u5982\uff0c\u5728\u4f7f\u7528%\u64cd\u4f5c\u7b26\u683c\u5f0f\u5316\u6570\u5b57\u7684\u65f6\u5019\uff0c\u4e00\u4e9b\u7279\u6027(\u6dfb\u52a0\u5343\u4f4d\u7b26)\u5e76\u4e0d\u80fd\u88ab\u652f\u6301\u3002"
      ]
    },
    {
      "cell_type": "markdown",
      "metadata": {},
      "source": [
        "## 3.4 \u4e8c\u516b\u5341\u516d\u8fdb\u5236\u6574\u6570\n"
      ]
    },
    {
      "cell_type": "markdown",
      "metadata": {},
      "source": [
        "### \u95ee\u9898\n"
      ]
    },
    {
      "cell_type": "markdown",
      "metadata": {},
      "source": [
        "\u4f60\u9700\u8981\u8f6c\u6362\u6216\u8005\u8f93\u51fa\u4f7f\u7528\u4e8c\u8fdb\u5236\uff0c\u516b\u8fdb\u5236\u6216\u5341\u516d\u8fdb\u5236\u8868\u793a\u7684\u6574\u6570\u3002"
      ]
    },
    {
      "cell_type": "markdown",
      "metadata": {},
      "source": [
        "### \u89e3\u51b3\u65b9\u6848\n"
      ]
    },
    {
      "cell_type": "markdown",
      "metadata": {},
      "source": [
        "\u4e3a\u4e86\u5c06\u6574\u6570\u8f6c\u6362\u4e3a\u4e8c\u8fdb\u5236\u3001\u516b\u8fdb\u5236\u6216\u5341\u516d\u8fdb\u5236\u7684\u6587\u672c\u4e32\uff0c\n\u53ef\u4ee5\u5206\u522b\u4f7f\u7528 bin() , oct() \u6216 hex() \u51fd\u6570\uff1a"
      ]
    },
    {
      "cell_type": "code",
      "execution_count": null,
      "metadata": {},
      "outputs": [],
      "source": [
        "x = 1234\nbin(x)"
      ]
    },
    {
      "cell_type": "code",
      "execution_count": null,
      "metadata": {},
      "outputs": [],
      "source": [
        "oct(x)"
      ]
    },
    {
      "cell_type": "code",
      "execution_count": null,
      "metadata": {},
      "outputs": [],
      "source": [
        "hex(x)"
      ]
    },
    {
      "cell_type": "markdown",
      "metadata": {},
      "source": [
        "\u53e6\u5916\uff0c\u5982\u679c\u4f60\u4e0d\u60f3\u8f93\u51fa 0b , 0o \u6216\u8005 0x \u7684\u524d\u7f00\u7684\u8bdd\uff0c\u53ef\u4ee5\u4f7f\u7528 format() \u51fd\u6570\u3002\u6bd4\u5982\uff1a"
      ]
    },
    {
      "cell_type": "code",
      "execution_count": null,
      "metadata": {},
      "outputs": [],
      "source": [
        "format(x, 'b')"
      ]
    },
    {
      "cell_type": "code",
      "execution_count": null,
      "metadata": {},
      "outputs": [],
      "source": [
        "format(x, 'o')"
      ]
    },
    {
      "cell_type": "code",
      "execution_count": null,
      "metadata": {},
      "outputs": [],
      "source": [
        "format(x, 'x')"
      ]
    },
    {
      "cell_type": "markdown",
      "metadata": {},
      "source": [
        "\u6574\u6570\u662f\u6709\u7b26\u53f7\u7684\uff0c\u6240\u4ee5\u5982\u679c\u4f60\u5728\u5904\u7406\u8d1f\u6570\u7684\u8bdd\uff0c\u8f93\u51fa\u7ed3\u679c\u4f1a\u5305\u542b\u4e00\u4e2a\u8d1f\u53f7\u3002\u6bd4\u5982\uff1a"
      ]
    },
    {
      "cell_type": "code",
      "execution_count": null,
      "metadata": {},
      "outputs": [],
      "source": [
        "x = -1234\nformat(x, 'b')"
      ]
    },
    {
      "cell_type": "code",
      "execution_count": null,
      "metadata": {},
      "outputs": [],
      "source": [
        "format(x, 'x')"
      ]
    },
    {
      "cell_type": "markdown",
      "metadata": {},
      "source": [
        "\u5982\u679c\u4f60\u60f3\u4ea7\u751f\u4e00\u4e2a\u65e0\u7b26\u53f7\u503c\uff0c\u4f60\u9700\u8981\u589e\u52a0\u4e00\u4e2a\u6307\u793a\u6700\u5927\u4f4d\u957f\u5ea6\u7684\u503c\u3002\u6bd4\u5982\u4e3a\u4e86\u663e\u793a32\u4f4d\u7684\u503c\uff0c\u53ef\u4ee5\u50cf\u4e0b\u9762\u8fd9\u6837\u5199\uff1a"
      ]
    },
    {
      "cell_type": "code",
      "execution_count": null,
      "metadata": {},
      "outputs": [],
      "source": [
        "x = -1234\nformat(2**32 + x, 'b')"
      ]
    },
    {
      "cell_type": "code",
      "execution_count": null,
      "metadata": {},
      "outputs": [],
      "source": [
        "format(2**32 + x, 'x')"
      ]
    },
    {
      "cell_type": "markdown",
      "metadata": {},
      "source": [
        "\u4e3a\u4e86\u4ee5\u4e0d\u540c\u7684\u8fdb\u5236\u8f6c\u6362\u6574\u6570\u5b57\u7b26\u4e32\uff0c\u7b80\u5355\u7684\u4f7f\u7528\u5e26\u6709\u8fdb\u5236\u7684 int() \u51fd\u6570\u5373\u53ef\uff1a"
      ]
    },
    {
      "cell_type": "code",
      "execution_count": null,
      "metadata": {},
      "outputs": [],
      "source": [
        "int('4d2', 16)"
      ]
    },
    {
      "cell_type": "code",
      "execution_count": null,
      "metadata": {},
      "outputs": [],
      "source": [
        "int('10011010010', 2)"
      ]
    },
    {
      "cell_type": "markdown",
      "metadata": {},
      "source": [
        "### \u8ba8\u8bba\n"
      ]
    },
    {
      "cell_type": "markdown",
      "metadata": {},
      "source": [
        "\u5927\u591a\u6570\u60c5\u51b5\u4e0b\u5904\u7406\u4e8c\u8fdb\u5236\u3001\u516b\u8fdb\u5236\u548c\u5341\u516d\u8fdb\u5236\u6574\u6570\u662f\u5f88\u7b80\u5355\u7684\u3002\n\u53ea\u8981\u8bb0\u4f4f\u8fd9\u4e9b\u8f6c\u6362\u5c5e\u4e8e\u6574\u6570\u548c\u5176\u5bf9\u5e94\u7684\u6587\u672c\u8868\u793a\u4e4b\u95f4\u7684\u8f6c\u6362\u5373\u53ef\u3002\u6c38\u8fdc\u53ea\u6709\u4e00\u79cd\u6574\u6570\u7c7b\u578b\u3002"
      ]
    },
    {
      "cell_type": "markdown",
      "metadata": {},
      "source": [
        "\u6700\u540e\uff0c\u4f7f\u7528\u516b\u8fdb\u5236\u7684\u7a0b\u5e8f\u5458\u6709\u4e00\u70b9\u9700\u8981\u6ce8\u610f\u4e0b\u3002\nPython\u6307\u5b9a\u516b\u8fdb\u5236\u6570\u7684\u8bed\u6cd5\u8ddf\u5176\u4ed6\u8bed\u8a00\u7a0d\u6709\u4e0d\u540c\u3002\u6bd4\u5982\uff0c\u5982\u679c\u4f60\u50cf\u4e0b\u9762\u8fd9\u6837\u6307\u5b9a\u516b\u8fdb\u5236\uff0c\u4f1a\u51fa\u73b0\u8bed\u6cd5\u9519\u8bef\uff1a"
      ]
    },
    {
      "cell_type": "code",
      "execution_count": null,
      "metadata": {},
      "outputs": [],
      "source": [
        "import os\nos.chmod('script.py', 0755)"
      ]
    },
    {
      "cell_type": "markdown",
      "metadata": {},
      "source": [
        "\u9700\u786e\u4fdd\u516b\u8fdb\u5236\u6570\u7684\u524d\u7f00\u662f 0o \uff0c\u5c31\u50cf\u4e0b\u9762\u8fd9\u6837\uff1a"
      ]
    },
    {
      "cell_type": "code",
      "execution_count": null,
      "metadata": {},
      "outputs": [],
      "source": [
        "os.chmod('script.py', 0o755)"
      ]
    },
    {
      "cell_type": "markdown",
      "metadata": {},
      "source": [
        "## 3.5 \u5b57\u8282\u5230\u5927\u6574\u6570\u7684\u6253\u5305\u4e0e\u89e3\u5305\n"
      ]
    },
    {
      "cell_type": "markdown",
      "metadata": {},
      "source": [
        "### \u95ee\u9898\n"
      ]
    },
    {
      "cell_type": "markdown",
      "metadata": {},
      "source": [
        "\u4f60\u6709\u4e00\u4e2a\u5b57\u8282\u5b57\u7b26\u4e32\u5e76\u60f3\u5c06\u5b83\u89e3\u538b\u6210\u4e00\u4e2a\u6574\u6570\u3002\u6216\u8005\uff0c\u4f60\u9700\u8981\u5c06\u4e00\u4e2a\u5927\u6574\u6570\u8f6c\u6362\u4e3a\u4e00\u4e2a\u5b57\u8282\u5b57\u7b26\u4e32\u3002"
      ]
    },
    {
      "cell_type": "markdown",
      "metadata": {},
      "source": [
        "### \u89e3\u51b3\u65b9\u6848\n"
      ]
    },
    {
      "cell_type": "markdown",
      "metadata": {},
      "source": [
        "\u5047\u8bbe\u4f60\u7684\u7a0b\u5e8f\u9700\u8981\u5904\u7406\u4e00\u4e2a\u62e5\u6709128\u4f4d\u957f\u768416\u4e2a\u5143\u7d20\u7684\u5b57\u8282\u5b57\u7b26\u4e32\u3002\u6bd4\u5982\uff1a"
      ]
    },
    {
      "cell_type": "code",
      "execution_count": null,
      "metadata": {},
      "outputs": [],
      "source": [
        "data = b'\\x00\\x124V\\x00x\\x90\\xab\\x00\\xcd\\xef\\x01\\x00#\\x004'"
      ]
    },
    {
      "cell_type": "markdown",
      "metadata": {},
      "source": [
        "\u4e3a\u4e86\u5c06bytes\u89e3\u6790\u4e3a\u6574\u6570\uff0c\u4f7f\u7528 int.from_bytes() \u65b9\u6cd5\uff0c\u5e76\u50cf\u4e0b\u9762\u8fd9\u6837\u6307\u5b9a\u5b57\u8282\u987a\u5e8f\uff1a"
      ]
    },
    {
      "cell_type": "code",
      "execution_count": null,
      "metadata": {},
      "outputs": [],
      "source": [
        "len(data)"
      ]
    },
    {
      "cell_type": "code",
      "execution_count": null,
      "metadata": {},
      "outputs": [],
      "source": [
        "int.from_bytes(data, 'little')"
      ]
    },
    {
      "cell_type": "code",
      "execution_count": null,
      "metadata": {},
      "outputs": [],
      "source": [
        "int.from_bytes(data, 'big')"
      ]
    },
    {
      "cell_type": "markdown",
      "metadata": {},
      "source": [
        "\u4e3a\u4e86\u5c06\u4e00\u4e2a\u5927\u6574\u6570\u8f6c\u6362\u4e3a\u4e00\u4e2a\u5b57\u8282\u5b57\u7b26\u4e32\uff0c\u4f7f\u7528 int.to_bytes() \u65b9\u6cd5\uff0c\u5e76\u50cf\u4e0b\u9762\u8fd9\u6837\u6307\u5b9a\u5b57\u8282\u6570\u548c\u5b57\u8282\u987a\u5e8f\uff1a"
      ]
    },
    {
      "cell_type": "code",
      "execution_count": null,
      "metadata": {},
      "outputs": [],
      "source": [
        "x = 94522842520747284487117727783387188\nx.to_bytes(16, 'big')"
      ]
    },
    {
      "cell_type": "code",
      "execution_count": null,
      "metadata": {},
      "outputs": [],
      "source": [
        "x.to_bytes(16, 'little')"
      ]
    },
    {
      "cell_type": "markdown",
      "metadata": {},
      "source": [
        "### \u8ba8\u8bba\n"
      ]
    },
    {
      "cell_type": "markdown",
      "metadata": {},
      "source": [
        "\u5927\u6574\u6570\u548c\u5b57\u8282\u5b57\u7b26\u4e32\u4e4b\u95f4\u7684\u8f6c\u6362\u64cd\u4f5c\u5e76\u4e0d\u5e38\u89c1\u3002\n\u7136\u800c\uff0c\u5728\u4e00\u4e9b\u5e94\u7528\u9886\u57df\u6709\u65f6\u5019\u4e5f\u4f1a\u51fa\u73b0\uff0c\u6bd4\u5982\u5bc6\u7801\u5b66\u6216\u8005\u7f51\u7edc\u3002\n\u4f8b\u5982\uff0cIPv6\u7f51\u7edc\u5730\u5740\u4f7f\u7528\u4e00\u4e2a128\u4f4d\u7684\u6574\u6570\u8868\u793a\u3002\n\u5982\u679c\u4f60\u8981\u4ece\u4e00\u4e2a\u6570\u636e\u8bb0\u5f55\u4e2d\u63d0\u53d6\u8fd9\u6837\u7684\u503c\u7684\u65f6\u5019\uff0c\u4f60\u5c31\u4f1a\u9762\u5bf9\u8fd9\u6837\u7684\u95ee\u9898\u3002"
      ]
    },
    {
      "cell_type": "markdown",
      "metadata": {},
      "source": [
        "\u4f5c\u4e3a\u4e00\u79cd\u66ff\u4ee3\u65b9\u6848\uff0c\u4f60\u53ef\u80fd\u60f3\u4f7f\u75286.11\u5c0f\u8282\u4e2d\u6240\u4ecb\u7ecd\u7684 struct \u6a21\u5757\u6765\u89e3\u538b\u5b57\u8282\u3002\n\u8fd9\u6837\u4e5f\u884c\u5f97\u901a\uff0c\u4e0d\u8fc7\u5229\u7528 struct \u6a21\u5757\u6765\u89e3\u538b\u5bf9\u4e8e\u6574\u6570\u7684\u5927\u5c0f\u662f\u6709\u9650\u5236\u7684\u3002\n\u56e0\u6b64\uff0c\u4f60\u53ef\u80fd\u60f3\u89e3\u538b\u591a\u4e2a\u5b57\u8282\u4e32\u5e76\u5c06\u7ed3\u679c\u5408\u5e76\u4e3a\u6700\u7ec8\u7684\u7ed3\u679c\uff0c\u5c31\u50cf\u4e0b\u9762\u8fd9\u6837\uff1a"
      ]
    },
    {
      "cell_type": "code",
      "execution_count": null,
      "metadata": {},
      "outputs": [],
      "source": [
        "data"
      ]
    },
    {
      "cell_type": "code",
      "execution_count": null,
      "metadata": {},
      "outputs": [],
      "source": [
        "import struct\nhi, lo = struct.unpack('>QQ', data)\n(hi << 64) + lo"
      ]
    },
    {
      "cell_type": "markdown",
      "metadata": {},
      "source": [
        "\u5b57\u8282\u987a\u5e8f\u89c4\u5219(little\u6216big)\u4ec5\u4ec5\u6307\u5b9a\u4e86\u6784\u5efa\u6574\u6570\u65f6\u7684\u5b57\u8282\u7684\u4f4e\u4f4d\u9ad8\u4f4d\u6392\u5217\u65b9\u5f0f\u3002\n\u6211\u4eec\u4ece\u4e0b\u9762\u7cbe\u5fc3\u6784\u9020\u768416\u8fdb\u5236\u6570\u7684\u8868\u793a\u4e2d\u53ef\u4ee5\u5f88\u5bb9\u6613\u7684\u770b\u51fa\u6765\uff1a"
      ]
    },
    {
      "cell_type": "code",
      "execution_count": null,
      "metadata": {},
      "outputs": [],
      "source": [
        "x = 0x01020304\nx.to_bytes(4, 'big')"
      ]
    },
    {
      "cell_type": "code",
      "execution_count": null,
      "metadata": {},
      "outputs": [],
      "source": [
        "x.to_bytes(4, 'little')"
      ]
    },
    {
      "cell_type": "markdown",
      "metadata": {},
      "source": [
        "\u5982\u679c\u4f60\u8bd5\u7740\u5c06\u4e00\u4e2a\u6574\u6570\u6253\u5305\u4e3a\u5b57\u8282\u5b57\u7b26\u4e32\uff0c\u90a3\u4e48\u5b83\u5c31\u4e0d\u5408\u9002\u4e86\uff0c\u4f60\u4f1a\u5f97\u5230\u4e00\u4e2a\u9519\u8bef\u3002\n\u5982\u679c\u9700\u8981\u7684\u8bdd\uff0c\u4f60\u53ef\u4ee5\u4f7f\u7528 int.bit_length() \u65b9\u6cd5\u6765\u51b3\u5b9a\u9700\u8981\u591a\u5c11\u5b57\u8282\u4f4d\u6765\u5b58\u50a8\u8fd9\u4e2a\u503c\u3002"
      ]
    },
    {
      "cell_type": "code",
      "execution_count": null,
      "metadata": {},
      "outputs": [],
      "source": [
        "x = 523 ** 23\nx"
      ]
    },
    {
      "cell_type": "code",
      "execution_count": null,
      "metadata": {},
      "outputs": [],
      "source": [
        "x.to_bytes(16, 'little')"
      ]
    },
    {
      "cell_type": "code",
      "execution_count": null,
      "metadata": {},
      "outputs": [],
      "source": [
        "x.bit_length()"
      ]
    },
    {
      "cell_type": "code",
      "execution_count": null,
      "metadata": {},
      "outputs": [],
      "source": [
        "nbytes, rem = divmod(x.bit_length(), 8)\nif rem:\nnbytes += 1\nx.to_bytes(nbytes, 'little')"
      ]
    },
    {
      "cell_type": "markdown",
      "metadata": {},
      "source": [
        "## 3.6 \u590d\u6570\u7684\u6570\u5b66\u8fd0\u7b97\n"
      ]
    },
    {
      "cell_type": "markdown",
      "metadata": {},
      "source": [
        "### \u95ee\u9898\n"
      ]
    },
    {
      "cell_type": "markdown",
      "metadata": {},
      "source": [
        "\u4f60\u5199\u7684\u6700\u65b0\u7684\u7f51\u7edc\u8ba4\u8bc1\u65b9\u6848\u4ee3\u7801\u9047\u5230\u4e86\u4e00\u4e2a\u96be\u9898\uff0c\u5e76\u4e14\u4f60\u552f\u4e00\u7684\u89e3\u51b3\u529e\u6cd5\u5c31\u662f\u4f7f\u7528\u590d\u6570\u7a7a\u95f4\u3002\n\u518d\u6216\u8005\u662f\u4f60\u4ec5\u4ec5\u9700\u8981\u4f7f\u7528\u590d\u6570\u6765\u6267\u884c\u4e00\u4e9b\u8ba1\u7b97\u64cd\u4f5c\u3002"
      ]
    },
    {
      "cell_type": "markdown",
      "metadata": {},
      "source": [
        "### \u89e3\u51b3\u65b9\u6848\n"
      ]
    },
    {
      "cell_type": "markdown",
      "metadata": {},
      "source": [
        "\u590d\u6570\u53ef\u4ee5\u7528\u4f7f\u7528\u51fd\u6570 complex(real, imag) \u6216\u8005\u662f\u5e26\u6709\u540e\u7f00j\u7684\u6d6e\u70b9\u6570\u6765\u6307\u5b9a\u3002\u6bd4\u5982\uff1a"
      ]
    },
    {
      "cell_type": "code",
      "execution_count": null,
      "metadata": {},
      "outputs": [],
      "source": [
        "a = complex(2, 4)\nb = 3 - 5j\na"
      ]
    },
    {
      "cell_type": "code",
      "execution_count": null,
      "metadata": {},
      "outputs": [],
      "source": [
        "b"
      ]
    },
    {
      "cell_type": "markdown",
      "metadata": {},
      "source": [
        "\u5bf9\u5e94\u7684\u5b9e\u90e8\u3001\u865a\u90e8\u548c\u5171\u8f6d\u590d\u6570\u53ef\u4ee5\u5f88\u5bb9\u6613\u7684\u83b7\u53d6\u3002\u5c31\u50cf\u4e0b\u9762\u8fd9\u6837\uff1a"
      ]
    },
    {
      "cell_type": "code",
      "execution_count": null,
      "metadata": {},
      "outputs": [],
      "source": [
        "a.real"
      ]
    },
    {
      "cell_type": "code",
      "execution_count": null,
      "metadata": {},
      "outputs": [],
      "source": [
        "a.imag"
      ]
    },
    {
      "cell_type": "code",
      "execution_count": null,
      "metadata": {},
      "outputs": [],
      "source": [
        "a.conjugate()"
      ]
    },
    {
      "cell_type": "markdown",
      "metadata": {},
      "source": [
        "\u53e6\u5916\uff0c\u6240\u6709\u5e38\u89c1\u7684\u6570\u5b66\u8fd0\u7b97\u90fd\u53ef\u4ee5\u5de5\u4f5c\uff1a"
      ]
    },
    {
      "cell_type": "code",
      "execution_count": null,
      "metadata": {},
      "outputs": [],
      "source": [
        "a + b"
      ]
    },
    {
      "cell_type": "code",
      "execution_count": null,
      "metadata": {},
      "outputs": [],
      "source": [
        "a * b"
      ]
    },
    {
      "cell_type": "code",
      "execution_count": null,
      "metadata": {},
      "outputs": [],
      "source": [
        "a / b"
      ]
    },
    {
      "cell_type": "code",
      "execution_count": null,
      "metadata": {},
      "outputs": [],
      "source": [
        "abs(a)"
      ]
    },
    {
      "cell_type": "markdown",
      "metadata": {},
      "source": [
        "\u5982\u679c\u8981\u6267\u884c\u5176\u4ed6\u7684\u590d\u6570\u51fd\u6570\u6bd4\u5982\u6b63\u5f26\u3001\u4f59\u5f26\u6216\u5e73\u65b9\u6839\uff0c\u4f7f\u7528 cmath \u6a21\u5757\uff1a"
      ]
    },
    {
      "cell_type": "code",
      "execution_count": null,
      "metadata": {},
      "outputs": [],
      "source": [
        "import cmath\ncmath.sin(a)"
      ]
    },
    {
      "cell_type": "code",
      "execution_count": null,
      "metadata": {},
      "outputs": [],
      "source": [
        "cmath.cos(a)"
      ]
    },
    {
      "cell_type": "code",
      "execution_count": null,
      "metadata": {},
      "outputs": [],
      "source": [
        "cmath.exp(a)"
      ]
    },
    {
      "cell_type": "markdown",
      "metadata": {},
      "source": [
        "### \u8ba8\u8bba\n"
      ]
    },
    {
      "cell_type": "markdown",
      "metadata": {},
      "source": [
        "Python\u4e2d\u5927\u90e8\u5206\u4e0e\u6570\u5b66\u76f8\u5173\u7684\u6a21\u5757\u90fd\u80fd\u5904\u7406\u590d\u6570\u3002\n\u6bd4\u5982\u5982\u679c\u4f60\u4f7f\u7528 numpy \uff0c\u53ef\u4ee5\u5f88\u5bb9\u6613\u7684\u6784\u9020\u4e00\u4e2a\u590d\u6570\u6570\u7ec4\u5e76\u5728\u8fd9\u4e2a\u6570\u7ec4\u4e0a\u6267\u884c\u5404\u79cd\u64cd\u4f5c\uff1a"
      ]
    },
    {
      "cell_type": "code",
      "execution_count": null,
      "metadata": {},
      "outputs": [],
      "source": [
        "import numpy as np\na = np.array([2+3j, 4+5j, 6-7j, 8+9j])\na"
      ]
    },
    {
      "cell_type": "code",
      "execution_count": null,
      "metadata": {},
      "outputs": [],
      "source": [
        "a + 2"
      ]
    },
    {
      "cell_type": "code",
      "execution_count": null,
      "metadata": {},
      "outputs": [],
      "source": [
        "np.sin(a)"
      ]
    },
    {
      "cell_type": "markdown",
      "metadata": {},
      "source": [
        "Python\u7684\u6807\u51c6\u6570\u5b66\u51fd\u6570\u786e\u5b9e\u60c5\u51b5\u4e0b\u5e76\u4e0d\u80fd\u4ea7\u751f\u590d\u6570\u503c\uff0c\u56e0\u6b64\u4f60\u7684\u4ee3\u7801\u4e2d\u4e0d\u53ef\u80fd\u4f1a\u51fa\u73b0\u590d\u6570\u8fd4\u56de\u503c\u3002\u6bd4\u5982\uff1a"
      ]
    },
    {
      "cell_type": "code",
      "execution_count": null,
      "metadata": {},
      "outputs": [],
      "source": [
        "import math\nmath.sqrt(-1)"
      ]
    },
    {
      "cell_type": "markdown",
      "metadata": {},
      "source": [
        "\u5982\u679c\u4f60\u60f3\u751f\u6210\u4e00\u4e2a\u590d\u6570\u8fd4\u56de\u7ed3\u679c\uff0c\u4f60\u5fc5\u987b\u663e\u793a\u7684\u4f7f\u7528 cmath \u6a21\u5757\uff0c\u6216\u8005\u5728\u67d0\u4e2a\u652f\u6301\u590d\u6570\u7684\u5e93\u4e2d\u58f0\u660e\u590d\u6570\u7c7b\u578b\u7684\u4f7f\u7528\u3002\u6bd4\u5982\uff1a"
      ]
    },
    {
      "cell_type": "code",
      "execution_count": null,
      "metadata": {},
      "outputs": [],
      "source": [
        "import cmath\ncmath.sqrt(-1)"
      ]
    },
    {
      "cell_type": "markdown",
      "metadata": {},
      "source": [
        "## 3.7 \u65e0\u7a77\u5927\u4e0eNaN\n"
      ]
    },
    {
      "cell_type": "markdown",
      "metadata": {},
      "source": [
        "### \u95ee\u9898\n"
      ]
    },
    {
      "cell_type": "markdown",
      "metadata": {},
      "source": [
        "\u4f60\u60f3\u521b\u5efa\u6216\u6d4b\u8bd5\u6b63\u65e0\u7a77\u3001\u8d1f\u65e0\u7a77\u6216NaN(\u975e\u6570\u5b57)\u7684\u6d6e\u70b9\u6570\u3002"
      ]
    },
    {
      "cell_type": "markdown",
      "metadata": {},
      "source": [
        "### \u89e3\u51b3\u65b9\u6848\n"
      ]
    },
    {
      "cell_type": "markdown",
      "metadata": {},
      "source": [
        "Python\u5e76\u6ca1\u6709\u7279\u6b8a\u7684\u8bed\u6cd5\u6765\u8868\u793a\u8fd9\u4e9b\u7279\u6b8a\u7684\u6d6e\u70b9\u503c\uff0c\u4f46\u662f\u53ef\u4ee5\u4f7f\u7528 float() \u6765\u521b\u5efa\u5b83\u4eec\u3002\u6bd4\u5982\uff1a"
      ]
    },
    {
      "cell_type": "code",
      "execution_count": null,
      "metadata": {},
      "outputs": [],
      "source": [
        "a = float('inf')\nb = float('-inf')\nc = float('nan')\na"
      ]
    },
    {
      "cell_type": "code",
      "execution_count": null,
      "metadata": {},
      "outputs": [],
      "source": [
        "b"
      ]
    },
    {
      "cell_type": "code",
      "execution_count": null,
      "metadata": {},
      "outputs": [],
      "source": [
        "c"
      ]
    },
    {
      "cell_type": "markdown",
      "metadata": {},
      "source": [
        "\u4e3a\u4e86\u6d4b\u8bd5\u8fd9\u4e9b\u503c\u7684\u5b58\u5728\uff0c\u4f7f\u7528 math.isinf() \u548c math.isnan() \u51fd\u6570\u3002\u6bd4\u5982\uff1a"
      ]
    },
    {
      "cell_type": "code",
      "execution_count": null,
      "metadata": {},
      "outputs": [],
      "source": [
        "math.isinf(a)"
      ]
    },
    {
      "cell_type": "code",
      "execution_count": null,
      "metadata": {},
      "outputs": [],
      "source": [
        "math.isnan(c)"
      ]
    },
    {
      "cell_type": "markdown",
      "metadata": {},
      "source": [
        "### \u8ba8\u8bba\n"
      ]
    },
    {
      "cell_type": "markdown",
      "metadata": {},
      "source": [
        "\u60f3\u4e86\u89e3\u66f4\u591a\u8fd9\u4e9b\u7279\u6b8a\u6d6e\u70b9\u503c\u7684\u4fe1\u606f\uff0c\u53ef\u4ee5\u53c2\u8003IEEE 754\u89c4\u8303\u3002\n\u7136\u800c\uff0c\u4e5f\u6709\u4e00\u4e9b\u5730\u65b9\u9700\u8981\u4f60\u7279\u522b\u6ce8\u610f\uff0c\u7279\u522b\u662f\u8ddf\u6bd4\u8f83\u548c\u64cd\u4f5c\u7b26\u76f8\u5173\u7684\u65f6\u5019\u3002"
      ]
    },
    {
      "cell_type": "markdown",
      "metadata": {},
      "source": [
        "\u65e0\u7a77\u5927\u6570\u5728\u6267\u884c\u6570\u5b66\u8ba1\u7b97\u7684\u65f6\u5019\u4f1a\u4f20\u64ad\uff0c\u6bd4\u5982\uff1a"
      ]
    },
    {
      "cell_type": "code",
      "execution_count": null,
      "metadata": {},
      "outputs": [],
      "source": [
        "a = float('inf')\na + 45"
      ]
    },
    {
      "cell_type": "code",
      "execution_count": null,
      "metadata": {},
      "outputs": [],
      "source": [
        "a * 10"
      ]
    },
    {
      "cell_type": "code",
      "execution_count": null,
      "metadata": {},
      "outputs": [],
      "source": [
        "10 / a"
      ]
    },
    {
      "cell_type": "markdown",
      "metadata": {},
      "source": [
        "\u4f46\u662f\u6709\u4e9b\u64cd\u4f5c\u65f6\u672a\u5b9a\u4e49\u7684\u5e76\u4f1a\u8fd4\u56de\u4e00\u4e2aNaN\u7ed3\u679c\u3002\u6bd4\u5982\uff1a"
      ]
    },
    {
      "cell_type": "code",
      "execution_count": null,
      "metadata": {},
      "outputs": [],
      "source": [
        "a = float('inf')\na/a"
      ]
    },
    {
      "cell_type": "code",
      "execution_count": null,
      "metadata": {},
      "outputs": [],
      "source": [
        "b = float('-inf')\na + b"
      ]
    },
    {
      "cell_type": "markdown",
      "metadata": {},
      "source": [
        "NaN\u503c\u4f1a\u5728\u6240\u6709\u64cd\u4f5c\u4e2d\u4f20\u64ad\uff0c\u800c\u4e0d\u4f1a\u4ea7\u751f\u5f02\u5e38\u3002\u6bd4\u5982\uff1a"
      ]
    },
    {
      "cell_type": "code",
      "execution_count": null,
      "metadata": {},
      "outputs": [],
      "source": [
        "c = float('nan')\nc + 23"
      ]
    },
    {
      "cell_type": "code",
      "execution_count": null,
      "metadata": {},
      "outputs": [],
      "source": [
        "c / 2"
      ]
    },
    {
      "cell_type": "code",
      "execution_count": null,
      "metadata": {},
      "outputs": [],
      "source": [
        "c * 2"
      ]
    },
    {
      "cell_type": "code",
      "execution_count": null,
      "metadata": {},
      "outputs": [],
      "source": [
        "math.sqrt(c)"
      ]
    },
    {
      "cell_type": "markdown",
      "metadata": {},
      "source": [
        "NaN\u503c\u7684\u4e00\u4e2a\u7279\u522b\u7684\u5730\u65b9\u65f6\u5b83\u4eec\u4e4b\u95f4\u7684\u6bd4\u8f83\u64cd\u4f5c\u603b\u662f\u8fd4\u56deFalse\u3002\u6bd4\u5982\uff1a"
      ]
    },
    {
      "cell_type": "code",
      "execution_count": null,
      "metadata": {},
      "outputs": [],
      "source": [
        "c = float('nan')\nd = float('nan')\nc == d"
      ]
    },
    {
      "cell_type": "code",
      "execution_count": null,
      "metadata": {},
      "outputs": [],
      "source": [
        "c is d"
      ]
    },
    {
      "cell_type": "markdown",
      "metadata": {},
      "source": [
        "\u7531\u4e8e\u8fd9\u4e2a\u539f\u56e0\uff0c\u6d4b\u8bd5\u4e00\u4e2aNaN\u503c\u5f97\u552f\u4e00\u5b89\u5168\u7684\u65b9\u6cd5\u5c31\u662f\u4f7f\u7528 math.isnan() \uff0c\u4e5f\u5c31\u662f\u4e0a\u9762\u6f14\u793a\u7684\u90a3\u6837\u3002"
      ]
    },
    {
      "cell_type": "markdown",
      "metadata": {},
      "source": [
        "\u6709\u65f6\u5019\u7a0b\u5e8f\u5458\u60f3\u6539\u53d8Python\u9ed8\u8ba4\u884c\u4e3a\uff0c\u5728\u8fd4\u56de\u65e0\u7a77\u5927\u6216NaN\u7ed3\u679c\u7684\u64cd\u4f5c\u4e2d\u629b\u51fa\u5f02\u5e38\u3002\nfpectl \u6a21\u5757\u53ef\u4ee5\u7528\u6765\u6539\u53d8\u8fd9\u79cd\u884c\u4e3a\uff0c\u4f46\u662f\u5b83\u5728\u6807\u51c6\u7684Python\u6784\u5efa\u4e2d\u5e76\u6ca1\u6709\u88ab\u542f\u7528\uff0c\u5b83\u662f\u5e73\u53f0\u76f8\u5173\u7684\uff0c\n\u5e76\u4e14\u9488\u5bf9\u7684\u662f\u4e13\u5bb6\u7ea7\u7a0b\u5e8f\u5458\u3002\u53ef\u4ee5\u53c2\u8003\u5728\u7ebf\u7684Python\u6587\u6863\u83b7\u53d6\u66f4\u591a\u7684\u7ec6\u8282\u3002"
      ]
    },
    {
      "cell_type": "markdown",
      "metadata": {},
      "source": [
        "## 3.8 \u5206\u6570\u8fd0\u7b97\n"
      ]
    },
    {
      "cell_type": "markdown",
      "metadata": {},
      "source": [
        "### \u95ee\u9898\n"
      ]
    },
    {
      "cell_type": "markdown",
      "metadata": {},
      "source": [
        "\u4f60\u8fdb\u5165\u65f6\u95f4\u673a\u5668\uff0c\u7a81\u7136\u53d1\u73b0\u4f60\u6b63\u5728\u505a\u5c0f\u5b66\u5bb6\u5ead\u4f5c\u4e1a\uff0c\u5e76\u6d89\u53ca\u5230\u5206\u6570\u8ba1\u7b97\u95ee\u9898\u3002\n\u6216\u8005\u4f60\u53ef\u80fd\u9700\u8981\u5199\u4ee3\u7801\u53bb\u8ba1\u7b97\u5728\u4f60\u7684\u6728\u5de5\u5de5\u5382\u4e2d\u7684\u6d4b\u91cf\u503c\u3002"
      ]
    },
    {
      "cell_type": "markdown",
      "metadata": {},
      "source": [
        "### \u89e3\u51b3\u65b9\u6848\n"
      ]
    },
    {
      "cell_type": "markdown",
      "metadata": {},
      "source": [
        "fractions \u6a21\u5757\u53ef\u4ee5\u88ab\u7528\u6765\u6267\u884c\u5305\u542b\u5206\u6570\u7684\u6570\u5b66\u8fd0\u7b97\u3002\u6bd4\u5982\uff1a"
      ]
    },
    {
      "cell_type": "code",
      "execution_count": null,
      "metadata": {},
      "outputs": [],
      "source": [
        "from fractions import Fraction\na = Fraction(5, 4)\nb = Fraction(7, 16)\nprint(a + b)"
      ]
    },
    {
      "cell_type": "code",
      "execution_count": null,
      "metadata": {},
      "outputs": [],
      "source": [
        "print(a * b)"
      ]
    },
    {
      "cell_type": "code",
      "execution_count": null,
      "metadata": {},
      "outputs": [],
      "source": [
        "# Getting numerator/denominator\nc = a * b\nc.numerator"
      ]
    },
    {
      "cell_type": "code",
      "execution_count": null,
      "metadata": {},
      "outputs": [],
      "source": [
        "c.denominator"
      ]
    },
    {
      "cell_type": "code",
      "execution_count": null,
      "metadata": {},
      "outputs": [],
      "source": [
        "# Converting to a float\nfloat(c)"
      ]
    },
    {
      "cell_type": "code",
      "execution_count": null,
      "metadata": {},
      "outputs": [],
      "source": [
        "# Limiting the denominator of a value\nprint(c.limit_denominator(8))"
      ]
    },
    {
      "cell_type": "code",
      "execution_count": null,
      "metadata": {},
      "outputs": [],
      "source": [
        "# Converting a float to a fraction\nx = 3.75\ny = Fraction(*x.as_integer_ratio())\ny"
      ]
    },
    {
      "cell_type": "markdown",
      "metadata": {},
      "source": [
        "### \u8ba8\u8bba\n"
      ]
    },
    {
      "cell_type": "markdown",
      "metadata": {},
      "source": [
        "\u5728\u5927\u591a\u6570\u7a0b\u5e8f\u4e2d\u4e00\u822c\u4e0d\u4f1a\u51fa\u73b0\u5206\u6570\u7684\u8ba1\u7b97\u95ee\u9898\uff0c\u4f46\u662f\u6709\u65f6\u5019\u8fd8\u662f\u9700\u8981\u7528\u5230\u7684\u3002\n\u6bd4\u5982\uff0c\u5728\u4e00\u4e2a\u5141\u8bb8\u63a5\u53d7\u5206\u6570\u5f62\u5f0f\u7684\u6d4b\u8bd5\u5355\u4f4d\u5e76\u4ee5\u5206\u6570\u5f62\u5f0f\u6267\u884c\u8fd0\u7b97\u7684\u7a0b\u5e8f\u4e2d\uff0c\n\u76f4\u63a5\u4f7f\u7528\u5206\u6570\u53ef\u4ee5\u51cf\u5c11\u624b\u52a8\u8f6c\u6362\u4e3a\u5c0f\u6570\u6216\u6d6e\u70b9\u6570\u7684\u5de5\u4f5c\u3002"
      ]
    },
    {
      "cell_type": "markdown",
      "metadata": {},
      "source": [
        "## 3.9 \u5927\u578b\u6570\u7ec4\u8fd0\u7b97\n"
      ]
    },
    {
      "cell_type": "markdown",
      "metadata": {},
      "source": [
        "### \u95ee\u9898\n"
      ]
    },
    {
      "cell_type": "markdown",
      "metadata": {},
      "source": [
        "\u4f60\u9700\u8981\u5728\u5927\u6570\u636e\u96c6(\u6bd4\u5982\u6570\u7ec4\u6216\u7f51\u683c)\u4e0a\u9762\u6267\u884c\u8ba1\u7b97\u3002"
      ]
    },
    {
      "cell_type": "markdown",
      "metadata": {},
      "source": [
        "### \u89e3\u51b3\u65b9\u6848\n"
      ]
    },
    {
      "cell_type": "markdown",
      "metadata": {},
      "source": [
        "\u6d89\u53ca\u5230\u6570\u7ec4\u7684\u91cd\u91cf\u7ea7\u8fd0\u7b97\u64cd\u4f5c\uff0c\u53ef\u4ee5\u4f7f\u7528 NumPy \u5e93\u3002\nNumPy \u7684\u4e00\u4e2a\u4e3b\u8981\u7279\u5f81\u662f\u5b83\u4f1a\u7ed9Python\u63d0\u4f9b\u4e00\u4e2a\u6570\u7ec4\u5bf9\u8c61\uff0c\u76f8\u6bd4\u6807\u51c6\u7684Python\u5217\u8868\u800c\u5df2\u66f4\u9002\u5408\u7528\u6765\u505a\u6570\u5b66\u8fd0\u7b97\u3002\n\u4e0b\u9762\u662f\u4e00\u4e2a\u7b80\u5355\u7684\u5c0f\u4f8b\u5b50\uff0c\u5411\u4f60\u5c55\u793a\u6807\u51c6\u5217\u8868\u5bf9\u8c61\u548c NumPy \u6570\u7ec4\u5bf9\u8c61\u4e4b\u95f4\u7684\u5dee\u522b\uff1a"
      ]
    },
    {
      "cell_type": "code",
      "execution_count": null,
      "metadata": {},
      "outputs": [],
      "source": [
        "# Python lists\nx = [1, 2, 3, 4]\ny = [5, 6, 7, 8]\nx * 2"
      ]
    },
    {
      "cell_type": "code",
      "execution_count": null,
      "metadata": {},
      "outputs": [],
      "source": [
        "x + 10"
      ]
    },
    {
      "cell_type": "code",
      "execution_count": null,
      "metadata": {},
      "outputs": [],
      "source": [
        "x + y"
      ]
    },
    {
      "cell_type": "code",
      "execution_count": null,
      "metadata": {},
      "outputs": [],
      "source": [
        "# Numpy arrays\nimport numpy as np\nax = np.array([1, 2, 3, 4])\nay = np.array([5, 6, 7, 8])\nax * 2"
      ]
    },
    {
      "cell_type": "code",
      "execution_count": null,
      "metadata": {},
      "outputs": [],
      "source": [
        "ax + 10"
      ]
    },
    {
      "cell_type": "code",
      "execution_count": null,
      "metadata": {},
      "outputs": [],
      "source": [
        "ax + ay"
      ]
    },
    {
      "cell_type": "code",
      "execution_count": null,
      "metadata": {},
      "outputs": [],
      "source": [
        "ax * ay"
      ]
    },
    {
      "cell_type": "markdown",
      "metadata": {},
      "source": [
        "\u6b63\u5982\u6240\u89c1\uff0c\u4e24\u79cd\u65b9\u6848\u4e2d\u6570\u7ec4\u7684\u57fa\u672c\u6570\u5b66\u8fd0\u7b97\u7ed3\u679c\u5e76\u4e0d\u76f8\u540c\u3002\n\u7279\u522b\u7684\uff0c NumPy \u4e2d\u7684\u6807\u91cf\u8fd0\u7b97(\u6bd4\u5982 ax * 2 \u6216 ax + 10 )\u4f1a\u4f5c\u7528\u5728\u6bcf\u4e00\u4e2a\u5143\u7d20\u4e0a\u3002\n\u53e6\u5916\uff0c\u5f53\u4e24\u4e2a\u64cd\u4f5c\u6570\u90fd\u662f\u6570\u7ec4\u7684\u65f6\u5019\u6267\u884c\u5143\u7d20\u5bf9\u7b49\u4f4d\u7f6e\u8ba1\u7b97\uff0c\u5e76\u6700\u7ec8\u751f\u6210\u4e00\u4e2a\u65b0\u7684\u6570\u7ec4\u3002"
      ]
    },
    {
      "cell_type": "markdown",
      "metadata": {},
      "source": [
        "\u5bf9\u6574\u4e2a\u6570\u7ec4\u4e2d\u6240\u6709\u5143\u7d20\u540c\u65f6\u6267\u884c\u6570\u5b66\u8fd0\u7b97\u53ef\u4ee5\u4f7f\u5f97\u4f5c\u7528\u5728\u6574\u4e2a\u6570\u7ec4\u4e0a\u7684\u51fd\u6570\u8fd0\u7b97\u7b80\u5355\u800c\u53c8\u5feb\u901f\u3002\n\u6bd4\u5982\uff0c\u5982\u679c\u4f60\u60f3\u8ba1\u7b97\u591a\u9879\u5f0f\u7684\u503c\uff0c\u53ef\u4ee5\u8fd9\u6837\u505a\uff1a"
      ]
    },
    {
      "cell_type": "code",
      "execution_count": null,
      "metadata": {},
      "outputs": [],
      "source": [
        "def f(x):\nreturn 3*x**2 - 2*x + 7\nf(ax)"
      ]
    },
    {
      "cell_type": "markdown",
      "metadata": {},
      "source": [
        "NumPy \u8fd8\u4e3a\u6570\u7ec4\u64cd\u4f5c\u63d0\u4f9b\u4e86\u5927\u91cf\u7684\u901a\u7528\u51fd\u6570\uff0c\u8fd9\u4e9b\u51fd\u6570\u53ef\u4ee5\u4f5c\u4e3a math \u6a21\u5757\u4e2d\u7c7b\u4f3c\u51fd\u6570\u7684\u66ff\u4ee3\u3002\u6bd4\u5982\uff1a"
      ]
    },
    {
      "cell_type": "code",
      "execution_count": null,
      "metadata": {},
      "outputs": [],
      "source": [
        "np.sqrt(ax)"
      ]
    },
    {
      "cell_type": "code",
      "execution_count": null,
      "metadata": {},
      "outputs": [],
      "source": [
        "np.cos(ax)"
      ]
    },
    {
      "cell_type": "markdown",
      "metadata": {},
      "source": [
        "\u4f7f\u7528\u8fd9\u4e9b\u901a\u7528\u51fd\u6570\u8981\u6bd4\u5faa\u73af\u6570\u7ec4\u5e76\u4f7f\u7528 math \u6a21\u5757\u4e2d\u7684\u51fd\u6570\u6267\u884c\u8ba1\u7b97\u8981\u5feb\u7684\u591a\u3002\n\u56e0\u6b64\uff0c\u53ea\u8981\u6709\u53ef\u80fd\u7684\u8bdd\u5c3d\u91cf\u9009\u62e9 NumPy \u7684\u6570\u7ec4\u65b9\u6848\u3002"
      ]
    },
    {
      "cell_type": "markdown",
      "metadata": {},
      "source": [
        "\u5e95\u5c42\u5b9e\u73b0\u4e2d\uff0c NumPy \u6570\u7ec4\u4f7f\u7528\u4e86C\u6216\u8005Fortran\u8bed\u8a00\u7684\u673a\u5236\u5206\u914d\u5185\u5b58\u3002\n\u4e5f\u5c31\u662f\u8bf4\uff0c\u5b83\u4eec\u662f\u4e00\u4e2a\u975e\u5e38\u5927\u7684\u8fde\u7eed\u7684\u5e76\u7531\u540c\u7c7b\u578b\u6570\u636e\u7ec4\u6210\u7684\u5185\u5b58\u533a\u57df\u3002\n\u6240\u4ee5\uff0c\u4f60\u53ef\u4ee5\u6784\u9020\u4e00\u4e2a\u6bd4\u666e\u901aPython\u5217\u8868\u5927\u7684\u591a\u7684\u6570\u7ec4\u3002\n\u6bd4\u5982\uff0c\u5982\u679c\u4f60\u60f3\u6784\u9020\u4e00\u4e2a10,000*10,000\u7684\u6d6e\u70b9\u6570\u4e8c\u7ef4\u7f51\u683c\uff0c\u5f88\u8f7b\u677e\uff1a"
      ]
    },
    {
      "cell_type": "code",
      "execution_count": null,
      "metadata": {},
      "outputs": [],
      "source": [
        "grid = np.zeros(shape=(10000,10000), dtype=float)\ngrid"
      ]
    },
    {
      "cell_type": "markdown",
      "metadata": {},
      "source": [
        "\u6240\u6709\u7684\u666e\u901a\u64cd\u4f5c\u8fd8\u662f\u4f1a\u540c\u65f6\u4f5c\u7528\u5728\u6240\u6709\u5143\u7d20\u4e0a\uff1a"
      ]
    },
    {
      "cell_type": "code",
      "execution_count": null,
      "metadata": {},
      "outputs": [],
      "source": [
        "grid += 10\ngrid"
      ]
    },
    {
      "cell_type": "code",
      "execution_count": null,
      "metadata": {},
      "outputs": [],
      "source": [
        "np.sin(grid)"
      ]
    },
    {
      "cell_type": "markdown",
      "metadata": {},
      "source": [
        "\u5173\u4e8e NumPy \u6709\u4e00\u70b9\u9700\u8981\u7279\u522b\u7684\u4e3b\u610f\uff0c\u90a3\u5c31\u662f\u5b83\u6269\u5c55Python\u5217\u8868\u7684\u7d22\u5f15\u529f\u80fd - \u7279\u522b\u662f\u5bf9\u4e8e\u591a\u7ef4\u6570\u7ec4\u3002\n\u4e3a\u4e86\u8bf4\u660e\u6e05\u695a\uff0c\u5148\u6784\u9020\u4e00\u4e2a\u7b80\u5355\u7684\u4e8c\u7ef4\u6570\u7ec4\u5e76\u8bd5\u7740\u505a\u4e9b\u8bd5\u9a8c\uff1a"
      ]
    },
    {
      "cell_type": "code",
      "execution_count": null,
      "metadata": {},
      "outputs": [],
      "source": [
        "a = np.array([[1, 2, 3, 4], [5, 6, 7, 8], [9, 10, 11, 12]])\na"
      ]
    },
    {
      "cell_type": "code",
      "execution_count": null,
      "metadata": {},
      "outputs": [],
      "source": [
        "# Select row 1\na[1]"
      ]
    },
    {
      "cell_type": "code",
      "execution_count": null,
      "metadata": {},
      "outputs": [],
      "source": [
        "# Select column 1\na[:,1]"
      ]
    },
    {
      "cell_type": "code",
      "execution_count": null,
      "metadata": {},
      "outputs": [],
      "source": [
        "# Select a subregion and change it\na[1:3, 1:3]"
      ]
    },
    {
      "cell_type": "code",
      "execution_count": null,
      "metadata": {},
      "outputs": [],
      "source": [
        "a[1:3, 1:3] += 10\na"
      ]
    },
    {
      "cell_type": "code",
      "execution_count": null,
      "metadata": {},
      "outputs": [],
      "source": [
        "# Broadcast a row vector across an operation on all rows\na + [100, 101, 102, 103]"
      ]
    },
    {
      "cell_type": "code",
      "execution_count": null,
      "metadata": {},
      "outputs": [],
      "source": [
        "a"
      ]
    },
    {
      "cell_type": "code",
      "execution_count": null,
      "metadata": {},
      "outputs": [],
      "source": [
        "# Conditional assignment on an array\nnp.where(a < 10, a, 10)"
      ]
    },
    {
      "cell_type": "markdown",
      "metadata": {},
      "source": [
        "### \u8ba8\u8bba\n"
      ]
    },
    {
      "cell_type": "markdown",
      "metadata": {},
      "source": [
        "NumPy \u662fPython\u9886\u57df\u4e2d\u5f88\u591a\u79d1\u5b66\u4e0e\u5de5\u7a0b\u5e93\u7684\u57fa\u7840\uff0c\u540c\u65f6\u4e5f\u662f\u88ab\u5e7f\u6cdb\u4f7f\u7528\u7684\u6700\u5927\u6700\u590d\u6742\u7684\u6a21\u5757\u3002\n\u5373\u4fbf\u5982\u6b64\uff0c\u5728\u521a\u5f00\u59cb\u7684\u65f6\u5019\u901a\u8fc7\u4e00\u4e9b\u7b80\u5355\u7684\u4f8b\u5b50\u548c\u73a9\u5177\u7a0b\u5e8f\u4e5f\u80fd\u5e2e\u6211\u4eec\u5b8c\u6210\u4e00\u4e9b\u6709\u8da3\u7684\u4e8b\u60c5\u3002"
      ]
    },
    {
      "cell_type": "markdown",
      "metadata": {},
      "source": [
        "\u901a\u5e38\u6211\u4eec\u5bfc\u5165 NumPy \u6a21\u5757\u7684\u65f6\u5019\u4f1a\u4f7f\u7528\u8bed\u53e5 import numpy as np \u3002\n\u8fd9\u6837\u7684\u8bdd\u4f60\u5c31\u4e0d\u7528\u518d\u4f60\u7684\u7a0b\u5e8f\u91cc\u9762\u4e00\u904d\u904d\u7684\u6572\u5165 numpy \uff0c\u53ea\u9700\u8981\u8f93\u5165 np \u5c31\u884c\u4e86\uff0c\u8282\u7701\u4e86\u4e0d\u5c11\u65f6\u95f4\u3002"
      ]
    },
    {
      "cell_type": "markdown",
      "metadata": {},
      "source": [
        "\u5982\u679c\u60f3\u83b7\u53d6\u66f4\u591a\u7684\u4fe1\u606f\uff0c\u4f60\u5f53\u7136\u5f97\u53bb NumPy \u5b98\u7f51\u901b\u901b\u4e86\uff0c\u7f51\u5740\u662f\uff1a http://www.numpy.org"
      ]
    },
    {
      "cell_type": "markdown",
      "metadata": {},
      "source": [
        "## 3.10 \u77e9\u9635\u4e0e\u7ebf\u6027\u4ee3\u6570\u8fd0\u7b97\n"
      ]
    },
    {
      "cell_type": "markdown",
      "metadata": {},
      "source": [
        "### \u95ee\u9898\n"
      ]
    },
    {
      "cell_type": "markdown",
      "metadata": {},
      "source": [
        "\u4f60\u9700\u8981\u6267\u884c\u77e9\u9635\u548c\u7ebf\u6027\u4ee3\u6570\u8fd0\u7b97\uff0c\u6bd4\u5982\u77e9\u9635\u4e58\u6cd5\u3001\u5bfb\u627e\u884c\u5217\u5f0f\u3001\u6c42\u89e3\u7ebf\u6027\u65b9\u7a0b\u7ec4\u7b49\u7b49\u3002"
      ]
    },
    {
      "cell_type": "markdown",
      "metadata": {},
      "source": [
        "### \u89e3\u51b3\u65b9\u6848\n"
      ]
    },
    {
      "cell_type": "markdown",
      "metadata": {},
      "source": [
        "\u77e9\u9635\u7c7b\u4f3c\u4e8e3.9\u5c0f\u8282\u4e2d\u6570\u7ec4\u5bf9\u8c61\uff0c\u4f46\u662f\u9075\u5faa\u7ebf\u6027\u4ee3\u6570\u7684\u8ba1\u7b97\u89c4\u5219\u3002\u4e0b\u9762\u7684\u4e00\u4e2a\u4f8b\u5b50\u5c55\u793a\u4e86\u77e9\u9635\u7684\u4e00\u4e9b\u57fa\u672c\u7279\u6027\uff1a"
      ]
    },
    {
      "cell_type": "code",
      "execution_count": null,
      "metadata": {},
      "outputs": [],
      "source": [
        "import numpy as np\nm = np.matrix([[1,-2,3],[0,4,5],[7,8,-9]])\nm"
      ]
    },
    {
      "cell_type": "code",
      "execution_count": null,
      "metadata": {},
      "outputs": [],
      "source": [
        "# Return transpose\nm.T"
      ]
    },
    {
      "cell_type": "code",
      "execution_count": null,
      "metadata": {},
      "outputs": [],
      "source": [
        "# Return inverse\nm.I"
      ]
    },
    {
      "cell_type": "code",
      "execution_count": null,
      "metadata": {},
      "outputs": [],
      "source": [
        "# Create a vector and multiply\nv = np.matrix([[2],[3],[4]])\nv"
      ]
    },
    {
      "cell_type": "code",
      "execution_count": null,
      "metadata": {},
      "outputs": [],
      "source": [
        "m * v"
      ]
    },
    {
      "cell_type": "markdown",
      "metadata": {},
      "source": [
        "\u53ef\u4ee5\u5728 numpy.linalg \u5b50\u5305\u4e2d\u627e\u5230\u66f4\u591a\u7684\u64cd\u4f5c\u51fd\u6570\uff0c\u6bd4\u5982\uff1a"
      ]
    },
    {
      "cell_type": "code",
      "execution_count": null,
      "metadata": {},
      "outputs": [],
      "source": [
        "import numpy.linalg"
      ]
    },
    {
      "cell_type": "code",
      "execution_count": null,
      "metadata": {},
      "outputs": [],
      "source": [
        "# Determinant\nnumpy.linalg.det(m)"
      ]
    },
    {
      "cell_type": "code",
      "execution_count": null,
      "metadata": {},
      "outputs": [],
      "source": [
        "# Eigenvalues\nnumpy.linalg.eigvals(m)"
      ]
    },
    {
      "cell_type": "code",
      "execution_count": null,
      "metadata": {},
      "outputs": [],
      "source": [
        "# Solve for x in mx = v\nx = numpy.linalg.solve(m, v)\nx"
      ]
    },
    {
      "cell_type": "code",
      "execution_count": null,
      "metadata": {},
      "outputs": [],
      "source": [
        "m * x"
      ]
    },
    {
      "cell_type": "code",
      "execution_count": null,
      "metadata": {},
      "outputs": [],
      "source": [
        "v"
      ]
    },
    {
      "cell_type": "markdown",
      "metadata": {},
      "source": [
        "### \u8ba8\u8bba\n"
      ]
    },
    {
      "cell_type": "markdown",
      "metadata": {},
      "source": [
        "\u5f88\u663e\u7136\u7ebf\u6027\u4ee3\u6570\u662f\u4e2a\u975e\u5e38\u5927\u7684\u4e3b\u9898\uff0c\u5df2\u7ecf\u8d85\u51fa\u4e86\u672c\u4e66\u80fd\u8ba8\u8bba\u7684\u8303\u56f4\u3002\n\u4f46\u662f\uff0c\u5982\u679c\u4f60\u9700\u8981\u64cd\u4f5c\u6570\u7ec4\u548c\u5411\u91cf\u7684\u8bdd\uff0c NumPy \u662f\u4e00\u4e2a\u4e0d\u9519\u7684\u5165\u53e3\u70b9\u3002\n\u53ef\u4ee5\u8bbf\u95ee NumPy \u5b98\u7f51 http://www.numpy.org \u83b7\u53d6\u66f4\u591a\u4fe1\u606f\u3002"
      ]
    },
    {
      "cell_type": "markdown",
      "metadata": {},
      "source": [
        "## 3.11 \u968f\u673a\u9009\u62e9\n"
      ]
    },
    {
      "cell_type": "markdown",
      "metadata": {},
      "source": [
        "### \u95ee\u9898\n"
      ]
    },
    {
      "cell_type": "markdown",
      "metadata": {},
      "source": [
        "\u4f60\u60f3\u4ece\u4e00\u4e2a\u5e8f\u5217\u4e2d\u968f\u673a\u62bd\u53d6\u82e5\u5e72\u5143\u7d20\uff0c\u6216\u8005\u60f3\u751f\u6210\u51e0\u4e2a\u968f\u673a\u6570\u3002"
      ]
    },
    {
      "cell_type": "markdown",
      "metadata": {},
      "source": [
        "### \u89e3\u51b3\u65b9\u6848\n"
      ]
    },
    {
      "cell_type": "markdown",
      "metadata": {},
      "source": [
        "random \u6a21\u5757\u6709\u5927\u91cf\u7684\u51fd\u6570\u7528\u6765\u4ea7\u751f\u968f\u673a\u6570\u548c\u968f\u673a\u9009\u62e9\u5143\u7d20\u3002\n\u6bd4\u5982\uff0c\u8981\u60f3\u4ece\u4e00\u4e2a\u5e8f\u5217\u4e2d\u968f\u673a\u7684\u62bd\u53d6\u4e00\u4e2a\u5143\u7d20\uff0c\u53ef\u4ee5\u4f7f\u7528 random.choice() \uff1a"
      ]
    },
    {
      "cell_type": "code",
      "execution_count": null,
      "metadata": {},
      "outputs": [],
      "source": [
        "import random\nvalues = [1, 2, 3, 4, 5, 6]\nrandom.choice(values)"
      ]
    },
    {
      "cell_type": "code",
      "execution_count": null,
      "metadata": {},
      "outputs": [],
      "source": [
        "random.choice(values)"
      ]
    },
    {
      "cell_type": "code",
      "execution_count": null,
      "metadata": {},
      "outputs": [],
      "source": [
        "random.choice(values)"
      ]
    },
    {
      "cell_type": "code",
      "execution_count": null,
      "metadata": {},
      "outputs": [],
      "source": [
        "random.choice(values)"
      ]
    },
    {
      "cell_type": "code",
      "execution_count": null,
      "metadata": {},
      "outputs": [],
      "source": [
        "random.choice(values)"
      ]
    },
    {
      "cell_type": "markdown",
      "metadata": {},
      "source": [
        "\u4e3a\u4e86\u63d0\u53d6\u51faN\u4e2a\u4e0d\u540c\u5143\u7d20\u7684\u6837\u672c\u7528\u6765\u505a\u8fdb\u4e00\u6b65\u7684\u64cd\u4f5c\uff0c\u53ef\u4ee5\u4f7f\u7528 random.sample() \uff1a"
      ]
    },
    {
      "cell_type": "code",
      "execution_count": null,
      "metadata": {},
      "outputs": [],
      "source": [
        "random.sample(values, 2)"
      ]
    },
    {
      "cell_type": "code",
      "execution_count": null,
      "metadata": {},
      "outputs": [],
      "source": [
        "random.sample(values, 2)"
      ]
    },
    {
      "cell_type": "code",
      "execution_count": null,
      "metadata": {},
      "outputs": [],
      "source": [
        "random.sample(values, 3)"
      ]
    },
    {
      "cell_type": "code",
      "execution_count": null,
      "metadata": {},
      "outputs": [],
      "source": [
        "random.sample(values, 3)"
      ]
    },
    {
      "cell_type": "markdown",
      "metadata": {},
      "source": [
        "\u5982\u679c\u4f60\u4ec5\u4ec5\u53ea\u662f\u60f3\u6253\u4e71\u5e8f\u5217\u4e2d\u5143\u7d20\u7684\u987a\u5e8f\uff0c\u53ef\u4ee5\u4f7f\u7528 random.shuffle() \uff1a"
      ]
    },
    {
      "cell_type": "code",
      "execution_count": null,
      "metadata": {},
      "outputs": [],
      "source": [
        "random.shuffle(values)\nvalues"
      ]
    },
    {
      "cell_type": "code",
      "execution_count": null,
      "metadata": {},
      "outputs": [],
      "source": [
        "random.shuffle(values)\nvalues"
      ]
    },
    {
      "cell_type": "markdown",
      "metadata": {},
      "source": [
        "\u751f\u6210\u968f\u673a\u6574\u6570\uff0c\u8bf7\u4f7f\u7528 random.randint() \uff1a"
      ]
    },
    {
      "cell_type": "code",
      "execution_count": null,
      "metadata": {},
      "outputs": [],
      "source": [
        "random.randint(0,10)"
      ]
    },
    {
      "cell_type": "code",
      "execution_count": null,
      "metadata": {},
      "outputs": [],
      "source": [
        "random.randint(0,10)"
      ]
    },
    {
      "cell_type": "code",
      "execution_count": null,
      "metadata": {},
      "outputs": [],
      "source": [
        "random.randint(0,10)"
      ]
    },
    {
      "cell_type": "code",
      "execution_count": null,
      "metadata": {},
      "outputs": [],
      "source": [
        "random.randint(0,10)"
      ]
    },
    {
      "cell_type": "code",
      "execution_count": null,
      "metadata": {},
      "outputs": [],
      "source": [
        "random.randint(0,10)"
      ]
    },
    {
      "cell_type": "code",
      "execution_count": null,
      "metadata": {},
      "outputs": [],
      "source": [
        "random.randint(0,10)"
      ]
    },
    {
      "cell_type": "markdown",
      "metadata": {},
      "source": [
        "\u4e3a\u4e86\u751f\u62100\u52301\u8303\u56f4\u5185\u5747\u5300\u5206\u5e03\u7684\u6d6e\u70b9\u6570\uff0c\u4f7f\u7528 random.random() \uff1a"
      ]
    },
    {
      "cell_type": "code",
      "execution_count": null,
      "metadata": {},
      "outputs": [],
      "source": [
        "random.random()"
      ]
    },
    {
      "cell_type": "code",
      "execution_count": null,
      "metadata": {},
      "outputs": [],
      "source": [
        "random.random()"
      ]
    },
    {
      "cell_type": "code",
      "execution_count": null,
      "metadata": {},
      "outputs": [],
      "source": [
        "random.random()"
      ]
    },
    {
      "cell_type": "markdown",
      "metadata": {},
      "source": [
        "\u5982\u679c\u8981\u83b7\u53d6N\u4f4d\u968f\u673a\u4f4d(\u4e8c\u8fdb\u5236)\u7684\u6574\u6570\uff0c\u4f7f\u7528 random.getrandbits() \uff1a"
      ]
    },
    {
      "cell_type": "code",
      "execution_count": null,
      "metadata": {},
      "outputs": [],
      "source": [
        "random.getrandbits(200)"
      ]
    },
    {
      "cell_type": "markdown",
      "metadata": {},
      "source": [
        "### \u8ba8\u8bba\n"
      ]
    },
    {
      "cell_type": "markdown",
      "metadata": {},
      "source": [
        "random \u6a21\u5757\u4f7f\u7528 Mersenne Twister \u7b97\u6cd5\u6765\u8ba1\u7b97\u751f\u6210\u968f\u673a\u6570\u3002\u8fd9\u662f\u4e00\u4e2a\u786e\u5b9a\u6027\u7b97\u6cd5\uff0c\n\u4f46\u662f\u4f60\u53ef\u4ee5\u901a\u8fc7 random.seed() \u51fd\u6570\u4fee\u6539\u521d\u59cb\u5316\u79cd\u5b50\u3002\u6bd4\u5982\uff1a"
      ]
    },
    {
      "cell_type": "code",
      "execution_count": null,
      "metadata": {},
      "outputs": [],
      "source": [
        "random.seed() # Seed based on system time or os.urandom()\nrandom.seed(12345) # Seed based on integer given\nrandom.seed(b'bytedata') # Seed based on byte data"
      ]
    },
    {
      "cell_type": "markdown",
      "metadata": {},
      "source": [
        "\u9664\u4e86\u4e0a\u8ff0\u4ecb\u7ecd\u7684\u529f\u80fd\uff0crandom\u6a21\u5757\u8fd8\u5305\u542b\u57fa\u4e8e\u5747\u5300\u5206\u5e03\u3001\u9ad8\u65af\u5206\u5e03\u548c\u5176\u4ed6\u5206\u5e03\u7684\u968f\u673a\u6570\u751f\u6210\u51fd\u6570\u3002\n\u6bd4\u5982\uff0c random.uniform() \u8ba1\u7b97\u5747\u5300\u5206\u5e03\u968f\u673a\u6570\uff0c random.gauss() \u8ba1\u7b97\u6b63\u6001\u5206\u5e03\u968f\u673a\u6570\u3002\n\u5bf9\u4e8e\u5176\u4ed6\u7684\u5206\u5e03\u60c5\u51b5\u8bf7\u53c2\u8003\u5728\u7ebf\u6587\u6863\u3002"
      ]
    },
    {
      "cell_type": "markdown",
      "metadata": {},
      "source": [
        "\u5728 random \u6a21\u5757\u4e2d\u7684\u51fd\u6570\u4e0d\u5e94\u8be5\u7528\u5728\u548c\u5bc6\u7801\u5b66\u76f8\u5173\u7684\u7a0b\u5e8f\u4e2d\u3002\n\u5982\u679c\u4f60\u786e\u5b9e\u9700\u8981\u7c7b\u4f3c\u7684\u529f\u80fd\uff0c\u53ef\u4ee5\u4f7f\u7528ssl\u6a21\u5757\u4e2d\u76f8\u5e94\u7684\u51fd\u6570\u3002\n\u6bd4\u5982\uff0c ssl.RAND_bytes() \u53ef\u4ee5\u7528\u6765\u751f\u6210\u4e00\u4e2a\u5b89\u5168\u7684\u968f\u673a\u5b57\u8282\u5e8f\u5217\u3002"
      ]
    },
    {
      "cell_type": "markdown",
      "metadata": {},
      "source": [
        "## 3.12 \u57fa\u672c\u7684\u65e5\u671f\u4e0e\u65f6\u95f4\u8f6c\u6362\n"
      ]
    },
    {
      "cell_type": "markdown",
      "metadata": {},
      "source": [
        "### \u95ee\u9898\n"
      ]
    },
    {
      "cell_type": "markdown",
      "metadata": {},
      "source": [
        "\u4f60\u9700\u8981\u6267\u884c\u7b80\u5355\u7684\u65f6\u95f4\u8f6c\u6362\uff0c\u6bd4\u5982\u5929\u5230\u79d2\uff0c\u5c0f\u65f6\u5230\u5206\u949f\u7b49\u7684\u8f6c\u6362\u3002"
      ]
    },
    {
      "cell_type": "markdown",
      "metadata": {},
      "source": [
        "### \u89e3\u51b3\u65b9\u6848\n"
      ]
    },
    {
      "cell_type": "markdown",
      "metadata": {},
      "source": [
        "\u4e3a\u4e86\u6267\u884c\u4e0d\u540c\u65f6\u95f4\u5355\u4f4d\u7684\u8f6c\u6362\u548c\u8ba1\u7b97\uff0c\u8bf7\u4f7f\u7528 datetime \u6a21\u5757\u3002\n\u6bd4\u5982\uff0c\u4e3a\u4e86\u8868\u793a\u4e00\u4e2a\u65f6\u95f4\u6bb5\uff0c\u53ef\u4ee5\u521b\u5efa\u4e00\u4e2a timedelta \u5b9e\u4f8b\uff0c\u5c31\u50cf\u4e0b\u9762\u8fd9\u6837\uff1a"
      ]
    },
    {
      "cell_type": "code",
      "execution_count": null,
      "metadata": {},
      "outputs": [],
      "source": [
        "from datetime import timedelta\na = timedelta(days=2, hours=6)\nb = timedelta(hours=4.5)\nc = a + b\nc.days"
      ]
    },
    {
      "cell_type": "code",
      "execution_count": null,
      "metadata": {},
      "outputs": [],
      "source": [
        "c.seconds"
      ]
    },
    {
      "cell_type": "code",
      "execution_count": null,
      "metadata": {},
      "outputs": [],
      "source": [
        "c.seconds / 3600"
      ]
    },
    {
      "cell_type": "code",
      "execution_count": null,
      "metadata": {},
      "outputs": [],
      "source": [
        "c.total_seconds() / 3600"
      ]
    },
    {
      "cell_type": "markdown",
      "metadata": {},
      "source": [
        "\u5982\u679c\u4f60\u60f3\u8868\u793a\u6307\u5b9a\u7684\u65e5\u671f\u548c\u65f6\u95f4\uff0c\u5148\u521b\u5efa\u4e00\u4e2a datetime \u5b9e\u4f8b\u7136\u540e\u4f7f\u7528\u6807\u51c6\u7684\u6570\u5b66\u8fd0\u7b97\u6765\u64cd\u4f5c\u5b83\u4eec\u3002\u6bd4\u5982\uff1a"
      ]
    },
    {
      "cell_type": "code",
      "execution_count": null,
      "metadata": {},
      "outputs": [],
      "source": [
        "from datetime import datetime\na = datetime(2012, 9, 23)\nprint(a + timedelta(days=10))"
      ]
    },
    {
      "cell_type": "code",
      "execution_count": null,
      "metadata": {},
      "outputs": [],
      "source": [
        "b = datetime(2012, 12, 21)\nd = b - a\nd.days"
      ]
    },
    {
      "cell_type": "code",
      "execution_count": null,
      "metadata": {},
      "outputs": [],
      "source": [
        "now = datetime.today()\nprint(now)"
      ]
    },
    {
      "cell_type": "code",
      "execution_count": null,
      "metadata": {},
      "outputs": [],
      "source": [
        "print(now + timedelta(minutes=10))"
      ]
    },
    {
      "cell_type": "markdown",
      "metadata": {},
      "source": [
        "\u5728\u8ba1\u7b97\u7684\u65f6\u5019\uff0c\u9700\u8981\u6ce8\u610f\u7684\u662f datetime \u4f1a\u81ea\u52a8\u5904\u7406\u95f0\u5e74\u3002\u6bd4\u5982\uff1a"
      ]
    },
    {
      "cell_type": "code",
      "execution_count": null,
      "metadata": {},
      "outputs": [],
      "source": [
        "a = datetime(2012, 3, 1)\nb = datetime(2012, 2, 28)\na - b"
      ]
    },
    {
      "cell_type": "code",
      "execution_count": null,
      "metadata": {},
      "outputs": [],
      "source": [
        "(a - b).days"
      ]
    },
    {
      "cell_type": "code",
      "execution_count": null,
      "metadata": {},
      "outputs": [],
      "source": [
        "c = datetime(2013, 3, 1)\nd = datetime(2013, 2, 28)\n(c - d).days"
      ]
    },
    {
      "cell_type": "markdown",
      "metadata": {},
      "source": [
        "### \u8ba8\u8bba\n"
      ]
    },
    {
      "cell_type": "markdown",
      "metadata": {},
      "source": [
        "\u5bf9\u5927\u591a\u6570\u57fa\u672c\u7684\u65e5\u671f\u548c\u65f6\u95f4\u5904\u7406\u95ee\u9898\uff0c datetime \u6a21\u5757\u5df2\u7ecf\u8db3\u591f\u4e86\u3002\n\u5982\u679c\u4f60\u9700\u8981\u6267\u884c\u66f4\u52a0\u590d\u6742\u7684\u65e5\u671f\u64cd\u4f5c\uff0c\u6bd4\u5982\u5904\u7406\u65f6\u533a\uff0c\u6a21\u7cca\u65f6\u95f4\u8303\u56f4\uff0c\u8282\u5047\u65e5\u8ba1\u7b97\u7b49\u7b49\uff0c\n\u53ef\u4ee5\u8003\u8651\u4f7f\u7528 dateutil\u6a21\u5757"
      ]
    },
    {
      "cell_type": "markdown",
      "metadata": {},
      "source": [
        "\u8bb8\u591a\u7c7b\u4f3c\u7684\u65f6\u95f4\u8ba1\u7b97\u53ef\u4ee5\u4f7f\u7528 dateutil.relativedelta() \u51fd\u6570\u4ee3\u66ff\u3002\n\u4f46\u662f\uff0c\u6709\u4e00\u70b9\u9700\u8981\u6ce8\u610f\u7684\u5c31\u662f\uff0c\u5b83\u4f1a\u5728\u5904\u7406\u6708\u4efd(\u8fd8\u6709\u5b83\u4eec\u7684\u5929\u6570\u5dee\u8ddd)\u7684\u65f6\u5019\u586b\u5145\u95f4\u9699\u3002\u770b\u4f8b\u5b50\u6700\u6e05\u695a\uff1a"
      ]
    },
    {
      "cell_type": "code",
      "execution_count": null,
      "metadata": {},
      "outputs": [],
      "source": [
        "a = datetime(2012, 9, 23)\na + timedelta(months=1)"
      ]
    },
    {
      "cell_type": "code",
      "execution_count": null,
      "metadata": {},
      "outputs": [],
      "source": [
        "from dateutil.relativedelta import relativedelta\na + relativedelta(months=+1)"
      ]
    },
    {
      "cell_type": "code",
      "execution_count": null,
      "metadata": {},
      "outputs": [],
      "source": [
        "a + relativedelta(months=+4)"
      ]
    },
    {
      "cell_type": "code",
      "execution_count": null,
      "metadata": {},
      "outputs": [],
      "source": [
        "# Time between two dates\nb = datetime(2012, 12, 21)\nd = b - a\nd"
      ]
    },
    {
      "cell_type": "code",
      "execution_count": null,
      "metadata": {},
      "outputs": [],
      "source": [
        "d = relativedelta(b, a)\nd"
      ]
    },
    {
      "cell_type": "code",
      "execution_count": null,
      "metadata": {},
      "outputs": [],
      "source": [
        "d.months"
      ]
    },
    {
      "cell_type": "code",
      "execution_count": null,
      "metadata": {},
      "outputs": [],
      "source": [
        "d.days"
      ]
    },
    {
      "cell_type": "markdown",
      "metadata": {},
      "source": [
        "## 3.13 \u8ba1\u7b97\u6700\u540e\u4e00\u4e2a\u5468\u4e94\u7684\u65e5\u671f\n"
      ]
    },
    {
      "cell_type": "markdown",
      "metadata": {},
      "source": [
        "### \u95ee\u9898\n"
      ]
    },
    {
      "cell_type": "markdown",
      "metadata": {},
      "source": [
        "\u4f60\u9700\u8981\u67e5\u627e\u661f\u671f\u4e2d\u67d0\u4e00\u5929\u6700\u540e\u51fa\u73b0\u7684\u65e5\u671f\uff0c\u6bd4\u5982\u661f\u671f\u4e94\u3002"
      ]
    },
    {
      "cell_type": "markdown",
      "metadata": {},
      "source": [
        "### \u89e3\u51b3\u65b9\u6848\n"
      ]
    },
    {
      "cell_type": "markdown",
      "metadata": {},
      "source": [
        "Python\u7684 datetime \u6a21\u5757\u4e2d\u6709\u5de5\u5177\u51fd\u6570\u548c\u7c7b\u53ef\u4ee5\u5e2e\u52a9\u4f60\u6267\u884c\u8fd9\u6837\u7684\u8ba1\u7b97\u3002\n\u4e0b\u9762\u662f\u5bf9\u7c7b\u4f3c\u8fd9\u6837\u7684\u95ee\u9898\u7684\u4e00\u4e2a\u901a\u7528\u89e3\u51b3\u65b9\u6848\uff1a"
      ]
    },
    {
      "cell_type": "code",
      "execution_count": null,
      "metadata": {},
      "outputs": [],
      "source": [
        "#!/usr/bin/env python\n# -*- encoding: utf-8 -*-\n\"\"\"\nTopic: \u6700\u540e\u7684\u5468\u4e94\nDesc :\n\"\"\"\nfrom datetime import datetime, timedelta\n\nweekdays = ['Monday', 'Tuesday', 'Wednesday', 'Thursday',\n            'Friday', 'Saturday', 'Sunday']\n\n\ndef get_previous_byday(dayname, start_date=None):\n    if start_date is None:\n        start_date = datetime.today()\n    day_num = start_date.weekday()\n    day_num_target = weekdays.index(dayname)\n    days_ago = (7 + day_num - day_num_target) % 7\n    if days_ago == 0:\n        days_ago = 7\n    target_date = start_date - timedelta(days=days_ago)\n    return target_date"
      ]
    },
    {
      "cell_type": "markdown",
      "metadata": {},
      "source": [
        "\u5728\u4ea4\u4e92\u5f0f\u89e3\u91ca\u5668\u4e2d\u4f7f\u7528\u5982\u4e0b\uff1a"
      ]
    },
    {
      "cell_type": "code",
      "execution_count": null,
      "metadata": {},
      "outputs": [],
      "source": [
        "datetime.today() # For reference"
      ]
    },
    {
      "cell_type": "code",
      "execution_count": null,
      "metadata": {},
      "outputs": [],
      "source": [
        "get_previous_byday('Monday')"
      ]
    },
    {
      "cell_type": "code",
      "execution_count": null,
      "metadata": {},
      "outputs": [],
      "source": [
        "get_previous_byday('Tuesday') # Previous week, not today"
      ]
    },
    {
      "cell_type": "code",
      "execution_count": null,
      "metadata": {},
      "outputs": [],
      "source": [
        "get_previous_byday('Friday')"
      ]
    },
    {
      "cell_type": "markdown",
      "metadata": {},
      "source": [
        "\u53ef\u9009\u7684 start_date \u53c2\u6570\u53ef\u4ee5\u7531\u53e6\u5916\u4e00\u4e2a datetime \u5b9e\u4f8b\u6765\u63d0\u4f9b\u3002\u6bd4\u5982\uff1a"
      ]
    },
    {
      "cell_type": "code",
      "execution_count": null,
      "metadata": {},
      "outputs": [],
      "source": [
        "get_previous_byday('Sunday', datetime(2012, 12, 21))"
      ]
    },
    {
      "cell_type": "markdown",
      "metadata": {},
      "source": [
        "### \u8ba8\u8bba\n"
      ]
    },
    {
      "cell_type": "markdown",
      "metadata": {},
      "source": [
        "\u4e0a\u9762\u7684\u7b97\u6cd5\u539f\u7406\u662f\u8fd9\u6837\u7684\uff1a\u5148\u5c06\u5f00\u59cb\u65e5\u671f\u548c\u76ee\u6807\u65e5\u671f\u6620\u5c04\u5230\u661f\u671f\u6570\u7ec4\u7684\u4f4d\u7f6e\u4e0a(\u661f\u671f\u4e00\u7d22\u5f15\u4e3a0)\uff0c\n\u7136\u540e\u901a\u8fc7\u6a21\u8fd0\u7b97\u8ba1\u7b97\u51fa\u76ee\u6807\u65e5\u671f\u8981\u7ecf\u8fc7\u591a\u5c11\u5929\u624d\u80fd\u5230\u8fbe\u5f00\u59cb\u65e5\u671f\u3002\u7136\u540e\u7528\u5f00\u59cb\u65e5\u671f\u51cf\u53bb\u90a3\u4e2a\u65f6\u95f4\u5dee\u5373\u5f97\u5230\u7ed3\u679c\u65e5\u671f\u3002"
      ]
    },
    {
      "cell_type": "markdown",
      "metadata": {},
      "source": [
        "\u5982\u679c\u4f60\u8981\u50cf\u8fd9\u6837\u6267\u884c\u5927\u91cf\u7684\u65e5\u671f\u8ba1\u7b97\u7684\u8bdd\uff0c\u4f60\u6700\u597d\u5b89\u88c5\u7b2c\u4e09\u65b9\u5305 python-dateutil \u6765\u4ee3\u66ff\u3002\n\u6bd4\u5982\uff0c\u4e0b\u9762\u662f\u662f\u4f7f\u7528 dateutil \u6a21\u5757\u4e2d\u7684 relativedelta() \u51fd\u6570\u6267\u884c\u540c\u6837\u7684\u8ba1\u7b97\uff1a"
      ]
    },
    {
      "cell_type": "code",
      "execution_count": null,
      "metadata": {},
      "outputs": [],
      "source": [
        "from datetime import datetime\nfrom dateutil.relativedelta import relativedelta\nfrom dateutil.rrule import *\nd = datetime.now()\nprint(d)"
      ]
    },
    {
      "cell_type": "code",
      "execution_count": null,
      "metadata": {},
      "outputs": [],
      "source": [
        "# Next Friday\nprint(d + relativedelta(weekday=FR))"
      ]
    },
    {
      "cell_type": "code",
      "execution_count": null,
      "metadata": {},
      "outputs": [],
      "source": [
        "# Last Friday\nprint(d + relativedelta(weekday=FR(-1)))"
      ]
    },
    {
      "cell_type": "markdown",
      "metadata": {},
      "source": [
        "## 3.14 \u8ba1\u7b97\u5f53\u524d\u6708\u4efd\u7684\u65e5\u671f\u8303\u56f4\n"
      ]
    },
    {
      "cell_type": "markdown",
      "metadata": {},
      "source": [
        "### \u95ee\u9898\n"
      ]
    },
    {
      "cell_type": "markdown",
      "metadata": {},
      "source": [
        "\u4f60\u7684\u4ee3\u7801\u9700\u8981\u5728\u5f53\u524d\u6708\u4efd\u4e2d\u5faa\u73af\u6bcf\u4e00\u5929\uff0c\u60f3\u627e\u5230\u4e00\u4e2a\u8ba1\u7b97\u8fd9\u4e2a\u65e5\u671f\u8303\u56f4\u7684\u9ad8\u6548\u65b9\u6cd5\u3002"
      ]
    },
    {
      "cell_type": "markdown",
      "metadata": {},
      "source": [
        "### \u89e3\u51b3\u65b9\u6848\n"
      ]
    },
    {
      "cell_type": "markdown",
      "metadata": {},
      "source": [
        "\u5728\u8fd9\u6837\u7684\u65e5\u671f\u4e0a\u5faa\u73af\u5e76\u9700\u8981\u4e8b\u5148\u6784\u9020\u4e00\u4e2a\u5305\u542b\u6240\u6709\u65e5\u671f\u7684\u5217\u8868\u3002\n\u4f60\u53ef\u4ee5\u5148\u8ba1\u7b97\u51fa\u5f00\u59cb\u65e5\u671f\u548c\u7ed3\u675f\u65e5\u671f\uff0c\n\u7136\u540e\u5728\u4f60\u6b65\u8fdb\u7684\u65f6\u5019\u4f7f\u7528 datetime.timedelta \u5bf9\u8c61\u9012\u589e\u8fd9\u4e2a\u65e5\u671f\u53d8\u91cf\u5373\u53ef\u3002"
      ]
    },
    {
      "cell_type": "markdown",
      "metadata": {},
      "source": [
        "\u4e0b\u9762\u662f\u4e00\u4e2a\u63a5\u53d7\u4efb\u610f datetime \u5bf9\u8c61\u5e76\u8fd4\u56de\u4e00\u4e2a\u7531\u5f53\u524d\u6708\u4efd\u5f00\u59cb\u65e5\u548c\u4e0b\u4e2a\u6708\u5f00\u59cb\u65e5\u7ec4\u6210\u7684\u5143\u7ec4\u5bf9\u8c61\u3002"
      ]
    },
    {
      "cell_type": "code",
      "execution_count": null,
      "metadata": {},
      "outputs": [],
      "source": [
        "from datetime import datetime, date, timedelta\nimport calendar\n\ndef get_month_range(start_date=None):\n    if start_date is None:\n        start_date = date.today().replace(day=1)\n    _, days_in_month = calendar.monthrange(start_date.year, start_date.month)\n    end_date = start_date + timedelta(days=days_in_month)\n    return (start_date, end_date)"
      ]
    },
    {
      "cell_type": "markdown",
      "metadata": {},
      "source": [
        "\u6709\u4e86\u8fd9\u4e2a\u5c31\u53ef\u4ee5\u5f88\u5bb9\u6613\u7684\u5728\u8fd4\u56de\u7684\u65e5\u671f\u8303\u56f4\u4e0a\u9762\u505a\u5faa\u73af\u64cd\u4f5c\u4e86\uff1a"
      ]
    },
    {
      "cell_type": "code",
      "execution_count": null,
      "metadata": {},
      "outputs": [],
      "source": [
        "a_day = timedelta(days=1)\nfirst_day, last_day = get_month_range()\nwhile first_day < last_day:\n    print(first_day)\n    first_day += a_day"
      ]
    },
    {
      "cell_type": "markdown",
      "metadata": {},
      "source": [
        "### \u8ba8\u8bba\n"
      ]
    },
    {
      "cell_type": "markdown",
      "metadata": {},
      "source": [
        "\u4e0a\u9762\u7684\u4ee3\u7801\u5148\u8ba1\u7b97\u51fa\u4e00\u4e2a\u5bf9\u5e94\u6708\u4efd\u7b2c\u4e00\u5929\u7684\u65e5\u671f\u3002\n\u4e00\u4e2a\u5feb\u901f\u7684\u65b9\u6cd5\u5c31\u662f\u4f7f\u7528 date \u6216 datetime \u5bf9\u8c61\u7684 replace() \u65b9\u6cd5\u7b80\u5355\u7684\u5c06 days \u5c5e\u6027\u8bbe\u7f6e\u62101\u5373\u53ef\u3002\nreplace() \u65b9\u6cd5\u4e00\u4e2a\u597d\u5904\u5c31\u662f\u5b83\u4f1a\u521b\u5efa\u548c\u4f60\u5f00\u59cb\u4f20\u5165\u5bf9\u8c61\u7c7b\u578b\u76f8\u540c\u7684\u5bf9\u8c61\u3002\n\u6240\u4ee5\uff0c\u5982\u679c\u8f93\u5165\u53c2\u6570\u662f\u4e00\u4e2a date \u5b9e\u4f8b\uff0c\u90a3\u4e48\u7ed3\u679c\u4e5f\u662f\u4e00\u4e2a date \u5b9e\u4f8b\u3002\n\u540c\u6837\u7684\uff0c\u5982\u679c\u8f93\u5165\u662f\u4e00\u4e2a datetime \u5b9e\u4f8b\uff0c\u90a3\u4e48\u4f60\u5f97\u5230\u7684\u5c31\u662f\u4e00\u4e2a datetime \u5b9e\u4f8b\u3002"
      ]
    },
    {
      "cell_type": "markdown",
      "metadata": {},
      "source": [
        "\u7136\u540e\uff0c\u4f7f\u7528 calendar.monthrange() \u51fd\u6570\u6765\u627e\u51fa\u8be5\u6708\u7684\u603b\u5929\u6570\u3002\n\u4efb\u4f55\u65f6\u5019\u53ea\u8981\u4f60\u60f3\u83b7\u5f97\u65e5\u5386\u4fe1\u606f\uff0c\u90a3\u4e48 calendar \u6a21\u5757\u5c31\u975e\u5e38\u6709\u7528\u4e86\u3002\nmonthrange() \u51fd\u6570\u4f1a\u8fd4\u56de\u5305\u542b\u661f\u671f\u548c\u8be5\u6708\u5929\u6570\u7684\u5143\u7ec4\u3002"
      ]
    },
    {
      "cell_type": "markdown",
      "metadata": {},
      "source": [
        "\u4e00\u65e6\u8be5\u6708\u7684\u5929\u6570\u5df2\u77e5\u4e86\uff0c\u90a3\u4e48\u7ed3\u675f\u65e5\u671f\u5c31\u53ef\u4ee5\u901a\u8fc7\u5728\u5f00\u59cb\u65e5\u671f\u4e0a\u9762\u52a0\u4e0a\u8fd9\u4e2a\u5929\u6570\u83b7\u5f97\u3002\n\u6709\u4e2a\u9700\u8981\u6ce8\u610f\u7684\u662f\u7ed3\u675f\u65e5\u671f\u5e76\u4e0d\u5305\u542b\u5728\u8fd9\u4e2a\u65e5\u671f\u8303\u56f4\u5185(\u4e8b\u5b9e\u4e0a\u5b83\u662f\u4e0b\u4e2a\u6708\u7684\u5f00\u59cb\u65e5\u671f)\u3002\n\u8fd9\u4e2a\u548cPython\u7684 slice \u4e0e range \u64cd\u4f5c\u884c\u4e3a\u4fdd\u6301\u4e00\u81f4\uff0c\u540c\u6837\u4e5f\u4e0d\u5305\u542b\u7ed3\u5c3e\u3002"
      ]
    },
    {
      "cell_type": "markdown",
      "metadata": {},
      "source": [
        "\u4e3a\u4e86\u5728\u65e5\u671f\u8303\u56f4\u4e0a\u5faa\u73af\uff0c\u8981\u4f7f\u7528\u5230\u6807\u51c6\u7684\u6570\u5b66\u548c\u6bd4\u8f83\u64cd\u4f5c\u3002\n\u6bd4\u5982\uff0c\u53ef\u4ee5\u5229\u7528 timedelta \u5b9e\u4f8b\u6765\u9012\u589e\u65e5\u671f\uff0c\u5c0f\u4e8e\u53f7<\u7528\u6765\u68c0\u67e5\u4e00\u4e2a\u65e5\u671f\u662f\u5426\u5728\u7ed3\u675f\u65e5\u671f\u4e4b\u524d\u3002"
      ]
    },
    {
      "cell_type": "markdown",
      "metadata": {},
      "source": [
        "\u7406\u60f3\u60c5\u51b5\u4e0b\uff0c\u5982\u679c\u80fd\u4e3a\u65e5\u671f\u8fed\u4ee3\u521b\u5efa\u4e00\u4e2a\u540c\u5185\u7f6e\u7684 range() \u51fd\u6570\u4e00\u6837\u7684\u51fd\u6570\u5c31\u597d\u4e86\u3002\n\u5e78\u8fd0\u7684\u662f\uff0c\u53ef\u4ee5\u4f7f\u7528\u4e00\u4e2a\u751f\u6210\u5668\u6765\u5f88\u5bb9\u6613\u7684\u5b9e\u73b0\u8fd9\u4e2a\u76ee\u6807\uff1a"
      ]
    },
    {
      "cell_type": "code",
      "execution_count": null,
      "metadata": {},
      "outputs": [],
      "source": [
        "def date_range(start, stop, step):\n    while start < stop:\n        yield start\n        start += step"
      ]
    },
    {
      "cell_type": "markdown",
      "metadata": {},
      "source": [
        "\u4e0b\u9762\u662f\u4f7f\u7528\u8fd9\u4e2a\u751f\u6210\u5668\u7684\u4f8b\u5b50\uff1a"
      ]
    },
    {
      "cell_type": "code",
      "execution_count": null,
      "metadata": {},
      "outputs": [],
      "source": [
        "for d in date_range(datetime(2012, 9, 1), datetime(2012,10,1),"
      ]
    },
    {
      "cell_type": "code",
      "execution_count": null,
      "metadata": {},
      "outputs": [],
      "source": [
        "    print(d)"
      ]
    },
    {
      "cell_type": "markdown",
      "metadata": {},
      "source": [
        "\u8fd9\u79cd\u5b9e\u73b0\u4e4b\u6240\u4ee5\u8fd9\u4e48\u7b80\u5355\uff0c\u8fd8\u5f97\u5f52\u529f\u4e8ePython\u4e2d\u7684\u65e5\u671f\u548c\u65f6\u95f4\u80fd\u591f\u4f7f\u7528\u6807\u51c6\u7684\u6570\u5b66\u548c\u6bd4\u8f83\u64cd\u4f5c\u7b26\u6765\u8fdb\u884c\u8fd0\u7b97\u3002"
      ]
    },
    {
      "cell_type": "markdown",
      "metadata": {},
      "source": [
        "## 3.15 \u5b57\u7b26\u4e32\u8f6c\u6362\u4e3a\u65e5\u671f\n"
      ]
    },
    {
      "cell_type": "markdown",
      "metadata": {},
      "source": [
        "### \u95ee\u9898\n"
      ]
    },
    {
      "cell_type": "markdown",
      "metadata": {},
      "source": [
        "\u4f60\u7684\u5e94\u7528\u7a0b\u5e8f\u63a5\u53d7\u5b57\u7b26\u4e32\u683c\u5f0f\u7684\u8f93\u5165\uff0c\u4f46\u662f\u4f60\u60f3\u5c06\u5b83\u4eec\u8f6c\u6362\u4e3a datetime \u5bf9\u8c61\u4ee5\u4fbf\u5728\u4e0a\u9762\u6267\u884c\u975e\u5b57\u7b26\u4e32\u64cd\u4f5c\u3002"
      ]
    },
    {
      "cell_type": "markdown",
      "metadata": {},
      "source": [
        "### \u89e3\u51b3\u65b9\u6848\n"
      ]
    },
    {
      "cell_type": "markdown",
      "metadata": {},
      "source": [
        "\u4f7f\u7528Python\u7684\u6807\u51c6\u6a21\u5757 datetime \u53ef\u4ee5\u5f88\u5bb9\u6613\u7684\u89e3\u51b3\u8fd9\u4e2a\u95ee\u9898\u3002\u6bd4\u5982\uff1a"
      ]
    },
    {
      "cell_type": "code",
      "execution_count": null,
      "metadata": {},
      "outputs": [],
      "source": [
        "from datetime import datetime\ntext = '2012-09-20'\ny = datetime.strptime(text, '%Y-%m-%d')\nz = datetime.now()\ndiff = z - y\ndiff"
      ]
    },
    {
      "cell_type": "markdown",
      "metadata": {},
      "source": [
        "### \u8ba8\u8bba\n"
      ]
    },
    {
      "cell_type": "markdown",
      "metadata": {},
      "source": [
        "datetime.strptime() \u65b9\u6cd5\u652f\u6301\u5f88\u591a\u7684\u683c\u5f0f\u5316\u4ee3\u7801\uff0c\n\u6bd4\u5982 %Y \u4ee3\u88684\u4f4d\u6570\u5e74\u4efd\uff0c %m \u4ee3\u8868\u4e24\u4f4d\u6570\u6708\u4efd\u3002\n\u8fd8\u6709\u4e00\u70b9\u503c\u5f97\u6ce8\u610f\u7684\u662f\u8fd9\u4e9b\u683c\u5f0f\u5316\u5360\u4f4d\u7b26\u4e5f\u53ef\u4ee5\u53cd\u8fc7\u6765\u4f7f\u7528\uff0c\u5c06\u65e5\u671f\u8f93\u51fa\u4e3a\u6307\u5b9a\u7684\u683c\u5f0f\u5b57\u7b26\u4e32\u5f62\u5f0f\u3002"
      ]
    },
    {
      "cell_type": "markdown",
      "metadata": {},
      "source": [
        "\u6bd4\u5982\uff0c\u5047\u8bbe\u4f60\u7684\u4ee3\u7801\u4e2d\u751f\u6210\u4e86\u4e00\u4e2a datetime \u5bf9\u8c61\uff0c\n\u4f60\u60f3\u5c06\u5b83\u683c\u5f0f\u5316\u4e3a\u6f02\u4eae\u6613\u8bfb\u5f62\u5f0f\u540e\u653e\u5728\u81ea\u52a8\u751f\u6210\u7684\u4fe1\u4ef6\u6216\u8005\u62a5\u544a\u7684\u9876\u90e8\uff1a"
      ]
    },
    {
      "cell_type": "code",
      "execution_count": null,
      "metadata": {},
      "outputs": [],
      "source": [
        "z"
      ]
    },
    {
      "cell_type": "code",
      "execution_count": null,
      "metadata": {},
      "outputs": [],
      "source": [
        "nice_z = datetime.strftime(z, '%A %B %d, %Y')\nnice_z"
      ]
    },
    {
      "cell_type": "markdown",
      "metadata": {},
      "source": [
        "\u8fd8\u6709\u4e00\u70b9\u9700\u8981\u6ce8\u610f\u7684\u662f\uff0c strptime() \u7684\u6027\u80fd\u8981\u6bd4\u4f60\u60f3\u8c61\u4e2d\u7684\u5dee\u5f88\u591a\uff0c\n\u56e0\u4e3a\u5b83\u662f\u4f7f\u7528\u7eafPython\u5b9e\u73b0\uff0c\u5e76\u4e14\u5fc5\u987b\u5904\u7406\u6240\u6709\u7684\u7cfb\u7edf\u672c\u5730\u8bbe\u7f6e\u3002\n\u5982\u679c\u4f60\u8981\u5728\u4ee3\u7801\u4e2d\u9700\u8981\u89e3\u6790\u5927\u91cf\u7684\u65e5\u671f\u5e76\u4e14\u5df2\u7ecf\u77e5\u9053\u4e86\u65e5\u671f\u5b57\u7b26\u4e32\u7684\u786e\u5207\u683c\u5f0f\uff0c\u53ef\u4ee5\u81ea\u5df1\u5b9e\u73b0\u4e00\u5957\u89e3\u6790\u65b9\u6848\u6765\u83b7\u53d6\u66f4\u597d\u7684\u6027\u80fd\u3002\n\u6bd4\u5982\uff0c\u5982\u679c\u4f60\u5df2\u7ecf\u77e5\u9053\u6240\u4ee5\u65e5\u671f\u683c\u5f0f\u662f YYYY-MM-DD \uff0c\u4f60\u53ef\u4ee5\u50cf\u4e0b\u9762\u8fd9\u6837\u5b9e\u73b0\u4e00\u4e2a\u89e3\u6790\u51fd\u6570\uff1a"
      ]
    },
    {
      "cell_type": "code",
      "execution_count": null,
      "metadata": {},
      "outputs": [],
      "source": [
        "from datetime import datetime\ndef parse_ymd(s):\n    year_s, mon_s, day_s = s.split('-')\n    return datetime(int(year_s), int(mon_s), int(day_s))"
      ]
    },
    {
      "cell_type": "markdown",
      "metadata": {},
      "source": [
        "\u5b9e\u9645\u6d4b\u8bd5\u4e2d\uff0c\u8fd9\u4e2a\u51fd\u6570\u6bd4 datetime.strptime() \u5feb7\u500d\u591a\u3002\n\u5982\u679c\u4f60\u8981\u5904\u7406\u5927\u91cf\u7684\u6d89\u53ca\u5230\u65e5\u671f\u7684\u6570\u636e\u7684\u8bdd\uff0c\u90a3\u4e48\u6700\u597d\u8003\u8651\u4e0b\u8fd9\u4e2a\u65b9\u6848\uff01"
      ]
    },
    {
      "cell_type": "markdown",
      "metadata": {},
      "source": [
        "## 3.16 \u7ed3\u5408\u65f6\u533a\u7684\u65e5\u671f\u64cd\u4f5c\n"
      ]
    },
    {
      "cell_type": "markdown",
      "metadata": {},
      "source": [
        "### \u95ee\u9898\n"
      ]
    },
    {
      "cell_type": "markdown",
      "metadata": {},
      "source": [
        "\u4f60\u6709\u4e00\u4e2a\u5b89\u6392\u57282012\u5e7412\u670821\u65e5\u65e9\u4e0a9:30\u7684\u7535\u8bdd\u4f1a\u8bae\uff0c\u5730\u70b9\u5728\u829d\u52a0\u54e5\u3002\n\u800c\u4f60\u7684\u670b\u53cb\u5728\u5370\u5ea6\u7684\u73ed\u52a0\u7f57\u5c14\uff0c\u90a3\u4e48\u4ed6\u5e94\u8be5\u5728\u5f53\u5730\u65f6\u95f4\u51e0\u70b9\u53c2\u52a0\u8fd9\u4e2a\u4f1a\u8bae\u5462\uff1f"
      ]
    },
    {
      "cell_type": "markdown",
      "metadata": {},
      "source": [
        "### \u89e3\u51b3\u65b9\u6848\n"
      ]
    },
    {
      "cell_type": "markdown",
      "metadata": {},
      "source": [
        "\u5bf9\u51e0\u4e4e\u6240\u6709\u6d89\u53ca\u5230\u65f6\u533a\u7684\u95ee\u9898\uff0c\u4f60\u90fd\u5e94\u8be5\u4f7f\u7528 pytz \u6a21\u5757\u3002\u8fd9\u4e2a\u5305\u63d0\u4f9b\u4e86Olson\u65f6\u533a\u6570\u636e\u5e93\uff0c\n\u5b83\u662f\u65f6\u533a\u4fe1\u606f\u7684\u4e8b\u5b9e\u4e0a\u7684\u6807\u51c6\uff0c\u5728\u5f88\u591a\u8bed\u8a00\u548c\u64cd\u4f5c\u7cfb\u7edf\u91cc\u9762\u90fd\u53ef\u4ee5\u627e\u5230\u3002"
      ]
    },
    {
      "cell_type": "markdown",
      "metadata": {},
      "source": [
        "pytz \u6a21\u5757\u4e00\u4e2a\u4e3b\u8981\u7528\u9014\u662f\u5c06 datetime \u5e93\u521b\u5efa\u7684\u7b80\u5355\u65e5\u671f\u5bf9\u8c61\u672c\u5730\u5316\u3002\n\u6bd4\u5982\uff0c\u4e0b\u9762\u5982\u4f55\u8868\u793a\u4e00\u4e2a\u829d\u52a0\u54e5\u65f6\u95f4\u7684\u793a\u4f8b\uff1a"
      ]
    },
    {
      "cell_type": "code",
      "execution_count": null,
      "metadata": {},
      "outputs": [],
      "source": [
        "from datetime import datetime\nfrom pytz import timezone\nd = datetime(2012, 12, 21, 9, 30, 0)\nprint(d)"
      ]
    },
    {
      "cell_type": "code",
      "execution_count": null,
      "metadata": {},
      "outputs": [],
      "source": [
        "# Localize the date for Chicago\ncentral = timezone('US/Central')\nloc_d = central.localize(d)\nprint(loc_d)"
      ]
    },
    {
      "cell_type": "markdown",
      "metadata": {},
      "source": [
        "\u4e00\u65e6\u65e5\u671f\u88ab\u672c\u5730\u5316\u4e86\uff0c \u5b83\u5c31\u53ef\u4ee5\u8f6c\u6362\u4e3a\u5176\u4ed6\u65f6\u533a\u7684\u65f6\u95f4\u4e86\u3002\n\u4e3a\u4e86\u5f97\u5230\u73ed\u52a0\u7f57\u5c14\u5bf9\u5e94\u7684\u65f6\u95f4\uff0c\u4f60\u53ef\u4ee5\u8fd9\u6837\u505a\uff1a"
      ]
    },
    {
      "cell_type": "code",
      "execution_count": null,
      "metadata": {},
      "outputs": [],
      "source": [
        "# Convert to Bangalore time\nbang_d = loc_d.astimezone(timezone('Asia/Kolkata'))\nprint(bang_d)"
      ]
    },
    {
      "cell_type": "markdown",
      "metadata": {},
      "source": [
        "\u5982\u679c\u4f60\u6253\u7b97\u5728\u672c\u5730\u5316\u65e5\u671f\u4e0a\u6267\u884c\u8ba1\u7b97\uff0c\u4f60\u9700\u8981\u7279\u522b\u6ce8\u610f\u590f\u4ee4\u65f6\u8f6c\u6362\u548c\u5176\u4ed6\u7ec6\u8282\u3002\n\u6bd4\u5982\uff0c\u57282013\u5e74\uff0c\u7f8e\u56fd\u6807\u51c6\u590f\u4ee4\u65f6\u65f6\u95f4\u5f00\u59cb\u4e8e\u672c\u5730\u65f6\u95f43\u670813\u65e5\u51cc\u66682:00(\u5728\u90a3\u65f6\uff0c\u65f6\u95f4\u5411\u524d\u8df3\u8fc7\u4e00\u5c0f\u65f6)\u3002\n\u5982\u679c\u4f60\u6b63\u5728\u6267\u884c\u672c\u5730\u8ba1\u7b97\uff0c\u4f60\u4f1a\u5f97\u5230\u4e00\u4e2a\u9519\u8bef\u3002\u6bd4\u5982\uff1a"
      ]
    },
    {
      "cell_type": "code",
      "execution_count": null,
      "metadata": {},
      "outputs": [],
      "source": [
        "d = datetime(2013, 3, 10, 1, 45)\nloc_d = central.localize(d)\nprint(loc_d)"
      ]
    },
    {
      "cell_type": "code",
      "execution_count": null,
      "metadata": {},
      "outputs": [],
      "source": [
        "later = loc_d + timedelta(minutes=30)\nprint(later)"
      ]
    },
    {
      "cell_type": "markdown",
      "metadata": {},
      "source": [
        "\u7ed3\u679c\u9519\u8bef\u662f\u56e0\u4e3a\u5b83\u5e76\u6ca1\u6709\u8003\u8651\u5728\u672c\u5730\u65f6\u95f4\u4e2d\u6709\u4e00\u5c0f\u65f6\u7684\u8df3\u8dc3\u3002\n\u4e3a\u4e86\u4fee\u6b63\u8fd9\u4e2a\u9519\u8bef\uff0c\u53ef\u4ee5\u4f7f\u7528\u65f6\u533a\u5bf9\u8c61 normalize() \u65b9\u6cd5\u3002\u6bd4\u5982\uff1a"
      ]
    },
    {
      "cell_type": "code",
      "execution_count": null,
      "metadata": {},
      "outputs": [],
      "source": [
        "from datetime import timedelta\nlater = central.normalize(loc_d + timedelta(minutes=30))\nprint(later)"
      ]
    },
    {
      "cell_type": "markdown",
      "metadata": {},
      "source": [
        "### \u8ba8\u8bba\n"
      ]
    },
    {
      "cell_type": "markdown",
      "metadata": {},
      "source": [
        "\u4e3a\u4e86\u4e0d\u8ba9\u4f60\u88ab\u8fd9\u4e9b\u4e1c\u4e1c\u5f04\u7684\u6655\u5934\u8f6c\u5411\uff0c\u5904\u7406\u672c\u5730\u5316\u65e5\u671f\u7684\u901a\u5e38\u7684\u7b56\u7565\u5148\u5c06\u6240\u6709\u65e5\u671f\u8f6c\u6362\u4e3aUTC\u65f6\u95f4\uff0c\n\u5e76\u7528\u5b83\u6765\u6267\u884c\u6240\u6709\u7684\u4e2d\u95f4\u5b58\u50a8\u548c\u64cd\u4f5c\u3002\u6bd4\u5982\uff1a"
      ]
    },
    {
      "cell_type": "code",
      "execution_count": null,
      "metadata": {},
      "outputs": [],
      "source": [
        "print(loc_d)"
      ]
    },
    {
      "cell_type": "code",
      "execution_count": null,
      "metadata": {},
      "outputs": [],
      "source": [
        "utc_d = loc_d.astimezone(pytz.utc)\nprint(utc_d)"
      ]
    },
    {
      "cell_type": "markdown",
      "metadata": {},
      "source": [
        "\u4e00\u65e6\u8f6c\u6362\u4e3aUTC\uff0c\u4f60\u5c31\u4e0d\u7528\u53bb\u62c5\u5fc3\u8ddf\u590f\u4ee4\u65f6\u76f8\u5173\u7684\u95ee\u9898\u4e86\u3002\n\u56e0\u6b64\uff0c\u4f60\u53ef\u4ee5\u8ddf\u4e4b\u524d\u4e00\u6837\u653e\u5fc3\u7684\u6267\u884c\u5e38\u89c1\u7684\u65e5\u671f\u8ba1\u7b97\u3002\n\u5f53\u4f60\u60f3\u5c06\u8f93\u51fa\u53d8\u4e3a\u672c\u5730\u65f6\u95f4\u7684\u65f6\u5019\uff0c\u4f7f\u7528\u5408\u9002\u7684\u65f6\u533a\u53bb\u8f6c\u6362\u4e0b\u5c31\u884c\u4e86\u3002\u6bd4\u5982\uff1a"
      ]
    },
    {
      "cell_type": "code",
      "execution_count": null,
      "metadata": {},
      "outputs": [],
      "source": [
        "later_utc = utc_d + timedelta(minutes=30)\nprint(later_utc.astimezone(central))"
      ]
    },
    {
      "cell_type": "markdown",
      "metadata": {},
      "source": [
        "\u5f53\u6d89\u53ca\u5230\u65f6\u533a\u64cd\u4f5c\u7684\u65f6\u5019\uff0c\u6709\u4e2a\u95ee\u9898\u5c31\u662f\u6211\u4eec\u5982\u4f55\u5f97\u5230\u65f6\u533a\u7684\u540d\u79f0\u3002\n\u6bd4\u5982\uff0c\u5728\u8fd9\u4e2a\u4f8b\u5b50\u4e2d\uff0c\u6211\u4eec\u5982\u4f55\u77e5\u9053\u201cAsia/Kolkata\u201d\u5c31\u662f\u5370\u5ea6\u5bf9\u5e94\u7684\u65f6\u533a\u540d\u5462\uff1f\n\u4e3a\u4e86\u67e5\u627e\uff0c\u53ef\u4ee5\u4f7f\u7528ISO 3166\u56fd\u5bb6\u4ee3\u7801\u4f5c\u4e3a\u5173\u952e\u5b57\u53bb\u67e5\u9605\u5b57\u5178 pytz.country_timezones \u3002\u6bd4\u5982\uff1a"
      ]
    },
    {
      "cell_type": "code",
      "execution_count": null,
      "metadata": {},
      "outputs": [],
      "source": [
        "pytz.country_timezones['IN']"
      ]
    },
    {
      "cell_type": "markdown",
      "metadata": {},
      "source": [
        "\u6ce8\uff1a\u5f53\u4f60\u9605\u8bfb\u5230\u8fd9\u91cc\u7684\u65f6\u5019\uff0c\u6709\u53ef\u80fd pytz \u6a21\u5757\u5df2\u7ecf\u4e0d\u518d\u5efa\u8bae\u4f7f\u7528\u4e86\uff0c\u56e0\u4e3aPEP431\u63d0\u51fa\u4e86\u66f4\u5148\u8fdb\u7684\u65f6\u533a\u652f\u6301\u3002\n\u4f46\u662f\u8fd9\u91cc\u8c08\u5230\u7684\u5f88\u591a\u95ee\u9898\u8fd8\u662f\u6709\u53c2\u8003\u4ef7\u503c\u7684(\u6bd4\u5982\u4f7f\u7528UTC\u65e5\u671f\u7684\u5efa\u8bae\u7b49)\u3002"
      ]
    }
  ],
  "metadata": {
    "kernelspec": {
      "display_name": "Python 3",
      "language": "python",
      "name": "python3"
    },
    "language_info": {
      "codemirror_mode": {
        "name": "ipython",
        "version": 3
      },
      "file_extension": ".py",
      "mimetype": "text/x-python",
      "name": "python",
      "nbconvert_exporter": "python",
      "pygments_lexer": "ipython3",
      "version": "3.7.1"
    },
    "toc": {
      "base_numbering": 1,
      "nav_menu": {},
      "number_sections": true,
      "sideBar": true,
      "skip_h1_title": true,
      "title_cell": "Table of Contents",
      "title_sidebar": "Contents",
      "toc_cell": false,
      "toc_position": {},
      "toc_section_display": true,
      "toc_window_display": true
    }
  },
  "nbformat": 4,
  "nbformat_minor": 2
}