{
  "cells": [
    {
      "cell_type": "markdown",
      "metadata": {},
      "source": [
        "## 1.18 \u6620\u5c04\u540d\u79f0\u5230\u5e8f\u5217\u5143\u7d20\n"
      ]
    },
    {
      "cell_type": "markdown",
      "metadata": {},
      "source": [
        "### \u95ee\u9898\n"
      ]
    },
    {
      "cell_type": "markdown",
      "metadata": {},
      "source": [
        "\u4f60\u6709\u4e00\u6bb5\u901a\u8fc7\u4e0b\u6807\u8bbf\u95ee\u5217\u8868\u6216\u8005\u5143\u7ec4\u4e2d\u5143\u7d20\u7684\u4ee3\u7801\uff0c\u4f46\u662f\u8fd9\u6837\u6709\u65f6\u5019\u4f1a\u4f7f\u5f97\u4f60\u7684\u4ee3\u7801\u96be\u4ee5\u9605\u8bfb\uff0c\n\u4e8e\u662f\u4f60\u60f3\u901a\u8fc7\u540d\u79f0\u6765\u8bbf\u95ee\u5143\u7d20\u3002"
      ]
    },
    {
      "cell_type": "markdown",
      "metadata": {},
      "source": [
        "### \u89e3\u51b3\u65b9\u6848\n"
      ]
    },
    {
      "cell_type": "markdown",
      "metadata": {},
      "source": [
        "collections.namedtuple() \u51fd\u6570\u901a\u8fc7\u4f7f\u7528\u4e00\u4e2a\u666e\u901a\u7684\u5143\u7ec4\u5bf9\u8c61\u6765\u5e2e\u4f60\u89e3\u51b3\u8fd9\u4e2a\u95ee\u9898\u3002\n\u8fd9\u4e2a\u51fd\u6570\u5b9e\u9645\u4e0a\u662f\u4e00\u4e2a\u8fd4\u56de Python \u4e2d\u6807\u51c6\u5143\u7ec4\u7c7b\u578b\u5b50\u7c7b\u7684\u4e00\u4e2a\u5de5\u5382\u65b9\u6cd5\u3002\n\u4f60\u9700\u8981\u4f20\u9012\u4e00\u4e2a\u7c7b\u578b\u540d\u548c\u4f60\u9700\u8981\u7684\u5b57\u6bb5\u7ed9\u5b83\uff0c\u7136\u540e\u5b83\u5c31\u4f1a\u8fd4\u56de\u4e00\u4e2a\u7c7b\uff0c\u4f60\u53ef\u4ee5\u521d\u59cb\u5316\u8fd9\u4e2a\u7c7b\uff0c\u4e3a\u4f60\u5b9a\u4e49\u7684\u5b57\u6bb5\u4f20\u9012\u503c\u7b49\u3002\n\u4ee3\u7801\u793a\u4f8b\uff1a"
      ]
    },
    {
      "cell_type": "code",
      "execution_count": null,
      "metadata": {},
      "outputs": [],
      "source": [
        "from collections import namedtuple\nSubscriber = namedtuple('Subscriber', ['addr', 'joined'])\nsub = Subscriber('jonesy@example.com', '2012-10-19')\nsub"
      ]
    },
    {
      "cell_type": "code",
      "execution_count": null,
      "metadata": {},
      "outputs": [],
      "source": [
        "sub.addr"
      ]
    },
    {
      "cell_type": "code",
      "execution_count": null,
      "metadata": {},
      "outputs": [],
      "source": [
        "sub.joined"
      ]
    },
    {
      "cell_type": "markdown",
      "metadata": {},
      "source": [
        "\u5c3d\u7ba1 namedtuple \u7684\u5b9e\u4f8b\u770b\u8d77\u6765\u50cf\u4e00\u4e2a\u666e\u901a\u7684\u7c7b\u5b9e\u4f8b\uff0c\u4f46\u662f\u5b83\u8ddf\u5143\u7ec4\u7c7b\u578b\u662f\u53ef\u4ea4\u6362\u7684\uff0c\u652f\u6301\u6240\u6709\u7684\u666e\u901a\u5143\u7ec4\u64cd\u4f5c\uff0c\u6bd4\u5982\u7d22\u5f15\u548c\u89e3\u538b\u3002\n\u6bd4\u5982\uff1a"
      ]
    },
    {
      "cell_type": "code",
      "execution_count": null,
      "metadata": {},
      "outputs": [],
      "source": [
        "len(sub)"
      ]
    },
    {
      "cell_type": "code",
      "execution_count": null,
      "metadata": {},
      "outputs": [],
      "source": [
        "addr, joined = sub\naddr"
      ]
    },
    {
      "cell_type": "code",
      "execution_count": null,
      "metadata": {},
      "outputs": [],
      "source": [
        "joined"
      ]
    },
    {
      "cell_type": "markdown",
      "metadata": {},
      "source": [
        "\u547d\u540d\u5143\u7ec4\u7684\u4e00\u4e2a\u4e3b\u8981\u7528\u9014\u662f\u5c06\u4f60\u7684\u4ee3\u7801\u4ece\u4e0b\u6807\u64cd\u4f5c\u4e2d\u89e3\u8131\u51fa\u6765\u3002\n\u56e0\u6b64\uff0c\u5982\u679c\u4f60\u4ece\u6570\u636e\u5e93\u8c03\u7528\u4e2d\u8fd4\u56de\u4e86\u4e00\u4e2a\u5f88\u5927\u7684\u5143\u7ec4\u5217\u8868\uff0c\u901a\u8fc7\u4e0b\u6807\u53bb\u64cd\u4f5c\u5176\u4e2d\u7684\u5143\u7d20\uff0c\n\u5f53\u4f60\u5728\u8868\u4e2d\u6dfb\u52a0\u4e86\u65b0\u7684\u5217\u7684\u65f6\u5019\u4f60\u7684\u4ee3\u7801\u53ef\u80fd\u5c31\u4f1a\u51fa\u9519\u4e86\u3002\u4f46\u662f\u5982\u679c\u4f60\u4f7f\u7528\u4e86\u547d\u540d\u5143\u7ec4\uff0c\u90a3\u4e48\u5c31\u4e0d\u4f1a\u6709\u8fd9\u6837\u7684\u987e\u8651\u3002"
      ]
    },
    {
      "cell_type": "markdown",
      "metadata": {},
      "source": [
        "\u4e3a\u4e86\u8bf4\u660e\u6e05\u695a\uff0c\u4e0b\u9762\u662f\u4f7f\u7528\u666e\u901a\u5143\u7ec4\u7684\u4ee3\u7801\uff1a"
      ]
    },
    {
      "cell_type": "code",
      "execution_count": null,
      "metadata": {},
      "outputs": [],
      "source": [
        "def compute_cost(records):\n    total = 0.0\n    for rec in records:\n        total += rec[1] * rec[2]\n    return total"
      ]
    },
    {
      "cell_type": "markdown",
      "metadata": {},
      "source": [
        "\u4e0b\u6807\u64cd\u4f5c\u901a\u5e38\u4f1a\u8ba9\u4ee3\u7801\u8868\u610f\u4e0d\u6e05\u6670\uff0c\u5e76\u4e14\u975e\u5e38\u4f9d\u8d56\u8bb0\u5f55\u7684\u7ed3\u6784\u3002\n\u4e0b\u9762\u662f\u4f7f\u7528\u547d\u540d\u5143\u7ec4\u7684\u7248\u672c\uff1a"
      ]
    },
    {
      "cell_type": "code",
      "execution_count": null,
      "metadata": {},
      "outputs": [],
      "source": [
        "from collections import namedtuple\n\nStock = namedtuple('Stock', ['name', 'shares', 'price'])\ndef compute_cost(records):\n    total = 0.0\n    for rec in records:\n        s = Stock(*rec)\n        total += s.shares * s.price\n    return total"
      ]
    },
    {
      "cell_type": "markdown",
      "metadata": {},
      "source": [
        "### \u8ba8\u8bba\n"
      ]
    },
    {
      "cell_type": "markdown",
      "metadata": {},
      "source": [
        "\u547d\u540d\u5143\u7ec4\u53e6\u4e00\u4e2a\u7528\u9014\u5c31\u662f\u4f5c\u4e3a\u5b57\u5178\u7684\u66ff\u4ee3\uff0c\u56e0\u4e3a\u5b57\u5178\u5b58\u50a8\u9700\u8981\u66f4\u591a\u7684\u5185\u5b58\u7a7a\u95f4\u3002\n\u5982\u679c\u4f60\u9700\u8981\u6784\u5efa\u4e00\u4e2a\u975e\u5e38\u5927\u7684\u5305\u542b\u5b57\u5178\u7684\u6570\u636e\u7ed3\u6784\uff0c\u90a3\u4e48\u4f7f\u7528\u547d\u540d\u5143\u7ec4\u4f1a\u66f4\u52a0\u9ad8\u6548\u3002\n\u4f46\u662f\u9700\u8981\u6ce8\u610f\u7684\u662f\uff0c\u4e0d\u50cf\u5b57\u5178\u90a3\u6837\uff0c\u4e00\u4e2a\u547d\u540d\u5143\u7ec4\u662f\u4e0d\u53ef\u66f4\u6539\u7684\u3002\u6bd4\u5982\uff1a"
      ]
    },
    {
      "cell_type": "code",
      "execution_count": null,
      "metadata": {},
      "outputs": [],
      "source": [
        "s = Stock('ACME', 100, 123.45)\ns"
      ]
    },
    {
      "cell_type": "code",
      "execution_count": null,
      "metadata": {},
      "outputs": [],
      "source": [
        "s.shares = 75"
      ]
    },
    {
      "cell_type": "markdown",
      "metadata": {},
      "source": [
        "\u5982\u679c\u4f60\u771f\u7684\u9700\u8981\u6539\u53d8\u5c5e\u6027\u7684\u503c\uff0c\u90a3\u4e48\u53ef\u4ee5\u4f7f\u7528\u547d\u540d\u5143\u7ec4\u5b9e\u4f8b\u7684 _replace() \u65b9\u6cd5\uff0c\n\u5b83\u4f1a\u521b\u5efa\u4e00\u4e2a\u5168\u65b0\u7684\u547d\u540d\u5143\u7ec4\u5e76\u5c06\u5bf9\u5e94\u7684\u5b57\u6bb5\u7528\u65b0\u7684\u503c\u53d6\u4ee3\u3002\u6bd4\u5982\uff1a"
      ]
    },
    {
      "cell_type": "code",
      "execution_count": null,
      "metadata": {},
      "outputs": [],
      "source": [
        "s = s._replace(shares=75)\ns"
      ]
    },
    {
      "cell_type": "markdown",
      "metadata": {},
      "source": [
        "_replace() \u65b9\u6cd5\u8fd8\u6709\u4e00\u4e2a\u5f88\u6709\u7528\u7684\u7279\u6027\u5c31\u662f\u5f53\u4f60\u7684\u547d\u540d\u5143\u7ec4\u62e5\u6709\u53ef\u9009\u6216\u8005\u7f3a\u5931\u5b57\u6bb5\u65f6\u5019\uff0c\n\u5b83\u662f\u4e00\u4e2a\u975e\u5e38\u65b9\u4fbf\u7684\u586b\u5145\u6570\u636e\u7684\u65b9\u6cd5\u3002\n\u4f60\u53ef\u4ee5\u5148\u521b\u5efa\u4e00\u4e2a\u5305\u542b\u7f3a\u7701\u503c\u7684\u539f\u578b\u5143\u7ec4\uff0c\u7136\u540e\u4f7f\u7528 _replace() \u65b9\u6cd5\u521b\u5efa\u65b0\u7684\u503c\u88ab\u66f4\u65b0\u8fc7\u7684\u5b9e\u4f8b\u3002\u6bd4\u5982\uff1a"
      ]
    },
    {
      "cell_type": "code",
      "execution_count": null,
      "metadata": {},
      "outputs": [],
      "source": [
        "from collections import namedtuple\n\nStock = namedtuple('Stock', ['name', 'shares', 'price', 'date', 'time'])\n\n# Create a prototype instance\nstock_prototype = Stock('', 0, 0.0, None, None)\n\n# Function to convert a dictionary to a Stock\ndef dict_to_stock(s):\n    return stock_prototype._replace(**s)"
      ]
    },
    {
      "cell_type": "markdown",
      "metadata": {},
      "source": [
        "\u4e0b\u9762\u662f\u5b83\u7684\u4f7f\u7528\u65b9\u6cd5\uff1a"
      ]
    },
    {
      "cell_type": "code",
      "execution_count": null,
      "metadata": {},
      "outputs": [],
      "source": [
        "a = {'name': 'ACME', 'shares': 100, 'price': 123.45}\ndict_to_stock(a)"
      ]
    },
    {
      "cell_type": "code",
      "execution_count": null,
      "metadata": {},
      "outputs": [],
      "source": [
        "b = {'name': 'ACME', 'shares': 100, 'price': 123.45, 'date': '12/17/2012'}\ndict_to_stock(b)"
      ]
    },
    {
      "cell_type": "markdown",
      "metadata": {},
      "source": [
        "\u6700\u540e\u8981\u8bf4\u7684\u662f\uff0c\u5982\u679c\u4f60\u7684\u76ee\u6807\u662f\u5b9a\u4e49\u4e00\u4e2a\u9700\u8981\u66f4\u65b0\u5f88\u591a\u5b9e\u4f8b\u5c5e\u6027\u7684\u9ad8\u6548\u6570\u636e\u7ed3\u6784\uff0c\u90a3\u4e48\u547d\u540d\u5143\u7ec4\u5e76\u4e0d\u662f\u4f60\u7684\u6700\u4f73\u9009\u62e9\u3002\n\u8fd9\u65f6\u5019\u4f60\u5e94\u8be5\u8003\u8651\u5b9a\u4e49\u4e00\u4e2a\u5305\u542b __slots__ \u65b9\u6cd5\u7684\u7c7b\uff08\u53c2\u80038.4\u5c0f\u8282\uff09\u3002"
      ]
    }
  ],
  "metadata": {
    "kernelspec": {
      "display_name": "Python 3",
      "language": "python",
      "name": "python3"
    },
    "language_info": {
      "codemirror_mode": {
        "name": "ipython",
        "version": 3
      },
      "file_extension": ".py",
      "mimetype": "text/x-python",
      "name": "python",
      "nbconvert_exporter": "python",
      "pygments_lexer": "ipython3",
      "version": "3.7.1"
    },
    "toc": {
      "base_numbering": 1,
      "nav_menu": {},
      "number_sections": true,
      "sideBar": true,
      "skip_h1_title": true,
      "title_cell": "Table of Contents",
      "title_sidebar": "Contents",
      "toc_cell": false,
      "toc_position": {},
      "toc_section_display": true,
      "toc_window_display": true
    }
  },
  "nbformat": 4,
  "nbformat_minor": 2
}