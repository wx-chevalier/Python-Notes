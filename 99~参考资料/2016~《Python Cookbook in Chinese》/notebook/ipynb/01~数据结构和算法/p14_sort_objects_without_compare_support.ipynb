{
  "cells": [
    {
      "cell_type": "markdown",
      "metadata": {},
      "source": [
        "## 1.14 \u6392\u5e8f\u4e0d\u652f\u6301\u539f\u751f\u6bd4\u8f83\u7684\u5bf9\u8c61\n"
      ]
    },
    {
      "cell_type": "markdown",
      "metadata": {},
      "source": [
        "### \u95ee\u9898\n"
      ]
    },
    {
      "cell_type": "markdown",
      "metadata": {},
      "source": [
        "\u4f60\u60f3\u6392\u5e8f\u7c7b\u578b\u76f8\u540c\u7684\u5bf9\u8c61\uff0c\u4f46\u662f\u4ed6\u4eec\u4e0d\u652f\u6301\u539f\u751f\u7684\u6bd4\u8f83\u64cd\u4f5c\u3002"
      ]
    },
    {
      "cell_type": "markdown",
      "metadata": {},
      "source": [
        "### \u89e3\u51b3\u65b9\u6848\n"
      ]
    },
    {
      "cell_type": "markdown",
      "metadata": {},
      "source": [
        "\u5185\u7f6e\u7684 sorted() \u51fd\u6570\u6709\u4e00\u4e2a\u5173\u952e\u5b57\u53c2\u6570 key \uff0c\u53ef\u4ee5\u4f20\u5165\u4e00\u4e2a callable \u5bf9\u8c61\u7ed9\u5b83\uff0c\n\u8fd9\u4e2a callable \u5bf9\u8c61\u5bf9\u6bcf\u4e2a\u4f20\u5165\u7684\u5bf9\u8c61\u8fd4\u56de\u4e00\u4e2a\u503c\uff0c\u8fd9\u4e2a\u503c\u4f1a\u88ab sorted \u7528\u6765\u6392\u5e8f\u8fd9\u4e9b\u5bf9\u8c61\u3002\n\u6bd4\u5982\uff0c\u5982\u679c\u4f60\u5728\u5e94\u7528\u7a0b\u5e8f\u91cc\u9762\u6709\u4e00\u4e2a User \u5b9e\u4f8b\u5e8f\u5217\uff0c\u5e76\u4e14\u4f60\u5e0c\u671b\u901a\u8fc7\u4ed6\u4eec\u7684 user_id \u5c5e\u6027\u8fdb\u884c\u6392\u5e8f\uff0c\n\u4f60\u53ef\u4ee5\u63d0\u4f9b\u4e00\u4e2a\u4ee5 User \u5b9e\u4f8b\u4f5c\u4e3a\u8f93\u5165\u5e76\u8f93\u51fa\u5bf9\u5e94 user_id \u503c\u7684 callable \u5bf9\u8c61\u3002\u6bd4\u5982\uff1a"
      ]
    },
    {
      "cell_type": "code",
      "execution_count": null,
      "metadata": {},
      "outputs": [],
      "source": [
        "class User:\n    def __init__(self, user_id):\n        self.user_id = user_id\n\n    def __repr__(self):\n        return 'User({})'.format(self.user_id)\n\n\ndef sort_notcompare():\n    users = [User(23), User(3), User(99)]\n    print(users)\n    print(sorted(users, key=lambda u: u.user_id))"
      ]
    },
    {
      "cell_type": "markdown",
      "metadata": {},
      "source": [
        "\u53e6\u5916\u4e00\u79cd\u65b9\u5f0f\u662f\u4f7f\u7528 operator.attrgetter() \u6765\u4ee3\u66ff lambda \u51fd\u6570\uff1a"
      ]
    },
    {
      "cell_type": "code",
      "execution_count": null,
      "metadata": {},
      "outputs": [],
      "source": [
        "from operator import attrgetter\nsorted(users, key=attrgetter('user_id'))"
      ]
    },
    {
      "cell_type": "markdown",
      "metadata": {},
      "source": [
        "### \u8ba8\u8bba\n"
      ]
    },
    {
      "cell_type": "markdown",
      "metadata": {},
      "source": [
        "\u9009\u62e9\u4f7f\u7528 lambda \u51fd\u6570\u6216\u8005\u662f attrgetter() \u53ef\u80fd\u53d6\u51b3\u4e8e\u4e2a\u4eba\u559c\u597d\u3002\n\u4f46\u662f\uff0c attrgetter() \u51fd\u6570\u901a\u5e38\u4f1a\u8fd0\u884c\u7684\u5feb\u70b9\uff0c\u5e76\u4e14\u8fd8\u80fd\u540c\u65f6\u5141\u8bb8\u591a\u4e2a\u5b57\u6bb5\u8fdb\u884c\u6bd4\u8f83\u3002\n\u8fd9\u4e2a\u8ddf operator.itemgetter() \u51fd\u6570\u4f5c\u7528\u4e8e\u5b57\u5178\u7c7b\u578b\u5f88\u7c7b\u4f3c\uff08\u53c2\u80031.13\u5c0f\u8282\uff09\u3002\n\u4f8b\u5982\uff0c\u5982\u679c User \u5b9e\u4f8b\u8fd8\u6709\u4e00\u4e2a first_name \u548c last_name \u5c5e\u6027\uff0c\u90a3\u4e48\u53ef\u4ee5\u5411\u4e0b\u9762\u8fd9\u6837\u6392\u5e8f\uff1a"
      ]
    },
    {
      "cell_type": "code",
      "execution_count": null,
      "metadata": {},
      "outputs": [],
      "source": [
        "by_name = sorted(users, key=attrgetter('last_name', 'first_name'))"
      ]
    },
    {
      "cell_type": "markdown",
      "metadata": {},
      "source": [
        "\u540c\u6837\u9700\u8981\u6ce8\u610f\u7684\u662f\uff0c\u8fd9\u4e00\u5c0f\u8282\u7528\u5230\u7684\u6280\u672f\u540c\u6837\u9002\u7528\u4e8e\u50cf min() \u548c max() \u4e4b\u7c7b\u7684\u51fd\u6570\u3002\u6bd4\u5982\uff1a"
      ]
    },
    {
      "cell_type": "code",
      "execution_count": null,
      "metadata": {},
      "outputs": [],
      "source": [
        "min(users, key=attrgetter('user_id'))"
      ]
    },
    {
      "cell_type": "code",
      "execution_count": null,
      "metadata": {},
      "outputs": [],
      "source": [
        "max(users, key=attrgetter('user_id'))"
      ]
    }
  ],
  "metadata": {
    "kernelspec": {
      "display_name": "Python 3",
      "language": "python",
      "name": "python3"
    },
    "language_info": {
      "codemirror_mode": {
        "name": "ipython",
        "version": 3
      },
      "file_extension": ".py",
      "mimetype": "text/x-python",
      "name": "python",
      "nbconvert_exporter": "python",
      "pygments_lexer": "ipython3",
      "version": "3.7.1"
    },
    "toc": {
      "base_numbering": 1,
      "nav_menu": {},
      "number_sections": true,
      "sideBar": true,
      "skip_h1_title": true,
      "title_cell": "Table of Contents",
      "title_sidebar": "Contents",
      "toc_cell": false,
      "toc_position": {},
      "toc_section_display": true,
      "toc_window_display": true
    }
  },
  "nbformat": 4,
  "nbformat_minor": 2
}