{
  "cells": [
    {
      "cell_type": "markdown",
      "metadata": {},
      "source": [
        "## 1.10 \u5220\u9664\u5e8f\u5217\u76f8\u540c\u5143\u7d20\u5e76\u4fdd\u6301\u987a\u5e8f\n"
      ]
    },
    {
      "cell_type": "markdown",
      "metadata": {},
      "source": [
        "### \u95ee\u9898\n"
      ]
    },
    {
      "cell_type": "markdown",
      "metadata": {},
      "source": [
        "\u600e\u6837\u5728\u4e00\u4e2a\u5e8f\u5217\u4e0a\u9762\u4fdd\u6301\u5143\u7d20\u987a\u5e8f\u7684\u540c\u65f6\u6d88\u9664\u91cd\u590d\u7684\u503c\uff1f"
      ]
    },
    {
      "cell_type": "markdown",
      "metadata": {},
      "source": [
        "### \u89e3\u51b3\u65b9\u6848\n"
      ]
    },
    {
      "cell_type": "markdown",
      "metadata": {},
      "source": [
        "\u5982\u679c\u5e8f\u5217\u4e0a\u7684\u503c\u90fd\u662f hashable \u7c7b\u578b\uff0c\u90a3\u4e48\u53ef\u4ee5\u5f88\u7b80\u5355\u7684\u5229\u7528\u96c6\u5408\u6216\u8005\u751f\u6210\u5668\u6765\u89e3\u51b3\u8fd9\u4e2a\u95ee\u9898\u3002\u6bd4\u5982\uff1a"
      ]
    },
    {
      "cell_type": "code",
      "execution_count": null,
      "metadata": {},
      "outputs": [],
      "source": [
        "def dedupe(items):\n    seen = set()\n    for item in items:\n        if item not in seen:\n            yield item\n            seen.add(item)"
      ]
    },
    {
      "cell_type": "markdown",
      "metadata": {},
      "source": [
        "\u4e0b\u9762\u662f\u4f7f\u7528\u4e0a\u8ff0\u51fd\u6570\u7684\u4f8b\u5b50\uff1a"
      ]
    },
    {
      "cell_type": "code",
      "execution_count": null,
      "metadata": {},
      "outputs": [],
      "source": [
        "a = [1, 5, 2, 1, 9, 1, 5, 10]\nlist(dedupe(a))"
      ]
    },
    {
      "cell_type": "markdown",
      "metadata": {},
      "source": [
        "\u8fd9\u4e2a\u65b9\u6cd5\u4ec5\u4ec5\u5728\u5e8f\u5217\u4e2d\u5143\u7d20\u4e3a hashable \u7684\u65f6\u5019\u624d\u7ba1\u7528\u3002\n\u5982\u679c\u4f60\u60f3\u6d88\u9664\u5143\u7d20\u4e0d\u53ef\u54c8\u5e0c\uff08\u6bd4\u5982 dict \u7c7b\u578b\uff09\u7684\u5e8f\u5217\u4e2d\u91cd\u590d\u5143\u7d20\u7684\u8bdd\uff0c\u4f60\u9700\u8981\u5c06\u4e0a\u8ff0\u4ee3\u7801\u7a0d\u5fae\u6539\u53d8\u4e00\u4e0b\uff0c\u5c31\u50cf\u8fd9\u6837\uff1a"
      ]
    },
    {
      "cell_type": "code",
      "execution_count": null,
      "metadata": {},
      "outputs": [],
      "source": [
        "def dedupe(items, key=None):\n    seen = set()\n    for item in items:\n        val = item if key is None else key(item)\n        if val not in seen:\n            yield item\n            seen.add(val)"
      ]
    },
    {
      "cell_type": "markdown",
      "metadata": {},
      "source": [
        "\u8fd9\u91cc\u7684key\u53c2\u6570\u6307\u5b9a\u4e86\u4e00\u4e2a\u51fd\u6570\uff0c\u5c06\u5e8f\u5217\u5143\u7d20\u8f6c\u6362\u6210 hashable \u7c7b\u578b\u3002\u4e0b\u9762\u662f\u5b83\u7684\u7528\u6cd5\u793a\u4f8b\uff1a"
      ]
    },
    {
      "cell_type": "code",
      "execution_count": null,
      "metadata": {},
      "outputs": [],
      "source": [
        "a = [ {'x':1, 'y':2}, {'x':1, 'y':3}, {'x':1, 'y':2}, {'x':2, 'y':4}]\nlist(dedupe(a, key=lambda d: (d['x'],d['y'])))"
      ]
    },
    {
      "cell_type": "code",
      "execution_count": null,
      "metadata": {},
      "outputs": [],
      "source": [
        "list(dedupe(a, key=lambda d: d['x']))"
      ]
    },
    {
      "cell_type": "markdown",
      "metadata": {},
      "source": [
        "\u5982\u679c\u4f60\u60f3\u57fa\u4e8e\u5355\u4e2a\u5b57\u6bb5\u3001\u5c5e\u6027\u6216\u8005\u67d0\u4e2a\u66f4\u5927\u7684\u6570\u636e\u7ed3\u6784\u6765\u6d88\u9664\u91cd\u590d\u5143\u7d20\uff0c\u7b2c\u4e8c\u79cd\u65b9\u6848\u540c\u6837\u53ef\u4ee5\u80dc\u4efb\u3002"
      ]
    },
    {
      "cell_type": "markdown",
      "metadata": {},
      "source": [
        "### \u8ba8\u8bba\n"
      ]
    },
    {
      "cell_type": "markdown",
      "metadata": {},
      "source": [
        "\u5982\u679c\u4f60\u4ec5\u4ec5\u5c31\u662f\u60f3\u6d88\u9664\u91cd\u590d\u5143\u7d20\uff0c\u901a\u5e38\u53ef\u4ee5\u7b80\u5355\u7684\u6784\u9020\u4e00\u4e2a\u96c6\u5408\u3002\u6bd4\u5982\uff1a"
      ]
    },
    {
      "cell_type": "code",
      "execution_count": null,
      "metadata": {},
      "outputs": [],
      "source": [
        "a"
      ]
    },
    {
      "cell_type": "code",
      "execution_count": null,
      "metadata": {},
      "outputs": [],
      "source": [
        "set(a)"
      ]
    },
    {
      "cell_type": "markdown",
      "metadata": {},
      "source": [
        "\u7136\u800c\uff0c\u8fd9\u79cd\u65b9\u6cd5\u4e0d\u80fd\u7ef4\u62a4\u5143\u7d20\u7684\u987a\u5e8f\uff0c\u751f\u6210\u7684\u7ed3\u679c\u4e2d\u7684\u5143\u7d20\u4f4d\u7f6e\u88ab\u6253\u4e71\u3002\u800c\u4e0a\u9762\u7684\u65b9\u6cd5\u53ef\u4ee5\u907f\u514d\u8fd9\u79cd\u60c5\u51b5\u3002"
      ]
    },
    {
      "cell_type": "markdown",
      "metadata": {},
      "source": [
        "\u5728\u672c\u8282\u4e2d\u6211\u4eec\u4f7f\u7528\u4e86\u751f\u6210\u5668\u51fd\u6570\u8ba9\u6211\u4eec\u7684\u51fd\u6570\u66f4\u52a0\u901a\u7528\uff0c\u4e0d\u4ec5\u4ec5\u662f\u5c40\u9650\u4e8e\u5217\u8868\u5904\u7406\u3002\n\u6bd4\u5982\uff0c\u5982\u679c\u5982\u679c\u4f60\u60f3\u8bfb\u53d6\u4e00\u4e2a\u6587\u4ef6\uff0c\u6d88\u9664\u91cd\u590d\u884c\uff0c\u4f60\u53ef\u4ee5\u5f88\u5bb9\u6613\u50cf\u8fd9\u6837\u505a\uff1a"
      ]
    },
    {
      "cell_type": "code",
      "execution_count": null,
      "metadata": {},
      "outputs": [],
      "source": [
        "with open(somefile,'r') as f:\nfor line in dedupe(f):\n    ..."
      ]
    },
    {
      "cell_type": "markdown",
      "metadata": {},
      "source": [
        "\u4e0a\u8ff0key\u51fd\u6570\u53c2\u6570\u6a21\u4eff\u4e86 sorted() , min() \u548c max() \u7b49\u5185\u7f6e\u51fd\u6570\u7684\u76f8\u4f3c\u529f\u80fd\u3002\n\u53ef\u4ee5\u53c2\u8003 1.8 \u548c 1.13 \u5c0f\u8282\u4e86\u89e3\u66f4\u591a\u3002"
      ]
    }
  ],
  "metadata": {
    "kernelspec": {
      "display_name": "Python 3",
      "language": "python",
      "name": "python3"
    },
    "language_info": {
      "codemirror_mode": {
        "name": "ipython",
        "version": 3
      },
      "file_extension": ".py",
      "mimetype": "text/x-python",
      "name": "python",
      "nbconvert_exporter": "python",
      "pygments_lexer": "ipython3",
      "version": "3.7.1"
    },
    "toc": {
      "base_numbering": 1,
      "nav_menu": {},
      "number_sections": true,
      "sideBar": true,
      "skip_h1_title": true,
      "title_cell": "Table of Contents",
      "title_sidebar": "Contents",
      "toc_cell": false,
      "toc_position": {},
      "toc_section_display": true,
      "toc_window_display": true
    }
  },
  "nbformat": 4,
  "nbformat_minor": 2
}