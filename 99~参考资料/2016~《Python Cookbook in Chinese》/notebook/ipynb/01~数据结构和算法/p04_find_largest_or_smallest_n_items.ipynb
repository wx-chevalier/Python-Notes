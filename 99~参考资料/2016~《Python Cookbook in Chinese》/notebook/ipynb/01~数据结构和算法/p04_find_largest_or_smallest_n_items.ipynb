{
  "cells": [
    {
      "cell_type": "markdown",
      "metadata": {},
      "source": [
        "## 1.4 \u67e5\u627e\u6700\u5927\u6216\u6700\u5c0f\u7684 N \u4e2a\u5143\u7d20\n"
      ]
    },
    {
      "cell_type": "markdown",
      "metadata": {},
      "source": [
        "### \u95ee\u9898\n"
      ]
    },
    {
      "cell_type": "markdown",
      "metadata": {},
      "source": [
        "\u600e\u6837\u4ece\u4e00\u4e2a\u96c6\u5408\u4e2d\u83b7\u5f97\u6700\u5927\u6216\u8005\u6700\u5c0f\u7684 N \u4e2a\u5143\u7d20\u5217\u8868\uff1f"
      ]
    },
    {
      "cell_type": "markdown",
      "metadata": {},
      "source": [
        "### \u89e3\u51b3\u65b9\u6848\n"
      ]
    },
    {
      "cell_type": "markdown",
      "metadata": {},
      "source": [
        "heapq \u6a21\u5757\u6709\u4e24\u4e2a\u51fd\u6570\uff1anlargest() \u548c nsmallest() \u53ef\u4ee5\u5b8c\u7f8e\u89e3\u51b3\u8fd9\u4e2a\u95ee\u9898\u3002"
      ]
    },
    {
      "cell_type": "code",
      "execution_count": null,
      "metadata": {},
      "outputs": [],
      "source": [
        "import heapq\nnums = [1, 8, 2, 23, 7, -4, 18, 23, 42, 37, 2]\nprint(heapq.nlargest(3, nums)) # Prints [42, 37, 23]\nprint(heapq.nsmallest(3, nums)) # Prints [-4, 1, 2]"
      ]
    },
    {
      "cell_type": "markdown",
      "metadata": {},
      "source": [
        "\u4e24\u4e2a\u51fd\u6570\u90fd\u80fd\u63a5\u53d7\u4e00\u4e2a\u5173\u952e\u5b57\u53c2\u6570\uff0c\u7528\u4e8e\u66f4\u590d\u6742\u7684\u6570\u636e\u7ed3\u6784\u4e2d\uff1a"
      ]
    },
    {
      "cell_type": "code",
      "execution_count": null,
      "metadata": {},
      "outputs": [],
      "source": [
        "portfolio = [\n    {'name': 'IBM', 'shares': 100, 'price': 91.1},\n    {'name': 'AAPL', 'shares': 50, 'price': 543.22},\n    {'name': 'FB', 'shares': 200, 'price': 21.09},\n    {'name': 'HPQ', 'shares': 35, 'price': 31.75},\n    {'name': 'YHOO', 'shares': 45, 'price': 16.35},\n    {'name': 'ACME', 'shares': 75, 'price': 115.65}\n]\ncheap = heapq.nsmallest(3, portfolio, key=lambda s: s['price'])\nexpensive = heapq.nlargest(3, portfolio, key=lambda s: s['price'])"
      ]
    },
    {
      "cell_type": "markdown",
      "metadata": {},
      "source": [
        "\u8bd1\u8005\u6ce8\uff1a\u4e0a\u9762\u4ee3\u7801\u5728\u5bf9\u6bcf\u4e2a\u5143\u7d20\u8fdb\u884c\u5bf9\u6bd4\u7684\u65f6\u5019\uff0c\u4f1a\u4ee5 price \u7684\u503c\u8fdb\u884c\u6bd4\u8f83\u3002"
      ]
    },
    {
      "cell_type": "markdown",
      "metadata": {},
      "source": [
        "### \u8ba8\u8bba\n"
      ]
    },
    {
      "cell_type": "markdown",
      "metadata": {},
      "source": [
        "\u5982\u679c\u4f60\u60f3\u5728\u4e00\u4e2a\u96c6\u5408\u4e2d\u67e5\u627e\u6700\u5c0f\u6216\u6700\u5927\u7684 N \u4e2a\u5143\u7d20\uff0c\u5e76\u4e14 N \u5c0f\u4e8e\u96c6\u5408\u5143\u7d20\u6570\u91cf\uff0c\u90a3\u4e48\u8fd9\u4e9b\u51fd\u6570\u63d0\u4f9b\u4e86\u5f88\u597d\u7684\u6027\u80fd\u3002\n\u56e0\u4e3a\u5728\u5e95\u5c42\u5b9e\u73b0\u91cc\u9762\uff0c\u9996\u5148\u4f1a\u5148\u5c06\u96c6\u5408\u6570\u636e\u8fdb\u884c\u5806\u6392\u5e8f\u540e\u653e\u5165\u4e00\u4e2a\u5217\u8868\u4e2d\uff1a"
      ]
    },
    {
      "cell_type": "code",
      "execution_count": null,
      "metadata": {},
      "outputs": [],
      "source": [
        "nums = [1, 8, 2, 23, 7, -4, 18, 23, 42, 37, 2]\nimport heapq\nheap = list(nums)\nheapq.heapify(heap)\nheap"
      ]
    },
    {
      "cell_type": "markdown",
      "metadata": {},
      "source": [
        "\u5806\u6570\u636e\u7ed3\u6784\u6700\u91cd\u8981\u7684\u7279\u5f81\u662f heap[0] \u6c38\u8fdc\u662f\u6700\u5c0f\u7684\u5143\u7d20\u3002\u5e76\u4e14\u5269\u4f59\u7684\u5143\u7d20\u53ef\u4ee5\u5f88\u5bb9\u6613\u7684\u901a\u8fc7\u8c03\u7528 heapq.heappop() \u65b9\u6cd5\u5f97\u5230\uff0c\n\u8be5\u65b9\u6cd5\u4f1a\u5148\u5c06\u7b2c\u4e00\u4e2a\u5143\u7d20\u5f39\u51fa\u6765\uff0c\u7136\u540e\u7528\u4e0b\u4e00\u4e2a\u6700\u5c0f\u7684\u5143\u7d20\u6765\u53d6\u4ee3\u88ab\u5f39\u51fa\u5143\u7d20\uff08\u8fd9\u79cd\u64cd\u4f5c\u65f6\u95f4\u590d\u6742\u5ea6\u4ec5\u4ec5\u662f O(log N)\uff0cN \u662f\u5806\u5927\u5c0f\uff09\u3002\n\u6bd4\u5982\uff0c\u5982\u679c\u60f3\u8981\u67e5\u627e\u6700\u5c0f\u7684 3 \u4e2a\u5143\u7d20\uff0c\u4f60\u53ef\u4ee5\u8fd9\u6837\u505a\uff1a"
      ]
    },
    {
      "cell_type": "code",
      "execution_count": null,
      "metadata": {},
      "outputs": [],
      "source": [
        "heapq.heappop(heap)"
      ]
    },
    {
      "cell_type": "code",
      "execution_count": null,
      "metadata": {},
      "outputs": [],
      "source": [
        "heapq.heappop(heap)"
      ]
    },
    {
      "cell_type": "code",
      "execution_count": null,
      "metadata": {},
      "outputs": [],
      "source": [
        "heapq.heappop(heap)"
      ]
    },
    {
      "cell_type": "markdown",
      "metadata": {},
      "source": [
        "\u5f53\u8981\u67e5\u627e\u7684\u5143\u7d20\u4e2a\u6570\u76f8\u5bf9\u6bd4\u8f83\u5c0f\u7684\u65f6\u5019\uff0c\u51fd\u6570 nlargest() \u548c nsmallest() \u662f\u5f88\u5408\u9002\u7684\u3002\n\u5982\u679c\u4f60\u4ec5\u4ec5\u60f3\u67e5\u627e\u552f\u4e00\u7684\u6700\u5c0f\u6216\u6700\u5927\uff08N=1\uff09\u7684\u5143\u7d20\u7684\u8bdd\uff0c\u90a3\u4e48\u4f7f\u7528 min() \u548c max() \u51fd\u6570\u4f1a\u66f4\u5feb\u4e9b\u3002\n\u7c7b\u4f3c\u7684\uff0c\u5982\u679c N \u7684\u5927\u5c0f\u548c\u96c6\u5408\u5927\u5c0f\u63a5\u8fd1\u7684\u65f6\u5019\uff0c\u901a\u5e38\u5148\u6392\u5e8f\u8fd9\u4e2a\u96c6\u5408\u7136\u540e\u518d\u4f7f\u7528\u5207\u7247\u64cd\u4f5c\u4f1a\u66f4\u5feb\u70b9\n\uff08 sorted(items)[:N] \u6216\u8005\u662f sorted(items)[-N:] \uff09\u3002\n\u9700\u8981\u5728\u6b63\u786e\u573a\u5408\u4f7f\u7528\u51fd\u6570 nlargest() \u548c nsmallest() \u624d\u80fd\u53d1\u6325\u5b83\u4eec\u7684\u4f18\u52bf\n\uff08\u5982\u679c N \u5feb\u63a5\u8fd1\u96c6\u5408\u5927\u5c0f\u4e86\uff0c\u90a3\u4e48\u4f7f\u7528\u6392\u5e8f\u64cd\u4f5c\u4f1a\u66f4\u597d\u4e9b\uff09\u3002"
      ]
    },
    {
      "cell_type": "markdown",
      "metadata": {},
      "source": [
        "\u5c3d\u7ba1\u4f60\u6ca1\u6709\u5fc5\u8981\u4e00\u5b9a\u4f7f\u7528\u8fd9\u91cc\u7684\u65b9\u6cd5\uff0c\u4f46\u662f\u5806\u6570\u636e\u7ed3\u6784\u7684\u5b9e\u73b0\u662f\u4e00\u4e2a\u5f88\u6709\u8da3\u5e76\u4e14\u503c\u5f97\u4f60\u6df1\u5165\u5b66\u4e60\u7684\u4e1c\u897f\u3002\n\u57fa\u672c\u4e0a\u53ea\u8981\u662f\u6570\u636e\u7ed3\u6784\u548c\u7b97\u6cd5\u4e66\u7c4d\u91cc\u9762\u90fd\u4f1a\u6709\u63d0\u53ca\u5230\u3002\nheapq \u6a21\u5757\u7684\u5b98\u65b9\u6587\u6863\u91cc\u9762\u4e5f\u8be6\u7ec6\u7684\u4ecb\u7ecd\u4e86\u5806\u6570\u636e\u7ed3\u6784\u5e95\u5c42\u7684\u5b9e\u73b0\u7ec6\u8282\u3002"
      ]
    }
  ],
  "metadata": {
    "kernelspec": {
      "display_name": "Python 3",
      "language": "python",
      "name": "python3"
    },
    "language_info": {
      "codemirror_mode": {
        "name": "ipython",
        "version": 3
      },
      "file_extension": ".py",
      "mimetype": "text/x-python",
      "name": "python",
      "nbconvert_exporter": "python",
      "pygments_lexer": "ipython3",
      "version": "3.7.1"
    },
    "toc": {
      "base_numbering": 1,
      "nav_menu": {},
      "number_sections": true,
      "sideBar": true,
      "skip_h1_title": true,
      "title_cell": "Table of Contents",
      "title_sidebar": "Contents",
      "toc_cell": false,
      "toc_position": {},
      "toc_section_display": true,
      "toc_window_display": true
    }
  },
  "nbformat": 4,
  "nbformat_minor": 2
}