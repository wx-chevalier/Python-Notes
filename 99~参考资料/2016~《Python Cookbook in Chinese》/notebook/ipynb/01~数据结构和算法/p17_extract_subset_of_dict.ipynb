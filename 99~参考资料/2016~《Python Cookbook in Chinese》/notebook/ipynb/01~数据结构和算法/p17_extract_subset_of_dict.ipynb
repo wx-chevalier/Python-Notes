{
  "cells": [
    {
      "cell_type": "markdown",
      "metadata": {},
      "source": [
        "## 1.17 \u4ece\u5b57\u5178\u4e2d\u63d0\u53d6\u5b50\u96c6\n"
      ]
    },
    {
      "cell_type": "markdown",
      "metadata": {},
      "source": [
        "### \u95ee\u9898\n"
      ]
    },
    {
      "cell_type": "markdown",
      "metadata": {},
      "source": [
        "\u4f60\u60f3\u6784\u9020\u4e00\u4e2a\u5b57\u5178\uff0c\u5b83\u662f\u53e6\u5916\u4e00\u4e2a\u5b57\u5178\u7684\u5b50\u96c6\u3002"
      ]
    },
    {
      "cell_type": "markdown",
      "metadata": {},
      "source": [
        "### \u89e3\u51b3\u65b9\u6848\n"
      ]
    },
    {
      "cell_type": "markdown",
      "metadata": {},
      "source": [
        "\u6700\u7b80\u5355\u7684\u65b9\u5f0f\u662f\u4f7f\u7528\u5b57\u5178\u63a8\u5bfc\u3002\u6bd4\u5982\uff1a"
      ]
    },
    {
      "cell_type": "code",
      "execution_count": null,
      "metadata": {},
      "outputs": [],
      "source": [
        "prices = {\n    'ACME': 45.23,\n    'AAPL': 612.78,\n    'IBM': 205.55,\n    'HPQ': 37.20,\n    'FB': 10.75\n}\n# Make a dictionary of all prices over 200\np1 = {key: value for key, value in prices.items() if value > 200}\n# Make a dictionary of tech stocks\ntech_names = {'AAPL', 'IBM', 'HPQ', 'MSFT'}\np2 = {key: value for key, value in prices.items() if key in tech_names}"
      ]
    },
    {
      "cell_type": "markdown",
      "metadata": {},
      "source": [
        "### \u8ba8\u8bba\n"
      ]
    },
    {
      "cell_type": "markdown",
      "metadata": {},
      "source": [
        "\u5927\u591a\u6570\u60c5\u51b5\u4e0b\u5b57\u5178\u63a8\u5bfc\u80fd\u505a\u5230\u7684\uff0c\u901a\u8fc7\u521b\u5efa\u4e00\u4e2a\u5143\u7ec4\u5e8f\u5217\u7136\u540e\u628a\u5b83\u4f20\u7ed9 dict() \u51fd\u6570\u4e5f\u80fd\u5b9e\u73b0\u3002\u6bd4\u5982\uff1a"
      ]
    },
    {
      "cell_type": "code",
      "execution_count": null,
      "metadata": {},
      "outputs": [],
      "source": [
        "p1 = dict((key, value) for key, value in prices.items() if value > 200)"
      ]
    },
    {
      "cell_type": "markdown",
      "metadata": {},
      "source": [
        "\u4f46\u662f\uff0c\u5b57\u5178\u63a8\u5bfc\u65b9\u5f0f\u8868\u610f\u66f4\u6e05\u6670\uff0c\u5e76\u4e14\u5b9e\u9645\u4e0a\u4e5f\u4f1a\u8fd0\u884c\u7684\u66f4\u5feb\u4e9b\n\uff08\u5728\u8fd9\u4e2a\u4f8b\u5b50\u4e2d\uff0c\u5b9e\u9645\u6d4b\u8bd5\u51e0\u4e4e\u6bd4 dict() \u51fd\u6570\u65b9\u5f0f\u5feb\u6574\u6574\u4e00\u500d\uff09\u3002"
      ]
    },
    {
      "cell_type": "markdown",
      "metadata": {},
      "source": [
        "\u6709\u65f6\u5019\u5b8c\u6210\u540c\u4e00\u4ef6\u4e8b\u4f1a\u6709\u591a\u79cd\u65b9\u5f0f\u3002\u6bd4\u5982\uff0c\u7b2c\u4e8c\u4e2a\u4f8b\u5b50\u7a0b\u5e8f\u4e5f\u53ef\u4ee5\u50cf\u8fd9\u6837\u91cd\u5199\uff1a"
      ]
    },
    {
      "cell_type": "code",
      "execution_count": null,
      "metadata": {},
      "outputs": [],
      "source": [
        "# Make a dictionary of tech stocks\ntech_names = { 'AAPL', 'IBM', 'HPQ', 'MSFT' }\np2 = { key:prices[key] for key in prices.keys() & tech_names }"
      ]
    },
    {
      "cell_type": "markdown",
      "metadata": {},
      "source": [
        "\u4f46\u662f\uff0c\u8fd0\u884c\u65f6\u95f4\u6d4b\u8bd5\u7ed3\u679c\u663e\u793a\u8fd9\u79cd\u65b9\u6848\u5927\u6982\u6bd4\u7b2c\u4e00\u79cd\u65b9\u6848\u6162 1.6 \u500d\u3002\n\u5982\u679c\u5bf9\u7a0b\u5e8f\u8fd0\u884c\u6027\u80fd\u8981\u6c42\u6bd4\u8f83\u9ad8\u7684\u8bdd\uff0c\u9700\u8981\u82b1\u70b9\u65f6\u95f4\u53bb\u505a\u8ba1\u65f6\u6d4b\u8bd5\u3002\n\u5173\u4e8e\u66f4\u591a\u8ba1\u65f6\u548c\u6027\u80fd\u6d4b\u8bd5\uff0c\u53ef\u4ee5\u53c2\u8003 14.13 \u5c0f\u8282\u3002"
      ]
    }
  ],
  "metadata": {
    "kernelspec": {
      "display_name": "Python 3",
      "language": "python",
      "name": "python3"
    },
    "language_info": {
      "codemirror_mode": {
        "name": "ipython",
        "version": 3
      },
      "file_extension": ".py",
      "mimetype": "text/x-python",
      "name": "python",
      "nbconvert_exporter": "python",
      "pygments_lexer": "ipython3",
      "version": "3.7.1"
    },
    "toc": {
      "base_numbering": 1,
      "nav_menu": {},
      "number_sections": true,
      "sideBar": true,
      "skip_h1_title": true,
      "title_cell": "Table of Contents",
      "title_sidebar": "Contents",
      "toc_cell": false,
      "toc_position": {},
      "toc_section_display": true,
      "toc_window_display": true
    }
  },
  "nbformat": 4,
  "nbformat_minor": 2
}