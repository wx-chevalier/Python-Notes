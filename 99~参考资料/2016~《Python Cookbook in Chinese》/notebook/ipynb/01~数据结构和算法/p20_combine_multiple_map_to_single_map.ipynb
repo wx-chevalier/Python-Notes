{
  "cells": [
    {
      "cell_type": "markdown",
      "metadata": {},
      "source": [
        "## 1.20 \u5408\u5e76\u591a\u4e2a\u5b57\u5178\u6216\u6620\u5c04\n"
      ]
    },
    {
      "cell_type": "markdown",
      "metadata": {},
      "source": [
        "### \u95ee\u9898\n"
      ]
    },
    {
      "cell_type": "markdown",
      "metadata": {},
      "source": [
        "\u73b0\u5728\u6709\u591a\u4e2a\u5b57\u5178\u6216\u8005\u6620\u5c04\uff0c\u4f60\u60f3\u5c06\u5b83\u4eec\u4ece\u903b\u8f91\u4e0a\u5408\u5e76\u4e3a\u4e00\u4e2a\u5355\u4e00\u7684\u6620\u5c04\u540e\u6267\u884c\u67d0\u4e9b\u64cd\u4f5c\uff0c\n\u6bd4\u5982\u67e5\u627e\u503c\u6216\u8005\u68c0\u67e5\u67d0\u4e9b\u952e\u662f\u5426\u5b58\u5728\u3002"
      ]
    },
    {
      "cell_type": "markdown",
      "metadata": {},
      "source": [
        "### \u89e3\u51b3\u65b9\u6848\n"
      ]
    },
    {
      "cell_type": "markdown",
      "metadata": {},
      "source": [
        "\u5047\u5982\u4f60\u6709\u5982\u4e0b\u4e24\u4e2a\u5b57\u5178:"
      ]
    },
    {
      "cell_type": "code",
      "execution_count": null,
      "metadata": {},
      "outputs": [],
      "source": [
        "a = {'x': 1, 'z': 3 }\nb = {'y': 2, 'z': 4 }"
      ]
    },
    {
      "cell_type": "markdown",
      "metadata": {},
      "source": [
        "\u73b0\u5728\u5047\u8bbe\u4f60\u5fc5\u987b\u5728\u4e24\u4e2a\u5b57\u5178\u4e2d\u6267\u884c\u67e5\u627e\u64cd\u4f5c\uff08\u6bd4\u5982\u5148\u4ece a \u4e2d\u627e\uff0c\u5982\u679c\u627e\u4e0d\u5230\u518d\u5728 b \u4e2d\u627e\uff09\u3002\n\u4e00\u4e2a\u975e\u5e38\u7b80\u5355\u7684\u89e3\u51b3\u65b9\u6848\u5c31\u662f\u4f7f\u7528 collections \u6a21\u5757\u4e2d\u7684 ChainMap \u7c7b\u3002\u6bd4\u5982\uff1a"
      ]
    },
    {
      "cell_type": "code",
      "execution_count": null,
      "metadata": {},
      "outputs": [],
      "source": [
        "from collections import ChainMap\nc = ChainMap(a,b)\nprint(c['x']) # Outputs 1 (from a)\nprint(c['y']) # Outputs 2 (from b)\nprint(c['z']) # Outputs 3 (from a)"
      ]
    },
    {
      "cell_type": "markdown",
      "metadata": {},
      "source": [
        "### \u8ba8\u8bba\n"
      ]
    },
    {
      "cell_type": "markdown",
      "metadata": {},
      "source": [
        "\u4e00\u4e2a ChainMap \u63a5\u53d7\u591a\u4e2a\u5b57\u5178\u5e76\u5c06\u5b83\u4eec\u5728\u903b\u8f91\u4e0a\u53d8\u4e3a\u4e00\u4e2a\u5b57\u5178\u3002\n\u7136\u540e\uff0c\u8fd9\u4e9b\u5b57\u5178\u5e76\u4e0d\u662f\u771f\u7684\u5408\u5e76\u5728\u4e00\u8d77\u4e86\uff0c ChainMap \u7c7b\u53ea\u662f\u5728\u5185\u90e8\u521b\u5efa\u4e86\u4e00\u4e2a\u5bb9\u7eb3\u8fd9\u4e9b\u5b57\u5178\u7684\u5217\u8868\n\u5e76\u91cd\u65b0\u5b9a\u4e49\u4e86\u4e00\u4e9b\u5e38\u89c1\u7684\u5b57\u5178\u64cd\u4f5c\u6765\u904d\u5386\u8fd9\u4e2a\u5217\u8868\u3002\u5927\u90e8\u5206\u5b57\u5178\u64cd\u4f5c\u90fd\u662f\u53ef\u4ee5\u6b63\u5e38\u4f7f\u7528\u7684\uff0c\u6bd4\u5982\uff1a"
      ]
    },
    {
      "cell_type": "code",
      "execution_count": null,
      "metadata": {},
      "outputs": [],
      "source": [
        "len(c)"
      ]
    },
    {
      "cell_type": "code",
      "execution_count": null,
      "metadata": {},
      "outputs": [],
      "source": [
        "list(c.keys())"
      ]
    },
    {
      "cell_type": "code",
      "execution_count": null,
      "metadata": {},
      "outputs": [],
      "source": [
        "list(c.values())"
      ]
    },
    {
      "cell_type": "markdown",
      "metadata": {},
      "source": [
        "\u5982\u679c\u51fa\u73b0\u91cd\u590d\u952e\uff0c\u90a3\u4e48\u7b2c\u4e00\u6b21\u51fa\u73b0\u7684\u6620\u5c04\u503c\u4f1a\u88ab\u8fd4\u56de\u3002\n\u56e0\u6b64\uff0c\u4f8b\u5b50\u7a0b\u5e8f\u4e2d\u7684 c['z'] \u603b\u662f\u4f1a\u8fd4\u56de\u5b57\u5178 a \u4e2d\u5bf9\u5e94\u7684\u503c\uff0c\u800c\u4e0d\u662f b \u4e2d\u5bf9\u5e94\u7684\u503c\u3002"
      ]
    },
    {
      "cell_type": "markdown",
      "metadata": {},
      "source": [
        "\u5bf9\u4e8e\u5b57\u5178\u7684\u66f4\u65b0\u6216\u5220\u9664\u64cd\u4f5c\u603b\u662f\u5f71\u54cd\u7684\u662f\u5217\u8868\u4e2d\u7b2c\u4e00\u4e2a\u5b57\u5178\u3002\u6bd4\u5982\uff1a"
      ]
    },
    {
      "cell_type": "code",
      "execution_count": null,
      "metadata": {},
      "outputs": [],
      "source": [
        "c['z'] = 10\nc['w'] = 40\ndel c['x']\na"
      ]
    },
    {
      "cell_type": "code",
      "execution_count": null,
      "metadata": {},
      "outputs": [],
      "source": [
        "del c['y']"
      ]
    },
    {
      "cell_type": "markdown",
      "metadata": {},
      "source": [
        "ChainMap \u5bf9\u4e8e\u7f16\u7a0b\u8bed\u8a00\u4e2d\u7684\u4f5c\u7528\u8303\u56f4\u53d8\u91cf\uff08\u6bd4\u5982 globals , locals \u7b49\uff09\u662f\u975e\u5e38\u6709\u7528\u7684\u3002\n\u4e8b\u5b9e\u4e0a\uff0c\u6709\u4e00\u4e9b\u65b9\u6cd5\u53ef\u4ee5\u4f7f\u5b83\u53d8\u5f97\u7b80\u5355\uff1a"
      ]
    },
    {
      "cell_type": "code",
      "execution_count": null,
      "metadata": {},
      "outputs": [],
      "source": [
        "values = ChainMap()\nvalues['x'] = 1\n# Add a new mapping\nvalues = values.new_child()\nvalues['x'] = 2\n# Add a new mapping\nvalues = values.new_child()\nvalues['x'] = 3\nvalues"
      ]
    },
    {
      "cell_type": "code",
      "execution_count": null,
      "metadata": {},
      "outputs": [],
      "source": [
        "values['x']"
      ]
    },
    {
      "cell_type": "code",
      "execution_count": null,
      "metadata": {},
      "outputs": [],
      "source": [
        "# Discard last mapping\nvalues = values.parents\nvalues['x']"
      ]
    },
    {
      "cell_type": "code",
      "execution_count": null,
      "metadata": {},
      "outputs": [],
      "source": [
        "# Discard last mapping\nvalues = values.parents\nvalues['x']"
      ]
    },
    {
      "cell_type": "code",
      "execution_count": null,
      "metadata": {},
      "outputs": [],
      "source": [
        "values"
      ]
    },
    {
      "cell_type": "markdown",
      "metadata": {},
      "source": [
        "\u4f5c\u4e3a ChainMap \u7684\u66ff\u4ee3\uff0c\u4f60\u53ef\u80fd\u4f1a\u8003\u8651\u4f7f\u7528 update() \u65b9\u6cd5\u5c06\u4e24\u4e2a\u5b57\u5178\u5408\u5e76\u3002\u6bd4\u5982\uff1a"
      ]
    },
    {
      "cell_type": "code",
      "execution_count": null,
      "metadata": {},
      "outputs": [],
      "source": [
        "a = {'x': 1, 'z': 3 }\nb = {'y': 2, 'z': 4 }\nmerged = dict(b)\nmerged.update(a)\nmerged['x']"
      ]
    },
    {
      "cell_type": "code",
      "execution_count": null,
      "metadata": {},
      "outputs": [],
      "source": [
        "merged['y']"
      ]
    },
    {
      "cell_type": "code",
      "execution_count": null,
      "metadata": {},
      "outputs": [],
      "source": [
        "merged['z']"
      ]
    },
    {
      "cell_type": "markdown",
      "metadata": {},
      "source": [
        "\u8fd9\u6837\u4e5f\u80fd\u884c\u5f97\u901a\uff0c\u4f46\u662f\u5b83\u9700\u8981\u4f60\u521b\u5efa\u4e00\u4e2a\u5b8c\u5168\u4e0d\u540c\u7684\u5b57\u5178\u5bf9\u8c61\uff08\u6216\u8005\u662f\u7834\u574f\u73b0\u6709\u5b57\u5178\u7ed3\u6784\uff09\u3002\n\u540c\u65f6\uff0c\u5982\u679c\u539f\u5b57\u5178\u505a\u4e86\u66f4\u65b0\uff0c\u8fd9\u79cd\u6539\u53d8\u4e0d\u4f1a\u53cd\u5e94\u5230\u65b0\u7684\u5408\u5e76\u5b57\u5178\u4e2d\u53bb\u3002\u6bd4\u5982\uff1a"
      ]
    },
    {
      "cell_type": "code",
      "execution_count": null,
      "metadata": {},
      "outputs": [],
      "source": [
        "a['x'] = 13\nmerged['x']"
      ]
    },
    {
      "cell_type": "markdown",
      "metadata": {},
      "source": [
        "ChainMap \u4f7f\u7528\u539f\u6765\u7684\u5b57\u5178\uff0c\u5b83\u81ea\u5df1\u4e0d\u521b\u5efa\u65b0\u7684\u5b57\u5178\u3002\u6240\u4ee5\u5b83\u5e76\u4e0d\u4f1a\u4ea7\u751f\u4e0a\u9762\u6240\u8bf4\u7684\u7ed3\u679c\uff0c\u6bd4\u5982\uff1a"
      ]
    },
    {
      "cell_type": "code",
      "execution_count": null,
      "metadata": {},
      "outputs": [],
      "source": [
        "a = {'x': 1, 'z': 3 }\nb = {'y': 2, 'z': 4 }\nmerged = ChainMap(a, b)\nmerged['x']"
      ]
    },
    {
      "cell_type": "code",
      "execution_count": null,
      "metadata": {},
      "outputs": [],
      "source": [
        "a['x'] = 42\nmerged['x'] # Notice change to merged dicts"
      ]
    }
  ],
  "metadata": {
    "kernelspec": {
      "display_name": "Python 3",
      "language": "python",
      "name": "python3"
    },
    "language_info": {
      "codemirror_mode": {
        "name": "ipython",
        "version": 3
      },
      "file_extension": ".py",
      "mimetype": "text/x-python",
      "name": "python",
      "nbconvert_exporter": "python",
      "pygments_lexer": "ipython3",
      "version": "3.7.1"
    },
    "toc": {
      "base_numbering": 1,
      "nav_menu": {},
      "number_sections": true,
      "sideBar": true,
      "skip_h1_title": true,
      "title_cell": "Table of Contents",
      "title_sidebar": "Contents",
      "toc_cell": false,
      "toc_position": {},
      "toc_section_display": true,
      "toc_window_display": true
    }
  },
  "nbformat": 4,
  "nbformat_minor": 2
}