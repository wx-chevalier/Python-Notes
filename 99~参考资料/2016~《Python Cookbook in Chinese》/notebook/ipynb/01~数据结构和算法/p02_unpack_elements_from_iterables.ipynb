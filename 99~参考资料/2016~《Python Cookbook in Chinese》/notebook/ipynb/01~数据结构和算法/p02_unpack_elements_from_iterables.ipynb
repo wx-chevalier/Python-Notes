{
  "cells": [
    {
      "cell_type": "markdown",
      "metadata": {},
      "source": [
        "## 1.2 \u89e3\u538b\u53ef\u8fed\u4ee3\u5bf9\u8c61\u8d4b\u503c\u7ed9\u591a\u4e2a\u53d8\u91cf\n"
      ]
    },
    {
      "cell_type": "markdown",
      "metadata": {},
      "source": [
        "### \u95ee\u9898\n"
      ]
    },
    {
      "cell_type": "markdown",
      "metadata": {},
      "source": [
        "\u5982\u679c\u4e00\u4e2a\u53ef\u8fed\u4ee3\u5bf9\u8c61\u7684\u5143\u7d20\u4e2a\u6570\u8d85\u8fc7\u53d8\u91cf\u4e2a\u6570\u65f6\uff0c\u4f1a\u629b\u51fa\u4e00\u4e2a ValueError \u3002\n\u90a3\u4e48\u600e\u6837\u624d\u80fd\u4ece\u8fd9\u4e2a\u53ef\u8fed\u4ee3\u5bf9\u8c61\u4e2d\u89e3\u538b\u51fa N \u4e2a\u5143\u7d20\u51fa\u6765\uff1f"
      ]
    },
    {
      "cell_type": "markdown",
      "metadata": {},
      "source": [
        "### \u89e3\u51b3\u65b9\u6848\n"
      ]
    },
    {
      "cell_type": "markdown",
      "metadata": {},
      "source": [
        "Python \u7684\u661f\u53f7\u8868\u8fbe\u5f0f\u53ef\u4ee5\u7528\u6765\u89e3\u51b3\u8fd9\u4e2a\u95ee\u9898\u3002\u6bd4\u5982\uff0c\u4f60\u5728\u5b66\u4e60\u4e00\u95e8\u8bfe\u7a0b\uff0c\u5728\u5b66\u671f\u672b\u7684\u65f6\u5019\uff0c\n\u4f60\u60f3\u7edf\u8ba1\u4e0b\u5bb6\u5ead\u4f5c\u4e1a\u7684\u5e73\u5747\u6210\u7ee9\uff0c\u4f46\u662f\u6392\u9664\u6389\u7b2c\u4e00\u4e2a\u548c\u6700\u540e\u4e00\u4e2a\u5206\u6570\u3002\u5982\u679c\u53ea\u6709\u56db\u4e2a\u5206\u6570\uff0c\u4f60\u53ef\u80fd\u5c31\u76f4\u63a5\u53bb\u7b80\u5355\u7684\u624b\u52a8\u8d4b\u503c\uff0c\n\u4f46\u5982\u679c\u6709 24 \u4e2a\u5462\uff1f\u8fd9\u65f6\u5019\u661f\u53f7\u8868\u8fbe\u5f0f\u5c31\u6d3e\u4e0a\u7528\u573a\u4e86\uff1a"
      ]
    },
    {
      "cell_type": "code",
      "execution_count": null,
      "metadata": {},
      "outputs": [],
      "source": [
        "def drop_first_last(grades):\n    first, *middle, last = grades\n    return avg(middle)"
      ]
    },
    {
      "cell_type": "markdown",
      "metadata": {},
      "source": [
        "\u53e6\u5916\u4e00\u79cd\u60c5\u51b5\uff0c\u5047\u8bbe\u4f60\u73b0\u5728\u6709\u4e00\u4e9b\u7528\u6237\u7684\u8bb0\u5f55\u5217\u8868\uff0c\u6bcf\u6761\u8bb0\u5f55\u5305\u542b\u4e00\u4e2a\u540d\u5b57\u3001\u90ae\u4ef6\uff0c\u63a5\u7740\u5c31\u662f\u4e0d\u786e\u5b9a\u6570\u91cf\u7684\u7535\u8bdd\u53f7\u7801\u3002\n\u4f60\u53ef\u4ee5\u50cf\u4e0b\u9762\u8fd9\u6837\u5206\u89e3\u8fd9\u4e9b\u8bb0\u5f55\uff1a"
      ]
    },
    {
      "cell_type": "code",
      "execution_count": null,
      "metadata": {},
      "outputs": [],
      "source": [
        "record = ('Dave', 'dave@example.com', '773-555-1212', '847-555-1212')\nname, email, *phone_numbers = record\nname"
      ]
    },
    {
      "cell_type": "code",
      "execution_count": null,
      "metadata": {},
      "outputs": [],
      "source": [
        "email"
      ]
    },
    {
      "cell_type": "code",
      "execution_count": null,
      "metadata": {},
      "outputs": [],
      "source": [
        "phone_numbers"
      ]
    },
    {
      "cell_type": "markdown",
      "metadata": {},
      "source": [
        "\u503c\u5f97\u6ce8\u610f\u7684\u662f\u4e0a\u9762\u89e3\u538b\u51fa\u7684 phone_numbers \u53d8\u91cf\u6c38\u8fdc\u90fd\u662f\u5217\u8868\u7c7b\u578b\uff0c\u4e0d\u7ba1\u89e3\u538b\u7684\u7535\u8bdd\u53f7\u7801\u6570\u91cf\u662f\u591a\u5c11\uff08\u5305\u62ec 0 \u4e2a\uff09\u3002\n\u6240\u4ee5\uff0c\u4efb\u4f55\u4f7f\u7528\u5230 phone_numbers \u53d8\u91cf\u7684\u4ee3\u7801\u5c31\u4e0d\u9700\u8981\u505a\u591a\u4f59\u7684\u7c7b\u578b\u68c0\u67e5\u53bb\u786e\u8ba4\u5b83\u662f\u5426\u662f\u5217\u8868\u7c7b\u578b\u4e86\u3002"
      ]
    },
    {
      "cell_type": "markdown",
      "metadata": {},
      "source": [
        "\u661f\u53f7\u8868\u8fbe\u5f0f\u4e5f\u80fd\u7528\u5728\u5217\u8868\u7684\u5f00\u59cb\u90e8\u5206\u3002\u6bd4\u5982\uff0c\u4f60\u6709\u4e00\u4e2a\u516c\u53f8\u524d 8 \u4e2a\u6708\u9500\u552e\u6570\u636e\u7684\u5e8f\u5217\uff0c\n\u4f46\u662f\u4f60\u60f3\u770b\u4e0b\u6700\u8fd1\u4e00\u4e2a\u6708\u6570\u636e\u548c\u524d\u9762 7 \u4e2a\u6708\u7684\u5e73\u5747\u503c\u7684\u5bf9\u6bd4\u3002\u4f60\u53ef\u4ee5\u8fd9\u6837\u505a\uff1a"
      ]
    },
    {
      "cell_type": "code",
      "execution_count": null,
      "metadata": {},
      "outputs": [],
      "source": [
        "*trailing_qtrs, current_qtr = sales_record\ntrailing_avg = sum(trailing_qtrs) / len(trailing_qtrs)\nreturn avg_comparison(trailing_avg, current_qtr)"
      ]
    },
    {
      "cell_type": "markdown",
      "metadata": {},
      "source": [
        "\u4e0b\u9762\u662f\u5728 Python \u89e3\u91ca\u5668\u4e2d\u6267\u884c\u7684\u7ed3\u679c\uff1a"
      ]
    },
    {
      "cell_type": "code",
      "execution_count": null,
      "metadata": {},
      "outputs": [],
      "source": [
        "*trailing, current = [10, 8, 7, 1, 9, 5, 10, 3]\ntrailing"
      ]
    },
    {
      "cell_type": "code",
      "execution_count": null,
      "metadata": {},
      "outputs": [],
      "source": [
        "current"
      ]
    },
    {
      "cell_type": "markdown",
      "metadata": {},
      "source": [
        "### \u8ba8\u8bba\n"
      ]
    },
    {
      "cell_type": "markdown",
      "metadata": {},
      "source": [
        "\u6269\u5c55\u7684\u8fed\u4ee3\u89e3\u538b\u8bed\u6cd5\u662f\u4e13\u95e8\u4e3a\u89e3\u538b\u4e0d\u786e\u5b9a\u4e2a\u6570\u6216\u4efb\u610f\u4e2a\u6570\u5143\u7d20\u7684\u53ef\u8fed\u4ee3\u5bf9\u8c61\u800c\u8bbe\u8ba1\u7684\u3002\n\u901a\u5e38\uff0c\u8fd9\u4e9b\u53ef\u8fed\u4ee3\u5bf9\u8c61\u7684\u5143\u7d20\u7ed3\u6784\u6709\u786e\u5b9a\u7684\u89c4\u5219\uff08\u6bd4\u5982\u7b2c 1 \u4e2a\u5143\u7d20\u540e\u9762\u90fd\u662f\u7535\u8bdd\u53f7\u7801\uff09\uff0c\n\u661f\u53f7\u8868\u8fbe\u5f0f\u8ba9\u5f00\u53d1\u4eba\u5458\u53ef\u4ee5\u5f88\u5bb9\u6613\u7684\u5229\u7528\u8fd9\u4e9b\u89c4\u5219\u6765\u89e3\u538b\u51fa\u5143\u7d20\u6765\u3002\n\u800c\u4e0d\u662f\u901a\u8fc7\u4e00\u4e9b\u6bd4\u8f83\u590d\u6742\u7684\u624b\u6bb5\u53bb\u83b7\u53d6\u8fd9\u4e9b\u5173\u8054\u7684\u5143\u7d20\u503c\u3002"
      ]
    },
    {
      "cell_type": "markdown",
      "metadata": {},
      "source": [
        "\u503c\u5f97\u6ce8\u610f\u7684\u662f\uff0c\u661f\u53f7\u8868\u8fbe\u5f0f\u5728\u8fed\u4ee3\u5143\u7d20\u4e3a\u53ef\u53d8\u957f\u5143\u7ec4\u7684\u5e8f\u5217\u65f6\u662f\u5f88\u6709\u7528\u7684\u3002\n\u6bd4\u5982\uff0c\u4e0b\u9762\u662f\u4e00\u4e2a\u5e26\u6709\u6807\u7b7e\u7684\u5143\u7ec4\u5e8f\u5217\uff1a"
      ]
    },
    {
      "cell_type": "code",
      "execution_count": null,
      "metadata": {},
      "outputs": [],
      "source": [
        "records = [\n    ('foo', 1, 2),\n    ('bar', 'hello'),\n    ('foo', 3, 4),\n]\n\ndef do_foo(x, y):\n    print('foo', x, y)\n\ndef do_bar(s):\n    print('bar', s)\n\nfor tag, *args in records:\n    if tag == 'foo':\n        do_foo(*args)\n    elif tag == 'bar':\n        do_bar(*args)"
      ]
    },
    {
      "cell_type": "markdown",
      "metadata": {},
      "source": [
        "\u661f\u53f7\u89e3\u538b\u8bed\u6cd5\u5728\u5b57\u7b26\u4e32\u64cd\u4f5c\u7684\u65f6\u5019\u4e5f\u4f1a\u5f88\u6709\u7528\uff0c\u6bd4\u5982\u5b57\u7b26\u4e32\u7684\u5206\u5272\u3002"
      ]
    },
    {
      "cell_type": "markdown",
      "metadata": {},
      "source": [
        "\u4ee3\u7801\u793a\u4f8b\uff1a"
      ]
    },
    {
      "cell_type": "code",
      "execution_count": null,
      "metadata": {},
      "outputs": [],
      "source": [
        "line = 'nobody:*:-2:-2:Unprivileged User:/var/empty:/usr/bin/false'\nuname, *fields, homedir, sh = line.split(':')\nuname"
      ]
    },
    {
      "cell_type": "code",
      "execution_count": null,
      "metadata": {},
      "outputs": [],
      "source": [
        "homedir"
      ]
    },
    {
      "cell_type": "code",
      "execution_count": null,
      "metadata": {},
      "outputs": [],
      "source": [
        "sh"
      ]
    },
    {
      "cell_type": "markdown",
      "metadata": {},
      "source": [
        "\u6709\u65f6\u5019\uff0c\u4f60\u60f3\u89e3\u538b\u4e00\u4e9b\u5143\u7d20\u540e\u4e22\u5f03\u5b83\u4eec\uff0c\u4f60\u4e0d\u80fd\u7b80\u5355\u5c31\u4f7f\u7528 * \uff0c\n\u4f46\u662f\u4f60\u53ef\u4ee5\u4f7f\u7528\u4e00\u4e2a\u666e\u901a\u7684\u5e9f\u5f03\u540d\u79f0\uff0c\u6bd4\u5982 _ \u6216\u8005 ign \uff08ignore\uff09\u3002"
      ]
    },
    {
      "cell_type": "markdown",
      "metadata": {},
      "source": [
        "\u4ee3\u7801\u793a\u4f8b\uff1a"
      ]
    },
    {
      "cell_type": "code",
      "execution_count": null,
      "metadata": {},
      "outputs": [],
      "source": [
        "record = ('ACME', 50, 123.45, (12, 18, 2012))\nname, *_, (*_, year) = record\nname"
      ]
    },
    {
      "cell_type": "code",
      "execution_count": null,
      "metadata": {},
      "outputs": [],
      "source": [
        "year"
      ]
    },
    {
      "cell_type": "markdown",
      "metadata": {},
      "source": [
        "\u5728\u5f88\u591a\u51fd\u6570\u5f0f\u8bed\u8a00\u4e2d\uff0c\u661f\u53f7\u89e3\u538b\u8bed\u6cd5\u8ddf\u5217\u8868\u5904\u7406\u6709\u8bb8\u591a\u76f8\u4f3c\u4e4b\u5904\u3002\u6bd4\u5982\uff0c\u5982\u679c\u4f60\u6709\u4e00\u4e2a\u5217\u8868\uff0c\n\u4f60\u53ef\u4ee5\u5f88\u5bb9\u6613\u7684\u5c06\u5b83\u5206\u5272\u6210\u524d\u540e\u4e24\u90e8\u5206\uff1a"
      ]
    },
    {
      "cell_type": "code",
      "execution_count": null,
      "metadata": {},
      "outputs": [],
      "source": [
        "items = [1, 10, 7, 4, 5, 9]\nhead, *tail = items\nhead"
      ]
    },
    {
      "cell_type": "code",
      "execution_count": null,
      "metadata": {},
      "outputs": [],
      "source": [
        "tail"
      ]
    },
    {
      "cell_type": "markdown",
      "metadata": {},
      "source": [
        "\u5982\u679c\u4f60\u591f\u806a\u660e\u7684\u8bdd\uff0c\u8fd8\u80fd\u7528\u8fd9\u79cd\u5206\u5272\u8bed\u6cd5\u53bb\u5de7\u5999\u7684\u5b9e\u73b0\u9012\u5f52\u7b97\u6cd5\u3002\u6bd4\u5982\uff1a"
      ]
    },
    {
      "cell_type": "code",
      "execution_count": null,
      "metadata": {},
      "outputs": [],
      "source": [
        "def sum(items):\n    head, *tail = items\n    return head + sum(tail) if tail else head\nsum(items)"
      ]
    },
    {
      "cell_type": "markdown",
      "metadata": {},
      "source": [
        "\u7136\u540e\uff0c\u7531\u4e8e\u8bed\u8a00\u5c42\u9762\u7684\u9650\u5236\uff0c\u9012\u5f52\u5e76\u4e0d\u662f Python \u64c5\u957f\u7684\u3002\n\u56e0\u6b64\uff0c\u6700\u540e\u90a3\u4e2a\u9012\u5f52\u6f14\u793a\u4ec5\u4ec5\u662f\u4e2a\u597d\u5947\u7684\u63a2\u7d22\u7f62\u4e86\uff0c\u5bf9\u8fd9\u4e2a\u4e0d\u8981\u592a\u8ba4\u771f\u4e86\u3002"
      ]
    }
  ],
  "metadata": {
    "kernelspec": {
      "display_name": "Python 3",
      "language": "python",
      "name": "python3"
    },
    "language_info": {
      "codemirror_mode": {
        "name": "ipython",
        "version": 3
      },
      "file_extension": ".py",
      "mimetype": "text/x-python",
      "name": "python",
      "nbconvert_exporter": "python",
      "pygments_lexer": "ipython3",
      "version": "3.7.1"
    },
    "toc": {
      "base_numbering": 1,
      "nav_menu": {},
      "number_sections": true,
      "sideBar": true,
      "skip_h1_title": true,
      "title_cell": "Table of Contents",
      "title_sidebar": "Contents",
      "toc_cell": false,
      "toc_position": {},
      "toc_section_display": true,
      "toc_window_display": true
    }
  },
  "nbformat": 4,
  "nbformat_minor": 2
}