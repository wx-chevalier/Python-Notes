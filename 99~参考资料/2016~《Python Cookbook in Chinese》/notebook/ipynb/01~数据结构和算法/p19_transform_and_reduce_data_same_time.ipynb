{
  "cells": [
    {
      "cell_type": "markdown",
      "metadata": {},
      "source": [
        "## 1.19 \u8f6c\u6362\u5e76\u540c\u65f6\u8ba1\u7b97\u6570\u636e\n"
      ]
    },
    {
      "cell_type": "markdown",
      "metadata": {},
      "source": [
        "### \u95ee\u9898\n"
      ]
    },
    {
      "cell_type": "markdown",
      "metadata": {},
      "source": [
        "\u4f60\u9700\u8981\u5728\u6570\u636e\u5e8f\u5217\u4e0a\u6267\u884c\u805a\u96c6\u51fd\u6570\uff08\u6bd4\u5982 sum() , min() , max() \uff09\uff0c\n\u4f46\u662f\u9996\u5148\u4f60\u9700\u8981\u5148\u8f6c\u6362\u6216\u8005\u8fc7\u6ee4\u6570\u636e"
      ]
    },
    {
      "cell_type": "markdown",
      "metadata": {},
      "source": [
        "### \u89e3\u51b3\u65b9\u6848\n"
      ]
    },
    {
      "cell_type": "markdown",
      "metadata": {},
      "source": [
        "\u4e00\u4e2a\u975e\u5e38\u4f18\u96c5\u7684\u65b9\u5f0f\u53bb\u7ed3\u5408\u6570\u636e\u8ba1\u7b97\u4e0e\u8f6c\u6362\u5c31\u662f\u4f7f\u7528\u4e00\u4e2a\u751f\u6210\u5668\u8868\u8fbe\u5f0f\u53c2\u6570\u3002\n\u6bd4\u5982\uff0c\u5982\u679c\u4f60\u60f3\u8ba1\u7b97\u5e73\u65b9\u548c\uff0c\u53ef\u4ee5\u50cf\u4e0b\u9762\u8fd9\u6837\u505a\uff1a"
      ]
    },
    {
      "cell_type": "code",
      "execution_count": null,
      "metadata": {},
      "outputs": [],
      "source": [
        "nums = [1, 2, 3, 4, 5]\ns = sum(x * x for x in nums)"
      ]
    },
    {
      "cell_type": "markdown",
      "metadata": {},
      "source": [
        "\u4e0b\u9762\u662f\u66f4\u591a\u7684\u4f8b\u5b50\uff1a"
      ]
    },
    {
      "cell_type": "code",
      "execution_count": null,
      "metadata": {},
      "outputs": [],
      "source": [
        "# Determine if any .py files exist in a directory\nimport os\nfiles = os.listdir('dirname')\nif any(name.endswith('.py') for name in files):\n    print('There be python!')\nelse:\n    print('Sorry, no python.')\n# Output a tuple as CSV\ns = ('ACME', 50, 123.45)\nprint(','.join(str(x) for x in s))\n# Data reduction across fields of a data structure\nportfolio = [\n    {'name':'GOOG', 'shares': 50},\n    {'name':'YHOO', 'shares': 75},\n    {'name':'AOL', 'shares': 20},\n    {'name':'SCOX', 'shares': 65}\n]\nmin_shares = min(s['shares'] for s in portfolio)"
      ]
    },
    {
      "cell_type": "markdown",
      "metadata": {},
      "source": [
        "### \u8ba8\u8bba\n"
      ]
    },
    {
      "cell_type": "markdown",
      "metadata": {},
      "source": [
        "\u4e0a\u9762\u7684\u793a\u4f8b\u5411\u4f60\u6f14\u793a\u4e86\u5f53\u751f\u6210\u5668\u8868\u8fbe\u5f0f\u4f5c\u4e3a\u4e00\u4e2a\u5355\u72ec\u53c2\u6570\u4f20\u9012\u7ed9\u51fd\u6570\u65f6\u5019\u7684\u5de7\u5999\u8bed\u6cd5\uff08\u4f60\u5e76\u4e0d\u9700\u8981\u591a\u52a0\u4e00\u4e2a\u62ec\u53f7\uff09\u3002\n\u6bd4\u5982\uff0c\u4e0b\u9762\u8fd9\u4e9b\u8bed\u53e5\u662f\u7b49\u6548\u7684\uff1a"
      ]
    },
    {
      "cell_type": "code",
      "execution_count": null,
      "metadata": {},
      "outputs": [],
      "source": [
        "s = sum((x * x for x in nums)) # \u663e\u5f0f\u7684\u4f20\u9012\u4e00\u4e2a\u751f\u6210\u5668\u8868\u8fbe\u5f0f\u5bf9\u8c61\ns = sum(x * x for x in nums) # \u66f4\u52a0\u4f18\u96c5\u7684\u5b9e\u73b0\u65b9\u5f0f\uff0c\u7701\u7565\u4e86\u62ec\u53f7"
      ]
    },
    {
      "cell_type": "markdown",
      "metadata": {},
      "source": [
        "\u4f7f\u7528\u4e00\u4e2a\u751f\u6210\u5668\u8868\u8fbe\u5f0f\u4f5c\u4e3a\u53c2\u6570\u4f1a\u6bd4\u5148\u521b\u5efa\u4e00\u4e2a\u4e34\u65f6\u5217\u8868\u66f4\u52a0\u9ad8\u6548\u548c\u4f18\u96c5\u3002\n\u6bd4\u5982\uff0c\u5982\u679c\u4f60\u4e0d\u4f7f\u7528\u751f\u6210\u5668\u8868\u8fbe\u5f0f\u7684\u8bdd\uff0c\u4f60\u53ef\u80fd\u4f1a\u8003\u8651\u4f7f\u7528\u4e0b\u9762\u7684\u5b9e\u73b0\u65b9\u5f0f\uff1a"
      ]
    },
    {
      "cell_type": "code",
      "execution_count": null,
      "metadata": {},
      "outputs": [],
      "source": [
        "nums = [1, 2, 3, 4, 5]\ns = sum([x * x for x in nums])"
      ]
    },
    {
      "cell_type": "markdown",
      "metadata": {},
      "source": [
        "\u8fd9\u79cd\u65b9\u5f0f\u540c\u6837\u53ef\u4ee5\u8fbe\u5230\u60f3\u8981\u7684\u6548\u679c\uff0c\u4f46\u662f\u5b83\u4f1a\u591a\u4e00\u4e2a\u6b65\u9aa4\uff0c\u5148\u521b\u5efa\u4e00\u4e2a\u989d\u5916\u7684\u5217\u8868\u3002\n\u5bf9\u4e8e\u5c0f\u578b\u5217\u8868\u53ef\u80fd\u6ca1\u4ec0\u4e48\u5173\u7cfb\uff0c\u4f46\u662f\u5982\u679c\u5143\u7d20\u6570\u91cf\u975e\u5e38\u5927\u7684\u65f6\u5019\uff0c\n\u5b83\u4f1a\u521b\u5efa\u4e00\u4e2a\u5de8\u5927\u7684\u4ec5\u4ec5\u88ab\u4f7f\u7528\u4e00\u6b21\u5c31\u88ab\u4e22\u5f03\u7684\u4e34\u65f6\u6570\u636e\u7ed3\u6784\u3002\u800c\u751f\u6210\u5668\u65b9\u6848\u4f1a\u4ee5\u8fed\u4ee3\u7684\u65b9\u5f0f\u8f6c\u6362\u6570\u636e\uff0c\u56e0\u6b64\u66f4\u7701\u5185\u5b58\u3002"
      ]
    },
    {
      "cell_type": "markdown",
      "metadata": {},
      "source": [
        "\u5728\u4f7f\u7528\u4e00\u4e9b\u805a\u96c6\u51fd\u6570\u6bd4\u5982 min() \u548c max() \u7684\u65f6\u5019\u4f60\u53ef\u80fd\u66f4\u52a0\u503e\u5411\u4e8e\u4f7f\u7528\u751f\u6210\u5668\u7248\u672c\uff0c\n\u5b83\u4eec\u63a5\u53d7\u7684\u4e00\u4e2a key \u5173\u952e\u5b57\u53c2\u6570\u6216\u8bb8\u5bf9\u4f60\u5f88\u6709\u5e2e\u52a9\u3002\n\u6bd4\u5982\uff0c\u5728\u4e0a\u9762\u7684\u8bc1\u5238\u4f8b\u5b50\u4e2d\uff0c\u4f60\u53ef\u80fd\u4f1a\u8003\u8651\u4e0b\u9762\u7684\u5b9e\u73b0\u7248\u672c\uff1a"
      ]
    },
    {
      "cell_type": "code",
      "execution_count": null,
      "metadata": {},
      "outputs": [],
      "source": [
        "# Original: Returns 20\nmin_shares = min(s['shares'] for s in portfolio)\n# Alternative: Returns {'name': 'AOL', 'shares': 20}\nmin_shares = min(portfolio, key=lambda s: s['shares'])"
      ]
    }
  ],
  "metadata": {
    "kernelspec": {
      "display_name": "Python 3",
      "language": "python",
      "name": "python3"
    },
    "language_info": {
      "codemirror_mode": {
        "name": "ipython",
        "version": 3
      },
      "file_extension": ".py",
      "mimetype": "text/x-python",
      "name": "python",
      "nbconvert_exporter": "python",
      "pygments_lexer": "ipython3",
      "version": "3.7.1"
    },
    "toc": {
      "base_numbering": 1,
      "nav_menu": {},
      "number_sections": true,
      "sideBar": true,
      "skip_h1_title": true,
      "title_cell": "Table of Contents",
      "title_sidebar": "Contents",
      "toc_cell": false,
      "toc_position": {},
      "toc_section_display": true,
      "toc_window_display": true
    }
  },
  "nbformat": 4,
  "nbformat_minor": 2
}