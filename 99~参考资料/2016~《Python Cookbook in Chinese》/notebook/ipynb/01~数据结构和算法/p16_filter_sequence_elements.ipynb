{
  "cells": [
    {
      "cell_type": "markdown",
      "metadata": {},
      "source": [
        "## 1.16 \u8fc7\u6ee4\u5e8f\u5217\u5143\u7d20\n"
      ]
    },
    {
      "cell_type": "markdown",
      "metadata": {},
      "source": [
        "### \u95ee\u9898\n"
      ]
    },
    {
      "cell_type": "markdown",
      "metadata": {},
      "source": [
        "\u4f60\u6709\u4e00\u4e2a\u6570\u636e\u5e8f\u5217\uff0c\u60f3\u5229\u7528\u4e00\u4e9b\u89c4\u5219\u4ece\u4e2d\u63d0\u53d6\u51fa\u9700\u8981\u7684\u503c\u6216\u8005\u662f\u7f29\u77ed\u5e8f\u5217"
      ]
    },
    {
      "cell_type": "markdown",
      "metadata": {},
      "source": [
        "### \u89e3\u51b3\u65b9\u6848\n"
      ]
    },
    {
      "cell_type": "markdown",
      "metadata": {},
      "source": [
        "\u6700\u7b80\u5355\u7684\u8fc7\u6ee4\u5e8f\u5217\u5143\u7d20\u7684\u65b9\u6cd5\u5c31\u662f\u4f7f\u7528\u5217\u8868\u63a8\u5bfc\u3002\u6bd4\u5982\uff1a"
      ]
    },
    {
      "cell_type": "code",
      "execution_count": null,
      "metadata": {},
      "outputs": [],
      "source": [
        "mylist = [1, 4, -5, 10, -7, 2, 3, -1]\n[n for n in mylist if n > 0]"
      ]
    },
    {
      "cell_type": "code",
      "execution_count": null,
      "metadata": {},
      "outputs": [],
      "source": [
        "[n for n in mylist if n < 0]"
      ]
    },
    {
      "cell_type": "markdown",
      "metadata": {},
      "source": [
        "\u4f7f\u7528\u5217\u8868\u63a8\u5bfc\u7684\u4e00\u4e2a\u6f5c\u5728\u7f3a\u9677\u5c31\u662f\u5982\u679c\u8f93\u5165\u975e\u5e38\u5927\u7684\u65f6\u5019\u4f1a\u4ea7\u751f\u4e00\u4e2a\u975e\u5e38\u5927\u7684\u7ed3\u679c\u96c6\uff0c\u5360\u7528\u5927\u91cf\u5185\u5b58\u3002\n\u5982\u679c\u4f60\u5bf9\u5185\u5b58\u6bd4\u8f83\u654f\u611f\uff0c\u90a3\u4e48\u4f60\u53ef\u4ee5\u4f7f\u7528\u751f\u6210\u5668\u8868\u8fbe\u5f0f\u8fed\u4ee3\u4ea7\u751f\u8fc7\u6ee4\u7684\u5143\u7d20\u3002\u6bd4\u5982\uff1a"
      ]
    },
    {
      "cell_type": "code",
      "execution_count": null,
      "metadata": {},
      "outputs": [],
      "source": [
        "pos = (n for n in mylist if n > 0)\npos"
      ]
    },
    {
      "cell_type": "code",
      "execution_count": null,
      "metadata": {},
      "outputs": [],
      "source": [
        "for x in pos:\nprint(x)"
      ]
    },
    {
      "cell_type": "markdown",
      "metadata": {},
      "source": [
        "\u6709\u65f6\u5019\uff0c\u8fc7\u6ee4\u89c4\u5219\u6bd4\u8f83\u590d\u6742\uff0c\u4e0d\u80fd\u7b80\u5355\u7684\u5728\u5217\u8868\u63a8\u5bfc\u6216\u8005\u751f\u6210\u5668\u8868\u8fbe\u5f0f\u4e2d\u8868\u8fbe\u51fa\u6765\u3002\n\u6bd4\u5982\uff0c\u5047\u8bbe\u8fc7\u6ee4\u7684\u65f6\u5019\u9700\u8981\u5904\u7406\u4e00\u4e9b\u5f02\u5e38\u6216\u8005\u5176\u4ed6\u590d\u6742\u60c5\u51b5\u3002\u8fd9\u65f6\u5019\u4f60\u53ef\u4ee5\u5c06\u8fc7\u6ee4\u4ee3\u7801\u653e\u5230\u4e00\u4e2a\u51fd\u6570\u4e2d\uff0c\n\u7136\u540e\u4f7f\u7528\u5185\u5efa\u7684 filter() \u51fd\u6570\u3002\u793a\u4f8b\u5982\u4e0b\uff1a"
      ]
    },
    {
      "cell_type": "code",
      "execution_count": null,
      "metadata": {},
      "outputs": [],
      "source": [
        "values = ['1', '2', '-3', '-', '4', 'N/A', '5']\ndef is_int(val):\n    try:\n        x = int(val)\n        return True\n    except ValueError:\n        return False\nivals = list(filter(is_int, values))\nprint(ivals)\n# Outputs ['1', '2', '-3', '4', '5']"
      ]
    },
    {
      "cell_type": "markdown",
      "metadata": {},
      "source": [
        "filter() \u51fd\u6570\u521b\u5efa\u4e86\u4e00\u4e2a\u8fed\u4ee3\u5668\uff0c\u56e0\u6b64\u5982\u679c\u4f60\u60f3\u5f97\u5230\u4e00\u4e2a\u5217\u8868\u7684\u8bdd\uff0c\u5c31\u5f97\u50cf\u793a\u4f8b\u90a3\u6837\u4f7f\u7528 list() \u53bb\u8f6c\u6362\u3002"
      ]
    },
    {
      "cell_type": "markdown",
      "metadata": {},
      "source": [
        "### \u8ba8\u8bba\n"
      ]
    },
    {
      "cell_type": "markdown",
      "metadata": {},
      "source": [
        "\u5217\u8868\u63a8\u5bfc\u548c\u751f\u6210\u5668\u8868\u8fbe\u5f0f\u901a\u5e38\u60c5\u51b5\u4e0b\u662f\u8fc7\u6ee4\u6570\u636e\u6700\u7b80\u5355\u7684\u65b9\u5f0f\u3002\n\u5176\u5b9e\u5b83\u4eec\u8fd8\u80fd\u5728\u8fc7\u6ee4\u7684\u65f6\u5019\u8f6c\u6362\u6570\u636e\u3002\u6bd4\u5982\uff1a"
      ]
    },
    {
      "cell_type": "code",
      "execution_count": null,
      "metadata": {},
      "outputs": [],
      "source": [
        "mylist = [1, 4, -5, 10, -7, 2, 3, -1]\nimport math\n[math.sqrt(n) for n in mylist if n > 0]"
      ]
    },
    {
      "cell_type": "markdown",
      "metadata": {},
      "source": [
        "\u8fc7\u6ee4\u64cd\u4f5c\u7684\u4e00\u4e2a\u53d8\u79cd\u5c31\u662f\u5c06\u4e0d\u7b26\u5408\u6761\u4ef6\u7684\u503c\u7528\u65b0\u7684\u503c\u4ee3\u66ff\uff0c\u800c\u4e0d\u662f\u4e22\u5f03\u5b83\u4eec\u3002\n\u6bd4\u5982\uff0c\u5728\u4e00\u5217\u6570\u636e\u4e2d\u4f60\u53ef\u80fd\u4e0d\u4ec5\u60f3\u627e\u5230\u6b63\u6570\uff0c\u800c\u4e14\u8fd8\u60f3\u5c06\u4e0d\u662f\u6b63\u6570\u7684\u6570\u66ff\u6362\u6210\u6307\u5b9a\u7684\u6570\u3002\n\u901a\u8fc7\u5c06\u8fc7\u6ee4\u6761\u4ef6\u653e\u5230\u6761\u4ef6\u8868\u8fbe\u5f0f\u4e2d\u53bb\uff0c\u53ef\u4ee5\u5f88\u5bb9\u6613\u7684\u89e3\u51b3\u8fd9\u4e2a\u95ee\u9898\uff0c\u5c31\u50cf\u8fd9\u6837\uff1a"
      ]
    },
    {
      "cell_type": "code",
      "execution_count": null,
      "metadata": {},
      "outputs": [],
      "source": [
        "clip_neg = [n if n > 0 else 0 for n in mylist]\nclip_neg"
      ]
    },
    {
      "cell_type": "code",
      "execution_count": null,
      "metadata": {},
      "outputs": [],
      "source": [
        "clip_pos = [n if n < 0 else 0 for n in mylist]\nclip_pos"
      ]
    },
    {
      "cell_type": "markdown",
      "metadata": {},
      "source": [
        "\u53e6\u5916\u4e00\u4e2a\u503c\u5f97\u5173\u6ce8\u7684\u8fc7\u6ee4\u5de5\u5177\u5c31\u662f itertools.compress() \uff0c\n\u5b83\u4ee5\u4e00\u4e2a iterable \u5bf9\u8c61\u548c\u4e00\u4e2a\u76f8\u5bf9\u5e94\u7684 Boolean \u9009\u62e9\u5668\u5e8f\u5217\u4f5c\u4e3a\u8f93\u5165\u53c2\u6570\u3002\n\u7136\u540e\u8f93\u51fa iterable \u5bf9\u8c61\u4e2d\u5bf9\u5e94\u9009\u62e9\u5668\u4e3a True \u7684\u5143\u7d20\u3002\n\u5f53\u4f60\u9700\u8981\u7528\u53e6\u5916\u4e00\u4e2a\u76f8\u5173\u8054\u7684\u5e8f\u5217\u6765\u8fc7\u6ee4\u67d0\u4e2a\u5e8f\u5217\u7684\u65f6\u5019\uff0c\u8fd9\u4e2a\u51fd\u6570\u662f\u975e\u5e38\u6709\u7528\u7684\u3002\n\u6bd4\u5982\uff0c\u5047\u5982\u73b0\u5728\u4f60\u6709\u4e0b\u9762\u4e24\u5217\u6570\u636e\uff1a"
      ]
    },
    {
      "cell_type": "code",
      "execution_count": null,
      "metadata": {},
      "outputs": [],
      "source": [
        "addresses = [\n    '5412 N CLARK',\n    '5148 N CLARK',\n    '5800 E 58TH',\n    '2122 N CLARK',\n    '5645 N RAVENSWOOD',\n    '1060 W ADDISON',\n    '4801 N BROADWAY',\n    '1039 W GRANVILLE',\n]\ncounts = [ 0, 3, 10, 4, 1, 7, 6, 1]"
      ]
    },
    {
      "cell_type": "markdown",
      "metadata": {},
      "source": [
        "\u73b0\u5728\u4f60\u60f3\u5c06\u90a3\u4e9b\u5bf9\u5e94 count \u503c\u5927\u4e8e5\u7684\u5730\u5740\u5168\u90e8\u8f93\u51fa\uff0c\u90a3\u4e48\u4f60\u53ef\u4ee5\u8fd9\u6837\u505a\uff1a"
      ]
    },
    {
      "cell_type": "code",
      "execution_count": null,
      "metadata": {},
      "outputs": [],
      "source": [
        "from itertools import compress\nmore5 = [n > 5 for n in counts]\nmore5"
      ]
    },
    {
      "cell_type": "code",
      "execution_count": null,
      "metadata": {},
      "outputs": [],
      "source": [
        "list(compress(addresses, more5))"
      ]
    },
    {
      "cell_type": "markdown",
      "metadata": {},
      "source": [
        "\u8fd9\u91cc\u7684\u5173\u952e\u70b9\u5728\u4e8e\u5148\u521b\u5efa\u4e00\u4e2a Boolean \u5e8f\u5217\uff0c\u6307\u793a\u54ea\u4e9b\u5143\u7d20\u7b26\u5408\u6761\u4ef6\u3002\n\u7136\u540e compress() \u51fd\u6570\u6839\u636e\u8fd9\u4e2a\u5e8f\u5217\u53bb\u9009\u62e9\u8f93\u51fa\u5bf9\u5e94\u4f4d\u7f6e\u4e3a True \u7684\u5143\u7d20\u3002"
      ]
    },
    {
      "cell_type": "markdown",
      "metadata": {},
      "source": [
        "\u548c filter() \u51fd\u6570\u7c7b\u4f3c\uff0c compress() \u4e5f\u662f\u8fd4\u56de\u7684\u4e00\u4e2a\u8fed\u4ee3\u5668\u3002\u56e0\u6b64\uff0c\u5982\u679c\u4f60\u9700\u8981\u5f97\u5230\u4e00\u4e2a\u5217\u8868\uff0c\n\u90a3\u4e48\u4f60\u9700\u8981\u4f7f\u7528 list() \u6765\u5c06\u7ed3\u679c\u8f6c\u6362\u4e3a\u5217\u8868\u7c7b\u578b\u3002"
      ]
    }
  ],
  "metadata": {
    "kernelspec": {
      "display_name": "Python 3",
      "language": "python",
      "name": "python3"
    },
    "language_info": {
      "codemirror_mode": {
        "name": "ipython",
        "version": 3
      },
      "file_extension": ".py",
      "mimetype": "text/x-python",
      "name": "python",
      "nbconvert_exporter": "python",
      "pygments_lexer": "ipython3",
      "version": "3.7.1"
    },
    "toc": {
      "base_numbering": 1,
      "nav_menu": {},
      "number_sections": true,
      "sideBar": true,
      "skip_h1_title": true,
      "title_cell": "Table of Contents",
      "title_sidebar": "Contents",
      "toc_cell": false,
      "toc_position": {},
      "toc_section_display": true,
      "toc_window_display": true
    }
  },
  "nbformat": 4,
  "nbformat_minor": 2
}