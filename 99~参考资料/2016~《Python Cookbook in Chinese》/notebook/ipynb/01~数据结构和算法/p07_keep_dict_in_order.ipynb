{
  "cells": [
    {
      "cell_type": "markdown",
      "metadata": {},
      "source": [
        "## 1.7 \u5b57\u5178\u6392\u5e8f\n"
      ]
    },
    {
      "cell_type": "markdown",
      "metadata": {},
      "source": [
        "### \u95ee\u9898\n"
      ]
    },
    {
      "cell_type": "markdown",
      "metadata": {},
      "source": [
        "\u4f60\u60f3\u521b\u5efa\u4e00\u4e2a\u5b57\u5178\uff0c\u5e76\u4e14\u5728\u8fed\u4ee3\u6216\u5e8f\u5217\u5316\u8fd9\u4e2a\u5b57\u5178\u7684\u65f6\u5019\u80fd\u591f\u63a7\u5236\u5143\u7d20\u7684\u987a\u5e8f\u3002"
      ]
    },
    {
      "cell_type": "markdown",
      "metadata": {},
      "source": [
        "### \u89e3\u51b3\u65b9\u6848\n"
      ]
    },
    {
      "cell_type": "markdown",
      "metadata": {},
      "source": [
        "\u4e3a\u4e86\u80fd\u63a7\u5236\u4e00\u4e2a\u5b57\u5178\u4e2d\u5143\u7d20\u7684\u987a\u5e8f\uff0c\u4f60\u53ef\u4ee5\u4f7f\u7528 collections \u6a21\u5757\u4e2d\u7684 OrderedDict \u7c7b\u3002\n\u5728\u8fed\u4ee3\u64cd\u4f5c\u7684\u65f6\u5019\u5b83\u4f1a\u4fdd\u6301\u5143\u7d20\u88ab\u63d2\u5165\u65f6\u7684\u987a\u5e8f\uff0c\u793a\u4f8b\u5982\u4e0b\uff1a"
      ]
    },
    {
      "cell_type": "code",
      "execution_count": null,
      "metadata": {},
      "outputs": [],
      "source": [
        "from collections import OrderedDict\n\nd = OrderedDict()\nd['foo'] = 1\nd['bar'] = 2\nd['spam'] = 3\nd['grok'] = 4\n# Outputs \"foo 1\", \"bar 2\", \"spam 3\", \"grok 4\"\nfor key in d:\n    print(key, d[key])"
      ]
    },
    {
      "cell_type": "markdown",
      "metadata": {},
      "source": [
        "\u5f53\u4f60\u60f3\u8981\u6784\u5efa\u4e00\u4e2a\u5c06\u6765\u9700\u8981\u5e8f\u5217\u5316\u6216\u7f16\u7801\u6210\u5176\u4ed6\u683c\u5f0f\u7684\u6620\u5c04\u7684\u65f6\u5019\uff0c OrderedDict \u662f\u975e\u5e38\u6709\u7528\u7684\u3002\n\u6bd4\u5982\uff0c\u4f60\u60f3\u7cbe\u786e\u63a7\u5236\u4ee5 JSON \u7f16\u7801\u540e\u5b57\u6bb5\u7684\u987a\u5e8f\uff0c\u4f60\u53ef\u4ee5\u5148\u4f7f\u7528 OrderedDict \u6765\u6784\u5efa\u8fd9\u6837\u7684\u6570\u636e\uff1a"
      ]
    },
    {
      "cell_type": "code",
      "execution_count": null,
      "metadata": {},
      "outputs": [],
      "source": [
        "import json\njson.dumps(d)"
      ]
    },
    {
      "cell_type": "markdown",
      "metadata": {},
      "source": [
        "### \u8ba8\u8bba\n"
      ]
    },
    {
      "cell_type": "markdown",
      "metadata": {},
      "source": [
        "OrderedDict \u5185\u90e8\u7ef4\u62a4\u7740\u4e00\u4e2a\u6839\u636e\u952e\u63d2\u5165\u987a\u5e8f\u6392\u5e8f\u7684\u53cc\u5411\u94fe\u8868\u3002\u6bcf\u6b21\u5f53\u4e00\u4e2a\u65b0\u7684\u5143\u7d20\u63d2\u5165\u8fdb\u6765\u7684\u65f6\u5019\uff0c\n\u5b83\u4f1a\u88ab\u653e\u5230\u94fe\u8868\u7684\u5c3e\u90e8\u3002\u5bf9\u4e8e\u4e00\u4e2a\u5df2\u7ecf\u5b58\u5728\u7684\u952e\u7684\u91cd\u590d\u8d4b\u503c\u4e0d\u4f1a\u6539\u53d8\u952e\u7684\u987a\u5e8f\u3002"
      ]
    },
    {
      "cell_type": "markdown",
      "metadata": {},
      "source": [
        "\u9700\u8981\u6ce8\u610f\u7684\u662f\uff0c\u4e00\u4e2a OrderedDict \u7684\u5927\u5c0f\u662f\u4e00\u4e2a\u666e\u901a\u5b57\u5178\u7684\u4e24\u500d\uff0c\u56e0\u4e3a\u5b83\u5185\u90e8\u7ef4\u62a4\u7740\u53e6\u5916\u4e00\u4e2a\u94fe\u8868\u3002\n\u6240\u4ee5\u5982\u679c\u4f60\u8981\u6784\u5efa\u4e00\u4e2a\u9700\u8981\u5927\u91cf OrderedDict \u5b9e\u4f8b\u7684\u6570\u636e\u7ed3\u6784\u7684\u65f6\u5019\uff08\u6bd4\u5982\u8bfb\u53d6 100,000 \u884c CSV \u6570\u636e\u5230\u4e00\u4e2a OrderedDict \u5217\u8868\u4e2d\u53bb\uff09\uff0c\n\u90a3\u4e48\u4f60\u5c31\u5f97\u4ed4\u7ec6\u6743\u8861\u4e00\u4e0b\u662f\u5426\u4f7f\u7528 OrderedDict \u5e26\u6765\u7684\u597d\u5904\u8981\u5927\u8fc7\u989d\u5916\u5185\u5b58\u6d88\u8017\u7684\u5f71\u54cd\u3002"
      ]
    }
  ],
  "metadata": {
    "kernelspec": {
      "display_name": "Python 3",
      "language": "python",
      "name": "python3"
    },
    "language_info": {
      "codemirror_mode": {
        "name": "ipython",
        "version": 3
      },
      "file_extension": ".py",
      "mimetype": "text/x-python",
      "name": "python",
      "nbconvert_exporter": "python",
      "pygments_lexer": "ipython3",
      "version": "3.7.1"
    },
    "toc": {
      "base_numbering": 1,
      "nav_menu": {},
      "number_sections": true,
      "sideBar": true,
      "skip_h1_title": true,
      "title_cell": "Table of Contents",
      "title_sidebar": "Contents",
      "toc_cell": false,
      "toc_position": {},
      "toc_section_display": true,
      "toc_window_display": true
    }
  },
  "nbformat": 4,
  "nbformat_minor": 2
}