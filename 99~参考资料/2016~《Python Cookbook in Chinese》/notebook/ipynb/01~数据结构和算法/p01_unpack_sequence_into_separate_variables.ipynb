{
  "cells": [
    {
      "cell_type": "markdown",
      "metadata": {},
      "source": [
        "## 1.1 \u89e3\u538b\u5e8f\u5217\u8d4b\u503c\u7ed9\u591a\u4e2a\u53d8\u91cf\n"
      ]
    },
    {
      "cell_type": "markdown",
      "metadata": {},
      "source": [
        "### \u95ee\u9898\n"
      ]
    },
    {
      "cell_type": "markdown",
      "metadata": {},
      "source": [
        "\u73b0\u5728\u6709\u4e00\u4e2a\u5305\u542b N \u4e2a\u5143\u7d20\u7684\u5143\u7ec4\u6216\u8005\u662f\u5e8f\u5217\uff0c\u600e\u6837\u5c06\u5b83\u91cc\u9762\u7684\u503c\u89e3\u538b\u540e\u540c\u65f6\u8d4b\u503c\u7ed9 N \u4e2a\u53d8\u91cf\uff1f"
      ]
    },
    {
      "cell_type": "markdown",
      "metadata": {},
      "source": [
        "### \u89e3\u51b3\u65b9\u6848\n"
      ]
    },
    {
      "cell_type": "markdown",
      "metadata": {},
      "source": [
        "\u4efb\u4f55\u7684\u5e8f\u5217\uff08\u6216\u8005\u662f\u53ef\u8fed\u4ee3\u5bf9\u8c61\uff09\u53ef\u4ee5\u901a\u8fc7\u4e00\u4e2a\u7b80\u5355\u7684\u8d4b\u503c\u8bed\u53e5\u89e3\u538b\u5e76\u8d4b\u503c\u7ed9\u591a\u4e2a\u53d8\u91cf\u3002\n\u552f\u4e00\u7684\u524d\u63d0\u5c31\u662f\u53d8\u91cf\u7684\u6570\u91cf\u5fc5\u987b\u8ddf\u5e8f\u5217\u5143\u7d20\u7684\u6570\u91cf\u662f\u4e00\u6837\u7684\u3002"
      ]
    },
    {
      "cell_type": "markdown",
      "metadata": {},
      "source": [
        "\u4ee3\u7801\u793a\u4f8b\uff1a"
      ]
    },
    {
      "cell_type": "code",
      "execution_count": null,
      "metadata": {},
      "outputs": [],
      "source": [
        "p = (4, 5)\nx, y = p\nx"
      ]
    },
    {
      "cell_type": "code",
      "execution_count": null,
      "metadata": {},
      "outputs": [],
      "source": [
        "y"
      ]
    },
    {
      "cell_type": "code",
      "execution_count": null,
      "metadata": {},
      "outputs": [],
      "source": [
        "data = [ 'ACME', 50, 91.1, (2012, 12, 21) ]\nname, shares, price, date = data\nname"
      ]
    },
    {
      "cell_type": "code",
      "execution_count": null,
      "metadata": {},
      "outputs": [],
      "source": [
        "date"
      ]
    },
    {
      "cell_type": "code",
      "execution_count": null,
      "metadata": {},
      "outputs": [],
      "source": [
        "name, shares, price, (year, mon, day) = data\nname"
      ]
    },
    {
      "cell_type": "code",
      "execution_count": null,
      "metadata": {},
      "outputs": [],
      "source": [
        "year"
      ]
    },
    {
      "cell_type": "code",
      "execution_count": null,
      "metadata": {},
      "outputs": [],
      "source": [
        "mon"
      ]
    },
    {
      "cell_type": "code",
      "execution_count": null,
      "metadata": {},
      "outputs": [],
      "source": [
        "day"
      ]
    },
    {
      "cell_type": "markdown",
      "metadata": {},
      "source": [
        "\u5982\u679c\u53d8\u91cf\u4e2a\u6570\u548c\u5e8f\u5217\u5143\u7d20\u7684\u4e2a\u6570\u4e0d\u5339\u914d\uff0c\u4f1a\u4ea7\u751f\u4e00\u4e2a\u5f02\u5e38\u3002"
      ]
    },
    {
      "cell_type": "markdown",
      "metadata": {},
      "source": [
        "\u4ee3\u7801\u793a\u4f8b\uff1a"
      ]
    },
    {
      "cell_type": "code",
      "execution_count": null,
      "metadata": {},
      "outputs": [],
      "source": [
        "p = (4, 5)\nx, y, z = p"
      ]
    },
    {
      "cell_type": "markdown",
      "metadata": {},
      "source": [
        "### \u8ba8\u8bba\n"
      ]
    },
    {
      "cell_type": "markdown",
      "metadata": {},
      "source": [
        "\u5b9e\u9645\u4e0a\uff0c\u8fd9\u79cd\u89e3\u538b\u8d4b\u503c\u53ef\u4ee5\u7528\u5728\u4efb\u4f55\u53ef\u8fed\u4ee3\u5bf9\u8c61\u4e0a\u9762\uff0c\u800c\u4e0d\u4ec5\u4ec5\u662f\u5217\u8868\u6216\u8005\u5143\u7ec4\u3002\n\u5305\u62ec\u5b57\u7b26\u4e32\uff0c\u6587\u4ef6\u5bf9\u8c61\uff0c\u8fed\u4ee3\u5668\u548c\u751f\u6210\u5668\u3002"
      ]
    },
    {
      "cell_type": "markdown",
      "metadata": {},
      "source": [
        "\u4ee3\u7801\u793a\u4f8b\uff1a"
      ]
    },
    {
      "cell_type": "code",
      "execution_count": null,
      "metadata": {},
      "outputs": [],
      "source": [
        "s = 'Hello'\na, b, c, d, e = s\na"
      ]
    },
    {
      "cell_type": "code",
      "execution_count": null,
      "metadata": {},
      "outputs": [],
      "source": [
        "b"
      ]
    },
    {
      "cell_type": "code",
      "execution_count": null,
      "metadata": {},
      "outputs": [],
      "source": [
        "e"
      ]
    },
    {
      "cell_type": "markdown",
      "metadata": {},
      "source": [
        "\u6709\u65f6\u5019\uff0c\u4f60\u53ef\u80fd\u53ea\u60f3\u89e3\u538b\u4e00\u90e8\u5206\uff0c\u4e22\u5f03\u5176\u4ed6\u7684\u503c\u3002\u5bf9\u4e8e\u8fd9\u79cd\u60c5\u51b5 Python \u5e76\u6ca1\u6709\u63d0\u4f9b\u7279\u6b8a\u7684\u8bed\u6cd5\u3002\n\u4f46\u662f\u4f60\u53ef\u4ee5\u4f7f\u7528\u4efb\u610f\u53d8\u91cf\u540d\u53bb\u5360\u4f4d\uff0c\u5230\u65f6\u5019\u4e22\u6389\u8fd9\u4e9b\u53d8\u91cf\u5c31\u884c\u4e86\u3002"
      ]
    },
    {
      "cell_type": "markdown",
      "metadata": {},
      "source": [
        "\u4ee3\u7801\u793a\u4f8b\uff1a"
      ]
    },
    {
      "cell_type": "code",
      "execution_count": null,
      "metadata": {},
      "outputs": [],
      "source": [
        "data = [ 'ACME', 50, 91.1, (2012, 12, 21) ]\n_, shares, price, _ = data\nshares"
      ]
    },
    {
      "cell_type": "code",
      "execution_count": null,
      "metadata": {},
      "outputs": [],
      "source": [
        "price"
      ]
    },
    {
      "cell_type": "markdown",
      "metadata": {},
      "source": [
        "\u4f60\u5fc5\u987b\u4fdd\u8bc1\u4f60\u9009\u7528\u7684\u90a3\u4e9b\u5360\u4f4d\u53d8\u91cf\u540d\u5728\u5176\u4ed6\u5730\u65b9\u6ca1\u88ab\u4f7f\u7528\u5230\u3002"
      ]
    }
  ],
  "metadata": {
    "kernelspec": {
      "display_name": "Python 3",
      "language": "python",
      "name": "python3"
    },
    "language_info": {
      "codemirror_mode": {
        "name": "ipython",
        "version": 3
      },
      "file_extension": ".py",
      "mimetype": "text/x-python",
      "name": "python",
      "nbconvert_exporter": "python",
      "pygments_lexer": "ipython3",
      "version": "3.7.1"
    },
    "toc": {
      "base_numbering": 1,
      "nav_menu": {},
      "number_sections": true,
      "sideBar": true,
      "skip_h1_title": true,
      "title_cell": "Table of Contents",
      "title_sidebar": "Contents",
      "toc_cell": false,
      "toc_position": {},
      "toc_section_display": true,
      "toc_window_display": true
    }
  },
  "nbformat": 4,
  "nbformat_minor": 2
}