{
  "cells": [
    {
      "cell_type": "markdown",
      "metadata": {},
      "source": [
        "## 1.12 \u5e8f\u5217\u4e2d\u51fa\u73b0\u6b21\u6570\u6700\u591a\u7684\u5143\u7d20\n"
      ]
    },
    {
      "cell_type": "markdown",
      "metadata": {},
      "source": [
        "### \u95ee\u9898\n"
      ]
    },
    {
      "cell_type": "markdown",
      "metadata": {},
      "source": [
        "\u600e\u6837\u627e\u51fa\u4e00\u4e2a\u5e8f\u5217\u4e2d\u51fa\u73b0\u6b21\u6570\u6700\u591a\u7684\u5143\u7d20\u5462\uff1f"
      ]
    },
    {
      "cell_type": "markdown",
      "metadata": {},
      "source": [
        "### \u89e3\u51b3\u65b9\u6848\n"
      ]
    },
    {
      "cell_type": "markdown",
      "metadata": {},
      "source": [
        "collections.Counter \u7c7b\u5c31\u662f\u4e13\u95e8\u4e3a\u8fd9\u7c7b\u95ee\u9898\u800c\u8bbe\u8ba1\u7684\uff0c\n\u5b83\u751a\u81f3\u6709\u4e00\u4e2a\u6709\u7528\u7684 most_common() \u65b9\u6cd5\u76f4\u63a5\u7ed9\u4e86\u4f60\u7b54\u6848\u3002"
      ]
    },
    {
      "cell_type": "markdown",
      "metadata": {},
      "source": [
        "\u4e3a\u4e86\u6f14\u793a\uff0c\u5148\u5047\u8bbe\u4f60\u6709\u4e00\u4e2a\u5355\u8bcd\u5217\u8868\u5e76\u4e14\u60f3\u627e\u51fa\u54ea\u4e2a\u5355\u8bcd\u51fa\u73b0\u9891\u7387\u6700\u9ad8\u3002\u4f60\u53ef\u4ee5\u8fd9\u6837\u505a\uff1a"
      ]
    },
    {
      "cell_type": "code",
      "execution_count": null,
      "metadata": {},
      "outputs": [],
      "source": [
        "words = [\n    'look', 'into', 'my', 'eyes', 'look', 'into', 'my', 'eyes',\n    'the', 'eyes', 'the', 'eyes', 'the', 'eyes', 'not', 'around', 'the',\n    'eyes', \"don't\", 'look', 'around', 'the', 'eyes', 'look', 'into',\n    'my', 'eyes', \"you're\", 'under'\n]\nfrom collections import Counter\nword_counts = Counter(words)\n# \u51fa\u73b0\u9891\u7387\u6700\u9ad8\u76843\u4e2a\u5355\u8bcd\ntop_three = word_counts.most_common(3)\nprint(top_three)\n# Outputs [('eyes', 8), ('the', 5), ('look', 4)]"
      ]
    },
    {
      "cell_type": "markdown",
      "metadata": {},
      "source": [
        "### \u8ba8\u8bba\n"
      ]
    },
    {
      "cell_type": "markdown",
      "metadata": {},
      "source": [
        "\u4f5c\u4e3a\u8f93\u5165\uff0c Counter \u5bf9\u8c61\u53ef\u4ee5\u63a5\u53d7\u4efb\u610f\u7684\u7531\u53ef\u54c8\u5e0c\uff08hashable\uff09\u5143\u7d20\u6784\u6210\u7684\u5e8f\u5217\u5bf9\u8c61\u3002\n\u5728\u5e95\u5c42\u5b9e\u73b0\u4e0a\uff0c\u4e00\u4e2a Counter \u5bf9\u8c61\u5c31\u662f\u4e00\u4e2a\u5b57\u5178\uff0c\u5c06\u5143\u7d20\u6620\u5c04\u5230\u5b83\u51fa\u73b0\u7684\u6b21\u6570\u4e0a\u3002\u6bd4\u5982\uff1a"
      ]
    },
    {
      "cell_type": "code",
      "execution_count": null,
      "metadata": {},
      "outputs": [],
      "source": [
        "word_counts['not']"
      ]
    },
    {
      "cell_type": "code",
      "execution_count": null,
      "metadata": {},
      "outputs": [],
      "source": [
        "word_counts['eyes']"
      ]
    },
    {
      "cell_type": "markdown",
      "metadata": {},
      "source": [
        "\u5982\u679c\u4f60\u60f3\u624b\u52a8\u589e\u52a0\u8ba1\u6570\uff0c\u53ef\u4ee5\u7b80\u5355\u7684\u7528\u52a0\u6cd5\uff1a"
      ]
    },
    {
      "cell_type": "code",
      "execution_count": null,
      "metadata": {},
      "outputs": [],
      "source": [
        "morewords = ['why','are','you','not','looking','in','my','eyes']\nfor word in morewords:\n    word_counts[word] += 1\nword_counts['eyes']"
      ]
    },
    {
      "cell_type": "markdown",
      "metadata": {},
      "source": [
        "\u6216\u8005\u4f60\u53ef\u4ee5\u4f7f\u7528 update() \u65b9\u6cd5\uff1a"
      ]
    },
    {
      "cell_type": "code",
      "execution_count": null,
      "metadata": {},
      "outputs": [],
      "source": [
        "word_counts.update(morewords)"
      ]
    },
    {
      "cell_type": "markdown",
      "metadata": {},
      "source": [
        "Counter \u5b9e\u4f8b\u4e00\u4e2a\u9c9c\u4e3a\u4eba\u77e5\u7684\u7279\u6027\u662f\u5b83\u4eec\u53ef\u4ee5\u5f88\u5bb9\u6613\u7684\u8ddf\u6570\u5b66\u8fd0\u7b97\u64cd\u4f5c\u76f8\u7ed3\u5408\u3002\u6bd4\u5982\uff1a"
      ]
    },
    {
      "cell_type": "code",
      "execution_count": null,
      "metadata": {},
      "outputs": [],
      "source": [
        "a = Counter(words)\nb = Counter(morewords)\na"
      ]
    },
    {
      "cell_type": "code",
      "execution_count": null,
      "metadata": {},
      "outputs": [],
      "source": [
        "b"
      ]
    },
    {
      "cell_type": "code",
      "execution_count": null,
      "metadata": {},
      "outputs": [],
      "source": [
        "# Combine counts\nc = a + b\nc"
      ]
    },
    {
      "cell_type": "code",
      "execution_count": null,
      "metadata": {},
      "outputs": [],
      "source": [
        "# Subtract counts\nd = a - b\nd"
      ]
    },
    {
      "cell_type": "markdown",
      "metadata": {},
      "source": [
        "\u6beb\u65e0\u7591\u95ee\uff0c Counter \u5bf9\u8c61\u5728\u51e0\u4e4e\u6240\u6709\u9700\u8981\u5236\u8868\u6216\u8005\u8ba1\u6570\u6570\u636e\u7684\u573a\u5408\u662f\u975e\u5e38\u6709\u7528\u7684\u5de5\u5177\u3002\n\u5728\u89e3\u51b3\u8fd9\u7c7b\u95ee\u9898\u7684\u65f6\u5019\u4f60\u5e94\u8be5\u4f18\u5148\u9009\u62e9\u5b83\uff0c\u800c\u4e0d\u662f\u624b\u52a8\u7684\u5229\u7528\u5b57\u5178\u53bb\u5b9e\u73b0\u3002"
      ]
    }
  ],
  "metadata": {
    "kernelspec": {
      "display_name": "Python 3",
      "language": "python",
      "name": "python3"
    },
    "language_info": {
      "codemirror_mode": {
        "name": "ipython",
        "version": 3
      },
      "file_extension": ".py",
      "mimetype": "text/x-python",
      "name": "python",
      "nbconvert_exporter": "python",
      "pygments_lexer": "ipython3",
      "version": "3.7.1"
    },
    "toc": {
      "base_numbering": 1,
      "nav_menu": {},
      "number_sections": true,
      "sideBar": true,
      "skip_h1_title": true,
      "title_cell": "Table of Contents",
      "title_sidebar": "Contents",
      "toc_cell": false,
      "toc_position": {},
      "toc_section_display": true,
      "toc_window_display": true
    }
  },
  "nbformat": 4,
  "nbformat_minor": 2
}