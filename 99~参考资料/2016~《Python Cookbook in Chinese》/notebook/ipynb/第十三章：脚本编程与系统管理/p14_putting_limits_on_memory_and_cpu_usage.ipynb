{
  "cells": [
    {
      "cell_type": "markdown",
      "metadata": {},
      "source": [
        "## 13.14 \u9650\u5236\u5185\u5b58\u548cCPU\u7684\u4f7f\u7528\u91cf\n"
      ]
    },
    {
      "cell_type": "markdown",
      "metadata": {},
      "source": [
        "### \u95ee\u9898\n"
      ]
    },
    {
      "cell_type": "markdown",
      "metadata": {},
      "source": [
        "\u4f60\u60f3\u5bf9\u5728Unix\u7cfb\u7edf\u4e0a\u9762\u8fd0\u884c\u7684\u7a0b\u5e8f\u8bbe\u7f6e\u5185\u5b58\u6216CPU\u7684\u4f7f\u7528\u9650\u5236\u3002"
      ]
    },
    {
      "cell_type": "markdown",
      "metadata": {},
      "source": [
        "### \u89e3\u51b3\u65b9\u6848\n"
      ]
    },
    {
      "cell_type": "markdown",
      "metadata": {},
      "source": [
        "resource \u6a21\u5757\u80fd\u540c\u65f6\u6267\u884c\u8fd9\u4e24\u4e2a\u4efb\u52a1\u3002\u4f8b\u5982\uff0c\u8981\u9650\u5236CPU\u65f6\u95f4\uff0c\u53ef\u4ee5\u50cf\u4e0b\u9762\u8fd9\u6837\u505a\uff1a"
      ]
    },
    {
      "cell_type": "code",
      "execution_count": null,
      "metadata": {},
      "outputs": [],
      "source": [
        "import signal\nimport resource\nimport os\n\ndef time_exceeded(signo, frame):\n    print(\"Time's up!\")\n    raise SystemExit(1)\n\ndef set_max_runtime(seconds):\n    # Install the signal handler and set a resource limit\n    soft, hard = resource.getrlimit(resource.RLIMIT_CPU)\n    resource.setrlimit(resource.RLIMIT_CPU, (seconds, hard))\n    signal.signal(signal.SIGXCPU, time_exceeded)\n\nif __name__ == '__main__':\n    set_max_runtime(15)\n    while True:\n        pass"
      ]
    },
    {
      "cell_type": "markdown",
      "metadata": {},
      "source": [
        "\u7a0b\u5e8f\u8fd0\u884c\u65f6\uff0cSIGXCPU \u4fe1\u53f7\u5728\u65f6\u95f4\u8fc7\u671f\u65f6\u88ab\u751f\u6210\uff0c\u7136\u540e\u6267\u884c\u6e05\u7406\u5e76\u9000\u51fa\u3002"
      ]
    },
    {
      "cell_type": "markdown",
      "metadata": {},
      "source": [
        "\u8981\u9650\u5236\u5185\u5b58\u4f7f\u7528\uff0c\u8bbe\u7f6e\u53ef\u4f7f\u7528\u7684\u603b\u5185\u5b58\u503c\u5373\u53ef\uff0c\u5982\u4e0b\uff1a"
      ]
    },
    {
      "cell_type": "code",
      "execution_count": null,
      "metadata": {},
      "outputs": [],
      "source": [
        "import resource\n\ndef limit_memory(maxsize):\n    soft, hard = resource.getrlimit(resource.RLIMIT_AS)\n    resource.setrlimit(resource.RLIMIT_AS, (maxsize, hard))"
      ]
    },
    {
      "cell_type": "markdown",
      "metadata": {},
      "source": [
        "\u50cf\u8fd9\u6837\u8bbe\u7f6e\u4e86\u5185\u5b58\u9650\u5236\u540e\uff0c\u7a0b\u5e8f\u8fd0\u884c\u5230\u6ca1\u6709\u591a\u4f59\u5185\u5b58\u65f6\u4f1a\u629b\u51fa MemoryError \u5f02\u5e38\u3002"
      ]
    },
    {
      "cell_type": "markdown",
      "metadata": {},
      "source": [
        "### \u8ba8\u8bba\n"
      ]
    },
    {
      "cell_type": "markdown",
      "metadata": {},
      "source": [
        "\u5728\u672c\u8282\u4f8b\u5b50\u4e2d\uff0csetrlimit() \u51fd\u6570\u88ab\u7528\u6765\u8bbe\u7f6e\u7279\u5b9a\u8d44\u6e90\u4e0a\u9762\u7684\u8f6f\u9650\u5236\u548c\u786c\u9650\u5236\u3002\n\u8f6f\u9650\u5236\u662f\u4e00\u4e2a\u503c\uff0c\u5f53\u8d85\u8fc7\u8fd9\u4e2a\u503c\u7684\u65f6\u5019\u64cd\u4f5c\u7cfb\u7edf\u901a\u5e38\u4f1a\u53d1\u9001\u4e00\u4e2a\u4fe1\u53f7\u6765\u9650\u5236\u6216\u901a\u77e5\u8be5\u8fdb\u7a0b\u3002\n\u786c\u9650\u5236\u662f\u7528\u6765\u6307\u5b9a\u8f6f\u9650\u5236\u80fd\u8bbe\u5b9a\u7684\u6700\u5927\u503c\u3002\u901a\u5e38\u6765\u8bb2\uff0c\u8fd9\u4e2a\u7531\u7cfb\u7edf\u7ba1\u7406\u5458\u901a\u8fc7\u8bbe\u7f6e\u7cfb\u7edf\u7ea7\u53c2\u6570\u6765\u51b3\u5b9a\u3002\n\u5c3d\u7ba1\u786c\u9650\u5236\u53ef\u4ee5\u6539\u5c0f\u4e00\u70b9\uff0c\u4f46\u662f\u6700\u597d\u4e0d\u8981\u4f7f\u7528\u7528\u6237\u8fdb\u7a0b\u53bb\u4fee\u6539\u3002"
      ]
    },
    {
      "cell_type": "markdown",
      "metadata": {},
      "source": [
        "setrlimit() \u51fd\u6570\u8fd8\u80fd\u88ab\u7528\u6765\u8bbe\u7f6e\u5b50\u8fdb\u7a0b\u6570\u91cf\u3001\u6253\u5f00\u6587\u4ef6\u6570\u4ee5\u53ca\u7c7b\u4f3c\u7cfb\u7edf\u8d44\u6e90\u7684\u9650\u5236\u3002\n\u66f4\u591a\u8be6\u60c5\u8bf7\u53c2\u8003 resource \u6a21\u5757\u7684\u6587\u6863\u3002"
      ]
    },
    {
      "cell_type": "markdown",
      "metadata": {},
      "source": [
        "\u9700\u8981\u6ce8\u610f\u7684\u662f\u672c\u8282\u5185\u5bb9\u53ea\u80fd\u9002\u7528\u4e8eUnix\u7cfb\u7edf\uff0c\u5e76\u4e14\u4e0d\u4fdd\u8bc1\u6240\u6709\u7cfb\u7edf\u90fd\u80fd\u5982\u671f\u5de5\u4f5c\u3002\n\u6bd4\u5982\u6211\u4eec\u5728\u6d4b\u8bd5\u7684\u65f6\u5019\uff0c\u5b83\u80fd\u5728Linux\u4e0a\u9762\u6b63\u5e38\u8fd0\u884c\uff0c\u4f46\u662f\u5728OS X\u4e0a\u5374\u4e0d\u80fd\u3002"
      ]
    }
  ],
  "metadata": {
    "kernelspec": {
      "display_name": "Python 3",
      "language": "python",
      "name": "python3"
    },
    "language_info": {
      "codemirror_mode": {
        "name": "ipython",
        "version": 3
      },
      "file_extension": ".py",
      "mimetype": "text/x-python",
      "name": "python",
      "nbconvert_exporter": "python",
      "pygments_lexer": "ipython3",
      "version": "3.7.1"
    },
    "toc": {
      "base_numbering": 1,
      "nav_menu": {},
      "number_sections": true,
      "sideBar": true,
      "skip_h1_title": true,
      "title_cell": "Table of Contents",
      "title_sidebar": "Contents",
      "toc_cell": false,
      "toc_position": {},
      "toc_section_display": true,
      "toc_window_display": true
    }
  },
  "nbformat": 4,
  "nbformat_minor": 2
}