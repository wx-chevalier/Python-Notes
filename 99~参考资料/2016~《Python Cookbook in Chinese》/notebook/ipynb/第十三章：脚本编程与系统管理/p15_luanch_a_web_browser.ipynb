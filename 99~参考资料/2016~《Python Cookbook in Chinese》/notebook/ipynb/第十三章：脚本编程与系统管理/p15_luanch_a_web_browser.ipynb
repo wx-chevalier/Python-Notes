{
  "cells": [
    {
      "cell_type": "markdown",
      "metadata": {},
      "source": [
        "## 13.15 \u542f\u52a8\u4e00\u4e2aWEB\u6d4f\u89c8\u5668\n"
      ]
    },
    {
      "cell_type": "markdown",
      "metadata": {},
      "source": [
        "### \u95ee\u9898\n"
      ]
    },
    {
      "cell_type": "markdown",
      "metadata": {},
      "source": [
        "\u4f60\u60f3\u901a\u8fc7\u811a\u672c\u542f\u52a8\u6d4f\u89c8\u5668\u5e76\u6253\u5f00\u6307\u5b9a\u7684URL\u7f51\u9875"
      ]
    },
    {
      "cell_type": "markdown",
      "metadata": {},
      "source": [
        "### \u89e3\u51b3\u65b9\u6848\n"
      ]
    },
    {
      "cell_type": "markdown",
      "metadata": {},
      "source": [
        "webbrowser \u6a21\u5757\u80fd\u88ab\u7528\u6765\u542f\u52a8\u4e00\u4e2a\u6d4f\u89c8\u5668\uff0c\u5e76\u4e14\u4e0e\u5e73\u53f0\u65e0\u5173\u3002\u4f8b\u5982\uff1a"
      ]
    },
    {
      "cell_type": "code",
      "execution_count": null,
      "metadata": {},
      "outputs": [],
      "source": [
        "import webbrowser\nwebbrowser.open('http://www.python.org')"
      ]
    },
    {
      "cell_type": "markdown",
      "metadata": {},
      "source": [
        "\u5b83\u4f1a\u4f7f\u7528\u9ed8\u8ba4\u6d4f\u89c8\u5668\u6253\u5f00\u6307\u5b9a\u7f51\u9875\u3002\u5982\u679c\u4f60\u8fd8\u60f3\u5bf9\u7f51\u9875\u6253\u5f00\u65b9\u5f0f\u505a\u66f4\u591a\u63a7\u5236\uff0c\u8fd8\u53ef\u4ee5\u4f7f\u7528\u4e0b\u9762\u8fd9\u4e9b\u51fd\u6570\uff1a"
      ]
    },
    {
      "cell_type": "code",
      "execution_count": null,
      "metadata": {},
      "outputs": [],
      "source": [
        "# Open the page in a new browser window\nwebbrowser.open_new('http://www.python.org')"
      ]
    },
    {
      "cell_type": "code",
      "execution_count": null,
      "metadata": {},
      "outputs": [],
      "source": [
        "# Open the page in a new browser tab\nwebbrowser.open_new_tab('http://www.python.org')"
      ]
    },
    {
      "cell_type": "markdown",
      "metadata": {},
      "source": [
        "\u8fd9\u6837\u5c31\u53ef\u4ee5\u6253\u5f00\u4e00\u4e2a\u65b0\u7684\u6d4f\u89c8\u5668\u7a97\u53e3\u6216\u8005\u6807\u7b7e\uff0c\u53ea\u8981\u6d4f\u89c8\u5668\u652f\u6301\u5c31\u884c\u3002"
      ]
    },
    {
      "cell_type": "markdown",
      "metadata": {},
      "source": [
        "\u5982\u679c\u4f60\u60f3\u6307\u5b9a\u6d4f\u89c8\u5668\u7c7b\u578b\uff0c\u53ef\u4ee5\u4f7f\u7528 webbrowser.get() \u51fd\u6570\u6765\u6307\u5b9a\u67d0\u4e2a\u7279\u5b9a\u6d4f\u89c8\u5668\u3002\u4f8b\u5982\uff1a"
      ]
    },
    {
      "cell_type": "code",
      "execution_count": null,
      "metadata": {},
      "outputs": [],
      "source": [
        "c = webbrowser.get('firefox')\nc.open('http://www.python.org')"
      ]
    },
    {
      "cell_type": "code",
      "execution_count": null,
      "metadata": {},
      "outputs": [],
      "source": [
        "c.open_new_tab('http://docs.python.org')"
      ]
    },
    {
      "cell_type": "markdown",
      "metadata": {},
      "source": [
        "\u5bf9\u4e8e\u652f\u6301\u7684\u6d4f\u89c8\u5668\u540d\u79f0\u5217\u8868\u53ef\u67e5\u9605`Python\u6587\u6863 <http://docs.python.org/3/library/webbrowser.html>`_"
      ]
    },
    {
      "cell_type": "markdown",
      "metadata": {},
      "source": [
        "### \u8ba8\u8bba\n"
      ]
    },
    {
      "cell_type": "markdown",
      "metadata": {},
      "source": [
        "\u5728\u811a\u672c\u4e2d\u6253\u5f00\u6d4f\u89c8\u5668\u6709\u65f6\u5019\u4f1a\u5f88\u6709\u7528\u3002\u4f8b\u5982\uff0c\u67d0\u4e2a\u811a\u672c\u6267\u884c\u67d0\u4e2a\u670d\u52a1\u5668\u53d1\u5e03\u4efb\u52a1\uff0c\n\u4f60\u60f3\u5feb\u901f\u6253\u5f00\u4e00\u4e2a\u6d4f\u89c8\u5668\u6765\u786e\u4fdd\u5b83\u5df2\u7ecf\u6b63\u5e38\u8fd0\u884c\u4e86\u3002\n\u6216\u8005\u662f\u67d0\u4e2a\u7a0b\u5e8f\u4ee5HTML\u7f51\u9875\u683c\u5f0f\u8f93\u51fa\u6570\u636e\uff0c\u4f60\u60f3\u6253\u5f00\u6d4f\u89c8\u5668\u67e5\u770b\u7ed3\u679c\u3002\n\u4e0d\u7ba1\u662f\u4e0a\u9762\u54ea\u79cd\u60c5\u51b5\uff0c\u4f7f\u7528 webbrowser \u6a21\u5757\u90fd\u662f\u4e00\u4e2a\u7b80\u5355\u5b9e\u7528\u7684\u89e3\u51b3\u65b9\u6848\u3002"
      ]
    }
  ],
  "metadata": {
    "kernelspec": {
      "display_name": "Python 3",
      "language": "python",
      "name": "python3"
    },
    "language_info": {
      "codemirror_mode": {
        "name": "ipython",
        "version": 3
      },
      "file_extension": ".py",
      "mimetype": "text/x-python",
      "name": "python",
      "nbconvert_exporter": "python",
      "pygments_lexer": "ipython3",
      "version": "3.7.1"
    },
    "toc": {
      "base_numbering": 1,
      "nav_menu": {},
      "number_sections": true,
      "sideBar": true,
      "skip_h1_title": true,
      "title_cell": "Table of Contents",
      "title_sidebar": "Contents",
      "toc_cell": false,
      "toc_position": {},
      "toc_section_display": true,
      "toc_window_display": true
    }
  },
  "nbformat": 4,
  "nbformat_minor": 2
}