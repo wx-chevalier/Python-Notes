{
  "cells": [
    {
      "cell_type": "markdown",
      "metadata": {},
      "source": [
        "## 13.9 \u901a\u8fc7\u6587\u4ef6\u540d\u67e5\u627e\u6587\u4ef6\n"
      ]
    },
    {
      "cell_type": "markdown",
      "metadata": {},
      "source": [
        "### \u95ee\u9898\n"
      ]
    },
    {
      "cell_type": "markdown",
      "metadata": {},
      "source": [
        "\u4f60\u9700\u8981\u5199\u4e00\u4e2a\u6d89\u53ca\u5230\u6587\u4ef6\u67e5\u627e\u64cd\u4f5c\u7684\u811a\u672c\uff0c\u6bd4\u5982\u5bf9\u65e5\u5fd7\u5f52\u6863\u6587\u4ef6\u7684\u91cd\u547d\u540d\u5de5\u5177\uff0c\n\u4f60\u4e0d\u60f3\u5728Python\u811a\u672c\u4e2d\u8c03\u7528shell\uff0c\u6216\u8005\u4f60\u8981\u5b9e\u73b0\u4e00\u4e9bshell\u4e0d\u80fd\u505a\u7684\u529f\u80fd\u3002"
      ]
    },
    {
      "cell_type": "markdown",
      "metadata": {},
      "source": [
        "### \u89e3\u51b3\u65b9\u6848\n"
      ]
    },
    {
      "cell_type": "markdown",
      "metadata": {},
      "source": [
        "\u67e5\u627e\u6587\u4ef6\uff0c\u53ef\u4f7f\u7528 os.walk() \u51fd\u6570\uff0c\u4f20\u4e00\u4e2a\u9876\u7ea7\u76ee\u5f55\u540d\u7ed9\u5b83\u3002\n\u4e0b\u9762\u662f\u4e00\u4e2a\u4f8b\u5b50\uff0c\u67e5\u627e\u7279\u5b9a\u7684\u6587\u4ef6\u540d\u5e76\u7b54\u5e94\u6240\u6709\u7b26\u5408\u6761\u4ef6\u7684\u6587\u4ef6\u5168\u8def\u5f84\uff1a"
      ]
    },
    {
      "cell_type": "code",
      "execution_count": null,
      "metadata": {},
      "outputs": [],
      "source": [
        "#!/usr/bin/env python3.3\nimport os\n\ndef findfile(start, name):\n    for relpath, dirs, files in os.walk(start):\n        if name in files:\n            full_path = os.path.join(start, relpath, name)\n            print(os.path.normpath(os.path.abspath(full_path)))\n\nif __name__ == '__main__':\n    findfile(sys.argv[1], sys.argv[2])"
      ]
    },
    {
      "cell_type": "markdown",
      "metadata": {},
      "source": [
        "\u4fdd\u5b58\u811a\u672c\u4e3a\u6587\u4ef6findfile.py\uff0c\u7136\u540e\u5728\u547d\u4ee4\u884c\u4e2d\u6267\u884c\u5b83\u3002\n\u6307\u5b9a\u521d\u59cb\u67e5\u627e\u76ee\u5f55\u4ee5\u53ca\u540d\u5b57\u4f5c\u4e3a\u4f4d\u7f6e\u53c2\u6570\uff0c\u5982\u4e0b\uff1a"
      ]
    },
    {
      "cell_type": "markdown",
      "metadata": {},
      "source": [
        "### \u8ba8\u8bba\n"
      ]
    },
    {
      "cell_type": "markdown",
      "metadata": {},
      "source": [
        "os.walk() \u65b9\u6cd5\u4e3a\u6211\u4eec\u904d\u5386\u76ee\u5f55\u6811\uff0c\n\u6bcf\u6b21\u8fdb\u5165\u4e00\u4e2a\u76ee\u5f55\uff0c\u5b83\u4f1a\u8fd4\u56de\u4e00\u4e2a\u4e09\u5143\u7ec4\uff0c\u5305\u542b\u76f8\u5bf9\u4e8e\u67e5\u627e\u76ee\u5f55\u7684\u76f8\u5bf9\u8def\u5f84\uff0c\u4e00\u4e2a\u8be5\u76ee\u5f55\u4e0b\u7684\u76ee\u5f55\u540d\u5217\u8868\uff0c\n\u4ee5\u53ca\u90a3\u4e2a\u76ee\u5f55\u4e0b\u9762\u7684\u6587\u4ef6\u540d\u5217\u8868\u3002"
      ]
    },
    {
      "cell_type": "markdown",
      "metadata": {},
      "source": [
        "\u5bf9\u4e8e\u6bcf\u4e2a\u5143\u7ec4\uff0c\u53ea\u9700\u68c0\u6d4b\u4e00\u4e0b\u76ee\u6807\u6587\u4ef6\u540d\u662f\u5426\u5728\u6587\u4ef6\u5217\u8868\u4e2d\u3002\u5982\u679c\u662f\u5c31\u4f7f\u7528 os.path.join() \u5408\u5e76\u8def\u5f84\u3002\n\u4e3a\u4e86\u907f\u514d\u5947\u602a\u7684\u8def\u5f84\u540d\u6bd4\u5982 ././foo//bar \uff0c\u4f7f\u7528\u4e86\u53e6\u5916\u4e24\u4e2a\u51fd\u6570\u6765\u4fee\u6b63\u7ed3\u679c\u3002\n\u7b2c\u4e00\u4e2a\u662f os.path.abspath() ,\u5b83\u63a5\u53d7\u4e00\u4e2a\u8def\u5f84\uff0c\u53ef\u80fd\u662f\u76f8\u5bf9\u8def\u5f84\uff0c\u6700\u540e\u8fd4\u56de\u7edd\u5bf9\u8def\u5f84\u3002\n\u7b2c\u4e8c\u4e2a\u662f os.path.normpath() \uff0c\u7528\u6765\u8fd4\u56de\u6b63\u5e38\u8def\u5f84\uff0c\u53ef\u4ee5\u89e3\u51b3\u53cc\u659c\u6746\u3001\u5bf9\u76ee\u5f55\u7684\u591a\u91cd\u5f15\u7528\u7684\u95ee\u9898\u7b49\u3002"
      ]
    },
    {
      "cell_type": "markdown",
      "metadata": {},
      "source": [
        "\u5c3d\u7ba1\u8fd9\u4e2a\u811a\u672c\u76f8\u5bf9\u4e8eUNIX\u5e73\u53f0\u4e0a\u9762\u7684\u5f88\u591a\u67e5\u627e\u6765\u8bb2\u8981\u7b80\u5355\u5f88\u591a\uff0c\u5b83\u8fd8\u6709\u8de8\u5e73\u53f0\u7684\u4f18\u52bf\u3002\n\u5e76\u4e14\uff0c\u8fd8\u80fd\u5f88\u8f7b\u677e\u7684\u52a0\u5165\u5176\u4ed6\u7684\u529f\u80fd\u3002\n\u6211\u4eec\u518d\u6f14\u793a\u4e00\u4e2a\u4f8b\u5b50\uff0c\u4e0b\u9762\u7684\u51fd\u6570\u6253\u5370\u6240\u6709\u6700\u8fd1\u88ab\u4fee\u6539\u8fc7\u7684\u6587\u4ef6\uff1a"
      ]
    },
    {
      "cell_type": "code",
      "execution_count": null,
      "metadata": {},
      "outputs": [],
      "source": [
        "#!/usr/bin/env python3.3\n\nimport os\nimport time\n\ndef modified_within(top, seconds):\n    now = time.time()\n    for path, dirs, files in os.walk(top):\n        for name in files:\n            fullpath = os.path.join(path, name)\n            if os.path.exists(fullpath):\n                mtime = os.path.getmtime(fullpath)\n                if mtime > (now - seconds):\n                    print(fullpath)\n\nif __name__ == '__main__':\n    import sys\n    if len(sys.argv) != 3:\n        print('Usage: {} dir seconds'.format(sys.argv[0]))\n        raise SystemExit(1)\n\n    modified_within(sys.argv[1], float(sys.argv[2]))"
      ]
    },
    {
      "cell_type": "markdown",
      "metadata": {},
      "source": [
        "\u5728\u6b64\u51fd\u6570\u7684\u57fa\u7840\u4e4b\u4e0a\uff0c\u4f7f\u7528os,os.path,glob\u7b49\u7c7b\u4f3c\u6a21\u5757\uff0c\u4f60\u5c31\u80fd\u5b9e\u73b0\u66f4\u52a0\u590d\u6742\u7684\u64cd\u4f5c\u4e86\u3002\n\u53ef\u53c2\u80035.11\u5c0f\u8282\u548c5.13\u5c0f\u8282\u7b49\u76f8\u5173\u7ae0\u8282\u3002"
      ]
    }
  ],
  "metadata": {
    "kernelspec": {
      "display_name": "Python 3",
      "language": "python",
      "name": "python3"
    },
    "language_info": {
      "codemirror_mode": {
        "name": "ipython",
        "version": 3
      },
      "file_extension": ".py",
      "mimetype": "text/x-python",
      "name": "python",
      "nbconvert_exporter": "python",
      "pygments_lexer": "ipython3",
      "version": "3.7.1"
    },
    "toc": {
      "base_numbering": 1,
      "nav_menu": {},
      "number_sections": true,
      "sideBar": true,
      "skip_h1_title": true,
      "title_cell": "Table of Contents",
      "title_sidebar": "Contents",
      "toc_cell": false,
      "toc_position": {},
      "toc_section_display": true,
      "toc_window_display": true
    }
  },
  "nbformat": 4,
  "nbformat_minor": 2
}