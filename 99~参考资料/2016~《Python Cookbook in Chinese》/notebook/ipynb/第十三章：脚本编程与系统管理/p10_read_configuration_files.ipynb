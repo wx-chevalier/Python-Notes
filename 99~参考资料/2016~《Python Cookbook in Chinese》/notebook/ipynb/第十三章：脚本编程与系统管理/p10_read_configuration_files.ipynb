{
  "cells": [
    {
      "cell_type": "markdown",
      "metadata": {},
      "source": [
        "## 13.10 \u8bfb\u53d6\u914d\u7f6e\u6587\u4ef6\n"
      ]
    },
    {
      "cell_type": "markdown",
      "metadata": {},
      "source": [
        "### \u95ee\u9898\n"
      ]
    },
    {
      "cell_type": "markdown",
      "metadata": {},
      "source": [
        "\u600e\u6837\u8bfb\u53d6\u666e\u901a.ini\u683c\u5f0f\u7684\u914d\u7f6e\u6587\u4ef6\uff1f"
      ]
    },
    {
      "cell_type": "markdown",
      "metadata": {},
      "source": [
        "### \u89e3\u51b3\u65b9\u6848\n"
      ]
    },
    {
      "cell_type": "markdown",
      "metadata": {},
      "source": [
        "configparser \u6a21\u5757\u80fd\u88ab\u7528\u6765\u8bfb\u53d6\u914d\u7f6e\u6587\u4ef6\u3002\u4f8b\u5982\uff0c\u5047\u8bbe\u4f60\u6709\u5982\u4e0b\u7684\u914d\u7f6e\u6587\u4ef6\uff1a"
      ]
    },
    {
      "cell_type": "code",
      "execution_count": null,
      "metadata": {},
      "outputs": [],
      "source": [
        "; config.ini\n; Sample configuration file\n\n[installation]\nlibrary=%(prefix)s/lib\ninclude=%(prefix)s/include\nbin=%(prefix)s/bin\nprefix=/usr/local\n\n# Setting related to debug configuration\n[debug]\nlog_errors=true\nshow_warnings=False\n\n[server]\nport: 8080\nnworkers: 32\npid-file=/tmp/spam.pid\nroot=/www/root\nsignature:\n    =================================\n    Brought to you by the Python Cookbook\n    ================================="
      ]
    },
    {
      "cell_type": "markdown",
      "metadata": {},
      "source": [
        "\u4e0b\u9762\u662f\u4e00\u4e2a\u8bfb\u53d6\u548c\u63d0\u53d6\u5176\u4e2d\u503c\u7684\u4f8b\u5b50\uff1a"
      ]
    },
    {
      "cell_type": "code",
      "execution_count": null,
      "metadata": {},
      "outputs": [],
      "source": [
        "from configparser import ConfigParser\ncfg = ConfigParser()\ncfg.read('config.ini')"
      ]
    },
    {
      "cell_type": "code",
      "execution_count": null,
      "metadata": {},
      "outputs": [],
      "source": [
        "cfg.sections()"
      ]
    },
    {
      "cell_type": "code",
      "execution_count": null,
      "metadata": {},
      "outputs": [],
      "source": [
        "cfg.get('installation','library')"
      ]
    },
    {
      "cell_type": "code",
      "execution_count": null,
      "metadata": {},
      "outputs": [],
      "source": [
        "cfg.getboolean('debug','log_errors')"
      ]
    },
    {
      "cell_type": "code",
      "execution_count": null,
      "metadata": {},
      "outputs": [],
      "source": [
        "cfg.getint('server','port')"
      ]
    },
    {
      "cell_type": "code",
      "execution_count": null,
      "metadata": {},
      "outputs": [],
      "source": [
        "cfg.getint('server','nworkers')"
      ]
    },
    {
      "cell_type": "code",
      "execution_count": null,
      "metadata": {},
      "outputs": [],
      "source": [
        "print(cfg.get('server','signature'))"
      ]
    },
    {
      "cell_type": "markdown",
      "metadata": {},
      "source": [
        "\u5982\u679c\u6709\u9700\u8981\uff0c\u4f60\u8fd8\u80fd\u4fee\u6539\u914d\u7f6e\u5e76\u4f7f\u7528 cfg.write() \u65b9\u6cd5\u5c06\u5176\u5199\u56de\u5230\u6587\u4ef6\u4e2d\u3002\u4f8b\u5982\uff1a"
      ]
    },
    {
      "cell_type": "code",
      "execution_count": null,
      "metadata": {},
      "outputs": [],
      "source": [
        "cfg.set('server','port','9000')\ncfg.set('debug','log_errors','False')\nimport sys\ncfg.write(sys.stdout)"
      ]
    },
    {
      "cell_type": "markdown",
      "metadata": {},
      "source": [
        "### \u8ba8\u8bba\n"
      ]
    },
    {
      "cell_type": "markdown",
      "metadata": {},
      "source": [
        "\u914d\u7f6e\u6587\u4ef6\u4f5c\u4e3a\u4e00\u79cd\u53ef\u8bfb\u6027\u5f88\u597d\u7684\u683c\u5f0f\uff0c\u975e\u5e38\u9002\u7528\u4e8e\u5b58\u50a8\u7a0b\u5e8f\u4e2d\u7684\u914d\u7f6e\u6570\u636e\u3002\n\u5728\u6bcf\u4e2a\u914d\u7f6e\u6587\u4ef6\u4e2d\uff0c\u914d\u7f6e\u6570\u636e\u4f1a\u88ab\u5206\u7ec4\uff08\u6bd4\u5982\u4f8b\u5b50\u4e2d\u7684\u201cinstallation\u201d\u3001 \u201cdebug\u201d \u548c \u201cserver\u201d\uff09\u3002\n\u6bcf\u4e2a\u5206\u7ec4\u5728\u5176\u4e2d\u6307\u5b9a\u5bf9\u5e94\u7684\u5404\u4e2a\u53d8\u91cf\u503c\u3002"
      ]
    },
    {
      "cell_type": "markdown",
      "metadata": {},
      "source": [
        "\u5bf9\u4e8e\u53ef\u5b9e\u73b0\u540c\u6837\u529f\u80fd\u7684\u914d\u7f6e\u6587\u4ef6\u548cPython\u6e90\u6587\u4ef6\u662f\u6709\u5f88\u5927\u7684\u4e0d\u540c\u7684\u3002\n\u9996\u5148\uff0c\u914d\u7f6e\u6587\u4ef6\u7684\u8bed\u6cd5\u8981\u66f4\u81ea\u7531\u4e9b\uff0c\u4e0b\u9762\u7684\u8d4b\u503c\u8bed\u53e5\u662f\u7b49\u6548\u7684\uff1a"
      ]
    },
    {
      "cell_type": "code",
      "execution_count": null,
      "metadata": {},
      "outputs": [],
      "source": [
        "prefix=/usr/local\nprefix: /usr/local"
      ]
    },
    {
      "cell_type": "markdown",
      "metadata": {},
      "source": [
        "\u914d\u7f6e\u6587\u4ef6\u4e2d\u7684\u540d\u5b57\u662f\u4e0d\u533a\u5206\u5927\u5c0f\u5199\u7684\u3002\u4f8b\u5982\uff1a"
      ]
    },
    {
      "cell_type": "code",
      "execution_count": null,
      "metadata": {},
      "outputs": [],
      "source": [
        "cfg.get('installation','PREFIX')"
      ]
    },
    {
      "cell_type": "code",
      "execution_count": null,
      "metadata": {},
      "outputs": [],
      "source": [
        "cfg.get('installation','prefix')"
      ]
    },
    {
      "cell_type": "markdown",
      "metadata": {},
      "source": [
        "\u5728\u89e3\u6790\u503c\u7684\u65f6\u5019\uff0cgetboolean() \u65b9\u6cd5\u67e5\u627e\u4efb\u4f55\u53ef\u884c\u7684\u503c\u3002\u4f8b\u5982\u4e0b\u9762\u90fd\u662f\u7b49\u4ef7\u7684\uff1a"
      ]
    },
    {
      "cell_type": "code",
      "execution_count": null,
      "metadata": {},
      "outputs": [],
      "source": [
        "log_errors = true\nlog_errors = TRUE\nlog_errors = Yes\nlog_errors = 1"
      ]
    },
    {
      "cell_type": "markdown",
      "metadata": {},
      "source": [
        "\u6216\u8bb8\u914d\u7f6e\u6587\u4ef6\u548cPython\u4ee3\u7801\u6700\u5927\u7684\u4e0d\u540c\u5728\u4e8e\uff0c\u5b83\u5e76\u4e0d\u662f\u4ece\u4e0a\u800c\u4e0b\u7684\u987a\u5e8f\u6267\u884c\u3002\n\u6587\u4ef6\u662f\u5b89\u88c5\u4e00\u4e2a\u6574\u4f53\u88ab\u8bfb\u53d6\u7684\u3002\u5982\u679c\u78b0\u5230\u4e86\u53d8\u91cf\u66ff\u6362\uff0c\u5b83\u5b9e\u9645\u4e0a\u5df2\u7ecf\u88ab\u66ff\u6362\u5b8c\u6210\u4e86\u3002\n\u4f8b\u5982\uff0c\u5728\u4e0b\u9762\u8fd9\u4e2a\u914d\u7f6e\u4e2d\uff0cprefix \u53d8\u91cf\u5728\u4f7f\u7528\u5b83\u7684\u53d8\u91cf\u4e4b\u524d\u6216\u4e4b\u540e\u5b9a\u4e49\u90fd\u662f\u53ef\u4ee5\u7684\uff1a"
      ]
    },
    {
      "cell_type": "code",
      "execution_count": null,
      "metadata": {},
      "outputs": [],
      "source": [
        "[installation]\nlibrary=%(prefix)s/lib\ninclude=%(prefix)s/include\nbin=%(prefix)s/bin\nprefix=/usr/local"
      ]
    },
    {
      "cell_type": "markdown",
      "metadata": {},
      "source": [
        "ConfigParser \u6709\u4e2a\u5bb9\u6613\u88ab\u5ffd\u89c6\u7684\u7279\u6027\u662f\u5b83\u80fd\u4e00\u6b21\u8bfb\u53d6\u591a\u4e2a\u914d\u7f6e\u6587\u4ef6\u7136\u540e\u5408\u5e76\u6210\u4e00\u4e2a\u914d\u7f6e\u3002\n\u4f8b\u5982\uff0c\u5047\u8bbe\u4e00\u4e2a\u7528\u6237\u50cf\u4e0b\u9762\u8fd9\u6837\u6784\u9020\u4e86\u4ed6\u4eec\u7684\u914d\u7f6e\u6587\u4ef6\uff1a"
      ]
    },
    {
      "cell_type": "code",
      "execution_count": null,
      "metadata": {},
      "outputs": [],
      "source": [
        "; ~/.config.ini\n[installation]\nprefix=/Users/beazley/test\n\n[debug]\nlog_errors=False"
      ]
    },
    {
      "cell_type": "markdown",
      "metadata": {},
      "source": [
        "\u8bfb\u53d6\u8fd9\u4e2a\u6587\u4ef6\uff0c\u5b83\u5c31\u80fd\u8ddf\u4e4b\u524d\u7684\u914d\u7f6e\u5408\u5e76\u8d77\u6765\u3002\u5982\uff1a"
      ]
    },
    {
      "cell_type": "code",
      "execution_count": null,
      "metadata": {},
      "outputs": [],
      "source": [
        "# Previously read configuration\ncfg.get('installation', 'prefix')"
      ]
    },
    {
      "cell_type": "code",
      "execution_count": null,
      "metadata": {},
      "outputs": [],
      "source": [
        "# Merge in user-specific configuration\nimport os\ncfg.read(os.path.expanduser('~/.config.ini'))"
      ]
    },
    {
      "cell_type": "code",
      "execution_count": null,
      "metadata": {},
      "outputs": [],
      "source": [
        "cfg.get('installation', 'prefix')"
      ]
    },
    {
      "cell_type": "code",
      "execution_count": null,
      "metadata": {},
      "outputs": [],
      "source": [
        "cfg.get('installation', 'library')"
      ]
    },
    {
      "cell_type": "code",
      "execution_count": null,
      "metadata": {},
      "outputs": [],
      "source": [
        "cfg.getboolean('debug', 'log_errors')"
      ]
    },
    {
      "cell_type": "markdown",
      "metadata": {},
      "source": [
        "\u4ed4\u7ec6\u89c2\u5bdf\u4e0b prefix \u53d8\u91cf\u662f\u600e\u6837\u8986\u76d6\u5176\u4ed6\u76f8\u5173\u53d8\u91cf\u7684\uff0c\u6bd4\u5982 library \u7684\u8bbe\u5b9a\u503c\u3002\n\u4ea7\u751f\u8fd9\u79cd\u7ed3\u679c\u7684\u539f\u56e0\u662f\u53d8\u91cf\u7684\u6539\u5199\u91c7\u53d6\u7684\u662f\u540e\u53d1\u5236\u4eba\u7b56\u7565\uff0c\u4ee5\u6700\u540e\u4e00\u4e2a\u4e3a\u51c6\u3002\n\u4f60\u53ef\u4ee5\u50cf\u4e0b\u9762\u8fd9\u6837\u505a\u8bd5\u9a8c\uff1a"
      ]
    },
    {
      "cell_type": "code",
      "execution_count": null,
      "metadata": {},
      "outputs": [],
      "source": [
        "cfg.get('installation','library')"
      ]
    },
    {
      "cell_type": "code",
      "execution_count": null,
      "metadata": {},
      "outputs": [],
      "source": [
        "cfg.set('installation','prefix','/tmp/dir')\ncfg.get('installation','library')"
      ]
    },
    {
      "cell_type": "markdown",
      "metadata": {},
      "source": [
        "\u6700\u540e\u8fd8\u6709\u5f88\u91cd\u8981\u4e00\u70b9\u8981\u6ce8\u610f\u7684\u662fPython\u5e76\u4e0d\u80fd\u652f\u6301.ini\u6587\u4ef6\u5728\u5176\u4ed6\u7a0b\u5e8f\uff08\u6bd4\u5982windows\u5e94\u7528\u7a0b\u5e8f\uff09\u4e2d\u7684\u6240\u6709\u7279\u6027\u3002\n\u786e\u4fdd\u4f60\u5df2\u7ecf\u53c2\u9605\u4e86configparser\u6587\u6863\u4e2d\u7684\u8bed\u6cd5\u8be6\u60c5\u4ee5\u53ca\u652f\u6301\u7279\u6027\u3002"
      ]
    }
  ],
  "metadata": {
    "kernelspec": {
      "display_name": "Python 3",
      "language": "python",
      "name": "python3"
    },
    "language_info": {
      "codemirror_mode": {
        "name": "ipython",
        "version": 3
      },
      "file_extension": ".py",
      "mimetype": "text/x-python",
      "name": "python",
      "nbconvert_exporter": "python",
      "pygments_lexer": "ipython3",
      "version": "3.7.1"
    },
    "toc": {
      "base_numbering": 1,
      "nav_menu": {},
      "number_sections": true,
      "sideBar": true,
      "skip_h1_title": true,
      "title_cell": "Table of Contents",
      "title_sidebar": "Contents",
      "toc_cell": false,
      "toc_position": {},
      "toc_section_display": true,
      "toc_window_display": true
    }
  },
  "nbformat": 4,
  "nbformat_minor": 2
}