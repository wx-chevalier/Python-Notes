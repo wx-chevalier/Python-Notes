{
  "cells": [
    {
      "cell_type": "markdown",
      "metadata": {},
      "source": [
        "## 13.6 \u6267\u884c\u5916\u90e8\u547d\u4ee4\u5e76\u83b7\u53d6\u5b83\u7684\u8f93\u51fa\n"
      ]
    },
    {
      "cell_type": "markdown",
      "metadata": {},
      "source": [
        "### \u95ee\u9898\n"
      ]
    },
    {
      "cell_type": "markdown",
      "metadata": {},
      "source": [
        "\u4f60\u60f3\u6267\u884c\u4e00\u4e2a\u5916\u90e8\u547d\u4ee4\u5e76\u4ee5Python\u5b57\u7b26\u4e32\u7684\u5f62\u5f0f\u83b7\u53d6\u6267\u884c\u7ed3\u679c\u3002"
      ]
    },
    {
      "cell_type": "markdown",
      "metadata": {},
      "source": [
        "### \u89e3\u51b3\u65b9\u6848\n"
      ]
    },
    {
      "cell_type": "markdown",
      "metadata": {},
      "source": [
        "\u4f7f\u7528 subprocess.check_output() \u51fd\u6570\u3002\u4f8b\u5982\uff1a"
      ]
    },
    {
      "cell_type": "code",
      "execution_count": null,
      "metadata": {},
      "outputs": [],
      "source": [
        "import subprocess\nout_bytes = subprocess.check_output(['netstat','-a'])"
      ]
    },
    {
      "cell_type": "markdown",
      "metadata": {},
      "source": [
        "\u8fd9\u6bb5\u4ee3\u7801\u6267\u884c\u4e00\u4e2a\u6307\u5b9a\u7684\u547d\u4ee4\u5e76\u5c06\u6267\u884c\u7ed3\u679c\u4ee5\u4e00\u4e2a\u5b57\u8282\u5b57\u7b26\u4e32\u7684\u5f62\u5f0f\u8fd4\u56de\u3002\n\u5982\u679c\u4f60\u9700\u8981\u6587\u672c\u5f62\u5f0f\u8fd4\u56de\uff0c\u52a0\u4e00\u4e2a\u89e3\u7801\u6b65\u9aa4\u5373\u53ef\u3002\u4f8b\u5982\uff1a"
      ]
    },
    {
      "cell_type": "code",
      "execution_count": null,
      "metadata": {},
      "outputs": [],
      "source": [
        "out_text = out_bytes.decode('utf-8')"
      ]
    },
    {
      "cell_type": "markdown",
      "metadata": {},
      "source": [
        "\u5982\u679c\u88ab\u6267\u884c\u7684\u547d\u4ee4\u4ee5\u975e\u96f6\u7801\u8fd4\u56de\uff0c\u5c31\u4f1a\u629b\u51fa\u5f02\u5e38\u3002\n\u4e0b\u9762\u7684\u4f8b\u5b50\u6355\u83b7\u5230\u9519\u8bef\u5e76\u83b7\u53d6\u8fd4\u56de\u7801\uff1a"
      ]
    },
    {
      "cell_type": "code",
      "execution_count": null,
      "metadata": {},
      "outputs": [],
      "source": [
        "try:\n    out_bytes = subprocess.check_output(['cmd','arg1','arg2'])\nexcept subprocess.CalledProcessError as e:\n    out_bytes = e.output       # Output generated before error\n    code      = e.returncode   # Return code"
      ]
    },
    {
      "cell_type": "markdown",
      "metadata": {},
      "source": [
        "\u9ed8\u8ba4\u60c5\u51b5\u4e0b\uff0ccheck_output() \u4ec5\u4ec5\u8fd4\u56de\u8f93\u5165\u5230\u6807\u51c6\u8f93\u51fa\u7684\u503c\u3002\n\u5982\u679c\u4f60\u9700\u8981\u540c\u65f6\u6536\u96c6\u6807\u51c6\u8f93\u51fa\u548c\u9519\u8bef\u8f93\u51fa\uff0c\u4f7f\u7528 stderr \u53c2\u6570\uff1a"
      ]
    },
    {
      "cell_type": "code",
      "execution_count": null,
      "metadata": {},
      "outputs": [],
      "source": [
        "out_bytes = subprocess.check_output(['cmd','arg1','arg2'],\n                                    stderr=subprocess.STDOUT)"
      ]
    },
    {
      "cell_type": "markdown",
      "metadata": {},
      "source": [
        "\u5982\u679c\u4f60\u9700\u8981\u7528\u4e00\u4e2a\u8d85\u65f6\u673a\u5236\u6765\u6267\u884c\u547d\u4ee4\uff0c\u4f7f\u7528 timeout \u53c2\u6570\uff1a"
      ]
    },
    {
      "cell_type": "code",
      "execution_count": null,
      "metadata": {},
      "outputs": [],
      "source": [
        "try:\n    out_bytes = subprocess.check_output(['cmd','arg1','arg2'], timeout=5)\nexcept subprocess.TimeoutExpired as e:\n    ..."
      ]
    },
    {
      "cell_type": "markdown",
      "metadata": {},
      "source": [
        "\u901a\u5e38\u6765\u8bb2\uff0c\u547d\u4ee4\u7684\u6267\u884c\u4e0d\u9700\u8981\u4f7f\u7528\u5230\u5e95\u5c42shell\u73af\u5883\uff08\u6bd4\u5982sh\u3001bash\uff09\u3002\n\u4e00\u4e2a\u5b57\u7b26\u4e32\u5217\u8868\u4f1a\u88ab\u4f20\u9012\u7ed9\u4e00\u4e2a\u4f4e\u7ea7\u7cfb\u7edf\u547d\u4ee4\uff0c\u6bd4\u5982 os.execve() \u3002\n\u5982\u679c\u4f60\u60f3\u8ba9\u547d\u4ee4\u88ab\u4e00\u4e2ashell\u6267\u884c\uff0c\u4f20\u9012\u4e00\u4e2a\u5b57\u7b26\u4e32\u53c2\u6570\uff0c\u5e76\u8bbe\u7f6e\u53c2\u6570 shell=True .\n\u6709\u65f6\u5019\u4f60\u60f3\u8981Python\u53bb\u6267\u884c\u4e00\u4e2a\u590d\u6742\u7684shell\u547d\u4ee4\u7684\u65f6\u5019\u8fd9\u4e2a\u5c31\u5f88\u6709\u7528\u4e86\uff0c\u6bd4\u5982\u7ba1\u9053\u6d41\u3001I/O\u91cd\u5b9a\u5411\u548c\u5176\u4ed6\u7279\u6027\u3002\u4f8b\u5982\uff1a"
      ]
    },
    {
      "cell_type": "code",
      "execution_count": null,
      "metadata": {},
      "outputs": [],
      "source": [
        "out_bytes = subprocess.check_output('grep python | wc > out', shell=True)"
      ]
    },
    {
      "cell_type": "markdown",
      "metadata": {},
      "source": [
        "\u9700\u8981\u6ce8\u610f\u7684\u662f\u5728shell\u4e2d\u6267\u884c\u547d\u4ee4\u4f1a\u5b58\u5728\u4e00\u5b9a\u7684\u5b89\u5168\u98ce\u9669\uff0c\u7279\u522b\u662f\u5f53\u53c2\u6570\u6765\u81ea\u4e8e\u7528\u6237\u8f93\u5165\u65f6\u3002\n\u8fd9\u65f6\u5019\u53ef\u4ee5\u4f7f\u7528 shlex.quote() \u51fd\u6570\u6765\u5c06\u53c2\u6570\u6b63\u786e\u7684\u7528\u53cc\u5f15\u7528\u5f15\u8d77\u6765\u3002"
      ]
    },
    {
      "cell_type": "markdown",
      "metadata": {},
      "source": [
        "### \u8ba8\u8bba\n"
      ]
    },
    {
      "cell_type": "markdown",
      "metadata": {},
      "source": [
        "\u4f7f\u7528 check_output() \u51fd\u6570\u662f\u6267\u884c\u5916\u90e8\u547d\u4ee4\u5e76\u83b7\u53d6\u5176\u8fd4\u56de\u503c\u7684\u6700\u7b80\u5355\u65b9\u5f0f\u3002\n\u4f46\u662f\uff0c\u5982\u679c\u4f60\u9700\u8981\u5bf9\u5b50\u8fdb\u7a0b\u505a\u66f4\u590d\u6742\u7684\u4ea4\u4e92\uff0c\u6bd4\u5982\u7ed9\u5b83\u53d1\u9001\u8f93\u5165\uff0c\u4f60\u5f97\u91c7\u7528\u53e6\u5916\u4e00\u79cd\u65b9\u6cd5\u3002\n\u8fd9\u65f6\u5019\u53ef\u76f4\u63a5\u4f7f\u7528 subprocess.Popen \u7c7b\u3002\u4f8b\u5982\uff1a"
      ]
    },
    {
      "cell_type": "code",
      "execution_count": null,
      "metadata": {},
      "outputs": [],
      "source": [
        "import subprocess\n\n# Some text to send\ntext = b'''\nhello world\nthis is a test\ngoodbye\n'''\n\n# Launch a command with pipes\np = subprocess.Popen(['wc'],\n          stdout = subprocess.PIPE,\n          stdin = subprocess.PIPE)\n\n# Send the data and get the output\nstdout, stderr = p.communicate(text)\n\n# To interpret as text, decode\nout = stdout.decode('utf-8')\nerr = stderr.decode('utf-8')"
      ]
    },
    {
      "cell_type": "markdown",
      "metadata": {},
      "source": [
        "subprocess \u6a21\u5757\u5bf9\u4e8e\u4f9d\u8d56TTY\u7684\u5916\u90e8\u547d\u4ee4\u4e0d\u5408\u9002\u7528\u3002\n\u4f8b\u5982\uff0c\u4f60\u4e0d\u80fd\u4f7f\u7528\u5b83\u6765\u81ea\u52a8\u5316\u4e00\u4e2a\u7528\u6237\u8f93\u5165\u5bc6\u7801\u7684\u4efb\u52a1\uff08\u6bd4\u5982\u4e00\u4e2assh\u4f1a\u8bdd\uff09\u3002\n\u8fd9\u65f6\u5019\uff0c\u4f60\u9700\u8981\u4f7f\u7528\u5230\u7b2c\u4e09\u65b9\u6a21\u5757\u4e86\uff0c\u6bd4\u5982\u57fa\u4e8e\u8457\u540d\u7684 expect \u5bb6\u65cf\u7684\u5de5\u5177\uff08pexpect\u6216\u7c7b\u4f3c\u7684\uff09"
      ]
    }
  ],
  "metadata": {
    "kernelspec": {
      "display_name": "Python 3",
      "language": "python",
      "name": "python3"
    },
    "language_info": {
      "codemirror_mode": {
        "name": "ipython",
        "version": 3
      },
      "file_extension": ".py",
      "mimetype": "text/x-python",
      "name": "python",
      "nbconvert_exporter": "python",
      "pygments_lexer": "ipython3",
      "version": "3.7.1"
    },
    "toc": {
      "base_numbering": 1,
      "nav_menu": {},
      "number_sections": true,
      "sideBar": true,
      "skip_h1_title": true,
      "title_cell": "Table of Contents",
      "title_sidebar": "Contents",
      "toc_cell": false,
      "toc_position": {},
      "toc_section_display": true,
      "toc_window_display": true
    }
  },
  "nbformat": 4,
  "nbformat_minor": 2
}