{
  "cells": [
    {
      "cell_type": "markdown",
      "metadata": {},
      "source": [
        "## 13.5 \u83b7\u53d6\u7ec8\u7aef\u7684\u5927\u5c0f\n"
      ]
    },
    {
      "cell_type": "markdown",
      "metadata": {},
      "source": [
        "### \u95ee\u9898\n"
      ]
    },
    {
      "cell_type": "markdown",
      "metadata": {},
      "source": [
        "\u4f60\u9700\u8981\u77e5\u9053\u5f53\u524d\u7ec8\u7aef\u7684\u5927\u5c0f\u4ee5\u4fbf\u6b63\u786e\u7684\u683c\u5f0f\u5316\u8f93\u51fa\u3002"
      ]
    },
    {
      "cell_type": "markdown",
      "metadata": {},
      "source": [
        "### \u89e3\u51b3\u65b9\u6848\n"
      ]
    },
    {
      "cell_type": "markdown",
      "metadata": {},
      "source": [
        "\u4f7f\u7528 os.get_terminal_size() \u51fd\u6570\u6765\u505a\u5230\u8fd9\u4e00\u70b9\u3002"
      ]
    },
    {
      "cell_type": "markdown",
      "metadata": {},
      "source": [
        "\u4ee3\u7801\u793a\u4f8b\uff1a"
      ]
    },
    {
      "cell_type": "code",
      "execution_count": null,
      "metadata": {},
      "outputs": [],
      "source": [
        "import os\nsz = os.get_terminal_size()\nsz"
      ]
    },
    {
      "cell_type": "code",
      "execution_count": null,
      "metadata": {},
      "outputs": [],
      "source": [
        "sz.columns"
      ]
    },
    {
      "cell_type": "code",
      "execution_count": null,
      "metadata": {},
      "outputs": [],
      "source": [
        "sz.lines"
      ]
    },
    {
      "cell_type": "markdown",
      "metadata": {},
      "source": [
        "### \u8ba8\u8bba\n"
      ]
    },
    {
      "cell_type": "markdown",
      "metadata": {},
      "source": [
        "\u6709\u592a\u591a\u65b9\u5f0f\u6765\u5f97\u77e5\u7ec8\u7aef\u5927\u5c0f\u4e86\uff0c\u4ece\u8bfb\u53d6\u73af\u5883\u53d8\u91cf\u5230\u6267\u884c\u5e95\u5c42\u7684 ioctl() \u51fd\u6570\u7b49\u7b49\u3002\n\u4e0d\u8fc7\uff0c\u4e3a\u4ec0\u4e48\u8981\u53bb\u7814\u7a76\u8fd9\u4e9b\u590d\u6742\u7684\u529e\u6cd5\u800c\u4e0d\u662f\u4ec5\u4ec5\u8c03\u7528\u4e00\u4e2a\u7b80\u5355\u7684\u51fd\u6570\u5462\uff1f"
      ]
    }
  ],
  "metadata": {
    "kernelspec": {
      "display_name": "Python 3",
      "language": "python",
      "name": "python3"
    },
    "language_info": {
      "codemirror_mode": {
        "name": "ipython",
        "version": 3
      },
      "file_extension": ".py",
      "mimetype": "text/x-python",
      "name": "python",
      "nbconvert_exporter": "python",
      "pygments_lexer": "ipython3",
      "version": "3.7.1"
    },
    "toc": {
      "base_numbering": 1,
      "nav_menu": {},
      "number_sections": true,
      "sideBar": true,
      "skip_h1_title": true,
      "title_cell": "Table of Contents",
      "title_sidebar": "Contents",
      "toc_cell": false,
      "toc_position": {},
      "toc_section_display": true,
      "toc_window_display": true
    }
  },
  "nbformat": 4,
  "nbformat_minor": 2
}