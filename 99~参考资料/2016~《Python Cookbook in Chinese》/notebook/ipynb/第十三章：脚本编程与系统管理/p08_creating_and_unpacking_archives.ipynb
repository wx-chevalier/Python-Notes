{
  "cells": [
    {
      "cell_type": "markdown",
      "metadata": {},
      "source": [
        "## 13.8 \u521b\u5efa\u548c\u89e3\u538b\u5f52\u6863\u6587\u4ef6\n"
      ]
    },
    {
      "cell_type": "markdown",
      "metadata": {},
      "source": [
        "### \u95ee\u9898\n"
      ]
    },
    {
      "cell_type": "markdown",
      "metadata": {},
      "source": [
        "\u4f60\u9700\u8981\u521b\u5efa\u6216\u89e3\u538b\u5e38\u89c1\u683c\u5f0f\u7684\u5f52\u6863\u6587\u4ef6\uff08\u6bd4\u5982.tar, .tgz\u6216.zip\uff09"
      ]
    },
    {
      "cell_type": "markdown",
      "metadata": {},
      "source": [
        "### \u89e3\u51b3\u65b9\u6848\n"
      ]
    },
    {
      "cell_type": "markdown",
      "metadata": {},
      "source": [
        "shutil \u6a21\u5757\u62e5\u6709\u4e24\u4e2a\u51fd\u6570\u2014\u2014 make_archive() \u548c unpack_archive() \u53ef\u6d3e\u4e0a\u7528\u573a\u3002\n\u4f8b\u5982\uff1a"
      ]
    },
    {
      "cell_type": "code",
      "execution_count": null,
      "metadata": {},
      "outputs": [],
      "source": [
        "import shutil\nshutil.unpack_archive('Python-3.3.0.tgz')"
      ]
    },
    {
      "cell_type": "code",
      "execution_count": null,
      "metadata": {},
      "outputs": [],
      "source": [
        "shutil.make_archive('py33','zip','Python-3.3.0')"
      ]
    },
    {
      "cell_type": "markdown",
      "metadata": {},
      "source": [
        "make_archive() \u7684\u7b2c\u4e8c\u4e2a\u53c2\u6570\u662f\u671f\u671b\u7684\u8f93\u51fa\u683c\u5f0f\u3002\n\u53ef\u4ee5\u4f7f\u7528 get_archive_formats() \u83b7\u53d6\u6240\u6709\u652f\u6301\u7684\u5f52\u6863\u683c\u5f0f\u5217\u8868\u3002\u4f8b\u5982\uff1a"
      ]
    },
    {
      "cell_type": "code",
      "execution_count": null,
      "metadata": {},
      "outputs": [],
      "source": [
        "shutil.get_archive_formats()"
      ]
    },
    {
      "cell_type": "markdown",
      "metadata": {},
      "source": [
        "### \u8ba8\u8bba\n"
      ]
    },
    {
      "cell_type": "markdown",
      "metadata": {},
      "source": [
        "Python\u8fd8\u6709\u5176\u4ed6\u7684\u6a21\u5757\u53ef\u7528\u6765\u5904\u7406\u591a\u79cd\u5f52\u6863\u683c\u5f0f\uff08\u6bd4\u5982tarfile, zipfile, gzip, bz2\uff09\u7684\u5e95\u5c42\u7ec6\u8282\u3002\n\u4e0d\u8fc7\uff0c\u5982\u679c\u4f60\u4ec5\u4ec5\u53ea\u662f\u8981\u521b\u5efa\u6216\u63d0\u53d6\u67d0\u4e2a\u5f52\u6863\uff0c\u5c31\u6ca1\u6709\u5fc5\u8981\u4f7f\u7528\u5e95\u5c42\u5e93\u4e86\u3002\n\u53ef\u4ee5\u76f4\u63a5\u4f7f\u7528 shutil \u4e2d\u7684\u8fd9\u4e9b\u9ad8\u5c42\u51fd\u6570\u3002"
      ]
    },
    {
      "cell_type": "markdown",
      "metadata": {},
      "source": [
        "\u8fd9\u4e9b\u51fd\u6570\u8fd8\u6709\u5f88\u591a\u5176\u4ed6\u9009\u9879\uff0c\u7528\u4e8e\u65e5\u5fd7\u6253\u5370\u3001\u9884\u68c0\u3001\u6587\u4ef6\u6743\u9650\u7b49\u7b49\u3002\n\u53c2\u8003 shutil\u6587\u6863"
      ]
    }
  ],
  "metadata": {
    "kernelspec": {
      "display_name": "Python 3",
      "language": "python",
      "name": "python3"
    },
    "language_info": {
      "codemirror_mode": {
        "name": "ipython",
        "version": 3
      },
      "file_extension": ".py",
      "mimetype": "text/x-python",
      "name": "python",
      "nbconvert_exporter": "python",
      "pygments_lexer": "ipython3",
      "version": "3.7.1"
    },
    "toc": {
      "base_numbering": 1,
      "nav_menu": {},
      "number_sections": true,
      "sideBar": true,
      "skip_h1_title": true,
      "title_cell": "Table of Contents",
      "title_sidebar": "Contents",
      "toc_cell": false,
      "toc_position": {},
      "toc_section_display": true,
      "toc_window_display": true
    }
  },
  "nbformat": 4,
  "nbformat_minor": 2
}