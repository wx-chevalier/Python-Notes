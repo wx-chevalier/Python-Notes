{
  "cells": [
    {
      "cell_type": "markdown",
      "metadata": {},
      "source": [
        "## 13.11 \u7ed9\u7b80\u5355\u811a\u672c\u589e\u52a0\u65e5\u5fd7\u529f\u80fd\n"
      ]
    },
    {
      "cell_type": "markdown",
      "metadata": {},
      "source": [
        "### \u95ee\u9898\n"
      ]
    },
    {
      "cell_type": "markdown",
      "metadata": {},
      "source": [
        "\u4f60\u5e0c\u671b\u5728\u811a\u672c\u548c\u7a0b\u5e8f\u4e2d\u5c06\u8bca\u65ad\u4fe1\u606f\u5199\u5165\u65e5\u5fd7\u6587\u4ef6\u3002"
      ]
    },
    {
      "cell_type": "markdown",
      "metadata": {},
      "source": [
        "### \u89e3\u51b3\u65b9\u6848\n"
      ]
    },
    {
      "cell_type": "markdown",
      "metadata": {},
      "source": [
        "\u6253\u5370\u65e5\u5fd7\u6700\u7b80\u5355\u65b9\u5f0f\u662f\u4f7f\u7528 logging \u6a21\u5757\u3002\u4f8b\u5982\uff1a"
      ]
    },
    {
      "cell_type": "code",
      "execution_count": null,
      "metadata": {},
      "outputs": [],
      "source": [
        "import logging\n\ndef main():\n    # Configure the logging system\n    logging.basicConfig(\n        filename='app.log',\n        level=logging.ERROR\n    )\n\n    # Variables (to make the calls that follow work)\n    hostname = 'www.python.org'\n    item = 'spam'\n    filename = 'data.csv'\n    mode = 'r'\n\n    # Example logging calls (insert into your program)\n    logging.critical('Host %s unknown', hostname)\n    logging.error(\"Couldn't find %r\", item)\n    logging.warning('Feature is deprecated')\n    logging.info('Opening file %r, mode=%r', filename, mode)\n    logging.debug('Got here')\n\nif __name__ == '__main__':\n    main()"
      ]
    },
    {
      "cell_type": "markdown",
      "metadata": {},
      "source": [
        "\u4e0a\u9762\u4e94\u4e2a\u65e5\u5fd7\u8c03\u7528\uff08critical(), error(), warning(), info(), debug()\uff09\u4ee5\u964d\u5e8f\u65b9\u5f0f\u8868\u793a\u4e0d\u540c\u7684\u4e25\u91cd\u7ea7\u522b\u3002\nbasicConfig() \u7684 level \u53c2\u6570\u662f\u4e00\u4e2a\u8fc7\u6ee4\u5668\u3002\n\u6240\u6709\u7ea7\u522b\u4f4e\u4e8e\u6b64\u7ea7\u522b\u7684\u65e5\u5fd7\u6d88\u606f\u90fd\u4f1a\u88ab\u5ffd\u7565\u6389\u3002\n\u6bcf\u4e2alogging\u64cd\u4f5c\u7684\u53c2\u6570\u662f\u4e00\u4e2a\u6d88\u606f\u5b57\u7b26\u4e32\uff0c\u540e\u9762\u518d\u8ddf\u4e00\u4e2a\u6216\u591a\u4e2a\u53c2\u6570\u3002\n\u6784\u9020\u6700\u7ec8\u7684\u65e5\u5fd7\u6d88\u606f\u7684\u65f6\u5019\u6211\u4eec\u4f7f\u7528\u4e86%\u64cd\u4f5c\u7b26\u6765\u683c\u5f0f\u5316\u6d88\u606f\u5b57\u7b26\u4e32\u3002"
      ]
    },
    {
      "cell_type": "markdown",
      "metadata": {},
      "source": [
        "\u8fd0\u884c\u8fd9\u4e2a\u7a0b\u5e8f\u540e\uff0c\u5728\u6587\u4ef6 app.log \u4e2d\u7684\u5185\u5bb9\u5e94\u8be5\u662f\u4e0b\u9762\u8fd9\u6837\uff1a"
      ]
    },
    {
      "cell_type": "code",
      "execution_count": null,
      "metadata": {},
      "outputs": [],
      "source": [
        "CRITICAL:root:Host www.python.org unknown\nERROR:root:Could not find 'spam'"
      ]
    },
    {
      "cell_type": "markdown",
      "metadata": {},
      "source": [
        "\u5982\u679c\u4f60\u60f3\u6539\u53d8\u8f93\u51fa\u7b49\u7ea7\uff0c\u4f60\u53ef\u4ee5\u4fee\u6539 basicConfig() \u8c03\u7528\u4e2d\u7684\u53c2\u6570\u3002\u4f8b\u5982\uff1a"
      ]
    },
    {
      "cell_type": "code",
      "execution_count": null,
      "metadata": {},
      "outputs": [],
      "source": [
        "logging.basicConfig(\n     filename='app.log',\n     level=logging.WARNING,\n     format='%(levelname)s:%(asctime)s:%(message)s')"
      ]
    },
    {
      "cell_type": "markdown",
      "metadata": {},
      "source": [
        "\u6700\u540e\u8f93\u51fa\u53d8\u6210\u5982\u4e0b\uff1a"
      ]
    },
    {
      "cell_type": "code",
      "execution_count": null,
      "metadata": {},
      "outputs": [],
      "source": [
        "CRITICAL:2012-11-20 12:27:13,595:Host www.python.org unknown\nERROR:2012-11-20 12:27:13,595:Could not find 'spam'\nWARNING:2012-11-20 12:27:13,595:Feature is deprecated"
      ]
    },
    {
      "cell_type": "markdown",
      "metadata": {},
      "source": [
        "\u4e0a\u9762\u7684\u65e5\u5fd7\u914d\u7f6e\u90fd\u662f\u786c\u7f16\u7801\u5230\u7a0b\u5e8f\u4e2d\u7684\u3002\u5982\u679c\u4f60\u60f3\u4f7f\u7528\u914d\u7f6e\u6587\u4ef6\uff0c\n\u53ef\u4ee5\u50cf\u4e0b\u9762\u8fd9\u6837\u4fee\u6539 basicConfig() \u8c03\u7528\uff1a"
      ]
    },
    {
      "cell_type": "code",
      "execution_count": null,
      "metadata": {},
      "outputs": [],
      "source": [
        "import logging\nimport logging.config\n\ndef main():\n    # Configure the logging system\n    logging.config.fileConfig('logconfig.ini')\n    ..."
      ]
    },
    {
      "cell_type": "markdown",
      "metadata": {},
      "source": [
        "\u521b\u5efa\u4e00\u4e2a\u4e0b\u9762\u8fd9\u6837\u7684\u6587\u4ef6\uff0c\u540d\u5b57\u53eb logconfig.ini \uff1a"
      ]
    },
    {
      "cell_type": "code",
      "execution_count": null,
      "metadata": {},
      "outputs": [],
      "source": [
        "[loggers]\nkeys=root\n\n[handlers]\nkeys=defaultHandler\n\n[formatters]\nkeys=defaultFormatter\n\n[logger_root]\nlevel=INFO\nhandlers=defaultHandler\nqualname=root\n\n[handler_defaultHandler]\nclass=FileHandler\nformatter=defaultFormatter\nargs=('app.log', 'a')\n\n[formatter_defaultFormatter]\nformat=%(levelname)s:%(name)s:%(message)s"
      ]
    },
    {
      "cell_type": "markdown",
      "metadata": {},
      "source": [
        "\u5982\u679c\u4f60\u60f3\u4fee\u6539\u914d\u7f6e\uff0c\u53ef\u4ee5\u76f4\u63a5\u7f16\u8f91\u6587\u4ef6logconfig.ini\u5373\u53ef\u3002"
      ]
    },
    {
      "cell_type": "markdown",
      "metadata": {},
      "source": [
        "### \u8ba8\u8bba\n"
      ]
    },
    {
      "cell_type": "markdown",
      "metadata": {},
      "source": [
        "\u5c3d\u7ba1\u5bf9\u4e8e logging \u6a21\u5757\u800c\u5df2\u6709\u5f88\u591a\u66f4\u9ad8\u7ea7\u7684\u914d\u7f6e\u9009\u9879\uff0c\n\u4e0d\u8fc7\u8fd9\u91cc\u7684\u65b9\u6848\u5bf9\u4e8e\u7b80\u5355\u7684\u7a0b\u5e8f\u548c\u811a\u672c\u5df2\u7ecf\u8db3\u591f\u4e86\u3002\n\u53ea\u60f3\u5728\u8c03\u7528\u65e5\u5fd7\u64cd\u4f5c\u524d\u5148\u6267\u884c\u4e0bbasicConfig()\u51fd\u6570\u65b9\u6cd5\uff0c\u4f60\u7684\u7a0b\u5e8f\u5c31\u80fd\u4ea7\u751f\u65e5\u5fd7\u8f93\u51fa\u4e86\u3002"
      ]
    },
    {
      "cell_type": "markdown",
      "metadata": {},
      "source": [
        "\u5982\u679c\u4f60\u60f3\u8981\u4f60\u7684\u65e5\u5fd7\u6d88\u606f\u5199\u5230\u6807\u51c6\u9519\u8bef\u4e2d\uff0c\u800c\u4e0d\u662f\u65e5\u5fd7\u6587\u4ef6\u4e2d\uff0c\u8c03\u7528 basicConfig() \u65f6\u4e0d\u4f20\u6587\u4ef6\u540d\u53c2\u6570\u5373\u53ef\u3002\u4f8b\u5982\uff1a"
      ]
    },
    {
      "cell_type": "code",
      "execution_count": null,
      "metadata": {},
      "outputs": [],
      "source": [
        "logging.basicConfig(level=logging.INFO)"
      ]
    },
    {
      "cell_type": "markdown",
      "metadata": {},
      "source": [
        "basicConfig() \u5728\u7a0b\u5e8f\u4e2d\u53ea\u80fd\u88ab\u6267\u884c\u4e00\u6b21\u3002\u5982\u679c\u4f60\u7a0d\u540e\u60f3\u6539\u53d8\u65e5\u5fd7\u914d\u7f6e\uff0c\n\u5c31\u9700\u8981\u5148\u83b7\u53d6 root logger \uff0c\u7136\u540e\u76f4\u63a5\u4fee\u6539\u5b83\u3002\u4f8b\u5982\uff1a"
      ]
    },
    {
      "cell_type": "code",
      "execution_count": null,
      "metadata": {},
      "outputs": [],
      "source": [
        "logging.getLogger().level = logging.DEBUG"
      ]
    },
    {
      "cell_type": "markdown",
      "metadata": {},
      "source": [
        "\u9700\u8981\u5f3a\u8c03\u7684\u662f\u672c\u8282\u53ea\u662f\u6f14\u793a\u4e86 logging \u6a21\u5757\u7684\u4e00\u4e9b\u57fa\u672c\u7528\u6cd5\u3002\n\u5b83\u53ef\u4ee5\u505a\u66f4\u591a\u66f4\u9ad8\u7ea7\u7684\u5b9a\u5236\u3002\n\u5173\u4e8e\u65e5\u5fd7\u5b9a\u5236\u5316\u4e00\u4e2a\u5f88\u597d\u7684\u8d44\u6e90\u662f Logging Cookbook"
      ]
    }
  ],
  "metadata": {
    "kernelspec": {
      "display_name": "Python 3",
      "language": "python",
      "name": "python3"
    },
    "language_info": {
      "codemirror_mode": {
        "name": "ipython",
        "version": 3
      },
      "file_extension": ".py",
      "mimetype": "text/x-python",
      "name": "python",
      "nbconvert_exporter": "python",
      "pygments_lexer": "ipython3",
      "version": "3.7.1"
    },
    "toc": {
      "base_numbering": 1,
      "nav_menu": {},
      "number_sections": true,
      "sideBar": true,
      "skip_h1_title": true,
      "title_cell": "Table of Contents",
      "title_sidebar": "Contents",
      "toc_cell": false,
      "toc_position": {},
      "toc_section_display": true,
      "toc_window_display": true
    }
  },
  "nbformat": 4,
  "nbformat_minor": 2
}