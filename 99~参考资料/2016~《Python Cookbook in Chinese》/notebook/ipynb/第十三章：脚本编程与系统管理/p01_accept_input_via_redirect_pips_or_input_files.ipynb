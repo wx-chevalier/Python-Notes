{
  "cells": [
    {
      "cell_type": "markdown",
      "metadata": {},
      "source": [
        "## 13.1 \u901a\u8fc7\u91cd\u5b9a\u5411/\u7ba1\u9053/\u6587\u4ef6\u63a5\u53d7\u8f93\u5165\n"
      ]
    },
    {
      "cell_type": "markdown",
      "metadata": {},
      "source": [
        "### \u95ee\u9898\n"
      ]
    },
    {
      "cell_type": "markdown",
      "metadata": {},
      "source": [
        "\u4f60\u5e0c\u671b\u4f60\u7684\u811a\u672c\u63a5\u53d7\u4efb\u4f55\u7528\u6237\u8ba4\u4e3a\u6700\u7b80\u5355\u7684\u8f93\u5165\u65b9\u5f0f\u3002\u5305\u62ec\u5c06\u547d\u4ee4\u884c\u7684\u8f93\u51fa\u901a\u8fc7\u7ba1\u9053\u4f20\u9012\u7ed9\u8be5\u811a\u672c\u3001\n\u91cd\u5b9a\u5411\u6587\u4ef6\u5230\u8be5\u811a\u672c\uff0c\u6216\u5728\u547d\u4ee4\u884c\u4e2d\u4f20\u9012\u4e00\u4e2a\u6587\u4ef6\u540d\u6216\u6587\u4ef6\u540d\u5217\u8868\u7ed9\u8be5\u811a\u672c\u3002"
      ]
    },
    {
      "cell_type": "markdown",
      "metadata": {},
      "source": [
        "### \u89e3\u51b3\u65b9\u6848\n"
      ]
    },
    {
      "cell_type": "markdown",
      "metadata": {},
      "source": [
        "Python\u5185\u7f6e\u7684 fileinput \u6a21\u5757\u8ba9\u8fd9\u4e2a\u53d8\u5f97\u7b80\u5355\u3002\u5982\u679c\u4f60\u6709\u4e00\u4e2a\u4e0b\u9762\u8fd9\u6837\u7684\u811a\u672c\uff1a"
      ]
    },
    {
      "cell_type": "code",
      "execution_count": null,
      "metadata": {},
      "outputs": [],
      "source": [
        "#!/usr/bin/env python3\nimport fileinput\n\nwith fileinput.input() as f_input:\n    for line in f_input:\n        print(line, end='')"
      ]
    },
    {
      "cell_type": "markdown",
      "metadata": {},
      "source": [
        "\u90a3\u4e48\u4f60\u5c31\u80fd\u4ee5\u524d\u9762\u63d0\u5230\u7684\u6240\u6709\u65b9\u5f0f\u6765\u4e3a\u6b64\u811a\u672c\u63d0\u4f9b\u8f93\u5165\u3002\u5047\u8bbe\u4f60\u5c06\u6b64\u811a\u672c\u4fdd\u5b58\u4e3a filein.py \u5e76\u5c06\u5176\u53d8\u4e3a\u53ef\u6267\u884c\u6587\u4ef6\uff0c\n\u90a3\u4e48\u4f60\u53ef\u4ee5\u50cf\u4e0b\u9762\u8fd9\u6837\u8c03\u7528\u5b83\uff0c\u5f97\u5230\u671f\u671b\u7684\u8f93\u51fa\uff1a"
      ]
    },
    {
      "cell_type": "code",
      "execution_count": null,
      "metadata": {},
      "outputs": [],
      "source": [
        "$ ls | ./filein.py          # Prints a directory listing to stdout.\n$ ./filein.py /etc/passwd   # Reads /etc/passwd to stdout.\n$ ./filein.py < /etc/passwd # Reads /etc/passwd to stdout."
      ]
    },
    {
      "cell_type": "markdown",
      "metadata": {},
      "source": [
        "### \u8ba8\u8bba\n"
      ]
    },
    {
      "cell_type": "markdown",
      "metadata": {},
      "source": [
        "fileinput.input() \u521b\u5efa\u5e76\u8fd4\u56de\u4e00\u4e2a FileInput \u7c7b\u7684\u5b9e\u4f8b\u3002\n\u8be5\u5b9e\u4f8b\u9664\u4e86\u62e5\u6709\u4e00\u4e9b\u6709\u7528\u7684\u5e2e\u52a9\u65b9\u6cd5\u5916\uff0c\u5b83\u8fd8\u53ef\u88ab\u5f53\u505a\u4e00\u4e2a\u4e0a\u4e0b\u6587\u7ba1\u7406\u5668\u4f7f\u7528\u3002\n\u56e0\u6b64\uff0c\u6574\u5408\u8d77\u6765\uff0c\u5982\u679c\u6211\u4eec\u8981\u5199\u4e00\u4e2a\u6253\u5370\u591a\u4e2a\u6587\u4ef6\u8f93\u51fa\u7684\u811a\u672c\uff0c\u90a3\u4e48\u6211\u4eec\u9700\u8981\u5728\u8f93\u51fa\u4e2d\u5305\u542b\u6587\u4ef6\u540d\u548c\u884c\u53f7\uff0c\u5982\u4e0b\u6240\u793a\uff1a"
      ]
    },
    {
      "cell_type": "code",
      "execution_count": null,
      "metadata": {},
      "outputs": [],
      "source": [
        "import fileinput\nwith fileinput.input('/etc/passwd') as f:\n    for line in f:\n        print(f.filename(), f.lineno(), line, end='')"
      ]
    },
    {
      "cell_type": "markdown",
      "metadata": {},
      "source": [
        "\u901a\u8fc7\u5c06\u5b83\u4f5c\u4e3a\u4e00\u4e2a\u4e0a\u4e0b\u6587\u7ba1\u7406\u5668\u4f7f\u7528\uff0c\u53ef\u4ee5\u786e\u4fdd\u5b83\u4e0d\u518d\u4f7f\u7528\u65f6\u6587\u4ef6\u80fd\u81ea\u52a8\u5173\u95ed\uff0c\n\u800c\u4e14\u6211\u4eec\u5728\u4e4b\u540e\u8fd8\u6f14\u793a\u4e86 FileInput \u7684\u4e00\u4e9b\u6709\u7528\u7684\u5e2e\u52a9\u65b9\u6cd5\u6765\u83b7\u53d6\u8f93\u51fa\u4e2d\u7684\u4e00\u4e9b\u5176\u4ed6\u4fe1\u606f\u3002"
      ]
    }
  ],
  "metadata": {
    "kernelspec": {
      "display_name": "Python 3",
      "language": "python",
      "name": "python3"
    },
    "language_info": {
      "codemirror_mode": {
        "name": "ipython",
        "version": 3
      },
      "file_extension": ".py",
      "mimetype": "text/x-python",
      "name": "python",
      "nbconvert_exporter": "python",
      "pygments_lexer": "ipython3",
      "version": "3.7.1"
    },
    "toc": {
      "base_numbering": 1,
      "nav_menu": {},
      "number_sections": true,
      "sideBar": true,
      "skip_h1_title": true,
      "title_cell": "Table of Contents",
      "title_sidebar": "Contents",
      "toc_cell": false,
      "toc_position": {},
      "toc_section_display": true,
      "toc_window_display": true
    }
  },
  "nbformat": 4,
  "nbformat_minor": 2
}