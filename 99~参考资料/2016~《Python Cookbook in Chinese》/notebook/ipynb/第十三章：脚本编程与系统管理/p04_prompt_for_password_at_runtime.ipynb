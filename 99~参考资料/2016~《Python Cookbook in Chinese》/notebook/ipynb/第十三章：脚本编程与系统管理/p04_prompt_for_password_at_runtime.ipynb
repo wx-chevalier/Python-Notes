{
  "cells": [
    {
      "cell_type": "markdown",
      "metadata": {},
      "source": [
        "## 13.4 \u8fd0\u884c\u65f6\u5f39\u51fa\u5bc6\u7801\u8f93\u5165\u63d0\u793a\n"
      ]
    },
    {
      "cell_type": "markdown",
      "metadata": {},
      "source": [
        "### \u95ee\u9898\n"
      ]
    },
    {
      "cell_type": "markdown",
      "metadata": {},
      "source": [
        "\u4f60\u5199\u4e86\u4e2a\u811a\u672c\uff0c\u8fd0\u884c\u65f6\u9700\u8981\u4e00\u4e2a\u5bc6\u7801\u3002\u6b64\u811a\u672c\u662f\u4ea4\u4e92\u5f0f\u7684\uff0c\u56e0\u6b64\u4e0d\u80fd\u5c06\u5bc6\u7801\u5728\u811a\u672c\u4e2d\u786c\u7f16\u7801\uff0c\n\u800c\u662f\u9700\u8981\u5f39\u51fa\u4e00\u4e2a\u5bc6\u7801\u8f93\u5165\u63d0\u793a\uff0c\u8ba9\u7528\u6237\u81ea\u5df1\u8f93\u5165\u3002"
      ]
    },
    {
      "cell_type": "markdown",
      "metadata": {},
      "source": [
        "### \u89e3\u51b3\u65b9\u6848\n"
      ]
    },
    {
      "cell_type": "markdown",
      "metadata": {},
      "source": [
        "\u8fd9\u65f6\u5019Python\u7684 getpass \u6a21\u5757\u6b63\u662f\u4f60\u6240\u9700\u8981\u7684\u3002\u4f60\u53ef\u4ee5\u8ba9\u4f60\u5f88\u8f7b\u677e\u7684\u5f39\u51fa\u5bc6\u7801\u8f93\u5165\u63d0\u793a\uff0c\n\u5e76\u4e14\u4e0d\u4f1a\u5728\u7528\u6237\u7ec8\u7aef\u56de\u663e\u5bc6\u7801\u3002\u4e0b\u9762\u662f\u5177\u4f53\u4ee3\u7801\uff1a"
      ]
    },
    {
      "cell_type": "code",
      "execution_count": null,
      "metadata": {},
      "outputs": [],
      "source": [
        "import getpass\n\nuser = getpass.getuser()\npasswd = getpass.getpass()\n\nif svc_login(user, passwd):    # You must write svc_login()\n   print('Yay!')\nelse:\n   print('Boo!')"
      ]
    },
    {
      "cell_type": "markdown",
      "metadata": {},
      "source": [
        "\u5728\u6b64\u4ee3\u7801\u4e2d\uff0csvc_login() \u662f\u4f60\u8981\u5b9e\u73b0\u7684\u5904\u7406\u5bc6\u7801\u7684\u51fd\u6570\uff0c\u5177\u4f53\u7684\u5904\u7406\u8fc7\u7a0b\u4f60\u81ea\u5df1\u51b3\u5b9a\u3002"
      ]
    },
    {
      "cell_type": "markdown",
      "metadata": {},
      "source": [
        "### \u8ba8\u8bba\n"
      ]
    },
    {
      "cell_type": "markdown",
      "metadata": {},
      "source": [
        "\u6ce8\u610f\u5728\u524d\u9762\u4ee3\u7801\u4e2d getpass.getuser() \u4e0d\u4f1a\u5f39\u51fa\u7528\u6237\u540d\u7684\u8f93\u5165\u63d0\u793a\u3002\n\u5b83\u4f1a\u6839\u636e\u8be5\u7528\u6237\u7684shell\u73af\u5883\u6216\u8005\u4f1a\u4f9d\u636e\u672c\u5730\u7cfb\u7edf\u7684\u5bc6\u7801\u5e93\uff08\u652f\u6301 pwd \u6a21\u5757\u7684\u5e73\u53f0\uff09\u6765\u4f7f\u7528\u5f53\u524d\u7528\u6237\u7684\u767b\u5f55\u540d\uff0c"
      ]
    },
    {
      "cell_type": "markdown",
      "metadata": {},
      "source": [
        "\u5982\u679c\u4f60\u60f3\u663e\u793a\u7684\u5f39\u51fa\u7528\u6237\u540d\u8f93\u5165\u63d0\u793a\uff0c\u4f7f\u7528\u5185\u7f6e\u7684 input \u51fd\u6570\uff1a"
      ]
    },
    {
      "cell_type": "code",
      "execution_count": null,
      "metadata": {},
      "outputs": [],
      "source": [
        "user = input('Enter your username: ')"
      ]
    },
    {
      "cell_type": "markdown",
      "metadata": {},
      "source": [
        "\u8fd8\u6709\u4e00\u70b9\u5f88\u91cd\u8981\uff0c\u6709\u4e9b\u7cfb\u7edf\u53ef\u80fd\u4e0d\u652f\u6301 getpass() \u65b9\u6cd5\u9690\u85cf\u8f93\u5165\u5bc6\u7801\u3002\n\u8fd9\u79cd\u60c5\u51b5\u4e0b\uff0cPython\u4f1a\u63d0\u524d\u8b66\u544a\u4f60\u8fd9\u4e9b\u95ee\u9898\uff08\u4f8b\u5982\u5b83\u4f1a\u8b66\u544a\u4f60\u8bf4\u5bc6\u7801\u4f1a\u4ee5\u660e\u6587\u5f62\u5f0f\u663e\u793a\uff09"
      ]
    }
  ],
  "metadata": {
    "kernelspec": {
      "display_name": "Python 3",
      "language": "python",
      "name": "python3"
    },
    "language_info": {
      "codemirror_mode": {
        "name": "ipython",
        "version": 3
      },
      "file_extension": ".py",
      "mimetype": "text/x-python",
      "name": "python",
      "nbconvert_exporter": "python",
      "pygments_lexer": "ipython3",
      "version": "3.7.1"
    },
    "toc": {
      "base_numbering": 1,
      "nav_menu": {},
      "number_sections": true,
      "sideBar": true,
      "skip_h1_title": true,
      "title_cell": "Table of Contents",
      "title_sidebar": "Contents",
      "toc_cell": false,
      "toc_position": {},
      "toc_section_display": true,
      "toc_window_display": true
    }
  },
  "nbformat": 4,
  "nbformat_minor": 2
}