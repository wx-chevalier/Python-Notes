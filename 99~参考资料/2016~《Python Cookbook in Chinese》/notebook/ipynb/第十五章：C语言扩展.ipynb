{
  "cells": [
    {
      "cell_type": "markdown",
      "metadata": {},
      "source": [
        "# \u7b2c\u5341\u4e94\u7ae0\uff1aC\u8bed\u8a00\u6269\u5c55\n \u672c\u7ae0\u7740\u773c\u4e8e\u4ecePython\u8bbf\u95eeC\u4ee3\u7801\u7684\u95ee\u9898\u3002\u8bb8\u591aPython\u5185\u7f6e\u5e93\u662f\u7528C\u5199\u7684\uff0c\n\u8bbf\u95eeC\u662f\u8ba9Python\u7684\u5bf9\u73b0\u6709\u5e93\u8fdb\u884c\u4ea4\u4e92\u4e00\u4e2a\u91cd\u8981\u7684\u7ec4\u6210\u90e8\u5206\u3002\n\u8fd9\u4e5f\u662f\u4e00\u4e2a\u5f53\u4f60\u9762\u4e34\u4ecePython 2 \u5230 Python 3\u6269\u5c55\u4ee3\u7801\u7684\u95ee\u9898\u3002\n\u867d\u7136Python\u63d0\u4f9b\u4e86\u4e00\u4e2a\u5e7f\u6cdb\u7684\u7f16\u7a0bAPI\uff0c\u5b9e\u9645\u4e0a\u6709\u5f88\u591a\u65b9\u6cd5\u6765\u5904\u7406C\u7684\u4ee3\u7801\u3002\n\u76f8\u6bd4\u8bd5\u56fe\u7ed9\u51fa\u5bf9\u4e8e\u6bcf\u4e00\u4e2a\u53ef\u80fd\u7684\u5de5\u5177\u6216\u6280\u672f\u7684\u8be6\u7ec6\u53c2\u8003\uff0c\n\u6211\u4e48\u91c7\u7528\u7684\u662f\u662f\u96c6\u4e2d\u5728\u4e00\u4e2a\u5c0f\u7247\u6bb5\u7684C++\u4ee3\u7801\uff0c\u4ee5\u53ca\u4e00\u4e9b\u6709\u4ee3\u8868\u6027\u7684\u4f8b\u5b50\u6765\u5c55\u793a\u5982\u4f55\u4e0e\u4ee3\u7801\u4ea4\u4e92\u3002\n\u8fd9\u4e2a\u76ee\u6807\u662f\u63d0\u4f9b\u4e00\u7cfb\u5217\u7684\u7f16\u7a0b\u6a21\u677f\uff0c\u6709\u7ecf\u9a8c\u7684\u7a0b\u5e8f\u5458\u53ef\u4ee5\u6269\u5c55\u81ea\u5df1\u7684\u4f7f\u7528\u3002"
      ]
    },
    {
      "cell_type": "markdown",
      "metadata": {},
      "source": [
        "## 15.1 \u4f7f\u7528ctypes\u8bbf\u95eeC\u4ee3\u7801\n"
      ]
    },
    {
      "cell_type": "markdown",
      "metadata": {},
      "source": [
        "### \u95ee\u9898\n"
      ]
    },
    {
      "cell_type": "markdown",
      "metadata": {},
      "source": [
        "\u4f60\u6709\u4e00\u4e9bC\u51fd\u6570\u5df2\u7ecf\u88ab\u7f16\u8bd1\u5230\u5171\u4eab\u5e93\u6216DLL\u4e2d\u3002\u4f60\u5e0c\u671b\u53ef\u4ee5\u4f7f\u7528\u7eafPython\u4ee3\u7801\u8c03\u7528\u8fd9\u4e9b\u51fd\u6570\uff0c\n\u800c\u4e0d\u7528\u7f16\u5199\u989d\u5916\u7684C\u4ee3\u7801\u6216\u4f7f\u7528\u7b2c\u4e09\u65b9\u6269\u5c55\u5de5\u5177\u3002"
      ]
    },
    {
      "cell_type": "markdown",
      "metadata": {},
      "source": [
        "### \u89e3\u51b3\u65b9\u6848\n"
      ]
    },
    {
      "cell_type": "markdown",
      "metadata": {},
      "source": [
        "\u5bf9\u4e8e\u9700\u8981\u8c03\u7528C\u4ee3\u7801\u7684\u4e00\u4e9b\u5c0f\u7684\u95ee\u9898\uff0c\u901a\u5e38\u4f7f\u7528Python\u6807\u51c6\u5e93\u4e2d\u7684 ctypes \u6a21\u5757\u5c31\u8db3\u591f\u4e86\u3002\n\u8981\u4f7f\u7528 ctypes \uff0c\u4f60\u9996\u5148\u8981\u786e\u4fdd\u4f60\u8981\u8bbf\u95ee\u7684C\u4ee3\u7801\u5df2\u7ecf\u88ab\u7f16\u8bd1\u5230\u548cPython\u89e3\u91ca\u5668\u517c\u5bb9\n\uff08\u540c\u6837\u7684\u67b6\u6784\u3001\u5b57\u5927\u5c0f\u3001\u7f16\u8bd1\u5668\u7b49\uff09\u7684\u67d0\u4e2a\u5171\u4eab\u5e93\u4e2d\u4e86\u3002\n\u4e3a\u4e86\u8fdb\u884c\u672c\u8282\u7684\u6f14\u793a\uff0c\u5047\u8bbe\u4f60\u6709\u4e00\u4e2a\u5171\u4eab\u5e93\u540d\u5b57\u53eb libsample.so \uff0c\u91cc\u9762\u7684\u5185\u5bb9\u5c31\u662f15\u7ae0\u4ecb\u7ecd\u90e8\u5206\u90a3\u6837\u3002\n\u53e6\u5916\u8fd8\u5047\u8bbe\u8fd9\u4e2a libsample.so \u6587\u4ef6\u88ab\u653e\u7f6e\u5230\u4f4d\u4e8e sample.py \u6587\u4ef6\u76f8\u540c\u7684\u76ee\u5f55\u4e2d\u4e86\u3002"
      ]
    },
    {
      "cell_type": "markdown",
      "metadata": {},
      "source": [
        "\u8981\u8bbf\u95ee\u8fd9\u4e2a\u51fd\u6570\u5e93\uff0c\u4f60\u8981\u5148\u6784\u5efa\u4e00\u4e2a\u5305\u88c5\u5b83\u7684Python\u6a21\u5757\uff0c\u5982\u4e0b\u8fd9\u6837\uff1a"
      ]
    },
    {
      "cell_type": "code",
      "execution_count": null,
      "metadata": {},
      "outputs": [],
      "source": [
        "# sample.py\nimport ctypes\nimport os\n\n# Try to locate the .so file in the same directory as this file\n_file = 'libsample.so'\n_path = os.path.join(*(os.path.split(__file__)[:-1] + (_file,)))\n_mod = ctypes.cdll.LoadLibrary(_path)\n\n# int gcd(int, int)\ngcd = _mod.gcd\ngcd.argtypes = (ctypes.c_int, ctypes.c_int)\ngcd.restype = ctypes.c_int\n\n# int in_mandel(double, double, int)\nin_mandel = _mod.in_mandel\nin_mandel.argtypes = (ctypes.c_double, ctypes.c_double, ctypes.c_int)\nin_mandel.restype = ctypes.c_int\n\n# int divide(int, int, int *)\n_divide = _mod.divide\n_divide.argtypes = (ctypes.c_int, ctypes.c_int, ctypes.POINTER(ctypes.c_int))\n_divide.restype = ctypes.c_int\n\ndef divide(x, y):\n    rem = ctypes.c_int()\n    quot = _divide(x, y, rem)\n\n    return quot,rem.value\n\n# void avg(double *, int n)\n# Define a special type for the 'double *' argument\nclass DoubleArrayType:\n    def from_param(self, param):\n        typename = type(param).__name__\n        if hasattr(self, 'from_' + typename):\n            return getattr(self, 'from_' + typename)(param)\n        elif isinstance(param, ctypes.Array):\n            return param\n        else:\n            raise TypeError(\"Can't convert %s\" % typename)\n\n    # Cast from array.array objects\n    def from_array(self, param):\n        if param.typecode != 'd':\n            raise TypeError('must be an array of doubles')\n        ptr, _ = param.buffer_info()\n        return ctypes.cast(ptr, ctypes.POINTER(ctypes.c_double))\n\n    # Cast from lists/tuples\n    def from_list(self, param):\n        val = ((ctypes.c_double)*len(param))(*param)\n        return val\n\n    from_tuple = from_list\n\n    # Cast from a numpy array\n    def from_ndarray(self, param):\n        return param.ctypes.data_as(ctypes.POINTER(ctypes.c_double))\n\nDoubleArray = DoubleArrayType()\n_avg = _mod.avg\n_avg.argtypes = (DoubleArray, ctypes.c_int)\n_avg.restype = ctypes.c_double\n\ndef avg(values):\n    return _avg(values, len(values))\n\n# struct Point { }\nclass Point(ctypes.Structure):\n    _fields_ = [('x', ctypes.c_double),\n                ('y', ctypes.c_double)]\n\n# double distance(Point *, Point *)\ndistance = _mod.distance\ndistance.argtypes = (ctypes.POINTER(Point), ctypes.POINTER(Point))\ndistance.restype = ctypes.c_double"
      ]
    },
    {
      "cell_type": "markdown",
      "metadata": {},
      "source": [
        "\u5982\u679c\u4e00\u5207\u6b63\u5e38\uff0c\u4f60\u5c31\u53ef\u4ee5\u52a0\u8f7d\u5e76\u4f7f\u7528\u91cc\u9762\u5b9a\u4e49\u7684C\u51fd\u6570\u4e86\u3002\u4f8b\u5982\uff1a"
      ]
    },
    {
      "cell_type": "code",
      "execution_count": null,
      "metadata": {},
      "outputs": [],
      "source": [
        "import sample\nsample.gcd(35,42)"
      ]
    },
    {
      "cell_type": "code",
      "execution_count": null,
      "metadata": {},
      "outputs": [],
      "source": [
        "sample.in_mandel(0,0,500)"
      ]
    },
    {
      "cell_type": "code",
      "execution_count": null,
      "metadata": {},
      "outputs": [],
      "source": [
        "sample.in_mandel(2.0,1.0,500)"
      ]
    },
    {
      "cell_type": "code",
      "execution_count": null,
      "metadata": {},
      "outputs": [],
      "source": [
        "sample.divide(42,8)"
      ]
    },
    {
      "cell_type": "code",
      "execution_count": null,
      "metadata": {},
      "outputs": [],
      "source": [
        "sample.avg([1,2,3])"
      ]
    },
    {
      "cell_type": "code",
      "execution_count": null,
      "metadata": {},
      "outputs": [],
      "source": [
        "p1 = sample.Point(1,2)\np2 = sample.Point(4,5)\nsample.distance(p1,p2)"
      ]
    },
    {
      "cell_type": "markdown",
      "metadata": {},
      "source": [
        "### \u8ba8\u8bba\n"
      ]
    },
    {
      "cell_type": "markdown",
      "metadata": {},
      "source": [
        "\u672c\u5c0f\u8282\u6709\u5f88\u591a\u503c\u5f97\u6211\u4eec\u8be6\u7ec6\u8ba8\u8bba\u7684\u5730\u65b9\u3002\n\u9996\u5148\u662f\u5bf9\u4e8eC\u548cPython\u4ee3\u7801\u4e00\u8d77\u6253\u5305\u7684\u95ee\u9898\uff0c\u5982\u679c\u4f60\u5728\u4f7f\u7528 ctypes \u6765\u8bbf\u95ee\u7f16\u8bd1\u540e\u7684C\u4ee3\u7801\uff0c\n\u90a3\u4e48\u9700\u8981\u786e\u4fdd\u8fd9\u4e2a\u5171\u4eab\u5e93\u653e\u5728 sample.py \u6a21\u5757\u540c\u4e00\u4e2a\u5730\u65b9\u3002\n\u4e00\u79cd\u53ef\u80fd\u662f\u5c06\u751f\u6210\u7684 .so \u6587\u4ef6\u653e\u7f6e\u5728\u8981\u4f7f\u7528\u5b83\u7684Python\u4ee3\u7801\u540c\u4e00\u4e2a\u76ee\u5f55\u4e0b\u3002\n\u6211\u4eec\u5728 recipe\u2014sample.py \u4e2d\u4f7f\u7528 __file__ \u53d8\u91cf\u6765\u67e5\u770b\u5b83\u88ab\u5b89\u88c5\u7684\u4f4d\u7f6e\uff0c\n\u7136\u540e\u6784\u9020\u4e00\u4e2a\u6307\u5411\u540c\u4e00\u4e2a\u76ee\u5f55\u4e2d\u7684 libsample.so \u6587\u4ef6\u7684\u8def\u5f84\u3002"
      ]
    },
    {
      "cell_type": "markdown",
      "metadata": {},
      "source": [
        "\u5982\u679cC\u51fd\u6570\u5e93\u88ab\u5b89\u88c5\u5230\u5176\u4ed6\u5730\u65b9\uff0c\u90a3\u4e48\u4f60\u5c31\u8981\u4fee\u6539\u76f8\u5e94\u7684\u8def\u5f84\u3002\n\u5982\u679cC\u51fd\u6570\u5e93\u5728\u4f60\u673a\u5668\u4e0a\u88ab\u5b89\u88c5\u4e3a\u4e00\u4e2a\u6807\u51c6\u5e93\u4e86\uff0c\n\u90a3\u4e48\u53ef\u4ee5\u4f7f\u7528 ctypes.util.find_library() \u51fd\u6570\u6765\u67e5\u627e\uff1a"
      ]
    },
    {
      "cell_type": "code",
      "execution_count": null,
      "metadata": {},
      "outputs": [],
      "source": [
        "from ctypes.util import find_library\nfind_library('m')"
      ]
    },
    {
      "cell_type": "code",
      "execution_count": null,
      "metadata": {},
      "outputs": [],
      "source": [
        "find_library('pthread')"
      ]
    },
    {
      "cell_type": "code",
      "execution_count": null,
      "metadata": {},
      "outputs": [],
      "source": [
        "find_library('sample')"
      ]
    },
    {
      "cell_type": "markdown",
      "metadata": {},
      "source": [
        "\u4e00\u65e6\u4f60\u77e5\u9053\u4e86C\u51fd\u6570\u5e93\u7684\u4f4d\u7f6e\uff0c\u90a3\u4e48\u5c31\u53ef\u4ee5\u50cf\u4e0b\u9762\u8fd9\u6837\u4f7f\u7528 ctypes.cdll.LoadLibrary() \u6765\u52a0\u8f7d\u5b83\uff0c\n\u5176\u4e2d _path \u662f\u6807\u51c6\u5e93\u7684\u5168\u8def\u5f84\uff1a"
      ]
    },
    {
      "cell_type": "code",
      "execution_count": null,
      "metadata": {},
      "outputs": [],
      "source": [
        "_mod = ctypes.cdll.LoadLibrary(_path)"
      ]
    },
    {
      "cell_type": "markdown",
      "metadata": {},
      "source": [
        "\u51fd\u6570\u5e93\u88ab\u52a0\u8f7d\u540e\uff0c\u4f60\u9700\u8981\u7f16\u5199\u51e0\u4e2a\u8bed\u53e5\u6765\u63d0\u53d6\u7279\u5b9a\u7684\u7b26\u53f7\u5e76\u6307\u5b9a\u5b83\u4eec\u7684\u7c7b\u578b\u3002\n\u5c31\u50cf\u4e0b\u9762\u8fd9\u4e2a\u4ee3\u7801\u7247\u6bb5\u4e00\u6837\uff1a"
      ]
    },
    {
      "cell_type": "code",
      "execution_count": null,
      "metadata": {},
      "outputs": [],
      "source": [
        "# int in_mandel(double, double, int)\nin_mandel = _mod.in_mandel\nin_mandel.argtypes = (ctypes.c_double, ctypes.c_double, ctypes.c_int)\nin_mandel.restype = ctypes.c_int"
      ]
    },
    {
      "cell_type": "markdown",
      "metadata": {},
      "source": [
        "\u5728\u8fd9\u6bb5\u4ee3\u7801\u4e2d\uff0c.argtypes \u5c5e\u6027\u662f\u4e00\u4e2a\u5143\u7ec4\uff0c\u5305\u542b\u4e86\u67d0\u4e2a\u51fd\u6570\u7684\u8f93\u5165\u6309\u65f6\uff0c\n\u800c .restype \u5c31\u662f\u76f8\u5e94\u7684\u8fd4\u56de\u7c7b\u578b\u3002\nctypes \u5b9a\u4e49\u4e86\u5927\u91cf\u7684\u7c7b\u578b\u5bf9\u8c61\uff08\u6bd4\u5982c_double, c_int, c_short, c_float\u7b49\uff09\uff0c\n\u4ee3\u8868\u4e86\u5bf9\u5e94\u7684C\u6570\u636e\u7c7b\u578b\u3002\u5982\u679c\u4f60\u60f3\u8ba9Python\u80fd\u591f\u4f20\u9012\u6b63\u786e\u7684\u53c2\u6570\u7c7b\u578b\u5e76\u4e14\u6b63\u786e\u7684\u8f6c\u6362\u6570\u636e\u7684\u8bdd\uff0c\n\u90a3\u4e48\u8fd9\u4e9b\u7c7b\u578b\u7b7e\u540d\u7684\u7ed1\u5b9a\u662f\u5f88\u91cd\u8981\u7684\u4e00\u6b65\u3002\u5982\u679c\u4f60\u6ca1\u6709\u8fd9\u4e48\u505a\uff0c\u4e0d\u4f46\u4ee3\u7801\u4e0d\u80fd\u6b63\u5e38\u8fd0\u884c\uff0c\n\u8fd8\u53ef\u80fd\u4f1a\u5bfc\u81f4\u6574\u4e2a\u89e3\u91ca\u5668\u8fdb\u7a0b\u6302\u6389\u3002\n\u4f7f\u7528ctypes\u6709\u4e00\u4e2a\u9ebb\u70e6\u70b9\u7684\u5730\u65b9\u662f\u539f\u751f\u7684C\u4ee3\u7801\u4f7f\u7528\u7684\u672f\u8bed\u53ef\u80fd\u8ddfPython\u4e0d\u80fd\u660e\u786e\u7684\u5bf9\u5e94\u4e0a\u6765\u3002\ndivide() \u51fd\u6570\u662f\u4e00\u4e2a\u5f88\u597d\u7684\u4f8b\u5b50\uff0c\u5b83\u901a\u8fc7\u4e00\u4e2a\u53c2\u6570\u9664\u4ee5\u53e6\u4e00\u4e2a\u53c2\u6570\u8fd4\u56de\u4e00\u4e2a\u7ed3\u679c\u503c\u3002\n\u5c3d\u7ba1\u8fd9\u662f\u4e00\u4e2a\u5f88\u5e38\u89c1\u7684C\u6280\u672f\uff0c\u4f46\u662f\u5728Python\u4e2d\u5374\u4e0d\u77e5\u9053\u600e\u6837\u6e05\u6670\u7684\u8868\u8fbe\u51fa\u6765\u3002\n\u4f8b\u5982\uff0c\u4f60\u4e0d\u80fd\u50cf\u4e0b\u9762\u8fd9\u6837\u7b80\u5355\u7684\u505a\uff1a"
      ]
    },
    {
      "cell_type": "code",
      "execution_count": null,
      "metadata": {},
      "outputs": [],
      "source": [
        "divide = _mod.divide\ndivide.argtypes = (ctypes.c_int, ctypes.c_int, ctypes.POINTER(ctypes.c_int))\nx = 0\ndivide(10, 3, x)"
      ]
    },
    {
      "cell_type": "markdown",
      "metadata": {},
      "source": [
        "\u5c31\u7b97\u8fd9\u4e2a\u80fd\u6b63\u786e\u7684\u5de5\u4f5c\uff0c\u5b83\u4f1a\u8fdd\u53cdPython\u5bf9\u4e8e\u6574\u6570\u7684\u4e0d\u53ef\u66f4\u6539\u539f\u5219\uff0c\u5e76\u4e14\u53ef\u80fd\u4f1a\u5bfc\u81f4\u6574\u4e2a\u89e3\u91ca\u5668\u9677\u5165\u4e00\u4e2a\u9ed1\u6d1e\u4e2d\u3002\n\u5bf9\u4e8e\u6d89\u53ca\u5230\u6307\u9488\u7684\u53c2\u6570\uff0c\u4f60\u901a\u5e38\u9700\u8981\u5148\u6784\u5efa\u4e00\u4e2a\u76f8\u5e94\u7684ctypes\u5bf9\u8c61\u5e76\u50cf\u4e0b\u9762\u8fd9\u6837\u4f20\u8fdb\u53bb\uff1a"
      ]
    },
    {
      "cell_type": "code",
      "execution_count": null,
      "metadata": {},
      "outputs": [],
      "source": [
        "x = ctypes.c_int()\ndivide(10, 3, x)"
      ]
    },
    {
      "cell_type": "code",
      "execution_count": null,
      "metadata": {},
      "outputs": [],
      "source": [
        "x.value"
      ]
    },
    {
      "cell_type": "markdown",
      "metadata": {},
      "source": [
        "\u5728\u8fd9\u91cc\uff0c\u4e00\u4e2a ctypes.c_int \u5b9e\u4f8b\u88ab\u521b\u5efa\u5e76\u4f5c\u4e3a\u4e00\u4e2a\u6307\u9488\u88ab\u4f20\u8fdb\u53bb\u3002\n\u8ddf\u666e\u901aPython\u6574\u5f62\u4e0d\u540c\u7684\u662f\uff0c\u4e00\u4e2a c_int \u5bf9\u8c61\u662f\u53ef\u4ee5\u88ab\u4fee\u6539\u7684\u3002\n.value \u5c5e\u6027\u53ef\u88ab\u7528\u6765\u83b7\u53d6\u6216\u66f4\u6539\u8fd9\u4e2a\u503c\u3002"
      ]
    },
    {
      "cell_type": "markdown",
      "metadata": {},
      "source": [
        "\u5bf9\u4e8e\u90a3\u4e9b\u4e0d\u50cfPython\u7684C\u8c03\u7528\uff0c\u901a\u5e38\u53ef\u4ee5\u5199\u4e00\u4e2a\u5c0f\u7684\u5305\u88c5\u51fd\u6570\u3002\n\u8fd9\u91cc\uff0c\u6211\u4eec\u8ba9 divide() \u51fd\u6570\u901a\u8fc7\u5143\u7ec4\u6765\u8fd4\u56de\u4e24\u4e2a\u7ed3\u679c\uff1a"
      ]
    },
    {
      "cell_type": "code",
      "execution_count": null,
      "metadata": {},
      "outputs": [],
      "source": [
        "# int divide(int, int, int *)\n_divide = _mod.divide\n_divide.argtypes = (ctypes.c_int, ctypes.c_int, ctypes.POINTER(ctypes.c_int))\n_divide.restype = ctypes.c_int\n\ndef divide(x, y):\n    rem = ctypes.c_int()\n    quot = _divide(x,y,rem)\n    return quot, rem.value"
      ]
    },
    {
      "cell_type": "markdown",
      "metadata": {},
      "source": [
        "avg() \u51fd\u6570\u53c8\u662f\u4e00\u4e2a\u65b0\u7684\u6311\u6218\u3002C\u4ee3\u7801\u671f\u671b\u63a5\u53d7\u5230\u4e00\u4e2a\u6307\u9488\u548c\u4e00\u4e2a\u6570\u7ec4\u7684\u957f\u5ea6\u503c\u3002\n\u4f46\u662f\uff0c\u5728Python\u4e2d\uff0c\u6211\u4eec\u5fc5\u987b\u8003\u8651\u8fd9\u4e2a\u95ee\u9898\uff1a\u6570\u7ec4\u662f\u5565\uff1f\u5b83\u662f\u4e00\u4e2a\u5217\u8868\uff1f\u4e00\u4e2a\u5143\u7ec4\uff1f\n\u8fd8\u662f array \u6a21\u5757\u4e2d\u7684\u4e00\u4e2a\u6570\u7ec4\uff1f\u8fd8\u662f\u4e00\u4e2a numpy \u6570\u7ec4\uff1f\u8fd8\u662f\u8bf4\u6240\u6709\u90fd\u662f\uff1f\n\u5b9e\u9645\u4e0a\uff0c\u4e00\u4e2aPython\u201c\u6570\u7ec4\u201d\u6709\u591a\u79cd\u5f62\u5f0f\uff0c\u4f60\u53ef\u80fd\u60f3\u8981\u652f\u6301\u591a\u79cd\u53ef\u80fd\u6027\u3002"
      ]
    },
    {
      "cell_type": "markdown",
      "metadata": {},
      "source": [
        "DoubleArrayType \u6f14\u793a\u4e86\u600e\u6837\u5904\u7406\u8fd9\u79cd\u60c5\u51b5\u3002\n\u5728\u8fd9\u4e2a\u7c7b\u4e2d\u5b9a\u4e49\u4e86\u4e00\u4e2a\u5355\u4e2a\u65b9\u6cd5 from_param() \u3002\n\u8fd9\u4e2a\u65b9\u6cd5\u7684\u89d2\u8272\u662f\u63a5\u53d7\u4e00\u4e2a\u5355\u4e2a\u53c2\u6570\u7136\u540e\u5c06\u5176\u5411\u4e0b\u8f6c\u6362\u4e3a\u4e00\u4e2a\u5408\u9002\u7684ctypes\u5bf9\u8c61\n\uff08\u672c\u4f8b\u4e2d\u662f\u4e00\u4e2a ctypes.c_double \u7684\u6307\u9488\uff09\u3002\n\u5728 from_param() \u4e2d\uff0c\u4f60\u53ef\u4ee5\u505a\u4efb\u4f55\u4f60\u60f3\u505a\u7684\u4e8b\u3002\n\u53c2\u6570\u7684\u7c7b\u578b\u540d\u88ab\u63d0\u53d6\u51fa\u6765\u5e76\u88ab\u7528\u4e8e\u5206\u53d1\u5230\u4e00\u4e2a\u66f4\u5177\u4f53\u7684\u65b9\u6cd5\u4e2d\u53bb\u3002\n\u4f8b\u5982\uff0c\u5982\u679c\u4e00\u4e2a\u5217\u8868\u88ab\u4f20\u9012\u8fc7\u6765\uff0c\u90a3\u4e48 typename \u5c31\u662f list \uff0c\n\u7136\u540e from_list \u65b9\u6cd5\u88ab\u8c03\u7528\u3002"
      ]
    },
    {
      "cell_type": "markdown",
      "metadata": {},
      "source": [
        "\u5bf9\u4e8e\u5217\u8868\u548c\u5143\u7ec4\uff0cfrom_list \u65b9\u6cd5\u5c06\u5176\u8f6c\u6362\u4e3a\u4e00\u4e2a ctypes \u7684\u6570\u7ec4\u5bf9\u8c61\u3002\n\u8fd9\u4e2a\u770b\u4e0a\u53bb\u6709\u70b9\u5947\u602a\uff0c\u4e0b\u9762\u6211\u4eec\u4f7f\u7528\u4e00\u4e2a\u4ea4\u4e92\u5f0f\u4f8b\u5b50\u6765\u5c06\u4e00\u4e2a\u5217\u8868\u8f6c\u6362\u4e3a\u4e00\u4e2a ctypes \u6570\u7ec4\uff1a"
      ]
    },
    {
      "cell_type": "code",
      "execution_count": null,
      "metadata": {},
      "outputs": [],
      "source": [
        "nums = [1, 2, 3]\na = (ctypes.c_double * len(nums))(*nums)\na"
      ]
    },
    {
      "cell_type": "code",
      "execution_count": null,
      "metadata": {},
      "outputs": [],
      "source": [
        "a[0]"
      ]
    },
    {
      "cell_type": "code",
      "execution_count": null,
      "metadata": {},
      "outputs": [],
      "source": [
        "a[1]"
      ]
    },
    {
      "cell_type": "code",
      "execution_count": null,
      "metadata": {},
      "outputs": [],
      "source": [
        "a[2]"
      ]
    },
    {
      "cell_type": "markdown",
      "metadata": {},
      "source": [
        "\u5bf9\u4e8e\u6570\u7ec4\u5bf9\u8c61\uff0cfrom_array() \u63d0\u53d6\u5e95\u5c42\u7684\u5185\u5b58\u6307\u9488\u5e76\u5c06\u5176\u8f6c\u6362\u4e3a\u4e00\u4e2a ctypes \u6307\u9488\u5bf9\u8c61\u3002\u4f8b\u5982\uff1a"
      ]
    },
    {
      "cell_type": "code",
      "execution_count": null,
      "metadata": {},
      "outputs": [],
      "source": [
        "import array\na = array.array('d',[1,2,3])\na"
      ]
    },
    {
      "cell_type": "code",
      "execution_count": null,
      "metadata": {},
      "outputs": [],
      "source": [
        "ptr_ = a.buffer_info()\nptr"
      ]
    },
    {
      "cell_type": "code",
      "execution_count": null,
      "metadata": {},
      "outputs": [],
      "source": [
        "ctypes.cast(ptr, ctypes.POINTER(ctypes.c_double))"
      ]
    },
    {
      "cell_type": "markdown",
      "metadata": {},
      "source": [
        "from_ndarray() \u6f14\u793a\u4e86\u5bf9\u4e8e numpy \u6570\u7ec4\u7684\u8f6c\u6362\u64cd\u4f5c\u3002\n\u901a\u8fc7\u5b9a\u4e49 DoubleArrayType \u7c7b\u5e76\u5728 avg() \u7c7b\u578b\u7b7e\u540d\u4e2d\u4f7f\u7528\u5b83\uff0c\n\u90a3\u4e48\u8fd9\u4e2a\u51fd\u6570\u5c31\u80fd\u63a5\u53d7\u591a\u4e2a\u4e0d\u540c\u7684\u7c7b\u6570\u7ec4\u8f93\u5165\u4e86\uff1a"
      ]
    },
    {
      "cell_type": "code",
      "execution_count": null,
      "metadata": {},
      "outputs": [],
      "source": [
        "import sample\nsample.avg([1,2,3])"
      ]
    },
    {
      "cell_type": "code",
      "execution_count": null,
      "metadata": {},
      "outputs": [],
      "source": [
        "sample.avg((1,2,3))"
      ]
    },
    {
      "cell_type": "code",
      "execution_count": null,
      "metadata": {},
      "outputs": [],
      "source": [
        "import array\nsample.avg(array.array('d',[1,2,3]))"
      ]
    },
    {
      "cell_type": "code",
      "execution_count": null,
      "metadata": {},
      "outputs": [],
      "source": [
        "import numpy\nsample.avg(numpy.array([1.0,2.0,3.0]))"
      ]
    },
    {
      "cell_type": "markdown",
      "metadata": {},
      "source": [
        "\u672c\u8282\u6700\u540e\u4e00\u90e8\u5206\u5411\u4f60\u6f14\u793a\u4e86\u600e\u6837\u5904\u7406\u4e00\u4e2a\u7b80\u5355\u7684C\u7ed3\u6784\u3002\n\u5bf9\u4e8e\u7ed3\u6784\u4f53\uff0c\u4f60\u53ea\u9700\u8981\u50cf\u4e0b\u9762\u8fd9\u6837\u7b80\u5355\u7684\u5b9a\u4e49\u4e00\u4e2a\u7c7b\uff0c\u5305\u542b\u76f8\u5e94\u7684\u5b57\u6bb5\u548c\u7c7b\u578b\u5373\u53ef\uff1a"
      ]
    },
    {
      "cell_type": "code",
      "execution_count": null,
      "metadata": {},
      "outputs": [],
      "source": [
        "class Point(ctypes.Structure):\n    _fields_ = [('x', ctypes.c_double),\n                ('y', ctypes.c_double)]"
      ]
    },
    {
      "cell_type": "markdown",
      "metadata": {},
      "source": [
        "\u4e00\u65e6\u7c7b\u88ab\u5b9a\u4e49\u540e\uff0c\u4f60\u5c31\u53ef\u4ee5\u5728\u7c7b\u578b\u7b7e\u540d\u4e2d\u6216\u8005\u662f\u9700\u8981\u5b9e\u4f8b\u5316\u7ed3\u6784\u4f53\u7684\u4ee3\u7801\u4e2d\u4f7f\u7528\u5b83\u3002\u4f8b\u5982\uff1a"
      ]
    },
    {
      "cell_type": "code",
      "execution_count": null,
      "metadata": {},
      "outputs": [],
      "source": [
        "p1 = sample.Point(1,2)\np2 = sample.Point(4,5)\np1.x"
      ]
    },
    {
      "cell_type": "code",
      "execution_count": null,
      "metadata": {},
      "outputs": [],
      "source": [
        "p1.y"
      ]
    },
    {
      "cell_type": "code",
      "execution_count": null,
      "metadata": {},
      "outputs": [],
      "source": [
        "sample.distance(p1,p2)"
      ]
    },
    {
      "cell_type": "markdown",
      "metadata": {},
      "source": [
        "\u6700\u540e\u4e00\u4e9b\u5c0f\u7684\u63d0\u793a\uff1a\u5982\u679c\u4f60\u60f3\u5728Python\u4e2d\u8bbf\u95ee\u4e00\u4e9b\u5c0f\u7684C\u51fd\u6570\uff0c\u90a3\u4e48 ctypes \u662f\u4e00\u4e2a\u5f88\u6709\u7528\u7684\u51fd\u6570\u5e93\u3002\n\u5c3d\u7ba1\u5982\u6b64\uff0c\u5982\u679c\u4f60\u60f3\u8981\u53bb\u8bbf\u95ee\u4e00\u4e2a\u5f88\u5927\u7684\u5e93\uff0c\u90a3\u4e48\u53ef\u80fd\u5c31\u9700\u8981\u5176\u4ed6\u7684\u65b9\u6cd5\u4e86\uff0c\u6bd4\u5982 Swig (15.9\u8282\u4f1a\u8bb2\u5230) \u6216\nCython\uff0815.10\u8282\uff09\u3002"
      ]
    },
    {
      "cell_type": "markdown",
      "metadata": {},
      "source": [
        "\u5bf9\u4e8e\u5927\u578b\u5e93\u7684\u8bbf\u95ee\u6709\u4e2a\u4e3b\u8981\u95ee\u9898\uff0c\u7531\u4e8ectypes\u5e76\u4e0d\u662f\u5b8c\u5168\u81ea\u52a8\u5316\uff0c\n\u90a3\u4e48\u4f60\u5c31\u5fc5\u987b\u82b1\u8d39\u5927\u91cf\u65f6\u95f4\u6765\u7f16\u5199\u6240\u6709\u7684\u7c7b\u578b\u7b7e\u540d\uff0c\u5c31\u50cf\u4f8b\u5b50\u4e2d\u90a3\u6837\u3002\n\u5982\u679c\u51fd\u6570\u5e93\u591f\u590d\u6742\uff0c\u4f60\u8fd8\u5f97\u53bb\u7f16\u5199\u5f88\u591a\u5c0f\u7684\u5305\u88c5\u51fd\u6570\u548c\u652f\u6301\u7c7b\u3002\n\u53e6\u5916\uff0c\u9664\u975e\u4f60\u5df2\u7ecf\u5b8c\u5168\u7cbe\u901a\u4e86\u6240\u6709\u5e95\u5c42\u7684C\u63a5\u53e3\u7ec6\u8282\uff0c\u5305\u62ec\u5185\u5b58\u5206\u914d\u548c\u9519\u8bef\u5904\u7406\u673a\u5236\uff0c\n\u901a\u5e38\u4e00\u4e2a\u5f88\u5c0f\u7684\u4ee3\u7801\u7f3a\u9677\u3001\u8bbf\u95ee\u8d8a\u754c\u6216\u5176\u4ed6\u7c7b\u4f3c\u9519\u8bef\u5c31\u80fd\u8ba9Python\u7a0b\u5e8f\u5954\u6e83\u3002"
      ]
    },
    {
      "cell_type": "markdown",
      "metadata": {},
      "source": [
        "\u4f5c\u4e3a ctypes \u7684\u4e00\u4e2a\u66ff\u4ee3\uff0c\u4f60\u8fd8\u53ef\u4ee5\u8003\u8651\u4e0bCFFI\u3002CFFI\u63d0\u4f9b\u4e86\u5f88\u591a\u7c7b\u4f3c\u7684\u529f\u80fd\uff0c\n\u4f46\u662f\u4f7f\u7528C\u8bed\u6cd5\u5e76\u652f\u6301\u66f4\u591a\u9ad8\u7ea7\u7684C\u4ee3\u7801\u7c7b\u578b\u3002\n\u5230\u5199\u8fd9\u672c\u4e66\u4e3a\u6b62\uff0cCFFI\u8fd8\u662f\u4e00\u4e2a\u76f8\u5bf9\u8f83\u65b0\u7684\u5de5\u7a0b\uff0c\n\u4f46\u662f\u5b83\u7684\u6d41\u884c\u5ea6\u6b63\u5728\u5feb\u901f\u4e0a\u5347\u3002\n\u751a\u81f3\u8fd8\u6709\u5728\u8ba8\u8bba\u5728Python\u5c06\u6765\u7684\u7248\u672c\u4e2d\u5c06\u5b83\u5305\u542b\u8fdb\u53bb\u3002\u56e0\u6b64\uff0c\u8fd9\u4e2a\u771f\u7684\u503c\u5f97\u4e00\u770b\u3002"
      ]
    },
    {
      "cell_type": "markdown",
      "metadata": {},
      "source": [
        "## 15.2 \u7b80\u5355\u7684C\u6269\u5c55\u6a21\u5757\n"
      ]
    },
    {
      "cell_type": "markdown",
      "metadata": {},
      "source": [
        "### \u95ee\u9898\n"
      ]
    },
    {
      "cell_type": "markdown",
      "metadata": {},
      "source": [
        "\u4f60\u60f3\u4e0d\u4f9d\u9760\u5176\u4ed6\u5de5\u5177\uff0c\u76f4\u63a5\u4f7f\u7528Python\u7684\u6269\u5c55API\u6765\u7f16\u5199\u4e00\u4e9b\u7b80\u5355\u7684C\u6269\u5c55\u6a21\u5757\u3002"
      ]
    },
    {
      "cell_type": "markdown",
      "metadata": {},
      "source": [
        "### \u89e3\u51b3\u65b9\u6848\n"
      ]
    },
    {
      "cell_type": "markdown",
      "metadata": {},
      "source": [
        "\u5bf9\u4e8e\u7b80\u5355\u7684C\u4ee3\u7801\uff0c\u6784\u5efa\u4e00\u4e2a\u81ea\u5b9a\u4e49\u6269\u5c55\u6a21\u5757\u662f\u5f88\u5bb9\u6613\u7684\u3002\n\u4f5c\u4e3a\u7b2c\u4e00\u6b65\uff0c\u4f60\u9700\u8981\u786e\u4fdd\u4f60\u7684C\u4ee3\u7801\u6709\u4e00\u4e2a\u6b63\u786e\u7684\u5934\u6587\u4ef6\u3002\u4f8b\u5982\uff1a"
      ]
    },
    {
      "cell_type": "code",
      "execution_count": null,
      "metadata": {},
      "outputs": [],
      "source": [
        "/* sample.h */\n\n#include <math.h>\n\nextern int gcd(int, int);\nextern int in_mandel(double x0, double y0, int n);\nextern int divide(int a, int b, int *remainder);\nextern double avg(double *a, int n);\n\ntypedef struct Point {\n    double x,y;\n} Point;\n\nextern double distance(Point *p1, Point *p2);"
      ]
    },
    {
      "cell_type": "markdown",
      "metadata": {},
      "source": [
        "\u901a\u5e38\u6765\u8bb2\uff0c\u8fd9\u4e2a\u5934\u6587\u4ef6\u8981\u5bf9\u5e94\u4e00\u4e2a\u5df2\u7ecf\u88ab\u5355\u72ec\u7f16\u8bd1\u8fc7\u7684\u5e93\u3002\n\u6709\u4e86\u8fd9\u4e9b\uff0c\u4e0b\u9762\u6211\u4eec\u6f14\u793a\u4e0b\u7f16\u5199\u6269\u5c55\u51fd\u6570\u7684\u4e00\u4e2a\u7b80\u5355\u4f8b\u5b50\uff1a"
      ]
    },
    {
      "cell_type": "code",
      "execution_count": null,
      "metadata": {},
      "outputs": [],
      "source": [
        "#include \"Python.h\"\n#include \"sample.h\"\n\n/* int gcd(int, int) */\nstatic PyObject *py_gcd(PyObject *self, PyObject *args) {\n  int x, y, result;\n\n  if (!PyArg_ParseTuple(args,\"ii\", &x, &y)) {\n    return NULL;\n  }\n  result = gcd(x,y);\n  return Py_BuildValue(\"i\", result);\n}\n\n/* int in_mandel(double, double, int) */\nstatic PyObject *py_in_mandel(PyObject *self, PyObject *args) {\n  double x0, y0;\n  int n;\n  int result;\n\n  if (!PyArg_ParseTuple(args, \"ddi\", &x0, &y0, &n)) {\n    return NULL;\n  }\n  result = in_mandel(x0,y0,n);\n  return Py_BuildValue(\"i\", result);\n}\n\n/* int divide(int, int, int *) */\nstatic PyObject *py_divide(PyObject *self, PyObject *args) {\n  int a, b, quotient, remainder;\n  if (!PyArg_ParseTuple(args, \"ii\", &a, &b)) {\n    return NULL;\n  }\n  quotient = divide(a,b, &remainder);\n  return Py_BuildValue(\"(ii)\", quotient, remainder);\n}\n\n/* Module method table */\nstatic PyMethodDef SampleMethods[] = {\n  {\"gcd\",  py_gcd, METH_VARARGS, \"Greatest common divisor\"},\n  {\"in_mandel\", py_in_mandel, METH_VARARGS, \"Mandelbrot test\"},\n  {\"divide\", py_divide, METH_VARARGS, \"Integer division\"},\n  { NULL, NULL, 0, NULL}\n};\n\n/* Module structure */\nstatic struct PyModuleDef samplemodule = {\n  PyModuleDef_HEAD_INIT,\n\n  \"sample\",           /* name of module */\n  \"A sample module\",  /* Doc string (may be NULL) */\n  -1,                 /* Size of per-interpreter state or -1 */\n  SampleMethods       /* Method table */\n};\n\n/* Module initialization function */\nPyMODINIT_FUNC\nPyInit_sample(void) {\n  return PyModule_Create(&samplemodule);\n}"
      ]
    },
    {
      "cell_type": "markdown",
      "metadata": {},
      "source": [
        "\u8981\u7ed1\u5b9a\u8fd9\u4e2a\u6269\u5c55\u6a21\u5757\uff0c\u50cf\u4e0b\u9762\u8fd9\u6837\u521b\u5efa\u4e00\u4e2a setup.py \u6587\u4ef6\uff1a"
      ]
    },
    {
      "cell_type": "code",
      "execution_count": null,
      "metadata": {},
      "outputs": [],
      "source": [
        "# setup.py\nfrom distutils.core import setup, Extension\n\nsetup(name='sample',\n      ext_modules=[\n        Extension('sample',\n                  ['pysample.c'],\n                  include_dirs = ['/some/dir'],\n                  define_macros = [('FOO','1')],\n                  undef_macros = ['BAR'],\n                  library_dirs = ['/usr/local/lib'],\n                  libraries = ['sample']\n                  )\n        ]\n)"
      ]
    },
    {
      "cell_type": "markdown",
      "metadata": {},
      "source": [
        "\u4e3a\u4e86\u6784\u5efa\u6700\u7ec8\u7684\u51fd\u6570\u5e93\uff0c\u53ea\u9700\u7b80\u5355\u7684\u4f7f\u7528 python3 buildlib.py build_ext --inplace \u547d\u4ee4\u5373\u53ef\uff1a"
      ]
    },
    {
      "cell_type": "code",
      "execution_count": null,
      "metadata": {},
      "outputs": [],
      "source": [
        "bash % python3 setup.py build_ext --inplace\nrunning build_ext\nbuilding 'sample' extension\ngcc -fno-strict-aliasing -DNDEBUG -g -fwrapv -O3 -Wall -Wstrict-prototypes\n -I/usr/local/include/python3.3m -c pysample.c\n -o build/temp.macosx-10.6-x86_64-3.3/pysample.o\ngcc -bundle -undefined dynamic_lookup\nbuild/temp.macosx-10.6-x86_64-3.3/pysample.o \\\n -L/usr/local/lib -lsample -o sample.so\nbash %"
      ]
    },
    {
      "cell_type": "markdown",
      "metadata": {},
      "source": [
        "\u5982\u4e0a\u6240\u793a\uff0c\u5b83\u4f1a\u521b\u5efa\u4e00\u4e2a\u540d\u5b57\u53eb sample.so \u7684\u5171\u4eab\u5e93\u3002\u5f53\u88ab\u7f16\u8bd1\u540e\uff0c\u4f60\u5c31\u80fd\u5c06\u5b83\u4f5c\u4e3a\u4e00\u4e2a\u6a21\u5757\u5bfc\u5165\u8fdb\u6765\u4e86\uff1a"
      ]
    },
    {
      "cell_type": "code",
      "execution_count": null,
      "metadata": {},
      "outputs": [],
      "source": [
        "import sample\nsample.gcd(35, 42)"
      ]
    },
    {
      "cell_type": "code",
      "execution_count": null,
      "metadata": {},
      "outputs": [],
      "source": [
        "sample.in_mandel(0, 0, 500)"
      ]
    },
    {
      "cell_type": "code",
      "execution_count": null,
      "metadata": {},
      "outputs": [],
      "source": [
        "sample.in_mandel(2.0, 1.0, 500)"
      ]
    },
    {
      "cell_type": "code",
      "execution_count": null,
      "metadata": {},
      "outputs": [],
      "source": [
        "sample.divide(42, 8)"
      ]
    },
    {
      "cell_type": "markdown",
      "metadata": {},
      "source": [
        "\u5982\u679c\u4f60\u662f\u5728Windows\u673a\u5668\u4e0a\u9762\u5c1d\u8bd5\u8fd9\u4e9b\u6b65\u9aa4\uff0c\u53ef\u80fd\u4f1a\u9047\u5230\u5404\u79cd\u73af\u5883\u548c\u7f16\u8bd1\u95ee\u9898\uff0c\u4f60\u9700\u8981\u82b1\u66f4\u591a\u70b9\u65f6\u95f4\u53bb\u914d\u7f6e\u3002\nPython\u7684\u4e8c\u8fdb\u5236\u5206\u53d1\u901a\u5e38\u4f7f\u7528\u4e86Microsoft  Visual Studio\u6765\u6784\u5efa\u3002\n\u4e3a\u4e86\u8ba9\u8fd9\u4e9b\u6269\u5c55\u80fd\u6b63\u5e38\u5de5\u4f5c\uff0c\u4f60\u9700\u8981\u4f7f\u7528\u540c\u6837\u6216\u517c\u5bb9\u7684\u5de5\u5177\u6765\u7f16\u8bd1\u5b83\u3002\n\u53c2\u8003\u76f8\u5e94\u7684 Python\u6587\u6863"
      ]
    },
    {
      "cell_type": "markdown",
      "metadata": {},
      "source": [
        "### \u8ba8\u8bba\n"
      ]
    },
    {
      "cell_type": "markdown",
      "metadata": {},
      "source": [
        "\u5728\u5c1d\u8bd5\u4efb\u4f55\u624b\u5199\u6269\u5c55\u4e4b\u524d\uff0c\u6700\u597d\u80fd\u5148\u53c2\u8003\u4e0bPython\u6587\u6863\u4e2d\u7684\n\u6269\u5c55\u548c\u5d4c\u5165Python\u89e3\u91ca\u5668 .\nPython\u7684C\u6269\u5c55API\u5f88\u5927\uff0c\u5728\u8fd9\u91cc\u6574\u4e2a\u53bb\u8bb2\u8ff0\u5b83\u6ca1\u4ec0\u4e48\u5b9e\u9645\u610f\u4e49\u3002\n\u4e0d\u8fc7\u5bf9\u4e8e\u6700\u6838\u5fc3\u7684\u90e8\u5206\u8fd8\u662f\u53ef\u4ee5\u8ba8\u8bba\u4e0b\u7684\u3002"
      ]
    },
    {
      "cell_type": "markdown",
      "metadata": {},
      "source": [
        "\u9996\u5148\uff0c\u5728\u6269\u5c55\u6a21\u5757\u4e2d\uff0c\u4f60\u5199\u7684\u51fd\u6570\u90fd\u662f\u50cf\u4e0b\u9762\u8fd9\u6837\u7684\u4e00\u4e2a\u666e\u901a\u539f\u578b\uff1a"
      ]
    },
    {
      "cell_type": "code",
      "execution_count": null,
      "metadata": {},
      "outputs": [],
      "source": [
        "static PyObject *py_func(PyObject *self, PyObject *args) {\n  ...\n}"
      ]
    },
    {
      "cell_type": "markdown",
      "metadata": {},
      "source": [
        "PyObject \u662f\u4e00\u4e2a\u80fd\u8868\u793a\u4efb\u4f55Python\u5bf9\u8c61\u7684C\u6570\u636e\u7c7b\u578b\u3002\n\u5728\u4e00\u4e2a\u9ad8\u7ea7\u5c42\u9762\uff0c\u4e00\u4e2a\u6269\u5c55\u51fd\u6570\u5c31\u662f\u4e00\u4e2a\u63a5\u53d7\u4e00\u4e2aPython\u5bf9\u8c61\n\uff08\u5728 PyObject *args\u4e2d\uff09\u5143\u7ec4\u5e76\u8fd4\u56de\u4e00\u4e2a\u65b0Python\u5bf9\u8c61\u7684C\u51fd\u6570\u3002\n\u51fd\u6570\u7684 self \u53c2\u6570\u5bf9\u4e8e\u7b80\u5355\u7684\u6269\u5c55\u51fd\u6570\u6ca1\u6709\u88ab\u4f7f\u7528\u5230\uff0c\n\u4e0d\u8fc7\u5982\u679c\u4f60\u60f3\u5b9a\u4e49\u65b0\u7684\u7c7b\u6216\u8005\u662fC\u4e2d\u7684\u5bf9\u8c61\u7c7b\u578b\u7684\u8bdd\u5c31\u80fd\u6d3e\u4e0a\u7528\u573a\u4e86\u3002\u6bd4\u5982\u5982\u679c\u6269\u5c55\u51fd\u6570\u662f\u4e00\u4e2a\u7c7b\u7684\u4e00\u4e2a\u65b9\u6cd5\uff0c\n\u90a3\u4e48 self \u5c31\u80fd\u5f15\u7528\u90a3\u4e2a\u5b9e\u4f8b\u4e86\u3002"
      ]
    },
    {
      "cell_type": "markdown",
      "metadata": {},
      "source": [
        "PyArg_ParseTuple() \u51fd\u6570\u88ab\u7528\u6765\u5c06Python\u4e2d\u7684\u503c\u8f6c\u6362\u6210C\u4e2d\u5bf9\u5e94\u8868\u793a\u3002\n\u5b83\u63a5\u53d7\u4e00\u4e2a\u6307\u5b9a\u8f93\u5165\u683c\u5f0f\u7684\u683c\u5f0f\u5316\u5b57\u7b26\u4e32\u4f5c\u4e3a\u8f93\u5165\uff0c\u6bd4\u5982\u201ci\u201d\u4ee3\u8868\u6574\u6570\uff0c\u201cd\u201d\u4ee3\u8868\u53cc\u7cbe\u5ea6\u6d6e\u70b9\u6570\uff0c\n\u540c\u6837\u8fd8\u6709\u5b58\u653e\u8f6c\u6362\u540e\u7ed3\u679c\u7684C\u53d8\u91cf\u7684\u5730\u5740\u3002\n\u5982\u679c\u8f93\u5165\u7684\u503c\u4e0d\u5339\u914d\u8fd9\u4e2a\u683c\u5f0f\u5316\u5b57\u7b26\u4e32\uff0c\u5c31\u4f1a\u629b\u51fa\u4e00\u4e2a\u5f02\u5e38\u5e76\u8fd4\u56de\u4e00\u4e2aNULL\u503c\u3002\n\u901a\u8fc7\u68c0\u67e5\u5e76\u8fd4\u56deNULL\uff0c\u4e00\u4e2a\u5408\u9002\u7684\u5f02\u5e38\u4f1a\u5728\u8c03\u7528\u4ee3\u7801\u4e2d\u88ab\u629b\u51fa\u3002"
      ]
    },
    {
      "cell_type": "markdown",
      "metadata": {},
      "source": [
        "Py_BuildValue() \u51fd\u6570\u88ab\u7528\u6765\u6839\u636eC\u6570\u636e\u7c7b\u578b\u521b\u5efaPython\u5bf9\u8c61\u3002\n\u5b83\u540c\u6837\u63a5\u53d7\u4e00\u4e2a\u683c\u5f0f\u5316\u5b57\u7b26\u4e32\u6765\u6307\u5b9a\u671f\u671b\u7c7b\u578b\u3002\n\u5728\u6269\u5c55\u51fd\u6570\u4e2d\uff0c\u5b83\u88ab\u7528\u6765\u8fd4\u56de\u7ed3\u679c\u7ed9Python\u3002\nPy_BuildValue() \u7684\u4e00\u4e2a\u7279\u6027\u662f\u5b83\u80fd\u6784\u5efa\u66f4\u52a0\u590d\u6742\u7684\u5bf9\u8c61\u7c7b\u578b\uff0c\u6bd4\u5982\u5143\u7ec4\u548c\u5b57\u5178\u3002\n\u5728 py_divide() \u4ee3\u7801\u4e2d\uff0c\u4e00\u4e2a\u4f8b\u5b50\u6f14\u793a\u4e86\u600e\u6837\u8fd4\u56de\u4e00\u4e2a\u5143\u7ec4\u3002\u4e0d\u8fc7\uff0c\u4e0b\u9762\u8fd8\u6709\u4e00\u4e9b\u5b9e\u4f8b\uff1a"
      ]
    },
    {
      "cell_type": "code",
      "execution_count": null,
      "metadata": {},
      "outputs": [],
      "source": [
        "return Py_BuildValue(\"i\", 34);      // Return an integer\nreturn Py_BuildValue(\"d\", 3.4);     // Return a double\nreturn Py_BuildValue(\"s\", \"Hello\"); // Null-terminated UTF-8 string\nreturn Py_BuildValue(\"(ii)\", 3, 4); // Tuple (3, 4)"
      ]
    },
    {
      "cell_type": "markdown",
      "metadata": {},
      "source": [
        "\u5728\u6269\u5c55\u6a21\u5757\u5e95\u90e8\uff0c\u4f60\u4f1a\u53d1\u73b0\u4e00\u4e2a\u51fd\u6570\u8868\uff0c\u6bd4\u5982\u672c\u8282\u4e2d\u7684 SampleMethods \u8868\u3002\n\u8fd9\u4e2a\u8868\u53ef\u4ee5\u5217\u51faC\u51fd\u6570\u3001Python\u4e2d\u4f7f\u7528\u7684\u540d\u5b57\u3001\u6587\u6863\u5b57\u7b26\u4e32\u3002\n\u6240\u6709\u6a21\u5757\u90fd\u9700\u8981\u6307\u5b9a\u8fd9\u4e2a\u8868\uff0c\u56e0\u4e3a\u5b83\u5728\u6a21\u5757\u521d\u59cb\u5316\u65f6\u8981\u88ab\u4f7f\u7528\u5230\u3002"
      ]
    },
    {
      "cell_type": "markdown",
      "metadata": {},
      "source": [
        "\u6700\u540e\u7684\u51fd\u6570 PyInit_sample() \u662f\u6a21\u5757\u521d\u59cb\u5316\u51fd\u6570\uff0c\u4f46\u8be5\u6a21\u5757\u7b2c\u4e00\u6b21\u88ab\u5bfc\u5165\u65f6\u6267\u884c\u3002\n\u8fd9\u4e2a\u51fd\u6570\u7684\u4e3b\u8981\u5de5\u4f5c\u662f\u5728\u89e3\u91ca\u5668\u4e2d\u6ce8\u518c\u6a21\u5757\u5bf9\u8c61\u3002"
      ]
    },
    {
      "cell_type": "markdown",
      "metadata": {},
      "source": [
        "\u6700\u540e\u4e00\u4e2a\u8981\u70b9\u9700\u8981\u63d0\u51fa\u6765\uff0c\u4f7f\u7528C\u51fd\u6570\u6765\u6269\u5c55Python\u8981\u8003\u8651\u7684\u4e8b\u60c5\u8fd8\u6709\u5f88\u591a\uff0c\u672c\u8282\u53ea\u662f\u4e00\u5c0f\u90e8\u5206\u3002\n\uff08\u5b9e\u9645\u4e0a\uff0cC API\u5305\u542b\u4e86\u8d85\u8fc7500\u4e2a\u51fd\u6570\uff09\u3002\u4f60\u5e94\u8be5\u5c06\u672c\u8282\u5f53\u505a\u662f\u4e00\u4e2a\u5165\u95e8\u7bc7\u3002\n\u66f4\u591a\u9ad8\u7ea7\u5185\u5bb9\uff0c\u53ef\u4ee5\u770b\u770b PyArg_ParseTuple() \u548c Py_BuildValue() \u51fd\u6570\u7684\u6587\u6863\uff0c\n\u7136\u540e\u8fdb\u4e00\u6b65\u6269\u5c55\u5f00\u3002"
      ]
    },
    {
      "cell_type": "markdown",
      "metadata": {},
      "source": [
        "## 15.3 \u7f16\u5199\u6269\u5c55\u51fd\u6570\u64cd\u4f5c\u6570\u7ec4\n"
      ]
    },
    {
      "cell_type": "markdown",
      "metadata": {},
      "source": [
        "### \u95ee\u9898\n"
      ]
    },
    {
      "cell_type": "markdown",
      "metadata": {},
      "source": [
        "\u4f60\u60f3\u7f16\u5199\u4e00\u4e2aC\u6269\u5c55\u51fd\u6570\u6765\u64cd\u4f5c\u6570\u7ec4\uff0c\u53ef\u80fd\u662f\u88abarray\u6a21\u5757\u6216\u7c7b\u4f3cNumpy\u5e93\u6240\u521b\u5efa\u3002\n\u4e0d\u8fc7\uff0c\u4f60\u60f3\u8ba9\u4f60\u7684\u51fd\u6570\u66f4\u52a0\u901a\u7528\uff0c\u800c\u4e0d\u662f\u9488\u5bf9\u67d0\u4e2a\u7279\u5b9a\u7684\u5e93\u6240\u751f\u6210\u7684\u6570\u7ec4\u3002"
      ]
    },
    {
      "cell_type": "markdown",
      "metadata": {},
      "source": [
        "### \u89e3\u51b3\u65b9\u6848\n"
      ]
    },
    {
      "cell_type": "markdown",
      "metadata": {},
      "source": [
        "\u4e3a\u4e86\u80fd\u8ba9\u63a5\u53d7\u548c\u5904\u7406\u6570\u7ec4\u5177\u6709\u53ef\u79fb\u690d\u6027\uff0c\u4f60\u9700\u8981\u4f7f\u7528\u5230 Buffer Protocol .\n\u4e0b\u9762\u662f\u4e00\u4e2a\u624b\u5199\u7684C\u6269\u5c55\u51fd\u6570\u4f8b\u5b50\uff0c\n\u7528\u6765\u63a5\u53d7\u6570\u7ec4\u6570\u636e\u5e76\u8c03\u7528\u672c\u7ae0\u5f00\u7bc7\u90e8\u5206\u7684 avg(double *buf, int len) \u51fd\u6570\uff1a"
      ]
    },
    {
      "cell_type": "code",
      "execution_count": null,
      "metadata": {},
      "outputs": [],
      "source": [
        "/* Call double avg(double *, int) */\nstatic PyObject *py_avg(PyObject *self, PyObject *args) {\n  PyObject *bufobj;\n  Py_buffer view;\n  double result;\n  /* Get the passed Python object */\n  if (!PyArg_ParseTuple(args, \"O\", &bufobj)) {\n    return NULL;\n  }\n\n  /* Attempt to extract buffer information from it */\n\n  if (PyObject_GetBuffer(bufobj, &view,\n      PyBUF_ANY_CONTIGUOUS | PyBUF_FORMAT) == -1) {\n    return NULL;\n  }\n\n  if (view.ndim != 1) {\n    PyErr_SetString(PyExc_TypeError, \"Expected a 1-dimensional array\");\n    PyBuffer_Release(&view);\n    return NULL;\n  }\n\n  /* Check the type of items in the array */\n  if (strcmp(view.format,\"d\") != 0) {\n    PyErr_SetString(PyExc_TypeError, \"Expected an array of doubles\");\n    PyBuffer_Release(&view);\n    return NULL;\n  }\n\n  /* Pass the raw buffer and size to the C function */\n  result = avg(view.buf, view.shape[0]);\n\n  /* Indicate we're done working with the buffer */\n  PyBuffer_Release(&view);\n  return Py_BuildValue(\"d\", result);\n}"
      ]
    },
    {
      "cell_type": "markdown",
      "metadata": {},
      "source": [
        "\u4e0b\u9762\u6211\u4eec\u6f14\u793a\u4e0b\u8fd9\u4e2a\u6269\u5c55\u51fd\u6570\u662f\u5982\u4f55\u5de5\u4f5c\u7684\uff1a"
      ]
    },
    {
      "cell_type": "code",
      "execution_count": null,
      "metadata": {},
      "outputs": [],
      "source": [
        "import array\navg(array.array('d',[1,2,3]))"
      ]
    },
    {
      "cell_type": "code",
      "execution_count": null,
      "metadata": {},
      "outputs": [],
      "source": [
        "import numpy\navg(numpy.array([1.0,2.0,3.0]))"
      ]
    },
    {
      "cell_type": "code",
      "execution_count": null,
      "metadata": {},
      "outputs": [],
      "source": [
        "avg([1,2,3])"
      ]
    },
    {
      "cell_type": "code",
      "execution_count": null,
      "metadata": {},
      "outputs": [],
      "source": [
        "avg(b'Hello')"
      ]
    },
    {
      "cell_type": "code",
      "execution_count": null,
      "metadata": {},
      "outputs": [],
      "source": [
        "a = numpy.array([[1.,2.,3.],[4.,5.,6.]])\navg(a[:,2])"
      ]
    },
    {
      "cell_type": "code",
      "execution_count": null,
      "metadata": {},
      "outputs": [],
      "source": [
        "sample.avg(a)"
      ]
    },
    {
      "cell_type": "code",
      "execution_count": null,
      "metadata": {},
      "outputs": [],
      "source": [
        "sample.avg(a[0])"
      ]
    },
    {
      "cell_type": "markdown",
      "metadata": {},
      "source": [
        "### \u8ba8\u8bba\n"
      ]
    },
    {
      "cell_type": "markdown",
      "metadata": {},
      "source": [
        "\u5c06\u4e00\u4e2a\u6570\u7ec4\u5bf9\u8c61\u4f20\u7ed9C\u51fd\u6570\u53ef\u80fd\u662f\u4e00\u4e2a\u6269\u5c55\u51fd\u6570\u505a\u7684\u6700\u5e38\u89c1\u7684\u4e8b\u3002\n\u5f88\u591aPython\u5e94\u7528\u7a0b\u5e8f\uff0c\u4ece\u56fe\u50cf\u5904\u7406\u5230\u79d1\u5b66\u8ba1\u7b97\uff0c\u90fd\u662f\u57fa\u4e8e\u9ad8\u6027\u80fd\u7684\u6570\u7ec4\u5904\u7406\u3002\n\u901a\u8fc7\u7f16\u5199\u80fd\u63a5\u53d7\u5e76\u64cd\u4f5c\u6570\u7ec4\u7684\u4ee3\u7801\uff0c\u4f60\u53ef\u4ee5\u7f16\u5199\u5f88\u597d\u7684\u517c\u5bb9\u8fd9\u4e9b\u5e94\u7528\u7a0b\u5e8f\u7684\u81ea\u5b9a\u4e49\u4ee3\u7801\uff0c\n\u800c\u4e0d\u662f\u53ea\u80fd\u517c\u5bb9\u4f60\u81ea\u5df1\u7684\u4ee3\u7801\u3002"
      ]
    },
    {
      "cell_type": "markdown",
      "metadata": {},
      "source": [
        "\u4ee3\u7801\u7684\u5173\u952e\u70b9\u5728\u4e8e PyBuffer_GetBuffer() \u51fd\u6570\u3002\n\u7ed9\u5b9a\u4e00\u4e2a\u4efb\u610f\u7684Python\u5bf9\u8c61\uff0c\u5b83\u4f1a\u8bd5\u7740\u53bb\u83b7\u53d6\u5e95\u5c42\u5185\u5b58\u4fe1\u606f\uff0c\u5b83\u7b80\u5355\u7684\u629b\u51fa\u4e00\u4e2a\u5f02\u5e38\u5e76\u8fd4\u56de-1.\n\u4f20\u7ed9 PyBuffer_GetBuffer() \u7684\u7279\u6b8a\u6807\u5fd7\u7ed9\u51fa\u4e86\u6240\u9700\u7684\u5185\u5b58\u7f13\u51b2\u7c7b\u578b\u3002\n\u4f8b\u5982\uff0cPyBUF_ANY_CONTIGUOUS \u8868\u793a\u662f\u4e00\u4e2a\u8fde\u7eed\u7684\u5185\u5b58\u533a\u57df\u3002"
      ]
    },
    {
      "cell_type": "markdown",
      "metadata": {},
      "source": [
        "\u5bf9\u4e8e\u6570\u7ec4\u3001\u5b57\u8282\u5b57\u7b26\u4e32\u548c\u5176\u4ed6\u7c7b\u4f3c\u5bf9\u8c61\u800c\u8a00\uff0c\u4e00\u4e2a Py_buffer \u7ed3\u6784\u4f53\u5305\u542b\u4e86\u6240\u6709\u5e95\u5c42\u5185\u5b58\u7684\u4fe1\u606f\u3002\n\u5b83\u5305\u542b\u4e00\u4e2a\u6307\u5411\u5185\u5b58\u5730\u5740\u3001\u5927\u5c0f\u3001\u5143\u7d20\u5927\u5c0f\u3001\u683c\u5f0f\u548c\u5176\u4ed6\u7ec6\u8282\u7684\u6307\u9488\u3002\u4e0b\u9762\u662f\u8fd9\u4e2a\u7ed3\u6784\u4f53\u7684\u5b9a\u4e49\uff1a"
      ]
    },
    {
      "cell_type": "code",
      "execution_count": null,
      "metadata": {},
      "outputs": [],
      "source": [
        "typedef struct bufferinfo {\n    void *buf;              /* Pointer to buffer memory */\n    PyObject *obj;          /* Python object that is the owner */\n    Py_ssize_t len;         /* Total size in bytes */\n    Py_ssize_t itemsize;    /* Size in bytes of a single item */\n    int readonly;           /* Read-only access flag */\n    int ndim;               /* Number of dimensions */\n    char *format;           /* struct code of a single item */\n    Py_ssize_t *shape;      /* Array containing dimensions */\n    Py_ssize_t *strides;    /* Array containing strides */\n    Py_ssize_t *suboffsets; /* Array containing suboffsets */\n} Py_buffer;"
      ]
    },
    {
      "cell_type": "markdown",
      "metadata": {},
      "source": [
        "\u672c\u8282\u4e2d\uff0c\u6211\u4eec\u53ea\u5173\u6ce8\u63a5\u53d7\u4e00\u4e2a\u53cc\u7cbe\u5ea6\u6d6e\u70b9\u6570\u6570\u7ec4\u4f5c\u4e3a\u53c2\u6570\u3002\n\u8981\u68c0\u67e5\u5143\u7d20\u662f\u5426\u662f\u4e00\u4e2a\u53cc\u7cbe\u5ea6\u6d6e\u70b9\u6570\uff0c\u53ea\u9700\u9a8c\u8bc1 format \u5c5e\u6027\u662f\u4e0d\u662f\u5b57\u7b26\u4e32\u201dd\u201d.\n\u8fd9\u4e2a\u4e5f\u662f struct \u6a21\u5757\u7528\u6765\u7f16\u7801\u4e8c\u8fdb\u5236\u6570\u636e\u7684\u3002\n\u901a\u5e38\u6765\u8bb2\uff0cformat \u53ef\u4ee5\u662f\u4efb\u4f55\u517c\u5bb9 struct \u6a21\u5757\u7684\u683c\u5f0f\u5316\u5b57\u7b26\u4e32\uff0c\n\u5e76\u4e14\u5982\u679c\u6570\u7ec4\u5305\u542b\u4e86C\u7ed3\u6784\u7684\u8bdd\u5b83\u53ef\u4ee5\u5305\u542b\u591a\u4e2a\u503c\u3002\n\u4e00\u65e6\u6211\u4eec\u5df2\u7ecf\u786e\u5b9a\u4e86\u5e95\u5c42\u7684\u7f13\u5b58\u533a\u4fe1\u606f\uff0c\u90a3\u53ea\u9700\u8981\u7b80\u5355\u7684\u5c06\u5b83\u4f20\u7ed9C\u51fd\u6570\uff0c\u7136\u540e\u4f1a\u88ab\u5f53\u505a\u662f\u4e00\u4e2a\u666e\u901a\u7684C\u6570\u7ec4\u4e86\u3002\n\u5b9e\u9645\u4e0a\uff0c\u6211\u4eec\u4e0d\u5fc5\u62c5\u5fc3\u662f\u600e\u6837\u7684\u6570\u7ec4\u7c7b\u578b\u6216\u8005\u5b83\u662f\u88ab\u4ec0\u4e48\u5e93\u521b\u5efa\u51fa\u6765\u7684\u3002\n\u8fd9\u4e5f\u662f\u4e3a\u4ec0\u4e48\u8fd9\u4e2a\u51fd\u6570\u80fd\u517c\u5bb9 array \u6a21\u5757\u4e5f\u80fd\u517c\u5bb9 numpy \u6a21\u5757\u4e2d\u7684\u6570\u7ec4\u4e86\u3002"
      ]
    },
    {
      "cell_type": "markdown",
      "metadata": {},
      "source": [
        "\u5728\u8fd4\u56de\u6700\u7ec8\u7ed3\u679c\u4e4b\u524d\uff0c\u5e95\u5c42\u7684\u7f13\u51b2\u533a\u89c6\u56fe\u5fc5\u987b\u4f7f\u7528 PyBuffer_Release() \u91ca\u653e\u6389\u3002\n\u4e4b\u6240\u4ee5\u8981\u8fd9\u4e00\u6b65\u662f\u4e3a\u4e86\u80fd\u6b63\u786e\u7684\u7ba1\u7406\u5bf9\u8c61\u7684\u5f15\u7528\u8ba1\u6570\u3002"
      ]
    },
    {
      "cell_type": "markdown",
      "metadata": {},
      "source": [
        "\u540c\u6837\uff0c\u672c\u8282\u4e5f\u4ec5\u4ec5\u53ea\u662f\u6f14\u793a\u4e86\u63a5\u53d7\u6570\u7ec4\u7684\u4e00\u4e2a\u5c0f\u7684\u4ee3\u7801\u7247\u6bb5\u3002\n\u5982\u679c\u4f60\u771f\u7684\u8981\u5904\u7406\u6570\u7ec4\uff0c\u4f60\u53ef\u80fd\u4f1a\u78b0\u5230\u591a\u7ef4\u6570\u636e\u3001\u5927\u6570\u636e\u3001\u4e0d\u540c\u7684\u6570\u636e\u7c7b\u578b\u7b49\u7b49\u95ee\u9898\uff0c\n\u90a3\u4e48\u5c31\u5f97\u53bb\u5b66\u66f4\u9ad8\u7ea7\u7684\u4e1c\u897f\u4e86\u3002\u4f60\u9700\u8981\u53c2\u8003\u5b98\u65b9\u6587\u6863\u6765\u83b7\u53d6\u66f4\u591a\u8be6\u7ec6\u7684\u7ec6\u8282\u3002"
      ]
    },
    {
      "cell_type": "markdown",
      "metadata": {},
      "source": [
        "\u5982\u679c\u4f60\u9700\u8981\u7f16\u5199\u6d89\u53ca\u5230\u6570\u7ec4\u5904\u7406\u7684\u591a\u4e2a\u6269\u5c55\uff0c\u90a3\u4e48\u901a\u8fc7Cython\u6765\u5b9e\u73b0\u4f1a\u66f4\u5bb9\u6613\u4e0b\u3002\u53c2\u800315.11\u8282\u3002"
      ]
    },
    {
      "cell_type": "markdown",
      "metadata": {},
      "source": [
        "## 15.4 \u5728C\u6269\u5c55\u6a21\u5757\u4e2d\u64cd\u4f5c\u9690\u5f62\u6307\u9488\n"
      ]
    },
    {
      "cell_type": "markdown",
      "metadata": {},
      "source": [
        "### \u95ee\u9898\n"
      ]
    },
    {
      "cell_type": "markdown",
      "metadata": {},
      "source": [
        "\u4f60\u6709\u4e00\u4e2a\u6269\u5c55\u6a21\u5757\u9700\u8981\u5904\u7406C\u7ed3\u6784\u4f53\u4e2d\u7684\u6307\u9488\uff0c\n\u4f46\u662f\u4f60\u53c8\u4e0d\u60f3\u66b4\u9732\u7ed3\u6784\u4f53\u4e2d\u4efb\u4f55\u5185\u90e8\u7ec6\u8282\u7ed9Python\u3002"
      ]
    },
    {
      "cell_type": "markdown",
      "metadata": {},
      "source": [
        "### \u89e3\u51b3\u65b9\u6848\n"
      ]
    },
    {
      "cell_type": "markdown",
      "metadata": {},
      "source": [
        "\u9690\u5f62\u7ed3\u6784\u4f53\u53ef\u4ee5\u5f88\u5bb9\u6613\u7684\u901a\u8fc7\u5c06\u5b83\u4eec\u5305\u88c5\u5728\u80f6\u56ca\u5bf9\u8c61\u4e2d\u6765\u5904\u7406\u3002\n\u8003\u8651\u6211\u4eec\u4f8b\u5b50\u4ee3\u7801\u4e2d\u7684\u4e0b\u5217C\u4ee3\u7801\u7247\u6bb5\uff1a"
      ]
    },
    {
      "cell_type": "code",
      "execution_count": null,
      "metadata": {},
      "outputs": [],
      "source": [
        "typedef struct Point {\n    double x,y;\n} Point;\n\nextern double distance(Point *p1, Point *p2);"
      ]
    },
    {
      "cell_type": "markdown",
      "metadata": {},
      "source": [
        "\u4e0b\u9762\u662f\u4e00\u4e2a\u4f7f\u7528\u80f6\u56ca\u5305\u88c5Point\u7ed3\u6784\u4f53\u548c distance() \u51fd\u6570\u7684\u6269\u5c55\u4ee3\u7801\u5b9e\u4f8b\uff1a"
      ]
    },
    {
      "cell_type": "code",
      "execution_count": null,
      "metadata": {},
      "outputs": [],
      "source": [
        "/* Destructor function for points */\nstatic void del_Point(PyObject *obj) {\n  free(PyCapsule_GetPointer(obj,\"Point\"));\n}\n\n/* Utility functions */\nstatic Point *PyPoint_AsPoint(PyObject *obj) {\n  return (Point *) PyCapsule_GetPointer(obj, \"Point\");\n}\n\nstatic PyObject *PyPoint_FromPoint(Point *p, int must_free) {\n  return PyCapsule_New(p, \"Point\", must_free ? del_Point : NULL);\n}\n\n/* Create a new Point object */\nstatic PyObject *py_Point(PyObject *self, PyObject *args) {\n\n  Point *p;\n  double x,y;\n  if (!PyArg_ParseTuple(args,\"dd\",&x,&y)) {\n    return NULL;\n  }\n  p = (Point *) malloc(sizeof(Point));\n  p->x = x;\n  p->y = y;\n  return PyPoint_FromPoint(p, 1);\n}\n\nstatic PyObject *py_distance(PyObject *self, PyObject *args) {\n  Point *p1, *p2;\n  PyObject *py_p1, *py_p2;\n  double result;\n\n  if (!PyArg_ParseTuple(args,\"OO\",&py_p1, &py_p2)) {\n    return NULL;\n  }\n  if (!(p1 = PyPoint_AsPoint(py_p1))) {\n    return NULL;\n  }\n  if (!(p2 = PyPoint_AsPoint(py_p2))) {\n    return NULL;\n  }\n  result = distance(p1,p2);\n  return Py_BuildValue(\"d\", result);\n}"
      ]
    },
    {
      "cell_type": "markdown",
      "metadata": {},
      "source": [
        "\u5728Python\u4e2d\u53ef\u4ee5\u50cf\u4e0b\u9762\u8fd9\u6837\u6765\u4f7f\u7528\u8fd9\u4e9b\u51fd\u6570\uff1a"
      ]
    },
    {
      "cell_type": "code",
      "execution_count": null,
      "metadata": {},
      "outputs": [],
      "source": [
        "import sample\np1 = sample.Point(2,3)\np2 = sample.Point(4,5)\np1"
      ]
    },
    {
      "cell_type": "code",
      "execution_count": null,
      "metadata": {},
      "outputs": [],
      "source": [
        "p2"
      ]
    },
    {
      "cell_type": "code",
      "execution_count": null,
      "metadata": {},
      "outputs": [],
      "source": [
        "sample.distance(p1,p2)"
      ]
    },
    {
      "cell_type": "markdown",
      "metadata": {},
      "source": [
        "### \u8ba8\u8bba\n"
      ]
    },
    {
      "cell_type": "markdown",
      "metadata": {},
      "source": [
        "\u80f6\u56ca\u548cC\u6307\u9488\u7c7b\u4f3c\u3002\u5728\u5185\u90e8\uff0c\u5b83\u4eec\u83b7\u53d6\u4e00\u4e2a\u901a\u7528\u6307\u9488\u548c\u4e00\u4e2a\u540d\u79f0\uff0c\u53ef\u4ee5\u4f7f\u7528 PyCapsule_New() \u51fd\u6570\u5f88\u5bb9\u6613\u7684\u88ab\u521b\u5efa\u3002\n\u53e6\u5916\uff0c\u4e00\u4e2a\u53ef\u9009\u7684\u6790\u6784\u51fd\u6570\u80fd\u88ab\u7ed1\u5b9a\u5230\u80f6\u56ca\u4e0a\uff0c\u7528\u6765\u5728\u80f6\u56ca\u5bf9\u8c61\u88ab\u5783\u573e\u56de\u6536\u65f6\u91ca\u653e\u5e95\u5c42\u7684\u5185\u5b58\u3002"
      ]
    },
    {
      "cell_type": "markdown",
      "metadata": {},
      "source": [
        "\u8981\u63d0\u53d6\u80f6\u56ca\u4e2d\u7684\u6307\u9488\uff0c\u53ef\u4f7f\u7528 PyCapsule_GetPointer() \u51fd\u6570\u5e76\u6307\u5b9a\u540d\u79f0\u3002\n\u5982\u679c\u63d0\u4f9b\u7684\u540d\u79f0\u548c\u80f6\u56ca\u4e0d\u5339\u914d\u6216\u5176\u4ed6\u9519\u8bef\u51fa\u73b0\uff0c\u90a3\u4e48\u5c31\u4f1a\u629b\u51fa\u5f02\u5e38\u5e76\u8fd4\u56deNULL\u3002"
      ]
    },
    {
      "cell_type": "markdown",
      "metadata": {},
      "source": [
        "\u672c\u8282\u4e2d\uff0c\u4e00\u5bf9\u5de5\u5177\u51fd\u6570\u2014\u2014 PyPoint_FromPoint() \u548c PyPoint_AsPoint()\n\u88ab\u7528\u6765\u521b\u5efa\u548c\u4ece\u80f6\u56ca\u5bf9\u8c61\u4e2d\u63d0\u53d6Point\u5b9e\u4f8b\u3002\n\u5728\u4efb\u4f55\u6269\u5c55\u51fd\u6570\u4e2d\uff0c\u6211\u4eec\u4f1a\u4f7f\u7528\u8fd9\u4e9b\u51fd\u6570\u800c\u4e0d\u662f\u76f4\u63a5\u4f7f\u7528\u80f6\u56ca\u5bf9\u8c61\u3002\n\u8fd9\u79cd\u8bbe\u8ba1\u4f7f\u5f97\u6211\u4eec\u53ef\u4ee5\u5f88\u5bb9\u6613\u7684\u5e94\u5bf9\u5c06\u6765\u5bf9Point\u5e95\u4e0b\u7684\u5305\u88c5\u7684\u66f4\u6539\u3002\n\u4f8b\u5982\uff0c\u5982\u679c\u4f60\u51b3\u5b9a\u4f7f\u7528\u53e6\u5916\u4e00\u4e2a\u80f6\u56ca\u4e86\uff0c\u90a3\u4e48\u53ea\u9700\u8981\u66f4\u6539\u8fd9\u4e24\u4e2a\u51fd\u6570\u5373\u53ef\u3002"
      ]
    },
    {
      "cell_type": "markdown",
      "metadata": {},
      "source": [
        "\u5bf9\u4e8e\u80f6\u56ca\u5bf9\u8c61\u4e00\u4e2a\u96be\u70b9\u5728\u4e8e\u5783\u573e\u56de\u6536\u548c\u5185\u5b58\u7ba1\u7406\u3002\nPyPoint_FromPoint() \u51fd\u6570\u63a5\u53d7\u4e00\u4e2a must_free \u53c2\u6570\uff0c\n\u7528\u6765\u6307\u5b9a\u5f53\u80f6\u56ca\u88ab\u9500\u6bc1\u65f6\u5e95\u5c42Point * \u7ed3\u6784\u4f53\u662f\u5426\u5e94\u8be5\u88ab\u56de\u6536\u3002\n\u5728\u67d0\u4e9bC\u4ee3\u7801\u4e2d\uff0c\u5f52\u5c5e\u95ee\u9898\u901a\u5e38\u5f88\u96be\u88ab\u5904\u7406\uff08\u6bd4\u5982\u4e00\u4e2aPoint\u7ed3\u6784\u4f53\u88ab\u5d4c\u5165\u5230\u4e00\u4e2a\u88ab\u5355\u72ec\u7ba1\u7406\u7684\u5927\u7ed3\u6784\u4f53\u4e2d\uff09\u3002\n\u7a0b\u5e8f\u5458\u53ef\u4ee5\u4f7f\u7528 extra \u53c2\u6570\u6765\u63a7\u5236\uff0c\u800c\u4e0d\u662f\u5355\u65b9\u9762\u7684\u51b3\u5b9a\u5783\u573e\u56de\u6536\u3002\n\u8981\u6ce8\u610f\u7684\u662f\u548c\u73b0\u6709\u80f6\u56ca\u6709\u5173\u7684\u6790\u6784\u5668\u80fd\u4f7f\u7528 PyCapsule_SetDestructor() \u51fd\u6570\u6765\u66f4\u6539\u3002"
      ]
    },
    {
      "cell_type": "markdown",
      "metadata": {},
      "source": [
        "\u5bf9\u4e8e\u6d89\u53ca\u5230\u7ed3\u6784\u4f53\u7684C\u4ee3\u7801\u800c\u8a00\uff0c\u4f7f\u7528\u80f6\u56ca\u662f\u4e00\u4e2a\u6bd4\u8f83\u5408\u7406\u7684\u89e3\u51b3\u65b9\u6848\u3002\n\u4f8b\u5982\uff0c\u6709\u65f6\u5019\u4f60\u5e76\u4e0d\u5173\u5fc3\u66b4\u9732\u7ed3\u6784\u4f53\u7684\u5185\u90e8\u4fe1\u606f\u6216\u8005\u5c06\u5176\u8f6c\u6362\u6210\u4e00\u4e2a\u5b8c\u6574\u7684\u6269\u5c55\u7c7b\u578b\u3002\n\u901a\u8fc7\u4f7f\u7528\u80f6\u56ca\uff0c\u4f60\u53ef\u4ee5\u5728\u5b83\u4e0a\u9762\u653e\u4e00\u4e2a\u8f7b\u91cf\u7ea7\u7684\u5305\u88c5\u5668\uff0c\u7136\u540e\u5c06\u5b83\u4f20\u7ed9\u5176\u4ed6\u7684\u6269\u5c55\u51fd\u6570\u3002"
      ]
    },
    {
      "cell_type": "markdown",
      "metadata": {},
      "source": [
        "## 15.5 \u4ece\u6269\u5c55\u6a21\u5757\u4e2d\u5b9a\u4e49\u548c\u5bfc\u51faC\u7684API\n"
      ]
    },
    {
      "cell_type": "markdown",
      "metadata": {},
      "source": [
        "### \u95ee\u9898\n"
      ]
    },
    {
      "cell_type": "markdown",
      "metadata": {},
      "source": [
        "\u4f60\u6709\u4e00\u4e2aC\u6269\u5c55\u6a21\u5757\uff0c\u5728\u5185\u90e8\u5b9a\u4e49\u4e86\u5f88\u591a\u6709\u7528\u7684\u51fd\u6570\uff0c\u4f60\u60f3\u5c06\u5b83\u4eec\u5bfc\u51fa\u4e3a\u4e00\u4e2a\u516c\u5171\u7684C API\u4f9b\u5176\u4ed6\u5730\u65b9\u4f7f\u7528\u3002\n\u4f60\u60f3\u5728\u5176\u4ed6\u6269\u5c55\u6a21\u5757\u4e2d\u4f7f\u7528\u8fd9\u4e9b\u51fd\u6570\uff0c\u4f46\u662f\u4e0d\u77e5\u9053\u600e\u6837\u5c06\u5b83\u4eec\u94fe\u63a5\u8d77\u6765\uff0c\n\u5e76\u4e14\u901a\u8fc7C\u7f16\u8bd1\u5668/\u94fe\u63a5\u5668\u6765\u505a\u770b\u4e0a\u53bb\u7279\u522b\u590d\u6742\uff08\u6216\u8005\u4e0d\u53ef\u80fd\u505a\u5230\uff09\u3002"
      ]
    },
    {
      "cell_type": "markdown",
      "metadata": {},
      "source": [
        "### \u89e3\u51b3\u65b9\u6848\n"
      ]
    },
    {
      "cell_type": "markdown",
      "metadata": {},
      "source": [
        "\u672c\u8282\u4e3b\u8981\u95ee\u9898\u662f\u5982\u4f55\u5904\u740615.4\u5c0f\u8282\u4e2d\u63d0\u5230\u7684Point\u5bf9\u8c61\u3002\u4ed4\u7ec6\u56de\u4e00\u4e0b\uff0c\u5728C\u4ee3\u7801\u4e2d\u5305\u542b\u4e86\u5982\u4e0b\u8fd9\u4e9b\u5de5\u5177\u51fd\u6570\uff1a"
      ]
    },
    {
      "cell_type": "code",
      "execution_count": null,
      "metadata": {},
      "outputs": [],
      "source": [
        "/* Destructor function for points */\nstatic void del_Point(PyObject *obj) {\n\n  free(PyCapsule_GetPointer(obj,\"Point\"));\n}\n\n/* Utility functions */\nstatic Point *PyPoint_AsPoint(PyObject *obj) {\n  return (Point *) PyCapsule_GetPointer(obj, \"Point\");\n}\n\nstatic PyObject *PyPoint_FromPoint(Point *p, int must_free) {\n  return PyCapsule_New(p, \"Point\", must_free ? del_Point : NULL);\n}"
      ]
    },
    {
      "cell_type": "markdown",
      "metadata": {},
      "source": [
        "\u73b0\u5728\u7684\u95ee\u9898\u662f\u600e\u6837\u5c06 PyPoint_AsPoint() \u548c Point_FromPoint() \u51fd\u6570\u4f5c\u4e3aAPI\u5bfc\u51fa\uff0c\n\u8fd9\u6837\u5176\u4ed6\u6269\u5c55\u6a21\u5757\u80fd\u4f7f\u7528\u5e76\u94fe\u63a5\u5b83\u4eec\uff0c\u6bd4\u5982\u5982\u679c\u4f60\u6709\u5176\u4ed6\u6269\u5c55\u4e5f\u60f3\u4f7f\u7528\u5305\u88c5\u7684Point\u5bf9\u8c61\u3002"
      ]
    },
    {
      "cell_type": "markdown",
      "metadata": {},
      "source": [
        "\u8981\u89e3\u51b3\u8fd9\u4e2a\u95ee\u9898\uff0c\u9996\u5148\u8981\u4e3a sample \u6269\u5c55\u5199\u4e2a\u65b0\u7684\u5934\u6587\u4ef6\u540d\u53eb pysample.h \uff0c\u5982\u4e0b\uff1a"
      ]
    },
    {
      "cell_type": "code",
      "execution_count": null,
      "metadata": {},
      "outputs": [],
      "source": [
        "/* pysample.h */\n#include \"Python.h\"\n#include \"sample.h\"\n#ifdef __cplusplus\nextern \"C\" {\n#endif\n\n/* Public API Table */\ntypedef struct {\n  Point *(*aspoint)(PyObject *);\n  PyObject *(*frompoint)(Point *, int);\n} _PointAPIMethods;\n\n#ifndef PYSAMPLE_MODULE\n/* Method table in external module */\nstatic _PointAPIMethods *_point_api = 0;\n\n/* Import the API table from sample */\nstatic int import_sample(void) {\n  _point_api = (_PointAPIMethods *) PyCapsule_Import(\"sample._point_api\",0);\n  return (_point_api != NULL) ? 1 : 0;\n}\n\n/* Macros to implement the programming interface */\n#define PyPoint_AsPoint(obj) (_point_api->aspoint)(obj)\n#define PyPoint_FromPoint(obj) (_point_api->frompoint)(obj)\n#endif\n\n#ifdef __cplusplus\n}\n#endif"
      ]
    },
    {
      "cell_type": "markdown",
      "metadata": {},
      "source": [
        "\u8fd9\u91cc\u6700\u91cd\u8981\u7684\u90e8\u5206\u662f\u51fd\u6570\u6307\u9488\u8868 _PointAPIMethods .\n\u5b83\u4f1a\u5728\u5bfc\u51fa\u6a21\u5757\u65f6\u88ab\u521d\u59cb\u5316\uff0c\u7136\u540e\u5bfc\u5165\u6a21\u5757\u65f6\u88ab\u67e5\u627e\u5230\u3002\n\u4fee\u6539\u539f\u59cb\u7684\u6269\u5c55\u6a21\u5757\u6765\u586b\u5145\u8868\u683c\u5e76\u5c06\u5b83\u50cf\u4e0b\u9762\u8fd9\u6837\u5bfc\u51fa\uff1a"
      ]
    },
    {
      "cell_type": "code",
      "execution_count": null,
      "metadata": {},
      "outputs": [],
      "source": [
        "/* pysample.c */\n\n#include \"Python.h\"\n#define PYSAMPLE_MODULE\n#include \"pysample.h\"\n\n...\n/* Destructor function for points */\nstatic void del_Point(PyObject *obj) {\n  printf(\"Deleting point\\n\");\n  free(PyCapsule_GetPointer(obj,\"Point\"));\n}\n\n/* Utility functions */\nstatic Point *PyPoint_AsPoint(PyObject *obj) {\n  return (Point *) PyCapsule_GetPointer(obj, \"Point\");\n}\n\nstatic PyObject *PyPoint_FromPoint(Point *p, int free) {\n  return PyCapsule_New(p, \"Point\", free ? del_Point : NULL);\n}\n\nstatic _PointAPIMethods _point_api = {\n  PyPoint_AsPoint,\n  PyPoint_FromPoint\n};\n...\n\n/* Module initialization function */\nPyMODINIT_FUNC\nPyInit_sample(void) {\n  PyObject *m;\n  PyObject *py_point_api;\n\n  m = PyModule_Create(&samplemodule);\n  if (m == NULL)\n    return NULL;\n\n  /* Add the Point C API functions */\n  py_point_api = PyCapsule_New((void *) &_point_api, \"sample._point_api\", NULL);\n  if (py_point_api) {\n    PyModule_AddObject(m, \"_point_api\", py_point_api);\n  }\n  return m;\n}"
      ]
    },
    {
      "cell_type": "markdown",
      "metadata": {},
      "source": [
        "\u6700\u540e\uff0c\u4e0b\u9762\u662f\u4e00\u4e2a\u65b0\u7684\u6269\u5c55\u6a21\u5757\u4f8b\u5b50\uff0c\u7528\u6765\u52a0\u8f7d\u5e76\u4f7f\u7528\u8fd9\u4e9bAPI\u51fd\u6570\uff1a"
      ]
    },
    {
      "cell_type": "code",
      "execution_count": null,
      "metadata": {},
      "outputs": [],
      "source": [
        "/* ptexample.c */\n\n/* Include the header associated with the other module */\n#include \"pysample.h\"\n\n/* An extension function that uses the exported API */\nstatic PyObject *print_point(PyObject *self, PyObject *args) {\n  PyObject *obj;\n  Point *p;\n  if (!PyArg_ParseTuple(args,\"O\", &obj)) {\n    return NULL;\n  }\n\n  /* Note: This is defined in a different module */\n  p = PyPoint_AsPoint(obj);\n  if (!p) {\n    return NULL;\n  }\n  printf(\"%f %f\\n\", p->x, p->y);\n  return Py_BuildValue(\"\");\n}\n\nstatic PyMethodDef PtExampleMethods[] = {\n  {\"print_point\", print_point, METH_VARARGS, \"output a point\"},\n  { NULL, NULL, 0, NULL}\n};\n\nstatic struct PyModuleDef ptexamplemodule = {\n  PyModuleDef_HEAD_INIT,\n  \"ptexample\",           /* name of module */\n  \"A module that imports an API\",  /* Doc string (may be NULL) */\n  -1,                 /* Size of per-interpreter state or -1 */\n  PtExampleMethods       /* Method table */\n};\n\n/* Module initialization function */\nPyMODINIT_FUNC\nPyInit_ptexample(void) {\n  PyObject *m;\n\n  m = PyModule_Create(&ptexamplemodule);\n  if (m == NULL)\n    return NULL;\n\n  /* Import sample, loading its API functions */\n  if (!import_sample()) {\n    return NULL;\n  }\n\n  return m;\n}"
      ]
    },
    {
      "cell_type": "markdown",
      "metadata": {},
      "source": [
        "\u7f16\u8bd1\u8fd9\u4e2a\u65b0\u6a21\u5757\u65f6\uff0c\u4f60\u751a\u81f3\u4e0d\u9700\u8981\u53bb\u8003\u8651\u600e\u6837\u5c06\u51fd\u6570\u5e93\u6216\u4ee3\u7801\u8ddf\u5176\u4ed6\u6a21\u5757\u94fe\u63a5\u8d77\u6765\u3002\n\u4f8b\u5982\uff0c\u4f60\u53ef\u4ee5\u50cf\u4e0b\u9762\u8fd9\u6837\u521b\u5efa\u4e00\u4e2a\u7b80\u5355\u7684 setup.py \u6587\u4ef6\uff1a"
      ]
    },
    {
      "cell_type": "code",
      "execution_count": null,
      "metadata": {},
      "outputs": [],
      "source": [
        "# setup.py\nfrom distutils.core import setup, Extension\n\nsetup(name='ptexample',\n      ext_modules=[\n        Extension('ptexample',\n                  ['ptexample.c'],\n                  include_dirs = [],  # May need pysample.h directory\n                  )\n        ]\n)"
      ]
    },
    {
      "cell_type": "markdown",
      "metadata": {},
      "source": [
        "\u5982\u679c\u4e00\u5207\u6b63\u5e38\uff0c\u4f60\u4f1a\u53d1\u73b0\u4f60\u7684\u65b0\u6269\u5c55\u51fd\u6570\u80fd\u548c\u5b9a\u4e49\u5728\u5176\u4ed6\u6a21\u5757\u4e2d\u7684C API\u51fd\u6570\u4e00\u8d77\u8fd0\u884c\u7684\u5f88\u597d\u3002"
      ]
    },
    {
      "cell_type": "code",
      "execution_count": null,
      "metadata": {},
      "outputs": [],
      "source": [
        "import sample\np1 = sample.Point(2,3)\np1"
      ]
    },
    {
      "cell_type": "code",
      "execution_count": null,
      "metadata": {},
      "outputs": [],
      "source": [
        "import ptexample\nptexample.print_point(p1)"
      ]
    },
    {
      "cell_type": "markdown",
      "metadata": {},
      "source": [
        "### \u8ba8\u8bba\n"
      ]
    },
    {
      "cell_type": "markdown",
      "metadata": {},
      "source": [
        "\u672c\u8282\u57fa\u4e8e\u4e00\u4e2a\u524d\u63d0\u5c31\u662f\uff0c\u80f6\u56ca\u5bf9\u8c61\u80fd\u83b7\u53d6\u4efb\u4f55\u4f60\u60f3\u8981\u7684\u5bf9\u8c61\u7684\u6307\u9488\u3002\n\u8fd9\u6837\u7684\u8bdd\uff0c\u5b9a\u4e49\u6a21\u5757\u4f1a\u586b\u5145\u4e00\u4e2a\u51fd\u6570\u6307\u9488\u7684\u7ed3\u6784\u4f53\uff0c\u521b\u5efa\u4e00\u4e2a\u6307\u5411\u5b83\u7684\u80f6\u56ca\uff0c\u5e76\u5728\u4e00\u4e2a\u6a21\u5757\u7ea7\u5c5e\u6027\u4e2d\u4fdd\u5b58\u8fd9\u4e2a\u80f6\u56ca\uff0c\n\u4f8b\u5982 sample._point_api ."
      ]
    },
    {
      "cell_type": "markdown",
      "metadata": {},
      "source": [
        "\u5176\u4ed6\u6a21\u5757\u80fd\u591f\u5728\u5bfc\u5165\u65f6\u83b7\u53d6\u5230\u8fd9\u4e2a\u5c5e\u6027\u5e76\u63d0\u53d6\u5e95\u5c42\u7684\u6307\u9488\u3002\n\u4e8b\u5b9e\u4e0a\uff0cPython\u63d0\u4f9b\u4e86 PyCapsule_Import() \u5de5\u5177\u51fd\u6570\uff0c\u4e3a\u4e86\u5b8c\u6210\u6240\u6709\u7684\u6b65\u9aa4\u3002\n\u4f60\u53ea\u9700\u63d0\u4f9b\u5c5e\u6027\u7684\u540d\u5b57\u5373\u53ef\uff08\u6bd4\u5982sample._point_api\uff09\uff0c\u7136\u540e\u4ed6\u5c31\u4f1a\u4e00\u6b21\u6027\u627e\u5230\u80f6\u56ca\u5bf9\u8c61\u5e76\u63d0\u53d6\u51fa\u6307\u9488\u6765\u3002"
      ]
    },
    {
      "cell_type": "markdown",
      "metadata": {},
      "source": [
        "\u5728\u5c06\u88ab\u5bfc\u51fa\u51fd\u6570\u53d8\u4e3a\u5176\u4ed6\u6a21\u5757\u4e2d\u666e\u901a\u51fd\u6570\u65f6\uff0c\u6709\u4e00\u4e9bC\u7f16\u7a0b\u9677\u9631\u9700\u8981\u6307\u51fa\u6765\u3002\n\u5728 pysample.h \u6587\u4ef6\u4e2d\uff0c\u4e00\u4e2a _point_api \u6307\u9488\u88ab\u7528\u6765\u6307\u5411\u5728\u5bfc\u51fa\u6a21\u5757\u4e2d\u88ab\u521d\u59cb\u5316\u7684\u65b9\u6cd5\u8868\u3002\n\u4e00\u4e2a\u76f8\u5173\u7684\u51fd\u6570 import_sample() \u88ab\u7528\u6765\u6307\u5411\u80f6\u56ca\u5bfc\u5165\u5e76\u521d\u59cb\u5316\u8fd9\u4e2a\u6307\u9488\u3002\n\u8fd9\u4e2a\u51fd\u6570\u5fc5\u987b\u5728\u4efb\u4f55\u51fd\u6570\u88ab\u4f7f\u7528\u4e4b\u524d\u88ab\u8c03\u7528\u3002\u901a\u5e38\u6765\u8bb2\uff0c\u5b83\u4f1a\u5728\u6a21\u5757\u521d\u59cb\u5316\u65f6\u88ab\u8c03\u7528\u5230\u3002\n\u6700\u540e\uff0cC\u7684\u9884\u5904\u7406\u5b8f\u88ab\u5b9a\u4e49\uff0c\u88ab\u7528\u6765\u901a\u8fc7\u65b9\u6cd5\u8868\u53bb\u5206\u53d1\u8fd9\u4e9bAPI\u51fd\u6570\u3002\n\u7528\u6237\u53ea\u9700\u8981\u4f7f\u7528\u8fd9\u4e9b\u539f\u59cb\u51fd\u6570\u540d\u79f0\u5373\u53ef\uff0c\u4e0d\u9700\u8981\u901a\u8fc7\u5b8f\u53bb\u4e86\u89e3\u5176\u4ed6\u4fe1\u606f\u3002"
      ]
    },
    {
      "cell_type": "markdown",
      "metadata": {},
      "source": [
        "\u6700\u540e\uff0c\u8fd8\u6709\u4e00\u4e2a\u91cd\u8981\u7684\u539f\u56e0\u8ba9\u4f60\u53bb\u4f7f\u7528\u8fd9\u4e2a\u6280\u672f\u6765\u94fe\u63a5\u6a21\u5757\u2014\u2014\u5b83\u975e\u5e38\u7b80\u5355\u5e76\u4e14\u53ef\u4ee5\u4f7f\u5f97\u5404\u4e2a\u6a21\u5757\u5f88\u6e05\u6670\u7684\u89e3\u8026\u3002\n\u5982\u679c\u4f60\u4e0d\u60f3\u4f7f\u7528\u672c\u673a\u7684\u6280\u672f\uff0c\u90a3\u4f60\u5c31\u5fc5\u987b\u4f7f\u7528\u5171\u4eab\u5e93\u7684\u9ad8\u7ea7\u7279\u6027\u548c\u52a8\u6001\u52a0\u8f7d\u5668\u6765\u94fe\u63a5\u6a21\u5757\u3002\n\u4f8b\u5982\uff0c\u5c06\u4e00\u4e2a\u666e\u901a\u7684API\u51fd\u6570\u653e\u5165\u4e00\u4e2a\u5171\u4eab\u5e93\u5e76\u786e\u4fdd\u6240\u6709\u6269\u5c55\u6a21\u5757\u94fe\u63a5\u5230\u90a3\u4e2a\u5171\u4eab\u5e93\u3002\n\u8fd9\u79cd\u65b9\u6cd5\u786e\u5b9e\u53ef\u884c\uff0c\u4f46\u662f\u5b83\u76f8\u5bf9\u7e41\u7410\uff0c\u7279\u522b\u662f\u5728\u5927\u578b\u7cfb\u7edf\u4e2d\u3002\n\u672c\u8282\u6f14\u793a\u4e86\u5982\u4f55\u901a\u8fc7Python\u7684\u666e\u901a\u5bfc\u5165\u673a\u5236\u548c\u4ec5\u4ec5\u51e0\u4e2a\u80f6\u56ca\u8c03\u7528\u6765\u5c06\u591a\u4e2a\u6a21\u5757\u94fe\u63a5\u8d77\u6765\u7684\u9b54\u6cd5\u3002\n\u5bf9\u4e8e\u6a21\u5757\u7684\u7f16\u8bd1\uff0c\u4f60\u53ea\u9700\u8981\u5b9a\u4e49\u5934\u6587\u4ef6\uff0c\u800c\u4e0d\u9700\u8981\u8003\u8651\u51fd\u6570\u5e93\u7684\u5185\u90e8\u7ec6\u8282\u3002"
      ]
    },
    {
      "cell_type": "markdown",
      "metadata": {},
      "source": [
        "\u66f4\u591a\u5173\u4e8e\u5229\u7528C API\u6765\u6784\u9020\u6269\u5c55\u6a21\u5757\u7684\u4fe1\u606f\u53ef\u4ee5\u53c2\u8003\nPython\u7684\u6587\u6863"
      ]
    },
    {
      "cell_type": "markdown",
      "metadata": {},
      "source": [
        "## 15.6 \u4eceC\u8bed\u8a00\u4e2d\u8c03\u7528Python\u4ee3\u7801\n"
      ]
    },
    {
      "cell_type": "markdown",
      "metadata": {},
      "source": [
        "### \u95ee\u9898\n"
      ]
    },
    {
      "cell_type": "markdown",
      "metadata": {},
      "source": [
        "\u4f60\u60f3\u5728C\u4e2d\u5b89\u5168\u7684\u6267\u884c\u67d0\u4e2aPython\u8c03\u7528\u5e76\u8fd4\u56de\u7ed3\u679c\u7ed9C\u3002\n\u4f8b\u5982\uff0c\u4f60\u60f3\u5728C\u8bed\u8a00\u4e2d\u4f7f\u7528\u67d0\u4e2aPython\u51fd\u6570\u4f5c\u4e3a\u4e00\u4e2a\u56de\u8c03\u3002"
      ]
    },
    {
      "cell_type": "markdown",
      "metadata": {},
      "source": [
        "### \u89e3\u51b3\u65b9\u6848\n"
      ]
    },
    {
      "cell_type": "markdown",
      "metadata": {},
      "source": [
        "\u5728C\u8bed\u8a00\u4e2d\u8c03\u7528Python\u975e\u5e38\u7b80\u5355\uff0c\u4e0d\u8fc7\u8bbe\u8ba1\u5230\u4e00\u4e9b\u5c0f\u7a8d\u95e8\u3002\n\u4e0b\u9762\u7684C\u4ee3\u7801\u544a\u8bc9\u4f60\u600e\u6837\u5b89\u5168\u7684\u8c03\u7528\uff1a"
      ]
    },
    {
      "cell_type": "code",
      "execution_count": null,
      "metadata": {},
      "outputs": [],
      "source": [
        "#include <Python.h>\n\n/* Execute func(x,y) in the Python interpreter.  The\n   arguments and return result of the function must\n   be Python floats */\n\ndouble call_func(PyObject *func, double x, double y) {\n  PyObject *args;\n  PyObject *kwargs;\n  PyObject *result = 0;\n  double retval;\n\n  /* Make sure we own the GIL */\n  PyGILState_STATE state = PyGILState_Ensure();\n\n  /* Verify that func is a proper callable */\n  if (!PyCallable_Check(func)) {\n    fprintf(stderr,\"call_func: expected a callable\\n\");\n    goto fail;\n  }\n  /* Build arguments */\n  args = Py_BuildValue(\"(dd)\", x, y);\n  kwargs = NULL;\n\n  /* Call the function */\n  result = PyObject_Call(func, args, kwargs);\n  Py_DECREF(args);\n  Py_XDECREF(kwargs);\n\n  /* Check for Python exceptions (if any) */\n  if (PyErr_Occurred()) {\n    PyErr_Print();\n    goto fail;\n  }\n\n  /* Verify the result is a float object */\n  if (!PyFloat_Check(result)) {\n    fprintf(stderr,\"call_func: callable didn't return a float\\n\");\n    goto fail;\n  }\n\n  /* Create the return value */\n  retval = PyFloat_AsDouble(result);\n  Py_DECREF(result);\n\n  /* Restore previous GIL state and return */\n  PyGILState_Release(state);\n  return retval;\n\nfail:\n  Py_XDECREF(result);\n  PyGILState_Release(state);\n  abort();   // Change to something more appropriate\n}"
      ]
    },
    {
      "cell_type": "markdown",
      "metadata": {},
      "source": [
        "\u8981\u4f7f\u7528\u8fd9\u4e2a\u51fd\u6570\uff0c\u4f60\u9700\u8981\u83b7\u53d6\u4f20\u9012\u8fc7\u6765\u7684\u67d0\u4e2a\u5df2\u5b58\u5728Python\u8c03\u7528\u7684\u5f15\u7528\u3002\n\u6709\u5f88\u591a\u79cd\u65b9\u6cd5\u53ef\u4ee5\u8ba9\u4f60\u8fd9\u6837\u505a\uff0c\n\u6bd4\u5982\u5c06\u4e00\u4e2a\u53ef\u8c03\u7528\u5bf9\u8c61\u4f20\u7ed9\u4e00\u4e2a\u6269\u5c55\u6a21\u5757\u6216\u76f4\u63a5\u5199C\u4ee3\u7801\u4ece\u5df2\u5b58\u5728\u6a21\u5757\u4e2d\u63d0\u53d6\u51fa\u6765\u3002"
      ]
    },
    {
      "cell_type": "markdown",
      "metadata": {},
      "source": [
        "\u4e0b\u9762\u662f\u4e00\u4e2a\u7b80\u5355\u4f8b\u5b50\u7528\u6765\u63a9\u9970\u4ece\u4e00\u4e2a\u5d4c\u5165\u7684Python\u89e3\u91ca\u5668\u4e2d\u8c03\u7528\u4e00\u4e2a\u51fd\u6570\uff1a"
      ]
    },
    {
      "cell_type": "code",
      "execution_count": null,
      "metadata": {},
      "outputs": [],
      "source": [
        "#include <Python.h>\n\n/* Definition of call_func() same as above */\n...\n\n/* Load a symbol from a module */\nPyObject *import_name(const char *modname, const char *symbol) {\n  PyObject *u_name, *module;\n  u_name = PyUnicode_FromString(modname);\n  module = PyImport_Import(u_name);\n  Py_DECREF(u_name);\n  return PyObject_GetAttrString(module, symbol);\n}\n\n/* Simple embedding example */\nint main() {\n  PyObject *pow_func;\n  double x;\n\n  Py_Initialize();\n  /* Get a reference to the math.pow function */\n  pow_func = import_name(\"math\",\"pow\");\n\n  /* Call it using our call_func() code */\n  for (x = 0.0; x < 10.0; x += 0.1) {\n    printf(\"%0.2f %0.2f\\n\", x, call_func(pow_func,x,2.0));\n  }\n  /* Done */\n  Py_DECREF(pow_func);\n  Py_Finalize();\n  return 0;\n}"
      ]
    },
    {
      "cell_type": "markdown",
      "metadata": {},
      "source": [
        "\u8981\u6784\u5efa\u4f8b\u5b50\u4ee3\u7801\uff0c\u4f60\u9700\u8981\u7f16\u8bd1C\u5e76\u5c06\u5b83\u94fe\u63a5\u5230Python\u89e3\u91ca\u5668\u3002\n\u4e0b\u9762\u7684Makefile\u53ef\u4ee5\u6559\u4f60\u600e\u6837\u505a\uff08\u4e0d\u8fc7\u5728\u4f60\u673a\u5668\u4e0a\u9762\u9700\u8981\u4e00\u4e9b\u914d\u7f6e\uff09\u3002"
      ]
    },
    {
      "cell_type": "code",
      "execution_count": null,
      "metadata": {},
      "outputs": [],
      "source": [
        "all::\n        cc -g embed.c -I/usr/local/include/python3.3m \\\n          -L/usr/local/lib/python3.3/config-3.3m -lpython3.3m"
      ]
    },
    {
      "cell_type": "markdown",
      "metadata": {},
      "source": [
        "\u7f16\u8bd1\u5e76\u8fd0\u884c\u4f1a\u4ea7\u751f\u7c7b\u4f3c\u4e0b\u9762\u7684\u8f93\u51fa\uff1a"
      ]
    },
    {
      "cell_type": "code",
      "execution_count": null,
      "metadata": {},
      "outputs": [],
      "source": [
        "0.00 0.00\n0.10 0.01\n0.20 0.04\n0.30 0.09\n0.40 0.16\n..."
      ]
    },
    {
      "cell_type": "markdown",
      "metadata": {},
      "source": [
        "\u4e0b\u9762\u662f\u4e00\u4e2a\u7a0d\u5fae\u4e0d\u540c\u7684\u4f8b\u5b50\uff0c\u5c55\u793a\u4e86\u4e00\u4e2a\u6269\u5c55\u51fd\u6570\uff0c\n\u5b83\u63a5\u53d7\u4e00\u4e2a\u53ef\u8c03\u7528\u5bf9\u8c61\u548c\u5176\u4ed6\u53c2\u6570\uff0c\u5e76\u5c06\u5b83\u4eec\u4f20\u9012\u7ed9 call_func() \u6765\u505a\u6d4b\u8bd5\uff1a"
      ]
    },
    {
      "cell_type": "code",
      "execution_count": null,
      "metadata": {},
      "outputs": [],
      "source": [
        "/* Extension function for testing the C-Python callback */\nPyObject *py_call_func(PyObject *self, PyObject *args) {\n  PyObject *func;\n\n  double x, y, result;\n  if (!PyArg_ParseTuple(args,\"Odd\", &func,&x,&y)) {\n    return NULL;\n  }\n  result = call_func(func, x, y);\n  return Py_BuildValue(\"d\", result);\n}"
      ]
    },
    {
      "cell_type": "markdown",
      "metadata": {},
      "source": [
        "\u4f7f\u7528\u8fd9\u4e2a\u6269\u5c55\u51fd\u6570\uff0c\u4f60\u8981\u50cf\u4e0b\u9762\u8fd9\u6837\u6d4b\u8bd5\u5b83\uff1a"
      ]
    },
    {
      "cell_type": "code",
      "execution_count": null,
      "metadata": {},
      "outputs": [],
      "source": [
        "import sample\ndef add(x,y):\n    return x+y\nsample.call_func(add,3,4)"
      ]
    },
    {
      "cell_type": "markdown",
      "metadata": {},
      "source": [
        "### \u8ba8\u8bba\n"
      ]
    },
    {
      "cell_type": "markdown",
      "metadata": {},
      "source": [
        "\u5982\u679c\u4f60\u5728C\u8bed\u8a00\u4e2d\u8c03\u7528Python\uff0c\u8981\u8bb0\u4f4f\u6700\u91cd\u8981\u7684\u662fC\u8bed\u8a00\u4f1a\u662f\u4e3b\u4f53\u3002\n\u4e5f\u5c31\u662f\u8bf4\uff0cC\u8bed\u8a00\u8d1f\u8d23\u6784\u9020\u53c2\u6570\u3001\u8c03\u7528Python\u51fd\u6570\u3001\u68c0\u67e5\u5f02\u5e38\u3001\u68c0\u67e5\u7c7b\u578b\u3001\u63d0\u53d6\u8fd4\u56de\u503c\u7b49\u3002"
      ]
    },
    {
      "cell_type": "markdown",
      "metadata": {},
      "source": [
        "\u4f5c\u4e3a\u7b2c\u4e00\u6b65\uff0c\u4f60\u5fc5\u987b\u5148\u6709\u4e00\u4e2a\u8868\u793a\u4f60\u5c06\u8981\u8c03\u7528\u7684Python\u53ef\u8c03\u7528\u5bf9\u8c61\u3002\n\u8fd9\u53ef\u4ee5\u662f\u4e00\u4e2a\u51fd\u6570\u3001\u7c7b\u3001\u65b9\u6cd5\u3001\u5185\u7f6e\u65b9\u6cd5\u6216\u5176\u4ed6\u4efb\u610f\u5b9e\u73b0\u4e86 __call__() \u64cd\u4f5c\u7684\u4e1c\u897f\u3002\n\u4e3a\u4e86\u786e\u4fdd\u662f\u53ef\u8c03\u7528\u7684\uff0c\u53ef\u4ee5\u50cf\u4e0b\u9762\u7684\u4ee3\u7801\u8fd9\u6837\u5229\u7528 PyCallable_Check() \u505a\u68c0\u67e5\uff1a"
      ]
    },
    {
      "cell_type": "code",
      "execution_count": null,
      "metadata": {},
      "outputs": [],
      "source": [
        "double call_func(PyObject *func, double x, double y) {\n  ...\n  /* Verify that func is a proper callable */\n  if (!PyCallable_Check(func)) {\n    fprintf(stderr,\"call_func: expected a callable\\n\");\n    goto fail;\n  }\n  ..."
      ]
    },
    {
      "cell_type": "markdown",
      "metadata": {},
      "source": [
        "\u5728C\u4ee3\u7801\u91cc\u5904\u7406\u9519\u8bef\u4f60\u9700\u8981\u683c\u5916\u7684\u5c0f\u5fc3\u3002\u4e00\u822c\u6765\u8bb2\uff0c\u4f60\u4e0d\u80fd\u4ec5\u4ec5\u629b\u51fa\u4e00\u4e2aPython\u5f02\u5e38\u3002\n\u9519\u8bef\u5e94\u8be5\u4f7f\u7528C\u4ee3\u7801\u65b9\u5f0f\u6765\u88ab\u5904\u7406\u3002\u5728\u8fd9\u91cc\uff0c\u6211\u4eec\u6253\u7b97\u5c06\u5bf9\u9519\u8bef\u7684\u63a7\u5236\u4f20\u7ed9\u4e00\u4e2a\u53eb abort() \u7684\u9519\u8bef\u5904\u7406\u5668\u3002\n\u5b83\u4f1a\u7ed3\u675f\u6389\u6574\u4e2a\u7a0b\u5e8f\uff0c\u5728\u771f\u5b9e\u73af\u5883\u4e0b\u9762\u4f60\u5e94\u8be5\u8981\u5904\u7406\u7684\u66f4\u52a0\u4f18\u96c5\u4e9b\uff08\u8fd4\u56de\u4e00\u4e2a\u72b6\u6001\u7801\uff09\u3002\n\u4f60\u8981\u8bb0\u4f4f\u7684\u662f\u5728\u8fd9\u91ccC\u662f\u4e3b\u89d2\uff0c\u56e0\u6b64\u5e76\u6ca1\u6709\u8ddf\u629b\u51fa\u5f02\u5e38\u76f8\u5bf9\u5e94\u7684\u64cd\u4f5c\u3002\n\u9519\u8bef\u5904\u7406\u662f\u4f60\u5728\u7f16\u7a0b\u65f6\u5fc5\u987b\u8981\u8003\u8651\u7684\u4e8b\u60c5\u3002"
      ]
    },
    {
      "cell_type": "markdown",
      "metadata": {},
      "source": [
        "\u8c03\u7528\u4e00\u4e2a\u51fd\u6570\u76f8\u5bf9\u6765\u8bb2\u5f88\u7b80\u5355\u2014\u2014\u53ea\u9700\u8981\u4f7f\u7528 PyObject_Call() \uff0c\n\u4f20\u4e00\u4e2a\u53ef\u8c03\u7528\u5bf9\u8c61\u7ed9\u5b83\u3001\u4e00\u4e2a\u53c2\u6570\u5143\u7ec4\u548c\u4e00\u4e2a\u53ef\u9009\u7684\u5173\u952e\u5b57\u5b57\u5178\u3002\n\u8981\u6784\u5efa\u53c2\u6570\u5143\u7ec4\u6216\u5b57\u5178\uff0c\u4f60\u53ef\u4ee5\u4f7f\u7528 Py_BuildValue() ,\u5982\u4e0b\uff1a"
      ]
    },
    {
      "cell_type": "code",
      "execution_count": null,
      "metadata": {},
      "outputs": [],
      "source": [
        "double call_func(PyObject *func, double x, double y) {\n  PyObject *args;\n  PyObject *kwargs;\n\n  ...\n  /* Build arguments */\n  args = Py_BuildValue(\"(dd)\", x, y);\n  kwargs = NULL;\n\n  /* Call the function */\n  result = PyObject_Call(func, args, kwargs);\n  Py_DECREF(args);\n  Py_XDECREF(kwargs);\n  ..."
      ]
    },
    {
      "cell_type": "markdown",
      "metadata": {},
      "source": [
        "\u5982\u679c\u6ca1\u6709\u5173\u952e\u5b57\u53c2\u6570\uff0c\u4f60\u53ef\u4ee5\u4f20\u9012NULL\u3002\u5f53\u4f60\u8981\u8c03\u7528\u51fd\u6570\u65f6\uff0c\n\u9700\u8981\u786e\u4fdd\u4f7f\u7528\u4e86 Py_DECREF() \u6216\u8005 Py_XDECREF() \u6e05\u7406\u53c2\u6570\u3002\n\u7b2c\u4e8c\u4e2a\u51fd\u6570\u76f8\u5bf9\u5b89\u5168\u70b9\uff0c\u56e0\u4e3a\u5b83\u5141\u8bb8\u4f20\u9012NULL\u6307\u9488\uff08\u76f4\u63a5\u5ffd\u7565\u5b83\uff09\uff0c\n\u8fd9\u4e5f\u662f\u4e3a\u4ec0\u4e48\u6211\u4eec\u4f7f\u7528\u5b83\u6765\u6e05\u7406\u53ef\u9009\u7684\u5173\u952e\u5b57\u53c2\u6570\u3002"
      ]
    },
    {
      "cell_type": "markdown",
      "metadata": {},
      "source": [
        "\u8c03\u7528\u4e07Python\u51fd\u6570\u4e4b\u540e\uff0c\u4f60\u5fc5\u987b\u68c0\u67e5\u662f\u5426\u6709\u5f02\u5e38\u53d1\u751f\u3002\nPyErr_Occurred() \u51fd\u6570\u53ef\u88ab\u7528\u6765\u505a\u8fd9\u4ef6\u4e8b\u3002\n\u5bf9\u5bf9\u4e8e\u5f02\u5e38\u7684\u5904\u7406\u5c31\u6709\u70b9\u9ebb\u70e6\u4e86\uff0c\u7531\u4e8e\u662f\u7528C\u8bed\u8a00\u5199\u7684\uff0c\u4f60\u6ca1\u6709\u50cfPython\u90a3\u4e48\u7684\u5f02\u5e38\u673a\u5236\u3002\n\u56e0\u6b64\uff0c\u4f60\u5fc5\u987b\u8981\u8bbe\u7f6e\u4e00\u4e2a\u5f02\u5e38\u72b6\u6001\u7801\uff0c\u6253\u5370\u5f02\u5e38\u4fe1\u606f\u6216\u5176\u4ed6\u76f8\u5e94\u5904\u7406\u3002\n\u5728\u8fd9\u91cc\uff0c\u6211\u4eec\u9009\u62e9\u4e86\u7b80\u5355\u7684 abort() \u6765\u5904\u7406\u3002\u53e6\u5916\uff0c\u4f20\u7edfC\u7a0b\u5e8f\u5458\u53ef\u80fd\u4f1a\u76f4\u63a5\u8ba9\u7a0b\u5e8f\u5954\u6e83\u3002"
      ]
    },
    {
      "cell_type": "code",
      "execution_count": null,
      "metadata": {},
      "outputs": [],
      "source": [
        "...\n/* Check for Python exceptions (if any) */\nif (PyErr_Occurred()) {\n  PyErr_Print();\n  goto fail;\n}\n...\nfail:\n  PyGILState_Release(state);\n  abort();"
      ]
    },
    {
      "cell_type": "markdown",
      "metadata": {},
      "source": [
        "\u4ece\u8c03\u7528Python\u51fd\u6570\u7684\u8fd4\u56de\u503c\u4e2d\u63d0\u53d6\u4fe1\u606f\u901a\u5e38\u8981\u8fdb\u884c\u7c7b\u578b\u68c0\u67e5\u548c\u63d0\u53d6\u503c\u3002\n\u8981\u8fd9\u6837\u505a\u7684\u8bdd\uff0c\u4f60\u5fc5\u987b\u4f7f\u7528Python\u5bf9\u8c61\u5c42\u4e2d\u7684\u51fd\u6570\u3002\n\u5728\u8fd9\u91cc\u6211\u4eec\u4f7f\u7528\u4e86 PyFloat_Check() \u548c PyFloat_AsDouble() \u6765\u68c0\u67e5\u548c\u63d0\u53d6Python\u6d6e\u70b9\u6570\u3002"
      ]
    },
    {
      "cell_type": "markdown",
      "metadata": {},
      "source": [
        "\u6700\u540e\u4e00\u4e2a\u95ee\u9898\u662f\u5bf9\u4e8ePython\u5168\u5c40\u9501\u7684\u7ba1\u7406\u3002\n\u5728C\u8bed\u8a00\u4e2d\u8bbf\u95eePython\u7684\u65f6\u5019\uff0c\u4f60\u9700\u8981\u786e\u4fddGIL\u88ab\u6b63\u786e\u7684\u83b7\u53d6\u548c\u91ca\u653e\u4e86\u3002\n\u4e0d\u7136\u7684\u8bdd\uff0c\u53ef\u80fd\u4f1a\u5bfc\u81f4\u89e3\u91ca\u5668\u8fd4\u56de\u9519\u8bef\u6570\u636e\u6216\u8005\u76f4\u63a5\u5954\u6e83\u3002\n\u8c03\u7528 PyGILState_Ensure() \u548c PyGILState_Release() \u53ef\u4ee5\u786e\u4fdd\u4e00\u5207\u90fd\u80fd\u6b63\u5e38\u3002"
      ]
    },
    {
      "cell_type": "code",
      "execution_count": null,
      "metadata": {},
      "outputs": [],
      "source": [
        "double call_func(PyObject *func, double x, double y) {\n  ...\n  double retval;\n\n  /* Make sure we own the GIL */\n  PyGILState_STATE state = PyGILState_Ensure();\n  ...\n  /* Code that uses Python C API functions */\n  ...\n  /* Restore previous GIL state and return */\n  PyGILState_Release(state);\n  return retval;\n\nfail:\n  PyGILState_Release(state);\n  abort();\n}"
      ]
    },
    {
      "cell_type": "markdown",
      "metadata": {},
      "source": [
        "\u4e00\u65e6\u8fd4\u56de\uff0cPyGILState_Ensure() \u53ef\u4ee5\u786e\u4fdd\u8c03\u7528\u7ebf\u7a0b\u72ec\u5360Python\u89e3\u91ca\u5668\u3002\n\u5c31\u7b97C\u4ee3\u7801\u8fd0\u884c\u4e8e\u53e6\u5916\u4e00\u4e2a\u89e3\u91ca\u5668\u4e0d\u77e5\u9053\u7684\u7ebf\u7a0b\u4e5f\u6ca1\u4e8b\u3002\n\u8fd9\u65f6\u5019\uff0cC\u4ee3\u7801\u53ef\u4ee5\u81ea\u7531\u7684\u4f7f\u7528\u4efb\u4f55\u5b83\u60f3\u8981\u7684Python C-API \u51fd\u6570\u3002\n\u8c03\u7528\u6210\u529f\u540e\uff0cPyGILState_Release()\u88ab\u7528\u6765\u8bb2\u89e3\u91ca\u5668\u6062\u590d\u5230\u539f\u59cb\u72b6\u6001\u3002"
      ]
    },
    {
      "cell_type": "markdown",
      "metadata": {},
      "source": [
        "\u8981\u6ce8\u610f\u7684\u662f\u6bcf\u4e00\u4e2a PyGILState_Ensure()\n\u8c03\u7528\u5fc5\u987b\u8ddf\u7740\u4e00\u4e2a\u5339\u914d\u7684 PyGILState_Release() \u8c03\u7528\u2014\u2014\u5373\u4fbf\u6709\u9519\u8bef\u53d1\u751f\u3002\n\u5728\u8fd9\u91cc\uff0c\u6211\u4eec\u4f7f\u7528\u4e00\u4e2a goto \u8bed\u53e5\u770b\u4e0a\u53bb\u662f\u4e2a\u53ef\u6015\u7684\u8bbe\u8ba1\uff0c\n\u4f46\u662f\u5b9e\u9645\u4e0a\u6211\u4eec\u4f7f\u7528\u5b83\u6765\u8bb2\u63a7\u5236\u6743\u8f6c\u79fb\u7ed9\u4e00\u4e2a\u666e\u901a\u7684exit\u5757\u6765\u6267\u884c\u76f8\u5e94\u7684\u64cd\u4f5c\u3002\n\u5728 fail: \u6807\u7b7e\u540e\u9762\u7684\u4ee3\u7801\u548cPython\u7684 fianl: \u5757\u7684\u7528\u9014\u662f\u4e00\u6837\u7684\u3002"
      ]
    },
    {
      "cell_type": "markdown",
      "metadata": {},
      "source": [
        "\u5982\u679c\u4f60\u4f7f\u7528\u6240\u6709\u8fd9\u4e9b\u7ea6\u5b9a\u6765\u7f16\u5199C\u4ee3\u7801\uff0c\u5305\u62ec\u5bf9GIL\u7684\u7ba1\u7406\u3001\u5f02\u5e38\u68c0\u67e5\u548c\u9519\u8bef\u68c0\u67e5\uff0c\n\u4f60\u4f1a\u53d1\u73b0\u4eceC\u8bed\u8a00\u4e2d\u8c03\u7528Python\u89e3\u91ca\u5668\u662f\u53ef\u9760\u7684\u2014\u2014\u5c31\u7b97\u518d\u590d\u6742\u7684\u7a0b\u5e8f\uff0c\u7528\u5230\u4e86\u9ad8\u7ea7\u7f16\u7a0b\u6280\u5de7\u6bd4\u5982\u591a\u7ebf\u7a0b\u90fd\u6ca1\u95ee\u9898\u3002"
      ]
    },
    {
      "cell_type": "markdown",
      "metadata": {},
      "source": [
        "## 15.7 \u4eceC\u6269\u5c55\u4e2d\u91ca\u653e\u5168\u5c40\u9501\n"
      ]
    },
    {
      "cell_type": "markdown",
      "metadata": {},
      "source": [
        "### \u95ee\u9898\n"
      ]
    },
    {
      "cell_type": "markdown",
      "metadata": {},
      "source": [
        "\u4f60\u60f3\u8ba9C\u6269\u5c55\u4ee3\u7801\u548cPython\u89e3\u91ca\u5668\u4e2d\u7684\u5176\u4ed6\u8fdb\u7a0b\u4e00\u8d77\u6b63\u786e\u7684\u6267\u884c\uff0c\n\u90a3\u4e48\u4f60\u5c31\u9700\u8981\u53bb\u91ca\u653e\u5e76\u91cd\u65b0\u83b7\u53d6\u5168\u5c40\u89e3\u91ca\u5668\u9501\uff08GIL\uff09\u3002"
      ]
    },
    {
      "cell_type": "markdown",
      "metadata": {},
      "source": [
        "### \u89e3\u51b3\u65b9\u6848\n"
      ]
    },
    {
      "cell_type": "markdown",
      "metadata": {},
      "source": [
        "\u5728C\u6269\u5c55\u4ee3\u7801\u4e2d\uff0cGIL\u53ef\u4ee5\u901a\u8fc7\u5728\u4ee3\u7801\u4e2d\u63d2\u5165\u4e0b\u9762\u8fd9\u6837\u7684\u5b8f\u6765\u91ca\u653e\u548c\u91cd\u65b0\u83b7\u53d6\uff1a"
      ]
    },
    {
      "cell_type": "code",
      "execution_count": null,
      "metadata": {},
      "outputs": [],
      "source": [
        "#include \"Python.h\"\n...\n\nPyObject *pyfunc(PyObject *self, PyObject *args) {\n   ...\n   Py_BEGIN_ALLOW_THREADS\n   // Threaded C code.  Must not use Python API functions\n   ...\n   Py_END_ALLOW_THREADS\n   ...\n   return result;\n}"
      ]
    },
    {
      "cell_type": "markdown",
      "metadata": {},
      "source": [
        "### \u8ba8\u8bba\n"
      ]
    },
    {
      "cell_type": "markdown",
      "metadata": {},
      "source": [
        "\u53ea\u6709\u5f53\u4f60\u786e\u4fdd\u6ca1\u6709Python C API\u51fd\u6570\u5728C\u4e2d\u6267\u884c\u7684\u65f6\u5019\u4f60\u624d\u80fd\u5b89\u5168\u7684\u91ca\u653eGIL\u3002\nGIL\u9700\u8981\u88ab\u91ca\u653e\u7684\u5e38\u89c1\u7684\u573a\u666f\u662f\u5728\u8ba1\u7b97\u5bc6\u96c6\u578b\u4ee3\u7801\u4e2d\u9700\u8981\u5728C\u6570\u7ec4\u4e0a\u6267\u884c\u8ba1\u7b97\uff08\u6bd4\u5982\u5728numpy\u4e2d\uff09\n\u6216\u8005\u662f\u8981\u6267\u884c\u963b\u585e\u7684I/O\u64cd\u4f5c\u65f6\uff08\u6bd4\u5982\u5728\u4e00\u4e2a\u6587\u4ef6\u63cf\u8ff0\u7b26\u4e0a\u8bfb\u53d6\u6216\u5199\u5165\u65f6\uff09\u3002"
      ]
    },
    {
      "cell_type": "markdown",
      "metadata": {},
      "source": [
        "\u5f53GIL\u88ab\u91ca\u653e\u540e\uff0c\u5176\u4ed6Python\u7ebf\u7a0b\u624d\u88ab\u5141\u8bb8\u5728\u89e3\u91ca\u5668\u4e2d\u6267\u884c\u3002\nPy_END_ALLOW_THREADS \u5b8f\u4f1a\u963b\u585e\u6267\u884c\u76f4\u5230\u8c03\u7528\u7ebf\u7a0b\u91cd\u65b0\u83b7\u53d6\u4e86GIL\u3002"
      ]
    },
    {
      "cell_type": "markdown",
      "metadata": {},
      "source": [
        "## 15.8 C\u548cPython\u4e2d\u7684\u7ebf\u7a0b\u6df7\u7528\n"
      ]
    },
    {
      "cell_type": "markdown",
      "metadata": {},
      "source": [
        "### \u95ee\u9898\n"
      ]
    },
    {
      "cell_type": "markdown",
      "metadata": {},
      "source": [
        "\u4f60\u6709\u4e00\u4e2a\u7a0b\u5e8f\u9700\u8981\u6df7\u5408\u4f7f\u7528C\u3001Python\u548c\u7ebf\u7a0b\uff0c\n\u6709\u4e9b\u7ebf\u7a0b\u662f\u5728C\u4e2d\u521b\u5efa\u7684\uff0c\u8d85\u51fa\u4e86Python\u89e3\u91ca\u5668\u7684\u63a7\u5236\u8303\u56f4\u3002\n\u5e76\u4e14\u4e00\u4e9b\u7ebf\u7a0b\u8fd8\u4f7f\u7528\u4e86Python C API\u4e2d\u7684\u51fd\u6570\u3002"
      ]
    },
    {
      "cell_type": "markdown",
      "metadata": {},
      "source": [
        "### \u89e3\u51b3\u65b9\u6848\n"
      ]
    },
    {
      "cell_type": "markdown",
      "metadata": {},
      "source": [
        "\u5982\u679c\u4f60\u60f3\u5c06C\u3001Python\u548c\u7ebf\u7a0b\u6df7\u5408\u5728\u4e00\u8d77\uff0c\u4f60\u9700\u8981\u786e\u4fdd\u6b63\u786e\u7684\u521d\u59cb\u5316\u548c\u7ba1\u7406Python\u7684\u5168\u5c40\u89e3\u91ca\u5668\u9501\uff08GIL\uff09\u3002\n\u8981\u60f3\u8fd9\u6837\u505a\uff0c\u53ef\u4ee5\u5c06\u4e0b\u5217\u4ee3\u7801\u653e\u5230\u4f60\u7684C\u4ee3\u7801\u4e2d\u5e76\u786e\u4fdd\u5b83\u5728\u4efb\u4f55\u7ebf\u7a0b\u88ab\u521b\u5efa\u4e4b\u524d\u88ab\u8c03\u7528\u3002"
      ]
    },
    {
      "cell_type": "code",
      "execution_count": null,
      "metadata": {},
      "outputs": [],
      "source": [
        "#include <Python.h>\n  ...\n  if (!PyEval_ThreadsInitialized()) {\n    PyEval_InitThreads();\n  }\n  ..."
      ]
    },
    {
      "cell_type": "markdown",
      "metadata": {},
      "source": [
        "\u5bf9\u4e8e\u4efb\u4f55\u8c03\u7528Python\u5bf9\u8c61\u6216Python C API\u7684C\u4ee3\u7801\uff0c\u786e\u4fdd\u4f60\u9996\u5148\u5df2\u7ecf\u6b63\u786e\u5730\u83b7\u53d6\u548c\u91ca\u653e\u4e86GIL\u3002\n\u8fd9\u53ef\u4ee5\u7528 PyGILState_Ensure() \u548c PyGILState_Release() \u6765\u505a\u5230\uff0c\u5982\u4e0b\u6240\u793a\uff1a"
      ]
    },
    {
      "cell_type": "code",
      "execution_count": null,
      "metadata": {},
      "outputs": [],
      "source": [
        "...\n/* Make sure we own the GIL */\nPyGILState_STATE state = PyGILState_Ensure();\n\n/* Use functions in the interpreter */\n...\n/* Restore previous GIL state and return */\nPyGILState_Release(state);\n..."
      ]
    },
    {
      "cell_type": "markdown",
      "metadata": {},
      "source": [
        "\u6bcf\u6b21\u8c03\u7528 PyGILState_Ensure() \u90fd\u8981\u76f8\u5e94\u7684\u8c03\u7528 PyGILState_Release() ."
      ]
    },
    {
      "cell_type": "markdown",
      "metadata": {},
      "source": [
        "### \u8ba8\u8bba\n"
      ]
    },
    {
      "cell_type": "markdown",
      "metadata": {},
      "source": [
        "\u5728\u6d89\u53ca\u5230C\u548cPython\u7684\u9ad8\u7ea7\u7a0b\u5e8f\u4e2d\uff0c\u5f88\u591a\u4e8b\u60c5\u4e00\u8d77\u505a\u662f\u5f88\u5e38\u89c1\u7684\u2014\u2014\n\u53ef\u80fd\u662f\u5bf9C\u3001Python\u3001C\u7ebf\u7a0b\u3001Python\u7ebf\u7a0b\u7684\u6df7\u5408\u4f7f\u7528\u3002\n\u53ea\u8981\u4f60\u786e\u4fdd\u89e3\u91ca\u5668\u88ab\u6b63\u786e\u7684\u521d\u59cb\u5316\uff0c\u5e76\u4e14\u6d89\u53ca\u5230\u89e3\u91ca\u5668\u7684C\u4ee3\u7801\u6267\u884c\u4e86\u6b63\u786e\u7684GIL\u7ba1\u7406\uff0c\u5e94\u8be5\u6ca1\u4ec0\u4e48\u95ee\u9898\u3002"
      ]
    },
    {
      "cell_type": "markdown",
      "metadata": {},
      "source": [
        "\u8981\u6ce8\u610f\u7684\u662f\u8c03\u7528 PyGILState_Ensure() \u5e76\u4e0d\u4f1a\u7acb\u523b\u62a2\u5360\u6216\u4e2d\u65ad\u89e3\u91ca\u5668\u3002\n\u5982\u679c\u6709\u5176\u4ed6\u4ee3\u7801\u6b63\u5728\u6267\u884c\uff0c\u8fd9\u4e2a\u51fd\u6570\u88ab\u4e2d\u65ad\u77e5\u9053\u90a3\u4e2a\u6267\u884c\u4ee3\u7801\u91ca\u653e\u6389GIL\u3002\n\u5728\u5185\u90e8\uff0c\u89e3\u91ca\u5668\u4f1a\u6267\u884c\u5468\u671f\u6027\u7684\u7ebf\u7a0b\u5207\u6362\uff0c\u56e0\u6b64\u5982\u679c\u5176\u4ed6\u7ebf\u7a0b\u5728\u6267\u884c\uff0c\n\u8c03\u7528\u8005\u6700\u7ec8\u8fd8\u662f\u53ef\u4ee5\u8fd0\u884c\u7684\uff08\u5c3d\u7ba1\u53ef\u80fd\u8981\u5148\u7b49\u4e00\u4f1a\uff09\u3002"
      ]
    },
    {
      "cell_type": "markdown",
      "metadata": {},
      "source": [
        "## 15.9 \u7528SWIG\u5305\u88c5C\u4ee3\u7801\n"
      ]
    },
    {
      "cell_type": "markdown",
      "metadata": {},
      "source": [
        "### \u95ee\u9898\n"
      ]
    },
    {
      "cell_type": "markdown",
      "metadata": {},
      "source": [
        "\u4f60\u60f3\u8ba9\u4f60\u5199\u7684C\u4ee3\u7801\u4f5c\u4e3a\u4e00\u4e2aC\u6269\u5c55\u6a21\u5757\u6765\u8bbf\u95ee\uff0c\u60f3\u901a\u8fc7\u4f7f\u7528 Swig\u5305\u88c5\u751f\u6210\u5668 \u6765\u5b8c\u6210\u3002"
      ]
    },
    {
      "cell_type": "markdown",
      "metadata": {},
      "source": [
        "### \u89e3\u51b3\u65b9\u6848\n"
      ]
    },
    {
      "cell_type": "markdown",
      "metadata": {},
      "source": [
        "Swig\u901a\u8fc7\u89e3\u6790C\u5934\u6587\u4ef6\u5e76\u81ea\u52a8\u521b\u5efa\u6269\u5c55\u4ee3\u7801\u6765\u64cd\u4f5c\u3002\n\u8981\u4f7f\u7528\u5b83\uff0c\u4f60\u5148\u8981\u6709\u4e00\u4e2aC\u5934\u6587\u4ef6\u3002\u4f8b\u5982\uff0c\u6211\u4eec\u793a\u4f8b\u7684\u5934\u6587\u4ef6\u5982\u4e0b\uff1a"
      ]
    },
    {
      "cell_type": "code",
      "execution_count": null,
      "metadata": {},
      "outputs": [],
      "source": [
        "/* sample.h */\n\n#include <math.h>\nextern int gcd(int, int);\nextern int in_mandel(double x0, double y0, int n);\nextern int divide(int a, int b, int *remainder);\nextern double avg(double *a, int n);\n\ntypedef struct Point {\n    double x,y;\n} Point;\n\nextern double distance(Point *p1, Point *p2);"
      ]
    },
    {
      "cell_type": "markdown",
      "metadata": {},
      "source": [
        "\u4e00\u65e6\u4f60\u6709\u4e86\u8fd9\u4e2a\u5934\u6587\u4ef6\uff0c\u4e0b\u4e00\u6b65\u5c31\u662f\u7f16\u5199\u4e00\u4e2aSwig\u201d\u63a5\u53e3\u201d\u6587\u4ef6\u3002\n\u6309\u7167\u7ea6\u5b9a\uff0c\u8fd9\u4e9b\u6587\u4ef6\u4ee5\u201d.i\u201d\u540e\u7f00\u5e76\u4e14\u7c7b\u4f3c\u4e0b\u9762\u8fd9\u6837\uff1a"
      ]
    },
    {
      "cell_type": "code",
      "execution_count": null,
      "metadata": {},
      "outputs": [],
      "source": [
        "// sample.i - Swig interface\n%module sample\n%{\n#include \"sample.h\"\n%}\n\n/* Customizations */\n%extend Point {\n    /* Constructor for Point objects */\n    Point(double x, double y) {\n        Point *p = (Point *) malloc(sizeof(Point));\n        p->x = x;\n        p->y = y;\n        return p;\n   };\n};\n\n/* Map int *remainder as an output argument */\n%include typemaps.i\n%apply int *OUTPUT { int * remainder };\n\n/* Map the argument pattern (double *a, int n) to arrays */\n%typemap(in) (double *a, int n)(Py_buffer view) {\n  view.obj = NULL;\n  if (PyObject_GetBuffer($input, &view, PyBUF_ANY_CONTIGUOUS | PyBUF_FORMAT) == -1) {\n    SWIG_fail;\n  }\n  if (strcmp(view.format,\"d\") != 0) {\n    PyErr_SetString(PyExc_TypeError, \"Expected an array of doubles\");\n    SWIG_fail;\n  }\n  $1 = (double *) view.buf;\n  $2 = view.len / sizeof(double);\n}\n\n%typemap(freearg) (double *a, int n) {\n  if (view$argnum.obj) {\n    PyBuffer_Release(&view$argnum);\n  }\n}\n\n/* C declarations to be included in the extension module */\n\nextern int gcd(int, int);\nextern int in_mandel(double x0, double y0, int n);\nextern int divide(int a, int b, int *remainder);\nextern double avg(double *a, int n);\n\ntypedef struct Point {\n    double x,y;\n} Point;\n\nextern double distance(Point *p1, Point *p2);"
      ]
    },
    {
      "cell_type": "markdown",
      "metadata": {},
      "source": [
        "\u4e00\u65e6\u4f60\u5199\u597d\u4e86\u63a5\u53e3\u6587\u4ef6\uff0c\u5c31\u53ef\u4ee5\u5728\u547d\u4ee4\u884c\u5de5\u5177\u4e2d\u8c03\u7528Swig\u4e86\uff1a"
      ]
    },
    {
      "cell_type": "code",
      "execution_count": null,
      "metadata": {},
      "outputs": [],
      "source": [
        "bash % swig -python -py3 sample.i\nbash %"
      ]
    },
    {
      "cell_type": "markdown",
      "metadata": {},
      "source": [
        "swig\u7684\u8f93\u51fa\u5c31\u662f\u4e24\u4e2a\u6587\u4ef6\uff0csample_wrap.c\u548csample.py\u3002\n\u540e\u9762\u7684\u6587\u4ef6\u5c31\u662f\u7528\u6237\u9700\u8981\u5bfc\u5165\u7684\u3002\n\u800csample_wrap.c\u6587\u4ef6\u662f\u9700\u8981\u88ab\u7f16\u8bd1\u5230\u540d\u53eb _sample \u7684\u652f\u6301\u6a21\u5757\u7684C\u4ee3\u7801\u3002\n\u8fd9\u4e2a\u53ef\u4ee5\u901a\u8fc7\u8ddf\u666e\u901a\u6269\u5c55\u6a21\u5757\u4e00\u6837\u7684\u6280\u672f\u6765\u5b8c\u6210\u3002\n\u4f8b\u5982\uff0c\u4f60\u521b\u5efa\u4e86\u4e00\u4e2a\u5982\u4e0b\u6240\u793a\u7684 setup.py \u6587\u4ef6\uff1a"
      ]
    },
    {
      "cell_type": "code",
      "execution_count": null,
      "metadata": {},
      "outputs": [],
      "source": [
        "# setup.py\nfrom distutils.core import setup, Extension\n\nsetup(name='sample',\n      py_modules=['sample.py'],\n      ext_modules=[\n        Extension('_sample',\n                  ['sample_wrap.c'],\n                  include_dirs = [],\n                  define_macros = [],\n\n                  undef_macros = [],\n                  library_dirs = [],\n                  libraries = ['sample']\n                  )\n        ]\n)"
      ]
    },
    {
      "cell_type": "markdown",
      "metadata": {},
      "source": [
        "\u8981\u7f16\u8bd1\u548c\u6d4b\u8bd5\uff0c\u5728setup.py\u4e0a\u6267\u884cpython3\uff0c\u5982\u4e0b\uff1a"
      ]
    },
    {
      "cell_type": "code",
      "execution_count": null,
      "metadata": {},
      "outputs": [],
      "source": [
        "bash % python3 setup.py build_ext --inplace\nrunning build_ext\nbuilding '_sample' extension\ngcc -fno-strict-aliasing -DNDEBUG -g -fwrapv -O3 -Wall -Wstrict-prototypes\n-I/usr/local/include/python3.3m -c sample_wrap.c\n -o build/temp.macosx-10.6-x86_64-3.3/sample_wrap.o\nsample_wrap.c: In function \u2018SWIG_InitializeModule\u2019:\nsample_wrap.c:3589: warning: statement with no effect\ngcc -bundle -undefined dynamic_lookup build/temp.macosx-10.6-x86_64-3.3/sample.o\n build/temp.macosx-10.6-x86_64-3.3/sample_wrap.o -o _sample.so -lsample\nbash %"
      ]
    },
    {
      "cell_type": "markdown",
      "metadata": {},
      "source": [
        "\u5982\u679c\u4e00\u5207\u6b63\u5e38\u7684\u8bdd\uff0c\u4f60\u4f1a\u53d1\u73b0\u4f60\u5c31\u53ef\u4ee5\u5f88\u65b9\u4fbf\u7684\u4f7f\u7528\u751f\u6210\u7684C\u6269\u5c55\u6a21\u5757\u4e86\u3002\u4f8b\u5982\uff1a"
      ]
    },
    {
      "cell_type": "code",
      "execution_count": null,
      "metadata": {},
      "outputs": [],
      "source": [
        "import sample\nsample.gcd(42,8)"
      ]
    },
    {
      "cell_type": "code",
      "execution_count": null,
      "metadata": {},
      "outputs": [],
      "source": [
        "sample.divide(42,8)"
      ]
    },
    {
      "cell_type": "code",
      "execution_count": null,
      "metadata": {},
      "outputs": [],
      "source": [
        "p1 = sample.Point(2,3)\np2 = sample.Point(4,5)\nsample.distance(p1,p2)"
      ]
    },
    {
      "cell_type": "code",
      "execution_count": null,
      "metadata": {},
      "outputs": [],
      "source": [
        "p1.x"
      ]
    },
    {
      "cell_type": "code",
      "execution_count": null,
      "metadata": {},
      "outputs": [],
      "source": [
        "p1.y"
      ]
    },
    {
      "cell_type": "code",
      "execution_count": null,
      "metadata": {},
      "outputs": [],
      "source": [
        "import array\na = array.array('d',[1,2,3])\nsample.avg(a)"
      ]
    },
    {
      "cell_type": "markdown",
      "metadata": {},
      "source": [
        "### \u8ba8\u8bba\n"
      ]
    },
    {
      "cell_type": "markdown",
      "metadata": {},
      "source": [
        "Swig\u662fPython\u5386\u53f2\u4e2d\u6784\u5efa\u6269\u5c55\u6a21\u5757\u7684\u6700\u53e4\u8001\u7684\u5de5\u5177\u4e4b\u4e00\u3002\nSwig\u80fd\u81ea\u52a8\u5316\u5f88\u591a\u5305\u88c5\u751f\u6210\u5668\u7684\u5904\u7406\u3002"
      ]
    },
    {
      "cell_type": "markdown",
      "metadata": {},
      "source": [
        "\u6240\u6709Swig\u63a5\u53e3\u90fd\u4ee5\u7c7b\u4f3c\u4e0b\u9762\u8fd9\u6837\u7684\u4e3a\u5f00\u5934\uff1a"
      ]
    },
    {
      "cell_type": "code",
      "execution_count": null,
      "metadata": {},
      "outputs": [],
      "source": [
        "%module sample\n%{\n#include \"sample.h\"\n%}"
      ]
    },
    {
      "cell_type": "markdown",
      "metadata": {},
      "source": [
        "\u8fd9\u4e2a\u4ec5\u4ec5\u53ea\u662f\u58f0\u660e\u4e86\u6269\u5c55\u6a21\u5757\u7684\u540d\u79f0\u5e76\u6307\u5b9a\u4e86C\u5934\u6587\u4ef6\uff0c\n\u4e3a\u4e86\u80fd\u8ba9\u7f16\u8bd1\u901a\u8fc7\u5fc5\u987b\u8981\u5305\u542b\u8fd9\u4e9b\u5934\u6587\u4ef6\uff08\u4f4d\u4e8e %{ \u548c %} \u7684\u4ee3\u7801\uff09\uff0c\n\u5c06\u5b83\u4eec\u4e4b\u95f4\u590d\u5236\u7c98\u8d34\u5230\u8f93\u51fa\u4ee3\u7801\u4e2d\uff0c\u8fd9\u4e5f\u662f\u4f60\u8981\u653e\u7f6e\u6240\u6709\u5305\u542b\u6587\u4ef6\u548c\u5176\u4ed6\u7f16\u8bd1\u9700\u8981\u7684\u5b9a\u4e49\u7684\u5730\u65b9\u3002"
      ]
    },
    {
      "cell_type": "markdown",
      "metadata": {},
      "source": [
        "Swig\u63a5\u53e3\u7684\u5e95\u4e0b\u90e8\u5206\u662f\u4e00\u4e2aC\u58f0\u660e\u5217\u8868\uff0c\u4f60\u9700\u8981\u5728\u6269\u5c55\u4e2d\u5305\u542b\u5b83\u3002\n\u8fd9\u901a\u5e38\u4ece\u5934\u6587\u4ef6\u4e2d\u88ab\u590d\u5236\u3002\u5728\u6211\u4eec\u7684\u4f8b\u5b50\u4e2d\uff0c\u6211\u4eec\u4ec5\u4ec5\u50cf\u4e0b\u9762\u8fd9\u6837\u76f4\u63a5\u7c98\u8d34\u5728\u5934\u6587\u4ef6\u4e2d\uff1a"
      ]
    },
    {
      "cell_type": "code",
      "execution_count": null,
      "metadata": {},
      "outputs": [],
      "source": [
        "%module sample\n%{\n#include \"sample.h\"\n%}\n...\nextern int gcd(int, int);\nextern int in_mandel(double x0, double y0, int n);\nextern int divide(int a, int b, int *remainder);\nextern double avg(double *a, int n);\n\ntypedef struct Point {\n    double x,y;\n} Point;\n\nextern double distance(Point *p1, Point *p2);"
      ]
    },
    {
      "cell_type": "markdown",
      "metadata": {},
      "source": [
        "\u6709\u4e00\u70b9\u9700\u8981\u5f3a\u8c03\u7684\u662f\u8fd9\u4e9b\u58f0\u660e\u4f1a\u544a\u8bc9Swig\u4f60\u60f3\u8981\u5728Python\u6a21\u5757\u4e2d\u5305\u542b\u54ea\u4e9b\u4e1c\u897f\u3002\n\u901a\u5e38\u4f60\u9700\u8981\u7f16\u8f91\u8fd9\u4e2a\u58f0\u660e\u5217\u8868\u6216\u76f8\u5e94\u7684\u4fee\u6539\u4e0b\u5b83\u3002\n\u4f8b\u5982\uff0c\u5982\u679c\u4f60\u4e0d\u60f3\u67d0\u4e9b\u58f0\u660e\u88ab\u5305\u542b\u8fdb\u6765\uff0c\u4f60\u8981\u5c06\u5b83\u4ece\u58f0\u660e\u5217\u8868\u4e2d\u79fb\u9664\u6389\u3002"
      ]
    },
    {
      "cell_type": "markdown",
      "metadata": {},
      "source": [
        "\u4f7f\u7528Swig\u6700\u590d\u6742\u7684\u5730\u65b9\u662f\u5b83\u80fd\u7ed9C\u4ee3\u7801\u63d0\u4f9b\u5927\u91cf\u7684\u81ea\u5b9a\u4e49\u64cd\u4f5c\u3002\n\u8fd9\u4e2a\u4e3b\u9898\u592a\u5927\uff0c\u8fd9\u91cc\u65e0\u6cd5\u5c55\u5f00\uff0c\u4f46\u662f\u6211\u4eec\u5728\u672c\u8282\u8fd8\u5269\u5c55\u793a\u4e86\u4e00\u4e9b\u81ea\u5b9a\u4e49\u7684\u4e1c\u897f\u3002"
      ]
    },
    {
      "cell_type": "markdown",
      "metadata": {},
      "source": [
        "\u7b2c\u4e00\u4e2a\u81ea\u5b9a\u4e49\u662f %extend \u6307\u4ee4\u5141\u8bb8\u65b9\u6cd5\u88ab\u9644\u52a0\u5230\u5df2\u5b58\u5728\u7684\u7ed3\u6784\u4f53\u548c\u7c7b\u5b9a\u4e49\u4e0a\u3002\n\u6211\u4f8b\u5b50\u4e2d\uff0c\u8fd9\u4e2a\u88ab\u7528\u6765\u6dfb\u52a0\u4e00\u4e2aPoint\u7ed3\u6784\u4f53\u7684\u6784\u9020\u5668\u65b9\u6cd5\u3002\n\u5b83\u53ef\u4ee5\u8ba9\u4f60\u50cf\u4e0b\u9762\u8fd9\u6837\u4f7f\u7528\u8fd9\u4e2a\u7ed3\u6784\u4f53\uff1a"
      ]
    },
    {
      "cell_type": "code",
      "execution_count": null,
      "metadata": {},
      "outputs": [],
      "source": [
        "p1 = sample.Point(2,3)"
      ]
    },
    {
      "cell_type": "markdown",
      "metadata": {},
      "source": [
        "\u5982\u679c\u7565\u8fc7\u7684\u8bdd\uff0cPoint\u5bf9\u8c61\u5c31\u5fc5\u987b\u4ee5\u66f4\u52a0\u590d\u6742\u7684\u65b9\u5f0f\u6765\u88ab\u521b\u5efa\uff1a"
      ]
    },
    {
      "cell_type": "code",
      "execution_count": null,
      "metadata": {},
      "outputs": [],
      "source": [
        "# Usage if %extend Point is omitted\np1 = sample.Point()\np1.x = 2.0\np1.y = 3"
      ]
    },
    {
      "cell_type": "markdown",
      "metadata": {},
      "source": [
        "\u7b2c\u4e8c\u4e2a\u81ea\u5b9a\u4e49\u6d89\u53ca\u5230\u5bf9 typemaps.i \u5e93\u7684\u5f15\u5165\u548c %apply \u6307\u4ee4\uff0c\n\u5b83\u4f1a\u6307\u793aSwig\u53c2\u6570\u7b7e\u540d int *remainder \u8981\u88ab\u5f53\u505a\u662f\u8f93\u51fa\u503c\u3002\n\u8fd9\u4e2a\u5b9e\u9645\u4e0a\u662f\u4e00\u4e2a\u6a21\u5f0f\u5339\u914d\u89c4\u5219\u3002\n\u5728\u63a5\u4e0b\u6765\u7684\u6240\u6709\u58f0\u660e\u4e2d\uff0c\u4efb\u4f55\u65f6\u5019\u53ea\u8981\u78b0\u4e0a int\u00a0 *remainder \uff0c\u4ed6\u5c31\u4f1a\u88ab\u4f5c\u4e3a\u8f93\u51fa\u3002\n\u8fd9\u4e2a\u81ea\u5b9a\u4e49\u65b9\u6cd5\u53ef\u4ee5\u8ba9 divide() \u51fd\u6570\u8fd4\u56de\u4e24\u4e2a\u503c\u3002"
      ]
    },
    {
      "cell_type": "code",
      "execution_count": null,
      "metadata": {},
      "outputs": [],
      "source": [
        "sample.divide(42,8)"
      ]
    },
    {
      "cell_type": "markdown",
      "metadata": {},
      "source": [
        "\u6700\u540e\u4e00\u4e2a\u6d89\u53ca\u5230 %typemap \u6307\u4ee4\u7684\u81ea\u5b9a\u4e49\u53ef\u80fd\u662f\u8fd9\u91cc\u5c55\u793a\u7684\u6700\u9ad8\u7ea7\u7684\u7279\u6027\u4e86\u3002\n\u4e00\u4e2atypemap\u5c31\u662f\u4e00\u4e2a\u5728\u8f93\u5165\u4e2d\u7279\u5b9a\u53c2\u6570\u6a21\u5f0f\u7684\u89c4\u5219\u3002\n\u5728\u672c\u8282\u4e2d\uff0c\u4e00\u4e2atypemap\u88ab\u5b9a\u4e49\u4e3a\u5339\u914d\u53c2\u6570\u6a21\u5f0f (double *a, int n) .\n\u5728typemap\u5185\u90e8\u662f\u4e00\u4e2aC\u4ee3\u7801\u7247\u6bb5\uff0c\u5b83\u544a\u8bc9Swig\u600e\u6837\u5c06\u4e00\u4e2aPython\u5bf9\u8c61\u8f6c\u6362\u4e3a\u76f8\u5e94\u7684C\u53c2\u6570\u3002\n\u672c\u8282\u4ee3\u7801\u4f7f\u7528\u4e86Python\u7684\u7f13\u5b58\u534f\u8bae\u53bb\u5339\u914d\u4efb\u4f55\u770b\u4e0a\u53bb\u7c7b\u4f3c\u53cc\u7cbe\u5ea6\u6570\u7ec4\u7684\u8f93\u5165\u53c2\u6570\n\uff08\u6bd4\u5982NumPy\u6570\u7ec4\u3001array\u6a21\u5757\u521b\u5efa\u7684\u6570\u7ec4\u7b49\uff09\uff0c\u66f4\u591a\u8bf7\u53c2\u800315.3\u5c0f\u8282\u3002"
      ]
    },
    {
      "cell_type": "markdown",
      "metadata": {},
      "source": [
        "\u5728typemap\u4ee3\u7801\u5185\u90e8\uff0c$1\u548c$2\u8fd9\u6837\u7684\u53d8\u91cf\u66ff\u6362\u4f1a\u83b7\u53d6typemap\u6a21\u5f0f\u7684C\u53c2\u6570\u503c\n\uff08\u6bd4\u5982$1\u6620\u5c04\u4e3a double *a \uff09\u3002$input\u6307\u5411\u4e00\u4e2a\u4f5c\u4e3a\u8f93\u5165\u7684 PyObject * \u53c2\u6570\uff0c\n\u800c $argnum \u5c31\u4ee3\u8868\u53c2\u6570\u7684\u4e2a\u6570\u3002"
      ]
    },
    {
      "cell_type": "markdown",
      "metadata": {},
      "source": [
        "\u7f16\u5199\u548c\u7406\u89e3typemaps\u662f\u4f7f\u7528Swig\u6700\u57fa\u672c\u7684\u524d\u63d0\u3002\n\u4e0d\u4ec5\u662f\u8bf4\u4ee3\u7801\u66f4\u795e\u79d8\uff0c\u800c\u4e14\u4f60\u9700\u8981\u7406\u89e3Python C API\u548cSwig\u548c\u5b83\u4ea4\u4e92\u7684\u65b9\u5f0f\u3002\nSwig\u6587\u6863\u6709\u66f4\u591a\u8fd9\u65b9\u9762\u7684\u7ec6\u8282\uff0c\u53ef\u4ee5\u53c2\u8003\u4e0b\u3002"
      ]
    },
    {
      "cell_type": "markdown",
      "metadata": {},
      "source": [
        "\u4e0d\u8fc7\uff0c\u5982\u679c\u4f60\u6709\u5927\u91cf\u7684C\u4ee3\u7801\u9700\u8981\u88ab\u66b4\u9732\u4e3a\u6269\u5c55\u6a21\u5757\u3002\nSwig\u662f\u4e00\u4e2a\u975e\u5e38\u5f3a\u5927\u7684\u5de5\u5177\u3002\u5173\u952e\u70b9\u5728\u4e8eSwig\u662f\u4e00\u4e2a\u5904\u7406C\u58f0\u660e\u7684\u7f16\u8bd1\u5668\uff0c\n\u901a\u8fc7\u5f3a\u5927\u7684\u6a21\u5f0f\u5339\u914d\u548c\u81ea\u5b9a\u4e49\u7ec4\u4ef6\uff0c\u53ef\u4ee5\u8ba9\u4f60\u66f4\u6539\u58f0\u660e\u6307\u5b9a\u548c\u7c7b\u578b\u5904\u7406\u65b9\u5f0f\u3002\n\u66f4\u591a\u4fe1\u606f\u8bf7\u53bb\u67e5\u9605 Swig\u7f51\u7ad9 \uff0c\n\u8fd8\u6709 \u7279\u5b9a\u4e8ePython\u7684\u76f8\u5173\u6587\u6863"
      ]
    },
    {
      "cell_type": "markdown",
      "metadata": {},
      "source": [
        "## 15.10 \u7528Cython\u5305\u88c5C\u4ee3\u7801\n"
      ]
    },
    {
      "cell_type": "markdown",
      "metadata": {},
      "source": [
        "### \u95ee\u9898\n"
      ]
    },
    {
      "cell_type": "markdown",
      "metadata": {},
      "source": [
        "\u4f60\u60f3\u4f7f\u7528Cython\u6765\u521b\u5efa\u4e00\u4e2aPython\u6269\u5c55\u6a21\u5757\uff0c\u7528\u6765\u5305\u88c5\u67d0\u4e2a\u5df2\u5b58\u5728\u7684C\u51fd\u6570\u5e93\u3002"
      ]
    },
    {
      "cell_type": "markdown",
      "metadata": {},
      "source": [
        "### \u89e3\u51b3\u65b9\u6848\n"
      ]
    },
    {
      "cell_type": "markdown",
      "metadata": {},
      "source": [
        "\u4f7f\u7528Cython\u6784\u5efa\u4e00\u4e2a\u6269\u5c55\u6a21\u5757\u770b\u4e0a\u53bb\u5f88\u624b\u5199\u6269\u5c55\u6709\u4e9b\u7c7b\u4f3c\uff0c\n\u56e0\u4e3a\u4f60\u9700\u8981\u521b\u5efa\u5f88\u591a\u5305\u88c5\u51fd\u6570\u3002\u4e0d\u8fc7\uff0c\u8ddf\u524d\u9762\u4e0d\u540c\u7684\u662f\uff0c\u4f60\u4e0d\u9700\u8981\u5728C\u8bed\u8a00\u4e2d\u505a\u8fd9\u4e9b\u2014\u2014\u4ee3\u7801\u770b\u4e0a\u53bb\u66f4\u50cf\u662fPython\u3002"
      ]
    },
    {
      "cell_type": "markdown",
      "metadata": {},
      "source": [
        "\u4f5c\u4e3a\u51c6\u5907\uff0c\u5047\u8bbe\u672c\u7ae0\u4ecb\u7ecd\u90e8\u5206\u7684\u793a\u4f8b\u4ee3\u7801\u5df2\u7ecf\u88ab\u7f16\u8bd1\u5230\u67d0\u4e2a\u53eb libsample \u7684C\u51fd\u6570\u5e93\u4e2d\u4e86\u3002\n\u9996\u5148\u521b\u5efa\u4e00\u4e2a\u540d\u53eb csample.pxd \u7684\u6587\u4ef6\uff0c\u5982\u4e0b\u6240\u793a\uff1a"
      ]
    },
    {
      "cell_type": "code",
      "execution_count": null,
      "metadata": {},
      "outputs": [],
      "source": [
        "# csample.pxd\n#\n# Declarations of \"external\" C functions and structures\n\ncdef extern from \"sample.h\":\n    int gcd(int, int)\n    bint in_mandel(double, double, int)\n    int divide(int, int, int *)\n    double avg(double *, int) nogil\n\n    ctypedef struct Point:\n         double x\n         double y\n\n    double distance(Point *, Point *)"
      ]
    },
    {
      "cell_type": "markdown",
      "metadata": {},
      "source": [
        "\u8fd9\u4e2a\u6587\u4ef6\u5728Cython\u4e2d\u7684\u4f5c\u7528\u5c31\u8ddfC\u7684\u5934\u6587\u4ef6\u4e00\u6837\u3002\n\u521d\u59cb\u58f0\u660e cdef\u00a0 extern\u00a0 from\u00a0 \"sample.h\" \u6307\u5b9a\u4e86\u6240\u5b66\u7684C\u5934\u6587\u4ef6\u3002\n\u63a5\u4e0b\u6765\u7684\u58f0\u660e\u90fd\u662f\u6765\u81ea\u4e8e\u90a3\u4e2a\u5934\u6587\u4ef6\u3002\u6587\u4ef6\u540d\u662f csample.pxd \uff0c\u800c\u4e0d\u662f sample.pxd \u2014\u2014\u8fd9\u70b9\u5f88\u91cd\u8981\u3002"
      ]
    },
    {
      "cell_type": "markdown",
      "metadata": {},
      "source": [
        "\u4e0b\u4e00\u6b65\uff0c\u521b\u5efa\u4e00\u4e2a\u540d\u4e3a sample.pyx \u7684\u95ee\u9898\u3002\n\u8be5\u6587\u4ef6\u4f1a\u5b9a\u4e49\u5305\u88c5\u5668\uff0c\u7528\u6765\u6865\u63a5Python\u89e3\u91ca\u5668\u5230 csample.pxd \u4e2d\u58f0\u660e\u7684C\u4ee3\u7801\u3002"
      ]
    },
    {
      "cell_type": "code",
      "execution_count": null,
      "metadata": {},
      "outputs": [],
      "source": [
        "# sample.pyx\n\n# Import the low-level C declarations\ncimport csample\n\n# Import some functionality from Python and the C stdlib\nfrom cpython.pycapsule cimport *\n\nfrom libc.stdlib cimport malloc, free\n\n# Wrappers\ndef gcd(unsigned int x, unsigned int y):\n    return csample.gcd(x, y)\n\ndef in_mandel(x, y, unsigned int n):\n    return csample.in_mandel(x, y, n)\n\ndef divide(x, y):\n    cdef int rem\n    quot = csample.divide(x, y, &rem)\n    return quot, rem\n\ndef avg(double[:] a):\n    cdef:\n        int sz\n        double result\n\n    sz = a.size\n    with nogil:\n        result = csample.avg(<double *> &a[0], sz)\n    return result\n\n# Destructor for cleaning up Point objects\ncdef del_Point(object obj):\n    pt = <csample.Point *> PyCapsule_GetPointer(obj,\"Point\")\n    free(<void *> pt)\n\n# Create a Point object and return as a capsule\ndef Point(double x,double y):\n    cdef csample.Point *p\n    p = <csample.Point *> malloc(sizeof(csample.Point))\n    if p == NULL:\n        raise MemoryError(\"No memory to make a Point\")\n    p.x = x\n    p.y = y\n    return PyCapsule_New(<void *>p,\"Point\",<PyCapsule_Destructor>del_Point)\n\ndef distance(p1, p2):\n    pt1 = <csample.Point *> PyCapsule_GetPointer(p1,\"Point\")\n    pt2 = <csample.Point *> PyCapsule_GetPointer(p2,\"Point\")\n    return csample.distance(pt1,pt2)"
      ]
    },
    {
      "cell_type": "markdown",
      "metadata": {},
      "source": [
        "\u8be5\u6587\u4ef6\u66f4\u591a\u7684\u7ec6\u8282\u90e8\u5206\u4f1a\u5728\u8ba8\u8bba\u90e8\u5206\u8be6\u7ec6\u5c55\u5f00\u3002\n\u6700\u540e\uff0c\u4e3a\u4e86\u6784\u5efa\u6269\u5c55\u6a21\u5757\uff0c\u50cf\u4e0b\u9762\u8fd9\u6837\u521b\u5efa\u4e00\u4e2a setup.py \u6587\u4ef6\uff1a"
      ]
    },
    {
      "cell_type": "code",
      "execution_count": null,
      "metadata": {},
      "outputs": [],
      "source": [
        "from distutils.core import setup\nfrom distutils.extension import Extension\nfrom Cython.Distutils import build_ext\n\next_modules = [\n    Extension('sample',\n\n              ['sample.pyx'],\n              libraries=['sample'],\n              library_dirs=['.'])]\nsetup(\n  name = 'Sample extension module',\n  cmdclass = {'build_ext': build_ext},\n  ext_modules = ext_modules\n)"
      ]
    },
    {
      "cell_type": "markdown",
      "metadata": {},
      "source": [
        "\u8981\u6784\u5efa\u6211\u4eec\u6d4b\u8bd5\u7684\u76ee\u6807\u6a21\u5757\uff0c\u50cf\u4e0b\u9762\u8fd9\u6837\u505a\uff1a"
      ]
    },
    {
      "cell_type": "code",
      "execution_count": null,
      "metadata": {},
      "outputs": [],
      "source": [
        "bash % python3 setup.py build_ext --inplace\nrunning build_ext\ncythoning sample.pyx to sample.c\nbuilding 'sample' extension\ngcc -fno-strict-aliasing -DNDEBUG -g -fwrapv -O3 -Wall -Wstrict-prototypes\n -I/usr/local/include/python3.3m -c sample.c\n -o build/temp.macosx-10.6-x86_64-3.3/sample.o\ngcc -bundle -undefined dynamic_lookup build/temp.macosx-10.6-x86_64-3.3/sample.o\n  -L. -lsample -o sample.so\nbash %"
      ]
    },
    {
      "cell_type": "markdown",
      "metadata": {},
      "source": [
        "\u5982\u679c\u4e00\u5207\u987a\u5229\u7684\u8bdd\uff0c\u4f60\u5e94\u8be5\u6709\u4e86\u4e00\u4e2a\u6269\u5c55\u6a21\u5757 sample.so \uff0c\u53ef\u5728\u4e0b\u9762\u4f8b\u5b50\u4e2d\u4f7f\u7528\uff1a"
      ]
    },
    {
      "cell_type": "code",
      "execution_count": null,
      "metadata": {},
      "outputs": [],
      "source": [
        "import sample\nsample.gcd(42,10)"
      ]
    },
    {
      "cell_type": "code",
      "execution_count": null,
      "metadata": {},
      "outputs": [],
      "source": [
        "sample.in_mandel(1,1,400)"
      ]
    },
    {
      "cell_type": "code",
      "execution_count": null,
      "metadata": {},
      "outputs": [],
      "source": [
        "sample.in_mandel(0,0,400)"
      ]
    },
    {
      "cell_type": "code",
      "execution_count": null,
      "metadata": {},
      "outputs": [],
      "source": [
        "sample.divide(42,10)"
      ]
    },
    {
      "cell_type": "code",
      "execution_count": null,
      "metadata": {},
      "outputs": [],
      "source": [
        "import array\na = array.array('d',[1,2,3])\nsample.avg(a)"
      ]
    },
    {
      "cell_type": "code",
      "execution_count": null,
      "metadata": {},
      "outputs": [],
      "source": [
        "p1 = sample.Point(2,3)\np2 = sample.Point(4,5)\np1"
      ]
    },
    {
      "cell_type": "code",
      "execution_count": null,
      "metadata": {},
      "outputs": [],
      "source": [
        "p2"
      ]
    },
    {
      "cell_type": "code",
      "execution_count": null,
      "metadata": {},
      "outputs": [],
      "source": [
        "sample.distance(p1,p2)"
      ]
    },
    {
      "cell_type": "markdown",
      "metadata": {},
      "source": [
        "### \u8ba8\u8bba\n"
      ]
    },
    {
      "cell_type": "markdown",
      "metadata": {},
      "source": [
        "\u672c\u8282\u5305\u542b\u4e86\u5f88\u591a\u524d\u9762\u6240\u8bb2\u7684\u9ad8\u7ea7\u7279\u6027\uff0c\u5305\u62ec\u6570\u7ec4\u64cd\u4f5c\u3001\u5305\u88c5\u9690\u5f62\u6307\u9488\u548c\u91ca\u653eGIL\u3002\n\u6bcf\u4e00\u90e8\u5206\u90fd\u4f1a\u9010\u4e2a\u88ab\u8bb2\u8ff0\u5230\uff0c\u4f46\u662f\u6211\u4eec\u6700\u597d\u80fd\u590d\u4e60\u4e00\u4e0b\u524d\u9762\u51e0\u5c0f\u8282\u3002\n\u5728\u9876\u5c42\uff0c\u4f7f\u7528Cython\u662f\u57fa\u4e8eC\u4e4b\u4e0a\u3002.pxd\u6587\u4ef6\u4ec5\u4ec5\u53ea\u5305\u542bC\u5b9a\u4e49\uff08\u7c7b\u4f3c.h\u6587\u4ef6\uff09\uff0c\n.pyx\u6587\u4ef6\u5305\u542b\u4e86\u5b9e\u73b0\uff08\u7c7b\u4f3c.c\u6587\u4ef6\uff09\u3002cimport \u8bed\u53e5\u88abCython\u7528\u6765\u5bfc\u5165.pxd\u6587\u4ef6\u4e2d\u7684\u5b9a\u4e49\u3002\n\u5b83\u8ddf\u4f7f\u7528\u666e\u901a\u7684\u52a0\u8f7dPython\u6a21\u5757\u7684\u5bfc\u5165\u8bed\u53e5\u662f\u4e0d\u540c\u7684\u3002"
      ]
    },
    {
      "cell_type": "markdown",
      "metadata": {},
      "source": [
        "\u5c3d\u7ba1 .pxd \u6587\u4ef6\u5305\u542b\u4e86\u5b9a\u4e49\uff0c\u4f46\u5b83\u4eec\u5e76\u4e0d\u662f\u7528\u6765\u81ea\u52a8\u521b\u5efa\u6269\u5c55\u4ee3\u7801\u7684\u3002\n\u56e0\u6b64\uff0c\u4f60\u8fd8\u662f\u8981\u5199\u5305\u88c5\u51fd\u6570\u3002\u4f8b\u5982\uff0c\u5c31\u7b97 csample.pxd \u6587\u4ef6\u58f0\u660e\u4e86 int gcd(int, int) \u51fd\u6570\uff0c\n\u4f60\u4ecd\u7136\u9700\u8981\u5728 sample.pyx \u4e2d\u4e3a\u5b83\u5199\u4e00\u4e2a\u5305\u88c5\u51fd\u6570\u3002\u4f8b\u5982\uff1a"
      ]
    },
    {
      "cell_type": "code",
      "execution_count": null,
      "metadata": {},
      "outputs": [],
      "source": [
        "cimport csample\n\ndef gcd(unsigned int x, unsigned int y):\n    return csample.gcd(x,y)"
      ]
    },
    {
      "cell_type": "markdown",
      "metadata": {},
      "source": [
        "\u5bf9\u4e8e\u7b80\u5355\u7684\u51fd\u6570\uff0c\u4f60\u5e76\u4e0d\u9700\u8981\u53bb\u505a\u592a\u591a\u7684\u65f6\u3002\nCython\u4f1a\u751f\u6210\u5305\u88c5\u4ee3\u7801\u6765\u6b63\u786e\u7684\u8f6c\u6362\u53c2\u6570\u548c\u8fd4\u56de\u503c\u3002\n\u7ed1\u5b9a\u5230\u5c5e\u6027\u4e0a\u7684C\u6570\u636e\u7c7b\u578b\u662f\u53ef\u9009\u7684\u3002\u4e0d\u8fc7\uff0c\u5982\u679c\u4f60\u5305\u542b\u4e86\u5b83\u4eec\uff0c\u4f60\u53ef\u4ee5\u53e6\u5916\u505a\u4e00\u4e9b\u9519\u8bef\u68c0\u67e5\u3002\n\u4f8b\u5982\uff0c\u5982\u679c\u6709\u4eba\u4f7f\u7528\u8d1f\u6570\u6765\u8c03\u7528\u8fd9\u4e2a\u51fd\u6570\uff0c\u4f1a\u629b\u51fa\u4e00\u4e2a\u5f02\u5e38\uff1a"
      ]
    },
    {
      "cell_type": "code",
      "execution_count": null,
      "metadata": {},
      "outputs": [],
      "source": [
        "sample.gcd(-10,2)"
      ]
    },
    {
      "cell_type": "markdown",
      "metadata": {},
      "source": [
        "\u5982\u679c\u4f60\u60f3\u5bf9\u5305\u88c5\u51fd\u6570\u505a\u53e6\u5916\u7684\u68c0\u67e5\uff0c\u53ea\u9700\u8981\u4f7f\u7528\u53e6\u5916\u7684\u5305\u88c5\u4ee3\u7801\u3002\u4f8b\u5982\uff1a"
      ]
    },
    {
      "cell_type": "code",
      "execution_count": null,
      "metadata": {},
      "outputs": [],
      "source": [
        "def gcd(unsigned int x, unsigned int y):\n    if x <= 0:\n        raise ValueError(\"x must be > 0\")\n    if y <= 0:\n        raise ValueError(\"y must be > 0\")\n    return csample.gcd(x,y)"
      ]
    },
    {
      "cell_type": "markdown",
      "metadata": {},
      "source": [
        "\u5728csample.pxd\u6587\u4ef6\u4e2d\u7684``in_mandel()`` \u58f0\u660e\u6709\u4e2a\u5f88\u6709\u8da3\u4f46\u662f\u6bd4\u8f83\u96be\u7406\u89e3\u7684\u5b9a\u4e49\u3002\n\u5728\u8fd9\u4e2a\u6587\u4ef6\u4e2d\uff0c\u51fd\u6570\u88ab\u58f0\u660e\u4e3a\u7136\u540e\u4e00\u4e2abint\u800c\u4e0d\u662f\u4e00\u4e2aint\u3002\n\u5b83\u4f1a\u8ba9\u51fd\u6570\u521b\u5efa\u4e00\u4e2a\u6b63\u786e\u7684Boolean\u503c\u800c\u4e0d\u662f\u7b80\u5355\u7684\u6574\u6570\u3002\n\u56e0\u6b64\uff0c\u8fd4\u56de\u503c0\u8868\u793aFalse\u800c1\u8868\u793aTrue\u3002"
      ]
    },
    {
      "cell_type": "markdown",
      "metadata": {},
      "source": [
        "\u5728Cython\u5305\u88c5\u5668\u4e2d\uff0c\u4f60\u53ef\u4ee5\u9009\u62e9\u58f0\u660eC\u6570\u636e\u7c7b\u578b\uff0c\u4e5f\u53ef\u4ee5\u4f7f\u7528\u6240\u6709\u7684\u5e38\u89c1Python\u5bf9\u8c61\u3002\n\u5bf9\u4e8e divide() \u7684\u5305\u88c5\u5668\u5c55\u793a\u4e86\u8fd9\u6837\u4e00\u4e2a\u4f8b\u5b50\uff0c\u540c\u65f6\u8fd8\u6709\u5982\u4f55\u53bb\u5904\u7406\u4e00\u4e2a\u6307\u9488\u53c2\u6570\u3002"
      ]
    },
    {
      "cell_type": "code",
      "execution_count": null,
      "metadata": {},
      "outputs": [],
      "source": [
        "def divide(x,y):\n    cdef int rem\n    quot = csample.divide(x,y,&rem)\n    return quot, rem"
      ]
    },
    {
      "cell_type": "markdown",
      "metadata": {},
      "source": [
        "\u5728\u8fd9\u91cc\uff0crem \u53d8\u91cf\u88ab\u663e\u793a\u7684\u58f0\u660e\u4e3a\u4e00\u4e2aC\u6574\u578b\u53d8\u91cf\u3002\n\u5f53\u5b83\u88ab\u4f20\u5165 divide() \u51fd\u6570\u7684\u65f6\u5019\uff0c&rem \u521b\u5efa\u4e00\u4e2a\u8ddfC\u4e00\u6837\u7684\u6307\u5411\u5b83\u7684\u6307\u9488\u3002\navg() \u51fd\u6570\u7684\u4ee3\u7801\u6f14\u793a\u4e86Cython\u66f4\u9ad8\u7ea7\u7684\u7279\u6027\u3002\n\u9996\u5148 def avg(double[:] a) \u58f0\u660e\u4e86 avg() \u63a5\u53d7\u4e00\u4e2a\u4e00\u7ef4\u7684\u53cc\u7cbe\u5ea6\u5185\u5b58\u89c6\u56fe\u3002\n\u6700\u60ca\u5947\u7684\u90e8\u5206\u662f\u8fd4\u56de\u7684\u7ed3\u679c\u51fd\u6570\u53ef\u4ee5\u63a5\u53d7\u4efb\u4f55\u517c\u5bb9\u7684\u6570\u7ec4\u5bf9\u8c61\uff0c\u5305\u62ec\u88abnumpy\u521b\u5efa\u7684\u3002\u4f8b\u5982\uff1a"
      ]
    },
    {
      "cell_type": "code",
      "execution_count": null,
      "metadata": {},
      "outputs": [],
      "source": [
        "import array\na = array.array('d',[1,2,3])\nimport numpy\nb = numpy.array([1., 2., 3.])\nimport sample\nsample.avg(a)"
      ]
    },
    {
      "cell_type": "code",
      "execution_count": null,
      "metadata": {},
      "outputs": [],
      "source": [
        "sample.avg(b)"
      ]
    },
    {
      "cell_type": "markdown",
      "metadata": {},
      "source": [
        "\u5728\u6b64\u5305\u88c5\u5668\u4e2d\uff0ca.size0 \u548c &a[0] \u5206\u522b\u5f15\u7528\u6570\u7ec4\u5143\u7d20\u4e2a\u6570\u548c\u5e95\u5c42\u6307\u9488\u3002\n\u8bed\u6cd5 <double *> &a[0] \u6559\u4f60\u600e\u6837\u5c06\u6307\u9488\u8f6c\u6362\u4e3a\u4e0d\u540c\u7684\u7c7b\u578b\u3002\n\u524d\u63d0\u662fC\u4e2d\u7684 avg() \u63a5\u53d7\u4e00\u4e2a\u6b63\u786e\u7c7b\u578b\u7684\u6307\u9488\u3002\n\u53c2\u8003\u4e0b\u4e00\u8282\u5173\u4e8eCython\u5185\u5b58\u89c6\u56fe\u7684\u66f4\u9ad8\u7ea7\u8bb2\u8ff0\u3002"
      ]
    },
    {
      "cell_type": "markdown",
      "metadata": {},
      "source": [
        "\u9664\u4e86\u5904\u7406\u901a\u5e38\u7684\u6570\u7ec4\u5916\uff0cavg() \u7684\u8fd9\u4e2a\u4f8b\u5b50\u8fd8\u5c55\u793a\u4e86\u5982\u4f55\u5904\u7406\u5168\u5c40\u89e3\u91ca\u5668\u9501\u3002\n\u8bed\u53e5 with nogil: \u58f0\u660e\u4e86\u4e00\u4e2a\u4e0d\u9700\u8981GIL\u5c31\u80fd\u6267\u884c\u7684\u4ee3\u7801\u5757\u3002\n\u5728\u8fd9\u4e2a\u5757\u4e2d\uff0c\u4e0d\u80fd\u6709\u4efb\u4f55\u7684\u666e\u901aPython\u5bf9\u8c61\u2014\u2014\u53ea\u80fd\u4f7f\u7528\u88ab\u58f0\u660e\u4e3a cdef \u7684\u5bf9\u8c61\u548c\u51fd\u6570\u3002\n\u53e6\u5916\uff0c\u5916\u90e8\u51fd\u6570\u5fc5\u987b\u73b0\u5b9e\u7684\u58f0\u660e\u5b83\u4eec\u80fd\u4e0d\u4f9d\u8d56GIL\u5c31\u80fd\u6267\u884c\u3002\n\u56e0\u6b64\uff0c\u5728csample.pxd\u6587\u4ef6\u4e2d\uff0cavg() \u88ab\u58f0\u660e\u4e3a double avg(double *, int) nogil ."
      ]
    },
    {
      "cell_type": "markdown",
      "metadata": {},
      "source": [
        "\u5bf9Point\u7ed3\u6784\u4f53\u7684\u5904\u7406\u662f\u4e00\u4e2a\u6311\u6218\u3002\u672c\u8282\u4f7f\u7528\u80f6\u56ca\u5bf9\u8c61\u5c06Point\u5bf9\u8c61\u5f53\u505a\u9690\u5f62\u6307\u9488\u6765\u5904\u7406\uff0c\u8fd9\u4e2a\u572815.4\u5c0f\u8282\u4ecb\u7ecd\u8fc7\u3002\n\u8981\u8fd9\u6837\u505a\u7684\u8bdd\uff0c\u5e95\u5c42Cython\u4ee3\u7801\u7a0d\u5fae\u6709\u70b9\u590d\u6742\u3002\n\u9996\u5148\uff0c\u4e0b\u9762\u7684\u5bfc\u5165\u88ab\u7528\u6765\u5f15\u5165C\u51fd\u6570\u5e93\u548cPython C API\u4e2d\u5b9a\u4e49\u7684\u51fd\u6570\uff1a"
      ]
    },
    {
      "cell_type": "code",
      "execution_count": null,
      "metadata": {},
      "outputs": [],
      "source": [
        "from cpython.pycapsule cimport *\nfrom libc.stdlib cimport malloc, free"
      ]
    },
    {
      "cell_type": "markdown",
      "metadata": {},
      "source": [
        "\u51fd\u6570 del_Point() \u548c Point() \u4f7f\u7528\u8fd9\u4e2a\u529f\u80fd\u6765\u521b\u5efa\u4e00\u4e2a\u80f6\u56ca\u5bf9\u8c61\uff0c\n\u5b83\u4f1a\u5305\u88c5\u4e00\u4e2a Point\u00a0 * \u6307\u9488\u3002cdef\u00a0 del_Point() \u5c06 del_Point() \u58f0\u660e\u4e3a\u4e00\u4e2a\u51fd\u6570\uff0c\n\u53ea\u80fd\u901a\u8fc7Cython\u8bbf\u95ee\uff0c\u800c\u4e0d\u80fd\u4ecePython\u4e2d\u8bbf\u95ee\u3002\n\u56e0\u6b64\uff0c\u8fd9\u4e2a\u51fd\u6570\u5bf9\u5916\u90e8\u662f\u4e0d\u53ef\u89c1\u7684\u2014\u2014\u5b83\u88ab\u7528\u6765\u5f53\u505a\u4e00\u4e2a\u56de\u8c03\u51fd\u6570\u6765\u6e05\u7406\u80f6\u56ca\u5206\u914d\u7684\u5185\u5b58\u3002\n\u51fd\u6570\u8c03\u7528\u6bd4\u5982 PyCapsule_New() \u3001PyCapsule_GetPointer()\n\u76f4\u63a5\u6765\u81eaPython C API\u5e76\u4e14\u4ee5\u540c\u6837\u7684\u65b9\u5f0f\u88ab\u4f7f\u7528\u3002"
      ]
    },
    {
      "cell_type": "markdown",
      "metadata": {},
      "source": [
        "distance \u51fd\u6570\u4ece Point() \u521b\u5efa\u7684\u80f6\u56ca\u5bf9\u8c61\u4e2d\u63d0\u53d6\u6307\u9488\u3002\n\u8fd9\u91cc\u8981\u6ce8\u610f\u7684\u662f\u4f60\u4e0d\u9700\u8981\u62c5\u5fc3\u5f02\u5e38\u5904\u7406\u3002\n\u5982\u679c\u4e00\u4e2a\u9519\u8bef\u7684\u5bf9\u8c61\u88ab\u4f20\u8fdb\u6765\uff0cPyCapsule_GetPointer() \u4f1a\u629b\u51fa\u4e00\u4e2a\u5f02\u5e38\uff0c\n\u4f46\u662fCython\u5df2\u7ecf\u77e5\u9053\u600e\u4e48\u67e5\u627e\u5230\u5b83\uff0c\u5e76\u5c06\u5b83\u4ece distance() \u4f20\u9012\u51fa\u53bb\u3002"
      ]
    },
    {
      "cell_type": "markdown",
      "metadata": {},
      "source": [
        "\u5904\u7406Point\u7ed3\u6784\u4f53\u4e00\u4e2a\u7f3a\u70b9\u662f\u5b83\u7684\u5b9e\u73b0\u662f\u4e0d\u53ef\u89c1\u7684\u3002\n\u4f60\u4e0d\u80fd\u8bbf\u95ee\u4efb\u4f55\u5c5e\u6027\u6765\u67e5\u770b\u5b83\u7684\u5185\u90e8\u3002\n\u8fd9\u91cc\u6709\u53e6\u5916\u4e00\u79cd\u65b9\u6cd5\u53bb\u5305\u88c5\u5b83\uff0c\u5c31\u662f\u5b9a\u4e49\u4e00\u4e2a\u6269\u5c55\u7c7b\u578b\uff0c\u5982\u4e0b\u6240\u793a\uff1a"
      ]
    },
    {
      "cell_type": "code",
      "execution_count": null,
      "metadata": {},
      "outputs": [],
      "source": [
        "# sample.pyx\n\ncimport csample\nfrom libc.stdlib cimport malloc, free\n...\n\ncdef class Point:\n    cdef csample.Point *_c_point\n    def __cinit__(self, double x, double y):\n        self._c_point = <csample.Point *> malloc(sizeof(csample.Point))\n        self._c_point.x = x\n        self._c_point.y = y\n\n    def __dealloc__(self):\n        free(self._c_point)\n\n    property x:\n        def __get__(self):\n            return self._c_point.x\n        def __set__(self, value):\n            self._c_point.x = value\n\n    property y:\n        def __get__(self):\n            return self._c_point.y\n        def __set__(self, value):\n            self._c_point.y = value\n\ndef distance(Point p1, Point p2):\n    return csample.distance(p1._c_point, p2._c_point)"
      ]
    },
    {
      "cell_type": "markdown",
      "metadata": {},
      "source": [
        "\u5728\u8fd9\u91cc\uff0ccdif\u7c7b Point \u5c06Point\u58f0\u660e\u4e3a\u4e00\u4e2a\u6269\u5c55\u7c7b\u578b\u3002\n\u7c7b\u5c5e\u6027 cdef csample.Point *_c_point \u58f0\u660e\u4e86\u4e00\u4e2a\u5b9e\u4f8b\u53d8\u91cf\uff0c\n\u62e5\u6709\u4e00\u4e2a\u6307\u5411\u5e95\u5c42Point\u7ed3\u6784\u4f53\u7684\u6307\u9488\u3002\n__cinit__() \u548c __dealloc__() \u65b9\u6cd5\u901a\u8fc7 malloc() \u548c free() \u521b\u5efa\u5e76\u9500\u6bc1\u5e95\u5c42C\u7ed3\u6784\u4f53\u3002\nx\u548cy\u5c5e\u6027\u7684\u58f0\u660e\u8ba9\u4f60\u83b7\u53d6\u548c\u8bbe\u7f6e\u5e95\u5c42\u7ed3\u6784\u4f53\u7684\u5c5e\u6027\u503c\u3002\ndistance() \u7684\u5305\u88c5\u5668\u8fd8\u53ef\u4ee5\u88ab\u4fee\u6539\uff0c\u4f7f\u5f97\u5b83\u80fd\u63a5\u53d7 Point \u6269\u5c55\u7c7b\u578b\u5b9e\u4f8b\u4f5c\u4e3a\u53c2\u6570\uff0c\n\u800c\u4f20\u9012\u5e95\u5c42\u6307\u9488\u7ed9C\u51fd\u6570\u3002"
      ]
    },
    {
      "cell_type": "markdown",
      "metadata": {},
      "source": [
        "\u505a\u4e86\u8fd9\u4e2a\u6539\u53d8\u540e\uff0c\u4f60\u4f1a\u53d1\u73b0\u64cd\u4f5cPoint\u5bf9\u8c61\u5c31\u663e\u5f97\u66f4\u52a0\u81ea\u7136\u4e86\uff1a"
      ]
    },
    {
      "cell_type": "code",
      "execution_count": null,
      "metadata": {},
      "outputs": [],
      "source": [
        "import sample\np1 = sample.Point(2,3)\np2 = sample.Point(4,5)\np1"
      ]
    },
    {
      "cell_type": "code",
      "execution_count": null,
      "metadata": {},
      "outputs": [],
      "source": [
        "p2"
      ]
    },
    {
      "cell_type": "code",
      "execution_count": null,
      "metadata": {},
      "outputs": [],
      "source": [
        "p1.x"
      ]
    },
    {
      "cell_type": "code",
      "execution_count": null,
      "metadata": {},
      "outputs": [],
      "source": [
        "p1.y"
      ]
    },
    {
      "cell_type": "code",
      "execution_count": null,
      "metadata": {},
      "outputs": [],
      "source": [
        "sample.distance(p1,p2)"
      ]
    },
    {
      "cell_type": "markdown",
      "metadata": {},
      "source": [
        "\u672c\u8282\u5df2\u7ecf\u6f14\u793a\u4e86\u5f88\u591aCython\u7684\u6838\u5fc3\u7279\u6027\uff0c\u4f60\u53ef\u4ee5\u4ee5\u6b64\u4e3a\u57fa\u51c6\u6765\u6784\u5efa\u66f4\u591a\u66f4\u9ad8\u7ea7\u7684\u5305\u88c5\u3002\n\u4e0d\u8fc7\uff0c\u4f60\u6700\u597d\u5148\u53bb\u9605\u8bfb\u4e0b\u5b98\u65b9\u6587\u6863\u6765\u4e86\u89e3\u66f4\u591a\u4fe1\u606f\u3002"
      ]
    },
    {
      "cell_type": "markdown",
      "metadata": {},
      "source": [
        "\u63a5\u4e0b\u6765\u51e0\u8282\u8fd8\u4f1a\u7ee7\u7eed\u6f14\u793a\u4e00\u4e9bCython\u7684\u5176\u4ed6\u7279\u6027\u3002"
      ]
    },
    {
      "cell_type": "markdown",
      "metadata": {},
      "source": [
        "## 15.11 \u7528Cython\u5199\u9ad8\u6027\u80fd\u7684\u6570\u7ec4\u64cd\u4f5c\n"
      ]
    },
    {
      "cell_type": "markdown",
      "metadata": {},
      "source": [
        "### \u95ee\u9898\n"
      ]
    },
    {
      "cell_type": "markdown",
      "metadata": {},
      "source": [
        "\u4f60\u8981\u5199\u9ad8\u6027\u80fd\u7684\u64cd\u4f5c\u6765\u81eaNumPy\u4e4b\u7c7b\u7684\u6570\u7ec4\u8ba1\u7b97\u51fd\u6570\u3002\n\u4f60\u5df2\u7ecf\u77e5\u9053\u4e86Cython\u8fd9\u6837\u7684\u5de5\u5177\u4f1a\u8ba9\u5b83\u53d8\u5f97\u7b80\u5355\uff0c\u4f46\u662f\u5e76\u4e0d\u786e\u5b9a\u8be5\u600e\u6837\u53bb\u505a\u3002"
      ]
    },
    {
      "cell_type": "markdown",
      "metadata": {},
      "source": [
        "### \u89e3\u51b3\u65b9\u6848\n"
      ]
    },
    {
      "cell_type": "markdown",
      "metadata": {},
      "source": [
        "\u4f5c\u4e3a\u4e00\u4e2a\u4f8b\u5b50\uff0c\u4e0b\u9762\u7684\u4ee3\u7801\u6f14\u793a\u4e86\u4e00\u4e2aCython\u51fd\u6570\uff0c\u7528\u6765\u4fee\u6574\u4e00\u4e2a\u7b80\u5355\u7684\u4e00\u7ef4\u53cc\u7cbe\u5ea6\u6d6e\u70b9\u6570\u6570\u7ec4\u4e2d\u5143\u7d20\u7684\u503c\u3002"
      ]
    },
    {
      "cell_type": "code",
      "execution_count": null,
      "metadata": {},
      "outputs": [],
      "source": [
        "# sample.pyx (Cython)\n\ncimport cython\n\n@cython.boundscheck(False)\n@cython.wraparound(False)\ncpdef clip(double[:] a, double min, double max, double[:] out):\n    '''\n    Clip the values in a to be between min and max. Result in out\n    '''\n    if min > max:\n        raise ValueError(\"min must be <= max\")\n    if a.shape[0] != out.shape[0]:\n        raise ValueError(\"input and output arrays must be the same size\")\n    for i in range(a.shape[0]):\n        if a[i] < min:\n            out[i] = min\n        elif a[i] > max:\n            out[i] = max\n        else:\n            out[i] = a[i]"
      ]
    },
    {
      "cell_type": "markdown",
      "metadata": {},
      "source": [
        "\u8981\u7f16\u8bd1\u548c\u6784\u5efa\u8fd9\u4e2a\u6269\u5c55\uff0c\u4f60\u9700\u8981\u4e00\u4e2a\u50cf\u4e0b\u9762\u8fd9\u6837\u7684 setup.py \u6587\u4ef6\n\uff08\u4f7f\u7528 python3 setup.py build_ext --inplace \u6765\u6784\u5efa\u5b83\uff09\uff1a"
      ]
    },
    {
      "cell_type": "code",
      "execution_count": null,
      "metadata": {},
      "outputs": [],
      "source": [
        "from distutils.core import setup\nfrom distutils.extension import Extension\nfrom Cython.Distutils import build_ext\n\next_modules = [\n    Extension('sample',\n              ['sample.pyx'])\n]\n\nsetup(\n  name = 'Sample app',\n  cmdclass = {'build_ext': build_ext},\n  ext_modules = ext_modules\n)"
      ]
    },
    {
      "cell_type": "markdown",
      "metadata": {},
      "source": [
        "\u4f60\u4f1a\u53d1\u73b0\u7ed3\u679c\u51fd\u6570\u786e\u5b9e\u5bf9\u6570\u7ec4\u8fdb\u884c\u7684\u4fee\u6b63\uff0c\u5e76\u4e14\u53ef\u4ee5\u9002\u7528\u4e8e\u591a\u79cd\u7c7b\u578b\u7684\u6570\u7ec4\u5bf9\u8c61\u3002\u4f8b\u5982\uff1a"
      ]
    },
    {
      "cell_type": "code",
      "execution_count": null,
      "metadata": {},
      "outputs": [],
      "source": [
        "# array module example\nimport sample\nimport array\na = array.array('d',[1,-3,4,7,2,0])\na"
      ]
    },
    {
      "cell_type": "code",
      "execution_count": null,
      "metadata": {},
      "outputs": [],
      "source": [
        "sample.clip(a,1,4,a)\na"
      ]
    },
    {
      "cell_type": "code",
      "execution_count": null,
      "metadata": {},
      "outputs": [],
      "source": [
        "# numpy example\nimport numpy\nb = numpy.random.uniform(-10,10,size=1000000)\nb"
      ]
    },
    {
      "cell_type": "code",
      "execution_count": null,
      "metadata": {},
      "outputs": [],
      "source": [
        "c = numpy.zeros_like(b)\nc"
      ]
    },
    {
      "cell_type": "code",
      "execution_count": null,
      "metadata": {},
      "outputs": [],
      "source": [
        "sample.clip(b,-5,5,c)\nc"
      ]
    },
    {
      "cell_type": "code",
      "execution_count": null,
      "metadata": {},
      "outputs": [],
      "source": [
        "min(c)"
      ]
    },
    {
      "cell_type": "code",
      "execution_count": null,
      "metadata": {},
      "outputs": [],
      "source": [
        "max(c)"
      ]
    },
    {
      "cell_type": "markdown",
      "metadata": {},
      "source": [
        "\u4f60\u8fd8\u4f1a\u53d1\u73b0\u8fd0\u884c\u751f\u6210\u7ed3\u679c\u975e\u5e38\u7684\u5feb\u3002\n\u4e0b\u9762\u6211\u4eec\u5c06\u672c\u4f8b\u548cnumpy\u4e2d\u7684\u5df2\u5b58\u5728\u7684 clip() \u51fd\u6570\u505a\u4e00\u4e2a\u6027\u80fd\u5bf9\u6bd4\uff1a"
      ]
    },
    {
      "cell_type": "code",
      "execution_count": null,
      "metadata": {},
      "outputs": [],
      "source": [
        "timeit('numpy.clip(b,-5,5,c)','from __main__ import b,c,numpy',number=1000)"
      ]
    },
    {
      "cell_type": "code",
      "execution_count": null,
      "metadata": {},
      "outputs": [],
      "source": [
        "timeit('sample.clip(b,-5,5,c)','from __main__ import b,c,sample',\n        number=1000)"
      ]
    },
    {
      "cell_type": "markdown",
      "metadata": {},
      "source": [
        "\u6b63\u5982\u4f60\u770b\u5230\u7684\uff0c\u5b83\u8981\u5feb\u5f88\u591a\u2014\u2014\u8fd9\u662f\u4e00\u4e2a\u5f88\u6709\u8da3\u7684\u7ed3\u679c\uff0c\u56e0\u4e3aNumPy\u7248\u672c\u7684\u6838\u5fc3\u4ee3\u7801\u8fd8\u662f\u7528C\u8bed\u8a00\u5199\u7684\u3002"
      ]
    },
    {
      "cell_type": "markdown",
      "metadata": {},
      "source": [
        "### \u8ba8\u8bba\n"
      ]
    },
    {
      "cell_type": "markdown",
      "metadata": {},
      "source": [
        "\u672c\u8282\u5229\u7528\u4e86Cython\u7c7b\u578b\u7684\u5185\u5b58\u89c6\u56fe\uff0c\u6781\u5927\u7684\u7b80\u5316\u4e86\u6570\u7ec4\u7684\u64cd\u4f5c\u3002\ncpdef clip() \u58f0\u660e\u4e86 clip() \u540c\u65f6\u4e3aC\u7ea7\u522b\u51fd\u6570\u4ee5\u53caPython\u7ea7\u522b\u51fd\u6570\u3002\n\u5728Cython\u4e2d\uff0c\u8fd9\u4e2a\u662f\u5f88\u91cd\u8981\u7684\uff0c\u56e0\u4e3a\u5b83\u8868\u793a\u6b64\u51fd\u6570\u8c03\u7528\u8981\u6bd4\u5176\u4ed6Cython\u51fd\u6570\u66f4\u52a0\u9ad8\u6548\n\uff08\u6bd4\u5982\u4f60\u60f3\u5728\u53e6\u5916\u4e00\u4e2a\u4e0d\u540c\u7684Cython\u51fd\u6570\u4e2d\u8c03\u7528clip()\uff09\u3002"
      ]
    },
    {
      "cell_type": "markdown",
      "metadata": {},
      "source": [
        "\u7c7b\u578b\u53c2\u6570 double[:] a \u548c double[:] out \u58f0\u660e\u8fd9\u4e9b\u53c2\u6570\u4e3a\u4e00\u7ef4\u7684\u53cc\u7cbe\u5ea6\u6570\u7ec4\u3002\n\u4f5c\u4e3a\u8f93\u5165\uff0c\u5b83\u4eec\u4f1a\u8bbf\u95ee\u4efb\u4f55\u5b9e\u73b0\u4e86\u5185\u5b58\u89c6\u56fe\u63a5\u53e3\u7684\u6570\u7ec4\u5bf9\u8c61\uff0c\u8fd9\u4e2a\u5728PEP 3118\u6709\u8be6\u7ec6\u5b9a\u4e49\u3002\n\u5305\u62ec\u4e86NumPy\u4e2d\u7684\u6570\u7ec4\u548c\u5185\u7f6e\u7684array\u5e93\u3002"
      ]
    },
    {
      "cell_type": "markdown",
      "metadata": {},
      "source": [
        "\u5f53\u4f60\u7f16\u5199\u751f\u6210\u7ed3\u679c\u4e3a\u6570\u7ec4\u7684\u4ee3\u7801\u65f6\uff0c\u4f60\u5e94\u8be5\u9075\u5faa\u4e0a\u9762\u793a\u4f8b\u90a3\u6837\u8bbe\u7f6e\u4e00\u4e2a\u8f93\u51fa\u53c2\u6570\u3002\n\u5b83\u4f1a\u5c06\u521b\u5efa\u8f93\u51fa\u6570\u7ec4\u7684\u8d23\u4efb\u7ed9\u8c03\u7528\u8005\uff0c\u4e0d\u9700\u8981\u77e5\u9053\u4f60\u64cd\u4f5c\u7684\u6570\u7ec4\u7684\u5177\u4f53\u7ec6\u8282\n\uff08\u5b83\u4ec5\u4ec5\u5047\u8bbe\u6570\u7ec4\u5df2\u7ecf\u51c6\u5907\u597d\u4e86\uff0c\u53ea\u9700\u8981\u505a\u4e00\u4e9b\u5c0f\u7684\u68c0\u67e5\u6bd4\u5982\u786e\u4fdd\u6570\u7ec4\u5927\u5c0f\u662f\u6b63\u786e\u7684\uff09\u3002\n\u5728\u50cfNumPy\u4e4b\u7c7b\u7684\u5e93\u4e2d\uff0c\u4f7f\u7528 numpy.zeros() \u6216 numpy.zeros_like()\n\u521b\u5efa\u8f93\u51fa\u6570\u7ec4\u76f8\u5bf9\u800c\u8a00\u6bd4\u8f83\u5bb9\u6613\u3002\u53e6\u5916\uff0c\u8981\u521b\u5efa\u672a\u521d\u59cb\u5316\u6570\u7ec4\uff0c\n\u4f60\u53ef\u4ee5\u4f7f\u7528 numpy.empty() \u6216 numpy.empty_like() .\n\u5982\u679c\u4f60\u60f3\u8986\u76d6\u6570\u7ec4\u5185\u5bb9\u4f5c\u4e3a\u7ed3\u679c\u7684\u8bdd\u9009\u62e9\u8fd9\u4e24\u4e2a\u4f1a\u6bd4\u8f83\u5feb\u70b9\u3002"
      ]
    },
    {
      "cell_type": "markdown",
      "metadata": {},
      "source": [
        "\u5728\u4f60\u7684\u51fd\u6570\u5b9e\u73b0\u4e2d\uff0c\u4f60\u53ea\u9700\u8981\u7b80\u5355\u7684\u901a\u8fc7\u4e0b\u6807\u8fd0\u7b97\u548c\u6570\u7ec4\u67e5\u627e\uff08\u6bd4\u5982a[i],out[i]\u7b49\uff09\u6765\u7f16\u5199\u4ee3\u7801\u64cd\u4f5c\u6570\u7ec4\u3002\nCython\u4f1a\u8d1f\u8d23\u4e3a\u4f60\u751f\u6210\u9ad8\u6548\u7684\u4ee3\u7801\u3002"
      ]
    },
    {
      "cell_type": "markdown",
      "metadata": {},
      "source": [
        "clip() \u5b9a\u4e49\u4e4b\u524d\u7684\u4e24\u4e2a\u88c5\u9970\u5668\u53ef\u4ee5\u4f18\u5316\u4e0b\u6027\u80fd\u3002\n@cython.boundscheck(False) \u7701\u53bb\u4e86\u6240\u6709\u7684\u6570\u7ec4\u8d8a\u754c\u68c0\u67e5\uff0c\n\u5f53\u4f60\u77e5\u9053\u4e0b\u6807\u8bbf\u95ee\u4e0d\u4f1a\u8d8a\u754c\u7684\u65f6\u5019\u53ef\u4ee5\u4f7f\u7528\u5b83\u3002\n@cython.wraparound(False) \u6d88\u9664\u4e86\u76f8\u5bf9\u6570\u7ec4\u5c3e\u90e8\u7684\u8d1f\u6570\u4e0b\u6807\u7684\u5904\u7406\uff08\u7c7b\u4f3cPython\u5217\u8868\uff09\u3002\n\u5f15\u5165\u8fd9\u4e24\u4e2a\u88c5\u9970\u5668\u53ef\u4ee5\u6781\u5927\u7684\u63d0\u5347\u6027\u80fd\uff08\u6d4b\u8bd5\u8fd9\u4e2a\u4f8b\u5b50\u7684\u65f6\u5019\u5927\u6982\u5feb\u4e862.5\u500d\uff09\u3002"
      ]
    },
    {
      "cell_type": "markdown",
      "metadata": {},
      "source": [
        "\u4efb\u4f55\u65f6\u5019\u5904\u7406\u6570\u7ec4\u65f6\uff0c\u7814\u7a76\u5e76\u6539\u5584\u5e95\u5c42\u7b97\u6cd5\u540c\u6837\u53ef\u4ee5\u6781\u5927\u7684\u63d0\u793a\u6027\u80fd\u3002\n\u4f8b\u5982\uff0c\u8003\u8651\u5bf9 clip() \u51fd\u6570\u7684\u5982\u4e0b\u4fee\u6b63\uff0c\u4f7f\u7528\u6761\u4ef6\u8868\u8fbe\u5f0f\uff1a"
      ]
    },
    {
      "cell_type": "code",
      "execution_count": null,
      "metadata": {},
      "outputs": [],
      "source": [
        "@cython.boundscheck(False)\n@cython.wraparound(False)\ncpdef clip(double[:] a, double min, double max, double[:] out):\n    if min > max:\n        raise ValueError(\"min must be <= max\")\n    if a.shape[0] != out.shape[0]:\n        raise ValueError(\"input and output arrays must be the same size\")\n    for i in range(a.shape[0]):\n        out[i] = (a[i] if a[i] < max else max) if a[i] > min else min"
      ]
    },
    {
      "cell_type": "markdown",
      "metadata": {},
      "source": [
        "\u5b9e\u9645\u6d4b\u8bd5\u7ed3\u679c\u662f\uff0c\u8fd9\u4e2a\u7248\u672c\u7684\u4ee3\u7801\u8fd0\u884c\u901f\u5ea6\u8981\u5feb50%\u4ee5\u4e0a\uff082.44\u79d2\u5bf9\u6bd4\u4e4b\u524d\u4f7f\u7528 timeit() \u6d4b\u8bd5\u76843.76\u79d2\uff09\u3002"
      ]
    },
    {
      "cell_type": "markdown",
      "metadata": {},
      "source": [
        "\u5230\u8fd9\u91cc\u4e3a\u6b62\uff0c\u4f60\u53ef\u80fd\u60f3\u77e5\u9053\u8fd9\u79cd\u4ee3\u7801\u600e\u4e48\u80fd\u8ddf\u624b\u5199C\u8bed\u8a00PK\u5462\uff1f\n\u4f8b\u5982\uff0c\u4f60\u53ef\u80fd\u5199\u4e86\u5982\u4e0b\u7684C\u51fd\u6570\u5e76\u4f7f\u7528\u524d\u9762\u51e0\u8282\u7684\u6280\u672f\u6765\u624b\u5199\u6269\u5c55\uff1a"
      ]
    },
    {
      "cell_type": "code",
      "execution_count": null,
      "metadata": {},
      "outputs": [],
      "source": [
        "void clip(double *a, int n, double min, double max, double *out) {\n  double x;\n  for (; n >= 0; n--, a++, out++) {\n    x = *a;\n\n    *out = x > max ? max : (x < min ? min : x);\n  }\n}"
      ]
    },
    {
      "cell_type": "markdown",
      "metadata": {},
      "source": [
        "\u6211\u4eec\u6ca1\u6709\u5c55\u793a\u8fd9\u4e2a\u7684\u6269\u5c55\u4ee3\u7801\uff0c\u4f46\u662f\u8bd5\u9a8c\u4e4b\u540e\uff0c\u6211\u4eec\u53d1\u73b0\u4e00\u4e2a\u624b\u5199C\u6269\u5c55\u8981\u6bd4\u4f7f\u7528Cython\u7248\u672c\u7684\u6162\u4e86\u5927\u698210%\u3002\n\u6700\u5e95\u4e0b\u7684\u4e00\u884c\u6bd4\u4f60\u60f3\u8c61\u7684\u8fd0\u884c\u7684\u5feb\u5f88\u591a\u3002"
      ]
    },
    {
      "cell_type": "markdown",
      "metadata": {},
      "source": [
        "\u4f60\u53ef\u4ee5\u5bf9\u5b9e\u4f8b\u4ee3\u7801\u6784\u5efa\u591a\u4e2a\u6269\u5c55\u3002\n\u5bf9\u4e8e\u67d0\u4e9b\u6570\u7ec4\u64cd\u4f5c\uff0c\u6700\u597d\u8981\u91ca\u653eGIL\uff0c\u8fd9\u6837\u591a\u4e2a\u7ebf\u7a0b\u80fd\u5e76\u884c\u8fd0\u884c\u3002\n\u8981\u8fd9\u6837\u505a\u7684\u8bdd\uff0c\u9700\u8981\u4fee\u6539\u4ee3\u7801\uff0c\u4f7f\u7528 with nogil: \u8bed\u53e5\uff1a"
      ]
    },
    {
      "cell_type": "code",
      "execution_count": null,
      "metadata": {},
      "outputs": [],
      "source": [
        "@cython.boundscheck(False)\n@cython.wraparound(False)\ncpdef clip(double[:] a, double min, double max, double[:] out):\n    if min > max:\n        raise ValueError(\"min must be <= max\")\n    if a.shape[0] != out.shape[0]:\n        raise ValueError(\"input and output arrays must be the same size\")\n    with nogil:\n        for i in range(a.shape[0]):\n            out[i] = (a[i] if a[i] < max else max) if a[i] > min else min"
      ]
    },
    {
      "cell_type": "markdown",
      "metadata": {},
      "source": [
        "\u5982\u679c\u4f60\u60f3\u5199\u4e00\u4e2a\u64cd\u4f5c\u4e8c\u7ef4\u6570\u7ec4\u7684\u7248\u672c\uff0c\u4e0b\u9762\u662f\u53ef\u4ee5\u53c2\u8003\u4e0b\uff1a"
      ]
    },
    {
      "cell_type": "code",
      "execution_count": null,
      "metadata": {},
      "outputs": [],
      "source": [
        "@cython.boundscheck(False)\n@cython.wraparound(False)\ncpdef clip2d(double[:,:] a, double min, double max, double[:,:] out):\n    if min > max:\n        raise ValueError(\"min must be <= max\")\n    for n in range(a.ndim):\n        if a.shape[n] != out.shape[n]:\n            raise TypeError(\"a and out have different shapes\")\n    for i in range(a.shape[0]):\n        for j in range(a.shape[1]):\n            if a[i,j] < min:\n                out[i,j] = min\n            elif a[i,j] > max:\n                out[i,j] = max\n            else:\n                out[i,j] = a[i,j]"
      ]
    },
    {
      "cell_type": "markdown",
      "metadata": {},
      "source": [
        "\u5e0c\u671b\u8bfb\u8005\u4e0d\u8981\u5fd8\u4e86\u672c\u8282\u6240\u6709\u4ee3\u7801\u90fd\u4e0d\u4f1a\u7ed1\u5b9a\u5230\u67d0\u4e2a\u7279\u5b9a\u6570\u7ec4\u5e93\uff08\u6bd4\u5982NumPy\uff09\u4e0a\u9762\u3002\n\u8fd9\u6837\u4ee3\u7801\u5c31\u66f4\u6709\u7075\u6d3b\u6027\u3002\n\u4e0d\u8fc7\uff0c\u8981\u6ce8\u610f\u7684\u662f\u5982\u679c\u5904\u7406\u6570\u7ec4\u8981\u6d89\u53ca\u5230\u591a\u7ef4\u6570\u7ec4\u3001\u5207\u7247\u3001\u504f\u79fb\u548c\u5176\u4ed6\u56e0\u7d20\u7684\u65f6\u5019\u60c5\u51b5\u4f1a\u53d8\u5f97\u590d\u6742\u8d77\u6765\u3002\n\u8fd9\u4e9b\u5185\u5bb9\u5df2\u7ecf\u8d85\u51fa\u672c\u8282\u8303\u56f4\uff0c\u66f4\u591a\u4fe1\u606f\u8bf7\u53c2\u8003 PEP 3118 \uff0c\n\u540c\u65f6 Cython\u6587\u6863\u4e2d\u5173\u4e8e\u201c\u7c7b\u578b\u5185\u5b58\u89c6\u56fe\u201d\n\u7bc7\u4e5f\u503c\u5f97\u4e00\u8bfb\u3002"
      ]
    },
    {
      "cell_type": "markdown",
      "metadata": {},
      "source": [
        "## 15.12 \u5c06\u51fd\u6570\u6307\u9488\u8f6c\u6362\u4e3a\u53ef\u8c03\u7528\u5bf9\u8c61\n"
      ]
    },
    {
      "cell_type": "markdown",
      "metadata": {},
      "source": [
        "### \u95ee\u9898\n"
      ]
    },
    {
      "cell_type": "markdown",
      "metadata": {},
      "source": [
        "\u4f60\u5df2\u7ecf\u83b7\u5f97\u4e86\u4e00\u4e2a\u88ab\u7f16\u8bd1\u51fd\u6570\u7684\u5185\u5b58\u5730\u5740\uff0c\u60f3\u5c06\u5b83\u8f6c\u6362\u6210\u4e00\u4e2aPython\u53ef\u8c03\u7528\u5bf9\u8c61\uff0c\n\u8fd9\u6837\u7684\u8bdd\u4f60\u5c31\u53ef\u4ee5\u5c06\u5b83\u4f5c\u4e3a\u4e00\u4e2a\u6269\u5c55\u51fd\u6570\u4f7f\u7528\u4e86\u3002"
      ]
    },
    {
      "cell_type": "markdown",
      "metadata": {},
      "source": [
        "### \u89e3\u51b3\u65b9\u6848\n"
      ]
    },
    {
      "cell_type": "markdown",
      "metadata": {},
      "source": [
        "ctypes \u6a21\u5757\u53ef\u88ab\u7528\u6765\u521b\u5efa\u5305\u88c5\u4efb\u610f\u5185\u5b58\u5730\u5740\u7684Python\u53ef\u8c03\u7528\u5bf9\u8c61\u3002\n\u4e0b\u9762\u7684\u4f8b\u5b50\u6f14\u793a\u4e86\u600e\u6837\u83b7\u53d6C\u51fd\u6570\u7684\u539f\u59cb\u3001\u5e95\u5c42\u5730\u5740\uff0c\u4ee5\u53ca\u5982\u4f55\u5c06\u5176\u8f6c\u6362\u4e3a\u4e00\u4e2a\u53ef\u8c03\u7528\u5bf9\u8c61\uff1a"
      ]
    },
    {
      "cell_type": "code",
      "execution_count": null,
      "metadata": {},
      "outputs": [],
      "source": [
        "import ctypes\nlib = ctypes.cdll.LoadLibrary(None)\n# Get the address of sin() from the C math library\naddr = ctypes.cast(lib.sin, ctypes.c_void_p).value\naddr"
      ]
    },
    {
      "cell_type": "code",
      "execution_count": null,
      "metadata": {},
      "outputs": [],
      "source": [
        "# Turn the address into a callable function\nfunctype = ctypes.CFUNCTYPE(ctypes.c_double, ctypes.c_double)\nfunc = functype(addr)\nfunc"
      ]
    },
    {
      "cell_type": "code",
      "execution_count": null,
      "metadata": {},
      "outputs": [],
      "source": [
        "# Call the resulting function\nfunc(2)"
      ]
    },
    {
      "cell_type": "code",
      "execution_count": null,
      "metadata": {},
      "outputs": [],
      "source": [
        "func(0)"
      ]
    },
    {
      "cell_type": "markdown",
      "metadata": {},
      "source": [
        "### \u8ba8\u8bba\n"
      ]
    },
    {
      "cell_type": "markdown",
      "metadata": {},
      "source": [
        "\u8981\u6784\u5efa\u4e00\u4e2a\u53ef\u8c03\u7528\u5bf9\u8c61\uff0c\u4f60\u9996\u5148\u9700\u8981\u521b\u5efa\u4e00\u4e2a CFUNCTYPE \u5b9e\u4f8b\u3002\nCFUNCTYPE() \u7684\u7b2c\u4e00\u4e2a\u53c2\u6570\u662f\u8fd4\u56de\u7c7b\u578b\u3002\n\u63a5\u4e0b\u6765\u7684\u53c2\u6570\u662f\u53c2\u6570\u7c7b\u578b\u3002\u4e00\u65e6\u4f60\u5b9a\u4e49\u4e86\u51fd\u6570\u7c7b\u578b\uff0c\u4f60\u5c31\u80fd\u5c06\u5b83\u5305\u88c5\u5728\u4e00\u4e2a\u6574\u578b\u5185\u5b58\u5730\u5740\u4e0a\u6765\u521b\u5efa\u4e00\u4e2a\u53ef\u8c03\u7528\u5bf9\u8c61\u4e86\u3002\n\u751f\u6210\u7684\u5bf9\u8c61\u88ab\u5f53\u505a\u666e\u901a\u7684\u53ef\u901a\u8fc7 ctypes \u8bbf\u95ee\u7684\u51fd\u6570\u6765\u4f7f\u7528\u3002"
      ]
    },
    {
      "cell_type": "markdown",
      "metadata": {},
      "source": [
        "\u672c\u8282\u770b\u4e0a\u53bb\u53ef\u80fd\u6709\u70b9\u795e\u79d8\uff0c\u504f\u5e95\u5c42\u4e00\u70b9\u3002\n\u4f46\u662f\uff0c\u4f46\u662f\u5b83\u88ab\u5e7f\u6cdb\u4f7f\u7528\u4e8e\u5404\u79cd\u9ad8\u7ea7\u4ee3\u7801\u751f\u6210\u6280\u672f\u6bd4\u5982\u5373\u65f6\u7f16\u8bd1\uff0c\u5728LLVM\u51fd\u6570\u5e93\u4e2d\u53ef\u4ee5\u770b\u5230\u3002"
      ]
    },
    {
      "cell_type": "markdown",
      "metadata": {},
      "source": [
        "\u4f8b\u5982\uff0c\u4e0b\u9762\u662f\u4e00\u4e2a\u4f7f\u7528 llvmpy \u6269\u5c55\u7684\u7b80\u5355\u4f8b\u5b50\uff0c\u7528\u6765\u6784\u5efa\u4e00\u4e2a\u5c0f\u7684\u805a\u96c6\u51fd\u6570\uff0c\u83b7\u53d6\u5b83\u7684\u51fd\u6570\u6307\u9488\uff0c\n\u5e76\u5c06\u5176\u8f6c\u6362\u4e3a\u4e00\u4e2aPython\u53ef\u8c03\u7528\u5bf9\u8c61\u3002"
      ]
    },
    {
      "cell_type": "code",
      "execution_count": null,
      "metadata": {},
      "outputs": [],
      "source": [
        "from llvm.core import Module, Function, Type, Builder\nmod = Module.new('example')\nf = Function.new(mod,Type.function(Type.double(), \\"
      ]
    },
    {
      "cell_type": "code",
      "execution_count": null,
      "metadata": {},
      "outputs": [],
      "source": [
        "block = f.append_basic_block('entry')\nbuilder = Builder.new(block)\nx2 = builder.fmul(f.args[0],f.args[0])\ny2 = builder.fmul(f.args[1],f.args[1])\nr = builder.fadd(x2,y2)\nbuilder.ret(r)"
      ]
    },
    {
      "cell_type": "code",
      "execution_count": null,
      "metadata": {},
      "outputs": [],
      "source": [
        "from llvm.ee import ExecutionEngine\nengine = ExecutionEngine.new(mod)\nptr = engine.get_pointer_to_function(f)\nptr"
      ]
    },
    {
      "cell_type": "code",
      "execution_count": null,
      "metadata": {},
      "outputs": [],
      "source": [
        "foo = ctypes.CFUNCTYPE(ctypes.c_double, ctypes.c_double, ctypes.c_double)(ptr)"
      ]
    },
    {
      "cell_type": "code",
      "execution_count": null,
      "metadata": {},
      "outputs": [],
      "source": [
        "# Call the resulting function\nfoo(2,3)"
      ]
    },
    {
      "cell_type": "code",
      "execution_count": null,
      "metadata": {},
      "outputs": [],
      "source": [
        "foo(4,5)"
      ]
    },
    {
      "cell_type": "code",
      "execution_count": null,
      "metadata": {},
      "outputs": [],
      "source": [
        "foo(1,2)"
      ]
    },
    {
      "cell_type": "markdown",
      "metadata": {},
      "source": [
        "\u5e76\u4e0d\u662f\u8bf4\u5728\u8fd9\u4e2a\u5c42\u9762\u72af\u4e86\u4efb\u4f55\u9519\u8bef\u5c31\u4f1a\u5bfc\u81f4Python\u89e3\u91ca\u5668\u6302\u6389\u3002\n\u8981\u8bb0\u5f97\u7684\u662f\u4f60\u662f\u5728\u76f4\u63a5\u8ddf\u673a\u5668\u7ea7\u522b\u7684\u5185\u5b58\u5730\u5740\u548c\u672c\u5730\u673a\u5668\u7801\u6253\u4ea4\u9053\uff0c\u800c\u4e0d\u662fPython\u51fd\u6570\u3002"
      ]
    },
    {
      "cell_type": "markdown",
      "metadata": {},
      "source": [
        "## 15.13 \u4f20\u9012NULL\u7ed3\u5c3e\u7684\u5b57\u7b26\u4e32\u7ed9C\u51fd\u6570\u5e93\n"
      ]
    },
    {
      "cell_type": "markdown",
      "metadata": {},
      "source": [
        "### \u95ee\u9898\n"
      ]
    },
    {
      "cell_type": "markdown",
      "metadata": {},
      "source": [
        "\u4f60\u8981\u5199\u4e00\u4e2a\u6269\u5c55\u6a21\u5757\uff0c\u9700\u8981\u4f20\u9012\u4e00\u4e2aNULL\u7ed3\u5c3e\u7684\u5b57\u7b26\u4e32\u7ed9C\u51fd\u6570\u5e93\u3002\n\u4e0d\u8fc7\uff0c\u4f60\u4e0d\u662f\u5f88\u786e\u5b9a\u600e\u6837\u4f7f\u7528Python\u7684Unicode\u5b57\u7b26\u4e32\u53bb\u5b9e\u73b0\u5b83\u3002"
      ]
    },
    {
      "cell_type": "markdown",
      "metadata": {},
      "source": [
        "### \u89e3\u51b3\u65b9\u6848\n"
      ]
    },
    {
      "cell_type": "markdown",
      "metadata": {},
      "source": [
        "\u8bb8\u591aC\u51fd\u6570\u5e93\u5305\u542b\u4e00\u4e9b\u64cd\u4f5cNULL\u7ed3\u5c3e\u7684\u5b57\u7b26\u4e32\uff0c\u88ab\u58f0\u660e\u7c7b\u578b\u4e3a char * .\n\u8003\u8651\u5982\u4e0b\u7684C\u51fd\u6570\uff0c\u6211\u4eec\u7528\u6765\u505a\u6f14\u793a\u548c\u6d4b\u8bd5\u7528\u7684\uff1a"
      ]
    },
    {
      "cell_type": "code",
      "execution_count": null,
      "metadata": {},
      "outputs": [],
      "source": [
        "void print_chars(char *s) {\n    while (*s) {\n        printf(\"%2x \", (unsigned char) *s);\n\n        s++;\n    }\n    printf(\"\\n\");\n}"
      ]
    },
    {
      "cell_type": "markdown",
      "metadata": {},
      "source": [
        "\u6b64\u51fd\u6570\u4f1a\u6253\u5370\u88ab\u4f20\u8fdb\u6765\u5b57\u7b26\u4e32\u7684\u6bcf\u4e2a\u5b57\u7b26\u7684\u5341\u516d\u8fdb\u5236\u8868\u793a\uff0c\u8fd9\u6837\u7684\u8bdd\u53ef\u4ee5\u5f88\u5bb9\u6613\u7684\u8fdb\u884c\u8c03\u8bd5\u4e86\u3002\u4f8b\u5982\uff1a"
      ]
    },
    {
      "cell_type": "code",
      "execution_count": null,
      "metadata": {},
      "outputs": [],
      "source": [
        "print_chars(\"Hello\");   // Outputs: 48 65 6c 6c 6f"
      ]
    },
    {
      "cell_type": "markdown",
      "metadata": {},
      "source": [
        "\u5bf9\u4e8e\u5728Python\u4e2d\u8c03\u7528\u8fd9\u6837\u7684C\u51fd\u6570\uff0c\u4f60\u6709\u51e0\u79cd\u9009\u62e9\u3002\n\u9996\u5148\uff0c\u4f60\u53ef\u4ee5\u901a\u8fc7\u8c03\u7528 PyArg_ParseTuple() \u5e76\u6307\u5b9a\u201dy\u201c\u8f6c\u6362\u7801\u6765\u9650\u5236\u5b83\u53ea\u80fd\u64cd\u4f5c\u5b57\u8282\uff0c\u5982\u4e0b\uff1a"
      ]
    },
    {
      "cell_type": "code",
      "execution_count": null,
      "metadata": {},
      "outputs": [],
      "source": [
        "static PyObject *py_print_chars(PyObject *self, PyObject *args) {\n  char *s;\n\n  if (!PyArg_ParseTuple(args, \"y\", &s)) {\n    return NULL;\n  }\n  print_chars(s);\n  Py_RETURN_NONE;\n}"
      ]
    },
    {
      "cell_type": "markdown",
      "metadata": {},
      "source": [
        "\u7ed3\u679c\u51fd\u6570\u7684\u4f7f\u7528\u65b9\u6cd5\u5982\u4e0b\u3002\u4ed4\u7ec6\u89c2\u5bdf\u5d4c\u5165\u4e86NULL\u5b57\u8282\u7684\u5b57\u7b26\u4e32\u4ee5\u53caUnicode\u652f\u6301\u662f\u600e\u6837\u88ab\u62d2\u7edd\u7684\uff1a"
      ]
    },
    {
      "cell_type": "code",
      "execution_count": null,
      "metadata": {},
      "outputs": [],
      "source": [
        "print_chars(b'Hello World')"
      ]
    },
    {
      "cell_type": "code",
      "execution_count": null,
      "metadata": {},
      "outputs": [],
      "source": [
        "print_chars(b'Hello\\x00World')"
      ]
    },
    {
      "cell_type": "code",
      "execution_count": null,
      "metadata": {},
      "outputs": [],
      "source": [
        "print_chars('Hello World')"
      ]
    },
    {
      "cell_type": "markdown",
      "metadata": {},
      "source": [
        "\u5982\u679c\u4f60\u60f3\u4f20\u9012Unicode\u5b57\u7b26\u4e32\uff0c\u5728 PyArg_ParseTuple() \u4e2d\u4f7f\u7528\u201ds\u201c\u683c\u5f0f\u7801\uff0c\u5982\u4e0b\uff1a"
      ]
    },
    {
      "cell_type": "code",
      "execution_count": null,
      "metadata": {},
      "outputs": [],
      "source": [
        "static PyObject *py_print_chars(PyObject *self, PyObject *args) {\n  char *s;\n\n  if (!PyArg_ParseTuple(args, \"s\", &s)) {\n    return NULL;\n  }\n  print_chars(s);\n  Py_RETURN_NONE;\n}"
      ]
    },
    {
      "cell_type": "markdown",
      "metadata": {},
      "source": [
        "\u5f53\u88ab\u4f7f\u7528\u7684\u65f6\u5019\uff0c\u5b83\u4f1a\u81ea\u52a8\u5c06\u6240\u6709\u5b57\u7b26\u4e32\u8f6c\u6362\u4e3a\u4ee5NULL\u7ed3\u5c3e\u7684UTF-8\u7f16\u7801\u3002\u4f8b\u5982\uff1a"
      ]
    },
    {
      "cell_type": "code",
      "execution_count": null,
      "metadata": {},
      "outputs": [],
      "source": [
        "print_chars('Hello World')"
      ]
    },
    {
      "cell_type": "code",
      "execution_count": null,
      "metadata": {},
      "outputs": [],
      "source": [
        "print_chars('Spicy Jalape\\u00f1o')  # Note: UTF-8 encoding"
      ]
    },
    {
      "cell_type": "code",
      "execution_count": null,
      "metadata": {},
      "outputs": [],
      "source": [
        "print_chars('Hello\\x00World')"
      ]
    },
    {
      "cell_type": "code",
      "execution_count": null,
      "metadata": {},
      "outputs": [],
      "source": [
        "print_chars(b'Hello World')"
      ]
    },
    {
      "cell_type": "markdown",
      "metadata": {},
      "source": [
        "\u5982\u679c\u56e0\u4e3a\u67d0\u4e9b\u539f\u56e0\uff0c\u4f60\u8981\u76f4\u63a5\u4f7f\u7528 PyObject * \u800c\u4e0d\u80fd\u4f7f\u7528 PyArg_ParseTuple() \uff0c\n\u4e0b\u9762\u7684\u4f8b\u5b50\u5411\u4f60\u5c55\u793a\u4e86\u600e\u6837\u4ece\u5b57\u8282\u548c\u5b57\u7b26\u4e32\u5bf9\u8c61\u4e2d\u68c0\u67e5\u548c\u63d0\u53d6\u4e00\u4e2a\u5408\u9002\u7684 char * \u5f15\u7528\uff1a"
      ]
    },
    {
      "cell_type": "code",
      "execution_count": null,
      "metadata": {},
      "outputs": [],
      "source": [
        "/* Some Python Object (obtained somehow) */\nPyObject *obj;\n\n/* Conversion from bytes */\n{\n   char *s;\n   s = PyBytes_AsString(o);\n   if (!s) {\n      return NULL;   /* TypeError already raised */\n   }\n   print_chars(s);\n}\n\n/* Conversion to UTF-8 bytes from a string */\n{\n   PyObject *bytes;\n   char *s;\n   if (!PyUnicode_Check(obj)) {\n       PyErr_SetString(PyExc_TypeError, \"Expected string\");\n       return NULL;\n   }\n   bytes = PyUnicode_AsUTF8String(obj);\n   s = PyBytes_AsString(bytes);\n   print_chars(s);\n   Py_DECREF(bytes);\n}"
      ]
    },
    {
      "cell_type": "markdown",
      "metadata": {},
      "source": [
        "\u524d\u9762\u4e24\u79cd\u8f6c\u6362\u90fd\u53ef\u4ee5\u786e\u4fdd\u662fNULL\u7ed3\u5c3e\u7684\u6570\u636e\uff0c\n\u4f46\u662f\u5b83\u4eec\u5e76\u4e0d\u68c0\u67e5\u5b57\u7b26\u4e32\u4e2d\u95f4\u662f\u5426\u5d4c\u5165\u4e86NULL\u5b57\u8282\u3002\n\u56e0\u6b64\uff0c\u5982\u679c\u8fd9\u4e2a\u5f88\u91cd\u8981\u7684\u8bdd\uff0c\u90a3\u4f60\u9700\u8981\u81ea\u5df1\u53bb\u505a\u68c0\u67e5\u4e86\u3002"
      ]
    },
    {
      "cell_type": "markdown",
      "metadata": {},
      "source": [
        "### \u8ba8\u8bba\n"
      ]
    },
    {
      "cell_type": "markdown",
      "metadata": {},
      "source": [
        "\u5982\u679c\u53ef\u80fd\u7684\u8bdd\uff0c\u4f60\u5e94\u8be5\u907f\u514d\u53bb\u5199\u4e00\u4e9b\u4f9d\u8d56\u4e8eNULL\u7ed3\u5c3e\u7684\u5b57\u7b26\u4e32\uff0c\u56e0\u4e3aPython\u5e76\u6ca1\u6709\u8fd9\u4e2a\u9700\u8981\u3002\n\u6700\u597d\u7ed3\u5408\u4f7f\u7528\u4e00\u4e2a\u6307\u9488\u548c\u957f\u5ea6\u503c\u6765\u5904\u7406\u5b57\u7b26\u4e32\u3002\n\u4e0d\u8fc7\uff0c\u6709\u65f6\u5019\u4f60\u5fc5\u987b\u53bb\u5904\u7406C\u8bed\u8a00\u9057\u7559\u4ee3\u7801\u65f6\u5c31\u6ca1\u5f97\u9009\u62e9\u4e86\u3002"
      ]
    },
    {
      "cell_type": "markdown",
      "metadata": {},
      "source": [
        "\u5c3d\u7ba1\u5f88\u5bb9\u6613\u4f7f\u7528\uff0c\u4f46\u662f\u5f88\u5bb9\u6613\u5ffd\u89c6\u7684\u4e00\u4e2a\u95ee\u9898\u662f\u5728 PyArg_ParseTuple()\n\u4e2d\u4f7f\u7528\u201cs\u201d\u683c\u5f0f\u5316\u7801\u4f1a\u6709\u5185\u5b58\u635f\u8017\u3002\n\u4f46\u4f60\u9700\u8981\u4f7f\u7528\u8fd9\u79cd\u8f6c\u6362\u7684\u65f6\u5019\uff0c\u4e00\u4e2aUTF-8\u5b57\u7b26\u4e32\u88ab\u521b\u5efa\u5e76\u6c38\u4e45\u9644\u52a0\u5728\u539f\u59cb\u5b57\u7b26\u4e32\u5bf9\u8c61\u4e0a\u9762\u3002\n\u5982\u679c\u539f\u59cb\u5b57\u7b26\u4e32\u5305\u542b\u975eASCII\u5b57\u7b26\u7684\u8bdd\uff0c\u5c31\u4f1a\u5bfc\u81f4\u5b57\u7b26\u4e32\u7684\u5c3a\u5bf8\u589e\u5230\u4e00\u76f4\u5230\u88ab\u5783\u573e\u56de\u6536\u3002\u4f8b\u5982\uff1a"
      ]
    },
    {
      "cell_type": "code",
      "execution_count": null,
      "metadata": {},
      "outputs": [],
      "source": [
        "import sys\ns = 'Spicy Jalape\\u00f1o'\nsys.getsizeof(s)"
      ]
    },
    {
      "cell_type": "code",
      "execution_count": null,
      "metadata": {},
      "outputs": [],
      "source": [
        "print_chars(s)     # Passing string"
      ]
    },
    {
      "cell_type": "code",
      "execution_count": null,
      "metadata": {},
      "outputs": [],
      "source": [
        "sys.getsizeof(s)   # Notice increased size"
      ]
    },
    {
      "cell_type": "markdown",
      "metadata": {},
      "source": [
        "\u5982\u679c\u4f60\u5728\u4e4e\u8fd9\u4e2a\u5185\u5b58\u7684\u635f\u8017\uff0c\u4f60\u6700\u597d\u91cd\u5199\u4f60\u7684C\u6269\u5c55\u4ee3\u7801\uff0c\u8ba9\u5b83\u4f7f\u7528 PyUnicode_AsUTF8String() \u51fd\u6570\u3002\u5982\u4e0b\uff1a"
      ]
    },
    {
      "cell_type": "code",
      "execution_count": null,
      "metadata": {},
      "outputs": [],
      "source": [
        "static PyObject *py_print_chars(PyObject *self, PyObject *args) {\n  PyObject *o, *bytes;\n  char *s;\n\n  if (!PyArg_ParseTuple(args, \"U\", &o)) {\n    return NULL;\n  }\n  bytes = PyUnicode_AsUTF8String(o);\n  s = PyBytes_AsString(bytes);\n  print_chars(s);\n  Py_DECREF(bytes);\n  Py_RETURN_NONE;\n}"
      ]
    },
    {
      "cell_type": "markdown",
      "metadata": {},
      "source": [
        "\u901a\u8fc7\u8fd9\u4e2a\u4fee\u6539\uff0c\u4e00\u4e2aUTF-8\u7f16\u7801\u7684\u5b57\u7b26\u4e32\u6839\u636e\u9700\u8981\u88ab\u521b\u5efa\uff0c\u7136\u540e\u5728\u4f7f\u7528\u8fc7\u540e\u88ab\u4e22\u5f03\u3002\u4e0b\u9762\u662f\u4fee\u8ba2\u540e\u7684\u6548\u679c\uff1a"
      ]
    },
    {
      "cell_type": "code",
      "execution_count": null,
      "metadata": {},
      "outputs": [],
      "source": [
        "import sys\ns = 'Spicy Jalape\\u00f1o'\nsys.getsizeof(s)"
      ]
    },
    {
      "cell_type": "code",
      "execution_count": null,
      "metadata": {},
      "outputs": [],
      "source": [
        "print_chars(s)"
      ]
    },
    {
      "cell_type": "code",
      "execution_count": null,
      "metadata": {},
      "outputs": [],
      "source": [
        "sys.getsizeof(s)"
      ]
    },
    {
      "cell_type": "markdown",
      "metadata": {},
      "source": [
        "\u5982\u679c\u4f60\u8bd5\u7740\u4f20\u9012NULL\u7ed3\u5c3e\u5b57\u7b26\u4e32\u7ed9ctypes\u5305\u88c5\u8fc7\u7684\u51fd\u6570\uff0c\n\u8981\u6ce8\u610f\u7684\u662fctypes\u53ea\u80fd\u5141\u8bb8\u4f20\u9012\u5b57\u8282\uff0c\u5e76\u4e14\u5b83\u4e0d\u4f1a\u68c0\u67e5\u4e2d\u95f4\u5d4c\u5165\u7684NULL\u5b57\u8282\u3002\u4f8b\u5982\uff1a"
      ]
    },
    {
      "cell_type": "code",
      "execution_count": null,
      "metadata": {},
      "outputs": [],
      "source": [
        "import ctypes\nlib = ctypes.cdll.LoadLibrary(\"./libsample.so\")\nprint_chars = lib.print_chars\nprint_chars.argtypes = (ctypes.c_char_p,)\nprint_chars(b'Hello World')"
      ]
    },
    {
      "cell_type": "code",
      "execution_count": null,
      "metadata": {},
      "outputs": [],
      "source": [
        "print_chars(b'Hello\\x00World')"
      ]
    },
    {
      "cell_type": "code",
      "execution_count": null,
      "metadata": {},
      "outputs": [],
      "source": [
        "print_chars('Hello World')"
      ]
    },
    {
      "cell_type": "markdown",
      "metadata": {},
      "source": [
        "\u5982\u679c\u4f60\u60f3\u4f20\u9012\u5b57\u7b26\u4e32\u800c\u4e0d\u662f\u5b57\u8282\uff0c\u4f60\u9700\u8981\u5148\u6267\u884c\u624b\u52a8\u7684UTF-8\u7f16\u7801\u3002\u4f8b\u5982\uff1a"
      ]
    },
    {
      "cell_type": "code",
      "execution_count": null,
      "metadata": {},
      "outputs": [],
      "source": [
        "print_chars('Hello World'.encode('utf-8'))"
      ]
    },
    {
      "cell_type": "markdown",
      "metadata": {},
      "source": [
        "\u5bf9\u4e8e\u5176\u4ed6\u6269\u5c55\u5de5\u5177\uff08\u6bd4\u5982Swig\u3001Cython\uff09\uff0c\n\u5728\u4f60\u4f7f\u7528\u5b83\u4eec\u4f20\u9012\u5b57\u7b26\u4e32\u7ed9C\u4ee3\u7801\u65f6\u8981\u5148\u597d\u597d\u5b66\u4e60\u76f8\u5e94\u7684\u4e1c\u897f\u4e86\u3002"
      ]
    },
    {
      "cell_type": "markdown",
      "metadata": {},
      "source": [
        "## 15.14 \u4f20\u9012Unicode\u5b57\u7b26\u4e32\u7ed9C\u51fd\u6570\u5e93\n"
      ]
    },
    {
      "cell_type": "markdown",
      "metadata": {},
      "source": [
        "### \u95ee\u9898\n"
      ]
    },
    {
      "cell_type": "markdown",
      "metadata": {},
      "source": [
        "\u4f60\u8981\u5199\u4e00\u4e2a\u6269\u5c55\u6a21\u5757\uff0c\u9700\u8981\u5c06\u4e00\u4e2aPython\u5b57\u7b26\u4e32\u4f20\u9012\u7ed9C\u7684\u67d0\u4e2a\u5e93\u51fd\u6570\uff0c\u4f46\u662f\u8fd9\u4e2a\u51fd\u6570\u4e0d\u77e5\u9053\u8be5\u600e\u4e48\u5904\u7406Unicode\u3002"
      ]
    },
    {
      "cell_type": "markdown",
      "metadata": {},
      "source": [
        "### \u89e3\u51b3\u65b9\u6848\n"
      ]
    },
    {
      "cell_type": "markdown",
      "metadata": {},
      "source": [
        "\u8fd9\u91cc\u6211\u4eec\u9700\u8981\u8003\u8651\u5f88\u591a\u7684\u95ee\u9898\uff0c\u4f46\u662f\u6700\u4e3b\u8981\u7684\u95ee\u9898\u662f\u73b0\u5b58\u7684C\u51fd\u6570\u5e93\u5e76\u4e0d\u7406\u89e3Python\u7684\u539f\u751fUnicode\u8868\u793a\u3002\n\u56e0\u6b64\uff0c\u4f60\u7684\u6311\u6218\u662f\u5c06Python\u5b57\u7b26\u4e32\u8f6c\u6362\u4e3a\u4e00\u4e2a\u80fd\u88abC\u7406\u89e3\u7684\u5f62\u5f0f\u3002"
      ]
    },
    {
      "cell_type": "markdown",
      "metadata": {},
      "source": [
        "\u4e3a\u4e86\u6f14\u793a\u7684\u76ee\u7684\uff0c\u4e0b\u9762\u6709\u4e24\u4e2aC\u51fd\u6570\uff0c\u7528\u6765\u64cd\u4f5c\u5b57\u7b26\u4e32\u6570\u636e\u5e76\u8f93\u51fa\u5b83\u6765\u8c03\u8bd5\u548c\u6d4b\u8bd5\u3002\n\u4e00\u4e2a\u4f7f\u7528\u5f62\u5f0f\u4e3a char *, int \u5f62\u5f0f\u7684\u5b57\u8282\uff0c\n\u800c\u53e6\u4e00\u4e2a\u4f7f\u7528\u5f62\u5f0f\u4e3a wchar_t *, int \u7684\u5bbd\u5b57\u7b26\u5f62\u5f0f\uff1a"
      ]
    },
    {
      "cell_type": "code",
      "execution_count": null,
      "metadata": {},
      "outputs": [],
      "source": [
        "void print_chars(char *s, int len) {\n  int n = 0;\n\n  while (n < len) {\n    printf(\"%2x \", (unsigned char) s[n]);\n    n++;\n  }\n  printf(\"\\n\");\n}\n\nvoid print_wchars(wchar_t *s, int len) {\n  int n = 0;\n  while (n < len) {\n    printf(\"%x \", s[n]);\n    n++;\n  }\n  printf(\"\\n\");\n}"
      ]
    },
    {
      "cell_type": "markdown",
      "metadata": {},
      "source": [
        "\u5bf9\u4e8e\u9762\u5411\u5b57\u8282\u7684\u51fd\u6570 print_chars() \uff0c\u4f60\u9700\u8981\u5c06Python\u5b57\u7b26\u4e32\u8f6c\u6362\u4e3a\u4e00\u4e2a\u5408\u9002\u7684\u7f16\u7801\u6bd4\u5982UTF-8.\n\u4e0b\u9762\u662f\u4e00\u4e2a\u8fd9\u6837\u7684\u6269\u5c55\u51fd\u6570\u4f8b\u5b50\uff1a"
      ]
    },
    {
      "cell_type": "code",
      "execution_count": null,
      "metadata": {},
      "outputs": [],
      "source": [
        "static PyObject *py_print_chars(PyObject *self, PyObject *args) {\n  char *s;\n  Py_ssize_t  len;\n\n  if (!PyArg_ParseTuple(args, \"s#\", &s, &len)) {\n    return NULL;\n  }\n  print_chars(s, len);\n  Py_RETURN_NONE;\n}"
      ]
    },
    {
      "cell_type": "markdown",
      "metadata": {},
      "source": [
        "\u5bf9\u4e8e\u90a3\u4e9b\u9700\u8981\u5904\u7406\u673a\u5668\u672c\u5730 wchar_t \u7c7b\u578b\u7684\u5e93\u51fd\u6570\uff0c\u4f60\u53ef\u4ee5\u50cf\u4e0b\u9762\u8fd9\u6837\u7f16\u5199\u6269\u5c55\u4ee3\u7801\uff1a"
      ]
    },
    {
      "cell_type": "code",
      "execution_count": null,
      "metadata": {},
      "outputs": [],
      "source": [
        "static PyObject *py_print_wchars(PyObject *self, PyObject *args) {\n  wchar_t *s;\n  Py_ssize_t  len;\n\n  if (!PyArg_ParseTuple(args, \"u#\", &s, &len)) {\n    return NULL;\n  }\n  print_wchars(s,len);\n  Py_RETURN_NONE;\n}"
      ]
    },
    {
      "cell_type": "markdown",
      "metadata": {},
      "source": [
        "\u4e0b\u9762\u662f\u4e00\u4e2a\u4ea4\u4e92\u4f1a\u8bdd\u6765\u6f14\u793a\u8fd9\u4e2a\u51fd\u6570\u662f\u5982\u4f55\u5de5\u4f5c\u7684\uff1a"
      ]
    },
    {
      "cell_type": "code",
      "execution_count": null,
      "metadata": {},
      "outputs": [],
      "source": [
        "s = 'Spicy Jalape\\u00f1o'\nprint_chars(s)"
      ]
    },
    {
      "cell_type": "code",
      "execution_count": null,
      "metadata": {},
      "outputs": [],
      "source": [
        "print_wchars(s)"
      ]
    },
    {
      "cell_type": "markdown",
      "metadata": {},
      "source": [
        "\u4ed4\u7ec6\u89c2\u5bdf\u8fd9\u4e2a\u9762\u5411\u5b57\u8282\u7684\u51fd\u6570 print_chars() \u662f\u600e\u6837\u63a5\u53d7UTF-8\u7f16\u7801\u6570\u636e\u7684\uff0c\n\u4ee5\u53ca print_wchars() \u662f\u600e\u6837\u63a5\u53d7Unicode\u7f16\u7801\u503c\u7684"
      ]
    },
    {
      "cell_type": "markdown",
      "metadata": {},
      "source": [
        "### \u8ba8\u8bba\n"
      ]
    },
    {
      "cell_type": "markdown",
      "metadata": {},
      "source": [
        "\u5728\u7ee7\u7eed\u672c\u8282\u4e4b\u524d\uff0c\u4f60\u5e94\u8be5\u9996\u5148\u5b66\u4e60\u4f60\u8bbf\u95ee\u7684C\u51fd\u6570\u5e93\u7684\u7279\u5f81\u3002\n\u5bf9\u4e8e\u5f88\u591aC\u51fd\u6570\u5e93\uff0c\u901a\u5e38\u4f20\u9012\u5b57\u8282\u800c\u4e0d\u662f\u5b57\u7b26\u4e32\u4f1a\u6bd4\u8f83\u597d\u4e9b\u3002\u8981\u8fd9\u6837\u505a\uff0c\u8bf7\u4f7f\u7528\u5982\u4e0b\u7684\u8f6c\u6362\u4ee3\u7801\uff1a"
      ]
    },
    {
      "cell_type": "code",
      "execution_count": null,
      "metadata": {},
      "outputs": [],
      "source": [
        "static PyObject *py_print_chars(PyObject *self, PyObject *args) {\n  char *s;\n  Py_ssize_t  len;\n\n  /* accepts bytes, bytearray, or other byte-like object */\n  if (!PyArg_ParseTuple(args, \"y#\", &s, &len)) {\n    return NULL;\n  }\n  print_chars(s, len);\n  Py_RETURN_NONE;\n}"
      ]
    },
    {
      "cell_type": "markdown",
      "metadata": {},
      "source": [
        "\u5982\u679c\u4f60\u4ecd\u7136\u8fd8\u662f\u60f3\u8981\u4f20\u9012\u5b57\u7b26\u4e32\uff0c\n\u4f60\u9700\u8981\u77e5\u9053Python 3\u53ef\u4f7f\u7528\u4e00\u4e2a\u5408\u9002\u7684\u5b57\u7b26\u4e32\u8868\u793a\uff0c\n\u5b83\u5e76\u4e0d\u76f4\u63a5\u6620\u5c04\u5230\u4f7f\u7528\u6807\u51c6\u7c7b\u578b char * \u6216 wchar_t * \uff08\u66f4\u591a\u7ec6\u8282\u53c2\u8003PEP 393\uff09\u7684C\u51fd\u6570\u5e93\u3002\n\u56e0\u6b64\uff0c\u8981\u5728C\u4e2d\u8868\u793a\u8fd9\u4e2a\u5b57\u7b26\u4e32\u6570\u636e\uff0c\u4e00\u4e9b\u8f6c\u6362\u8fd8\u662f\u5fc5\u987b\u8981\u7684\u3002\n\u5728 PyArg_ParseTuple() \u4e2d\u4f7f\u7528\u201ds#\u201d \u548c\u201du#\u201d\u683c\u5f0f\u5316\u7801\u53ef\u4ee5\u5b89\u5168\u7684\u6267\u884c\u8fd9\u6837\u7684\u8f6c\u6362\u3002"
      ]
    },
    {
      "cell_type": "markdown",
      "metadata": {},
      "source": [
        "\u4e0d\u8fc7\u8fd9\u79cd\u8f6c\u6362\u6709\u4e2a\u7f3a\u70b9\u5c31\u662f\u5b83\u53ef\u80fd\u4f1a\u5bfc\u81f4\u539f\u59cb\u5b57\u7b26\u4e32\u5bf9\u8c61\u7684\u5c3a\u5bf8\u589e\u5927\u3002\n\u4e00\u65e6\u8f6c\u6362\u8fc7\u540e\uff0c\u4f1a\u6709\u4e00\u4e2a\u8f6c\u6362\u6570\u636e\u7684\u590d\u5236\u9644\u52a0\u5230\u539f\u59cb\u5b57\u7b26\u4e32\u5bf9\u8c61\u4e0a\u9762\uff0c\u4e4b\u540e\u53ef\u4ee5\u88ab\u91cd\u7528\u3002\n\u4f60\u53ef\u4ee5\u89c2\u5bdf\u4e0b\u8fd9\u79cd\u6548\u679c\uff1a"
      ]
    },
    {
      "cell_type": "code",
      "execution_count": null,
      "metadata": {},
      "outputs": [],
      "source": [
        "import sys\ns = 'Spicy Jalape\\u00f1o'\nsys.getsizeof(s)"
      ]
    },
    {
      "cell_type": "code",
      "execution_count": null,
      "metadata": {},
      "outputs": [],
      "source": [
        "print_chars(s)"
      ]
    },
    {
      "cell_type": "code",
      "execution_count": null,
      "metadata": {},
      "outputs": [],
      "source": [
        "sys.getsizeof(s)"
      ]
    },
    {
      "cell_type": "code",
      "execution_count": null,
      "metadata": {},
      "outputs": [],
      "source": [
        "print_wchars(s)"
      ]
    },
    {
      "cell_type": "code",
      "execution_count": null,
      "metadata": {},
      "outputs": [],
      "source": [
        "sys.getsizeof(s)"
      ]
    },
    {
      "cell_type": "markdown",
      "metadata": {},
      "source": [
        "\u5bf9\u4e8e\u5c11\u91cf\u7684\u5b57\u7b26\u4e32\u5bf9\u8c61\uff0c\u53ef\u80fd\u6ca1\u4ec0\u4e48\u5f71\u54cd\uff0c\n\u4f46\u662f\u5982\u679c\u4f60\u9700\u8981\u5728\u6269\u5c55\u4e2d\u5904\u7406\u5927\u91cf\u7684\u6587\u672c\uff0c\u4f60\u53ef\u80fd\u60f3\u907f\u514d\u8fd9\u4e2a\u635f\u8017\u4e86\u3002\n\u4e0b\u9762\u662f\u4e00\u4e2a\u4fee\u8ba2\u7248\u672c\u53ef\u4ee5\u907f\u514d\u8fd9\u79cd\u5185\u5b58\u635f\u8017\uff1a"
      ]
    },
    {
      "cell_type": "code",
      "execution_count": null,
      "metadata": {},
      "outputs": [],
      "source": [
        "static PyObject *py_print_chars(PyObject *self, PyObject *args) {\n  PyObject *obj, *bytes;\n  char *s;\n  Py_ssize_t   len;\n\n  if (!PyArg_ParseTuple(args, \"U\", &obj)) {\n    return NULL;\n  }\n  bytes = PyUnicode_AsUTF8String(obj);\n  PyBytes_AsStringAndSize(bytes, &s, &len);\n  print_chars(s, len);\n  Py_DECREF(bytes);\n  Py_RETURN_NONE;\n}"
      ]
    },
    {
      "cell_type": "markdown",
      "metadata": {},
      "source": [
        "\u800c\u5bf9 wchar_t \u7684\u5904\u7406\u65f6\u60f3\u8981\u907f\u514d\u5185\u5b58\u635f\u8017\u5c31\u66f4\u52a0\u96be\u529e\u4e86\u3002\n\u5728\u5185\u90e8\uff0cPython\u4f7f\u7528\u6700\u9ad8\u6548\u7684\u8868\u793a\u6765\u5b58\u50a8\u5b57\u7b26\u4e32\u3002\n\u4f8b\u5982\uff0c\u53ea\u5305\u542bASCII\u7684\u5b57\u7b26\u4e32\u88ab\u5b58\u50a8\u4e3a\u5b57\u8282\u6570\u7ec4\uff0c\n\u800c\u5305\u542b\u8303\u56f4\u4eceU+0000\u5230U+FFFF\u7684\u5b57\u7b26\u7684\u5b57\u7b26\u4e32\u4f7f\u7528\u53cc\u5b57\u8282\u8868\u793a\u3002\n\u7531\u4e8e\u5bf9\u4e8e\u6570\u636e\u7684\u8868\u793a\u5f62\u5f0f\u4e0d\u662f\u5355\u4e00\u7684\uff0c\u4f60\u4e0d\u80fd\u5c06\u5185\u90e8\u6570\u7ec4\u8f6c\u6362\u4e3a wchar_t * \u7136\u540e\u671f\u671b\u5b83\u80fd\u6b63\u786e\u7684\u5de5\u4f5c\u3002\n\u4f60\u5e94\u8be5\u521b\u5efa\u4e00\u4e2a wchar_t \u6570\u7ec4\u5e76\u5411\u5176\u4e2d\u590d\u5236\u6587\u672c\u3002\nPyArg_ParseTuple() \u7684\u201du#\u201d\u683c\u5f0f\u7801\u53ef\u4ee5\u5e2e\u52a9\u4f60\u9ad8\u6548\u7684\u5b8c\u6210\u5b83\uff08\u5b83\u5c06\u590d\u5236\u7ed3\u679c\u9644\u52a0\u5230\u5b57\u7b26\u4e32\u5bf9\u8c61\u4e0a\uff09\u3002"
      ]
    },
    {
      "cell_type": "markdown",
      "metadata": {},
      "source": [
        "\u5982\u679c\u4f60\u60f3\u907f\u514d\u957f\u65f6\u95f4\u5185\u5b58\u635f\u8017\uff0c\u4f60\u552f\u4e00\u7684\u9009\u62e9\u5c31\u662f\u590d\u5236Unicode\u6570\u636e\u61c2\u554a\u4e00\u4e2a\u4e34\u65f6\u7684\u6570\u7ec4\uff0c\n\u5c06\u5b83\u4f20\u9012\u7ed9C\u51fd\u6570\uff0c\u7136\u540e\u56de\u6536\u8fd9\u4e2a\u6570\u7ec4\u7684\u5185\u5b58\u3002\u4e0b\u9762\u662f\u4e00\u4e2a\u53ef\u80fd\u7684\u5b9e\u73b0\uff1a"
      ]
    },
    {
      "cell_type": "code",
      "execution_count": null,
      "metadata": {},
      "outputs": [],
      "source": [
        "static PyObject *py_print_wchars(PyObject *self, PyObject *args) {\n  PyObject *obj;\n  wchar_t *s;\n  Py_ssize_t len;\n\n  if (!PyArg_ParseTuple(args, \"U\", &obj)) {\n    return NULL;\n  }\n  if ((s = PyUnicode_AsWideCharString(obj, &len)) == NULL) {\n    return NULL;\n  }\n  print_wchars(s, len);\n  PyMem_Free(s);\n  Py_RETURN_NONE;\n}"
      ]
    },
    {
      "cell_type": "markdown",
      "metadata": {},
      "source": [
        "\u5728\u8fd9\u4e2a\u5b9e\u73b0\u4e2d\uff0cPyUnicode_AsWideCharString() \u521b\u5efa\u4e00\u4e2a\u4e34\u65f6\u7684wchar_t\u7f13\u51b2\u5e76\u590d\u5236\u6570\u636e\u8fdb\u53bb\u3002\n\u8fd9\u4e2a\u7f13\u51b2\u88ab\u4f20\u9012\u7ed9C\u7136\u540e\u88ab\u91ca\u653e\u6389\u3002\n\u4f46\u662f\u6211\u5199\u8fd9\u672c\u4e66\u7684\u65f6\u5019\uff0c\u8fd9\u91cc\u53ef\u80fd\u6709\u4e2abug\uff0c\u540e\u9762\u7684Python\u95ee\u9898\u9875\u6709\u4ecb\u7ecd\u3002"
      ]
    },
    {
      "cell_type": "markdown",
      "metadata": {},
      "source": [
        "\u5982\u679c\u4f60\u77e5\u9053C\u51fd\u6570\u5e93\u9700\u8981\u7684\u5b57\u8282\u7f16\u7801\u5e76\u4e0d\u662fUTF-8\uff0c\n\u4f60\u53ef\u4ee5\u5f3a\u5236Python\u4f7f\u7528\u6269\u5c55\u7801\u6765\u6267\u884c\u6b63\u786e\u7684\u8f6c\u6362\uff0c\u5c31\u50cf\u4e0b\u9762\u8fd9\u6837\uff1a"
      ]
    },
    {
      "cell_type": "code",
      "execution_count": null,
      "metadata": {},
      "outputs": [],
      "source": [
        "static PyObject *py_print_chars(PyObject *self, PyObject *args) {\n  char *s = 0;\n  int   len;\n  if (!PyArg_ParseTuple(args, \"es#\", \"encoding-name\", &s, &len)) {\n    return NULL;\n  }\n  print_chars(s, len);\n  PyMem_Free(s);\n  Py_RETURN_NONE;\n}"
      ]
    },
    {
      "cell_type": "markdown",
      "metadata": {},
      "source": [
        "\u6700\u540e\uff0c\u5982\u679c\u4f60\u60f3\u76f4\u63a5\u5904\u7406Unicode\u5b57\u7b26\u4e32\uff0c\u4e0b\u9762\u7684\u662f\u4f8b\u5b50\uff0c\u6f14\u793a\u4e86\u5e95\u5c42\u64cd\u4f5c\u8bbf\u95ee\uff1a"
      ]
    },
    {
      "cell_type": "code",
      "execution_count": null,
      "metadata": {},
      "outputs": [],
      "source": [
        "static PyObject *py_print_wchars(PyObject *self, PyObject *args) {\n  PyObject *obj;\n  int n, len;\n  int kind;\n  void *data;\n\n  if (!PyArg_ParseTuple(args, \"U\", &obj)) {\n    return NULL;\n  }\n  if (PyUnicode_READY(obj) < 0) {\n    return NULL;\n  }\n\n  len = PyUnicode_GET_LENGTH(obj);\n  kind = PyUnicode_KIND(obj);\n  data = PyUnicode_DATA(obj);\n\n  for (n = 0; n < len; n++) {\n    Py_UCS4 ch = PyUnicode_READ(kind, data, n);\n    printf(\"%x \", ch);\n  }\n  printf(\"\\n\");\n  Py_RETURN_NONE;\n}"
      ]
    },
    {
      "cell_type": "markdown",
      "metadata": {},
      "source": [
        "\u5728\u8fd9\u4e2a\u4ee3\u7801\u4e2d\uff0cPyUnicode_KIND() \u548c PyUnicode_DATA()\n\u8fd9\u4e24\u4e2a\u5b8f\u548cUnicode\u7684\u53ef\u53d8\u5bbd\u5ea6\u5b58\u50a8\u6709\u5173\uff0c\u8fd9\u4e2a\u5728PEP 393\u4e2d\u6709\u63cf\u8ff0\u3002\nkind \u53d8\u91cf\u7f16\u7801\u5e95\u5c42\u5b58\u50a8\uff088\u4f4d\u300116\u4f4d\u621632\u4f4d\uff09\u4ee5\u53ca\u6307\u5411\u7f13\u5b58\u7684\u6570\u636e\u6307\u9488\u76f8\u5173\u7684\u4fe1\u606f\u3002\n\u5728\u5b9e\u9645\u60c5\u51b5\u4e2d\uff0c\u4f60\u5e76\u4e0d\u9700\u8981\u77e5\u9053\u4efb\u4f55\u8ddf\u8fd9\u4e9b\u503c\u6709\u5173\u7684\u4e1c\u897f\uff0c\n\u53ea\u9700\u8981\u5728\u63d0\u53d6\u5b57\u7b26\u7684\u65f6\u5019\u5c06\u5b83\u4eec\u4f20\u7ed9 PyUnicode_READ() \u5b8f\u3002"
      ]
    },
    {
      "cell_type": "markdown",
      "metadata": {},
      "source": [
        "\u8fd8\u6709\u6700\u540e\u51e0\u53e5\uff1a\u5f53\u4ecePython\u4f20\u9012Unicode\u5b57\u7b26\u4e32\u7ed9C\u7684\u65f6\u5019\uff0c\u4f60\u5e94\u8be5\u5c3d\u91cf\u7b80\u5355\u70b9\u3002\n\u5982\u679c\u6709UTF-8\u548c\u5bbd\u5b57\u7b26\u4e24\u79cd\u9009\u62e9\uff0c\u8bf7\u9009\u62e9UTF-8.\n\u5bf9UTF-8\u7684\u652f\u6301\u66f4\u52a0\u666e\u904d\u4e00\u4e9b\uff0c\u4e5f\u4e0d\u5bb9\u6613\u72af\u9519\uff0c\u89e3\u91ca\u5668\u4e5f\u80fd\u652f\u6301\u7684\u66f4\u597d\u4e9b\u3002\n\u6700\u540e\uff0c\u786e\u4fdd\u4f60\u4ed4\u7ec6\u9605\u8bfb\u4e86 \u5173\u4e8e\u5904\u7406Unicode\u7684\u76f8\u5173\u6587\u6863"
      ]
    },
    {
      "cell_type": "markdown",
      "metadata": {},
      "source": [
        "## 15.15 C\u5b57\u7b26\u4e32\u8f6c\u6362\u4e3aPython\u5b57\u7b26\u4e32\n"
      ]
    },
    {
      "cell_type": "markdown",
      "metadata": {},
      "source": [
        "### \u95ee\u9898\n"
      ]
    },
    {
      "cell_type": "markdown",
      "metadata": {},
      "source": [
        "\u600e\u6837\u5c06C\u4e2d\u7684\u5b57\u7b26\u4e32\u8f6c\u6362\u4e3aPython\u5b57\u8282\u6216\u4e00\u4e2a\u5b57\u7b26\u4e32\u5bf9\u8c61\uff1f"
      ]
    },
    {
      "cell_type": "markdown",
      "metadata": {},
      "source": [
        "### \u89e3\u51b3\u65b9\u6848\n"
      ]
    },
    {
      "cell_type": "markdown",
      "metadata": {},
      "source": [
        "C\u5b57\u7b26\u4e32\u4f7f\u7528\u4e00\u5bf9 char * \u548c int \u6765\u8868\u793a\uff0c\n\u4f60\u9700\u8981\u51b3\u5b9a\u5b57\u7b26\u4e32\u5230\u5e95\u662f\u7528\u4e00\u4e2a\u539f\u59cb\u5b57\u8282\u5b57\u7b26\u4e32\u8fd8\u662f\u4e00\u4e2aUnicode\u5b57\u7b26\u4e32\u6765\u8868\u793a\u3002\n\u5b57\u8282\u5bf9\u8c61\u53ef\u4ee5\u50cf\u4e0b\u9762\u8fd9\u6837\u4f7f\u7528 Py_BuildValue() \u6765\u6784\u5efa\uff1a"
      ]
    },
    {
      "cell_type": "code",
      "execution_count": null,
      "metadata": {},
      "outputs": [],
      "source": [
        "char *s;     /* Pointer to C string data */\nint   len;   /* Length of data */\n\n/* Make a bytes object */\nPyObject *obj = Py_BuildValue(\"y#\", s, len);"
      ]
    },
    {
      "cell_type": "markdown",
      "metadata": {},
      "source": [
        "\u5982\u679c\u4f60\u8981\u521b\u5efa\u4e00\u4e2aUnicode\u5b57\u7b26\u4e32\uff0c\u5e76\u4e14\u4f60\u77e5\u9053 s \u6307\u5411\u4e86UTF-8\u7f16\u7801\u7684\u6570\u636e\uff0c\u53ef\u4ee5\u4f7f\u7528\u4e0b\u9762\u7684\u65b9\u5f0f\uff1a"
      ]
    },
    {
      "cell_type": "code",
      "execution_count": null,
      "metadata": {},
      "outputs": [],
      "source": [
        "PyObject *obj = Py_BuildValue(\"s#\", s, len);"
      ]
    },
    {
      "cell_type": "markdown",
      "metadata": {},
      "source": [
        "\u5982\u679c s \u4f7f\u7528\u5176\u4ed6\u7f16\u7801\u65b9\u5f0f\uff0c\u90a3\u4e48\u53ef\u4ee5\u50cf\u4e0b\u9762\u4f7f\u7528 PyUnicode_Decode() \u6765\u6784\u5efa\u4e00\u4e2a\u5b57\u7b26\u4e32\uff1a"
      ]
    },
    {
      "cell_type": "code",
      "execution_count": null,
      "metadata": {},
      "outputs": [],
      "source": [
        "PyObject *obj = PyUnicode_Decode(s, len, \"encoding\", \"errors\");\n\n/* Examples /*\nobj = PyUnicode_Decode(s, len, \"latin-1\", \"strict\");\nobj = PyUnicode_Decode(s, len, \"ascii\", \"ignore\");"
      ]
    },
    {
      "cell_type": "markdown",
      "metadata": {},
      "source": [
        "\u5982\u679c\u4f60\u6070\u597d\u6709\u4e00\u4e2a\u7528 wchar_t *, len \u5bf9\u8868\u793a\u7684\u5bbd\u5b57\u7b26\u4e32\uff0c\n\u6709\u51e0\u79cd\u9009\u62e9\u6027\u3002\u9996\u5148\u4f60\u53ef\u4ee5\u4f7f\u7528 Py_BuildValue() \uff1a"
      ]
    },
    {
      "cell_type": "code",
      "execution_count": null,
      "metadata": {},
      "outputs": [],
      "source": [
        "wchar_t *w;    /* Wide character string */\nint len;       /* Length */\n\nPyObject *obj = Py_BuildValue(\"u#\", w, len);"
      ]
    },
    {
      "cell_type": "markdown",
      "metadata": {},
      "source": [
        "\u53e6\u5916\uff0c\u4f60\u8fd8\u53ef\u4ee5\u4f7f\u7528 PyUnicode_FromWideChar() :"
      ]
    },
    {
      "cell_type": "code",
      "execution_count": null,
      "metadata": {},
      "outputs": [],
      "source": [
        "PyObject *obj = PyUnicode_FromWideChar(w, len);"
      ]
    },
    {
      "cell_type": "markdown",
      "metadata": {},
      "source": [
        "\u5bf9\u4e8e\u5bbd\u5b57\u7b26\u4e32\uff0c\u5e76\u6ca1\u6709\u5bf9\u5b57\u7b26\u6570\u636e\u8fdb\u884c\u89e3\u6790\u2014\u2014\u5b83\u88ab\u5047\u5b9a\u662f\u539f\u59cbUnicode\u7f16\u7801\u6307\u9488\uff0c\u53ef\u4ee5\u88ab\u76f4\u63a5\u8f6c\u6362\u6210Python\u3002"
      ]
    },
    {
      "cell_type": "markdown",
      "metadata": {},
      "source": [
        "### \u8ba8\u8bba\n"
      ]
    },
    {
      "cell_type": "markdown",
      "metadata": {},
      "source": [
        "\u5c06C\u4e2d\u7684\u5b57\u7b26\u4e32\u8f6c\u6362\u4e3aPython\u5b57\u7b26\u4e32\u9075\u5faa\u548cI/O\u540c\u6837\u7684\u539f\u5219\u3002\n\u4e5f\u5c31\u662f\u8bf4\uff0c\u6765\u81eaC\u4e2d\u7684\u6570\u636e\u5fc5\u987b\u6839\u636e\u4e00\u4e9b\u89e3\u7801\u5668\u88ab\u663e\u5f0f\u7684\u89e3\u7801\u4e3a\u4e00\u4e2a\u5b57\u7b26\u4e32\u3002\n\u901a\u5e38\u7f16\u7801\u683c\u5f0f\u5305\u62ecASCII\u3001Latin-1\u548cUTF-8.\n\u5982\u679c\u4f60\u5e76\u4e0d\u786e\u5b9a\u7f16\u7801\u65b9\u5f0f\u6216\u8005\u6570\u636e\u662f\u4e8c\u8fdb\u5236\u7684\uff0c\u4f60\u6700\u597d\u5c06\u5b57\u7b26\u4e32\u7f16\u7801\u6210\u5b57\u8282\u3002\n\u5f53\u6784\u9020\u4e00\u4e2a\u5bf9\u8c61\u7684\u65f6\u5019\uff0cPython\u901a\u5e38\u4f1a\u590d\u5236\u4f60\u63d0\u4f9b\u7684\u5b57\u7b26\u4e32\u6570\u636e\u3002\n\u5982\u679c\u6709\u5fc5\u8981\u7684\u8bdd\uff0c\u4f60\u9700\u8981\u5728\u540e\u9762\u53bb\u91ca\u653eC\u5b57\u7b26\u4e32\u3002\n\u540c\u65f6\uff0c\u4e3a\u4e86\u8ba9\u7a0b\u5e8f\u66f4\u52a0\u5065\u58ee\uff0c\u4f60\u5e94\u8be5\u540c\u65f6\u4f7f\u7528\u4e00\u4e2a\u6307\u9488\u548c\u4e00\u4e2a\u5927\u5c0f\u503c\uff0c\n\u800c\u4e0d\u662f\u4f9d\u8d56NULL\u7ed3\u5c3e\u6570\u636e\u6765\u521b\u5efa\u5b57\u7b26\u4e32\u3002"
      ]
    },
    {
      "cell_type": "markdown",
      "metadata": {},
      "source": [
        "## 15.16 \u4e0d\u786e\u5b9a\u7f16\u7801\u683c\u5f0f\u7684C\u5b57\u7b26\u4e32\n"
      ]
    },
    {
      "cell_type": "markdown",
      "metadata": {},
      "source": [
        "### \u95ee\u9898\n"
      ]
    },
    {
      "cell_type": "markdown",
      "metadata": {},
      "source": [
        "\u4f60\u8981\u5728C\u548cPython\u76f4\u63a5\u6765\u56de\u8f6c\u6362\u5b57\u7b26\u4e32\uff0c\u4f46\u662fC\u4e2d\u7684\u7f16\u7801\u683c\u5f0f\u5e76\u4e0d\u786e\u5b9a\u3002\n\u4f8b\u5982\uff0c\u53ef\u80fdC\u4e2d\u7684\u6570\u636e\u671f\u671b\u662fUTF-8\uff0c\u4f46\u662f\u5e76\u6ca1\u6709\u5f3a\u5236\u5b83\u5fc5\u987b\u662f\u3002\n\u4f60\u60f3\u7f16\u5199\u4ee3\u7801\u6765\u4ee5\u4e00\u79cd\u4f18\u96c5\u7684\u65b9\u5f0f\u5904\u7406\u8fd9\u4e9b\u4e0d\u5408\u683c\u6570\u636e\uff0c\u8fd9\u6837\u5c31\u4e0d\u4f1a\u8ba9Python\u5954\u6e83\u6216\u8005\u7834\u574f\u8fdb\u7a0b\u4e2d\u7684\u5b57\u7b26\u4e32\u6570\u636e\u3002"
      ]
    },
    {
      "cell_type": "markdown",
      "metadata": {},
      "source": [
        "### \u89e3\u51b3\u65b9\u6848\n"
      ]
    },
    {
      "cell_type": "markdown",
      "metadata": {},
      "source": [
        "\u4e0b\u9762\u662f\u4e00\u4e9bC\u7684\u6570\u636e\u548c\u4e00\u4e2a\u51fd\u6570\u6765\u6f14\u793a\u8fd9\u4e2a\u95ee\u9898\uff1a"
      ]
    },
    {
      "cell_type": "code",
      "execution_count": null,
      "metadata": {},
      "outputs": [],
      "source": [
        "/* Some dubious string data (malformed UTF-8) */\nconst char *sdata = \"Spicy Jalape\\xc3\\xb1o\\xae\";\nint slen = 16;\n\n/* Output character data */\nvoid print_chars(char *s, int len) {\n  int n = 0;\n  while (n < len) {\n    printf(\"%2x \", (unsigned char) s[n]);\n    n++;\n  }\n  printf(\"\\n\");\n}"
      ]
    },
    {
      "cell_type": "markdown",
      "metadata": {},
      "source": [
        "\u5728\u8fd9\u4e2a\u4ee3\u7801\u4e2d\uff0c\u5b57\u7b26\u4e32 sdata \u5305\u542b\u4e86UTF-8\u548c\u4e0d\u5408\u683c\u6570\u636e\u3002\n\u4e0d\u8fc7\uff0c\u5982\u679c\u7528\u6237\u5728C\u4e2d\u8c03\u7528 print_chars(sdata, slen) \uff0c\u5b83\u7f3a\u80fd\u6b63\u5e38\u5de5\u4f5c\u3002\n\u73b0\u5728\u5047\u8bbe\u4f60\u60f3\u5c06 sdata \u7684\u5185\u5bb9\u8f6c\u6362\u4e3a\u4e00\u4e2aPython\u5b57\u7b26\u4e32\u3002\n\u8fdb\u4e00\u6b65\u5047\u8bbe\u4f60\u5728\u540e\u9762\u8fd8\u60f3\u901a\u8fc7\u4e00\u4e2a\u6269\u5c55\u5c06\u90a3\u4e2a\u5b57\u7b26\u4e32\u4f20\u4e2a print_chars() \u51fd\u6570\u3002\n\u4e0b\u9762\u662f\u4e00\u79cd\u7528\u6765\u4fdd\u62a4\u539f\u59cb\u6570\u636e\u7684\u65b9\u6cd5\uff0c\u5c31\u7b97\u5b83\u7f16\u7801\u6709\u95ee\u9898\u3002"
      ]
    },
    {
      "cell_type": "code",
      "execution_count": null,
      "metadata": {},
      "outputs": [],
      "source": [
        "/* Return the C string back to Python */\nstatic PyObject *py_retstr(PyObject *self, PyObject *args) {\n  if (!PyArg_ParseTuple(args, \"\")) {\n    return NULL;\n  }\n  return PyUnicode_Decode(sdata, slen, \"utf-8\", \"surrogateescape\");\n}\n\n/* Wrapper for the print_chars() function */\nstatic PyObject *py_print_chars(PyObject *self, PyObject *args) {\n  PyObject *obj, *bytes;\n  char *s = 0;\n  Py_ssize_t   len;\n\n  if (!PyArg_ParseTuple(args, \"U\", &obj)) {\n    return NULL;\n  }\n\n  if ((bytes = PyUnicode_AsEncodedString(obj,\"utf-8\",\"surrogateescape\"))\n        == NULL) {\n    return NULL;\n  }\n  PyBytes_AsStringAndSize(bytes, &s, &len);\n  print_chars(s, len);\n  Py_DECREF(bytes);\n  Py_RETURN_NONE;\n}"
      ]
    },
    {
      "cell_type": "markdown",
      "metadata": {},
      "source": [
        "\u5982\u679c\u4f60\u5728Python\u4e2d\u5c1d\u8bd5\u8fd9\u4e9b\u51fd\u6570\uff0c\u4e0b\u9762\u662f\u8fd0\u884c\u6548\u679c\uff1a"
      ]
    },
    {
      "cell_type": "code",
      "execution_count": null,
      "metadata": {},
      "outputs": [],
      "source": [
        "s = retstr()\ns"
      ]
    },
    {
      "cell_type": "code",
      "execution_count": null,
      "metadata": {},
      "outputs": [],
      "source": [
        "print_chars(s)"
      ]
    },
    {
      "cell_type": "markdown",
      "metadata": {},
      "source": [
        "\u4ed4\u7ec6\u89c2\u5bdf\u7ed3\u679c\u4f60\u4f1a\u53d1\u73b0\uff0c\u4e0d\u5408\u683c\u5b57\u7b26\u4e32\u88ab\u7f16\u7801\u5230\u4e00\u4e2aPython\u5b57\u7b26\u4e32\u4e2d\uff0c\u5e76\u4e14\u5e76\u6ca1\u6709\u4ea7\u751f\u9519\u8bef\uff0c\n\u5e76\u4e14\u5f53\u5b83\u88ab\u56de\u4f20\u7ed9C\u7684\u65f6\u5019\uff0c\u88ab\u8f6c\u6362\u4e3a\u548c\u4e4b\u524d\u539f\u59cbC\u5b57\u7b26\u4e32\u4e00\u6837\u7684\u5b57\u8282\u3002"
      ]
    },
    {
      "cell_type": "markdown",
      "metadata": {},
      "source": [
        "### \u8ba8\u8bba\n"
      ]
    },
    {
      "cell_type": "markdown",
      "metadata": {},
      "source": [
        "\u672c\u8282\u5c55\u793a\u4e86\u5728\u6269\u5c55\u6a21\u5757\u4e2d\u5904\u7406\u5b57\u7b26\u4e32\u65f6\u4f1a\u914d\u5230\u7684\u4e00\u4e2a\u68d8\u624b\u53c8\u5f88\u607c\u706b\u7684\u95ee\u9898\u3002\n\u4e5f\u5c31\u662f\u8bf4\uff0c\u5728\u6269\u5c55\u4e2d\u7684C\u5b57\u7b26\u4e32\u53ef\u80fd\u4e0d\u4f1a\u4e25\u683c\u9075\u5faaPython\u6240\u671f\u671b\u7684Unicode\u7f16\u7801/\u89e3\u7801\u89c4\u5219\u3002\n\u56e0\u6b64\uff0c\u5f88\u53ef\u80fd\u4e00\u4e9b\u4e0d\u5408\u683cC\u6570\u636e\u4f20\u9012\u5230Python\u4e2d\u53bb\u3002\n\u4e00\u4e2a\u5f88\u597d\u7684\u4f8b\u5b50\u5c31\u662f\u6d89\u53ca\u5230\u5e95\u5c42\u7cfb\u7edf\u8c03\u7528\u6bd4\u5982\u6587\u4ef6\u540d\u8fd9\u6837\u7684\u5b57\u7b26\u4e32\u3002\n\u4f8b\u5982\uff0c\u5982\u679c\u4e00\u4e2a\u7cfb\u7edf\u8c03\u7528\u8fd4\u56de\u7ed9\u89e3\u91ca\u5668\u4e00\u4e2a\u635f\u574f\u7684\u5b57\u7b26\u4e32\uff0c\u4e0d\u80fd\u88ab\u6b63\u786e\u89e3\u7801\u7684\u65f6\u5019\u4f1a\u600e\u6837\u5462\uff1f"
      ]
    },
    {
      "cell_type": "markdown",
      "metadata": {},
      "source": [
        "\u4e00\u822c\u6765\u8bb2\uff0c\u53ef\u4ee5\u901a\u8fc7\u5236\u5b9a\u4e00\u4e9b\u9519\u8bef\u7b56\u7565\u6bd4\u5982\u4e25\u683c\u3001\u5ffd\u7565\u3001\u66ff\u4ee3\u6216\u5176\u4ed6\u7c7b\u4f3c\u7684\u6765\u5904\u7406Unicode\u9519\u8bef\u3002\n\u4e0d\u8fc7\uff0c\u8fd9\u4e9b\u7b56\u7565\u7684\u4e00\u4e2a\u7f3a\u70b9\u662f\u5b83\u4eec\u6c38\u4e45\u6027\u7834\u574f\u4e86\u539f\u59cb\u5b57\u7b26\u4e32\u7684\u5185\u5bb9\u3002\n\u4f8b\u5982\uff0c\u5982\u679c\u4f8b\u5b50\u4e2d\u7684\u4e0d\u5408\u683c\u6570\u636e\u4f7f\u7528\u8fd9\u4e9b\u7b56\u7565\u4e4b\u4e00\u89e3\u7801\uff0c\u4f60\u4f1a\u5f97\u5230\u4e0b\u9762\u8fd9\u6837\u7684\u7ed3\u679c\uff1a"
      ]
    },
    {
      "cell_type": "code",
      "execution_count": null,
      "metadata": {},
      "outputs": [],
      "source": [
        "raw = b'Spicy Jalape\\xc3\\xb1o\\xae'\nraw.decode('utf-8','ignore')"
      ]
    },
    {
      "cell_type": "code",
      "execution_count": null,
      "metadata": {},
      "outputs": [],
      "source": [
        "raw.decode('utf-8','replace')"
      ]
    },
    {
      "cell_type": "markdown",
      "metadata": {},
      "source": [
        "surrogateescape \u9519\u8bef\u5904\u7406\u7b56\u7565\u4f1a\u5c06\u6240\u6709\u4e0d\u53ef\u89e3\u7801\u5b57\u8282\u8f6c\u5316\u4e3a\u4e00\u4e2a\u4ee3\u7406\u5bf9\u7684\u4f4e\u4f4d\u5b57\u8282\uff08udcXX\u4e2dXX\u662f\u539f\u59cb\u5b57\u8282\u503c\uff09\u3002\n\u4f8b\u5982\uff1a"
      ]
    },
    {
      "cell_type": "code",
      "execution_count": null,
      "metadata": {},
      "outputs": [],
      "source": [
        "raw.decode('utf-8','surrogateescape')"
      ]
    },
    {
      "cell_type": "markdown",
      "metadata": {},
      "source": [
        "\u5355\u72ec\u7684\u4f4e\u4f4d\u4ee3\u7406\u5b57\u7b26\u6bd4\u5982 \\udcae \u5728Unicode\u4e2d\u662f\u975e\u6cd5\u7684\u3002\n\u56e0\u6b64\uff0c\u8fd9\u4e2a\u5b57\u7b26\u4e32\u5c31\u662f\u4e00\u4e2a\u975e\u6cd5\u8868\u793a\u3002\n\u5b9e\u9645\u4e0a\uff0c\u5982\u679c\u4f60\u5c06\u5b83\u4f20\u4e2a\u4e00\u4e2a\u6267\u884c\u8f93\u51fa\u7684\u51fd\u6570\uff0c\u4f60\u4f1a\u5f97\u5230\u4e00\u4e2a\u9519\u8bef\uff1a"
      ]
    },
    {
      "cell_type": "code",
      "execution_count": null,
      "metadata": {},
      "outputs": [],
      "source": [
        "s = raw.decode('utf-8', 'surrogateescape')\nprint(s)"
      ]
    },
    {
      "cell_type": "markdown",
      "metadata": {},
      "source": [
        "\u7136\u800c\uff0c\u5141\u8bb8\u4ee3\u7406\u8f6c\u6362\u7684\u5173\u952e\u70b9\u5728\u4e8e\u4eceC\u4f20\u7ed9Python\u53c8\u56de\u4f20\u7ed9C\u7684\u4e0d\u5408\u683c\u5b57\u7b26\u4e32\u4e0d\u4f1a\u6709\u4efb\u4f55\u6570\u636e\u4e22\u5931\u3002\n\u5f53\u8fd9\u4e2a\u5b57\u7b26\u4e32\u518d\u6b21\u4f7f\u7528 surrogateescape \u7f16\u7801\u65f6\uff0c\u4ee3\u7406\u5b57\u7b26\u4f1a\u8f6c\u6362\u56de\u539f\u59cb\u5b57\u8282\u3002\u4f8b\u5982\uff1a"
      ]
    },
    {
      "cell_type": "code",
      "execution_count": null,
      "metadata": {},
      "outputs": [],
      "source": [
        "s"
      ]
    },
    {
      "cell_type": "code",
      "execution_count": null,
      "metadata": {},
      "outputs": [],
      "source": [
        "s.encode('utf-8','surrogateescape')"
      ]
    },
    {
      "cell_type": "markdown",
      "metadata": {},
      "source": [
        "\u4f5c\u4e3a\u4e00\u822c\u51c6\u5219\uff0c\u6700\u597d\u907f\u514d\u4ee3\u7406\u7f16\u7801\u2014\u2014\u5982\u679c\u4f60\u6b63\u786e\u7684\u4f7f\u7528\u4e86\u7f16\u7801\uff0c\u90a3\u4e48\u4f60\u7684\u4ee3\u7801\u5c31\u503c\u5f97\u4fe1\u8d56\u3002\n\u4e0d\u8fc7\uff0c\u6709\u65f6\u5019\u786e\u5b9e\u4f1a\u51fa\u73b0\u4f60\u5e76\u4e0d\u80fd\u63a7\u5236\u6570\u636e\u7f16\u7801\u5e76\u4e14\u4f60\u53c8\u4e0d\u80fd\u5ffd\u7565\u6216\u66ff\u6362\u574f\u6570\u636e\uff0c\u56e0\u4e3a\u5176\u4ed6\u51fd\u6570\u53ef\u80fd\u4f1a\u7528\u5230\u5b83\u3002\n\u90a3\u4e48\u5c31\u53ef\u4ee5\u4f7f\u7528\u672c\u8282\u7684\u6280\u672f\u4e86\u3002"
      ]
    },
    {
      "cell_type": "markdown",
      "metadata": {},
      "source": [
        "\u6700\u540e\u4e00\u70b9\u8981\u6ce8\u610f\u7684\u662f\uff0cPython\u4e2d\u8bb8\u591a\u9762\u5411\u7cfb\u7edf\u7684\u51fd\u6570\uff0c\u7279\u522b\u662f\u548c\u6587\u4ef6\u540d\u3001\u73af\u5883\u53d8\u91cf\u548c\u547d\u4ee4\u884c\u53c2\u6570\u76f8\u5173\u7684\n\u90fd\u4f1a\u4f7f\u7528\u4ee3\u7406\u7f16\u7801\u3002\u4f8b\u5982\uff0c\u5982\u679c\u4f60\u4f7f\u7528\u50cf os.listdir() \u8fd9\u6837\u7684\u51fd\u6570\uff0c\n\u4f20\u5165\u4e00\u4e2a\u5305\u542b\u4e86\u4e0d\u53ef\u89e3\u7801\u6587\u4ef6\u540d\u7684\u76ee\u5f55\u7684\u8bdd\uff0c\u5b83\u4f1a\u8fd4\u56de\u4e00\u4e2a\u4ee3\u7406\u8f6c\u6362\u540e\u7684\u5b57\u7b26\u4e32\u3002\n\u53c2\u80035.15\u7684\u76f8\u5173\u7ae0\u8282\u3002"
      ]
    },
    {
      "cell_type": "markdown",
      "metadata": {},
      "source": [
        "PEP 383\n\u4e2d\u6709\u66f4\u591a\u5173\u4e8e\u672c\u673a\u63d0\u5230\u7684\u4ee5\u53ca\u548csurrogateescape\u9519\u8bef\u5904\u7406\u76f8\u5173\u7684\u4fe1\u606f\u3002"
      ]
    },
    {
      "cell_type": "markdown",
      "metadata": {},
      "source": [
        "## 15.17 \u4f20\u9012\u6587\u4ef6\u540d\u7ed9C\u6269\u5c55\n"
      ]
    },
    {
      "cell_type": "markdown",
      "metadata": {},
      "source": [
        "### \u95ee\u9898\n"
      ]
    },
    {
      "cell_type": "markdown",
      "metadata": {},
      "source": [
        "\u4f60\u9700\u8981\u5411C\u5e93\u51fd\u6570\u4f20\u9012\u6587\u4ef6\u540d\uff0c\u4f46\u662f\u9700\u8981\u786e\u4fdd\u6587\u4ef6\u540d\u6839\u636e\u7cfb\u7edf\u671f\u671b\u7684\u6587\u4ef6\u540d\u7f16\u7801\u65b9\u5f0f\u7f16\u7801\u8fc7\u3002"
      ]
    },
    {
      "cell_type": "markdown",
      "metadata": {},
      "source": [
        "### \u89e3\u51b3\u65b9\u6848\n"
      ]
    },
    {
      "cell_type": "markdown",
      "metadata": {},
      "source": [
        "\u5199\u4e00\u4e2a\u63a5\u53d7\u4e00\u4e2a\u6587\u4ef6\u540d\u4e3a\u53c2\u6570\u7684\u6269\u5c55\u51fd\u6570\uff0c\u5982\u4e0b\u8fd9\u6837\uff1a"
      ]
    },
    {
      "cell_type": "code",
      "execution_count": null,
      "metadata": {},
      "outputs": [],
      "source": [
        "static PyObject *py_get_filename(PyObject *self, PyObject *args) {\n  PyObject *bytes;\n  char *filename;\n  Py_ssize_t len;\n  if (!PyArg_ParseTuple(args,\"O&\", PyUnicode_FSConverter, &bytes)) {\n    return NULL;\n  }\n  PyBytes_AsStringAndSize(bytes, &filename, &len);\n  /* Use filename */\n  ...\n\n  /* Cleanup and return */\n  Py_DECREF(bytes)\n  Py_RETURN_NONE;\n}"
      ]
    },
    {
      "cell_type": "markdown",
      "metadata": {},
      "source": [
        "\u5982\u679c\u4f60\u5df2\u7ecf\u6709\u4e86\u4e00\u4e2a PyObject * \uff0c\u5e0c\u671b\u5c06\u5176\u8f6c\u6362\u6210\u4e00\u4e2a\u6587\u4ef6\u540d\uff0c\u53ef\u4ee5\u50cf\u4e0b\u9762\u8fd9\u6837\u505a\uff1a"
      ]
    },
    {
      "cell_type": "code",
      "execution_count": null,
      "metadata": {},
      "outputs": [],
      "source": [
        "PyObject *obj;    /* Object with the filename */\nPyObject *bytes;\nchar *filename;\nPy_ssize_t len;\n\nbytes = PyUnicode_EncodeFSDefault(obj);\nPyBytes_AsStringAndSize(bytes, &filename, &len);\n/* Use filename */\n...\n\n/* Cleanup */\nPy_DECREF(bytes);\n\nIf you need to return a filename back to Python, use the following code:\n\n/* Turn a filename into a Python object */\n\nchar *filename;       /* Already set */\nint   filename_len;   /* Already set */\n\nPyObject *obj = PyUnicode_DecodeFSDefaultAndSize(filename, filename_len);"
      ]
    },
    {
      "cell_type": "markdown",
      "metadata": {},
      "source": [
        "### \u8ba8\u8bba\n"
      ]
    },
    {
      "cell_type": "markdown",
      "metadata": {},
      "source": [
        "\u4ee5\u53ef\u79fb\u690d\u65b9\u5f0f\u6765\u5904\u7406\u6587\u4ef6\u540d\u662f\u4e00\u4e2a\u5f88\u68d8\u624b\u7684\u95ee\u9898\uff0c\u6700\u540e\u4ea4\u7531Python\u6765\u5904\u7406\u3002\n\u5982\u679c\u4f60\u5728\u6269\u5c55\u4ee3\u7801\u4e2d\u4f7f\u7528\u672c\u8282\u7684\u6280\u672f\uff0c\u6587\u4ef6\u540d\u7684\u5904\u7406\u65b9\u5f0f\u548c\u548cPython\u4e2d\u662f\u4e00\u81f4\u7684\u3002\n\u5305\u62ec\u7f16\u7801/\u754c\u9762\u5b57\u8282\uff0c\u5904\u7406\u574f\u5b57\u7b26\uff0c\u4ee3\u7406\u8f6c\u6362\u548c\u5176\u4ed6\u590d\u6742\u60c5\u51b5\u3002"
      ]
    },
    {
      "cell_type": "markdown",
      "metadata": {},
      "source": [
        "## 15.18 \u4f20\u9012\u5df2\u6253\u5f00\u7684\u6587\u4ef6\u7ed9C\u6269\u5c55\n"
      ]
    },
    {
      "cell_type": "markdown",
      "metadata": {},
      "source": [
        "### \u95ee\u9898\n"
      ]
    },
    {
      "cell_type": "markdown",
      "metadata": {},
      "source": [
        "\u4f60\u5728Python\u4e2d\u6709\u4e00\u4e2a\u6253\u5f00\u7684\u6587\u4ef6\u5bf9\u8c61\uff0c\u4f46\u662f\u9700\u8981\u5c06\u5b83\u4f20\u7ed9\u8981\u4f7f\u7528\u8fd9\u4e2a\u6587\u4ef6\u7684C\u6269\u5c55\u3002"
      ]
    },
    {
      "cell_type": "markdown",
      "metadata": {},
      "source": [
        "### \u89e3\u51b3\u65b9\u6848\n"
      ]
    },
    {
      "cell_type": "markdown",
      "metadata": {},
      "source": [
        "\u8981\u5c06\u4e00\u4e2a\u6587\u4ef6\u8f6c\u6362\u4e3a\u4e00\u4e2a\u6574\u578b\u7684\u6587\u4ef6\u63cf\u8ff0\u7b26\uff0c\u4f7f\u7528 PyFile_FromFd() \uff0c\u5982\u4e0b\uff1a"
      ]
    },
    {
      "cell_type": "code",
      "execution_count": null,
      "metadata": {},
      "outputs": [],
      "source": [
        "PyObject *fobj;     /* File object (already obtained somehow) */\nint fd = PyObject_AsFileDescriptor(fobj);\nif (fd < 0) {\n   return NULL;\n}"
      ]
    },
    {
      "cell_type": "markdown",
      "metadata": {},
      "source": [
        "\u7ed3\u679c\u6587\u4ef6\u63cf\u8ff0\u7b26\u662f\u901a\u8fc7\u8c03\u7528 fobj \u4e2d\u7684 fileno() \u65b9\u6cd5\u83b7\u5f97\u7684\u3002\n\u56e0\u6b64\uff0c\u4efb\u4f55\u4ee5\u8fd9\u79cd\u65b9\u5f0f\u66b4\u9732\u7ed9\u4e00\u4e2a\u63cf\u8ff0\u5668\u7684\u5bf9\u8c61\u90fd\u9002\u7528\uff08\u6bd4\u5982\u6587\u4ef6\u3001\u5957\u63a5\u5b57\u7b49\uff09\u3002\n\u4e00\u65e6\u4f60\u6709\u4e86\u8fd9\u4e2a\u63cf\u8ff0\u5668\uff0c\u5b83\u5c31\u80fd\u88ab\u4f20\u9012\u7ed9\u591a\u4e2a\u4f4e\u7ea7\u7684\u53ef\u5904\u7406\u6587\u4ef6\u7684C\u51fd\u6570\u3002"
      ]
    },
    {
      "cell_type": "markdown",
      "metadata": {},
      "source": [
        "\u5982\u679c\u4f60\u9700\u8981\u8f6c\u6362\u4e00\u4e2a\u6574\u578b\u6587\u4ef6\u63cf\u8ff0\u7b26\u4e3a\u4e00\u4e2aPython\u5bf9\u8c61\uff0c\u9002\u7528\u4e0b\u9762\u7684 PyFile_FromFd() :"
      ]
    },
    {
      "cell_type": "code",
      "execution_count": null,
      "metadata": {},
      "outputs": [],
      "source": [
        "int fd;     /* Existing file descriptor (already open) */\nPyObject *fobj = PyFile_FromFd(fd, \"filename\",\"r\",-1,NULL,NULL,NULL,1);"
      ]
    },
    {
      "cell_type": "markdown",
      "metadata": {},
      "source": [
        "PyFile_FromFd() \u7684\u53c2\u6570\u5bf9\u5e94\u5185\u7f6e\u7684 open() \u51fd\u6570\u3002\nNULL\u8868\u793a\u7f16\u7801\u3001\u9519\u8bef\u548c\u6362\u884c\u53c2\u6570\u4f7f\u7528\u9ed8\u8ba4\u503c\u3002"
      ]
    },
    {
      "cell_type": "markdown",
      "metadata": {},
      "source": [
        "### \u8ba8\u8bba\n"
      ]
    },
    {
      "cell_type": "markdown",
      "metadata": {},
      "source": [
        "\u5982\u679c\u5c06Python\u4e2d\u7684\u6587\u4ef6\u5bf9\u8c61\u4f20\u7ed9C\uff0c\u6709\u4e00\u4e9b\u6ce8\u610f\u4e8b\u9879\u3002\n\u9996\u5148\uff0cPython\u901a\u8fc7 io \u6a21\u5757\u6267\u884c\u81ea\u5df1\u7684I/O\u7f13\u51b2\u3002\n\u5728\u4f20\u9012\u4efb\u4f55\u7c7b\u578b\u7684\u6587\u4ef6\u63cf\u8ff0\u7b26\u7ed9C\u4e4b\u524d\uff0c\u4f60\u90fd\u8981\u9996\u5148\u5728\u76f8\u5e94\u6587\u4ef6\u5bf9\u8c61\u4e0a\u5237\u65b0I/O\u7f13\u51b2\u3002\n\u4e0d\u7136\u7684\u8bdd\uff0c\u4f60\u4f1a\u6253\u4e71\u6587\u4ef6\u7cfb\u7edf\u4e0a\u9762\u7684\u6570\u636e\u3002"
      ]
    },
    {
      "cell_type": "markdown",
      "metadata": {},
      "source": [
        "\u5176\u6b21\uff0c\u4f60\u9700\u8981\u7279\u522b\u6ce8\u610f\u6587\u4ef6\u7684\u5f52\u5c5e\u8005\u4ee5\u53ca\u5173\u95ed\u6587\u4ef6\u7684\u804c\u8d23\u3002\n\u5982\u679c\u4e00\u4e2a\u6587\u4ef6\u63cf\u8ff0\u7b26\u88ab\u4f20\u7ed9C\uff0c\u4f46\u662f\u5728Python\u4e2d\u8fd8\u5728\u88ab\u4f7f\u7528\u7740\uff0c\u4f60\u9700\u8981\u786e\u4fddC\u6ca1\u6709\u610f\u5916\u7684\u5173\u95ed\u5b83\u3002\n\u7c7b\u4f3c\u7684\uff0c\u5982\u679c\u4e00\u4e2a\u6587\u4ef6\u63cf\u8ff0\u7b26\u88ab\u8f6c\u6362\u4e3a\u4e00\u4e2aPython\u6587\u4ef6\u5bf9\u8c61\uff0c\u4f60\u9700\u8981\u6e05\u695a\u8c01\u5e94\u8be5\u53bb\u5173\u95ed\u5b83\u3002\nPyFile_FromFd() \u7684\u6700\u540e\u4e00\u4e2a\u53c2\u6570\u88ab\u8bbe\u7f6e\u62101\uff0c\u7528\u6765\u6307\u51faPython\u5e94\u8be5\u5173\u95ed\u8fd9\u4e2a\u6587\u4ef6\u3002"
      ]
    },
    {
      "cell_type": "markdown",
      "metadata": {},
      "source": [
        "\u5982\u679c\u4f60\u9700\u8981\u4eceC\u6807\u51c6I/O\u5e93\u4e2d\u4f7f\u7528\u5982\u3000fdopen() \u51fd\u6570\u6765\u521b\u5efa\u4e0d\u540c\u7c7b\u578b\u7684\u6587\u4ef6\u5bf9\u8c61\u6bd4\u5982 FILE * \u5bf9\u8c61\uff0c\n\u4f60\u9700\u8981\u7279\u522b\u5c0f\u5fc3\u4e86\u3002\u8fd9\u6837\u505a\u4f1a\u5728I/O\u5806\u6808\u4e2d\u4ea7\u751f\u4e24\u4e2a\u5b8c\u5168\u4e0d\u540c\u7684I/O\u7f13\u51b2\u5c42\n\uff08\u4e00\u4e2a\u662f\u6765\u81eaPython\u7684 io \u6a21\u5757\uff0c\u53e6\u4e00\u4e2a\u6765\u81eaC\u7684 stdio \uff09\u3002\n\u50cfC\u4e2d\u7684 fclose() \u4f1a\u5173\u95edPython\u8981\u4f7f\u7528\u7684\u6587\u4ef6\u3002\n\u5982\u679c\u8ba9\u4f60\u9009\u7684\u8bdd\uff0c\u4f60\u5e94\u8be5\u4f1a\u9009\u62e9\u53bb\u6784\u5efa\u4e00\u4e2a\u6269\u5c55\u4ee3\u7801\u6765\u5904\u7406\u5e95\u5c42\u7684\u6574\u578b\u6587\u4ef6\u63cf\u8ff0\u7b26\uff0c\n\u800c\u4e0d\u662f\u4f7f\u7528\u6765\u81ea<stdio.h>\u7684\u9ad8\u5c42\u62bd\u8c61\u529f\u80fd\u3002"
      ]
    },
    {
      "cell_type": "markdown",
      "metadata": {},
      "source": [
        "## 15.19 \u4eceC\u8bed\u8a00\u4e2d\u8bfb\u53d6\u7c7b\u6587\u4ef6\u5bf9\u8c61\n"
      ]
    },
    {
      "cell_type": "markdown",
      "metadata": {},
      "source": [
        "### \u95ee\u9898\n"
      ]
    },
    {
      "cell_type": "markdown",
      "metadata": {},
      "source": [
        "\u4f60\u8981\u5199C\u6269\u5c55\u6765\u8bfb\u53d6\u6765\u81ea\u4efb\u4f55Python\u7c7b\u6587\u4ef6\u5bf9\u8c61\u4e2d\u7684\u6570\u636e\uff08\u6bd4\u5982\u666e\u901a\u6587\u4ef6\u3001StringIO\u5bf9\u8c61\u7b49\uff09\u3002"
      ]
    },
    {
      "cell_type": "markdown",
      "metadata": {},
      "source": [
        "### \u89e3\u51b3\u65b9\u6848\n"
      ]
    },
    {
      "cell_type": "markdown",
      "metadata": {},
      "source": [
        "\u8981\u8bfb\u53d6\u4e00\u4e2a\u7c7b\u6587\u4ef6\u5bf9\u8c61\u7684\u6570\u636e\uff0c\u4f60\u9700\u8981\u91cd\u590d\u8c03\u7528 read() \u65b9\u6cd5\uff0c\u7136\u540e\u6b63\u786e\u7684\u89e3\u7801\u83b7\u5f97\u7684\u6570\u636e\u3002"
      ]
    },
    {
      "cell_type": "markdown",
      "metadata": {},
      "source": [
        "\u4e0b\u9762\u662f\u4e00\u4e2aC\u6269\u5c55\u51fd\u6570\u4f8b\u5b50\uff0c\u4ec5\u4ec5\u53ea\u662f\u8bfb\u53d6\u4e00\u4e2a\u7c7b\u6587\u4ef6\u5bf9\u8c61\u4e2d\u7684\u6240\u6709\u6570\u636e\u5e76\u5c06\u5176\u8f93\u51fa\u5230\u6807\u51c6\u8f93\u51fa\uff1a"
      ]
    },
    {
      "cell_type": "code",
      "execution_count": null,
      "metadata": {},
      "outputs": [],
      "source": [
        "#define CHUNK_SIZE 8192\n\n/* Consume a \"file-like\" object and write bytes to stdout */\nstatic PyObject *py_consume_file(PyObject *self, PyObject *args) {\n  PyObject *obj;\n  PyObject *read_meth;\n  PyObject *result = NULL;\n  PyObject *read_args;\n\n  if (!PyArg_ParseTuple(args,\"O\", &obj)) {\n    return NULL;\n  }\n\n  /* Get the read method of the passed object */\n  if ((read_meth = PyObject_GetAttrString(obj, \"read\")) == NULL) {\n    return NULL;\n  }\n\n  /* Build the argument list to read() */\n  read_args = Py_BuildValue(\"(i)\", CHUNK_SIZE);\n  while (1) {\n    PyObject *data;\n    PyObject *enc_data;\n    char *buf;\n    Py_ssize_t len;\n\n    /* Call read() */\n    if ((data = PyObject_Call(read_meth, read_args, NULL)) == NULL) {\n      goto final;\n    }\n\n    /* Check for EOF */\n    if (PySequence_Length(data) == 0) {\n      Py_DECREF(data);\n      break;\n    }\n\n    /* Encode Unicode as Bytes for C */\n    if ((enc_data=PyUnicode_AsEncodedString(data,\"utf-8\",\"strict\"))==NULL) {\n      Py_DECREF(data);\n      goto final;\n    }\n\n    /* Extract underlying buffer data */\n    PyBytes_AsStringAndSize(enc_data, &buf, &len);\n\n    /* Write to stdout (replace with something more useful) */\n    write(1, buf, len);\n\n    /* Cleanup */\n    Py_DECREF(enc_data);\n    Py_DECREF(data);\n  }\n  result = Py_BuildValue(\"\");\n\n final:\n  /* Cleanup */\n  Py_DECREF(read_meth);\n  Py_DECREF(read_args);\n  return result;\n}"
      ]
    },
    {
      "cell_type": "markdown",
      "metadata": {},
      "source": [
        "\u8981\u6d4b\u8bd5\u8fd9\u4e2a\u4ee3\u7801\uff0c\u5148\u6784\u9020\u4e00\u4e2a\u7c7b\u6587\u4ef6\u5bf9\u8c61\u6bd4\u5982\u4e00\u4e2aStringIO\u5b9e\u4f8b\uff0c\u7136\u540e\u4f20\u9012\u8fdb\u6765\uff1a"
      ]
    },
    {
      "cell_type": "code",
      "execution_count": null,
      "metadata": {},
      "outputs": [],
      "source": [
        "import io\nf = io.StringIO('Hello\\nWorld\\n')\nimport sample\nsample.consume_file(f)"
      ]
    },
    {
      "cell_type": "markdown",
      "metadata": {},
      "source": [
        "### \u8ba8\u8bba\n"
      ]
    },
    {
      "cell_type": "markdown",
      "metadata": {},
      "source": [
        "\u548c\u666e\u901a\u7cfb\u7edf\u6587\u4ef6\u4e0d\u540c\u7684\u662f\uff0c\u4e00\u4e2a\u7c7b\u6587\u4ef6\u5bf9\u8c61\u5e76\u4e0d\u9700\u8981\u4f7f\u7528\u4f4e\u7ea7\u6587\u4ef6\u63cf\u8ff0\u7b26\u6765\u6784\u5efa\u3002\n\u56e0\u6b64\uff0c\u4f60\u4e0d\u80fd\u4f7f\u7528\u666e\u901a\u7684C\u5e93\u51fd\u6570\u6765\u8bbf\u95ee\u5b83\u3002\n\u4f60\u9700\u8981\u4f7f\u7528Python\u7684C API\u6765\u50cf\u666e\u901a\u6587\u4ef6\u7c7b\u4f3c\u7684\u90a3\u6837\u64cd\u4f5c\u7c7b\u6587\u4ef6\u5bf9\u8c61\u3002"
      ]
    },
    {
      "cell_type": "markdown",
      "metadata": {},
      "source": [
        "\u5728\u6211\u4eec\u7684\u89e3\u51b3\u65b9\u6848\u4e2d\uff0cread() \u65b9\u6cd5\u4ece\u88ab\u4f20\u9012\u7684\u5bf9\u8c61\u4e2d\u63d0\u53d6\u51fa\u6765\u3002\n\u4e00\u4e2a\u53c2\u6570\u5217\u8868\u88ab\u6784\u5efa\u7136\u540e\u4e0d\u65ad\u7684\u88ab\u4f20\u7ed9 PyObject_Call() \u6765\u8c03\u7528\u8fd9\u4e2a\u65b9\u6cd5\u3002\n\u8981\u68c0\u67e5\u6587\u4ef6\u672b\u5c3e\uff08EOF\uff09\uff0c\u4f7f\u7528\u4e86 PySequence_Length() \u6765\u67e5\u770b\u662f\u5426\u8fd4\u56de\u5bf9\u8c61\u957f\u5ea6\u4e3a0."
      ]
    },
    {
      "cell_type": "markdown",
      "metadata": {},
      "source": [
        "\u5bf9\u4e8e\u6240\u6709\u7684I/O\u64cd\u4f5c\uff0c\u4f60\u9700\u8981\u5173\u6ce8\u5e95\u5c42\u7684\u7f16\u7801\u683c\u5f0f\uff0c\u8fd8\u6709\u5b57\u8282\u548cUnicode\u4e4b\u524d\u7684\u533a\u522b\u3002\n\u672c\u8282\u6f14\u793a\u4e86\u5982\u4f55\u4ee5\u6587\u672c\u6a21\u5f0f\u8bfb\u53d6\u4e00\u4e2a\u6587\u4ef6\u5e76\u5c06\u7ed3\u679c\u6587\u672c\u89e3\u7801\u4e3a\u4e00\u4e2a\u5b57\u8282\u7f16\u7801\uff0c\u8fd9\u6837\u5728C\u4e2d\u5c31\u53ef\u4ee5\u4f7f\u7528\u5b83\u4e86\u3002\n\u5982\u679c\u4f60\u60f3\u4ee5\u4e8c\u8fdb\u5236\u6a21\u5f0f\u8bfb\u53d6\u6587\u4ef6\uff0c\u53ea\u9700\u8981\u4fee\u6539\u4e00\u70b9\u70b9\u5373\u53ef\uff0c\u4f8b\u5982\uff1a"
      ]
    },
    {
      "cell_type": "code",
      "execution_count": null,
      "metadata": {},
      "outputs": [],
      "source": [
        "...\n/* Call read() */\nif ((data = PyObject_Call(read_meth, read_args, NULL)) == NULL) {\n  goto final;\n}\n\n/* Check for EOF */\nif (PySequence_Length(data) == 0) {\n  Py_DECREF(data);\n  break;\n}\nif (!PyBytes_Check(data)) {\n  Py_DECREF(data);\n  PyErr_SetString(PyExc_IOError, \"File must be in binary mode\");\n  goto final;\n}\n\n/* Extract underlying buffer data */\nPyBytes_AsStringAndSize(data, &buf, &len);\n..."
      ]
    },
    {
      "cell_type": "markdown",
      "metadata": {},
      "source": [
        "\u672c\u8282\u6700\u96be\u7684\u5730\u65b9\u5728\u4e8e\u5982\u4f55\u8fdb\u884c\u6b63\u786e\u7684\u5185\u5b58\u7ba1\u7406\u3002\n\u5f53\u5904\u7406 PyObject * \u53d8\u91cf\u7684\u65f6\u5019\uff0c\u9700\u8981\u6ce8\u610f\u7ba1\u7406\u5f15\u7528\u8ba1\u6570\u4ee5\u53ca\u5728\u4e0d\u9700\u8981\u7684\u53d8\u91cf\u7684\u65f6\u5019\u6e05\u7406\u5b83\u4eec\u7684\u503c\u3002\n\u5bf9 Py_DECREF() \u7684\u8c03\u7528\u5c31\u662f\u6765\u505a\u8fd9\u4e2a\u7684\u3002"
      ]
    },
    {
      "cell_type": "markdown",
      "metadata": {},
      "source": [
        "\u672c\u8282\u4ee3\u7801\u4ee5\u4e00\u79cd\u901a\u7528\u65b9\u5f0f\u7f16\u5199\uff0c\u56e0\u6b64\u4ed6\u4e5f\u80fd\u9002\u7528\u4e8e\u5176\u4ed6\u7684\u6587\u4ef6\u64cd\u4f5c\uff0c\u6bd4\u5982\u5199\u6587\u4ef6\u3002\n\u4f8b\u5982\uff0c\u8981\u5199\u6570\u636e\uff0c\u53ea\u9700\u8981\u83b7\u53d6\u7c7b\u6587\u4ef6\u5bf9\u8c61\u7684 write() \u65b9\u6cd5\uff0c\u5c06\u6570\u636e\u8f6c\u6362\u4e3a\u5408\u9002\u7684Python\u5bf9\u8c61\n\uff08\u5b57\u8282\u6216Unicode\uff09\uff0c\u7136\u540e\u8c03\u7528\u8be5\u65b9\u6cd5\u5c06\u8f93\u5165\u5199\u5165\u5230\u6587\u4ef6\u3002"
      ]
    },
    {
      "cell_type": "markdown",
      "metadata": {},
      "source": [
        "\u6700\u540e\uff0c\u5c3d\u7ba1\u7c7b\u6587\u4ef6\u5bf9\u8c61\u901a\u5e38\u8fd8\u63d0\u4f9b\u5176\u4ed6\u65b9\u6cd5\uff08\u6bd4\u5982readline(), read_info()\uff09\uff0c\n\u6211\u4eec\u6700\u597d\u53ea\u4f7f\u7528\u57fa\u672c\u7684 read() \u548c write() \u65b9\u6cd5\u3002\n\u5728\u5199C\u6269\u5c55\u7684\u65f6\u5019\uff0c\u80fd\u7b80\u5355\u5c31\u5c3d\u91cf\u7b80\u5355\u3002"
      ]
    },
    {
      "cell_type": "markdown",
      "metadata": {},
      "source": [
        "## 15.20 \u5904\u7406C\u8bed\u8a00\u4e2d\u7684\u53ef\u8fed\u4ee3\u5bf9\u8c61\n"
      ]
    },
    {
      "cell_type": "markdown",
      "metadata": {},
      "source": [
        "### \u95ee\u9898\n"
      ]
    },
    {
      "cell_type": "markdown",
      "metadata": {},
      "source": [
        "\u4f60\u60f3\u5199C\u6269\u5c55\u4ee3\u7801\u5904\u7406\u6765\u81ea\u4efb\u4f55\u53ef\u8fed\u4ee3\u5bf9\u8c61\u5982\u5217\u8868\u3001\u5143\u7ec4\u3001\u6587\u4ef6\u6216\u751f\u6210\u5668\u4e2d\u7684\u5143\u7d20\u3002"
      ]
    },
    {
      "cell_type": "markdown",
      "metadata": {},
      "source": [
        "### \u89e3\u51b3\u65b9\u6848\n"
      ]
    },
    {
      "cell_type": "markdown",
      "metadata": {},
      "source": [
        "\u4e0b\u9762\u662f\u4e00\u4e2aC\u6269\u5c55\u51fd\u6570\u4f8b\u5b50\uff0c\u6f14\u793a\u4e86\u600e\u6837\u5904\u7406\u53ef\u8fed\u4ee3\u5bf9\u8c61\u4e2d\u7684\u5143\u7d20\uff1a"
      ]
    },
    {
      "cell_type": "code",
      "execution_count": null,
      "metadata": {},
      "outputs": [],
      "source": [
        "static PyObject *py_consume_iterable(PyObject *self, PyObject *args) {\n  PyObject *obj;\n  PyObject *iter;\n  PyObject *item;\n\n  if (!PyArg_ParseTuple(args, \"O\", &obj)) {\n    return NULL;\n  }\n  if ((iter = PyObject_GetIter(obj)) == NULL) {\n    return NULL;\n  }\n  while ((item = PyIter_Next(iter)) != NULL) {\n    /* Use item */\n    ...\n    Py_DECREF(item);\n  }\n\n  Py_DECREF(iter);\n  return Py_BuildValue(\"\");\n}"
      ]
    },
    {
      "cell_type": "markdown",
      "metadata": {},
      "source": [
        "### \u8ba8\u8bba\n"
      ]
    },
    {
      "cell_type": "markdown",
      "metadata": {},
      "source": [
        "\u672c\u8282\u4e2d\u7684\u4ee3\u7801\u548cPython\u4e2d\u5bf9\u5e94\u4ee3\u7801\u7c7b\u4f3c\u3002\nPyObject_GetIter() \u7684\u8c03\u7528\u548c\u8c03\u7528 iter() \u4e00\u6837\u53ef\u83b7\u5f97\u4e00\u4e2a\u8fed\u4ee3\u5668\u3002\nPyIter_Next() \u51fd\u6570\u8c03\u7528 next \u65b9\u6cd5\u8fd4\u56de\u4e0b\u4e00\u4e2a\u5143\u7d20\u6216NULL(\u5982\u679c\u6ca1\u6709\u5143\u7d20\u4e86)\u3002\n\u8981\u6ce8\u610f\u6b63\u786e\u7684\u5185\u5b58\u7ba1\u7406\u2014\u2014 Py_DECREF() \u9700\u8981\u540c\u65f6\u5728\u4ea7\u751f\u7684\u5143\u7d20\u548c\u8fed\u4ee3\u5668\u5bf9\u8c61\u672c\u8eab\u4e0a\u540c\u65f6\u88ab\u8c03\u7528\uff0c\n\u4ee5\u907f\u514d\u51fa\u73b0\u5185\u5b58\u6cc4\u9732\u3002"
      ]
    },
    {
      "cell_type": "markdown",
      "metadata": {},
      "source": [
        "## 15.21 \u8bca\u65ad\u5206\u6bb5\u9519\u8bef\n"
      ]
    },
    {
      "cell_type": "markdown",
      "metadata": {},
      "source": [
        "### \u95ee\u9898\n"
      ]
    },
    {
      "cell_type": "markdown",
      "metadata": {},
      "source": [
        "\u89e3\u91ca\u5668\u56e0\u4e3a\u67d0\u4e2a\u5206\u6bb5\u9519\u8bef\u3001\u603b\u7ebf\u9519\u8bef\u3001\u8bbf\u95ee\u8d8a\u754c\u6216\u5176\u4ed6\u81f4\u547d\u9519\u8bef\u800c\u7a81\u7136\u95f4\u5954\u6e83\u3002\n\u4f60\u60f3\u83b7\u5f97Python\u5806\u6808\u4fe1\u606f\uff0c\u4ece\u800c\u627e\u51fa\u5728\u53d1\u751f\u9519\u8bef\u7684\u65f6\u5019\u4f60\u7684\u7a0b\u5e8f\u8fd0\u884c\u70b9\u3002"
      ]
    },
    {
      "cell_type": "markdown",
      "metadata": {},
      "source": [
        "### \u89e3\u51b3\u65b9\u6848\n"
      ]
    },
    {
      "cell_type": "markdown",
      "metadata": {},
      "source": [
        "faulthandler \u6a21\u5757\u80fd\u88ab\u7528\u6765\u5e2e\u4f60\u89e3\u51b3\u8fd9\u4e2a\u95ee\u9898\u3002\n\u5728\u4f60\u7684\u7a0b\u5e8f\u4e2d\u5f15\u5165\u4e0b\u5217\u4ee3\u7801\uff1a"
      ]
    },
    {
      "cell_type": "code",
      "execution_count": null,
      "metadata": {},
      "outputs": [],
      "source": [
        "import faulthandler\nfaulthandler.enable()"
      ]
    },
    {
      "cell_type": "markdown",
      "metadata": {},
      "source": [
        "\u53e6\u5916\u8fd8\u53ef\u4ee5\u50cf\u4e0b\u9762\u8fd9\u6837\u4f7f\u7528 -Xfaulthandler \u6765\u8fd0\u884cPython\uff1a"
      ]
    },
    {
      "cell_type": "code",
      "execution_count": null,
      "metadata": {},
      "outputs": [],
      "source": [
        "bash % python3 -Xfaulthandler program.py"
      ]
    },
    {
      "cell_type": "markdown",
      "metadata": {},
      "source": [
        "\u6700\u540e\uff0c\u4f60\u53ef\u4ee5\u8bbe\u7f6e PYTHONFAULTHANDLER \u73af\u5883\u53d8\u91cf\u3002\n\u5f00\u542ffaulthandler\u540e\uff0c\u5728C\u6269\u5c55\u4e2d\u7684\u81f4\u547d\u9519\u8bef\u4f1a\u5bfc\u81f4\u4e00\u4e2aPython\u9519\u8bef\u5806\u6808\u88ab\u6253\u5370\u51fa\u6765\u3002\u4f8b\u5982\uff1a"
      ]
    },
    {
      "cell_type": "code",
      "execution_count": null,
      "metadata": {},
      "outputs": [],
      "source": [
        "Fatal Python error: Segmentation fault\n\nCurrent thread 0x00007fff71106cc0:\n  File \"example.py\", line 6 in foo\n  File \"example.py\", line 10 in bar\n  File \"example.py\", line 14 in spam\n  File \"example.py\", line 19 in <module>\nSegmentation fault"
      ]
    },
    {
      "cell_type": "markdown",
      "metadata": {},
      "source": [
        "\u5c3d\u7ba1\u8fd9\u4e2a\u5e76\u4e0d\u80fd\u544a\u8bc9\u4f60C\u4ee3\u7801\u4e2d\u54ea\u91cc\u51fa\u9519\u4e86\uff0c\u4f46\u662f\u81f3\u5c11\u80fd\u544a\u8bc9\u4f60Python\u91cc\u9762\u54ea\u91cc\u6709\u9519\u3002"
      ]
    },
    {
      "cell_type": "markdown",
      "metadata": {},
      "source": [
        "### \u8ba8\u8bba\n"
      ]
    },
    {
      "cell_type": "markdown",
      "metadata": {},
      "source": [
        "faulthandler\u4f1a\u5728Python\u4ee3\u7801\u6267\u884c\u51fa\u9519\u7684\u65f6\u5019\u5411\u4f60\u5c55\u793a\u8ddf\u8e2a\u4fe1\u606f\u3002\n\u81f3\u5c11\uff0c\u5b83\u4f1a\u544a\u8bc9\u4f60\u51fa\u9519\u65f6\u88ab\u8c03\u7528\u7684\u6700\u9876\u7ea7\u6269\u5c55\u51fd\u6570\u662f\u54ea\u4e2a\u3002\n\u5728pdb\u548c\u5176\u4ed6Python\u8c03\u8bd5\u5668\u7684\u5e2e\u52a9\u4e0b\uff0c\u4f60\u5c31\u80fd\u8ffd\u6839\u6eaf\u6e90\u627e\u5230\u9519\u8bef\u6240\u5728\u7684\u4f4d\u7f6e\u4e86\u3002"
      ]
    },
    {
      "cell_type": "markdown",
      "metadata": {},
      "source": [
        "faulthandler\u4e0d\u4f1a\u544a\u8bc9\u4f60\u4efb\u4f55C\u8bed\u8a00\u4e2d\u7684\u9519\u8bef\u4fe1\u606f\u3002\n\u56e0\u6b64\uff0c\u4f60\u9700\u8981\u4f7f\u7528\u4f20\u7edf\u7684C\u8c03\u8bd5\u5668\uff0c\u6bd4\u5982gdb\u3002\n\u4e0d\u8fc7\uff0c\u5728faulthandler\u8ffd\u8e2a\u4fe1\u606f\u53ef\u4ee5\u8ba9\u4f60\u53bb\u5224\u65ad\u4ece\u54ea\u91cc\u7740\u624b\u3002\n\u8fd8\u8981\u6ce8\u610f\u7684\u662f\u5728C\u4e2d\u67d0\u4e9b\u7c7b\u578b\u7684\u9519\u8bef\u53ef\u80fd\u4e0d\u592a\u5bb9\u6613\u6062\u590d\u3002\n\u4f8b\u5982\uff0c\u5982\u679c\u4e00\u4e2aC\u6269\u5c55\u4e22\u5f03\u4e86\u7a0b\u5e8f\u5806\u6808\u4fe1\u606f\uff0c\u5b83\u4f1a\u8ba9faulthandler\u4e0d\u53ef\u7528\uff0c\n\u90a3\u4e48\u4f60\u4e5f\u5f97\u4e0d\u5230\u4efb\u4f55\u8f93\u51fa\uff08\u9664\u4e86\u7a0b\u5e8f\u5954\u6e83\u5916\uff09\u3002"
      ]
    }
  ],
  "metadata": {
    "kernelspec": {
      "display_name": "Python 3",
      "language": "python",
      "name": "python3"
    },
    "language_info": {
      "codemirror_mode": {
        "name": "ipython",
        "version": 3
      },
      "file_extension": ".py",
      "mimetype": "text/x-python",
      "name": "python",
      "nbconvert_exporter": "python",
      "pygments_lexer": "ipython3",
      "version": "3.7.1"
    },
    "toc": {
      "base_numbering": 1,
      "nav_menu": {},
      "number_sections": true,
      "sideBar": true,
      "skip_h1_title": true,
      "title_cell": "Table of Contents",
      "title_sidebar": "Contents",
      "toc_cell": false,
      "toc_position": {},
      "toc_section_display": true,
      "toc_window_display": true
    }
  },
  "nbformat": 4,
  "nbformat_minor": 2
}