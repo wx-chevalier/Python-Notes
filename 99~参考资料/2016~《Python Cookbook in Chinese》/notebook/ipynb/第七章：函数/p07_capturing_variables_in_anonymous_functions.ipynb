{
  "cells": [
    {
      "cell_type": "markdown",
      "metadata": {},
      "source": [
        "## 7.7 \u533f\u540d\u51fd\u6570\u6355\u83b7\u53d8\u91cf\u503c\n"
      ]
    },
    {
      "cell_type": "markdown",
      "metadata": {},
      "source": [
        "### \u95ee\u9898\n"
      ]
    },
    {
      "cell_type": "markdown",
      "metadata": {},
      "source": [
        "\u4f60\u7528lambda\u5b9a\u4e49\u4e86\u4e00\u4e2a\u533f\u540d\u51fd\u6570\uff0c\u5e76\u60f3\u5728\u5b9a\u4e49\u65f6\u6355\u83b7\u5230\u67d0\u4e9b\u53d8\u91cf\u7684\u503c\u3002"
      ]
    },
    {
      "cell_type": "markdown",
      "metadata": {},
      "source": [
        "### \u89e3\u51b3\u65b9\u6848\n"
      ]
    },
    {
      "cell_type": "markdown",
      "metadata": {},
      "source": [
        "\u5148\u770b\u4e0b\u4e0b\u9762\u4ee3\u7801\u7684\u6548\u679c\uff1a"
      ]
    },
    {
      "cell_type": "code",
      "execution_count": null,
      "metadata": {},
      "outputs": [],
      "source": [
        "x = 10\na = lambda y: x + y\nx = 20\nb = lambda y: x + y"
      ]
    },
    {
      "cell_type": "markdown",
      "metadata": {},
      "source": [
        "\u73b0\u5728\u6211\u95ee\u4f60\uff0ca(10)\u548cb(10)\u8fd4\u56de\u7684\u7ed3\u679c\u662f\u4ec0\u4e48\uff1f\u5982\u679c\u4f60\u8ba4\u4e3a\u7ed3\u679c\u662f20\u548c30\uff0c\u90a3\u4e48\u4f60\u5c31\u9519\u4e86\uff1a"
      ]
    },
    {
      "cell_type": "code",
      "execution_count": null,
      "metadata": {},
      "outputs": [],
      "source": [
        "a(10)"
      ]
    },
    {
      "cell_type": "code",
      "execution_count": null,
      "metadata": {},
      "outputs": [],
      "source": [
        "b(10)"
      ]
    },
    {
      "cell_type": "markdown",
      "metadata": {},
      "source": [
        "\u8fd9\u5176\u4e2d\u7684\u5965\u5999\u5728\u4e8elambda\u8868\u8fbe\u5f0f\u4e2d\u7684x\u662f\u4e00\u4e2a\u81ea\u7531\u53d8\u91cf\uff0c\n\u5728\u8fd0\u884c\u65f6\u7ed1\u5b9a\u503c\uff0c\u800c\u4e0d\u662f\u5b9a\u4e49\u65f6\u5c31\u7ed1\u5b9a\uff0c\u8fd9\u8ddf\u51fd\u6570\u7684\u9ed8\u8ba4\u503c\u53c2\u6570\u5b9a\u4e49\u662f\u4e0d\u540c\u7684\u3002\n\u56e0\u6b64\uff0c\u5728\u8c03\u7528\u8fd9\u4e2alambda\u8868\u8fbe\u5f0f\u7684\u65f6\u5019\uff0cx\u7684\u503c\u662f\u6267\u884c\u65f6\u7684\u503c\u3002\u4f8b\u5982\uff1a"
      ]
    },
    {
      "cell_type": "code",
      "execution_count": null,
      "metadata": {},
      "outputs": [],
      "source": [
        "x = 15\na(10)"
      ]
    },
    {
      "cell_type": "code",
      "execution_count": null,
      "metadata": {},
      "outputs": [],
      "source": [
        "x = 3\na(10)"
      ]
    },
    {
      "cell_type": "markdown",
      "metadata": {},
      "source": [
        "\u5982\u679c\u4f60\u60f3\u8ba9\u67d0\u4e2a\u533f\u540d\u51fd\u6570\u5728\u5b9a\u4e49\u65f6\u5c31\u6355\u83b7\u5230\u503c\uff0c\u53ef\u4ee5\u5c06\u90a3\u4e2a\u53c2\u6570\u503c\u5b9a\u4e49\u6210\u9ed8\u8ba4\u53c2\u6570\u5373\u53ef\uff0c\u5c31\u50cf\u4e0b\u9762\u8fd9\u6837\uff1a"
      ]
    },
    {
      "cell_type": "code",
      "execution_count": null,
      "metadata": {},
      "outputs": [],
      "source": [
        "x = 10\na = lambda y, x=x: x + y\nx = 20\nb = lambda y, x=x: x + y\na(10)"
      ]
    },
    {
      "cell_type": "code",
      "execution_count": null,
      "metadata": {},
      "outputs": [],
      "source": [
        "b(10)"
      ]
    },
    {
      "cell_type": "markdown",
      "metadata": {},
      "source": [
        "### \u8ba8\u8bba\n"
      ]
    },
    {
      "cell_type": "markdown",
      "metadata": {},
      "source": [
        "\u5728\u8fd9\u91cc\u5217\u51fa\u6765\u7684\u95ee\u9898\u662f\u65b0\u624b\u5f88\u5bb9\u6613\u72af\u7684\u9519\u8bef\uff0c\u6709\u4e9b\u65b0\u624b\u53ef\u80fd\u4f1a\u4e0d\u6070\u5f53\u7684\u4f7f\u7528lambda\u8868\u8fbe\u5f0f\u3002\n\u6bd4\u5982\uff0c\u901a\u8fc7\u5728\u4e00\u4e2a\u5faa\u73af\u6216\u5217\u8868\u63a8\u5bfc\u4e2d\u521b\u5efa\u4e00\u4e2alambda\u8868\u8fbe\u5f0f\u5217\u8868\uff0c\u5e76\u671f\u671b\u51fd\u6570\u80fd\u5728\u5b9a\u4e49\u65f6\u5c31\u8bb0\u4f4f\u6bcf\u6b21\u7684\u8fed\u4ee3\u503c\u3002\u4f8b\u5982\uff1a"
      ]
    },
    {
      "cell_type": "code",
      "execution_count": null,
      "metadata": {},
      "outputs": [],
      "source": [
        "funcs = [lambda x: x+n for n in range(5)]\nfor f in funcs:\nprint(f(0))"
      ]
    },
    {
      "cell_type": "markdown",
      "metadata": {},
      "source": [
        "\u4f46\u662f\u5b9e\u9645\u6548\u679c\u662f\u8fd0\u884c\u662fn\u7684\u503c\u4e3a\u8fed\u4ee3\u7684\u6700\u540e\u4e00\u4e2a\u503c\u3002\u73b0\u5728\u6211\u4eec\u7528\u53e6\u4e00\u79cd\u65b9\u5f0f\u4fee\u6539\u4e00\u4e0b\uff1a"
      ]
    },
    {
      "cell_type": "code",
      "execution_count": null,
      "metadata": {},
      "outputs": [],
      "source": [
        "funcs = [lambda x, n=n: x+n for n in range(5)]\nfor f in funcs:\nprint(f(0))"
      ]
    },
    {
      "cell_type": "markdown",
      "metadata": {},
      "source": [
        "\u901a\u8fc7\u4f7f\u7528\u51fd\u6570\u9ed8\u8ba4\u503c\u53c2\u6570\u5f62\u5f0f\uff0clambda\u51fd\u6570\u5728\u5b9a\u4e49\u65f6\u5c31\u80fd\u7ed1\u5b9a\u5230\u503c\u3002"
      ]
    }
  ],
  "metadata": {
    "kernelspec": {
      "display_name": "Python 3",
      "language": "python",
      "name": "python3"
    },
    "language_info": {
      "codemirror_mode": {
        "name": "ipython",
        "version": 3
      },
      "file_extension": ".py",
      "mimetype": "text/x-python",
      "name": "python",
      "nbconvert_exporter": "python",
      "pygments_lexer": "ipython3",
      "version": "3.7.1"
    },
    "toc": {
      "base_numbering": 1,
      "nav_menu": {},
      "number_sections": true,
      "sideBar": true,
      "skip_h1_title": true,
      "title_cell": "Table of Contents",
      "title_sidebar": "Contents",
      "toc_cell": false,
      "toc_position": {},
      "toc_section_display": true,
      "toc_window_display": true
    }
  },
  "nbformat": 4,
  "nbformat_minor": 2
}