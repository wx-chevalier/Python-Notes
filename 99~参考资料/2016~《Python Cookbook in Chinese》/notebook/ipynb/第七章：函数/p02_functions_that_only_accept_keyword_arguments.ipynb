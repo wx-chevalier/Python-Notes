{
  "cells": [
    {
      "cell_type": "markdown",
      "metadata": {},
      "source": [
        "## 7.2 \u53ea\u63a5\u53d7\u5173\u952e\u5b57\u53c2\u6570\u7684\u51fd\u6570\n"
      ]
    },
    {
      "cell_type": "markdown",
      "metadata": {},
      "source": [
        "### \u95ee\u9898\n"
      ]
    },
    {
      "cell_type": "markdown",
      "metadata": {},
      "source": [
        "\u4f60\u5e0c\u671b\u51fd\u6570\u7684\u67d0\u4e9b\u53c2\u6570\u5f3a\u5236\u4f7f\u7528\u5173\u952e\u5b57\u53c2\u6570\u4f20\u9012"
      ]
    },
    {
      "cell_type": "markdown",
      "metadata": {},
      "source": [
        "### \u89e3\u51b3\u65b9\u6848\n"
      ]
    },
    {
      "cell_type": "markdown",
      "metadata": {},
      "source": [
        "\u5c06\u5f3a\u5236\u5173\u952e\u5b57\u53c2\u6570\u653e\u5230\u67d0\u4e2a*\u53c2\u6570\u6216\u8005\u5355\u4e2a*\u540e\u9762\u5c31\u80fd\u8fbe\u5230\u8fd9\u79cd\u6548\u679c\u3002\u6bd4\u5982\uff1a"
      ]
    },
    {
      "cell_type": "code",
      "execution_count": null,
      "metadata": {},
      "outputs": [],
      "source": [
        "def recv(maxsize, *, block):\n    'Receives a message'\n    pass\n\nrecv(1024, True) # TypeError\nrecv(1024, block=True) # Ok"
      ]
    },
    {
      "cell_type": "markdown",
      "metadata": {},
      "source": [
        "\u5229\u7528\u8fd9\u79cd\u6280\u672f\uff0c\u6211\u4eec\u8fd8\u80fd\u5728\u63a5\u53d7\u4efb\u610f\u591a\u4e2a\u4f4d\u7f6e\u53c2\u6570\u7684\u51fd\u6570\u4e2d\u6307\u5b9a\u5173\u952e\u5b57\u53c2\u6570\u3002\u6bd4\u5982\uff1a"
      ]
    },
    {
      "cell_type": "code",
      "execution_count": null,
      "metadata": {},
      "outputs": [],
      "source": [
        "def minimum(*values, clip=None):\n    m = min(values)\n    if clip is not None:\n        m = clip if clip > m else m\n    return m\n\nminimum(1, 5, 2, -5, 10) # Returns -5\nminimum(1, 5, 2, -5, 10, clip=0) # Returns 0"
      ]
    },
    {
      "cell_type": "markdown",
      "metadata": {},
      "source": [
        "### \u8ba8\u8bba\n"
      ]
    },
    {
      "cell_type": "markdown",
      "metadata": {},
      "source": [
        "\u5f88\u591a\u60c5\u51b5\u4e0b\uff0c\u4f7f\u7528\u5f3a\u5236\u5173\u952e\u5b57\u53c2\u6570\u4f1a\u6bd4\u4f7f\u7528\u4f4d\u7f6e\u53c2\u6570\u8868\u610f\u66f4\u52a0\u6e05\u6670\uff0c\u7a0b\u5e8f\u4e5f\u66f4\u52a0\u5177\u6709\u53ef\u8bfb\u6027\u3002\n\u4f8b\u5982\uff0c\u8003\u8651\u4e0b\u5982\u4e0b\u4e00\u4e2a\u51fd\u6570\u8c03\u7528\uff1a"
      ]
    },
    {
      "cell_type": "code",
      "execution_count": null,
      "metadata": {},
      "outputs": [],
      "source": [
        "msg = recv(1024, False)"
      ]
    },
    {
      "cell_type": "markdown",
      "metadata": {},
      "source": [
        "\u5982\u679c\u8c03\u7528\u8005\u5bf9recv\u51fd\u6570\u5e76\u4e0d\u662f\u5f88\u719f\u6089\uff0c\u90a3\u4ed6\u80af\u5b9a\u4e0d\u660e\u767d\u90a3\u4e2aFalse\u53c2\u6570\u5230\u5e95\u6765\u5e72\u561b\u7528\u7684\u3002\n\u4f46\u662f\uff0c\u5982\u679c\u4ee3\u7801\u53d8\u6210\u4e0b\u9762\u8fd9\u6837\u5b50\u7684\u8bdd\u5c31\u6e05\u695a\u591a\u4e86\uff1a"
      ]
    },
    {
      "cell_type": "code",
      "execution_count": null,
      "metadata": {},
      "outputs": [],
      "source": [
        "msg = recv(1024, block=False)"
      ]
    },
    {
      "cell_type": "markdown",
      "metadata": {},
      "source": [
        "\u53e6\u5916\uff0c\u4f7f\u7528\u5f3a\u5236\u5173\u952e\u5b57\u53c2\u6570\u4e5f\u4f1a\u6bd4\u4f7f\u7528**kwargs\u53c2\u6570\u66f4\u597d\uff0c\u56e0\u4e3a\u5728\u4f7f\u7528\u51fd\u6570help\u7684\u65f6\u5019\u8f93\u51fa\u4e5f\u4f1a\u66f4\u5bb9\u6613\u7406\u89e3\uff1a"
      ]
    },
    {
      "cell_type": "code",
      "execution_count": null,
      "metadata": {},
      "outputs": [],
      "source": [
        "help(recv)"
      ]
    },
    {
      "cell_type": "markdown",
      "metadata": {},
      "source": [
        "\u5f3a\u5236\u5173\u952e\u5b57\u53c2\u6570\u5728\u4e00\u4e9b\u66f4\u9ad8\u7ea7\u573a\u5408\u540c\u6837\u4e5f\u5f88\u6709\u7528\u3002\n\u4f8b\u5982\uff0c\u5b83\u4eec\u53ef\u4ee5\u88ab\u7528\u6765\u5728\u4f7f\u7528*args\u548c**kwargs\u53c2\u6570\u4f5c\u4e3a\u8f93\u5165\u7684\u51fd\u6570\u4e2d\u63d2\u5165\u53c2\u6570\uff0c9.11\u5c0f\u8282\u6709\u4e00\u4e2a\u8fd9\u6837\u7684\u4f8b\u5b50\u3002"
      ]
    }
  ],
  "metadata": {
    "kernelspec": {
      "display_name": "Python 3",
      "language": "python",
      "name": "python3"
    },
    "language_info": {
      "codemirror_mode": {
        "name": "ipython",
        "version": 3
      },
      "file_extension": ".py",
      "mimetype": "text/x-python",
      "name": "python",
      "nbconvert_exporter": "python",
      "pygments_lexer": "ipython3",
      "version": "3.7.1"
    },
    "toc": {
      "base_numbering": 1,
      "nav_menu": {},
      "number_sections": true,
      "sideBar": true,
      "skip_h1_title": true,
      "title_cell": "Table of Contents",
      "title_sidebar": "Contents",
      "toc_cell": false,
      "toc_position": {},
      "toc_section_display": true,
      "toc_window_display": true
    }
  },
  "nbformat": 4,
  "nbformat_minor": 2
}