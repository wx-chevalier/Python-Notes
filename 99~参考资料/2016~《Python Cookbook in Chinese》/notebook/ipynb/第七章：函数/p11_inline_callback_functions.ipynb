{
  "cells": [
    {
      "cell_type": "markdown",
      "metadata": {},
      "source": [
        "## 7.11 \u5185\u8054\u56de\u8c03\u51fd\u6570\n"
      ]
    },
    {
      "cell_type": "markdown",
      "metadata": {},
      "source": [
        "### \u95ee\u9898\n"
      ]
    },
    {
      "cell_type": "markdown",
      "metadata": {},
      "source": [
        "\u5f53\u4f60\u7f16\u5199\u4f7f\u7528\u56de\u8c03\u51fd\u6570\u7684\u4ee3\u7801\u7684\u65f6\u5019\uff0c\u62c5\u5fc3\u5f88\u591a\u5c0f\u51fd\u6570\u7684\u6269\u5f20\u53ef\u80fd\u4f1a\u5f04\u4e71\u7a0b\u5e8f\u63a7\u5236\u6d41\u3002\n\u4f60\u5e0c\u671b\u627e\u5230\u67d0\u4e2a\u65b9\u6cd5\u6765\u8ba9\u4ee3\u7801\u770b\u4e0a\u53bb\u66f4\u50cf\u662f\u4e00\u4e2a\u666e\u901a\u7684\u6267\u884c\u5e8f\u5217\u3002"
      ]
    },
    {
      "cell_type": "markdown",
      "metadata": {},
      "source": [
        "### \u89e3\u51b3\u65b9\u6848\n"
      ]
    },
    {
      "cell_type": "markdown",
      "metadata": {},
      "source": [
        "\u901a\u8fc7\u4f7f\u7528\u751f\u6210\u5668\u548c\u534f\u7a0b\u53ef\u4ee5\u4f7f\u5f97\u56de\u8c03\u51fd\u6570\u5185\u8054\u5728\u67d0\u4e2a\u51fd\u6570\u4e2d\u3002\n\u4e3a\u4e86\u6f14\u793a\u8bf4\u660e\uff0c\u5047\u8bbe\u4f60\u6709\u5982\u4e0b\u6240\u793a\u7684\u4e00\u4e2a\u6267\u884c\u67d0\u79cd\u8ba1\u7b97\u4efb\u52a1\u7136\u540e\u8c03\u7528\u4e00\u4e2a\u56de\u8c03\u51fd\u6570\u7684\u51fd\u6570(\u53c2\u80037.10\u5c0f\u8282)\uff1a"
      ]
    },
    {
      "cell_type": "code",
      "execution_count": null,
      "metadata": {},
      "outputs": [],
      "source": [
        "def apply_async(func, args, *, callback):\n    # Compute the result\n    result = func(*args)\n\n    # Invoke the callback with the result\n    callback(result)"
      ]
    },
    {
      "cell_type": "markdown",
      "metadata": {},
      "source": [
        "\u63a5\u4e0b\u6765\u8ba9\u6211\u4eec\u770b\u4e00\u4e0b\u4e0b\u9762\u7684\u4ee3\u7801\uff0c\u5b83\u5305\u542b\u4e86\u4e00\u4e2a Async \u7c7b\u548c\u4e00\u4e2a inlined_async \u88c5\u9970\u5668\uff1a"
      ]
    },
    {
      "cell_type": "code",
      "execution_count": null,
      "metadata": {},
      "outputs": [],
      "source": [
        "from queue import Queue\nfrom functools import wraps\n\nclass Async:\n    def __init__(self, func, args):\n        self.func = func\n        self.args = args\n\ndef inlined_async(func):\n    @wraps(func)\n    def wrapper(*args):\n        f = func(*args)\n        result_queue = Queue()\n        result_queue.put(None)\n        while True:\n            result = result_queue.get()\n            try:\n                a = f.send(result)\n                apply_async(a.func, a.args, callback=result_queue.put)\n            except StopIteration:\n                break\n    return wrapper"
      ]
    },
    {
      "cell_type": "markdown",
      "metadata": {},
      "source": [
        "\u8fd9\u4e24\u4e2a\u4ee3\u7801\u7247\u6bb5\u5141\u8bb8\u4f60\u4f7f\u7528 yield \u8bed\u53e5\u5185\u8054\u56de\u8c03\u6b65\u9aa4\u3002\u6bd4\u5982\uff1a"
      ]
    },
    {
      "cell_type": "code",
      "execution_count": null,
      "metadata": {},
      "outputs": [],
      "source": [
        "def add(x, y):\n    return x + y\n\n@inlined_async\ndef test():\n    r = yield Async(add, (2, 3))\n    print(r)\n    r = yield Async(add, ('hello', 'world'))\n    print(r)\n    for n in range(10):\n        r = yield Async(add, (n, n))\n        print(r)\n    print('Goodbye')"
      ]
    },
    {
      "cell_type": "markdown",
      "metadata": {},
      "source": [
        "\u5982\u679c\u4f60\u8c03\u7528 test() \uff0c\u4f60\u4f1a\u5f97\u5230\u7c7b\u4f3c\u5982\u4e0b\u7684\u8f93\u51fa\uff1a"
      ]
    },
    {
      "cell_type": "code",
      "execution_count": null,
      "metadata": {},
      "outputs": [],
      "source": [
        "5\nhelloworld\n0\n2\n4\n6\n8\n10\n12\n14\n16\n18\nGoodbye"
      ]
    },
    {
      "cell_type": "markdown",
      "metadata": {},
      "source": [
        "\u4f60\u4f1a\u53d1\u73b0\uff0c\u9664\u4e86\u90a3\u4e2a\u7279\u522b\u7684\u88c5\u9970\u5668\u548c yield \u8bed\u53e5\u5916\uff0c\u5176\u4ed6\u5730\u65b9\u5e76\u6ca1\u6709\u51fa\u73b0\u4efb\u4f55\u7684\u56de\u8c03\u51fd\u6570(\u5176\u5b9e\u662f\u5728\u540e\u53f0\u5b9a\u4e49\u7684)\u3002"
      ]
    },
    {
      "cell_type": "markdown",
      "metadata": {},
      "source": [
        "### \u8ba8\u8bba\n"
      ]
    },
    {
      "cell_type": "markdown",
      "metadata": {},
      "source": [
        "\u672c\u5c0f\u8282\u4f1a\u5b9e\u5b9e\u5728\u5728\u7684\u6d4b\u8bd5\u4f60\u5173\u4e8e\u56de\u8c03\u51fd\u6570\u3001\u751f\u6210\u5668\u548c\u63a7\u5236\u6d41\u7684\u77e5\u8bc6\u3002"
      ]
    },
    {
      "cell_type": "markdown",
      "metadata": {},
      "source": [
        "\u9996\u5148\uff0c\u5728\u9700\u8981\u4f7f\u7528\u5230\u56de\u8c03\u7684\u4ee3\u7801\u4e2d\uff0c\u5173\u952e\u70b9\u5728\u4e8e\u5f53\u524d\u8ba1\u7b97\u5de5\u4f5c\u4f1a\u6302\u8d77\u5e76\u5728\u5c06\u6765\u7684\u67d0\u4e2a\u65f6\u5019\u91cd\u542f(\u6bd4\u5982\u5f02\u6b65\u6267\u884c)\u3002\n\u5f53\u8ba1\u7b97\u91cd\u542f\u65f6\uff0c\u56de\u8c03\u51fd\u6570\u88ab\u8c03\u7528\u6765\u7ee7\u7eed\u5904\u7406\u7ed3\u679c\u3002apply_async() \u51fd\u6570\u6f14\u793a\u4e86\u6267\u884c\u56de\u8c03\u7684\u5b9e\u9645\u903b\u8f91\uff0c\n\u5c3d\u7ba1\u5b9e\u9645\u60c5\u51b5\u4e2d\u5b83\u53ef\u80fd\u4f1a\u66f4\u52a0\u590d\u6742(\u5305\u62ec\u7ebf\u7a0b\u3001\u8fdb\u7a0b\u3001\u4e8b\u4ef6\u5904\u7406\u5668\u7b49\u7b49)\u3002"
      ]
    },
    {
      "cell_type": "markdown",
      "metadata": {},
      "source": [
        "\u8ba1\u7b97\u7684\u6682\u505c\u4e0e\u91cd\u542f\u601d\u8def\u8ddf\u751f\u6210\u5668\u51fd\u6570\u7684\u6267\u884c\u6a21\u578b\u4e0d\u8c0b\u800c\u5408\u3002\n\u5177\u4f53\u6765\u8bb2\uff0cyield \u64cd\u4f5c\u4f1a\u4f7f\u4e00\u4e2a\u751f\u6210\u5668\u51fd\u6570\u4ea7\u751f\u4e00\u4e2a\u503c\u5e76\u6682\u505c\u3002\n\u63a5\u4e0b\u6765\u8c03\u7528\u751f\u6210\u5668\u7684 __next__() \u6216 send() \u65b9\u6cd5\u53c8\u4f1a\u8ba9\u5b83\u4ece\u6682\u505c\u5904\u7ee7\u7eed\u6267\u884c\u3002"
      ]
    },
    {
      "cell_type": "markdown",
      "metadata": {},
      "source": [
        "\u6839\u636e\u8fd9\u4e2a\u601d\u8def\uff0c\u8fd9\u4e00\u5c0f\u8282\u7684\u6838\u5fc3\u5c31\u5728 inline_async() \u88c5\u9970\u5668\u51fd\u6570\u4e2d\u4e86\u3002\n\u5173\u952e\u70b9\u5c31\u662f\uff0c\u88c5\u9970\u5668\u4f1a\u9010\u6b65\u904d\u5386\u751f\u6210\u5668\u51fd\u6570\u7684\u6240\u6709 yield \u8bed\u53e5\uff0c\u6bcf\u4e00\u6b21\u4e00\u4e2a\u3002\n\u4e3a\u4e86\u8fd9\u6837\u505a\uff0c\u521a\u5f00\u59cb\u7684\u65f6\u5019\u521b\u5efa\u4e86\u4e00\u4e2a result \u961f\u5217\u5e76\u5411\u91cc\u9762\u653e\u5165\u4e00\u4e2a None \u503c\u3002\n\u7136\u540e\u5f00\u59cb\u4e00\u4e2a\u5faa\u73af\u64cd\u4f5c\uff0c\u4ece\u961f\u5217\u4e2d\u53d6\u51fa\u7ed3\u679c\u503c\u5e76\u53d1\u9001\u7ed9\u751f\u6210\u5668\uff0c\u5b83\u4f1a\u6301\u7eed\u5230\u4e0b\u4e00\u4e2a yield \u8bed\u53e5\uff0c\n\u5728\u8fd9\u91cc\u4e00\u4e2a Async \u7684\u5b9e\u4f8b\u88ab\u63a5\u53d7\u5230\u3002\u7136\u540e\u5faa\u73af\u5f00\u59cb\u68c0\u67e5\u51fd\u6570\u548c\u53c2\u6570\uff0c\u5e76\u5f00\u59cb\u8fdb\u884c\u5f02\u6b65\u8ba1\u7b97 apply_async() \u3002\n\u7136\u800c\uff0c\u8fd9\u4e2a\u8ba1\u7b97\u6709\u4e2a\u6700\u8be1\u5f02\u90e8\u5206\u662f\u5b83\u5e76\u6ca1\u6709\u4f7f\u7528\u4e00\u4e2a\u666e\u901a\u7684\u56de\u8c03\u51fd\u6570\uff0c\u800c\u662f\u7528\u961f\u5217\u7684 put() \u65b9\u6cd5\u6765\u56de\u8c03\u3002"
      ]
    },
    {
      "cell_type": "markdown",
      "metadata": {},
      "source": [
        "\u8fd9\u65f6\u5019\uff0c\u662f\u65f6\u5019\u8be6\u7ec6\u89e3\u91ca\u4e0b\u5230\u5e95\u53d1\u751f\u4e86\u4ec0\u4e48\u4e86\u3002\u4e3b\u5faa\u73af\u7acb\u5373\u8fd4\u56de\u9876\u90e8\u5e76\u5728\u961f\u5217\u4e0a\u6267\u884c get() \u64cd\u4f5c\u3002\n\u5982\u679c\u6570\u636e\u5b58\u5728\uff0c\u5b83\u4e00\u5b9a\u662f put() \u56de\u8c03\u5b58\u653e\u7684\u7ed3\u679c\u3002\u5982\u679c\u6ca1\u6709\u6570\u636e\uff0c\u90a3\u4e48\u5148\u6682\u505c\u64cd\u4f5c\u5e76\u7b49\u5f85\u7ed3\u679c\u7684\u5230\u6765\u3002\n\u8fd9\u4e2a\u5177\u4f53\u600e\u6837\u5b9e\u73b0\u662f\u7531 apply_async() \u51fd\u6570\u6765\u51b3\u5b9a\u7684\u3002\n\u5982\u679c\u4f60\u4e0d\u76f8\u4fe1\u4f1a\u6709\u8fd9\u4e48\u795e\u5947\u7684\u4e8b\u60c5\uff0c\u4f60\u53ef\u4ee5\u4f7f\u7528 multiprocessing \u5e93\u6765\u8bd5\u4e00\u4e0b\uff0c\n\u5728\u5355\u72ec\u7684\u8fdb\u7a0b\u4e2d\u6267\u884c\u5f02\u6b65\u8ba1\u7b97\u64cd\u4f5c\uff0c\u5982\u4e0b\u6240\u793a\uff1a"
      ]
    },
    {
      "cell_type": "code",
      "execution_count": null,
      "metadata": {},
      "outputs": [],
      "source": [
        "if __name__ == '__main__':\n    import multiprocessing\n    pool = multiprocessing.Pool()\n    apply_async = pool.apply_async\n\n    # Run the test function\n    test()"
      ]
    },
    {
      "cell_type": "markdown",
      "metadata": {},
      "source": [
        "\u5b9e\u9645\u4e0a\u4f60\u4f1a\u53d1\u73b0\u8fd9\u4e2a\u771f\u7684\u5c31\u662f\u8fd9\u6837\u7684\uff0c\u4f46\u662f\u8981\u89e3\u91ca\u6e05\u695a\u5177\u4f53\u7684\u63a7\u5236\u6d41\u5f97\u9700\u8981\u70b9\u65f6\u95f4\u4e86\u3002"
      ]
    },
    {
      "cell_type": "markdown",
      "metadata": {},
      "source": [
        "\u5c06\u590d\u6742\u7684\u63a7\u5236\u6d41\u9690\u85cf\u5230\u751f\u6210\u5668\u51fd\u6570\u80cc\u540e\u7684\u4f8b\u5b50\u5728\u6807\u51c6\u5e93\u548c\u7b2c\u4e09\u65b9\u5305\u4e2d\u90fd\u80fd\u770b\u5230\u3002\n\u6bd4\u5982\uff0c\u5728 contextlib \u4e2d\u7684 @contextmanager \u88c5\u9970\u5668\u4f7f\u7528\u4e86\u4e00\u4e2a\u4ee4\u4eba\u8d39\u89e3\u7684\u6280\u5de7\uff0c\n\u901a\u8fc7\u4e00\u4e2a yield \u8bed\u53e5\u5c06\u8fdb\u5165\u548c\u79bb\u5f00\u4e0a\u4e0b\u6587\u7ba1\u7406\u5668\u7c98\u5408\u5728\u4e00\u8d77\u3002\n\u53e6\u5916\u975e\u5e38\u6d41\u884c\u7684 Twisted \u5305\u4e2d\u4e5f\u5305\u542b\u4e86\u975e\u5e38\u7c7b\u4f3c\u7684\u5185\u8054\u56de\u8c03\u3002"
      ]
    }
  ],
  "metadata": {
    "kernelspec": {
      "display_name": "Python 3",
      "language": "python",
      "name": "python3"
    },
    "language_info": {
      "codemirror_mode": {
        "name": "ipython",
        "version": 3
      },
      "file_extension": ".py",
      "mimetype": "text/x-python",
      "name": "python",
      "nbconvert_exporter": "python",
      "pygments_lexer": "ipython3",
      "version": "3.7.1"
    },
    "toc": {
      "base_numbering": 1,
      "nav_menu": {},
      "number_sections": true,
      "sideBar": true,
      "skip_h1_title": true,
      "title_cell": "Table of Contents",
      "title_sidebar": "Contents",
      "toc_cell": false,
      "toc_position": {},
      "toc_section_display": true,
      "toc_window_display": true
    }
  },
  "nbformat": 4,
  "nbformat_minor": 2
}