{
  "cells": [
    {
      "cell_type": "markdown",
      "metadata": {},
      "source": [
        "## 7.4 \u8fd4\u56de\u591a\u4e2a\u503c\u7684\u51fd\u6570\n"
      ]
    },
    {
      "cell_type": "markdown",
      "metadata": {},
      "source": [
        "### \u95ee\u9898\n"
      ]
    },
    {
      "cell_type": "markdown",
      "metadata": {},
      "source": [
        "\u4f60\u5e0c\u671b\u6784\u9020\u4e00\u4e2a\u53ef\u4ee5\u8fd4\u56de\u591a\u4e2a\u503c\u7684\u51fd\u6570"
      ]
    },
    {
      "cell_type": "markdown",
      "metadata": {},
      "source": [
        "### \u89e3\u51b3\u65b9\u6848\n"
      ]
    },
    {
      "cell_type": "markdown",
      "metadata": {},
      "source": [
        "\u4e3a\u4e86\u80fd\u8fd4\u56de\u591a\u4e2a\u503c\uff0c\u51fd\u6570\u76f4\u63a5return\u4e00\u4e2a\u5143\u7ec4\u5c31\u884c\u4e86\u3002\u4f8b\u5982\uff1a"
      ]
    },
    {
      "cell_type": "code",
      "execution_count": null,
      "metadata": {},
      "outputs": [],
      "source": [
        "def myfun():\nreturn 1, 2, 3\na, b, c = myfun()\na"
      ]
    },
    {
      "cell_type": "code",
      "execution_count": null,
      "metadata": {},
      "outputs": [],
      "source": [
        "b"
      ]
    },
    {
      "cell_type": "code",
      "execution_count": null,
      "metadata": {},
      "outputs": [],
      "source": [
        "c"
      ]
    },
    {
      "cell_type": "markdown",
      "metadata": {},
      "source": [
        "### \u8ba8\u8bba\n"
      ]
    },
    {
      "cell_type": "markdown",
      "metadata": {},
      "source": [
        "\u5c3d\u7ba1myfun()\u770b\u4e0a\u53bb\u8fd4\u56de\u4e86\u591a\u4e2a\u503c\uff0c\u5b9e\u9645\u4e0a\u662f\u5148\u521b\u5efa\u4e86\u4e00\u4e2a\u5143\u7ec4\u7136\u540e\u8fd4\u56de\u7684\u3002\n\u8fd9\u4e2a\u8bed\u6cd5\u770b\u4e0a\u53bb\u6bd4\u8f83\u5947\u602a\uff0c\u5b9e\u9645\u4e0a\u6211\u4eec\u4f7f\u7528\u7684\u662f\u9017\u53f7\u6765\u751f\u6210\u4e00\u4e2a\u5143\u7ec4\uff0c\u800c\u4e0d\u662f\u7528\u62ec\u53f7\u3002\u6bd4\u5982\u4e0b\u9762\u7684\uff1a"
      ]
    },
    {
      "cell_type": "code",
      "execution_count": null,
      "metadata": {},
      "outputs": [],
      "source": [
        "a = (1, 2) # With parentheses\na"
      ]
    },
    {
      "cell_type": "code",
      "execution_count": null,
      "metadata": {},
      "outputs": [],
      "source": [
        "b = 1, 2 # Without parentheses\nb"
      ]
    },
    {
      "cell_type": "markdown",
      "metadata": {},
      "source": [
        "\u5f53\u6211\u4eec\u8c03\u7528\u8fd4\u56de\u4e00\u4e2a\u5143\u7ec4\u7684\u51fd\u6570\u7684\u65f6\u5019 \uff0c\u901a\u5e38\u6211\u4eec\u4f1a\u5c06\u7ed3\u679c\u8d4b\u503c\u7ed9\u591a\u4e2a\u53d8\u91cf\uff0c\u5c31\u50cf\u4e0a\u9762\u7684\u90a3\u6837\u3002\n\u5176\u5b9e\u8fd9\u5c31\u662f1.1\u5c0f\u8282\u4e2d\u6211\u4eec\u6240\u8bf4\u7684\u5143\u7ec4\u89e3\u5305\u3002\u8fd4\u56de\u7ed3\u679c\u4e5f\u53ef\u4ee5\u8d4b\u503c\u7ed9\u5355\u4e2a\u53d8\u91cf\uff0c\n\u8fd9\u65f6\u5019\u8fd9\u4e2a\u53d8\u91cf\u503c\u5c31\u662f\u51fd\u6570\u8fd4\u56de\u7684\u90a3\u4e2a\u5143\u7ec4\u672c\u8eab\u4e86\uff1a"
      ]
    },
    {
      "cell_type": "code",
      "execution_count": null,
      "metadata": {},
      "outputs": [],
      "source": [
        "x = myfun()\nx"
      ]
    }
  ],
  "metadata": {
    "kernelspec": {
      "display_name": "Python 3",
      "language": "python",
      "name": "python3"
    },
    "language_info": {
      "codemirror_mode": {
        "name": "ipython",
        "version": 3
      },
      "file_extension": ".py",
      "mimetype": "text/x-python",
      "name": "python",
      "nbconvert_exporter": "python",
      "pygments_lexer": "ipython3",
      "version": "3.7.1"
    },
    "toc": {
      "base_numbering": 1,
      "nav_menu": {},
      "number_sections": true,
      "sideBar": true,
      "skip_h1_title": true,
      "title_cell": "Table of Contents",
      "title_sidebar": "Contents",
      "toc_cell": false,
      "toc_position": {},
      "toc_section_display": true,
      "toc_window_display": true
    }
  },
  "nbformat": 4,
  "nbformat_minor": 2
}