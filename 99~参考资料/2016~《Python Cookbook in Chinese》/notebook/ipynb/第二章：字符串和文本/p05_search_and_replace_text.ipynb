{
  "cells": [
    {
      "cell_type": "markdown",
      "metadata": {},
      "source": [
        "## 2.5 \u5b57\u7b26\u4e32\u641c\u7d22\u548c\u66ff\u6362\n"
      ]
    },
    {
      "cell_type": "markdown",
      "metadata": {},
      "source": [
        "### \u95ee\u9898\n"
      ]
    },
    {
      "cell_type": "markdown",
      "metadata": {},
      "source": [
        "\u4f60\u60f3\u5728\u5b57\u7b26\u4e32\u4e2d\u641c\u7d22\u548c\u5339\u914d\u6307\u5b9a\u7684\u6587\u672c\u6a21\u5f0f"
      ]
    },
    {
      "cell_type": "markdown",
      "metadata": {},
      "source": [
        "### \u89e3\u51b3\u65b9\u6848\n"
      ]
    },
    {
      "cell_type": "markdown",
      "metadata": {},
      "source": [
        "\u5bf9\u4e8e\u7b80\u5355\u7684\u5b57\u9762\u6a21\u5f0f\uff0c\u76f4\u63a5\u4f7f\u7528 str.replace() \u65b9\u6cd5\u5373\u53ef\uff0c\u6bd4\u5982\uff1a"
      ]
    },
    {
      "cell_type": "code",
      "execution_count": null,
      "metadata": {},
      "outputs": [],
      "source": [
        "text = 'yeah, but no, but yeah, but no, but yeah'\ntext.replace('yeah', 'yep')"
      ]
    },
    {
      "cell_type": "markdown",
      "metadata": {},
      "source": [
        "\u5bf9\u4e8e\u590d\u6742\u7684\u6a21\u5f0f\uff0c\u8bf7\u4f7f\u7528 re \u6a21\u5757\u4e2d\u7684 sub() \u51fd\u6570\u3002\n\u4e3a\u4e86\u8bf4\u660e\u8fd9\u4e2a\uff0c\u5047\u8bbe\u4f60\u60f3\u5c06\u5f62\u5f0f\u4e3a 11/27/2012 \u7684\u65e5\u671f\u5b57\u7b26\u4e32\u6539\u6210 2012-11-27 \u3002\u793a\u4f8b\u5982\u4e0b\uff1a"
      ]
    },
    {
      "cell_type": "code",
      "execution_count": null,
      "metadata": {},
      "outputs": [],
      "source": [
        "text = 'Today is 11/27/2012. PyCon starts 3/13/2013.'\nimport re\nre.sub(r'(\\d+)/(\\d+)/(\\d+)', r'\\3-\\1-\\2', text)"
      ]
    },
    {
      "cell_type": "markdown",
      "metadata": {},
      "source": [
        "sub() \u51fd\u6570\u4e2d\u7684\u7b2c\u4e00\u4e2a\u53c2\u6570\u662f\u88ab\u5339\u914d\u7684\u6a21\u5f0f\uff0c\u7b2c\u4e8c\u4e2a\u53c2\u6570\u662f\u66ff\u6362\u6a21\u5f0f\u3002\u53cd\u659c\u6760\u6570\u5b57\u6bd4\u5982 \\3 \u6307\u5411\u524d\u9762\u6a21\u5f0f\u7684\u6355\u83b7\u7ec4\u53f7\u3002"
      ]
    },
    {
      "cell_type": "markdown",
      "metadata": {},
      "source": [
        "\u5982\u679c\u4f60\u6253\u7b97\u7528\u76f8\u540c\u7684\u6a21\u5f0f\u505a\u591a\u6b21\u66ff\u6362\uff0c\u8003\u8651\u5148\u7f16\u8bd1\u5b83\u6765\u63d0\u5347\u6027\u80fd\u3002\u6bd4\u5982\uff1a"
      ]
    },
    {
      "cell_type": "code",
      "execution_count": null,
      "metadata": {},
      "outputs": [],
      "source": [
        "import re\ndatepat = re.compile(r'(\\d+)/(\\d+)/(\\d+)')\ndatepat.sub(r'\\3-\\1-\\2', text)"
      ]
    },
    {
      "cell_type": "markdown",
      "metadata": {},
      "source": [
        "\u5bf9\u4e8e\u66f4\u52a0\u590d\u6742\u7684\u66ff\u6362\uff0c\u53ef\u4ee5\u4f20\u9012\u4e00\u4e2a\u66ff\u6362\u56de\u8c03\u51fd\u6570\u6765\u4ee3\u66ff\uff0c\u6bd4\u5982\uff1a"
      ]
    },
    {
      "cell_type": "code",
      "execution_count": null,
      "metadata": {},
      "outputs": [],
      "source": [
        "from calendar import month_abbr\ndef change_date(m):\nmon_name = month_abbr[int(m.group(1))]\nreturn '{} {} {}'.format(m.group(2), mon_name, m.group(3))\ndatepat.sub(change_date, text)"
      ]
    },
    {
      "cell_type": "markdown",
      "metadata": {},
      "source": [
        "\u4e00\u4e2a\u66ff\u6362\u56de\u8c03\u51fd\u6570\u7684\u53c2\u6570\u662f\u4e00\u4e2a match \u5bf9\u8c61\uff0c\u4e5f\u5c31\u662f match() \u6216\u8005 find() \u8fd4\u56de\u7684\u5bf9\u8c61\u3002\n\u4f7f\u7528 group() \u65b9\u6cd5\u6765\u63d0\u53d6\u7279\u5b9a\u7684\u5339\u914d\u90e8\u5206\u3002\u56de\u8c03\u51fd\u6570\u6700\u540e\u8fd4\u56de\u66ff\u6362\u5b57\u7b26\u4e32\u3002"
      ]
    },
    {
      "cell_type": "markdown",
      "metadata": {},
      "source": [
        "\u5982\u679c\u9664\u4e86\u66ff\u6362\u540e\u7684\u7ed3\u679c\u5916\uff0c\u4f60\u8fd8\u60f3\u77e5\u9053\u6709\u591a\u5c11\u66ff\u6362\u53d1\u751f\u4e86\uff0c\u53ef\u4ee5\u4f7f\u7528 re.subn() \u6765\u4ee3\u66ff\u3002\u6bd4\u5982\uff1a"
      ]
    },
    {
      "cell_type": "code",
      "execution_count": null,
      "metadata": {},
      "outputs": [],
      "source": [
        "newtext, n = datepat.subn(r'\\3-\\1-\\2', text)\nnewtext"
      ]
    },
    {
      "cell_type": "code",
      "execution_count": null,
      "metadata": {},
      "outputs": [],
      "source": [
        "n"
      ]
    },
    {
      "cell_type": "markdown",
      "metadata": {},
      "source": [
        "### \u8ba8\u8bba\n"
      ]
    },
    {
      "cell_type": "markdown",
      "metadata": {},
      "source": [
        "\u5173\u4e8e\u6b63\u5219\u8868\u8fbe\u5f0f\u641c\u7d22\u548c\u66ff\u6362\uff0c\u4e0a\u9762\u6f14\u793a\u7684 sub() \u65b9\u6cd5\u57fa\u672c\u5df2\u7ecf\u6db5\u76d6\u4e86\u6240\u6709\u3002\n\u5176\u5b9e\u6700\u96be\u7684\u90e8\u5206\u5c31\u662f\u7f16\u5199\u6b63\u5219\u8868\u8fbe\u5f0f\u6a21\u5f0f\uff0c\u8fd9\u4e2a\u6700\u597d\u662f\u7559\u7ed9\u8bfb\u8005\u81ea\u5df1\u53bb\u7ec3\u4e60\u4e86\u3002"
      ]
    }
  ],
  "metadata": {
    "kernelspec": {
      "display_name": "Python 3",
      "language": "python",
      "name": "python3"
    },
    "language_info": {
      "codemirror_mode": {
        "name": "ipython",
        "version": 3
      },
      "file_extension": ".py",
      "mimetype": "text/x-python",
      "name": "python",
      "nbconvert_exporter": "python",
      "pygments_lexer": "ipython3",
      "version": "3.7.1"
    },
    "toc": {
      "base_numbering": 1,
      "nav_menu": {},
      "number_sections": true,
      "sideBar": true,
      "skip_h1_title": true,
      "title_cell": "Table of Contents",
      "title_sidebar": "Contents",
      "toc_cell": false,
      "toc_position": {},
      "toc_section_display": true,
      "toc_window_display": true
    }
  },
  "nbformat": 4,
  "nbformat_minor": 2
}