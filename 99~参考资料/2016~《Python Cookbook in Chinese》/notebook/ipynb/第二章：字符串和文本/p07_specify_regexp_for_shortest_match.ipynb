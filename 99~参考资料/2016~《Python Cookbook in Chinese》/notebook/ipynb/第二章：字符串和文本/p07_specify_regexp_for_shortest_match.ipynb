{
  "cells": [
    {
      "cell_type": "markdown",
      "metadata": {},
      "source": [
        "## 2.7 \u6700\u77ed\u5339\u914d\u6a21\u5f0f\n"
      ]
    },
    {
      "cell_type": "markdown",
      "metadata": {},
      "source": [
        "### \u95ee\u9898\n"
      ]
    },
    {
      "cell_type": "markdown",
      "metadata": {},
      "source": [
        "\u4f60\u6b63\u5728\u8bd5\u7740\u7528\u6b63\u5219\u8868\u8fbe\u5f0f\u5339\u914d\u67d0\u4e2a\u6587\u672c\u6a21\u5f0f\uff0c\u4f46\u662f\u5b83\u627e\u5230\u7684\u662f\u6a21\u5f0f\u7684\u6700\u957f\u53ef\u80fd\u5339\u914d\u3002\n\u800c\u4f60\u60f3\u4fee\u6539\u5b83\u53d8\u6210\u67e5\u627e\u6700\u77ed\u7684\u53ef\u80fd\u5339\u914d\u3002"
      ]
    },
    {
      "cell_type": "markdown",
      "metadata": {},
      "source": [
        "### \u89e3\u51b3\u65b9\u6848\n"
      ]
    },
    {
      "cell_type": "markdown",
      "metadata": {},
      "source": [
        "\u8fd9\u4e2a\u95ee\u9898\u4e00\u822c\u51fa\u73b0\u5728\u9700\u8981\u5339\u914d\u4e00\u5bf9\u5206\u9694\u7b26\u4e4b\u95f4\u7684\u6587\u672c\u7684\u65f6\u5019(\u6bd4\u5982\u5f15\u53f7\u5305\u542b\u7684\u5b57\u7b26\u4e32)\u3002\n\u4e3a\u4e86\u8bf4\u660e\u6e05\u695a\uff0c\u8003\u8651\u5982\u4e0b\u7684\u4f8b\u5b50\uff1a"
      ]
    },
    {
      "cell_type": "code",
      "execution_count": null,
      "metadata": {},
      "outputs": [],
      "source": [
        "str_pat = re.compile(r'\"(.*)\"')\ntext1 = 'Computer says \"no.\"'\nstr_pat.findall(text1)"
      ]
    },
    {
      "cell_type": "code",
      "execution_count": null,
      "metadata": {},
      "outputs": [],
      "source": [
        "text2 = 'Computer says \"no.\" Phone says \"yes.\"'\nstr_pat.findall(text2)"
      ]
    },
    {
      "cell_type": "markdown",
      "metadata": {},
      "source": [
        "\u5728\u8fd9\u4e2a\u4f8b\u5b50\u4e2d\uff0c\u6a21\u5f0f r'\\\"(.*)\\\"' \u7684\u610f\u56fe\u662f\u5339\u914d\u88ab\u53cc\u5f15\u53f7\u5305\u542b\u7684\u6587\u672c\u3002\n\u4f46\u662f\u5728\u6b63\u5219\u8868\u8fbe\u5f0f\u4e2d*\u64cd\u4f5c\u7b26\u662f\u8d2a\u5a6a\u7684\uff0c\u56e0\u6b64\u5339\u914d\u64cd\u4f5c\u4f1a\u67e5\u627e\u6700\u957f\u7684\u53ef\u80fd\u5339\u914d\u3002\n\u4e8e\u662f\u5728\u7b2c\u4e8c\u4e2a\u4f8b\u5b50\u4e2d\u641c\u7d22 text2 \u7684\u65f6\u5019\u8fd4\u56de\u7ed3\u679c\u5e76\u4e0d\u662f\u6211\u4eec\u60f3\u8981\u7684\u3002"
      ]
    },
    {
      "cell_type": "markdown",
      "metadata": {},
      "source": [
        "\u4e3a\u4e86\u4fee\u6b63\u8fd9\u4e2a\u95ee\u9898\uff0c\u53ef\u4ee5\u5728\u6a21\u5f0f\u4e2d\u7684*\u64cd\u4f5c\u7b26\u540e\u9762\u52a0\u4e0a?\u4fee\u9970\u7b26\uff0c\u5c31\u50cf\u8fd9\u6837\uff1a"
      ]
    },
    {
      "cell_type": "code",
      "execution_count": null,
      "metadata": {},
      "outputs": [],
      "source": [
        "str_pat = re.compile(r'\"(.*?)\"')\nstr_pat.findall(text2)"
      ]
    },
    {
      "cell_type": "markdown",
      "metadata": {},
      "source": [
        "\u8fd9\u6837\u5c31\u4f7f\u5f97\u5339\u914d\u53d8\u6210\u975e\u8d2a\u5a6a\u6a21\u5f0f\uff0c\u4ece\u800c\u5f97\u5230\u6700\u77ed\u7684\u5339\u914d\uff0c\u4e5f\u5c31\u662f\u6211\u4eec\u60f3\u8981\u7684\u7ed3\u679c\u3002"
      ]
    },
    {
      "cell_type": "markdown",
      "metadata": {},
      "source": [
        "### \u8ba8\u8bba\n"
      ]
    },
    {
      "cell_type": "markdown",
      "metadata": {},
      "source": [
        "\u8fd9\u4e00\u8282\u5c55\u793a\u4e86\u5728\u5199\u5305\u542b\u70b9(.)\u5b57\u7b26\u7684\u6b63\u5219\u8868\u8fbe\u5f0f\u7684\u65f6\u5019\u9047\u5230\u7684\u4e00\u4e9b\u5e38\u89c1\u95ee\u9898\u3002\n\u5728\u4e00\u4e2a\u6a21\u5f0f\u5b57\u7b26\u4e32\u4e2d\uff0c\u70b9(.)\u5339\u914d\u9664\u4e86\u6362\u884c\u5916\u7684\u4efb\u4f55\u5b57\u7b26\u3002\n\u7136\u800c\uff0c\u5982\u679c\u4f60\u5c06\u70b9(.)\u53f7\u653e\u5728\u5f00\u59cb\u4e0e\u7ed3\u675f\u7b26(\u6bd4\u5982\u5f15\u53f7)\u4e4b\u95f4\u7684\u65f6\u5019\uff0c\u90a3\u4e48\u5339\u914d\u64cd\u4f5c\u4f1a\u67e5\u627e\u7b26\u5408\u6a21\u5f0f\u7684\u6700\u957f\u53ef\u80fd\u5339\u914d\u3002\n\u8fd9\u6837\u901a\u5e38\u4f1a\u5bfc\u81f4\u5f88\u591a\u4e2d\u95f4\u7684\u88ab\u5f00\u59cb\u4e0e\u7ed3\u675f\u7b26\u5305\u542b\u7684\u6587\u672c\u88ab\u5ffd\u7565\u6389\uff0c\u5e76\u6700\u7ec8\u88ab\u5305\u542b\u5728\u5339\u914d\u7ed3\u679c\u5b57\u7b26\u4e32\u4e2d\u8fd4\u56de\u3002\n\u901a\u8fc7\u5728 * \u6216\u8005 + \u8fd9\u6837\u7684\u64cd\u4f5c\u7b26\u540e\u9762\u6dfb\u52a0\u4e00\u4e2a ? \u53ef\u4ee5\u5f3a\u5236\u5339\u914d\u7b97\u6cd5\u6539\u6210\u5bfb\u627e\u6700\u77ed\u7684\u53ef\u80fd\u5339\u914d\u3002"
      ]
    }
  ],
  "metadata": {
    "kernelspec": {
      "display_name": "Python 3",
      "language": "python",
      "name": "python3"
    },
    "language_info": {
      "codemirror_mode": {
        "name": "ipython",
        "version": 3
      },
      "file_extension": ".py",
      "mimetype": "text/x-python",
      "name": "python",
      "nbconvert_exporter": "python",
      "pygments_lexer": "ipython3",
      "version": "3.7.1"
    },
    "toc": {
      "base_numbering": 1,
      "nav_menu": {},
      "number_sections": true,
      "sideBar": true,
      "skip_h1_title": true,
      "title_cell": "Table of Contents",
      "title_sidebar": "Contents",
      "toc_cell": false,
      "toc_position": {},
      "toc_section_display": true,
      "toc_window_display": true
    }
  },
  "nbformat": 4,
  "nbformat_minor": 2
}