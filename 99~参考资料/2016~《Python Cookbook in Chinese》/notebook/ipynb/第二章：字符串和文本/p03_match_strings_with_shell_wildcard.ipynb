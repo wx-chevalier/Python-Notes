{
  "cells": [
    {
      "cell_type": "markdown",
      "metadata": {},
      "source": [
        "## 2.3 \u7528Shell\u901a\u914d\u7b26\u5339\u914d\u5b57\u7b26\u4e32\n"
      ]
    },
    {
      "cell_type": "markdown",
      "metadata": {},
      "source": [
        "### \u95ee\u9898\n"
      ]
    },
    {
      "cell_type": "markdown",
      "metadata": {},
      "source": [
        "\u4f60\u60f3\u4f7f\u7528 Unix Shell \u4e2d\u5e38\u7528\u7684\u901a\u914d\u7b26(\u6bd4\u5982 *.py , Dat[0-9]*.csv \u7b49)\u53bb\u5339\u914d\u6587\u672c\u5b57\u7b26\u4e32"
      ]
    },
    {
      "cell_type": "markdown",
      "metadata": {},
      "source": [
        "### \u89e3\u51b3\u65b9\u6848\n"
      ]
    },
    {
      "cell_type": "markdown",
      "metadata": {},
      "source": [
        "fnmatch \u6a21\u5757\u63d0\u4f9b\u4e86\u4e24\u4e2a\u51fd\u6570\u2014\u2014 fnmatch() \u548c fnmatchcase() \uff0c\u53ef\u4ee5\u7528\u6765\u5b9e\u73b0\u8fd9\u6837\u7684\u5339\u914d\u3002\u7528\u6cd5\u5982\u4e0b\uff1a"
      ]
    },
    {
      "cell_type": "code",
      "execution_count": null,
      "metadata": {},
      "outputs": [],
      "source": [
        "from fnmatch import fnmatch, fnmatchcase\nfnmatch('foo.txt', '*.txt')"
      ]
    },
    {
      "cell_type": "code",
      "execution_count": null,
      "metadata": {},
      "outputs": [],
      "source": [
        "fnmatch('foo.txt', '?oo.txt')"
      ]
    },
    {
      "cell_type": "code",
      "execution_count": null,
      "metadata": {},
      "outputs": [],
      "source": [
        "fnmatch('Dat45.csv', 'Dat[0-9]*')"
      ]
    },
    {
      "cell_type": "code",
      "execution_count": null,
      "metadata": {},
      "outputs": [],
      "source": [
        "names = ['Dat1.csv', 'Dat2.csv', 'config.ini', 'foo.py']\n[name for name in names if fnmatch(name, 'Dat*.csv')]"
      ]
    },
    {
      "cell_type": "markdown",
      "metadata": {},
      "source": [
        "fnmatch() \u51fd\u6570\u4f7f\u7528\u5e95\u5c42\u64cd\u4f5c\u7cfb\u7edf\u7684\u5927\u5c0f\u5199\u654f\u611f\u89c4\u5219(\u4e0d\u540c\u7684\u7cfb\u7edf\u662f\u4e0d\u4e00\u6837\u7684)\u6765\u5339\u914d\u6a21\u5f0f\u3002\u6bd4\u5982\uff1a"
      ]
    },
    {
      "cell_type": "code",
      "execution_count": null,
      "metadata": {},
      "outputs": [],
      "source": [
        "# On OS X (Mac)\nfnmatch('foo.txt', '*.TXT')"
      ]
    },
    {
      "cell_type": "code",
      "execution_count": null,
      "metadata": {},
      "outputs": [],
      "source": [
        "# On Windows\nfnmatch('foo.txt', '*.TXT')"
      ]
    },
    {
      "cell_type": "markdown",
      "metadata": {},
      "source": [
        "\u5982\u679c\u4f60\u5bf9\u8fd9\u4e2a\u533a\u522b\u5f88\u5728\u610f\uff0c\u53ef\u4ee5\u4f7f\u7528 fnmatchcase() \u6765\u4ee3\u66ff\u3002\u5b83\u5b8c\u5168\u4f7f\u7528\u4f60\u7684\u6a21\u5f0f\u5927\u5c0f\u5199\u5339\u914d\u3002\u6bd4\u5982\uff1a"
      ]
    },
    {
      "cell_type": "code",
      "execution_count": null,
      "metadata": {},
      "outputs": [],
      "source": [
        "fnmatchcase('foo.txt', '*.TXT')"
      ]
    },
    {
      "cell_type": "markdown",
      "metadata": {},
      "source": [
        "\u8fd9\u4e24\u4e2a\u51fd\u6570\u901a\u5e38\u4f1a\u88ab\u5ffd\u7565\u7684\u4e00\u4e2a\u7279\u6027\u662f\u5728\u5904\u7406\u975e\u6587\u4ef6\u540d\u7684\u5b57\u7b26\u4e32\u65f6\u5019\u5b83\u4eec\u4e5f\u662f\u5f88\u6709\u7528\u7684\u3002\n\u6bd4\u5982\uff0c\u5047\u8bbe\u4f60\u6709\u4e00\u4e2a\u8857\u9053\u5730\u5740\u7684\u5217\u8868\u6570\u636e\uff1a"
      ]
    },
    {
      "cell_type": "code",
      "execution_count": null,
      "metadata": {},
      "outputs": [],
      "source": [
        "addresses = [\n    '5412 N CLARK ST',\n    '1060 W ADDISON ST',\n    '1039 W GRANVILLE AVE',\n    '2122 N CLARK ST',\n    '4802 N BROADWAY',\n]"
      ]
    },
    {
      "cell_type": "markdown",
      "metadata": {},
      "source": [
        "\u4f60\u53ef\u4ee5\u50cf\u8fd9\u6837\u5199\u5217\u8868\u63a8\u5bfc\uff1a"
      ]
    },
    {
      "cell_type": "code",
      "execution_count": null,
      "metadata": {},
      "outputs": [],
      "source": [
        "from fnmatch import fnmatchcase\n[addr for addr in addresses if fnmatchcase(addr, '* ST')]"
      ]
    },
    {
      "cell_type": "code",
      "execution_count": null,
      "metadata": {},
      "outputs": [],
      "source": [
        "[addr for addr in addresses if fnmatchcase(addr, '54[0-9][0-9] *CLARK*')]"
      ]
    },
    {
      "cell_type": "markdown",
      "metadata": {},
      "source": [
        "### \u8ba8\u8bba\n"
      ]
    },
    {
      "cell_type": "markdown",
      "metadata": {},
      "source": [
        "fnmatch() \u51fd\u6570\u5339\u914d\u80fd\u529b\u4ecb\u4e8e\u7b80\u5355\u7684\u5b57\u7b26\u4e32\u65b9\u6cd5\u548c\u5f3a\u5927\u7684\u6b63\u5219\u8868\u8fbe\u5f0f\u4e4b\u95f4\u3002\n\u5982\u679c\u5728\u6570\u636e\u5904\u7406\u64cd\u4f5c\u4e2d\u53ea\u9700\u8981\u7b80\u5355\u7684\u901a\u914d\u7b26\u5c31\u80fd\u5b8c\u6210\u7684\u65f6\u5019\uff0c\u8fd9\u901a\u5e38\u662f\u4e00\u4e2a\u6bd4\u8f83\u5408\u7406\u7684\u65b9\u6848\u3002"
      ]
    },
    {
      "cell_type": "markdown",
      "metadata": {},
      "source": [
        "\u5982\u679c\u4f60\u7684\u4ee3\u7801\u9700\u8981\u505a\u6587\u4ef6\u540d\u7684\u5339\u914d\uff0c\u6700\u597d\u4f7f\u7528 glob \u6a21\u5757\u3002\u53c2\u80035.13\u5c0f\u8282\u3002"
      ]
    }
  ],
  "metadata": {
    "kernelspec": {
      "display_name": "Python 3",
      "language": "python",
      "name": "python3"
    },
    "language_info": {
      "codemirror_mode": {
        "name": "ipython",
        "version": 3
      },
      "file_extension": ".py",
      "mimetype": "text/x-python",
      "name": "python",
      "nbconvert_exporter": "python",
      "pygments_lexer": "ipython3",
      "version": "3.7.1"
    },
    "toc": {
      "base_numbering": 1,
      "nav_menu": {},
      "number_sections": true,
      "sideBar": true,
      "skip_h1_title": true,
      "title_cell": "Table of Contents",
      "title_sidebar": "Contents",
      "toc_cell": false,
      "toc_position": {},
      "toc_section_display": true,
      "toc_window_display": true
    }
  },
  "nbformat": 4,
  "nbformat_minor": 2
}