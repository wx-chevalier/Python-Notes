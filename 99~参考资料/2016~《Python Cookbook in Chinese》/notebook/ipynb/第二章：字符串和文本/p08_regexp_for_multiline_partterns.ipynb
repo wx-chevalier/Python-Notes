{
  "cells": [
    {
      "cell_type": "markdown",
      "metadata": {},
      "source": [
        "## 2.8 \u591a\u884c\u5339\u914d\u6a21\u5f0f\n"
      ]
    },
    {
      "cell_type": "markdown",
      "metadata": {},
      "source": [
        "### \u95ee\u9898\n"
      ]
    },
    {
      "cell_type": "markdown",
      "metadata": {},
      "source": [
        "\u4f60\u6b63\u5728\u8bd5\u7740\u4f7f\u7528\u6b63\u5219\u8868\u8fbe\u5f0f\u53bb\u5339\u914d\u4e00\u5927\u5757\u7684\u6587\u672c\uff0c\u800c\u4f60\u9700\u8981\u8de8\u8d8a\u591a\u884c\u53bb\u5339\u914d\u3002"
      ]
    },
    {
      "cell_type": "markdown",
      "metadata": {},
      "source": [
        "### \u89e3\u51b3\u65b9\u6848\n"
      ]
    },
    {
      "cell_type": "markdown",
      "metadata": {},
      "source": [
        "\u8fd9\u4e2a\u95ee\u9898\u5f88\u5178\u578b\u7684\u51fa\u73b0\u5728\u5f53\u4f60\u7528\u70b9(.)\u53bb\u5339\u914d\u4efb\u610f\u5b57\u7b26\u7684\u65f6\u5019\uff0c\u5fd8\u8bb0\u4e86\u70b9(.)\u4e0d\u80fd\u5339\u914d\u6362\u884c\u7b26\u7684\u4e8b\u5b9e\u3002\n\u6bd4\u5982\uff0c\u5047\u8bbe\u4f60\u60f3\u8bd5\u7740\u53bb\u5339\u914dC\u8bed\u8a00\u5206\u5272\u7684\u6ce8\u91ca\uff1a"
      ]
    },
    {
      "cell_type": "code",
      "execution_count": null,
      "metadata": {},
      "outputs": [],
      "source": [
        "comment = re.compile(r'/\\*(.*?)\\*/')\ntext1 = '/* this is a comment */'\ntext2 = '''/* this is a\nmultiline comment */\n'''\ncomment.findall(text1)"
      ]
    },
    {
      "cell_type": "code",
      "execution_count": null,
      "metadata": {},
      "outputs": [],
      "source": [
        "comment.findall(text2)"
      ]
    },
    {
      "cell_type": "markdown",
      "metadata": {},
      "source": [
        "\u4e3a\u4e86\u4fee\u6b63\u8fd9\u4e2a\u95ee\u9898\uff0c\u4f60\u53ef\u4ee5\u4fee\u6539\u6a21\u5f0f\u5b57\u7b26\u4e32\uff0c\u589e\u52a0\u5bf9\u6362\u884c\u7684\u652f\u6301\u3002\u6bd4\u5982\uff1a"
      ]
    },
    {
      "cell_type": "code",
      "execution_count": null,
      "metadata": {},
      "outputs": [],
      "source": [
        "comment = re.compile(r'/\\*((?:.|\\n)*?)\\*/')\ncomment.findall(text2)"
      ]
    },
    {
      "cell_type": "markdown",
      "metadata": {},
      "source": [
        "\u5728\u8fd9\u4e2a\u6a21\u5f0f\u4e2d\uff0c (?:.|\\n) \u6307\u5b9a\u4e86\u4e00\u4e2a\u975e\u6355\u83b7\u7ec4\n(\u4e5f\u5c31\u662f\u5b83\u5b9a\u4e49\u4e86\u4e00\u4e2a\u4ec5\u4ec5\u7528\u6765\u505a\u5339\u914d\uff0c\u800c\u4e0d\u80fd\u901a\u8fc7\u5355\u72ec\u6355\u83b7\u6216\u8005\u7f16\u53f7\u7684\u7ec4)\u3002"
      ]
    },
    {
      "cell_type": "markdown",
      "metadata": {},
      "source": [
        "### \u8ba8\u8bba\n"
      ]
    },
    {
      "cell_type": "markdown",
      "metadata": {},
      "source": [
        "re.compile() \u51fd\u6570\u63a5\u53d7\u4e00\u4e2a\u6807\u5fd7\u53c2\u6570\u53eb re.DOTALL \uff0c\u5728\u8fd9\u91cc\u975e\u5e38\u6709\u7528\u3002\n\u5b83\u53ef\u4ee5\u8ba9\u6b63\u5219\u8868\u8fbe\u5f0f\u4e2d\u7684\u70b9(.)\u5339\u914d\u5305\u62ec\u6362\u884c\u7b26\u5728\u5185\u7684\u4efb\u610f\u5b57\u7b26\u3002\u6bd4\u5982\uff1a"
      ]
    },
    {
      "cell_type": "code",
      "execution_count": null,
      "metadata": {},
      "outputs": [],
      "source": [
        "comment = re.compile(r'/\\*(.*?)\\*/', re.DOTALL)\ncomment.findall(text2)"
      ]
    },
    {
      "cell_type": "markdown",
      "metadata": {},
      "source": [
        "\u5bf9\u4e8e\u7b80\u5355\u7684\u60c5\u51b5\u4f7f\u7528 re.DOTALL \u6807\u8bb0\u53c2\u6570\u5de5\u4f5c\u7684\u5f88\u597d\uff0c\n\u4f46\u662f\u5982\u679c\u6a21\u5f0f\u975e\u5e38\u590d\u6742\u6216\u8005\u662f\u4e3a\u4e86\u6784\u9020\u5b57\u7b26\u4e32\u4ee4\u724c\u800c\u5c06\u591a\u4e2a\u6a21\u5f0f\u5408\u5e76\u8d77\u6765(2.18\u8282\u6709\u8be6\u7ec6\u63cf\u8ff0)\uff0c\n\u8fd9\u65f6\u5019\u4f7f\u7528\u8fd9\u4e2a\u6807\u8bb0\u53c2\u6570\u5c31\u53ef\u80fd\u51fa\u73b0\u4e00\u4e9b\u95ee\u9898\u3002\n\u5982\u679c\u8ba9\u4f60\u9009\u62e9\u7684\u8bdd\uff0c\u6700\u597d\u8fd8\u662f\u5b9a\u4e49\u81ea\u5df1\u7684\u6b63\u5219\u8868\u8fbe\u5f0f\u6a21\u5f0f\uff0c\u8fd9\u6837\u5b83\u53ef\u4ee5\u5728\u4e0d\u9700\u8981\u989d\u5916\u7684\u6807\u8bb0\u53c2\u6570\u4e0b\u4e5f\u80fd\u5de5\u4f5c\u7684\u5f88\u597d\u3002"
      ]
    }
  ],
  "metadata": {
    "kernelspec": {
      "display_name": "Python 3",
      "language": "python",
      "name": "python3"
    },
    "language_info": {
      "codemirror_mode": {
        "name": "ipython",
        "version": 3
      },
      "file_extension": ".py",
      "mimetype": "text/x-python",
      "name": "python",
      "nbconvert_exporter": "python",
      "pygments_lexer": "ipython3",
      "version": "3.7.1"
    },
    "toc": {
      "base_numbering": 1,
      "nav_menu": {},
      "number_sections": true,
      "sideBar": true,
      "skip_h1_title": true,
      "title_cell": "Table of Contents",
      "title_sidebar": "Contents",
      "toc_cell": false,
      "toc_position": {},
      "toc_section_display": true,
      "toc_window_display": true
    }
  },
  "nbformat": 4,
  "nbformat_minor": 2
}