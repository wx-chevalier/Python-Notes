{
  "cells": [
    {
      "cell_type": "markdown",
      "metadata": {},
      "source": [
        "## 2.1 \u4f7f\u7528\u591a\u4e2a\u754c\u5b9a\u7b26\u5206\u5272\u5b57\u7b26\u4e32\n"
      ]
    },
    {
      "cell_type": "markdown",
      "metadata": {},
      "source": [
        "### \u95ee\u9898\n"
      ]
    },
    {
      "cell_type": "markdown",
      "metadata": {},
      "source": [
        "\u4f60\u9700\u8981\u5c06\u4e00\u4e2a\u5b57\u7b26\u4e32\u5206\u5272\u4e3a\u591a\u4e2a\u5b57\u6bb5\uff0c\u4f46\u662f\u5206\u9694\u7b26(\u8fd8\u6709\u5468\u56f4\u7684\u7a7a\u683c)\u5e76\u4e0d\u662f\u56fa\u5b9a\u7684\u3002"
      ]
    },
    {
      "cell_type": "markdown",
      "metadata": {},
      "source": [
        "### \u89e3\u51b3\u65b9\u6848\n"
      ]
    },
    {
      "cell_type": "markdown",
      "metadata": {},
      "source": [
        "string \u5bf9\u8c61\u7684 split() \u65b9\u6cd5\u53ea\u9002\u5e94\u4e8e\u975e\u5e38\u7b80\u5355\u7684\u5b57\u7b26\u4e32\u5206\u5272\u60c5\u5f62\uff0c\n\u5b83\u5e76\u4e0d\u5141\u8bb8\u6709\u591a\u4e2a\u5206\u9694\u7b26\u6216\u8005\u662f\u5206\u9694\u7b26\u5468\u56f4\u4e0d\u786e\u5b9a\u7684\u7a7a\u683c\u3002\n\u5f53\u4f60\u9700\u8981\u66f4\u52a0\u7075\u6d3b\u7684\u5207\u5272\u5b57\u7b26\u4e32\u7684\u65f6\u5019\uff0c\u6700\u597d\u4f7f\u7528 re.split() \u65b9\u6cd5\uff1a"
      ]
    },
    {
      "cell_type": "code",
      "execution_count": null,
      "metadata": {},
      "outputs": [],
      "source": [
        "line = 'asdf fjdk; afed, fjek,asdf, foo'\nimport re\nre.split(r'[;,\\s]\\s*', line)"
      ]
    },
    {
      "cell_type": "markdown",
      "metadata": {},
      "source": [
        "### \u8ba8\u8bba\n"
      ]
    },
    {
      "cell_type": "markdown",
      "metadata": {},
      "source": [
        "\u51fd\u6570 re.split() \u662f\u975e\u5e38\u5b9e\u7528\u7684\uff0c\u56e0\u4e3a\u5b83\u5141\u8bb8\u4f60\u4e3a\u5206\u9694\u7b26\u6307\u5b9a\u591a\u4e2a\u6b63\u5219\u6a21\u5f0f\u3002\n\u6bd4\u5982\uff0c\u5728\u4e0a\u9762\u7684\u4f8b\u5b50\u4e2d\uff0c\u5206\u9694\u7b26\u53ef\u4ee5\u662f\u9017\u53f7\uff0c\u5206\u53f7\u6216\u8005\u662f\u7a7a\u683c\uff0c\u5e76\u4e14\u540e\u9762\u7d27\u8ddf\u7740\u4efb\u610f\u4e2a\u7684\u7a7a\u683c\u3002\n\u53ea\u8981\u8fd9\u4e2a\u6a21\u5f0f\u88ab\u627e\u5230\uff0c\u90a3\u4e48\u5339\u914d\u7684\u5206\u9694\u7b26\u4e24\u8fb9\u7684\u5b9e\u4f53\u90fd\u4f1a\u88ab\u5f53\u6210\u662f\u7ed3\u679c\u4e2d\u7684\u5143\u7d20\u8fd4\u56de\u3002\n\u8fd4\u56de\u7ed3\u679c\u4e3a\u4e00\u4e2a\u5b57\u6bb5\u5217\u8868\uff0c\u8fd9\u4e2a\u8ddf str.split() \u8fd4\u56de\u503c\u7c7b\u578b\u662f\u4e00\u6837\u7684\u3002"
      ]
    },
    {
      "cell_type": "markdown",
      "metadata": {},
      "source": [
        "\u5f53\u4f60\u4f7f\u7528 re.split() \u51fd\u6570\u65f6\u5019\uff0c\u9700\u8981\u7279\u522b\u6ce8\u610f\u7684\u662f\u6b63\u5219\u8868\u8fbe\u5f0f\u4e2d\u662f\u5426\u5305\u542b\u4e00\u4e2a\u62ec\u53f7\u6355\u83b7\u5206\u7ec4\u3002\n\u5982\u679c\u4f7f\u7528\u4e86\u6355\u83b7\u5206\u7ec4\uff0c\u90a3\u4e48\u88ab\u5339\u914d\u7684\u6587\u672c\u4e5f\u5c06\u51fa\u73b0\u5728\u7ed3\u679c\u5217\u8868\u4e2d\u3002\u6bd4\u5982\uff0c\u89c2\u5bdf\u4e00\u4e0b\u8fd9\u6bb5\u4ee3\u7801\u8fd0\u884c\u540e\u7684\u7ed3\u679c\uff1a"
      ]
    },
    {
      "cell_type": "code",
      "execution_count": null,
      "metadata": {},
      "outputs": [],
      "source": [
        "fields = re.split(r'(;|,|\\s)\\s*', line)\nfields"
      ]
    },
    {
      "cell_type": "markdown",
      "metadata": {},
      "source": [
        "\u83b7\u53d6\u5206\u5272\u5b57\u7b26\u5728\u67d0\u4e9b\u60c5\u51b5\u4e0b\u4e5f\u662f\u6709\u7528\u7684\u3002\n\u6bd4\u5982\uff0c\u4f60\u53ef\u80fd\u60f3\u4fdd\u7559\u5206\u5272\u5b57\u7b26\u4e32\uff0c\u7528\u6765\u5728\u540e\u9762\u91cd\u65b0\u6784\u9020\u4e00\u4e2a\u65b0\u7684\u8f93\u51fa\u5b57\u7b26\u4e32\uff1a"
      ]
    },
    {
      "cell_type": "code",
      "execution_count": null,
      "metadata": {},
      "outputs": [],
      "source": [
        "values = fields[::2]\ndelimiters = fields[1::2] + ['']\nvalues"
      ]
    },
    {
      "cell_type": "code",
      "execution_count": null,
      "metadata": {},
      "outputs": [],
      "source": [
        "delimiters"
      ]
    },
    {
      "cell_type": "code",
      "execution_count": null,
      "metadata": {},
      "outputs": [],
      "source": [
        "# Reform the line using the same delimiters\n''.join(v+d for v,d in zip(values, delimiters))"
      ]
    },
    {
      "cell_type": "markdown",
      "metadata": {},
      "source": [
        "\u5982\u679c\u4f60\u4e0d\u60f3\u4fdd\u7559\u5206\u5272\u5b57\u7b26\u4e32\u5230\u7ed3\u679c\u5217\u8868\u4e2d\u53bb\uff0c\u4f46\u4ecd\u7136\u9700\u8981\u4f7f\u7528\u5230\u62ec\u53f7\u6765\u5206\u7ec4\u6b63\u5219\u8868\u8fbe\u5f0f\u7684\u8bdd\uff0c\n\u786e\u4fdd\u4f60\u7684\u5206\u7ec4\u662f\u975e\u6355\u83b7\u5206\u7ec4\uff0c\u5f62\u5982 (?:...) \u3002\u6bd4\u5982\uff1a"
      ]
    },
    {
      "cell_type": "code",
      "execution_count": null,
      "metadata": {},
      "outputs": [],
      "source": [
        "re.split(r'(?:,|;|\\s)\\s*', line)"
      ]
    }
  ],
  "metadata": {
    "kernelspec": {
      "display_name": "Python 3",
      "language": "python",
      "name": "python3"
    },
    "language_info": {
      "codemirror_mode": {
        "name": "ipython",
        "version": 3
      },
      "file_extension": ".py",
      "mimetype": "text/x-python",
      "name": "python",
      "nbconvert_exporter": "python",
      "pygments_lexer": "ipython3",
      "version": "3.7.1"
    },
    "toc": {
      "base_numbering": 1,
      "nav_menu": {},
      "number_sections": true,
      "sideBar": true,
      "skip_h1_title": true,
      "title_cell": "Table of Contents",
      "title_sidebar": "Contents",
      "toc_cell": false,
      "toc_position": {},
      "toc_section_display": true,
      "toc_window_display": true
    }
  },
  "nbformat": 4,
  "nbformat_minor": 2
}