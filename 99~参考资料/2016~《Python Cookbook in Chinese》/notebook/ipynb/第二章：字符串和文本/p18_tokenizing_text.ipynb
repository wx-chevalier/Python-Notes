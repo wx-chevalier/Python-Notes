{
  "cells": [
    {
      "cell_type": "markdown",
      "metadata": {},
      "source": [
        "## 2.18 \u5b57\u7b26\u4e32\u4ee4\u724c\u89e3\u6790\n"
      ]
    },
    {
      "cell_type": "markdown",
      "metadata": {},
      "source": [
        "### \u95ee\u9898\n"
      ]
    },
    {
      "cell_type": "markdown",
      "metadata": {},
      "source": [
        "\u4f60\u6709\u4e00\u4e2a\u5b57\u7b26\u4e32\uff0c\u60f3\u4ece\u5de6\u81f3\u53f3\u5c06\u5176\u89e3\u6790\u4e3a\u4e00\u4e2a\u4ee4\u724c\u6d41\u3002"
      ]
    },
    {
      "cell_type": "markdown",
      "metadata": {},
      "source": [
        "### \u89e3\u51b3\u65b9\u6848\n"
      ]
    },
    {
      "cell_type": "markdown",
      "metadata": {},
      "source": [
        "\u5047\u5982\u4f60\u6709\u4e0b\u9762\u8fd9\u6837\u4e00\u4e2a\u6587\u672c\u5b57\u7b26\u4e32\uff1a"
      ]
    },
    {
      "cell_type": "code",
      "execution_count": null,
      "metadata": {},
      "outputs": [],
      "source": [
        "text = 'foo = 23 + 42 * 10'"
      ]
    },
    {
      "cell_type": "markdown",
      "metadata": {},
      "source": [
        "\u4e3a\u4e86\u4ee4\u724c\u5316\u5b57\u7b26\u4e32\uff0c\u4f60\u4e0d\u4ec5\u9700\u8981\u5339\u914d\u6a21\u5f0f\uff0c\u8fd8\u5f97\u6307\u5b9a\u6a21\u5f0f\u7684\u7c7b\u578b\u3002\n\u6bd4\u5982\uff0c\u4f60\u53ef\u80fd\u60f3\u5c06\u5b57\u7b26\u4e32\u50cf\u4e0b\u9762\u8fd9\u6837\u8f6c\u6362\u4e3a\u5e8f\u5217\u5bf9\uff1a"
      ]
    },
    {
      "cell_type": "code",
      "execution_count": null,
      "metadata": {},
      "outputs": [],
      "source": [
        "tokens = [('NAME', 'foo'), ('EQ','='), ('NUM', '23'), ('PLUS','+'),\n          ('NUM', '42'), ('TIMES', '*'), ('NUM', '10')]"
      ]
    },
    {
      "cell_type": "markdown",
      "metadata": {},
      "source": [
        "\u4e3a\u4e86\u6267\u884c\u8fd9\u6837\u7684\u5207\u5206\uff0c\u7b2c\u4e00\u6b65\u5c31\u662f\u50cf\u4e0b\u9762\u8fd9\u6837\u5229\u7528\u547d\u540d\u6355\u83b7\u7ec4\u7684\u6b63\u5219\u8868\u8fbe\u5f0f\u6765\u5b9a\u4e49\u6240\u6709\u53ef\u80fd\u7684\u4ee4\u724c\uff0c\u5305\u62ec\u7a7a\u683c\uff1a"
      ]
    },
    {
      "cell_type": "code",
      "execution_count": null,
      "metadata": {},
      "outputs": [],
      "source": [
        "import re\nNAME = r'(?P<NAME>[a-zA-Z_][a-zA-Z_0-9]*)'\nNUM = r'(?P<NUM>\\d+)'\nPLUS = r'(?P<PLUS>\\+)'\nTIMES = r'(?P<TIMES>\\*)'\nEQ = r'(?P<EQ>=)'\nWS = r'(?P<WS>\\s+)'\n\nmaster_pat = re.compile('|'.join([NAME, NUM, PLUS, TIMES, EQ, WS]))"
      ]
    },
    {
      "cell_type": "markdown",
      "metadata": {},
      "source": [
        "\u5728\u4e0a\u9762\u7684\u6a21\u5f0f\u4e2d\uff0c ?P<TOKENNAME> \u7528\u4e8e\u7ed9\u4e00\u4e2a\u6a21\u5f0f\u547d\u540d\uff0c\u4f9b\u540e\u9762\u4f7f\u7528\u3002"
      ]
    },
    {
      "cell_type": "markdown",
      "metadata": {},
      "source": [
        "\u4e0b\u4e00\u6b65\uff0c\u4e3a\u4e86\u4ee4\u724c\u5316\uff0c\u4f7f\u7528\u6a21\u5f0f\u5bf9\u8c61\u5f88\u5c11\u88ab\u4eba\u77e5\u9053\u7684 scanner() \u65b9\u6cd5\u3002\n\u8fd9\u4e2a\u65b9\u6cd5\u4f1a\u521b\u5efa\u4e00\u4e2a scanner \u5bf9\u8c61\uff0c\n\u5728\u8fd9\u4e2a\u5bf9\u8c61\u4e0a\u4e0d\u65ad\u7684\u8c03\u7528 match() \u65b9\u6cd5\u4f1a\u4e00\u6b65\u6b65\u7684\u626b\u63cf\u76ee\u6807\u6587\u672c\uff0c\u6bcf\u6b65\u4e00\u4e2a\u5339\u914d\u3002\n\u4e0b\u9762\u662f\u6f14\u793a\u4e00\u4e2a scanner \u5bf9\u8c61\u5982\u4f55\u5de5\u4f5c\u7684\u4ea4\u4e92\u5f0f\u4f8b\u5b50\uff1a"
      ]
    },
    {
      "cell_type": "code",
      "execution_count": null,
      "metadata": {},
      "outputs": [],
      "source": [
        "scanner = master_pat.scanner('foo = 42')\nscanner.match()"
      ]
    },
    {
      "cell_type": "code",
      "execution_count": null,
      "metadata": {},
      "outputs": [],
      "source": [
        "_.lastgroup, _.group()"
      ]
    },
    {
      "cell_type": "code",
      "execution_count": null,
      "metadata": {},
      "outputs": [],
      "source": [
        "scanner.match()"
      ]
    },
    {
      "cell_type": "code",
      "execution_count": null,
      "metadata": {},
      "outputs": [],
      "source": [
        "_.lastgroup, _.group()"
      ]
    },
    {
      "cell_type": "code",
      "execution_count": null,
      "metadata": {},
      "outputs": [],
      "source": [
        "scanner.match()"
      ]
    },
    {
      "cell_type": "code",
      "execution_count": null,
      "metadata": {},
      "outputs": [],
      "source": [
        "_.lastgroup, _.group()"
      ]
    },
    {
      "cell_type": "code",
      "execution_count": null,
      "metadata": {},
      "outputs": [],
      "source": [
        "scanner.match()"
      ]
    },
    {
      "cell_type": "code",
      "execution_count": null,
      "metadata": {},
      "outputs": [],
      "source": [
        "_.lastgroup, _.group()"
      ]
    },
    {
      "cell_type": "code",
      "execution_count": null,
      "metadata": {},
      "outputs": [],
      "source": [
        "scanner.match()"
      ]
    },
    {
      "cell_type": "code",
      "execution_count": null,
      "metadata": {},
      "outputs": [],
      "source": [
        "_.lastgroup, _.group()"
      ]
    },
    {
      "cell_type": "code",
      "execution_count": null,
      "metadata": {},
      "outputs": [],
      "source": [
        "scanner.match()"
      ]
    },
    {
      "cell_type": "markdown",
      "metadata": {},
      "source": [
        "\u5b9e\u9645\u4f7f\u7528\u8fd9\u79cd\u6280\u672f\u7684\u65f6\u5019\uff0c\u53ef\u4ee5\u5f88\u5bb9\u6613\u7684\u50cf\u4e0b\u9762\u8fd9\u6837\u5c06\u4e0a\u8ff0\u4ee3\u7801\u6253\u5305\u5230\u4e00\u4e2a\u751f\u6210\u5668\u4e2d\uff1a"
      ]
    },
    {
      "cell_type": "code",
      "execution_count": null,
      "metadata": {},
      "outputs": [],
      "source": [
        "def generate_tokens(pat, text):\n    Token = namedtuple('Token', ['type', 'value'])\n    scanner = pat.scanner(text)\n    for m in iter(scanner.match, None):\n        yield Token(m.lastgroup, m.group())\n\n# Example use\nfor tok in generate_tokens(master_pat, 'foo = 42'):\n    print(tok)\n# Produces output\n# Token(type='NAME', value='foo')\n# Token(type='WS', value=' ')\n# Token(type='EQ', value='=')\n# Token(type='WS', value=' ')\n# Token(type='NUM', value='42')"
      ]
    },
    {
      "cell_type": "markdown",
      "metadata": {},
      "source": [
        "\u5982\u679c\u4f60\u60f3\u8fc7\u6ee4\u4ee4\u724c\u6d41\uff0c\u4f60\u53ef\u4ee5\u5b9a\u4e49\u66f4\u591a\u7684\u751f\u6210\u5668\u51fd\u6570\u6216\u8005\u4f7f\u7528\u4e00\u4e2a\u751f\u6210\u5668\u8868\u8fbe\u5f0f\u3002\n\u6bd4\u5982\uff0c\u4e0b\u9762\u6f14\u793a\u600e\u6837\u8fc7\u6ee4\u6240\u6709\u7684\u7a7a\u767d\u4ee4\u724c\uff1a"
      ]
    },
    {
      "cell_type": "code",
      "execution_count": null,
      "metadata": {},
      "outputs": [],
      "source": [
        "tokens = (tok for tok in generate_tokens(master_pat, text)\n          if tok.type != 'WS')\nfor tok in tokens:\n    print(tok)"
      ]
    },
    {
      "cell_type": "markdown",
      "metadata": {},
      "source": [
        "### \u8ba8\u8bba\n"
      ]
    },
    {
      "cell_type": "markdown",
      "metadata": {},
      "source": [
        "\u901a\u5e38\u6765\u8bb2\u4ee4\u724c\u5316\u662f\u5f88\u591a\u9ad8\u7ea7\u6587\u672c\u89e3\u6790\u4e0e\u5904\u7406\u7684\u7b2c\u4e00\u6b65\u3002\n\u4e3a\u4e86\u4f7f\u7528\u4e0a\u9762\u7684\u626b\u63cf\u65b9\u6cd5\uff0c\u4f60\u9700\u8981\u8bb0\u4f4f\u8fd9\u91cc\u4e00\u4e9b\u91cd\u8981\u7684\u51e0\u70b9\u3002\n\u7b2c\u4e00\u70b9\u5c31\u662f\u4f60\u5fc5\u987b\u786e\u8ba4\u4f60\u4f7f\u7528\u6b63\u5219\u8868\u8fbe\u5f0f\u6307\u5b9a\u4e86\u6240\u6709\u8f93\u5165\u4e2d\u53ef\u80fd\u51fa\u73b0\u7684\u6587\u672c\u5e8f\u5217\u3002\n\u5982\u679c\u6709\u4efb\u4f55\u4e0d\u53ef\u5339\u914d\u7684\u6587\u672c\u51fa\u73b0\u4e86\uff0c\u626b\u63cf\u5c31\u4f1a\u76f4\u63a5\u505c\u6b62\u3002\u8fd9\u4e5f\u662f\u4e3a\u4ec0\u4e48\u4e0a\u9762\u4f8b\u5b50\u4e2d\u5fc5\u987b\u6307\u5b9a\u7a7a\u767d\u5b57\u7b26\u4ee4\u724c\u7684\u539f\u56e0\u3002"
      ]
    },
    {
      "cell_type": "markdown",
      "metadata": {},
      "source": [
        "\u4ee4\u724c\u7684\u987a\u5e8f\u4e5f\u662f\u6709\u5f71\u54cd\u7684\u3002 re \u6a21\u5757\u4f1a\u6309\u7167\u6307\u5b9a\u597d\u7684\u987a\u5e8f\u53bb\u505a\u5339\u914d\u3002\n\u56e0\u6b64\uff0c\u5982\u679c\u4e00\u4e2a\u6a21\u5f0f\u6070\u597d\u662f\u53e6\u4e00\u4e2a\u66f4\u957f\u6a21\u5f0f\u7684\u5b50\u5b57\u7b26\u4e32\uff0c\u90a3\u4e48\u4f60\u9700\u8981\u786e\u5b9a\u957f\u6a21\u5f0f\u5199\u5728\u524d\u9762\u3002\u6bd4\u5982\uff1a"
      ]
    },
    {
      "cell_type": "code",
      "execution_count": null,
      "metadata": {},
      "outputs": [],
      "source": [
        "LT = r'(?P<LT><)'\nLE = r'(?P<LE><=)'\nEQ = r'(?P<EQ>=)'\n\nmaster_pat = re.compile('|'.join([LE, LT, EQ])) # Correct\n# master_pat = re.compile('|'.join([LT, LE, EQ])) # Incorrect"
      ]
    },
    {
      "cell_type": "markdown",
      "metadata": {},
      "source": [
        "\u7b2c\u4e8c\u4e2a\u6a21\u5f0f\u662f\u9519\u7684\uff0c\u56e0\u4e3a\u5b83\u4f1a\u5c06\u6587\u672c<=\u5339\u914d\u4e3a\u4ee4\u724cLT\u7d27\u8ddf\u7740EQ\uff0c\u800c\u4e0d\u662f\u5355\u72ec\u7684\u4ee4\u724cLE\uff0c\u8fd9\u4e2a\u5e76\u4e0d\u662f\u6211\u4eec\u60f3\u8981\u7684\u7ed3\u679c\u3002"
      ]
    },
    {
      "cell_type": "markdown",
      "metadata": {},
      "source": [
        "\u6700\u540e\uff0c\u4f60\u9700\u8981\u7559\u610f\u4e0b\u5b50\u5b57\u7b26\u4e32\u5f62\u5f0f\u7684\u6a21\u5f0f\u3002\u6bd4\u5982\uff0c\u5047\u8bbe\u4f60\u6709\u5982\u4e0b\u4e24\u4e2a\u6a21\u5f0f\uff1a"
      ]
    },
    {
      "cell_type": "code",
      "execution_count": null,
      "metadata": {},
      "outputs": [],
      "source": [
        "PRINT = r'(?P<PRINT>print)'\nNAME = r'(?P<NAME>[a-zA-Z_][a-zA-Z_0-9]*)'\n\nmaster_pat = re.compile('|'.join([PRINT, NAME]))\n\nfor tok in generate_tokens(master_pat, 'printer'):\n    print(tok)\n\n# Outputs :\n# Token(type='PRINT', value='print')\n# Token(type='NAME', value='er')"
      ]
    },
    {
      "cell_type": "markdown",
      "metadata": {},
      "source": [
        "\u5173\u4e8e\u66f4\u9ad8\u9636\u7684\u4ee4\u724c\u5316\u6280\u672f\uff0c\u4f60\u53ef\u80fd\u9700\u8981\u67e5\u770b PyParsing\n\u6216\u8005 PLY \u5305\u3002\n\u4e00\u4e2a\u8c03\u7528PLY\u7684\u4f8b\u5b50\u5728\u4e0b\u4e00\u8282\u4f1a\u6709\u6f14\u793a\u3002"
      ]
    }
  ],
  "metadata": {
    "kernelspec": {
      "display_name": "Python 3",
      "language": "python",
      "name": "python3"
    },
    "language_info": {
      "codemirror_mode": {
        "name": "ipython",
        "version": 3
      },
      "file_extension": ".py",
      "mimetype": "text/x-python",
      "name": "python",
      "nbconvert_exporter": "python",
      "pygments_lexer": "ipython3",
      "version": "3.7.1"
    },
    "toc": {
      "base_numbering": 1,
      "nav_menu": {},
      "number_sections": true,
      "sideBar": true,
      "skip_h1_title": true,
      "title_cell": "Table of Contents",
      "title_sidebar": "Contents",
      "toc_cell": false,
      "toc_position": {},
      "toc_section_display": true,
      "toc_window_display": true
    }
  },
  "nbformat": 4,
  "nbformat_minor": 2
}