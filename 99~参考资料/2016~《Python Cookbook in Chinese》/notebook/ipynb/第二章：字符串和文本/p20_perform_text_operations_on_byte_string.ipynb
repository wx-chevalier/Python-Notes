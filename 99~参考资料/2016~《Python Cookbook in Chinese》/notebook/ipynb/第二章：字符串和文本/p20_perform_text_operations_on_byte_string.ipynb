{
  "cells": [
    {
      "cell_type": "markdown",
      "metadata": {},
      "source": [
        "## 2.20 \u5b57\u8282\u5b57\u7b26\u4e32\u4e0a\u7684\u5b57\u7b26\u4e32\u64cd\u4f5c\n"
      ]
    },
    {
      "cell_type": "markdown",
      "metadata": {},
      "source": [
        "### \u95ee\u9898\n"
      ]
    },
    {
      "cell_type": "markdown",
      "metadata": {},
      "source": [
        "\u4f60\u60f3\u5728\u5b57\u8282\u5b57\u7b26\u4e32\u4e0a\u6267\u884c\u666e\u901a\u7684\u6587\u672c\u64cd\u4f5c(\u6bd4\u5982\u79fb\u9664\uff0c\u641c\u7d22\u548c\u66ff\u6362)\u3002"
      ]
    },
    {
      "cell_type": "markdown",
      "metadata": {},
      "source": [
        "### \u89e3\u51b3\u65b9\u6848\n"
      ]
    },
    {
      "cell_type": "markdown",
      "metadata": {},
      "source": [
        "\u5b57\u8282\u5b57\u7b26\u4e32\u540c\u6837\u4e5f\u652f\u6301\u5927\u90e8\u5206\u548c\u6587\u672c\u5b57\u7b26\u4e32\u4e00\u6837\u7684\u5185\u7f6e\u64cd\u4f5c\u3002\u6bd4\u5982\uff1a"
      ]
    },
    {
      "cell_type": "code",
      "execution_count": null,
      "metadata": {},
      "outputs": [],
      "source": [
        "data = b'Hello World'\ndata[0:5]"
      ]
    },
    {
      "cell_type": "code",
      "execution_count": null,
      "metadata": {},
      "outputs": [],
      "source": [
        "data.startswith(b'Hello')"
      ]
    },
    {
      "cell_type": "code",
      "execution_count": null,
      "metadata": {},
      "outputs": [],
      "source": [
        "data.split()"
      ]
    },
    {
      "cell_type": "code",
      "execution_count": null,
      "metadata": {},
      "outputs": [],
      "source": [
        "data.replace(b'Hello', b'Hello Cruel')"
      ]
    },
    {
      "cell_type": "markdown",
      "metadata": {},
      "source": [
        "\u8fd9\u4e9b\u64cd\u4f5c\u540c\u6837\u4e5f\u9002\u7528\u4e8e\u5b57\u8282\u6570\u7ec4\u3002\u6bd4\u5982\uff1a"
      ]
    },
    {
      "cell_type": "code",
      "execution_count": null,
      "metadata": {},
      "outputs": [],
      "source": [
        "data = bytearray(b'Hello World')\ndata[0:5]"
      ]
    },
    {
      "cell_type": "code",
      "execution_count": null,
      "metadata": {},
      "outputs": [],
      "source": [
        "data.startswith(b'Hello')"
      ]
    },
    {
      "cell_type": "code",
      "execution_count": null,
      "metadata": {},
      "outputs": [],
      "source": [
        "data.split()"
      ]
    },
    {
      "cell_type": "code",
      "execution_count": null,
      "metadata": {},
      "outputs": [],
      "source": [
        "data.replace(b'Hello', b'Hello Cruel')"
      ]
    },
    {
      "cell_type": "markdown",
      "metadata": {},
      "source": [
        "\u4f60\u53ef\u4ee5\u4f7f\u7528\u6b63\u5219\u8868\u8fbe\u5f0f\u5339\u914d\u5b57\u8282\u5b57\u7b26\u4e32\uff0c\u4f46\u662f\u6b63\u5219\u8868\u8fbe\u5f0f\u672c\u8eab\u5fc5\u987b\u4e5f\u662f\u5b57\u8282\u4e32\u3002\u6bd4\u5982\uff1a"
      ]
    },
    {
      "cell_type": "code",
      "execution_count": null,
      "metadata": {},
      "outputs": [],
      "source": [
        "data = b'FOO:BAR,SPAM'\nimport re\nre.split('[:,]',data)"
      ]
    },
    {
      "cell_type": "code",
      "execution_count": null,
      "metadata": {},
      "outputs": [],
      "source": [
        "re.split(b'[:,]',data) # Notice: pattern as bytes"
      ]
    },
    {
      "cell_type": "markdown",
      "metadata": {},
      "source": [
        "### \u8ba8\u8bba\n"
      ]
    },
    {
      "cell_type": "markdown",
      "metadata": {},
      "source": [
        "\u5927\u591a\u6570\u60c5\u51b5\u4e0b\uff0c\u5728\u6587\u672c\u5b57\u7b26\u4e32\u4e0a\u7684\u64cd\u4f5c\u5747\u53ef\u7528\u4e8e\u5b57\u8282\u5b57\u7b26\u4e32\u3002\n\u7136\u800c\uff0c\u8fd9\u91cc\u4e5f\u6709\u4e00\u4e9b\u9700\u8981\u6ce8\u610f\u7684\u4e0d\u540c\u70b9\u3002\u9996\u5148\uff0c\u5b57\u8282\u5b57\u7b26\u4e32\u7684\u7d22\u5f15\u64cd\u4f5c\u8fd4\u56de\u6574\u6570\u800c\u4e0d\u662f\u5355\u72ec\u5b57\u7b26\u3002\u6bd4\u5982\uff1a"
      ]
    },
    {
      "cell_type": "code",
      "execution_count": null,
      "metadata": {},
      "outputs": [],
      "source": [
        "a = 'Hello World' # Text string\na[0]"
      ]
    },
    {
      "cell_type": "code",
      "execution_count": null,
      "metadata": {},
      "outputs": [],
      "source": [
        "a[1]"
      ]
    },
    {
      "cell_type": "code",
      "execution_count": null,
      "metadata": {},
      "outputs": [],
      "source": [
        "b = b'Hello World' # Byte string\nb[0]"
      ]
    },
    {
      "cell_type": "code",
      "execution_count": null,
      "metadata": {},
      "outputs": [],
      "source": [
        "b[1]"
      ]
    },
    {
      "cell_type": "markdown",
      "metadata": {},
      "source": [
        "\u8fd9\u79cd\u8bed\u4e49\u4e0a\u7684\u533a\u522b\u4f1a\u5bf9\u4e8e\u5904\u7406\u9762\u5411\u5b57\u8282\u7684\u5b57\u7b26\u6570\u636e\u6709\u5f71\u54cd\u3002"
      ]
    },
    {
      "cell_type": "markdown",
      "metadata": {},
      "source": [
        "\u7b2c\u4e8c\u70b9\uff0c\u5b57\u8282\u5b57\u7b26\u4e32\u4e0d\u4f1a\u63d0\u4f9b\u4e00\u4e2a\u7f8e\u89c2\u7684\u5b57\u7b26\u4e32\u8868\u793a\uff0c\u4e5f\u4e0d\u80fd\u5f88\u597d\u7684\u6253\u5370\u51fa\u6765\uff0c\u9664\u975e\u5b83\u4eec\u5148\u88ab\u89e3\u7801\u4e3a\u4e00\u4e2a\u6587\u672c\u5b57\u7b26\u4e32\u3002\u6bd4\u5982\uff1a"
      ]
    },
    {
      "cell_type": "code",
      "execution_count": null,
      "metadata": {},
      "outputs": [],
      "source": [
        "s = b'Hello World'\nprint(s)"
      ]
    },
    {
      "cell_type": "code",
      "execution_count": null,
      "metadata": {},
      "outputs": [],
      "source": [
        "print(s.decode('ascii'))"
      ]
    },
    {
      "cell_type": "markdown",
      "metadata": {},
      "source": [
        "\u7c7b\u4f3c\u7684\uff0c\u4e5f\u4e0d\u5b58\u5728\u4efb\u4f55\u9002\u7528\u4e8e\u5b57\u8282\u5b57\u7b26\u4e32\u7684\u683c\u5f0f\u5316\u64cd\u4f5c\uff1a"
      ]
    },
    {
      "cell_type": "code",
      "execution_count": null,
      "metadata": {},
      "outputs": [],
      "source": [
        "b'%10s %10d %10.2f' % (b'ACME', 100, 490.1)"
      ]
    },
    {
      "cell_type": "code",
      "execution_count": null,
      "metadata": {},
      "outputs": [],
      "source": [
        "b'{} {} {}'.format(b'ACME', 100, 490.1)"
      ]
    },
    {
      "cell_type": "markdown",
      "metadata": {},
      "source": [
        "\u5982\u679c\u4f60\u60f3\u683c\u5f0f\u5316\u5b57\u8282\u5b57\u7b26\u4e32\uff0c\u4f60\u5f97\u5148\u4f7f\u7528\u6807\u51c6\u7684\u6587\u672c\u5b57\u7b26\u4e32\uff0c\u7136\u540e\u5c06\u5176\u7f16\u7801\u4e3a\u5b57\u8282\u5b57\u7b26\u4e32\u3002\u6bd4\u5982\uff1a"
      ]
    },
    {
      "cell_type": "code",
      "execution_count": null,
      "metadata": {},
      "outputs": [],
      "source": [
        "'{:10s} {:10d} {:10.2f}'.format('ACME', 100, 490.1).encode('ascii')"
      ]
    },
    {
      "cell_type": "markdown",
      "metadata": {},
      "source": [
        "\u6700\u540e\u9700\u8981\u6ce8\u610f\u7684\u662f\uff0c\u4f7f\u7528\u5b57\u8282\u5b57\u7b26\u4e32\u53ef\u80fd\u4f1a\u6539\u53d8\u4e00\u4e9b\u64cd\u4f5c\u7684\u8bed\u4e49\uff0c\u7279\u522b\u662f\u90a3\u4e9b\u8ddf\u6587\u4ef6\u7cfb\u7edf\u6709\u5173\u7684\u64cd\u4f5c\u3002\n\u6bd4\u5982\uff0c\u5982\u679c\u4f60\u4f7f\u7528\u4e00\u4e2a\u7f16\u7801\u4e3a\u5b57\u8282\u7684\u6587\u4ef6\u540d\uff0c\u800c\u4e0d\u662f\u4e00\u4e2a\u666e\u901a\u7684\u6587\u672c\u5b57\u7b26\u4e32\uff0c\u4f1a\u7981\u7528\u6587\u4ef6\u540d\u7684\u7f16\u7801/\u89e3\u7801\u3002\u6bd4\u5982\uff1a"
      ]
    },
    {
      "cell_type": "code",
      "execution_count": null,
      "metadata": {},
      "outputs": [],
      "source": [
        "# Write a UTF-8 filename\nwith open('jalape\\xf1o.txt', 'w') as f:\n    f.write('spicy')\n# Get a directory listing\nimport os\nos.listdir('.') # Text string (names are decoded)"
      ]
    },
    {
      "cell_type": "code",
      "execution_count": null,
      "metadata": {},
      "outputs": [],
      "source": [
        "os.listdir(b'.') # Byte string (names left as bytes)"
      ]
    },
    {
      "cell_type": "markdown",
      "metadata": {},
      "source": [
        "\u6ce8\u610f\u4f8b\u5b50\u4e2d\u7684\u6700\u540e\u90e8\u5206\u7ed9\u76ee\u5f55\u540d\u4f20\u9012\u4e00\u4e2a\u5b57\u8282\u5b57\u7b26\u4e32\u662f\u600e\u6837\u5bfc\u81f4\u7ed3\u679c\u4e2d\u6587\u4ef6\u540d\u4ee5\u672a\u89e3\u7801\u5b57\u8282\u8fd4\u56de\u7684\u3002\n\u5728\u76ee\u5f55\u4e2d\u7684\u6587\u4ef6\u540d\u5305\u542b\u539f\u59cb\u7684UTF-8\u7f16\u7801\u3002\n\u53c2\u80035.15\u5c0f\u8282\u83b7\u53d6\u66f4\u591a\u6587\u4ef6\u540d\u76f8\u5173\u7684\u5185\u5bb9\u3002"
      ]
    },
    {
      "cell_type": "markdown",
      "metadata": {},
      "source": [
        "\u6700\u540e\u63d0\u4e00\u70b9\uff0c\u4e00\u4e9b\u7a0b\u5e8f\u5458\u4e3a\u4e86\u63d0\u5347\u7a0b\u5e8f\u6267\u884c\u7684\u901f\u5ea6\u4f1a\u503e\u5411\u4e8e\u4f7f\u7528\u5b57\u8282\u5b57\u7b26\u4e32\u800c\u4e0d\u662f\u6587\u672c\u5b57\u7b26\u4e32\u3002\n\u5c3d\u7ba1\u64cd\u4f5c\u5b57\u8282\u5b57\u7b26\u4e32\u786e\u5b9e\u4f1a\u6bd4\u6587\u672c\u66f4\u52a0\u9ad8\u6548(\u56e0\u4e3a\u5904\u7406\u6587\u672c\u56fa\u6709\u7684Unicode\u76f8\u5173\u5f00\u9500)\u3002\n\u8fd9\u6837\u505a\u901a\u5e38\u4f1a\u5bfc\u81f4\u975e\u5e38\u6742\u4e71\u7684\u4ee3\u7801\u3002\u4f60\u4f1a\u7ecf\u5e38\u53d1\u73b0\u5b57\u8282\u5b57\u7b26\u4e32\u5e76\u4e0d\u80fd\u548cPython\u7684\u5176\u4ed6\u90e8\u5206\u5de5\u4f5c\u7684\u5f88\u597d\uff0c\n\u5e76\u4e14\u4f60\u8fd8\u5f97\u624b\u52a8\u5904\u7406\u6240\u6709\u7684\u7f16\u7801/\u89e3\u7801\u64cd\u4f5c\u3002\n\u5766\u767d\u8bb2\uff0c\u5982\u679c\u4f60\u5728\u5904\u7406\u6587\u672c\u7684\u8bdd\uff0c\u5c31\u76f4\u63a5\u5728\u7a0b\u5e8f\u4e2d\u4f7f\u7528\u666e\u901a\u7684\u6587\u672c\u5b57\u7b26\u4e32\u800c\u4e0d\u662f\u5b57\u8282\u5b57\u7b26\u4e32\u3002\u4e0d\u505a\u6b7b\u5c31\u4e0d\u4f1a\u6b7b\uff01"
      ]
    }
  ],
  "metadata": {
    "kernelspec": {
      "display_name": "Python 3",
      "language": "python",
      "name": "python3"
    },
    "language_info": {
      "codemirror_mode": {
        "name": "ipython",
        "version": 3
      },
      "file_extension": ".py",
      "mimetype": "text/x-python",
      "name": "python",
      "nbconvert_exporter": "python",
      "pygments_lexer": "ipython3",
      "version": "3.7.1"
    },
    "toc": {
      "base_numbering": 1,
      "nav_menu": {},
      "number_sections": true,
      "sideBar": true,
      "skip_h1_title": true,
      "title_cell": "Table of Contents",
      "title_sidebar": "Contents",
      "toc_cell": false,
      "toc_position": {},
      "toc_section_display": true,
      "toc_window_display": true
    }
  },
  "nbformat": 4,
  "nbformat_minor": 2
}