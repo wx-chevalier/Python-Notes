{
  "cells": [
    {
      "cell_type": "markdown",
      "metadata": {},
      "source": [
        "## 2.2 \u5b57\u7b26\u4e32\u5f00\u5934\u6216\u7ed3\u5c3e\u5339\u914d\n"
      ]
    },
    {
      "cell_type": "markdown",
      "metadata": {},
      "source": [
        "### \u95ee\u9898\n"
      ]
    },
    {
      "cell_type": "markdown",
      "metadata": {},
      "source": [
        "\u4f60\u9700\u8981\u901a\u8fc7\u6307\u5b9a\u7684\u6587\u672c\u6a21\u5f0f\u53bb\u68c0\u67e5\u5b57\u7b26\u4e32\u7684\u5f00\u5934\u6216\u8005\u7ed3\u5c3e\uff0c\u6bd4\u5982\u6587\u4ef6\u540d\u540e\u7f00\uff0cURL Scheme\u7b49\u7b49\u3002"
      ]
    },
    {
      "cell_type": "markdown",
      "metadata": {},
      "source": [
        "### \u89e3\u51b3\u65b9\u6848\n"
      ]
    },
    {
      "cell_type": "markdown",
      "metadata": {},
      "source": [
        "\u68c0\u67e5\u5b57\u7b26\u4e32\u5f00\u5934\u6216\u7ed3\u5c3e\u7684\u4e00\u4e2a\u7b80\u5355\u65b9\u6cd5\u662f\u4f7f\u7528 str.startswith() \u6216\u8005\u662f str.endswith() \u65b9\u6cd5\u3002\u6bd4\u5982\uff1a"
      ]
    },
    {
      "cell_type": "code",
      "execution_count": null,
      "metadata": {},
      "outputs": [],
      "source": [
        "filename = 'spam.txt'\nfilename.endswith('.txt')"
      ]
    },
    {
      "cell_type": "code",
      "execution_count": null,
      "metadata": {},
      "outputs": [],
      "source": [
        "filename.startswith('file:')"
      ]
    },
    {
      "cell_type": "code",
      "execution_count": null,
      "metadata": {},
      "outputs": [],
      "source": [
        "url = 'http://www.python.org'\nurl.startswith('http:')"
      ]
    },
    {
      "cell_type": "markdown",
      "metadata": {},
      "source": [
        "\u5982\u679c\u4f60\u60f3\u68c0\u67e5\u591a\u79cd\u5339\u914d\u53ef\u80fd\uff0c\u53ea\u9700\u8981\u5c06\u6240\u6709\u7684\u5339\u914d\u9879\u653e\u5165\u5230\u4e00\u4e2a\u5143\u7ec4\u4e2d\u53bb\uff0c\n\u7136\u540e\u4f20\u7ed9 startswith() \u6216\u8005 endswith() \u65b9\u6cd5\uff1a"
      ]
    },
    {
      "cell_type": "code",
      "execution_count": null,
      "metadata": {},
      "outputs": [],
      "source": [
        "import os\nfilenames = os.listdir('.')\nfilenames"
      ]
    },
    {
      "cell_type": "code",
      "execution_count": null,
      "metadata": {},
      "outputs": [],
      "source": [
        "[name for name in filenames if name.endswith(('.c', '.h')) ]"
      ]
    },
    {
      "cell_type": "code",
      "execution_count": null,
      "metadata": {},
      "outputs": [],
      "source": [
        "any(name.endswith('.py') for name in filenames)"
      ]
    },
    {
      "cell_type": "markdown",
      "metadata": {},
      "source": [
        "\u4e0b\u9762\u662f\u53e6\u4e00\u4e2a\u4f8b\u5b50\uff1a"
      ]
    },
    {
      "cell_type": "code",
      "execution_count": null,
      "metadata": {},
      "outputs": [],
      "source": [
        "from urllib.request import urlopen\n\ndef read_data(name):\n    if name.startswith(('http:', 'https:', 'ftp:')):\n        return urlopen(name).read()\n    else:\n        with open(name) as f:\n            return f.read()"
      ]
    },
    {
      "cell_type": "markdown",
      "metadata": {},
      "source": [
        "\u5947\u602a\u7684\u662f\uff0c\u8fd9\u4e2a\u65b9\u6cd5\u4e2d\u5fc5\u987b\u8981\u8f93\u5165\u4e00\u4e2a\u5143\u7ec4\u4f5c\u4e3a\u53c2\u6570\u3002\n\u5982\u679c\u4f60\u6070\u5de7\u6709\u4e00\u4e2a list \u6216\u8005 set \u7c7b\u578b\u7684\u9009\u62e9\u9879\uff0c\n\u8981\u786e\u4fdd\u4f20\u9012\u53c2\u6570\u524d\u5148\u8c03\u7528 tuple() \u5c06\u5176\u8f6c\u6362\u4e3a\u5143\u7ec4\u7c7b\u578b\u3002\u6bd4\u5982\uff1a"
      ]
    },
    {
      "cell_type": "code",
      "execution_count": null,
      "metadata": {},
      "outputs": [],
      "source": [
        "choices = ['http:', 'ftp:']\nurl = 'http://www.python.org'\nurl.startswith(choices)"
      ]
    },
    {
      "cell_type": "code",
      "execution_count": null,
      "metadata": {},
      "outputs": [],
      "source": [
        "url.startswith(tuple(choices))"
      ]
    },
    {
      "cell_type": "markdown",
      "metadata": {},
      "source": [
        "### \u8ba8\u8bba\n"
      ]
    },
    {
      "cell_type": "markdown",
      "metadata": {},
      "source": [
        "startswith() \u548c endswith() \u65b9\u6cd5\u63d0\u4f9b\u4e86\u4e00\u4e2a\u975e\u5e38\u65b9\u4fbf\u7684\u65b9\u5f0f\u53bb\u505a\u5b57\u7b26\u4e32\u5f00\u5934\u548c\u7ed3\u5c3e\u7684\u68c0\u67e5\u3002\n\u7c7b\u4f3c\u7684\u64cd\u4f5c\u4e5f\u53ef\u4ee5\u4f7f\u7528\u5207\u7247\u6765\u5b9e\u73b0\uff0c\u4f46\u662f\u4ee3\u7801\u770b\u8d77\u6765\u6ca1\u6709\u90a3\u4e48\u4f18\u96c5\u3002\u6bd4\u5982\uff1a"
      ]
    },
    {
      "cell_type": "code",
      "execution_count": null,
      "metadata": {},
      "outputs": [],
      "source": [
        "filename = 'spam.txt'\nfilename[-4:] == '.txt'"
      ]
    },
    {
      "cell_type": "code",
      "execution_count": null,
      "metadata": {},
      "outputs": [],
      "source": [
        "url = 'http://www.python.org'\nurl[:5] == 'http:' or url[:6] == 'https:' or url[:4] == 'ftp:'"
      ]
    },
    {
      "cell_type": "markdown",
      "metadata": {},
      "source": [
        "\u4f60\u53ef\u4ee5\u80fd\u8fd8\u60f3\u4f7f\u7528\u6b63\u5219\u8868\u8fbe\u5f0f\u53bb\u5b9e\u73b0\uff0c\u6bd4\u5982\uff1a"
      ]
    },
    {
      "cell_type": "code",
      "execution_count": null,
      "metadata": {},
      "outputs": [],
      "source": [
        "import re\nurl = 'http://www.python.org'\nre.match('http:|https:|ftp:', url)"
      ]
    },
    {
      "cell_type": "markdown",
      "metadata": {},
      "source": [
        "\u8fd9\u79cd\u65b9\u5f0f\u4e5f\u884c\u5f97\u901a\uff0c\u4f46\u662f\u5bf9\u4e8e\u7b80\u5355\u7684\u5339\u914d\u5b9e\u5728\u662f\u6709\u70b9\u5c0f\u6750\u5927\u7528\u4e86\uff0c\u672c\u8282\u4e2d\u7684\u65b9\u6cd5\u66f4\u52a0\u7b80\u5355\u5e76\u4e14\u8fd0\u884c\u4f1a\u66f4\u5feb\u4e9b\u3002"
      ]
    },
    {
      "cell_type": "markdown",
      "metadata": {},
      "source": [
        "\u6700\u540e\u63d0\u4e00\u4e0b\uff0c\u5f53\u548c\u5176\u4ed6\u64cd\u4f5c\u6bd4\u5982\u666e\u901a\u6570\u636e\u805a\u5408\u76f8\u7ed3\u5408\u7684\u65f6\u5019 startswith() \u548c endswith() \u65b9\u6cd5\u662f\u5f88\u4e0d\u9519\u7684\u3002\n\u6bd4\u5982\uff0c\u4e0b\u9762\u8fd9\u4e2a\u8bed\u53e5\u68c0\u67e5\u67d0\u4e2a\u6587\u4ef6\u5939\u4e2d\u662f\u5426\u5b58\u5728\u6307\u5b9a\u7684\u6587\u4ef6\u7c7b\u578b\uff1a"
      ]
    },
    {
      "cell_type": "code",
      "execution_count": null,
      "metadata": {},
      "outputs": [],
      "source": [
        "if any(name.endswith(('.c', '.h')) for name in listdir(dirname)):\n..."
      ]
    }
  ],
  "metadata": {
    "kernelspec": {
      "display_name": "Python 3",
      "language": "python",
      "name": "python3"
    },
    "language_info": {
      "codemirror_mode": {
        "name": "ipython",
        "version": 3
      },
      "file_extension": ".py",
      "mimetype": "text/x-python",
      "name": "python",
      "nbconvert_exporter": "python",
      "pygments_lexer": "ipython3",
      "version": "3.7.1"
    },
    "toc": {
      "base_numbering": 1,
      "nav_menu": {},
      "number_sections": true,
      "sideBar": true,
      "skip_h1_title": true,
      "title_cell": "Table of Contents",
      "title_sidebar": "Contents",
      "toc_cell": false,
      "toc_position": {},
      "toc_section_display": true,
      "toc_window_display": true
    }
  },
  "nbformat": 4,
  "nbformat_minor": 2
}