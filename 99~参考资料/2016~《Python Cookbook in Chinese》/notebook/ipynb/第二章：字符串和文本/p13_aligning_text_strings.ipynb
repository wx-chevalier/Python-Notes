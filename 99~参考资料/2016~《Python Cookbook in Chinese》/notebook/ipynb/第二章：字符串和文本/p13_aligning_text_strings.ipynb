{
  "cells": [
    {
      "cell_type": "markdown",
      "metadata": {},
      "source": [
        "## 2.13 \u5b57\u7b26\u4e32\u5bf9\u9f50\n"
      ]
    },
    {
      "cell_type": "markdown",
      "metadata": {},
      "source": [
        "### \u95ee\u9898\n"
      ]
    },
    {
      "cell_type": "markdown",
      "metadata": {},
      "source": [
        "\u4f60\u60f3\u901a\u8fc7\u67d0\u79cd\u5bf9\u9f50\u65b9\u5f0f\u6765\u683c\u5f0f\u5316\u5b57\u7b26\u4e32"
      ]
    },
    {
      "cell_type": "markdown",
      "metadata": {},
      "source": [
        "### \u89e3\u51b3\u65b9\u6848\n"
      ]
    },
    {
      "cell_type": "markdown",
      "metadata": {},
      "source": [
        "\u5bf9\u4e8e\u57fa\u672c\u7684\u5b57\u7b26\u4e32\u5bf9\u9f50\u64cd\u4f5c\uff0c\u53ef\u4ee5\u4f7f\u7528\u5b57\u7b26\u4e32\u7684 ljust() , rjust() \u548c center() \u65b9\u6cd5\u3002\u6bd4\u5982\uff1a"
      ]
    },
    {
      "cell_type": "code",
      "execution_count": null,
      "metadata": {},
      "outputs": [],
      "source": [
        "text = 'Hello World'\ntext.ljust(20)"
      ]
    },
    {
      "cell_type": "code",
      "execution_count": null,
      "metadata": {},
      "outputs": [],
      "source": [
        "text.rjust(20)"
      ]
    },
    {
      "cell_type": "code",
      "execution_count": null,
      "metadata": {},
      "outputs": [],
      "source": [
        "text.center(20)"
      ]
    },
    {
      "cell_type": "markdown",
      "metadata": {},
      "source": [
        "\u6240\u6709\u8fd9\u4e9b\u65b9\u6cd5\u90fd\u80fd\u63a5\u53d7\u4e00\u4e2a\u53ef\u9009\u7684\u586b\u5145\u5b57\u7b26\u3002\u6bd4\u5982\uff1a"
      ]
    },
    {
      "cell_type": "code",
      "execution_count": null,
      "metadata": {},
      "outputs": [],
      "source": [
        "text.rjust(20,'=')"
      ]
    },
    {
      "cell_type": "code",
      "execution_count": null,
      "metadata": {},
      "outputs": [],
      "source": [
        "text.center(20,'*')"
      ]
    },
    {
      "cell_type": "markdown",
      "metadata": {},
      "source": [
        "\u51fd\u6570 format() \u540c\u6837\u53ef\u4ee5\u7528\u6765\u5f88\u5bb9\u6613\u7684\u5bf9\u9f50\u5b57\u7b26\u4e32\u3002\n\u4f60\u8981\u505a\u7684\u5c31\u662f\u4f7f\u7528 <,> \u6216\u8005 ^ \u5b57\u7b26\u540e\u9762\u7d27\u8ddf\u4e00\u4e2a\u6307\u5b9a\u7684\u5bbd\u5ea6\u3002\u6bd4\u5982\uff1a"
      ]
    },
    {
      "cell_type": "code",
      "execution_count": null,
      "metadata": {},
      "outputs": [],
      "source": [
        "format(text, '>20')"
      ]
    },
    {
      "cell_type": "code",
      "execution_count": null,
      "metadata": {},
      "outputs": [],
      "source": [
        "format(text, '<20')"
      ]
    },
    {
      "cell_type": "code",
      "execution_count": null,
      "metadata": {},
      "outputs": [],
      "source": [
        "format(text, '^20')"
      ]
    },
    {
      "cell_type": "markdown",
      "metadata": {},
      "source": [
        "\u5982\u679c\u4f60\u60f3\u6307\u5b9a\u4e00\u4e2a\u975e\u7a7a\u683c\u7684\u586b\u5145\u5b57\u7b26\uff0c\u5c06\u5b83\u5199\u5230\u5bf9\u9f50\u5b57\u7b26\u7684\u524d\u9762\u5373\u53ef\uff1a"
      ]
    },
    {
      "cell_type": "code",
      "execution_count": null,
      "metadata": {},
      "outputs": [],
      "source": [
        "format(text, '=>20s')"
      ]
    },
    {
      "cell_type": "code",
      "execution_count": null,
      "metadata": {},
      "outputs": [],
      "source": [
        "format(text, '*^20s')"
      ]
    },
    {
      "cell_type": "markdown",
      "metadata": {},
      "source": [
        "\u5f53\u683c\u5f0f\u5316\u591a\u4e2a\u503c\u7684\u65f6\u5019\uff0c\u8fd9\u4e9b\u683c\u5f0f\u4ee3\u7801\u4e5f\u53ef\u4ee5\u88ab\u7528\u5728 format() \u65b9\u6cd5\u4e2d\u3002\u6bd4\u5982\uff1a"
      ]
    },
    {
      "cell_type": "code",
      "execution_count": null,
      "metadata": {},
      "outputs": [],
      "source": [
        "'{:>10s} {:>10s}'.format('Hello', 'World')"
      ]
    },
    {
      "cell_type": "markdown",
      "metadata": {},
      "source": [
        "format() \u51fd\u6570\u7684\u4e00\u4e2a\u597d\u5904\u662f\u5b83\u4e0d\u4ec5\u9002\u7528\u4e8e\u5b57\u7b26\u4e32\u3002\u5b83\u53ef\u4ee5\u7528\u6765\u683c\u5f0f\u5316\u4efb\u4f55\u503c\uff0c\u4f7f\u5f97\u5b83\u975e\u5e38\u7684\u901a\u7528\u3002\n\u6bd4\u5982\uff0c\u4f60\u53ef\u4ee5\u7528\u5b83\u6765\u683c\u5f0f\u5316\u6570\u5b57\uff1a"
      ]
    },
    {
      "cell_type": "code",
      "execution_count": null,
      "metadata": {},
      "outputs": [],
      "source": [
        "x = 1.2345\nformat(x, '>10')"
      ]
    },
    {
      "cell_type": "code",
      "execution_count": null,
      "metadata": {},
      "outputs": [],
      "source": [
        "format(x, '^10.2f')"
      ]
    },
    {
      "cell_type": "markdown",
      "metadata": {},
      "source": [
        "### \u8ba8\u8bba\n"
      ]
    },
    {
      "cell_type": "markdown",
      "metadata": {},
      "source": [
        "\u5728\u8001\u7684\u4ee3\u7801\u4e2d\uff0c\u4f60\u7ecf\u5e38\u4f1a\u770b\u5230\u88ab\u7528\u6765\u683c\u5f0f\u5316\u6587\u672c\u7684 % \u64cd\u4f5c\u7b26\u3002\u6bd4\u5982\uff1a"
      ]
    },
    {
      "cell_type": "code",
      "execution_count": null,
      "metadata": {},
      "outputs": [],
      "source": [
        "'%-20s' % text"
      ]
    },
    {
      "cell_type": "code",
      "execution_count": null,
      "metadata": {},
      "outputs": [],
      "source": [
        "'%20s' % text"
      ]
    },
    {
      "cell_type": "markdown",
      "metadata": {},
      "source": [
        "\u4f46\u662f\uff0c\u5728\u65b0\u7248\u672c\u4ee3\u7801\u4e2d\uff0c\u4f60\u5e94\u8be5\u4f18\u5148\u9009\u62e9 format() \u51fd\u6570\u6216\u8005\u65b9\u6cd5\u3002\nformat() \u8981\u6bd4 % \u64cd\u4f5c\u7b26\u7684\u529f\u80fd\u66f4\u4e3a\u5f3a\u5927\u3002\n\u5e76\u4e14 format() \u4e5f\u6bd4\u4f7f\u7528 ljust() , rjust() \u6216 center() \u65b9\u6cd5\u66f4\u901a\u7528\uff0c\n\u56e0\u4e3a\u5b83\u53ef\u4ee5\u7528\u6765\u683c\u5f0f\u5316\u4efb\u610f\u5bf9\u8c61\uff0c\u800c\u4e0d\u4ec5\u4ec5\u662f\u5b57\u7b26\u4e32\u3002"
      ]
    },
    {
      "cell_type": "markdown",
      "metadata": {},
      "source": [
        "\u5982\u679c\u60f3\u8981\u5b8c\u5168\u4e86\u89e3 format() \u51fd\u6570\u7684\u6709\u7528\u7279\u6027\uff0c\n\u8bf7\u53c2\u8003 \u5728\u7ebfPython\u6587\u6863"
      ]
    }
  ],
  "metadata": {
    "kernelspec": {
      "display_name": "Python 3",
      "language": "python",
      "name": "python3"
    },
    "language_info": {
      "codemirror_mode": {
        "name": "ipython",
        "version": 3
      },
      "file_extension": ".py",
      "mimetype": "text/x-python",
      "name": "python",
      "nbconvert_exporter": "python",
      "pygments_lexer": "ipython3",
      "version": "3.7.1"
    },
    "toc": {
      "base_numbering": 1,
      "nav_menu": {},
      "number_sections": true,
      "sideBar": true,
      "skip_h1_title": true,
      "title_cell": "Table of Contents",
      "title_sidebar": "Contents",
      "toc_cell": false,
      "toc_position": {},
      "toc_section_display": true,
      "toc_window_display": true
    }
  },
  "nbformat": 4,
  "nbformat_minor": 2
}