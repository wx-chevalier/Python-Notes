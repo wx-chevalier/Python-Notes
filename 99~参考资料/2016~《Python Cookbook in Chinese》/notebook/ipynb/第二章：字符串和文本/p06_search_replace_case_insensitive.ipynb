{
  "cells": [
    {
      "cell_type": "markdown",
      "metadata": {},
      "source": [
        "## 2.6 \u5b57\u7b26\u4e32\u5ffd\u7565\u5927\u5c0f\u5199\u7684\u641c\u7d22\u66ff\u6362\n"
      ]
    },
    {
      "cell_type": "markdown",
      "metadata": {},
      "source": [
        "### \u95ee\u9898\n"
      ]
    },
    {
      "cell_type": "markdown",
      "metadata": {},
      "source": [
        "\u4f60\u9700\u8981\u4ee5\u5ffd\u7565\u5927\u5c0f\u5199\u7684\u65b9\u5f0f\u641c\u7d22\u4e0e\u66ff\u6362\u6587\u672c\u5b57\u7b26\u4e32"
      ]
    },
    {
      "cell_type": "markdown",
      "metadata": {},
      "source": [
        "### \u89e3\u51b3\u65b9\u6848\n"
      ]
    },
    {
      "cell_type": "markdown",
      "metadata": {},
      "source": [
        "\u4e3a\u4e86\u5728\u6587\u672c\u64cd\u4f5c\u65f6\u5ffd\u7565\u5927\u5c0f\u5199\uff0c\u4f60\u9700\u8981\u5728\u4f7f\u7528 re \u6a21\u5757\u7684\u65f6\u5019\u7ed9\u8fd9\u4e9b\u64cd\u4f5c\u63d0\u4f9b re.IGNORECASE \u6807\u5fd7\u53c2\u6570\u3002\u6bd4\u5982\uff1a"
      ]
    },
    {
      "cell_type": "code",
      "execution_count": null,
      "metadata": {},
      "outputs": [],
      "source": [
        "text = 'UPPER PYTHON, lower python, Mixed Python'\nre.findall('python', text, flags=re.IGNORECASE)"
      ]
    },
    {
      "cell_type": "code",
      "execution_count": null,
      "metadata": {},
      "outputs": [],
      "source": [
        "re.sub('python', 'snake', text, flags=re.IGNORECASE)"
      ]
    },
    {
      "cell_type": "markdown",
      "metadata": {},
      "source": [
        "\u6700\u540e\u7684\u90a3\u4e2a\u4f8b\u5b50\u63ed\u793a\u4e86\u4e00\u4e2a\u5c0f\u7f3a\u9677\uff0c\u66ff\u6362\u5b57\u7b26\u4e32\u5e76\u4e0d\u4f1a\u81ea\u52a8\u8ddf\u88ab\u5339\u914d\u5b57\u7b26\u4e32\u7684\u5927\u5c0f\u5199\u4fdd\u6301\u4e00\u81f4\u3002\n\u4e3a\u4e86\u4fee\u590d\u8fd9\u4e2a\uff0c\u4f60\u53ef\u80fd\u9700\u8981\u4e00\u4e2a\u8f85\u52a9\u51fd\u6570\uff0c\u5c31\u50cf\u4e0b\u9762\u7684\u8fd9\u6837\uff1a"
      ]
    },
    {
      "cell_type": "code",
      "execution_count": null,
      "metadata": {},
      "outputs": [],
      "source": [
        "def matchcase(word):\n    def replace(m):\n        text = m.group()\n        if text.isupper():\n            return word.upper()\n        elif text.islower():\n            return word.lower()\n        elif text[0].isupper():\n            return word.capitalize()\n        else:\n            return word\n    return replace"
      ]
    },
    {
      "cell_type": "markdown",
      "metadata": {},
      "source": [
        "\u4e0b\u9762\u662f\u4f7f\u7528\u4e0a\u8ff0\u51fd\u6570\u7684\u65b9\u6cd5\uff1a"
      ]
    },
    {
      "cell_type": "code",
      "execution_count": null,
      "metadata": {},
      "outputs": [],
      "source": [
        "re.sub('python', matchcase('snake'), text, flags=re.IGNORECASE)"
      ]
    },
    {
      "cell_type": "markdown",
      "metadata": {},
      "source": [
        "\u8bd1\u8005\u6ce8\uff1a matchcase('snake') \u8fd4\u56de\u4e86\u4e00\u4e2a\u56de\u8c03\u51fd\u6570(\u53c2\u6570\u5fc5\u987b\u662f match \u5bf9\u8c61)\uff0c\u524d\u9762\u4e00\u8282\u63d0\u5230\u8fc7\uff0c\nsub() \u51fd\u6570\u9664\u4e86\u63a5\u53d7\u66ff\u6362\u5b57\u7b26\u4e32\u5916\uff0c\u8fd8\u80fd\u63a5\u53d7\u4e00\u4e2a\u56de\u8c03\u51fd\u6570\u3002"
      ]
    },
    {
      "cell_type": "markdown",
      "metadata": {},
      "source": [
        "### \u8ba8\u8bba\n"
      ]
    },
    {
      "cell_type": "markdown",
      "metadata": {},
      "source": [
        "\u5bf9\u4e8e\u4e00\u822c\u7684\u5ffd\u7565\u5927\u5c0f\u5199\u7684\u5339\u914d\u64cd\u4f5c\uff0c\u7b80\u5355\u7684\u4f20\u9012\u4e00\u4e2a re.IGNORECASE \u6807\u5fd7\u53c2\u6570\u5c31\u5df2\u7ecf\u8db3\u591f\u4e86\u3002\n\u4f46\u662f\u9700\u8981\u6ce8\u610f\u7684\u662f\uff0c\u8fd9\u4e2a\u5bf9\u4e8e\u67d0\u4e9b\u9700\u8981\u5927\u5c0f\u5199\u8f6c\u6362\u7684Unicode\u5339\u914d\u53ef\u80fd\u8fd8\u4e0d\u591f\uff0c\n\u53c2\u80032.10\u5c0f\u8282\u4e86\u89e3\u66f4\u591a\u7ec6\u8282\u3002"
      ]
    }
  ],
  "metadata": {
    "kernelspec": {
      "display_name": "Python 3",
      "language": "python",
      "name": "python3"
    },
    "language_info": {
      "codemirror_mode": {
        "name": "ipython",
        "version": 3
      },
      "file_extension": ".py",
      "mimetype": "text/x-python",
      "name": "python",
      "nbconvert_exporter": "python",
      "pygments_lexer": "ipython3",
      "version": "3.7.1"
    },
    "toc": {
      "base_numbering": 1,
      "nav_menu": {},
      "number_sections": true,
      "sideBar": true,
      "skip_h1_title": true,
      "title_cell": "Table of Contents",
      "title_sidebar": "Contents",
      "toc_cell": false,
      "toc_position": {},
      "toc_section_display": true,
      "toc_window_display": true
    }
  },
  "nbformat": 4,
  "nbformat_minor": 2
}