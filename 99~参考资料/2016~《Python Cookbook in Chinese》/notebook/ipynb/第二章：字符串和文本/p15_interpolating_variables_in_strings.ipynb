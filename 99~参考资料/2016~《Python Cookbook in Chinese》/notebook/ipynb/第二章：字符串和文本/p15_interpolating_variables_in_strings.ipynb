{
  "cells": [
    {
      "cell_type": "markdown",
      "metadata": {},
      "source": [
        "## 2.15 \u5b57\u7b26\u4e32\u4e2d\u63d2\u5165\u53d8\u91cf\n"
      ]
    },
    {
      "cell_type": "markdown",
      "metadata": {},
      "source": [
        "### \u95ee\u9898\n"
      ]
    },
    {
      "cell_type": "markdown",
      "metadata": {},
      "source": [
        "\u4f60\u60f3\u521b\u5efa\u4e00\u4e2a\u5185\u5d4c\u53d8\u91cf\u7684\u5b57\u7b26\u4e32\uff0c\u53d8\u91cf\u88ab\u5b83\u7684\u503c\u6240\u8868\u793a\u7684\u5b57\u7b26\u4e32\u66ff\u6362\u6389\u3002"
      ]
    },
    {
      "cell_type": "markdown",
      "metadata": {},
      "source": [
        "### \u89e3\u51b3\u65b9\u6848\n"
      ]
    },
    {
      "cell_type": "markdown",
      "metadata": {},
      "source": [
        "Python\u5e76\u6ca1\u6709\u5bf9\u5728\u5b57\u7b26\u4e32\u4e2d\u7b80\u5355\u66ff\u6362\u53d8\u91cf\u503c\u63d0\u4f9b\u76f4\u63a5\u7684\u652f\u6301\u3002\n\u4f46\u662f\u901a\u8fc7\u4f7f\u7528\u5b57\u7b26\u4e32\u7684 format() \u65b9\u6cd5\u6765\u89e3\u51b3\u8fd9\u4e2a\u95ee\u9898\u3002\u6bd4\u5982\uff1a"
      ]
    },
    {
      "cell_type": "code",
      "execution_count": null,
      "metadata": {},
      "outputs": [],
      "source": [
        "s = '{name} has {n} messages.'\ns.format(name='Guido', n=37)"
      ]
    },
    {
      "cell_type": "markdown",
      "metadata": {},
      "source": [
        "\u6216\u8005\uff0c\u5982\u679c\u8981\u88ab\u66ff\u6362\u7684\u53d8\u91cf\u80fd\u5728\u53d8\u91cf\u57df\u4e2d\u627e\u5230\uff0c\n\u90a3\u4e48\u4f60\u53ef\u4ee5\u7ed3\u5408\u4f7f\u7528 format_map() \u548c vars() \u3002\u5c31\u50cf\u4e0b\u9762\u8fd9\u6837\uff1a"
      ]
    },
    {
      "cell_type": "code",
      "execution_count": null,
      "metadata": {},
      "outputs": [],
      "source": [
        "name = 'Guido'\nn = 37\ns.format_map(vars())"
      ]
    },
    {
      "cell_type": "markdown",
      "metadata": {},
      "source": [
        "vars() \u8fd8\u6709\u4e00\u4e2a\u6709\u610f\u601d\u7684\u7279\u6027\u5c31\u662f\u5b83\u4e5f\u9002\u7528\u4e8e\u5bf9\u8c61\u5b9e\u4f8b\u3002\u6bd4\u5982\uff1a"
      ]
    },
    {
      "cell_type": "code",
      "execution_count": null,
      "metadata": {},
      "outputs": [],
      "source": [
        "class Info:\n    def __init__(self, name, n):\n        self.name = name\n        self.n = n\na = Info('Guido',37)\ns.format_map(vars(a))"
      ]
    },
    {
      "cell_type": "markdown",
      "metadata": {},
      "source": [
        "format \u548c format_map() \u7684\u4e00\u4e2a\u7f3a\u9677\u5c31\u662f\u5b83\u4eec\u5e76\u4e0d\u80fd\u5f88\u597d\u7684\u5904\u7406\u53d8\u91cf\u7f3a\u5931\u7684\u60c5\u51b5\uff0c\u6bd4\u5982\uff1a"
      ]
    },
    {
      "cell_type": "code",
      "execution_count": null,
      "metadata": {},
      "outputs": [],
      "source": [
        "s.format(name='Guido')"
      ]
    },
    {
      "cell_type": "markdown",
      "metadata": {},
      "source": [
        "\u4e00\u79cd\u907f\u514d\u8fd9\u79cd\u9519\u8bef\u7684\u65b9\u6cd5\u662f\u53e6\u5916\u5b9a\u4e49\u4e00\u4e2a\u542b\u6709 __missing__() \u65b9\u6cd5\u7684\u5b57\u5178\u5bf9\u8c61\uff0c\u5c31\u50cf\u4e0b\u9762\u8fd9\u6837\uff1a"
      ]
    },
    {
      "cell_type": "code",
      "execution_count": null,
      "metadata": {},
      "outputs": [],
      "source": [
        "class safesub(dict):\n\"\"\"\u9632\u6b62key\u627e\u4e0d\u5230\"\"\"\ndef __missing__(self, key):\n    return '{' + key + '}'"
      ]
    },
    {
      "cell_type": "markdown",
      "metadata": {},
      "source": [
        "\u73b0\u5728\u4f60\u53ef\u4ee5\u5229\u7528\u8fd9\u4e2a\u7c7b\u5305\u88c5\u8f93\u5165\u540e\u4f20\u9012\u7ed9 format_map() \uff1a"
      ]
    },
    {
      "cell_type": "code",
      "execution_count": null,
      "metadata": {},
      "outputs": [],
      "source": [
        "del n # Make sure n is undefined\ns.format_map(safesub(vars()))"
      ]
    },
    {
      "cell_type": "markdown",
      "metadata": {},
      "source": [
        "\u5982\u679c\u4f60\u53d1\u73b0\u81ea\u5df1\u5728\u4ee3\u7801\u4e2d\u9891\u7e41\u7684\u6267\u884c\u8fd9\u4e9b\u6b65\u9aa4\uff0c\u4f60\u53ef\u4ee5\u5c06\u53d8\u91cf\u66ff\u6362\u6b65\u9aa4\u7528\u4e00\u4e2a\u5de5\u5177\u51fd\u6570\u5c01\u88c5\u8d77\u6765\u3002\u5c31\u50cf\u4e0b\u9762\u8fd9\u6837\uff1a"
      ]
    },
    {
      "cell_type": "code",
      "execution_count": null,
      "metadata": {},
      "outputs": [],
      "source": [
        "import sys\n\ndef sub(text):\n    return text.format_map(safesub(sys._getframe(1).f_locals))"
      ]
    },
    {
      "cell_type": "markdown",
      "metadata": {},
      "source": [
        "\u73b0\u5728\u4f60\u53ef\u4ee5\u50cf\u4e0b\u9762\u8fd9\u6837\u5199\u4e86\uff1a"
      ]
    },
    {
      "cell_type": "code",
      "execution_count": null,
      "metadata": {},
      "outputs": [],
      "source": [
        "name = 'Guido'\nn = 37\nprint(sub('Hello {name}'))"
      ]
    },
    {
      "cell_type": "code",
      "execution_count": null,
      "metadata": {},
      "outputs": [],
      "source": [
        "print(sub('You have {n} messages.'))"
      ]
    },
    {
      "cell_type": "code",
      "execution_count": null,
      "metadata": {},
      "outputs": [],
      "source": [
        "print(sub('Your favorite color is {color}'))"
      ]
    },
    {
      "cell_type": "markdown",
      "metadata": {},
      "source": [
        "### \u8ba8\u8bba\n"
      ]
    },
    {
      "cell_type": "markdown",
      "metadata": {},
      "source": [
        "\u591a\u5e74\u4ee5\u6765\u7531\u4e8ePython\u7f3a\u4e4f\u5bf9\u53d8\u91cf\u66ff\u6362\u7684\u5185\u7f6e\u652f\u6301\u800c\u5bfc\u81f4\u4e86\u5404\u79cd\u4e0d\u540c\u7684\u89e3\u51b3\u65b9\u6848\u3002\n\u4f5c\u4e3a\u672c\u8282\u4e2d\u5c55\u793a\u7684\u4e00\u4e2a\u53ef\u80fd\u7684\u89e3\u51b3\u65b9\u6848\uff0c\u4f60\u53ef\u4ee5\u6709\u65f6\u5019\u4f1a\u770b\u5230\u50cf\u4e0b\u9762\u8fd9\u6837\u7684\u5b57\u7b26\u4e32\u683c\u5f0f\u5316\u4ee3\u7801\uff1a"
      ]
    },
    {
      "cell_type": "code",
      "execution_count": null,
      "metadata": {},
      "outputs": [],
      "source": [
        "name = 'Guido'\nn = 37\n'%(name) has %(n) messages.' % vars()"
      ]
    },
    {
      "cell_type": "markdown",
      "metadata": {},
      "source": [
        "\u4f60\u53ef\u80fd\u8fd8\u4f1a\u770b\u5230\u5b57\u7b26\u4e32\u6a21\u677f\u7684\u4f7f\u7528\uff1a"
      ]
    },
    {
      "cell_type": "code",
      "execution_count": null,
      "metadata": {},
      "outputs": [],
      "source": [
        "import string\ns = string.Template('$name has $n messages.')\ns.substitute(vars())"
      ]
    },
    {
      "cell_type": "markdown",
      "metadata": {},
      "source": [
        "\u7136\u800c\uff0c format() \u548c format_map() \u76f8\u6bd4\u8f83\u4e0a\u9762\u8fd9\u4e9b\u65b9\u6848\u800c\u5df2\u66f4\u52a0\u5148\u8fdb\uff0c\u56e0\u6b64\u5e94\u8be5\u88ab\u4f18\u5148\u9009\u62e9\u3002\n\u4f7f\u7528 format() \u65b9\u6cd5\u8fd8\u6709\u4e00\u4e2a\u597d\u5904\u5c31\u662f\u4f60\u53ef\u4ee5\u83b7\u5f97\u5bf9\u5b57\u7b26\u4e32\u683c\u5f0f\u5316\u7684\u6240\u6709\u652f\u6301(\u5bf9\u9f50\uff0c\u586b\u5145\uff0c\u6570\u5b57\u683c\u5f0f\u5316\u7b49\u5f85)\uff0c\n\u800c\u8fd9\u4e9b\u7279\u6027\u662f\u4f7f\u7528\u50cf\u6a21\u677f\u5b57\u7b26\u4e32\u4e4b\u7c7b\u7684\u65b9\u6848\u4e0d\u53ef\u80fd\u83b7\u5f97\u7684\u3002"
      ]
    },
    {
      "cell_type": "markdown",
      "metadata": {},
      "source": [
        "\u672c\u673a\u8fd8\u90e8\u5206\u4ecb\u7ecd\u4e86\u4e00\u4e9b\u9ad8\u7ea7\u7279\u6027\u3002\u6620\u5c04\u6216\u8005\u5b57\u5178\u7c7b\u4e2d\u9c9c\u4e3a\u4eba\u77e5\u7684 __missing__() \u65b9\u6cd5\u53ef\u4ee5\u8ba9\u4f60\u5b9a\u4e49\u5982\u4f55\u5904\u7406\u7f3a\u5931\u7684\u503c\u3002\n\u5728 SafeSub \u7c7b\u4e2d\uff0c\u8fd9\u4e2a\u65b9\u6cd5\u88ab\u5b9a\u4e49\u4e3a\u5bf9\u7f3a\u5931\u7684\u503c\u8fd4\u56de\u4e00\u4e2a\u5360\u4f4d\u7b26\u3002\n\u4f60\u53ef\u4ee5\u53d1\u73b0\u7f3a\u5931\u7684\u503c\u4f1a\u51fa\u73b0\u5728\u7ed3\u679c\u5b57\u7b26\u4e32\u4e2d(\u5728\u8c03\u8bd5\u7684\u65f6\u5019\u53ef\u80fd\u5f88\u6709\u7528)\uff0c\u800c\u4e0d\u662f\u4ea7\u751f\u4e00\u4e2a KeyError \u5f02\u5e38\u3002"
      ]
    },
    {
      "cell_type": "markdown",
      "metadata": {},
      "source": [
        "sub() \u51fd\u6570\u4f7f\u7528 sys._getframe(1) \u8fd4\u56de\u8c03\u7528\u8005\u7684\u6808\u5e27\u3002\u53ef\u4ee5\u4ece\u4e2d\u8bbf\u95ee\u5c5e\u6027 f_locals \u6765\u83b7\u5f97\u5c40\u90e8\u53d8\u91cf\u3002\n\u6beb\u65e0\u7591\u95ee\u7edd\u5927\u90e8\u5206\u60c5\u51b5\u4e0b\u5728\u4ee3\u7801\u4e2d\u53bb\u76f4\u63a5\u64cd\u4f5c\u6808\u5e27\u5e94\u8be5\u662f\u4e0d\u63a8\u8350\u7684\u3002\n\u4f46\u662f\uff0c\u5bf9\u4e8e\u50cf\u5b57\u7b26\u4e32\u66ff\u6362\u5de5\u5177\u51fd\u6570\u800c\u8a00\u5b83\u662f\u975e\u5e38\u6709\u7528\u7684\u3002\n\u53e6\u5916\uff0c\u503c\u5f97\u6ce8\u610f\u7684\u662f f_locals \u662f\u4e00\u4e2a\u590d\u5236\u8c03\u7528\u51fd\u6570\u7684\u672c\u5730\u53d8\u91cf\u7684\u5b57\u5178\u3002\n\u5c3d\u7ba1\u4f60\u53ef\u4ee5\u6539\u53d8 f_locals \u7684\u5185\u5bb9\uff0c\u4f46\u662f\u8fd9\u4e2a\u4fee\u6539\u5bf9\u4e8e\u540e\u9762\u7684\u53d8\u91cf\u8bbf\u95ee\u6ca1\u6709\u4efb\u4f55\u5f71\u54cd\u3002\n\u6240\u4ee5\uff0c\u867d\u8bf4\u8bbf\u95ee\u4e00\u4e2a\u6808\u5e27\u770b\u4e0a\u53bb\u5f88\u90aa\u6076\uff0c\u4f46\u662f\u5bf9\u5b83\u7684\u4efb\u4f55\u64cd\u4f5c\u4e0d\u4f1a\u8986\u76d6\u548c\u6539\u53d8\u8c03\u7528\u8005\u672c\u5730\u53d8\u91cf\u7684\u503c\u3002"
      ]
    }
  ],
  "metadata": {
    "kernelspec": {
      "display_name": "Python 3",
      "language": "python",
      "name": "python3"
    },
    "language_info": {
      "codemirror_mode": {
        "name": "ipython",
        "version": 3
      },
      "file_extension": ".py",
      "mimetype": "text/x-python",
      "name": "python",
      "nbconvert_exporter": "python",
      "pygments_lexer": "ipython3",
      "version": "3.7.1"
    },
    "toc": {
      "base_numbering": 1,
      "nav_menu": {},
      "number_sections": true,
      "sideBar": true,
      "skip_h1_title": true,
      "title_cell": "Table of Contents",
      "title_sidebar": "Contents",
      "toc_cell": false,
      "toc_position": {},
      "toc_section_display": true,
      "toc_window_display": true
    }
  },
  "nbformat": 4,
  "nbformat_minor": 2
}