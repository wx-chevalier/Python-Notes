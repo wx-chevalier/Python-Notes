{
  "cells": [
    {
      "cell_type": "markdown",
      "metadata": {},
      "source": [
        "## 6.2 \u8bfb\u5199JSON\u6570\u636e\n"
      ]
    },
    {
      "cell_type": "markdown",
      "metadata": {},
      "source": [
        "### \u95ee\u9898\n"
      ]
    },
    {
      "cell_type": "markdown",
      "metadata": {},
      "source": [
        "\u4f60\u60f3\u8bfb\u5199JSON(JavaScript Object Notation)\u7f16\u7801\u683c\u5f0f\u7684\u6570\u636e\u3002"
      ]
    },
    {
      "cell_type": "markdown",
      "metadata": {},
      "source": [
        "### \u89e3\u51b3\u65b9\u6848\n"
      ]
    },
    {
      "cell_type": "markdown",
      "metadata": {},
      "source": [
        "json \u6a21\u5757\u63d0\u4f9b\u4e86\u4e00\u79cd\u5f88\u7b80\u5355\u7684\u65b9\u5f0f\u6765\u7f16\u7801\u548c\u89e3\u7801JSON\u6570\u636e\u3002\n\u5176\u4e2d\u4e24\u4e2a\u4e3b\u8981\u7684\u51fd\u6570\u662f json.dumps() \u548c json.loads() \uff0c\n\u8981\u6bd4\u5176\u4ed6\u5e8f\u5217\u5316\u51fd\u6570\u5e93\u5982pickle\u7684\u63a5\u53e3\u5c11\u5f97\u591a\u3002\n\u4e0b\u9762\u6f14\u793a\u5982\u4f55\u5c06\u4e00\u4e2aPython\u6570\u636e\u7ed3\u6784\u8f6c\u6362\u4e3aJSON\uff1a"
      ]
    },
    {
      "cell_type": "code",
      "execution_count": null,
      "metadata": {},
      "outputs": [],
      "source": [
        "import json\n\ndata = {\n    'name' : 'ACME',\n    'shares' : 100,\n    'price' : 542.23\n}\n\njson_str = json.dumps(data)"
      ]
    },
    {
      "cell_type": "markdown",
      "metadata": {},
      "source": [
        "\u4e0b\u9762\u6f14\u793a\u5982\u4f55\u5c06\u4e00\u4e2aJSON\u7f16\u7801\u7684\u5b57\u7b26\u4e32\u8f6c\u6362\u56de\u4e00\u4e2aPython\u6570\u636e\u7ed3\u6784\uff1a"
      ]
    },
    {
      "cell_type": "code",
      "execution_count": null,
      "metadata": {},
      "outputs": [],
      "source": [
        "data = json.loads(json_str)"
      ]
    },
    {
      "cell_type": "markdown",
      "metadata": {},
      "source": [
        "\u5982\u679c\u4f60\u8981\u5904\u7406\u7684\u662f\u6587\u4ef6\u800c\u4e0d\u662f\u5b57\u7b26\u4e32\uff0c\u4f60\u53ef\u4ee5\u4f7f\u7528 json.dump() \u548c json.load() \u6765\u7f16\u7801\u548c\u89e3\u7801JSON\u6570\u636e\u3002\u4f8b\u5982\uff1a"
      ]
    },
    {
      "cell_type": "code",
      "execution_count": null,
      "metadata": {},
      "outputs": [],
      "source": [
        "# Writing JSON data\nwith open('data.json', 'w') as f:\n    json.dump(data, f)\n\n# Reading data back\nwith open('data.json', 'r') as f:\n    data = json.load(f)"
      ]
    },
    {
      "cell_type": "markdown",
      "metadata": {},
      "source": [
        "### \u8ba8\u8bba\n"
      ]
    },
    {
      "cell_type": "markdown",
      "metadata": {},
      "source": [
        "JSON\u7f16\u7801\u652f\u6301\u7684\u57fa\u672c\u6570\u636e\u7c7b\u578b\u4e3a None \uff0c bool \uff0c int \uff0c float \u548c str \uff0c\n\u4ee5\u53ca\u5305\u542b\u8fd9\u4e9b\u7c7b\u578b\u6570\u636e\u7684lists\uff0ctuples\u548cdictionaries\u3002\n\u5bf9\u4e8edictionaries\uff0ckeys\u9700\u8981\u662f\u5b57\u7b26\u4e32\u7c7b\u578b(\u5b57\u5178\u4e2d\u4efb\u4f55\u975e\u5b57\u7b26\u4e32\u7c7b\u578b\u7684key\u5728\u7f16\u7801\u65f6\u4f1a\u5148\u8f6c\u6362\u4e3a\u5b57\u7b26\u4e32)\u3002\n\u4e3a\u4e86\u9075\u5faaJSON\u89c4\u8303\uff0c\u4f60\u5e94\u8be5\u53ea\u7f16\u7801Python\u7684lists\u548cdictionaries\u3002\n\u800c\u4e14\uff0c\u5728web\u5e94\u7528\u7a0b\u5e8f\u4e2d\uff0c\u9876\u5c42\u5bf9\u8c61\u88ab\u7f16\u7801\u4e3a\u4e00\u4e2a\u5b57\u5178\u662f\u4e00\u4e2a\u6807\u51c6\u505a\u6cd5\u3002"
      ]
    },
    {
      "cell_type": "markdown",
      "metadata": {},
      "source": [
        "JSON\u7f16\u7801\u7684\u683c\u5f0f\u5bf9\u4e8ePython\u8bed\u6cd5\u800c\u5df2\u51e0\u4e4e\u662f\u5b8c\u5168\u4e00\u6837\u7684\uff0c\u9664\u4e86\u4e00\u4e9b\u5c0f\u7684\u5dee\u5f02\u4e4b\u5916\u3002\n\u6bd4\u5982\uff0cTrue\u4f1a\u88ab\u6620\u5c04\u4e3atrue\uff0cFalse\u88ab\u6620\u5c04\u4e3afalse\uff0c\u800cNone\u4f1a\u88ab\u6620\u5c04\u4e3anull\u3002\n\u4e0b\u9762\u662f\u4e00\u4e2a\u4f8b\u5b50\uff0c\u6f14\u793a\u4e86\u7f16\u7801\u540e\u7684\u5b57\u7b26\u4e32\u6548\u679c\uff1a"
      ]
    },
    {
      "cell_type": "code",
      "execution_count": null,
      "metadata": {},
      "outputs": [],
      "source": [
        "json.dumps(False)"
      ]
    },
    {
      "cell_type": "code",
      "execution_count": null,
      "metadata": {},
      "outputs": [],
      "source": [
        "d = {'a': True,\n    'b': 'Hello',\n    'c': None}\njson.dumps(d)"
      ]
    },
    {
      "cell_type": "markdown",
      "metadata": {},
      "source": [
        "\u5982\u679c\u4f60\u8bd5\u7740\u53bb\u68c0\u67e5JSON\u89e3\u7801\u540e\u7684\u6570\u636e\uff0c\u4f60\u901a\u5e38\u5f88\u96be\u901a\u8fc7\u7b80\u5355\u7684\u6253\u5370\u6765\u786e\u5b9a\u5b83\u7684\u7ed3\u6784\uff0c\n\u7279\u522b\u662f\u5f53\u6570\u636e\u7684\u5d4c\u5957\u7ed3\u6784\u5c42\u6b21\u5f88\u6df1\u6216\u8005\u5305\u542b\u5927\u91cf\u7684\u5b57\u6bb5\u65f6\u3002\n\u4e3a\u4e86\u89e3\u51b3\u8fd9\u4e2a\u95ee\u9898\uff0c\u53ef\u4ee5\u8003\u8651\u4f7f\u7528pprint\u6a21\u5757\u7684 pprint() \u51fd\u6570\u6765\u4ee3\u66ff\u666e\u901a\u7684 print() \u51fd\u6570\u3002\n\u5b83\u4f1a\u6309\u7167key\u7684\u5b57\u6bcd\u987a\u5e8f\u5e76\u4ee5\u4e00\u79cd\u66f4\u52a0\u7f8e\u89c2\u7684\u65b9\u5f0f\u8f93\u51fa\u3002\n\u4e0b\u9762\u662f\u4e00\u4e2a\u6f14\u793a\u5982\u4f55\u6f02\u4eae\u7684\u6253\u5370\u8f93\u51faTwitter\u4e0a\u641c\u7d22\u7ed3\u679c\u7684\u4f8b\u5b50\uff1a"
      ]
    },
    {
      "cell_type": "code",
      "execution_count": null,
      "metadata": {},
      "outputs": [],
      "source": [
        "from urllib.request import urlopen\nimport json\nu = urlopen('http://search.twitter.com/search.json?q=python&rpp=5')\nresp = json.loads(u.read().decode('utf-8'))\nfrom pprint import pprint\npprint(resp)"
      ]
    },
    {
      "cell_type": "markdown",
      "metadata": {},
      "source": [
        "\u4e00\u822c\u6765\u8bb2\uff0cJSON\u89e3\u7801\u4f1a\u6839\u636e\u63d0\u4f9b\u7684\u6570\u636e\u521b\u5efadicts\u6216lists\u3002\n\u5982\u679c\u4f60\u60f3\u8981\u521b\u5efa\u5176\u4ed6\u7c7b\u578b\u7684\u5bf9\u8c61\uff0c\u53ef\u4ee5\u7ed9 json.loads() \u4f20\u9012object_pairs_hook\u6216object_hook\u53c2\u6570\u3002\n\u4f8b\u5982\uff0c\u4e0b\u9762\u662f\u6f14\u793a\u5982\u4f55\u89e3\u7801JSON\u6570\u636e\u5e76\u5728\u4e00\u4e2aOrderedDict\u4e2d\u4fdd\u7559\u5176\u987a\u5e8f\u7684\u4f8b\u5b50\uff1a"
      ]
    },
    {
      "cell_type": "code",
      "execution_count": null,
      "metadata": {},
      "outputs": [],
      "source": [
        "s = '{\"name\": \"ACME\", \"shares\": 50, \"price\": 490.1}'\nfrom collections import OrderedDict\ndata = json.loads(s, object_pairs_hook=OrderedDict)\ndata"
      ]
    },
    {
      "cell_type": "markdown",
      "metadata": {},
      "source": [
        "\u4e0b\u9762\u662f\u5982\u4f55\u5c06\u4e00\u4e2aJSON\u5b57\u5178\u8f6c\u6362\u4e3a\u4e00\u4e2aPython\u5bf9\u8c61\u4f8b\u5b50\uff1a"
      ]
    },
    {
      "cell_type": "code",
      "execution_count": null,
      "metadata": {},
      "outputs": [],
      "source": [
        "class JSONObject:\n    def __init__(self, d):\n        self.__dict__ = d\ndata = json.loads(s, object_hook=JSONObject)\ndata.name"
      ]
    },
    {
      "cell_type": "code",
      "execution_count": null,
      "metadata": {},
      "outputs": [],
      "source": [
        "data.shares"
      ]
    },
    {
      "cell_type": "code",
      "execution_count": null,
      "metadata": {},
      "outputs": [],
      "source": [
        "data.price"
      ]
    },
    {
      "cell_type": "markdown",
      "metadata": {},
      "source": [
        "\u6700\u540e\u4e00\u4e2a\u4f8b\u5b50\u4e2d\uff0cJSON\u89e3\u7801\u540e\u7684\u5b57\u5178\u4f5c\u4e3a\u4e00\u4e2a\u5355\u4e2a\u53c2\u6570\u4f20\u9012\u7ed9 __init__() \u3002\n\u7136\u540e\uff0c\u4f60\u5c31\u53ef\u4ee5\u968f\u5fc3\u6240\u6b32\u7684\u4f7f\u7528\u5b83\u4e86\uff0c\u6bd4\u5982\u4f5c\u4e3a\u4e00\u4e2a\u5b9e\u4f8b\u5b57\u5178\u6765\u76f4\u63a5\u4f7f\u7528\u5b83\u3002"
      ]
    },
    {
      "cell_type": "markdown",
      "metadata": {},
      "source": [
        "\u5728\u7f16\u7801JSON\u7684\u65f6\u5019\uff0c\u8fd8\u6709\u4e00\u4e9b\u9009\u9879\u5f88\u6709\u7528\u3002\n\u5982\u679c\u4f60\u60f3\u83b7\u5f97\u6f02\u4eae\u7684\u683c\u5f0f\u5316\u5b57\u7b26\u4e32\u540e\u8f93\u51fa\uff0c\u53ef\u4ee5\u4f7f\u7528 json.dumps() \u7684indent\u53c2\u6570\u3002\n\u5b83\u4f1a\u4f7f\u5f97\u8f93\u51fa\u548cpprint()\u51fd\u6570\u6548\u679c\u7c7b\u4f3c\u3002\u6bd4\u5982\uff1a"
      ]
    },
    {
      "cell_type": "code",
      "execution_count": null,
      "metadata": {},
      "outputs": [],
      "source": [
        "print(json.dumps(data))"
      ]
    },
    {
      "cell_type": "code",
      "execution_count": null,
      "metadata": {},
      "outputs": [],
      "source": [
        "print(json.dumps(data, indent=4))"
      ]
    },
    {
      "cell_type": "markdown",
      "metadata": {},
      "source": [
        "\u5bf9\u8c61\u5b9e\u4f8b\u901a\u5e38\u5e76\u4e0d\u662fJSON\u53ef\u5e8f\u5217\u5316\u7684\u3002\u4f8b\u5982\uff1a"
      ]
    },
    {
      "cell_type": "code",
      "execution_count": null,
      "metadata": {},
      "outputs": [],
      "source": [
        "class Point:\n    def __init__(self, x, y):\n        self.x = x\n        self.y = y\np = Point(2, 3)\njson.dumps(p)"
      ]
    },
    {
      "cell_type": "markdown",
      "metadata": {},
      "source": [
        "\u5982\u679c\u4f60\u60f3\u5e8f\u5217\u5316\u5bf9\u8c61\u5b9e\u4f8b\uff0c\u4f60\u53ef\u4ee5\u63d0\u4f9b\u4e00\u4e2a\u51fd\u6570\uff0c\u5b83\u7684\u8f93\u5165\u662f\u4e00\u4e2a\u5b9e\u4f8b\uff0c\u8fd4\u56de\u4e00\u4e2a\u53ef\u5e8f\u5217\u5316\u7684\u5b57\u5178\u3002\u4f8b\u5982\uff1a"
      ]
    },
    {
      "cell_type": "code",
      "execution_count": null,
      "metadata": {},
      "outputs": [],
      "source": [
        "def serialize_instance(obj):\n    d = { '__classname__' : type(obj).__name__ }\n    d.update(vars(obj))\n    return d"
      ]
    },
    {
      "cell_type": "markdown",
      "metadata": {},
      "source": [
        "\u5982\u679c\u4f60\u60f3\u53cd\u8fc7\u6765\u83b7\u53d6\u8fd9\u4e2a\u5b9e\u4f8b\uff0c\u53ef\u4ee5\u8fd9\u6837\u505a\uff1a"
      ]
    },
    {
      "cell_type": "code",
      "execution_count": null,
      "metadata": {},
      "outputs": [],
      "source": [
        "# Dictionary mapping names to known classes\nclasses = {\n    'Point' : Point\n}\n\ndef unserialize_object(d):\n    clsname = d.pop('__classname__', None)\n    if clsname:\n        cls = classes[clsname]\n        obj = cls.__new__(cls) # Make instance without calling __init__\n        for key, value in d.items():\n            setattr(obj, key, value)\n        return obj\n    else:\n        return d"
      ]
    },
    {
      "cell_type": "markdown",
      "metadata": {},
      "source": [
        "\u4e0b\u9762\u662f\u5982\u4f55\u4f7f\u7528\u8fd9\u4e9b\u51fd\u6570\u7684\u4f8b\u5b50\uff1a"
      ]
    },
    {
      "cell_type": "code",
      "execution_count": null,
      "metadata": {},
      "outputs": [],
      "source": [
        "p = Point(2,3)\ns = json.dumps(p, default=serialize_instance)\ns"
      ]
    },
    {
      "cell_type": "code",
      "execution_count": null,
      "metadata": {},
      "outputs": [],
      "source": [
        "a = json.loads(s, object_hook=unserialize_object)\na"
      ]
    },
    {
      "cell_type": "code",
      "execution_count": null,
      "metadata": {},
      "outputs": [],
      "source": [
        "a.x"
      ]
    },
    {
      "cell_type": "code",
      "execution_count": null,
      "metadata": {},
      "outputs": [],
      "source": [
        "a.y"
      ]
    },
    {
      "cell_type": "markdown",
      "metadata": {},
      "source": [
        "json \u6a21\u5757\u8fd8\u6709\u5f88\u591a\u5176\u4ed6\u9009\u9879\u6765\u63a7\u5236\u66f4\u4f4e\u7ea7\u522b\u7684\u6570\u5b57\u3001\u7279\u6b8a\u503c\u5982NaN\u7b49\u7684\u89e3\u6790\u3002\n\u53ef\u4ee5\u53c2\u8003\u5b98\u65b9\u6587\u6863\u83b7\u53d6\u66f4\u591a\u7ec6\u8282\u3002"
      ]
    }
  ],
  "metadata": {
    "kernelspec": {
      "display_name": "Python 3",
      "language": "python",
      "name": "python3"
    },
    "language_info": {
      "codemirror_mode": {
        "name": "ipython",
        "version": 3
      },
      "file_extension": ".py",
      "mimetype": "text/x-python",
      "name": "python",
      "nbconvert_exporter": "python",
      "pygments_lexer": "ipython3",
      "version": "3.7.1"
    },
    "toc": {
      "base_numbering": 1,
      "nav_menu": {},
      "number_sections": true,
      "sideBar": true,
      "skip_h1_title": true,
      "title_cell": "Table of Contents",
      "title_sidebar": "Contents",
      "toc_cell": false,
      "toc_position": {},
      "toc_section_display": true,
      "toc_window_display": true
    }
  },
  "nbformat": 4,
  "nbformat_minor": 2
}