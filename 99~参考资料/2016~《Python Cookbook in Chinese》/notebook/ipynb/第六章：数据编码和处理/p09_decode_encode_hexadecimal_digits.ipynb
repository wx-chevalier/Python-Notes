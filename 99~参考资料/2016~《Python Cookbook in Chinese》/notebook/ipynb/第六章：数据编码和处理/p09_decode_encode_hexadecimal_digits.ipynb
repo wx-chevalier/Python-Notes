{
  "cells": [
    {
      "cell_type": "markdown",
      "metadata": {},
      "source": [
        "## 6.9 \u7f16\u7801\u548c\u89e3\u7801\u5341\u516d\u8fdb\u5236\u6570\n"
      ]
    },
    {
      "cell_type": "markdown",
      "metadata": {},
      "source": [
        "### \u95ee\u9898\n"
      ]
    },
    {
      "cell_type": "markdown",
      "metadata": {},
      "source": [
        "\u4f60\u60f3\u5c06\u4e00\u4e2a\u5341\u516d\u8fdb\u5236\u5b57\u7b26\u4e32\u89e3\u7801\u6210\u4e00\u4e2a\u5b57\u8282\u5b57\u7b26\u4e32\u6216\u8005\u5c06\u4e00\u4e2a\u5b57\u8282\u5b57\u7b26\u4e32\u7f16\u7801\u6210\u4e00\u4e2a\u5341\u516d\u8fdb\u5236\u5b57\u7b26\u4e32\u3002"
      ]
    },
    {
      "cell_type": "markdown",
      "metadata": {},
      "source": [
        "### \u89e3\u51b3\u65b9\u6848\n"
      ]
    },
    {
      "cell_type": "markdown",
      "metadata": {},
      "source": [
        "\u5982\u679c\u4f60\u53ea\u662f\u7b80\u5355\u7684\u89e3\u7801\u6216\u7f16\u7801\u4e00\u4e2a\u5341\u516d\u8fdb\u5236\u7684\u539f\u59cb\u5b57\u7b26\u4e32\uff0c\u53ef\u4ee5\u4f7f\u7528\u3000binascii \u6a21\u5757\u3002\u4f8b\u5982\uff1a"
      ]
    },
    {
      "cell_type": "code",
      "execution_count": null,
      "metadata": {},
      "outputs": [],
      "source": [
        "# Initial byte string\ns = b'hello'\n# Encode as hex\nimport binascii\nh = binascii.b2a_hex(s)\nh"
      ]
    },
    {
      "cell_type": "code",
      "execution_count": null,
      "metadata": {},
      "outputs": [],
      "source": [
        "# Decode back to bytes\nbinascii.a2b_hex(h)"
      ]
    },
    {
      "cell_type": "markdown",
      "metadata": {},
      "source": [
        "\u7c7b\u4f3c\u7684\u529f\u80fd\u540c\u6837\u53ef\u4ee5\u5728 base64 \u6a21\u5757\u4e2d\u627e\u5230\u3002\u4f8b\u5982\uff1a"
      ]
    },
    {
      "cell_type": "code",
      "execution_count": null,
      "metadata": {},
      "outputs": [],
      "source": [
        "import base64\nh = base64.b16encode(s)\nh"
      ]
    },
    {
      "cell_type": "code",
      "execution_count": null,
      "metadata": {},
      "outputs": [],
      "source": [
        "base64.b16decode(h)"
      ]
    },
    {
      "cell_type": "markdown",
      "metadata": {},
      "source": [
        "### \u8ba8\u8bba\n"
      ]
    },
    {
      "cell_type": "markdown",
      "metadata": {},
      "source": [
        "\u5927\u90e8\u5206\u60c5\u51b5\u4e0b\uff0c\u901a\u8fc7\u4f7f\u7528\u4e0a\u8ff0\u7684\u51fd\u6570\u6765\u8f6c\u6362\u5341\u516d\u8fdb\u5236\u662f\u5f88\u7b80\u5355\u7684\u3002\n\u4e0a\u9762\u4e24\u79cd\u6280\u672f\u7684\u4e3b\u8981\u4e0d\u540c\u5728\u4e8e\u5927\u5c0f\u5199\u7684\u5904\u7406\u3002\n\u51fd\u6570 base64.b16decode() \u548c base64.b16encode() \u53ea\u80fd\u64cd\u4f5c\u5927\u5199\u5f62\u5f0f\u7684\u5341\u516d\u8fdb\u5236\u5b57\u6bcd\uff0c\n\u800c binascii \u6a21\u5757\u4e2d\u7684\u51fd\u6570\u5927\u5c0f\u5199\u90fd\u80fd\u5904\u7406\u3002"
      ]
    },
    {
      "cell_type": "markdown",
      "metadata": {},
      "source": [
        "\u8fd8\u6709\u4e00\u70b9\u9700\u8981\u6ce8\u610f\u7684\u662f\u7f16\u7801\u51fd\u6570\u6240\u4ea7\u751f\u7684\u8f93\u51fa\u603b\u662f\u4e00\u4e2a\u5b57\u8282\u5b57\u7b26\u4e32\u3002\n\u5982\u679c\u60f3\u5f3a\u5236\u4ee5Unicode\u5f62\u5f0f\u8f93\u51fa\uff0c\u4f60\u9700\u8981\u589e\u52a0\u4e00\u4e2a\u989d\u5916\u7684\u754c\u9762\u6b65\u9aa4\u3002\u4f8b\u5982\uff1a"
      ]
    },
    {
      "cell_type": "code",
      "execution_count": null,
      "metadata": {},
      "outputs": [],
      "source": [
        "h = base64.b16encode(s)\nprint(h)"
      ]
    },
    {
      "cell_type": "code",
      "execution_count": null,
      "metadata": {},
      "outputs": [],
      "source": [
        "print(h.decode('ascii'))"
      ]
    },
    {
      "cell_type": "markdown",
      "metadata": {},
      "source": [
        "\u5728\u89e3\u7801\u5341\u516d\u8fdb\u5236\u6570\u65f6\uff0c\u51fd\u6570 b16decode() \u548c a2b_hex() \u53ef\u4ee5\u63a5\u53d7\u5b57\u8282\u6216unicode\u5b57\u7b26\u4e32\u3002\n\u4f46\u662f\uff0cunicode\u5b57\u7b26\u4e32\u5fc5\u987b\u4ec5\u4ec5\u53ea\u5305\u542bASCII\u7f16\u7801\u7684\u5341\u516d\u8fdb\u5236\u6570\u3002"
      ]
    }
  ],
  "metadata": {
    "kernelspec": {
      "display_name": "Python 3",
      "language": "python",
      "name": "python3"
    },
    "language_info": {
      "codemirror_mode": {
        "name": "ipython",
        "version": 3
      },
      "file_extension": ".py",
      "mimetype": "text/x-python",
      "name": "python",
      "nbconvert_exporter": "python",
      "pygments_lexer": "ipython3",
      "version": "3.7.1"
    },
    "toc": {
      "base_numbering": 1,
      "nav_menu": {},
      "number_sections": true,
      "sideBar": true,
      "skip_h1_title": true,
      "title_cell": "Table of Contents",
      "title_sidebar": "Contents",
      "toc_cell": false,
      "toc_position": {},
      "toc_section_display": true,
      "toc_window_display": true
    }
  },
  "nbformat": 4,
  "nbformat_minor": 2
}