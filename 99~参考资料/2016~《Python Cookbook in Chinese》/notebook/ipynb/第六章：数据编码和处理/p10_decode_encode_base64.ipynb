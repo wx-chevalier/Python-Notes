{
  "cells": [
    {
      "cell_type": "markdown",
      "metadata": {},
      "source": [
        "## 6.10 \u7f16\u7801\u89e3\u7801Base64\u6570\u636e\n"
      ]
    },
    {
      "cell_type": "markdown",
      "metadata": {},
      "source": [
        "### \u95ee\u9898\n"
      ]
    },
    {
      "cell_type": "markdown",
      "metadata": {},
      "source": [
        "\u4f60\u9700\u8981\u4f7f\u7528Base64\u683c\u5f0f\u89e3\u7801\u6216\u7f16\u7801\u4e8c\u8fdb\u5236\u6570\u636e\u3002"
      ]
    },
    {
      "cell_type": "markdown",
      "metadata": {},
      "source": [
        "### \u89e3\u51b3\u65b9\u6848\n"
      ]
    },
    {
      "cell_type": "markdown",
      "metadata": {},
      "source": [
        "base64 \u6a21\u5757\u4e2d\u6709\u4e24\u4e2a\u51fd\u6570 b64encode() and b64decode() \u53ef\u4ee5\u5e2e\u4f60\u89e3\u51b3\u8fd9\u4e2a\u95ee\u9898\u3002\u4f8b\u5982;"
      ]
    },
    {
      "cell_type": "code",
      "execution_count": null,
      "metadata": {},
      "outputs": [],
      "source": [
        "# Some byte data\ns = b'hello'\nimport base64"
      ]
    },
    {
      "cell_type": "code",
      "execution_count": null,
      "metadata": {},
      "outputs": [],
      "source": [
        "# Encode as Base64\na = base64.b64encode(s)\na"
      ]
    },
    {
      "cell_type": "code",
      "execution_count": null,
      "metadata": {},
      "outputs": [],
      "source": [
        "# Decode from Base64\nbase64.b64decode(a)"
      ]
    },
    {
      "cell_type": "markdown",
      "metadata": {},
      "source": [
        "### \u8ba8\u8bba\n"
      ]
    },
    {
      "cell_type": "markdown",
      "metadata": {},
      "source": [
        "Base64\u7f16\u7801\u4ec5\u4ec5\u7528\u4e8e\u9762\u5411\u5b57\u8282\u7684\u6570\u636e\u6bd4\u5982\u5b57\u8282\u5b57\u7b26\u4e32\u548c\u5b57\u8282\u6570\u7ec4\u3002\n\u6b64\u5916\uff0c\u7f16\u7801\u5904\u7406\u7684\u8f93\u51fa\u7ed3\u679c\u603b\u662f\u4e00\u4e2a\u5b57\u8282\u5b57\u7b26\u4e32\u3002\n\u5982\u679c\u4f60\u60f3\u6df7\u5408\u4f7f\u7528Base64\u7f16\u7801\u7684\u6570\u636e\u548cUnicode\u6587\u672c\uff0c\u4f60\u5fc5\u987b\u6dfb\u52a0\u4e00\u4e2a\u989d\u5916\u7684\u89e3\u7801\u6b65\u9aa4\u3002\u4f8b\u5982\uff1a"
      ]
    },
    {
      "cell_type": "code",
      "execution_count": null,
      "metadata": {},
      "outputs": [],
      "source": [
        "a = base64.b64encode(s).decode('ascii')\na"
      ]
    },
    {
      "cell_type": "markdown",
      "metadata": {},
      "source": [
        "\u5f53\u89e3\u7801Base64\u7684\u65f6\u5019\uff0c\u5b57\u8282\u5b57\u7b26\u4e32\u548cUnicode\u6587\u672c\u90fd\u53ef\u4ee5\u4f5c\u4e3a\u53c2\u6570\u3002\n\u4f46\u662f\uff0cUnicode\u5b57\u7b26\u4e32\u53ea\u80fd\u5305\u542bASCII\u5b57\u7b26\u3002"
      ]
    }
  ],
  "metadata": {
    "kernelspec": {
      "display_name": "Python 3",
      "language": "python",
      "name": "python3"
    },
    "language_info": {
      "codemirror_mode": {
        "name": "ipython",
        "version": 3
      },
      "file_extension": ".py",
      "mimetype": "text/x-python",
      "name": "python",
      "nbconvert_exporter": "python",
      "pygments_lexer": "ipython3",
      "version": "3.7.1"
    },
    "toc": {
      "base_numbering": 1,
      "nav_menu": {},
      "number_sections": true,
      "sideBar": true,
      "skip_h1_title": true,
      "title_cell": "Table of Contents",
      "title_sidebar": "Contents",
      "toc_cell": false,
      "toc_position": {},
      "toc_section_display": true,
      "toc_window_display": true
    }
  },
  "nbformat": 4,
  "nbformat_minor": 2
}