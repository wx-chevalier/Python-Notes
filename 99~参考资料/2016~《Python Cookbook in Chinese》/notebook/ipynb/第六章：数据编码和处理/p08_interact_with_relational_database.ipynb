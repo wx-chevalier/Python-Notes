{
  "cells": [
    {
      "cell_type": "markdown",
      "metadata": {},
      "source": [
        "## 6.8 \u4e0e\u5173\u7cfb\u578b\u6570\u636e\u5e93\u7684\u4ea4\u4e92\n"
      ]
    },
    {
      "cell_type": "markdown",
      "metadata": {},
      "source": [
        "### \u95ee\u9898\n"
      ]
    },
    {
      "cell_type": "markdown",
      "metadata": {},
      "source": [
        "\u4f60\u60f3\u5728\u5173\u7cfb\u578b\u6570\u636e\u5e93\u4e2d\u67e5\u8be2\u3001\u589e\u52a0\u6216\u5220\u9664\u8bb0\u5f55\u3002"
      ]
    },
    {
      "cell_type": "markdown",
      "metadata": {},
      "source": [
        "### \u89e3\u51b3\u65b9\u6848\n"
      ]
    },
    {
      "cell_type": "markdown",
      "metadata": {},
      "source": [
        "Python\u4e2d\u8868\u793a\u591a\u884c\u6570\u636e\u7684\u6807\u51c6\u65b9\u5f0f\u662f\u4e00\u4e2a\u7531\u5143\u7ec4\u6784\u6210\u7684\u5e8f\u5217\u3002\u4f8b\u5982\uff1a"
      ]
    },
    {
      "cell_type": "code",
      "execution_count": null,
      "metadata": {},
      "outputs": [],
      "source": [
        "stocks = [\n    ('GOOG', 100, 490.1),\n    ('AAPL', 50, 545.75),\n    ('FB', 150, 7.45),\n    ('HPQ', 75, 33.2),\n]"
      ]
    },
    {
      "cell_type": "markdown",
      "metadata": {},
      "source": [
        "\u4f9d\u636ePEP249\uff0c\u901a\u8fc7\u8fd9\u79cd\u5f62\u5f0f\u63d0\u4f9b\u6570\u636e\uff0c\n\u53ef\u4ee5\u5f88\u5bb9\u6613\u7684\u4f7f\u7528Python\u6807\u51c6\u6570\u636e\u5e93API\u548c\u5173\u7cfb\u578b\u6570\u636e\u5e93\u8fdb\u884c\u4ea4\u4e92\u3002\n\u6240\u6709\u6570\u636e\u5e93\u4e0a\u7684\u64cd\u4f5c\u90fd\u901a\u8fc7SQL\u67e5\u8be2\u8bed\u53e5\u6765\u5b8c\u6210\u3002\u6bcf\u4e00\u884c\u8f93\u5165\u8f93\u51fa\u6570\u636e\u7528\u4e00\u4e2a\u5143\u7ec4\u6765\u8868\u793a\u3002"
      ]
    },
    {
      "cell_type": "markdown",
      "metadata": {},
      "source": [
        "\u4e3a\u4e86\u6f14\u793a\u8bf4\u660e\uff0c\u4f60\u53ef\u4ee5\u4f7f\u7528Python\u6807\u51c6\u5e93\u4e2d\u7684 sqlite3 \u6a21\u5757\u3002\n\u5982\u679c\u4f60\u4f7f\u7528\u7684\u662f\u4e00\u4e2a\u4e0d\u540c\u7684\u6570\u636e\u5e93(\u6bd4\u5982MySql\u3001Postgresql\u6216\u8005ODBC)\uff0c\n\u8fd8\u5f97\u5b89\u88c5\u76f8\u5e94\u7684\u7b2c\u4e09\u65b9\u6a21\u5757\u6765\u63d0\u4f9b\u652f\u6301\u3002\n\u4e0d\u8fc7\u76f8\u5e94\u7684\u7f16\u7a0b\u63a5\u53e3\u51e0\u4e4e\u90fd\u662f\u4e00\u6837\u7684\uff0c\u9664\u4e86\u4e00\u70b9\u70b9\u7ec6\u5fae\u5dee\u522b\u5916\u3002"
      ]
    },
    {
      "cell_type": "markdown",
      "metadata": {},
      "source": [
        "\u7b2c\u4e00\u6b65\u662f\u8fde\u63a5\u5230\u6570\u636e\u5e93\u3002\u901a\u5e38\u4f60\u8981\u6267\u884c connect() \u51fd\u6570\uff0c\n\u7ed9\u5b83\u63d0\u4f9b\u4e00\u4e9b\u6570\u636e\u5e93\u540d\u3001\u4e3b\u673a\u3001\u7528\u6237\u540d\u3001\u5bc6\u7801\u548c\u5176\u4ed6\u5fc5\u8981\u7684\u4e00\u4e9b\u53c2\u6570\u3002\u4f8b\u5982\uff1a"
      ]
    },
    {
      "cell_type": "code",
      "execution_count": null,
      "metadata": {},
      "outputs": [],
      "source": [
        "import sqlite3\ndb = sqlite3.connect('database.db')"
      ]
    },
    {
      "cell_type": "markdown",
      "metadata": {},
      "source": [
        "\u4e3a\u4e86\u5904\u7406\u6570\u636e\uff0c\u4e0b\u4e00\u6b65\u4f60\u9700\u8981\u521b\u5efa\u4e00\u4e2a\u6e38\u6807\u3002\n\u4e00\u65e6\u4f60\u6709\u4e86\u6e38\u6807\uff0c\u90a3\u4e48\u4f60\u5c31\u53ef\u4ee5\u6267\u884cSQL\u67e5\u8be2\u8bed\u53e5\u4e86\u3002\u6bd4\u5982\uff1a"
      ]
    },
    {
      "cell_type": "code",
      "execution_count": null,
      "metadata": {},
      "outputs": [],
      "source": [
        "c = db.cursor()\nc.execute('create table portfolio (symbol text, shares integer, price real)')"
      ]
    },
    {
      "cell_type": "code",
      "execution_count": null,
      "metadata": {},
      "outputs": [],
      "source": [
        "db.commit()"
      ]
    },
    {
      "cell_type": "markdown",
      "metadata": {},
      "source": [
        "\u4e3a\u4e86\u5411\u6570\u636e\u5e93\u8868\u4e2d\u63d2\u5165\u591a\u6761\u8bb0\u5f55\uff0c\u4f7f\u7528\u7c7b\u4f3c\u4e0b\u9762\u8fd9\u6837\u7684\u8bed\u53e5\uff1a"
      ]
    },
    {
      "cell_type": "code",
      "execution_count": null,
      "metadata": {},
      "outputs": [],
      "source": [
        "c.executemany('insert into portfolio values (?,?,?)', stocks)"
      ]
    },
    {
      "cell_type": "code",
      "execution_count": null,
      "metadata": {},
      "outputs": [],
      "source": [
        "db.commit()"
      ]
    },
    {
      "cell_type": "markdown",
      "metadata": {},
      "source": [
        "\u4e3a\u4e86\u6267\u884c\u67d0\u4e2a\u67e5\u8be2\uff0c\u4f7f\u7528\u50cf\u4e0b\u9762\u8fd9\u6837\u7684\u8bed\u53e5\uff1a"
      ]
    },
    {
      "cell_type": "code",
      "execution_count": null,
      "metadata": {},
      "outputs": [],
      "source": [
        "for row in db.execute('select * from portfolio'):\n    print(row)"
      ]
    },
    {
      "cell_type": "markdown",
      "metadata": {},
      "source": [
        "\u5982\u679c\u4f60\u60f3\u63a5\u53d7\u7528\u6237\u8f93\u5165\u4f5c\u4e3a\u53c2\u6570\u6765\u6267\u884c\u67e5\u8be2\u64cd\u4f5c\uff0c\u5fc5\u987b\u786e\u4fdd\u4f60\u4f7f\u7528\u4e0b\u9762\u8fd9\u6837\u7684\u5360\u4f4d\u7b26``?``\u6765\u8fdb\u884c\u5f15\u7528\u53c2\u6570\uff1a"
      ]
    },
    {
      "cell_type": "code",
      "execution_count": null,
      "metadata": {},
      "outputs": [],
      "source": [
        "min_price = 100\nfor row in db.execute('select * from portfolio where price >= ?',"
      ]
    },
    {
      "cell_type": "code",
      "execution_count": null,
      "metadata": {},
      "outputs": [],
      "source": [
        "    print(row)"
      ]
    },
    {
      "cell_type": "markdown",
      "metadata": {},
      "source": [
        "### \u8ba8\u8bba\n"
      ]
    },
    {
      "cell_type": "markdown",
      "metadata": {},
      "source": [
        "\u5728\u6bd4\u8f83\u4f4e\u7684\u7ea7\u522b\u4e0a\u548c\u6570\u636e\u5e93\u4ea4\u4e92\u662f\u975e\u5e38\u7b80\u5355\u7684\u3002\n\u4f60\u53ea\u9700\u63d0\u4f9bSQL\u8bed\u53e5\u5e76\u8c03\u7528\u76f8\u5e94\u7684\u6a21\u5757\u5c31\u53ef\u4ee5\u66f4\u65b0\u6216\u63d0\u53d6\u6570\u636e\u4e86\u3002\n\u867d\u8bf4\u5982\u6b64\uff0c\u8fd8\u662f\u6709\u4e00\u4e9b\u6bd4\u8f83\u68d8\u624b\u7684\u7ec6\u8282\u95ee\u9898\u9700\u8981\u4f60\u9010\u4e2a\u5217\u51fa\u53bb\u89e3\u51b3\u3002"
      ]
    },
    {
      "cell_type": "markdown",
      "metadata": {},
      "source": [
        "\u4e00\u4e2a\u96be\u70b9\u662f\u6570\u636e\u5e93\u4e2d\u7684\u6570\u636e\u548cPython\u7c7b\u578b\u76f4\u63a5\u7684\u6620\u5c04\u3002\n\u5bf9\u4e8e\u65e5\u671f\u7c7b\u578b\uff0c\u901a\u5e38\u53ef\u4ee5\u4f7f\u7528 datetime \u6a21\u5757\u4e2d\u7684 datetime \u5b9e\u4f8b\uff0c\n\u6216\u8005\u53ef\u80fd\u662f time \u6a21\u5757\u4e2d\u7684\u7cfb\u7edf\u65f6\u95f4\u6233\u3002\n\u5bf9\u4e8e\u6570\u5b57\u7c7b\u578b\uff0c\u7279\u522b\u662f\u4f7f\u7528\u5230\u5c0f\u6570\u7684\u91d1\u878d\u6570\u636e\uff0c\u53ef\u4ee5\u7528 decimal \u6a21\u5757\u4e2d\u7684 Decimal \u5b9e\u4f8b\u6765\u8868\u793a\u3002\n\u4e0d\u5e78\u7684\u662f\uff0c\u5bf9\u4e8e\u4e0d\u540c\u7684\u6570\u636e\u5e93\u800c\u8a00\u5177\u4f53\u6620\u5c04\u89c4\u5219\u662f\u4e0d\u4e00\u6837\u7684\uff0c\u4f60\u5fc5\u987b\u53c2\u8003\u76f8\u5e94\u7684\u6587\u6863\u3002"
      ]
    },
    {
      "cell_type": "markdown",
      "metadata": {},
      "source": [
        "\u53e6\u5916\u4e00\u4e2a\u66f4\u52a0\u590d\u6742\u7684\u95ee\u9898\u5c31\u662fSQL\u8bed\u53e5\u5b57\u7b26\u4e32\u7684\u6784\u9020\u3002\n\u4f60\u5343\u4e07\u4e0d\u8981\u4f7f\u7528Python\u5b57\u7b26\u4e32\u683c\u5f0f\u5316\u64cd\u4f5c\u7b26(\u5982%)\u6216\u8005 .format() \u65b9\u6cd5\u6765\u521b\u5efa\u8fd9\u6837\u7684\u5b57\u7b26\u4e32\u3002\n\u5982\u679c\u4f20\u9012\u7ed9\u8fd9\u4e9b\u683c\u5f0f\u5316\u64cd\u4f5c\u7b26\u7684\u503c\u6765\u81ea\u4e8e\u7528\u6237\u7684\u8f93\u5165\uff0c\u90a3\u4e48\u4f60\u7684\u7a0b\u5e8f\u5c31\u5f88\u6709\u53ef\u80fd\u906d\u53d7SQL\u6ce8\u5165\u653b\u51fb(\u53c2\u8003 http://xkcd.com/327 )\u3002\n\u67e5\u8be2\u8bed\u53e5\u4e2d\u7684\u901a\u914d\u7b26 ? \u6307\u793a\u540e\u53f0\u6570\u636e\u5e93\u4f7f\u7528\u5b83\u81ea\u5df1\u7684\u5b57\u7b26\u4e32\u66ff\u6362\u673a\u5236\uff0c\u8fd9\u6837\u66f4\u52a0\u7684\u5b89\u5168\u3002"
      ]
    },
    {
      "cell_type": "markdown",
      "metadata": {},
      "source": [
        "\u4e0d\u5e78\u7684\u662f\uff0c\u4e0d\u540c\u7684\u6570\u636e\u5e93\u540e\u53f0\u5bf9\u4e8e\u901a\u914d\u7b26\u7684\u4f7f\u7528\u662f\u4e0d\u4e00\u6837\u7684\u3002\u5927\u90e8\u5206\u6a21\u5757\u4f7f\u7528 ? \u6216 %s \uff0c\n\u8fd8\u6709\u5176\u4ed6\u4e00\u4e9b\u4f7f\u7528\u4e86\u4e0d\u540c\u7684\u7b26\u53f7\uff0c\u6bd4\u5982:0\u6216:1\u6765\u6307\u793a\u53c2\u6570\u3002\n\u540c\u6837\u7684\uff0c\u4f60\u8fd8\u662f\u5f97\u53bb\u53c2\u8003\u4f60\u4f7f\u7528\u7684\u6570\u636e\u5e93\u6a21\u5757\u76f8\u5e94\u7684\u6587\u6863\u3002\n\u4e00\u4e2a\u6570\u636e\u5e93\u6a21\u5757\u7684 paramstyle \u5c5e\u6027\u5305\u542b\u4e86\u53c2\u6570\u5f15\u7528\u98ce\u683c\u7684\u4fe1\u606f\u3002"
      ]
    },
    {
      "cell_type": "markdown",
      "metadata": {},
      "source": [
        "\u5bf9\u4e8e\u7b80\u5355\u7684\u6570\u636e\u5e93\u6570\u636e\u7684\u8bfb\u5199\u95ee\u9898\uff0c\u4f7f\u7528\u6570\u636e\u5e93API\u901a\u5e38\u975e\u5e38\u7b80\u5355\u3002\n\u5982\u679c\u4f60\u8981\u5904\u7406\u66f4\u52a0\u590d\u6742\u7684\u95ee\u9898\uff0c\u5efa\u8bae\u4f60\u4f7f\u7528\u66f4\u52a0\u9ad8\u7ea7\u7684\u63a5\u53e3\uff0c\u6bd4\u5982\u4e00\u4e2a\u5bf9\u8c61\u5173\u7cfb\u6620\u5c04ORM\u6240\u63d0\u4f9b\u7684\u63a5\u53e3\u3002\n\u7c7b\u4f3c SQLAlchemy \u8fd9\u6837\u7684\u5e93\u5141\u8bb8\u4f60\u4f7f\u7528Python\u7c7b\u6765\u8868\u793a\u4e00\u4e2a\u6570\u636e\u5e93\u8868\uff0c\n\u5e76\u4e14\u80fd\u5728\u9690\u85cf\u5e95\u5c42SQL\u7684\u60c5\u51b5\u4e0b\u5b9e\u73b0\u5404\u79cd\u6570\u636e\u5e93\u7684\u64cd\u4f5c\u3002"
      ]
    }
  ],
  "metadata": {
    "kernelspec": {
      "display_name": "Python 3",
      "language": "python",
      "name": "python3"
    },
    "language_info": {
      "codemirror_mode": {
        "name": "ipython",
        "version": 3
      },
      "file_extension": ".py",
      "mimetype": "text/x-python",
      "name": "python",
      "nbconvert_exporter": "python",
      "pygments_lexer": "ipython3",
      "version": "3.7.1"
    },
    "toc": {
      "base_numbering": 1,
      "nav_menu": {},
      "number_sections": true,
      "sideBar": true,
      "skip_h1_title": true,
      "title_cell": "Table of Contents",
      "title_sidebar": "Contents",
      "toc_cell": false,
      "toc_position": {},
      "toc_section_display": true,
      "toc_window_display": true
    }
  },
  "nbformat": 4,
  "nbformat_minor": 2
}