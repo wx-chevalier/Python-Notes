{
  "cells": [
    {
      "cell_type": "markdown",
      "metadata": {},
      "source": [
        "## 6.6 \u89e3\u6790\u548c\u4fee\u6539XML\n"
      ]
    },
    {
      "cell_type": "markdown",
      "metadata": {},
      "source": [
        "### \u95ee\u9898\n"
      ]
    },
    {
      "cell_type": "markdown",
      "metadata": {},
      "source": [
        "\u4f60\u60f3\u8bfb\u53d6\u4e00\u4e2aXML\u6587\u6863\uff0c\u5bf9\u5b83\u6700\u4e00\u4e9b\u4fee\u6539\uff0c\u7136\u540e\u5c06\u7ed3\u679c\u5199\u56deXML\u6587\u6863\u3002"
      ]
    },
    {
      "cell_type": "markdown",
      "metadata": {},
      "source": [
        "### \u89e3\u51b3\u65b9\u6848\n"
      ]
    },
    {
      "cell_type": "markdown",
      "metadata": {},
      "source": [
        "\u4f7f\u7528 xml.etree.ElementTree \u6a21\u5757\u53ef\u4ee5\u5f88\u5bb9\u6613\u7684\u5904\u7406\u8fd9\u4e9b\u4efb\u52a1\u3002\n\u7b2c\u4e00\u6b65\u662f\u4ee5\u901a\u5e38\u7684\u65b9\u5f0f\u6765\u89e3\u6790\u8fd9\u4e2a\u6587\u6863\u3002\u4f8b\u5982\uff0c\u5047\u8bbe\u4f60\u6709\u4e00\u4e2a\u540d\u4e3a pred.xml \u7684\u6587\u6863\uff0c\u7c7b\u4f3c\u4e0b\u9762\u8fd9\u6837\uff1a"
      ]
    },
    {
      "cell_type": "code",
      "execution_count": null,
      "metadata": {},
      "outputs": [],
      "source": [
        "<?xml version=\"1.0\"?>\n<stop>\n    <id>14791</id>\n    <nm>Clark &amp; Balmoral</nm>\n    <sri>\n        <rt>22</rt>\n        <d>North Bound</d>\n        <dd>North Bound</dd>\n    </sri>\n    <cr>22</cr>\n    <pre>\n        <pt>5 MIN</pt>\n        <fd>Howard</fd>\n        <v>1378</v>\n        <rn>22</rn>\n    </pre>\n    <pre>\n        <pt>15 MIN</pt>\n        <fd>Howard</fd>\n        <v>1867</v>\n        <rn>22</rn>\n    </pre>\n</stop>"
      ]
    },
    {
      "cell_type": "markdown",
      "metadata": {},
      "source": [
        "\u4e0b\u9762\u662f\u4e00\u4e2a\u5229\u7528 ElementTree \u6765\u8bfb\u53d6\u8fd9\u4e2a\u6587\u6863\u5e76\u5bf9\u5b83\u505a\u4e00\u4e9b\u4fee\u6539\u7684\u4f8b\u5b50\uff1a"
      ]
    },
    {
      "cell_type": "code",
      "execution_count": null,
      "metadata": {},
      "outputs": [],
      "source": [
        "from xml.etree.ElementTree import parse, Element\ndoc = parse('pred.xml')\nroot = doc.getroot()\nroot"
      ]
    },
    {
      "cell_type": "code",
      "execution_count": null,
      "metadata": {},
      "outputs": [],
      "source": [
        "# Remove a few elements\nroot.remove(root.find('sri'))\nroot.remove(root.find('cr'))\n# Insert a new element after <nm>...</nm>\nroot.getchildren().index(root.find('nm'))"
      ]
    },
    {
      "cell_type": "code",
      "execution_count": null,
      "metadata": {},
      "outputs": [],
      "source": [
        "e = Element('spam')\ne.text = 'This is a test'\nroot.insert(2, e)"
      ]
    },
    {
      "cell_type": "code",
      "execution_count": null,
      "metadata": {},
      "outputs": [],
      "source": [
        "# Write back to a file\ndoc.write('newpred.xml', xml_declaration=True)"
      ]
    },
    {
      "cell_type": "markdown",
      "metadata": {},
      "source": [
        "\u5904\u7406\u7ed3\u679c\u662f\u4e00\u4e2a\u50cf\u4e0b\u9762\u8fd9\u6837\u65b0\u7684XML\u6587\u4ef6\uff1a"
      ]
    },
    {
      "cell_type": "code",
      "execution_count": null,
      "metadata": {},
      "outputs": [],
      "source": [
        "<?xml version='1.0' encoding='us-ascii'?>\n<stop>\n    <id>14791</id>\n    <nm>Clark &amp; Balmoral</nm>\n    <spam>This is a test</spam>\n    <pre>\n        <pt>5 MIN</pt>\n        <fd>Howard</fd>\n        <v>1378</v>\n        <rn>22</rn>\n    </pre>\n    <pre>\n        <pt>15 MIN</pt>\n        <fd>Howard</fd>\n        <v>1867</v>\n        <rn>22</rn>\n    </pre>\n</stop>"
      ]
    },
    {
      "cell_type": "markdown",
      "metadata": {},
      "source": [
        "### \u8ba8\u8bba\n"
      ]
    },
    {
      "cell_type": "markdown",
      "metadata": {},
      "source": [
        "\u4fee\u6539\u4e00\u4e2aXML\u6587\u6863\u7ed3\u6784\u662f\u5f88\u5bb9\u6613\u7684\uff0c\u4f46\u662f\u4f60\u5fc5\u987b\u7262\u8bb0\u7684\u662f\u6240\u6709\u7684\u4fee\u6539\u90fd\u662f\u9488\u5bf9\u7236\u8282\u70b9\u5143\u7d20\uff0c\n\u5c06\u5b83\u4f5c\u4e3a\u4e00\u4e2a\u5217\u8868\u6765\u5904\u7406\u3002\u4f8b\u5982\uff0c\u5982\u679c\u4f60\u5220\u9664\u67d0\u4e2a\u5143\u7d20\uff0c\u901a\u8fc7\u8c03\u7528\u7236\u8282\u70b9\u7684 remove() \u65b9\u6cd5\u4ece\u5b83\u7684\u76f4\u63a5\u7236\u8282\u70b9\u4e2d\u5220\u9664\u3002\n\u5982\u679c\u4f60\u63d2\u5165\u6216\u589e\u52a0\u65b0\u7684\u5143\u7d20\uff0c\u4f60\u540c\u6837\u4f7f\u7528\u7236\u8282\u70b9\u5143\u7d20\u7684 insert() \u548c append() \u65b9\u6cd5\u3002\n\u8fd8\u80fd\u5bf9\u5143\u7d20\u4f7f\u7528\u7d22\u5f15\u548c\u5207\u7247\u64cd\u4f5c\uff0c\u6bd4\u5982 element[i] \u6216 element[i:j]"
      ]
    },
    {
      "cell_type": "markdown",
      "metadata": {},
      "source": [
        "\u5982\u679c\u4f60\u9700\u8981\u521b\u5efa\u65b0\u7684\u5143\u7d20\uff0c\u53ef\u4ee5\u4f7f\u7528\u672c\u8282\u65b9\u6848\u4e2d\u6f14\u793a\u7684 Element \u7c7b\u3002\u6211\u4eec\u57286.5\u5c0f\u8282\u5df2\u7ecf\u8be6\u7ec6\u8ba8\u8bba\u8fc7\u4e86\u3002"
      ]
    }
  ],
  "metadata": {
    "kernelspec": {
      "display_name": "Python 3",
      "language": "python",
      "name": "python3"
    },
    "language_info": {
      "codemirror_mode": {
        "name": "ipython",
        "version": 3
      },
      "file_extension": ".py",
      "mimetype": "text/x-python",
      "name": "python",
      "nbconvert_exporter": "python",
      "pygments_lexer": "ipython3",
      "version": "3.7.1"
    },
    "toc": {
      "base_numbering": 1,
      "nav_menu": {},
      "number_sections": true,
      "sideBar": true,
      "skip_h1_title": true,
      "title_cell": "Table of Contents",
      "title_sidebar": "Contents",
      "toc_cell": false,
      "toc_position": {},
      "toc_section_display": true,
      "toc_window_display": true
    }
  },
  "nbformat": 4,
  "nbformat_minor": 2
}