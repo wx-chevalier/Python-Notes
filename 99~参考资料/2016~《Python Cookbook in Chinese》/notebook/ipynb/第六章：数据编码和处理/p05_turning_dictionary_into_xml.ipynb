{
  "cells": [
    {
      "cell_type": "markdown",
      "metadata": {},
      "source": [
        "## 6.5 \u5c06\u5b57\u5178\u8f6c\u6362\u4e3aXML\n"
      ]
    },
    {
      "cell_type": "markdown",
      "metadata": {},
      "source": [
        "### \u95ee\u9898\n"
      ]
    },
    {
      "cell_type": "markdown",
      "metadata": {},
      "source": [
        "\u4f60\u60f3\u4f7f\u7528\u4e00\u4e2aPython\u5b57\u5178\u5b58\u50a8\u6570\u636e\uff0c\u5e76\u5c06\u5b83\u8f6c\u6362\u6210XML\u683c\u5f0f\u3002"
      ]
    },
    {
      "cell_type": "markdown",
      "metadata": {},
      "source": [
        "### \u89e3\u51b3\u65b9\u6848\n"
      ]
    },
    {
      "cell_type": "markdown",
      "metadata": {},
      "source": [
        "\u5c3d\u7ba1 xml.etree.ElementTree \u5e93\u901a\u5e38\u7528\u6765\u505a\u89e3\u6790\u5de5\u4f5c\uff0c\u5176\u5b9e\u5b83\u4e5f\u53ef\u4ee5\u521b\u5efaXML\u6587\u6863\u3002\n\u4f8b\u5982\uff0c\u8003\u8651\u5982\u4e0b\u8fd9\u4e2a\u51fd\u6570\uff1a"
      ]
    },
    {
      "cell_type": "code",
      "execution_count": null,
      "metadata": {},
      "outputs": [],
      "source": [
        "from xml.etree.ElementTree import Element\n\ndef dict_to_xml(tag, d):\n'''\nTurn a simple dict of key/value pairs into XML\n'''\nelem = Element(tag)\nfor key, val in d.items():\n    child = Element(key)\n    child.text = str(val)\n    elem.append(child)\nreturn elem"
      ]
    },
    {
      "cell_type": "markdown",
      "metadata": {},
      "source": [
        "\u4e0b\u9762\u662f\u4e00\u4e2a\u4f7f\u7528\u4f8b\u5b50\uff1a"
      ]
    },
    {
      "cell_type": "code",
      "execution_count": null,
      "metadata": {},
      "outputs": [],
      "source": [
        "s = { 'name': 'GOOG', 'shares': 100, 'price':490.1 }\ne = dict_to_xml('stock', s)\ne"
      ]
    },
    {
      "cell_type": "markdown",
      "metadata": {},
      "source": [
        "\u8f6c\u6362\u7ed3\u679c\u662f\u4e00\u4e2a Element \u5b9e\u4f8b\u3002\u5bf9\u4e8eI/O\u64cd\u4f5c\uff0c\u4f7f\u7528 xml.etree.ElementTree \u4e2d\u7684 tostring()\n\u51fd\u6570\u5f88\u5bb9\u6613\u5c31\u80fd\u5c06\u5b83\u8f6c\u6362\u6210\u4e00\u4e2a\u5b57\u8282\u5b57\u7b26\u4e32\u3002\u4f8b\u5982\uff1a"
      ]
    },
    {
      "cell_type": "code",
      "execution_count": null,
      "metadata": {},
      "outputs": [],
      "source": [
        "from xml.etree.ElementTree import tostring\ntostring(e)"
      ]
    },
    {
      "cell_type": "markdown",
      "metadata": {},
      "source": [
        "\u5982\u679c\u4f60\u60f3\u7ed9\u67d0\u4e2a\u5143\u7d20\u6dfb\u52a0\u5c5e\u6027\u503c\uff0c\u53ef\u4ee5\u4f7f\u7528 set() \u65b9\u6cd5\uff1a"
      ]
    },
    {
      "cell_type": "code",
      "execution_count": null,
      "metadata": {},
      "outputs": [],
      "source": [
        "e.set('_id','1234')\ntostring(e)"
      ]
    },
    {
      "cell_type": "markdown",
      "metadata": {},
      "source": [
        "\u5982\u679c\u4f60\u8fd8\u60f3\u4fdd\u6301\u5143\u7d20\u7684\u987a\u5e8f\uff0c\u53ef\u4ee5\u8003\u8651\u6784\u9020\u4e00\u4e2a OrderedDict \u6765\u4ee3\u66ff\u4e00\u4e2a\u666e\u901a\u7684\u5b57\u5178\u3002\u8bf7\u53c2\u80031.7\u5c0f\u8282\u3002"
      ]
    },
    {
      "cell_type": "markdown",
      "metadata": {},
      "source": [
        "### \u8ba8\u8bba\n"
      ]
    },
    {
      "cell_type": "markdown",
      "metadata": {},
      "source": [
        "\u5f53\u521b\u5efaXML\u7684\u65f6\u5019\uff0c\u4f60\u88ab\u9650\u5236\u53ea\u80fd\u6784\u9020\u5b57\u7b26\u4e32\u7c7b\u578b\u7684\u503c\u3002\u4f8b\u5982\uff1a"
      ]
    },
    {
      "cell_type": "code",
      "execution_count": null,
      "metadata": {},
      "outputs": [],
      "source": [
        "def dict_to_xml_str(tag, d):\n    '''\n    Turn a simple dict of key/value pairs into XML\n    '''\n    parts = ['<{}>'.format(tag)]\n    for key, val in d.items():\n        parts.append('<{0}>{1}</{0}>'.format(key,val))\n    parts.append('</{}>'.format(tag))\n    return ''.join(parts)"
      ]
    },
    {
      "cell_type": "markdown",
      "metadata": {},
      "source": [
        "\u95ee\u9898\u662f\u5982\u679c\u4f60\u624b\u52a8\u7684\u53bb\u6784\u9020\u7684\u65f6\u5019\u53ef\u80fd\u4f1a\u78b0\u5230\u4e00\u4e9b\u9ebb\u70e6\u3002\u4f8b\u5982\uff0c\u5f53\u5b57\u5178\u7684\u503c\u4e2d\u5305\u542b\u4e00\u4e9b\u7279\u6b8a\u5b57\u7b26\u7684\u65f6\u5019\u4f1a\u600e\u6837\u5462\uff1f"
      ]
    },
    {
      "cell_type": "code",
      "execution_count": null,
      "metadata": {},
      "outputs": [],
      "source": [
        "d = { 'name' : '<spam>' }"
      ]
    },
    {
      "cell_type": "code",
      "execution_count": null,
      "metadata": {},
      "outputs": [],
      "source": [
        "# String creation\ndict_to_xml_str('item',d)"
      ]
    },
    {
      "cell_type": "code",
      "execution_count": null,
      "metadata": {},
      "outputs": [],
      "source": [
        "# Proper XML creation\ne = dict_to_xml('item',d)\ntostring(e)"
      ]
    },
    {
      "cell_type": "markdown",
      "metadata": {},
      "source": [
        "\u6ce8\u610f\u5230\u7a0b\u5e8f\u7684\u540e\u9762\u90a3\u4e2a\u4f8b\u5b50\u4e2d\uff0c\u5b57\u7b26 \u2018<\u2019 \u548c \u2018>\u2019 \u88ab\u66ff\u6362\u6210\u4e86 &lt; \u548c &gt;"
      ]
    },
    {
      "cell_type": "markdown",
      "metadata": {},
      "source": [
        "\u4e0b\u9762\u4ec5\u4f9b\u53c2\u8003\uff0c\u5982\u679c\u4f60\u9700\u8981\u624b\u52a8\u53bb\u8f6c\u6362\u8fd9\u4e9b\u5b57\u7b26\uff0c\n\u53ef\u4ee5\u4f7f\u7528 xml.sax.saxutils \u4e2d\u7684 escape()  \u548c unescape() \u51fd\u6570\u3002\u4f8b\u5982\uff1a"
      ]
    },
    {
      "cell_type": "code",
      "execution_count": null,
      "metadata": {},
      "outputs": [],
      "source": [
        "from xml.sax.saxutils import escape, unescape\nescape('<spam>')"
      ]
    },
    {
      "cell_type": "code",
      "execution_count": null,
      "metadata": {},
      "outputs": [],
      "source": [
        "unescape(_)"
      ]
    },
    {
      "cell_type": "markdown",
      "metadata": {},
      "source": [
        "\u9664\u4e86\u80fd\u521b\u5efa\u6b63\u786e\u7684\u8f93\u51fa\u5916\uff0c\u8fd8\u6709\u53e6\u5916\u4e00\u4e2a\u539f\u56e0\u63a8\u8350\u4f60\u521b\u5efa Element \u5b9e\u4f8b\u800c\u4e0d\u662f\u5b57\u7b26\u4e32\uff0c\n\u90a3\u5c31\u662f\u4f7f\u7528\u5b57\u7b26\u4e32\u7ec4\u5408\u6784\u9020\u4e00\u4e2a\u66f4\u5927\u7684\u6587\u6863\u5e76\u4e0d\u662f\u90a3\u4e48\u5bb9\u6613\u3002\n\u800c Element \u5b9e\u4f8b\u53ef\u4ee5\u4e0d\u7528\u8003\u8651\u89e3\u6790XML\u6587\u672c\u7684\u60c5\u51b5\u4e0b\u901a\u8fc7\u591a\u79cd\u65b9\u5f0f\u88ab\u5904\u7406\u3002\n\u4e5f\u5c31\u662f\u8bf4\uff0c\u4f60\u53ef\u4ee5\u5728\u4e00\u4e2a\u9ad8\u7ea7\u6570\u636e\u7ed3\u6784\u4e0a\u5b8c\u6210\u4f60\u6240\u6709\u7684\u64cd\u4f5c\uff0c\u5e76\u5728\u6700\u540e\u4ee5\u5b57\u7b26\u4e32\u7684\u5f62\u5f0f\u5c06\u5176\u8f93\u51fa\u3002"
      ]
    }
  ],
  "metadata": {
    "kernelspec": {
      "display_name": "Python 3",
      "language": "python",
      "name": "python3"
    },
    "language_info": {
      "codemirror_mode": {
        "name": "ipython",
        "version": 3
      },
      "file_extension": ".py",
      "mimetype": "text/x-python",
      "name": "python",
      "nbconvert_exporter": "python",
      "pygments_lexer": "ipython3",
      "version": "3.7.1"
    },
    "toc": {
      "base_numbering": 1,
      "nav_menu": {},
      "number_sections": true,
      "sideBar": true,
      "skip_h1_title": true,
      "title_cell": "Table of Contents",
      "title_sidebar": "Contents",
      "toc_cell": false,
      "toc_position": {},
      "toc_section_display": true,
      "toc_window_display": true
    }
  },
  "nbformat": 4,
  "nbformat_minor": 2
}