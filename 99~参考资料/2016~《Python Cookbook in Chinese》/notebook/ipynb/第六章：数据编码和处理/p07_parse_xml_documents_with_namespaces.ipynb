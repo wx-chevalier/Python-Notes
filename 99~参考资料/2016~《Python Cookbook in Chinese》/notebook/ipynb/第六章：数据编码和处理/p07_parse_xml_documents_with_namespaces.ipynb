{
  "cells": [
    {
      "cell_type": "markdown",
      "metadata": {},
      "source": [
        "## 6.7 \u5229\u7528\u547d\u540d\u7a7a\u95f4\u89e3\u6790XML\u6587\u6863\n"
      ]
    },
    {
      "cell_type": "markdown",
      "metadata": {},
      "source": [
        "### \u95ee\u9898\n"
      ]
    },
    {
      "cell_type": "markdown",
      "metadata": {},
      "source": [
        "\u4f60\u60f3\u89e3\u6790\u67d0\u4e2aXML\u6587\u6863\uff0c\u6587\u6863\u4e2d\u4f7f\u7528\u4e86XML\u547d\u540d\u7a7a\u95f4\u3002"
      ]
    },
    {
      "cell_type": "markdown",
      "metadata": {},
      "source": [
        "### \u89e3\u51b3\u65b9\u6848\n"
      ]
    },
    {
      "cell_type": "markdown",
      "metadata": {},
      "source": [
        "\u8003\u8651\u4e0b\u9762\u8fd9\u4e2a\u4f7f\u7528\u4e86\u547d\u540d\u7a7a\u95f4\u7684\u6587\u6863\uff1a"
      ]
    },
    {
      "cell_type": "code",
      "execution_count": null,
      "metadata": {},
      "outputs": [],
      "source": [
        "<?xml version=\"1.0\" encoding=\"utf-8\"?>\n<top>\n    <author>David Beazley</author>\n    <content>\n        <html xmlns=\"http://www.w3.org/1999/xhtml\">\n            <head>\n                <title>Hello World</title>\n            </head>\n            <body>\n                <h1>Hello World!</h1>\n            </body>\n        </html>\n    </content>\n</top>"
      ]
    },
    {
      "cell_type": "markdown",
      "metadata": {},
      "source": [
        "\u5982\u679c\u4f60\u89e3\u6790\u8fd9\u4e2a\u6587\u6863\u5e76\u6267\u884c\u666e\u901a\u7684\u67e5\u8be2\uff0c\u4f60\u4f1a\u53d1\u73b0\u8fd9\u4e2a\u5e76\u4e0d\u662f\u90a3\u4e48\u5bb9\u6613\uff0c\u56e0\u4e3a\u6240\u6709\u6b65\u9aa4\u90fd\u53d8\u5f97\u76f8\u5f53\u7684\u7e41\u7410\u3002"
      ]
    },
    {
      "cell_type": "code",
      "execution_count": null,
      "metadata": {},
      "outputs": [],
      "source": [
        "# Some queries that work\ndoc.findtext('author')"
      ]
    },
    {
      "cell_type": "code",
      "execution_count": null,
      "metadata": {},
      "outputs": [],
      "source": [
        "doc.find('content')"
      ]
    },
    {
      "cell_type": "code",
      "execution_count": null,
      "metadata": {},
      "outputs": [],
      "source": [
        "# A query involving a namespace (doesn't work)\ndoc.find('content/html')\n# Works if fully qualified\ndoc.find('content/{http://www.w3.org/1999/xhtml}html')"
      ]
    },
    {
      "cell_type": "code",
      "execution_count": null,
      "metadata": {},
      "outputs": [],
      "source": [
        "# Doesn't work\ndoc.findtext('content/{http://www.w3.org/1999/xhtml}html/head/title')\n# Fully qualified\ndoc.findtext('content/{http://www.w3.org/1999/xhtml}html/'\n'{http://www.w3.org/1999/xhtml}head/{http://www.w3.org/1999/xhtml}title')"
      ]
    },
    {
      "cell_type": "markdown",
      "metadata": {},
      "source": [
        "\u4f60\u53ef\u4ee5\u901a\u8fc7\u5c06\u547d\u540d\u7a7a\u95f4\u5904\u7406\u903b\u8f91\u5305\u88c5\u4e3a\u4e00\u4e2a\u5de5\u5177\u7c7b\u6765\u7b80\u5316\u8fd9\u4e2a\u8fc7\u7a0b\uff1a"
      ]
    },
    {
      "cell_type": "code",
      "execution_count": null,
      "metadata": {},
      "outputs": [],
      "source": [
        "class XMLNamespaces:\n    def __init__(self, **kwargs):\n        self.namespaces = {}\n        for name, uri in kwargs.items():\n            self.register(name, uri)\n    def register(self, name, uri):\n        self.namespaces[name] = '{'+uri+'}'\n    def __call__(self, path):\n        return path.format_map(self.namespaces)"
      ]
    },
    {
      "cell_type": "markdown",
      "metadata": {},
      "source": [
        "\u901a\u8fc7\u4e0b\u9762\u7684\u65b9\u5f0f\u4f7f\u7528\u8fd9\u4e2a\u7c7b\uff1a"
      ]
    },
    {
      "cell_type": "code",
      "execution_count": null,
      "metadata": {},
      "outputs": [],
      "source": [
        "ns = XMLNamespaces(html='http://www.w3.org/1999/xhtml')\ndoc.find(ns('content/{html}html'))"
      ]
    },
    {
      "cell_type": "code",
      "execution_count": null,
      "metadata": {},
      "outputs": [],
      "source": [
        "doc.findtext(ns('content/{html}html/{html}head/{html}title'))"
      ]
    },
    {
      "cell_type": "markdown",
      "metadata": {},
      "source": [
        "### \u8ba8\u8bba\n"
      ]
    },
    {
      "cell_type": "markdown",
      "metadata": {},
      "source": [
        "\u89e3\u6790\u542b\u6709\u547d\u540d\u7a7a\u95f4\u7684XML\u6587\u6863\u4f1a\u6bd4\u8f83\u7e41\u7410\u3002\n\u4e0a\u9762\u7684 XMLNamespaces \u4ec5\u4ec5\u662f\u5141\u8bb8\u4f60\u4f7f\u7528\u7f29\u7565\u540d\u4ee3\u66ff\u5b8c\u6574\u7684URI\u5c06\u5176\u53d8\u5f97\u7a0d\u5fae\u7b80\u6d01\u4e00\u70b9\u3002"
      ]
    },
    {
      "cell_type": "markdown",
      "metadata": {},
      "source": [
        "\u5f88\u4e0d\u5e78\u7684\u662f\uff0c\u5728\u57fa\u672c\u7684 ElementTree \u89e3\u6790\u4e2d\u6ca1\u6709\u4efb\u4f55\u9014\u5f84\u83b7\u53d6\u547d\u540d\u7a7a\u95f4\u7684\u4fe1\u606f\u3002\n\u4f46\u662f\uff0c\u5982\u679c\u4f60\u4f7f\u7528 iterparse() \u51fd\u6570\u7684\u8bdd\u5c31\u53ef\u4ee5\u83b7\u53d6\u66f4\u591a\u5173\u4e8e\u547d\u540d\u7a7a\u95f4\u5904\u7406\u8303\u56f4\u7684\u4fe1\u606f\u3002\u4f8b\u5982\uff1a"
      ]
    },
    {
      "cell_type": "code",
      "execution_count": null,
      "metadata": {},
      "outputs": [],
      "source": [
        "from xml.etree.ElementTree import iterparse\nfor evt, elem in iterparse('ns2.xml', ('end', 'start-ns', 'end-ns')):\nprint(evt, elem)"
      ]
    },
    {
      "cell_type": "code",
      "execution_count": null,
      "metadata": {},
      "outputs": [],
      "source": [
        "elem # This is the topmost element"
      ]
    },
    {
      "cell_type": "markdown",
      "metadata": {},
      "source": [
        "\u6700\u540e\u4e00\u70b9\uff0c\u5982\u679c\u4f60\u8981\u5904\u7406\u7684XML\u6587\u672c\u9664\u4e86\u8981\u4f7f\u7528\u5230\u5176\u4ed6\u9ad8\u7ea7XML\u7279\u6027\u5916\uff0c\u8fd8\u8981\u4f7f\u7528\u5230\u547d\u540d\u7a7a\u95f4\uff0c\n\u5efa\u8bae\u4f60\u6700\u597d\u662f\u4f7f\u7528 lxml \u51fd\u6570\u5e93\u6765\u4ee3\u66ff ElementTree \u3002\n\u4f8b\u5982\uff0clxml \u5bf9\u5229\u7528DTD\u9a8c\u8bc1\u6587\u6863\u3001\u66f4\u597d\u7684XPath\u652f\u6301\u548c\u4e00\u4e9b\u5176\u4ed6\u9ad8\u7ea7XML\u7279\u6027\u7b49\u90fd\u63d0\u4f9b\u4e86\u66f4\u597d\u7684\u652f\u6301\u3002\n\u8fd9\u4e00\u5c0f\u8282\u5176\u5b9e\u53ea\u662f\u6559\u4f60\u5982\u4f55\u8ba9XML\u89e3\u6790\u7a0d\u5fae\u7b80\u5355\u4e00\u70b9\u3002"
      ]
    }
  ],
  "metadata": {
    "kernelspec": {
      "display_name": "Python 3",
      "language": "python",
      "name": "python3"
    },
    "language_info": {
      "codemirror_mode": {
        "name": "ipython",
        "version": 3
      },
      "file_extension": ".py",
      "mimetype": "text/x-python",
      "name": "python",
      "nbconvert_exporter": "python",
      "pygments_lexer": "ipython3",
      "version": "3.7.1"
    },
    "toc": {
      "base_numbering": 1,
      "nav_menu": {},
      "number_sections": true,
      "sideBar": true,
      "skip_h1_title": true,
      "title_cell": "Table of Contents",
      "title_sidebar": "Contents",
      "toc_cell": false,
      "toc_position": {},
      "toc_section_display": true,
      "toc_window_display": true
    }
  },
  "nbformat": 4,
  "nbformat_minor": 2
}