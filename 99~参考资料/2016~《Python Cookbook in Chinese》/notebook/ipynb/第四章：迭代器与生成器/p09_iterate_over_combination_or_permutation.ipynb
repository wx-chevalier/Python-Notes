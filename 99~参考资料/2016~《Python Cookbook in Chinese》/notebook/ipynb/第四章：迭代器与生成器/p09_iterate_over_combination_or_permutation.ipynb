{
  "cells": [
    {
      "cell_type": "markdown",
      "metadata": {},
      "source": [
        "## 4.9 \u6392\u5217\u7ec4\u5408\u7684\u8fed\u4ee3\n"
      ]
    },
    {
      "cell_type": "markdown",
      "metadata": {},
      "source": [
        "### \u95ee\u9898\n"
      ]
    },
    {
      "cell_type": "markdown",
      "metadata": {},
      "source": [
        "\u4f60\u60f3\u8fed\u4ee3\u904d\u5386\u4e00\u4e2a\u96c6\u5408\u4e2d\u5143\u7d20\u7684\u6240\u6709\u53ef\u80fd\u7684\u6392\u5217\u6216\u7ec4\u5408"
      ]
    },
    {
      "cell_type": "markdown",
      "metadata": {},
      "source": [
        "### \u89e3\u51b3\u65b9\u6848\n"
      ]
    },
    {
      "cell_type": "markdown",
      "metadata": {},
      "source": [
        "itertools\u6a21\u5757\u63d0\u4f9b\u4e86\u4e09\u4e2a\u51fd\u6570\u6765\u89e3\u51b3\u8fd9\u7c7b\u95ee\u9898\u3002\n\u5176\u4e2d\u4e00\u4e2a\u662f itertools.permutations() \uff0c\n\u5b83\u63a5\u53d7\u4e00\u4e2a\u96c6\u5408\u5e76\u4ea7\u751f\u4e00\u4e2a\u5143\u7ec4\u5e8f\u5217\uff0c\u6bcf\u4e2a\u5143\u7ec4\u7531\u96c6\u5408\u4e2d\u6240\u6709\u5143\u7d20\u7684\u4e00\u4e2a\u53ef\u80fd\u6392\u5217\u7ec4\u6210\u3002\n\u4e5f\u5c31\u662f\u8bf4\u901a\u8fc7\u6253\u4e71\u96c6\u5408\u4e2d\u5143\u7d20\u6392\u5217\u987a\u5e8f\u751f\u6210\u4e00\u4e2a\u5143\u7ec4\uff0c\u6bd4\u5982\uff1a"
      ]
    },
    {
      "cell_type": "code",
      "execution_count": null,
      "metadata": {},
      "outputs": [],
      "source": [
        "items = ['a', 'b', 'c']\nfrom itertools import permutations\nfor p in permutations(items):\n    print(p)"
      ]
    },
    {
      "cell_type": "markdown",
      "metadata": {},
      "source": [
        "\u5982\u679c\u4f60\u60f3\u5f97\u5230\u6307\u5b9a\u957f\u5ea6\u7684\u6240\u6709\u6392\u5217\uff0c\u4f60\u53ef\u4ee5\u4f20\u9012\u4e00\u4e2a\u53ef\u9009\u7684\u957f\u5ea6\u53c2\u6570\u3002\u5c31\u50cf\u8fd9\u6837\uff1a"
      ]
    },
    {
      "cell_type": "code",
      "execution_count": null,
      "metadata": {},
      "outputs": [],
      "source": [
        "for p in permutations(items, 2):\n    print(p)"
      ]
    },
    {
      "cell_type": "markdown",
      "metadata": {},
      "source": [
        "\u4f7f\u7528 itertools.combinations() \u53ef\u5f97\u5230\u8f93\u5165\u96c6\u5408\u4e2d\u5143\u7d20\u7684\u6240\u6709\u7684\u7ec4\u5408\u3002\u6bd4\u5982\uff1a"
      ]
    },
    {
      "cell_type": "code",
      "execution_count": null,
      "metadata": {},
      "outputs": [],
      "source": [
        "from itertools import combinations\nfor c in combinations(items, 3):\n    print(c)"
      ]
    },
    {
      "cell_type": "code",
      "execution_count": null,
      "metadata": {},
      "outputs": [],
      "source": [
        "for c in combinations(items, 2):\n    print(c)"
      ]
    },
    {
      "cell_type": "code",
      "execution_count": null,
      "metadata": {},
      "outputs": [],
      "source": [
        "for c in combinations(items, 1):\n    print(c)"
      ]
    },
    {
      "cell_type": "markdown",
      "metadata": {},
      "source": [
        "\u5bf9\u4e8e combinations() \u6765\u8bb2\uff0c\u5143\u7d20\u7684\u987a\u5e8f\u5df2\u7ecf\u4e0d\u91cd\u8981\u4e86\u3002\n\u4e5f\u5c31\u662f\u8bf4\uff0c\u7ec4\u5408 ('a', 'b') \u8ddf ('b', 'a') \u5176\u5b9e\u662f\u4e00\u6837\u7684(\u6700\u7ec8\u53ea\u4f1a\u8f93\u51fa\u5176\u4e2d\u4e00\u4e2a)\u3002"
      ]
    },
    {
      "cell_type": "markdown",
      "metadata": {},
      "source": [
        "\u5728\u8ba1\u7b97\u7ec4\u5408\u7684\u65f6\u5019\uff0c\u4e00\u65e6\u5143\u7d20\u88ab\u9009\u53d6\u5c31\u4f1a\u4ece\u5019\u9009\u4e2d\u5254\u9664\u6389(\u6bd4\u5982\u5982\u679c\u5143\u7d20\u2019a\u2019\u5df2\u7ecf\u88ab\u9009\u53d6\u4e86\uff0c\u90a3\u4e48\u63a5\u4e0b\u6765\u5c31\u4e0d\u4f1a\u518d\u8003\u8651\u5b83\u4e86)\u3002\n\u800c\u51fd\u6570 itertools.combinations_with_replacement() \u5141\u8bb8\u540c\u4e00\u4e2a\u5143\u7d20\u88ab\u9009\u62e9\u591a\u6b21\uff0c\u6bd4\u5982\uff1a"
      ]
    },
    {
      "cell_type": "code",
      "execution_count": null,
      "metadata": {},
      "outputs": [],
      "source": [
        "for c in combinations_with_replacement(items, 3):\n    print(c)"
      ]
    },
    {
      "cell_type": "markdown",
      "metadata": {},
      "source": [
        "### \u8ba8\u8bba\n"
      ]
    },
    {
      "cell_type": "markdown",
      "metadata": {},
      "source": [
        "\u8fd9\u4e00\u5c0f\u8282\u6211\u4eec\u5411\u4f60\u5c55\u793a\u7684\u4ec5\u4ec5\u662f itertools \u6a21\u5757\u7684\u4e00\u90e8\u5206\u529f\u80fd\u3002\n\u5c3d\u7ba1\u4f60\u4e5f\u53ef\u4ee5\u81ea\u5df1\u624b\u52a8\u5b9e\u73b0\u6392\u5217\u7ec4\u5408\u7b97\u6cd5\uff0c\u4f46\u662f\u8fd9\u6837\u505a\u5f97\u8981\u82b1\u70b9\u8111\u529b\u3002\n\u5f53\u6211\u4eec\u78b0\u5230\u770b\u4e0a\u53bb\u6709\u4e9b\u590d\u6742\u7684\u8fed\u4ee3\u95ee\u9898\u65f6\uff0c\u6700\u597d\u53ef\u4ee5\u5148\u53bb\u770b\u770bitertools\u6a21\u5757\u3002\n\u5982\u679c\u8fd9\u4e2a\u95ee\u9898\u5f88\u666e\u904d\uff0c\u90a3\u4e48\u5f88\u6709\u53ef\u80fd\u4f1a\u5728\u91cc\u9762\u627e\u5230\u89e3\u51b3\u65b9\u6848\uff01"
      ]
    }
  ],
  "metadata": {
    "kernelspec": {
      "display_name": "Python 3",
      "language": "python",
      "name": "python3"
    },
    "language_info": {
      "codemirror_mode": {
        "name": "ipython",
        "version": 3
      },
      "file_extension": ".py",
      "mimetype": "text/x-python",
      "name": "python",
      "nbconvert_exporter": "python",
      "pygments_lexer": "ipython3",
      "version": "3.7.1"
    },
    "toc": {
      "base_numbering": 1,
      "nav_menu": {},
      "number_sections": true,
      "sideBar": true,
      "skip_h1_title": true,
      "title_cell": "Table of Contents",
      "title_sidebar": "Contents",
      "toc_cell": false,
      "toc_position": {},
      "toc_section_display": true,
      "toc_window_display": true
    }
  },
  "nbformat": 4,
  "nbformat_minor": 2
}