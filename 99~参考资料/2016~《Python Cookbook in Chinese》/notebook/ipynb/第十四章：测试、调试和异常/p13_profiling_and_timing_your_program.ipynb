{
  "cells": [
    {
      "cell_type": "markdown",
      "metadata": {},
      "source": [
        "## 14.13 \u7ed9\u4f60\u7684\u7a0b\u5e8f\u505a\u6027\u80fd\u6d4b\u8bd5\n"
      ]
    },
    {
      "cell_type": "markdown",
      "metadata": {},
      "source": [
        "### \u95ee\u9898\n"
      ]
    },
    {
      "cell_type": "markdown",
      "metadata": {},
      "source": [
        "\u4f60\u60f3\u6d4b\u8bd5\u4f60\u7684\u7a0b\u5e8f\u8fd0\u884c\u6240\u82b1\u8d39\u7684\u65f6\u95f4\u5e76\u505a\u6027\u80fd\u6d4b\u8bd5\u3002"
      ]
    },
    {
      "cell_type": "markdown",
      "metadata": {},
      "source": [
        "### \u89e3\u51b3\u65b9\u6848\n"
      ]
    },
    {
      "cell_type": "markdown",
      "metadata": {},
      "source": [
        "\u5982\u679c\u4f60\u53ea\u662f\u7b80\u5355\u7684\u60f3\u6d4b\u8bd5\u4e0b\u4f60\u7684\u7a0b\u5e8f\u6574\u4f53\u82b1\u8d39\u7684\u65f6\u95f4\uff0c\n\u901a\u5e38\u4f7f\u7528Unix\u65f6\u95f4\u51fd\u6570\u5c31\u884c\u4e86\uff0c\u6bd4\u5982\uff1a"
      ]
    },
    {
      "cell_type": "code",
      "execution_count": null,
      "metadata": {},
      "outputs": [],
      "source": [
        "bash % time python3 someprogram.py\nreal 0m13.937s\nuser 0m12.162s\nsys  0m0.098s\nbash %"
      ]
    },
    {
      "cell_type": "markdown",
      "metadata": {},
      "source": [
        "\u5982\u679c\u4f60\u8fd8\u9700\u8981\u4e00\u4e2a\u7a0b\u5e8f\u5404\u4e2a\u7ec6\u8282\u7684\u8be6\u7ec6\u62a5\u544a\uff0c\u53ef\u4ee5\u4f7f\u7528 cProfile \u6a21\u5757\uff1a"
      ]
    },
    {
      "cell_type": "code",
      "execution_count": null,
      "metadata": {},
      "outputs": [],
      "source": [
        "bash % python3 -m cProfile someprogram.py\n         859647 function calls in 16.016 CPU seconds\n\n   Ordered by: standard name\n\n   ncalls  tottime  percall  cumtime  percall filename:lineno(function)\n   263169    0.080    0.000    0.080    0.000 someprogram.py:16(frange)\n      513    0.001    0.000    0.002    0.000 someprogram.py:30(generate_mandel)\n   262656    0.194    0.000   15.295    0.000 someprogram.py:32(<genexpr>)\n        1    0.036    0.036   16.077   16.077 someprogram.py:4(<module>)\n   262144   15.021    0.000   15.021    0.000 someprogram.py:4(in_mandelbrot)\n        1    0.000    0.000    0.000    0.000 os.py:746(urandom)\n        1    0.000    0.000    0.000    0.000 png.py:1056(_readable)\n        1    0.000    0.000    0.000    0.000 png.py:1073(Reader)\n        1    0.227    0.227    0.438    0.438 png.py:163(<module>)\n      512    0.010    0.000    0.010    0.000 png.py:200(group)\n    ...\nbash %"
      ]
    },
    {
      "cell_type": "markdown",
      "metadata": {},
      "source": [
        "\u4e0d\u8fc7\u901a\u5e38\u60c5\u51b5\u662f\u4ecb\u4e8e\u8fd9\u4e24\u4e2a\u6781\u7aef\u4e4b\u95f4\u3002\u6bd4\u5982\u4f60\u5df2\u7ecf\u77e5\u9053\u4ee3\u7801\u8fd0\u884c\u65f6\u5728\u5c11\u6570\u51e0\u4e2a\u51fd\u6570\u4e2d\u82b1\u8d39\u4e86\u7edd\u5927\u90e8\u5206\u65f6\u95f4\u3002\n\u5bf9\u4e8e\u8fd9\u4e9b\u51fd\u6570\u7684\u6027\u80fd\u6d4b\u8bd5\uff0c\u53ef\u4ee5\u4f7f\u7528\u4e00\u4e2a\u7b80\u5355\u7684\u88c5\u9970\u5668\uff1a"
      ]
    },
    {
      "cell_type": "code",
      "execution_count": null,
      "metadata": {},
      "outputs": [],
      "source": [
        "# timethis.py\n\nimport time\nfrom functools import wraps\n\ndef timethis(func):\n    @wraps(func)\n    def wrapper(*args, **kwargs):\n        start = time.perf_counter()\n        r = func(*args, **kwargs)\n        end = time.perf_counter()\n        print('{}.{} : {}'.format(func.__module__, func.__name__, end - start))\n        return r\n    return wrapper"
      ]
    },
    {
      "cell_type": "markdown",
      "metadata": {},
      "source": [
        "\u8981\u4f7f\u7528\u8fd9\u4e2a\u88c5\u9970\u5668\uff0c\u53ea\u9700\u8981\u5c06\u5176\u653e\u7f6e\u5728\u4f60\u8981\u8fdb\u884c\u6027\u80fd\u6d4b\u8bd5\u7684\u51fd\u6570\u5b9a\u4e49\u524d\u5373\u53ef\uff0c\u6bd4\u5982\uff1a"
      ]
    },
    {
      "cell_type": "code",
      "execution_count": null,
      "metadata": {},
      "outputs": [],
      "source": [
        "@timethis\ndef countdown(n):\n    while n > 0:\n            n -= 1\ncountdown(10000000)"
      ]
    },
    {
      "cell_type": "markdown",
      "metadata": {},
      "source": [
        "\u8981\u6d4b\u8bd5\u67d0\u4e2a\u4ee3\u7801\u5757\u8fd0\u884c\u65f6\u95f4\uff0c\u4f60\u53ef\u4ee5\u5b9a\u4e49\u4e00\u4e2a\u4e0a\u4e0b\u6587\u7ba1\u7406\u5668\uff0c\u4f8b\u5982\uff1a"
      ]
    },
    {
      "cell_type": "code",
      "execution_count": null,
      "metadata": {},
      "outputs": [],
      "source": [
        "from contextlib import contextmanager\n\n@contextmanager\ndef timeblock(label):\n    start = time.perf_counter()\n    try:\n        yield\n    finally:\n        end = time.perf_counter()\n        print('{} : {}'.format(label, end - start))"
      ]
    },
    {
      "cell_type": "markdown",
      "metadata": {},
      "source": [
        "\u4e0b\u9762\u662f\u4f7f\u7528\u8fd9\u4e2a\u4e0a\u4e0b\u6587\u7ba1\u7406\u5668\u7684\u4f8b\u5b50\uff1a"
      ]
    },
    {
      "cell_type": "code",
      "execution_count": null,
      "metadata": {},
      "outputs": [],
      "source": [
        "with timeblock('counting'):\n    n = 10000000\n    while n > 0:\n            n -= 1"
      ]
    },
    {
      "cell_type": "markdown",
      "metadata": {},
      "source": [
        "\u5bf9\u4e8e\u6d4b\u8bd5\u5f88\u5c0f\u7684\u4ee3\u7801\u7247\u6bb5\u8fd0\u884c\u6027\u80fd\uff0c\u4f7f\u7528 timeit \u6a21\u5757\u4f1a\u5f88\u65b9\u4fbf\uff0c\u4f8b\u5982\uff1a"
      ]
    },
    {
      "cell_type": "code",
      "execution_count": null,
      "metadata": {},
      "outputs": [],
      "source": [
        "from timeit import timeit\ntimeit('math.sqrt(2)', 'import math')"
      ]
    },
    {
      "cell_type": "code",
      "execution_count": null,
      "metadata": {},
      "outputs": [],
      "source": [
        "timeit('sqrt(2)', 'from math import sqrt')"
      ]
    },
    {
      "cell_type": "markdown",
      "metadata": {},
      "source": [
        "timeit \u4f1a\u6267\u884c\u7b2c\u4e00\u4e2a\u53c2\u6570\u4e2d\u8bed\u53e5100\u4e07\u6b21\u5e76\u8ba1\u7b97\u8fd0\u884c\u65f6\u95f4\u3002\n\u7b2c\u4e8c\u4e2a\u53c2\u6570\u662f\u8fd0\u884c\u6d4b\u8bd5\u4e4b\u524d\u914d\u7f6e\u73af\u5883\u3002\u5982\u679c\u4f60\u60f3\u6539\u53d8\u5faa\u73af\u6267\u884c\u6b21\u6570\uff0c\n\u53ef\u4ee5\u50cf\u4e0b\u9762\u8fd9\u6837\u8bbe\u7f6e number \u53c2\u6570\u7684\u503c\uff1a"
      ]
    },
    {
      "cell_type": "code",
      "execution_count": null,
      "metadata": {},
      "outputs": [],
      "source": [
        "timeit('math.sqrt(2)', 'import math', number=10000000)"
      ]
    },
    {
      "cell_type": "code",
      "execution_count": null,
      "metadata": {},
      "outputs": [],
      "source": [
        "timeit('sqrt(2)', 'from math import sqrt', number=10000000)"
      ]
    },
    {
      "cell_type": "markdown",
      "metadata": {},
      "source": [
        "### \u8ba8\u8bba\n"
      ]
    },
    {
      "cell_type": "markdown",
      "metadata": {},
      "source": [
        "\u5f53\u6267\u884c\u6027\u80fd\u6d4b\u8bd5\u7684\u65f6\u5019\uff0c\u9700\u8981\u6ce8\u610f\u7684\u662f\u4f60\u83b7\u53d6\u7684\u7ed3\u679c\u90fd\u662f\u8fd1\u4f3c\u503c\u3002\ntime.perf_counter() \u51fd\u6570\u4f1a\u5728\u7ed9\u5b9a\u5e73\u53f0\u4e0a\u83b7\u53d6\u6700\u9ad8\u7cbe\u5ea6\u7684\u8ba1\u65f6\u503c\u3002\n\u4e0d\u8fc7\uff0c\u5b83\u4ecd\u7136\u8fd8\u662f\u57fa\u4e8e\u65f6\u949f\u65f6\u95f4\uff0c\u5f88\u591a\u56e0\u7d20\u4f1a\u5f71\u54cd\u5230\u5b83\u7684\u7cbe\u786e\u5ea6\uff0c\u6bd4\u5982\u673a\u5668\u8d1f\u8f7d\u3002\n\u5982\u679c\u4f60\u5bf9\u4e8e\u6267\u884c\u65f6\u95f4\u66f4\u611f\u5174\u8da3\uff0c\u4f7f\u7528 time.process_time() \u6765\u4ee3\u66ff\u5b83\u3002\u4f8b\u5982\uff1a"
      ]
    },
    {
      "cell_type": "code",
      "execution_count": null,
      "metadata": {},
      "outputs": [],
      "source": [
        "from functools import wraps\ndef timethis(func):\n    @wraps(func)\n    def wrapper(*args, **kwargs):\n        start = time.process_time()\n        r = func(*args, **kwargs)\n        end = time.process_time()\n        print('{}.{} : {}'.format(func.__module__, func.__name__, end - start))\n        return r\n    return wrapper"
      ]
    },
    {
      "cell_type": "markdown",
      "metadata": {},
      "source": [
        "\u6700\u540e\uff0c\u5982\u679c\u4f60\u60f3\u8fdb\u884c\u66f4\u6df1\u5165\u7684\u6027\u80fd\u5206\u6790\uff0c\u90a3\u4e48\u4f60\u9700\u8981\u8be6\u7ec6\u9605\u8bfb time \u3001timeit \u548c\u5176\u4ed6\u76f8\u5173\u6a21\u5757\u7684\u6587\u6863\u3002\n\u8fd9\u6837\u4f60\u53ef\u4ee5\u7406\u89e3\u548c\u5e73\u53f0\u76f8\u5173\u7684\u5dee\u5f02\u4ee5\u53ca\u4e00\u4e9b\u5176\u4ed6\u9677\u9631\u3002\n\u8fd8\u53ef\u4ee5\u53c2\u800313.13\u5c0f\u8282\u4e2d\u76f8\u5173\u7684\u4e00\u4e2a\u521b\u5efa\u8ba1\u65f6\u5668\u7c7b\u7684\u4f8b\u5b50\u3002"
      ]
    }
  ],
  "metadata": {
    "kernelspec": {
      "display_name": "Python 3",
      "language": "python",
      "name": "python3"
    },
    "language_info": {
      "codemirror_mode": {
        "name": "ipython",
        "version": 3
      },
      "file_extension": ".py",
      "mimetype": "text/x-python",
      "name": "python",
      "nbconvert_exporter": "python",
      "pygments_lexer": "ipython3",
      "version": "3.7.1"
    },
    "toc": {
      "base_numbering": 1,
      "nav_menu": {},
      "number_sections": true,
      "sideBar": true,
      "skip_h1_title": true,
      "title_cell": "Table of Contents",
      "title_sidebar": "Contents",
      "toc_cell": false,
      "toc_position": {},
      "toc_section_display": true,
      "toc_window_display": true
    }
  },
  "nbformat": 4,
  "nbformat_minor": 2
}