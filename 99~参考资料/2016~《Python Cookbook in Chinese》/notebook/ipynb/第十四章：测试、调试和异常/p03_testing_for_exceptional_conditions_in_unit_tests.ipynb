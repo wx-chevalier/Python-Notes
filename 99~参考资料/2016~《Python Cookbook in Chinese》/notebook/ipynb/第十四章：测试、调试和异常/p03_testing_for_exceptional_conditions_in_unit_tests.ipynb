{
  "cells": [
    {
      "cell_type": "markdown",
      "metadata": {},
      "source": [
        "## 14.3 \u5728\u5355\u5143\u6d4b\u8bd5\u4e2d\u6d4b\u8bd5\u5f02\u5e38\u60c5\u51b5\n"
      ]
    },
    {
      "cell_type": "markdown",
      "metadata": {},
      "source": [
        "### \u95ee\u9898\n"
      ]
    },
    {
      "cell_type": "markdown",
      "metadata": {},
      "source": [
        "\u4f60\u60f3\u5199\u4e2a\u6d4b\u8bd5\u7528\u4f8b\u6765\u51c6\u786e\u7684\u5224\u65ad\u67d0\u4e2a\u5f02\u5e38\u662f\u5426\u88ab\u629b\u51fa\u3002"
      ]
    },
    {
      "cell_type": "markdown",
      "metadata": {},
      "source": [
        "### \u89e3\u51b3\u65b9\u6848\n"
      ]
    },
    {
      "cell_type": "markdown",
      "metadata": {},
      "source": [
        "\u5bf9\u4e8e\u5f02\u5e38\u7684\u6d4b\u8bd5\u53ef\u4f7f\u7528 assertRaises() \u65b9\u6cd5\u3002\n\u4f8b\u5982\uff0c\u5982\u679c\u4f60\u60f3\u6d4b\u8bd5\u67d0\u4e2a\u51fd\u6570\u629b\u51fa\u4e86 ValueError \u5f02\u5e38\uff0c\u50cf\u4e0b\u9762\u8fd9\u6837\u5199\uff1a"
      ]
    },
    {
      "cell_type": "code",
      "execution_count": null,
      "metadata": {},
      "outputs": [],
      "source": [
        "import unittest\n\n# A simple function to illustrate\ndef parse_int(s):\n    return int(s)\n\nclass TestConversion(unittest.TestCase):\n    def test_bad_int(self):\n        self.assertRaises(ValueError, parse_int, 'N/A')"
      ]
    },
    {
      "cell_type": "markdown",
      "metadata": {},
      "source": [
        "\u5982\u679c\u4f60\u60f3\u6d4b\u8bd5\u5f02\u5e38\u7684\u5177\u4f53\u503c\uff0c\u9700\u8981\u7528\u5230\u53e6\u5916\u4e00\u79cd\u65b9\u6cd5\uff1a"
      ]
    },
    {
      "cell_type": "code",
      "execution_count": null,
      "metadata": {},
      "outputs": [],
      "source": [
        "import errno\n\nclass TestIO(unittest.TestCase):\n    def test_file_not_found(self):\n        try:\n            f = open('/file/not/found')\n        except IOError as e:\n            self.assertEqual(e.errno, errno.ENOENT)\n\n        else:\n            self.fail('IOError not raised')"
      ]
    },
    {
      "cell_type": "markdown",
      "metadata": {},
      "source": [
        "### \u8ba8\u8bba\n"
      ]
    },
    {
      "cell_type": "markdown",
      "metadata": {},
      "source": [
        "assertRaises() \u65b9\u6cd5\u4e3a\u6d4b\u8bd5\u5f02\u5e38\u5b58\u5728\u6027\u63d0\u4f9b\u4e86\u4e00\u4e2a\u7b80\u4fbf\u65b9\u6cd5\u3002\n\u4e00\u4e2a\u5e38\u89c1\u7684\u9677\u9631\u662f\u624b\u52a8\u53bb\u8fdb\u884c\u5f02\u5e38\u68c0\u6d4b\u3002\u6bd4\u5982\uff1a"
      ]
    },
    {
      "cell_type": "code",
      "execution_count": null,
      "metadata": {},
      "outputs": [],
      "source": [
        "class TestConversion(unittest.TestCase):\n    def test_bad_int(self):\n        try:\n            r = parse_int('N/A')\n        except ValueError as e:\n            self.assertEqual(type(e), ValueError)"
      ]
    },
    {
      "cell_type": "markdown",
      "metadata": {},
      "source": [
        "\u8fd9\u79cd\u65b9\u6cd5\u7684\u95ee\u9898\u5728\u4e8e\u5b83\u5f88\u5bb9\u6613\u9057\u6f0f\u5176\u4ed6\u60c5\u51b5\uff0c\u6bd4\u5982\u6ca1\u6709\u4efb\u4f55\u5f02\u5e38\u629b\u51fa\u7684\u65f6\u5019\u3002\n\u90a3\u4e48\u4f60\u8fd8\u5f97\u9700\u8981\u589e\u52a0\u53e6\u5916\u7684\u68c0\u6d4b\u8fc7\u7a0b\uff0c\u5982\u4e0b\u9762\u8fd9\u6837\uff1a"
      ]
    },
    {
      "cell_type": "code",
      "execution_count": null,
      "metadata": {},
      "outputs": [],
      "source": [
        "class TestConversion(unittest.TestCase):\n    def test_bad_int(self):\n        try:\n            r = parse_int('N/A')\n        except ValueError as e:\n            self.assertEqual(type(e), ValueError)\n        else:\n            self.fail('ValueError not raised')"
      ]
    },
    {
      "cell_type": "markdown",
      "metadata": {},
      "source": [
        "assertRaises() \u65b9\u6cd5\u4f1a\u5904\u7406\u6240\u6709\u7ec6\u8282\uff0c\u56e0\u6b64\u4f60\u5e94\u8be5\u4f7f\u7528\u5b83\u3002"
      ]
    },
    {
      "cell_type": "markdown",
      "metadata": {},
      "source": [
        "assertRaises() \u7684\u4e00\u4e2a\u7f3a\u70b9\u662f\u5b83\u6d4b\u4e0d\u4e86\u5f02\u5e38\u5177\u4f53\u7684\u503c\u662f\u591a\u5c11\u3002\n\u4e3a\u4e86\u6d4b\u8bd5\u5f02\u5e38\u503c\uff0c\u53ef\u4ee5\u4f7f\u7528 assertRaisesRegex() \u65b9\u6cd5\uff0c\n\u5b83\u53ef\u540c\u65f6\u6d4b\u8bd5\u5f02\u5e38\u7684\u5b58\u5728\u4ee5\u53ca\u901a\u8fc7\u6b63\u5219\u5f0f\u5339\u914d\u5f02\u5e38\u7684\u5b57\u7b26\u4e32\u8868\u793a\u3002\u4f8b\u5982\uff1a"
      ]
    },
    {
      "cell_type": "code",
      "execution_count": null,
      "metadata": {},
      "outputs": [],
      "source": [
        "class TestConversion(unittest.TestCase):\n    def test_bad_int(self):\n        self.assertRaisesRegex(ValueError, 'invalid literal .*',\n                                       parse_int, 'N/A')"
      ]
    },
    {
      "cell_type": "markdown",
      "metadata": {},
      "source": [
        "assertRaises() \u548c assertRaisesRegex()\n\u8fd8\u6709\u4e00\u4e2a\u5bb9\u6613\u5ffd\u7565\u7684\u5730\u65b9\u5c31\u662f\u5b83\u4eec\u8fd8\u80fd\u88ab\u5f53\u505a\u4e0a\u4e0b\u6587\u7ba1\u7406\u5668\u4f7f\u7528\uff1a"
      ]
    },
    {
      "cell_type": "code",
      "execution_count": null,
      "metadata": {},
      "outputs": [],
      "source": [
        "class TestConversion(unittest.TestCase):\n    def test_bad_int(self):\n        with self.assertRaisesRegex(ValueError, 'invalid literal .*'):\n            r = parse_int('N/A')"
      ]
    },
    {
      "cell_type": "markdown",
      "metadata": {},
      "source": [
        "\u4f46\u4f60\u7684\u6d4b\u8bd5\u6d89\u53ca\u5230\u591a\u4e2a\u6267\u884c\u6b65\u9aa4\u7684\u65f6\u5019\u8fd9\u79cd\u65b9\u6cd5\u5c31\u5f88\u6709\u7528\u4e86\u3002"
      ]
    }
  ],
  "metadata": {
    "kernelspec": {
      "display_name": "Python 3",
      "language": "python",
      "name": "python3"
    },
    "language_info": {
      "codemirror_mode": {
        "name": "ipython",
        "version": 3
      },
      "file_extension": ".py",
      "mimetype": "text/x-python",
      "name": "python",
      "nbconvert_exporter": "python",
      "pygments_lexer": "ipython3",
      "version": "3.7.1"
    },
    "toc": {
      "base_numbering": 1,
      "nav_menu": {},
      "number_sections": true,
      "sideBar": true,
      "skip_h1_title": true,
      "title_cell": "Table of Contents",
      "title_sidebar": "Contents",
      "toc_cell": false,
      "toc_position": {},
      "toc_section_display": true,
      "toc_window_display": true
    }
  },
  "nbformat": 4,
  "nbformat_minor": 2
}