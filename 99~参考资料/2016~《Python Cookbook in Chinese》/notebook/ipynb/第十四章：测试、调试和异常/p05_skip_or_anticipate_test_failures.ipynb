{
  "cells": [
    {
      "cell_type": "markdown",
      "metadata": {},
      "source": [
        "## 14.5 \u5ffd\u7565\u6216\u671f\u671b\u6d4b\u8bd5\u5931\u8d25\n"
      ]
    },
    {
      "cell_type": "markdown",
      "metadata": {},
      "source": [
        "### \u95ee\u9898\n"
      ]
    },
    {
      "cell_type": "markdown",
      "metadata": {},
      "source": [
        "\u4f60\u60f3\u5728\u5355\u5143\u6d4b\u8bd5\u4e2d\u5ffd\u7565\u6216\u6807\u8bb0\u67d0\u4e9b\u6d4b\u8bd5\u4f1a\u6309\u7167\u9884\u671f\u8fd0\u884c\u5931\u8d25\u3002"
      ]
    },
    {
      "cell_type": "markdown",
      "metadata": {},
      "source": [
        "### \u89e3\u51b3\u65b9\u6848\n"
      ]
    },
    {
      "cell_type": "markdown",
      "metadata": {},
      "source": [
        "unittest \u6a21\u5757\u6709\u88c5\u9970\u5668\u53ef\u7528\u6765\u63a7\u5236\u5bf9\u6307\u5b9a\u6d4b\u8bd5\u65b9\u6cd5\u7684\u5904\u7406\uff0c\u4f8b\u5982\uff1a"
      ]
    },
    {
      "cell_type": "code",
      "execution_count": null,
      "metadata": {},
      "outputs": [],
      "source": [
        "import unittest\nimport os\nimport platform\n\nclass Tests(unittest.TestCase):\n    def test_0(self):\n        self.assertTrue(True)\n\n    @unittest.skip('skipped test')\n    def test_1(self):\n        self.fail('should have failed!')\n\n    @unittest.skipIf(os.name=='posix', 'Not supported on Unix')\n    def test_2(self):\n        import winreg\n\n    @unittest.skipUnless(platform.system() == 'Darwin', 'Mac specific test')\n    def test_3(self):\n        self.assertTrue(True)\n\n    @unittest.expectedFailure\n    def test_4(self):\n        self.assertEqual(2+2, 5)\n\nif __name__ == '__main__':\n    unittest.main()"
      ]
    },
    {
      "cell_type": "markdown",
      "metadata": {},
      "source": [
        "\u5982\u679c\u4f60\u5728Mac\u4e0a\u8fd0\u884c\u8fd9\u6bb5\u4ee3\u7801\uff0c\u4f60\u4f1a\u5f97\u5230\u5982\u4e0b\u8f93\u51fa\uff1a"
      ]
    },
    {
      "cell_type": "code",
      "execution_count": null,
      "metadata": {},
      "outputs": [],
      "source": [
        "bash % python3 testsample.py -v\ntest_0 (__main__.Tests) ... ok\ntest_1 (__main__.Tests) ... skipped 'skipped test'\ntest_2 (__main__.Tests) ... skipped 'Not supported on Unix'\ntest_3 (__main__.Tests) ... ok\ntest_4 (__main__.Tests) ... expected failure\n\n----------------------------------------------------------------------\nRan 5 tests in 0.002s\n\nOK (skipped=2, expected failures=1)"
      ]
    },
    {
      "cell_type": "markdown",
      "metadata": {},
      "source": [
        "### \u8ba8\u8bba\n"
      ]
    },
    {
      "cell_type": "markdown",
      "metadata": {},
      "source": [
        "skip() \u88c5\u9970\u5668\u80fd\u88ab\u7528\u6765\u5ffd\u7565\u67d0\u4e2a\u4f60\u4e0d\u60f3\u8fd0\u884c\u7684\u6d4b\u8bd5\u3002\nskipIf() \u548c skipUnless()\n\u5bf9\u4e8e\u4f60\u53ea\u60f3\u5728\u67d0\u4e2a\u7279\u5b9a\u5e73\u53f0\u6216Python\u7248\u672c\u6216\u5176\u4ed6\u4f9d\u8d56\u6210\u7acb\u65f6\u624d\u8fd0\u884c\u6d4b\u8bd5\u7684\u65f6\u5019\u975e\u5e38\u6709\u7528\u3002\n\u4f7f\u7528 @expected \u7684\u5931\u8d25\u88c5\u9970\u5668\u6765\u6807\u8bb0\u90a3\u4e9b\u786e\u5b9a\u4f1a\u5931\u8d25\u7684\u6d4b\u8bd5\uff0c\u5e76\u4e14\u5bf9\u8fd9\u4e9b\u6d4b\u8bd5\u4f60\u4e0d\u60f3\u8ba9\u6d4b\u8bd5\u6846\u67b6\u6253\u5370\u66f4\u591a\u4fe1\u606f\u3002"
      ]
    },
    {
      "cell_type": "markdown",
      "metadata": {},
      "source": [
        "\u5ffd\u7565\u65b9\u6cd5\u7684\u88c5\u9970\u5668\u8fd8\u53ef\u4ee5\u88ab\u7528\u6765\u88c5\u9970\u6574\u4e2a\u6d4b\u8bd5\u7c7b\uff0c\u6bd4\u5982\uff1a"
      ]
    },
    {
      "cell_type": "code",
      "execution_count": null,
      "metadata": {},
      "outputs": [],
      "source": [
        "@unittest.skipUnless(platform.system() == 'Darwin', 'Mac specific tests')\nclass DarwinTests(unittest.TestCase):\n    pass"
      ]
    }
  ],
  "metadata": {
    "kernelspec": {
      "display_name": "Python 3",
      "language": "python",
      "name": "python3"
    },
    "language_info": {
      "codemirror_mode": {
        "name": "ipython",
        "version": 3
      },
      "file_extension": ".py",
      "mimetype": "text/x-python",
      "name": "python",
      "nbconvert_exporter": "python",
      "pygments_lexer": "ipython3",
      "version": "3.7.1"
    },
    "toc": {
      "base_numbering": 1,
      "nav_menu": {},
      "number_sections": true,
      "sideBar": true,
      "skip_h1_title": true,
      "title_cell": "Table of Contents",
      "title_sidebar": "Contents",
      "toc_cell": false,
      "toc_position": {},
      "toc_section_display": true,
      "toc_window_display": true
    }
  },
  "nbformat": 4,
  "nbformat_minor": 2
}