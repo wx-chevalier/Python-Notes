{
  "cells": [
    {
      "cell_type": "markdown",
      "metadata": {},
      "source": [
        "## 14.14 \u52a0\u901f\u7a0b\u5e8f\u8fd0\u884c\n"
      ]
    },
    {
      "cell_type": "markdown",
      "metadata": {},
      "source": [
        "### \u95ee\u9898\n"
      ]
    },
    {
      "cell_type": "markdown",
      "metadata": {},
      "source": [
        "\u4f60\u7684\u7a0b\u5e8f\u8fd0\u884c\u592a\u6162\uff0c\u4f60\u60f3\u5728\u4e0d\u4f7f\u7528\u590d\u6742\u6280\u672f\u6bd4\u5982C\u6269\u5c55\u6216JIT\u7f16\u8bd1\u5668\u7684\u60c5\u51b5\u4e0b\u52a0\u5feb\u7a0b\u5e8f\u8fd0\u884c\u901f\u5ea6\u3002"
      ]
    },
    {
      "cell_type": "markdown",
      "metadata": {},
      "source": [
        "### \u89e3\u51b3\u65b9\u6848\n"
      ]
    },
    {
      "cell_type": "markdown",
      "metadata": {},
      "source": [
        "\u5173\u4e8e\u7a0b\u5e8f\u4f18\u5316\u7684\u7b2c\u4e00\u4e2a\u51c6\u5219\u662f\u201c\u4e0d\u8981\u4f18\u5316\u201d\uff0c\u7b2c\u4e8c\u4e2a\u51c6\u5219\u662f\u201c\u4e0d\u8981\u4f18\u5316\u90a3\u4e9b\u65e0\u5173\u7d27\u8981\u7684\u90e8\u5206\u201d\u3002\n\u5982\u679c\u4f60\u7684\u7a0b\u5e8f\u8fd0\u884c\u7f13\u6162\uff0c\u9996\u5148\u4f60\u5f97\u4f7f\u752814.13\u5c0f\u8282\u7684\u6280\u672f\u5148\u5bf9\u5b83\u8fdb\u884c\u6027\u80fd\u6d4b\u8bd5\u627e\u5230\u95ee\u9898\u6240\u5728\u3002"
      ]
    },
    {
      "cell_type": "markdown",
      "metadata": {},
      "source": [
        "\u901a\u5e38\u6765\u8bb2\u4f60\u4f1a\u53d1\u73b0\u4f60\u5f97\u7a0b\u5e8f\u5728\u5c11\u6570\u51e0\u4e2a\u70ed\u70b9\u5730\u65b9\u82b1\u8d39\u4e86\u5927\u91cf\u65f6\u95f4\uff0c\n\u6bd4\u5982\u5185\u5b58\u7684\u6570\u636e\u5904\u7406\u5faa\u73af\u3002\u4e00\u65e6\u4f60\u5b9a\u4f4d\u5230\u8fd9\u4e9b\u70b9\uff0c\u4f60\u5c31\u53ef\u4ee5\u4f7f\u7528\u4e0b\u9762\u8fd9\u4e9b\u5b9e\u7528\u6280\u672f\u6765\u52a0\u901f\u7a0b\u5e8f\u8fd0\u884c\u3002"
      ]
    },
    {
      "cell_type": "markdown",
      "metadata": {},
      "source": [
        "\u4f7f\u7528\u51fd\u6570"
      ]
    },
    {
      "cell_type": "markdown",
      "metadata": {},
      "source": [
        "\u5f88\u591a\u7a0b\u5e8f\u5458\u521a\u5f00\u59cb\u4f1a\u4f7f\u7528Python\u8bed\u8a00\u5199\u4e00\u4e9b\u7b80\u5355\u811a\u672c\u3002\n\u5f53\u7f16\u5199\u811a\u672c\u7684\u65f6\u5019\uff0c\u901a\u5e38\u4e60\u60ef\u4e86\u5199\u6beb\u65e0\u7ed3\u6784\u7684\u4ee3\u7801\uff0c\u6bd4\u5982\uff1a"
      ]
    },
    {
      "cell_type": "code",
      "execution_count": null,
      "metadata": {},
      "outputs": [],
      "source": [
        "# somescript.py\n\nimport sys\nimport csv\n\nwith open(sys.argv[1]) as f:\n     for row in csv.reader(f):\n\n         # Some kind of processing\n         pass"
      ]
    },
    {
      "cell_type": "markdown",
      "metadata": {},
      "source": [
        "\u5f88\u5c11\u6709\u4eba\u77e5\u9053\uff0c\u50cf\u8fd9\u6837\u5b9a\u4e49\u5728\u5168\u5c40\u8303\u56f4\u7684\u4ee3\u7801\u8fd0\u884c\u8d77\u6765\u8981\u6bd4\u5b9a\u4e49\u5728\u51fd\u6570\u4e2d\u8fd0\u884c\u6162\u7684\u591a\u3002\n\u8fd9\u79cd\u901f\u5ea6\u5dee\u5f02\u662f\u7531\u4e8e\u5c40\u90e8\u53d8\u91cf\u548c\u5168\u5c40\u53d8\u91cf\u7684\u5b9e\u73b0\u65b9\u5f0f\uff08\u4f7f\u7528\u5c40\u90e8\u53d8\u91cf\u8981\u66f4\u5feb\u4e9b\uff09\u3002\n\u56e0\u6b64\uff0c\u5982\u679c\u4f60\u60f3\u8ba9\u7a0b\u5e8f\u8fd0\u884c\u66f4\u5feb\u4e9b\uff0c\u53ea\u9700\u8981\u5c06\u811a\u672c\u8bed\u53e5\u653e\u5165\u51fd\u6570\u4e2d\u5373\u53ef\uff1a"
      ]
    },
    {
      "cell_type": "code",
      "execution_count": null,
      "metadata": {},
      "outputs": [],
      "source": [
        "# somescript.py\nimport sys\nimport csv\n\ndef main(filename):\n    with open(filename) as f:\n         for row in csv.reader(f):\n             # Some kind of processing\n             pass\n\nmain(sys.argv[1])"
      ]
    },
    {
      "cell_type": "markdown",
      "metadata": {},
      "source": [
        "\u901f\u5ea6\u7684\u5dee\u5f02\u53d6\u51b3\u4e8e\u5b9e\u9645\u8fd0\u884c\u7684\u7a0b\u5e8f\uff0c\u4e0d\u8fc7\u6839\u636e\u7ecf\u9a8c\uff0c\u4f7f\u7528\u51fd\u6570\u5e26\u676515-30%\u7684\u6027\u80fd\u63d0\u5347\u662f\u5f88\u5e38\u89c1\u7684\u3002"
      ]
    },
    {
      "cell_type": "markdown",
      "metadata": {},
      "source": [
        "\u5c3d\u53ef\u80fd\u53bb\u6389\u5c5e\u6027\u8bbf\u95ee"
      ]
    },
    {
      "cell_type": "markdown",
      "metadata": {},
      "source": [
        "\u6bcf\u4e00\u6b21\u4f7f\u7528\u70b9(.)\u64cd\u4f5c\u7b26\u6765\u8bbf\u95ee\u5c5e\u6027\u7684\u65f6\u5019\u4f1a\u5e26\u6765\u989d\u5916\u7684\u5f00\u9500\u3002\n\u5b83\u4f1a\u89e6\u53d1\u7279\u5b9a\u7684\u65b9\u6cd5\uff0c\u6bd4\u5982 __getattribute__() \u548c __getattr__() \uff0c\u8fd9\u4e9b\u65b9\u6cd5\u4f1a\u8fdb\u884c\u5b57\u5178\u64cd\u4f5c\u64cd\u4f5c\u3002"
      ]
    },
    {
      "cell_type": "markdown",
      "metadata": {},
      "source": [
        "\u901a\u5e38\u4f60\u53ef\u4ee5\u4f7f\u7528 from module import name \u8fd9\u6837\u7684\u5bfc\u5165\u5f62\u5f0f\uff0c\u4ee5\u53ca\u4f7f\u7528\u7ed1\u5b9a\u7684\u65b9\u6cd5\u3002\n\u5047\u8bbe\u4f60\u6709\u5982\u4e0b\u7684\u4ee3\u7801\u7247\u6bb5\uff1a"
      ]
    },
    {
      "cell_type": "code",
      "execution_count": null,
      "metadata": {},
      "outputs": [],
      "source": [
        "import math\n\ndef compute_roots(nums):\n    result = []\n    for n in nums:\n        result.append(math.sqrt(n))\n    return result\n\n# Test\nnums = range(1000000)\nfor n in range(100):\n    r = compute_roots(nums)"
      ]
    },
    {
      "cell_type": "markdown",
      "metadata": {},
      "source": [
        "\u5728\u6211\u4eec\u673a\u5668\u4e0a\u9762\u6d4b\u8bd5\u7684\u65f6\u5019\uff0c\u8fd9\u4e2a\u7a0b\u5e8f\u82b1\u8d39\u4e86\u5927\u698240\u79d2\u3002\u73b0\u5728\u6211\u4eec\u4fee\u6539 compute_roots() \u51fd\u6570\u5982\u4e0b\uff1a"
      ]
    },
    {
      "cell_type": "code",
      "execution_count": null,
      "metadata": {},
      "outputs": [],
      "source": [
        "from math import sqrt\n\ndef compute_roots(nums):\n\n    result = []\n    result_append = result.append\n    for n in nums:\n        result_append(sqrt(n))\n    return result"
      ]
    },
    {
      "cell_type": "markdown",
      "metadata": {},
      "source": [
        "\u4fee\u6539\u540e\u7684\u7248\u672c\u8fd0\u884c\u65f6\u95f4\u5927\u6982\u662f29\u79d2\u3002\u552f\u4e00\u4e0d\u540c\u4e4b\u5904\u5c31\u662f\u6d88\u9664\u4e86\u5c5e\u6027\u8bbf\u95ee\u3002\n\u7528 sqrt() \u4ee3\u66ff\u4e86 math.sqrt() \u3002\nThe result.append() \u65b9\u6cd5\u88ab\u8d4b\u7ed9\u4e00\u4e2a\u5c40\u90e8\u53d8\u91cf result_append \uff0c\u7136\u540e\u5728\u5185\u90e8\u5faa\u73af\u4e2d\u4f7f\u7528\u5b83\u3002"
      ]
    },
    {
      "cell_type": "markdown",
      "metadata": {},
      "source": [
        "\u4e0d\u8fc7\uff0c\u8fd9\u4e9b\u6539\u53d8\u53ea\u6709\u5728\u5927\u91cf\u91cd\u590d\u4ee3\u7801\u4e2d\u624d\u6709\u610f\u4e49\uff0c\u6bd4\u5982\u5faa\u73af\u3002\n\u56e0\u6b64\uff0c\u8fd9\u4e9b\u4f18\u5316\u4e5f\u53ea\u662f\u5728\u67d0\u4e9b\u7279\u5b9a\u5730\u65b9\u624d\u5e94\u8be5\u88ab\u4f7f\u7528\u3002"
      ]
    },
    {
      "cell_type": "markdown",
      "metadata": {},
      "source": [
        "\u7406\u89e3\u5c40\u90e8\u53d8\u91cf"
      ]
    },
    {
      "cell_type": "markdown",
      "metadata": {},
      "source": [
        "\u4e4b\u524d\u63d0\u8fc7\uff0c\u5c40\u90e8\u53d8\u91cf\u4f1a\u6bd4\u5168\u5c40\u53d8\u91cf\u8fd0\u884c\u901f\u5ea6\u5feb\u3002\n\u5bf9\u4e8e\u9891\u7e41\u8bbf\u95ee\u7684\u540d\u79f0\uff0c\u901a\u8fc7\u5c06\u8fd9\u4e9b\u540d\u79f0\u53d8\u6210\u5c40\u90e8\u53d8\u91cf\u53ef\u4ee5\u52a0\u901f\u7a0b\u5e8f\u8fd0\u884c\u3002\n\u4f8b\u5982\uff0c\u770b\u4e0b\u4e4b\u524d\u5bf9\u4e8e compute_roots() \u51fd\u6570\u8fdb\u884c\u4fee\u6539\u540e\u7684\u7248\u672c\uff1a"
      ]
    },
    {
      "cell_type": "code",
      "execution_count": null,
      "metadata": {},
      "outputs": [],
      "source": [
        "import math\n\ndef compute_roots(nums):\n    sqrt = math.sqrt\n    result = []\n    result_append = result.append\n    for n in nums:\n        result_append(sqrt(n))\n    return result"
      ]
    },
    {
      "cell_type": "markdown",
      "metadata": {},
      "source": [
        "\u5728\u8fd9\u4e2a\u7248\u672c\u4e2d\uff0csqrt \u4ece match \u6a21\u5757\u88ab\u62ff\u51fa\u5e76\u653e\u5165\u4e86\u4e00\u4e2a\u5c40\u90e8\u53d8\u91cf\u4e2d\u3002\n\u5982\u679c\u4f60\u8fd0\u884c\u8fd9\u4e2a\u4ee3\u7801\uff0c\u5927\u6982\u82b1\u8d3925\u79d2\uff08\u5bf9\u4e8e\u4e4b\u524d29\u79d2\u53c8\u662f\u4e00\u4e2a\u6539\u8fdb\uff09\u3002\n\u8fd9\u4e2a\u989d\u5916\u7684\u52a0\u901f\u539f\u56e0\u662f\u56e0\u4e3a\u5bf9\u4e8e\u5c40\u90e8\u53d8\u91cf sqrt \u7684\u67e5\u627e\u8981\u5feb\u4e8e\u5168\u5c40\u53d8\u91cf sqrt"
      ]
    },
    {
      "cell_type": "markdown",
      "metadata": {},
      "source": [
        "\u5bf9\u4e8e\u7c7b\u4e2d\u7684\u5c5e\u6027\u8bbf\u95ee\u4e5f\u540c\u6837\u9002\u7528\u4e8e\u8fd9\u4e2a\u539f\u7406\u3002\n\u901a\u5e38\u6765\u8bb2\uff0c\u67e5\u627e\u67d0\u4e2a\u503c\u6bd4\u5982 self.name \u4f1a\u6bd4\u8bbf\u95ee\u4e00\u4e2a\u5c40\u90e8\u53d8\u91cf\u8981\u6162\u4e00\u4e9b\u3002\n\u5728\u5185\u90e8\u5faa\u73af\u4e2d\uff0c\u53ef\u4ee5\u5c06\u67d0\u4e2a\u9700\u8981\u9891\u7e41\u8bbf\u95ee\u7684\u5c5e\u6027\u653e\u5165\u5230\u4e00\u4e2a\u5c40\u90e8\u53d8\u91cf\u4e2d\u3002\u4f8b\u5982\uff1a"
      ]
    },
    {
      "cell_type": "code",
      "execution_count": null,
      "metadata": {},
      "outputs": [],
      "source": [
        "# Slower\nclass SomeClass:\n    ...\n    def method(self):\n         for x in s:\n             op(self.value)\n\n# Faster\nclass SomeClass:\n\n    ...\n    def method(self):\n         value = self.value\n         for x in s:\n             op(value)"
      ]
    },
    {
      "cell_type": "markdown",
      "metadata": {},
      "source": [
        "\u907f\u514d\u4e0d\u5fc5\u8981\u7684\u62bd\u8c61"
      ]
    },
    {
      "cell_type": "markdown",
      "metadata": {},
      "source": [
        "\u4efb\u4f55\u65f6\u5019\u5f53\u4f60\u4f7f\u7528\u989d\u5916\u7684\u5904\u7406\u5c42\uff08\u6bd4\u5982\u88c5\u9970\u5668\u3001\u5c5e\u6027\u8bbf\u95ee\u3001\u63cf\u8ff0\u5668\uff09\u53bb\u5305\u88c5\u4f60\u7684\u4ee3\u7801\u65f6\uff0c\u90fd\u4f1a\u8ba9\u7a0b\u5e8f\u8fd0\u884c\u53d8\u6162\u3002\n\u6bd4\u5982\u770b\u4e0b\u5982\u4e0b\u7684\u8fd9\u4e2a\u7c7b\uff1a"
      ]
    },
    {
      "cell_type": "code",
      "execution_count": null,
      "metadata": {},
      "outputs": [],
      "source": [
        "class A:\n    def __init__(self, x, y):\n        self.x = x\n        self.y = y\n    @property\n    def y(self):\n        return self._y\n    @y.setter\n    def y(self, value):\n        self._y = value"
      ]
    },
    {
      "cell_type": "markdown",
      "metadata": {},
      "source": [
        "\u73b0\u5728\u8fdb\u884c\u4e00\u4e2a\u7b80\u5355\u6d4b\u8bd5\uff1a"
      ]
    },
    {
      "cell_type": "code",
      "execution_count": null,
      "metadata": {},
      "outputs": [],
      "source": [
        "from timeit import timeit\na = A(1,2)\ntimeit('a.x', 'from __main__ import a')"
      ]
    },
    {
      "cell_type": "code",
      "execution_count": null,
      "metadata": {},
      "outputs": [],
      "source": [
        "timeit('a.y', 'from __main__ import a')"
      ]
    },
    {
      "cell_type": "markdown",
      "metadata": {},
      "source": [
        "\u53ef\u4ee5\u770b\u5230\uff0c\u8bbf\u95ee\u5c5e\u6027y\u76f8\u6bd4\u5c5e\u6027x\u800c\u8a00\u6162\u7684\u4e0d\u6b62\u4e00\u70b9\u70b9\uff0c\u5927\u6982\u6162\u4e864.5\u500d\u3002\n\u5982\u679c\u4f60\u5728\u610f\u6027\u80fd\u7684\u8bdd\uff0c\u90a3\u4e48\u5c31\u9700\u8981\u91cd\u65b0\u5ba1\u89c6\u4e0b\u5bf9\u4e8ey\u7684\u5c5e\u6027\u8bbf\u95ee\u5668\u7684\u5b9a\u4e49\u662f\u5426\u771f\u7684\u6709\u5fc5\u8981\u4e86\u3002\n\u5982\u679c\u6ca1\u6709\u5fc5\u8981\uff0c\u5c31\u4f7f\u7528\u7b80\u5355\u5c5e\u6027\u5427\u3002\n\u5982\u679c\u4ec5\u4ec5\u662f\u56e0\u4e3a\u5176\u4ed6\u7f16\u7a0b\u8bed\u8a00\u9700\u8981\u4f7f\u7528getter/setter\u51fd\u6570\u5c31\u53bb\u4fee\u6539\u4ee3\u7801\u98ce\u683c\uff0c\u8fd9\u4e2a\u771f\u7684\u6ca1\u6709\u5fc5\u8981\u3002"
      ]
    },
    {
      "cell_type": "markdown",
      "metadata": {},
      "source": [
        "\u4f7f\u7528\u5185\u7f6e\u7684\u5bb9\u5668"
      ]
    },
    {
      "cell_type": "markdown",
      "metadata": {},
      "source": [
        "\u5185\u7f6e\u7684\u6570\u636e\u7c7b\u578b\u6bd4\u5982\u5b57\u7b26\u4e32\u3001\u5143\u7ec4\u3001\u5217\u8868\u3001\u96c6\u5408\u548c\u5b57\u5178\u90fd\u662f\u4f7f\u7528C\u6765\u5b9e\u73b0\u7684\uff0c\u8fd0\u884c\u8d77\u6765\u975e\u5e38\u5feb\u3002\n\u5982\u679c\u4f60\u60f3\u81ea\u5df1\u5b9e\u73b0\u65b0\u7684\u6570\u636e\u7ed3\u6784\uff08\u6bd4\u5982\u94fe\u63a5\u5217\u8868\u3001\u5e73\u8861\u6811\u7b49\uff09\uff0c\n\u90a3\u4e48\u8981\u60f3\u5728\u6027\u80fd\u4e0a\u8fbe\u5230\u5185\u7f6e\u7684\u901f\u5ea6\u51e0\u4e4e\u4e0d\u53ef\u80fd\uff0c\u56e0\u6b64\uff0c\u8fd8\u662f\u4e56\u4e56\u7684\u4f7f\u7528\u5185\u7f6e\u7684\u5427\u3002"
      ]
    },
    {
      "cell_type": "markdown",
      "metadata": {},
      "source": [
        "\u907f\u514d\u521b\u5efa\u4e0d\u5fc5\u8981\u7684\u6570\u636e\u7ed3\u6784\u6216\u590d\u5236"
      ]
    },
    {
      "cell_type": "markdown",
      "metadata": {},
      "source": [
        "\u6709\u65f6\u5019\u7a0b\u5e8f\u5458\u60f3\u663e\u6446\u4e0b\uff0c\u6784\u9020\u4e00\u4e9b\u5e76\u6ca1\u6709\u5fc5\u8981\u7684\u6570\u636e\u7ed3\u6784\u3002\u4f8b\u5982\uff0c\u6709\u4eba\u53ef\u80fd\u4f1a\u50cf\u4e0b\u9762\u8fd9\u6837\u5199\uff1a"
      ]
    },
    {
      "cell_type": "code",
      "execution_count": null,
      "metadata": {},
      "outputs": [],
      "source": [
        "values = [x for x in sequence]\nsquares = [x*x for x in values]"
      ]
    },
    {
      "cell_type": "markdown",
      "metadata": {},
      "source": [
        "\u4e5f\u8bb8\u8fd9\u91cc\u7684\u60f3\u6cd5\u662f\u9996\u5148\u5c06\u4e00\u4e9b\u503c\u6536\u96c6\u5230\u4e00\u4e2a\u5217\u8868\u4e2d\uff0c\u7136\u540e\u4f7f\u7528\u5217\u8868\u63a8\u5bfc\u6765\u6267\u884c\u64cd\u4f5c\u3002\n\u4e0d\u8fc7\uff0c\u7b2c\u4e00\u4e2a\u5217\u8868\u5b8c\u5168\u6ca1\u6709\u5fc5\u8981\uff0c\u53ef\u4ee5\u7b80\u5355\u7684\u50cf\u4e0b\u9762\u8fd9\u6837\u5199\uff1a"
      ]
    },
    {
      "cell_type": "code",
      "execution_count": null,
      "metadata": {},
      "outputs": [],
      "source": [
        "squares = [x*x for x in sequence]"
      ]
    },
    {
      "cell_type": "markdown",
      "metadata": {},
      "source": [
        "\u4e0e\u6b64\u76f8\u5173\uff0c\u8fd8\u8981\u6ce8\u610f\u4e0b\u90a3\u4e9b\u5bf9Python\u7684\u5171\u4eab\u6570\u636e\u673a\u5236\u8fc7\u4e8e\u504f\u6267\u7684\u7a0b\u5e8f\u6240\u5199\u7684\u4ee3\u7801\u3002\n\u6709\u4e9b\u4eba\u5e76\u6ca1\u6709\u5f88\u597d\u7684\u7406\u89e3\u6216\u4fe1\u4efbPython\u7684\u5185\u5b58\u6a21\u578b\uff0c\u6ee5\u7528 copy.deepcopy() \u4e4b\u7c7b\u7684\u51fd\u6570\u3002\n\u901a\u5e38\u5728\u8fd9\u4e9b\u4ee3\u7801\u4e2d\u662f\u53ef\u4ee5\u53bb\u6389\u590d\u5236\u64cd\u4f5c\u7684\u3002"
      ]
    },
    {
      "cell_type": "markdown",
      "metadata": {},
      "source": [
        "### \u8ba8\u8bba\n"
      ]
    },
    {
      "cell_type": "markdown",
      "metadata": {},
      "source": [
        "\u5728\u4f18\u5316\u4e4b\u524d\uff0c\u6709\u5fc5\u8981\u5148\u7814\u7a76\u4e0b\u4f7f\u7528\u7684\u7b97\u6cd5\u3002\n\u9009\u62e9\u4e00\u4e2a\u590d\u6742\u5ea6\u4e3a O(n log n) \u7684\u7b97\u6cd5\u8981\u6bd4\u4f60\u53bb\u8c03\u6574\u4e00\u4e2a\u590d\u6742\u5ea6\u4e3a O(n**2) \u7684\u7b97\u6cd5\u6240\u5e26\u6765\u7684\u6027\u80fd\u63d0\u5347\u8981\u5927\u5f97\u591a\u3002"
      ]
    },
    {
      "cell_type": "markdown",
      "metadata": {},
      "source": [
        "\u5982\u679c\u4f60\u89c9\u5f97\u4f60\u8fd8\u662f\u5f97\u8fdb\u884c\u4f18\u5316\uff0c\u90a3\u4e48\u8bf7\u4ece\u6574\u4f53\u8003\u8651\u3002\n\u4f5c\u4e3a\u4e00\u822c\u51c6\u5219\uff0c\u4e0d\u8981\u5bf9\u7a0b\u5e8f\u7684\u6bcf\u4e00\u4e2a\u90e8\u5206\u90fd\u53bb\u4f18\u5316,\u56e0\u4e3a\u8fd9\u4e9b\u4fee\u6539\u4f1a\u5bfc\u81f4\u4ee3\u7801\u96be\u4ee5\u9605\u8bfb\u548c\u7406\u89e3\u3002\n\u4f60\u5e94\u8be5\u4e13\u6ce8\u4e8e\u4f18\u5316\u4ea7\u751f\u6027\u80fd\u74f6\u9888\u7684\u5730\u65b9\uff0c\u6bd4\u5982\u5185\u90e8\u5faa\u73af\u3002"
      ]
    },
    {
      "cell_type": "markdown",
      "metadata": {},
      "source": [
        "\u4f60\u8fd8\u8981\u6ce8\u610f\u5fae\u5c0f\u4f18\u5316\u7684\u7ed3\u679c\u3002\u4f8b\u5982\u8003\u8651\u4e0b\u9762\u521b\u5efa\u4e00\u4e2a\u5b57\u5178\u7684\u4e24\u79cd\u65b9\u5f0f\uff1a"
      ]
    },
    {
      "cell_type": "code",
      "execution_count": null,
      "metadata": {},
      "outputs": [],
      "source": [
        "a = {\n    'name' : 'AAPL',\n    'shares' : 100,\n    'price' : 534.22\n}\n\nb = dict(name='AAPL', shares=100, price=534.22)"
      ]
    },
    {
      "cell_type": "markdown",
      "metadata": {},
      "source": [
        "\u540e\u9762\u4e00\u79cd\u5199\u6cd5\u66f4\u7b80\u6d01\u4e00\u4e9b\uff08\u4f60\u4e0d\u9700\u8981\u5728\u5173\u952e\u5b57\u4e0a\u8f93\u5165\u5f15\u53f7\uff09\u3002\n\u4e0d\u8fc7\uff0c\u5982\u679c\u4f60\u5c06\u8fd9\u4e24\u4e2a\u4ee3\u7801\u7247\u6bb5\u8fdb\u884c\u6027\u80fd\u6d4b\u8bd5\u5bf9\u6bd4\u65f6\uff0c\u4f1a\u53d1\u73b0\u4f7f\u7528 dict() \u7684\u65b9\u5f0f\u4f1a\u6162\u4e863\u500d\u3002\n\u770b\u5230\u8fd9\u4e2a\uff0c\u4f60\u662f\u4e0d\u662f\u6709\u51b2\u52a8\u628a\u6240\u6709\u4f7f\u7528 dict() \u7684\u4ee3\u7801\u90fd\u66ff\u6362\u6210\u7b2c\u4e00\u79cd\u3002\n\u4e0d\u591f\uff0c\u806a\u660e\u7684\u7a0b\u5e8f\u5458\u53ea\u4f1a\u5173\u6ce8\u4ed6\u5e94\u8be5\u5173\u6ce8\u7684\u5730\u65b9\uff0c\u6bd4\u5982\u5185\u90e8\u5faa\u73af\u3002\u5728\u5176\u4ed6\u5730\u65b9\uff0c\u8fd9\u70b9\u6027\u80fd\u635f\u5931\u6ca1\u6709\u4ec0\u4e48\u5f71\u54cd\u3002"
      ]
    },
    {
      "cell_type": "markdown",
      "metadata": {},
      "source": [
        "\u5982\u679c\u4f60\u7684\u4f18\u5316\u8981\u6c42\u6bd4\u8f83\u9ad8\uff0c\u672c\u8282\u7684\u8fd9\u4e9b\u7b80\u5355\u6280\u672f\u6ee1\u8db3\u4e0d\u4e86\uff0c\u90a3\u4e48\u4f60\u53ef\u4ee5\u7814\u7a76\u4e0b\u57fa\u4e8e\u5373\u65f6\u7f16\u8bd1\uff08JIT\uff09\u6280\u672f\u7684\u4e00\u4e9b\u5de5\u5177\u3002\n\u4f8b\u5982\uff0cPyPy\u5de5\u7a0b\u662fPython\u89e3\u91ca\u5668\u7684\u53e6\u5916\u4e00\u79cd\u5b9e\u73b0\uff0c\u5b83\u4f1a\u5206\u6790\u4f60\u7684\u7a0b\u5e8f\u8fd0\u884c\u5e76\u5bf9\u90a3\u4e9b\u9891\u7e41\u6267\u884c\u7684\u90e8\u5206\u751f\u6210\u672c\u673a\u673a\u5668\u7801\u3002\n\u5b83\u6709\u65f6\u5019\u80fd\u6781\u5927\u7684\u63d0\u5347\u6027\u80fd\uff0c\u901a\u5e38\u53ef\u4ee5\u63a5\u8fd1C\u4ee3\u7801\u7684\u901f\u5ea6\u3002\n\u4e0d\u8fc7\u53ef\u60dc\u7684\u662f\uff0c\u5230\u5199\u8fd9\u672c\u4e66\u4f4d\u7f6e\uff0cPyPy\u8fd8\u4e0d\u80fd\u5b8c\u5168\u652f\u6301Python3.\n\u56e0\u6b64\uff0c\u8fd9\u4e2a\u662f\u4f60\u5c06\u6765\u9700\u8981\u53bb\u7814\u7a76\u7684\u3002\u4f60\u8fd8\u53ef\u4ee5\u8003\u8651\u4e0bNumba\u5de5\u7a0b\uff0c\nNumba\u662f\u4e00\u4e2a\u5728\u4f60\u4f7f\u7528\u88c5\u9970\u5668\u6765\u9009\u62e9Python\u51fd\u6570\u8fdb\u884c\u4f18\u5316\u65f6\u7684\u52a8\u6001\u7f16\u8bd1\u5668\u3002\n\u8fd9\u4e9b\u51fd\u6570\u4f1a\u4f7f\u7528LLVM\u88ab\u7f16\u8bd1\u6210\u672c\u5730\u673a\u5668\u7801\u3002\u5b83\u540c\u6837\u53ef\u4ee5\u6781\u5927\u7684\u63d0\u5347\u6027\u80fd\u3002\n\u4f46\u662f\uff0c\u8ddfPyPy\u4e00\u6837\uff0c\u5b83\u5bf9\u4e8ePython 3\u7684\u652f\u6301\u73b0\u5728\u8fd8\u505c\u7559\u5728\u5b9e\u9a8c\u9636\u6bb5\u3002"
      ]
    },
    {
      "cell_type": "markdown",
      "metadata": {},
      "source": [
        "\u6700\u540e\u6211\u5f15\u7528John Ousterhout\u8bf4\u8fc7\u7684\u8bdd\u4f5c\u4e3a\u7ed3\u5c3e\uff1a\u201c\u6700\u597d\u7684\u6027\u80fd\u4f18\u5316\u662f\u4ece\u4e0d\u5de5\u4f5c\u5230\u5de5\u4f5c\u72b6\u6001\u7684\u8fc1\u79fb\u201d\u3002\n\u76f4\u5230\u4f60\u771f\u7684\u9700\u8981\u4f18\u5316\u7684\u65f6\u5019\u518d\u53bb\u8003\u8651\u5b83\u3002\u786e\u4fdd\u4f60\u7a0b\u5e8f\u6b63\u786e\u7684\u8fd0\u884c\u901a\u5e38\u6bd4\u8ba9\u5b83\u8fd0\u884c\u66f4\u5feb\u8981\u66f4\u91cd\u8981\u4e00\u4e9b\uff08\u81f3\u5c11\u5f00\u59cb\u662f\u8fd9\u6837\u7684\uff09."
      ]
    }
  ],
  "metadata": {
    "kernelspec": {
      "display_name": "Python 3",
      "language": "python",
      "name": "python3"
    },
    "language_info": {
      "codemirror_mode": {
        "name": "ipython",
        "version": 3
      },
      "file_extension": ".py",
      "mimetype": "text/x-python",
      "name": "python",
      "nbconvert_exporter": "python",
      "pygments_lexer": "ipython3",
      "version": "3.7.1"
    },
    "toc": {
      "base_numbering": 1,
      "nav_menu": {},
      "number_sections": true,
      "sideBar": true,
      "skip_h1_title": true,
      "title_cell": "Table of Contents",
      "title_sidebar": "Contents",
      "toc_cell": false,
      "toc_position": {},
      "toc_section_display": true,
      "toc_window_display": true
    }
  },
  "nbformat": 4,
  "nbformat_minor": 2
}