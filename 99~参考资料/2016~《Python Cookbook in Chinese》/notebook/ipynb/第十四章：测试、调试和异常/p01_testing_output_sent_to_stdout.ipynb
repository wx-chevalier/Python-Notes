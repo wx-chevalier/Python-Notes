{
  "cells": [
    {
      "cell_type": "markdown",
      "metadata": {},
      "source": [
        "## 14.1 \u6d4b\u8bd5stdout\u8f93\u51fa\n"
      ]
    },
    {
      "cell_type": "markdown",
      "metadata": {},
      "source": [
        "### \u95ee\u9898\n"
      ]
    },
    {
      "cell_type": "markdown",
      "metadata": {},
      "source": [
        "\u4f60\u7684\u7a0b\u5e8f\u4e2d\u6709\u4e2a\u65b9\u6cd5\u4f1a\u8f93\u51fa\u5230\u6807\u51c6\u8f93\u51fa\u4e2d\uff08sys.stdout\uff09\u3002\u4e5f\u5c31\u662f\u8bf4\u5b83\u4f1a\u5c06\u6587\u672c\u6253\u5370\u5230\u5c4f\u5e55\u4e0a\u9762\u3002\n\u4f60\u60f3\u5199\u4e2a\u6d4b\u8bd5\u6765\u8bc1\u660e\u5b83\uff0c\u7ed9\u5b9a\u4e00\u4e2a\u8f93\u5165\uff0c\u76f8\u5e94\u7684\u8f93\u51fa\u80fd\u6b63\u5e38\u663e\u793a\u51fa\u6765\u3002"
      ]
    },
    {
      "cell_type": "markdown",
      "metadata": {},
      "source": [
        "### \u89e3\u51b3\u65b9\u6848\n"
      ]
    },
    {
      "cell_type": "markdown",
      "metadata": {},
      "source": [
        "\u4f7f\u7528 unittest.mock \u6a21\u5757\u4e2d\u7684 patch() \u51fd\u6570\uff0c\n\u4f7f\u7528\u8d77\u6765\u975e\u5e38\u7b80\u5355\uff0c\u53ef\u4ee5\u4e3a\u5355\u4e2a\u6d4b\u8bd5\u6a21\u62df sys.stdout \u7136\u540e\u56de\u6eda\uff0c\n\u5e76\u4e14\u4e0d\u4ea7\u751f\u5927\u91cf\u7684\u4e34\u65f6\u53d8\u91cf\u6216\u5728\u6d4b\u8bd5\u7528\u4f8b\u76f4\u63a5\u66b4\u9732\u72b6\u6001\u53d8\u91cf\u3002"
      ]
    },
    {
      "cell_type": "markdown",
      "metadata": {},
      "source": [
        "\u4f5c\u4e3a\u4e00\u4e2a\u4f8b\u5b50\uff0c\u6211\u4eec\u5728 mymodule \u6a21\u5757\u4e2d\u5b9a\u4e49\u5982\u4e0b\u4e00\u4e2a\u51fd\u6570\uff1a"
      ]
    },
    {
      "cell_type": "code",
      "execution_count": null,
      "metadata": {},
      "outputs": [],
      "source": [
        "# mymodule.py\n\ndef urlprint(protocol, host, domain):\n    url = '{}://{}.{}'.format(protocol, host, domain)\n    print(url)"
      ]
    },
    {
      "cell_type": "markdown",
      "metadata": {},
      "source": [
        "\u9ed8\u8ba4\u60c5\u51b5\u4e0b\u5185\u7f6e\u7684 print \u51fd\u6570\u4f1a\u5c06\u8f93\u51fa\u53d1\u9001\u5230 sys.stdout \u3002\n\u4e3a\u4e86\u6d4b\u8bd5\u8f93\u51fa\u771f\u7684\u5728\u90a3\u91cc\uff0c\u4f60\u53ef\u4ee5\u4f7f\u7528\u4e00\u4e2a\u66ff\u8eab\u5bf9\u8c61\u6765\u6a21\u62df\u5b83\uff0c\u7136\u540e\u4f7f\u7528\u65ad\u8a00\u6765\u786e\u8ba4\u7ed3\u679c\u3002\n\u4f7f\u7528 unittest.mock \u6a21\u5757\u7684 patch() \u65b9\u6cd5\u53ef\u4ee5\u5f88\u65b9\u4fbf\u7684\u5728\u6d4b\u8bd5\u8fd0\u884c\u7684\u4e0a\u4e0b\u6587\u4e2d\u66ff\u6362\u5bf9\u8c61\uff0c\n\u5e76\u4e14\u5f53\u6d4b\u8bd5\u5b8c\u6210\u65f6\u5019\u81ea\u52a8\u8fd4\u56de\u5b83\u4eec\u7684\u539f\u6709\u72b6\u6001\u3002\u4e0b\u9762\u662f\u5bf9 mymodule \u6a21\u5757\u7684\u6d4b\u8bd5\u4ee3\u7801\uff1a"
      ]
    },
    {
      "cell_type": "code",
      "execution_count": null,
      "metadata": {},
      "outputs": [],
      "source": [
        "from io import StringIO\nfrom unittest import TestCase\nfrom unittest.mock import patch\nimport mymodule\n\nclass TestURLPrint(TestCase):\n    def test_url_gets_to_stdout(self):\n        protocol = 'http'\n        host = 'www'\n        domain = 'example.com'\n        expected_url = '{}://{}.{}\\n'.format(protocol, host, domain)\n\n        with patch('sys.stdout', new=StringIO()) as fake_out:\n            mymodule.urlprint(protocol, host, domain)\n            self.assertEqual(fake_out.getvalue(), expected_url)"
      ]
    },
    {
      "cell_type": "markdown",
      "metadata": {},
      "source": [
        "### \u8ba8\u8bba\n"
      ]
    },
    {
      "cell_type": "markdown",
      "metadata": {},
      "source": [
        "urlprint() \u51fd\u6570\u63a5\u53d7\u4e09\u4e2a\u53c2\u6570\uff0c\u6d4b\u8bd5\u65b9\u6cd5\u5f00\u59cb\u4f1a\u5148\u8bbe\u7f6e\u6bcf\u4e00\u4e2a\u53c2\u6570\u7684\u503c\u3002\nexpected_url \u53d8\u91cf\u88ab\u8bbe\u7f6e\u6210\u5305\u542b\u671f\u671b\u7684\u8f93\u51fa\u7684\u5b57\u7b26\u4e32\u3002"
      ]
    },
    {
      "cell_type": "markdown",
      "metadata": {},
      "source": [
        "unittest.mock.patch() \u51fd\u6570\u88ab\u7528\u4f5c\u4e00\u4e2a\u4e0a\u4e0b\u6587\u7ba1\u7406\u5668\uff0c\u4f7f\u7528 StringIO \u5bf9\u8c61\u6765\u4ee3\u66ff sys.stdout .\nfake_out \u53d8\u91cf\u662f\u5728\u8be5\u8fdb\u7a0b\u4e2d\u88ab\u521b\u5efa\u7684\u6a21\u62df\u5bf9\u8c61\u3002\n\u5728with\u8bed\u53e5\u4e2d\u4f7f\u7528\u5b83\u53ef\u4ee5\u6267\u884c\u5404\u79cd\u68c0\u67e5\u3002\u5f53with\u8bed\u53e5\u7ed3\u675f\u65f6\uff0cpatch \u4f1a\u5c06\u6240\u6709\u4e1c\u897f\u6062\u590d\u5230\u6d4b\u8bd5\u5f00\u59cb\u524d\u7684\u72b6\u6001\u3002\n\u6709\u4e00\u70b9\u9700\u8981\u6ce8\u610f\u7684\u662f\u67d0\u4e9b\u5bf9Python\u7684C\u6269\u5c55\u53ef\u80fd\u4f1a\u5ffd\u7565\u6389 sys.stdout \u7684\u914d\u7f6e\u800c\u76f4\u63a5\u5199\u5165\u5230\u6807\u51c6\u8f93\u51fa\u4e2d\u3002\n\u9650\u4e8e\u7bc7\u5e45\uff0c\u672c\u8282\u4e0d\u4f1a\u6d89\u53ca\u5230\u8fd9\u65b9\u9762\u7684\u8bb2\u89e3\uff0c\u5b83\u9002\u7528\u4e8e\u7eafPython\u4ee3\u7801\u3002\n\u5982\u679c\u4f60\u771f\u7684\u9700\u8981\u5728C\u6269\u5c55\u4e2d\u6355\u83b7I/O\uff0c\u4f60\u53ef\u4ee5\u5148\u6253\u5f00\u4e00\u4e2a\u4e34\u65f6\u6587\u4ef6\uff0c\u7136\u540e\u5c06\u6807\u51c6\u8f93\u51fa\u91cd\u5b9a\u5411\u5230\u8be5\u6587\u4ef6\u4e2d\u3002\n\u66f4\u591a\u5173\u4e8e\u6355\u83b7\u4ee5\u5b57\u7b26\u4e32\u5f62\u5f0f\u6355\u83b7I/O\u548c StringIO \u5bf9\u8c61\u8bf7\u53c2\u96055.6\u5c0f\u8282\u3002"
      ]
    }
  ],
  "metadata": {
    "kernelspec": {
      "display_name": "Python 3",
      "language": "python",
      "name": "python3"
    },
    "language_info": {
      "codemirror_mode": {
        "name": "ipython",
        "version": 3
      },
      "file_extension": ".py",
      "mimetype": "text/x-python",
      "name": "python",
      "nbconvert_exporter": "python",
      "pygments_lexer": "ipython3",
      "version": "3.7.1"
    },
    "toc": {
      "base_numbering": 1,
      "nav_menu": {},
      "number_sections": true,
      "sideBar": true,
      "skip_h1_title": true,
      "title_cell": "Table of Contents",
      "title_sidebar": "Contents",
      "toc_cell": false,
      "toc_position": {},
      "toc_section_display": true,
      "toc_window_display": true
    }
  },
  "nbformat": 4,
  "nbformat_minor": 2
}