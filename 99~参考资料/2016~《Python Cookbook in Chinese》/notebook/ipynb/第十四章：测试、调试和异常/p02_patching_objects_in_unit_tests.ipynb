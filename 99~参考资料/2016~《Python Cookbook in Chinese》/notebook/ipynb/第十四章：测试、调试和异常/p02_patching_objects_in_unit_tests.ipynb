{
  "cells": [
    {
      "cell_type": "markdown",
      "metadata": {},
      "source": [
        "## 14.2 \u5728\u5355\u5143\u6d4b\u8bd5\u4e2d\u7ed9\u5bf9\u8c61\u6253\u8865\u4e01\n"
      ]
    },
    {
      "cell_type": "markdown",
      "metadata": {},
      "source": [
        "### \u95ee\u9898\n"
      ]
    },
    {
      "cell_type": "markdown",
      "metadata": {},
      "source": [
        "\u4f60\u5199\u7684\u5355\u5143\u6d4b\u8bd5\u4e2d\u9700\u8981\u7ed9\u6307\u5b9a\u7684\u5bf9\u8c61\u6253\u8865\u4e01\uff0c\n\u7528\u6765\u65ad\u8a00\u5b83\u4eec\u5728\u6d4b\u8bd5\u4e2d\u7684\u671f\u671b\u884c\u4e3a\uff08\u6bd4\u5982\uff0c\u65ad\u8a00\u88ab\u8c03\u7528\u65f6\u7684\u53c2\u6570\u4e2a\u6570\uff0c\u8bbf\u95ee\u6307\u5b9a\u7684\u5c5e\u6027\u7b49\uff09\u3002"
      ]
    },
    {
      "cell_type": "markdown",
      "metadata": {},
      "source": [
        "### \u89e3\u51b3\u65b9\u6848\n"
      ]
    },
    {
      "cell_type": "markdown",
      "metadata": {},
      "source": [
        "unittest.mock.patch() \u51fd\u6570\u53ef\u88ab\u7528\u6765\u89e3\u51b3\u8fd9\u4e2a\u95ee\u9898\u3002\npatch() \u8fd8\u53ef\u88ab\u7528\u4f5c\u4e00\u4e2a\u88c5\u9970\u5668\u3001\u4e0a\u4e0b\u6587\u7ba1\u7406\u5668\u6216\u5355\u72ec\u4f7f\u7528\uff0c\u5c3d\u7ba1\u5e76\u4e0d\u5e38\u89c1\u3002\n\u4f8b\u5982\uff0c\u4e0b\u9762\u662f\u4e00\u4e2a\u5c06\u5b83\u5f53\u505a\u88c5\u9970\u5668\u4f7f\u7528\u7684\u4f8b\u5b50\uff1a"
      ]
    },
    {
      "cell_type": "code",
      "execution_count": null,
      "metadata": {},
      "outputs": [],
      "source": [
        "from unittest.mock import patch\nimport example\n\n@patch('example.func')\ndef test1(x, mock_func):\n    example.func(x)       # Uses patched example.func\n    mock_func.assert_called_with(x)"
      ]
    },
    {
      "cell_type": "markdown",
      "metadata": {},
      "source": [
        "\u5b83\u8fd8\u53ef\u4ee5\u88ab\u5f53\u505a\u4e00\u4e2a\u4e0a\u4e0b\u6587\u7ba1\u7406\u5668\uff1a"
      ]
    },
    {
      "cell_type": "code",
      "execution_count": null,
      "metadata": {},
      "outputs": [],
      "source": [
        "with patch('example.func') as mock_func:\n    example.func(x)      # Uses patched example.func\n    mock_func.assert_called_with(x)"
      ]
    },
    {
      "cell_type": "markdown",
      "metadata": {},
      "source": [
        "\u6700\u540e\uff0c\u4f60\u8fd8\u53ef\u4ee5\u624b\u52a8\u7684\u4f7f\u7528\u5b83\u6253\u8865\u4e01\uff1a"
      ]
    },
    {
      "cell_type": "code",
      "execution_count": null,
      "metadata": {},
      "outputs": [],
      "source": [
        "p = patch('example.func')\nmock_func = p.start()\nexample.func(x)\nmock_func.assert_called_with(x)\np.stop()"
      ]
    },
    {
      "cell_type": "markdown",
      "metadata": {},
      "source": [
        "\u5982\u679c\u53ef\u80fd\u7684\u8bdd\uff0c\u4f60\u80fd\u591f\u53e0\u52a0\u88c5\u9970\u5668\u548c\u4e0a\u4e0b\u6587\u7ba1\u7406\u5668\u6765\u7ed9\u591a\u4e2a\u5bf9\u8c61\u6253\u8865\u4e01\u3002\u4f8b\u5982\uff1a"
      ]
    },
    {
      "cell_type": "code",
      "execution_count": null,
      "metadata": {},
      "outputs": [],
      "source": [
        "@patch('example.func1')\n@patch('example.func2')\n@patch('example.func3')\ndef test1(mock1, mock2, mock3):\n    ...\n\ndef test2():\n    with patch('example.patch1') as mock1, \\\n         patch('example.patch2') as mock2, \\\n         patch('example.patch3') as mock3:\n    ..."
      ]
    },
    {
      "cell_type": "markdown",
      "metadata": {},
      "source": [
        "### \u8ba8\u8bba\n"
      ]
    },
    {
      "cell_type": "markdown",
      "metadata": {},
      "source": [
        "patch() \u63a5\u53d7\u4e00\u4e2a\u5df2\u5b58\u5728\u5bf9\u8c61\u7684\u5168\u8def\u5f84\u540d\uff0c\u5c06\u5176\u66ff\u6362\u4e3a\u4e00\u4e2a\u65b0\u7684\u503c\u3002\n\u539f\u6765\u7684\u503c\u4f1a\u5728\u88c5\u9970\u5668\u51fd\u6570\u6216\u4e0a\u4e0b\u6587\u7ba1\u7406\u5668\u5b8c\u6210\u540e\u81ea\u52a8\u6062\u590d\u56de\u6765\u3002\n\u9ed8\u8ba4\u60c5\u51b5\u4e0b\uff0c\u6240\u6709\u503c\u4f1a\u88ab MagicMock \u5b9e\u4f8b\u66ff\u4ee3\u3002\u4f8b\u5982\uff1a"
      ]
    },
    {
      "cell_type": "code",
      "execution_count": null,
      "metadata": {},
      "outputs": [],
      "source": [
        "x = 42\nwith patch('__main__.x'):\n    print(x)"
      ]
    },
    {
      "cell_type": "code",
      "execution_count": null,
      "metadata": {},
      "outputs": [],
      "source": [
        "x"
      ]
    },
    {
      "cell_type": "markdown",
      "metadata": {},
      "source": [
        "\u4e0d\u8fc7\uff0c\u4f60\u53ef\u4ee5\u901a\u8fc7\u7ed9 patch() \u63d0\u4f9b\u7b2c\u4e8c\u4e2a\u53c2\u6570\u6765\u5c06\u503c\u66ff\u6362\u6210\u4efb\u4f55\u4f60\u60f3\u8981\u7684\uff1a"
      ]
    },
    {
      "cell_type": "code",
      "execution_count": null,
      "metadata": {},
      "outputs": [],
      "source": [
        "x"
      ]
    },
    {
      "cell_type": "code",
      "execution_count": null,
      "metadata": {},
      "outputs": [],
      "source": [
        "with patch('__main__.x', 'patched_value'):\n    print(x)"
      ]
    },
    {
      "cell_type": "code",
      "execution_count": null,
      "metadata": {},
      "outputs": [],
      "source": [
        "x"
      ]
    },
    {
      "cell_type": "markdown",
      "metadata": {},
      "source": [
        "\u88ab\u7528\u6765\u4f5c\u4e3a\u66ff\u6362\u503c\u7684 MagicMock \u5b9e\u4f8b\u80fd\u591f\u6a21\u62df\u53ef\u8c03\u7528\u5bf9\u8c61\u548c\u5b9e\u4f8b\u3002\n\u4ed6\u4eec\u8bb0\u5f55\u5bf9\u8c61\u7684\u4f7f\u7528\u4fe1\u606f\u5e76\u5141\u8bb8\u4f60\u6267\u884c\u65ad\u8a00\u68c0\u67e5\uff0c\u4f8b\u5982\uff1a"
      ]
    },
    {
      "cell_type": "code",
      "execution_count": null,
      "metadata": {},
      "outputs": [],
      "source": [
        "from unittest.mock import MagicMock\nm = MagicMock(return_value = 10)\nm(1, 2, debug=True)"
      ]
    },
    {
      "cell_type": "code",
      "execution_count": null,
      "metadata": {},
      "outputs": [],
      "source": [
        "m.assert_called_with(1, 2, debug=True)\nm.assert_called_with(1, 2)"
      ]
    },
    {
      "cell_type": "code",
      "execution_count": null,
      "metadata": {},
      "outputs": [],
      "source": [
        "m.upper.return_value = 'HELLO'\nm.upper('hello')"
      ]
    },
    {
      "cell_type": "code",
      "execution_count": null,
      "metadata": {},
      "outputs": [],
      "source": [
        "assert m.upper.called"
      ]
    },
    {
      "cell_type": "code",
      "execution_count": null,
      "metadata": {},
      "outputs": [],
      "source": [
        "m.split.return_value = ['hello', 'world']\nm.split('hello world')"
      ]
    },
    {
      "cell_type": "code",
      "execution_count": null,
      "metadata": {},
      "outputs": [],
      "source": [
        "m.split.assert_called_with('hello world')"
      ]
    },
    {
      "cell_type": "code",
      "execution_count": null,
      "metadata": {},
      "outputs": [],
      "source": [
        "m['blah']"
      ]
    },
    {
      "cell_type": "code",
      "execution_count": null,
      "metadata": {},
      "outputs": [],
      "source": [
        "m.__getitem__.called"
      ]
    },
    {
      "cell_type": "code",
      "execution_count": null,
      "metadata": {},
      "outputs": [],
      "source": [
        "m.__getitem__.assert_called_with('blah')"
      ]
    },
    {
      "cell_type": "markdown",
      "metadata": {},
      "source": [
        "\u4e00\u822c\u6765\u8bb2\uff0c\u8fd9\u4e9b\u64cd\u4f5c\u4f1a\u5728\u4e00\u4e2a\u5355\u5143\u6d4b\u8bd5\u4e2d\u5b8c\u6210\u3002\u4f8b\u5982\uff0c\u5047\u8bbe\u4f60\u5df2\u7ecf\u6709\u4e86\u50cf\u4e0b\u9762\u8fd9\u6837\u7684\u51fd\u6570\uff1a"
      ]
    },
    {
      "cell_type": "code",
      "execution_count": null,
      "metadata": {},
      "outputs": [],
      "source": [
        "# example.py\nfrom urllib.request import urlopen\nimport csv\n\ndef dowprices():\n    u = urlopen('http://finance.yahoo.com/d/quotes.csv?s=@^DJI&f=sl1')\n    lines = (line.decode('utf-8') for line in u)\n    rows = (row for row in csv.reader(lines) if len(row) == 2)\n    prices = { name:float(price) for name, price in rows }\n    return prices"
      ]
    },
    {
      "cell_type": "markdown",
      "metadata": {},
      "source": [
        "\u6b63\u5e38\u6765\u8bb2\uff0c\u8fd9\u4e2a\u51fd\u6570\u4f1a\u4f7f\u7528 urlopen() \u4eceWeb\u4e0a\u9762\u83b7\u53d6\u6570\u636e\u5e76\u89e3\u6790\u5b83\u3002\n\u5728\u5355\u5143\u6d4b\u8bd5\u4e2d\uff0c\u4f60\u53ef\u4ee5\u7ed9\u5b83\u4e00\u4e2a\u9884\u5148\u5b9a\u4e49\u597d\u7684\u6570\u636e\u96c6\u3002\u4e0b\u9762\u662f\u4f7f\u7528\u8865\u4e01\u64cd\u4f5c\u7684\u4f8b\u5b50:"
      ]
    },
    {
      "cell_type": "code",
      "execution_count": null,
      "metadata": {},
      "outputs": [],
      "source": [
        "import unittest\nfrom unittest.mock import patch\nimport io\nimport example\n\nsample_data = io.BytesIO(b'''\\\n\"IBM\",91.1\\r\n\"AA\",13.25\\r\n\"MSFT\",27.72\\r\n\\r\n''')\n\nclass Tests(unittest.TestCase):\n    @patch('example.urlopen', return_value=sample_data)\n    def test_dowprices(self, mock_urlopen):\n        p = example.dowprices()\n        self.assertTrue(mock_urlopen.called)\n        self.assertEqual(p,\n                         {'IBM': 91.1,\n                          'AA': 13.25,\n                          'MSFT' : 27.72})\n\nif __name__ == '__main__':\n    unittest.main()"
      ]
    },
    {
      "cell_type": "markdown",
      "metadata": {},
      "source": [
        "\u672c\u4f8b\u4e2d\uff0c\u4f4d\u4e8e example \u6a21\u5757\u4e2d\u7684 urlopen() \u51fd\u6570\u88ab\u4e00\u4e2a\u6a21\u62df\u5bf9\u8c61\u66ff\u4ee3\uff0c\n\u8be5\u5bf9\u8c61\u4f1a\u8fd4\u56de\u4e00\u4e2a\u5305\u542b\u6d4b\u8bd5\u6570\u636e\u7684 ByteIO()."
      ]
    },
    {
      "cell_type": "markdown",
      "metadata": {},
      "source": [
        "\u8fd8\u6709\u4e00\u70b9\uff0c\u5728\u6253\u8865\u4e01\u65f6\u6211\u4eec\u4f7f\u7528\u4e86 example.urlopen \u6765\u4ee3\u66ff urllib.request.urlopen \u3002\n\u5f53\u4f60\u521b\u5efa\u8865\u4e01\u7684\u65f6\u5019\uff0c\u4f60\u5fc5\u987b\u4f7f\u7528\u5b83\u4eec\u5728\u6d4b\u8bd5\u4ee3\u7801\u4e2d\u7684\u540d\u79f0\u3002\n\u7531\u4e8e\u6d4b\u8bd5\u4ee3\u7801\u4f7f\u7528\u4e86 from urllib.request import urlopen ,\u90a3\u4e48 dowprices() \u51fd\u6570\n\u4e2d\u4f7f\u7528\u7684 urlopen() \u51fd\u6570\u5b9e\u9645\u4e0a\u5c31\u4f4d\u4e8e example \u6a21\u5757\u4e86\u3002"
      ]
    },
    {
      "cell_type": "markdown",
      "metadata": {},
      "source": [
        "\u672c\u8282\u5b9e\u9645\u4e0a\u53ea\u662f\u5bf9 unittest.mock \u6a21\u5757\u7684\u4e00\u6b21\u6d45\u5c1d\u8f84\u6b62\u3002\n\u66f4\u591a\u66f4\u9ad8\u7ea7\u7684\u7279\u6027\uff0c\u8bf7\u53c2\u8003 \u5b98\u65b9\u6587\u6863"
      ]
    }
  ],
  "metadata": {
    "kernelspec": {
      "display_name": "Python 3",
      "language": "python",
      "name": "python3"
    },
    "language_info": {
      "codemirror_mode": {
        "name": "ipython",
        "version": 3
      },
      "file_extension": ".py",
      "mimetype": "text/x-python",
      "name": "python",
      "nbconvert_exporter": "python",
      "pygments_lexer": "ipython3",
      "version": "3.7.1"
    },
    "toc": {
      "base_numbering": 1,
      "nav_menu": {},
      "number_sections": true,
      "sideBar": true,
      "skip_h1_title": true,
      "title_cell": "Table of Contents",
      "title_sidebar": "Contents",
      "toc_cell": false,
      "toc_position": {},
      "toc_section_display": true,
      "toc_window_display": true
    }
  },
  "nbformat": 4,
  "nbformat_minor": 2
}