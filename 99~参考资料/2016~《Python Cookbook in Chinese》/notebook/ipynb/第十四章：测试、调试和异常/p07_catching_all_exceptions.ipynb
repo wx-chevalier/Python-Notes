{
  "cells": [
    {
      "cell_type": "markdown",
      "metadata": {},
      "source": [
        "## 14.7 \u6355\u83b7\u6240\u6709\u5f02\u5e38\n"
      ]
    },
    {
      "cell_type": "markdown",
      "metadata": {},
      "source": [
        "### \u95ee\u9898\n"
      ]
    },
    {
      "cell_type": "markdown",
      "metadata": {},
      "source": [
        "\u600e\u6837\u6355\u83b7\u4ee3\u7801\u4e2d\u7684\u6240\u6709\u5f02\u5e38\uff1f"
      ]
    },
    {
      "cell_type": "markdown",
      "metadata": {},
      "source": [
        "### \u89e3\u51b3\u65b9\u6848\n"
      ]
    },
    {
      "cell_type": "markdown",
      "metadata": {},
      "source": [
        "\u60f3\u8981\u6355\u83b7\u6240\u6709\u7684\u5f02\u5e38\uff0c\u53ef\u4ee5\u76f4\u63a5\u6355\u83b7 Exception \u5373\u53ef\uff1a"
      ]
    },
    {
      "cell_type": "code",
      "execution_count": null,
      "metadata": {},
      "outputs": [],
      "source": [
        "try:\n   ...\nexcept Exception as e:\n   ...\n   log('Reason:', e)       # Important!"
      ]
    },
    {
      "cell_type": "markdown",
      "metadata": {},
      "source": [
        "\u8fd9\u4e2a\u5c06\u4f1a\u6355\u83b7\u9664\u4e86 SystemExit \u3001 KeyboardInterrupt \u548c GeneratorExit \u4e4b\u5916\u7684\u6240\u6709\u5f02\u5e38\u3002\n\u5982\u679c\u4f60\u8fd8\u60f3\u6355\u83b7\u8fd9\u4e09\u4e2a\u5f02\u5e38\uff0c\u5c06 Exception \u6539\u6210 BaseException \u5373\u53ef\u3002"
      ]
    },
    {
      "cell_type": "markdown",
      "metadata": {},
      "source": [
        "### \u8ba8\u8bba\n"
      ]
    },
    {
      "cell_type": "markdown",
      "metadata": {},
      "source": [
        "\u6355\u83b7\u6240\u6709\u5f02\u5e38\u901a\u5e38\u662f\u7531\u4e8e\u7a0b\u5e8f\u5458\u5728\u67d0\u4e9b\u590d\u6742\u64cd\u4f5c\u4e2d\u5e76\u4e0d\u80fd\u8bb0\u4f4f\u6240\u6709\u53ef\u80fd\u7684\u5f02\u5e38\u3002\n\u5982\u679c\u4f60\u4e0d\u662f\u5f88\u7ec6\u5fc3\u7684\u4eba\uff0c\u8fd9\u4e5f\u662f\u7f16\u5199\u4e0d\u6613\u8c03\u8bd5\u4ee3\u7801\u7684\u4e00\u4e2a\u7b80\u5355\u65b9\u6cd5\u3002"
      ]
    },
    {
      "cell_type": "markdown",
      "metadata": {},
      "source": [
        "\u6b63\u56e0\u5982\u6b64\uff0c\u5982\u679c\u4f60\u9009\u62e9\u6355\u83b7\u6240\u6709\u5f02\u5e38\uff0c\u90a3\u4e48\u5728\u67d0\u4e2a\u5730\u65b9\uff08\u6bd4\u5982\u65e5\u5fd7\u6587\u4ef6\u3001\u6253\u5370\u5f02\u5e38\u5230\u5c4f\u5e55\uff09\u6253\u5370\u786e\u5207\u539f\u56e0\u5c31\u6bd4\u8f83\u91cd\u8981\u4e86\u3002\n\u5982\u679c\u4f60\u6ca1\u6709\u8fd9\u6837\u505a\uff0c\u6709\u65f6\u5019\u4f60\u770b\u5230\u5f02\u5e38\u6253\u5370\u65f6\u53ef\u80fd\u6478\u4e0d\u7740\u5934\u8111\uff0c\u5c31\u50cf\u4e0b\u9762\u8fd9\u6837\uff1a"
      ]
    },
    {
      "cell_type": "code",
      "execution_count": null,
      "metadata": {},
      "outputs": [],
      "source": [
        "def parse_int(s):\n    try:\n        n = int(v)\n    except Exception:\n        print(\"Couldn't parse\")"
      ]
    },
    {
      "cell_type": "markdown",
      "metadata": {},
      "source": [
        "\u8bd5\u7740\u8fd0\u884c\u8fd9\u4e2a\u51fd\u6570\uff0c\u7ed3\u679c\u5982\u4e0b\uff1a"
      ]
    },
    {
      "cell_type": "code",
      "execution_count": null,
      "metadata": {},
      "outputs": [],
      "source": [
        "parse_int('n/a')"
      ]
    },
    {
      "cell_type": "code",
      "execution_count": null,
      "metadata": {},
      "outputs": [],
      "source": [
        "parse_int('42')"
      ]
    },
    {
      "cell_type": "markdown",
      "metadata": {},
      "source": [
        "\u8fd9\u65f6\u5019\u4f60\u5c31\u4f1a\u6320\u5934\u60f3\uff1a\u201c\u8fd9\u548b\u56de\u4e8b\u554a\uff1f\u201d \u5047\u5982\u4f60\u50cf\u4e0b\u9762\u8fd9\u6837\u91cd\u5199\u8fd9\u4e2a\u51fd\u6570\uff1a"
      ]
    },
    {
      "cell_type": "code",
      "execution_count": null,
      "metadata": {},
      "outputs": [],
      "source": [
        "def parse_int(s):\n    try:\n        n = int(v)\n    except Exception as e:\n        print(\"Couldn't parse\")\n        print('Reason:', e)"
      ]
    },
    {
      "cell_type": "markdown",
      "metadata": {},
      "source": [
        "\u8fd9\u65f6\u5019\u4f60\u80fd\u83b7\u53d6\u5982\u4e0b\u8f93\u51fa\uff0c\u6307\u660e\u4e86\u6709\u4e2a\u7f16\u7a0b\u9519\u8bef\uff1a"
      ]
    },
    {
      "cell_type": "code",
      "execution_count": null,
      "metadata": {},
      "outputs": [],
      "source": [
        "parse_int('42')"
      ]
    },
    {
      "cell_type": "markdown",
      "metadata": {},
      "source": [
        "\u5f88\u660e\u663e\uff0c\u4f60\u5e94\u8be5\u5c3d\u53ef\u80fd\u5c06\u5f02\u5e38\u5904\u7406\u5668\u5b9a\u4e49\u7684\u7cbe\u51c6\u4e00\u4e9b\u3002\n\u4e0d\u8fc7\uff0c\u8981\u662f\u4f60\u5fc5\u987b\u6355\u83b7\u6240\u6709\u5f02\u5e38\uff0c\u786e\u4fdd\u6253\u5370\u6b63\u786e\u7684\u8bca\u65ad\u4fe1\u606f\u6216\u5c06\u5f02\u5e38\u4f20\u64ad\u51fa\u53bb\uff0c\u8fd9\u6837\u4e0d\u4f1a\u4e22\u5931\u6389\u5f02\u5e38\u3002"
      ]
    }
  ],
  "metadata": {
    "kernelspec": {
      "display_name": "Python 3",
      "language": "python",
      "name": "python3"
    },
    "language_info": {
      "codemirror_mode": {
        "name": "ipython",
        "version": 3
      },
      "file_extension": ".py",
      "mimetype": "text/x-python",
      "name": "python",
      "nbconvert_exporter": "python",
      "pygments_lexer": "ipython3",
      "version": "3.7.1"
    },
    "toc": {
      "base_numbering": 1,
      "nav_menu": {},
      "number_sections": true,
      "sideBar": true,
      "skip_h1_title": true,
      "title_cell": "Table of Contents",
      "title_sidebar": "Contents",
      "toc_cell": false,
      "toc_position": {},
      "toc_section_display": true,
      "toc_window_display": true
    }
  },
  "nbformat": 4,
  "nbformat_minor": 2
}