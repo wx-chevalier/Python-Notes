{
  "cells": [
    {
      "cell_type": "markdown",
      "metadata": {},
      "source": [
        "## 14.10 \u91cd\u65b0\u629b\u51fa\u88ab\u6355\u83b7\u7684\u5f02\u5e38\n"
      ]
    },
    {
      "cell_type": "markdown",
      "metadata": {},
      "source": [
        "### \u95ee\u9898\n"
      ]
    },
    {
      "cell_type": "markdown",
      "metadata": {},
      "source": [
        "\u4f60\u5728\u4e00\u4e2a except \u5757\u4e2d\u6355\u83b7\u4e86\u4e00\u4e2a\u5f02\u5e38\uff0c\u73b0\u5728\u60f3\u91cd\u65b0\u629b\u51fa\u5b83\u3002"
      ]
    },
    {
      "cell_type": "markdown",
      "metadata": {},
      "source": [
        "### \u89e3\u51b3\u65b9\u6848\n"
      ]
    },
    {
      "cell_type": "markdown",
      "metadata": {},
      "source": [
        "\u7b80\u5355\u7684\u4f7f\u7528\u4e00\u4e2a\u5355\u72ec\u7684 rasie \u8bed\u53e5\u5373\u53ef\uff0c\u4f8b\u5982\uff1a"
      ]
    },
    {
      "cell_type": "code",
      "execution_count": null,
      "metadata": {},
      "outputs": [],
      "source": [
        "def example():\n    try:\n            int('N/A')\n    except ValueError:\n            print(\"Didn't work\")\n            raise"
      ]
    },
    {
      "cell_type": "code",
      "execution_count": null,
      "metadata": {},
      "outputs": [],
      "source": [
        "example()"
      ]
    },
    {
      "cell_type": "markdown",
      "metadata": {},
      "source": [
        "### \u8ba8\u8bba\n"
      ]
    },
    {
      "cell_type": "markdown",
      "metadata": {},
      "source": [
        "\u8fd9\u4e2a\u95ee\u9898\u901a\u5e38\u662f\u5f53\u4f60\u9700\u8981\u5728\u6355\u83b7\u5f02\u5e38\u540e\u6267\u884c\u67d0\u4e2a\u64cd\u4f5c\uff08\u6bd4\u5982\u8bb0\u5f55\u65e5\u5fd7\u3001\u6e05\u7406\u7b49\uff09\uff0c\u4f46\u662f\u4e4b\u540e\u60f3\u5c06\u5f02\u5e38\u4f20\u64ad\u4e0b\u53bb\u3002\n\u4e00\u4e2a\u5f88\u5e38\u89c1\u7684\u7528\u6cd5\u662f\u5728\u6355\u83b7\u6240\u6709\u5f02\u5e38\u7684\u5904\u7406\u5668\u4e2d\uff1a"
      ]
    },
    {
      "cell_type": "code",
      "execution_count": null,
      "metadata": {},
      "outputs": [],
      "source": [
        "try:\n   ...\nexcept Exception as e:\n   # Process exception information in some way\n   ...\n\n   # Propagate the exception\n   raise"
      ]
    }
  ],
  "metadata": {
    "kernelspec": {
      "display_name": "Python 3",
      "language": "python",
      "name": "python3"
    },
    "language_info": {
      "codemirror_mode": {
        "name": "ipython",
        "version": 3
      },
      "file_extension": ".py",
      "mimetype": "text/x-python",
      "name": "python",
      "nbconvert_exporter": "python",
      "pygments_lexer": "ipython3",
      "version": "3.7.1"
    },
    "toc": {
      "base_numbering": 1,
      "nav_menu": {},
      "number_sections": true,
      "sideBar": true,
      "skip_h1_title": true,
      "title_cell": "Table of Contents",
      "title_sidebar": "Contents",
      "toc_cell": false,
      "toc_position": {},
      "toc_section_display": true,
      "toc_window_display": true
    }
  },
  "nbformat": 4,
  "nbformat_minor": 2
}