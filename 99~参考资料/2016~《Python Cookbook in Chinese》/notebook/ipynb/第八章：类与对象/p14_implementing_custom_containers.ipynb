{
  "cells": [
    {
      "cell_type": "markdown",
      "metadata": {},
      "source": [
        "## 8.14 \u5b9e\u73b0\u81ea\u5b9a\u4e49\u5bb9\u5668\n"
      ]
    },
    {
      "cell_type": "markdown",
      "metadata": {},
      "source": [
        "### \u95ee\u9898\n"
      ]
    },
    {
      "cell_type": "markdown",
      "metadata": {},
      "source": [
        "\u4f60\u60f3\u5b9e\u73b0\u4e00\u4e2a\u81ea\u5b9a\u4e49\u7684\u7c7b\u6765\u6a21\u62df\u5185\u7f6e\u7684\u5bb9\u5668\u7c7b\u529f\u80fd\uff0c\u6bd4\u5982\u5217\u8868\u548c\u5b57\u5178\u3002\u4f46\u662f\u4f60\u4e0d\u786e\u5b9a\u5230\u5e95\u8981\u5b9e\u73b0\u54ea\u4e9b\u65b9\u6cd5\u3002"
      ]
    },
    {
      "cell_type": "markdown",
      "metadata": {},
      "source": [
        "### \u89e3\u51b3\u65b9\u6848\n"
      ]
    },
    {
      "cell_type": "markdown",
      "metadata": {},
      "source": [
        "collections \u5b9a\u4e49\u4e86\u5f88\u591a\u62bd\u8c61\u57fa\u7c7b\uff0c\u5f53\u4f60\u60f3\u81ea\u5b9a\u4e49\u5bb9\u5668\u7c7b\u7684\u65f6\u5019\u5b83\u4eec\u4f1a\u975e\u5e38\u6709\u7528\u3002\n\u6bd4\u5982\u4f60\u60f3\u8ba9\u4f60\u7684\u7c7b\u652f\u6301\u8fed\u4ee3\uff0c\u90a3\u5c31\u8ba9\u4f60\u7684\u7c7b\u7ee7\u627f collections.Iterable \u5373\u53ef\uff1a"
      ]
    },
    {
      "cell_type": "code",
      "execution_count": null,
      "metadata": {},
      "outputs": [],
      "source": [
        "import collections\nclass A(collections.Iterable):\n    pass"
      ]
    },
    {
      "cell_type": "markdown",
      "metadata": {},
      "source": [
        "\u4e0d\u8fc7\u4f60\u9700\u8981\u5b9e\u73b0 collections.Iterable \u6240\u6709\u7684\u62bd\u8c61\u65b9\u6cd5\uff0c\u5426\u5219\u4f1a\u62a5\u9519:"
      ]
    },
    {
      "cell_type": "code",
      "execution_count": null,
      "metadata": {},
      "outputs": [],
      "source": [
        "a = A()"
      ]
    },
    {
      "cell_type": "markdown",
      "metadata": {},
      "source": [
        "\u4f60\u53ea\u8981\u5b9e\u73b0 __iter__() \u65b9\u6cd5\u5c31\u4e0d\u4f1a\u62a5\u9519\u4e86(\u53c2\u80034.2\u548c4.7\u5c0f\u8282)\u3002"
      ]
    },
    {
      "cell_type": "markdown",
      "metadata": {},
      "source": [
        "\u4f60\u53ef\u4ee5\u5148\u8bd5\u7740\u53bb\u5b9e\u4f8b\u5316\u4e00\u4e2a\u5bf9\u8c61\uff0c\u5728\u9519\u8bef\u63d0\u793a\u4e2d\u53ef\u4ee5\u627e\u5230\u9700\u8981\u5b9e\u73b0\u54ea\u4e9b\u65b9\u6cd5\uff1a"
      ]
    },
    {
      "cell_type": "code",
      "execution_count": null,
      "metadata": {},
      "outputs": [],
      "source": [
        "import collections\ncollections.Sequence()"
      ]
    },
    {
      "cell_type": "markdown",
      "metadata": {},
      "source": [
        "\u4e0b\u9762\u662f\u4e00\u4e2a\u7b80\u5355\u7684\u793a\u4f8b\uff0c\u7ee7\u627f\u81ea\u4e0a\u9762Sequence\u62bd\u8c61\u7c7b\uff0c\u5e76\u4e14\u5b9e\u73b0\u5143\u7d20\u6309\u7167\u987a\u5e8f\u5b58\u50a8\uff1a"
      ]
    },
    {
      "cell_type": "code",
      "execution_count": null,
      "metadata": {},
      "outputs": [],
      "source": [
        "class SortedItems(collections.Sequence):\n    def __init__(self, initial=None):\n        self._items = sorted(initial) if initial is not None else []\n\n    # Required sequence methods\n    def __getitem__(self, index):\n        return self._items[index]\n\n    def __len__(self):\n        return len(self._items)\n\n    # Method for adding an item in the right location\n    def add(self, item):\n        bisect.insort(self._items, item)\n\n\nitems = SortedItems([5, 1, 3])\nprint(list(items))\nprint(items[0], items[-1])\nitems.add(2)\nprint(list(items))"
      ]
    },
    {
      "cell_type": "markdown",
      "metadata": {},
      "source": [
        "\u53ef\u4ee5\u770b\u5230\uff0cSortedItems\u8ddf\u666e\u901a\u7684\u5e8f\u5217\u6ca1\u4ec0\u4e48\u4e24\u6837\uff0c\u652f\u6301\u6240\u6709\u5e38\u7528\u64cd\u4f5c\uff0c\u5305\u62ec\u7d22\u5f15\u3001\u8fed\u4ee3\u3001\u5305\u542b\u5224\u65ad\uff0c\u751a\u81f3\u662f\u5207\u7247\u64cd\u4f5c\u3002"
      ]
    },
    {
      "cell_type": "markdown",
      "metadata": {},
      "source": [
        "\u8fd9\u91cc\u9762\u4f7f\u7528\u5230\u4e86 bisect \u6a21\u5757\uff0c\u5b83\u662f\u4e00\u4e2a\u5728\u6392\u5e8f\u5217\u8868\u4e2d\u63d2\u5165\u5143\u7d20\u7684\u9ad8\u6548\u65b9\u5f0f\u3002\u53ef\u4ee5\u4fdd\u8bc1\u5143\u7d20\u63d2\u5165\u540e\u8fd8\u4fdd\u6301\u987a\u5e8f\u3002"
      ]
    },
    {
      "cell_type": "markdown",
      "metadata": {},
      "source": [
        "### \u8ba8\u8bba\n"
      ]
    },
    {
      "cell_type": "markdown",
      "metadata": {},
      "source": [
        "\u4f7f\u7528 collections \u4e2d\u7684\u62bd\u8c61\u57fa\u7c7b\u53ef\u4ee5\u786e\u4fdd\u4f60\u81ea\u5b9a\u4e49\u7684\u5bb9\u5668\u5b9e\u73b0\u4e86\u6240\u6709\u5fc5\u8981\u7684\u65b9\u6cd5\u3002\u5e76\u4e14\u8fd8\u80fd\u7b80\u5316\u7c7b\u578b\u68c0\u67e5\u3002\n\u4f60\u7684\u81ea\u5b9a\u4e49\u5bb9\u5668\u4f1a\u6ee1\u8db3\u5927\u90e8\u5206\u7c7b\u578b\u68c0\u67e5\u9700\u8981\uff0c\u5982\u4e0b\u6240\u793a\uff1a"
      ]
    },
    {
      "cell_type": "code",
      "execution_count": null,
      "metadata": {},
      "outputs": [],
      "source": [
        "items = SortedItems()\nimport collections\nisinstance(items, collections.Iterable)"
      ]
    },
    {
      "cell_type": "code",
      "execution_count": null,
      "metadata": {},
      "outputs": [],
      "source": [
        "isinstance(items, collections.Sequence)"
      ]
    },
    {
      "cell_type": "code",
      "execution_count": null,
      "metadata": {},
      "outputs": [],
      "source": [
        "isinstance(items, collections.Container)"
      ]
    },
    {
      "cell_type": "code",
      "execution_count": null,
      "metadata": {},
      "outputs": [],
      "source": [
        "isinstance(items, collections.Sized)"
      ]
    },
    {
      "cell_type": "code",
      "execution_count": null,
      "metadata": {},
      "outputs": [],
      "source": [
        "isinstance(items, collections.Mapping)"
      ]
    },
    {
      "cell_type": "markdown",
      "metadata": {},
      "source": [
        "collections \u4e2d\u5f88\u591a\u62bd\u8c61\u7c7b\u4f1a\u4e3a\u4e00\u4e9b\u5e38\u89c1\u5bb9\u5668\u64cd\u4f5c\u63d0\u4f9b\u9ed8\u8ba4\u7684\u5b9e\u73b0\uff0c\n\u8fd9\u6837\u4e00\u6765\u4f60\u53ea\u9700\u8981\u5b9e\u73b0\u90a3\u4e9b\u4f60\u6700\u611f\u5174\u8da3\u7684\u65b9\u6cd5\u5373\u53ef\u3002\u5047\u8bbe\u4f60\u7684\u7c7b\u7ee7\u627f\u81ea collections.MutableSequence \uff0c\u5982\u4e0b\uff1a"
      ]
    },
    {
      "cell_type": "code",
      "execution_count": null,
      "metadata": {},
      "outputs": [],
      "source": [
        "class Items(collections.MutableSequence):\n    def __init__(self, initial=None):\n        self._items = list(initial) if initial is not None else []\n\n    # Required sequence methods\n    def __getitem__(self, index):\n        print('Getting:', index)\n        return self._items[index]\n\n    def __setitem__(self, index, value):\n        print('Setting:', index, value)\n        self._items[index] = value\n\n    def __delitem__(self, index):\n        print('Deleting:', index)\n        del self._items[index]\n\n    def insert(self, index, value):\n        print('Inserting:', index, value)\n        self._items.insert(index, value)\n\n    def __len__(self):\n        print('Len')\n        return len(self._items)"
      ]
    },
    {
      "cell_type": "markdown",
      "metadata": {},
      "source": [
        "\u5982\u679c\u4f60\u521b\u5efa Items \u7684\u5b9e\u4f8b\uff0c\u4f60\u4f1a\u53d1\u73b0\u5b83\u652f\u6301\u51e0\u4e4e\u6240\u6709\u7684\u6838\u5fc3\u5217\u8868\u65b9\u6cd5(\u5982append()\u3001remove()\u3001count()\u7b49)\u3002\n\u4e0b\u9762\u662f\u4f7f\u7528\u6f14\u793a\uff1a"
      ]
    },
    {
      "cell_type": "code",
      "execution_count": null,
      "metadata": {},
      "outputs": [],
      "source": [
        "a = Items([1, 2, 3])\nlen(a)"
      ]
    },
    {
      "cell_type": "code",
      "execution_count": null,
      "metadata": {},
      "outputs": [],
      "source": [
        "a.append(4)"
      ]
    },
    {
      "cell_type": "code",
      "execution_count": null,
      "metadata": {},
      "outputs": [],
      "source": [
        "a.append(2)"
      ]
    },
    {
      "cell_type": "code",
      "execution_count": null,
      "metadata": {},
      "outputs": [],
      "source": [
        "a.count(2)"
      ]
    },
    {
      "cell_type": "code",
      "execution_count": null,
      "metadata": {},
      "outputs": [],
      "source": [
        "a.remove(3)"
      ]
    },
    {
      "cell_type": "markdown",
      "metadata": {},
      "source": [
        "\u672c\u5c0f\u8282\u53ea\u662f\u5bf9Python\u62bd\u8c61\u7c7b\u529f\u80fd\u7684\u629b\u7816\u5f15\u7389\u3002numbers \u6a21\u5757\u63d0\u4f9b\u4e86\u4e00\u4e2a\u7c7b\u4f3c\u7684\u8ddf\u6574\u6570\u7c7b\u578b\u76f8\u5173\u7684\u62bd\u8c61\u7c7b\u578b\u96c6\u5408\u3002\n\u53ef\u4ee5\u53c2\u80038.12\u5c0f\u8282\u6765\u6784\u9020\u66f4\u591a\u81ea\u5b9a\u4e49\u62bd\u8c61\u57fa\u7c7b\u3002"
      ]
    }
  ],
  "metadata": {
    "kernelspec": {
      "display_name": "Python 3",
      "language": "python",
      "name": "python3"
    },
    "language_info": {
      "codemirror_mode": {
        "name": "ipython",
        "version": 3
      },
      "file_extension": ".py",
      "mimetype": "text/x-python",
      "name": "python",
      "nbconvert_exporter": "python",
      "pygments_lexer": "ipython3",
      "version": "3.7.1"
    },
    "toc": {
      "base_numbering": 1,
      "nav_menu": {},
      "number_sections": true,
      "sideBar": true,
      "skip_h1_title": true,
      "title_cell": "Table of Contents",
      "title_sidebar": "Contents",
      "toc_cell": false,
      "toc_position": {},
      "toc_section_display": true,
      "toc_window_display": true
    }
  },
  "nbformat": 4,
  "nbformat_minor": 2
}