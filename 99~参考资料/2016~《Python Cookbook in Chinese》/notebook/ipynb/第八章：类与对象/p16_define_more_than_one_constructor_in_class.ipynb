{
  "cells": [
    {
      "cell_type": "markdown",
      "metadata": {},
      "source": [
        "## 8.16 \u5728\u7c7b\u4e2d\u5b9a\u4e49\u591a\u4e2a\u6784\u9020\u5668\n"
      ]
    },
    {
      "cell_type": "markdown",
      "metadata": {},
      "source": [
        "### \u95ee\u9898\n"
      ]
    },
    {
      "cell_type": "markdown",
      "metadata": {},
      "source": [
        "\u4f60\u60f3\u5b9e\u73b0\u4e00\u4e2a\u7c7b\uff0c\u9664\u4e86\u4f7f\u7528 __init__() \u65b9\u6cd5\u5916\uff0c\u8fd8\u6709\u5176\u4ed6\u65b9\u5f0f\u53ef\u4ee5\u521d\u59cb\u5316\u5b83\u3002"
      ]
    },
    {
      "cell_type": "markdown",
      "metadata": {},
      "source": [
        "### \u89e3\u51b3\u65b9\u6848\n"
      ]
    },
    {
      "cell_type": "markdown",
      "metadata": {},
      "source": [
        "\u4e3a\u4e86\u5b9e\u73b0\u591a\u4e2a\u6784\u9020\u5668\uff0c\u4f60\u9700\u8981\u4f7f\u7528\u5230\u7c7b\u65b9\u6cd5\u3002\u4f8b\u5982\uff1a"
      ]
    },
    {
      "cell_type": "code",
      "execution_count": null,
      "metadata": {},
      "outputs": [],
      "source": [
        "import time\n\nclass Date:\n    \"\"\"\u65b9\u6cd5\u4e00\uff1a\u4f7f\u7528\u7c7b\u65b9\u6cd5\"\"\"\n    # Primary constructor\n    def __init__(self, year, month, day):\n        self.year = year\n        self.month = month\n        self.day = day\n\n    # Alternate constructor\n    @classmethod\n    def today(cls):\n        t = time.localtime()\n        return cls(t.tm_year, t.tm_mon, t.tm_mday)"
      ]
    },
    {
      "cell_type": "markdown",
      "metadata": {},
      "source": [
        "\u76f4\u63a5\u8c03\u7528\u7c7b\u65b9\u6cd5\u5373\u53ef\uff0c\u4e0b\u9762\u662f\u4f7f\u7528\u793a\u4f8b\uff1a"
      ]
    },
    {
      "cell_type": "code",
      "execution_count": null,
      "metadata": {},
      "outputs": [],
      "source": [
        "a = Date(2012, 12, 21) # Primary\nb = Date.today() # Alternate"
      ]
    },
    {
      "cell_type": "markdown",
      "metadata": {},
      "source": [
        "### \u8ba8\u8bba\n"
      ]
    },
    {
      "cell_type": "markdown",
      "metadata": {},
      "source": [
        "\u7c7b\u65b9\u6cd5\u7684\u4e00\u4e2a\u4e3b\u8981\u7528\u9014\u5c31\u662f\u5b9a\u4e49\u591a\u4e2a\u6784\u9020\u5668\u3002\u5b83\u63a5\u53d7\u4e00\u4e2a class \u4f5c\u4e3a\u7b2c\u4e00\u4e2a\u53c2\u6570(cls)\u3002\n\u4f60\u5e94\u8be5\u6ce8\u610f\u5230\u4e86\u8fd9\u4e2a\u7c7b\u88ab\u7528\u6765\u521b\u5efa\u5e76\u8fd4\u56de\u6700\u7ec8\u7684\u5b9e\u4f8b\u3002\u5728\u7ee7\u627f\u65f6\u4e5f\u80fd\u5de5\u4f5c\u7684\u5f88\u597d\uff1a"
      ]
    },
    {
      "cell_type": "code",
      "execution_count": null,
      "metadata": {},
      "outputs": [],
      "source": [
        "class NewDate(Date):\n    pass\n\nc = Date.today() # Creates an instance of Date (cls=Date)\nd = NewDate.today() # Creates an instance of NewDate (cls=NewDate)"
      ]
    }
  ],
  "metadata": {
    "kernelspec": {
      "display_name": "Python 3",
      "language": "python",
      "name": "python3"
    },
    "language_info": {
      "codemirror_mode": {
        "name": "ipython",
        "version": 3
      },
      "file_extension": ".py",
      "mimetype": "text/x-python",
      "name": "python",
      "nbconvert_exporter": "python",
      "pygments_lexer": "ipython3",
      "version": "3.7.1"
    },
    "toc": {
      "base_numbering": 1,
      "nav_menu": {},
      "number_sections": true,
      "sideBar": true,
      "skip_h1_title": true,
      "title_cell": "Table of Contents",
      "title_sidebar": "Contents",
      "toc_cell": false,
      "toc_position": {},
      "toc_section_display": true,
      "toc_window_display": true
    }
  },
  "nbformat": 4,
  "nbformat_minor": 2
}