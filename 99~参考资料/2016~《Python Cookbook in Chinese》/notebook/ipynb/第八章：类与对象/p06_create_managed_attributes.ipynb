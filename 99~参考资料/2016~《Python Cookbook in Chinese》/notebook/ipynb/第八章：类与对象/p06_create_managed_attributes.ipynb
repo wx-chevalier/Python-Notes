{
  "cells": [
    {
      "cell_type": "markdown",
      "metadata": {},
      "source": [
        "## 8.6 \u521b\u5efa\u53ef\u7ba1\u7406\u7684\u5c5e\u6027\n"
      ]
    },
    {
      "cell_type": "markdown",
      "metadata": {},
      "source": [
        "### \u95ee\u9898\n"
      ]
    },
    {
      "cell_type": "markdown",
      "metadata": {},
      "source": [
        "\u4f60\u60f3\u7ed9\u67d0\u4e2a\u5b9e\u4f8battribute\u589e\u52a0\u9664\u8bbf\u95ee\u4e0e\u4fee\u6539\u4e4b\u5916\u7684\u5176\u4ed6\u5904\u7406\u903b\u8f91\uff0c\u6bd4\u5982\u7c7b\u578b\u68c0\u67e5\u6216\u5408\u6cd5\u6027\u9a8c\u8bc1\u3002"
      ]
    },
    {
      "cell_type": "markdown",
      "metadata": {},
      "source": [
        "### \u89e3\u51b3\u65b9\u6848\n"
      ]
    },
    {
      "cell_type": "markdown",
      "metadata": {},
      "source": [
        "\u81ea\u5b9a\u4e49\u67d0\u4e2a\u5c5e\u6027\u7684\u4e00\u79cd\u7b80\u5355\u65b9\u6cd5\u662f\u5c06\u5b83\u5b9a\u4e49\u4e3a\u4e00\u4e2aproperty\u3002\n\u4f8b\u5982\uff0c\u4e0b\u9762\u7684\u4ee3\u7801\u5b9a\u4e49\u4e86\u4e00\u4e2aproperty\uff0c\u589e\u52a0\u5bf9\u4e00\u4e2a\u5c5e\u6027\u7b80\u5355\u7684\u7c7b\u578b\u68c0\u67e5\uff1a"
      ]
    },
    {
      "cell_type": "code",
      "execution_count": null,
      "metadata": {},
      "outputs": [],
      "source": [
        "class Person:\n    def __init__(self, first_name):\n        self.first_name = first_name\n\n    # Getter function\n    @property\n    def first_name(self):\n        return self._first_name\n\n    # Setter function\n    @first_name.setter\n    def first_name(self, value):\n        if not isinstance(value, str):\n            raise TypeError('Expected a string')\n        self._first_name = value\n\n    # Deleter function (optional)\n    @first_name.deleter\n    def first_name(self):\n        raise AttributeError(\"Can't delete attribute\")"
      ]
    },
    {
      "cell_type": "markdown",
      "metadata": {},
      "source": [
        "\u4e0a\u8ff0\u4ee3\u7801\u4e2d\u6709\u4e09\u4e2a\u76f8\u5173\u8054\u7684\u65b9\u6cd5\uff0c\u8fd9\u4e09\u4e2a\u65b9\u6cd5\u7684\u540d\u5b57\u90fd\u5fc5\u987b\u4e00\u6837\u3002\n\u7b2c\u4e00\u4e2a\u65b9\u6cd5\u662f\u4e00\u4e2a getter \u51fd\u6570\uff0c\u5b83\u4f7f\u5f97 first_name \u6210\u4e3a\u4e00\u4e2a\u5c5e\u6027\u3002\n\u5176\u4ed6\u4e24\u4e2a\u65b9\u6cd5\u7ed9 first_name \u5c5e\u6027\u6dfb\u52a0\u4e86 setter \u548c deleter \u51fd\u6570\u3002\n\u9700\u8981\u5f3a\u8c03\u7684\u662f\u53ea\u6709\u5728 first_name \u5c5e\u6027\u88ab\u521b\u5efa\u540e\uff0c\n\u540e\u9762\u7684\u4e24\u4e2a\u88c5\u9970\u5668 @first_name.setter \u548c @first_name.deleter \u624d\u80fd\u88ab\u5b9a\u4e49\u3002"
      ]
    },
    {
      "cell_type": "markdown",
      "metadata": {},
      "source": [
        "property\u7684\u4e00\u4e2a\u5173\u952e\u7279\u5f81\u662f\u5b83\u770b\u4e0a\u53bb\u8ddf\u666e\u901a\u7684attribute\u6ca1\u4ec0\u4e48\u4e24\u6837\uff0c\n\u4f46\u662f\u8bbf\u95ee\u5b83\u7684\u65f6\u5019\u4f1a\u81ea\u52a8\u89e6\u53d1 getter \u3001setter \u548c deleter \u65b9\u6cd5\u3002\u4f8b\u5982\uff1a"
      ]
    },
    {
      "cell_type": "code",
      "execution_count": null,
      "metadata": {},
      "outputs": [],
      "source": [
        "a = Person('Guido')\na.first_name # Calls the getter"
      ]
    },
    {
      "cell_type": "code",
      "execution_count": null,
      "metadata": {},
      "outputs": [],
      "source": [
        "a.first_name = 42 # Calls the setter"
      ]
    },
    {
      "cell_type": "code",
      "execution_count": null,
      "metadata": {},
      "outputs": [],
      "source": [
        "del a.first_name"
      ]
    },
    {
      "cell_type": "markdown",
      "metadata": {},
      "source": [
        "\u5728\u5b9e\u73b0\u4e00\u4e2aproperty\u7684\u65f6\u5019\uff0c\u5e95\u5c42\u6570\u636e(\u5982\u679c\u6709\u7684\u8bdd)\u4ecd\u7136\u9700\u8981\u5b58\u50a8\u5728\u67d0\u4e2a\u5730\u65b9\u3002\n\u56e0\u6b64\uff0c\u5728get\u548cset\u65b9\u6cd5\u4e2d\uff0c\u4f60\u4f1a\u770b\u5230\u5bf9 _first_name \u5c5e\u6027\u7684\u64cd\u4f5c\uff0c\u8fd9\u4e5f\u662f\u5b9e\u9645\u6570\u636e\u4fdd\u5b58\u7684\u5730\u65b9\u3002\n\u53e6\u5916\uff0c\u4f60\u53ef\u80fd\u8fd8\u4f1a\u95ee\u4e3a\u4ec0\u4e48 __init__() \u65b9\u6cd5\u4e2d\u8bbe\u7f6e\u4e86 self.first_name \u800c\u4e0d\u662f self._first_name \u3002\n\u5728\u8fd9\u4e2a\u4f8b\u5b50\u4e2d\uff0c\u6211\u4eec\u521b\u5efa\u4e00\u4e2aproperty\u7684\u76ee\u7684\u5c31\u662f\u5728\u8bbe\u7f6eattribute\u7684\u65f6\u5019\u8fdb\u884c\u68c0\u67e5\u3002\n\u56e0\u6b64\uff0c\u4f60\u53ef\u80fd\u60f3\u5728\u521d\u59cb\u5316\u7684\u65f6\u5019\u4e5f\u8fdb\u884c\u8fd9\u79cd\u7c7b\u578b\u68c0\u67e5\u3002\u901a\u8fc7\u8bbe\u7f6e self.first_name \uff0c\u81ea\u52a8\u8c03\u7528 setter \u65b9\u6cd5\uff0c\n\u8fd9\u4e2a\u65b9\u6cd5\u91cc\u9762\u4f1a\u8fdb\u884c\u53c2\u6570\u7684\u68c0\u67e5\uff0c\u5426\u5219\u5c31\u662f\u76f4\u63a5\u8bbf\u95ee self._first_name \u4e86\u3002"
      ]
    },
    {
      "cell_type": "markdown",
      "metadata": {},
      "source": [
        "\u8fd8\u80fd\u5728\u5df2\u5b58\u5728\u7684get\u548cset\u65b9\u6cd5\u57fa\u7840\u4e0a\u5b9a\u4e49property\u3002\u4f8b\u5982\uff1a"
      ]
    },
    {
      "cell_type": "code",
      "execution_count": null,
      "metadata": {},
      "outputs": [],
      "source": [
        "class Person:\n    def __init__(self, first_name):\n        self.set_first_name(first_name)\n\n    # Getter function\n    def get_first_name(self):\n        return self._first_name\n\n    # Setter function\n    def set_first_name(self, value):\n        if not isinstance(value, str):\n            raise TypeError('Expected a string')\n        self._first_name = value\n\n    # Deleter function (optional)\n    def del_first_name(self):\n        raise AttributeError(\"Can't delete attribute\")\n\n    # Make a property from existing get/set methods\n    name = property(get_first_name, set_first_name, del_first_name)"
      ]
    },
    {
      "cell_type": "markdown",
      "metadata": {},
      "source": [
        "### \u8ba8\u8bba\n"
      ]
    },
    {
      "cell_type": "markdown",
      "metadata": {},
      "source": [
        "\u4e00\u4e2aproperty\u5c5e\u6027\u5176\u5b9e\u5c31\u662f\u4e00\u7cfb\u5217\u76f8\u5173\u7ed1\u5b9a\u65b9\u6cd5\u7684\u96c6\u5408\u3002\u5982\u679c\u4f60\u53bb\u67e5\u770b\u62e5\u6709property\u7684\u7c7b\uff0c\n\u5c31\u4f1a\u53d1\u73b0property\u672c\u8eab\u7684fget\u3001fset\u548cfdel\u5c5e\u6027\u5c31\u662f\u7c7b\u91cc\u9762\u7684\u666e\u901a\u65b9\u6cd5\u3002\u6bd4\u5982\uff1a"
      ]
    },
    {
      "cell_type": "code",
      "execution_count": null,
      "metadata": {},
      "outputs": [],
      "source": [
        "Person.first_name.fget"
      ]
    },
    {
      "cell_type": "code",
      "execution_count": null,
      "metadata": {},
      "outputs": [],
      "source": [
        "Person.first_name.fset"
      ]
    },
    {
      "cell_type": "code",
      "execution_count": null,
      "metadata": {},
      "outputs": [],
      "source": [
        "Person.first_name.fdel"
      ]
    },
    {
      "cell_type": "markdown",
      "metadata": {},
      "source": [
        "\u901a\u5e38\u6765\u8bb2\uff0c\u4f60\u4e0d\u4f1a\u76f4\u63a5\u53d6\u8c03\u7528fget\u6216\u8005fset\uff0c\u5b83\u4eec\u4f1a\u5728\u8bbf\u95eeproperty\u7684\u65f6\u5019\u81ea\u52a8\u88ab\u89e6\u53d1\u3002"
      ]
    },
    {
      "cell_type": "markdown",
      "metadata": {},
      "source": [
        "\u53ea\u6709\u5f53\u4f60\u786e\u5b9e\u9700\u8981\u5bf9attribute\u6267\u884c\u5176\u4ed6\u989d\u5916\u7684\u64cd\u4f5c\u7684\u65f6\u5019\u624d\u5e94\u8be5\u4f7f\u7528\u5230property\u3002\n\u6709\u65f6\u5019\u4e00\u4e9b\u4ece\u5176\u4ed6\u7f16\u7a0b\u8bed\u8a00(\u6bd4\u5982Java)\u8fc7\u6765\u7684\u7a0b\u5e8f\u5458\u603b\u8ba4\u4e3a\u6240\u6709\u8bbf\u95ee\u90fd\u5e94\u8be5\u901a\u8fc7getter\u548csetter\uff0c\n\u6240\u4ee5\u4ed6\u4eec\u8ba4\u4e3a\u4ee3\u7801\u5e94\u8be5\u50cf\u4e0b\u9762\u8fd9\u6837\u5199\uff1a"
      ]
    },
    {
      "cell_type": "code",
      "execution_count": null,
      "metadata": {},
      "outputs": [],
      "source": [
        "class Person:\n    def __init__(self, first_name):\n        self.first_name = first_name\n\n    @property\n    def first_name(self):\n        return self._first_name\n\n    @first_name.setter\n    def first_name(self, value):\n        self._first_name = value"
      ]
    },
    {
      "cell_type": "markdown",
      "metadata": {},
      "source": [
        "\u4e0d\u8981\u5199\u8fd9\u79cd\u6ca1\u6709\u505a\u4efb\u4f55\u5176\u4ed6\u989d\u5916\u64cd\u4f5c\u7684property\u3002\n\u9996\u5148\uff0c\u5b83\u4f1a\u8ba9\u4f60\u7684\u4ee3\u7801\u53d8\u5f97\u5f88\u81c3\u80bf\uff0c\u5e76\u4e14\u8fd8\u4f1a\u8ff7\u60d1\u9605\u8bfb\u8005\u3002\n\u5176\u6b21\uff0c\u5b83\u8fd8\u4f1a\u8ba9\u4f60\u7684\u7a0b\u5e8f\u8fd0\u884c\u8d77\u6765\u53d8\u6162\u5f88\u591a\u3002\n\u6700\u540e\uff0c\u8fd9\u6837\u7684\u8bbe\u8ba1\u5e76\u6ca1\u6709\u5e26\u6765\u4efb\u4f55\u7684\u597d\u5904\u3002\n\u7279\u522b\u662f\u5f53\u4f60\u4ee5\u540e\u60f3\u7ed9\u666e\u901aattribute\u8bbf\u95ee\u6dfb\u52a0\u989d\u5916\u7684\u5904\u7406\u903b\u8f91\u7684\u65f6\u5019\uff0c\n\u4f60\u53ef\u4ee5\u5c06\u5b83\u53d8\u6210\u4e00\u4e2aproperty\u800c\u65e0\u9700\u6539\u53d8\u539f\u6765\u7684\u4ee3\u7801\u3002\n\u56e0\u4e3a\u8bbf\u95eeattribute\u7684\u4ee3\u7801\u8fd8\u662f\u4fdd\u6301\u539f\u6837\u3002"
      ]
    },
    {
      "cell_type": "markdown",
      "metadata": {},
      "source": [
        "Properties\u8fd8\u662f\u4e00\u79cd\u5b9a\u4e49\u52a8\u6001\u8ba1\u7b97attribute\u7684\u65b9\u6cd5\u3002\n\u8fd9\u79cd\u7c7b\u578b\u7684attributes\u5e76\u4e0d\u4f1a\u88ab\u5b9e\u9645\u7684\u5b58\u50a8\uff0c\u800c\u662f\u5728\u9700\u8981\u7684\u65f6\u5019\u8ba1\u7b97\u51fa\u6765\u3002\u6bd4\u5982\uff1a"
      ]
    },
    {
      "cell_type": "code",
      "execution_count": null,
      "metadata": {},
      "outputs": [],
      "source": [
        "import math\nclass Circle:\n    def __init__(self, radius):\n        self.radius = radius\n\n    @property\n    def area(self):\n        return math.pi * self.radius ** 2\n\n    @property\n    def diameter(self):\n        return self.radius * 2\n\n    @property\n    def perimeter(self):\n        return 2 * math.pi * self.radius"
      ]
    },
    {
      "cell_type": "markdown",
      "metadata": {},
      "source": [
        "\u5728\u8fd9\u91cc\uff0c\u6211\u4eec\u901a\u8fc7\u4f7f\u7528properties\uff0c\u5c06\u6240\u6709\u7684\u8bbf\u95ee\u63a5\u53e3\u5f62\u5f0f\u7edf\u4e00\u8d77\u6765\uff0c\n\u5bf9\u534a\u5f84\u3001\u76f4\u5f84\u3001\u5468\u957f\u548c\u9762\u79ef\u7684\u8bbf\u95ee\u90fd\u662f\u901a\u8fc7\u5c5e\u6027\u8bbf\u95ee\uff0c\u5c31\u8ddf\u8bbf\u95ee\u7b80\u5355\u7684attribute\u662f\u4e00\u6837\u7684\u3002\n\u5982\u679c\u4e0d\u8fd9\u6837\u505a\u7684\u8bdd\uff0c\u90a3\u4e48\u5c31\u8981\u5728\u4ee3\u7801\u4e2d\u6df7\u5408\u4f7f\u7528\u7b80\u5355\u5c5e\u6027\u8bbf\u95ee\u548c\u65b9\u6cd5\u8c03\u7528\u3002\n\u4e0b\u9762\u662f\u4f7f\u7528\u7684\u5b9e\u4f8b\uff1a"
      ]
    },
    {
      "cell_type": "code",
      "execution_count": null,
      "metadata": {},
      "outputs": [],
      "source": [
        "c = Circle(4.0)\nc.radius"
      ]
    },
    {
      "cell_type": "code",
      "execution_count": null,
      "metadata": {},
      "outputs": [],
      "source": [
        "c.area  # Notice lack of ()"
      ]
    },
    {
      "cell_type": "code",
      "execution_count": null,
      "metadata": {},
      "outputs": [],
      "source": [
        "c.perimeter  # Notice lack of ()"
      ]
    },
    {
      "cell_type": "markdown",
      "metadata": {},
      "source": [
        "\u5c3d\u7ba1properties\u53ef\u4ee5\u5b9e\u73b0\u4f18\u96c5\u7684\u7f16\u7a0b\u63a5\u53e3\uff0c\u4f46\u6709\u4e9b\u65f6\u5019\u4f60\u8fd8\u662f\u4f1a\u60f3\u76f4\u63a5\u4f7f\u7528getter\u548csetter\u51fd\u6570\u3002\u4f8b\u5982\uff1a"
      ]
    },
    {
      "cell_type": "code",
      "execution_count": null,
      "metadata": {},
      "outputs": [],
      "source": [
        "p = Person('Guido')\np.get_first_name()"
      ]
    },
    {
      "cell_type": "code",
      "execution_count": null,
      "metadata": {},
      "outputs": [],
      "source": [
        "p.set_first_name('Larry')"
      ]
    },
    {
      "cell_type": "markdown",
      "metadata": {},
      "source": [
        "\u8fd9\u79cd\u60c5\u51b5\u7684\u51fa\u73b0\u901a\u5e38\u662f\u56e0\u4e3aPython\u4ee3\u7801\u88ab\u96c6\u6210\u5230\u4e00\u4e2a\u5927\u578b\u57fa\u7840\u5e73\u53f0\u67b6\u6784\u6216\u7a0b\u5e8f\u4e2d\u3002\n\u4f8b\u5982\uff0c\u6709\u53ef\u80fd\u662f\u4e00\u4e2aPython\u7c7b\u51c6\u5907\u52a0\u5165\u5230\u4e00\u4e2a\u57fa\u4e8e\u8fdc\u7a0b\u8fc7\u7a0b\u8c03\u7528\u7684\u5927\u578b\u5206\u5e03\u5f0f\u7cfb\u7edf\u4e2d\u3002\n\u8fd9\u79cd\u60c5\u51b5\u4e0b\uff0c\u76f4\u63a5\u4f7f\u7528get/set\u65b9\u6cd5(\u666e\u901a\u65b9\u6cd5\u8c03\u7528)\u800c\u4e0d\u662fproperty\u6216\u8bb8\u4f1a\u66f4\u5bb9\u6613\u517c\u5bb9\u3002"
      ]
    },
    {
      "cell_type": "markdown",
      "metadata": {},
      "source": [
        "\u6700\u540e\u4e00\u70b9\uff0c\u4e0d\u8981\u50cf\u4e0b\u9762\u8fd9\u6837\u5199\u6709\u5927\u91cf\u91cd\u590d\u4ee3\u7801\u7684property\u5b9a\u4e49\uff1a"
      ]
    },
    {
      "cell_type": "code",
      "execution_count": null,
      "metadata": {},
      "outputs": [],
      "source": [
        "class Person:\n    def __init__(self, first_name, last_name):\n        self.first_name = first_name\n        self.last_name = last_name\n\n    @property\n    def first_name(self):\n        return self._first_name\n\n    @first_name.setter\n    def first_name(self, value):\n        if not isinstance(value, str):\n            raise TypeError('Expected a string')\n        self._first_name = value\n\n    # Repeated property code, but for a different name (bad!)\n    @property\n    def last_name(self):\n        return self._last_name\n\n    @last_name.setter\n    def last_name(self, value):\n        if not isinstance(value, str):\n            raise TypeError('Expected a string')\n        self._last_name = value"
      ]
    },
    {
      "cell_type": "markdown",
      "metadata": {},
      "source": [
        "\u91cd\u590d\u4ee3\u7801\u4f1a\u5bfc\u81f4\u81c3\u80bf\u3001\u6613\u51fa\u9519\u548c\u4e11\u964b\u7684\u7a0b\u5e8f\u3002\u597d\u6d88\u606f\u662f\uff0c\u901a\u8fc7\u4f7f\u7528\u88c5\u9970\u5668\u6216\u95ed\u5305\uff0c\u6709\u5f88\u591a\u79cd\u66f4\u597d\u7684\u65b9\u6cd5\u6765\u5b8c\u6210\u540c\u6837\u7684\u4e8b\u60c5\u3002\n\u53ef\u4ee5\u53c2\u80038.9\u548c9.21\u5c0f\u8282\u7684\u5185\u5bb9\u3002"
      ]
    }
  ],
  "metadata": {
    "kernelspec": {
      "display_name": "Python 3",
      "language": "python",
      "name": "python3"
    },
    "language_info": {
      "codemirror_mode": {
        "name": "ipython",
        "version": 3
      },
      "file_extension": ".py",
      "mimetype": "text/x-python",
      "name": "python",
      "nbconvert_exporter": "python",
      "pygments_lexer": "ipython3",
      "version": "3.7.1"
    },
    "toc": {
      "base_numbering": 1,
      "nav_menu": {},
      "number_sections": true,
      "sideBar": true,
      "skip_h1_title": true,
      "title_cell": "Table of Contents",
      "title_sidebar": "Contents",
      "toc_cell": false,
      "toc_position": {},
      "toc_section_display": true,
      "toc_window_display": true
    }
  },
  "nbformat": 4,
  "nbformat_minor": 2
}