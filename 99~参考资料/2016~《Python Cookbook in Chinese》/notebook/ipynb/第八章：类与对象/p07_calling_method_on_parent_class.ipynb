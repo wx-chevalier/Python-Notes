{
  "cells": [
    {
      "cell_type": "markdown",
      "metadata": {},
      "source": [
        "## 8.7 \u8c03\u7528\u7236\u7c7b\u65b9\u6cd5\n"
      ]
    },
    {
      "cell_type": "markdown",
      "metadata": {},
      "source": [
        "### \u95ee\u9898\n"
      ]
    },
    {
      "cell_type": "markdown",
      "metadata": {},
      "source": [
        "\u4f60\u60f3\u5728\u5b50\u7c7b\u4e2d\u8c03\u7528\u7236\u7c7b\u7684\u67d0\u4e2a\u5df2\u7ecf\u88ab\u8986\u76d6\u7684\u65b9\u6cd5\u3002"
      ]
    },
    {
      "cell_type": "markdown",
      "metadata": {},
      "source": [
        "### \u89e3\u51b3\u65b9\u6848\n"
      ]
    },
    {
      "cell_type": "markdown",
      "metadata": {},
      "source": [
        "\u4e3a\u4e86\u8c03\u7528\u7236\u7c7b(\u8d85\u7c7b)\u7684\u4e00\u4e2a\u65b9\u6cd5\uff0c\u53ef\u4ee5\u4f7f\u7528 super() \u51fd\u6570\uff0c\u6bd4\u5982\uff1a"
      ]
    },
    {
      "cell_type": "code",
      "execution_count": null,
      "metadata": {},
      "outputs": [],
      "source": [
        "class A:\n    def spam(self):\n        print('A.spam')\n\nclass B(A):\n    def spam(self):\n        print('B.spam')\n        super().spam()  # Call parent spam()"
      ]
    },
    {
      "cell_type": "markdown",
      "metadata": {},
      "source": [
        "super() \u51fd\u6570\u7684\u4e00\u4e2a\u5e38\u89c1\u7528\u6cd5\u662f\u5728 __init__() \u65b9\u6cd5\u4e2d\u786e\u4fdd\u7236\u7c7b\u88ab\u6b63\u786e\u7684\u521d\u59cb\u5316\u4e86\uff1a"
      ]
    },
    {
      "cell_type": "code",
      "execution_count": null,
      "metadata": {},
      "outputs": [],
      "source": [
        "class A:\n    def __init__(self):\n        self.x = 0\n\nclass B(A):\n    def __init__(self):\n        super().__init__()\n        self.y = 1"
      ]
    },
    {
      "cell_type": "markdown",
      "metadata": {},
      "source": [
        "super() \u7684\u53e6\u5916\u4e00\u4e2a\u5e38\u89c1\u7528\u6cd5\u51fa\u73b0\u5728\u8986\u76d6Python\u7279\u6b8a\u65b9\u6cd5\u7684\u4ee3\u7801\u4e2d\uff0c\u6bd4\u5982\uff1a"
      ]
    },
    {
      "cell_type": "code",
      "execution_count": null,
      "metadata": {},
      "outputs": [],
      "source": [
        "class Proxy:\n    def __init__(self, obj):\n        self._obj = obj\n\n    # Delegate attribute lookup to internal obj\n    def __getattr__(self, name):\n        return getattr(self._obj, name)\n\n    # Delegate attribute assignment\n    def __setattr__(self, name, value):\n        if name.startswith('_'):\n            super().__setattr__(name, value) # Call original __setattr__\n        else:\n            setattr(self._obj, name, value)"
      ]
    },
    {
      "cell_type": "markdown",
      "metadata": {},
      "source": [
        "\u5728\u4e0a\u9762\u4ee3\u7801\u4e2d\uff0c__setattr__() \u7684\u5b9e\u73b0\u5305\u542b\u4e00\u4e2a\u540d\u5b57\u68c0\u67e5\u3002\n\u5982\u679c\u67d0\u4e2a\u5c5e\u6027\u540d\u4ee5\u4e0b\u5212\u7ebf(_)\u5f00\u5934\uff0c\u5c31\u901a\u8fc7 super() \u8c03\u7528\u539f\u59cb\u7684 __setattr__() \uff0c\n\u5426\u5219\u7684\u8bdd\u5c31\u59d4\u6d3e\u7ed9\u5185\u90e8\u7684\u4ee3\u7406\u5bf9\u8c61 self._obj \u53bb\u5904\u7406\u3002\n\u8fd9\u770b\u4e0a\u53bb\u6709\u70b9\u610f\u601d\uff0c\u56e0\u4e3a\u5c31\u7b97\u6ca1\u6709\u663e\u5f0f\u7684\u6307\u660e\u67d0\u4e2a\u7c7b\u7684\u7236\u7c7b\uff0c super() \u4ecd\u7136\u53ef\u4ee5\u6709\u6548\u7684\u5de5\u4f5c\u3002"
      ]
    },
    {
      "cell_type": "markdown",
      "metadata": {},
      "source": [
        "### \u8ba8\u8bba\n"
      ]
    },
    {
      "cell_type": "markdown",
      "metadata": {},
      "source": [
        "\u5b9e\u9645\u4e0a\uff0c\u5927\u5bb6\u5bf9\u4e8e\u5728Python\u4e2d\u5982\u4f55\u6b63\u786e\u4f7f\u7528 super() \u51fd\u6570\u666e\u904d\u77e5\u4e4b\u751a\u5c11\u3002\n\u4f60\u6709\u65f6\u5019\u4f1a\u770b\u5230\u50cf\u4e0b\u9762\u8fd9\u6837\u76f4\u63a5\u8c03\u7528\u7236\u7c7b\u7684\u4e00\u4e2a\u65b9\u6cd5\uff1a"
      ]
    },
    {
      "cell_type": "code",
      "execution_count": null,
      "metadata": {},
      "outputs": [],
      "source": [
        "class Base:\n    def __init__(self):\n        print('Base.__init__')\n\nclass A(Base):\n    def __init__(self):\n        Base.__init__(self)\n        print('A.__init__')"
      ]
    },
    {
      "cell_type": "markdown",
      "metadata": {},
      "source": [
        "\u5c3d\u7ba1\u5bf9\u4e8e\u5927\u90e8\u5206\u4ee3\u7801\u800c\u8a00\u8fd9\u4e48\u505a\u6ca1\u4ec0\u4e48\u95ee\u9898\uff0c\u4f46\u662f\u5728\u66f4\u590d\u6742\u7684\u6d89\u53ca\u5230\u591a\u7ee7\u627f\u7684\u4ee3\u7801\u4e2d\u5c31\u6709\u53ef\u80fd\u5bfc\u81f4\u5f88\u5947\u602a\u7684\u95ee\u9898\u53d1\u751f\u3002\n\u6bd4\u5982\uff0c\u8003\u8651\u5982\u4e0b\u7684\u60c5\u51b5\uff1a"
      ]
    },
    {
      "cell_type": "code",
      "execution_count": null,
      "metadata": {},
      "outputs": [],
      "source": [
        "class Base:\n    def __init__(self):\n        print('Base.__init__')\n\nclass A(Base):\n    def __init__(self):\n        Base.__init__(self)\n        print('A.__init__')\n\nclass B(Base):\n    def __init__(self):\n        Base.__init__(self)\n        print('B.__init__')\n\nclass C(A,B):\n    def __init__(self):\n        A.__init__(self)\n        B.__init__(self)\n        print('C.__init__')"
      ]
    },
    {
      "cell_type": "markdown",
      "metadata": {},
      "source": [
        "\u5982\u679c\u4f60\u8fd0\u884c\u8fd9\u6bb5\u4ee3\u7801\u5c31\u4f1a\u53d1\u73b0 Base.__init__() \u88ab\u8c03\u7528\u4e24\u6b21\uff0c\u5982\u4e0b\u6240\u793a\uff1a"
      ]
    },
    {
      "cell_type": "code",
      "execution_count": null,
      "metadata": {},
      "outputs": [],
      "source": [
        "c = C()"
      ]
    },
    {
      "cell_type": "markdown",
      "metadata": {},
      "source": [
        "\u53ef\u80fd\u4e24\u6b21\u8c03\u7528 Base.__init__() \u6ca1\u4ec0\u4e48\u574f\u5904\uff0c\u4f46\u6709\u65f6\u5019\u5374\u4e0d\u662f\u3002\n\u53e6\u4e00\u65b9\u9762\uff0c\u5047\u8bbe\u4f60\u5728\u4ee3\u7801\u4e2d\u6362\u6210\u4f7f\u7528 super() \uff0c\u7ed3\u679c\u5c31\u5f88\u5b8c\u7f8e\u4e86\uff1a"
      ]
    },
    {
      "cell_type": "code",
      "execution_count": null,
      "metadata": {},
      "outputs": [],
      "source": [
        "class Base:\n    def __init__(self):\n        print('Base.__init__')\n\nclass A(Base):\n    def __init__(self):\n        super().__init__()\n        print('A.__init__')\n\nclass B(Base):\n    def __init__(self):\n        super().__init__()\n        print('B.__init__')\n\nclass C(A,B):\n    def __init__(self):\n        super().__init__()  # Only one call to super() here\n        print('C.__init__')"
      ]
    },
    {
      "cell_type": "markdown",
      "metadata": {},
      "source": [
        "\u8fd0\u884c\u8fd9\u4e2a\u65b0\u7248\u672c\u540e\uff0c\u4f60\u4f1a\u53d1\u73b0\u6bcf\u4e2a __init__() \u65b9\u6cd5\u53ea\u4f1a\u88ab\u8c03\u7528\u4e00\u6b21\u4e86\uff1a"
      ]
    },
    {
      "cell_type": "code",
      "execution_count": null,
      "metadata": {},
      "outputs": [],
      "source": [
        "c = C()"
      ]
    },
    {
      "cell_type": "markdown",
      "metadata": {},
      "source": [
        "\u4e3a\u4e86\u5f04\u6e05\u5b83\u7684\u539f\u7406\uff0c\u6211\u4eec\u9700\u8981\u82b1\u70b9\u65f6\u95f4\u89e3\u91ca\u4e0bPython\u662f\u5982\u4f55\u5b9e\u73b0\u7ee7\u627f\u7684\u3002\n\u5bf9\u4e8e\u4f60\u5b9a\u4e49\u7684\u6bcf\u4e00\u4e2a\u7c7b\uff0cPython\u4f1a\u8ba1\u7b97\u51fa\u4e00\u4e2a\u6240\u8c13\u7684\u65b9\u6cd5\u89e3\u6790\u987a\u5e8f(MRO)\u5217\u8868\u3002\n\u8fd9\u4e2aMRO\u5217\u8868\u5c31\u662f\u4e00\u4e2a\u7b80\u5355\u7684\u6240\u6709\u57fa\u7c7b\u7684\u7ebf\u6027\u987a\u5e8f\u8868\u3002\u4f8b\u5982\uff1a"
      ]
    },
    {
      "cell_type": "code",
      "execution_count": null,
      "metadata": {},
      "outputs": [],
      "source": [
        "C.__mro__"
      ]
    },
    {
      "cell_type": "markdown",
      "metadata": {},
      "source": [
        "\u4e3a\u4e86\u5b9e\u73b0\u7ee7\u627f\uff0cPython\u4f1a\u5728MRO\u5217\u8868\u4e0a\u4ece\u5de6\u5230\u53f3\u5f00\u59cb\u67e5\u627e\u57fa\u7c7b\uff0c\u76f4\u5230\u627e\u5230\u7b2c\u4e00\u4e2a\u5339\u914d\u8fd9\u4e2a\u5c5e\u6027\u7684\u7c7b\u4e3a\u6b62\u3002"
      ]
    },
    {
      "cell_type": "markdown",
      "metadata": {},
      "source": [
        "\u800c\u8fd9\u4e2aMRO\u5217\u8868\u7684\u6784\u9020\u662f\u901a\u8fc7\u4e00\u4e2aC3\u7ebf\u6027\u5316\u7b97\u6cd5\u6765\u5b9e\u73b0\u7684\u3002\n\u6211\u4eec\u4e0d\u53bb\u6df1\u7a76\u8fd9\u4e2a\u7b97\u6cd5\u7684\u6570\u5b66\u539f\u7406\uff0c\u5b83\u5b9e\u9645\u4e0a\u5c31\u662f\u5408\u5e76\u6240\u6709\u7236\u7c7b\u7684MRO\u5217\u8868\u5e76\u9075\u5faa\u5982\u4e0b\u4e09\u6761\u51c6\u5219\uff1a"
      ]
    },
    {
      "cell_type": "markdown",
      "metadata": {},
      "source": [
        "\u8001\u5b9e\u8bf4\uff0c\u4f60\u6240\u8981\u77e5\u9053\u7684\u5c31\u662fMRO\u5217\u8868\u4e2d\u7684\u7c7b\u987a\u5e8f\u4f1a\u8ba9\u4f60\u5b9a\u4e49\u7684\u4efb\u610f\u7c7b\u5c42\u7ea7\u5173\u7cfb\u53d8\u5f97\u6709\u610f\u4e49\u3002"
      ]
    },
    {
      "cell_type": "markdown",
      "metadata": {},
      "source": [
        "\u5f53\u4f60\u4f7f\u7528 super() \u51fd\u6570\u65f6\uff0cPython\u4f1a\u5728MRO\u5217\u8868\u4e0a\u7ee7\u7eed\u641c\u7d22\u4e0b\u4e00\u4e2a\u7c7b\u3002\n\u53ea\u8981\u6bcf\u4e2a\u91cd\u5b9a\u4e49\u7684\u65b9\u6cd5\u7edf\u4e00\u4f7f\u7528 super() \u5e76\u53ea\u8c03\u7528\u5b83\u4e00\u6b21\uff0c\n\u90a3\u4e48\u63a7\u5236\u6d41\u6700\u7ec8\u4f1a\u904d\u5386\u5b8c\u6574\u4e2aMRO\u5217\u8868\uff0c\u6bcf\u4e2a\u65b9\u6cd5\u4e5f\u53ea\u4f1a\u88ab\u8c03\u7528\u4e00\u6b21\u3002\n\u8fd9\u4e5f\u662f\u4e3a\u4ec0\u4e48\u5728\u7b2c\u4e8c\u4e2a\u4f8b\u5b50\u4e2d\u4f60\u4e0d\u4f1a\u8c03\u7528\u4e24\u6b21 Base.__init__() \u7684\u539f\u56e0\u3002"
      ]
    },
    {
      "cell_type": "markdown",
      "metadata": {},
      "source": [
        "super() \u6709\u4e2a\u4ee4\u4eba\u5403\u60ca\u7684\u5730\u65b9\u662f\u5b83\u5e76\u4e0d\u4e00\u5b9a\u53bb\u67e5\u627e\u67d0\u4e2a\u7c7b\u5728MRO\u4e2d\u4e0b\u4e00\u4e2a\u76f4\u63a5\u7236\u7c7b\uff0c\n\u4f60\u751a\u81f3\u53ef\u4ee5\u5728\u4e00\u4e2a\u6ca1\u6709\u76f4\u63a5\u7236\u7c7b\u7684\u7c7b\u4e2d\u4f7f\u7528\u5b83\u3002\u4f8b\u5982\uff0c\u8003\u8651\u5982\u4e0b\u8fd9\u4e2a\u7c7b\uff1a"
      ]
    },
    {
      "cell_type": "code",
      "execution_count": null,
      "metadata": {},
      "outputs": [],
      "source": [
        "class A:\n    def spam(self):\n        print('A.spam')\n        super().spam()"
      ]
    },
    {
      "cell_type": "markdown",
      "metadata": {},
      "source": [
        "\u5982\u679c\u4f60\u8bd5\u7740\u76f4\u63a5\u4f7f\u7528\u8fd9\u4e2a\u7c7b\u5c31\u4f1a\u51fa\u9519\uff1a"
      ]
    },
    {
      "cell_type": "code",
      "execution_count": null,
      "metadata": {},
      "outputs": [],
      "source": [
        "a = A()\na.spam()"
      ]
    },
    {
      "cell_type": "markdown",
      "metadata": {},
      "source": [
        "\u4f46\u662f\uff0c\u5982\u679c\u4f60\u4f7f\u7528\u591a\u7ee7\u627f\u7684\u8bdd\u770b\u770b\u4f1a\u53d1\u751f\u4ec0\u4e48\uff1a"
      ]
    },
    {
      "cell_type": "code",
      "execution_count": null,
      "metadata": {},
      "outputs": [],
      "source": [
        "class B:\n    def spam(self):\n        print('B.spam')\nclass C(A,B):\n    pass\nc = C()\nc.spam()"
      ]
    },
    {
      "cell_type": "markdown",
      "metadata": {},
      "source": [
        "\u4f60\u53ef\u4ee5\u770b\u5230\u5728\u7c7bA\u4e2d\u4f7f\u7528 super().spam() \u5b9e\u9645\u4e0a\u8c03\u7528\u7684\u662f\u8ddf\u7c7bA\u6beb\u65e0\u5173\u7cfb\u7684\u7c7bB\u4e2d\u7684 spam() \u65b9\u6cd5\u3002\n\u8fd9\u4e2a\u7528\u7c7bC\u7684MRO\u5217\u8868\u5c31\u53ef\u4ee5\u5b8c\u5168\u89e3\u91ca\u6e05\u695a\u4e86\uff1a"
      ]
    },
    {
      "cell_type": "code",
      "execution_count": null,
      "metadata": {},
      "outputs": [],
      "source": [
        "C.__mro__"
      ]
    },
    {
      "cell_type": "markdown",
      "metadata": {},
      "source": [
        "\u5728\u5b9a\u4e49\u6df7\u5165\u7c7b\u7684\u65f6\u5019\u8fd9\u6837\u4f7f\u7528 super() \u662f\u5f88\u666e\u904d\u7684\u3002\u53ef\u4ee5\u53c2\u80038.13\u548c8.18\u5c0f\u8282\u3002"
      ]
    },
    {
      "cell_type": "markdown",
      "metadata": {},
      "source": [
        "\u7136\u800c\uff0c\u7531\u4e8e super() \u53ef\u80fd\u4f1a\u8c03\u7528\u4e0d\u662f\u4f60\u60f3\u8981\u7684\u65b9\u6cd5\uff0c\u4f60\u5e94\u8be5\u9075\u5faa\u4e00\u4e9b\u901a\u7528\u539f\u5219\u3002\n\u9996\u5148\uff0c\u786e\u4fdd\u5728\u7ee7\u627f\u4f53\u7cfb\u4e2d\u6240\u6709\u76f8\u540c\u540d\u5b57\u7684\u65b9\u6cd5\u62e5\u6709\u53ef\u517c\u5bb9\u7684\u53c2\u6570\u7b7e\u540d(\u6bd4\u5982\u76f8\u540c\u7684\u53c2\u6570\u4e2a\u6570\u548c\u53c2\u6570\u540d\u79f0)\u3002\n\u8fd9\u6837\u53ef\u4ee5\u786e\u4fdd super() \u8c03\u7528\u4e00\u4e2a\u975e\u76f4\u63a5\u7236\u7c7b\u65b9\u6cd5\u65f6\u4e0d\u4f1a\u51fa\u9519\u3002\n\u5176\u6b21\uff0c\u6700\u597d\u786e\u4fdd\u6700\u9876\u5c42\u7684\u7c7b\u63d0\u4f9b\u4e86\u8fd9\u4e2a\u65b9\u6cd5\u7684\u5b9e\u73b0\uff0c\u8fd9\u6837\u7684\u8bdd\u5728MRO\u4e0a\u9762\u7684\u67e5\u627e\u94fe\u80af\u5b9a\u53ef\u4ee5\u627e\u5230\u67d0\u4e2a\u786e\u5b9a\u7684\u65b9\u6cd5\u3002"
      ]
    },
    {
      "cell_type": "markdown",
      "metadata": {},
      "source": [
        "\u5728Python\u793e\u533a\u4e2d\u5bf9\u4e8e super() \u7684\u4f7f\u7528\u6709\u65f6\u5019\u4f1a\u5f15\u6765\u4e00\u4e9b\u4e89\u8bae\u3002\n\u5c3d\u7ba1\u5982\u6b64\uff0c\u5982\u679c\u4e00\u5207\u987a\u5229\u7684\u8bdd\uff0c\u4f60\u5e94\u8be5\u5728\u4f60\u6700\u65b0\u4ee3\u7801\u4e2d\u4f7f\u7528\u5b83\u3002\nRaymond Hettinger\u4e3a\u6b64\u5199\u4e86\u4e00\u7bc7\u975e\u5e38\u597d\u7684\u6587\u7ae0\n\u201cPython\u2019s super() Considered Super!\u201d \uff0c\n\u901a\u8fc7\u5927\u91cf\u7684\u4f8b\u5b50\u5411\u6211\u4eec\u89e3\u91ca\u4e86\u4e3a\u4ec0\u4e48 super() \u662f\u6781\u597d\u7684\u3002"
      ]
    }
  ],
  "metadata": {
    "kernelspec": {
      "display_name": "Python 3",
      "language": "python",
      "name": "python3"
    },
    "language_info": {
      "codemirror_mode": {
        "name": "ipython",
        "version": 3
      },
      "file_extension": ".py",
      "mimetype": "text/x-python",
      "name": "python",
      "nbconvert_exporter": "python",
      "pygments_lexer": "ipython3",
      "version": "3.7.1"
    },
    "toc": {
      "base_numbering": 1,
      "nav_menu": {},
      "number_sections": true,
      "sideBar": true,
      "skip_h1_title": true,
      "title_cell": "Table of Contents",
      "title_sidebar": "Contents",
      "toc_cell": false,
      "toc_position": {},
      "toc_section_display": true,
      "toc_window_display": true
    }
  },
  "nbformat": 4,
  "nbformat_minor": 2
}