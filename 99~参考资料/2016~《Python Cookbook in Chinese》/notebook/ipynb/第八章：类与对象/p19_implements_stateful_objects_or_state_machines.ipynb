{
  "cells": [
    {
      "cell_type": "markdown",
      "metadata": {},
      "source": [
        "## 8.19 \u5b9e\u73b0\u72b6\u6001\u5bf9\u8c61\u6216\u8005\u72b6\u6001\u673a\n"
      ]
    },
    {
      "cell_type": "markdown",
      "metadata": {},
      "source": [
        "### \u95ee\u9898\n"
      ]
    },
    {
      "cell_type": "markdown",
      "metadata": {},
      "source": [
        "\u4f60\u60f3\u5b9e\u73b0\u4e00\u4e2a\u72b6\u6001\u673a\u6216\u8005\u662f\u5728\u4e0d\u540c\u72b6\u6001\u4e0b\u6267\u884c\u64cd\u4f5c\u7684\u5bf9\u8c61\uff0c\u4f46\u662f\u53c8\u4e0d\u60f3\u5728\u4ee3\u7801\u4e2d\u51fa\u73b0\u592a\u591a\u7684\u6761\u4ef6\u5224\u65ad\u8bed\u53e5\u3002"
      ]
    },
    {
      "cell_type": "markdown",
      "metadata": {},
      "source": [
        "### \u89e3\u51b3\u65b9\u6848\n"
      ]
    },
    {
      "cell_type": "markdown",
      "metadata": {},
      "source": [
        "\u5728\u5f88\u591a\u7a0b\u5e8f\u4e2d\uff0c\u6709\u4e9b\u5bf9\u8c61\u4f1a\u6839\u636e\u72b6\u6001\u7684\u4e0d\u540c\u6765\u6267\u884c\u4e0d\u540c\u7684\u64cd\u4f5c\u3002\u6bd4\u5982\u8003\u8651\u5982\u4e0b\u7684\u4e00\u4e2a\u8fde\u63a5\u5bf9\u8c61\uff1a"
      ]
    },
    {
      "cell_type": "code",
      "execution_count": null,
      "metadata": {},
      "outputs": [],
      "source": [
        "class Connection:\n    \"\"\"\u666e\u901a\u65b9\u6848\uff0c\u597d\u591a\u4e2a\u5224\u65ad\u8bed\u53e5\uff0c\u6548\u7387\u4f4e\u4e0b~~\"\"\"\n\n    def __init__(self):\n        self.state = 'CLOSED'\n\n    def read(self):\n        if self.state != 'OPEN':\n            raise RuntimeError('Not open')\n        print('reading')\n\n    def write(self, data):\n        if self.state != 'OPEN':\n            raise RuntimeError('Not open')\n        print('writing')\n\n    def open(self):\n        if self.state == 'OPEN':\n            raise RuntimeError('Already open')\n        self.state = 'OPEN'\n\n    def close(self):\n        if self.state == 'CLOSED':\n            raise RuntimeError('Already closed')\n        self.state = 'CLOSED'"
      ]
    },
    {
      "cell_type": "markdown",
      "metadata": {},
      "source": [
        "\u8fd9\u6837\u5199\u6709\u5f88\u591a\u7f3a\u70b9\uff0c\u9996\u5148\u662f\u4ee3\u7801\u592a\u590d\u6742\u4e86\uff0c\u597d\u591a\u7684\u6761\u4ef6\u5224\u65ad\u3002\u5176\u6b21\u662f\u6267\u884c\u6548\u7387\u53d8\u4f4e\uff0c\n\u56e0\u4e3a\u4e00\u4e9b\u5e38\u89c1\u7684\u64cd\u4f5c\u6bd4\u5982read()\u3001write()\u6bcf\u6b21\u6267\u884c\u524d\u90fd\u9700\u8981\u6267\u884c\u68c0\u67e5\u3002"
      ]
    },
    {
      "cell_type": "markdown",
      "metadata": {},
      "source": [
        "\u4e00\u4e2a\u66f4\u597d\u7684\u529e\u6cd5\u662f\u4e3a\u6bcf\u4e2a\u72b6\u6001\u5b9a\u4e49\u4e00\u4e2a\u5bf9\u8c61\uff1a"
      ]
    },
    {
      "cell_type": "code",
      "execution_count": null,
      "metadata": {},
      "outputs": [],
      "source": [
        "class Connection1:\n    \"\"\"\u65b0\u65b9\u6848\u2014\u2014\u5bf9\u6bcf\u4e2a\u72b6\u6001\u5b9a\u4e49\u4e00\u4e2a\u7c7b\"\"\"\n\n    def __init__(self):\n        self.new_state(ClosedConnectionState)\n\n    def new_state(self, newstate):\n        self._state = newstate\n        # Delegate to the state class\n\n    def read(self):\n        return self._state.read(self)\n\n    def write(self, data):\n        return self._state.write(self, data)\n\n    def open(self):\n        return self._state.open(self)\n\n    def close(self):\n        return self._state.close(self)\n\n\n# Connection state base class\nclass ConnectionState:\n    @staticmethod\n    def read(conn):\n        raise NotImplementedError()\n\n    @staticmethod\n    def write(conn, data):\n        raise NotImplementedError()\n\n    @staticmethod\n    def open(conn):\n        raise NotImplementedError()\n\n    @staticmethod\n    def close(conn):\n        raise NotImplementedError()\n\n\n# Implementation of different states\nclass ClosedConnectionState(ConnectionState):\n    @staticmethod\n    def read(conn):\n        raise RuntimeError('Not open')\n\n    @staticmethod\n    def write(conn, data):\n        raise RuntimeError('Not open')\n\n    @staticmethod\n    def open(conn):\n        conn.new_state(OpenConnectionState)\n\n    @staticmethod\n    def close(conn):\n        raise RuntimeError('Already closed')\n\n\nclass OpenConnectionState(ConnectionState):\n    @staticmethod\n    def read(conn):\n        print('reading')\n\n    @staticmethod\n    def write(conn, data):\n        print('writing')\n\n    @staticmethod\n    def open(conn):\n        raise RuntimeError('Already open')\n\n    @staticmethod\n    def close(conn):\n        conn.new_state(ClosedConnectionState)"
      ]
    },
    {
      "cell_type": "markdown",
      "metadata": {},
      "source": [
        "\u4e0b\u9762\u662f\u4f7f\u7528\u6f14\u793a\uff1a"
      ]
    },
    {
      "cell_type": "code",
      "execution_count": null,
      "metadata": {},
      "outputs": [],
      "source": [
        "c = Connection()\nc._state"
      ]
    },
    {
      "cell_type": "code",
      "execution_count": null,
      "metadata": {},
      "outputs": [],
      "source": [
        "c.read()"
      ]
    },
    {
      "cell_type": "code",
      "execution_count": null,
      "metadata": {},
      "outputs": [],
      "source": [
        "c.open()\nc._state"
      ]
    },
    {
      "cell_type": "code",
      "execution_count": null,
      "metadata": {},
      "outputs": [],
      "source": [
        "c.read()"
      ]
    },
    {
      "cell_type": "code",
      "execution_count": null,
      "metadata": {},
      "outputs": [],
      "source": [
        "c.write('hello')"
      ]
    },
    {
      "cell_type": "code",
      "execution_count": null,
      "metadata": {},
      "outputs": [],
      "source": [
        "c.close()\nc._state"
      ]
    },
    {
      "cell_type": "markdown",
      "metadata": {},
      "source": [
        "### \u8ba8\u8bba\n"
      ]
    },
    {
      "cell_type": "markdown",
      "metadata": {},
      "source": [
        "\u5982\u679c\u4ee3\u7801\u4e2d\u51fa\u73b0\u592a\u591a\u7684\u6761\u4ef6\u5224\u65ad\u8bed\u53e5\u7684\u8bdd\uff0c\u4ee3\u7801\u5c31\u4f1a\u53d8\u5f97\u96be\u4ee5\u7ef4\u62a4\u548c\u9605\u8bfb\u3002\n\u8fd9\u91cc\u7684\u89e3\u51b3\u65b9\u6848\u662f\u5c06\u6bcf\u4e2a\u72b6\u6001\u62bd\u53d6\u51fa\u6765\u5b9a\u4e49\u6210\u4e00\u4e2a\u7c7b\u3002"
      ]
    },
    {
      "cell_type": "markdown",
      "metadata": {},
      "source": [
        "\u8fd9\u91cc\u770b\u4e0a\u53bb\u6709\u70b9\u5947\u602a\uff0c\u6bcf\u4e2a\u72b6\u6001\u5bf9\u8c61\u90fd\u53ea\u6709\u9759\u6001\u65b9\u6cd5\uff0c\u5e76\u6ca1\u6709\u5b58\u50a8\u4efb\u4f55\u7684\u5b9e\u4f8b\u5c5e\u6027\u6570\u636e\u3002\n\u5b9e\u9645\u4e0a\uff0c\u6240\u6709\u72b6\u6001\u4fe1\u606f\u90fd\u53ea\u5b58\u50a8\u5728 Connection \u5b9e\u4f8b\u4e2d\u3002\n\u5728\u57fa\u7c7b\u4e2d\u5b9a\u4e49\u7684 NotImplementedError \u662f\u4e3a\u4e86\u786e\u4fdd\u5b50\u7c7b\u5b9e\u73b0\u4e86\u76f8\u5e94\u7684\u65b9\u6cd5\u3002\n\u8fd9\u91cc\u4f60\u6216\u8bb8\u8fd8\u60f3\u4f7f\u75288.12\u5c0f\u8282\u8bb2\u89e3\u7684\u62bd\u8c61\u57fa\u7c7b\u65b9\u5f0f\u3002"
      ]
    },
    {
      "cell_type": "markdown",
      "metadata": {},
      "source": [
        "\u8bbe\u8ba1\u6a21\u5f0f\u4e2d\u6709\u4e00\u79cd\u6a21\u5f0f\u53eb\u72b6\u6001\u6a21\u5f0f\uff0c\u8fd9\u4e00\u5c0f\u8282\u7b97\u662f\u4e00\u4e2a\u521d\u6b65\u5165\u95e8\uff01"
      ]
    }
  ],
  "metadata": {
    "kernelspec": {
      "display_name": "Python 3",
      "language": "python",
      "name": "python3"
    },
    "language_info": {
      "codemirror_mode": {
        "name": "ipython",
        "version": 3
      },
      "file_extension": ".py",
      "mimetype": "text/x-python",
      "name": "python",
      "nbconvert_exporter": "python",
      "pygments_lexer": "ipython3",
      "version": "3.7.1"
    },
    "toc": {
      "base_numbering": 1,
      "nav_menu": {},
      "number_sections": true,
      "sideBar": true,
      "skip_h1_title": true,
      "title_cell": "Table of Contents",
      "title_sidebar": "Contents",
      "toc_cell": false,
      "toc_position": {},
      "toc_section_display": true,
      "toc_window_display": true
    }
  },
  "nbformat": 4,
  "nbformat_minor": 2
}