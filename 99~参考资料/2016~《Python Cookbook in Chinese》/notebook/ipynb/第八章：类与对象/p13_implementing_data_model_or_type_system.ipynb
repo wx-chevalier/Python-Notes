{
  "cells": [
    {
      "cell_type": "markdown",
      "metadata": {},
      "source": [
        "## 8.13 \u5b9e\u73b0\u6570\u636e\u6a21\u578b\u7684\u7c7b\u578b\u7ea6\u675f\n"
      ]
    },
    {
      "cell_type": "markdown",
      "metadata": {},
      "source": [
        "### \u95ee\u9898\n"
      ]
    },
    {
      "cell_type": "markdown",
      "metadata": {},
      "source": [
        "\u4f60\u60f3\u5b9a\u4e49\u67d0\u4e9b\u5728\u5c5e\u6027\u8d4b\u503c\u4e0a\u9762\u6709\u9650\u5236\u7684\u6570\u636e\u7ed3\u6784\u3002"
      ]
    },
    {
      "cell_type": "markdown",
      "metadata": {},
      "source": [
        "### \u89e3\u51b3\u65b9\u6848\n"
      ]
    },
    {
      "cell_type": "markdown",
      "metadata": {},
      "source": [
        "\u5728\u8fd9\u4e2a\u95ee\u9898\u4e2d\uff0c\u4f60\u9700\u8981\u5728\u5bf9\u67d0\u4e9b\u5b9e\u4f8b\u5c5e\u6027\u8d4b\u503c\u65f6\u8fdb\u884c\u68c0\u67e5\u3002\n\u6240\u4ee5\u4f60\u8981\u81ea\u5b9a\u4e49\u5c5e\u6027\u8d4b\u503c\u51fd\u6570\uff0c\u8fd9\u79cd\u60c5\u51b5\u4e0b\u6700\u597d\u4f7f\u7528\u63cf\u8ff0\u5668\u3002"
      ]
    },
    {
      "cell_type": "markdown",
      "metadata": {},
      "source": [
        "\u4e0b\u9762\u7684\u4ee3\u7801\u4f7f\u7528\u63cf\u8ff0\u5668\u5b9e\u73b0\u4e86\u4e00\u4e2a\u7cfb\u7edf\u7c7b\u578b\u548c\u8d4b\u503c\u9a8c\u8bc1\u6846\u67b6\uff1a"
      ]
    },
    {
      "cell_type": "code",
      "execution_count": null,
      "metadata": {},
      "outputs": [],
      "source": [
        "# Base class. Uses a descriptor to set a value\nclass Descriptor:\n    def __init__(self, name=None, **opts):\n        self.name = name\n        for key, value in opts.items():\n            setattr(self, key, value)\n\n    def __set__(self, instance, value):\n        instance.__dict__[self.name] = value\n\n\n# Descriptor for enforcing types\nclass Typed(Descriptor):\n    expected_type = type(None)\n\n    def __set__(self, instance, value):\n        if not isinstance(value, self.expected_type):\n            raise TypeError('expected ' + str(self.expected_type))\n        super().__set__(instance, value)\n\n\n# Descriptor for enforcing values\nclass Unsigned(Descriptor):\n    def __set__(self, instance, value):\n        if value < 0:\n            raise ValueError('Expected >= 0')\n        super().__set__(instance, value)\n\n\nclass MaxSized(Descriptor):\n    def __init__(self, name=None, **opts):\n        if 'size' not in opts:\n            raise TypeError('missing size option')\n        super().__init__(name, **opts)\n\n    def __set__(self, instance, value):\n        if len(value) >= self.size:\n            raise ValueError('size must be < ' + str(self.size))\n        super().__set__(instance, value)"
      ]
    },
    {
      "cell_type": "markdown",
      "metadata": {},
      "source": [
        "\u8fd9\u4e9b\u7c7b\u5c31\u662f\u4f60\u8981\u521b\u5efa\u7684\u6570\u636e\u6a21\u578b\u6216\u7c7b\u578b\u7cfb\u7edf\u7684\u57fa\u7840\u6784\u5efa\u6a21\u5757\u3002\n\u4e0b\u9762\u5c31\u662f\u6211\u4eec\u5b9e\u9645\u5b9a\u4e49\u7684\u5404\u79cd\u4e0d\u540c\u7684\u6570\u636e\u7c7b\u578b\uff1a"
      ]
    },
    {
      "cell_type": "code",
      "execution_count": null,
      "metadata": {},
      "outputs": [],
      "source": [
        "class Integer(Typed):\n    expected_type = int\n\nclass UnsignedInteger(Integer, Unsigned):\n    pass\n\nclass Float(Typed):\n    expected_type = float\n\nclass UnsignedFloat(Float, Unsigned):\n    pass\n\nclass String(Typed):\n    expected_type = str\n\nclass SizedString(String, MaxSized):\n    pass"
      ]
    },
    {
      "cell_type": "markdown",
      "metadata": {},
      "source": [
        "\u7136\u540e\u4f7f\u7528\u8fd9\u4e9b\u81ea\u5b9a\u4e49\u6570\u636e\u7c7b\u578b\uff0c\u6211\u4eec\u5b9a\u4e49\u4e00\u4e2a\u7c7b\uff1a"
      ]
    },
    {
      "cell_type": "code",
      "execution_count": null,
      "metadata": {},
      "outputs": [],
      "source": [
        "class Stock:\n    # Specify constraints\n    name = SizedString('name', size=8)\n    shares = UnsignedInteger('shares')\n    price = UnsignedFloat('price')\n\n    def __init__(self, name, shares, price):\n        self.name = name\n        self.shares = shares\n        self.price = price"
      ]
    },
    {
      "cell_type": "markdown",
      "metadata": {},
      "source": [
        "\u7136\u540e\u6d4b\u8bd5\u8fd9\u4e2a\u7c7b\u7684\u5c5e\u6027\u8d4b\u503c\u7ea6\u675f\uff0c\u53ef\u53d1\u73b0\u5bf9\u67d0\u4e9b\u5c5e\u6027\u7684\u8d4b\u503c\u8fdd\u6cd5\u4e86\u7ea6\u675f\u662f\u4e0d\u5408\u6cd5\u7684\uff1a"
      ]
    },
    {
      "cell_type": "code",
      "execution_count": null,
      "metadata": {},
      "outputs": [],
      "source": [
        "s.name"
      ]
    },
    {
      "cell_type": "code",
      "execution_count": null,
      "metadata": {},
      "outputs": [],
      "source": [
        "s.shares = 75\ns.shares = -10"
      ]
    },
    {
      "cell_type": "code",
      "execution_count": null,
      "metadata": {},
      "outputs": [],
      "source": [
        "s.price = 'a lot'"
      ]
    },
    {
      "cell_type": "code",
      "execution_count": null,
      "metadata": {},
      "outputs": [],
      "source": [
        "s.name = 'ABRACADABRA'"
      ]
    },
    {
      "cell_type": "markdown",
      "metadata": {},
      "source": [
        "\u8fd8\u6709\u4e00\u4e9b\u6280\u672f\u53ef\u4ee5\u7b80\u5316\u4e0a\u9762\u7684\u4ee3\u7801\uff0c\u5176\u4e2d\u4e00\u79cd\u662f\u4f7f\u7528\u7c7b\u88c5\u9970\u5668\uff1a"
      ]
    },
    {
      "cell_type": "code",
      "execution_count": null,
      "metadata": {},
      "outputs": [],
      "source": [
        "# Class decorator to apply constraints\ndef check_attributes(**kwargs):\n    def decorate(cls):\n        for key, value in kwargs.items():\n            if isinstance(value, Descriptor):\n                value.name = key\n                setattr(cls, key, value)\n            else:\n                setattr(cls, key, value(key))\n        return cls\n\n    return decorate\n\n# Example\n@check_attributes(name=SizedString(size=8),\n                  shares=UnsignedInteger,\n                  price=UnsignedFloat)\nclass Stock:\n    def __init__(self, name, shares, price):\n        self.name = name\n        self.shares = shares\n        self.price = price"
      ]
    },
    {
      "cell_type": "markdown",
      "metadata": {},
      "source": [
        "\u53e6\u5916\u4e00\u79cd\u65b9\u5f0f\u662f\u4f7f\u7528\u5143\u7c7b\uff1a"
      ]
    },
    {
      "cell_type": "code",
      "execution_count": null,
      "metadata": {},
      "outputs": [],
      "source": [
        "# A metaclass that applies checking\nclass checkedmeta(type):\n    def __new__(cls, clsname, bases, methods):\n        # Attach attribute names to the descriptors\n        for key, value in methods.items():\n            if isinstance(value, Descriptor):\n                value.name = key\n        return type.__new__(cls, clsname, bases, methods)\n\n# Example\nclass Stock2(metaclass=checkedmeta):\n    name = SizedString(size=8)\n    shares = UnsignedInteger()\n    price = UnsignedFloat()\n\n    def __init__(self, name, shares, price):\n        self.name = name\n        self.shares = shares\n        self.price = price"
      ]
    },
    {
      "cell_type": "markdown",
      "metadata": {},
      "source": [
        "### \u8ba8\u8bba\n"
      ]
    },
    {
      "cell_type": "markdown",
      "metadata": {},
      "source": [
        "\u672c\u8282\u4f7f\u7528\u4e86\u5f88\u591a\u9ad8\u7ea7\u6280\u672f\uff0c\u5305\u62ec\u63cf\u8ff0\u5668\u3001\u6df7\u5165\u7c7b\u3001super() \u7684\u4f7f\u7528\u3001\u7c7b\u88c5\u9970\u5668\u548c\u5143\u7c7b\u3002\n\u4e0d\u53ef\u80fd\u5728\u8fd9\u91cc\u4e00\u4e00\u8be6\u7ec6\u5c55\u5f00\u6765\u8bb2\uff0c\u4f46\u662f\u53ef\u4ee5\u57288.9\u30018.18\u30019.19\u5c0f\u8282\u627e\u5230\u66f4\u591a\u4f8b\u5b50\u3002\n\u4f46\u662f\uff0c\u6211\u5728\u8fd9\u91cc\u8fd8\u662f\u8981\u63d0\u4e00\u4e0b\u51e0\u4e2a\u9700\u8981\u6ce8\u610f\u7684\u70b9\u3002"
      ]
    },
    {
      "cell_type": "markdown",
      "metadata": {},
      "source": [
        "\u9996\u5148\uff0c\u5728 Descriptor \u57fa\u7c7b\u4e2d\u4f60\u4f1a\u770b\u5230\u6709\u4e2a __set__() \u65b9\u6cd5\uff0c\u5374\u6ca1\u6709\u76f8\u5e94\u7684 __get__() \u65b9\u6cd5\u3002\n\u5982\u679c\u4e00\u4e2a\u63cf\u8ff0\u4ec5\u4ec5\u662f\u4ece\u5e95\u5c42\u5b9e\u4f8b\u5b57\u5178\u4e2d\u83b7\u53d6\u67d0\u4e2a\u5c5e\u6027\u503c\u7684\u8bdd\uff0c\u90a3\u4e48\u6ca1\u5fc5\u8981\u53bb\u5b9a\u4e49 __get__() \u65b9\u6cd5\u3002"
      ]
    },
    {
      "cell_type": "markdown",
      "metadata": {},
      "source": [
        "\u6240\u6709\u63cf\u8ff0\u5668\u7c7b\u90fd\u662f\u57fa\u4e8e\u6df7\u5165\u7c7b\u6765\u5b9e\u73b0\u7684\u3002\u6bd4\u5982 Unsigned \u548c MaxSized \u8981\u8ddf\u5176\u4ed6\u7ee7\u627f\u81ea Typed \u7c7b\u6df7\u5165\u3002\n\u8fd9\u91cc\u5229\u7528\u591a\u7ee7\u627f\u6765\u5b9e\u73b0\u76f8\u5e94\u7684\u529f\u80fd\u3002"
      ]
    },
    {
      "cell_type": "markdown",
      "metadata": {},
      "source": [
        "\u6df7\u5165\u7c7b\u7684\u4e00\u4e2a\u6bd4\u8f83\u96be\u7406\u89e3\u7684\u5730\u65b9\u662f\uff0c\u8c03\u7528 super() \u51fd\u6570\u65f6\uff0c\u4f60\u5e76\u4e0d\u77e5\u9053\u7a76\u7adf\u8981\u8c03\u7528\u54ea\u4e2a\u5177\u4f53\u7c7b\u3002\n\u4f60\u9700\u8981\u8ddf\u5176\u4ed6\u7c7b\u7ed3\u5408\u540e\u624d\u80fd\u6b63\u786e\u7684\u4f7f\u7528\uff0c\u4e5f\u5c31\u662f\u5fc5\u987b\u5408\u4f5c\u624d\u80fd\u4ea7\u751f\u6548\u679c\u3002"
      ]
    },
    {
      "cell_type": "markdown",
      "metadata": {},
      "source": [
        "\u4f7f\u7528\u7c7b\u88c5\u9970\u5668\u548c\u5143\u7c7b\u901a\u5e38\u53ef\u4ee5\u7b80\u5316\u4ee3\u7801\u3002\u4e0a\u9762\u4e24\u4e2a\u4f8b\u5b50\u4e2d\u4f60\u4f1a\u53d1\u73b0\u4f60\u53ea\u9700\u8981\u8f93\u5165\u4e00\u6b21\u5c5e\u6027\u540d\u5373\u53ef\u4e86\u3002"
      ]
    },
    {
      "cell_type": "code",
      "execution_count": null,
      "metadata": {},
      "outputs": [],
      "source": [
        "# Normal\nclass Point:\n    x = Integer('x')\n    y = Integer('y')\n\n# Metaclass\nclass Point(metaclass=checkedmeta):\n    x = Integer()\n    y = Integer()"
      ]
    },
    {
      "cell_type": "markdown",
      "metadata": {},
      "source": [
        "\u6240\u6709\u65b9\u6cd5\u4e2d\uff0c\u7c7b\u88c5\u9970\u5668\u65b9\u6848\u5e94\u8be5\u662f\u6700\u7075\u6d3b\u548c\u6700\u9ad8\u660e\u7684\u3002\n\u9996\u5148\uff0c\u5b83\u5e76\u4e0d\u4f9d\u8d56\u4efb\u4f55\u5176\u4ed6\u65b0\u7684\u6280\u672f\uff0c\u6bd4\u5982\u5143\u7c7b\u3002\u5176\u6b21\uff0c\u88c5\u9970\u5668\u53ef\u4ee5\u5f88\u5bb9\u6613\u7684\u6dfb\u52a0\u6216\u5220\u9664\u3002"
      ]
    },
    {
      "cell_type": "markdown",
      "metadata": {},
      "source": [
        "\u6700\u540e\uff0c\u88c5\u9970\u5668\u8fd8\u80fd\u4f5c\u4e3a\u6df7\u5165\u7c7b\u7684\u66ff\u4ee3\u6280\u672f\u6765\u5b9e\u73b0\u540c\u6837\u7684\u6548\u679c;"
      ]
    },
    {
      "cell_type": "code",
      "execution_count": null,
      "metadata": {},
      "outputs": [],
      "source": [
        "# Decorator for applying type checking\ndef Typed(expected_type, cls=None):\n    if cls is None:\n        return lambda cls: Typed(expected_type, cls)\n    super_set = cls.__set__\n\n    def __set__(self, instance, value):\n        if not isinstance(value, expected_type):\n            raise TypeError('expected ' + str(expected_type))\n        super_set(self, instance, value)\n\n    cls.__set__ = __set__\n    return cls\n\n\n# Decorator for unsigned values\ndef Unsigned(cls):\n    super_set = cls.__set__\n\n    def __set__(self, instance, value):\n        if value < 0:\n            raise ValueError('Expected >= 0')\n        super_set(self, instance, value)\n\n    cls.__set__ = __set__\n    return cls\n\n\n# Decorator for allowing sized values\ndef MaxSized(cls):\n    super_init = cls.__init__\n\n    def __init__(self, name=None, **opts):\n        if 'size' not in opts:\n            raise TypeError('missing size option')\n        super_init(self, name, **opts)\n\n    cls.__init__ = __init__\n\n    super_set = cls.__set__\n\n    def __set__(self, instance, value):\n        if len(value) >= self.size:\n            raise ValueError('size must be < ' + str(self.size))\n        super_set(self, instance, value)\n\n    cls.__set__ = __set__\n    return cls\n\n\n# Specialized descriptors\n@Typed(int)\nclass Integer(Descriptor):\n    pass\n\n\n@Unsigned\nclass UnsignedInteger(Integer):\n    pass\n\n\n@Typed(float)\nclass Float(Descriptor):\n    pass\n\n\n@Unsigned\nclass UnsignedFloat(Float):\n    pass\n\n\n@Typed(str)\nclass String(Descriptor):\n    pass\n\n\n@MaxSized\nclass SizedString(String):\n    pass"
      ]
    },
    {
      "cell_type": "markdown",
      "metadata": {},
      "source": [
        "\u8fd9\u79cd\u65b9\u5f0f\u5b9a\u4e49\u7684\u7c7b\u8ddf\u4e4b\u524d\u7684\u6548\u679c\u4e00\u6837\uff0c\u800c\u4e14\u6267\u884c\u901f\u5ea6\u4f1a\u66f4\u5feb\u3002\n\u8bbe\u7f6e\u4e00\u4e2a\u7b80\u5355\u7684\u7c7b\u578b\u5c5e\u6027\u7684\u503c\uff0c\u88c5\u9970\u5668\u65b9\u5f0f\u8981\u6bd4\u4e4b\u524d\u7684\u6df7\u5165\u7c7b\u7684\u65b9\u5f0f\u51e0\u4e4e\u5feb100%\u3002\n\u73b0\u5728\u4f60\u5e94\u8be5\u5e86\u5e78\u81ea\u5df1\u8bfb\u5b8c\u4e86\u672c\u8282\u5168\u90e8\u5185\u5bb9\u4e86\u5427\uff1f^_^"
      ]
    }
  ],
  "metadata": {
    "kernelspec": {
      "display_name": "Python 3",
      "language": "python",
      "name": "python3"
    },
    "language_info": {
      "codemirror_mode": {
        "name": "ipython",
        "version": 3
      },
      "file_extension": ".py",
      "mimetype": "text/x-python",
      "name": "python",
      "nbconvert_exporter": "python",
      "pygments_lexer": "ipython3",
      "version": "3.7.1"
    },
    "toc": {
      "base_numbering": 1,
      "nav_menu": {},
      "number_sections": true,
      "sideBar": true,
      "skip_h1_title": true,
      "title_cell": "Table of Contents",
      "title_sidebar": "Contents",
      "toc_cell": false,
      "toc_position": {},
      "toc_section_display": true,
      "toc_window_display": true
    }
  },
  "nbformat": 4,
  "nbformat_minor": 2
}