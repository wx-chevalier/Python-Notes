{
  "cells": [
    {
      "cell_type": "markdown",
      "metadata": {},
      "source": [
        "## 8.2 \u81ea\u5b9a\u4e49\u5b57\u7b26\u4e32\u7684\u683c\u5f0f\u5316\n"
      ]
    },
    {
      "cell_type": "markdown",
      "metadata": {},
      "source": [
        "### \u95ee\u9898\n"
      ]
    },
    {
      "cell_type": "markdown",
      "metadata": {},
      "source": [
        "\u4f60\u60f3\u901a\u8fc7 format() \u51fd\u6570\u548c\u5b57\u7b26\u4e32\u65b9\u6cd5\u4f7f\u5f97\u4e00\u4e2a\u5bf9\u8c61\u80fd\u652f\u6301\u81ea\u5b9a\u4e49\u7684\u683c\u5f0f\u5316\u3002"
      ]
    },
    {
      "cell_type": "markdown",
      "metadata": {},
      "source": [
        "### \u89e3\u51b3\u65b9\u6848\n"
      ]
    },
    {
      "cell_type": "markdown",
      "metadata": {},
      "source": [
        "\u4e3a\u4e86\u81ea\u5b9a\u4e49\u5b57\u7b26\u4e32\u7684\u683c\u5f0f\u5316\uff0c\u6211\u4eec\u9700\u8981\u5728\u7c7b\u4e0a\u9762\u5b9a\u4e49 __format__() \u65b9\u6cd5\u3002\u4f8b\u5982\uff1a"
      ]
    },
    {
      "cell_type": "code",
      "execution_count": null,
      "metadata": {},
      "outputs": [],
      "source": [
        "_formats = {\n    'ymd' : '{d.year}-{d.month}-{d.day}',\n    'mdy' : '{d.month}/{d.day}/{d.year}',\n    'dmy' : '{d.day}/{d.month}/{d.year}'\n    }\n\nclass Date:\n    def __init__(self, year, month, day):\n        self.year = year\n        self.month = month\n        self.day = day\n\n    def __format__(self, code):\n        if code == '':\n            code = 'ymd'\n        fmt = _formats[code]\n        return fmt.format(d=self)"
      ]
    },
    {
      "cell_type": "markdown",
      "metadata": {},
      "source": [
        "\u73b0\u5728 Date \u7c7b\u7684\u5b9e\u4f8b\u53ef\u4ee5\u652f\u6301\u683c\u5f0f\u5316\u64cd\u4f5c\u4e86\uff0c\u5982\u540c\u4e0b\u9762\u8fd9\u6837\uff1a"
      ]
    },
    {
      "cell_type": "code",
      "execution_count": null,
      "metadata": {},
      "outputs": [],
      "source": [
        "d = Date(2012, 12, 21)\nformat(d)"
      ]
    },
    {
      "cell_type": "code",
      "execution_count": null,
      "metadata": {},
      "outputs": [],
      "source": [
        "format(d, 'mdy')"
      ]
    },
    {
      "cell_type": "code",
      "execution_count": null,
      "metadata": {},
      "outputs": [],
      "source": [
        "'The date is {:ymd}'.format(d)"
      ]
    },
    {
      "cell_type": "code",
      "execution_count": null,
      "metadata": {},
      "outputs": [],
      "source": [
        "'The date is {:mdy}'.format(d)"
      ]
    },
    {
      "cell_type": "markdown",
      "metadata": {},
      "source": [
        "### \u8ba8\u8bba\n"
      ]
    },
    {
      "cell_type": "markdown",
      "metadata": {},
      "source": [
        "__format__() \u65b9\u6cd5\u7ed9Python\u7684\u5b57\u7b26\u4e32\u683c\u5f0f\u5316\u529f\u80fd\u63d0\u4f9b\u4e86\u4e00\u4e2a\u94a9\u5b50\u3002\n\u8fd9\u91cc\u9700\u8981\u7740\u91cd\u5f3a\u8c03\u7684\u662f\u683c\u5f0f\u5316\u4ee3\u7801\u7684\u89e3\u6790\u5de5\u4f5c\u5b8c\u5168\u7531\u7c7b\u81ea\u5df1\u51b3\u5b9a\u3002\u56e0\u6b64\uff0c\u683c\u5f0f\u5316\u4ee3\u7801\u53ef\u4ee5\u662f\u4efb\u4f55\u503c\u3002\n\u4f8b\u5982\uff0c\u53c2\u8003\u4e0b\u9762\u6765\u81ea datetime \u6a21\u5757\u4e2d\u7684\u4ee3\u7801\uff1a"
      ]
    },
    {
      "cell_type": "code",
      "execution_count": null,
      "metadata": {},
      "outputs": [],
      "source": [
        "from datetime import date\nd = date(2012, 12, 21)\nformat(d)"
      ]
    },
    {
      "cell_type": "code",
      "execution_count": null,
      "metadata": {},
      "outputs": [],
      "source": [
        "format(d,'%A, %B %d, %Y')"
      ]
    },
    {
      "cell_type": "code",
      "execution_count": null,
      "metadata": {},
      "outputs": [],
      "source": [
        "'The end is {:%d %b %Y}. Goodbye'.format(d)"
      ]
    },
    {
      "cell_type": "markdown",
      "metadata": {},
      "source": [
        "\u5bf9\u4e8e\u5185\u7f6e\u7c7b\u578b\u7684\u683c\u5f0f\u5316\u6709\u4e00\u4e9b\u6807\u51c6\u7684\u7ea6\u5b9a\u3002\n\u53ef\u4ee5\u53c2\u8003 string\u6a21\u5757\u6587\u6863 \u8bf4\u660e\u3002"
      ]
    }
  ],
  "metadata": {
    "kernelspec": {
      "display_name": "Python 3",
      "language": "python",
      "name": "python3"
    },
    "language_info": {
      "codemirror_mode": {
        "name": "ipython",
        "version": 3
      },
      "file_extension": ".py",
      "mimetype": "text/x-python",
      "name": "python",
      "nbconvert_exporter": "python",
      "pygments_lexer": "ipython3",
      "version": "3.7.1"
    },
    "toc": {
      "base_numbering": 1,
      "nav_menu": {},
      "number_sections": true,
      "sideBar": true,
      "skip_h1_title": true,
      "title_cell": "Table of Contents",
      "title_sidebar": "Contents",
      "toc_cell": false,
      "toc_position": {},
      "toc_section_display": true,
      "toc_window_display": true
    }
  },
  "nbformat": 4,
  "nbformat_minor": 2
}