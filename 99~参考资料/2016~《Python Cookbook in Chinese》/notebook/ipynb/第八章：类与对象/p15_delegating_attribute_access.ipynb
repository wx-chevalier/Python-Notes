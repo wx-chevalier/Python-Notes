{
  "cells": [
    {
      "cell_type": "markdown",
      "metadata": {},
      "source": [
        "## 8.15 \u5c5e\u6027\u7684\u4ee3\u7406\u8bbf\u95ee\n"
      ]
    },
    {
      "cell_type": "markdown",
      "metadata": {},
      "source": [
        "### \u95ee\u9898\n"
      ]
    },
    {
      "cell_type": "markdown",
      "metadata": {},
      "source": [
        "\u4f60\u60f3\u5c06\u67d0\u4e2a\u5b9e\u4f8b\u7684\u5c5e\u6027\u8bbf\u95ee\u4ee3\u7406\u5230\u5185\u90e8\u53e6\u4e00\u4e2a\u5b9e\u4f8b\u4e2d\u53bb\uff0c\u76ee\u7684\u53ef\u80fd\u662f\u4f5c\u4e3a\u7ee7\u627f\u7684\u4e00\u4e2a\u66ff\u4ee3\u65b9\u6cd5\u6216\u8005\u5b9e\u73b0\u4ee3\u7406\u6a21\u5f0f\u3002"
      ]
    },
    {
      "cell_type": "markdown",
      "metadata": {},
      "source": [
        "### \u89e3\u51b3\u65b9\u6848\n"
      ]
    },
    {
      "cell_type": "markdown",
      "metadata": {},
      "source": [
        "\u7b80\u5355\u6765\u8bf4\uff0c\u4ee3\u7406\u662f\u4e00\u79cd\u7f16\u7a0b\u6a21\u5f0f\uff0c\u5b83\u5c06\u67d0\u4e2a\u64cd\u4f5c\u8f6c\u79fb\u7ed9\u53e6\u5916\u4e00\u4e2a\u5bf9\u8c61\u6765\u5b9e\u73b0\u3002\n\u6700\u7b80\u5355\u7684\u5f62\u5f0f\u53ef\u80fd\u662f\u50cf\u4e0b\u9762\u8fd9\u6837\uff1a"
      ]
    },
    {
      "cell_type": "code",
      "execution_count": null,
      "metadata": {},
      "outputs": [],
      "source": [
        "class A:\n    def spam(self, x):\n        pass\n\n    def foo(self):\n        pass\n\n\nclass B1:\n    \"\"\"\u7b80\u5355\u7684\u4ee3\u7406\"\"\"\n\n    def __init__(self):\n        self._a = A()\n\n    def spam(self, x):\n        # Delegate to the internal self._a instance\n        return self._a.spam(x)\n\n    def foo(self):\n        # Delegate to the internal self._a instance\n        return self._a.foo()\n\n    def bar(self):\n        pass"
      ]
    },
    {
      "cell_type": "markdown",
      "metadata": {},
      "source": [
        "\u5982\u679c\u4ec5\u4ec5\u5c31\u4e24\u4e2a\u65b9\u6cd5\u9700\u8981\u4ee3\u7406\uff0c\u90a3\u4e48\u50cf\u8fd9\u6837\u5199\u5c31\u8db3\u591f\u4e86\u3002\u4f46\u662f\uff0c\u5982\u679c\u6709\u5927\u91cf\u7684\u65b9\u6cd5\u9700\u8981\u4ee3\u7406\uff0c\n\u90a3\u4e48\u4f7f\u7528 __getattr__() \u65b9\u6cd5\u6216\u8bb8\u6216\u66f4\u597d\u4e9b\uff1a"
      ]
    },
    {
      "cell_type": "code",
      "execution_count": null,
      "metadata": {},
      "outputs": [],
      "source": [
        "class B2:\n    \"\"\"\u4f7f\u7528__getattr__\u7684\u4ee3\u7406\uff0c\u4ee3\u7406\u65b9\u6cd5\u6bd4\u8f83\u591a\u65f6\u5019\"\"\"\n\n    def __init__(self):\n        self._a = A()\n\n    def bar(self):\n        pass\n\n    # Expose all of the methods defined on class A\n    def __getattr__(self, name):\n        \"\"\"\u8fd9\u4e2a\u65b9\u6cd5\u5728\u8bbf\u95ee\u7684attribute\u4e0d\u5b58\u5728\u7684\u65f6\u5019\u88ab\u8c03\u7528\n        the __getattr__() method is actually a fallback method\n        that only gets called when an attribute is not found\"\"\"\n        return getattr(self._a, name)"
      ]
    },
    {
      "cell_type": "markdown",
      "metadata": {},
      "source": [
        "__getattr__ \u65b9\u6cd5\u662f\u5728\u8bbf\u95eeattribute\u4e0d\u5b58\u5728\u7684\u65f6\u5019\u88ab\u8c03\u7528\uff0c\u4f7f\u7528\u6f14\u793a\uff1a"
      ]
    },
    {
      "cell_type": "code",
      "execution_count": null,
      "metadata": {},
      "outputs": [],
      "source": [
        "b = B()\nb.bar() # Calls B.bar() (exists on B)\nb.spam(42) # Calls B.__getattr__('spam') and delegates to A.spam"
      ]
    },
    {
      "cell_type": "markdown",
      "metadata": {},
      "source": [
        "\u53e6\u5916\u4e00\u4e2a\u4ee3\u7406\u4f8b\u5b50\u662f\u5b9e\u73b0\u4ee3\u7406\u6a21\u5f0f\uff0c\u4f8b\u5982\uff1a"
      ]
    },
    {
      "cell_type": "code",
      "execution_count": null,
      "metadata": {},
      "outputs": [],
      "source": [
        "# A proxy class that wraps around another object, but\n# exposes its public attributes\nclass Proxy:\n    def __init__(self, obj):\n        self._obj = obj\n\n    # Delegate attribute lookup to internal obj\n    def __getattr__(self, name):\n        print('getattr:', name)\n        return getattr(self._obj, name)\n\n    # Delegate attribute assignment\n    def __setattr__(self, name, value):\n        if name.startswith('_'):\n            super().__setattr__(name, value)\n        else:\n            print('setattr:', name, value)\n            setattr(self._obj, name, value)\n\n    # Delegate attribute deletion\n    def __delattr__(self, name):\n        if name.startswith('_'):\n            super().__delattr__(name)\n        else:\n            print('delattr:', name)\n            delattr(self._obj, name)"
      ]
    },
    {
      "cell_type": "markdown",
      "metadata": {},
      "source": [
        "\u4f7f\u7528\u8fd9\u4e2a\u4ee3\u7406\u7c7b\u65f6\uff0c\u4f60\u53ea\u9700\u8981\u7528\u5b83\u6765\u5305\u88c5\u4e0b\u5176\u4ed6\u7c7b\u5373\u53ef\uff1a"
      ]
    },
    {
      "cell_type": "code",
      "execution_count": null,
      "metadata": {},
      "outputs": [],
      "source": [
        "class Spam:\n    def __init__(self, x):\n        self.x = x\n\n    def bar(self, y):\n        print('Spam.bar:', self.x, y)\n\n# Create an instance\ns = Spam(2)\n# Create a proxy around it\np = Proxy(s)\n# Access the proxy\nprint(p.x)  # Outputs 2\np.bar(3)  # Outputs \"Spam.bar: 2 3\"\np.x = 37  # Changes s.x to 37"
      ]
    },
    {
      "cell_type": "markdown",
      "metadata": {},
      "source": [
        "\u901a\u8fc7\u81ea\u5b9a\u4e49\u5c5e\u6027\u8bbf\u95ee\u65b9\u6cd5\uff0c\u4f60\u53ef\u4ee5\u7528\u4e0d\u540c\u65b9\u5f0f\u81ea\u5b9a\u4e49\u4ee3\u7406\u7c7b\u884c\u4e3a(\u6bd4\u5982\u52a0\u5165\u65e5\u5fd7\u529f\u80fd\u3001\u53ea\u8bfb\u8bbf\u95ee\u7b49)\u3002"
      ]
    },
    {
      "cell_type": "markdown",
      "metadata": {},
      "source": [
        "### \u8ba8\u8bba\n"
      ]
    },
    {
      "cell_type": "markdown",
      "metadata": {},
      "source": [
        "\u4ee3\u7406\u7c7b\u6709\u65f6\u5019\u53ef\u4ee5\u4f5c\u4e3a\u7ee7\u627f\u7684\u66ff\u4ee3\u65b9\u6848\u3002\u4f8b\u5982\uff0c\u4e00\u4e2a\u7b80\u5355\u7684\u7ee7\u627f\u5982\u4e0b\uff1a"
      ]
    },
    {
      "cell_type": "code",
      "execution_count": null,
      "metadata": {},
      "outputs": [],
      "source": [
        "class A:\n    def spam(self, x):\n        print('A.spam', x)\n    def foo(self):\n        print('A.foo')\n\nclass B(A):\n    def spam(self, x):\n        print('B.spam')\n        super().spam(x)\n    def bar(self):\n        print('B.bar')"
      ]
    },
    {
      "cell_type": "markdown",
      "metadata": {},
      "source": [
        "\u4f7f\u7528\u4ee3\u7406\u7684\u8bdd\uff0c\u5c31\u662f\u4e0b\u9762\u8fd9\u6837\uff1a"
      ]
    },
    {
      "cell_type": "code",
      "execution_count": null,
      "metadata": {},
      "outputs": [],
      "source": [
        "class A:\n    def spam(self, x):\n        print('A.spam', x)\n    def foo(self):\n        print('A.foo')\n\nclass B:\n    def __init__(self):\n        self._a = A()\n    def spam(self, x):\n        print('B.spam', x)\n        self._a.spam(x)\n    def bar(self):\n        print('B.bar')\n    def __getattr__(self, name):\n        return getattr(self._a, name)"
      ]
    },
    {
      "cell_type": "markdown",
      "metadata": {},
      "source": [
        "\u5f53\u5b9e\u73b0\u4ee3\u7406\u6a21\u5f0f\u65f6\uff0c\u8fd8\u6709\u4e9b\u7ec6\u8282\u9700\u8981\u6ce8\u610f\u3002\n\u9996\u5148\uff0c__getattr__() \u5b9e\u9645\u662f\u4e00\u4e2a\u540e\u5907\u65b9\u6cd5\uff0c\u53ea\u6709\u5728\u5c5e\u6027\u4e0d\u5b58\u5728\u65f6\u624d\u4f1a\u8c03\u7528\u3002\n\u56e0\u6b64\uff0c\u5982\u679c\u4ee3\u7406\u7c7b\u5b9e\u4f8b\u672c\u8eab\u6709\u8fd9\u4e2a\u5c5e\u6027\u7684\u8bdd\uff0c\u90a3\u4e48\u4e0d\u4f1a\u89e6\u53d1\u8fd9\u4e2a\u65b9\u6cd5\u7684\u3002\n\u53e6\u5916\uff0c__setattr__() \u548c __delattr__() \u9700\u8981\u989d\u5916\u7684\u9b54\u6cd5\u6765\u533a\u5206\u4ee3\u7406\u5b9e\u4f8b\u548c\u88ab\u4ee3\u7406\u5b9e\u4f8b _obj \u7684\u5c5e\u6027\u3002\n\u4e00\u4e2a\u901a\u5e38\u7684\u7ea6\u5b9a\u662f\u53ea\u4ee3\u7406\u90a3\u4e9b\u4e0d\u4ee5\u4e0b\u5212\u7ebf _ \u5f00\u5934\u7684\u5c5e\u6027(\u4ee3\u7406\u7c7b\u53ea\u66b4\u9732\u88ab\u4ee3\u7406\u7c7b\u7684\u516c\u5171\u5c5e\u6027)\u3002"
      ]
    },
    {
      "cell_type": "markdown",
      "metadata": {},
      "source": [
        "\u8fd8\u6709\u4e00\u70b9\u9700\u8981\u6ce8\u610f\u7684\u662f\uff0c__getattr__() \u5bf9\u4e8e\u5927\u90e8\u5206\u4ee5\u53cc\u4e0b\u5212\u7ebf(__)\u5f00\u59cb\u548c\u7ed3\u5c3e\u7684\u5c5e\u6027\u5e76\u4e0d\u9002\u7528\u3002\n\u6bd4\u5982\uff0c\u8003\u8651\u5982\u4e0b\u7684\u7c7b\uff1a"
      ]
    },
    {
      "cell_type": "code",
      "execution_count": null,
      "metadata": {},
      "outputs": [],
      "source": [
        "class ListLike:\n    \"\"\"__getattr__\u5bf9\u4e8e\u53cc\u4e0b\u5212\u7ebf\u5f00\u59cb\u548c\u7ed3\u5c3e\u7684\u65b9\u6cd5\u662f\u4e0d\u80fd\u7528\u7684\uff0c\u9700\u8981\u4e00\u4e2a\u4e2a\u53bb\u91cd\u5b9a\u4e49\"\"\"\n\n    def __init__(self):\n        self._items = []\n\n    def __getattr__(self, name):\n        return getattr(self._items, name)"
      ]
    },
    {
      "cell_type": "markdown",
      "metadata": {},
      "source": [
        "\u5982\u679c\u662f\u521b\u5efa\u4e00\u4e2aListLike\u5bf9\u8c61\uff0c\u4f1a\u53d1\u73b0\u5b83\u652f\u6301\u666e\u901a\u7684\u5217\u8868\u65b9\u6cd5\uff0c\u5982append()\u548cinsert()\uff0c\n\u4f46\u662f\u5374\u4e0d\u652f\u6301len()\u3001\u5143\u7d20\u67e5\u627e\u7b49\u3002\u4f8b\u5982\uff1a"
      ]
    },
    {
      "cell_type": "code",
      "execution_count": null,
      "metadata": {},
      "outputs": [],
      "source": [
        "a = ListLike()\na.append(2)\na.insert(0, 1)\na.sort()\nlen(a)"
      ]
    },
    {
      "cell_type": "code",
      "execution_count": null,
      "metadata": {},
      "outputs": [],
      "source": [
        "a[0]"
      ]
    },
    {
      "cell_type": "markdown",
      "metadata": {},
      "source": [
        "\u4e3a\u4e86\u8ba9\u5b83\u652f\u6301\u8fd9\u4e9b\u65b9\u6cd5\uff0c\u4f60\u5fc5\u987b\u624b\u52a8\u7684\u5b9e\u73b0\u8fd9\u4e9b\u65b9\u6cd5\u4ee3\u7406\uff1a"
      ]
    },
    {
      "cell_type": "code",
      "execution_count": null,
      "metadata": {},
      "outputs": [],
      "source": [
        "class ListLike:\n    \"\"\"__getattr__\u5bf9\u4e8e\u53cc\u4e0b\u5212\u7ebf\u5f00\u59cb\u548c\u7ed3\u5c3e\u7684\u65b9\u6cd5\u662f\u4e0d\u80fd\u7528\u7684\uff0c\u9700\u8981\u4e00\u4e2a\u4e2a\u53bb\u91cd\u5b9a\u4e49\"\"\"\n\n    def __init__(self):\n        self._items = []\n\n    def __getattr__(self, name):\n        return getattr(self._items, name)\n\n    # Added special methods to support certain list operations\n    def __len__(self):\n        return len(self._items)\n\n    def __getitem__(self, index):\n        return self._items[index]\n\n    def __setitem__(self, index, value):\n        self._items[index] = value\n\n    def __delitem__(self, index):\n        del self._items[index]"
      ]
    },
    {
      "cell_type": "markdown",
      "metadata": {},
      "source": [
        "11.8\u5c0f\u8282\u8fd8\u6709\u4e00\u4e2a\u5728\u8fdc\u7a0b\u65b9\u6cd5\u8c03\u7528\u73af\u5883\u4e2d\u4f7f\u7528\u4ee3\u7406\u7684\u4f8b\u5b50\u3002"
      ]
    }
  ],
  "metadata": {
    "kernelspec": {
      "display_name": "Python 3",
      "language": "python",
      "name": "python3"
    },
    "language_info": {
      "codemirror_mode": {
        "name": "ipython",
        "version": 3
      },
      "file_extension": ".py",
      "mimetype": "text/x-python",
      "name": "python",
      "nbconvert_exporter": "python",
      "pygments_lexer": "ipython3",
      "version": "3.7.1"
    },
    "toc": {
      "base_numbering": 1,
      "nav_menu": {},
      "number_sections": true,
      "sideBar": true,
      "skip_h1_title": true,
      "title_cell": "Table of Contents",
      "title_sidebar": "Contents",
      "toc_cell": false,
      "toc_position": {},
      "toc_section_display": true,
      "toc_window_display": true
    }
  },
  "nbformat": 4,
  "nbformat_minor": 2
}