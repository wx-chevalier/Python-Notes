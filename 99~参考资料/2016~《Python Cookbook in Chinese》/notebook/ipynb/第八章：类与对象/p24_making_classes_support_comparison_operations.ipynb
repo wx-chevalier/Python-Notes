{
  "cells": [
    {
      "cell_type": "markdown",
      "metadata": {},
      "source": [
        "## 8.24 \u8ba9\u7c7b\u652f\u6301\u6bd4\u8f83\u64cd\u4f5c\n"
      ]
    },
    {
      "cell_type": "markdown",
      "metadata": {},
      "source": [
        "### \u95ee\u9898\n"
      ]
    },
    {
      "cell_type": "markdown",
      "metadata": {},
      "source": [
        "\u4f60\u60f3\u8ba9\u67d0\u4e2a\u7c7b\u7684\u5b9e\u4f8b\u652f\u6301\u6807\u51c6\u7684\u6bd4\u8f83\u8fd0\u7b97(\u6bd4\u5982>=,!=,<=,<\u7b49)\uff0c\u4f46\u662f\u53c8\u4e0d\u60f3\u53bb\u5b9e\u73b0\u90a3\u4e00\u5927\u4e22\u7684\u7279\u6b8a\u65b9\u6cd5\u3002"
      ]
    },
    {
      "cell_type": "markdown",
      "metadata": {},
      "source": [
        "### \u89e3\u51b3\u65b9\u6848\n"
      ]
    },
    {
      "cell_type": "markdown",
      "metadata": {},
      "source": [
        "Python\u7c7b\u5bf9\u6bcf\u4e2a\u6bd4\u8f83\u64cd\u4f5c\u90fd\u9700\u8981\u5b9e\u73b0\u4e00\u4e2a\u7279\u6b8a\u65b9\u6cd5\u6765\u652f\u6301\u3002\n\u4f8b\u5982\u4e3a\u4e86\u652f\u6301>=\u64cd\u4f5c\u7b26\uff0c\u4f60\u9700\u8981\u5b9a\u4e49\u4e00\u4e2a __ge__() \u65b9\u6cd5\u3002\n\u5c3d\u7ba1\u5b9a\u4e49\u4e00\u4e2a\u65b9\u6cd5\u6ca1\u4ec0\u4e48\u95ee\u9898\uff0c\u4f46\u5982\u679c\u8981\u4f60\u5b9e\u73b0\u6240\u6709\u53ef\u80fd\u7684\u6bd4\u8f83\u65b9\u6cd5\u90a3\u5c31\u6709\u70b9\u70e6\u4eba\u4e86\u3002"
      ]
    },
    {
      "cell_type": "markdown",
      "metadata": {},
      "source": [
        "\u88c5\u9970\u5668 functools.total_ordering \u5c31\u662f\u7528\u6765\u7b80\u5316\u8fd9\u4e2a\u5904\u7406\u7684\u3002\n\u4f7f\u7528\u5b83\u6765\u88c5\u9970\u4e00\u4e2a\u6765\uff0c\u4f60\u53ea\u9700\u5b9a\u4e49\u4e00\u4e2a __eq__() \u65b9\u6cd5\uff0c\n\u5916\u52a0\u5176\u4ed6\u65b9\u6cd5(__lt__, __le__, __gt__, or __ge__)\u4e2d\u7684\u4e00\u4e2a\u5373\u53ef\u3002\n\u7136\u540e\u88c5\u9970\u5668\u4f1a\u81ea\u52a8\u4e3a\u4f60\u586b\u5145\u5176\u5b83\u6bd4\u8f83\u65b9\u6cd5\u3002"
      ]
    },
    {
      "cell_type": "markdown",
      "metadata": {},
      "source": [
        "\u4f5c\u4e3a\u4f8b\u5b50\uff0c\u6211\u4eec\u6784\u5efa\u4e00\u4e9b\u623f\u5b50\uff0c\u7136\u540e\u7ed9\u5b83\u4eec\u589e\u52a0\u4e00\u4e9b\u623f\u95f4\uff0c\u6700\u540e\u901a\u8fc7\u623f\u5b50\u5927\u5c0f\u6765\u6bd4\u8f83\u5b83\u4eec\uff1a"
      ]
    },
    {
      "cell_type": "code",
      "execution_count": null,
      "metadata": {},
      "outputs": [],
      "source": [
        "from functools import total_ordering\n\nclass Room:\n    def __init__(self, name, length, width):\n        self.name = name\n        self.length = length\n        self.width = width\n        self.square_feet = self.length * self.width\n\n@total_ordering\nclass House:\n    def __init__(self, name, style):\n        self.name = name\n        self.style = style\n        self.rooms = list()\n\n    @property\n    def living_space_footage(self):\n        return sum(r.square_feet for r in self.rooms)\n\n    def add_room(self, room):\n        self.rooms.append(room)\n\n    def __str__(self):\n        return '{}: {} square foot {}'.format(self.name,\n                self.living_space_footage,\n                self.style)\n\n    def __eq__(self, other):\n        return self.living_space_footage == other.living_space_footage\n\n    def __lt__(self, other):\n        return self.living_space_footage < other.living_space_footage"
      ]
    },
    {
      "cell_type": "markdown",
      "metadata": {},
      "source": [
        "\u8fd9\u91cc\u6211\u4eec\u53ea\u662f\u7ed9House\u7c7b\u5b9a\u4e49\u4e86\u4e24\u4e2a\u65b9\u6cd5\uff1a__eq__() \u548c __lt__() \uff0c\u5b83\u5c31\u80fd\u652f\u6301\u6240\u6709\u7684\u6bd4\u8f83\u64cd\u4f5c\uff1a"
      ]
    },
    {
      "cell_type": "code",
      "execution_count": null,
      "metadata": {},
      "outputs": [],
      "source": [
        "# Build a few houses, and add rooms to them\nh1 = House('h1', 'Cape')\nh1.add_room(Room('Master Bedroom', 14, 21))\nh1.add_room(Room('Living Room', 18, 20))\nh1.add_room(Room('Kitchen', 12, 16))\nh1.add_room(Room('Office', 12, 12))\nh2 = House('h2', 'Ranch')\nh2.add_room(Room('Master Bedroom', 14, 21))\nh2.add_room(Room('Living Room', 18, 20))\nh2.add_room(Room('Kitchen', 12, 16))\nh3 = House('h3', 'Split')\nh3.add_room(Room('Master Bedroom', 14, 21))\nh3.add_room(Room('Living Room', 18, 20))\nh3.add_room(Room('Office', 12, 16))\nh3.add_room(Room('Kitchen', 15, 17))\nhouses = [h1, h2, h3]\nprint('Is h1 bigger than h2?', h1 > h2) # prints True\nprint('Is h2 smaller than h3?', h2 < h3) # prints True\nprint('Is h2 greater than or equal to h1?', h2 >= h1) # Prints False\nprint('Which one is biggest?', max(houses)) # Prints 'h3: 1101-square-foot Split'\nprint('Which is smallest?', min(houses)) # Prints 'h2: 846-square-foot Ranch'"
      ]
    },
    {
      "cell_type": "markdown",
      "metadata": {},
      "source": [
        "### \u8ba8\u8bba\n"
      ]
    },
    {
      "cell_type": "markdown",
      "metadata": {},
      "source": [
        "\u5176\u5b9e total_ordering \u88c5\u9970\u5668\u4e5f\u6ca1\u90a3\u4e48\u795e\u79d8\u3002\n\u5b83\u5c31\u662f\u5b9a\u4e49\u4e86\u4e00\u4e2a\u4ece\u6bcf\u4e2a\u6bd4\u8f83\u652f\u6301\u65b9\u6cd5\u5230\u6240\u6709\u9700\u8981\u5b9a\u4e49\u7684\u5176\u4ed6\u65b9\u6cd5\u7684\u4e00\u4e2a\u6620\u5c04\u800c\u5df2\u3002\n\u6bd4\u5982\u4f60\u5b9a\u4e49\u4e86 __le__() \u65b9\u6cd5\uff0c\u90a3\u4e48\u5b83\u5c31\u88ab\u7528\u6765\u6784\u5efa\u6240\u6709\u5176\u4ed6\u7684\u9700\u8981\u5b9a\u4e49\u7684\u90a3\u4e9b\u7279\u6b8a\u65b9\u6cd5\u3002\n\u5b9e\u9645\u4e0a\u5c31\u662f\u5728\u7c7b\u91cc\u9762\u50cf\u4e0b\u9762\u8fd9\u6837\u5b9a\u4e49\u4e86\u4e00\u4e9b\u7279\u6b8a\u65b9\u6cd5\uff1a"
      ]
    },
    {
      "cell_type": "code",
      "execution_count": null,
      "metadata": {},
      "outputs": [],
      "source": [
        "class House:\n    def __eq__(self, other):\n        pass\n    def __lt__(self, other):\n        pass\n    # Methods created by @total_ordering\n    __le__ = lambda self, other: self < other or self == other\n    __gt__ = lambda self, other: not (self < other or self == other)\n    __ge__ = lambda self, other: not (self < other)\n    __ne__ = lambda self, other: not self == other"
      ]
    },
    {
      "cell_type": "markdown",
      "metadata": {},
      "source": [
        "\u5f53\u7136\uff0c\u4f60\u81ea\u5df1\u53bb\u5199\u4e5f\u5f88\u5bb9\u6613\uff0c\u4f46\u662f\u4f7f\u7528 @total_ordering \u53ef\u4ee5\u7b80\u5316\u4ee3\u7801\uff0c\u4f55\u4e50\u800c\u4e0d\u4e3a\u5462\u3002"
      ]
    }
  ],
  "metadata": {
    "kernelspec": {
      "display_name": "Python 3",
      "language": "python",
      "name": "python3"
    },
    "language_info": {
      "codemirror_mode": {
        "name": "ipython",
        "version": 3
      },
      "file_extension": ".py",
      "mimetype": "text/x-python",
      "name": "python",
      "nbconvert_exporter": "python",
      "pygments_lexer": "ipython3",
      "version": "3.7.1"
    },
    "toc": {
      "base_numbering": 1,
      "nav_menu": {},
      "number_sections": true,
      "sideBar": true,
      "skip_h1_title": true,
      "title_cell": "Table of Contents",
      "title_sidebar": "Contents",
      "toc_cell": false,
      "toc_position": {},
      "toc_section_display": true,
      "toc_window_display": true
    }
  },
  "nbformat": 4,
  "nbformat_minor": 2
}