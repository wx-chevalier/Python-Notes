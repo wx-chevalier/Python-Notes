{
  "cells": [
    {
      "cell_type": "markdown",
      "metadata": {},
      "source": [
        "## 8.12 \u5b9a\u4e49\u63a5\u53e3\u6216\u8005\u62bd\u8c61\u57fa\u7c7b\n"
      ]
    },
    {
      "cell_type": "markdown",
      "metadata": {},
      "source": [
        "### \u95ee\u9898\n"
      ]
    },
    {
      "cell_type": "markdown",
      "metadata": {},
      "source": [
        "\u4f60\u60f3\u5b9a\u4e49\u4e00\u4e2a\u63a5\u53e3\u6216\u62bd\u8c61\u7c7b\uff0c\u5e76\u4e14\u901a\u8fc7\u6267\u884c\u7c7b\u578b\u68c0\u67e5\u6765\u786e\u4fdd\u5b50\u7c7b\u5b9e\u73b0\u4e86\u67d0\u4e9b\u7279\u5b9a\u7684\u65b9\u6cd5"
      ]
    },
    {
      "cell_type": "markdown",
      "metadata": {},
      "source": [
        "### \u89e3\u51b3\u65b9\u6848\n"
      ]
    },
    {
      "cell_type": "markdown",
      "metadata": {},
      "source": [
        "\u4f7f\u7528 abc \u6a21\u5757\u53ef\u4ee5\u5f88\u8f7b\u677e\u7684\u5b9a\u4e49\u62bd\u8c61\u57fa\u7c7b\uff1a"
      ]
    },
    {
      "cell_type": "code",
      "execution_count": null,
      "metadata": {},
      "outputs": [],
      "source": [
        "from abc import ABCMeta, abstractmethod\n\nclass IStream(metaclass=ABCMeta):\n    @abstractmethod\n    def read(self, maxbytes=-1):\n        pass\n\n    @abstractmethod\n    def write(self, data):\n        pass"
      ]
    },
    {
      "cell_type": "markdown",
      "metadata": {},
      "source": [
        "\u62bd\u8c61\u7c7b\u7684\u4e00\u4e2a\u7279\u70b9\u662f\u5b83\u4e0d\u80fd\u76f4\u63a5\u88ab\u5b9e\u4f8b\u5316\uff0c\u6bd4\u5982\u4f60\u60f3\u50cf\u4e0b\u9762\u8fd9\u6837\u505a\u662f\u4e0d\u884c\u7684\uff1a"
      ]
    },
    {
      "cell_type": "code",
      "execution_count": null,
      "metadata": {},
      "outputs": [],
      "source": [
        "a = IStream() # TypeError: Can't instantiate abstract class\n                # IStream with abstract methods read, write"
      ]
    },
    {
      "cell_type": "markdown",
      "metadata": {},
      "source": [
        "\u62bd\u8c61\u7c7b\u7684\u76ee\u7684\u5c31\u662f\u8ba9\u522b\u7684\u7c7b\u7ee7\u627f\u5b83\u5e76\u5b9e\u73b0\u7279\u5b9a\u7684\u62bd\u8c61\u65b9\u6cd5\uff1a"
      ]
    },
    {
      "cell_type": "code",
      "execution_count": null,
      "metadata": {},
      "outputs": [],
      "source": [
        "class SocketStream(IStream):\n    def read(self, maxbytes=-1):\n        pass\n\n    def write(self, data):\n        pass"
      ]
    },
    {
      "cell_type": "markdown",
      "metadata": {},
      "source": [
        "\u62bd\u8c61\u57fa\u7c7b\u7684\u4e00\u4e2a\u4e3b\u8981\u7528\u9014\u662f\u5728\u4ee3\u7801\u4e2d\u68c0\u67e5\u67d0\u4e9b\u7c7b\u662f\u5426\u4e3a\u7279\u5b9a\u7c7b\u578b\uff0c\u5b9e\u73b0\u4e86\u7279\u5b9a\u63a5\u53e3\uff1a"
      ]
    },
    {
      "cell_type": "code",
      "execution_count": null,
      "metadata": {},
      "outputs": [],
      "source": [
        "def serialize(obj, stream):\n    if not isinstance(stream, IStream):\n        raise TypeError('Expected an IStream')\n    pass"
      ]
    },
    {
      "cell_type": "markdown",
      "metadata": {},
      "source": [
        "\u9664\u4e86\u7ee7\u627f\u8fd9\u79cd\u65b9\u5f0f\u5916\uff0c\u8fd8\u53ef\u4ee5\u901a\u8fc7\u6ce8\u518c\u65b9\u5f0f\u6765\u8ba9\u67d0\u4e2a\u7c7b\u5b9e\u73b0\u62bd\u8c61\u57fa\u7c7b\uff1a"
      ]
    },
    {
      "cell_type": "code",
      "execution_count": null,
      "metadata": {},
      "outputs": [],
      "source": [
        "import io\n\n# Register the built-in I/O classes as supporting our interface\nIStream.register(io.IOBase)\n\n# Open a normal file and type check\nf = open('foo.txt')\nisinstance(f, IStream) # Returns True"
      ]
    },
    {
      "cell_type": "markdown",
      "metadata": {},
      "source": [
        "@abstractmethod \u8fd8\u80fd\u6ce8\u89e3\u9759\u6001\u65b9\u6cd5\u3001\u7c7b\u65b9\u6cd5\u548c properties \u3002\n\u4f60\u53ea\u9700\u4fdd\u8bc1\u8fd9\u4e2a\u6ce8\u89e3\u7d27\u9760\u5728\u51fd\u6570\u5b9a\u4e49\u524d\u5373\u53ef\uff1a"
      ]
    },
    {
      "cell_type": "code",
      "execution_count": null,
      "metadata": {},
      "outputs": [],
      "source": [
        "class A(metaclass=ABCMeta):\n    @property\n    @abstractmethod\n    def name(self):\n        pass\n\n    @name.setter\n    @abstractmethod\n    def name(self, value):\n        pass\n\n    @classmethod\n    @abstractmethod\n    def method1(cls):\n        pass\n\n    @staticmethod\n    @abstractmethod\n    def method2():\n        pass"
      ]
    },
    {
      "cell_type": "markdown",
      "metadata": {},
      "source": [
        "### \u8ba8\u8bba\n"
      ]
    },
    {
      "cell_type": "markdown",
      "metadata": {},
      "source": [
        "\u6807\u51c6\u5e93\u4e2d\u6709\u5f88\u591a\u7528\u5230\u62bd\u8c61\u57fa\u7c7b\u7684\u5730\u65b9\u3002collections \u6a21\u5757\u5b9a\u4e49\u4e86\u5f88\u591a\u8ddf\u5bb9\u5668\u548c\u8fed\u4ee3\u5668(\u5e8f\u5217\u3001\u6620\u5c04\u3001\u96c6\u5408\u7b49)\u6709\u5173\u7684\u62bd\u8c61\u57fa\u7c7b\u3002\nnumbers \u5e93\u5b9a\u4e49\u4e86\u8ddf\u6570\u5b57\u5bf9\u8c61(\u6574\u6570\u3001\u6d6e\u70b9\u6570\u3001\u6709\u7406\u6570\u7b49)\u6709\u5173\u7684\u57fa\u7c7b\u3002io \u5e93\u5b9a\u4e49\u4e86\u5f88\u591a\u8ddfI/O\u64cd\u4f5c\u76f8\u5173\u7684\u57fa\u7c7b\u3002"
      ]
    },
    {
      "cell_type": "markdown",
      "metadata": {},
      "source": [
        "\u4f60\u53ef\u4ee5\u4f7f\u7528\u9884\u5b9a\u4e49\u7684\u62bd\u8c61\u7c7b\u6765\u6267\u884c\u66f4\u901a\u7528\u7684\u7c7b\u578b\u68c0\u67e5\uff0c\u4f8b\u5982\uff1a"
      ]
    },
    {
      "cell_type": "code",
      "execution_count": null,
      "metadata": {},
      "outputs": [],
      "source": [
        "import collections\n\n# Check if x is a sequence\nif isinstance(x, collections.Sequence):\n...\n\n# Check if x is iterable\nif isinstance(x, collections.Iterable):\n...\n\n# Check if x has a size\nif isinstance(x, collections.Sized):\n...\n\n# Check if x is a mapping\nif isinstance(x, collections.Mapping):"
      ]
    },
    {
      "cell_type": "markdown",
      "metadata": {},
      "source": [
        "\u5c3d\u7ba1ABCs\u53ef\u4ee5\u8ba9\u6211\u4eec\u5f88\u65b9\u4fbf\u7684\u505a\u7c7b\u578b\u68c0\u67e5\uff0c\u4f46\u662f\u6211\u4eec\u5728\u4ee3\u7801\u4e2d\u6700\u597d\u4e0d\u8981\u8fc7\u591a\u7684\u4f7f\u7528\u5b83\u3002\n\u56e0\u4e3aPython\u7684\u672c\u8d28\u662f\u4e00\u95e8\u52a8\u6001\u7f16\u7a0b\u8bed\u8a00\uff0c\u5176\u76ee\u7684\u5c31\u662f\u7ed9\u4f60\u66f4\u591a\u7075\u6d3b\u6027\uff0c\n\u5f3a\u5236\u7c7b\u578b\u68c0\u67e5\u6216\u8ba9\u4f60\u4ee3\u7801\u53d8\u5f97\u66f4\u590d\u6742\uff0c\u8fd9\u6837\u505a\u65e0\u5f02\u4e8e\u820d\u672c\u6c42\u672b\u3002"
      ]
    }
  ],
  "metadata": {
    "kernelspec": {
      "display_name": "Python 3",
      "language": "python",
      "name": "python3"
    },
    "language_info": {
      "codemirror_mode": {
        "name": "ipython",
        "version": 3
      },
      "file_extension": ".py",
      "mimetype": "text/x-python",
      "name": "python",
      "nbconvert_exporter": "python",
      "pygments_lexer": "ipython3",
      "version": "3.7.1"
    },
    "toc": {
      "base_numbering": 1,
      "nav_menu": {},
      "number_sections": true,
      "sideBar": true,
      "skip_h1_title": true,
      "title_cell": "Table of Contents",
      "title_sidebar": "Contents",
      "toc_cell": false,
      "toc_position": {},
      "toc_section_display": true,
      "toc_window_display": true
    }
  },
  "nbformat": 4,
  "nbformat_minor": 2
}