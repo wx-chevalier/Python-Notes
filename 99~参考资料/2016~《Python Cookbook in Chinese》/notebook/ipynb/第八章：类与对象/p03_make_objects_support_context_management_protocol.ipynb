{
  "cells": [
    {
      "cell_type": "markdown",
      "metadata": {},
      "source": [
        "## 8.3 \u8ba9\u5bf9\u8c61\u652f\u6301\u4e0a\u4e0b\u6587\u7ba1\u7406\u534f\u8bae\n"
      ]
    },
    {
      "cell_type": "markdown",
      "metadata": {},
      "source": [
        "### \u95ee\u9898\n"
      ]
    },
    {
      "cell_type": "markdown",
      "metadata": {},
      "source": [
        "\u4f60\u60f3\u8ba9\u4f60\u7684\u5bf9\u8c61\u652f\u6301\u4e0a\u4e0b\u6587\u7ba1\u7406\u534f\u8bae(with\u8bed\u53e5)\u3002"
      ]
    },
    {
      "cell_type": "markdown",
      "metadata": {},
      "source": [
        "### \u89e3\u51b3\u65b9\u6848\n"
      ]
    },
    {
      "cell_type": "markdown",
      "metadata": {},
      "source": [
        "\u4e3a\u4e86\u8ba9\u4e00\u4e2a\u5bf9\u8c61\u517c\u5bb9 with \u8bed\u53e5\uff0c\u4f60\u9700\u8981\u5b9e\u73b0 __enter__() \u548c __exit__() \u65b9\u6cd5\u3002\n\u4f8b\u5982\uff0c\u8003\u8651\u5982\u4e0b\u7684\u4e00\u4e2a\u7c7b\uff0c\u5b83\u80fd\u4e3a\u6211\u4eec\u521b\u5efa\u4e00\u4e2a\u7f51\u7edc\u8fde\u63a5\uff1a"
      ]
    },
    {
      "cell_type": "code",
      "execution_count": null,
      "metadata": {},
      "outputs": [],
      "source": [
        "from socket import socket, AF_INET, SOCK_STREAM\n\nclass LazyConnection:\n    def __init__(self, address, family=AF_INET, type=SOCK_STREAM):\n        self.address = address\n        self.family = family\n        self.type = type\n        self.sock = None\n\n    def __enter__(self):\n        if self.sock is not None:\n            raise RuntimeError('Already connected')\n        self.sock = socket(self.family, self.type)\n        self.sock.connect(self.address)\n        return self.sock\n\n    def __exit__(self, exc_ty, exc_val, tb):\n        self.sock.close()\n        self.sock = None"
      ]
    },
    {
      "cell_type": "markdown",
      "metadata": {},
      "source": [
        "\u8fd9\u4e2a\u7c7b\u7684\u5173\u952e\u7279\u70b9\u5728\u4e8e\u5b83\u8868\u793a\u4e86\u4e00\u4e2a\u7f51\u7edc\u8fde\u63a5\uff0c\u4f46\u662f\u521d\u59cb\u5316\u7684\u65f6\u5019\u5e76\u4e0d\u4f1a\u505a\u4efb\u4f55\u4e8b\u60c5(\u6bd4\u5982\u5b83\u5e76\u6ca1\u6709\u5efa\u7acb\u4e00\u4e2a\u8fde\u63a5)\u3002\n\u8fde\u63a5\u7684\u5efa\u7acb\u548c\u5173\u95ed\u662f\u4f7f\u7528 with \u8bed\u53e5\u81ea\u52a8\u5b8c\u6210\u7684\uff0c\u4f8b\u5982\uff1a"
      ]
    },
    {
      "cell_type": "code",
      "execution_count": null,
      "metadata": {},
      "outputs": [],
      "source": [
        "from functools import partial\n\nconn = LazyConnection(('www.python.org', 80))\n# Connection closed\nwith conn as s:\n    # conn.__enter__() executes: connection open\n    s.send(b'GET /index.html HTTP/1.0\\r\\n')\n    s.send(b'Host: www.python.org\\r\\n')\n    s.send(b'\\r\\n')\n    resp = b''.join(iter(partial(s.recv, 8192), b''))\n    # conn.__exit__() executes: connection closed"
      ]
    },
    {
      "cell_type": "markdown",
      "metadata": {},
      "source": [
        "### \u8ba8\u8bba\n"
      ]
    },
    {
      "cell_type": "markdown",
      "metadata": {},
      "source": [
        "\u7f16\u5199\u4e0a\u4e0b\u6587\u7ba1\u7406\u5668\u7684\u4e3b\u8981\u539f\u7406\u662f\u4f60\u7684\u4ee3\u7801\u4f1a\u653e\u5230 with \u8bed\u53e5\u5757\u4e2d\u6267\u884c\u3002\n\u5f53\u51fa\u73b0 with \u8bed\u53e5\u7684\u65f6\u5019\uff0c\u5bf9\u8c61\u7684 __enter__() \u65b9\u6cd5\u88ab\u89e6\u53d1\uff0c\n\u5b83\u8fd4\u56de\u7684\u503c(\u5982\u679c\u6709\u7684\u8bdd)\u4f1a\u88ab\u8d4b\u503c\u7ed9 as \u58f0\u660e\u7684\u53d8\u91cf\u3002\u7136\u540e\uff0cwith \u8bed\u53e5\u5757\u91cc\u9762\u7684\u4ee3\u7801\u5f00\u59cb\u6267\u884c\u3002\n\u6700\u540e\uff0c__exit__() \u65b9\u6cd5\u88ab\u89e6\u53d1\u8fdb\u884c\u6e05\u7406\u5de5\u4f5c\u3002"
      ]
    },
    {
      "cell_type": "markdown",
      "metadata": {},
      "source": [
        "\u4e0d\u7ba1 with \u4ee3\u7801\u5757\u4e2d\u53d1\u751f\u4ec0\u4e48\uff0c\u4e0a\u9762\u7684\u63a7\u5236\u6d41\u90fd\u4f1a\u6267\u884c\u5b8c\uff0c\u5c31\u7b97\u4ee3\u7801\u5757\u4e2d\u53d1\u751f\u4e86\u5f02\u5e38\u4e5f\u662f\u4e00\u6837\u7684\u3002\n\u4e8b\u5b9e\u4e0a\uff0c__exit__() \u65b9\u6cd5\u7684\u7b2c\u4e09\u4e2a\u53c2\u6570\u5305\u542b\u4e86\u5f02\u5e38\u7c7b\u578b\u3001\u5f02\u5e38\u503c\u548c\u8ffd\u6eaf\u4fe1\u606f(\u5982\u679c\u6709\u7684\u8bdd)\u3002\n__exit__() \u65b9\u6cd5\u80fd\u81ea\u5df1\u51b3\u5b9a\u600e\u6837\u5229\u7528\u8fd9\u4e2a\u5f02\u5e38\u4fe1\u606f\uff0c\u6216\u8005\u5ffd\u7565\u5b83\u5e76\u8fd4\u56de\u4e00\u4e2aNone\u503c\u3002\n\u5982\u679c __exit__() \u8fd4\u56de True \uff0c\u90a3\u4e48\u5f02\u5e38\u4f1a\u88ab\u6e05\u7a7a\uff0c\u5c31\u597d\u50cf\u4ec0\u4e48\u90fd\u6ca1\u53d1\u751f\u4e00\u6837\uff0c\nwith \u8bed\u53e5\u540e\u9762\u7684\u7a0b\u5e8f\u7ee7\u7eed\u5728\u6b63\u5e38\u6267\u884c\u3002"
      ]
    },
    {
      "cell_type": "markdown",
      "metadata": {},
      "source": [
        "\u8fd8\u6709\u4e00\u4e2a\u7ec6\u8282\u95ee\u9898\u5c31\u662f LazyConnection \u7c7b\u662f\u5426\u5141\u8bb8\u591a\u4e2a with \u8bed\u53e5\u6765\u5d4c\u5957\u4f7f\u7528\u8fde\u63a5\u3002\n\u5f88\u663e\u7136\uff0c\u4e0a\u9762\u7684\u5b9a\u4e49\u4e2d\u4e00\u6b21\u53ea\u80fd\u5141\u8bb8\u4e00\u4e2asocket\u8fde\u63a5\uff0c\u5982\u679c\u6b63\u5728\u4f7f\u7528\u4e00\u4e2asocket\u7684\u65f6\u5019\u53c8\u91cd\u590d\u4f7f\u7528 with \u8bed\u53e5\uff0c\n\u5c31\u4f1a\u4ea7\u751f\u4e00\u4e2a\u5f02\u5e38\u4e86\u3002\u4e0d\u8fc7\u4f60\u53ef\u4ee5\u50cf\u4e0b\u9762\u8fd9\u6837\u4fee\u6539\u4e0b\u4e0a\u9762\u7684\u5b9e\u73b0\u6765\u89e3\u51b3\u8fd9\u4e2a\u95ee\u9898\uff1a"
      ]
    },
    {
      "cell_type": "code",
      "execution_count": null,
      "metadata": {},
      "outputs": [],
      "source": [
        "from socket import socket, AF_INET, SOCK_STREAM\n\nclass LazyConnection:\n    def __init__(self, address, family=AF_INET, type=SOCK_STREAM):\n        self.address = address\n        self.family = family\n        self.type = type\n        self.connections = []\n\n    def __enter__(self):\n        sock = socket(self.family, self.type)\n        sock.connect(self.address)\n        self.connections.append(sock)\n        return sock\n\n    def __exit__(self, exc_ty, exc_val, tb):\n        self.connections.pop().close()\n\n# Example use\nfrom functools import partial\n\nconn = LazyConnection(('www.python.org', 80))\nwith conn as s1:\n    pass\n    with conn as s2:\n        pass\n        # s1 and s2 are independent sockets"
      ]
    },
    {
      "cell_type": "markdown",
      "metadata": {},
      "source": [
        "\u5728\u7b2c\u4e8c\u4e2a\u7248\u672c\u4e2d\uff0cLazyConnection \u7c7b\u53ef\u4ee5\u88ab\u770b\u505a\u662f\u67d0\u4e2a\u8fde\u63a5\u5de5\u5382\u3002\u5728\u5185\u90e8\uff0c\u4e00\u4e2a\u5217\u8868\u88ab\u7528\u6765\u6784\u9020\u4e00\u4e2a\u6808\u3002\n\u6bcf\u6b21 __enter__() \u65b9\u6cd5\u6267\u884c\u7684\u65f6\u5019\uff0c\u5b83\u590d\u5236\u521b\u5efa\u4e00\u4e2a\u65b0\u7684\u8fde\u63a5\u5e76\u5c06\u5176\u52a0\u5165\u5230\u6808\u91cc\u9762\u3002\n__exit__() \u65b9\u6cd5\u7b80\u5355\u7684\u4ece\u6808\u4e2d\u5f39\u51fa\u6700\u540e\u4e00\u4e2a\u8fde\u63a5\u5e76\u5173\u95ed\u5b83\u3002\n\u8fd9\u91cc\u7a0d\u5fae\u6709\u70b9\u96be\u7406\u89e3\uff0c\u4e0d\u8fc7\u5b83\u80fd\u5141\u8bb8\u5d4c\u5957\u4f7f\u7528 with \u8bed\u53e5\u521b\u5efa\u591a\u4e2a\u8fde\u63a5\uff0c\u5c31\u5982\u4e0a\u9762\u6f14\u793a\u7684\u90a3\u6837\u3002"
      ]
    },
    {
      "cell_type": "markdown",
      "metadata": {},
      "source": [
        "\u5728\u9700\u8981\u7ba1\u7406\u4e00\u4e9b\u8d44\u6e90\u6bd4\u5982\u6587\u4ef6\u3001\u7f51\u7edc\u8fde\u63a5\u548c\u9501\u7684\u7f16\u7a0b\u73af\u5883\u4e2d\uff0c\u4f7f\u7528\u4e0a\u4e0b\u6587\u7ba1\u7406\u5668\u662f\u5f88\u666e\u904d\u7684\u3002\n\u8fd9\u4e9b\u8d44\u6e90\u7684\u4e00\u4e2a\u4e3b\u8981\u7279\u5f81\u662f\u5b83\u4eec\u5fc5\u987b\u88ab\u624b\u52a8\u7684\u5173\u95ed\u6216\u91ca\u653e\u6765\u786e\u4fdd\u7a0b\u5e8f\u7684\u6b63\u786e\u8fd0\u884c\u3002\n\u4f8b\u5982\uff0c\u5982\u679c\u4f60\u8bf7\u6c42\u4e86\u4e00\u4e2a\u9501\uff0c\u90a3\u4e48\u4f60\u5fc5\u987b\u786e\u4fdd\u4e4b\u540e\u91ca\u653e\u4e86\u5b83\uff0c\u5426\u5219\u5c31\u53ef\u80fd\u4ea7\u751f\u6b7b\u9501\u3002\n\u901a\u8fc7\u5b9e\u73b0 __enter__() \u548c __exit__() \u65b9\u6cd5\u5e76\u4f7f\u7528 with \u8bed\u53e5\u53ef\u4ee5\u5f88\u5bb9\u6613\u7684\u907f\u514d\u8fd9\u4e9b\u95ee\u9898\uff0c\n\u56e0\u4e3a __exit__() \u65b9\u6cd5\u53ef\u4ee5\u8ba9\u4f60\u65e0\u9700\u62c5\u5fc3\u8fd9\u4e9b\u4e86\u3002"
      ]
    },
    {
      "cell_type": "markdown",
      "metadata": {},
      "source": [
        "\u5728 contextmanager \u6a21\u5757\u4e2d\u6709\u4e00\u4e2a\u6807\u51c6\u7684\u4e0a\u4e0b\u6587\u7ba1\u7406\u65b9\u6848\u6a21\u677f\uff0c\u53ef\u53c2\u80039.22\u5c0f\u8282\u3002\n\u540c\u65f6\u572812.6\u5c0f\u8282\u4e2d\u8fd8\u6709\u4e00\u4e2a\u5bf9\u672c\u8282\u793a\u4f8b\u7a0b\u5e8f\u7684\u7ebf\u7a0b\u5b89\u5168\u7684\u4fee\u6539\u7248\u3002"
      ]
    }
  ],
  "metadata": {
    "kernelspec": {
      "display_name": "Python 3",
      "language": "python",
      "name": "python3"
    },
    "language_info": {
      "codemirror_mode": {
        "name": "ipython",
        "version": 3
      },
      "file_extension": ".py",
      "mimetype": "text/x-python",
      "name": "python",
      "nbconvert_exporter": "python",
      "pygments_lexer": "ipython3",
      "version": "3.7.1"
    },
    "toc": {
      "base_numbering": 1,
      "nav_menu": {},
      "number_sections": true,
      "sideBar": true,
      "skip_h1_title": true,
      "title_cell": "Table of Contents",
      "title_sidebar": "Contents",
      "toc_cell": false,
      "toc_position": {},
      "toc_section_display": true,
      "toc_window_display": true
    }
  },
  "nbformat": 4,
  "nbformat_minor": 2
}