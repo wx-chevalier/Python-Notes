{
  "cells": [
    {
      "cell_type": "markdown",
      "metadata": {},
      "source": [
        "## 8.17 \u521b\u5efa\u4e0d\u8c03\u7528init\u65b9\u6cd5\u7684\u5b9e\u4f8b\n"
      ]
    },
    {
      "cell_type": "markdown",
      "metadata": {},
      "source": [
        "### \u95ee\u9898\n"
      ]
    },
    {
      "cell_type": "markdown",
      "metadata": {},
      "source": [
        "\u4f60\u60f3\u521b\u5efa\u4e00\u4e2a\u5b9e\u4f8b\uff0c\u4f46\u662f\u5e0c\u671b\u7ed5\u8fc7\u6267\u884c __init__() \u65b9\u6cd5\u3002"
      ]
    },
    {
      "cell_type": "markdown",
      "metadata": {},
      "source": [
        "### \u89e3\u51b3\u65b9\u6848\n"
      ]
    },
    {
      "cell_type": "markdown",
      "metadata": {},
      "source": [
        "\u53ef\u4ee5\u901a\u8fc7 __new__() \u65b9\u6cd5\u521b\u5efa\u4e00\u4e2a\u672a\u521d\u59cb\u5316\u7684\u5b9e\u4f8b\u3002\u4f8b\u5982\u8003\u8651\u5982\u4e0b\u8fd9\u4e2a\u7c7b\uff1a"
      ]
    },
    {
      "cell_type": "code",
      "execution_count": null,
      "metadata": {},
      "outputs": [],
      "source": [
        "class Date:\n    def __init__(self, year, month, day):\n        self.year = year\n        self.month = month\n        self.day = day"
      ]
    },
    {
      "cell_type": "markdown",
      "metadata": {},
      "source": [
        "\u4e0b\u9762\u6f14\u793a\u5982\u4f55\u4e0d\u8c03\u7528 __init__() \u65b9\u6cd5\u6765\u521b\u5efa\u8fd9\u4e2aDate\u5b9e\u4f8b\uff1a"
      ]
    },
    {
      "cell_type": "code",
      "execution_count": null,
      "metadata": {},
      "outputs": [],
      "source": [
        "d = Date.__new__(Date)\nd"
      ]
    },
    {
      "cell_type": "code",
      "execution_count": null,
      "metadata": {},
      "outputs": [],
      "source": [
        "d.year"
      ]
    },
    {
      "cell_type": "markdown",
      "metadata": {},
      "source": [
        "\u7ed3\u679c\u53ef\u4ee5\u770b\u5230\uff0c\u8fd9\u4e2aDate\u5b9e\u4f8b\u7684\u5c5e\u6027year\u8fd8\u4e0d\u5b58\u5728\uff0c\u6240\u4ee5\u4f60\u9700\u8981\u624b\u52a8\u521d\u59cb\u5316\uff1a"
      ]
    },
    {
      "cell_type": "code",
      "execution_count": null,
      "metadata": {},
      "outputs": [],
      "source": [
        "data = {'year':2012, 'month':8, 'day':29}\nfor key, value in data.items():\n    setattr(d, key, value)\nd.year"
      ]
    },
    {
      "cell_type": "code",
      "execution_count": null,
      "metadata": {},
      "outputs": [],
      "source": [
        "d.month"
      ]
    },
    {
      "cell_type": "markdown",
      "metadata": {},
      "source": [
        "### \u8ba8\u8bba\n"
      ]
    },
    {
      "cell_type": "markdown",
      "metadata": {},
      "source": [
        "\u5f53\u6211\u4eec\u5728\u53cd\u5e8f\u5217\u5bf9\u8c61\u6216\u8005\u5b9e\u73b0\u67d0\u4e2a\u7c7b\u65b9\u6cd5\u6784\u9020\u51fd\u6570\u65f6\u9700\u8981\u7ed5\u8fc7 __init__() \u65b9\u6cd5\u6765\u521b\u5efa\u5bf9\u8c61\u3002\n\u4f8b\u5982\uff0c\u5bf9\u4e8e\u4e0a\u9762\u7684Date\u6765\u8bb2\uff0c\u6709\u65f6\u5019\u4f60\u53ef\u80fd\u4f1a\u50cf\u4e0b\u9762\u8fd9\u6837\u5b9a\u4e49\u4e00\u4e2a\u65b0\u7684\u6784\u9020\u51fd\u6570 today() \uff1a"
      ]
    },
    {
      "cell_type": "code",
      "execution_count": null,
      "metadata": {},
      "outputs": [],
      "source": [
        "from time import localtime\n\nclass Date:\n    def __init__(self, year, month, day):\n        self.year = year\n        self.month = month\n        self.day = day\n\n    @classmethod\n    def today(cls):\n        d = cls.__new__(cls)\n        t = localtime()\n        d.year = t.tm_year\n        d.month = t.tm_mon\n        d.day = t.tm_mday\n        return d"
      ]
    },
    {
      "cell_type": "markdown",
      "metadata": {},
      "source": [
        "\u540c\u6837\uff0c\u5728\u4f60\u53cd\u5e8f\u5217\u5316JSON\u6570\u636e\u65f6\u4ea7\u751f\u4e00\u4e2a\u5982\u4e0b\u7684\u5b57\u5178\u5bf9\u8c61\uff1a"
      ]
    },
    {
      "cell_type": "code",
      "execution_count": null,
      "metadata": {},
      "outputs": [],
      "source": [
        "data = { 'year': 2012, 'month': 8, 'day': 29 }"
      ]
    },
    {
      "cell_type": "markdown",
      "metadata": {},
      "source": [
        "\u5982\u679c\u4f60\u60f3\u5c06\u5b83\u8f6c\u6362\u6210\u4e00\u4e2aDate\u7c7b\u578b\u5b9e\u4f8b\uff0c\u53ef\u4ee5\u4f7f\u7528\u4e0a\u9762\u7684\u6280\u672f\u3002"
      ]
    },
    {
      "cell_type": "markdown",
      "metadata": {},
      "source": [
        "\u5f53\u4f60\u901a\u8fc7\u8fd9\u79cd\u975e\u5e38\u89c4\u65b9\u5f0f\u6765\u521b\u5efa\u5b9e\u4f8b\u7684\u65f6\u5019\uff0c\u6700\u597d\u4e0d\u8981\u76f4\u63a5\u53bb\u8bbf\u95ee\u5e95\u5c42\u5b9e\u4f8b\u5b57\u5178\uff0c\u9664\u975e\u4f60\u771f\u7684\u6e05\u695a\u6240\u6709\u7ec6\u8282\u3002\n\u5426\u5219\u7684\u8bdd\uff0c\u5982\u679c\u8fd9\u4e2a\u7c7b\u4f7f\u7528\u4e86 __slots__ \u3001properties \u3001descriptors \u6216\u5176\u4ed6\u9ad8\u7ea7\u6280\u672f\u7684\u65f6\u5019\u4ee3\u7801\u5c31\u4f1a\u5931\u6548\u3002\n\u800c\u8fd9\u65f6\u5019\u4f7f\u7528 setattr() \u65b9\u6cd5\u4f1a\u8ba9\u4f60\u7684\u4ee3\u7801\u53d8\u5f97\u66f4\u52a0\u901a\u7528\u3002"
      ]
    }
  ],
  "metadata": {
    "kernelspec": {
      "display_name": "Python 3",
      "language": "python",
      "name": "python3"
    },
    "language_info": {
      "codemirror_mode": {
        "name": "ipython",
        "version": 3
      },
      "file_extension": ".py",
      "mimetype": "text/x-python",
      "name": "python",
      "nbconvert_exporter": "python",
      "pygments_lexer": "ipython3",
      "version": "3.7.1"
    },
    "toc": {
      "base_numbering": 1,
      "nav_menu": {},
      "number_sections": true,
      "sideBar": true,
      "skip_h1_title": true,
      "title_cell": "Table of Contents",
      "title_sidebar": "Contents",
      "toc_cell": false,
      "toc_position": {},
      "toc_section_display": true,
      "toc_window_display": true
    }
  },
  "nbformat": 4,
  "nbformat_minor": 2
}