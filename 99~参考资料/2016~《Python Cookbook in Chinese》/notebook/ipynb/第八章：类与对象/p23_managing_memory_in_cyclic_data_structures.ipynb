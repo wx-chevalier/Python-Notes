{
  "cells": [
    {
      "cell_type": "markdown",
      "metadata": {},
      "source": [
        "## 8.23 \u5faa\u73af\u5f15\u7528\u6570\u636e\u7ed3\u6784\u7684\u5185\u5b58\u7ba1\u7406\n"
      ]
    },
    {
      "cell_type": "markdown",
      "metadata": {},
      "source": [
        "### \u95ee\u9898\n"
      ]
    },
    {
      "cell_type": "markdown",
      "metadata": {},
      "source": [
        "\u4f60\u7684\u7a0b\u5e8f\u521b\u5efa\u4e86\u5f88\u591a\u5faa\u73af\u5f15\u7528\u6570\u636e\u7ed3\u6784(\u6bd4\u5982\u6811\u3001\u56fe\u3001\u89c2\u5bdf\u8005\u6a21\u5f0f\u7b49)\uff0c\u4f60\u78b0\u5230\u4e86\u5185\u5b58\u7ba1\u7406\u96be\u9898\u3002"
      ]
    },
    {
      "cell_type": "markdown",
      "metadata": {},
      "source": [
        "### \u89e3\u51b3\u65b9\u6848\n"
      ]
    },
    {
      "cell_type": "markdown",
      "metadata": {},
      "source": [
        "\u4e00\u4e2a\u7b80\u5355\u7684\u5faa\u73af\u5f15\u7528\u6570\u636e\u7ed3\u6784\u4f8b\u5b50\u5c31\u662f\u4e00\u4e2a\u6811\u5f62\u7ed3\u6784\uff0c\u53cc\u4eb2\u8282\u70b9\u6709\u6307\u9488\u6307\u5411\u5b69\u5b50\u8282\u70b9\uff0c\u5b69\u5b50\u8282\u70b9\u53c8\u8fd4\u56de\u6765\u6307\u5411\u53cc\u4eb2\u8282\u70b9\u3002\n\u8fd9\u79cd\u60c5\u51b5\u4e0b\uff0c\u53ef\u4ee5\u8003\u8651\u4f7f\u7528 weakref \u5e93\u4e2d\u7684\u5f31\u5f15\u7528\u3002\u4f8b\u5982\uff1a"
      ]
    },
    {
      "cell_type": "code",
      "execution_count": null,
      "metadata": {},
      "outputs": [],
      "source": [
        "import weakref\n\nclass Node:\n    def __init__(self, value):\n        self.value = value\n        self._parent = None\n        self.children = []\n\n    def __repr__(self):\n        return 'Node({!r:})'.format(self.value)\n\n    # property that manages the parent as a weak-reference\n    @property\n    def parent(self):\n        return None if self._parent is None else self._parent()\n\n    @parent.setter\n    def parent(self, node):\n        self._parent = weakref.ref(node)\n\n    def add_child(self, child):\n        self.children.append(child)\n        child.parent = self"
      ]
    },
    {
      "cell_type": "markdown",
      "metadata": {},
      "source": [
        "\u8fd9\u79cd\u662f\u60f3\u65b9\u5f0f\u5141\u8bb8parent\u9759\u9ed8\u7ec8\u6b62\u3002\u4f8b\u5982\uff1a"
      ]
    },
    {
      "cell_type": "code",
      "execution_count": null,
      "metadata": {},
      "outputs": [],
      "source": [
        "root = Node('parent')\nc1 = Node('child')\nroot.add_child(c1)\nprint(c1.parent)"
      ]
    },
    {
      "cell_type": "code",
      "execution_count": null,
      "metadata": {},
      "outputs": [],
      "source": [
        "del root\nprint(c1.parent)"
      ]
    },
    {
      "cell_type": "markdown",
      "metadata": {},
      "source": [
        "### \u8ba8\u8bba\n"
      ]
    },
    {
      "cell_type": "markdown",
      "metadata": {},
      "source": [
        "\u5faa\u73af\u5f15\u7528\u7684\u6570\u636e\u7ed3\u6784\u5728Python\u4e2d\u662f\u4e00\u4e2a\u5f88\u68d8\u624b\u7684\u95ee\u9898\uff0c\u56e0\u4e3a\u6b63\u5e38\u7684\u5783\u573e\u56de\u6536\u673a\u5236\u4e0d\u80fd\u9002\u7528\u4e8e\u8fd9\u79cd\u60c5\u5f62\u3002\n\u4f8b\u5982\u8003\u8651\u5982\u4e0b\u4ee3\u7801\uff1a"
      ]
    },
    {
      "cell_type": "code",
      "execution_count": null,
      "metadata": {},
      "outputs": [],
      "source": [
        "# Class just to illustrate when deletion occurs\nclass Data:\n    def __del__(self):\n        print('Data.__del__')\n\n# Node class involving a cycle\nclass Node:\n    def __init__(self):\n        self.data = Data()\n        self.parent = None\n        self.children = []\n\n    def add_child(self, child):\n        self.children.append(child)\n        child.parent = self"
      ]
    },
    {
      "cell_type": "markdown",
      "metadata": {},
      "source": [
        "\u4e0b\u9762\u6211\u4eec\u4f7f\u7528\u8fd9\u4e2a\u4ee3\u7801\u6765\u505a\u4e00\u4e9b\u5783\u573e\u56de\u6536\u8bd5\u9a8c\uff1a"
      ]
    },
    {
      "cell_type": "code",
      "execution_count": null,
      "metadata": {},
      "outputs": [],
      "source": [
        "a = Data()\ndel a # Immediately deleted"
      ]
    },
    {
      "cell_type": "code",
      "execution_count": null,
      "metadata": {},
      "outputs": [],
      "source": [
        "a = Node()\ndel a # Immediately deleted"
      ]
    },
    {
      "cell_type": "code",
      "execution_count": null,
      "metadata": {},
      "outputs": [],
      "source": [
        "a = Node()\na.add_child(Node())\ndel a # Not deleted (no message)"
      ]
    },
    {
      "cell_type": "markdown",
      "metadata": {},
      "source": [
        "\u53ef\u4ee5\u770b\u5230\uff0c\u6700\u540e\u4e00\u4e2a\u7684\u5220\u9664\u65f6\u6253\u5370\u8bed\u53e5\u6ca1\u6709\u51fa\u73b0\u3002\u539f\u56e0\u662fPython\u7684\u5783\u573e\u56de\u6536\u673a\u5236\u662f\u57fa\u4e8e\u7b80\u5355\u7684\u5f15\u7528\u8ba1\u6570\u3002\n\u5f53\u4e00\u4e2a\u5bf9\u8c61\u7684\u5f15\u7528\u6570\u53d8\u62100\u7684\u65f6\u5019\u624d\u4f1a\u7acb\u5373\u5220\u9664\u6389\u3002\u800c\u5bf9\u4e8e\u5faa\u73af\u5f15\u7528\u8fd9\u4e2a\u6761\u4ef6\u6c38\u8fdc\u4e0d\u4f1a\u6210\u7acb\u3002\n\u56e0\u6b64\uff0c\u5728\u4e0a\u9762\u4f8b\u5b50\u4e2d\u6700\u540e\u90e8\u5206\uff0c\u7236\u8282\u70b9\u548c\u5b69\u5b50\u8282\u70b9\u4e92\u76f8\u62e5\u6709\u5bf9\u65b9\u7684\u5f15\u7528\uff0c\u5bfc\u81f4\u6bcf\u4e2a\u5bf9\u8c61\u7684\u5f15\u7528\u8ba1\u6570\u90fd\u4e0d\u53ef\u80fd\u53d8\u62100\u3002"
      ]
    },
    {
      "cell_type": "markdown",
      "metadata": {},
      "source": [
        "Python\u6709\u53e6\u5916\u7684\u5783\u573e\u56de\u6536\u5668\u6765\u4e13\u95e8\u9488\u5bf9\u5faa\u73af\u5f15\u7528\u7684\uff0c\u4f46\u662f\u4f60\u6c38\u8fdc\u4e0d\u77e5\u9053\u5b83\u4ec0\u4e48\u65f6\u5019\u4f1a\u89e6\u53d1\u3002\n\u53e6\u5916\u4f60\u8fd8\u53ef\u4ee5\u624b\u52a8\u7684\u89e6\u53d1\u5b83\uff0c\u4f46\u662f\u4ee3\u7801\u770b\u4e0a\u53bb\u5f88\u632b\uff1a"
      ]
    },
    {
      "cell_type": "code",
      "execution_count": null,
      "metadata": {},
      "outputs": [],
      "source": [
        "import gc\ngc.collect() # Force collection"
      ]
    },
    {
      "cell_type": "markdown",
      "metadata": {},
      "source": [
        "\u5982\u679c\u5faa\u73af\u5f15\u7528\u7684\u5bf9\u8c61\u81ea\u5df1\u8fd8\u5b9a\u4e49\u4e86\u81ea\u5df1\u7684 __del__() \u65b9\u6cd5\uff0c\u90a3\u4e48\u4f1a\u8ba9\u60c5\u51b5\u53d8\u5f97\u66f4\u7cdf\u7cd5\u3002\n\u5047\u8bbe\u4f60\u50cf\u4e0b\u9762\u8fd9\u6837\u7ed9Node\u5b9a\u4e49\u81ea\u5df1\u7684 __del__() \u65b9\u6cd5\uff1a"
      ]
    },
    {
      "cell_type": "code",
      "execution_count": null,
      "metadata": {},
      "outputs": [],
      "source": [
        "# Node class involving a cycle\nclass Node:\n    def __init__(self):\n        self.data = Data()\n        self.parent = None\n        self.children = []\n\n    def add_child(self, child):\n        self.children.append(child)\n        child.parent = self\n\n    # NEVER DEFINE LIKE THIS.\n    # Only here to illustrate pathological behavior\n    def __del__(self):\n        del self.data\n        del.parent\n        del.children"
      ]
    },
    {
      "cell_type": "markdown",
      "metadata": {},
      "source": [
        "\u8fd9\u79cd\u60c5\u51b5\u4e0b\uff0c\u5783\u573e\u56de\u6536\u6c38\u8fdc\u90fd\u4e0d\u4f1a\u53bb\u56de\u6536\u8fd9\u4e2a\u5bf9\u8c61\u7684\uff0c\u8fd8\u4f1a\u5bfc\u81f4\u5185\u5b58\u6cc4\u9732\u3002\n\u5982\u679c\u4f60\u8bd5\u7740\u53bb\u8fd0\u884c\u5b83\u4f1a\u53d1\u73b0\uff0cData.__del__ \u6d88\u606f\u6c38\u8fdc\u4e0d\u4f1a\u51fa\u73b0\u4e86,\u751a\u81f3\u5728\u4f60\u5f3a\u5236\u5185\u5b58\u56de\u6536\u65f6\uff1a"
      ]
    },
    {
      "cell_type": "code",
      "execution_count": null,
      "metadata": {},
      "outputs": [],
      "source": [
        "a = Node()\na.add_child(Node()\ndel a # No message (not collected)\nimport gc\ngc.collect() # No message (not collected)"
      ]
    },
    {
      "cell_type": "markdown",
      "metadata": {},
      "source": [
        "\u5f31\u5f15\u7528\u6d88\u9664\u4e86\u5f15\u7528\u5faa\u73af\u7684\u8fd9\u4e2a\u95ee\u9898\uff0c\u672c\u8d28\u6765\u8bb2\uff0c\u5f31\u5f15\u7528\u5c31\u662f\u4e00\u4e2a\u5bf9\u8c61\u6307\u9488\uff0c\u5b83\u4e0d\u4f1a\u589e\u52a0\u5b83\u7684\u5f15\u7528\u8ba1\u6570\u3002\n\u4f60\u53ef\u4ee5\u901a\u8fc7 weakref \u6765\u521b\u5efa\u5f31\u5f15\u7528\u3002\u4f8b\u5982\uff1a"
      ]
    },
    {
      "cell_type": "code",
      "execution_count": null,
      "metadata": {},
      "outputs": [],
      "source": [
        "import weakref\na = Node()\na_ref = weakref.ref(a)\na_ref"
      ]
    },
    {
      "cell_type": "markdown",
      "metadata": {},
      "source": [
        "\u4e3a\u4e86\u8bbf\u95ee\u5f31\u5f15\u7528\u6240\u5f15\u7528\u7684\u5bf9\u8c61\uff0c\u4f60\u53ef\u4ee5\u50cf\u51fd\u6570\u4e00\u6837\u53bb\u8c03\u7528\u5b83\u5373\u53ef\u3002\u5982\u679c\u90a3\u4e2a\u5bf9\u8c61\u8fd8\u5b58\u5728\u5c31\u4f1a\u8fd4\u56de\u5b83\uff0c\u5426\u5219\u5c31\u8fd4\u56de\u4e00\u4e2aNone\u3002\n\u7531\u4e8e\u539f\u59cb\u5bf9\u8c61\u7684\u5f15\u7528\u8ba1\u6570\u6ca1\u6709\u589e\u52a0\uff0c\u90a3\u4e48\u5c31\u53ef\u4ee5\u53bb\u5220\u9664\u5b83\u4e86\u3002\u4f8b\u5982;"
      ]
    },
    {
      "cell_type": "code",
      "execution_count": null,
      "metadata": {},
      "outputs": [],
      "source": [
        "print(a_ref())"
      ]
    },
    {
      "cell_type": "code",
      "execution_count": null,
      "metadata": {},
      "outputs": [],
      "source": [
        "del a"
      ]
    },
    {
      "cell_type": "code",
      "execution_count": null,
      "metadata": {},
      "outputs": [],
      "source": [
        "print(a_ref())"
      ]
    },
    {
      "cell_type": "markdown",
      "metadata": {},
      "source": [
        "\u901a\u8fc7\u8fd9\u91cc\u6f14\u793a\u7684\u5f31\u5f15\u7528\u6280\u672f\uff0c\u4f60\u4f1a\u53d1\u73b0\u4e0d\u518d\u6709\u5faa\u73af\u5f15\u7528\u95ee\u9898\u4e86\uff0c\u4e00\u65e6\u67d0\u4e2a\u8282\u70b9\u4e0d\u88ab\u4f7f\u7528\u4e86\uff0c\u5783\u573e\u56de\u6536\u5668\u7acb\u5373\u56de\u6536\u5b83\u3002\n\u4f60\u8fd8\u80fd\u53c2\u80038.25\u5c0f\u8282\u5173\u4e8e\u5f31\u5f15\u7528\u7684\u53e6\u5916\u4e00\u4e2a\u4f8b\u5b50\u3002"
      ]
    }
  ],
  "metadata": {
    "kernelspec": {
      "display_name": "Python 3",
      "language": "python",
      "name": "python3"
    },
    "language_info": {
      "codemirror_mode": {
        "name": "ipython",
        "version": 3
      },
      "file_extension": ".py",
      "mimetype": "text/x-python",
      "name": "python",
      "nbconvert_exporter": "python",
      "pygments_lexer": "ipython3",
      "version": "3.7.1"
    },
    "toc": {
      "base_numbering": 1,
      "nav_menu": {},
      "number_sections": true,
      "sideBar": true,
      "skip_h1_title": true,
      "title_cell": "Table of Contents",
      "title_sidebar": "Contents",
      "toc_cell": false,
      "toc_position": {},
      "toc_section_display": true,
      "toc_window_display": true
    }
  },
  "nbformat": 4,
  "nbformat_minor": 2
}