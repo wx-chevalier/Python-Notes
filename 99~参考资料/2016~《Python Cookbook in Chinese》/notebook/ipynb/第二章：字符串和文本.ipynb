{
  "cells": [
    {
      "cell_type": "markdown",
      "metadata": {},
      "source": [
        "# \u7b2c\u4e8c\u7ae0\uff1a\u5b57\u7b26\u4e32\u548c\u6587\u672c\n \u51e0\u4e4e\u6240\u6709\u6709\u7528\u7684\u7a0b\u5e8f\u90fd\u4f1a\u6d89\u53ca\u5230\u67d0\u4e9b\u6587\u672c\u5904\u7406\uff0c\u4e0d\u7ba1\u662f\u89e3\u6790\u6570\u636e\u8fd8\u662f\u4ea7\u751f\u8f93\u51fa\u3002\n\u8fd9\u4e00\u7ae0\u5c06\u91cd\u70b9\u5173\u6ce8\u6587\u672c\u7684\u64cd\u4f5c\u5904\u7406\uff0c\u6bd4\u5982\u63d0\u53d6\u5b57\u7b26\u4e32\uff0c\u641c\u7d22\uff0c\u66ff\u6362\u4ee5\u53ca\u89e3\u6790\u7b49\u3002\n\u5927\u90e8\u5206\u7684\u95ee\u9898\u90fd\u80fd\u7b80\u5355\u7684\u8c03\u7528\u5b57\u7b26\u4e32\u7684\u5185\u5efa\u65b9\u6cd5\u5b8c\u6210\u3002\n\u4f46\u662f\uff0c\u4e00\u4e9b\u66f4\u4e3a\u590d\u6742\u7684\u64cd\u4f5c\u53ef\u80fd\u9700\u8981\u6b63\u5219\u8868\u8fbe\u5f0f\u6216\u8005\u5f3a\u5927\u7684\u89e3\u6790\u5668\uff0c\u6240\u6709\u8fd9\u4e9b\u4e3b\u9898\u6211\u4eec\u90fd\u4f1a\u8be6\u7ec6\u8bb2\u89e3\u3002\n\u5e76\u4e14\u5728\u64cd\u4f5cUnicode\u65f6\u5019\u78b0\u5230\u7684\u4e00\u4e9b\u68d8\u624b\u7684\u95ee\u9898\u5728\u8fd9\u91cc\u4e5f\u4f1a\u88ab\u63d0\u53ca\u5230\u3002"
      ]
    },
    {
      "cell_type": "markdown",
      "metadata": {},
      "source": [
        "## 2.1 \u4f7f\u7528\u591a\u4e2a\u754c\u5b9a\u7b26\u5206\u5272\u5b57\u7b26\u4e32\n"
      ]
    },
    {
      "cell_type": "markdown",
      "metadata": {},
      "source": [
        "### \u95ee\u9898\n"
      ]
    },
    {
      "cell_type": "markdown",
      "metadata": {},
      "source": [
        "\u4f60\u9700\u8981\u5c06\u4e00\u4e2a\u5b57\u7b26\u4e32\u5206\u5272\u4e3a\u591a\u4e2a\u5b57\u6bb5\uff0c\u4f46\u662f\u5206\u9694\u7b26(\u8fd8\u6709\u5468\u56f4\u7684\u7a7a\u683c)\u5e76\u4e0d\u662f\u56fa\u5b9a\u7684\u3002"
      ]
    },
    {
      "cell_type": "markdown",
      "metadata": {},
      "source": [
        "### \u89e3\u51b3\u65b9\u6848\n"
      ]
    },
    {
      "cell_type": "markdown",
      "metadata": {},
      "source": [
        "string \u5bf9\u8c61\u7684 split() \u65b9\u6cd5\u53ea\u9002\u5e94\u4e8e\u975e\u5e38\u7b80\u5355\u7684\u5b57\u7b26\u4e32\u5206\u5272\u60c5\u5f62\uff0c\n\u5b83\u5e76\u4e0d\u5141\u8bb8\u6709\u591a\u4e2a\u5206\u9694\u7b26\u6216\u8005\u662f\u5206\u9694\u7b26\u5468\u56f4\u4e0d\u786e\u5b9a\u7684\u7a7a\u683c\u3002\n\u5f53\u4f60\u9700\u8981\u66f4\u52a0\u7075\u6d3b\u7684\u5207\u5272\u5b57\u7b26\u4e32\u7684\u65f6\u5019\uff0c\u6700\u597d\u4f7f\u7528 re.split() \u65b9\u6cd5\uff1a"
      ]
    },
    {
      "cell_type": "code",
      "execution_count": null,
      "metadata": {},
      "outputs": [],
      "source": [
        "line = 'asdf fjdk; afed, fjek,asdf, foo'\nimport re\nre.split(r'[;,\\s]\\s*', line)"
      ]
    },
    {
      "cell_type": "markdown",
      "metadata": {},
      "source": [
        "### \u8ba8\u8bba\n"
      ]
    },
    {
      "cell_type": "markdown",
      "metadata": {},
      "source": [
        "\u51fd\u6570 re.split() \u662f\u975e\u5e38\u5b9e\u7528\u7684\uff0c\u56e0\u4e3a\u5b83\u5141\u8bb8\u4f60\u4e3a\u5206\u9694\u7b26\u6307\u5b9a\u591a\u4e2a\u6b63\u5219\u6a21\u5f0f\u3002\n\u6bd4\u5982\uff0c\u5728\u4e0a\u9762\u7684\u4f8b\u5b50\u4e2d\uff0c\u5206\u9694\u7b26\u53ef\u4ee5\u662f\u9017\u53f7\uff0c\u5206\u53f7\u6216\u8005\u662f\u7a7a\u683c\uff0c\u5e76\u4e14\u540e\u9762\u7d27\u8ddf\u7740\u4efb\u610f\u4e2a\u7684\u7a7a\u683c\u3002\n\u53ea\u8981\u8fd9\u4e2a\u6a21\u5f0f\u88ab\u627e\u5230\uff0c\u90a3\u4e48\u5339\u914d\u7684\u5206\u9694\u7b26\u4e24\u8fb9\u7684\u5b9e\u4f53\u90fd\u4f1a\u88ab\u5f53\u6210\u662f\u7ed3\u679c\u4e2d\u7684\u5143\u7d20\u8fd4\u56de\u3002\n\u8fd4\u56de\u7ed3\u679c\u4e3a\u4e00\u4e2a\u5b57\u6bb5\u5217\u8868\uff0c\u8fd9\u4e2a\u8ddf str.split() \u8fd4\u56de\u503c\u7c7b\u578b\u662f\u4e00\u6837\u7684\u3002"
      ]
    },
    {
      "cell_type": "markdown",
      "metadata": {},
      "source": [
        "\u5f53\u4f60\u4f7f\u7528 re.split() \u51fd\u6570\u65f6\u5019\uff0c\u9700\u8981\u7279\u522b\u6ce8\u610f\u7684\u662f\u6b63\u5219\u8868\u8fbe\u5f0f\u4e2d\u662f\u5426\u5305\u542b\u4e00\u4e2a\u62ec\u53f7\u6355\u83b7\u5206\u7ec4\u3002\n\u5982\u679c\u4f7f\u7528\u4e86\u6355\u83b7\u5206\u7ec4\uff0c\u90a3\u4e48\u88ab\u5339\u914d\u7684\u6587\u672c\u4e5f\u5c06\u51fa\u73b0\u5728\u7ed3\u679c\u5217\u8868\u4e2d\u3002\u6bd4\u5982\uff0c\u89c2\u5bdf\u4e00\u4e0b\u8fd9\u6bb5\u4ee3\u7801\u8fd0\u884c\u540e\u7684\u7ed3\u679c\uff1a"
      ]
    },
    {
      "cell_type": "code",
      "execution_count": null,
      "metadata": {},
      "outputs": [],
      "source": [
        "fields = re.split(r'(;|,|\\s)\\s*', line)\nfields"
      ]
    },
    {
      "cell_type": "markdown",
      "metadata": {},
      "source": [
        "\u83b7\u53d6\u5206\u5272\u5b57\u7b26\u5728\u67d0\u4e9b\u60c5\u51b5\u4e0b\u4e5f\u662f\u6709\u7528\u7684\u3002\n\u6bd4\u5982\uff0c\u4f60\u53ef\u80fd\u60f3\u4fdd\u7559\u5206\u5272\u5b57\u7b26\u4e32\uff0c\u7528\u6765\u5728\u540e\u9762\u91cd\u65b0\u6784\u9020\u4e00\u4e2a\u65b0\u7684\u8f93\u51fa\u5b57\u7b26\u4e32\uff1a"
      ]
    },
    {
      "cell_type": "code",
      "execution_count": null,
      "metadata": {},
      "outputs": [],
      "source": [
        "values = fields[::2]\ndelimiters = fields[1::2] + ['']\nvalues"
      ]
    },
    {
      "cell_type": "code",
      "execution_count": null,
      "metadata": {},
      "outputs": [],
      "source": [
        "delimiters"
      ]
    },
    {
      "cell_type": "code",
      "execution_count": null,
      "metadata": {},
      "outputs": [],
      "source": [
        "# Reform the line using the same delimiters\n''.join(v+d for v,d in zip(values, delimiters))"
      ]
    },
    {
      "cell_type": "markdown",
      "metadata": {},
      "source": [
        "\u5982\u679c\u4f60\u4e0d\u60f3\u4fdd\u7559\u5206\u5272\u5b57\u7b26\u4e32\u5230\u7ed3\u679c\u5217\u8868\u4e2d\u53bb\uff0c\u4f46\u4ecd\u7136\u9700\u8981\u4f7f\u7528\u5230\u62ec\u53f7\u6765\u5206\u7ec4\u6b63\u5219\u8868\u8fbe\u5f0f\u7684\u8bdd\uff0c\n\u786e\u4fdd\u4f60\u7684\u5206\u7ec4\u662f\u975e\u6355\u83b7\u5206\u7ec4\uff0c\u5f62\u5982 (?:...) \u3002\u6bd4\u5982\uff1a"
      ]
    },
    {
      "cell_type": "code",
      "execution_count": null,
      "metadata": {},
      "outputs": [],
      "source": [
        "re.split(r'(?:,|;|\\s)\\s*', line)"
      ]
    },
    {
      "cell_type": "markdown",
      "metadata": {},
      "source": [
        "## 2.2 \u5b57\u7b26\u4e32\u5f00\u5934\u6216\u7ed3\u5c3e\u5339\u914d\n"
      ]
    },
    {
      "cell_type": "markdown",
      "metadata": {},
      "source": [
        "### \u95ee\u9898\n"
      ]
    },
    {
      "cell_type": "markdown",
      "metadata": {},
      "source": [
        "\u4f60\u9700\u8981\u901a\u8fc7\u6307\u5b9a\u7684\u6587\u672c\u6a21\u5f0f\u53bb\u68c0\u67e5\u5b57\u7b26\u4e32\u7684\u5f00\u5934\u6216\u8005\u7ed3\u5c3e\uff0c\u6bd4\u5982\u6587\u4ef6\u540d\u540e\u7f00\uff0cURL Scheme\u7b49\u7b49\u3002"
      ]
    },
    {
      "cell_type": "markdown",
      "metadata": {},
      "source": [
        "### \u89e3\u51b3\u65b9\u6848\n"
      ]
    },
    {
      "cell_type": "markdown",
      "metadata": {},
      "source": [
        "\u68c0\u67e5\u5b57\u7b26\u4e32\u5f00\u5934\u6216\u7ed3\u5c3e\u7684\u4e00\u4e2a\u7b80\u5355\u65b9\u6cd5\u662f\u4f7f\u7528 str.startswith() \u6216\u8005\u662f str.endswith() \u65b9\u6cd5\u3002\u6bd4\u5982\uff1a"
      ]
    },
    {
      "cell_type": "code",
      "execution_count": null,
      "metadata": {},
      "outputs": [],
      "source": [
        "filename = 'spam.txt'\nfilename.endswith('.txt')"
      ]
    },
    {
      "cell_type": "code",
      "execution_count": null,
      "metadata": {},
      "outputs": [],
      "source": [
        "filename.startswith('file:')"
      ]
    },
    {
      "cell_type": "code",
      "execution_count": null,
      "metadata": {},
      "outputs": [],
      "source": [
        "url = 'http://www.python.org'\nurl.startswith('http:')"
      ]
    },
    {
      "cell_type": "markdown",
      "metadata": {},
      "source": [
        "\u5982\u679c\u4f60\u60f3\u68c0\u67e5\u591a\u79cd\u5339\u914d\u53ef\u80fd\uff0c\u53ea\u9700\u8981\u5c06\u6240\u6709\u7684\u5339\u914d\u9879\u653e\u5165\u5230\u4e00\u4e2a\u5143\u7ec4\u4e2d\u53bb\uff0c\n\u7136\u540e\u4f20\u7ed9 startswith() \u6216\u8005 endswith() \u65b9\u6cd5\uff1a"
      ]
    },
    {
      "cell_type": "code",
      "execution_count": null,
      "metadata": {},
      "outputs": [],
      "source": [
        "import os\nfilenames = os.listdir('.')\nfilenames"
      ]
    },
    {
      "cell_type": "code",
      "execution_count": null,
      "metadata": {},
      "outputs": [],
      "source": [
        "[name for name in filenames if name.endswith(('.c', '.h')) ]"
      ]
    },
    {
      "cell_type": "code",
      "execution_count": null,
      "metadata": {},
      "outputs": [],
      "source": [
        "any(name.endswith('.py') for name in filenames)"
      ]
    },
    {
      "cell_type": "markdown",
      "metadata": {},
      "source": [
        "\u4e0b\u9762\u662f\u53e6\u4e00\u4e2a\u4f8b\u5b50\uff1a"
      ]
    },
    {
      "cell_type": "code",
      "execution_count": null,
      "metadata": {},
      "outputs": [],
      "source": [
        "from urllib.request import urlopen\n\ndef read_data(name):\n    if name.startswith(('http:', 'https:', 'ftp:')):\n        return urlopen(name).read()\n    else:\n        with open(name) as f:\n            return f.read()"
      ]
    },
    {
      "cell_type": "markdown",
      "metadata": {},
      "source": [
        "\u5947\u602a\u7684\u662f\uff0c\u8fd9\u4e2a\u65b9\u6cd5\u4e2d\u5fc5\u987b\u8981\u8f93\u5165\u4e00\u4e2a\u5143\u7ec4\u4f5c\u4e3a\u53c2\u6570\u3002\n\u5982\u679c\u4f60\u6070\u5de7\u6709\u4e00\u4e2a list \u6216\u8005 set \u7c7b\u578b\u7684\u9009\u62e9\u9879\uff0c\n\u8981\u786e\u4fdd\u4f20\u9012\u53c2\u6570\u524d\u5148\u8c03\u7528 tuple() \u5c06\u5176\u8f6c\u6362\u4e3a\u5143\u7ec4\u7c7b\u578b\u3002\u6bd4\u5982\uff1a"
      ]
    },
    {
      "cell_type": "code",
      "execution_count": null,
      "metadata": {},
      "outputs": [],
      "source": [
        "choices = ['http:', 'ftp:']\nurl = 'http://www.python.org'\nurl.startswith(choices)"
      ]
    },
    {
      "cell_type": "code",
      "execution_count": null,
      "metadata": {},
      "outputs": [],
      "source": [
        "url.startswith(tuple(choices))"
      ]
    },
    {
      "cell_type": "markdown",
      "metadata": {},
      "source": [
        "### \u8ba8\u8bba\n"
      ]
    },
    {
      "cell_type": "markdown",
      "metadata": {},
      "source": [
        "startswith() \u548c endswith() \u65b9\u6cd5\u63d0\u4f9b\u4e86\u4e00\u4e2a\u975e\u5e38\u65b9\u4fbf\u7684\u65b9\u5f0f\u53bb\u505a\u5b57\u7b26\u4e32\u5f00\u5934\u548c\u7ed3\u5c3e\u7684\u68c0\u67e5\u3002\n\u7c7b\u4f3c\u7684\u64cd\u4f5c\u4e5f\u53ef\u4ee5\u4f7f\u7528\u5207\u7247\u6765\u5b9e\u73b0\uff0c\u4f46\u662f\u4ee3\u7801\u770b\u8d77\u6765\u6ca1\u6709\u90a3\u4e48\u4f18\u96c5\u3002\u6bd4\u5982\uff1a"
      ]
    },
    {
      "cell_type": "code",
      "execution_count": null,
      "metadata": {},
      "outputs": [],
      "source": [
        "filename = 'spam.txt'\nfilename[-4:] == '.txt'"
      ]
    },
    {
      "cell_type": "code",
      "execution_count": null,
      "metadata": {},
      "outputs": [],
      "source": [
        "url = 'http://www.python.org'\nurl[:5] == 'http:' or url[:6] == 'https:' or url[:4] == 'ftp:'"
      ]
    },
    {
      "cell_type": "markdown",
      "metadata": {},
      "source": [
        "\u4f60\u53ef\u4ee5\u80fd\u8fd8\u60f3\u4f7f\u7528\u6b63\u5219\u8868\u8fbe\u5f0f\u53bb\u5b9e\u73b0\uff0c\u6bd4\u5982\uff1a"
      ]
    },
    {
      "cell_type": "code",
      "execution_count": null,
      "metadata": {},
      "outputs": [],
      "source": [
        "import re\nurl = 'http://www.python.org'\nre.match('http:|https:|ftp:', url)"
      ]
    },
    {
      "cell_type": "markdown",
      "metadata": {},
      "source": [
        "\u8fd9\u79cd\u65b9\u5f0f\u4e5f\u884c\u5f97\u901a\uff0c\u4f46\u662f\u5bf9\u4e8e\u7b80\u5355\u7684\u5339\u914d\u5b9e\u5728\u662f\u6709\u70b9\u5c0f\u6750\u5927\u7528\u4e86\uff0c\u672c\u8282\u4e2d\u7684\u65b9\u6cd5\u66f4\u52a0\u7b80\u5355\u5e76\u4e14\u8fd0\u884c\u4f1a\u66f4\u5feb\u4e9b\u3002"
      ]
    },
    {
      "cell_type": "markdown",
      "metadata": {},
      "source": [
        "\u6700\u540e\u63d0\u4e00\u4e0b\uff0c\u5f53\u548c\u5176\u4ed6\u64cd\u4f5c\u6bd4\u5982\u666e\u901a\u6570\u636e\u805a\u5408\u76f8\u7ed3\u5408\u7684\u65f6\u5019 startswith() \u548c endswith() \u65b9\u6cd5\u662f\u5f88\u4e0d\u9519\u7684\u3002\n\u6bd4\u5982\uff0c\u4e0b\u9762\u8fd9\u4e2a\u8bed\u53e5\u68c0\u67e5\u67d0\u4e2a\u6587\u4ef6\u5939\u4e2d\u662f\u5426\u5b58\u5728\u6307\u5b9a\u7684\u6587\u4ef6\u7c7b\u578b\uff1a"
      ]
    },
    {
      "cell_type": "code",
      "execution_count": null,
      "metadata": {},
      "outputs": [],
      "source": [
        "if any(name.endswith(('.c', '.h')) for name in listdir(dirname)):\n..."
      ]
    },
    {
      "cell_type": "markdown",
      "metadata": {},
      "source": [
        "## 2.3 \u7528Shell\u901a\u914d\u7b26\u5339\u914d\u5b57\u7b26\u4e32\n"
      ]
    },
    {
      "cell_type": "markdown",
      "metadata": {},
      "source": [
        "### \u95ee\u9898\n"
      ]
    },
    {
      "cell_type": "markdown",
      "metadata": {},
      "source": [
        "\u4f60\u60f3\u4f7f\u7528 Unix Shell \u4e2d\u5e38\u7528\u7684\u901a\u914d\u7b26(\u6bd4\u5982 *.py , Dat[0-9]*.csv \u7b49)\u53bb\u5339\u914d\u6587\u672c\u5b57\u7b26\u4e32"
      ]
    },
    {
      "cell_type": "markdown",
      "metadata": {},
      "source": [
        "### \u89e3\u51b3\u65b9\u6848\n"
      ]
    },
    {
      "cell_type": "markdown",
      "metadata": {},
      "source": [
        "fnmatch \u6a21\u5757\u63d0\u4f9b\u4e86\u4e24\u4e2a\u51fd\u6570\u2014\u2014 fnmatch() \u548c fnmatchcase() \uff0c\u53ef\u4ee5\u7528\u6765\u5b9e\u73b0\u8fd9\u6837\u7684\u5339\u914d\u3002\u7528\u6cd5\u5982\u4e0b\uff1a"
      ]
    },
    {
      "cell_type": "code",
      "execution_count": null,
      "metadata": {},
      "outputs": [],
      "source": [
        "from fnmatch import fnmatch, fnmatchcase\nfnmatch('foo.txt', '*.txt')"
      ]
    },
    {
      "cell_type": "code",
      "execution_count": null,
      "metadata": {},
      "outputs": [],
      "source": [
        "fnmatch('foo.txt', '?oo.txt')"
      ]
    },
    {
      "cell_type": "code",
      "execution_count": null,
      "metadata": {},
      "outputs": [],
      "source": [
        "fnmatch('Dat45.csv', 'Dat[0-9]*')"
      ]
    },
    {
      "cell_type": "code",
      "execution_count": null,
      "metadata": {},
      "outputs": [],
      "source": [
        "names = ['Dat1.csv', 'Dat2.csv', 'config.ini', 'foo.py']\n[name for name in names if fnmatch(name, 'Dat*.csv')]"
      ]
    },
    {
      "cell_type": "markdown",
      "metadata": {},
      "source": [
        "fnmatch() \u51fd\u6570\u4f7f\u7528\u5e95\u5c42\u64cd\u4f5c\u7cfb\u7edf\u7684\u5927\u5c0f\u5199\u654f\u611f\u89c4\u5219(\u4e0d\u540c\u7684\u7cfb\u7edf\u662f\u4e0d\u4e00\u6837\u7684)\u6765\u5339\u914d\u6a21\u5f0f\u3002\u6bd4\u5982\uff1a"
      ]
    },
    {
      "cell_type": "code",
      "execution_count": null,
      "metadata": {},
      "outputs": [],
      "source": [
        "# On OS X (Mac)\nfnmatch('foo.txt', '*.TXT')"
      ]
    },
    {
      "cell_type": "code",
      "execution_count": null,
      "metadata": {},
      "outputs": [],
      "source": [
        "# On Windows\nfnmatch('foo.txt', '*.TXT')"
      ]
    },
    {
      "cell_type": "markdown",
      "metadata": {},
      "source": [
        "\u5982\u679c\u4f60\u5bf9\u8fd9\u4e2a\u533a\u522b\u5f88\u5728\u610f\uff0c\u53ef\u4ee5\u4f7f\u7528 fnmatchcase() \u6765\u4ee3\u66ff\u3002\u5b83\u5b8c\u5168\u4f7f\u7528\u4f60\u7684\u6a21\u5f0f\u5927\u5c0f\u5199\u5339\u914d\u3002\u6bd4\u5982\uff1a"
      ]
    },
    {
      "cell_type": "code",
      "execution_count": null,
      "metadata": {},
      "outputs": [],
      "source": [
        "fnmatchcase('foo.txt', '*.TXT')"
      ]
    },
    {
      "cell_type": "markdown",
      "metadata": {},
      "source": [
        "\u8fd9\u4e24\u4e2a\u51fd\u6570\u901a\u5e38\u4f1a\u88ab\u5ffd\u7565\u7684\u4e00\u4e2a\u7279\u6027\u662f\u5728\u5904\u7406\u975e\u6587\u4ef6\u540d\u7684\u5b57\u7b26\u4e32\u65f6\u5019\u5b83\u4eec\u4e5f\u662f\u5f88\u6709\u7528\u7684\u3002\n\u6bd4\u5982\uff0c\u5047\u8bbe\u4f60\u6709\u4e00\u4e2a\u8857\u9053\u5730\u5740\u7684\u5217\u8868\u6570\u636e\uff1a"
      ]
    },
    {
      "cell_type": "code",
      "execution_count": null,
      "metadata": {},
      "outputs": [],
      "source": [
        "addresses = [\n    '5412 N CLARK ST',\n    '1060 W ADDISON ST',\n    '1039 W GRANVILLE AVE',\n    '2122 N CLARK ST',\n    '4802 N BROADWAY',\n]"
      ]
    },
    {
      "cell_type": "markdown",
      "metadata": {},
      "source": [
        "\u4f60\u53ef\u4ee5\u50cf\u8fd9\u6837\u5199\u5217\u8868\u63a8\u5bfc\uff1a"
      ]
    },
    {
      "cell_type": "code",
      "execution_count": null,
      "metadata": {},
      "outputs": [],
      "source": [
        "from fnmatch import fnmatchcase\n[addr for addr in addresses if fnmatchcase(addr, '* ST')]"
      ]
    },
    {
      "cell_type": "code",
      "execution_count": null,
      "metadata": {},
      "outputs": [],
      "source": [
        "[addr for addr in addresses if fnmatchcase(addr, '54[0-9][0-9] *CLARK*')]"
      ]
    },
    {
      "cell_type": "markdown",
      "metadata": {},
      "source": [
        "### \u8ba8\u8bba\n"
      ]
    },
    {
      "cell_type": "markdown",
      "metadata": {},
      "source": [
        "fnmatch() \u51fd\u6570\u5339\u914d\u80fd\u529b\u4ecb\u4e8e\u7b80\u5355\u7684\u5b57\u7b26\u4e32\u65b9\u6cd5\u548c\u5f3a\u5927\u7684\u6b63\u5219\u8868\u8fbe\u5f0f\u4e4b\u95f4\u3002\n\u5982\u679c\u5728\u6570\u636e\u5904\u7406\u64cd\u4f5c\u4e2d\u53ea\u9700\u8981\u7b80\u5355\u7684\u901a\u914d\u7b26\u5c31\u80fd\u5b8c\u6210\u7684\u65f6\u5019\uff0c\u8fd9\u901a\u5e38\u662f\u4e00\u4e2a\u6bd4\u8f83\u5408\u7406\u7684\u65b9\u6848\u3002"
      ]
    },
    {
      "cell_type": "markdown",
      "metadata": {},
      "source": [
        "\u5982\u679c\u4f60\u7684\u4ee3\u7801\u9700\u8981\u505a\u6587\u4ef6\u540d\u7684\u5339\u914d\uff0c\u6700\u597d\u4f7f\u7528 glob \u6a21\u5757\u3002\u53c2\u80035.13\u5c0f\u8282\u3002"
      ]
    },
    {
      "cell_type": "markdown",
      "metadata": {},
      "source": [
        "## 2.4 \u5b57\u7b26\u4e32\u5339\u914d\u548c\u641c\u7d22\n"
      ]
    },
    {
      "cell_type": "markdown",
      "metadata": {},
      "source": [
        "### \u95ee\u9898\n"
      ]
    },
    {
      "cell_type": "markdown",
      "metadata": {},
      "source": [
        "\u4f60\u60f3\u5339\u914d\u6216\u8005\u641c\u7d22\u7279\u5b9a\u6a21\u5f0f\u7684\u6587\u672c"
      ]
    },
    {
      "cell_type": "markdown",
      "metadata": {},
      "source": [
        "### \u89e3\u51b3\u65b9\u6848\n"
      ]
    },
    {
      "cell_type": "markdown",
      "metadata": {},
      "source": [
        "\u5982\u679c\u4f60\u60f3\u5339\u914d\u7684\u662f\u5b57\u9762\u5b57\u7b26\u4e32\uff0c\u90a3\u4e48\u4f60\u901a\u5e38\u53ea\u9700\u8981\u8c03\u7528\u57fa\u672c\u5b57\u7b26\u4e32\u65b9\u6cd5\u5c31\u884c\uff0c\n\u6bd4\u5982 str.find() , str.endswith() , str.startswith() \u6216\u8005\u7c7b\u4f3c\u7684\u65b9\u6cd5\uff1a"
      ]
    },
    {
      "cell_type": "code",
      "execution_count": null,
      "metadata": {},
      "outputs": [],
      "source": [
        "text = 'yeah, but no, but yeah, but no, but yeah'\n# Exact match\ntext == 'yeah'"
      ]
    },
    {
      "cell_type": "code",
      "execution_count": null,
      "metadata": {},
      "outputs": [],
      "source": [
        "# Match at start or end\ntext.startswith('yeah')"
      ]
    },
    {
      "cell_type": "code",
      "execution_count": null,
      "metadata": {},
      "outputs": [],
      "source": [
        "text.endswith('no')"
      ]
    },
    {
      "cell_type": "code",
      "execution_count": null,
      "metadata": {},
      "outputs": [],
      "source": [
        "# Search for the location of the first occurrence\ntext.find('no')"
      ]
    },
    {
      "cell_type": "markdown",
      "metadata": {},
      "source": [
        "\u5bf9\u4e8e\u590d\u6742\u7684\u5339\u914d\u9700\u8981\u4f7f\u7528\u6b63\u5219\u8868\u8fbe\u5f0f\u548c re \u6a21\u5757\u3002\n\u4e3a\u4e86\u89e3\u91ca\u6b63\u5219\u8868\u8fbe\u5f0f\u7684\u57fa\u672c\u539f\u7406\uff0c\u5047\u8bbe\u4f60\u60f3\u5339\u914d\u6570\u5b57\u683c\u5f0f\u7684\u65e5\u671f\u5b57\u7b26\u4e32\u6bd4\u5982 11/27/2012 \uff0c\u4f60\u53ef\u4ee5\u8fd9\u6837\u505a\uff1a"
      ]
    },
    {
      "cell_type": "code",
      "execution_count": null,
      "metadata": {},
      "outputs": [],
      "source": [
        "text1 = '11/27/2012'\ntext2 = 'Nov 27, 2012'\nimport re\n# Simple matching: \\d+ means match one or more digits\nif re.match(r'\\d+/\\d+/\\d+', text1):\nprint('yes')\nelse:\nprint('no')"
      ]
    },
    {
      "cell_type": "code",
      "execution_count": null,
      "metadata": {},
      "outputs": [],
      "source": [
        "if re.match(r'\\d+/\\d+/\\d+', text2):\nprint('yes')\nelse:\nprint('no')"
      ]
    },
    {
      "cell_type": "markdown",
      "metadata": {},
      "source": [
        "\u5982\u679c\u4f60\u60f3\u4f7f\u7528\u540c\u4e00\u4e2a\u6a21\u5f0f\u53bb\u505a\u591a\u6b21\u5339\u914d\uff0c\u4f60\u5e94\u8be5\u5148\u5c06\u6a21\u5f0f\u5b57\u7b26\u4e32\u9884\u7f16\u8bd1\u4e3a\u6a21\u5f0f\u5bf9\u8c61\u3002\u6bd4\u5982\uff1a"
      ]
    },
    {
      "cell_type": "code",
      "execution_count": null,
      "metadata": {},
      "outputs": [],
      "source": [
        "datepat = re.compile(r'\\d+/\\d+/\\d+')\nif datepat.match(text1):\nprint('yes')\nelse:\nprint('no')"
      ]
    },
    {
      "cell_type": "code",
      "execution_count": null,
      "metadata": {},
      "outputs": [],
      "source": [
        "if datepat.match(text2):\nprint('yes')\nelse:\nprint('no')"
      ]
    },
    {
      "cell_type": "markdown",
      "metadata": {},
      "source": [
        "match() \u603b\u662f\u4ece\u5b57\u7b26\u4e32\u5f00\u59cb\u53bb\u5339\u914d\uff0c\u5982\u679c\u4f60\u60f3\u67e5\u627e\u5b57\u7b26\u4e32\u4efb\u610f\u90e8\u5206\u7684\u6a21\u5f0f\u51fa\u73b0\u4f4d\u7f6e\uff0c\n\u4f7f\u7528 findall() \u65b9\u6cd5\u53bb\u4ee3\u66ff\u3002\u6bd4\u5982\uff1a"
      ]
    },
    {
      "cell_type": "code",
      "execution_count": null,
      "metadata": {},
      "outputs": [],
      "source": [
        "text = 'Today is 11/27/2012. PyCon starts 3/13/2013.'\ndatepat.findall(text)"
      ]
    },
    {
      "cell_type": "markdown",
      "metadata": {},
      "source": [
        "\u5728\u5b9a\u4e49\u6b63\u5219\u5f0f\u7684\u65f6\u5019\uff0c\u901a\u5e38\u4f1a\u5229\u7528\u62ec\u53f7\u53bb\u6355\u83b7\u5206\u7ec4\u3002\u6bd4\u5982\uff1a"
      ]
    },
    {
      "cell_type": "code",
      "execution_count": null,
      "metadata": {},
      "outputs": [],
      "source": [
        "datepat = re.compile(r'(\\d+)/(\\d+)/(\\d+)')"
      ]
    },
    {
      "cell_type": "markdown",
      "metadata": {},
      "source": [
        "\u6355\u83b7\u5206\u7ec4\u53ef\u4ee5\u4f7f\u5f97\u540e\u9762\u7684\u5904\u7406\u66f4\u52a0\u7b80\u5355\uff0c\u56e0\u4e3a\u53ef\u4ee5\u5206\u522b\u5c06\u6bcf\u4e2a\u7ec4\u7684\u5185\u5bb9\u63d0\u53d6\u51fa\u6765\u3002\u6bd4\u5982\uff1a"
      ]
    },
    {
      "cell_type": "code",
      "execution_count": null,
      "metadata": {},
      "outputs": [],
      "source": [
        "m = datepat.match('11/27/2012')\nm"
      ]
    },
    {
      "cell_type": "code",
      "execution_count": null,
      "metadata": {},
      "outputs": [],
      "source": [
        "# Extract the contents of each group\nm.group(0)"
      ]
    },
    {
      "cell_type": "code",
      "execution_count": null,
      "metadata": {},
      "outputs": [],
      "source": [
        "m.group(1)"
      ]
    },
    {
      "cell_type": "code",
      "execution_count": null,
      "metadata": {},
      "outputs": [],
      "source": [
        "m.group(2)"
      ]
    },
    {
      "cell_type": "code",
      "execution_count": null,
      "metadata": {},
      "outputs": [],
      "source": [
        "m.group(3)"
      ]
    },
    {
      "cell_type": "code",
      "execution_count": null,
      "metadata": {},
      "outputs": [],
      "source": [
        "m.groups()"
      ]
    },
    {
      "cell_type": "code",
      "execution_count": null,
      "metadata": {},
      "outputs": [],
      "source": [
        "month, day, year = m.groups()\n# Find all matches (notice splitting into tuples)\ntext"
      ]
    },
    {
      "cell_type": "code",
      "execution_count": null,
      "metadata": {},
      "outputs": [],
      "source": [
        "datepat.findall(text)"
      ]
    },
    {
      "cell_type": "code",
      "execution_count": null,
      "metadata": {},
      "outputs": [],
      "source": [
        "for month, day, year in datepat.findall(text):\nprint('{}-{}-{}'.format(year, month, day))"
      ]
    },
    {
      "cell_type": "markdown",
      "metadata": {},
      "source": [
        "findall() \u65b9\u6cd5\u4f1a\u641c\u7d22\u6587\u672c\u5e76\u4ee5\u5217\u8868\u5f62\u5f0f\u8fd4\u56de\u6240\u6709\u7684\u5339\u914d\u3002\n\u5982\u679c\u4f60\u60f3\u4ee5\u8fed\u4ee3\u65b9\u5f0f\u8fd4\u56de\u5339\u914d\uff0c\u53ef\u4ee5\u4f7f\u7528 finditer() \u65b9\u6cd5\u6765\u4ee3\u66ff\uff0c\u6bd4\u5982\uff1a"
      ]
    },
    {
      "cell_type": "code",
      "execution_count": null,
      "metadata": {},
      "outputs": [],
      "source": [
        "for m in datepat.finditer(text):\nprint(m.groups())"
      ]
    },
    {
      "cell_type": "markdown",
      "metadata": {},
      "source": [
        "### \u8ba8\u8bba\n"
      ]
    },
    {
      "cell_type": "markdown",
      "metadata": {},
      "source": [
        "\u5173\u4e8e\u6b63\u5219\u8868\u8fbe\u5f0f\u7406\u8bba\u7684\u6559\u7a0b\u5df2\u7ecf\u8d85\u51fa\u4e86\u672c\u4e66\u7684\u8303\u56f4\u3002\n\u4e0d\u8fc7\uff0c\u8fd9\u4e00\u8282\u9610\u8ff0\u4e86\u4f7f\u7528re\u6a21\u5757\u8fdb\u884c\u5339\u914d\u548c\u641c\u7d22\u6587\u672c\u7684\u6700\u57fa\u672c\u65b9\u6cd5\u3002\n\u6838\u5fc3\u6b65\u9aa4\u5c31\u662f\u5148\u4f7f\u7528 re.compile() \u7f16\u8bd1\u6b63\u5219\u8868\u8fbe\u5f0f\u5b57\u7b26\u4e32\uff0c\n\u7136\u540e\u4f7f\u7528 match() , findall() \u6216\u8005 finditer() \u7b49\u65b9\u6cd5\u3002"
      ]
    },
    {
      "cell_type": "markdown",
      "metadata": {},
      "source": [
        "\u5f53\u5199\u6b63\u5219\u5f0f\u5b57\u7b26\u4e32\u7684\u65f6\u5019\uff0c\u76f8\u5bf9\u666e\u904d\u7684\u505a\u6cd5\u662f\u4f7f\u7528\u539f\u59cb\u5b57\u7b26\u4e32\u6bd4\u5982 r'(\\d+)/(\\d+)/(\\d+)' \u3002\n\u8fd9\u79cd\u5b57\u7b26\u4e32\u5c06\u4e0d\u53bb\u89e3\u6790\u53cd\u659c\u6760\uff0c\u8fd9\u5728\u6b63\u5219\u8868\u8fbe\u5f0f\u4e2d\u662f\u5f88\u6709\u7528\u7684\u3002\n\u5982\u679c\u4e0d\u8fd9\u6837\u505a\u7684\u8bdd\uff0c\u4f60\u5fc5\u987b\u4f7f\u7528\u4e24\u4e2a\u53cd\u659c\u6760\uff0c\u7c7b\u4f3c '(\\\\d+)/(\\\\d+)/(\\\\d+)' \u3002"
      ]
    },
    {
      "cell_type": "markdown",
      "metadata": {},
      "source": [
        "\u9700\u8981\u6ce8\u610f\u7684\u662f match() \u65b9\u6cd5\u4ec5\u4ec5\u68c0\u67e5\u5b57\u7b26\u4e32\u7684\u5f00\u59cb\u90e8\u5206\u3002\u5b83\u7684\u5339\u914d\u7ed3\u679c\u6709\u53ef\u80fd\u5e76\u4e0d\u662f\u4f60\u671f\u671b\u7684\u90a3\u6837\u3002\u6bd4\u5982\uff1a"
      ]
    },
    {
      "cell_type": "code",
      "execution_count": null,
      "metadata": {},
      "outputs": [],
      "source": [
        "m = datepat.match('11/27/2012abcdef')\nm"
      ]
    },
    {
      "cell_type": "code",
      "execution_count": null,
      "metadata": {},
      "outputs": [],
      "source": [
        "m.group()"
      ]
    },
    {
      "cell_type": "markdown",
      "metadata": {},
      "source": [
        "\u5982\u679c\u4f60\u60f3\u7cbe\u786e\u5339\u914d\uff0c\u786e\u4fdd\u4f60\u7684\u6b63\u5219\u8868\u8fbe\u5f0f\u4ee5$\u7ed3\u5c3e\uff0c\u5c31\u50cf\u8fd9\u4e48\u8fd9\u6837\uff1a"
      ]
    },
    {
      "cell_type": "code",
      "execution_count": null,
      "metadata": {},
      "outputs": [],
      "source": [
        "datepat = re.compile(r'(\\d+)/(\\d+)/(\\d+)$')\ndatepat.match('11/27/2012abcdef')\ndatepat.match('11/27/2012')"
      ]
    },
    {
      "cell_type": "markdown",
      "metadata": {},
      "source": [
        "\u6700\u540e\uff0c\u5982\u679c\u4f60\u4ec5\u4ec5\u662f\u505a\u4e00\u6b21\u7b80\u5355\u7684\u6587\u672c\u5339\u914d/\u641c\u7d22\u64cd\u4f5c\u7684\u8bdd\uff0c\u53ef\u4ee5\u7565\u8fc7\u7f16\u8bd1\u90e8\u5206\uff0c\u76f4\u63a5\u4f7f\u7528 re \u6a21\u5757\u7ea7\u522b\u7684\u51fd\u6570\u3002\u6bd4\u5982\uff1a"
      ]
    },
    {
      "cell_type": "code",
      "execution_count": null,
      "metadata": {},
      "outputs": [],
      "source": [
        "re.findall(r'(\\d+)/(\\d+)/(\\d+)', text)"
      ]
    },
    {
      "cell_type": "markdown",
      "metadata": {},
      "source": [
        "\u4f46\u662f\u9700\u8981\u6ce8\u610f\u7684\u662f\uff0c\u5982\u679c\u4f60\u6253\u7b97\u505a\u5927\u91cf\u7684\u5339\u914d\u548c\u641c\u7d22\u64cd\u4f5c\u7684\u8bdd\uff0c\u6700\u597d\u5148\u7f16\u8bd1\u6b63\u5219\u8868\u8fbe\u5f0f\uff0c\u7136\u540e\u518d\u91cd\u590d\u4f7f\u7528\u5b83\u3002\n\u6a21\u5757\u7ea7\u522b\u7684\u51fd\u6570\u4f1a\u5c06\u6700\u8fd1\u7f16\u8bd1\u8fc7\u7684\u6a21\u5f0f\u7f13\u5b58\u8d77\u6765\uff0c\u56e0\u6b64\u5e76\u4e0d\u4f1a\u6d88\u8017\u592a\u591a\u7684\u6027\u80fd\uff0c\n\u4f46\u662f\u5982\u679c\u4f7f\u7528\u9884\u7f16\u8bd1\u6a21\u5f0f\u7684\u8bdd\uff0c\u4f60\u5c06\u4f1a\u51cf\u5c11\u67e5\u627e\u548c\u4e00\u4e9b\u989d\u5916\u7684\u5904\u7406\u635f\u8017\u3002"
      ]
    },
    {
      "cell_type": "markdown",
      "metadata": {},
      "source": [
        "## 2.5 \u5b57\u7b26\u4e32\u641c\u7d22\u548c\u66ff\u6362\n"
      ]
    },
    {
      "cell_type": "markdown",
      "metadata": {},
      "source": [
        "### \u95ee\u9898\n"
      ]
    },
    {
      "cell_type": "markdown",
      "metadata": {},
      "source": [
        "\u4f60\u60f3\u5728\u5b57\u7b26\u4e32\u4e2d\u641c\u7d22\u548c\u5339\u914d\u6307\u5b9a\u7684\u6587\u672c\u6a21\u5f0f"
      ]
    },
    {
      "cell_type": "markdown",
      "metadata": {},
      "source": [
        "### \u89e3\u51b3\u65b9\u6848\n"
      ]
    },
    {
      "cell_type": "markdown",
      "metadata": {},
      "source": [
        "\u5bf9\u4e8e\u7b80\u5355\u7684\u5b57\u9762\u6a21\u5f0f\uff0c\u76f4\u63a5\u4f7f\u7528 str.replace() \u65b9\u6cd5\u5373\u53ef\uff0c\u6bd4\u5982\uff1a"
      ]
    },
    {
      "cell_type": "code",
      "execution_count": null,
      "metadata": {},
      "outputs": [],
      "source": [
        "text = 'yeah, but no, but yeah, but no, but yeah'\ntext.replace('yeah', 'yep')"
      ]
    },
    {
      "cell_type": "markdown",
      "metadata": {},
      "source": [
        "\u5bf9\u4e8e\u590d\u6742\u7684\u6a21\u5f0f\uff0c\u8bf7\u4f7f\u7528 re \u6a21\u5757\u4e2d\u7684 sub() \u51fd\u6570\u3002\n\u4e3a\u4e86\u8bf4\u660e\u8fd9\u4e2a\uff0c\u5047\u8bbe\u4f60\u60f3\u5c06\u5f62\u5f0f\u4e3a 11/27/2012 \u7684\u65e5\u671f\u5b57\u7b26\u4e32\u6539\u6210 2012-11-27 \u3002\u793a\u4f8b\u5982\u4e0b\uff1a"
      ]
    },
    {
      "cell_type": "code",
      "execution_count": null,
      "metadata": {},
      "outputs": [],
      "source": [
        "text = 'Today is 11/27/2012. PyCon starts 3/13/2013.'\nimport re\nre.sub(r'(\\d+)/(\\d+)/(\\d+)', r'\\3-\\1-\\2', text)"
      ]
    },
    {
      "cell_type": "markdown",
      "metadata": {},
      "source": [
        "sub() \u51fd\u6570\u4e2d\u7684\u7b2c\u4e00\u4e2a\u53c2\u6570\u662f\u88ab\u5339\u914d\u7684\u6a21\u5f0f\uff0c\u7b2c\u4e8c\u4e2a\u53c2\u6570\u662f\u66ff\u6362\u6a21\u5f0f\u3002\u53cd\u659c\u6760\u6570\u5b57\u6bd4\u5982 \\3 \u6307\u5411\u524d\u9762\u6a21\u5f0f\u7684\u6355\u83b7\u7ec4\u53f7\u3002"
      ]
    },
    {
      "cell_type": "markdown",
      "metadata": {},
      "source": [
        "\u5982\u679c\u4f60\u6253\u7b97\u7528\u76f8\u540c\u7684\u6a21\u5f0f\u505a\u591a\u6b21\u66ff\u6362\uff0c\u8003\u8651\u5148\u7f16\u8bd1\u5b83\u6765\u63d0\u5347\u6027\u80fd\u3002\u6bd4\u5982\uff1a"
      ]
    },
    {
      "cell_type": "code",
      "execution_count": null,
      "metadata": {},
      "outputs": [],
      "source": [
        "import re\ndatepat = re.compile(r'(\\d+)/(\\d+)/(\\d+)')\ndatepat.sub(r'\\3-\\1-\\2', text)"
      ]
    },
    {
      "cell_type": "markdown",
      "metadata": {},
      "source": [
        "\u5bf9\u4e8e\u66f4\u52a0\u590d\u6742\u7684\u66ff\u6362\uff0c\u53ef\u4ee5\u4f20\u9012\u4e00\u4e2a\u66ff\u6362\u56de\u8c03\u51fd\u6570\u6765\u4ee3\u66ff\uff0c\u6bd4\u5982\uff1a"
      ]
    },
    {
      "cell_type": "code",
      "execution_count": null,
      "metadata": {},
      "outputs": [],
      "source": [
        "from calendar import month_abbr\ndef change_date(m):\nmon_name = month_abbr[int(m.group(1))]\nreturn '{} {} {}'.format(m.group(2), mon_name, m.group(3))\ndatepat.sub(change_date, text)"
      ]
    },
    {
      "cell_type": "markdown",
      "metadata": {},
      "source": [
        "\u4e00\u4e2a\u66ff\u6362\u56de\u8c03\u51fd\u6570\u7684\u53c2\u6570\u662f\u4e00\u4e2a match \u5bf9\u8c61\uff0c\u4e5f\u5c31\u662f match() \u6216\u8005 find() \u8fd4\u56de\u7684\u5bf9\u8c61\u3002\n\u4f7f\u7528 group() \u65b9\u6cd5\u6765\u63d0\u53d6\u7279\u5b9a\u7684\u5339\u914d\u90e8\u5206\u3002\u56de\u8c03\u51fd\u6570\u6700\u540e\u8fd4\u56de\u66ff\u6362\u5b57\u7b26\u4e32\u3002"
      ]
    },
    {
      "cell_type": "markdown",
      "metadata": {},
      "source": [
        "\u5982\u679c\u9664\u4e86\u66ff\u6362\u540e\u7684\u7ed3\u679c\u5916\uff0c\u4f60\u8fd8\u60f3\u77e5\u9053\u6709\u591a\u5c11\u66ff\u6362\u53d1\u751f\u4e86\uff0c\u53ef\u4ee5\u4f7f\u7528 re.subn() \u6765\u4ee3\u66ff\u3002\u6bd4\u5982\uff1a"
      ]
    },
    {
      "cell_type": "code",
      "execution_count": null,
      "metadata": {},
      "outputs": [],
      "source": [
        "newtext, n = datepat.subn(r'\\3-\\1-\\2', text)\nnewtext"
      ]
    },
    {
      "cell_type": "code",
      "execution_count": null,
      "metadata": {},
      "outputs": [],
      "source": [
        "n"
      ]
    },
    {
      "cell_type": "markdown",
      "metadata": {},
      "source": [
        "### \u8ba8\u8bba\n"
      ]
    },
    {
      "cell_type": "markdown",
      "metadata": {},
      "source": [
        "\u5173\u4e8e\u6b63\u5219\u8868\u8fbe\u5f0f\u641c\u7d22\u548c\u66ff\u6362\uff0c\u4e0a\u9762\u6f14\u793a\u7684 sub() \u65b9\u6cd5\u57fa\u672c\u5df2\u7ecf\u6db5\u76d6\u4e86\u6240\u6709\u3002\n\u5176\u5b9e\u6700\u96be\u7684\u90e8\u5206\u5c31\u662f\u7f16\u5199\u6b63\u5219\u8868\u8fbe\u5f0f\u6a21\u5f0f\uff0c\u8fd9\u4e2a\u6700\u597d\u662f\u7559\u7ed9\u8bfb\u8005\u81ea\u5df1\u53bb\u7ec3\u4e60\u4e86\u3002"
      ]
    },
    {
      "cell_type": "markdown",
      "metadata": {},
      "source": [
        "## 2.6 \u5b57\u7b26\u4e32\u5ffd\u7565\u5927\u5c0f\u5199\u7684\u641c\u7d22\u66ff\u6362\n"
      ]
    },
    {
      "cell_type": "markdown",
      "metadata": {},
      "source": [
        "### \u95ee\u9898\n"
      ]
    },
    {
      "cell_type": "markdown",
      "metadata": {},
      "source": [
        "\u4f60\u9700\u8981\u4ee5\u5ffd\u7565\u5927\u5c0f\u5199\u7684\u65b9\u5f0f\u641c\u7d22\u4e0e\u66ff\u6362\u6587\u672c\u5b57\u7b26\u4e32"
      ]
    },
    {
      "cell_type": "markdown",
      "metadata": {},
      "source": [
        "### \u89e3\u51b3\u65b9\u6848\n"
      ]
    },
    {
      "cell_type": "markdown",
      "metadata": {},
      "source": [
        "\u4e3a\u4e86\u5728\u6587\u672c\u64cd\u4f5c\u65f6\u5ffd\u7565\u5927\u5c0f\u5199\uff0c\u4f60\u9700\u8981\u5728\u4f7f\u7528 re \u6a21\u5757\u7684\u65f6\u5019\u7ed9\u8fd9\u4e9b\u64cd\u4f5c\u63d0\u4f9b re.IGNORECASE \u6807\u5fd7\u53c2\u6570\u3002\u6bd4\u5982\uff1a"
      ]
    },
    {
      "cell_type": "code",
      "execution_count": null,
      "metadata": {},
      "outputs": [],
      "source": [
        "text = 'UPPER PYTHON, lower python, Mixed Python'\nre.findall('python', text, flags=re.IGNORECASE)"
      ]
    },
    {
      "cell_type": "code",
      "execution_count": null,
      "metadata": {},
      "outputs": [],
      "source": [
        "re.sub('python', 'snake', text, flags=re.IGNORECASE)"
      ]
    },
    {
      "cell_type": "markdown",
      "metadata": {},
      "source": [
        "\u6700\u540e\u7684\u90a3\u4e2a\u4f8b\u5b50\u63ed\u793a\u4e86\u4e00\u4e2a\u5c0f\u7f3a\u9677\uff0c\u66ff\u6362\u5b57\u7b26\u4e32\u5e76\u4e0d\u4f1a\u81ea\u52a8\u8ddf\u88ab\u5339\u914d\u5b57\u7b26\u4e32\u7684\u5927\u5c0f\u5199\u4fdd\u6301\u4e00\u81f4\u3002\n\u4e3a\u4e86\u4fee\u590d\u8fd9\u4e2a\uff0c\u4f60\u53ef\u80fd\u9700\u8981\u4e00\u4e2a\u8f85\u52a9\u51fd\u6570\uff0c\u5c31\u50cf\u4e0b\u9762\u7684\u8fd9\u6837\uff1a"
      ]
    },
    {
      "cell_type": "code",
      "execution_count": null,
      "metadata": {},
      "outputs": [],
      "source": [
        "def matchcase(word):\n    def replace(m):\n        text = m.group()\n        if text.isupper():\n            return word.upper()\n        elif text.islower():\n            return word.lower()\n        elif text[0].isupper():\n            return word.capitalize()\n        else:\n            return word\n    return replace"
      ]
    },
    {
      "cell_type": "markdown",
      "metadata": {},
      "source": [
        "\u4e0b\u9762\u662f\u4f7f\u7528\u4e0a\u8ff0\u51fd\u6570\u7684\u65b9\u6cd5\uff1a"
      ]
    },
    {
      "cell_type": "code",
      "execution_count": null,
      "metadata": {},
      "outputs": [],
      "source": [
        "re.sub('python', matchcase('snake'), text, flags=re.IGNORECASE)"
      ]
    },
    {
      "cell_type": "markdown",
      "metadata": {},
      "source": [
        "\u8bd1\u8005\u6ce8\uff1a matchcase('snake') \u8fd4\u56de\u4e86\u4e00\u4e2a\u56de\u8c03\u51fd\u6570(\u53c2\u6570\u5fc5\u987b\u662f match \u5bf9\u8c61)\uff0c\u524d\u9762\u4e00\u8282\u63d0\u5230\u8fc7\uff0c\nsub() \u51fd\u6570\u9664\u4e86\u63a5\u53d7\u66ff\u6362\u5b57\u7b26\u4e32\u5916\uff0c\u8fd8\u80fd\u63a5\u53d7\u4e00\u4e2a\u56de\u8c03\u51fd\u6570\u3002"
      ]
    },
    {
      "cell_type": "markdown",
      "metadata": {},
      "source": [
        "### \u8ba8\u8bba\n"
      ]
    },
    {
      "cell_type": "markdown",
      "metadata": {},
      "source": [
        "\u5bf9\u4e8e\u4e00\u822c\u7684\u5ffd\u7565\u5927\u5c0f\u5199\u7684\u5339\u914d\u64cd\u4f5c\uff0c\u7b80\u5355\u7684\u4f20\u9012\u4e00\u4e2a re.IGNORECASE \u6807\u5fd7\u53c2\u6570\u5c31\u5df2\u7ecf\u8db3\u591f\u4e86\u3002\n\u4f46\u662f\u9700\u8981\u6ce8\u610f\u7684\u662f\uff0c\u8fd9\u4e2a\u5bf9\u4e8e\u67d0\u4e9b\u9700\u8981\u5927\u5c0f\u5199\u8f6c\u6362\u7684Unicode\u5339\u914d\u53ef\u80fd\u8fd8\u4e0d\u591f\uff0c\n\u53c2\u80032.10\u5c0f\u8282\u4e86\u89e3\u66f4\u591a\u7ec6\u8282\u3002"
      ]
    },
    {
      "cell_type": "markdown",
      "metadata": {},
      "source": [
        "## 2.7 \u6700\u77ed\u5339\u914d\u6a21\u5f0f\n"
      ]
    },
    {
      "cell_type": "markdown",
      "metadata": {},
      "source": [
        "### \u95ee\u9898\n"
      ]
    },
    {
      "cell_type": "markdown",
      "metadata": {},
      "source": [
        "\u4f60\u6b63\u5728\u8bd5\u7740\u7528\u6b63\u5219\u8868\u8fbe\u5f0f\u5339\u914d\u67d0\u4e2a\u6587\u672c\u6a21\u5f0f\uff0c\u4f46\u662f\u5b83\u627e\u5230\u7684\u662f\u6a21\u5f0f\u7684\u6700\u957f\u53ef\u80fd\u5339\u914d\u3002\n\u800c\u4f60\u60f3\u4fee\u6539\u5b83\u53d8\u6210\u67e5\u627e\u6700\u77ed\u7684\u53ef\u80fd\u5339\u914d\u3002"
      ]
    },
    {
      "cell_type": "markdown",
      "metadata": {},
      "source": [
        "### \u89e3\u51b3\u65b9\u6848\n"
      ]
    },
    {
      "cell_type": "markdown",
      "metadata": {},
      "source": [
        "\u8fd9\u4e2a\u95ee\u9898\u4e00\u822c\u51fa\u73b0\u5728\u9700\u8981\u5339\u914d\u4e00\u5bf9\u5206\u9694\u7b26\u4e4b\u95f4\u7684\u6587\u672c\u7684\u65f6\u5019(\u6bd4\u5982\u5f15\u53f7\u5305\u542b\u7684\u5b57\u7b26\u4e32)\u3002\n\u4e3a\u4e86\u8bf4\u660e\u6e05\u695a\uff0c\u8003\u8651\u5982\u4e0b\u7684\u4f8b\u5b50\uff1a"
      ]
    },
    {
      "cell_type": "code",
      "execution_count": null,
      "metadata": {},
      "outputs": [],
      "source": [
        "str_pat = re.compile(r'\"(.*)\"')\ntext1 = 'Computer says \"no.\"'\nstr_pat.findall(text1)"
      ]
    },
    {
      "cell_type": "code",
      "execution_count": null,
      "metadata": {},
      "outputs": [],
      "source": [
        "text2 = 'Computer says \"no.\" Phone says \"yes.\"'\nstr_pat.findall(text2)"
      ]
    },
    {
      "cell_type": "markdown",
      "metadata": {},
      "source": [
        "\u5728\u8fd9\u4e2a\u4f8b\u5b50\u4e2d\uff0c\u6a21\u5f0f r'\\\"(.*)\\\"' \u7684\u610f\u56fe\u662f\u5339\u914d\u88ab\u53cc\u5f15\u53f7\u5305\u542b\u7684\u6587\u672c\u3002\n\u4f46\u662f\u5728\u6b63\u5219\u8868\u8fbe\u5f0f\u4e2d*\u64cd\u4f5c\u7b26\u662f\u8d2a\u5a6a\u7684\uff0c\u56e0\u6b64\u5339\u914d\u64cd\u4f5c\u4f1a\u67e5\u627e\u6700\u957f\u7684\u53ef\u80fd\u5339\u914d\u3002\n\u4e8e\u662f\u5728\u7b2c\u4e8c\u4e2a\u4f8b\u5b50\u4e2d\u641c\u7d22 text2 \u7684\u65f6\u5019\u8fd4\u56de\u7ed3\u679c\u5e76\u4e0d\u662f\u6211\u4eec\u60f3\u8981\u7684\u3002"
      ]
    },
    {
      "cell_type": "markdown",
      "metadata": {},
      "source": [
        "\u4e3a\u4e86\u4fee\u6b63\u8fd9\u4e2a\u95ee\u9898\uff0c\u53ef\u4ee5\u5728\u6a21\u5f0f\u4e2d\u7684*\u64cd\u4f5c\u7b26\u540e\u9762\u52a0\u4e0a?\u4fee\u9970\u7b26\uff0c\u5c31\u50cf\u8fd9\u6837\uff1a"
      ]
    },
    {
      "cell_type": "code",
      "execution_count": null,
      "metadata": {},
      "outputs": [],
      "source": [
        "str_pat = re.compile(r'\"(.*?)\"')\nstr_pat.findall(text2)"
      ]
    },
    {
      "cell_type": "markdown",
      "metadata": {},
      "source": [
        "\u8fd9\u6837\u5c31\u4f7f\u5f97\u5339\u914d\u53d8\u6210\u975e\u8d2a\u5a6a\u6a21\u5f0f\uff0c\u4ece\u800c\u5f97\u5230\u6700\u77ed\u7684\u5339\u914d\uff0c\u4e5f\u5c31\u662f\u6211\u4eec\u60f3\u8981\u7684\u7ed3\u679c\u3002"
      ]
    },
    {
      "cell_type": "markdown",
      "metadata": {},
      "source": [
        "### \u8ba8\u8bba\n"
      ]
    },
    {
      "cell_type": "markdown",
      "metadata": {},
      "source": [
        "\u8fd9\u4e00\u8282\u5c55\u793a\u4e86\u5728\u5199\u5305\u542b\u70b9(.)\u5b57\u7b26\u7684\u6b63\u5219\u8868\u8fbe\u5f0f\u7684\u65f6\u5019\u9047\u5230\u7684\u4e00\u4e9b\u5e38\u89c1\u95ee\u9898\u3002\n\u5728\u4e00\u4e2a\u6a21\u5f0f\u5b57\u7b26\u4e32\u4e2d\uff0c\u70b9(.)\u5339\u914d\u9664\u4e86\u6362\u884c\u5916\u7684\u4efb\u4f55\u5b57\u7b26\u3002\n\u7136\u800c\uff0c\u5982\u679c\u4f60\u5c06\u70b9(.)\u53f7\u653e\u5728\u5f00\u59cb\u4e0e\u7ed3\u675f\u7b26(\u6bd4\u5982\u5f15\u53f7)\u4e4b\u95f4\u7684\u65f6\u5019\uff0c\u90a3\u4e48\u5339\u914d\u64cd\u4f5c\u4f1a\u67e5\u627e\u7b26\u5408\u6a21\u5f0f\u7684\u6700\u957f\u53ef\u80fd\u5339\u914d\u3002\n\u8fd9\u6837\u901a\u5e38\u4f1a\u5bfc\u81f4\u5f88\u591a\u4e2d\u95f4\u7684\u88ab\u5f00\u59cb\u4e0e\u7ed3\u675f\u7b26\u5305\u542b\u7684\u6587\u672c\u88ab\u5ffd\u7565\u6389\uff0c\u5e76\u6700\u7ec8\u88ab\u5305\u542b\u5728\u5339\u914d\u7ed3\u679c\u5b57\u7b26\u4e32\u4e2d\u8fd4\u56de\u3002\n\u901a\u8fc7\u5728 * \u6216\u8005 + \u8fd9\u6837\u7684\u64cd\u4f5c\u7b26\u540e\u9762\u6dfb\u52a0\u4e00\u4e2a ? \u53ef\u4ee5\u5f3a\u5236\u5339\u914d\u7b97\u6cd5\u6539\u6210\u5bfb\u627e\u6700\u77ed\u7684\u53ef\u80fd\u5339\u914d\u3002"
      ]
    },
    {
      "cell_type": "markdown",
      "metadata": {},
      "source": [
        "## 2.8 \u591a\u884c\u5339\u914d\u6a21\u5f0f\n"
      ]
    },
    {
      "cell_type": "markdown",
      "metadata": {},
      "source": [
        "### \u95ee\u9898\n"
      ]
    },
    {
      "cell_type": "markdown",
      "metadata": {},
      "source": [
        "\u4f60\u6b63\u5728\u8bd5\u7740\u4f7f\u7528\u6b63\u5219\u8868\u8fbe\u5f0f\u53bb\u5339\u914d\u4e00\u5927\u5757\u7684\u6587\u672c\uff0c\u800c\u4f60\u9700\u8981\u8de8\u8d8a\u591a\u884c\u53bb\u5339\u914d\u3002"
      ]
    },
    {
      "cell_type": "markdown",
      "metadata": {},
      "source": [
        "### \u89e3\u51b3\u65b9\u6848\n"
      ]
    },
    {
      "cell_type": "markdown",
      "metadata": {},
      "source": [
        "\u8fd9\u4e2a\u95ee\u9898\u5f88\u5178\u578b\u7684\u51fa\u73b0\u5728\u5f53\u4f60\u7528\u70b9(.)\u53bb\u5339\u914d\u4efb\u610f\u5b57\u7b26\u7684\u65f6\u5019\uff0c\u5fd8\u8bb0\u4e86\u70b9(.)\u4e0d\u80fd\u5339\u914d\u6362\u884c\u7b26\u7684\u4e8b\u5b9e\u3002\n\u6bd4\u5982\uff0c\u5047\u8bbe\u4f60\u60f3\u8bd5\u7740\u53bb\u5339\u914dC\u8bed\u8a00\u5206\u5272\u7684\u6ce8\u91ca\uff1a"
      ]
    },
    {
      "cell_type": "code",
      "execution_count": null,
      "metadata": {},
      "outputs": [],
      "source": [
        "comment = re.compile(r'/\\*(.*?)\\*/')\ntext1 = '/* this is a comment */'\ntext2 = '''/* this is a\nmultiline comment */\n'''\ncomment.findall(text1)"
      ]
    },
    {
      "cell_type": "code",
      "execution_count": null,
      "metadata": {},
      "outputs": [],
      "source": [
        "comment.findall(text2)"
      ]
    },
    {
      "cell_type": "markdown",
      "metadata": {},
      "source": [
        "\u4e3a\u4e86\u4fee\u6b63\u8fd9\u4e2a\u95ee\u9898\uff0c\u4f60\u53ef\u4ee5\u4fee\u6539\u6a21\u5f0f\u5b57\u7b26\u4e32\uff0c\u589e\u52a0\u5bf9\u6362\u884c\u7684\u652f\u6301\u3002\u6bd4\u5982\uff1a"
      ]
    },
    {
      "cell_type": "code",
      "execution_count": null,
      "metadata": {},
      "outputs": [],
      "source": [
        "comment = re.compile(r'/\\*((?:.|\\n)*?)\\*/')\ncomment.findall(text2)"
      ]
    },
    {
      "cell_type": "markdown",
      "metadata": {},
      "source": [
        "\u5728\u8fd9\u4e2a\u6a21\u5f0f\u4e2d\uff0c (?:.|\\n) \u6307\u5b9a\u4e86\u4e00\u4e2a\u975e\u6355\u83b7\u7ec4\n(\u4e5f\u5c31\u662f\u5b83\u5b9a\u4e49\u4e86\u4e00\u4e2a\u4ec5\u4ec5\u7528\u6765\u505a\u5339\u914d\uff0c\u800c\u4e0d\u80fd\u901a\u8fc7\u5355\u72ec\u6355\u83b7\u6216\u8005\u7f16\u53f7\u7684\u7ec4)\u3002"
      ]
    },
    {
      "cell_type": "markdown",
      "metadata": {},
      "source": [
        "### \u8ba8\u8bba\n"
      ]
    },
    {
      "cell_type": "markdown",
      "metadata": {},
      "source": [
        "re.compile() \u51fd\u6570\u63a5\u53d7\u4e00\u4e2a\u6807\u5fd7\u53c2\u6570\u53eb re.DOTALL \uff0c\u5728\u8fd9\u91cc\u975e\u5e38\u6709\u7528\u3002\n\u5b83\u53ef\u4ee5\u8ba9\u6b63\u5219\u8868\u8fbe\u5f0f\u4e2d\u7684\u70b9(.)\u5339\u914d\u5305\u62ec\u6362\u884c\u7b26\u5728\u5185\u7684\u4efb\u610f\u5b57\u7b26\u3002\u6bd4\u5982\uff1a"
      ]
    },
    {
      "cell_type": "code",
      "execution_count": null,
      "metadata": {},
      "outputs": [],
      "source": [
        "comment = re.compile(r'/\\*(.*?)\\*/', re.DOTALL)\ncomment.findall(text2)"
      ]
    },
    {
      "cell_type": "markdown",
      "metadata": {},
      "source": [
        "\u5bf9\u4e8e\u7b80\u5355\u7684\u60c5\u51b5\u4f7f\u7528 re.DOTALL \u6807\u8bb0\u53c2\u6570\u5de5\u4f5c\u7684\u5f88\u597d\uff0c\n\u4f46\u662f\u5982\u679c\u6a21\u5f0f\u975e\u5e38\u590d\u6742\u6216\u8005\u662f\u4e3a\u4e86\u6784\u9020\u5b57\u7b26\u4e32\u4ee4\u724c\u800c\u5c06\u591a\u4e2a\u6a21\u5f0f\u5408\u5e76\u8d77\u6765(2.18\u8282\u6709\u8be6\u7ec6\u63cf\u8ff0)\uff0c\n\u8fd9\u65f6\u5019\u4f7f\u7528\u8fd9\u4e2a\u6807\u8bb0\u53c2\u6570\u5c31\u53ef\u80fd\u51fa\u73b0\u4e00\u4e9b\u95ee\u9898\u3002\n\u5982\u679c\u8ba9\u4f60\u9009\u62e9\u7684\u8bdd\uff0c\u6700\u597d\u8fd8\u662f\u5b9a\u4e49\u81ea\u5df1\u7684\u6b63\u5219\u8868\u8fbe\u5f0f\u6a21\u5f0f\uff0c\u8fd9\u6837\u5b83\u53ef\u4ee5\u5728\u4e0d\u9700\u8981\u989d\u5916\u7684\u6807\u8bb0\u53c2\u6570\u4e0b\u4e5f\u80fd\u5de5\u4f5c\u7684\u5f88\u597d\u3002"
      ]
    },
    {
      "cell_type": "markdown",
      "metadata": {},
      "source": [
        "## 2.9 \u5c06Unicode\u6587\u672c\u6807\u51c6\u5316\n"
      ]
    },
    {
      "cell_type": "markdown",
      "metadata": {},
      "source": [
        "### \u95ee\u9898\n"
      ]
    },
    {
      "cell_type": "markdown",
      "metadata": {},
      "source": [
        "\u4f60\u6b63\u5728\u5904\u7406Unicode\u5b57\u7b26\u4e32\uff0c\u9700\u8981\u786e\u4fdd\u6240\u6709\u5b57\u7b26\u4e32\u5728\u5e95\u5c42\u6709\u76f8\u540c\u7684\u8868\u793a\u3002"
      ]
    },
    {
      "cell_type": "markdown",
      "metadata": {},
      "source": [
        "### \u89e3\u51b3\u65b9\u6848\n"
      ]
    },
    {
      "cell_type": "markdown",
      "metadata": {},
      "source": [
        "\u5728Unicode\u4e2d\uff0c\u67d0\u4e9b\u5b57\u7b26\u80fd\u591f\u7528\u591a\u4e2a\u5408\u6cd5\u7684\u7f16\u7801\u8868\u793a\u3002\u4e3a\u4e86\u8bf4\u660e\uff0c\u8003\u8651\u4e0b\u9762\u7684\u8fd9\u4e2a\u4f8b\u5b50\uff1a"
      ]
    },
    {
      "cell_type": "code",
      "execution_count": null,
      "metadata": {},
      "outputs": [],
      "source": [
        "s1 = 'Spicy Jalape\\u00f1o'\ns2 = 'Spicy Jalapen\\u0303o'\ns1"
      ]
    },
    {
      "cell_type": "code",
      "execution_count": null,
      "metadata": {},
      "outputs": [],
      "source": [
        "s2"
      ]
    },
    {
      "cell_type": "code",
      "execution_count": null,
      "metadata": {},
      "outputs": [],
      "source": [
        "s1 == s2"
      ]
    },
    {
      "cell_type": "code",
      "execution_count": null,
      "metadata": {},
      "outputs": [],
      "source": [
        "len(s1)"
      ]
    },
    {
      "cell_type": "code",
      "execution_count": null,
      "metadata": {},
      "outputs": [],
      "source": [
        "len(s2)"
      ]
    },
    {
      "cell_type": "markdown",
      "metadata": {},
      "source": [
        "\u8fd9\u91cc\u7684\u6587\u672c\u201dSpicy Jalape\u00f1o\u201d\u4f7f\u7528\u4e86\u4e24\u79cd\u5f62\u5f0f\u6765\u8868\u793a\u3002\n\u7b2c\u4e00\u79cd\u4f7f\u7528\u6574\u4f53\u5b57\u7b26\u201d\u00f1\u201d(U+00F1)\uff0c\u7b2c\u4e8c\u79cd\u4f7f\u7528\u62c9\u4e01\u5b57\u6bcd\u201dn\u201d\u540e\u9762\u8ddf\u4e00\u4e2a\u201d~\u201d\u7684\u7ec4\u5408\u5b57\u7b26(U+0303)\u3002"
      ]
    },
    {
      "cell_type": "markdown",
      "metadata": {},
      "source": [
        "\u5728\u9700\u8981\u6bd4\u8f83\u5b57\u7b26\u4e32\u7684\u7a0b\u5e8f\u4e2d\u4f7f\u7528\u5b57\u7b26\u7684\u591a\u79cd\u8868\u793a\u4f1a\u4ea7\u751f\u95ee\u9898\u3002\n\u4e3a\u4e86\u4fee\u6b63\u8fd9\u4e2a\u95ee\u9898\uff0c\u4f60\u53ef\u4ee5\u4f7f\u7528unicodedata\u6a21\u5757\u5148\u5c06\u6587\u672c\u6807\u51c6\u5316\uff1a"
      ]
    },
    {
      "cell_type": "code",
      "execution_count": null,
      "metadata": {},
      "outputs": [],
      "source": [
        "import unicodedata\nt1 = unicodedata.normalize('NFC', s1)\nt2 = unicodedata.normalize('NFC', s2)\nt1 == t2"
      ]
    },
    {
      "cell_type": "code",
      "execution_count": null,
      "metadata": {},
      "outputs": [],
      "source": [
        "print(ascii(t1))"
      ]
    },
    {
      "cell_type": "code",
      "execution_count": null,
      "metadata": {},
      "outputs": [],
      "source": [
        "t3 = unicodedata.normalize('NFD', s1)\nt4 = unicodedata.normalize('NFD', s2)\nt3 == t4"
      ]
    },
    {
      "cell_type": "code",
      "execution_count": null,
      "metadata": {},
      "outputs": [],
      "source": [
        "print(ascii(t3))"
      ]
    },
    {
      "cell_type": "markdown",
      "metadata": {},
      "source": [
        "normalize() \u7b2c\u4e00\u4e2a\u53c2\u6570\u6307\u5b9a\u5b57\u7b26\u4e32\u6807\u51c6\u5316\u7684\u65b9\u5f0f\u3002\nNFC\u8868\u793a\u5b57\u7b26\u5e94\u8be5\u662f\u6574\u4f53\u7ec4\u6210(\u6bd4\u5982\u53ef\u80fd\u7684\u8bdd\u5c31\u4f7f\u7528\u5355\u4e00\u7f16\u7801)\uff0c\u800cNFD\u8868\u793a\u5b57\u7b26\u5e94\u8be5\u5206\u89e3\u4e3a\u591a\u4e2a\u7ec4\u5408\u5b57\u7b26\u8868\u793a\u3002"
      ]
    },
    {
      "cell_type": "markdown",
      "metadata": {},
      "source": [
        "Python\u540c\u6837\u652f\u6301\u6269\u5c55\u7684\u6807\u51c6\u5316\u5f62\u5f0fNFKC\u548cNFKD\uff0c\u5b83\u4eec\u5728\u5904\u7406\u67d0\u4e9b\u5b57\u7b26\u7684\u65f6\u5019\u589e\u52a0\u4e86\u989d\u5916\u7684\u517c\u5bb9\u7279\u6027\u3002\u6bd4\u5982\uff1a"
      ]
    },
    {
      "cell_type": "code",
      "execution_count": null,
      "metadata": {},
      "outputs": [],
      "source": [
        "s = '\\ufb01' # A single character\ns"
      ]
    },
    {
      "cell_type": "code",
      "execution_count": null,
      "metadata": {},
      "outputs": [],
      "source": [
        "unicodedata.normalize('NFD', s)"
      ]
    },
    {
      "cell_type": "code",
      "execution_count": null,
      "metadata": {},
      "outputs": [],
      "source": [
        "unicodedata.normalize('NFKD', s)"
      ]
    },
    {
      "cell_type": "code",
      "execution_count": null,
      "metadata": {},
      "outputs": [],
      "source": [
        "unicodedata.normalize('NFKC', s)"
      ]
    },
    {
      "cell_type": "markdown",
      "metadata": {},
      "source": [
        "### \u8ba8\u8bba\n"
      ]
    },
    {
      "cell_type": "markdown",
      "metadata": {},
      "source": [
        "\u6807\u51c6\u5316\u5bf9\u4e8e\u4efb\u4f55\u9700\u8981\u4ee5\u4e00\u81f4\u7684\u65b9\u5f0f\u5904\u7406Unicode\u6587\u672c\u7684\u7a0b\u5e8f\u90fd\u662f\u975e\u5e38\u91cd\u8981\u7684\u3002\n\u5f53\u5904\u7406\u6765\u81ea\u7528\u6237\u8f93\u5165\u7684\u5b57\u7b26\u4e32\u800c\u4f60\u5f88\u96be\u53bb\u63a7\u5236\u7f16\u7801\u7684\u65f6\u5019\u5c24\u5176\u5982\u6b64\u3002"
      ]
    },
    {
      "cell_type": "markdown",
      "metadata": {},
      "source": [
        "\u5728\u6e05\u7406\u548c\u8fc7\u6ee4\u6587\u672c\u7684\u65f6\u5019\u5b57\u7b26\u7684\u6807\u51c6\u5316\u4e5f\u662f\u5f88\u91cd\u8981\u7684\u3002\n\u6bd4\u5982\uff0c\u5047\u8bbe\u4f60\u60f3\u6e05\u9664\u6389\u4e00\u4e9b\u6587\u672c\u4e0a\u9762\u7684\u53d8\u97f3\u7b26\u7684\u65f6\u5019(\u53ef\u80fd\u662f\u4e3a\u4e86\u641c\u7d22\u548c\u5339\u914d)\uff1a"
      ]
    },
    {
      "cell_type": "code",
      "execution_count": null,
      "metadata": {},
      "outputs": [],
      "source": [
        "t1 = unicodedata.normalize('NFD', s1)\n''.join(c for c in t1 if not unicodedata.combining(c))"
      ]
    },
    {
      "cell_type": "markdown",
      "metadata": {},
      "source": [
        "\u6700\u540e\u4e00\u4e2a\u4f8b\u5b50\u5c55\u793a\u4e86 unicodedata \u6a21\u5757\u7684\u53e6\u4e00\u4e2a\u91cd\u8981\u65b9\u9762\uff0c\u4e5f\u5c31\u662f\u6d4b\u8bd5\u5b57\u7b26\u7c7b\u7684\u5de5\u5177\u51fd\u6570\u3002\ncombining() \u51fd\u6570\u53ef\u4ee5\u6d4b\u8bd5\u4e00\u4e2a\u5b57\u7b26\u662f\u5426\u4e3a\u548c\u97f3\u5b57\u7b26\u3002\n\u5728\u8fd9\u4e2a\u6a21\u5757\u4e2d\u8fd8\u6709\u5176\u4ed6\u51fd\u6570\u7528\u4e8e\u67e5\u627e\u5b57\u7b26\u7c7b\u522b\uff0c\u6d4b\u8bd5\u662f\u5426\u4e3a\u6570\u5b57\u5b57\u7b26\u7b49\u7b49\u3002"
      ]
    },
    {
      "cell_type": "markdown",
      "metadata": {},
      "source": [
        "Unicode\u663e\u7136\u662f\u4e00\u4e2a\u5f88\u5927\u7684\u4e3b\u9898\u3002\u5982\u679c\u60f3\u66f4\u6df1\u5165\u7684\u4e86\u89e3\u5173\u4e8e\u6807\u51c6\u5316\u65b9\u9762\u7684\u4fe1\u606f\uff0c\n\u8bf7\u770b\u8003 Unicode\u5b98\u7f51\u4e2d\u5173\u4e8e\u8fd9\u90e8\u5206\u7684\u8bf4\u660e\nNed Batchelder\u5728 \u4ed6\u7684\u7f51\u7ad9\n\u4e0a\u5bf9Python\u7684Unicode\u5904\u7406\u95ee\u9898\u4e5f\u6709\u4e00\u4e2a\u5f88\u597d\u7684\u4ecb\u7ecd\u3002"
      ]
    },
    {
      "cell_type": "markdown",
      "metadata": {},
      "source": [
        "## 2.10 \u5728\u6b63\u5219\u5f0f\u4e2d\u4f7f\u7528Unicode\n"
      ]
    },
    {
      "cell_type": "markdown",
      "metadata": {},
      "source": [
        "### \u95ee\u9898\n"
      ]
    },
    {
      "cell_type": "markdown",
      "metadata": {},
      "source": [
        "\u4f60\u6b63\u5728\u4f7f\u7528\u6b63\u5219\u8868\u8fbe\u5f0f\u5904\u7406\u6587\u672c\uff0c\u4f46\u662f\u5173\u6ce8\u7684\u662fUnicode\u5b57\u7b26\u5904\u7406\u3002"
      ]
    },
    {
      "cell_type": "markdown",
      "metadata": {},
      "source": [
        "### \u89e3\u51b3\u65b9\u6848\n"
      ]
    },
    {
      "cell_type": "markdown",
      "metadata": {},
      "source": [
        "\u9ed8\u8ba4\u60c5\u51b5\u4e0b re \u6a21\u5757\u5df2\u7ecf\u5bf9\u4e00\u4e9bUnicode\u5b57\u7b26\u7c7b\u6709\u4e86\u57fa\u672c\u7684\u652f\u6301\u3002\n\u6bd4\u5982\uff0c \\\\d \u5df2\u7ecf\u5339\u914d\u4efb\u610f\u7684unicode\u6570\u5b57\u5b57\u7b26\u4e86\uff1a"
      ]
    },
    {
      "cell_type": "code",
      "execution_count": null,
      "metadata": {},
      "outputs": [],
      "source": [
        "import re\nnum = re.compile('\\d+')\n# ASCII digits\nnum.match('123')"
      ]
    },
    {
      "cell_type": "code",
      "execution_count": null,
      "metadata": {},
      "outputs": [],
      "source": [
        "# Arabic digits\nnum.match('\\u0661\\u0662\\u0663')"
      ]
    },
    {
      "cell_type": "markdown",
      "metadata": {},
      "source": [
        "\u5982\u679c\u4f60\u60f3\u5728\u6a21\u5f0f\u4e2d\u5305\u542b\u6307\u5b9a\u7684Unicode\u5b57\u7b26\uff0c\u4f60\u53ef\u4ee5\u4f7f\u7528Unicode\u5b57\u7b26\u5bf9\u5e94\u7684\u8f6c\u4e49\u5e8f\u5217(\u6bd4\u5982 \\uFFF \u6216\u8005 \\UFFFFFFF )\u3002\n\u6bd4\u5982\uff0c\u4e0b\u9762\u662f\u4e00\u4e2a\u5339\u914d\u51e0\u4e2a\u4e0d\u540c\u963f\u62c9\u4f2f\u7f16\u7801\u9875\u9762\u4e2d\u6240\u6709\u5b57\u7b26\u7684\u6b63\u5219\u8868\u8fbe\u5f0f\uff1a"
      ]
    },
    {
      "cell_type": "code",
      "execution_count": null,
      "metadata": {},
      "outputs": [],
      "source": [
        "arabic = re.compile('[\\u0600-\\u06ff\\u0750-\\u077f\\u08a0-\\u08ff]+')"
      ]
    },
    {
      "cell_type": "markdown",
      "metadata": {},
      "source": [
        "\u5f53\u6267\u884c\u5339\u914d\u548c\u641c\u7d22\u64cd\u4f5c\u7684\u65f6\u5019\uff0c\u6700\u597d\u662f\u5148\u6807\u51c6\u5316\u5e76\u4e14\u6e05\u7406\u6240\u6709\u6587\u672c\u4e3a\u6807\u51c6\u5316\u683c\u5f0f(\u53c2\u80032.9\u5c0f\u8282)\u3002\n\u4f46\u662f\u540c\u6837\u4e5f\u5e94\u8be5\u6ce8\u610f\u4e00\u4e9b\u7279\u6b8a\u60c5\u51b5\uff0c\u6bd4\u5982\u5728\u5ffd\u7565\u5927\u5c0f\u5199\u5339\u914d\u548c\u5927\u5c0f\u5199\u8f6c\u6362\u65f6\u7684\u884c\u4e3a\u3002"
      ]
    },
    {
      "cell_type": "code",
      "execution_count": null,
      "metadata": {},
      "outputs": [],
      "source": [
        "pat = re.compile('stra\\u00dfe', re.IGNORECASE)\ns = 'stra\u00dfe'\npat.match(s) # Matches"
      ]
    },
    {
      "cell_type": "code",
      "execution_count": null,
      "metadata": {},
      "outputs": [],
      "source": [
        "pat.match(s.upper()) # Doesn't match\ns.upper() # Case folds"
      ]
    },
    {
      "cell_type": "markdown",
      "metadata": {},
      "source": [
        "### \u8ba8\u8bba\n"
      ]
    },
    {
      "cell_type": "markdown",
      "metadata": {},
      "source": [
        "\u6df7\u5408\u4f7f\u7528Unicode\u548c\u6b63\u5219\u8868\u8fbe\u5f0f\u901a\u5e38\u4f1a\u8ba9\u4f60\u6293\u72c2\u3002\n\u5982\u679c\u4f60\u771f\u7684\u6253\u7b97\u8fd9\u6837\u505a\u7684\u8bdd\uff0c\u6700\u597d\u8003\u8651\u4e0b\u5b89\u88c5\u7b2c\u4e09\u65b9\u6b63\u5219\u5f0f\u5e93\uff0c\n\u5b83\u4eec\u4f1a\u4e3aUnicode\u7684\u5927\u5c0f\u5199\u8f6c\u6362\u548c\u5176\u4ed6\u5927\u91cf\u6709\u8da3\u7279\u6027\u63d0\u4f9b\u5168\u9762\u7684\u652f\u6301\uff0c\u5305\u62ec\u6a21\u7cca\u5339\u914d\u3002"
      ]
    },
    {
      "cell_type": "markdown",
      "metadata": {},
      "source": [
        "## 2.11 \u5220\u9664\u5b57\u7b26\u4e32\u4e2d\u4e0d\u9700\u8981\u7684\u5b57\u7b26\n"
      ]
    },
    {
      "cell_type": "markdown",
      "metadata": {},
      "source": [
        "### \u95ee\u9898\n"
      ]
    },
    {
      "cell_type": "markdown",
      "metadata": {},
      "source": [
        "\u4f60\u60f3\u53bb\u6389\u6587\u672c\u5b57\u7b26\u4e32\u5f00\u5934\uff0c\u7ed3\u5c3e\u6216\u8005\u4e2d\u95f4\u4e0d\u60f3\u8981\u7684\u5b57\u7b26\uff0c\u6bd4\u5982\u7a7a\u767d\u3002"
      ]
    },
    {
      "cell_type": "markdown",
      "metadata": {},
      "source": [
        "### \u89e3\u51b3\u65b9\u6848\n"
      ]
    },
    {
      "cell_type": "markdown",
      "metadata": {},
      "source": [
        "strip() \u65b9\u6cd5\u80fd\u7528\u4e8e\u5220\u9664\u5f00\u59cb\u6216\u7ed3\u5c3e\u7684\u5b57\u7b26\u3002 lstrip() \u548c rstrip() \u5206\u522b\u4ece\u5de6\u548c\u4ece\u53f3\u6267\u884c\u5220\u9664\u64cd\u4f5c\u3002\n\u9ed8\u8ba4\u60c5\u51b5\u4e0b\uff0c\u8fd9\u4e9b\u65b9\u6cd5\u4f1a\u53bb\u9664\u7a7a\u767d\u5b57\u7b26\uff0c\u4f46\u662f\u4f60\u4e5f\u53ef\u4ee5\u6307\u5b9a\u5176\u4ed6\u5b57\u7b26\u3002\u6bd4\u5982\uff1a"
      ]
    },
    {
      "cell_type": "code",
      "execution_count": null,
      "metadata": {},
      "outputs": [],
      "source": [
        "# Whitespace stripping\ns = ' hello world \\n'\ns.strip()"
      ]
    },
    {
      "cell_type": "code",
      "execution_count": null,
      "metadata": {},
      "outputs": [],
      "source": [
        "s.lstrip()"
      ]
    },
    {
      "cell_type": "code",
      "execution_count": null,
      "metadata": {},
      "outputs": [],
      "source": [
        "s.rstrip()"
      ]
    },
    {
      "cell_type": "code",
      "execution_count": null,
      "metadata": {},
      "outputs": [],
      "source": [
        "# Character stripping\nt = '-----hello====='\nt.lstrip('-')"
      ]
    },
    {
      "cell_type": "code",
      "execution_count": null,
      "metadata": {},
      "outputs": [],
      "source": [
        "t.strip('-=')"
      ]
    },
    {
      "cell_type": "markdown",
      "metadata": {},
      "source": [
        "### \u8ba8\u8bba\n"
      ]
    },
    {
      "cell_type": "markdown",
      "metadata": {},
      "source": [
        "\u8fd9\u4e9b strip() \u65b9\u6cd5\u5728\u8bfb\u53d6\u548c\u6e05\u7406\u6570\u636e\u4ee5\u5907\u540e\u7eed\u5904\u7406\u7684\u65f6\u5019\u662f\u7ecf\u5e38\u4f1a\u88ab\u7528\u5230\u7684\u3002\n\u6bd4\u5982\uff0c\u4f60\u53ef\u4ee5\u7528\u5b83\u4eec\u6765\u53bb\u6389\u7a7a\u683c\uff0c\u5f15\u53f7\u548c\u5b8c\u6210\u5176\u4ed6\u4efb\u52a1\u3002"
      ]
    },
    {
      "cell_type": "markdown",
      "metadata": {},
      "source": [
        "\u4f46\u662f\u9700\u8981\u6ce8\u610f\u7684\u662f\u53bb\u9664\u64cd\u4f5c\u4e0d\u4f1a\u5bf9\u5b57\u7b26\u4e32\u7684\u4e2d\u95f4\u7684\u6587\u672c\u4ea7\u751f\u4efb\u4f55\u5f71\u54cd\u3002\u6bd4\u5982\uff1a"
      ]
    },
    {
      "cell_type": "code",
      "execution_count": null,
      "metadata": {},
      "outputs": [],
      "source": [
        "s = ' hello     world \\n'\ns = s.strip()\ns"
      ]
    },
    {
      "cell_type": "markdown",
      "metadata": {},
      "source": [
        "\u5982\u679c\u4f60\u60f3\u5904\u7406\u4e2d\u95f4\u7684\u7a7a\u683c\uff0c\u90a3\u4e48\u4f60\u9700\u8981\u6c42\u52a9\u5176\u4ed6\u6280\u672f\u3002\u6bd4\u5982\u4f7f\u7528 replace() \u65b9\u6cd5\u6216\u8005\u662f\u7528\u6b63\u5219\u8868\u8fbe\u5f0f\u66ff\u6362\u3002\u793a\u4f8b\u5982\u4e0b\uff1a"
      ]
    },
    {
      "cell_type": "code",
      "execution_count": null,
      "metadata": {},
      "outputs": [],
      "source": [
        "s.replace(' ', '')"
      ]
    },
    {
      "cell_type": "code",
      "execution_count": null,
      "metadata": {},
      "outputs": [],
      "source": [
        "import re\nre.sub('\\s+', ' ', s)"
      ]
    },
    {
      "cell_type": "markdown",
      "metadata": {},
      "source": [
        "\u901a\u5e38\u60c5\u51b5\u4e0b\u4f60\u60f3\u5c06\u5b57\u7b26\u4e32 strip \u64cd\u4f5c\u548c\u5176\u4ed6\u8fed\u4ee3\u64cd\u4f5c\u76f8\u7ed3\u5408\uff0c\u6bd4\u5982\u4ece\u6587\u4ef6\u4e2d\u8bfb\u53d6\u591a\u884c\u6570\u636e\u3002\n\u5982\u679c\u662f\u8fd9\u6837\u7684\u8bdd\uff0c\u90a3\u4e48\u751f\u6210\u5668\u8868\u8fbe\u5f0f\u5c31\u53ef\u4ee5\u5927\u663e\u8eab\u624b\u4e86\u3002\u6bd4\u5982\uff1a"
      ]
    },
    {
      "cell_type": "code",
      "execution_count": null,
      "metadata": {},
      "outputs": [],
      "source": [
        "with open(filename) as f:\n    lines = (line.strip() for line in f)\n    for line in lines:\n        print(line)"
      ]
    },
    {
      "cell_type": "markdown",
      "metadata": {},
      "source": [
        "\u5728\u8fd9\u91cc\uff0c\u8868\u8fbe\u5f0f lines = (line.strip() for line in f) \u6267\u884c\u6570\u636e\u8f6c\u6362\u64cd\u4f5c\u3002\n\u8fd9\u79cd\u65b9\u5f0f\u975e\u5e38\u9ad8\u6548\uff0c\u56e0\u4e3a\u5b83\u4e0d\u9700\u8981\u9884\u5148\u8bfb\u53d6\u6240\u6709\u6570\u636e\u653e\u5230\u4e00\u4e2a\u4e34\u65f6\u7684\u5217\u8868\u4e2d\u53bb\u3002\n\u5b83\u4ec5\u4ec5\u53ea\u662f\u521b\u5efa\u4e00\u4e2a\u751f\u6210\u5668\uff0c\u5e76\u4e14\u6bcf\u6b21\u8fd4\u56de\u884c\u4e4b\u524d\u4f1a\u5148\u6267\u884c strip \u64cd\u4f5c\u3002"
      ]
    },
    {
      "cell_type": "markdown",
      "metadata": {},
      "source": [
        "\u5bf9\u4e8e\u66f4\u9ad8\u9636\u7684strip\uff0c\u4f60\u53ef\u80fd\u9700\u8981\u4f7f\u7528 translate() \u65b9\u6cd5\u3002\u8bf7\u53c2\u9605\u4e0b\u4e00\u8282\u4e86\u89e3\u66f4\u591a\u5173\u4e8e\u5b57\u7b26\u4e32\u6e05\u7406\u7684\u5185\u5bb9\u3002"
      ]
    },
    {
      "cell_type": "markdown",
      "metadata": {},
      "source": [
        "## 2.12 \u5ba1\u67e5\u6e05\u7406\u6587\u672c\u5b57\u7b26\u4e32\n"
      ]
    },
    {
      "cell_type": "markdown",
      "metadata": {},
      "source": [
        "### \u95ee\u9898\n"
      ]
    },
    {
      "cell_type": "markdown",
      "metadata": {},
      "source": [
        "\u4e00\u4e9b\u65e0\u804a\u7684\u5e7c\u7a1a\u9ed1\u5ba2\u5728\u4f60\u7684\u7f51\u7ad9\u9875\u9762\u8868\u5355\u4e2d\u8f93\u5165\u6587\u672c\u201dp\u00fdt\u0125\u00f6\u00f1\u201d\uff0c\u7136\u540e\u4f60\u60f3\u5c06\u8fd9\u4e9b\u5b57\u7b26\u6e05\u7406\u6389\u3002"
      ]
    },
    {
      "cell_type": "markdown",
      "metadata": {},
      "source": [
        "### \u89e3\u51b3\u65b9\u6848\n"
      ]
    },
    {
      "cell_type": "markdown",
      "metadata": {},
      "source": [
        "\u6587\u672c\u6e05\u7406\u95ee\u9898\u4f1a\u6d89\u53ca\u5230\u5305\u62ec\u6587\u672c\u89e3\u6790\u4e0e\u6570\u636e\u5904\u7406\u7b49\u4e00\u7cfb\u5217\u95ee\u9898\u3002\n\u5728\u975e\u5e38\u7b80\u5355\u7684\u60c5\u5f62\u4e0b\uff0c\u4f60\u53ef\u80fd\u4f1a\u9009\u62e9\u4f7f\u7528\u5b57\u7b26\u4e32\u51fd\u6570(\u6bd4\u5982 str.upper() \u548c str.lower() )\u5c06\u6587\u672c\u8f6c\u4e3a\u6807\u51c6\u683c\u5f0f\u3002\n\u4f7f\u7528 str.replace() \u6216\u8005 re.sub() \u7684\u7b80\u5355\u66ff\u6362\u64cd\u4f5c\u80fd\u5220\u9664\u6216\u8005\u6539\u53d8\u6307\u5b9a\u7684\u5b57\u7b26\u5e8f\u5217\u3002\n\u4f60\u540c\u6837\u8fd8\u53ef\u4ee5\u4f7f\u75282.9\u5c0f\u8282\u7684 unicodedata.normalize() \u51fd\u6570\u5c06unicode\u6587\u672c\u6807\u51c6\u5316\u3002"
      ]
    },
    {
      "cell_type": "markdown",
      "metadata": {},
      "source": [
        "\u7136\u540e\uff0c\u6709\u65f6\u5019\u4f60\u53ef\u80fd\u8fd8\u60f3\u5728\u6e05\u7406\u64cd\u4f5c\u4e0a\u66f4\u8fdb\u4e00\u6b65\u3002\u6bd4\u5982\uff0c\u4f60\u53ef\u80fd\u60f3\u6d88\u9664\u6574\u4e2a\u533a\u95f4\u4e0a\u7684\u5b57\u7b26\u6216\u8005\u53bb\u9664\u53d8\u97f3\u7b26\u3002\n\u4e3a\u4e86\u8fd9\u6837\u505a\uff0c\u4f60\u53ef\u4ee5\u4f7f\u7528\u7ecf\u5e38\u4f1a\u88ab\u5ffd\u89c6\u7684 str.translate() \u65b9\u6cd5\u3002\n\u4e3a\u4e86\u6f14\u793a\uff0c\u5047\u8bbe\u4f60\u73b0\u5728\u6709\u4e0b\u9762\u8fd9\u4e2a\u51cc\u4e71\u7684\u5b57\u7b26\u4e32\uff1a"
      ]
    },
    {
      "cell_type": "code",
      "execution_count": null,
      "metadata": {},
      "outputs": [],
      "source": [
        "s = 'p\u00fdt\u0125\u00f6\u00f1\\fis\\tawesome\\r\\n'\ns"
      ]
    },
    {
      "cell_type": "markdown",
      "metadata": {},
      "source": [
        "\u7b2c\u4e00\u6b65\u662f\u6e05\u7406\u7a7a\u767d\u5b57\u7b26\u3002\u4e3a\u4e86\u8fd9\u6837\u505a\uff0c\u5148\u521b\u5efa\u4e00\u4e2a\u5c0f\u7684\u8f6c\u6362\u8868\u683c\u7136\u540e\u4f7f\u7528 translate() \u65b9\u6cd5\uff1a"
      ]
    },
    {
      "cell_type": "code",
      "execution_count": null,
      "metadata": {},
      "outputs": [],
      "source": [
        "remap = {\n    ord('\\t') : ' ',\n    ord('\\f') : ' ',\n    ord('\\r') : None # Deleted\n}\na = s.translate(remap)\na"
      ]
    },
    {
      "cell_type": "markdown",
      "metadata": {},
      "source": [
        "\u6b63\u5982\u4f60\u770b\u7684\u90a3\u6837\uff0c\u7a7a\u767d\u5b57\u7b26 \\t \u548c \\f \u5df2\u7ecf\u88ab\u91cd\u65b0\u6620\u5c04\u5230\u4e00\u4e2a\u7a7a\u683c\u3002\u56de\u8f66\u5b57\u7b26r\u76f4\u63a5\u88ab\u5220\u9664\u3002"
      ]
    },
    {
      "cell_type": "markdown",
      "metadata": {},
      "source": [
        "\u4f60\u53ef\u4ee5\u4ee5\u8fd9\u4e2a\u8868\u683c\u4e3a\u57fa\u7840\u8fdb\u4e00\u6b65\u6784\u5efa\u66f4\u5927\u7684\u8868\u683c\u3002\u6bd4\u5982\uff0c\u8ba9\u6211\u4eec\u5220\u9664\u6240\u6709\u7684\u548c\u97f3\u7b26\uff1a"
      ]
    },
    {
      "cell_type": "code",
      "execution_count": null,
      "metadata": {},
      "outputs": [],
      "source": [
        "import unicodedata\nimport sys\ncmb_chrs = dict.fromkeys(c for c in range(sys.maxunicode)\n                        if unicodedata.combining(chr(c)))\nb = unicodedata.normalize('NFD', a)\nb"
      ]
    },
    {
      "cell_type": "code",
      "execution_count": null,
      "metadata": {},
      "outputs": [],
      "source": [
        "b.translate(cmb_chrs)"
      ]
    },
    {
      "cell_type": "markdown",
      "metadata": {},
      "source": [
        "\u4e0a\u9762\u4f8b\u5b50\u4e2d\uff0c\u901a\u8fc7\u4f7f\u7528 dict.fromkeys() \u65b9\u6cd5\u6784\u9020\u4e00\u4e2a\u5b57\u5178\uff0c\u6bcf\u4e2aUnicode\u548c\u97f3\u7b26\u4f5c\u4e3a\u952e\uff0c\u5bf9\u5e94\u7684\u503c\u5168\u90e8\u4e3a None \u3002"
      ]
    },
    {
      "cell_type": "markdown",
      "metadata": {},
      "source": [
        "\u7136\u540e\u4f7f\u7528 unicodedata.normalize() \u5c06\u539f\u59cb\u8f93\u5165\u6807\u51c6\u5316\u4e3a\u5206\u89e3\u5f62\u5f0f\u5b57\u7b26\u3002\n\u7136\u540e\u518d\u8c03\u7528 translate \u51fd\u6570\u5220\u9664\u6240\u6709\u91cd\u97f3\u7b26\u3002\n\u540c\u6837\u7684\u6280\u672f\u4e5f\u53ef\u4ee5\u88ab\u7528\u6765\u5220\u9664\u5176\u4ed6\u7c7b\u578b\u7684\u5b57\u7b26(\u6bd4\u5982\u63a7\u5236\u5b57\u7b26\u7b49)\u3002"
      ]
    },
    {
      "cell_type": "markdown",
      "metadata": {},
      "source": [
        "\u4f5c\u4e3a\u53e6\u4e00\u4e2a\u4f8b\u5b50\uff0c\u8fd9\u91cc\u6784\u9020\u4e00\u4e2a\u5c06\u6240\u6709Unicode\u6570\u5b57\u5b57\u7b26\u6620\u5c04\u5230\u5bf9\u5e94\u7684ASCII\u5b57\u7b26\u4e0a\u7684\u8868\u683c\uff1a"
      ]
    },
    {
      "cell_type": "code",
      "execution_count": null,
      "metadata": {},
      "outputs": [],
      "source": [
        "digitmap = { c: ord('0') + unicodedata.digit(chr(c))\n        for c in range(sys.maxunicode)\n        if unicodedata.category(chr(c)) == 'Nd' }\nlen(digitmap)"
      ]
    },
    {
      "cell_type": "code",
      "execution_count": null,
      "metadata": {},
      "outputs": [],
      "source": [
        "# Arabic digits\nx = '\\u0661\\u0662\\u0663'\nx.translate(digitmap)"
      ]
    },
    {
      "cell_type": "markdown",
      "metadata": {},
      "source": [
        "\u53e6\u4e00\u79cd\u6e05\u7406\u6587\u672c\u7684\u6280\u672f\u6d89\u53ca\u5230I/O\u89e3\u7801\u4e0e\u7f16\u7801\u51fd\u6570\u3002\u8fd9\u91cc\u7684\u601d\u8def\u662f\u5148\u5bf9\u6587\u672c\u505a\u4e00\u4e9b\u521d\u6b65\u7684\u6e05\u7406\uff0c\n\u7136\u540e\u518d\u7ed3\u5408 encode() \u6216\u8005 decode() \u64cd\u4f5c\u6765\u6e05\u9664\u6216\u4fee\u6539\u5b83\u3002\u6bd4\u5982\uff1a"
      ]
    },
    {
      "cell_type": "code",
      "execution_count": null,
      "metadata": {},
      "outputs": [],
      "source": [
        "a"
      ]
    },
    {
      "cell_type": "code",
      "execution_count": null,
      "metadata": {},
      "outputs": [],
      "source": [
        "b = unicodedata.normalize('NFD', a)\nb.encode('ascii', 'ignore').decode('ascii')"
      ]
    },
    {
      "cell_type": "markdown",
      "metadata": {},
      "source": [
        "\u8fd9\u91cc\u7684\u6807\u51c6\u5316\u64cd\u4f5c\u5c06\u539f\u6765\u7684\u6587\u672c\u5206\u89e3\u4e3a\u5355\u72ec\u7684\u548c\u97f3\u7b26\u3002\u63a5\u4e0b\u6765\u7684ASCII\u7f16\u7801/\u89e3\u7801\u53ea\u662f\u7b80\u5355\u7684\u4e00\u4e0b\u5b50\u4e22\u5f03\u6389\u90a3\u4e9b\u5b57\u7b26\u3002\n\u5f53\u7136\uff0c\u8fd9\u79cd\u65b9\u6cd5\u4ec5\u4ec5\u53ea\u5728\u6700\u540e\u7684\u76ee\u6807\u5c31\u662f\u83b7\u53d6\u5230\u6587\u672c\u5bf9\u5e94ACSII\u8868\u793a\u7684\u65f6\u5019\u751f\u6548\u3002"
      ]
    },
    {
      "cell_type": "markdown",
      "metadata": {},
      "source": [
        "### \u8ba8\u8bba\n"
      ]
    },
    {
      "cell_type": "markdown",
      "metadata": {},
      "source": [
        "\u6587\u672c\u5b57\u7b26\u6e05\u7406\u4e00\u4e2a\u6700\u4e3b\u8981\u7684\u95ee\u9898\u5e94\u8be5\u662f\u8fd0\u884c\u7684\u6027\u80fd\u3002\u4e00\u822c\u6765\u8bb2\uff0c\u4ee3\u7801\u8d8a\u7b80\u5355\u8fd0\u884c\u8d8a\u5feb\u3002\n\u5bf9\u4e8e\u7b80\u5355\u7684\u66ff\u6362\u64cd\u4f5c\uff0c str.replace() \u65b9\u6cd5\u901a\u5e38\u662f\u6700\u5feb\u7684\uff0c\u751a\u81f3\u5728\u4f60\u9700\u8981\u591a\u6b21\u8c03\u7528\u7684\u65f6\u5019\u3002\n\u6bd4\u5982\uff0c\u4e3a\u4e86\u6e05\u7406\u7a7a\u767d\u5b57\u7b26\uff0c\u4f60\u53ef\u4ee5\u8fd9\u6837\u505a\uff1a"
      ]
    },
    {
      "cell_type": "code",
      "execution_count": null,
      "metadata": {},
      "outputs": [],
      "source": [
        "def clean_spaces(s):\n    s = s.replace('\\r', '')\n    s = s.replace('\\t', ' ')\n    s = s.replace('\\f', ' ')\n    return s"
      ]
    },
    {
      "cell_type": "markdown",
      "metadata": {},
      "source": [
        "\u5982\u679c\u4f60\u53bb\u6d4b\u8bd5\u7684\u8bdd\uff0c\u4f60\u5c31\u4f1a\u53d1\u73b0\u8fd9\u79cd\u65b9\u5f0f\u4f1a\u6bd4\u4f7f\u7528 translate() \u6216\u8005\u6b63\u5219\u8868\u8fbe\u5f0f\u8981\u5feb\u5f88\u591a\u3002"
      ]
    },
    {
      "cell_type": "markdown",
      "metadata": {},
      "source": [
        "\u53e6\u4e00\u65b9\u9762\uff0c\u5982\u679c\u4f60\u9700\u8981\u6267\u884c\u4efb\u4f55\u590d\u6742\u5b57\u7b26\u5bf9\u5b57\u7b26\u7684\u91cd\u65b0\u6620\u5c04\u6216\u8005\u5220\u9664\u64cd\u4f5c\u7684\u8bdd\uff0c tanslate() \u65b9\u6cd5\u4f1a\u975e\u5e38\u7684\u5feb\u3002"
      ]
    },
    {
      "cell_type": "markdown",
      "metadata": {},
      "source": [
        "\u4ece\u5927\u7684\u65b9\u9762\u6765\u8bb2\uff0c\u5bf9\u4e8e\u4f60\u7684\u5e94\u7528\u7a0b\u5e8f\u6765\u8bf4\u6027\u80fd\u662f\u4f60\u4e0d\u5f97\u4e0d\u53bb\u81ea\u5df1\u7814\u7a76\u7684\u4e1c\u897f\u3002\n\u4e0d\u5e78\u7684\u662f\uff0c\u6211\u4eec\u4e0d\u53ef\u80fd\u7ed9\u4f60\u5efa\u8bae\u4e00\u4e2a\u7279\u5b9a\u7684\u6280\u672f\uff0c\u4f7f\u5b83\u80fd\u591f\u9002\u5e94\u6240\u6709\u7684\u60c5\u51b5\u3002\n\u56e0\u6b64\u5b9e\u9645\u60c5\u51b5\u4e2d\u9700\u8981\u4f60\u81ea\u5df1\u53bb\u5c1d\u8bd5\u4e0d\u540c\u7684\u65b9\u6cd5\u5e76\u8bc4\u4f30\u5b83\u3002"
      ]
    },
    {
      "cell_type": "markdown",
      "metadata": {},
      "source": [
        "\u5c3d\u7ba1\u8fd9\u4e00\u8282\u96c6\u4e2d\u8ba8\u8bba\u7684\u662f\u6587\u672c\uff0c\u4f46\u662f\u7c7b\u4f3c\u7684\u6280\u672f\u4e5f\u53ef\u4ee5\u9002\u7528\u4e8e\u5b57\u8282\uff0c\u5305\u62ec\u7b80\u5355\u7684\u66ff\u6362\uff0c\u8f6c\u6362\u548c\u6b63\u5219\u8868\u8fbe\u5f0f\u3002"
      ]
    },
    {
      "cell_type": "markdown",
      "metadata": {},
      "source": [
        "## 2.13 \u5b57\u7b26\u4e32\u5bf9\u9f50\n"
      ]
    },
    {
      "cell_type": "markdown",
      "metadata": {},
      "source": [
        "### \u95ee\u9898\n"
      ]
    },
    {
      "cell_type": "markdown",
      "metadata": {},
      "source": [
        "\u4f60\u60f3\u901a\u8fc7\u67d0\u79cd\u5bf9\u9f50\u65b9\u5f0f\u6765\u683c\u5f0f\u5316\u5b57\u7b26\u4e32"
      ]
    },
    {
      "cell_type": "markdown",
      "metadata": {},
      "source": [
        "### \u89e3\u51b3\u65b9\u6848\n"
      ]
    },
    {
      "cell_type": "markdown",
      "metadata": {},
      "source": [
        "\u5bf9\u4e8e\u57fa\u672c\u7684\u5b57\u7b26\u4e32\u5bf9\u9f50\u64cd\u4f5c\uff0c\u53ef\u4ee5\u4f7f\u7528\u5b57\u7b26\u4e32\u7684 ljust() , rjust() \u548c center() \u65b9\u6cd5\u3002\u6bd4\u5982\uff1a"
      ]
    },
    {
      "cell_type": "code",
      "execution_count": null,
      "metadata": {},
      "outputs": [],
      "source": [
        "text = 'Hello World'\ntext.ljust(20)"
      ]
    },
    {
      "cell_type": "code",
      "execution_count": null,
      "metadata": {},
      "outputs": [],
      "source": [
        "text.rjust(20)"
      ]
    },
    {
      "cell_type": "code",
      "execution_count": null,
      "metadata": {},
      "outputs": [],
      "source": [
        "text.center(20)"
      ]
    },
    {
      "cell_type": "markdown",
      "metadata": {},
      "source": [
        "\u6240\u6709\u8fd9\u4e9b\u65b9\u6cd5\u90fd\u80fd\u63a5\u53d7\u4e00\u4e2a\u53ef\u9009\u7684\u586b\u5145\u5b57\u7b26\u3002\u6bd4\u5982\uff1a"
      ]
    },
    {
      "cell_type": "code",
      "execution_count": null,
      "metadata": {},
      "outputs": [],
      "source": [
        "text.rjust(20,'=')"
      ]
    },
    {
      "cell_type": "code",
      "execution_count": null,
      "metadata": {},
      "outputs": [],
      "source": [
        "text.center(20,'*')"
      ]
    },
    {
      "cell_type": "markdown",
      "metadata": {},
      "source": [
        "\u51fd\u6570 format() \u540c\u6837\u53ef\u4ee5\u7528\u6765\u5f88\u5bb9\u6613\u7684\u5bf9\u9f50\u5b57\u7b26\u4e32\u3002\n\u4f60\u8981\u505a\u7684\u5c31\u662f\u4f7f\u7528 <,> \u6216\u8005 ^ \u5b57\u7b26\u540e\u9762\u7d27\u8ddf\u4e00\u4e2a\u6307\u5b9a\u7684\u5bbd\u5ea6\u3002\u6bd4\u5982\uff1a"
      ]
    },
    {
      "cell_type": "code",
      "execution_count": null,
      "metadata": {},
      "outputs": [],
      "source": [
        "format(text, '>20')"
      ]
    },
    {
      "cell_type": "code",
      "execution_count": null,
      "metadata": {},
      "outputs": [],
      "source": [
        "format(text, '<20')"
      ]
    },
    {
      "cell_type": "code",
      "execution_count": null,
      "metadata": {},
      "outputs": [],
      "source": [
        "format(text, '^20')"
      ]
    },
    {
      "cell_type": "markdown",
      "metadata": {},
      "source": [
        "\u5982\u679c\u4f60\u60f3\u6307\u5b9a\u4e00\u4e2a\u975e\u7a7a\u683c\u7684\u586b\u5145\u5b57\u7b26\uff0c\u5c06\u5b83\u5199\u5230\u5bf9\u9f50\u5b57\u7b26\u7684\u524d\u9762\u5373\u53ef\uff1a"
      ]
    },
    {
      "cell_type": "code",
      "execution_count": null,
      "metadata": {},
      "outputs": [],
      "source": [
        "format(text, '=>20s')"
      ]
    },
    {
      "cell_type": "code",
      "execution_count": null,
      "metadata": {},
      "outputs": [],
      "source": [
        "format(text, '*^20s')"
      ]
    },
    {
      "cell_type": "markdown",
      "metadata": {},
      "source": [
        "\u5f53\u683c\u5f0f\u5316\u591a\u4e2a\u503c\u7684\u65f6\u5019\uff0c\u8fd9\u4e9b\u683c\u5f0f\u4ee3\u7801\u4e5f\u53ef\u4ee5\u88ab\u7528\u5728 format() \u65b9\u6cd5\u4e2d\u3002\u6bd4\u5982\uff1a"
      ]
    },
    {
      "cell_type": "code",
      "execution_count": null,
      "metadata": {},
      "outputs": [],
      "source": [
        "'{:>10s} {:>10s}'.format('Hello', 'World')"
      ]
    },
    {
      "cell_type": "markdown",
      "metadata": {},
      "source": [
        "format() \u51fd\u6570\u7684\u4e00\u4e2a\u597d\u5904\u662f\u5b83\u4e0d\u4ec5\u9002\u7528\u4e8e\u5b57\u7b26\u4e32\u3002\u5b83\u53ef\u4ee5\u7528\u6765\u683c\u5f0f\u5316\u4efb\u4f55\u503c\uff0c\u4f7f\u5f97\u5b83\u975e\u5e38\u7684\u901a\u7528\u3002\n\u6bd4\u5982\uff0c\u4f60\u53ef\u4ee5\u7528\u5b83\u6765\u683c\u5f0f\u5316\u6570\u5b57\uff1a"
      ]
    },
    {
      "cell_type": "code",
      "execution_count": null,
      "metadata": {},
      "outputs": [],
      "source": [
        "x = 1.2345\nformat(x, '>10')"
      ]
    },
    {
      "cell_type": "code",
      "execution_count": null,
      "metadata": {},
      "outputs": [],
      "source": [
        "format(x, '^10.2f')"
      ]
    },
    {
      "cell_type": "markdown",
      "metadata": {},
      "source": [
        "### \u8ba8\u8bba\n"
      ]
    },
    {
      "cell_type": "markdown",
      "metadata": {},
      "source": [
        "\u5728\u8001\u7684\u4ee3\u7801\u4e2d\uff0c\u4f60\u7ecf\u5e38\u4f1a\u770b\u5230\u88ab\u7528\u6765\u683c\u5f0f\u5316\u6587\u672c\u7684 % \u64cd\u4f5c\u7b26\u3002\u6bd4\u5982\uff1a"
      ]
    },
    {
      "cell_type": "code",
      "execution_count": null,
      "metadata": {},
      "outputs": [],
      "source": [
        "'%-20s' % text"
      ]
    },
    {
      "cell_type": "code",
      "execution_count": null,
      "metadata": {},
      "outputs": [],
      "source": [
        "'%20s' % text"
      ]
    },
    {
      "cell_type": "markdown",
      "metadata": {},
      "source": [
        "\u4f46\u662f\uff0c\u5728\u65b0\u7248\u672c\u4ee3\u7801\u4e2d\uff0c\u4f60\u5e94\u8be5\u4f18\u5148\u9009\u62e9 format() \u51fd\u6570\u6216\u8005\u65b9\u6cd5\u3002\nformat() \u8981\u6bd4 % \u64cd\u4f5c\u7b26\u7684\u529f\u80fd\u66f4\u4e3a\u5f3a\u5927\u3002\n\u5e76\u4e14 format() \u4e5f\u6bd4\u4f7f\u7528 ljust() , rjust() \u6216 center() \u65b9\u6cd5\u66f4\u901a\u7528\uff0c\n\u56e0\u4e3a\u5b83\u53ef\u4ee5\u7528\u6765\u683c\u5f0f\u5316\u4efb\u610f\u5bf9\u8c61\uff0c\u800c\u4e0d\u4ec5\u4ec5\u662f\u5b57\u7b26\u4e32\u3002"
      ]
    },
    {
      "cell_type": "markdown",
      "metadata": {},
      "source": [
        "\u5982\u679c\u60f3\u8981\u5b8c\u5168\u4e86\u89e3 format() \u51fd\u6570\u7684\u6709\u7528\u7279\u6027\uff0c\n\u8bf7\u53c2\u8003 \u5728\u7ebfPython\u6587\u6863"
      ]
    },
    {
      "cell_type": "markdown",
      "metadata": {},
      "source": [
        "## 2.14 \u5408\u5e76\u62fc\u63a5\u5b57\u7b26\u4e32\n"
      ]
    },
    {
      "cell_type": "markdown",
      "metadata": {},
      "source": [
        "### \u95ee\u9898\n"
      ]
    },
    {
      "cell_type": "markdown",
      "metadata": {},
      "source": [
        "\u4f60\u60f3\u5c06\u51e0\u4e2a\u5c0f\u7684\u5b57\u7b26\u4e32\u5408\u5e76\u4e3a\u4e00\u4e2a\u5927\u7684\u5b57\u7b26\u4e32"
      ]
    },
    {
      "cell_type": "markdown",
      "metadata": {},
      "source": [
        "### \u89e3\u51b3\u65b9\u6848\n"
      ]
    },
    {
      "cell_type": "markdown",
      "metadata": {},
      "source": [
        "\u5982\u679c\u4f60\u60f3\u8981\u5408\u5e76\u7684\u5b57\u7b26\u4e32\u662f\u5728\u4e00\u4e2a\u5e8f\u5217\u6216\u8005 iterable \u4e2d\uff0c\u90a3\u4e48\u6700\u5feb\u7684\u65b9\u5f0f\u5c31\u662f\u4f7f\u7528 join() \u65b9\u6cd5\u3002\u6bd4\u5982\uff1a"
      ]
    },
    {
      "cell_type": "code",
      "execution_count": null,
      "metadata": {},
      "outputs": [],
      "source": [
        "parts = ['Is', 'Chicago', 'Not', 'Chicago?']\n' '.join(parts)"
      ]
    },
    {
      "cell_type": "code",
      "execution_count": null,
      "metadata": {},
      "outputs": [],
      "source": [
        "','.join(parts)"
      ]
    },
    {
      "cell_type": "code",
      "execution_count": null,
      "metadata": {},
      "outputs": [],
      "source": [
        "''.join(parts)"
      ]
    },
    {
      "cell_type": "markdown",
      "metadata": {},
      "source": [
        "\u521d\u770b\u8d77\u6765\uff0c\u8fd9\u79cd\u8bed\u6cd5\u770b\u4e0a\u53bb\u4f1a\u6bd4\u8f83\u602a\uff0c\u4f46\u662f join() \u88ab\u6307\u5b9a\u4e3a\u5b57\u7b26\u4e32\u7684\u4e00\u4e2a\u65b9\u6cd5\u3002\n\u8fd9\u6837\u505a\u7684\u90e8\u5206\u539f\u56e0\u662f\u4f60\u60f3\u53bb\u8fde\u63a5\u7684\u5bf9\u8c61\u53ef\u80fd\u6765\u81ea\u5404\u79cd\u4e0d\u540c\u7684\u6570\u636e\u5e8f\u5217(\u6bd4\u5982\u5217\u8868\uff0c\u5143\u7ec4\uff0c\u5b57\u5178\uff0c\u6587\u4ef6\uff0c\u96c6\u5408\u6216\u751f\u6210\u5668\u7b49)\uff0c\n\u5982\u679c\u5728\u6240\u6709\u8fd9\u4e9b\u5bf9\u8c61\u4e0a\u90fd\u5b9a\u4e49\u4e00\u4e2a join() \u65b9\u6cd5\u660e\u663e\u662f\u5197\u4f59\u7684\u3002\n\u56e0\u6b64\u4f60\u53ea\u9700\u8981\u6307\u5b9a\u4f60\u60f3\u8981\u7684\u5206\u5272\u5b57\u7b26\u4e32\u5e76\u8c03\u7528\u4ed6\u7684 join() \u65b9\u6cd5\u53bb\u5c06\u6587\u672c\u7247\u6bb5\u7ec4\u5408\u8d77\u6765\u3002"
      ]
    },
    {
      "cell_type": "markdown",
      "metadata": {},
      "source": [
        "\u5982\u679c\u4f60\u4ec5\u4ec5\u53ea\u662f\u5408\u5e76\u5c11\u6570\u51e0\u4e2a\u5b57\u7b26\u4e32\uff0c\u4f7f\u7528\u52a0\u53f7(+)\u901a\u5e38\u5df2\u7ecf\u8db3\u591f\u4e86\uff1a"
      ]
    },
    {
      "cell_type": "code",
      "execution_count": null,
      "metadata": {},
      "outputs": [],
      "source": [
        "a = 'Is Chicago'\nb = 'Not Chicago?'\na + ' ' + b"
      ]
    },
    {
      "cell_type": "markdown",
      "metadata": {},
      "source": [
        "\u52a0\u53f7(+)\u64cd\u4f5c\u7b26\u5728\u4f5c\u4e3a\u4e00\u4e9b\u590d\u6742\u5b57\u7b26\u4e32\u683c\u5f0f\u5316\u7684\u66ff\u4ee3\u65b9\u6848\u7684\u65f6\u5019\u901a\u5e38\u4e5f\u5de5\u4f5c\u7684\u5f88\u597d\uff0c\u6bd4\u5982\uff1a"
      ]
    },
    {
      "cell_type": "code",
      "execution_count": null,
      "metadata": {},
      "outputs": [],
      "source": [
        "print('{} {}'.format(a,b))"
      ]
    },
    {
      "cell_type": "code",
      "execution_count": null,
      "metadata": {},
      "outputs": [],
      "source": [
        "print(a + ' ' + b)"
      ]
    },
    {
      "cell_type": "markdown",
      "metadata": {},
      "source": [
        "\u5982\u679c\u4f60\u60f3\u5728\u6e90\u7801\u4e2d\u5c06\u4e24\u4e2a\u5b57\u9762\u5b57\u7b26\u4e32\u5408\u5e76\u8d77\u6765\uff0c\u4f60\u53ea\u9700\u8981\u7b80\u5355\u7684\u5c06\u5b83\u4eec\u653e\u5230\u4e00\u8d77\uff0c\u4e0d\u9700\u8981\u7528\u52a0\u53f7(+)\u3002\u6bd4\u5982\uff1a"
      ]
    },
    {
      "cell_type": "code",
      "execution_count": null,
      "metadata": {},
      "outputs": [],
      "source": [
        "a = 'Hello' 'World'\na"
      ]
    },
    {
      "cell_type": "markdown",
      "metadata": {},
      "source": [
        "### \u8ba8\u8bba\n"
      ]
    },
    {
      "cell_type": "markdown",
      "metadata": {},
      "source": [
        "\u5b57\u7b26\u4e32\u5408\u5e76\u53ef\u80fd\u770b\u4e0a\u53bb\u5e76\u4e0d\u9700\u8981\u7528\u4e00\u6574\u8282\u6765\u8ba8\u8bba\u3002\n\u4f46\u662f\u4e0d\u5e94\u8be5\u5c0f\u770b\u8fd9\u4e2a\u95ee\u9898\uff0c\u7a0b\u5e8f\u5458\u901a\u5e38\u5728\u5b57\u7b26\u4e32\u683c\u5f0f\u5316\u7684\u65f6\u5019\u56e0\u4e3a\u9009\u62e9\u4e0d\u5f53\u800c\u7ed9\u5e94\u7528\u7a0b\u5e8f\u5e26\u6765\u4e25\u91cd\u6027\u80fd\u635f\u5931\u3002"
      ]
    },
    {
      "cell_type": "markdown",
      "metadata": {},
      "source": [
        "\u6700\u91cd\u8981\u7684\u9700\u8981\u5f15\u8d77\u6ce8\u610f\u7684\u662f\uff0c\u5f53\u6211\u4eec\u4f7f\u7528\u52a0\u53f7(+)\u64cd\u4f5c\u7b26\u53bb\u8fde\u63a5\u5927\u91cf\u7684\u5b57\u7b26\u4e32\u7684\u65f6\u5019\u662f\u975e\u5e38\u4f4e\u6548\u7387\u7684\uff0c\n\u56e0\u4e3a\u52a0\u53f7\u8fde\u63a5\u4f1a\u5f15\u8d77\u5185\u5b58\u590d\u5236\u4ee5\u53ca\u5783\u573e\u56de\u6536\u64cd\u4f5c\u3002\n\u7279\u522b\u7684\uff0c\u4f60\u6c38\u8fdc\u90fd\u4e0d\u5e94\u50cf\u4e0b\u9762\u8fd9\u6837\u5199\u5b57\u7b26\u4e32\u8fde\u63a5\u4ee3\u7801\uff1a"
      ]
    },
    {
      "cell_type": "code",
      "execution_count": null,
      "metadata": {},
      "outputs": [],
      "source": [
        "s = ''\nfor p in parts:\n    s += p"
      ]
    },
    {
      "cell_type": "markdown",
      "metadata": {},
      "source": [
        "\u8fd9\u79cd\u5199\u6cd5\u4f1a\u6bd4\u4f7f\u7528 join() \u65b9\u6cd5\u8fd0\u884c\u7684\u8981\u6162\u4e00\u4e9b\uff0c\u56e0\u4e3a\u6bcf\u4e00\u6b21\u6267\u884c+=\u64cd\u4f5c\u7684\u65f6\u5019\u4f1a\u521b\u5efa\u4e00\u4e2a\u65b0\u7684\u5b57\u7b26\u4e32\u5bf9\u8c61\u3002\n\u4f60\u6700\u597d\u662f\u5148\u6536\u96c6\u6240\u6709\u7684\u5b57\u7b26\u4e32\u7247\u6bb5\u7136\u540e\u518d\u5c06\u5b83\u4eec\u8fde\u63a5\u8d77\u6765\u3002"
      ]
    },
    {
      "cell_type": "markdown",
      "metadata": {},
      "source": [
        "\u4e00\u4e2a\u76f8\u5bf9\u6bd4\u8f83\u806a\u660e\u7684\u6280\u5de7\u662f\u5229\u7528\u751f\u6210\u5668\u8868\u8fbe\u5f0f(\u53c2\u80031.19\u5c0f\u8282)\u8f6c\u6362\u6570\u636e\u4e3a\u5b57\u7b26\u4e32\u7684\u540c\u65f6\u5408\u5e76\u5b57\u7b26\u4e32\uff0c\u6bd4\u5982\uff1a"
      ]
    },
    {
      "cell_type": "code",
      "execution_count": null,
      "metadata": {},
      "outputs": [],
      "source": [
        "data = ['ACME', 50, 91.1]\n','.join(str(d) for d in data)"
      ]
    },
    {
      "cell_type": "markdown",
      "metadata": {},
      "source": [
        "\u540c\u6837\u8fd8\u5f97\u6ce8\u610f\u4e0d\u5fc5\u8981\u7684\u5b57\u7b26\u4e32\u8fde\u63a5\u64cd\u4f5c\u3002\u6709\u65f6\u5019\u7a0b\u5e8f\u5458\u5728\u6ca1\u6709\u5fc5\u8981\u505a\u8fde\u63a5\u64cd\u4f5c\u7684\u65f6\u5019\u4ecd\u7136\u591a\u6b64\u4e00\u4e3e\u3002\u6bd4\u5982\u5728\u6253\u5370\u7684\u65f6\u5019\uff1a"
      ]
    },
    {
      "cell_type": "code",
      "execution_count": null,
      "metadata": {},
      "outputs": [],
      "source": [
        "print(a + ':' + b + ':' + c) # Ugly\nprint(':'.join([a, b, c])) # Still ugly\nprint(a, b, c, sep=':') # Better"
      ]
    },
    {
      "cell_type": "markdown",
      "metadata": {},
      "source": [
        "\u5f53\u6df7\u5408\u4f7f\u7528I/O\u64cd\u4f5c\u548c\u5b57\u7b26\u4e32\u8fde\u63a5\u64cd\u4f5c\u7684\u65f6\u5019\uff0c\u6709\u65f6\u5019\u9700\u8981\u4ed4\u7ec6\u7814\u7a76\u4f60\u7684\u7a0b\u5e8f\u3002\n\u6bd4\u5982\uff0c\u8003\u8651\u4e0b\u9762\u7684\u4e24\u7aef\u4ee3\u7801\u7247\u6bb5\uff1a"
      ]
    },
    {
      "cell_type": "code",
      "execution_count": null,
      "metadata": {},
      "outputs": [],
      "source": [
        "# Version 1 (string concatenation)\nf.write(chunk1 + chunk2)\n\n# Version 2 (separate I/O operations)\nf.write(chunk1)\nf.write(chunk2)"
      ]
    },
    {
      "cell_type": "markdown",
      "metadata": {},
      "source": [
        "\u5982\u679c\u4e24\u4e2a\u5b57\u7b26\u4e32\u5f88\u5c0f\uff0c\u90a3\u4e48\u7b2c\u4e00\u4e2a\u7248\u672c\u6027\u80fd\u4f1a\u66f4\u597d\u4e9b\uff0c\u56e0\u4e3aI/O\u7cfb\u7edf\u8c03\u7528\u5929\u751f\u5c31\u6162\u3002\n\u53e6\u5916\u4e00\u65b9\u9762\uff0c\u5982\u679c\u4e24\u4e2a\u5b57\u7b26\u4e32\u5f88\u5927\uff0c\u90a3\u4e48\u7b2c\u4e8c\u4e2a\u7248\u672c\u53ef\u80fd\u4f1a\u66f4\u52a0\u9ad8\u6548\uff0c\n\u56e0\u4e3a\u5b83\u907f\u514d\u4e86\u521b\u5efa\u4e00\u4e2a\u5f88\u5927\u7684\u4e34\u65f6\u7ed3\u679c\u5e76\u4e14\u8981\u590d\u5236\u5927\u91cf\u7684\u5185\u5b58\u5757\u6570\u636e\u3002\n\u8fd8\u662f\u90a3\u53e5\u8bdd\uff0c\u6709\u65f6\u5019\u662f\u9700\u8981\u6839\u636e\u4f60\u7684\u5e94\u7528\u7a0b\u5e8f\u7279\u70b9\u6765\u51b3\u5b9a\u5e94\u8be5\u4f7f\u7528\u54ea\u79cd\u65b9\u6848\u3002"
      ]
    },
    {
      "cell_type": "markdown",
      "metadata": {},
      "source": [
        "\u6700\u540e\u8c08\u4e00\u4e0b\uff0c\u5982\u679c\u4f60\u51c6\u5907\u7f16\u5199\u6784\u5efa\u5927\u91cf\u5c0f\u5b57\u7b26\u4e32\u7684\u8f93\u51fa\u4ee3\u7801\uff0c\n\u4f60\u6700\u597d\u8003\u8651\u4e0b\u4f7f\u7528\u751f\u6210\u5668\u51fd\u6570\uff0c\u5229\u7528yield\u8bed\u53e5\u4ea7\u751f\u8f93\u51fa\u7247\u6bb5\u3002\u6bd4\u5982\uff1a"
      ]
    },
    {
      "cell_type": "code",
      "execution_count": null,
      "metadata": {},
      "outputs": [],
      "source": [
        "def sample():\n    yield 'Is'\n    yield 'Chicago'\n    yield 'Not'\n    yield 'Chicago?'"
      ]
    },
    {
      "cell_type": "markdown",
      "metadata": {},
      "source": [
        "\u8fd9\u79cd\u65b9\u6cd5\u4e00\u4e2a\u6709\u8da3\u7684\u65b9\u9762\u662f\u5b83\u5e76\u6ca1\u6709\u5bf9\u8f93\u51fa\u7247\u6bb5\u5230\u5e95\u8981\u600e\u6837\u7ec4\u7ec7\u505a\u51fa\u5047\u8bbe\u3002\n\u4f8b\u5982\uff0c\u4f60\u53ef\u4ee5\u7b80\u5355\u7684\u4f7f\u7528 join() \u65b9\u6cd5\u5c06\u8fd9\u4e9b\u7247\u6bb5\u5408\u5e76\u8d77\u6765\uff1a"
      ]
    },
    {
      "cell_type": "code",
      "execution_count": null,
      "metadata": {},
      "outputs": [],
      "source": [
        "text = ''.join(sample())"
      ]
    },
    {
      "cell_type": "markdown",
      "metadata": {},
      "source": [
        "\u6216\u8005\u4f60\u4e5f\u53ef\u4ee5\u5c06\u5b57\u7b26\u4e32\u7247\u6bb5\u91cd\u5b9a\u5411\u5230I/O\uff1a"
      ]
    },
    {
      "cell_type": "code",
      "execution_count": null,
      "metadata": {},
      "outputs": [],
      "source": [
        "for part in sample():\n    f.write(part)"
      ]
    },
    {
      "cell_type": "markdown",
      "metadata": {},
      "source": [
        "\u518d\u6216\u8005\u4f60\u8fd8\u53ef\u4ee5\u5199\u51fa\u4e00\u4e9b\u7ed3\u5408I/O\u64cd\u4f5c\u7684\u6df7\u5408\u65b9\u6848\uff1a"
      ]
    },
    {
      "cell_type": "code",
      "execution_count": null,
      "metadata": {},
      "outputs": [],
      "source": [
        "def combine(source, maxsize):\n    parts = []\n    size = 0\n    for part in source:\n        parts.append(part)\n        size += len(part)\n        if size > maxsize:\n            yield ''.join(parts)\n            parts = []\n            size = 0\n    yield ''.join(parts)\n\n# \u7ed3\u5408\u6587\u4ef6\u64cd\u4f5c\nwith open('filename', 'w') as f:\n    for part in combine(sample(), 32768):\n        f.write(part)"
      ]
    },
    {
      "cell_type": "markdown",
      "metadata": {},
      "source": [
        "\u8fd9\u91cc\u7684\u5173\u952e\u70b9\u5728\u4e8e\u539f\u59cb\u7684\u751f\u6210\u5668\u51fd\u6570\u5e76\u4e0d\u9700\u8981\u77e5\u9053\u4f7f\u7528\u7ec6\u8282\uff0c\u5b83\u53ea\u8d1f\u8d23\u751f\u6210\u5b57\u7b26\u4e32\u7247\u6bb5\u5c31\u884c\u4e86\u3002"
      ]
    },
    {
      "cell_type": "markdown",
      "metadata": {},
      "source": [
        "## 2.15 \u5b57\u7b26\u4e32\u4e2d\u63d2\u5165\u53d8\u91cf\n"
      ]
    },
    {
      "cell_type": "markdown",
      "metadata": {},
      "source": [
        "### \u95ee\u9898\n"
      ]
    },
    {
      "cell_type": "markdown",
      "metadata": {},
      "source": [
        "\u4f60\u60f3\u521b\u5efa\u4e00\u4e2a\u5185\u5d4c\u53d8\u91cf\u7684\u5b57\u7b26\u4e32\uff0c\u53d8\u91cf\u88ab\u5b83\u7684\u503c\u6240\u8868\u793a\u7684\u5b57\u7b26\u4e32\u66ff\u6362\u6389\u3002"
      ]
    },
    {
      "cell_type": "markdown",
      "metadata": {},
      "source": [
        "### \u89e3\u51b3\u65b9\u6848\n"
      ]
    },
    {
      "cell_type": "markdown",
      "metadata": {},
      "source": [
        "Python\u5e76\u6ca1\u6709\u5bf9\u5728\u5b57\u7b26\u4e32\u4e2d\u7b80\u5355\u66ff\u6362\u53d8\u91cf\u503c\u63d0\u4f9b\u76f4\u63a5\u7684\u652f\u6301\u3002\n\u4f46\u662f\u901a\u8fc7\u4f7f\u7528\u5b57\u7b26\u4e32\u7684 format() \u65b9\u6cd5\u6765\u89e3\u51b3\u8fd9\u4e2a\u95ee\u9898\u3002\u6bd4\u5982\uff1a"
      ]
    },
    {
      "cell_type": "code",
      "execution_count": null,
      "metadata": {},
      "outputs": [],
      "source": [
        "s = '{name} has {n} messages.'\ns.format(name='Guido', n=37)"
      ]
    },
    {
      "cell_type": "markdown",
      "metadata": {},
      "source": [
        "\u6216\u8005\uff0c\u5982\u679c\u8981\u88ab\u66ff\u6362\u7684\u53d8\u91cf\u80fd\u5728\u53d8\u91cf\u57df\u4e2d\u627e\u5230\uff0c\n\u90a3\u4e48\u4f60\u53ef\u4ee5\u7ed3\u5408\u4f7f\u7528 format_map() \u548c vars() \u3002\u5c31\u50cf\u4e0b\u9762\u8fd9\u6837\uff1a"
      ]
    },
    {
      "cell_type": "code",
      "execution_count": null,
      "metadata": {},
      "outputs": [],
      "source": [
        "name = 'Guido'\nn = 37\ns.format_map(vars())"
      ]
    },
    {
      "cell_type": "markdown",
      "metadata": {},
      "source": [
        "vars() \u8fd8\u6709\u4e00\u4e2a\u6709\u610f\u601d\u7684\u7279\u6027\u5c31\u662f\u5b83\u4e5f\u9002\u7528\u4e8e\u5bf9\u8c61\u5b9e\u4f8b\u3002\u6bd4\u5982\uff1a"
      ]
    },
    {
      "cell_type": "code",
      "execution_count": null,
      "metadata": {},
      "outputs": [],
      "source": [
        "class Info:\n    def __init__(self, name, n):\n        self.name = name\n        self.n = n\na = Info('Guido',37)\ns.format_map(vars(a))"
      ]
    },
    {
      "cell_type": "markdown",
      "metadata": {},
      "source": [
        "format \u548c format_map() \u7684\u4e00\u4e2a\u7f3a\u9677\u5c31\u662f\u5b83\u4eec\u5e76\u4e0d\u80fd\u5f88\u597d\u7684\u5904\u7406\u53d8\u91cf\u7f3a\u5931\u7684\u60c5\u51b5\uff0c\u6bd4\u5982\uff1a"
      ]
    },
    {
      "cell_type": "code",
      "execution_count": null,
      "metadata": {},
      "outputs": [],
      "source": [
        "s.format(name='Guido')"
      ]
    },
    {
      "cell_type": "markdown",
      "metadata": {},
      "source": [
        "\u4e00\u79cd\u907f\u514d\u8fd9\u79cd\u9519\u8bef\u7684\u65b9\u6cd5\u662f\u53e6\u5916\u5b9a\u4e49\u4e00\u4e2a\u542b\u6709 __missing__() \u65b9\u6cd5\u7684\u5b57\u5178\u5bf9\u8c61\uff0c\u5c31\u50cf\u4e0b\u9762\u8fd9\u6837\uff1a"
      ]
    },
    {
      "cell_type": "code",
      "execution_count": null,
      "metadata": {},
      "outputs": [],
      "source": [
        "class safesub(dict):\n\"\"\"\u9632\u6b62key\u627e\u4e0d\u5230\"\"\"\ndef __missing__(self, key):\n    return '{' + key + '}'"
      ]
    },
    {
      "cell_type": "markdown",
      "metadata": {},
      "source": [
        "\u73b0\u5728\u4f60\u53ef\u4ee5\u5229\u7528\u8fd9\u4e2a\u7c7b\u5305\u88c5\u8f93\u5165\u540e\u4f20\u9012\u7ed9 format_map() \uff1a"
      ]
    },
    {
      "cell_type": "code",
      "execution_count": null,
      "metadata": {},
      "outputs": [],
      "source": [
        "del n # Make sure n is undefined\ns.format_map(safesub(vars()))"
      ]
    },
    {
      "cell_type": "markdown",
      "metadata": {},
      "source": [
        "\u5982\u679c\u4f60\u53d1\u73b0\u81ea\u5df1\u5728\u4ee3\u7801\u4e2d\u9891\u7e41\u7684\u6267\u884c\u8fd9\u4e9b\u6b65\u9aa4\uff0c\u4f60\u53ef\u4ee5\u5c06\u53d8\u91cf\u66ff\u6362\u6b65\u9aa4\u7528\u4e00\u4e2a\u5de5\u5177\u51fd\u6570\u5c01\u88c5\u8d77\u6765\u3002\u5c31\u50cf\u4e0b\u9762\u8fd9\u6837\uff1a"
      ]
    },
    {
      "cell_type": "code",
      "execution_count": null,
      "metadata": {},
      "outputs": [],
      "source": [
        "import sys\n\ndef sub(text):\n    return text.format_map(safesub(sys._getframe(1).f_locals))"
      ]
    },
    {
      "cell_type": "markdown",
      "metadata": {},
      "source": [
        "\u73b0\u5728\u4f60\u53ef\u4ee5\u50cf\u4e0b\u9762\u8fd9\u6837\u5199\u4e86\uff1a"
      ]
    },
    {
      "cell_type": "code",
      "execution_count": null,
      "metadata": {},
      "outputs": [],
      "source": [
        "name = 'Guido'\nn = 37\nprint(sub('Hello {name}'))"
      ]
    },
    {
      "cell_type": "code",
      "execution_count": null,
      "metadata": {},
      "outputs": [],
      "source": [
        "print(sub('You have {n} messages.'))"
      ]
    },
    {
      "cell_type": "code",
      "execution_count": null,
      "metadata": {},
      "outputs": [],
      "source": [
        "print(sub('Your favorite color is {color}'))"
      ]
    },
    {
      "cell_type": "markdown",
      "metadata": {},
      "source": [
        "### \u8ba8\u8bba\n"
      ]
    },
    {
      "cell_type": "markdown",
      "metadata": {},
      "source": [
        "\u591a\u5e74\u4ee5\u6765\u7531\u4e8ePython\u7f3a\u4e4f\u5bf9\u53d8\u91cf\u66ff\u6362\u7684\u5185\u7f6e\u652f\u6301\u800c\u5bfc\u81f4\u4e86\u5404\u79cd\u4e0d\u540c\u7684\u89e3\u51b3\u65b9\u6848\u3002\n\u4f5c\u4e3a\u672c\u8282\u4e2d\u5c55\u793a\u7684\u4e00\u4e2a\u53ef\u80fd\u7684\u89e3\u51b3\u65b9\u6848\uff0c\u4f60\u53ef\u4ee5\u6709\u65f6\u5019\u4f1a\u770b\u5230\u50cf\u4e0b\u9762\u8fd9\u6837\u7684\u5b57\u7b26\u4e32\u683c\u5f0f\u5316\u4ee3\u7801\uff1a"
      ]
    },
    {
      "cell_type": "code",
      "execution_count": null,
      "metadata": {},
      "outputs": [],
      "source": [
        "name = 'Guido'\nn = 37\n'%(name) has %(n) messages.' % vars()"
      ]
    },
    {
      "cell_type": "markdown",
      "metadata": {},
      "source": [
        "\u4f60\u53ef\u80fd\u8fd8\u4f1a\u770b\u5230\u5b57\u7b26\u4e32\u6a21\u677f\u7684\u4f7f\u7528\uff1a"
      ]
    },
    {
      "cell_type": "code",
      "execution_count": null,
      "metadata": {},
      "outputs": [],
      "source": [
        "import string\ns = string.Template('$name has $n messages.')\ns.substitute(vars())"
      ]
    },
    {
      "cell_type": "markdown",
      "metadata": {},
      "source": [
        "\u7136\u800c\uff0c format() \u548c format_map() \u76f8\u6bd4\u8f83\u4e0a\u9762\u8fd9\u4e9b\u65b9\u6848\u800c\u5df2\u66f4\u52a0\u5148\u8fdb\uff0c\u56e0\u6b64\u5e94\u8be5\u88ab\u4f18\u5148\u9009\u62e9\u3002\n\u4f7f\u7528 format() \u65b9\u6cd5\u8fd8\u6709\u4e00\u4e2a\u597d\u5904\u5c31\u662f\u4f60\u53ef\u4ee5\u83b7\u5f97\u5bf9\u5b57\u7b26\u4e32\u683c\u5f0f\u5316\u7684\u6240\u6709\u652f\u6301(\u5bf9\u9f50\uff0c\u586b\u5145\uff0c\u6570\u5b57\u683c\u5f0f\u5316\u7b49\u5f85)\uff0c\n\u800c\u8fd9\u4e9b\u7279\u6027\u662f\u4f7f\u7528\u50cf\u6a21\u677f\u5b57\u7b26\u4e32\u4e4b\u7c7b\u7684\u65b9\u6848\u4e0d\u53ef\u80fd\u83b7\u5f97\u7684\u3002"
      ]
    },
    {
      "cell_type": "markdown",
      "metadata": {},
      "source": [
        "\u672c\u673a\u8fd8\u90e8\u5206\u4ecb\u7ecd\u4e86\u4e00\u4e9b\u9ad8\u7ea7\u7279\u6027\u3002\u6620\u5c04\u6216\u8005\u5b57\u5178\u7c7b\u4e2d\u9c9c\u4e3a\u4eba\u77e5\u7684 __missing__() \u65b9\u6cd5\u53ef\u4ee5\u8ba9\u4f60\u5b9a\u4e49\u5982\u4f55\u5904\u7406\u7f3a\u5931\u7684\u503c\u3002\n\u5728 SafeSub \u7c7b\u4e2d\uff0c\u8fd9\u4e2a\u65b9\u6cd5\u88ab\u5b9a\u4e49\u4e3a\u5bf9\u7f3a\u5931\u7684\u503c\u8fd4\u56de\u4e00\u4e2a\u5360\u4f4d\u7b26\u3002\n\u4f60\u53ef\u4ee5\u53d1\u73b0\u7f3a\u5931\u7684\u503c\u4f1a\u51fa\u73b0\u5728\u7ed3\u679c\u5b57\u7b26\u4e32\u4e2d(\u5728\u8c03\u8bd5\u7684\u65f6\u5019\u53ef\u80fd\u5f88\u6709\u7528)\uff0c\u800c\u4e0d\u662f\u4ea7\u751f\u4e00\u4e2a KeyError \u5f02\u5e38\u3002"
      ]
    },
    {
      "cell_type": "markdown",
      "metadata": {},
      "source": [
        "sub() \u51fd\u6570\u4f7f\u7528 sys._getframe(1) \u8fd4\u56de\u8c03\u7528\u8005\u7684\u6808\u5e27\u3002\u53ef\u4ee5\u4ece\u4e2d\u8bbf\u95ee\u5c5e\u6027 f_locals \u6765\u83b7\u5f97\u5c40\u90e8\u53d8\u91cf\u3002\n\u6beb\u65e0\u7591\u95ee\u7edd\u5927\u90e8\u5206\u60c5\u51b5\u4e0b\u5728\u4ee3\u7801\u4e2d\u53bb\u76f4\u63a5\u64cd\u4f5c\u6808\u5e27\u5e94\u8be5\u662f\u4e0d\u63a8\u8350\u7684\u3002\n\u4f46\u662f\uff0c\u5bf9\u4e8e\u50cf\u5b57\u7b26\u4e32\u66ff\u6362\u5de5\u5177\u51fd\u6570\u800c\u8a00\u5b83\u662f\u975e\u5e38\u6709\u7528\u7684\u3002\n\u53e6\u5916\uff0c\u503c\u5f97\u6ce8\u610f\u7684\u662f f_locals \u662f\u4e00\u4e2a\u590d\u5236\u8c03\u7528\u51fd\u6570\u7684\u672c\u5730\u53d8\u91cf\u7684\u5b57\u5178\u3002\n\u5c3d\u7ba1\u4f60\u53ef\u4ee5\u6539\u53d8 f_locals \u7684\u5185\u5bb9\uff0c\u4f46\u662f\u8fd9\u4e2a\u4fee\u6539\u5bf9\u4e8e\u540e\u9762\u7684\u53d8\u91cf\u8bbf\u95ee\u6ca1\u6709\u4efb\u4f55\u5f71\u54cd\u3002\n\u6240\u4ee5\uff0c\u867d\u8bf4\u8bbf\u95ee\u4e00\u4e2a\u6808\u5e27\u770b\u4e0a\u53bb\u5f88\u90aa\u6076\uff0c\u4f46\u662f\u5bf9\u5b83\u7684\u4efb\u4f55\u64cd\u4f5c\u4e0d\u4f1a\u8986\u76d6\u548c\u6539\u53d8\u8c03\u7528\u8005\u672c\u5730\u53d8\u91cf\u7684\u503c\u3002"
      ]
    },
    {
      "cell_type": "markdown",
      "metadata": {},
      "source": [
        "## 2.16 \u4ee5\u6307\u5b9a\u5217\u5bbd\u683c\u5f0f\u5316\u5b57\u7b26\u4e32\n"
      ]
    },
    {
      "cell_type": "markdown",
      "metadata": {},
      "source": [
        "### \u95ee\u9898\n"
      ]
    },
    {
      "cell_type": "markdown",
      "metadata": {},
      "source": [
        "\u4f60\u6709\u4e00\u4e9b\u957f\u5b57\u7b26\u4e32\uff0c\u60f3\u4ee5\u6307\u5b9a\u7684\u5217\u5bbd\u5c06\u5b83\u4eec\u91cd\u65b0\u683c\u5f0f\u5316\u3002"
      ]
    },
    {
      "cell_type": "markdown",
      "metadata": {},
      "source": [
        "### \u89e3\u51b3\u65b9\u6848\n"
      ]
    },
    {
      "cell_type": "markdown",
      "metadata": {},
      "source": [
        "\u4f7f\u7528 textwrap \u6a21\u5757\u6765\u683c\u5f0f\u5316\u5b57\u7b26\u4e32\u7684\u8f93\u51fa\u3002\u6bd4\u5982\uff0c\u5047\u5982\u4f60\u6709\u4e0b\u5217\u7684\u957f\u5b57\u7b26\u4e32\uff1a"
      ]
    },
    {
      "cell_type": "code",
      "execution_count": null,
      "metadata": {},
      "outputs": [],
      "source": [
        "s = \"Look into my eyes, look into my eyes, the eyes, the eyes, \\\nthe eyes, not around the eyes, don't look around the eyes, \\\nlook into my eyes, you're under.\""
      ]
    },
    {
      "cell_type": "markdown",
      "metadata": {},
      "source": [
        "\u4e0b\u9762\u6f14\u793a\u4f7f\u7528 textwrap \u683c\u5f0f\u5316\u5b57\u7b26\u4e32\u7684\u591a\u79cd\u65b9\u5f0f\uff1a"
      ]
    },
    {
      "cell_type": "code",
      "execution_count": null,
      "metadata": {},
      "outputs": [],
      "source": [
        "import textwrap\nprint(textwrap.fill(s, 70))"
      ]
    },
    {
      "cell_type": "code",
      "execution_count": null,
      "metadata": {},
      "outputs": [],
      "source": [
        "print(textwrap.fill(s, 40))"
      ]
    },
    {
      "cell_type": "code",
      "execution_count": null,
      "metadata": {},
      "outputs": [],
      "source": [
        "print(textwrap.fill(s, 40, initial_indent='    '))"
      ]
    },
    {
      "cell_type": "code",
      "execution_count": null,
      "metadata": {},
      "outputs": [],
      "source": [
        "print(textwrap.fill(s, 40, subsequent_indent='    '))"
      ]
    },
    {
      "cell_type": "markdown",
      "metadata": {},
      "source": [
        "### \u8ba8\u8bba\n"
      ]
    },
    {
      "cell_type": "markdown",
      "metadata": {},
      "source": [
        "textwrap \u6a21\u5757\u5bf9\u4e8e\u5b57\u7b26\u4e32\u6253\u5370\u662f\u975e\u5e38\u6709\u7528\u7684\uff0c\u7279\u522b\u662f\u5f53\u4f60\u5e0c\u671b\u8f93\u51fa\u81ea\u52a8\u5339\u914d\u7ec8\u7aef\u5927\u5c0f\u7684\u65f6\u5019\u3002\n\u4f60\u53ef\u4ee5\u4f7f\u7528 os.get_terminal_size() \u65b9\u6cd5\u6765\u83b7\u53d6\u7ec8\u7aef\u7684\u5927\u5c0f\u5c3a\u5bf8\u3002\u6bd4\u5982\uff1a"
      ]
    },
    {
      "cell_type": "code",
      "execution_count": null,
      "metadata": {},
      "outputs": [],
      "source": [
        "import os\nos.get_terminal_size().columns"
      ]
    },
    {
      "cell_type": "markdown",
      "metadata": {},
      "source": [
        "fill() \u65b9\u6cd5\u63a5\u53d7\u4e00\u4e9b\u5176\u4ed6\u53ef\u9009\u53c2\u6570\u6765\u63a7\u5236tab\uff0c\u8bed\u53e5\u7ed3\u5c3e\u7b49\u3002\n\u53c2\u9605 textwrap.TextWrapper\u6587\u6863 \u83b7\u53d6\u66f4\u591a\u5185\u5bb9\u3002"
      ]
    },
    {
      "cell_type": "markdown",
      "metadata": {},
      "source": [
        "## 2.17 \u5728\u5b57\u7b26\u4e32\u4e2d\u5904\u7406html\u548cxml\n"
      ]
    },
    {
      "cell_type": "markdown",
      "metadata": {},
      "source": [
        "### \u95ee\u9898\n"
      ]
    },
    {
      "cell_type": "markdown",
      "metadata": {},
      "source": [
        "\u4f60\u60f3\u5c06HTML\u6216\u8005XML\u5b9e\u4f53\u5982 &entity; \u6216 &#code; \u66ff\u6362\u4e3a\u5bf9\u5e94\u7684\u6587\u672c\u3002\n\u518d\u8005\uff0c\u4f60\u9700\u8981\u8f6c\u6362\u6587\u672c\u4e2d\u7279\u5b9a\u7684\u5b57\u7b26(\u6bd4\u5982<, >, \u6216 &)\u3002"
      ]
    },
    {
      "cell_type": "markdown",
      "metadata": {},
      "source": [
        "### \u89e3\u51b3\u65b9\u6848\n"
      ]
    },
    {
      "cell_type": "markdown",
      "metadata": {},
      "source": [
        "\u5982\u679c\u4f60\u60f3\u66ff\u6362\u6587\u672c\u5b57\u7b26\u4e32\u4e2d\u7684 \u2018<\u2019 \u6216\u8005 \u2018>\u2019 \uff0c\u4f7f\u7528 html.escape() \u51fd\u6570\u53ef\u4ee5\u5f88\u5bb9\u6613\u7684\u5b8c\u6210\u3002\u6bd4\u5982\uff1a"
      ]
    },
    {
      "cell_type": "code",
      "execution_count": null,
      "metadata": {},
      "outputs": [],
      "source": [
        "s = 'Elements are written as \"<tag>text</tag>\".'\nimport html\nprint(s)"
      ]
    },
    {
      "cell_type": "code",
      "execution_count": null,
      "metadata": {},
      "outputs": [],
      "source": [
        "print(html.escape(s))"
      ]
    },
    {
      "cell_type": "code",
      "execution_count": null,
      "metadata": {},
      "outputs": [],
      "source": [
        "# Disable escaping of quotes\nprint(html.escape(s, quote=False))"
      ]
    },
    {
      "cell_type": "markdown",
      "metadata": {},
      "source": [
        "\u5982\u679c\u4f60\u6b63\u5728\u5904\u7406\u7684\u662fASCII\u6587\u672c\uff0c\u5e76\u4e14\u60f3\u5c06\u975eASCII\u6587\u672c\u5bf9\u5e94\u7684\u7f16\u7801\u5b9e\u4f53\u5d4c\u5165\u8fdb\u53bb\uff0c\n\u53ef\u4ee5\u7ed9\u67d0\u4e9bI/O\u51fd\u6570\u4f20\u9012\u53c2\u6570 errors='xmlcharrefreplace' \u6765\u8fbe\u5230\u8fd9\u4e2a\u76ee\u3002\u6bd4\u5982\uff1a"
      ]
    },
    {
      "cell_type": "code",
      "execution_count": null,
      "metadata": {},
      "outputs": [],
      "source": [
        "s = 'Spicy Jalape\u00f1o'\ns.encode('ascii', errors='xmlcharrefreplace')"
      ]
    },
    {
      "cell_type": "markdown",
      "metadata": {},
      "source": [
        "\u4e3a\u4e86\u66ff\u6362\u6587\u672c\u4e2d\u7684\u7f16\u7801\u5b9e\u4f53\uff0c\u4f60\u9700\u8981\u4f7f\u7528\u53e6\u5916\u4e00\u79cd\u65b9\u6cd5\u3002\n\u5982\u679c\u4f60\u6b63\u5728\u5904\u7406HTML\u6216\u8005XML\u6587\u672c\uff0c\u8bd5\u7740\u5148\u4f7f\u7528\u4e00\u4e2a\u5408\u9002\u7684HTML\u6216\u8005XML\u89e3\u6790\u5668\u3002\n\u901a\u5e38\u60c5\u51b5\u4e0b\uff0c\u8fd9\u4e9b\u5de5\u5177\u4f1a\u81ea\u52a8\u66ff\u6362\u8fd9\u4e9b\u7f16\u7801\u503c\uff0c\u4f60\u65e0\u9700\u62c5\u5fc3\u3002"
      ]
    },
    {
      "cell_type": "markdown",
      "metadata": {},
      "source": [
        "\u6709\u65f6\u5019\uff0c\u5982\u679c\u4f60\u63a5\u6536\u5230\u4e86\u4e00\u4e9b\u542b\u6709\u7f16\u7801\u503c\u7684\u539f\u59cb\u6587\u672c\uff0c\u9700\u8981\u624b\u52a8\u53bb\u505a\u66ff\u6362\uff0c\n\u901a\u5e38\u4f60\u53ea\u9700\u8981\u4f7f\u7528HTML\u6216\u8005XML\u89e3\u6790\u5668\u7684\u4e00\u4e9b\u76f8\u5173\u5de5\u5177\u51fd\u6570/\u65b9\u6cd5\u5373\u53ef\u3002\u6bd4\u5982\uff1a"
      ]
    },
    {
      "cell_type": "code",
      "execution_count": null,
      "metadata": {},
      "outputs": [],
      "source": [
        "s = 'Spicy &quot;Jalape&#241;o&quot.'\nfrom html.parser import HTMLParser\np = HTMLParser()\np.unescape(s)"
      ]
    },
    {
      "cell_type": "code",
      "execution_count": null,
      "metadata": {},
      "outputs": [],
      "source": [
        "t = 'The prompt is &gt;&gt;&gt;'\nfrom xml.sax.saxutils import unescape\nunescape(t)"
      ]
    },
    {
      "cell_type": "markdown",
      "metadata": {},
      "source": [
        "### \u8ba8\u8bba\n"
      ]
    },
    {
      "cell_type": "markdown",
      "metadata": {},
      "source": [
        "\u5728\u751f\u6210HTML\u6216\u8005XML\u6587\u672c\u7684\u65f6\u5019\uff0c\u5982\u679c\u6b63\u786e\u7684\u8f6c\u6362\u7279\u6b8a\u6807\u8bb0\u5b57\u7b26\u662f\u4e00\u4e2a\u5f88\u5bb9\u6613\u88ab\u5ffd\u89c6\u7684\u7ec6\u8282\u3002\n\u7279\u522b\u662f\u5f53\u4f60\u4f7f\u7528 print() \u51fd\u6570\u6216\u8005\u5176\u4ed6\u5b57\u7b26\u4e32\u683c\u5f0f\u5316\u6765\u4ea7\u751f\u8f93\u51fa\u7684\u65f6\u5019\u3002\n\u4f7f\u7528\u50cf html.escape() \u7684\u5de5\u5177\u51fd\u6570\u53ef\u4ee5\u5f88\u5bb9\u6613\u7684\u89e3\u51b3\u8fd9\u7c7b\u95ee\u9898\u3002"
      ]
    },
    {
      "cell_type": "markdown",
      "metadata": {},
      "source": [
        "\u5982\u679c\u4f60\u60f3\u4ee5\u5176\u4ed6\u65b9\u5f0f\u5904\u7406\u6587\u672c\uff0c\u8fd8\u6709\u4e00\u4e9b\u5176\u4ed6\u7684\u5de5\u5177\u51fd\u6570\u6bd4\u5982 xml.sax.saxutils.unescapge() \u53ef\u4ee5\u5e2e\u52a9\u4f60\u3002\n\u7136\u800c\uff0c\u4f60\u5e94\u8be5\u5148\u8c03\u7814\u6e05\u695a\u600e\u6837\u4f7f\u7528\u4e00\u4e2a\u5408\u9002\u7684\u89e3\u6790\u5668\u3002\n\u6bd4\u5982\uff0c\u5982\u679c\u4f60\u5728\u5904\u7406HTML\u6216XML\u6587\u672c\uff0c\n\u4f7f\u7528\u67d0\u4e2a\u89e3\u6790\u6a21\u5757\u6bd4\u5982 html.parse \u6216 xml.etree.ElementTree \u5df2\u7ecf\u5e2e\u4f60\u81ea\u52a8\u5904\u7406\u4e86\u76f8\u5173\u7684\u66ff\u6362\u7ec6\u8282\u3002"
      ]
    },
    {
      "cell_type": "markdown",
      "metadata": {},
      "source": [
        "## 2.18 \u5b57\u7b26\u4e32\u4ee4\u724c\u89e3\u6790\n"
      ]
    },
    {
      "cell_type": "markdown",
      "metadata": {},
      "source": [
        "### \u95ee\u9898\n"
      ]
    },
    {
      "cell_type": "markdown",
      "metadata": {},
      "source": [
        "\u4f60\u6709\u4e00\u4e2a\u5b57\u7b26\u4e32\uff0c\u60f3\u4ece\u5de6\u81f3\u53f3\u5c06\u5176\u89e3\u6790\u4e3a\u4e00\u4e2a\u4ee4\u724c\u6d41\u3002"
      ]
    },
    {
      "cell_type": "markdown",
      "metadata": {},
      "source": [
        "### \u89e3\u51b3\u65b9\u6848\n"
      ]
    },
    {
      "cell_type": "markdown",
      "metadata": {},
      "source": [
        "\u5047\u5982\u4f60\u6709\u4e0b\u9762\u8fd9\u6837\u4e00\u4e2a\u6587\u672c\u5b57\u7b26\u4e32\uff1a"
      ]
    },
    {
      "cell_type": "code",
      "execution_count": null,
      "metadata": {},
      "outputs": [],
      "source": [
        "text = 'foo = 23 + 42 * 10'"
      ]
    },
    {
      "cell_type": "markdown",
      "metadata": {},
      "source": [
        "\u4e3a\u4e86\u4ee4\u724c\u5316\u5b57\u7b26\u4e32\uff0c\u4f60\u4e0d\u4ec5\u9700\u8981\u5339\u914d\u6a21\u5f0f\uff0c\u8fd8\u5f97\u6307\u5b9a\u6a21\u5f0f\u7684\u7c7b\u578b\u3002\n\u6bd4\u5982\uff0c\u4f60\u53ef\u80fd\u60f3\u5c06\u5b57\u7b26\u4e32\u50cf\u4e0b\u9762\u8fd9\u6837\u8f6c\u6362\u4e3a\u5e8f\u5217\u5bf9\uff1a"
      ]
    },
    {
      "cell_type": "code",
      "execution_count": null,
      "metadata": {},
      "outputs": [],
      "source": [
        "tokens = [('NAME', 'foo'), ('EQ','='), ('NUM', '23'), ('PLUS','+'),\n          ('NUM', '42'), ('TIMES', '*'), ('NUM', '10')]"
      ]
    },
    {
      "cell_type": "markdown",
      "metadata": {},
      "source": [
        "\u4e3a\u4e86\u6267\u884c\u8fd9\u6837\u7684\u5207\u5206\uff0c\u7b2c\u4e00\u6b65\u5c31\u662f\u50cf\u4e0b\u9762\u8fd9\u6837\u5229\u7528\u547d\u540d\u6355\u83b7\u7ec4\u7684\u6b63\u5219\u8868\u8fbe\u5f0f\u6765\u5b9a\u4e49\u6240\u6709\u53ef\u80fd\u7684\u4ee4\u724c\uff0c\u5305\u62ec\u7a7a\u683c\uff1a"
      ]
    },
    {
      "cell_type": "code",
      "execution_count": null,
      "metadata": {},
      "outputs": [],
      "source": [
        "import re\nNAME = r'(?P<NAME>[a-zA-Z_][a-zA-Z_0-9]*)'\nNUM = r'(?P<NUM>\\d+)'\nPLUS = r'(?P<PLUS>\\+)'\nTIMES = r'(?P<TIMES>\\*)'\nEQ = r'(?P<EQ>=)'\nWS = r'(?P<WS>\\s+)'\n\nmaster_pat = re.compile('|'.join([NAME, NUM, PLUS, TIMES, EQ, WS]))"
      ]
    },
    {
      "cell_type": "markdown",
      "metadata": {},
      "source": [
        "\u5728\u4e0a\u9762\u7684\u6a21\u5f0f\u4e2d\uff0c ?P<TOKENNAME> \u7528\u4e8e\u7ed9\u4e00\u4e2a\u6a21\u5f0f\u547d\u540d\uff0c\u4f9b\u540e\u9762\u4f7f\u7528\u3002"
      ]
    },
    {
      "cell_type": "markdown",
      "metadata": {},
      "source": [
        "\u4e0b\u4e00\u6b65\uff0c\u4e3a\u4e86\u4ee4\u724c\u5316\uff0c\u4f7f\u7528\u6a21\u5f0f\u5bf9\u8c61\u5f88\u5c11\u88ab\u4eba\u77e5\u9053\u7684 scanner() \u65b9\u6cd5\u3002\n\u8fd9\u4e2a\u65b9\u6cd5\u4f1a\u521b\u5efa\u4e00\u4e2a scanner \u5bf9\u8c61\uff0c\n\u5728\u8fd9\u4e2a\u5bf9\u8c61\u4e0a\u4e0d\u65ad\u7684\u8c03\u7528 match() \u65b9\u6cd5\u4f1a\u4e00\u6b65\u6b65\u7684\u626b\u63cf\u76ee\u6807\u6587\u672c\uff0c\u6bcf\u6b65\u4e00\u4e2a\u5339\u914d\u3002\n\u4e0b\u9762\u662f\u6f14\u793a\u4e00\u4e2a scanner \u5bf9\u8c61\u5982\u4f55\u5de5\u4f5c\u7684\u4ea4\u4e92\u5f0f\u4f8b\u5b50\uff1a"
      ]
    },
    {
      "cell_type": "code",
      "execution_count": null,
      "metadata": {},
      "outputs": [],
      "source": [
        "scanner = master_pat.scanner('foo = 42')\nscanner.match()"
      ]
    },
    {
      "cell_type": "code",
      "execution_count": null,
      "metadata": {},
      "outputs": [],
      "source": [
        "_.lastgroup, _.group()"
      ]
    },
    {
      "cell_type": "code",
      "execution_count": null,
      "metadata": {},
      "outputs": [],
      "source": [
        "scanner.match()"
      ]
    },
    {
      "cell_type": "code",
      "execution_count": null,
      "metadata": {},
      "outputs": [],
      "source": [
        "_.lastgroup, _.group()"
      ]
    },
    {
      "cell_type": "code",
      "execution_count": null,
      "metadata": {},
      "outputs": [],
      "source": [
        "scanner.match()"
      ]
    },
    {
      "cell_type": "code",
      "execution_count": null,
      "metadata": {},
      "outputs": [],
      "source": [
        "_.lastgroup, _.group()"
      ]
    },
    {
      "cell_type": "code",
      "execution_count": null,
      "metadata": {},
      "outputs": [],
      "source": [
        "scanner.match()"
      ]
    },
    {
      "cell_type": "code",
      "execution_count": null,
      "metadata": {},
      "outputs": [],
      "source": [
        "_.lastgroup, _.group()"
      ]
    },
    {
      "cell_type": "code",
      "execution_count": null,
      "metadata": {},
      "outputs": [],
      "source": [
        "scanner.match()"
      ]
    },
    {
      "cell_type": "code",
      "execution_count": null,
      "metadata": {},
      "outputs": [],
      "source": [
        "_.lastgroup, _.group()"
      ]
    },
    {
      "cell_type": "code",
      "execution_count": null,
      "metadata": {},
      "outputs": [],
      "source": [
        "scanner.match()"
      ]
    },
    {
      "cell_type": "markdown",
      "metadata": {},
      "source": [
        "\u5b9e\u9645\u4f7f\u7528\u8fd9\u79cd\u6280\u672f\u7684\u65f6\u5019\uff0c\u53ef\u4ee5\u5f88\u5bb9\u6613\u7684\u50cf\u4e0b\u9762\u8fd9\u6837\u5c06\u4e0a\u8ff0\u4ee3\u7801\u6253\u5305\u5230\u4e00\u4e2a\u751f\u6210\u5668\u4e2d\uff1a"
      ]
    },
    {
      "cell_type": "code",
      "execution_count": null,
      "metadata": {},
      "outputs": [],
      "source": [
        "def generate_tokens(pat, text):\n    Token = namedtuple('Token', ['type', 'value'])\n    scanner = pat.scanner(text)\n    for m in iter(scanner.match, None):\n        yield Token(m.lastgroup, m.group())\n\n# Example use\nfor tok in generate_tokens(master_pat, 'foo = 42'):\n    print(tok)\n# Produces output\n# Token(type='NAME', value='foo')\n# Token(type='WS', value=' ')\n# Token(type='EQ', value='=')\n# Token(type='WS', value=' ')\n# Token(type='NUM', value='42')"
      ]
    },
    {
      "cell_type": "markdown",
      "metadata": {},
      "source": [
        "\u5982\u679c\u4f60\u60f3\u8fc7\u6ee4\u4ee4\u724c\u6d41\uff0c\u4f60\u53ef\u4ee5\u5b9a\u4e49\u66f4\u591a\u7684\u751f\u6210\u5668\u51fd\u6570\u6216\u8005\u4f7f\u7528\u4e00\u4e2a\u751f\u6210\u5668\u8868\u8fbe\u5f0f\u3002\n\u6bd4\u5982\uff0c\u4e0b\u9762\u6f14\u793a\u600e\u6837\u8fc7\u6ee4\u6240\u6709\u7684\u7a7a\u767d\u4ee4\u724c\uff1a"
      ]
    },
    {
      "cell_type": "code",
      "execution_count": null,
      "metadata": {},
      "outputs": [],
      "source": [
        "tokens = (tok for tok in generate_tokens(master_pat, text)\n          if tok.type != 'WS')\nfor tok in tokens:\n    print(tok)"
      ]
    },
    {
      "cell_type": "markdown",
      "metadata": {},
      "source": [
        "### \u8ba8\u8bba\n"
      ]
    },
    {
      "cell_type": "markdown",
      "metadata": {},
      "source": [
        "\u901a\u5e38\u6765\u8bb2\u4ee4\u724c\u5316\u662f\u5f88\u591a\u9ad8\u7ea7\u6587\u672c\u89e3\u6790\u4e0e\u5904\u7406\u7684\u7b2c\u4e00\u6b65\u3002\n\u4e3a\u4e86\u4f7f\u7528\u4e0a\u9762\u7684\u626b\u63cf\u65b9\u6cd5\uff0c\u4f60\u9700\u8981\u8bb0\u4f4f\u8fd9\u91cc\u4e00\u4e9b\u91cd\u8981\u7684\u51e0\u70b9\u3002\n\u7b2c\u4e00\u70b9\u5c31\u662f\u4f60\u5fc5\u987b\u786e\u8ba4\u4f60\u4f7f\u7528\u6b63\u5219\u8868\u8fbe\u5f0f\u6307\u5b9a\u4e86\u6240\u6709\u8f93\u5165\u4e2d\u53ef\u80fd\u51fa\u73b0\u7684\u6587\u672c\u5e8f\u5217\u3002\n\u5982\u679c\u6709\u4efb\u4f55\u4e0d\u53ef\u5339\u914d\u7684\u6587\u672c\u51fa\u73b0\u4e86\uff0c\u626b\u63cf\u5c31\u4f1a\u76f4\u63a5\u505c\u6b62\u3002\u8fd9\u4e5f\u662f\u4e3a\u4ec0\u4e48\u4e0a\u9762\u4f8b\u5b50\u4e2d\u5fc5\u987b\u6307\u5b9a\u7a7a\u767d\u5b57\u7b26\u4ee4\u724c\u7684\u539f\u56e0\u3002"
      ]
    },
    {
      "cell_type": "markdown",
      "metadata": {},
      "source": [
        "\u4ee4\u724c\u7684\u987a\u5e8f\u4e5f\u662f\u6709\u5f71\u54cd\u7684\u3002 re \u6a21\u5757\u4f1a\u6309\u7167\u6307\u5b9a\u597d\u7684\u987a\u5e8f\u53bb\u505a\u5339\u914d\u3002\n\u56e0\u6b64\uff0c\u5982\u679c\u4e00\u4e2a\u6a21\u5f0f\u6070\u597d\u662f\u53e6\u4e00\u4e2a\u66f4\u957f\u6a21\u5f0f\u7684\u5b50\u5b57\u7b26\u4e32\uff0c\u90a3\u4e48\u4f60\u9700\u8981\u786e\u5b9a\u957f\u6a21\u5f0f\u5199\u5728\u524d\u9762\u3002\u6bd4\u5982\uff1a"
      ]
    },
    {
      "cell_type": "code",
      "execution_count": null,
      "metadata": {},
      "outputs": [],
      "source": [
        "LT = r'(?P<LT><)'\nLE = r'(?P<LE><=)'\nEQ = r'(?P<EQ>=)'\n\nmaster_pat = re.compile('|'.join([LE, LT, EQ])) # Correct\n# master_pat = re.compile('|'.join([LT, LE, EQ])) # Incorrect"
      ]
    },
    {
      "cell_type": "markdown",
      "metadata": {},
      "source": [
        "\u7b2c\u4e8c\u4e2a\u6a21\u5f0f\u662f\u9519\u7684\uff0c\u56e0\u4e3a\u5b83\u4f1a\u5c06\u6587\u672c<=\u5339\u914d\u4e3a\u4ee4\u724cLT\u7d27\u8ddf\u7740EQ\uff0c\u800c\u4e0d\u662f\u5355\u72ec\u7684\u4ee4\u724cLE\uff0c\u8fd9\u4e2a\u5e76\u4e0d\u662f\u6211\u4eec\u60f3\u8981\u7684\u7ed3\u679c\u3002"
      ]
    },
    {
      "cell_type": "markdown",
      "metadata": {},
      "source": [
        "\u6700\u540e\uff0c\u4f60\u9700\u8981\u7559\u610f\u4e0b\u5b50\u5b57\u7b26\u4e32\u5f62\u5f0f\u7684\u6a21\u5f0f\u3002\u6bd4\u5982\uff0c\u5047\u8bbe\u4f60\u6709\u5982\u4e0b\u4e24\u4e2a\u6a21\u5f0f\uff1a"
      ]
    },
    {
      "cell_type": "code",
      "execution_count": null,
      "metadata": {},
      "outputs": [],
      "source": [
        "PRINT = r'(?P<PRINT>print)'\nNAME = r'(?P<NAME>[a-zA-Z_][a-zA-Z_0-9]*)'\n\nmaster_pat = re.compile('|'.join([PRINT, NAME]))\n\nfor tok in generate_tokens(master_pat, 'printer'):\n    print(tok)\n\n# Outputs :\n# Token(type='PRINT', value='print')\n# Token(type='NAME', value='er')"
      ]
    },
    {
      "cell_type": "markdown",
      "metadata": {},
      "source": [
        "\u5173\u4e8e\u66f4\u9ad8\u9636\u7684\u4ee4\u724c\u5316\u6280\u672f\uff0c\u4f60\u53ef\u80fd\u9700\u8981\u67e5\u770b PyParsing\n\u6216\u8005 PLY \u5305\u3002\n\u4e00\u4e2a\u8c03\u7528PLY\u7684\u4f8b\u5b50\u5728\u4e0b\u4e00\u8282\u4f1a\u6709\u6f14\u793a\u3002"
      ]
    },
    {
      "cell_type": "markdown",
      "metadata": {},
      "source": [
        "## 2.19 \u5b9e\u73b0\u4e00\u4e2a\u7b80\u5355\u7684\u9012\u5f52\u4e0b\u964d\u5206\u6790\u5668\n"
      ]
    },
    {
      "cell_type": "markdown",
      "metadata": {},
      "source": [
        "### \u95ee\u9898\n"
      ]
    },
    {
      "cell_type": "markdown",
      "metadata": {},
      "source": [
        "\u4f60\u60f3\u6839\u636e\u4e00\u7ec4\u8bed\u6cd5\u89c4\u5219\u89e3\u6790\u6587\u672c\u5e76\u6267\u884c\u547d\u4ee4\uff0c\u6216\u8005\u6784\u9020\u4e00\u4e2a\u4ee3\u8868\u8f93\u5165\u7684\u62bd\u8c61\u8bed\u6cd5\u6811\u3002\n\u5982\u679c\u8bed\u6cd5\u975e\u5e38\u7b80\u5355\uff0c\u4f60\u53ef\u4ee5\u4e0d\u53bb\u4f7f\u7528\u4e00\u4e9b\u6846\u67b6\uff0c\u800c\u662f\u81ea\u5df1\u5199\u8fd9\u4e2a\u89e3\u6790\u5668\u3002"
      ]
    },
    {
      "cell_type": "markdown",
      "metadata": {},
      "source": [
        "### \u89e3\u51b3\u65b9\u6848\n"
      ]
    },
    {
      "cell_type": "markdown",
      "metadata": {},
      "source": [
        "\u5728\u8fd9\u4e2a\u95ee\u9898\u4e2d\uff0c\u6211\u4eec\u96c6\u4e2d\u8ba8\u8bba\u6839\u636e\u7279\u6b8a\u8bed\u6cd5\u53bb\u89e3\u6790\u6587\u672c\u7684\u95ee\u9898\u3002\n\u4e3a\u4e86\u8fd9\u6837\u505a\uff0c\u4f60\u9996\u5148\u8981\u4ee5BNF\u6216\u8005EBNF\u5f62\u5f0f\u6307\u5b9a\u4e00\u4e2a\u6807\u51c6\u8bed\u6cd5\u3002\n\u6bd4\u5982\uff0c\u4e00\u4e2a\u7b80\u5355\u6570\u5b66\u8868\u8fbe\u5f0f\u8bed\u6cd5\u53ef\u80fd\u50cf\u4e0b\u9762\u8fd9\u6837\uff1a"
      ]
    },
    {
      "cell_type": "code",
      "execution_count": null,
      "metadata": {},
      "outputs": [],
      "source": [
        "expr ::= expr + term\n    |   expr - term\n    |   term\n\nterm ::= term * factor\n    |   term / factor\n    |   factor\n\nfactor ::= ( expr )\n    |   NUM"
      ]
    },
    {
      "cell_type": "markdown",
      "metadata": {},
      "source": [
        "\u6216\u8005\uff0c\u4ee5EBNF\u5f62\u5f0f\uff1a"
      ]
    },
    {
      "cell_type": "code",
      "execution_count": null,
      "metadata": {},
      "outputs": [],
      "source": [
        "expr ::= term { (+|-) term }*\n\nterm ::= factor { (*|/) factor }*\n\nfactor ::= ( expr )\n    |   NUM"
      ]
    },
    {
      "cell_type": "markdown",
      "metadata": {},
      "source": [
        "\u5728EBNF\u4e2d\uff0c\u88ab\u5305\u542b\u5728 {...}* \u4e2d\u7684\u89c4\u5219\u662f\u53ef\u9009\u7684\u3002*\u4ee3\u88680\u6b21\u6216\u591a\u6b21\u91cd\u590d(\u8ddf\u6b63\u5219\u8868\u8fbe\u5f0f\u4e2d\u610f\u4e49\u662f\u4e00\u6837\u7684)\u3002"
      ]
    },
    {
      "cell_type": "markdown",
      "metadata": {},
      "source": [
        "\u73b0\u5728\uff0c\u5982\u679c\u4f60\u5bf9BNF\u7684\u5de5\u4f5c\u673a\u5236\u8fd8\u4e0d\u662f\u5f88\u660e\u767d\u7684\u8bdd\uff0c\u5c31\u628a\u5b83\u5f53\u505a\u662f\u4e00\u7ec4\u5de6\u53f3\u7b26\u53f7\u53ef\u76f8\u4e92\u66ff\u6362\u7684\u89c4\u5219\u3002\n\u4e00\u822c\u6765\u8bb2\uff0c\u89e3\u6790\u7684\u539f\u7406\u5c31\u662f\u4f60\u5229\u7528BNF\u5b8c\u6210\u591a\u4e2a\u66ff\u6362\u548c\u6269\u5c55\u4ee5\u5339\u914d\u8f93\u5165\u6587\u672c\u548c\u8bed\u6cd5\u89c4\u5219\u3002\n\u4e3a\u4e86\u6f14\u793a\uff0c\u5047\u8bbe\u4f60\u6b63\u5728\u89e3\u6790\u5f62\u5982 3 + 4 * 5 \u7684\u8868\u8fbe\u5f0f\u3002\n\u8fd9\u4e2a\u8868\u8fbe\u5f0f\u5148\u8981\u901a\u8fc7\u4f7f\u75282.18\u8282\u4e2d\u4ecb\u7ecd\u7684\u6280\u672f\u5206\u89e3\u4e3a\u4e00\u7ec4\u4ee4\u724c\u6d41\u3002\n\u7ed3\u679c\u53ef\u80fd\u662f\u50cf\u4e0b\u5217\u8fd9\u6837\u7684\u4ee4\u724c\u5e8f\u5217\uff1a"
      ]
    },
    {
      "cell_type": "code",
      "execution_count": null,
      "metadata": {},
      "outputs": [],
      "source": [
        "NUM + NUM * NUM"
      ]
    },
    {
      "cell_type": "markdown",
      "metadata": {},
      "source": [
        "\u5728\u6b64\u57fa\u7840\u4e0a\uff0c \u89e3\u6790\u52a8\u4f5c\u4f1a\u8bd5\u7740\u53bb\u901a\u8fc7\u66ff\u6362\u64cd\u4f5c\u5339\u914d\u8bed\u6cd5\u5230\u8f93\u5165\u4ee4\u724c\uff1a"
      ]
    },
    {
      "cell_type": "code",
      "execution_count": null,
      "metadata": {},
      "outputs": [],
      "source": [
        "expr\nexpr ::= term { (+|-) term }*\nexpr ::= factor { (*|/) factor }* { (+|-) term }*\nexpr ::= NUM { (*|/) factor }* { (+|-) term }*\nexpr ::= NUM { (+|-) term }*\nexpr ::= NUM + term { (+|-) term }*\nexpr ::= NUM + factor { (*|/) factor }* { (+|-) term }*\nexpr ::= NUM + NUM { (*|/) factor}* { (+|-) term }*\nexpr ::= NUM + NUM * factor { (*|/) factor }* { (+|-) term }*\nexpr ::= NUM + NUM * NUM { (*|/) factor }* { (+|-) term }*\nexpr ::= NUM + NUM * NUM { (+|-) term }*\nexpr ::= NUM + NUM * NUM"
      ]
    },
    {
      "cell_type": "markdown",
      "metadata": {},
      "source": [
        "\u4e0b\u9762\u6240\u6709\u7684\u89e3\u6790\u6b65\u9aa4\u53ef\u80fd\u9700\u8981\u82b1\u70b9\u65f6\u95f4\u5f04\u660e\u767d\uff0c\u4f46\u662f\u5b83\u4eec\u539f\u7406\u90fd\u662f\u67e5\u627e\u8f93\u5165\u5e76\u8bd5\u7740\u53bb\u5339\u914d\u8bed\u6cd5\u89c4\u5219\u3002\n\u7b2c\u4e00\u4e2a\u8f93\u5165\u4ee4\u724c\u662fNUM\uff0c\u56e0\u6b64\u66ff\u6362\u9996\u5148\u4f1a\u5339\u914d\u90a3\u4e2a\u90e8\u5206\u3002\n\u4e00\u65e6\u5339\u914d\u6210\u529f\uff0c\u5c31\u4f1a\u8fdb\u5165\u4e0b\u4e00\u4e2a\u4ee4\u724c+\uff0c\u4ee5\u6b64\u7c7b\u63a8\u3002\n\u5f53\u5df2\u7ecf\u786e\u5b9a\u4e0d\u80fd\u5339\u914d\u4e0b\u4e00\u4e2a\u4ee4\u724c\u7684\u65f6\u5019\uff0c\u53f3\u8fb9\u7684\u90e8\u5206(\u6bd4\u5982 { (*/) factor }* )\u5c31\u4f1a\u88ab\u6e05\u7406\u6389\u3002\n\u5728\u4e00\u4e2a\u6210\u529f\u7684\u89e3\u6790\u4e2d\uff0c\u6574\u4e2a\u53f3\u8fb9\u90e8\u5206\u4f1a\u5b8c\u5168\u5c55\u5f00\u6765\u5339\u914d\u8f93\u5165\u4ee4\u724c\u6d41\u3002"
      ]
    },
    {
      "cell_type": "markdown",
      "metadata": {},
      "source": [
        "\u6709\u4e86\u524d\u9762\u7684\u77e5\u8bc6\u80cc\u666f\uff0c\u4e0b\u9762\u6211\u4eec\u4e3e\u4e00\u4e2a\u7b80\u5355\u793a\u4f8b\u6765\u5c55\u793a\u5982\u4f55\u6784\u5efa\u4e00\u4e2a\u9012\u5f52\u4e0b\u964d\u8868\u8fbe\u5f0f\u6c42\u503c\u7a0b\u5e8f\uff1a"
      ]
    },
    {
      "cell_type": "code",
      "execution_count": null,
      "metadata": {},
      "outputs": [],
      "source": [
        "#!/usr/bin/env python\n# -*- encoding: utf-8 -*-\n\"\"\"\nTopic: \u4e0b\u964d\u89e3\u6790\u5668\nDesc :\n\"\"\"\nimport re\nimport collections\n\n# Token specification\nNUM = r'(?P<NUM>\\d+)'\nPLUS = r'(?P<PLUS>\\+)'\nMINUS = r'(?P<MINUS>-)'\nTIMES = r'(?P<TIMES>\\*)'\nDIVIDE = r'(?P<DIVIDE>/)'\nLPAREN = r'(?P<LPAREN>\\()'\nRPAREN = r'(?P<RPAREN>\\))'\nWS = r'(?P<WS>\\s+)'\n\nmaster_pat = re.compile('|'.join([NUM, PLUS, MINUS, TIMES,\n                                  DIVIDE, LPAREN, RPAREN, WS]))\n# Tokenizer\nToken = collections.namedtuple('Token', ['type', 'value'])\n\n\ndef generate_tokens(text):\n    scanner = master_pat.scanner(text)\n    for m in iter(scanner.match, None):\n        tok = Token(m.lastgroup, m.group())\n        if tok.type != 'WS':\n            yield tok\n\n\n# Parser\nclass ExpressionEvaluator:\n    '''\n    Implementation of a recursive descent parser. Each method\n    implements a single grammar rule. Use the ._accept() method\n    to test and accept the current lookahead token. Use the ._expect()\n    method to exactly match and discard the next token on on the input\n    (or raise a SyntaxError if it doesn't match).\n    '''\n\n    def parse(self, text):\n        self.tokens = generate_tokens(text)\n        self.tok = None  # Last symbol consumed\n        self.nexttok = None  # Next symbol tokenized\n        self._advance()  # Load first lookahead token\n        return self.expr()\n\n    def _advance(self):\n        'Advance one token ahead'\n        self.tok, self.nexttok = self.nexttok, next(self.tokens, None)\n\n    def _accept(self, toktype):\n        'Test and consume the next token if it matches toktype'\n        if self.nexttok and self.nexttok.type == toktype:\n            self._advance()\n            return True\n        else:\n            return False\n\n    def _expect(self, toktype):\n        'Consume next token if it matches toktype or raise SyntaxError'\n        if not self._accept(toktype):\n            raise SyntaxError('Expected ' + toktype)\n\n    # Grammar rules follow\n    def expr(self):\n        \"expression ::= term { ('+'|'-') term }*\"\n        exprval = self.term()\n        while self._accept('PLUS') or self._accept('MINUS'):\n            op = self.tok.type\n            right = self.term()\n            if op == 'PLUS':\n                exprval += right\n            elif op == 'MINUS':\n                exprval -= right\n        return exprval\n\n    def term(self):\n        \"term ::= factor { ('*'|'/') factor }*\"\n        termval = self.factor()\n        while self._accept('TIMES') or self._accept('DIVIDE'):\n            op = self.tok.type\n            right = self.factor()\n            if op == 'TIMES':\n                termval *= right\n            elif op == 'DIVIDE':\n                termval /= right\n        return termval\n\n    def factor(self):\n        \"factor ::= NUM | ( expr )\"\n        if self._accept('NUM'):\n            return int(self.tok.value)\n        elif self._accept('LPAREN'):\n            exprval = self.expr()\n            self._expect('RPAREN')\n            return exprval\n        else:\n            raise SyntaxError('Expected NUMBER or LPAREN')\n\n\ndef descent_parser():\n    e = ExpressionEvaluator()\n    print(e.parse('2'))\n    print(e.parse('2 + 3'))\n    print(e.parse('2 + 3 * 4'))\n    print(e.parse('2 + (3 + 4) * 5'))\n    # print(e.parse('2 + (3 + * 4)'))\n    # Traceback (most recent call last):\n    #    File \"<stdin>\", line 1, in <module>\n    #    File \"exprparse.py\", line 40, in parse\n    #    return self.expr()\n    #    File \"exprparse.py\", line 67, in expr\n    #    right = self.term()\n    #    File \"exprparse.py\", line 77, in term\n    #    termval = self.factor()\n    #    File \"exprparse.py\", line 93, in factor\n    #    exprval = self.expr()\n    #    File \"exprparse.py\", line 67, in expr\n    #    right = self.term()\n    #    File \"exprparse.py\", line 77, in term\n    #    termval = self.factor()\n    #    File \"exprparse.py\", line 97, in factor\n    #    raise SyntaxError(\"Expected NUMBER or LPAREN\")\n    #    SyntaxError: Expected NUMBER or LPAREN\n\n\nif __name__ == '__main__':\n    descent_parser()"
      ]
    },
    {
      "cell_type": "markdown",
      "metadata": {},
      "source": [
        "### \u8ba8\u8bba\n"
      ]
    },
    {
      "cell_type": "markdown",
      "metadata": {},
      "source": [
        "\u6587\u672c\u89e3\u6790\u662f\u4e00\u4e2a\u5f88\u5927\u7684\u4e3b\u9898\uff0c \u4e00\u822c\u4f1a\u5360\u7528\u5b66\u751f\u5b66\u4e60\u7f16\u8bd1\u8bfe\u7a0b\u65f6\u521a\u5f00\u59cb\u7684\u4e09\u5468\u65f6\u95f4\u3002\n\u5982\u679c\u4f60\u5728\u627e\u5bfb\u5173\u4e8e\u8bed\u6cd5\uff0c\u89e3\u6790\u7b97\u6cd5\u7b49\u76f8\u5173\u7684\u80cc\u666f\u77e5\u8bc6\u7684\u8bdd\uff0c\u4f60\u5e94\u8be5\u53bb\u770b\u4e00\u4e0b\u7f16\u8bd1\u5668\u4e66\u7c4d\u3002\n\u5f88\u663e\u7136\uff0c\u5173\u4e8e\u8fd9\u65b9\u9762\u7684\u5185\u5bb9\u592a\u591a\uff0c\u4e0d\u53ef\u80fd\u5728\u8fd9\u91cc\u5168\u90e8\u5c55\u5f00\u3002"
      ]
    },
    {
      "cell_type": "markdown",
      "metadata": {},
      "source": [
        "\u5c3d\u7ba1\u5982\u6b64\uff0c\u7f16\u5199\u4e00\u4e2a\u9012\u5f52\u4e0b\u964d\u89e3\u6790\u5668\u7684\u6574\u4f53\u601d\u8def\u662f\u6bd4\u8f83\u7b80\u5355\u7684\u3002\n\u5f00\u59cb\u7684\u65f6\u5019\uff0c\u4f60\u5148\u83b7\u5f97\u6240\u6709\u7684\u8bed\u6cd5\u89c4\u5219\uff0c\u7136\u540e\u5c06\u5176\u8f6c\u6362\u4e3a\u4e00\u4e2a\u51fd\u6570\u6216\u8005\u65b9\u6cd5\u3002\n\u56e0\u6b64\u5982\u679c\u4f60\u7684\u8bed\u6cd5\u7c7b\u4f3c\u8fd9\u6837\uff1a"
      ]
    },
    {
      "cell_type": "code",
      "execution_count": null,
      "metadata": {},
      "outputs": [],
      "source": [
        "expr ::= term { ('+'|'-') term }*\n\nterm ::= factor { ('*'|'/') factor }*\n\nfactor ::= '(' expr ')'\n    | NUM"
      ]
    },
    {
      "cell_type": "markdown",
      "metadata": {},
      "source": [
        "\u4f60\u5e94\u8be5\u9996\u5148\u5c06\u5b83\u4eec\u8f6c\u6362\u6210\u4e00\u7ec4\u50cf\u4e0b\u9762\u8fd9\u6837\u7684\u65b9\u6cd5\uff1a"
      ]
    },
    {
      "cell_type": "code",
      "execution_count": null,
      "metadata": {},
      "outputs": [],
      "source": [
        "class ExpressionEvaluator:\n    ...\n    def expr(self):\n    ...\n    def term(self):\n    ...\n    def factor(self):\n    ..."
      ]
    },
    {
      "cell_type": "markdown",
      "metadata": {},
      "source": [
        "\u6bcf\u4e2a\u65b9\u6cd5\u8981\u5b8c\u6210\u7684\u4efb\u52a1\u5f88\u7b80\u5355 - \u5b83\u5fc5\u987b\u4ece\u5de6\u81f3\u53f3\u904d\u5386\u8bed\u6cd5\u89c4\u5219\u7684\u6bcf\u4e00\u90e8\u5206\uff0c\u5904\u7406\u6bcf\u4e2a\u4ee4\u724c\u3002\n\u4ece\u67d0\u79cd\u610f\u4e49\u4e0a\u8bb2\uff0c\u65b9\u6cd5\u7684\u76ee\u7684\u5c31\u662f\u8981\u4e48\u5904\u7406\u5b8c\u8bed\u6cd5\u89c4\u5219\uff0c\u8981\u4e48\u4ea7\u751f\u4e00\u4e2a\u8bed\u6cd5\u9519\u8bef\u3002\n\u4e3a\u4e86\u8fd9\u6837\u505a\uff0c\u9700\u91c7\u7528\u4e0b\u9762\u7684\u8fd9\u4e9b\u5b9e\u73b0\u65b9\u6cd5\uff1a"
      ]
    },
    {
      "cell_type": "markdown",
      "metadata": {},
      "source": [
        "\u5c3d\u7ba1\u5411\u4f60\u6f14\u793a\u7684\u662f\u4e00\u4e2a\u7b80\u5355\u7684\u4f8b\u5b50\uff0c\u9012\u5f52\u4e0b\u964d\u89e3\u6790\u5668\u53ef\u4ee5\u7528\u6765\u5b9e\u73b0\u975e\u5e38\u590d\u6742\u7684\u89e3\u6790\u3002\n\u6bd4\u5982\uff0cPython\u8bed\u8a00\u672c\u8eab\u5c31\u662f\u901a\u8fc7\u4e00\u4e2a\u9012\u5f52\u4e0b\u964d\u89e3\u6790\u5668\u53bb\u89e3\u91ca\u7684\u3002\n\u5982\u679c\u4f60\u5bf9\u6b64\u611f\u5174\u8da3\uff0c\u4f60\u53ef\u4ee5\u901a\u8fc7\u67e5\u770bPython\u6e90\u7801\u6587\u4ef6Grammar/Grammar\u6765\u7814\u7a76\u4e0b\u5e95\u5c42\u8bed\u6cd5\u673a\u5236\u3002\n\u770b\u5b8c\u4f60\u4f1a\u53d1\u73b0\uff0c\u901a\u8fc7\u624b\u52a8\u65b9\u5f0f\u53bb\u5b9e\u73b0\u4e00\u4e2a\u89e3\u6790\u5668\u5176\u5b9e\u4f1a\u6709\u5f88\u591a\u7684\u5c40\u9650\u548c\u4e0d\u8db3\u4e4b\u5904\u3002"
      ]
    },
    {
      "cell_type": "markdown",
      "metadata": {},
      "source": [
        "\u5176\u4e2d\u4e00\u4e2a\u5c40\u9650\u5c31\u662f\u5b83\u4eec\u4e0d\u80fd\u88ab\u7528\u4e8e\u5305\u542b\u4efb\u4f55\u5de6\u9012\u5f52\u7684\u8bed\u6cd5\u89c4\u5219\u4e2d\u3002\u6bd4\u5982\uff0c\u5047\u5982\u4f60\u9700\u8981\u7ffb\u8bd1\u4e0b\u9762\u8fd9\u6837\u4e00\u4e2a\u89c4\u5219\uff1a"
      ]
    },
    {
      "cell_type": "code",
      "execution_count": null,
      "metadata": {},
      "outputs": [],
      "source": [
        "items ::= items ',' item\n    | item"
      ]
    },
    {
      "cell_type": "markdown",
      "metadata": {},
      "source": [
        "\u4e3a\u4e86\u8fd9\u6837\u505a\uff0c\u4f60\u53ef\u80fd\u4f1a\u50cf\u4e0b\u9762\u8fd9\u6837\u4f7f\u7528 items() \u65b9\u6cd5\uff1a"
      ]
    },
    {
      "cell_type": "code",
      "execution_count": null,
      "metadata": {},
      "outputs": [],
      "source": [
        "def items(self):\n    itemsval = self.items()\n    if itemsval and self._accept(','):\n        itemsval.append(self.item())\n    else:\n        itemsval = [ self.item() ]"
      ]
    },
    {
      "cell_type": "markdown",
      "metadata": {},
      "source": [
        "\u552f\u4e00\u7684\u95ee\u9898\u662f\u8fd9\u4e2a\u65b9\u6cd5\u6839\u672c\u4e0d\u80fd\u5de5\u4f5c\uff0c\u4e8b\u5b9e\u4e0a\uff0c\u5b83\u4f1a\u4ea7\u751f\u4e00\u4e2a\u65e0\u9650\u9012\u5f52\u9519\u8bef\u3002"
      ]
    },
    {
      "cell_type": "markdown",
      "metadata": {},
      "source": [
        "\u5173\u4e8e\u8bed\u6cd5\u89c4\u5219\u672c\u8eab\u4f60\u53ef\u80fd\u4e5f\u4f1a\u78b0\u5230\u4e00\u4e9b\u68d8\u624b\u7684\u95ee\u9898\u3002\n\u6bd4\u5982\uff0c\u4f60\u53ef\u80fd\u60f3\u77e5\u9053\u4e0b\u9762\u8fd9\u4e2a\u7b80\u5355\u627c\u8bed\u6cd5\u662f\u5426\u8868\u8ff0\u5f97\u5f53\uff1a"
      ]
    },
    {
      "cell_type": "code",
      "execution_count": null,
      "metadata": {},
      "outputs": [],
      "source": [
        "expr ::= factor { ('+'|'-'|'*'|'/') factor }*\n\nfactor ::= '(' expression ')'\n    | NUM"
      ]
    },
    {
      "cell_type": "markdown",
      "metadata": {},
      "source": [
        "\u8fd9\u4e2a\u8bed\u6cd5\u770b\u4e0a\u53bb\u6ca1\u5565\u95ee\u9898\uff0c\u4f46\u662f\u5b83\u5374\u4e0d\u80fd\u5bdf\u89c9\u5230\u6807\u51c6\u56db\u5219\u8fd0\u7b97\u4e2d\u7684\u8fd0\u7b97\u7b26\u4f18\u5148\u7ea7\u3002\n\u6bd4\u5982\uff0c\u8868\u8fbe\u5f0f \"3 + 4 * 5\" \u4f1a\u5f97\u523035\u800c\u4e0d\u662f\u671f\u671b\u768423.\n\u5206\u5f00\u4f7f\u7528\u201dexpr\u201d\u548c\u201dterm\u201d\u89c4\u5219\u53ef\u4ee5\u8ba9\u5b83\u6b63\u786e\u7684\u5de5\u4f5c\u3002"
      ]
    },
    {
      "cell_type": "markdown",
      "metadata": {},
      "source": [
        "\u5bf9\u4e8e\u590d\u6742\u7684\u8bed\u6cd5\uff0c\u4f60\u6700\u597d\u662f\u9009\u62e9\u67d0\u4e2a\u89e3\u6790\u5de5\u5177\u6bd4\u5982PyParsing\u6216\u8005\u662fPLY\u3002\n\u4e0b\u9762\u662f\u4f7f\u7528PLY\u6765\u91cd\u5199\u8868\u8fbe\u5f0f\u6c42\u503c\u7a0b\u5e8f\u7684\u4ee3\u7801\uff1a"
      ]
    },
    {
      "cell_type": "code",
      "execution_count": null,
      "metadata": {},
      "outputs": [],
      "source": [
        "from ply.lex import lex\nfrom ply.yacc import yacc\n\n# Token list\ntokens = [ 'NUM', 'PLUS', 'MINUS', 'TIMES', 'DIVIDE', 'LPAREN', 'RPAREN' ]\n# Ignored characters\nt_ignore = ' \\t\\n'\n# Token specifications (as regexs)\nt_PLUS = r'\\+'\nt_MINUS = r'-'\nt_TIMES = r'\\*'\nt_DIVIDE = r'/'\nt_LPAREN = r'\\('\nt_RPAREN = r'\\)'\n\n# Token processing functions\ndef t_NUM(t):\n    r'\\d+'\n    t.value = int(t.value)\n    return t\n\n# Error handler\ndef t_error(t):\n    print('Bad character: {!r}'.format(t.value[0]))\n    t.skip(1)\n\n# Build the lexer\nlexer = lex()\n\n# Grammar rules and handler functions\ndef p_expr(p):\n    '''\n    expr : expr PLUS term\n        | expr MINUS term\n    '''\n    if p[2] == '+':\n        p[0] = p[1] + p[3]\n    elif p[2] == '-':\n        p[0] = p[1] - p[3]\n\n\ndef p_expr_term(p):\n    '''\n    expr : term\n    '''\n    p[0] = p[1]\n\n\ndef p_term(p):\n    '''\n    term : term TIMES factor\n    | term DIVIDE factor\n    '''\n    if p[2] == '*':\n        p[0] = p[1] * p[3]\n    elif p[2] == '/':\n        p[0] = p[1] / p[3]\n\ndef p_term_factor(p):\n    '''\n    term : factor\n    '''\n    p[0] = p[1]\n\ndef p_factor(p):\n    '''\n    factor : NUM\n    '''\n    p[0] = p[1]\n\ndef p_factor_group(p):\n    '''\n    factor : LPAREN expr RPAREN\n    '''\n    p[0] = p[2]\n\ndef p_error(p):\n    print('Syntax error')\n\nparser = yacc()"
      ]
    },
    {
      "cell_type": "markdown",
      "metadata": {},
      "source": [
        "\u8fd9\u4e2a\u7a0b\u5e8f\u4e2d\uff0c\u6240\u6709\u4ee3\u7801\u90fd\u4f4d\u4e8e\u4e00\u4e2a\u6bd4\u8f83\u9ad8\u7684\u5c42\u6b21\u3002\u4f60\u53ea\u9700\u8981\u4e3a\u4ee4\u724c\u5199\u6b63\u5219\u8868\u8fbe\u5f0f\u548c\u89c4\u5219\u5339\u914d\u65f6\u7684\u9ad8\u9636\u5904\u7406\u51fd\u6570\u5373\u53ef\u3002\n\u800c\u5b9e\u9645\u7684\u8fd0\u884c\u89e3\u6790\u5668\uff0c\u63a5\u53d7\u4ee4\u724c\u7b49\u7b49\u5e95\u5c42\u52a8\u4f5c\u5df2\u7ecf\u88ab\u5e93\u51fd\u6570\u5b9e\u73b0\u4e86\u3002"
      ]
    },
    {
      "cell_type": "markdown",
      "metadata": {},
      "source": [
        "\u4e0b\u9762\u662f\u4e00\u4e2a\u600e\u6837\u4f7f\u7528\u5f97\u5230\u7684\u89e3\u6790\u5bf9\u8c61\u7684\u4f8b\u5b50\uff1a"
      ]
    },
    {
      "cell_type": "code",
      "execution_count": null,
      "metadata": {},
      "outputs": [],
      "source": [
        "parser.parse('2')"
      ]
    },
    {
      "cell_type": "code",
      "execution_count": null,
      "metadata": {},
      "outputs": [],
      "source": [
        "parser.parse('2+3')"
      ]
    },
    {
      "cell_type": "code",
      "execution_count": null,
      "metadata": {},
      "outputs": [],
      "source": [
        "parser.parse('2+(3+4)*5')"
      ]
    },
    {
      "cell_type": "markdown",
      "metadata": {},
      "source": [
        "\u5982\u679c\u4f60\u60f3\u5728\u4f60\u7684\u7f16\u7a0b\u8fc7\u7a0b\u4e2d\u6765\u70b9\u6311\u6218\u548c\u523a\u6fc0\uff0c\u7f16\u5199\u89e3\u6790\u5668\u548c\u7f16\u8bd1\u5668\u662f\u4e2a\u4e0d\u9519\u7684\u9009\u62e9\u3002\n\u518d\u6b21\uff0c\u4e00\u672c\u7f16\u8bd1\u5668\u7684\u4e66\u7c4d\u4f1a\u5305\u542b\u5f88\u591a\u5e95\u5c42\u7684\u7406\u8bba\u77e5\u8bc6\u3002\u4e0d\u8fc7\u5f88\u591a\u597d\u7684\u8d44\u6e90\u4e5f\u53ef\u4ee5\u5728\u7f51\u4e0a\u627e\u5230\u3002\nPython\u81ea\u5df1\u7684ast\u6a21\u5757\u4e5f\u503c\u5f97\u53bb\u770b\u4e00\u4e0b\u3002"
      ]
    },
    {
      "cell_type": "markdown",
      "metadata": {},
      "source": [
        "## 2.20 \u5b57\u8282\u5b57\u7b26\u4e32\u4e0a\u7684\u5b57\u7b26\u4e32\u64cd\u4f5c\n"
      ]
    },
    {
      "cell_type": "markdown",
      "metadata": {},
      "source": [
        "### \u95ee\u9898\n"
      ]
    },
    {
      "cell_type": "markdown",
      "metadata": {},
      "source": [
        "\u4f60\u60f3\u5728\u5b57\u8282\u5b57\u7b26\u4e32\u4e0a\u6267\u884c\u666e\u901a\u7684\u6587\u672c\u64cd\u4f5c(\u6bd4\u5982\u79fb\u9664\uff0c\u641c\u7d22\u548c\u66ff\u6362)\u3002"
      ]
    },
    {
      "cell_type": "markdown",
      "metadata": {},
      "source": [
        "### \u89e3\u51b3\u65b9\u6848\n"
      ]
    },
    {
      "cell_type": "markdown",
      "metadata": {},
      "source": [
        "\u5b57\u8282\u5b57\u7b26\u4e32\u540c\u6837\u4e5f\u652f\u6301\u5927\u90e8\u5206\u548c\u6587\u672c\u5b57\u7b26\u4e32\u4e00\u6837\u7684\u5185\u7f6e\u64cd\u4f5c\u3002\u6bd4\u5982\uff1a"
      ]
    },
    {
      "cell_type": "code",
      "execution_count": null,
      "metadata": {},
      "outputs": [],
      "source": [
        "data = b'Hello World'\ndata[0:5]"
      ]
    },
    {
      "cell_type": "code",
      "execution_count": null,
      "metadata": {},
      "outputs": [],
      "source": [
        "data.startswith(b'Hello')"
      ]
    },
    {
      "cell_type": "code",
      "execution_count": null,
      "metadata": {},
      "outputs": [],
      "source": [
        "data.split()"
      ]
    },
    {
      "cell_type": "code",
      "execution_count": null,
      "metadata": {},
      "outputs": [],
      "source": [
        "data.replace(b'Hello', b'Hello Cruel')"
      ]
    },
    {
      "cell_type": "markdown",
      "metadata": {},
      "source": [
        "\u8fd9\u4e9b\u64cd\u4f5c\u540c\u6837\u4e5f\u9002\u7528\u4e8e\u5b57\u8282\u6570\u7ec4\u3002\u6bd4\u5982\uff1a"
      ]
    },
    {
      "cell_type": "code",
      "execution_count": null,
      "metadata": {},
      "outputs": [],
      "source": [
        "data = bytearray(b'Hello World')\ndata[0:5]"
      ]
    },
    {
      "cell_type": "code",
      "execution_count": null,
      "metadata": {},
      "outputs": [],
      "source": [
        "data.startswith(b'Hello')"
      ]
    },
    {
      "cell_type": "code",
      "execution_count": null,
      "metadata": {},
      "outputs": [],
      "source": [
        "data.split()"
      ]
    },
    {
      "cell_type": "code",
      "execution_count": null,
      "metadata": {},
      "outputs": [],
      "source": [
        "data.replace(b'Hello', b'Hello Cruel')"
      ]
    },
    {
      "cell_type": "markdown",
      "metadata": {},
      "source": [
        "\u4f60\u53ef\u4ee5\u4f7f\u7528\u6b63\u5219\u8868\u8fbe\u5f0f\u5339\u914d\u5b57\u8282\u5b57\u7b26\u4e32\uff0c\u4f46\u662f\u6b63\u5219\u8868\u8fbe\u5f0f\u672c\u8eab\u5fc5\u987b\u4e5f\u662f\u5b57\u8282\u4e32\u3002\u6bd4\u5982\uff1a"
      ]
    },
    {
      "cell_type": "code",
      "execution_count": null,
      "metadata": {},
      "outputs": [],
      "source": [
        "data = b'FOO:BAR,SPAM'\nimport re\nre.split('[:,]',data)"
      ]
    },
    {
      "cell_type": "code",
      "execution_count": null,
      "metadata": {},
      "outputs": [],
      "source": [
        "re.split(b'[:,]',data) # Notice: pattern as bytes"
      ]
    },
    {
      "cell_type": "markdown",
      "metadata": {},
      "source": [
        "### \u8ba8\u8bba\n"
      ]
    },
    {
      "cell_type": "markdown",
      "metadata": {},
      "source": [
        "\u5927\u591a\u6570\u60c5\u51b5\u4e0b\uff0c\u5728\u6587\u672c\u5b57\u7b26\u4e32\u4e0a\u7684\u64cd\u4f5c\u5747\u53ef\u7528\u4e8e\u5b57\u8282\u5b57\u7b26\u4e32\u3002\n\u7136\u800c\uff0c\u8fd9\u91cc\u4e5f\u6709\u4e00\u4e9b\u9700\u8981\u6ce8\u610f\u7684\u4e0d\u540c\u70b9\u3002\u9996\u5148\uff0c\u5b57\u8282\u5b57\u7b26\u4e32\u7684\u7d22\u5f15\u64cd\u4f5c\u8fd4\u56de\u6574\u6570\u800c\u4e0d\u662f\u5355\u72ec\u5b57\u7b26\u3002\u6bd4\u5982\uff1a"
      ]
    },
    {
      "cell_type": "code",
      "execution_count": null,
      "metadata": {},
      "outputs": [],
      "source": [
        "a = 'Hello World' # Text string\na[0]"
      ]
    },
    {
      "cell_type": "code",
      "execution_count": null,
      "metadata": {},
      "outputs": [],
      "source": [
        "a[1]"
      ]
    },
    {
      "cell_type": "code",
      "execution_count": null,
      "metadata": {},
      "outputs": [],
      "source": [
        "b = b'Hello World' # Byte string\nb[0]"
      ]
    },
    {
      "cell_type": "code",
      "execution_count": null,
      "metadata": {},
      "outputs": [],
      "source": [
        "b[1]"
      ]
    },
    {
      "cell_type": "markdown",
      "metadata": {},
      "source": [
        "\u8fd9\u79cd\u8bed\u4e49\u4e0a\u7684\u533a\u522b\u4f1a\u5bf9\u4e8e\u5904\u7406\u9762\u5411\u5b57\u8282\u7684\u5b57\u7b26\u6570\u636e\u6709\u5f71\u54cd\u3002"
      ]
    },
    {
      "cell_type": "markdown",
      "metadata": {},
      "source": [
        "\u7b2c\u4e8c\u70b9\uff0c\u5b57\u8282\u5b57\u7b26\u4e32\u4e0d\u4f1a\u63d0\u4f9b\u4e00\u4e2a\u7f8e\u89c2\u7684\u5b57\u7b26\u4e32\u8868\u793a\uff0c\u4e5f\u4e0d\u80fd\u5f88\u597d\u7684\u6253\u5370\u51fa\u6765\uff0c\u9664\u975e\u5b83\u4eec\u5148\u88ab\u89e3\u7801\u4e3a\u4e00\u4e2a\u6587\u672c\u5b57\u7b26\u4e32\u3002\u6bd4\u5982\uff1a"
      ]
    },
    {
      "cell_type": "code",
      "execution_count": null,
      "metadata": {},
      "outputs": [],
      "source": [
        "s = b'Hello World'\nprint(s)"
      ]
    },
    {
      "cell_type": "code",
      "execution_count": null,
      "metadata": {},
      "outputs": [],
      "source": [
        "print(s.decode('ascii'))"
      ]
    },
    {
      "cell_type": "markdown",
      "metadata": {},
      "source": [
        "\u7c7b\u4f3c\u7684\uff0c\u4e5f\u4e0d\u5b58\u5728\u4efb\u4f55\u9002\u7528\u4e8e\u5b57\u8282\u5b57\u7b26\u4e32\u7684\u683c\u5f0f\u5316\u64cd\u4f5c\uff1a"
      ]
    },
    {
      "cell_type": "code",
      "execution_count": null,
      "metadata": {},
      "outputs": [],
      "source": [
        "b'%10s %10d %10.2f' % (b'ACME', 100, 490.1)"
      ]
    },
    {
      "cell_type": "code",
      "execution_count": null,
      "metadata": {},
      "outputs": [],
      "source": [
        "b'{} {} {}'.format(b'ACME', 100, 490.1)"
      ]
    },
    {
      "cell_type": "markdown",
      "metadata": {},
      "source": [
        "\u5982\u679c\u4f60\u60f3\u683c\u5f0f\u5316\u5b57\u8282\u5b57\u7b26\u4e32\uff0c\u4f60\u5f97\u5148\u4f7f\u7528\u6807\u51c6\u7684\u6587\u672c\u5b57\u7b26\u4e32\uff0c\u7136\u540e\u5c06\u5176\u7f16\u7801\u4e3a\u5b57\u8282\u5b57\u7b26\u4e32\u3002\u6bd4\u5982\uff1a"
      ]
    },
    {
      "cell_type": "code",
      "execution_count": null,
      "metadata": {},
      "outputs": [],
      "source": [
        "'{:10s} {:10d} {:10.2f}'.format('ACME', 100, 490.1).encode('ascii')"
      ]
    },
    {
      "cell_type": "markdown",
      "metadata": {},
      "source": [
        "\u6700\u540e\u9700\u8981\u6ce8\u610f\u7684\u662f\uff0c\u4f7f\u7528\u5b57\u8282\u5b57\u7b26\u4e32\u53ef\u80fd\u4f1a\u6539\u53d8\u4e00\u4e9b\u64cd\u4f5c\u7684\u8bed\u4e49\uff0c\u7279\u522b\u662f\u90a3\u4e9b\u8ddf\u6587\u4ef6\u7cfb\u7edf\u6709\u5173\u7684\u64cd\u4f5c\u3002\n\u6bd4\u5982\uff0c\u5982\u679c\u4f60\u4f7f\u7528\u4e00\u4e2a\u7f16\u7801\u4e3a\u5b57\u8282\u7684\u6587\u4ef6\u540d\uff0c\u800c\u4e0d\u662f\u4e00\u4e2a\u666e\u901a\u7684\u6587\u672c\u5b57\u7b26\u4e32\uff0c\u4f1a\u7981\u7528\u6587\u4ef6\u540d\u7684\u7f16\u7801/\u89e3\u7801\u3002\u6bd4\u5982\uff1a"
      ]
    },
    {
      "cell_type": "code",
      "execution_count": null,
      "metadata": {},
      "outputs": [],
      "source": [
        "# Write a UTF-8 filename\nwith open('jalape\\xf1o.txt', 'w') as f:\n    f.write('spicy')\n# Get a directory listing\nimport os\nos.listdir('.') # Text string (names are decoded)"
      ]
    },
    {
      "cell_type": "code",
      "execution_count": null,
      "metadata": {},
      "outputs": [],
      "source": [
        "os.listdir(b'.') # Byte string (names left as bytes)"
      ]
    },
    {
      "cell_type": "markdown",
      "metadata": {},
      "source": [
        "\u6ce8\u610f\u4f8b\u5b50\u4e2d\u7684\u6700\u540e\u90e8\u5206\u7ed9\u76ee\u5f55\u540d\u4f20\u9012\u4e00\u4e2a\u5b57\u8282\u5b57\u7b26\u4e32\u662f\u600e\u6837\u5bfc\u81f4\u7ed3\u679c\u4e2d\u6587\u4ef6\u540d\u4ee5\u672a\u89e3\u7801\u5b57\u8282\u8fd4\u56de\u7684\u3002\n\u5728\u76ee\u5f55\u4e2d\u7684\u6587\u4ef6\u540d\u5305\u542b\u539f\u59cb\u7684UTF-8\u7f16\u7801\u3002\n\u53c2\u80035.15\u5c0f\u8282\u83b7\u53d6\u66f4\u591a\u6587\u4ef6\u540d\u76f8\u5173\u7684\u5185\u5bb9\u3002"
      ]
    },
    {
      "cell_type": "markdown",
      "metadata": {},
      "source": [
        "\u6700\u540e\u63d0\u4e00\u70b9\uff0c\u4e00\u4e9b\u7a0b\u5e8f\u5458\u4e3a\u4e86\u63d0\u5347\u7a0b\u5e8f\u6267\u884c\u7684\u901f\u5ea6\u4f1a\u503e\u5411\u4e8e\u4f7f\u7528\u5b57\u8282\u5b57\u7b26\u4e32\u800c\u4e0d\u662f\u6587\u672c\u5b57\u7b26\u4e32\u3002\n\u5c3d\u7ba1\u64cd\u4f5c\u5b57\u8282\u5b57\u7b26\u4e32\u786e\u5b9e\u4f1a\u6bd4\u6587\u672c\u66f4\u52a0\u9ad8\u6548(\u56e0\u4e3a\u5904\u7406\u6587\u672c\u56fa\u6709\u7684Unicode\u76f8\u5173\u5f00\u9500)\u3002\n\u8fd9\u6837\u505a\u901a\u5e38\u4f1a\u5bfc\u81f4\u975e\u5e38\u6742\u4e71\u7684\u4ee3\u7801\u3002\u4f60\u4f1a\u7ecf\u5e38\u53d1\u73b0\u5b57\u8282\u5b57\u7b26\u4e32\u5e76\u4e0d\u80fd\u548cPython\u7684\u5176\u4ed6\u90e8\u5206\u5de5\u4f5c\u7684\u5f88\u597d\uff0c\n\u5e76\u4e14\u4f60\u8fd8\u5f97\u624b\u52a8\u5904\u7406\u6240\u6709\u7684\u7f16\u7801/\u89e3\u7801\u64cd\u4f5c\u3002\n\u5766\u767d\u8bb2\uff0c\u5982\u679c\u4f60\u5728\u5904\u7406\u6587\u672c\u7684\u8bdd\uff0c\u5c31\u76f4\u63a5\u5728\u7a0b\u5e8f\u4e2d\u4f7f\u7528\u666e\u901a\u7684\u6587\u672c\u5b57\u7b26\u4e32\u800c\u4e0d\u662f\u5b57\u8282\u5b57\u7b26\u4e32\u3002\u4e0d\u505a\u6b7b\u5c31\u4e0d\u4f1a\u6b7b\uff01"
      ]
    }
  ],
  "metadata": {
    "kernelspec": {
      "display_name": "Python 3",
      "language": "python",
      "name": "python3"
    },
    "language_info": {
      "codemirror_mode": {
        "name": "ipython",
        "version": 3
      },
      "file_extension": ".py",
      "mimetype": "text/x-python",
      "name": "python",
      "nbconvert_exporter": "python",
      "pygments_lexer": "ipython3",
      "version": "3.7.1"
    },
    "toc": {
      "base_numbering": 1,
      "nav_menu": {},
      "number_sections": true,
      "sideBar": true,
      "skip_h1_title": true,
      "title_cell": "Table of Contents",
      "title_sidebar": "Contents",
      "toc_cell": false,
      "toc_position": {},
      "toc_section_display": true,
      "toc_window_display": true
    }
  },
  "nbformat": 4,
  "nbformat_minor": 2
}