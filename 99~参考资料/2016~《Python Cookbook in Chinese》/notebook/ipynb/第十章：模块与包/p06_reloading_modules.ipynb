{
  "cells": [
    {
      "cell_type": "markdown",
      "metadata": {},
      "source": [
        "## 10.6 \u91cd\u65b0\u52a0\u8f7d\u6a21\u5757\n"
      ]
    },
    {
      "cell_type": "markdown",
      "metadata": {},
      "source": [
        "### \u95ee\u9898\n"
      ]
    },
    {
      "cell_type": "markdown",
      "metadata": {},
      "source": [
        "\u4f60\u60f3\u91cd\u65b0\u52a0\u8f7d\u5df2\u7ecf\u52a0\u8f7d\u7684\u6a21\u5757\uff0c\u56e0\u4e3a\u4f60\u5bf9\u5176\u6e90\u7801\u8fdb\u884c\u4e86\u4fee\u6539\u3002"
      ]
    },
    {
      "cell_type": "markdown",
      "metadata": {},
      "source": [
        "### \u89e3\u51b3\u65b9\u6848\n"
      ]
    },
    {
      "cell_type": "markdown",
      "metadata": {},
      "source": [
        "\u4f7f\u7528imp.reload()\u6765\u91cd\u65b0\u52a0\u8f7d\u5148\u524d\u52a0\u8f7d\u7684\u6a21\u5757\u3002\u4e3e\u4e2a\u4f8b\u5b50\uff1a"
      ]
    },
    {
      "cell_type": "code",
      "execution_count": null,
      "metadata": {},
      "outputs": [],
      "source": [
        "import spam\nimport imp\nimp.reload(spam)"
      ]
    },
    {
      "cell_type": "markdown",
      "metadata": {},
      "source": [
        "### \u8ba8\u8bba\n"
      ]
    },
    {
      "cell_type": "markdown",
      "metadata": {},
      "source": [
        "\u91cd\u65b0\u52a0\u8f7d\u6a21\u5757\u5728\u5f00\u53d1\u548c\u8c03\u8bd5\u8fc7\u7a0b\u4e2d\u5e38\u5e38\u5f88\u6709\u7528\u3002\u4f46\u5728\u751f\u4ea7\u73af\u5883\u4e2d\u7684\u4ee3\u7801\u4f7f\u7528\u4f1a\u4e0d\u5b89\u5168\uff0c\u56e0\u4e3a\u5b83\u5e76\u4e0d\u603b\u662f\u50cf\u60a8\u671f\u671b\u7684\u90a3\u6837\u5de5\u4f5c\u3002"
      ]
    },
    {
      "cell_type": "markdown",
      "metadata": {},
      "source": [
        "reload()\u64e6\u9664\u4e86\u6a21\u5757\u5e95\u5c42\u5b57\u5178\u7684\u5185\u5bb9\uff0c\u5e76\u901a\u8fc7\u91cd\u65b0\u6267\u884c\u6a21\u5757\u7684\u6e90\u4ee3\u7801\u6765\u5237\u65b0\u5b83\u3002\u6a21\u5757\u5bf9\u8c61\u672c\u8eab\u7684\u8eab\u4efd\u4fdd\u6301\u4e0d\u53d8\u3002\u56e0\u6b64\uff0c\u8be5\u64cd\u4f5c\u5728\u7a0b\u5e8f\u4e2d\u6240\u6709\u5df2\u7ecf\u88ab\u5bfc\u5165\u4e86\u7684\u5730\u65b9\u66f4\u65b0\u4e86\u6a21\u5757\u3002"
      ]
    },
    {
      "cell_type": "markdown",
      "metadata": {},
      "source": [
        "\u5c3d\u7ba1\u5982\u6b64\uff0creload()\u6ca1\u6709\u66f4\u65b0\u50cf\u201dfrom module import name\u201d\u8fd9\u6837\u4f7f\u7528import\u8bed\u53e5\u5bfc\u5165\u7684\u5b9a\u4e49\u3002\u4e3e\u4e2a\u4f8b\u5b50\uff1a"
      ]
    },
    {
      "cell_type": "code",
      "execution_count": null,
      "metadata": {},
      "outputs": [],
      "source": [
        "# spam.py\ndef bar():\n    print('bar')\n\ndef grok():\n    print('grok')"
      ]
    },
    {
      "cell_type": "markdown",
      "metadata": {},
      "source": [
        "\u73b0\u5728\u542f\u52a8\u4ea4\u4e92\u5f0f\u4f1a\u8bdd\uff1a"
      ]
    },
    {
      "cell_type": "code",
      "execution_count": null,
      "metadata": {},
      "outputs": [],
      "source": [
        "import spam\nfrom spam import grok\nspam.bar()"
      ]
    },
    {
      "cell_type": "code",
      "execution_count": null,
      "metadata": {},
      "outputs": [],
      "source": [
        "grok()"
      ]
    },
    {
      "cell_type": "markdown",
      "metadata": {},
      "source": [
        "\u4e0d\u9000\u51faPython\u4fee\u6539spam.py\u7684\u6e90\u7801\uff0c\u5c06grok()\u51fd\u6570\u6539\u6210\u8fd9\u6837\uff1a"
      ]
    },
    {
      "cell_type": "code",
      "execution_count": null,
      "metadata": {},
      "outputs": [],
      "source": [
        "def grok():\n    print('New grok')"
      ]
    },
    {
      "cell_type": "markdown",
      "metadata": {},
      "source": [
        "\u73b0\u5728\u56de\u5230\u4ea4\u4e92\u5f0f\u4f1a\u8bdd\uff0c\u91cd\u65b0\u52a0\u8f7d\u6a21\u5757\uff0c\u5c1d\u8bd5\u4e0b\u8fd9\u4e2a\u5b9e\u9a8c\uff1a"
      ]
    },
    {
      "cell_type": "code",
      "execution_count": null,
      "metadata": {},
      "outputs": [],
      "source": [
        "import imp\nimp.reload(spam)"
      ]
    },
    {
      "cell_type": "code",
      "execution_count": null,
      "metadata": {},
      "outputs": [],
      "source": [
        "spam.bar()"
      ]
    },
    {
      "cell_type": "code",
      "execution_count": null,
      "metadata": {},
      "outputs": [],
      "source": [
        "grok() # Notice old output"
      ]
    },
    {
      "cell_type": "code",
      "execution_count": null,
      "metadata": {},
      "outputs": [],
      "source": [
        "spam.grok() # Notice new output"
      ]
    },
    {
      "cell_type": "markdown",
      "metadata": {},
      "source": [
        "\u5728\u8fd9\u4e2a\u4f8b\u5b50\u4e2d\uff0c\u4f60\u770b\u5230\u67092\u4e2a\u7248\u672c\u7684grok()\u51fd\u6570\u88ab\u52a0\u8f7d\u3002\u901a\u5e38\u6765\u8bf4\uff0c\u8fd9\u4e0d\u662f\u4f60\u60f3\u8981\u7684\uff0c\u800c\u662f\u4ee4\u4eba\u5934\u75bc\u7684\u4e8b\u3002"
      ]
    },
    {
      "cell_type": "markdown",
      "metadata": {},
      "source": [
        "\u56e0\u6b64\uff0c\u5728\u751f\u4ea7\u73af\u5883\u4e2d\u53ef\u80fd\u9700\u8981\u907f\u514d\u91cd\u65b0\u52a0\u8f7d\u6a21\u5757\u3002\u5728\u4ea4\u4e92\u73af\u5883\u4e0b\u8c03\u8bd5\uff0c\u89e3\u91ca\u7a0b\u5e8f\u5e76\u8bd5\u56fe\u5f04\u61c2\u5b83\u3002"
      ]
    }
  ],
  "metadata": {
    "kernelspec": {
      "display_name": "Python 3",
      "language": "python",
      "name": "python3"
    },
    "language_info": {
      "codemirror_mode": {
        "name": "ipython",
        "version": 3
      },
      "file_extension": ".py",
      "mimetype": "text/x-python",
      "name": "python",
      "nbconvert_exporter": "python",
      "pygments_lexer": "ipython3",
      "version": "3.7.1"
    },
    "toc": {
      "base_numbering": 1,
      "nav_menu": {},
      "number_sections": true,
      "sideBar": true,
      "skip_h1_title": true,
      "title_cell": "Table of Contents",
      "title_sidebar": "Contents",
      "toc_cell": false,
      "toc_position": {},
      "toc_section_display": true,
      "toc_window_display": true
    }
  },
  "nbformat": 4,
  "nbformat_minor": 2
}