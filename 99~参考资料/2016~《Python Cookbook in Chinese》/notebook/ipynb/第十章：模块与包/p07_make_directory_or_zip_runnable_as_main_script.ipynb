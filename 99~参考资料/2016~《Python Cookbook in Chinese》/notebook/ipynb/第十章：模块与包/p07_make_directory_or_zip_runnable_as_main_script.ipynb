{
  "cells": [
    {
      "cell_type": "markdown",
      "metadata": {},
      "source": [
        "## 10.7 \u8fd0\u884c\u76ee\u5f55\u6216\u538b\u7f29\u6587\u4ef6\n"
      ]
    },
    {
      "cell_type": "markdown",
      "metadata": {},
      "source": [
        "### \u95ee\u9898\n"
      ]
    },
    {
      "cell_type": "markdown",
      "metadata": {},
      "source": [
        "\u60a8\u6709\u4e00\u4e2a\u5df2\u6210\u957f\u4e3a\u5305\u542b\u591a\u4e2a\u6587\u4ef6\u7684\u5e94\u7528\uff0c\u5b83\u5df2\u8fdc\u4e0d\u518d\u662f\u4e00\u4e2a\u7b80\u5355\u7684\u811a\u672c\uff0c\u4f60\u60f3\u5411\u7528\u6237\u63d0\u4f9b\u4e00\u4e9b\u7b80\u5355\u7684\u65b9\u6cd5\u8fd0\u884c\u8fd9\u4e2a\u7a0b\u5e8f\u3002"
      ]
    },
    {
      "cell_type": "markdown",
      "metadata": {},
      "source": [
        "### \u89e3\u51b3\u65b9\u6848\n"
      ]
    },
    {
      "cell_type": "markdown",
      "metadata": {},
      "source": [
        "\u5982\u679c\u4f60\u7684\u5e94\u7528\u7a0b\u5e8f\u5df2\u7ecf\u6709\u591a\u4e2a\u6587\u4ef6\uff0c\u4f60\u53ef\u4ee5\u628a\u4f60\u7684\u5e94\u7528\u7a0b\u5e8f\u653e\u8fdb\u5b83\u81ea\u5df1\u7684\u76ee\u5f55\u5e76\u6dfb\u52a0\u4e00\u4e2a__main__.py\u6587\u4ef6\u3002 \u4e3e\u4e2a\u4f8b\u5b50\uff0c\u4f60\u53ef\u4ee5\u50cf\u8fd9\u6837\u521b\u5efa\u76ee\u5f55\uff1a"
      ]
    },
    {
      "cell_type": "code",
      "execution_count": null,
      "metadata": {},
      "outputs": [],
      "source": [
        "myapplication/\n    spam.py\n    bar.py\n    grok.py\n    __main__.py"
      ]
    },
    {
      "cell_type": "markdown",
      "metadata": {},
      "source": [
        "\u5982\u679c__main__.py\u5b58\u5728\uff0c\u4f60\u53ef\u4ee5\u7b80\u5355\u5730\u5728\u9876\u7ea7\u76ee\u5f55\u8fd0\u884cPython\u89e3\u91ca\u5668\uff1a"
      ]
    },
    {
      "cell_type": "code",
      "execution_count": null,
      "metadata": {},
      "outputs": [],
      "source": [
        "bash % python3 myapplication"
      ]
    },
    {
      "cell_type": "markdown",
      "metadata": {},
      "source": [
        "\u89e3\u91ca\u5668\u5c06\u6267\u884c__main__.py\u6587\u4ef6\u4f5c\u4e3a\u4e3b\u7a0b\u5e8f\u3002"
      ]
    },
    {
      "cell_type": "markdown",
      "metadata": {},
      "source": [
        "\u5982\u679c\u4f60\u5c06\u4f60\u7684\u4ee3\u7801\u6253\u5305\u6210zip\u6587\u4ef6\uff0c\u8fd9\u79cd\u6280\u672f\u540c\u6837\u4e5f\u9002\u7528\uff0c\u4e3e\u4e2a\u4f8b\u5b50\uff1a"
      ]
    },
    {
      "cell_type": "code",
      "execution_count": null,
      "metadata": {},
      "outputs": [],
      "source": [
        "bash % ls\nspam.py bar.py grok.py __main__.py\nbash % zip -r myapp.zip *.py\nbash % python3 myapp.zip\n... output from __main__.py ..."
      ]
    },
    {
      "cell_type": "markdown",
      "metadata": {},
      "source": [
        "### \u8ba8\u8bba\n"
      ]
    },
    {
      "cell_type": "markdown",
      "metadata": {},
      "source": [
        "\u521b\u5efa\u4e00\u4e2a\u76ee\u5f55\u6216zip\u6587\u4ef6\u5e76\u6dfb\u52a0__main__.py\u6587\u4ef6\u6765\u5c06\u4e00\u4e2a\u66f4\u5927\u7684Python\u5e94\u7528\u6253\u5305\u662f\u53ef\u884c\u7684\u3002\u8fd9\u548c\u4f5c\u4e3a\u6807\u51c6\u5e93\u88ab\u5b89\u88c5\u5230Python\u5e93\u7684\u4ee3\u7801\u5305\u662f\u6709\u4e00\u70b9\u533a\u522b\u7684\u3002\u76f8\u53cd\uff0c\u8fd9\u53ea\u662f\u8ba9\u522b\u4eba\u6267\u884c\u7684\u4ee3\u7801\u5305\u3002"
      ]
    },
    {
      "cell_type": "markdown",
      "metadata": {},
      "source": [
        "\u7531\u4e8e\u76ee\u5f55\u548czip\u6587\u4ef6\u4e0e\u6b63\u5e38\u6587\u4ef6\u6709\u4e00\u70b9\u4e0d\u540c\uff0c\u4f60\u53ef\u80fd\u8fd8\u9700\u8981\u589e\u52a0\u4e00\u4e2ashell\u811a\u672c\uff0c\u4f7f\u6267\u884c\u66f4\u52a0\u5bb9\u6613\u3002\u4f8b\u5982\uff0c\u5982\u679c\u4ee3\u7801\u6587\u4ef6\u540d\u4e3amyapp.zip\uff0c\u4f60\u53ef\u4ee5\u521b\u5efa\u8fd9\u6837\u4e00\u4e2a\u9876\u7ea7\u811a\u672c\uff1a"
      ]
    },
    {
      "cell_type": "code",
      "execution_count": null,
      "metadata": {},
      "outputs": [],
      "source": [
        "#!/usr/bin/env python3 /usr/local/bin/myapp.zip"
      ]
    }
  ],
  "metadata": {
    "kernelspec": {
      "display_name": "Python 3",
      "language": "python",
      "name": "python3"
    },
    "language_info": {
      "codemirror_mode": {
        "name": "ipython",
        "version": 3
      },
      "file_extension": ".py",
      "mimetype": "text/x-python",
      "name": "python",
      "nbconvert_exporter": "python",
      "pygments_lexer": "ipython3",
      "version": "3.7.1"
    },
    "toc": {
      "base_numbering": 1,
      "nav_menu": {},
      "number_sections": true,
      "sideBar": true,
      "skip_h1_title": true,
      "title_cell": "Table of Contents",
      "title_sidebar": "Contents",
      "toc_cell": false,
      "toc_position": {},
      "toc_section_display": true,
      "toc_window_display": true
    }
  },
  "nbformat": 4,
  "nbformat_minor": 2
}