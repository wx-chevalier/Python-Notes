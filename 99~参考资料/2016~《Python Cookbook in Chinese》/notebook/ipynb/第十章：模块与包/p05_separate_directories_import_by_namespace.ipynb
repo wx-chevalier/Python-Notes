{
  "cells": [
    {
      "cell_type": "markdown",
      "metadata": {},
      "source": [
        "## 10.5 \u5229\u7528\u547d\u540d\u7a7a\u95f4\u5bfc\u5165\u76ee\u5f55\u5206\u6563\u7684\u4ee3\u7801\n"
      ]
    },
    {
      "cell_type": "markdown",
      "metadata": {},
      "source": [
        "### \u95ee\u9898\n"
      ]
    },
    {
      "cell_type": "markdown",
      "metadata": {},
      "source": [
        "\u4f60\u53ef\u80fd\u6709\u5927\u91cf\u7684\u4ee3\u7801\uff0c\u7531\u4e0d\u540c\u7684\u4eba\u6765\u5206\u6563\u5730\u7ef4\u62a4\u3002\u6bcf\u4e2a\u90e8\u5206\u88ab\u7ec4\u7ec7\u4e3a\u6587\u4ef6\u76ee\u5f55\uff0c\u5982\u4e00\u4e2a\u5305\u3002\u7136\u800c\uff0c\u4f60\u5e0c\u671b\u80fd\u7528\u5171\u540c\u7684\u5305\u524d\u7f00\u5c06\u6240\u6709\u7ec4\u4ef6\u8fde\u63a5\u8d77\u6765\uff0c\u4e0d\u662f\u5c06\u6bcf\u4e00\u4e2a\u90e8\u5206\u4f5c\u4e3a\u72ec\u7acb\u7684\u5305\u6765\u5b89\u88c5\u3002"
      ]
    },
    {
      "cell_type": "markdown",
      "metadata": {},
      "source": [
        "### \u89e3\u51b3\u65b9\u6848\n"
      ]
    },
    {
      "cell_type": "markdown",
      "metadata": {},
      "source": [
        "\u4ece\u672c\u8d28\u4e0a\u8bb2\uff0c\u4f60\u8981\u5b9a\u4e49\u4e00\u4e2a\u9876\u7ea7Python\u5305\uff0c\u4f5c\u4e3a\u4e00\u4e2a\u5927\u96c6\u5408\u5206\u5f00\u7ef4\u62a4\u5b50\u5305\u7684\u547d\u540d\u7a7a\u95f4\u3002\u8fd9\u4e2a\u95ee\u9898\u7ecf\u5e38\u51fa\u73b0\u5728\u5927\u7684\u5e94\u7528\u6846\u67b6\u4e2d\uff0c\u6846\u67b6\u5f00\u53d1\u8005\u5e0c\u671b\u9f13\u52b1\u7528\u6237\u53d1\u5e03\u63d2\u4ef6\u6216\u9644\u52a0\u5305\u3002"
      ]
    },
    {
      "cell_type": "markdown",
      "metadata": {},
      "source": [
        "\u5728\u7edf\u4e00\u4e0d\u540c\u7684\u76ee\u5f55\u91cc\u7edf\u4e00\u76f8\u540c\u7684\u547d\u540d\u7a7a\u95f4\uff0c\u4f46\u662f\u8981\u5220\u53bb\u7528\u6765\u5c06\u7ec4\u4ef6\u8054\u5408\u8d77\u6765\u7684__init__.py\u6587\u4ef6\u3002\u5047\u8bbe\u4f60\u6709Python\u4ee3\u7801\u7684\u4e24\u4e2a\u4e0d\u540c\u7684\u76ee\u5f55\u5982\u4e0b\uff1a"
      ]
    },
    {
      "cell_type": "code",
      "execution_count": null,
      "metadata": {},
      "outputs": [],
      "source": [
        "foo-package/\n    spam/\n        blah.py\n\nbar-package/\n    spam/\n        grok.py"
      ]
    },
    {
      "cell_type": "markdown",
      "metadata": {},
      "source": [
        "\u5728\u8fd92\u4e2a\u76ee\u5f55\u91cc\uff0c\u90fd\u6709\u7740\u5171\u540c\u7684\u547d\u540d\u7a7a\u95f4spam\u3002\u5728\u4efb\u4f55\u4e00\u4e2a\u76ee\u5f55\u91cc\u90fd\u6ca1\u6709__init__.py\u6587\u4ef6\u3002"
      ]
    },
    {
      "cell_type": "markdown",
      "metadata": {},
      "source": [
        "\u8ba9\u6211\u4eec\u770b\u770b\uff0c\u5982\u679c\u5c06foo-package\u548cbar-package\u90fd\u52a0\u5230python\u6a21\u5757\u8def\u5f84\u5e76\u5c1d\u8bd5\u5bfc\u5165\u4f1a\u53d1\u751f\u4ec0\u4e48"
      ]
    },
    {
      "cell_type": "code",
      "execution_count": null,
      "metadata": {},
      "outputs": [],
      "source": [
        "import sys\nsys.path.extend(['foo-package', 'bar-package'])\nimport spam.blah\nimport spam.grok"
      ]
    },
    {
      "cell_type": "markdown",
      "metadata": {},
      "source": [
        "\u4e24\u4e2a\u4e0d\u540c\u7684\u5305\u76ee\u5f55\u88ab\u5408\u5e76\u5230\u4e00\u8d77\uff0c\u4f60\u53ef\u4ee5\u5bfc\u5165spam.blah\u548cspam.grok\uff0c\u5e76\u4e14\u5b83\u4eec\u80fd\u591f\u5de5\u4f5c\u3002"
      ]
    },
    {
      "cell_type": "markdown",
      "metadata": {},
      "source": [
        "### \u8ba8\u8bba\n"
      ]
    },
    {
      "cell_type": "markdown",
      "metadata": {},
      "source": [
        "\u5728\u8fd9\u91cc\u5de5\u4f5c\u7684\u673a\u5236\u88ab\u79f0\u4e3a\u201c\u5305\u547d\u540d\u7a7a\u95f4\u201d\u7684\u4e00\u4e2a\u7279\u5f81\u3002\u4ece\u672c\u8d28\u4e0a\u8bb2\uff0c\u5305\u547d\u540d\u7a7a\u95f4\u662f\u4e00\u79cd\u7279\u6b8a\u7684\u5c01\u88c5\u8bbe\u8ba1\uff0c\u4e3a\u5408\u5e76\u4e0d\u540c\u7684\u76ee\u5f55\u7684\u4ee3\u7801\u5230\u4e00\u4e2a\u5171\u540c\u7684\u547d\u540d\u7a7a\u95f4\u3002\u5bf9\u4e8e\u5927\u7684\u6846\u67b6\uff0c\u8fd9\u53ef\u80fd\u662f\u6709\u7528\u7684\uff0c\u56e0\u4e3a\u5b83\u5141\u8bb8\u4e00\u4e2a\u6846\u67b6\u7684\u90e8\u5206\u88ab\u5355\u72ec\u5730\u5b89\u88c5\u4e0b\u8f7d\u3002\u5b83\u4e5f\u4f7f\u4eba\u4eec\u80fd\u591f\u8f7b\u677e\u5730\u4e3a\u8fd9\u6837\u7684\u6846\u67b6\u7f16\u5199\u7b2c\u4e09\u65b9\u9644\u52a0\u7ec4\u4ef6\u548c\u5176\u4ed6\u6269\u5c55\u3002"
      ]
    },
    {
      "cell_type": "markdown",
      "metadata": {},
      "source": [
        "\u5305\u547d\u540d\u7a7a\u95f4\u7684\u5173\u952e\u662f\u786e\u4fdd\u9876\u7ea7\u76ee\u5f55\u4e2d\u6ca1\u6709__init__.py\u6587\u4ef6\u6765\u4f5c\u4e3a\u5171\u540c\u7684\u547d\u540d\u7a7a\u95f4\u3002\u7f3a\u5931__init__.py\u6587\u4ef6\u4f7f\u5f97\u5728\u5bfc\u5165\u5305\u7684\u65f6\u5019\u4f1a\u53d1\u751f\u6709\u8da3\u7684\u4e8b\u60c5\uff1a\u8fd9\u5e76\u6ca1\u6709\u4ea7\u751f\u9519\u8bef\uff0c\u89e3\u91ca\u5668\u521b\u5efa\u4e86\u4e00\u4e2a\u7531\u6240\u6709\u5305\u542b\u5339\u914d\u5305\u540d\u7684\u76ee\u5f55\u7ec4\u6210\u7684\u5217\u8868\u3002\u7279\u6b8a\u7684\u5305\u547d\u540d\u7a7a\u95f4\u6a21\u5757\u88ab\u521b\u5efa\uff0c\u53ea\u8bfb\u7684\u76ee\u5f55\u5217\u8868\u526f\u672c\u88ab\u5b58\u50a8\u5728\u5176__path__\u53d8\u91cf\u4e2d\u3002\n\u4e3e\u4e2a\u4f8b\u5b50\uff1a"
      ]
    },
    {
      "cell_type": "code",
      "execution_count": null,
      "metadata": {},
      "outputs": [],
      "source": [
        "import spam\nspam.__path__"
      ]
    },
    {
      "cell_type": "markdown",
      "metadata": {},
      "source": [
        "\u5728\u5b9a\u4f4d\u5305\u7684\u5b50\u7ec4\u4ef6\u65f6\uff0c\u76ee\u5f55__path__\u5c06\u88ab\u7528\u5230(\u4f8b\u5982, \u5f53\u5bfc\u5165spam.grok\u6216\u8005spam.blah\u7684\u65f6\u5019)."
      ]
    },
    {
      "cell_type": "markdown",
      "metadata": {},
      "source": [
        "\u5305\u547d\u540d\u7a7a\u95f4\u7684\u4e00\u4e2a\u91cd\u8981\u7279\u70b9\u662f\u4efb\u4f55\u4eba\u90fd\u53ef\u4ee5\u7528\u81ea\u5df1\u7684\u4ee3\u7801\u6765\u6269\u5c55\u547d\u540d\u7a7a\u95f4\u3002\u4e3e\u4e2a\u4f8b\u5b50\uff0c\u5047\u8bbe\u4f60\u81ea\u5df1\u7684\u4ee3\u7801\u76ee\u5f55\u50cf\u8fd9\u6837\uff1a"
      ]
    },
    {
      "cell_type": "code",
      "execution_count": null,
      "metadata": {},
      "outputs": [],
      "source": [
        "my-package/\n    spam/\n        custom.py"
      ]
    },
    {
      "cell_type": "markdown",
      "metadata": {},
      "source": [
        "\u5982\u679c\u4f60\u5c06\u4f60\u7684\u4ee3\u7801\u76ee\u5f55\u548c\u5176\u4ed6\u5305\u4e00\u8d77\u6dfb\u52a0\u5230sys.path\uff0c\u8fd9\u5c06\u65e0\u7f1d\u5730\u5408\u5e76\u5230\u522b\u7684spam\u5305\u76ee\u5f55\u4e2d\uff1a"
      ]
    },
    {
      "cell_type": "code",
      "execution_count": null,
      "metadata": {},
      "outputs": [],
      "source": [
        "import spam.custom\nimport spam.grok\nimport spam.blah"
      ]
    },
    {
      "cell_type": "markdown",
      "metadata": {},
      "source": [
        "\u4e00\u4e2a\u5305\u662f\u5426\u88ab\u4f5c\u4e3a\u4e00\u4e2a\u5305\u547d\u540d\u7a7a\u95f4\u7684\u4e3b\u8981\u65b9\u6cd5\u662f\u68c0\u67e5\u5176__file__\u5c5e\u6027\u3002\u5982\u679c\u6ca1\u6709\uff0c\u90a3\u5305\u662f\u4e2a\u547d\u540d\u7a7a\u95f4\u3002\u8fd9\u4e5f\u53ef\u4ee5\u7531\u5176\u5b57\u7b26\u8868\u73b0\u5f62\u5f0f\u4e2d\u7684\u201cnamespace\u201d\u8fd9\u4e2a\u8bcd\u4f53\u73b0\u51fa\u6765\u3002"
      ]
    },
    {
      "cell_type": "code",
      "execution_count": null,
      "metadata": {},
      "outputs": [],
      "source": [
        "spam.__file__"
      ]
    },
    {
      "cell_type": "code",
      "execution_count": null,
      "metadata": {},
      "outputs": [],
      "source": [
        "spam"
      ]
    },
    {
      "cell_type": "markdown",
      "metadata": {},
      "source": [
        "\u66f4\u591a\u7684\u5305\u547d\u540d\u7a7a\u95f4\u4fe1\u606f\u53ef\u4ee5\u67e5\u770b\nPEP 420."
      ]
    }
  ],
  "metadata": {
    "kernelspec": {
      "display_name": "Python 3",
      "language": "python",
      "name": "python3"
    },
    "language_info": {
      "codemirror_mode": {
        "name": "ipython",
        "version": 3
      },
      "file_extension": ".py",
      "mimetype": "text/x-python",
      "name": "python",
      "nbconvert_exporter": "python",
      "pygments_lexer": "ipython3",
      "version": "3.7.1"
    },
    "toc": {
      "base_numbering": 1,
      "nav_menu": {},
      "number_sections": true,
      "sideBar": true,
      "skip_h1_title": true,
      "title_cell": "Table of Contents",
      "title_sidebar": "Contents",
      "toc_cell": false,
      "toc_position": {},
      "toc_section_display": true,
      "toc_window_display": true
    }
  },
  "nbformat": 4,
  "nbformat_minor": 2
}