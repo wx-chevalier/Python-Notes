{
  "cells": [
    {
      "cell_type": "markdown",
      "metadata": {},
      "source": [
        "## 10.15 \u5206\u53d1\u5305\n"
      ]
    },
    {
      "cell_type": "markdown",
      "metadata": {},
      "source": [
        "### \u95ee\u9898\n"
      ]
    },
    {
      "cell_type": "markdown",
      "metadata": {},
      "source": [
        "\u4f60\u5df2\u7ecf\u7f16\u5199\u4e86\u4e00\u4e2a\u6709\u7528\u7684\u5e93\uff0c\u60f3\u5c06\u5b83\u5206\u4eab\u7ed9\u5176\u4ed6\u4eba\u3002"
      ]
    },
    {
      "cell_type": "markdown",
      "metadata": {},
      "source": [
        "### \u89e3\u51b3\u65b9\u6848\n"
      ]
    },
    {
      "cell_type": "markdown",
      "metadata": {},
      "source": [
        "\u5982\u679c\u4f60\u60f3\u5206\u53d1\u4f60\u7684\u4ee3\u7801\uff0c\u7b2c\u4e00\u4ef6\u4e8b\u5c31\u662f\u7ed9\u5b83\u4e00\u4e2a\u552f\u4e00\u7684\u540d\u5b57\uff0c\u5e76\u4e14\u6e05\u7406\u5b83\u7684\u76ee\u5f55\u7ed3\u6784\u3002\n\u4f8b\u5982\uff0c\u4e00\u4e2a\u5178\u578b\u7684\u51fd\u6570\u5e93\u5305\u4f1a\u7c7b\u4f3c\u4e0b\u9762\u8fd9\u6837\uff1a"
      ]
    },
    {
      "cell_type": "code",
      "execution_count": null,
      "metadata": {},
      "outputs": [],
      "source": [
        "projectname/\n    README.txt\n    Doc/\n        documentation.txt\n    projectname/\n        __init__.py\n        foo.py\n        bar.py\n        utils/\n            __init__.py\n            spam.py\n            grok.py\n    examples/\n        helloworld.py\n        ..."
      ]
    },
    {
      "cell_type": "markdown",
      "metadata": {},
      "source": [
        "\u8981\u8ba9\u4f60\u7684\u5305\u53ef\u4ee5\u53d1\u5e03\u51fa\u53bb\uff0c\u9996\u5148\u4f60\u8981\u7f16\u5199\u4e00\u4e2a setup.py \uff0c\u7c7b\u4f3c\u4e0b\u9762\u8fd9\u6837\uff1a"
      ]
    },
    {
      "cell_type": "code",
      "execution_count": null,
      "metadata": {},
      "outputs": [],
      "source": [
        "# setup.py\nfrom distutils.core import setup\n\nsetup(name='projectname',\n    version='1.0',\n    author='Your Name',\n    author_email='you@youraddress.com',\n    url='http://www.you.com/projectname',\n    packages=['projectname', 'projectname.utils'],\n)"
      ]
    },
    {
      "cell_type": "markdown",
      "metadata": {},
      "source": [
        "\u4e0b\u4e00\u6b65\uff0c\u5c31\u662f\u521b\u5efa\u4e00\u4e2a MANIFEST.in \u6587\u4ef6\uff0c\u5217\u51fa\u6240\u6709\u5728\u4f60\u7684\u5305\u4e2d\u9700\u8981\u5305\u542b\u8fdb\u6765\u7684\u975e\u6e90\u7801\u6587\u4ef6\uff1a"
      ]
    },
    {
      "cell_type": "code",
      "execution_count": null,
      "metadata": {},
      "outputs": [],
      "source": [
        "# MANIFEST.in\ninclude *.txt\nrecursive-include examples *\nrecursive-include Doc *"
      ]
    },
    {
      "cell_type": "markdown",
      "metadata": {},
      "source": [
        "\u786e\u4fdd setup.py \u548c MANIFEST.in \u6587\u4ef6\u653e\u5728\u4f60\u7684\u5305\u7684\u6700\u9876\u7ea7\u76ee\u5f55\u4e2d\u3002\n\u4e00\u65e6\u4f60\u5df2\u7ecf\u505a\u4e86\u8fd9\u4e9b\uff0c\u4f60\u5c31\u53ef\u4ee5\u50cf\u4e0b\u9762\u8fd9\u6837\u6267\u884c\u547d\u4ee4\u6765\u521b\u5efa\u4e00\u4e2a\u6e90\u7801\u5206\u53d1\u5305\u4e86\uff1a"
      ]
    },
    {
      "cell_type": "code",
      "execution_count": null,
      "metadata": {},
      "outputs": [],
      "source": [
        "% bash python3 setup.py sdist"
      ]
    },
    {
      "cell_type": "markdown",
      "metadata": {},
      "source": [
        "\u5b83\u4f1a\u521b\u5efa\u4e00\u4e2a\u6587\u4ef6\u6bd4\u5982\u201dprojectname-1.0.zip\u201d \u6216 \u201cprojectname-1.0.tar.gz\u201d,\n\u5177\u4f53\u4f9d\u8d56\u4e8e\u4f60\u7684\u7cfb\u7edf\u5e73\u53f0\u3002\u5982\u679c\u4e00\u5207\u6b63\u5e38\uff0c\n\u8fd9\u4e2a\u6587\u4ef6\u5c31\u53ef\u4ee5\u53d1\u9001\u7ed9\u522b\u4eba\u4f7f\u7528\u6216\u8005\u4e0a\u4f20\u81f3 Python Package Index."
      ]
    },
    {
      "cell_type": "markdown",
      "metadata": {},
      "source": [
        "### \u8ba8\u8bba\n"
      ]
    },
    {
      "cell_type": "markdown",
      "metadata": {},
      "source": [
        "\u5bf9\u4e8e\u7eafPython\u4ee3\u7801\uff0c\u7f16\u5199\u4e00\u4e2a\u666e\u901a\u7684 setup.py \u6587\u4ef6\u901a\u5e38\u5f88\u7b80\u5355\u3002\n\u4e00\u4e2a\u53ef\u80fd\u7684\u95ee\u9898\u662f\u4f60\u5fc5\u987b\u624b\u52a8\u5217\u51fa\u6240\u6709\u6784\u6210\u5305\u6e90\u7801\u7684\u5b50\u76ee\u5f55\u3002\n\u4e00\u4e2a\u5e38\u89c1\u9519\u8bef\u5c31\u662f\u4ec5\u4ec5\u53ea\u5217\u51fa\u4e00\u4e2a\u5305\u7684\u6700\u9876\u7ea7\u76ee\u5f55\uff0c\u5fd8\u8bb0\u4e86\u5305\u542b\u5305\u7684\u5b50\u7ec4\u4ef6\u3002\n\u8fd9\u4e5f\u662f\u4e3a\u4ec0\u4e48\u5728 setup.py \u4e2d\u5bf9\u4e8e\u5305\u7684\u8bf4\u660e\u5305\u542b\u4e86\u5217\u8868\npackages=['projectname', 'projectname.utils']"
      ]
    },
    {
      "cell_type": "markdown",
      "metadata": {},
      "source": [
        "\u5927\u90e8\u5206Python\u7a0b\u5e8f\u5458\u90fd\u77e5\u9053\uff0c\u6709\u5f88\u591a\u7b2c\u4e09\u65b9\u5305\u7ba1\u7406\u5668\u4f9b\u9009\u62e9\uff0c\u5305\u62ecsetuptools\u3001distribute\u7b49\u7b49\u3002\n\u6709\u4e9b\u662f\u4e3a\u4e86\u66ff\u4ee3\u6807\u51c6\u5e93\u4e2d\u7684distutils\u3002\u6ce8\u610f\u5982\u679c\u4f60\u4f9d\u8d56\u8fd9\u4e9b\u5305\uff0c\n\u7528\u6237\u53ef\u80fd\u4e0d\u80fd\u5b89\u88c5\u4f60\u7684\u8f6f\u4ef6\uff0c\u9664\u975e\u4ed6\u4eec\u5df2\u7ecf\u4e8b\u5148\u5b89\u88c5\u8fc7\u6240\u9700\u8981\u7684\u5305\u7ba1\u7406\u5668\u3002\n\u6b63\u56e0\u5982\u6b64\uff0c\u4f60\u66f4\u5e94\u8be5\u65f6\u523b\u8bb0\u4f4f\u8d8a\u7b80\u5355\u8d8a\u597d\u7684\u9053\u7406\u3002\n\u6700\u597d\u8ba9\u4f60\u7684\u4ee3\u7801\u4f7f\u7528\u6807\u51c6\u7684Python 3\u5b89\u88c5\u3002\n\u5982\u679c\u5176\u4ed6\u5305\u4e5f\u9700\u8981\u7684\u8bdd\uff0c\u53ef\u4ee5\u901a\u8fc7\u4e00\u4e2a\u53ef\u9009\u9879\u6765\u652f\u6301\u3002"
      ]
    },
    {
      "cell_type": "markdown",
      "metadata": {},
      "source": [
        "\u5bf9\u4e8e\u6d89\u53ca\u5230C\u6269\u5c55\u7684\u4ee3\u7801\u6253\u5305\u4e0e\u5206\u53d1\u5c31\u66f4\u590d\u6742\u70b9\u4e86\u3002\n\u7b2c15\u7ae0\u5bf9\u5173\u4e8eC\u6269\u5c55\u7684\u8fd9\u65b9\u9762\u77e5\u8bc6\u6709\u4e00\u4e9b\u8be6\u7ec6\u8bb2\u89e3\uff0c\u7279\u522b\u662f\u572815.2\u5c0f\u8282\u4e2d\u3002"
      ]
    }
  ],
  "metadata": {
    "kernelspec": {
      "display_name": "Python 3",
      "language": "python",
      "name": "python3"
    },
    "language_info": {
      "codemirror_mode": {
        "name": "ipython",
        "version": 3
      },
      "file_extension": ".py",
      "mimetype": "text/x-python",
      "name": "python",
      "nbconvert_exporter": "python",
      "pygments_lexer": "ipython3",
      "version": "3.7.1"
    },
    "toc": {
      "base_numbering": 1,
      "nav_menu": {},
      "number_sections": true,
      "sideBar": true,
      "skip_h1_title": true,
      "title_cell": "Table of Contents",
      "title_sidebar": "Contents",
      "toc_cell": false,
      "toc_position": {},
      "toc_section_display": true,
      "toc_window_display": true
    }
  },
  "nbformat": 4,
  "nbformat_minor": 2
}