{
  "cells": [
    {
      "cell_type": "markdown",
      "metadata": {},
      "source": [
        "## 10.2 \u63a7\u5236\u6a21\u5757\u88ab\u5168\u90e8\u5bfc\u5165\u7684\u5185\u5bb9\n"
      ]
    },
    {
      "cell_type": "markdown",
      "metadata": {},
      "source": [
        "### \u95ee\u9898\n"
      ]
    },
    {
      "cell_type": "markdown",
      "metadata": {},
      "source": [
        "\u5f53\u4f7f\u7528\u2019from module import *\u2019 \u8bed\u53e5\u65f6\uff0c\u5e0c\u671b\u5bf9\u4ece\u6a21\u5757\u6216\u5305\u5bfc\u51fa\u7684\u7b26\u53f7\u8fdb\u884c\u7cbe\u786e\u63a7\u5236\u3002"
      ]
    },
    {
      "cell_type": "markdown",
      "metadata": {},
      "source": [
        "### \u89e3\u51b3\u65b9\u6848\n"
      ]
    },
    {
      "cell_type": "markdown",
      "metadata": {},
      "source": [
        "\u5728\u4f60\u7684\u6a21\u5757\u4e2d\u5b9a\u4e49\u4e00\u4e2a\u53d8\u91cf __all__ \u6765\u660e\u786e\u5730\u5217\u51fa\u9700\u8981\u5bfc\u51fa\u7684\u5185\u5bb9\u3002"
      ]
    },
    {
      "cell_type": "markdown",
      "metadata": {},
      "source": [
        "\u4e3e\u4e2a\u4f8b\u5b50:"
      ]
    },
    {
      "cell_type": "code",
      "execution_count": null,
      "metadata": {},
      "outputs": [],
      "source": [
        "# somemodule.py\ndef spam():\n    pass\n\ndef grok():\n    pass\n\nblah = 42\n# Only export 'spam' and 'grok'\n__all__ = ['spam', 'grok']"
      ]
    },
    {
      "cell_type": "markdown",
      "metadata": {},
      "source": [
        "### \u8ba8\u8bba\n"
      ]
    },
    {
      "cell_type": "markdown",
      "metadata": {},
      "source": [
        "\u5c3d\u7ba1\u5f3a\u70c8\u53cd\u5bf9\u4f7f\u7528 \u2018from module import *\u2019, \u4f46\u662f\u5728\u5b9a\u4e49\u4e86\u5927\u91cf\u53d8\u91cf\u540d\u7684\u6a21\u5757\u4e2d\u9891\u7e41\u4f7f\u7528\u3002\n\u5982\u679c\u4f60\u4e0d\u505a\u4efb\u4f55\u4e8b, \u8fd9\u6837\u7684\u5bfc\u5165\u5c06\u4f1a\u5bfc\u5165\u6240\u6709\u4e0d\u4ee5\u4e0b\u5212\u7ebf\u5f00\u5934\u7684\u3002\n\u53e6\u4e00\u65b9\u9762,\u5982\u679c\u5b9a\u4e49\u4e86 __all__ , \u90a3\u4e48\u53ea\u6709\u88ab\u5217\u4e3e\u51fa\u7684\u4e1c\u897f\u4f1a\u88ab\u5bfc\u51fa\u3002"
      ]
    },
    {
      "cell_type": "markdown",
      "metadata": {},
      "source": [
        "\u5982\u679c\u4f60\u5c06 __all__ \u5b9a\u4e49\u6210\u4e00\u4e2a\u7a7a\u5217\u8868, \u6ca1\u6709\u4e1c\u897f\u5c06\u88ab\u5bfc\u5165\u3002\n\u5982\u679c __all__ \u5305\u542b\u672a\u5b9a\u4e49\u7684\u540d\u5b57, \u5728\u5bfc\u5165\u65f6\u5f15\u8d77AttributeError\u3002"
      ]
    }
  ],
  "metadata": {
    "kernelspec": {
      "display_name": "Python 3",
      "language": "python",
      "name": "python3"
    },
    "language_info": {
      "codemirror_mode": {
        "name": "ipython",
        "version": 3
      },
      "file_extension": ".py",
      "mimetype": "text/x-python",
      "name": "python",
      "nbconvert_exporter": "python",
      "pygments_lexer": "ipython3",
      "version": "3.7.1"
    },
    "toc": {
      "base_numbering": 1,
      "nav_menu": {},
      "number_sections": true,
      "sideBar": true,
      "skip_h1_title": true,
      "title_cell": "Table of Contents",
      "title_sidebar": "Contents",
      "toc_cell": false,
      "toc_position": {},
      "toc_section_display": true,
      "toc_window_display": true
    }
  },
  "nbformat": 4,
  "nbformat_minor": 2
}