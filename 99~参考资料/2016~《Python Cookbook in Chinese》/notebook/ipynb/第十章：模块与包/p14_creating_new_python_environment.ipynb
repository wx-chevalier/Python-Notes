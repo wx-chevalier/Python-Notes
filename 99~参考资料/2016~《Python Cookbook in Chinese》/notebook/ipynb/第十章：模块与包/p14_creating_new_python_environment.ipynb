{
  "cells": [
    {
      "cell_type": "markdown",
      "metadata": {},
      "source": [
        "## 10.14 \u521b\u5efa\u65b0\u7684Python\u73af\u5883\n"
      ]
    },
    {
      "cell_type": "markdown",
      "metadata": {},
      "source": [
        "### \u95ee\u9898\n"
      ]
    },
    {
      "cell_type": "markdown",
      "metadata": {},
      "source": [
        "\u4f60\u60f3\u521b\u5efa\u4e00\u4e2a\u65b0\u7684Python\u73af\u5883\uff0c\u7528\u6765\u5b89\u88c5\u6a21\u5757\u548c\u5305\u3002\n\u4e0d\u8fc7\uff0c\u4f60\u4e0d\u60f3\u5b89\u88c5\u4e00\u4e2a\u65b0\u7684Python\u514b\u9686\uff0c\u4e5f\u4e0d\u60f3\u5bf9\u7cfb\u7edfPython\u73af\u5883\u4ea7\u751f\u5f71\u54cd\u3002"
      ]
    },
    {
      "cell_type": "markdown",
      "metadata": {},
      "source": [
        "### \u89e3\u51b3\u65b9\u6848\n"
      ]
    },
    {
      "cell_type": "markdown",
      "metadata": {},
      "source": [
        "\u4f60\u53ef\u4ee5\u4f7f\u7528 pyvenv \u547d\u4ee4\u521b\u5efa\u4e00\u4e2a\u65b0\u7684\u201c\u865a\u62df\u201d\u73af\u5883\u3002\n\u8fd9\u4e2a\u547d\u4ee4\u88ab\u5b89\u88c5\u5728Python\u89e3\u91ca\u5668\u540c\u4e00\u76ee\u5f55\uff0c\u6216Windows\u4e0a\u9762\u7684Scripts\u76ee\u5f55\u4e2d\u3002\u4e0b\u9762\u662f\u4e00\u4e2a\u4f8b\u5b50\uff1a"
      ]
    },
    {
      "cell_type": "code",
      "execution_count": null,
      "metadata": {},
      "outputs": [],
      "source": [
        "bash % pyvenv Spam\nbash %"
      ]
    },
    {
      "cell_type": "markdown",
      "metadata": {},
      "source": [
        "\u4f20\u7ed9 pyvenv \u547d\u4ee4\u7684\u540d\u5b57\u662f\u5c06\u8981\u88ab\u521b\u5efa\u7684\u76ee\u5f55\u540d\u3002\u5f53\u88ab\u521b\u5efa\u540e\uff0cSpan\u76ee\u5f55\u50cf\u4e0b\u9762\u8fd9\u6837\uff1a"
      ]
    },
    {
      "cell_type": "code",
      "execution_count": null,
      "metadata": {},
      "outputs": [],
      "source": [
        "bash % cd Spam\nbash % ls\nbin include lib pyvenv.cfg\nbash %"
      ]
    },
    {
      "cell_type": "markdown",
      "metadata": {},
      "source": [
        "\u5728bin\u76ee\u5f55\u4e2d\uff0c\u4f60\u4f1a\u627e\u5230\u4e00\u4e2a\u53ef\u4ee5\u4f7f\u7528\u7684Python\u89e3\u91ca\u5668\uff1a"
      ]
    },
    {
      "cell_type": "code",
      "execution_count": null,
      "metadata": {},
      "outputs": [],
      "source": [
        "from pprint import pprint\nimport sys\npprint(sys.path)"
      ]
    },
    {
      "cell_type": "markdown",
      "metadata": {},
      "source": [
        "\u8fd9\u4e2a\u89e3\u91ca\u5668\u7684\u7279\u70b9\u5c31\u662f\u4ed6\u7684site-packages\u76ee\u5f55\u88ab\u8bbe\u7f6e\u4e3a\u65b0\u521b\u5efa\u7684\u73af\u5883\u3002\n\u5982\u679c\u4f60\u8981\u5b89\u88c5\u7b2c\u4e09\u65b9\u5305\uff0c\u5b83\u4eec\u4f1a\u88ab\u5b89\u88c5\u5728\u90a3\u91cc\uff0c\u800c\u4e0d\u662f\u901a\u5e38\u7cfb\u7edf\u7684site-packages\u76ee\u5f55\u3002"
      ]
    },
    {
      "cell_type": "markdown",
      "metadata": {},
      "source": [
        "### \u8ba8\u8bba\n"
      ]
    },
    {
      "cell_type": "markdown",
      "metadata": {},
      "source": [
        "\u521b\u5efa\u865a\u62df\u73af\u5883\u901a\u5e38\u662f\u4e3a\u4e86\u5b89\u88c5\u548c\u7ba1\u7406\u7b2c\u4e09\u65b9\u5305\u3002\n\u6b63\u5982\u4f60\u5728\u4f8b\u5b50\u4e2d\u770b\u5230\u7684\u90a3\u6837\uff0csys.path \u53d8\u91cf\u5305\u542b\u6765\u81ea\u4e8e\u7cfb\u7edfPython\u7684\u76ee\u5f55\uff0c\n\u800c site-packages\u76ee\u5f55\u5df2\u7ecf\u88ab\u91cd\u5b9a\u4f4d\u5230\u4e00\u4e2a\u65b0\u7684\u76ee\u5f55\u3002"
      ]
    },
    {
      "cell_type": "markdown",
      "metadata": {},
      "source": [
        "\u6709\u4e86\u4e00\u4e2a\u65b0\u7684\u865a\u62df\u73af\u5883\uff0c\u4e0b\u4e00\u6b65\u5c31\u662f\u5b89\u88c5\u4e00\u4e2a\u5305\u7ba1\u7406\u5668\uff0c\u6bd4\u5982distribute\u6216pip\u3002\n\u4f46\u5b89\u88c5\u8fd9\u6837\u7684\u5de5\u5177\u548c\u5305\u7684\u65f6\u5019\uff0c\u4f60\u9700\u8981\u786e\u4fdd\u4f60\u4f7f\u7528\u7684\u662f\u865a\u62df\u73af\u5883\u7684\u89e3\u91ca\u5668\u3002\n\u5b83\u4f1a\u5c06\u5305\u5b89\u88c5\u5230\u65b0\u521b\u5efa\u7684site-packages\u76ee\u5f55\u4e2d\u53bb\u3002"
      ]
    },
    {
      "cell_type": "markdown",
      "metadata": {},
      "source": [
        "\u5c3d\u7ba1\u4e00\u4e2a\u865a\u62df\u73af\u5883\u770b\u4e0a\u53bb\u662fPython\u5b89\u88c5\u7684\u4e00\u4e2a\u590d\u5236\uff0c\n\u4e0d\u8fc7\u5b83\u5b9e\u9645\u4e0a\u53ea\u5305\u542b\u4e86\u5c11\u91cf\u51e0\u4e2a\u6587\u4ef6\u548c\u4e00\u4e9b\u7b26\u53f7\u94fe\u63a5\u3002\n\u6240\u6709\u6807\u51c6\u5e93\u51fd\u6587\u4ef6\u548c\u53ef\u6267\u884c\u89e3\u91ca\u5668\u90fd\u6765\u81ea\u539f\u6765\u7684Python\u5b89\u88c5\u3002\n\u56e0\u6b64\uff0c\u521b\u5efa\u8fd9\u6837\u7684\u73af\u5883\u662f\u5f88\u5bb9\u6613\u7684\uff0c\u5e76\u4e14\u51e0\u4e4e\u4e0d\u4f1a\u6d88\u8017\u673a\u5668\u8d44\u6e90\u3002"
      ]
    },
    {
      "cell_type": "markdown",
      "metadata": {},
      "source": [
        "\u9ed8\u8ba4\u60c5\u51b5\u4e0b\uff0c\u865a\u62df\u73af\u5883\u662f\u7a7a\u7684\uff0c\u4e0d\u5305\u542b\u4efb\u4f55\u989d\u5916\u7684\u7b2c\u4e09\u65b9\u5e93\u3002\u5982\u679c\u4f60\u60f3\u5c06\u4e00\u4e2a\u5df2\u7ecf\u5b89\u88c5\u7684\u5305\u4f5c\u4e3a\u865a\u62df\u73af\u5883\u7684\u4e00\u90e8\u5206\uff0c\n\u53ef\u4ee5\u4f7f\u7528\u201c\u2013system-site-packages\u201d\u9009\u9879\u6765\u521b\u5efa\u865a\u62df\u73af\u5883\uff0c\u4f8b\u5982\uff1a"
      ]
    },
    {
      "cell_type": "code",
      "execution_count": null,
      "metadata": {},
      "outputs": [],
      "source": [
        "bash % pyvenv --system-site-packages Spam\nbash %"
      ]
    },
    {
      "cell_type": "markdown",
      "metadata": {},
      "source": [
        "\u8ddf\u591a\u5173\u4e8e pyvenv \u548c\u865a\u62df\u73af\u5883\u7684\u4fe1\u606f\u53ef\u4ee5\u53c2\u8003\nPEP 405."
      ]
    }
  ],
  "metadata": {
    "kernelspec": {
      "display_name": "Python 3",
      "language": "python",
      "name": "python3"
    },
    "language_info": {
      "codemirror_mode": {
        "name": "ipython",
        "version": 3
      },
      "file_extension": ".py",
      "mimetype": "text/x-python",
      "name": "python",
      "nbconvert_exporter": "python",
      "pygments_lexer": "ipython3",
      "version": "3.7.1"
    },
    "toc": {
      "base_numbering": 1,
      "nav_menu": {},
      "number_sections": true,
      "sideBar": true,
      "skip_h1_title": true,
      "title_cell": "Table of Contents",
      "title_sidebar": "Contents",
      "toc_cell": false,
      "toc_position": {},
      "toc_section_display": true,
      "toc_window_display": true
    }
  },
  "nbformat": 4,
  "nbformat_minor": 2
}