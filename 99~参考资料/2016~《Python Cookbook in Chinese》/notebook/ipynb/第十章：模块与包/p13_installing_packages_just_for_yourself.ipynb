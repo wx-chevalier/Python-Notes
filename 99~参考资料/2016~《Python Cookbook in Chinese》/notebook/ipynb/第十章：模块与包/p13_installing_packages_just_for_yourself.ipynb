{
  "cells": [
    {
      "cell_type": "markdown",
      "metadata": {},
      "source": [
        "## 10.13 \u5b89\u88c5\u79c1\u6709\u7684\u5305\n"
      ]
    },
    {
      "cell_type": "markdown",
      "metadata": {},
      "source": [
        "### \u95ee\u9898\n"
      ]
    },
    {
      "cell_type": "markdown",
      "metadata": {},
      "source": [
        "\u4f60\u60f3\u8981\u5b89\u88c5\u4e00\u4e2a\u7b2c\u4e09\u65b9\u5305\uff0c\u4f46\u662f\u6ca1\u6709\u6743\u9650\u5c06\u5b83\u5b89\u88c5\u5230\u7cfb\u7edfPython\u5e93\u4e2d\u53bb\u3002\n\u6216\u8005\uff0c\u4f60\u53ef\u80fd\u60f3\u8981\u5b89\u88c5\u4e00\u4e2a\u4f9b\u81ea\u5df1\u4f7f\u7528\u7684\u5305\uff0c\u800c\u4e0d\u662f\u7cfb\u7edf\u4e0a\u9762\u6240\u6709\u7528\u6237\u3002"
      ]
    },
    {
      "cell_type": "markdown",
      "metadata": {},
      "source": [
        "### \u89e3\u51b3\u65b9\u6848\n"
      ]
    },
    {
      "cell_type": "markdown",
      "metadata": {},
      "source": [
        "Python\u6709\u4e00\u4e2a\u7528\u6237\u5b89\u88c5\u76ee\u5f55\uff0c\u901a\u5e38\u7c7b\u4f3c\u201d~/.local/lib/python3.3/site-packages\u201d\u3002\n\u8981\u5f3a\u5236\u5728\u8fd9\u4e2a\u76ee\u5f55\u4e2d\u5b89\u88c5\u5305\uff0c\u53ef\u4f7f\u7528\u5b89\u88c5\u9009\u9879\u201c\u2013user\u201d\u3002\u4f8b\u5982\uff1a"
      ]
    },
    {
      "cell_type": "code",
      "execution_count": null,
      "metadata": {},
      "outputs": [],
      "source": [
        "python3 setup.py install --user"
      ]
    },
    {
      "cell_type": "markdown",
      "metadata": {},
      "source": [
        "\u6216\u8005"
      ]
    },
    {
      "cell_type": "code",
      "execution_count": null,
      "metadata": {},
      "outputs": [],
      "source": [
        "pip install --user packagename"
      ]
    },
    {
      "cell_type": "markdown",
      "metadata": {},
      "source": [
        "\u5728sys.path\u4e2d\u7528\u6237\u7684\u201csite-packages\u201d\u76ee\u5f55\u4f4d\u4e8e\u7cfb\u7edf\u7684\u201csite-packages\u201d\u76ee\u5f55\u4e4b\u524d\u3002\n\u56e0\u6b64\uff0c\u4f60\u5b89\u88c5\u5728\u91cc\u9762\u7684\u5305\u5c31\u6bd4\u7cfb\u7edf\u5df2\u5b89\u88c5\u7684\u5305\u4f18\u5148\u7ea7\u9ad8\n\uff08\u5c3d\u7ba1\u5e76\u4e0d\u603b\u662f\u8fd9\u6837\uff0c\u8981\u53d6\u51b3\u4e8e\u7b2c\u4e09\u65b9\u5305\u7ba1\u7406\u5668\uff0c\u6bd4\u5982distribute\u6216pip\uff09\u3002"
      ]
    },
    {
      "cell_type": "markdown",
      "metadata": {},
      "source": [
        "### \u8ba8\u8bba\n"
      ]
    },
    {
      "cell_type": "markdown",
      "metadata": {},
      "source": [
        "\u901a\u5e38\u5305\u4f1a\u88ab\u5b89\u88c5\u5230\u7cfb\u7edf\u7684site-packages\u76ee\u5f55\u4e2d\u53bb\uff0c\u8def\u5f84\u7c7b\u4f3c\u201c/usr/local/lib/python3.3/site-packages\u201d\u3002\n\u4e0d\u8fc7\uff0c\u8fd9\u6837\u505a\u9700\u8981\u6709\u7ba1\u7406\u5458\u6743\u9650\u5e76\u4e14\u4f7f\u7528sudo\u547d\u4ee4\u3002\n\u5c31\u7b97\u4f60\u6709\u8fd9\u6837\u7684\u6743\u9650\u53bb\u6267\u884c\u547d\u4ee4\uff0c\u4f7f\u7528sudo\u53bb\u5b89\u88c5\u4e00\u4e2a\u65b0\u7684\uff0c\u53ef\u80fd\u6ca1\u6709\u88ab\u9a8c\u8bc1\u8fc7\u7684\u5305\u6709\u65f6\u5019\u4e5f\u4e0d\u5b89\u5168\u3002"
      ]
    },
    {
      "cell_type": "markdown",
      "metadata": {},
      "source": [
        "\u5b89\u88c5\u5305\u5230\u7528\u6237\u76ee\u5f55\u4e2d\u901a\u5e38\u662f\u4e00\u4e2a\u6709\u6548\u7684\u65b9\u6848\uff0c\u5b83\u5141\u8bb8\u4f60\u521b\u5efa\u4e00\u4e2a\u81ea\u5b9a\u4e49\u5b89\u88c5\u3002"
      ]
    },
    {
      "cell_type": "markdown",
      "metadata": {},
      "source": [
        "\u53e6\u5916\uff0c\u4f60\u8fd8\u53ef\u4ee5\u521b\u5efa\u4e00\u4e2a\u865a\u62df\u73af\u5883\uff0c\u8fd9\u4e2a\u6211\u4eec\u5728\u4e0b\u4e00\u8282\u4f1a\u8bb2\u5230\u3002"
      ]
    }
  ],
  "metadata": {
    "kernelspec": {
      "display_name": "Python 3",
      "language": "python",
      "name": "python3"
    },
    "language_info": {
      "codemirror_mode": {
        "name": "ipython",
        "version": 3
      },
      "file_extension": ".py",
      "mimetype": "text/x-python",
      "name": "python",
      "nbconvert_exporter": "python",
      "pygments_lexer": "ipython3",
      "version": "3.7.1"
    },
    "toc": {
      "base_numbering": 1,
      "nav_menu": {},
      "number_sections": true,
      "sideBar": true,
      "skip_h1_title": true,
      "title_cell": "Table of Contents",
      "title_sidebar": "Contents",
      "toc_cell": false,
      "toc_position": {},
      "toc_section_display": true,
      "toc_window_display": true
    }
  },
  "nbformat": 4,
  "nbformat_minor": 2
}