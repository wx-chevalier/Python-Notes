{
  "cells": [
    {
      "cell_type": "markdown",
      "metadata": {},
      "source": [
        "## 10.8 \u8bfb\u53d6\u4f4d\u4e8e\u5305\u4e2d\u7684\u6570\u636e\u6587\u4ef6\n"
      ]
    },
    {
      "cell_type": "markdown",
      "metadata": {},
      "source": [
        "### \u95ee\u9898\n"
      ]
    },
    {
      "cell_type": "markdown",
      "metadata": {},
      "source": [
        "\u4f60\u7684\u5305\u4e2d\u5305\u542b\u4ee3\u7801\u9700\u8981\u53bb\u8bfb\u53d6\u7684\u6570\u636e\u6587\u4ef6\u3002\u4f60\u9700\u8981\u5c3d\u53ef\u80fd\u5730\u7528\u6700\u4fbf\u6377\u7684\u65b9\u5f0f\u6765\u505a\u8fd9\u4ef6\u4e8b\u3002"
      ]
    },
    {
      "cell_type": "markdown",
      "metadata": {},
      "source": [
        "### \u89e3\u51b3\u65b9\u6848\n"
      ]
    },
    {
      "cell_type": "markdown",
      "metadata": {},
      "source": [
        "\u5047\u8bbe\u4f60\u7684\u5305\u4e2d\u7684\u6587\u4ef6\u7ec4\u7ec7\u6210\u5982\u4e0b\uff1a"
      ]
    },
    {
      "cell_type": "code",
      "execution_count": null,
      "metadata": {},
      "outputs": [],
      "source": [
        "mypackage/\n    __init__.py\n    somedata.dat\n    spam.py"
      ]
    },
    {
      "cell_type": "markdown",
      "metadata": {},
      "source": [
        "\u73b0\u5728\u5047\u8bbespam.py\u6587\u4ef6\u9700\u8981\u8bfb\u53d6somedata.dat\u6587\u4ef6\u4e2d\u7684\u5185\u5bb9\u3002\u4f60\u53ef\u4ee5\u7528\u4ee5\u4e0b\u4ee3\u7801\u6765\u5b8c\u6210\uff1a"
      ]
    },
    {
      "cell_type": "code",
      "execution_count": null,
      "metadata": {},
      "outputs": [],
      "source": [
        "# spam.py\nimport pkgutil\ndata = pkgutil.get_data(__package__, 'somedata.dat')"
      ]
    },
    {
      "cell_type": "markdown",
      "metadata": {},
      "source": [
        "\u7531\u6b64\u4ea7\u751f\u7684\u53d8\u91cf\u662f\u5305\u542b\u8be5\u6587\u4ef6\u7684\u539f\u59cb\u5185\u5bb9\u7684\u5b57\u8282\u5b57\u7b26\u4e32\u3002"
      ]
    },
    {
      "cell_type": "markdown",
      "metadata": {},
      "source": [
        "### \u8ba8\u8bba\n"
      ]
    },
    {
      "cell_type": "markdown",
      "metadata": {},
      "source": [
        "\u8981\u8bfb\u53d6\u6570\u636e\u6587\u4ef6\uff0c\u4f60\u53ef\u80fd\u4f1a\u503e\u5411\u4e8e\u7f16\u5199\u4f7f\u7528\u5185\u7f6e\u7684I/ O\u529f\u80fd\u7684\u4ee3\u7801\uff0c\u5982open()\u3002\u4f46\u662f\u8fd9\u79cd\u65b9\u6cd5\u4e5f\u6709\u4e00\u4e9b\u95ee\u9898\u3002"
      ]
    },
    {
      "cell_type": "markdown",
      "metadata": {},
      "source": [
        "\u9996\u5148\uff0c\u4e00\u4e2a\u5305\u5bf9\u89e3\u91ca\u5668\u7684\u5f53\u524d\u5de5\u4f5c\u76ee\u5f55\u51e0\u4e4e\u6ca1\u6709\u63a7\u5236\u6743\u3002\u56e0\u6b64\uff0c\u7f16\u7a0b\u65f6\u4efb\u4f55I/O\u64cd\u4f5c\u90fd\u5fc5\u987b\u4f7f\u7528\u7edd\u5bf9\u6587\u4ef6\u540d\u3002\u7531\u4e8e\u6bcf\u4e2a\u6a21\u5757\u5305\u542b\u6709\u5b8c\u6574\u8def\u5f84\u7684__file__\u53d8\u91cf\uff0c\u8fd9\u5f04\u6e05\u695a\u5b83\u7684\u8def\u5f84\u4e0d\u662f\u4e0d\u53ef\u80fd\uff0c\u4f46\u5b83\u5f88\u51cc\u4e71\u3002"
      ]
    },
    {
      "cell_type": "markdown",
      "metadata": {},
      "source": [
        "\u7b2c\u4e8c\uff0c\u5305\u901a\u5e38\u5b89\u88c5\u4f5c\u4e3a.zip\u6216.egg\u6587\u4ef6\uff0c\u8fd9\u4e9b\u6587\u4ef6\u5e76\u4e0d\u50cf\u5728\u6587\u4ef6\u7cfb\u7edf\u4e0a\u7684\u4e00\u4e2a\u666e\u901a\u76ee\u5f55\u91cc\u90a3\u6837\u88ab\u4fdd\u5b58\u3002\u56e0\u6b64\uff0c\u4f60\u8bd5\u56fe\u7528open()\u5bf9\u4e00\u4e2a\u5305\u542b\u6570\u636e\u6587\u4ef6\u7684\u5f52\u6863\u6587\u4ef6\u8fdb\u884c\u64cd\u4f5c\uff0c\u5b83\u6839\u672c\u4e0d\u4f1a\u5de5\u4f5c\u3002"
      ]
    },
    {
      "cell_type": "markdown",
      "metadata": {},
      "source": [
        "pkgutil.get_data()\u51fd\u6570\u662f\u4e00\u4e2a\u8bfb\u53d6\u6570\u636e\u6587\u4ef6\u7684\u9ad8\u7ea7\u5de5\u5177\uff0c\u4e0d\u7528\u7ba1\u5305\u662f\u5982\u4f55\u5b89\u88c5\u4ee5\u53ca\u5b89\u88c5\u5728\u54ea\u3002\u5b83\u53ea\u662f\u5de5\u4f5c\u5e76\u5c06\u6587\u4ef6\u5185\u5bb9\u4ee5\u5b57\u8282\u5b57\u7b26\u4e32\u8fd4\u56de\u7ed9\u4f60"
      ]
    },
    {
      "cell_type": "markdown",
      "metadata": {},
      "source": [
        "get_data()\u7684\u7b2c\u4e00\u4e2a\u53c2\u6570\u662f\u5305\u542b\u5305\u540d\u7684\u5b57\u7b26\u4e32\u3002\u4f60\u53ef\u4ee5\u76f4\u63a5\u4f7f\u7528\u5305\u540d\uff0c\u4e5f\u53ef\u4ee5\u4f7f\u7528\u7279\u6b8a\u7684\u53d8\u91cf\uff0c\u6bd4\u5982__package__\u3002\u7b2c\u4e8c\u4e2a\u53c2\u6570\u662f\u5305\u5185\u6587\u4ef6\u7684\u76f8\u5bf9\u540d\u79f0\u3002\u5982\u679c\u6709\u5fc5\u8981\uff0c\u53ef\u4ee5\u4f7f\u7528\u6807\u51c6\u7684Unix\u547d\u540d\u89c4\u8303\u5230\u4e0d\u540c\u7684\u76ee\u5f55\uff0c\u53ea\u8981\u6700\u540e\u7684\u76ee\u5f55\u4ecd\u7136\u4f4d\u4e8e\u5305\u4e2d\u3002"
      ]
    }
  ],
  "metadata": {
    "kernelspec": {
      "display_name": "Python 3",
      "language": "python",
      "name": "python3"
    },
    "language_info": {
      "codemirror_mode": {
        "name": "ipython",
        "version": 3
      },
      "file_extension": ".py",
      "mimetype": "text/x-python",
      "name": "python",
      "nbconvert_exporter": "python",
      "pygments_lexer": "ipython3",
      "version": "3.7.1"
    },
    "toc": {
      "base_numbering": 1,
      "nav_menu": {},
      "number_sections": true,
      "sideBar": true,
      "skip_h1_title": true,
      "title_cell": "Table of Contents",
      "title_sidebar": "Contents",
      "toc_cell": false,
      "toc_position": {},
      "toc_section_display": true,
      "toc_window_display": true
    }
  },
  "nbformat": 4,
  "nbformat_minor": 2
}