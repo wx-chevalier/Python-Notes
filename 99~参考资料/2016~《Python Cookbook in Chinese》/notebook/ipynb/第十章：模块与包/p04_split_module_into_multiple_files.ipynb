{
  "cells": [
    {
      "cell_type": "markdown",
      "metadata": {},
      "source": [
        "## 10.4 \u5c06\u6a21\u5757\u5206\u5272\u6210\u591a\u4e2a\u6587\u4ef6\n"
      ]
    },
    {
      "cell_type": "markdown",
      "metadata": {},
      "source": [
        "### \u95ee\u9898\n"
      ]
    },
    {
      "cell_type": "markdown",
      "metadata": {},
      "source": [
        "\u4f60\u60f3\u5c06\u4e00\u4e2a\u6a21\u5757\u5206\u5272\u6210\u591a\u4e2a\u6587\u4ef6\u3002\u4f46\u662f\u4f60\u4e0d\u60f3\u5c06\u5206\u79bb\u7684\u6587\u4ef6\u7edf\u4e00\u6210\u4e00\u4e2a\u903b\u8f91\u6a21\u5757\u65f6\u4f7f\u5df2\u6709\u7684\u4ee3\u7801\u906d\u5230\u7834\u574f\u3002"
      ]
    },
    {
      "cell_type": "markdown",
      "metadata": {},
      "source": [
        "### \u89e3\u51b3\u65b9\u6848\n"
      ]
    },
    {
      "cell_type": "markdown",
      "metadata": {},
      "source": [
        "\u7a0b\u5e8f\u6a21\u5757\u53ef\u4ee5\u901a\u8fc7\u53d8\u6210\u5305\u6765\u5206\u5272\u6210\u591a\u4e2a\u72ec\u7acb\u7684\u6587\u4ef6\u3002\u8003\u8651\u4e0b\u4e0b\u9762\u7b80\u5355\u7684\u6a21\u5757\uff1a"
      ]
    },
    {
      "cell_type": "code",
      "execution_count": null,
      "metadata": {},
      "outputs": [],
      "source": [
        "# mymodule.py\nclass A:\n    def spam(self):\n        print('A.spam')\n\nclass B(A):\n    def bar(self):\n        print('B.bar')"
      ]
    },
    {
      "cell_type": "markdown",
      "metadata": {},
      "source": [
        "\u5047\u8bbe\u4f60\u60f3mymodule.py\u5206\u4e3a\u4e24\u4e2a\u6587\u4ef6\uff0c\u6bcf\u4e2a\u5b9a\u4e49\u7684\u4e00\u4e2a\u7c7b\u3002\u8981\u505a\u5230\u8fd9\u4e00\u70b9\uff0c\u9996\u5148\u7528mymodule\u76ee\u5f55\u6765\u66ff\u6362\u6587\u4ef6mymodule.py\u3002\n\u8fd9\u8fd9\u4e2a\u76ee\u5f55\u4e0b\uff0c\u521b\u5efa\u4ee5\u4e0b\u6587\u4ef6\uff1a"
      ]
    },
    {
      "cell_type": "code",
      "execution_count": null,
      "metadata": {},
      "outputs": [],
      "source": [
        "mymodule/\n    __init__.py\n    a.py\n    b.py"
      ]
    },
    {
      "cell_type": "markdown",
      "metadata": {},
      "source": [
        "\u5728a.py\u6587\u4ef6\u4e2d\u63d2\u5165\u4ee5\u4e0b\u4ee3\u7801\uff1a"
      ]
    },
    {
      "cell_type": "code",
      "execution_count": null,
      "metadata": {},
      "outputs": [],
      "source": [
        "# a.py\nclass A:\n    def spam(self):\n        print('A.spam')"
      ]
    },
    {
      "cell_type": "markdown",
      "metadata": {},
      "source": [
        "\u5728b.py\u6587\u4ef6\u4e2d\u63d2\u5165\u4ee5\u4e0b\u4ee3\u7801\uff1a"
      ]
    },
    {
      "cell_type": "code",
      "execution_count": null,
      "metadata": {},
      "outputs": [],
      "source": [
        "# b.py\nfrom .a import A\nclass B(A):\n    def bar(self):\n        print('B.bar')"
      ]
    },
    {
      "cell_type": "markdown",
      "metadata": {},
      "source": [
        "\u6700\u540e\uff0c\u5728 __init__.py \u4e2d\uff0c\u5c062\u4e2a\u6587\u4ef6\u7c98\u5408\u5728\u4e00\u8d77\uff1a"
      ]
    },
    {
      "cell_type": "code",
      "execution_count": null,
      "metadata": {},
      "outputs": [],
      "source": [
        "# __init__.py\nfrom .a import A\nfrom .b import B"
      ]
    },
    {
      "cell_type": "markdown",
      "metadata": {},
      "source": [
        "\u5982\u679c\u6309\u7167\u8fd9\u4e9b\u6b65\u9aa4\uff0c\u6240\u4ea7\u751f\u7684\u5305MyModule\u5c06\u4f5c\u4e3a\u4e00\u4e2a\u5355\u4e00\u7684\u903b\u8f91\u6a21\u5757\uff1a"
      ]
    },
    {
      "cell_type": "code",
      "execution_count": null,
      "metadata": {},
      "outputs": [],
      "source": [
        "import mymodule\na = mymodule.A()\na.spam()"
      ]
    },
    {
      "cell_type": "code",
      "execution_count": null,
      "metadata": {},
      "outputs": [],
      "source": [
        "b = mymodule.B()\nb.bar()"
      ]
    },
    {
      "cell_type": "markdown",
      "metadata": {},
      "source": [
        "### \u8ba8\u8bba\n"
      ]
    },
    {
      "cell_type": "markdown",
      "metadata": {},
      "source": [
        "\u5728\u8fd9\u4e2a\u7ae0\u8282\u4e2d\u7684\u4e3b\u8981\u95ee\u9898\u662f\u4e00\u4e2a\u8bbe\u8ba1\u95ee\u9898\uff0c\u4e0d\u7ba1\u4f60\u662f\u5426\u5e0c\u671b\u7528\u6237\u4f7f\u7528\u5f88\u591a\u5c0f\u6a21\u5757\u6216\u53ea\u662f\u4e00\u4e2a\u6a21\u5757\u3002\u4e3e\u4e2a\u4f8b\u5b50\uff0c\u5728\u4e00\u4e2a\u5927\u578b\u7684\u4ee3\u7801\u5e93\u4e2d\uff0c\u4f60\u53ef\u4ee5\u5c06\u8fd9\u4e00\u5207\u90fd\u5206\u5272\u6210\u72ec\u7acb\u7684\u6587\u4ef6\uff0c\u8ba9\u7528\u6237\u4f7f\u7528\u5927\u91cf\u7684import\u8bed\u53e5\uff0c\u5c31\u50cf\u8fd9\u6837\uff1a"
      ]
    },
    {
      "cell_type": "code",
      "execution_count": null,
      "metadata": {},
      "outputs": [],
      "source": [
        "from mymodule.a import A\nfrom mymodule.b import B\n..."
      ]
    },
    {
      "cell_type": "markdown",
      "metadata": {},
      "source": [
        "\u8fd9\u6837\u80fd\u5de5\u4f5c\uff0c\u4f46\u8fd9\u8ba9\u7528\u6237\u627f\u53d7\u66f4\u591a\u7684\u8d1f\u62c5\uff0c\u7528\u6237\u8981\u77e5\u9053\u4e0d\u540c\u7684\u90e8\u5206\u4f4d\u4e8e\u4f55\u5904\u3002\u901a\u5e38\u60c5\u51b5\u4e0b\uff0c\u5c06\u8fd9\u4e9b\u7edf\u4e00\u8d77\u6765\uff0c\u4f7f\u7528\u4e00\u6761import\u5c06\u66f4\u52a0\u5bb9\u6613\uff0c\u5c31\u50cf\u8fd9\u6837\uff1a"
      ]
    },
    {
      "cell_type": "code",
      "execution_count": null,
      "metadata": {},
      "outputs": [],
      "source": [
        "from mymodule import A, B"
      ]
    },
    {
      "cell_type": "markdown",
      "metadata": {},
      "source": [
        "\u5bf9\u540e\u8005\u800c\u8a00\uff0c\u8ba9mymodule\u6210\u4e3a\u4e00\u4e2a\u5927\u7684\u6e90\u6587\u4ef6\u662f\u6700\u5e38\u89c1\u7684\u3002\u4f46\u662f\uff0c\u8fd9\u4e00\u7ae0\u8282\u5c55\u793a\u4e86\u5982\u4f55\u5408\u5e76\u591a\u4e2a\u6587\u4ef6\u5408\u5e76\u6210\u4e00\u4e2a\u5355\u4e00\u7684\u903b\u8f91\u547d\u540d\u7a7a\u95f4\u3002\n\u8fd9\u6837\u505a\u7684\u5173\u952e\u662f\u521b\u5efa\u4e00\u4e2a\u5305\u76ee\u5f55\uff0c\u4f7f\u7528 __init__.py \u6587\u4ef6\u6765\u5c06\u6bcf\u90e8\u5206\u7c98\u5408\u5728\u4e00\u8d77\u3002"
      ]
    },
    {
      "cell_type": "markdown",
      "metadata": {},
      "source": [
        "\u5f53\u4e00\u4e2a\u6a21\u5757\u88ab\u5206\u5272\uff0c\u4f60\u9700\u8981\u7279\u522b\u6ce8\u610f\u4ea4\u53c9\u5f15\u7528\u7684\u6587\u4ef6\u540d\u3002\u4e3e\u4e2a\u4f8b\u5b50\uff0c\u5728\u8fd9\u4e00\u7ae0\u8282\u4e2d\uff0cB\u7c7b\u9700\u8981\u8bbf\u95eeA\u7c7b\u4f5c\u4e3a\u57fa\u7c7b\u3002\u7528\u5305\u7684\u76f8\u5bf9\u5bfc\u5165 from .a import A \u6765\u83b7\u53d6\u3002"
      ]
    },
    {
      "cell_type": "markdown",
      "metadata": {},
      "source": [
        "\u6574\u4e2a\u7ae0\u8282\u90fd\u4f7f\u7528\u5305\u7684\u76f8\u5bf9\u5bfc\u5165\u6765\u907f\u514d\u5c06\u9876\u5c42\u6a21\u5757\u540d\u786c\u7f16\u7801\u5230\u6e90\u4ee3\u7801\u4e2d\u3002\u8fd9\u4f7f\u5f97\u91cd\u547d\u540d\u6a21\u5757\u6216\u8005\u5c06\u5b83\u79fb\u52a8\u5230\u522b\u7684\u4f4d\u7f6e\u66f4\u5bb9\u6613\u3002\uff08\u89c110.3\u5c0f\u8282\uff09"
      ]
    },
    {
      "cell_type": "markdown",
      "metadata": {},
      "source": [
        "\u4f5c\u4e3a\u8fd9\u4e00\u7ae0\u8282\u7684\u5ef6\u4f38\uff0c\u5c06\u4ecb\u7ecd\u5ef6\u8fdf\u5bfc\u5165\u3002\u5982\u56fe\u6240\u793a\uff0c__init__.py\u6587\u4ef6\u4e00\u6b21\u5bfc\u5165\u6240\u6709\u5fc5\u9700\u7684\u7ec4\u4ef6\u7684\u3002\u4f46\u662f\u5bf9\u4e8e\u4e00\u4e2a\u5f88\u5927\u7684\u6a21\u5757\uff0c\u53ef\u80fd\u4f60\u53ea\u60f3\u7ec4\u4ef6\u5728\u9700\u8981\u65f6\u88ab\u52a0\u8f7d\u3002\n\u8981\u505a\u5230\u8fd9\u4e00\u70b9\uff0c__init__.py\u6709\u7ec6\u5fae\u7684\u53d8\u5316\uff1a"
      ]
    },
    {
      "cell_type": "code",
      "execution_count": null,
      "metadata": {},
      "outputs": [],
      "source": [
        "# __init__.py\ndef A():\n    from .a import A\n    return A()\n\ndef B():\n    from .b import B\n    return B()"
      ]
    },
    {
      "cell_type": "markdown",
      "metadata": {},
      "source": [
        "\u5728\u8fd9\u4e2a\u7248\u672c\u4e2d\uff0c\u7c7bA\u548c\u7c7bB\u88ab\u66ff\u6362\u4e3a\u5728\u7b2c\u4e00\u6b21\u8bbf\u95ee\u65f6\u52a0\u8f7d\u6240\u9700\u7684\u7c7b\u7684\u51fd\u6570\u3002\u5bf9\u4e8e\u7528\u6237\uff0c\u8fd9\u770b\u8d77\u6765\u4e0d\u4f1a\u6709\u592a\u5927\u7684\u4e0d\u540c\u3002\n\u4f8b\u5982\uff1a"
      ]
    },
    {
      "cell_type": "code",
      "execution_count": null,
      "metadata": {},
      "outputs": [],
      "source": [
        "import mymodule\na = mymodule.A()\na.spam()"
      ]
    },
    {
      "cell_type": "markdown",
      "metadata": {},
      "source": [
        "\u5ef6\u8fdf\u52a0\u8f7d\u7684\u4e3b\u8981\u7f3a\u70b9\u662f\u7ee7\u627f\u548c\u7c7b\u578b\u68c0\u67e5\u53ef\u80fd\u4f1a\u4e2d\u65ad\u3002\u4f60\u53ef\u80fd\u4f1a\u7a0d\u5fae\u6539\u53d8\u4f60\u7684\u4ee3\u7801\uff0c\u4f8b\u5982:"
      ]
    },
    {
      "cell_type": "code",
      "execution_count": null,
      "metadata": {},
      "outputs": [],
      "source": [
        "if isinstance(x, mymodule.A): # Error\n...\n\nif isinstance(x, mymodule.a.A): # Ok\n..."
      ]
    },
    {
      "cell_type": "markdown",
      "metadata": {},
      "source": [
        "\u5ef6\u8fdf\u52a0\u8f7d\u7684\u771f\u5b9e\u4f8b\u5b50, \u89c1\u6807\u51c6\u5e93 multiprocessing/__init__.py \u7684\u6e90\u7801."
      ]
    }
  ],
  "metadata": {
    "kernelspec": {
      "display_name": "Python 3",
      "language": "python",
      "name": "python3"
    },
    "language_info": {
      "codemirror_mode": {
        "name": "ipython",
        "version": 3
      },
      "file_extension": ".py",
      "mimetype": "text/x-python",
      "name": "python",
      "nbconvert_exporter": "python",
      "pygments_lexer": "ipython3",
      "version": "3.7.1"
    },
    "toc": {
      "base_numbering": 1,
      "nav_menu": {},
      "number_sections": true,
      "sideBar": true,
      "skip_h1_title": true,
      "title_cell": "Table of Contents",
      "title_sidebar": "Contents",
      "toc_cell": false,
      "toc_position": {},
      "toc_section_display": true,
      "toc_window_display": true
    }
  },
  "nbformat": 4,
  "nbformat_minor": 2
}