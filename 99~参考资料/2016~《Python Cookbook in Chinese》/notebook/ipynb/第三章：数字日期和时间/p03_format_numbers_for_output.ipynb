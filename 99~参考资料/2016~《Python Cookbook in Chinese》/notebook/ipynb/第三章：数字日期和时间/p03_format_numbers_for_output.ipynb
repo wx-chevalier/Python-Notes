{
  "cells": [
    {
      "cell_type": "markdown",
      "metadata": {},
      "source": [
        "## 3.3 \u6570\u5b57\u7684\u683c\u5f0f\u5316\u8f93\u51fa\n"
      ]
    },
    {
      "cell_type": "markdown",
      "metadata": {},
      "source": [
        "### \u95ee\u9898\n"
      ]
    },
    {
      "cell_type": "markdown",
      "metadata": {},
      "source": [
        "\u4f60\u9700\u8981\u5c06\u6570\u5b57\u683c\u5f0f\u5316\u540e\u8f93\u51fa\uff0c\u5e76\u63a7\u5236\u6570\u5b57\u7684\u4f4d\u6570\u3001\u5bf9\u9f50\u3001\u5343\u4f4d\u5206\u9694\u7b26\u548c\u5176\u4ed6\u7684\u7ec6\u8282\u3002"
      ]
    },
    {
      "cell_type": "markdown",
      "metadata": {},
      "source": [
        "### \u89e3\u51b3\u65b9\u6848\n"
      ]
    },
    {
      "cell_type": "markdown",
      "metadata": {},
      "source": [
        "\u683c\u5f0f\u5316\u8f93\u51fa\u5355\u4e2a\u6570\u5b57\u7684\u65f6\u5019\uff0c\u53ef\u4ee5\u4f7f\u7528\u5185\u7f6e\u7684 format() \u51fd\u6570\uff0c\u6bd4\u5982\uff1a"
      ]
    },
    {
      "cell_type": "code",
      "execution_count": null,
      "metadata": {},
      "outputs": [],
      "source": [
        "x = 1234.56789"
      ]
    },
    {
      "cell_type": "code",
      "execution_count": null,
      "metadata": {},
      "outputs": [],
      "source": [
        "# Two decimal places of accuracy\nformat(x, '0.2f')"
      ]
    },
    {
      "cell_type": "code",
      "execution_count": null,
      "metadata": {},
      "outputs": [],
      "source": [
        "# Right justified in 10 chars, one-digit accuracy\nformat(x, '>10.1f')"
      ]
    },
    {
      "cell_type": "code",
      "execution_count": null,
      "metadata": {},
      "outputs": [],
      "source": [
        "# Left justified\nformat(x, '<10.1f')"
      ]
    },
    {
      "cell_type": "code",
      "execution_count": null,
      "metadata": {},
      "outputs": [],
      "source": [
        "# Centered\nformat(x, '^10.1f')"
      ]
    },
    {
      "cell_type": "code",
      "execution_count": null,
      "metadata": {},
      "outputs": [],
      "source": [
        "# Inclusion of thousands separator\nformat(x, ',')"
      ]
    },
    {
      "cell_type": "code",
      "execution_count": null,
      "metadata": {},
      "outputs": [],
      "source": [
        "format(x, '0,.1f')"
      ]
    },
    {
      "cell_type": "markdown",
      "metadata": {},
      "source": [
        "\u5982\u679c\u4f60\u60f3\u4f7f\u7528\u6307\u6570\u8bb0\u6cd5\uff0c\u5c06f\u6539\u6210e\u6216\u8005E(\u53d6\u51b3\u4e8e\u6307\u6570\u8f93\u51fa\u7684\u5927\u5c0f\u5199\u5f62\u5f0f)\u3002\u6bd4\u5982\uff1a"
      ]
    },
    {
      "cell_type": "code",
      "execution_count": null,
      "metadata": {},
      "outputs": [],
      "source": [
        "format(x, 'e')"
      ]
    },
    {
      "cell_type": "code",
      "execution_count": null,
      "metadata": {},
      "outputs": [],
      "source": [
        "format(x, '0.2E')"
      ]
    },
    {
      "cell_type": "markdown",
      "metadata": {},
      "source": [
        "\u540c\u65f6\u6307\u5b9a\u5bbd\u5ea6\u548c\u7cbe\u5ea6\u7684\u4e00\u822c\u5f62\u5f0f\u662f '[<>^]?width[,]?(.digits)?' \uff0c\n\u5176\u4e2d width \u548c digits \u4e3a\u6574\u6570\uff0c\uff1f\u4ee3\u8868\u53ef\u9009\u90e8\u5206\u3002\n\u540c\u6837\u7684\u683c\u5f0f\u4e5f\u88ab\u7528\u5728\u5b57\u7b26\u4e32\u7684 format() \u65b9\u6cd5\u4e2d\u3002\u6bd4\u5982\uff1a"
      ]
    },
    {
      "cell_type": "code",
      "execution_count": null,
      "metadata": {},
      "outputs": [],
      "source": [
        "'The value is {:0,.2f}'.format(x)"
      ]
    },
    {
      "cell_type": "markdown",
      "metadata": {},
      "source": [
        "### \u8ba8\u8bba\n"
      ]
    },
    {
      "cell_type": "markdown",
      "metadata": {},
      "source": [
        "\u6570\u5b57\u683c\u5f0f\u5316\u8f93\u51fa\u901a\u5e38\u662f\u6bd4\u8f83\u7b80\u5355\u7684\u3002\u4e0a\u9762\u6f14\u793a\u7684\u6280\u672f\u540c\u65f6\u9002\u7528\u4e8e\u6d6e\u70b9\u6570\u548c decimal \u6a21\u5757\u4e2d\u7684 Decimal \u6570\u5b57\u5bf9\u8c61\u3002"
      ]
    },
    {
      "cell_type": "markdown",
      "metadata": {},
      "source": [
        "\u5f53\u6307\u5b9a\u6570\u5b57\u7684\u4f4d\u6570\u540e\uff0c\u7ed3\u679c\u503c\u4f1a\u6839\u636e round() \u51fd\u6570\u540c\u6837\u7684\u89c4\u5219\u8fdb\u884c\u56db\u820d\u4e94\u5165\u540e\u8fd4\u56de\u3002\u6bd4\u5982\uff1a"
      ]
    },
    {
      "cell_type": "code",
      "execution_count": null,
      "metadata": {},
      "outputs": [],
      "source": [
        "x"
      ]
    },
    {
      "cell_type": "code",
      "execution_count": null,
      "metadata": {},
      "outputs": [],
      "source": [
        "format(x, '0.1f')"
      ]
    },
    {
      "cell_type": "code",
      "execution_count": null,
      "metadata": {},
      "outputs": [],
      "source": [
        "format(-x, '0.1f')"
      ]
    },
    {
      "cell_type": "markdown",
      "metadata": {},
      "source": [
        "\u5305\u542b\u5343\u4f4d\u7b26\u7684\u683c\u5f0f\u5316\u8ddf\u672c\u5730\u5316\u6ca1\u6709\u5173\u7cfb\u3002\n\u5982\u679c\u4f60\u9700\u8981\u6839\u636e\u5730\u533a\u6765\u663e\u793a\u5343\u4f4d\u7b26\uff0c\u4f60\u9700\u8981\u81ea\u5df1\u53bb\u8c03\u67e5\u4e0b locale \u6a21\u5757\u4e2d\u7684\u51fd\u6570\u4e86\u3002\n\u4f60\u540c\u6837\u4e5f\u53ef\u4ee5\u4f7f\u7528\u5b57\u7b26\u4e32\u7684 translate() \u65b9\u6cd5\u6765\u4ea4\u6362\u5343\u4f4d\u7b26\u3002\u6bd4\u5982\uff1a"
      ]
    },
    {
      "cell_type": "code",
      "execution_count": null,
      "metadata": {},
      "outputs": [],
      "source": [
        "swap_separators = { ord('.'):',', ord(','):'.' }\nformat(x, ',').translate(swap_separators)"
      ]
    },
    {
      "cell_type": "markdown",
      "metadata": {},
      "source": [
        "\u5728\u5f88\u591aPython\u4ee3\u7801\u4e2d\u4f1a\u770b\u5230\u4f7f\u7528%\u6765\u683c\u5f0f\u5316\u6570\u5b57\u7684\uff0c\u6bd4\u5982\uff1a"
      ]
    },
    {
      "cell_type": "code",
      "execution_count": null,
      "metadata": {},
      "outputs": [],
      "source": [
        "'%0.2f' % x"
      ]
    },
    {
      "cell_type": "code",
      "execution_count": null,
      "metadata": {},
      "outputs": [],
      "source": [
        "'%10.1f' % x"
      ]
    },
    {
      "cell_type": "code",
      "execution_count": null,
      "metadata": {},
      "outputs": [],
      "source": [
        "'%-10.1f' % x"
      ]
    },
    {
      "cell_type": "markdown",
      "metadata": {},
      "source": [
        "\u8fd9\u79cd\u683c\u5f0f\u5316\u65b9\u6cd5\u4e5f\u662f\u53ef\u884c\u7684\uff0c\u4e0d\u8fc7\u6bd4\u66f4\u52a0\u5148\u8fdb\u7684 format() \u8981\u5dee\u4e00\u70b9\u3002\n\u6bd4\u5982\uff0c\u5728\u4f7f\u7528%\u64cd\u4f5c\u7b26\u683c\u5f0f\u5316\u6570\u5b57\u7684\u65f6\u5019\uff0c\u4e00\u4e9b\u7279\u6027(\u6dfb\u52a0\u5343\u4f4d\u7b26)\u5e76\u4e0d\u80fd\u88ab\u652f\u6301\u3002"
      ]
    }
  ],
  "metadata": {
    "kernelspec": {
      "display_name": "Python 3",
      "language": "python",
      "name": "python3"
    },
    "language_info": {
      "codemirror_mode": {
        "name": "ipython",
        "version": 3
      },
      "file_extension": ".py",
      "mimetype": "text/x-python",
      "name": "python",
      "nbconvert_exporter": "python",
      "pygments_lexer": "ipython3",
      "version": "3.7.1"
    },
    "toc": {
      "base_numbering": 1,
      "nav_menu": {},
      "number_sections": true,
      "sideBar": true,
      "skip_h1_title": true,
      "title_cell": "Table of Contents",
      "title_sidebar": "Contents",
      "toc_cell": false,
      "toc_position": {},
      "toc_section_display": true,
      "toc_window_display": true
    }
  },
  "nbformat": 4,
  "nbformat_minor": 2
}