{
  "cells": [
    {
      "cell_type": "markdown",
      "metadata": {},
      "source": [
        "## 3.6 \u590d\u6570\u7684\u6570\u5b66\u8fd0\u7b97\n"
      ]
    },
    {
      "cell_type": "markdown",
      "metadata": {},
      "source": [
        "### \u95ee\u9898\n"
      ]
    },
    {
      "cell_type": "markdown",
      "metadata": {},
      "source": [
        "\u4f60\u5199\u7684\u6700\u65b0\u7684\u7f51\u7edc\u8ba4\u8bc1\u65b9\u6848\u4ee3\u7801\u9047\u5230\u4e86\u4e00\u4e2a\u96be\u9898\uff0c\u5e76\u4e14\u4f60\u552f\u4e00\u7684\u89e3\u51b3\u529e\u6cd5\u5c31\u662f\u4f7f\u7528\u590d\u6570\u7a7a\u95f4\u3002\n\u518d\u6216\u8005\u662f\u4f60\u4ec5\u4ec5\u9700\u8981\u4f7f\u7528\u590d\u6570\u6765\u6267\u884c\u4e00\u4e9b\u8ba1\u7b97\u64cd\u4f5c\u3002"
      ]
    },
    {
      "cell_type": "markdown",
      "metadata": {},
      "source": [
        "### \u89e3\u51b3\u65b9\u6848\n"
      ]
    },
    {
      "cell_type": "markdown",
      "metadata": {},
      "source": [
        "\u590d\u6570\u53ef\u4ee5\u7528\u4f7f\u7528\u51fd\u6570 complex(real, imag) \u6216\u8005\u662f\u5e26\u6709\u540e\u7f00j\u7684\u6d6e\u70b9\u6570\u6765\u6307\u5b9a\u3002\u6bd4\u5982\uff1a"
      ]
    },
    {
      "cell_type": "code",
      "execution_count": null,
      "metadata": {},
      "outputs": [],
      "source": [
        "a = complex(2, 4)\nb = 3 - 5j\na"
      ]
    },
    {
      "cell_type": "code",
      "execution_count": null,
      "metadata": {},
      "outputs": [],
      "source": [
        "b"
      ]
    },
    {
      "cell_type": "markdown",
      "metadata": {},
      "source": [
        "\u5bf9\u5e94\u7684\u5b9e\u90e8\u3001\u865a\u90e8\u548c\u5171\u8f6d\u590d\u6570\u53ef\u4ee5\u5f88\u5bb9\u6613\u7684\u83b7\u53d6\u3002\u5c31\u50cf\u4e0b\u9762\u8fd9\u6837\uff1a"
      ]
    },
    {
      "cell_type": "code",
      "execution_count": null,
      "metadata": {},
      "outputs": [],
      "source": [
        "a.real"
      ]
    },
    {
      "cell_type": "code",
      "execution_count": null,
      "metadata": {},
      "outputs": [],
      "source": [
        "a.imag"
      ]
    },
    {
      "cell_type": "code",
      "execution_count": null,
      "metadata": {},
      "outputs": [],
      "source": [
        "a.conjugate()"
      ]
    },
    {
      "cell_type": "markdown",
      "metadata": {},
      "source": [
        "\u53e6\u5916\uff0c\u6240\u6709\u5e38\u89c1\u7684\u6570\u5b66\u8fd0\u7b97\u90fd\u53ef\u4ee5\u5de5\u4f5c\uff1a"
      ]
    },
    {
      "cell_type": "code",
      "execution_count": null,
      "metadata": {},
      "outputs": [],
      "source": [
        "a + b"
      ]
    },
    {
      "cell_type": "code",
      "execution_count": null,
      "metadata": {},
      "outputs": [],
      "source": [
        "a * b"
      ]
    },
    {
      "cell_type": "code",
      "execution_count": null,
      "metadata": {},
      "outputs": [],
      "source": [
        "a / b"
      ]
    },
    {
      "cell_type": "code",
      "execution_count": null,
      "metadata": {},
      "outputs": [],
      "source": [
        "abs(a)"
      ]
    },
    {
      "cell_type": "markdown",
      "metadata": {},
      "source": [
        "\u5982\u679c\u8981\u6267\u884c\u5176\u4ed6\u7684\u590d\u6570\u51fd\u6570\u6bd4\u5982\u6b63\u5f26\u3001\u4f59\u5f26\u6216\u5e73\u65b9\u6839\uff0c\u4f7f\u7528 cmath \u6a21\u5757\uff1a"
      ]
    },
    {
      "cell_type": "code",
      "execution_count": null,
      "metadata": {},
      "outputs": [],
      "source": [
        "import cmath\ncmath.sin(a)"
      ]
    },
    {
      "cell_type": "code",
      "execution_count": null,
      "metadata": {},
      "outputs": [],
      "source": [
        "cmath.cos(a)"
      ]
    },
    {
      "cell_type": "code",
      "execution_count": null,
      "metadata": {},
      "outputs": [],
      "source": [
        "cmath.exp(a)"
      ]
    },
    {
      "cell_type": "markdown",
      "metadata": {},
      "source": [
        "### \u8ba8\u8bba\n"
      ]
    },
    {
      "cell_type": "markdown",
      "metadata": {},
      "source": [
        "Python\u4e2d\u5927\u90e8\u5206\u4e0e\u6570\u5b66\u76f8\u5173\u7684\u6a21\u5757\u90fd\u80fd\u5904\u7406\u590d\u6570\u3002\n\u6bd4\u5982\u5982\u679c\u4f60\u4f7f\u7528 numpy \uff0c\u53ef\u4ee5\u5f88\u5bb9\u6613\u7684\u6784\u9020\u4e00\u4e2a\u590d\u6570\u6570\u7ec4\u5e76\u5728\u8fd9\u4e2a\u6570\u7ec4\u4e0a\u6267\u884c\u5404\u79cd\u64cd\u4f5c\uff1a"
      ]
    },
    {
      "cell_type": "code",
      "execution_count": null,
      "metadata": {},
      "outputs": [],
      "source": [
        "import numpy as np\na = np.array([2+3j, 4+5j, 6-7j, 8+9j])\na"
      ]
    },
    {
      "cell_type": "code",
      "execution_count": null,
      "metadata": {},
      "outputs": [],
      "source": [
        "a + 2"
      ]
    },
    {
      "cell_type": "code",
      "execution_count": null,
      "metadata": {},
      "outputs": [],
      "source": [
        "np.sin(a)"
      ]
    },
    {
      "cell_type": "markdown",
      "metadata": {},
      "source": [
        "Python\u7684\u6807\u51c6\u6570\u5b66\u51fd\u6570\u786e\u5b9e\u60c5\u51b5\u4e0b\u5e76\u4e0d\u80fd\u4ea7\u751f\u590d\u6570\u503c\uff0c\u56e0\u6b64\u4f60\u7684\u4ee3\u7801\u4e2d\u4e0d\u53ef\u80fd\u4f1a\u51fa\u73b0\u590d\u6570\u8fd4\u56de\u503c\u3002\u6bd4\u5982\uff1a"
      ]
    },
    {
      "cell_type": "code",
      "execution_count": null,
      "metadata": {},
      "outputs": [],
      "source": [
        "import math\nmath.sqrt(-1)"
      ]
    },
    {
      "cell_type": "markdown",
      "metadata": {},
      "source": [
        "\u5982\u679c\u4f60\u60f3\u751f\u6210\u4e00\u4e2a\u590d\u6570\u8fd4\u56de\u7ed3\u679c\uff0c\u4f60\u5fc5\u987b\u663e\u793a\u7684\u4f7f\u7528 cmath \u6a21\u5757\uff0c\u6216\u8005\u5728\u67d0\u4e2a\u652f\u6301\u590d\u6570\u7684\u5e93\u4e2d\u58f0\u660e\u590d\u6570\u7c7b\u578b\u7684\u4f7f\u7528\u3002\u6bd4\u5982\uff1a"
      ]
    },
    {
      "cell_type": "code",
      "execution_count": null,
      "metadata": {},
      "outputs": [],
      "source": [
        "import cmath\ncmath.sqrt(-1)"
      ]
    }
  ],
  "metadata": {
    "kernelspec": {
      "display_name": "Python 3",
      "language": "python",
      "name": "python3"
    },
    "language_info": {
      "codemirror_mode": {
        "name": "ipython",
        "version": 3
      },
      "file_extension": ".py",
      "mimetype": "text/x-python",
      "name": "python",
      "nbconvert_exporter": "python",
      "pygments_lexer": "ipython3",
      "version": "3.7.1"
    },
    "toc": {
      "base_numbering": 1,
      "nav_menu": {},
      "number_sections": true,
      "sideBar": true,
      "skip_h1_title": true,
      "title_cell": "Table of Contents",
      "title_sidebar": "Contents",
      "toc_cell": false,
      "toc_position": {},
      "toc_section_display": true,
      "toc_window_display": true
    }
  },
  "nbformat": 4,
  "nbformat_minor": 2
}