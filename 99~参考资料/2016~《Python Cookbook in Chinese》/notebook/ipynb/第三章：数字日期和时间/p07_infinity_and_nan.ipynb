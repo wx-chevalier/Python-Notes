{
  "cells": [
    {
      "cell_type": "markdown",
      "metadata": {},
      "source": [
        "## 3.7 \u65e0\u7a77\u5927\u4e0eNaN\n"
      ]
    },
    {
      "cell_type": "markdown",
      "metadata": {},
      "source": [
        "### \u95ee\u9898\n"
      ]
    },
    {
      "cell_type": "markdown",
      "metadata": {},
      "source": [
        "\u4f60\u60f3\u521b\u5efa\u6216\u6d4b\u8bd5\u6b63\u65e0\u7a77\u3001\u8d1f\u65e0\u7a77\u6216NaN(\u975e\u6570\u5b57)\u7684\u6d6e\u70b9\u6570\u3002"
      ]
    },
    {
      "cell_type": "markdown",
      "metadata": {},
      "source": [
        "### \u89e3\u51b3\u65b9\u6848\n"
      ]
    },
    {
      "cell_type": "markdown",
      "metadata": {},
      "source": [
        "Python\u5e76\u6ca1\u6709\u7279\u6b8a\u7684\u8bed\u6cd5\u6765\u8868\u793a\u8fd9\u4e9b\u7279\u6b8a\u7684\u6d6e\u70b9\u503c\uff0c\u4f46\u662f\u53ef\u4ee5\u4f7f\u7528 float() \u6765\u521b\u5efa\u5b83\u4eec\u3002\u6bd4\u5982\uff1a"
      ]
    },
    {
      "cell_type": "code",
      "execution_count": null,
      "metadata": {},
      "outputs": [],
      "source": [
        "a = float('inf')\nb = float('-inf')\nc = float('nan')\na"
      ]
    },
    {
      "cell_type": "code",
      "execution_count": null,
      "metadata": {},
      "outputs": [],
      "source": [
        "b"
      ]
    },
    {
      "cell_type": "code",
      "execution_count": null,
      "metadata": {},
      "outputs": [],
      "source": [
        "c"
      ]
    },
    {
      "cell_type": "markdown",
      "metadata": {},
      "source": [
        "\u4e3a\u4e86\u6d4b\u8bd5\u8fd9\u4e9b\u503c\u7684\u5b58\u5728\uff0c\u4f7f\u7528 math.isinf() \u548c math.isnan() \u51fd\u6570\u3002\u6bd4\u5982\uff1a"
      ]
    },
    {
      "cell_type": "code",
      "execution_count": null,
      "metadata": {},
      "outputs": [],
      "source": [
        "math.isinf(a)"
      ]
    },
    {
      "cell_type": "code",
      "execution_count": null,
      "metadata": {},
      "outputs": [],
      "source": [
        "math.isnan(c)"
      ]
    },
    {
      "cell_type": "markdown",
      "metadata": {},
      "source": [
        "### \u8ba8\u8bba\n"
      ]
    },
    {
      "cell_type": "markdown",
      "metadata": {},
      "source": [
        "\u60f3\u4e86\u89e3\u66f4\u591a\u8fd9\u4e9b\u7279\u6b8a\u6d6e\u70b9\u503c\u7684\u4fe1\u606f\uff0c\u53ef\u4ee5\u53c2\u8003IEEE 754\u89c4\u8303\u3002\n\u7136\u800c\uff0c\u4e5f\u6709\u4e00\u4e9b\u5730\u65b9\u9700\u8981\u4f60\u7279\u522b\u6ce8\u610f\uff0c\u7279\u522b\u662f\u8ddf\u6bd4\u8f83\u548c\u64cd\u4f5c\u7b26\u76f8\u5173\u7684\u65f6\u5019\u3002"
      ]
    },
    {
      "cell_type": "markdown",
      "metadata": {},
      "source": [
        "\u65e0\u7a77\u5927\u6570\u5728\u6267\u884c\u6570\u5b66\u8ba1\u7b97\u7684\u65f6\u5019\u4f1a\u4f20\u64ad\uff0c\u6bd4\u5982\uff1a"
      ]
    },
    {
      "cell_type": "code",
      "execution_count": null,
      "metadata": {},
      "outputs": [],
      "source": [
        "a = float('inf')\na + 45"
      ]
    },
    {
      "cell_type": "code",
      "execution_count": null,
      "metadata": {},
      "outputs": [],
      "source": [
        "a * 10"
      ]
    },
    {
      "cell_type": "code",
      "execution_count": null,
      "metadata": {},
      "outputs": [],
      "source": [
        "10 / a"
      ]
    },
    {
      "cell_type": "markdown",
      "metadata": {},
      "source": [
        "\u4f46\u662f\u6709\u4e9b\u64cd\u4f5c\u65f6\u672a\u5b9a\u4e49\u7684\u5e76\u4f1a\u8fd4\u56de\u4e00\u4e2aNaN\u7ed3\u679c\u3002\u6bd4\u5982\uff1a"
      ]
    },
    {
      "cell_type": "code",
      "execution_count": null,
      "metadata": {},
      "outputs": [],
      "source": [
        "a = float('inf')\na/a"
      ]
    },
    {
      "cell_type": "code",
      "execution_count": null,
      "metadata": {},
      "outputs": [],
      "source": [
        "b = float('-inf')\na + b"
      ]
    },
    {
      "cell_type": "markdown",
      "metadata": {},
      "source": [
        "NaN\u503c\u4f1a\u5728\u6240\u6709\u64cd\u4f5c\u4e2d\u4f20\u64ad\uff0c\u800c\u4e0d\u4f1a\u4ea7\u751f\u5f02\u5e38\u3002\u6bd4\u5982\uff1a"
      ]
    },
    {
      "cell_type": "code",
      "execution_count": null,
      "metadata": {},
      "outputs": [],
      "source": [
        "c = float('nan')\nc + 23"
      ]
    },
    {
      "cell_type": "code",
      "execution_count": null,
      "metadata": {},
      "outputs": [],
      "source": [
        "c / 2"
      ]
    },
    {
      "cell_type": "code",
      "execution_count": null,
      "metadata": {},
      "outputs": [],
      "source": [
        "c * 2"
      ]
    },
    {
      "cell_type": "code",
      "execution_count": null,
      "metadata": {},
      "outputs": [],
      "source": [
        "math.sqrt(c)"
      ]
    },
    {
      "cell_type": "markdown",
      "metadata": {},
      "source": [
        "NaN\u503c\u7684\u4e00\u4e2a\u7279\u522b\u7684\u5730\u65b9\u65f6\u5b83\u4eec\u4e4b\u95f4\u7684\u6bd4\u8f83\u64cd\u4f5c\u603b\u662f\u8fd4\u56deFalse\u3002\u6bd4\u5982\uff1a"
      ]
    },
    {
      "cell_type": "code",
      "execution_count": null,
      "metadata": {},
      "outputs": [],
      "source": [
        "c = float('nan')\nd = float('nan')\nc == d"
      ]
    },
    {
      "cell_type": "code",
      "execution_count": null,
      "metadata": {},
      "outputs": [],
      "source": [
        "c is d"
      ]
    },
    {
      "cell_type": "markdown",
      "metadata": {},
      "source": [
        "\u7531\u4e8e\u8fd9\u4e2a\u539f\u56e0\uff0c\u6d4b\u8bd5\u4e00\u4e2aNaN\u503c\u5f97\u552f\u4e00\u5b89\u5168\u7684\u65b9\u6cd5\u5c31\u662f\u4f7f\u7528 math.isnan() \uff0c\u4e5f\u5c31\u662f\u4e0a\u9762\u6f14\u793a\u7684\u90a3\u6837\u3002"
      ]
    },
    {
      "cell_type": "markdown",
      "metadata": {},
      "source": [
        "\u6709\u65f6\u5019\u7a0b\u5e8f\u5458\u60f3\u6539\u53d8Python\u9ed8\u8ba4\u884c\u4e3a\uff0c\u5728\u8fd4\u56de\u65e0\u7a77\u5927\u6216NaN\u7ed3\u679c\u7684\u64cd\u4f5c\u4e2d\u629b\u51fa\u5f02\u5e38\u3002\nfpectl \u6a21\u5757\u53ef\u4ee5\u7528\u6765\u6539\u53d8\u8fd9\u79cd\u884c\u4e3a\uff0c\u4f46\u662f\u5b83\u5728\u6807\u51c6\u7684Python\u6784\u5efa\u4e2d\u5e76\u6ca1\u6709\u88ab\u542f\u7528\uff0c\u5b83\u662f\u5e73\u53f0\u76f8\u5173\u7684\uff0c\n\u5e76\u4e14\u9488\u5bf9\u7684\u662f\u4e13\u5bb6\u7ea7\u7a0b\u5e8f\u5458\u3002\u53ef\u4ee5\u53c2\u8003\u5728\u7ebf\u7684Python\u6587\u6863\u83b7\u53d6\u66f4\u591a\u7684\u7ec6\u8282\u3002"
      ]
    }
  ],
  "metadata": {
    "kernelspec": {
      "display_name": "Python 3",
      "language": "python",
      "name": "python3"
    },
    "language_info": {
      "codemirror_mode": {
        "name": "ipython",
        "version": 3
      },
      "file_extension": ".py",
      "mimetype": "text/x-python",
      "name": "python",
      "nbconvert_exporter": "python",
      "pygments_lexer": "ipython3",
      "version": "3.7.1"
    },
    "toc": {
      "base_numbering": 1,
      "nav_menu": {},
      "number_sections": true,
      "sideBar": true,
      "skip_h1_title": true,
      "title_cell": "Table of Contents",
      "title_sidebar": "Contents",
      "toc_cell": false,
      "toc_position": {},
      "toc_section_display": true,
      "toc_window_display": true
    }
  },
  "nbformat": 4,
  "nbformat_minor": 2
}