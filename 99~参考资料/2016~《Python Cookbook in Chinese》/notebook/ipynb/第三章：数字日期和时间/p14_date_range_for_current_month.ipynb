{
  "cells": [
    {
      "cell_type": "markdown",
      "metadata": {},
      "source": [
        "## 3.14 \u8ba1\u7b97\u5f53\u524d\u6708\u4efd\u7684\u65e5\u671f\u8303\u56f4\n"
      ]
    },
    {
      "cell_type": "markdown",
      "metadata": {},
      "source": [
        "### \u95ee\u9898\n"
      ]
    },
    {
      "cell_type": "markdown",
      "metadata": {},
      "source": [
        "\u4f60\u7684\u4ee3\u7801\u9700\u8981\u5728\u5f53\u524d\u6708\u4efd\u4e2d\u5faa\u73af\u6bcf\u4e00\u5929\uff0c\u60f3\u627e\u5230\u4e00\u4e2a\u8ba1\u7b97\u8fd9\u4e2a\u65e5\u671f\u8303\u56f4\u7684\u9ad8\u6548\u65b9\u6cd5\u3002"
      ]
    },
    {
      "cell_type": "markdown",
      "metadata": {},
      "source": [
        "### \u89e3\u51b3\u65b9\u6848\n"
      ]
    },
    {
      "cell_type": "markdown",
      "metadata": {},
      "source": [
        "\u5728\u8fd9\u6837\u7684\u65e5\u671f\u4e0a\u5faa\u73af\u5e76\u9700\u8981\u4e8b\u5148\u6784\u9020\u4e00\u4e2a\u5305\u542b\u6240\u6709\u65e5\u671f\u7684\u5217\u8868\u3002\n\u4f60\u53ef\u4ee5\u5148\u8ba1\u7b97\u51fa\u5f00\u59cb\u65e5\u671f\u548c\u7ed3\u675f\u65e5\u671f\uff0c\n\u7136\u540e\u5728\u4f60\u6b65\u8fdb\u7684\u65f6\u5019\u4f7f\u7528 datetime.timedelta \u5bf9\u8c61\u9012\u589e\u8fd9\u4e2a\u65e5\u671f\u53d8\u91cf\u5373\u53ef\u3002"
      ]
    },
    {
      "cell_type": "markdown",
      "metadata": {},
      "source": [
        "\u4e0b\u9762\u662f\u4e00\u4e2a\u63a5\u53d7\u4efb\u610f datetime \u5bf9\u8c61\u5e76\u8fd4\u56de\u4e00\u4e2a\u7531\u5f53\u524d\u6708\u4efd\u5f00\u59cb\u65e5\u548c\u4e0b\u4e2a\u6708\u5f00\u59cb\u65e5\u7ec4\u6210\u7684\u5143\u7ec4\u5bf9\u8c61\u3002"
      ]
    },
    {
      "cell_type": "code",
      "execution_count": null,
      "metadata": {},
      "outputs": [],
      "source": [
        "from datetime import datetime, date, timedelta\nimport calendar\n\ndef get_month_range(start_date=None):\n    if start_date is None:\n        start_date = date.today().replace(day=1)\n    _, days_in_month = calendar.monthrange(start_date.year, start_date.month)\n    end_date = start_date + timedelta(days=days_in_month)\n    return (start_date, end_date)"
      ]
    },
    {
      "cell_type": "markdown",
      "metadata": {},
      "source": [
        "\u6709\u4e86\u8fd9\u4e2a\u5c31\u53ef\u4ee5\u5f88\u5bb9\u6613\u7684\u5728\u8fd4\u56de\u7684\u65e5\u671f\u8303\u56f4\u4e0a\u9762\u505a\u5faa\u73af\u64cd\u4f5c\u4e86\uff1a"
      ]
    },
    {
      "cell_type": "code",
      "execution_count": null,
      "metadata": {},
      "outputs": [],
      "source": [
        "a_day = timedelta(days=1)\nfirst_day, last_day = get_month_range()\nwhile first_day < last_day:\n    print(first_day)\n    first_day += a_day"
      ]
    },
    {
      "cell_type": "markdown",
      "metadata": {},
      "source": [
        "### \u8ba8\u8bba\n"
      ]
    },
    {
      "cell_type": "markdown",
      "metadata": {},
      "source": [
        "\u4e0a\u9762\u7684\u4ee3\u7801\u5148\u8ba1\u7b97\u51fa\u4e00\u4e2a\u5bf9\u5e94\u6708\u4efd\u7b2c\u4e00\u5929\u7684\u65e5\u671f\u3002\n\u4e00\u4e2a\u5feb\u901f\u7684\u65b9\u6cd5\u5c31\u662f\u4f7f\u7528 date \u6216 datetime \u5bf9\u8c61\u7684 replace() \u65b9\u6cd5\u7b80\u5355\u7684\u5c06 days \u5c5e\u6027\u8bbe\u7f6e\u62101\u5373\u53ef\u3002\nreplace() \u65b9\u6cd5\u4e00\u4e2a\u597d\u5904\u5c31\u662f\u5b83\u4f1a\u521b\u5efa\u548c\u4f60\u5f00\u59cb\u4f20\u5165\u5bf9\u8c61\u7c7b\u578b\u76f8\u540c\u7684\u5bf9\u8c61\u3002\n\u6240\u4ee5\uff0c\u5982\u679c\u8f93\u5165\u53c2\u6570\u662f\u4e00\u4e2a date \u5b9e\u4f8b\uff0c\u90a3\u4e48\u7ed3\u679c\u4e5f\u662f\u4e00\u4e2a date \u5b9e\u4f8b\u3002\n\u540c\u6837\u7684\uff0c\u5982\u679c\u8f93\u5165\u662f\u4e00\u4e2a datetime \u5b9e\u4f8b\uff0c\u90a3\u4e48\u4f60\u5f97\u5230\u7684\u5c31\u662f\u4e00\u4e2a datetime \u5b9e\u4f8b\u3002"
      ]
    },
    {
      "cell_type": "markdown",
      "metadata": {},
      "source": [
        "\u7136\u540e\uff0c\u4f7f\u7528 calendar.monthrange() \u51fd\u6570\u6765\u627e\u51fa\u8be5\u6708\u7684\u603b\u5929\u6570\u3002\n\u4efb\u4f55\u65f6\u5019\u53ea\u8981\u4f60\u60f3\u83b7\u5f97\u65e5\u5386\u4fe1\u606f\uff0c\u90a3\u4e48 calendar \u6a21\u5757\u5c31\u975e\u5e38\u6709\u7528\u4e86\u3002\nmonthrange() \u51fd\u6570\u4f1a\u8fd4\u56de\u5305\u542b\u661f\u671f\u548c\u8be5\u6708\u5929\u6570\u7684\u5143\u7ec4\u3002"
      ]
    },
    {
      "cell_type": "markdown",
      "metadata": {},
      "source": [
        "\u4e00\u65e6\u8be5\u6708\u7684\u5929\u6570\u5df2\u77e5\u4e86\uff0c\u90a3\u4e48\u7ed3\u675f\u65e5\u671f\u5c31\u53ef\u4ee5\u901a\u8fc7\u5728\u5f00\u59cb\u65e5\u671f\u4e0a\u9762\u52a0\u4e0a\u8fd9\u4e2a\u5929\u6570\u83b7\u5f97\u3002\n\u6709\u4e2a\u9700\u8981\u6ce8\u610f\u7684\u662f\u7ed3\u675f\u65e5\u671f\u5e76\u4e0d\u5305\u542b\u5728\u8fd9\u4e2a\u65e5\u671f\u8303\u56f4\u5185(\u4e8b\u5b9e\u4e0a\u5b83\u662f\u4e0b\u4e2a\u6708\u7684\u5f00\u59cb\u65e5\u671f)\u3002\n\u8fd9\u4e2a\u548cPython\u7684 slice \u4e0e range \u64cd\u4f5c\u884c\u4e3a\u4fdd\u6301\u4e00\u81f4\uff0c\u540c\u6837\u4e5f\u4e0d\u5305\u542b\u7ed3\u5c3e\u3002"
      ]
    },
    {
      "cell_type": "markdown",
      "metadata": {},
      "source": [
        "\u4e3a\u4e86\u5728\u65e5\u671f\u8303\u56f4\u4e0a\u5faa\u73af\uff0c\u8981\u4f7f\u7528\u5230\u6807\u51c6\u7684\u6570\u5b66\u548c\u6bd4\u8f83\u64cd\u4f5c\u3002\n\u6bd4\u5982\uff0c\u53ef\u4ee5\u5229\u7528 timedelta \u5b9e\u4f8b\u6765\u9012\u589e\u65e5\u671f\uff0c\u5c0f\u4e8e\u53f7<\u7528\u6765\u68c0\u67e5\u4e00\u4e2a\u65e5\u671f\u662f\u5426\u5728\u7ed3\u675f\u65e5\u671f\u4e4b\u524d\u3002"
      ]
    },
    {
      "cell_type": "markdown",
      "metadata": {},
      "source": [
        "\u7406\u60f3\u60c5\u51b5\u4e0b\uff0c\u5982\u679c\u80fd\u4e3a\u65e5\u671f\u8fed\u4ee3\u521b\u5efa\u4e00\u4e2a\u540c\u5185\u7f6e\u7684 range() \u51fd\u6570\u4e00\u6837\u7684\u51fd\u6570\u5c31\u597d\u4e86\u3002\n\u5e78\u8fd0\u7684\u662f\uff0c\u53ef\u4ee5\u4f7f\u7528\u4e00\u4e2a\u751f\u6210\u5668\u6765\u5f88\u5bb9\u6613\u7684\u5b9e\u73b0\u8fd9\u4e2a\u76ee\u6807\uff1a"
      ]
    },
    {
      "cell_type": "code",
      "execution_count": null,
      "metadata": {},
      "outputs": [],
      "source": [
        "def date_range(start, stop, step):\n    while start < stop:\n        yield start\n        start += step"
      ]
    },
    {
      "cell_type": "markdown",
      "metadata": {},
      "source": [
        "\u4e0b\u9762\u662f\u4f7f\u7528\u8fd9\u4e2a\u751f\u6210\u5668\u7684\u4f8b\u5b50\uff1a"
      ]
    },
    {
      "cell_type": "code",
      "execution_count": null,
      "metadata": {},
      "outputs": [],
      "source": [
        "for d in date_range(datetime(2012, 9, 1), datetime(2012,10,1),"
      ]
    },
    {
      "cell_type": "code",
      "execution_count": null,
      "metadata": {},
      "outputs": [],
      "source": [
        "    print(d)"
      ]
    },
    {
      "cell_type": "markdown",
      "metadata": {},
      "source": [
        "\u8fd9\u79cd\u5b9e\u73b0\u4e4b\u6240\u4ee5\u8fd9\u4e48\u7b80\u5355\uff0c\u8fd8\u5f97\u5f52\u529f\u4e8ePython\u4e2d\u7684\u65e5\u671f\u548c\u65f6\u95f4\u80fd\u591f\u4f7f\u7528\u6807\u51c6\u7684\u6570\u5b66\u548c\u6bd4\u8f83\u64cd\u4f5c\u7b26\u6765\u8fdb\u884c\u8fd0\u7b97\u3002"
      ]
    }
  ],
  "metadata": {
    "kernelspec": {
      "display_name": "Python 3",
      "language": "python",
      "name": "python3"
    },
    "language_info": {
      "codemirror_mode": {
        "name": "ipython",
        "version": 3
      },
      "file_extension": ".py",
      "mimetype": "text/x-python",
      "name": "python",
      "nbconvert_exporter": "python",
      "pygments_lexer": "ipython3",
      "version": "3.7.1"
    },
    "toc": {
      "base_numbering": 1,
      "nav_menu": {},
      "number_sections": true,
      "sideBar": true,
      "skip_h1_title": true,
      "title_cell": "Table of Contents",
      "title_sidebar": "Contents",
      "toc_cell": false,
      "toc_position": {},
      "toc_section_display": true,
      "toc_window_display": true
    }
  },
  "nbformat": 4,
  "nbformat_minor": 2
}