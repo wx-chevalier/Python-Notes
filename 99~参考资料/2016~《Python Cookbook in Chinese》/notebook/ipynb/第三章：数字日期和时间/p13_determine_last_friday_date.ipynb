{
  "cells": [
    {
      "cell_type": "markdown",
      "metadata": {},
      "source": [
        "## 3.13 \u8ba1\u7b97\u6700\u540e\u4e00\u4e2a\u5468\u4e94\u7684\u65e5\u671f\n"
      ]
    },
    {
      "cell_type": "markdown",
      "metadata": {},
      "source": [
        "### \u95ee\u9898\n"
      ]
    },
    {
      "cell_type": "markdown",
      "metadata": {},
      "source": [
        "\u4f60\u9700\u8981\u67e5\u627e\u661f\u671f\u4e2d\u67d0\u4e00\u5929\u6700\u540e\u51fa\u73b0\u7684\u65e5\u671f\uff0c\u6bd4\u5982\u661f\u671f\u4e94\u3002"
      ]
    },
    {
      "cell_type": "markdown",
      "metadata": {},
      "source": [
        "### \u89e3\u51b3\u65b9\u6848\n"
      ]
    },
    {
      "cell_type": "markdown",
      "metadata": {},
      "source": [
        "Python\u7684 datetime \u6a21\u5757\u4e2d\u6709\u5de5\u5177\u51fd\u6570\u548c\u7c7b\u53ef\u4ee5\u5e2e\u52a9\u4f60\u6267\u884c\u8fd9\u6837\u7684\u8ba1\u7b97\u3002\n\u4e0b\u9762\u662f\u5bf9\u7c7b\u4f3c\u8fd9\u6837\u7684\u95ee\u9898\u7684\u4e00\u4e2a\u901a\u7528\u89e3\u51b3\u65b9\u6848\uff1a"
      ]
    },
    {
      "cell_type": "code",
      "execution_count": null,
      "metadata": {},
      "outputs": [],
      "source": [
        "#!/usr/bin/env python\n# -*- encoding: utf-8 -*-\n\"\"\"\nTopic: \u6700\u540e\u7684\u5468\u4e94\nDesc :\n\"\"\"\nfrom datetime import datetime, timedelta\n\nweekdays = ['Monday', 'Tuesday', 'Wednesday', 'Thursday',\n            'Friday', 'Saturday', 'Sunday']\n\n\ndef get_previous_byday(dayname, start_date=None):\n    if start_date is None:\n        start_date = datetime.today()\n    day_num = start_date.weekday()\n    day_num_target = weekdays.index(dayname)\n    days_ago = (7 + day_num - day_num_target) % 7\n    if days_ago == 0:\n        days_ago = 7\n    target_date = start_date - timedelta(days=days_ago)\n    return target_date"
      ]
    },
    {
      "cell_type": "markdown",
      "metadata": {},
      "source": [
        "\u5728\u4ea4\u4e92\u5f0f\u89e3\u91ca\u5668\u4e2d\u4f7f\u7528\u5982\u4e0b\uff1a"
      ]
    },
    {
      "cell_type": "code",
      "execution_count": null,
      "metadata": {},
      "outputs": [],
      "source": [
        "datetime.today() # For reference"
      ]
    },
    {
      "cell_type": "code",
      "execution_count": null,
      "metadata": {},
      "outputs": [],
      "source": [
        "get_previous_byday('Monday')"
      ]
    },
    {
      "cell_type": "code",
      "execution_count": null,
      "metadata": {},
      "outputs": [],
      "source": [
        "get_previous_byday('Tuesday') # Previous week, not today"
      ]
    },
    {
      "cell_type": "code",
      "execution_count": null,
      "metadata": {},
      "outputs": [],
      "source": [
        "get_previous_byday('Friday')"
      ]
    },
    {
      "cell_type": "markdown",
      "metadata": {},
      "source": [
        "\u53ef\u9009\u7684 start_date \u53c2\u6570\u53ef\u4ee5\u7531\u53e6\u5916\u4e00\u4e2a datetime \u5b9e\u4f8b\u6765\u63d0\u4f9b\u3002\u6bd4\u5982\uff1a"
      ]
    },
    {
      "cell_type": "code",
      "execution_count": null,
      "metadata": {},
      "outputs": [],
      "source": [
        "get_previous_byday('Sunday', datetime(2012, 12, 21))"
      ]
    },
    {
      "cell_type": "markdown",
      "metadata": {},
      "source": [
        "### \u8ba8\u8bba\n"
      ]
    },
    {
      "cell_type": "markdown",
      "metadata": {},
      "source": [
        "\u4e0a\u9762\u7684\u7b97\u6cd5\u539f\u7406\u662f\u8fd9\u6837\u7684\uff1a\u5148\u5c06\u5f00\u59cb\u65e5\u671f\u548c\u76ee\u6807\u65e5\u671f\u6620\u5c04\u5230\u661f\u671f\u6570\u7ec4\u7684\u4f4d\u7f6e\u4e0a(\u661f\u671f\u4e00\u7d22\u5f15\u4e3a0)\uff0c\n\u7136\u540e\u901a\u8fc7\u6a21\u8fd0\u7b97\u8ba1\u7b97\u51fa\u76ee\u6807\u65e5\u671f\u8981\u7ecf\u8fc7\u591a\u5c11\u5929\u624d\u80fd\u5230\u8fbe\u5f00\u59cb\u65e5\u671f\u3002\u7136\u540e\u7528\u5f00\u59cb\u65e5\u671f\u51cf\u53bb\u90a3\u4e2a\u65f6\u95f4\u5dee\u5373\u5f97\u5230\u7ed3\u679c\u65e5\u671f\u3002"
      ]
    },
    {
      "cell_type": "markdown",
      "metadata": {},
      "source": [
        "\u5982\u679c\u4f60\u8981\u50cf\u8fd9\u6837\u6267\u884c\u5927\u91cf\u7684\u65e5\u671f\u8ba1\u7b97\u7684\u8bdd\uff0c\u4f60\u6700\u597d\u5b89\u88c5\u7b2c\u4e09\u65b9\u5305 python-dateutil \u6765\u4ee3\u66ff\u3002\n\u6bd4\u5982\uff0c\u4e0b\u9762\u662f\u662f\u4f7f\u7528 dateutil \u6a21\u5757\u4e2d\u7684 relativedelta() \u51fd\u6570\u6267\u884c\u540c\u6837\u7684\u8ba1\u7b97\uff1a"
      ]
    },
    {
      "cell_type": "code",
      "execution_count": null,
      "metadata": {},
      "outputs": [],
      "source": [
        "from datetime import datetime\nfrom dateutil.relativedelta import relativedelta\nfrom dateutil.rrule import *\nd = datetime.now()\nprint(d)"
      ]
    },
    {
      "cell_type": "code",
      "execution_count": null,
      "metadata": {},
      "outputs": [],
      "source": [
        "# Next Friday\nprint(d + relativedelta(weekday=FR))"
      ]
    },
    {
      "cell_type": "code",
      "execution_count": null,
      "metadata": {},
      "outputs": [],
      "source": [
        "# Last Friday\nprint(d + relativedelta(weekday=FR(-1)))"
      ]
    }
  ],
  "metadata": {
    "kernelspec": {
      "display_name": "Python 3",
      "language": "python",
      "name": "python3"
    },
    "language_info": {
      "codemirror_mode": {
        "name": "ipython",
        "version": 3
      },
      "file_extension": ".py",
      "mimetype": "text/x-python",
      "name": "python",
      "nbconvert_exporter": "python",
      "pygments_lexer": "ipython3",
      "version": "3.7.1"
    },
    "toc": {
      "base_numbering": 1,
      "nav_menu": {},
      "number_sections": true,
      "sideBar": true,
      "skip_h1_title": true,
      "title_cell": "Table of Contents",
      "title_sidebar": "Contents",
      "toc_cell": false,
      "toc_position": {},
      "toc_section_display": true,
      "toc_window_display": true
    }
  },
  "nbformat": 4,
  "nbformat_minor": 2
}