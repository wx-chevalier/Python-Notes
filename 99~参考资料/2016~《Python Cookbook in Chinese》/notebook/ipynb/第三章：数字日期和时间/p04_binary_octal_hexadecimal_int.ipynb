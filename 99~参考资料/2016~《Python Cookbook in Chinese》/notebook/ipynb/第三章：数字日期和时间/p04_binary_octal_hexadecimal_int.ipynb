{
  "cells": [
    {
      "cell_type": "markdown",
      "metadata": {},
      "source": [
        "## 3.4 \u4e8c\u516b\u5341\u516d\u8fdb\u5236\u6574\u6570\n"
      ]
    },
    {
      "cell_type": "markdown",
      "metadata": {},
      "source": [
        "### \u95ee\u9898\n"
      ]
    },
    {
      "cell_type": "markdown",
      "metadata": {},
      "source": [
        "\u4f60\u9700\u8981\u8f6c\u6362\u6216\u8005\u8f93\u51fa\u4f7f\u7528\u4e8c\u8fdb\u5236\uff0c\u516b\u8fdb\u5236\u6216\u5341\u516d\u8fdb\u5236\u8868\u793a\u7684\u6574\u6570\u3002"
      ]
    },
    {
      "cell_type": "markdown",
      "metadata": {},
      "source": [
        "### \u89e3\u51b3\u65b9\u6848\n"
      ]
    },
    {
      "cell_type": "markdown",
      "metadata": {},
      "source": [
        "\u4e3a\u4e86\u5c06\u6574\u6570\u8f6c\u6362\u4e3a\u4e8c\u8fdb\u5236\u3001\u516b\u8fdb\u5236\u6216\u5341\u516d\u8fdb\u5236\u7684\u6587\u672c\u4e32\uff0c\n\u53ef\u4ee5\u5206\u522b\u4f7f\u7528 bin() , oct() \u6216 hex() \u51fd\u6570\uff1a"
      ]
    },
    {
      "cell_type": "code",
      "execution_count": null,
      "metadata": {},
      "outputs": [],
      "source": [
        "x = 1234\nbin(x)"
      ]
    },
    {
      "cell_type": "code",
      "execution_count": null,
      "metadata": {},
      "outputs": [],
      "source": [
        "oct(x)"
      ]
    },
    {
      "cell_type": "code",
      "execution_count": null,
      "metadata": {},
      "outputs": [],
      "source": [
        "hex(x)"
      ]
    },
    {
      "cell_type": "markdown",
      "metadata": {},
      "source": [
        "\u53e6\u5916\uff0c\u5982\u679c\u4f60\u4e0d\u60f3\u8f93\u51fa 0b , 0o \u6216\u8005 0x \u7684\u524d\u7f00\u7684\u8bdd\uff0c\u53ef\u4ee5\u4f7f\u7528 format() \u51fd\u6570\u3002\u6bd4\u5982\uff1a"
      ]
    },
    {
      "cell_type": "code",
      "execution_count": null,
      "metadata": {},
      "outputs": [],
      "source": [
        "format(x, 'b')"
      ]
    },
    {
      "cell_type": "code",
      "execution_count": null,
      "metadata": {},
      "outputs": [],
      "source": [
        "format(x, 'o')"
      ]
    },
    {
      "cell_type": "code",
      "execution_count": null,
      "metadata": {},
      "outputs": [],
      "source": [
        "format(x, 'x')"
      ]
    },
    {
      "cell_type": "markdown",
      "metadata": {},
      "source": [
        "\u6574\u6570\u662f\u6709\u7b26\u53f7\u7684\uff0c\u6240\u4ee5\u5982\u679c\u4f60\u5728\u5904\u7406\u8d1f\u6570\u7684\u8bdd\uff0c\u8f93\u51fa\u7ed3\u679c\u4f1a\u5305\u542b\u4e00\u4e2a\u8d1f\u53f7\u3002\u6bd4\u5982\uff1a"
      ]
    },
    {
      "cell_type": "code",
      "execution_count": null,
      "metadata": {},
      "outputs": [],
      "source": [
        "x = -1234\nformat(x, 'b')"
      ]
    },
    {
      "cell_type": "code",
      "execution_count": null,
      "metadata": {},
      "outputs": [],
      "source": [
        "format(x, 'x')"
      ]
    },
    {
      "cell_type": "markdown",
      "metadata": {},
      "source": [
        "\u5982\u679c\u4f60\u60f3\u4ea7\u751f\u4e00\u4e2a\u65e0\u7b26\u53f7\u503c\uff0c\u4f60\u9700\u8981\u589e\u52a0\u4e00\u4e2a\u6307\u793a\u6700\u5927\u4f4d\u957f\u5ea6\u7684\u503c\u3002\u6bd4\u5982\u4e3a\u4e86\u663e\u793a32\u4f4d\u7684\u503c\uff0c\u53ef\u4ee5\u50cf\u4e0b\u9762\u8fd9\u6837\u5199\uff1a"
      ]
    },
    {
      "cell_type": "code",
      "execution_count": null,
      "metadata": {},
      "outputs": [],
      "source": [
        "x = -1234\nformat(2**32 + x, 'b')"
      ]
    },
    {
      "cell_type": "code",
      "execution_count": null,
      "metadata": {},
      "outputs": [],
      "source": [
        "format(2**32 + x, 'x')"
      ]
    },
    {
      "cell_type": "markdown",
      "metadata": {},
      "source": [
        "\u4e3a\u4e86\u4ee5\u4e0d\u540c\u7684\u8fdb\u5236\u8f6c\u6362\u6574\u6570\u5b57\u7b26\u4e32\uff0c\u7b80\u5355\u7684\u4f7f\u7528\u5e26\u6709\u8fdb\u5236\u7684 int() \u51fd\u6570\u5373\u53ef\uff1a"
      ]
    },
    {
      "cell_type": "code",
      "execution_count": null,
      "metadata": {},
      "outputs": [],
      "source": [
        "int('4d2', 16)"
      ]
    },
    {
      "cell_type": "code",
      "execution_count": null,
      "metadata": {},
      "outputs": [],
      "source": [
        "int('10011010010', 2)"
      ]
    },
    {
      "cell_type": "markdown",
      "metadata": {},
      "source": [
        "### \u8ba8\u8bba\n"
      ]
    },
    {
      "cell_type": "markdown",
      "metadata": {},
      "source": [
        "\u5927\u591a\u6570\u60c5\u51b5\u4e0b\u5904\u7406\u4e8c\u8fdb\u5236\u3001\u516b\u8fdb\u5236\u548c\u5341\u516d\u8fdb\u5236\u6574\u6570\u662f\u5f88\u7b80\u5355\u7684\u3002\n\u53ea\u8981\u8bb0\u4f4f\u8fd9\u4e9b\u8f6c\u6362\u5c5e\u4e8e\u6574\u6570\u548c\u5176\u5bf9\u5e94\u7684\u6587\u672c\u8868\u793a\u4e4b\u95f4\u7684\u8f6c\u6362\u5373\u53ef\u3002\u6c38\u8fdc\u53ea\u6709\u4e00\u79cd\u6574\u6570\u7c7b\u578b\u3002"
      ]
    },
    {
      "cell_type": "markdown",
      "metadata": {},
      "source": [
        "\u6700\u540e\uff0c\u4f7f\u7528\u516b\u8fdb\u5236\u7684\u7a0b\u5e8f\u5458\u6709\u4e00\u70b9\u9700\u8981\u6ce8\u610f\u4e0b\u3002\nPython\u6307\u5b9a\u516b\u8fdb\u5236\u6570\u7684\u8bed\u6cd5\u8ddf\u5176\u4ed6\u8bed\u8a00\u7a0d\u6709\u4e0d\u540c\u3002\u6bd4\u5982\uff0c\u5982\u679c\u4f60\u50cf\u4e0b\u9762\u8fd9\u6837\u6307\u5b9a\u516b\u8fdb\u5236\uff0c\u4f1a\u51fa\u73b0\u8bed\u6cd5\u9519\u8bef\uff1a"
      ]
    },
    {
      "cell_type": "code",
      "execution_count": null,
      "metadata": {},
      "outputs": [],
      "source": [
        "import os\nos.chmod('script.py', 0755)"
      ]
    },
    {
      "cell_type": "markdown",
      "metadata": {},
      "source": [
        "\u9700\u786e\u4fdd\u516b\u8fdb\u5236\u6570\u7684\u524d\u7f00\u662f 0o \uff0c\u5c31\u50cf\u4e0b\u9762\u8fd9\u6837\uff1a"
      ]
    },
    {
      "cell_type": "code",
      "execution_count": null,
      "metadata": {},
      "outputs": [],
      "source": [
        "os.chmod('script.py', 0o755)"
      ]
    }
  ],
  "metadata": {
    "kernelspec": {
      "display_name": "Python 3",
      "language": "python",
      "name": "python3"
    },
    "language_info": {
      "codemirror_mode": {
        "name": "ipython",
        "version": 3
      },
      "file_extension": ".py",
      "mimetype": "text/x-python",
      "name": "python",
      "nbconvert_exporter": "python",
      "pygments_lexer": "ipython3",
      "version": "3.7.1"
    },
    "toc": {
      "base_numbering": 1,
      "nav_menu": {},
      "number_sections": true,
      "sideBar": true,
      "skip_h1_title": true,
      "title_cell": "Table of Contents",
      "title_sidebar": "Contents",
      "toc_cell": false,
      "toc_position": {},
      "toc_section_display": true,
      "toc_window_display": true
    }
  },
  "nbformat": 4,
  "nbformat_minor": 2
}