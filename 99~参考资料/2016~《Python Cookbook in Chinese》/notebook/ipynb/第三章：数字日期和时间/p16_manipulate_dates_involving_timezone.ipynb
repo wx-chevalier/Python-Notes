{
  "cells": [
    {
      "cell_type": "markdown",
      "metadata": {},
      "source": [
        "## 3.16 \u7ed3\u5408\u65f6\u533a\u7684\u65e5\u671f\u64cd\u4f5c\n"
      ]
    },
    {
      "cell_type": "markdown",
      "metadata": {},
      "source": [
        "### \u95ee\u9898\n"
      ]
    },
    {
      "cell_type": "markdown",
      "metadata": {},
      "source": [
        "\u4f60\u6709\u4e00\u4e2a\u5b89\u6392\u57282012\u5e7412\u670821\u65e5\u65e9\u4e0a9:30\u7684\u7535\u8bdd\u4f1a\u8bae\uff0c\u5730\u70b9\u5728\u829d\u52a0\u54e5\u3002\n\u800c\u4f60\u7684\u670b\u53cb\u5728\u5370\u5ea6\u7684\u73ed\u52a0\u7f57\u5c14\uff0c\u90a3\u4e48\u4ed6\u5e94\u8be5\u5728\u5f53\u5730\u65f6\u95f4\u51e0\u70b9\u53c2\u52a0\u8fd9\u4e2a\u4f1a\u8bae\u5462\uff1f"
      ]
    },
    {
      "cell_type": "markdown",
      "metadata": {},
      "source": [
        "### \u89e3\u51b3\u65b9\u6848\n"
      ]
    },
    {
      "cell_type": "markdown",
      "metadata": {},
      "source": [
        "\u5bf9\u51e0\u4e4e\u6240\u6709\u6d89\u53ca\u5230\u65f6\u533a\u7684\u95ee\u9898\uff0c\u4f60\u90fd\u5e94\u8be5\u4f7f\u7528 pytz \u6a21\u5757\u3002\u8fd9\u4e2a\u5305\u63d0\u4f9b\u4e86Olson\u65f6\u533a\u6570\u636e\u5e93\uff0c\n\u5b83\u662f\u65f6\u533a\u4fe1\u606f\u7684\u4e8b\u5b9e\u4e0a\u7684\u6807\u51c6\uff0c\u5728\u5f88\u591a\u8bed\u8a00\u548c\u64cd\u4f5c\u7cfb\u7edf\u91cc\u9762\u90fd\u53ef\u4ee5\u627e\u5230\u3002"
      ]
    },
    {
      "cell_type": "markdown",
      "metadata": {},
      "source": [
        "pytz \u6a21\u5757\u4e00\u4e2a\u4e3b\u8981\u7528\u9014\u662f\u5c06 datetime \u5e93\u521b\u5efa\u7684\u7b80\u5355\u65e5\u671f\u5bf9\u8c61\u672c\u5730\u5316\u3002\n\u6bd4\u5982\uff0c\u4e0b\u9762\u5982\u4f55\u8868\u793a\u4e00\u4e2a\u829d\u52a0\u54e5\u65f6\u95f4\u7684\u793a\u4f8b\uff1a"
      ]
    },
    {
      "cell_type": "code",
      "execution_count": null,
      "metadata": {},
      "outputs": [],
      "source": [
        "from datetime import datetime\nfrom pytz import timezone\nd = datetime(2012, 12, 21, 9, 30, 0)\nprint(d)"
      ]
    },
    {
      "cell_type": "code",
      "execution_count": null,
      "metadata": {},
      "outputs": [],
      "source": [
        "# Localize the date for Chicago\ncentral = timezone('US/Central')\nloc_d = central.localize(d)\nprint(loc_d)"
      ]
    },
    {
      "cell_type": "markdown",
      "metadata": {},
      "source": [
        "\u4e00\u65e6\u65e5\u671f\u88ab\u672c\u5730\u5316\u4e86\uff0c \u5b83\u5c31\u53ef\u4ee5\u8f6c\u6362\u4e3a\u5176\u4ed6\u65f6\u533a\u7684\u65f6\u95f4\u4e86\u3002\n\u4e3a\u4e86\u5f97\u5230\u73ed\u52a0\u7f57\u5c14\u5bf9\u5e94\u7684\u65f6\u95f4\uff0c\u4f60\u53ef\u4ee5\u8fd9\u6837\u505a\uff1a"
      ]
    },
    {
      "cell_type": "code",
      "execution_count": null,
      "metadata": {},
      "outputs": [],
      "source": [
        "# Convert to Bangalore time\nbang_d = loc_d.astimezone(timezone('Asia/Kolkata'))\nprint(bang_d)"
      ]
    },
    {
      "cell_type": "markdown",
      "metadata": {},
      "source": [
        "\u5982\u679c\u4f60\u6253\u7b97\u5728\u672c\u5730\u5316\u65e5\u671f\u4e0a\u6267\u884c\u8ba1\u7b97\uff0c\u4f60\u9700\u8981\u7279\u522b\u6ce8\u610f\u590f\u4ee4\u65f6\u8f6c\u6362\u548c\u5176\u4ed6\u7ec6\u8282\u3002\n\u6bd4\u5982\uff0c\u57282013\u5e74\uff0c\u7f8e\u56fd\u6807\u51c6\u590f\u4ee4\u65f6\u65f6\u95f4\u5f00\u59cb\u4e8e\u672c\u5730\u65f6\u95f43\u670813\u65e5\u51cc\u66682:00(\u5728\u90a3\u65f6\uff0c\u65f6\u95f4\u5411\u524d\u8df3\u8fc7\u4e00\u5c0f\u65f6)\u3002\n\u5982\u679c\u4f60\u6b63\u5728\u6267\u884c\u672c\u5730\u8ba1\u7b97\uff0c\u4f60\u4f1a\u5f97\u5230\u4e00\u4e2a\u9519\u8bef\u3002\u6bd4\u5982\uff1a"
      ]
    },
    {
      "cell_type": "code",
      "execution_count": null,
      "metadata": {},
      "outputs": [],
      "source": [
        "d = datetime(2013, 3, 10, 1, 45)\nloc_d = central.localize(d)\nprint(loc_d)"
      ]
    },
    {
      "cell_type": "code",
      "execution_count": null,
      "metadata": {},
      "outputs": [],
      "source": [
        "later = loc_d + timedelta(minutes=30)\nprint(later)"
      ]
    },
    {
      "cell_type": "markdown",
      "metadata": {},
      "source": [
        "\u7ed3\u679c\u9519\u8bef\u662f\u56e0\u4e3a\u5b83\u5e76\u6ca1\u6709\u8003\u8651\u5728\u672c\u5730\u65f6\u95f4\u4e2d\u6709\u4e00\u5c0f\u65f6\u7684\u8df3\u8dc3\u3002\n\u4e3a\u4e86\u4fee\u6b63\u8fd9\u4e2a\u9519\u8bef\uff0c\u53ef\u4ee5\u4f7f\u7528\u65f6\u533a\u5bf9\u8c61 normalize() \u65b9\u6cd5\u3002\u6bd4\u5982\uff1a"
      ]
    },
    {
      "cell_type": "code",
      "execution_count": null,
      "metadata": {},
      "outputs": [],
      "source": [
        "from datetime import timedelta\nlater = central.normalize(loc_d + timedelta(minutes=30))\nprint(later)"
      ]
    },
    {
      "cell_type": "markdown",
      "metadata": {},
      "source": [
        "### \u8ba8\u8bba\n"
      ]
    },
    {
      "cell_type": "markdown",
      "metadata": {},
      "source": [
        "\u4e3a\u4e86\u4e0d\u8ba9\u4f60\u88ab\u8fd9\u4e9b\u4e1c\u4e1c\u5f04\u7684\u6655\u5934\u8f6c\u5411\uff0c\u5904\u7406\u672c\u5730\u5316\u65e5\u671f\u7684\u901a\u5e38\u7684\u7b56\u7565\u5148\u5c06\u6240\u6709\u65e5\u671f\u8f6c\u6362\u4e3aUTC\u65f6\u95f4\uff0c\n\u5e76\u7528\u5b83\u6765\u6267\u884c\u6240\u6709\u7684\u4e2d\u95f4\u5b58\u50a8\u548c\u64cd\u4f5c\u3002\u6bd4\u5982\uff1a"
      ]
    },
    {
      "cell_type": "code",
      "execution_count": null,
      "metadata": {},
      "outputs": [],
      "source": [
        "print(loc_d)"
      ]
    },
    {
      "cell_type": "code",
      "execution_count": null,
      "metadata": {},
      "outputs": [],
      "source": [
        "utc_d = loc_d.astimezone(pytz.utc)\nprint(utc_d)"
      ]
    },
    {
      "cell_type": "markdown",
      "metadata": {},
      "source": [
        "\u4e00\u65e6\u8f6c\u6362\u4e3aUTC\uff0c\u4f60\u5c31\u4e0d\u7528\u53bb\u62c5\u5fc3\u8ddf\u590f\u4ee4\u65f6\u76f8\u5173\u7684\u95ee\u9898\u4e86\u3002\n\u56e0\u6b64\uff0c\u4f60\u53ef\u4ee5\u8ddf\u4e4b\u524d\u4e00\u6837\u653e\u5fc3\u7684\u6267\u884c\u5e38\u89c1\u7684\u65e5\u671f\u8ba1\u7b97\u3002\n\u5f53\u4f60\u60f3\u5c06\u8f93\u51fa\u53d8\u4e3a\u672c\u5730\u65f6\u95f4\u7684\u65f6\u5019\uff0c\u4f7f\u7528\u5408\u9002\u7684\u65f6\u533a\u53bb\u8f6c\u6362\u4e0b\u5c31\u884c\u4e86\u3002\u6bd4\u5982\uff1a"
      ]
    },
    {
      "cell_type": "code",
      "execution_count": null,
      "metadata": {},
      "outputs": [],
      "source": [
        "later_utc = utc_d + timedelta(minutes=30)\nprint(later_utc.astimezone(central))"
      ]
    },
    {
      "cell_type": "markdown",
      "metadata": {},
      "source": [
        "\u5f53\u6d89\u53ca\u5230\u65f6\u533a\u64cd\u4f5c\u7684\u65f6\u5019\uff0c\u6709\u4e2a\u95ee\u9898\u5c31\u662f\u6211\u4eec\u5982\u4f55\u5f97\u5230\u65f6\u533a\u7684\u540d\u79f0\u3002\n\u6bd4\u5982\uff0c\u5728\u8fd9\u4e2a\u4f8b\u5b50\u4e2d\uff0c\u6211\u4eec\u5982\u4f55\u77e5\u9053\u201cAsia/Kolkata\u201d\u5c31\u662f\u5370\u5ea6\u5bf9\u5e94\u7684\u65f6\u533a\u540d\u5462\uff1f\n\u4e3a\u4e86\u67e5\u627e\uff0c\u53ef\u4ee5\u4f7f\u7528ISO 3166\u56fd\u5bb6\u4ee3\u7801\u4f5c\u4e3a\u5173\u952e\u5b57\u53bb\u67e5\u9605\u5b57\u5178 pytz.country_timezones \u3002\u6bd4\u5982\uff1a"
      ]
    },
    {
      "cell_type": "code",
      "execution_count": null,
      "metadata": {},
      "outputs": [],
      "source": [
        "pytz.country_timezones['IN']"
      ]
    },
    {
      "cell_type": "markdown",
      "metadata": {},
      "source": [
        "\u6ce8\uff1a\u5f53\u4f60\u9605\u8bfb\u5230\u8fd9\u91cc\u7684\u65f6\u5019\uff0c\u6709\u53ef\u80fd pytz \u6a21\u5757\u5df2\u7ecf\u4e0d\u518d\u5efa\u8bae\u4f7f\u7528\u4e86\uff0c\u56e0\u4e3aPEP431\u63d0\u51fa\u4e86\u66f4\u5148\u8fdb\u7684\u65f6\u533a\u652f\u6301\u3002\n\u4f46\u662f\u8fd9\u91cc\u8c08\u5230\u7684\u5f88\u591a\u95ee\u9898\u8fd8\u662f\u6709\u53c2\u8003\u4ef7\u503c\u7684(\u6bd4\u5982\u4f7f\u7528UTC\u65e5\u671f\u7684\u5efa\u8bae\u7b49)\u3002"
      ]
    }
  ],
  "metadata": {
    "kernelspec": {
      "display_name": "Python 3",
      "language": "python",
      "name": "python3"
    },
    "language_info": {
      "codemirror_mode": {
        "name": "ipython",
        "version": 3
      },
      "file_extension": ".py",
      "mimetype": "text/x-python",
      "name": "python",
      "nbconvert_exporter": "python",
      "pygments_lexer": "ipython3",
      "version": "3.7.1"
    },
    "toc": {
      "base_numbering": 1,
      "nav_menu": {},
      "number_sections": true,
      "sideBar": true,
      "skip_h1_title": true,
      "title_cell": "Table of Contents",
      "title_sidebar": "Contents",
      "toc_cell": false,
      "toc_position": {},
      "toc_section_display": true,
      "toc_window_display": true
    }
  },
  "nbformat": 4,
  "nbformat_minor": 2
}