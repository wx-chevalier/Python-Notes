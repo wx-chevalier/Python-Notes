{
  "cells": [
    {
      "cell_type": "markdown",
      "metadata": {},
      "source": [
        "## 3.10 \u77e9\u9635\u4e0e\u7ebf\u6027\u4ee3\u6570\u8fd0\u7b97\n"
      ]
    },
    {
      "cell_type": "markdown",
      "metadata": {},
      "source": [
        "### \u95ee\u9898\n"
      ]
    },
    {
      "cell_type": "markdown",
      "metadata": {},
      "source": [
        "\u4f60\u9700\u8981\u6267\u884c\u77e9\u9635\u548c\u7ebf\u6027\u4ee3\u6570\u8fd0\u7b97\uff0c\u6bd4\u5982\u77e9\u9635\u4e58\u6cd5\u3001\u5bfb\u627e\u884c\u5217\u5f0f\u3001\u6c42\u89e3\u7ebf\u6027\u65b9\u7a0b\u7ec4\u7b49\u7b49\u3002"
      ]
    },
    {
      "cell_type": "markdown",
      "metadata": {},
      "source": [
        "### \u89e3\u51b3\u65b9\u6848\n"
      ]
    },
    {
      "cell_type": "markdown",
      "metadata": {},
      "source": [
        "\u77e9\u9635\u7c7b\u4f3c\u4e8e3.9\u5c0f\u8282\u4e2d\u6570\u7ec4\u5bf9\u8c61\uff0c\u4f46\u662f\u9075\u5faa\u7ebf\u6027\u4ee3\u6570\u7684\u8ba1\u7b97\u89c4\u5219\u3002\u4e0b\u9762\u7684\u4e00\u4e2a\u4f8b\u5b50\u5c55\u793a\u4e86\u77e9\u9635\u7684\u4e00\u4e9b\u57fa\u672c\u7279\u6027\uff1a"
      ]
    },
    {
      "cell_type": "code",
      "execution_count": null,
      "metadata": {},
      "outputs": [],
      "source": [
        "import numpy as np\nm = np.matrix([[1,-2,3],[0,4,5],[7,8,-9]])\nm"
      ]
    },
    {
      "cell_type": "code",
      "execution_count": null,
      "metadata": {},
      "outputs": [],
      "source": [
        "# Return transpose\nm.T"
      ]
    },
    {
      "cell_type": "code",
      "execution_count": null,
      "metadata": {},
      "outputs": [],
      "source": [
        "# Return inverse\nm.I"
      ]
    },
    {
      "cell_type": "code",
      "execution_count": null,
      "metadata": {},
      "outputs": [],
      "source": [
        "# Create a vector and multiply\nv = np.matrix([[2],[3],[4]])\nv"
      ]
    },
    {
      "cell_type": "code",
      "execution_count": null,
      "metadata": {},
      "outputs": [],
      "source": [
        "m * v"
      ]
    },
    {
      "cell_type": "markdown",
      "metadata": {},
      "source": [
        "\u53ef\u4ee5\u5728 numpy.linalg \u5b50\u5305\u4e2d\u627e\u5230\u66f4\u591a\u7684\u64cd\u4f5c\u51fd\u6570\uff0c\u6bd4\u5982\uff1a"
      ]
    },
    {
      "cell_type": "code",
      "execution_count": null,
      "metadata": {},
      "outputs": [],
      "source": [
        "import numpy.linalg"
      ]
    },
    {
      "cell_type": "code",
      "execution_count": null,
      "metadata": {},
      "outputs": [],
      "source": [
        "# Determinant\nnumpy.linalg.det(m)"
      ]
    },
    {
      "cell_type": "code",
      "execution_count": null,
      "metadata": {},
      "outputs": [],
      "source": [
        "# Eigenvalues\nnumpy.linalg.eigvals(m)"
      ]
    },
    {
      "cell_type": "code",
      "execution_count": null,
      "metadata": {},
      "outputs": [],
      "source": [
        "# Solve for x in mx = v\nx = numpy.linalg.solve(m, v)\nx"
      ]
    },
    {
      "cell_type": "code",
      "execution_count": null,
      "metadata": {},
      "outputs": [],
      "source": [
        "m * x"
      ]
    },
    {
      "cell_type": "code",
      "execution_count": null,
      "metadata": {},
      "outputs": [],
      "source": [
        "v"
      ]
    },
    {
      "cell_type": "markdown",
      "metadata": {},
      "source": [
        "### \u8ba8\u8bba\n"
      ]
    },
    {
      "cell_type": "markdown",
      "metadata": {},
      "source": [
        "\u5f88\u663e\u7136\u7ebf\u6027\u4ee3\u6570\u662f\u4e2a\u975e\u5e38\u5927\u7684\u4e3b\u9898\uff0c\u5df2\u7ecf\u8d85\u51fa\u4e86\u672c\u4e66\u80fd\u8ba8\u8bba\u7684\u8303\u56f4\u3002\n\u4f46\u662f\uff0c\u5982\u679c\u4f60\u9700\u8981\u64cd\u4f5c\u6570\u7ec4\u548c\u5411\u91cf\u7684\u8bdd\uff0c NumPy \u662f\u4e00\u4e2a\u4e0d\u9519\u7684\u5165\u53e3\u70b9\u3002\n\u53ef\u4ee5\u8bbf\u95ee NumPy \u5b98\u7f51 http://www.numpy.org \u83b7\u53d6\u66f4\u591a\u4fe1\u606f\u3002"
      ]
    }
  ],
  "metadata": {
    "kernelspec": {
      "display_name": "Python 3",
      "language": "python",
      "name": "python3"
    },
    "language_info": {
      "codemirror_mode": {
        "name": "ipython",
        "version": 3
      },
      "file_extension": ".py",
      "mimetype": "text/x-python",
      "name": "python",
      "nbconvert_exporter": "python",
      "pygments_lexer": "ipython3",
      "version": "3.7.1"
    },
    "toc": {
      "base_numbering": 1,
      "nav_menu": {},
      "number_sections": true,
      "sideBar": true,
      "skip_h1_title": true,
      "title_cell": "Table of Contents",
      "title_sidebar": "Contents",
      "toc_cell": false,
      "toc_position": {},
      "toc_section_display": true,
      "toc_window_display": true
    }
  },
  "nbformat": 4,
  "nbformat_minor": 2
}