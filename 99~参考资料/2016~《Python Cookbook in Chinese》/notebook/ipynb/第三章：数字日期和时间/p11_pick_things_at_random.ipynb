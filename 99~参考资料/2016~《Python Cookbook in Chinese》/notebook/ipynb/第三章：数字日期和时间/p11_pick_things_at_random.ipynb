{
  "cells": [
    {
      "cell_type": "markdown",
      "metadata": {},
      "source": [
        "## 3.11 \u968f\u673a\u9009\u62e9\n"
      ]
    },
    {
      "cell_type": "markdown",
      "metadata": {},
      "source": [
        "### \u95ee\u9898\n"
      ]
    },
    {
      "cell_type": "markdown",
      "metadata": {},
      "source": [
        "\u4f60\u60f3\u4ece\u4e00\u4e2a\u5e8f\u5217\u4e2d\u968f\u673a\u62bd\u53d6\u82e5\u5e72\u5143\u7d20\uff0c\u6216\u8005\u60f3\u751f\u6210\u51e0\u4e2a\u968f\u673a\u6570\u3002"
      ]
    },
    {
      "cell_type": "markdown",
      "metadata": {},
      "source": [
        "### \u89e3\u51b3\u65b9\u6848\n"
      ]
    },
    {
      "cell_type": "markdown",
      "metadata": {},
      "source": [
        "random \u6a21\u5757\u6709\u5927\u91cf\u7684\u51fd\u6570\u7528\u6765\u4ea7\u751f\u968f\u673a\u6570\u548c\u968f\u673a\u9009\u62e9\u5143\u7d20\u3002\n\u6bd4\u5982\uff0c\u8981\u60f3\u4ece\u4e00\u4e2a\u5e8f\u5217\u4e2d\u968f\u673a\u7684\u62bd\u53d6\u4e00\u4e2a\u5143\u7d20\uff0c\u53ef\u4ee5\u4f7f\u7528 random.choice() \uff1a"
      ]
    },
    {
      "cell_type": "code",
      "execution_count": null,
      "metadata": {},
      "outputs": [],
      "source": [
        "import random\nvalues = [1, 2, 3, 4, 5, 6]\nrandom.choice(values)"
      ]
    },
    {
      "cell_type": "code",
      "execution_count": null,
      "metadata": {},
      "outputs": [],
      "source": [
        "random.choice(values)"
      ]
    },
    {
      "cell_type": "code",
      "execution_count": null,
      "metadata": {},
      "outputs": [],
      "source": [
        "random.choice(values)"
      ]
    },
    {
      "cell_type": "code",
      "execution_count": null,
      "metadata": {},
      "outputs": [],
      "source": [
        "random.choice(values)"
      ]
    },
    {
      "cell_type": "code",
      "execution_count": null,
      "metadata": {},
      "outputs": [],
      "source": [
        "random.choice(values)"
      ]
    },
    {
      "cell_type": "markdown",
      "metadata": {},
      "source": [
        "\u4e3a\u4e86\u63d0\u53d6\u51faN\u4e2a\u4e0d\u540c\u5143\u7d20\u7684\u6837\u672c\u7528\u6765\u505a\u8fdb\u4e00\u6b65\u7684\u64cd\u4f5c\uff0c\u53ef\u4ee5\u4f7f\u7528 random.sample() \uff1a"
      ]
    },
    {
      "cell_type": "code",
      "execution_count": null,
      "metadata": {},
      "outputs": [],
      "source": [
        "random.sample(values, 2)"
      ]
    },
    {
      "cell_type": "code",
      "execution_count": null,
      "metadata": {},
      "outputs": [],
      "source": [
        "random.sample(values, 2)"
      ]
    },
    {
      "cell_type": "code",
      "execution_count": null,
      "metadata": {},
      "outputs": [],
      "source": [
        "random.sample(values, 3)"
      ]
    },
    {
      "cell_type": "code",
      "execution_count": null,
      "metadata": {},
      "outputs": [],
      "source": [
        "random.sample(values, 3)"
      ]
    },
    {
      "cell_type": "markdown",
      "metadata": {},
      "source": [
        "\u5982\u679c\u4f60\u4ec5\u4ec5\u53ea\u662f\u60f3\u6253\u4e71\u5e8f\u5217\u4e2d\u5143\u7d20\u7684\u987a\u5e8f\uff0c\u53ef\u4ee5\u4f7f\u7528 random.shuffle() \uff1a"
      ]
    },
    {
      "cell_type": "code",
      "execution_count": null,
      "metadata": {},
      "outputs": [],
      "source": [
        "random.shuffle(values)\nvalues"
      ]
    },
    {
      "cell_type": "code",
      "execution_count": null,
      "metadata": {},
      "outputs": [],
      "source": [
        "random.shuffle(values)\nvalues"
      ]
    },
    {
      "cell_type": "markdown",
      "metadata": {},
      "source": [
        "\u751f\u6210\u968f\u673a\u6574\u6570\uff0c\u8bf7\u4f7f\u7528 random.randint() \uff1a"
      ]
    },
    {
      "cell_type": "code",
      "execution_count": null,
      "metadata": {},
      "outputs": [],
      "source": [
        "random.randint(0,10)"
      ]
    },
    {
      "cell_type": "code",
      "execution_count": null,
      "metadata": {},
      "outputs": [],
      "source": [
        "random.randint(0,10)"
      ]
    },
    {
      "cell_type": "code",
      "execution_count": null,
      "metadata": {},
      "outputs": [],
      "source": [
        "random.randint(0,10)"
      ]
    },
    {
      "cell_type": "code",
      "execution_count": null,
      "metadata": {},
      "outputs": [],
      "source": [
        "random.randint(0,10)"
      ]
    },
    {
      "cell_type": "code",
      "execution_count": null,
      "metadata": {},
      "outputs": [],
      "source": [
        "random.randint(0,10)"
      ]
    },
    {
      "cell_type": "code",
      "execution_count": null,
      "metadata": {},
      "outputs": [],
      "source": [
        "random.randint(0,10)"
      ]
    },
    {
      "cell_type": "markdown",
      "metadata": {},
      "source": [
        "\u4e3a\u4e86\u751f\u62100\u52301\u8303\u56f4\u5185\u5747\u5300\u5206\u5e03\u7684\u6d6e\u70b9\u6570\uff0c\u4f7f\u7528 random.random() \uff1a"
      ]
    },
    {
      "cell_type": "code",
      "execution_count": null,
      "metadata": {},
      "outputs": [],
      "source": [
        "random.random()"
      ]
    },
    {
      "cell_type": "code",
      "execution_count": null,
      "metadata": {},
      "outputs": [],
      "source": [
        "random.random()"
      ]
    },
    {
      "cell_type": "code",
      "execution_count": null,
      "metadata": {},
      "outputs": [],
      "source": [
        "random.random()"
      ]
    },
    {
      "cell_type": "markdown",
      "metadata": {},
      "source": [
        "\u5982\u679c\u8981\u83b7\u53d6N\u4f4d\u968f\u673a\u4f4d(\u4e8c\u8fdb\u5236)\u7684\u6574\u6570\uff0c\u4f7f\u7528 random.getrandbits() \uff1a"
      ]
    },
    {
      "cell_type": "code",
      "execution_count": null,
      "metadata": {},
      "outputs": [],
      "source": [
        "random.getrandbits(200)"
      ]
    },
    {
      "cell_type": "markdown",
      "metadata": {},
      "source": [
        "### \u8ba8\u8bba\n"
      ]
    },
    {
      "cell_type": "markdown",
      "metadata": {},
      "source": [
        "random \u6a21\u5757\u4f7f\u7528 Mersenne Twister \u7b97\u6cd5\u6765\u8ba1\u7b97\u751f\u6210\u968f\u673a\u6570\u3002\u8fd9\u662f\u4e00\u4e2a\u786e\u5b9a\u6027\u7b97\u6cd5\uff0c\n\u4f46\u662f\u4f60\u53ef\u4ee5\u901a\u8fc7 random.seed() \u51fd\u6570\u4fee\u6539\u521d\u59cb\u5316\u79cd\u5b50\u3002\u6bd4\u5982\uff1a"
      ]
    },
    {
      "cell_type": "code",
      "execution_count": null,
      "metadata": {},
      "outputs": [],
      "source": [
        "random.seed() # Seed based on system time or os.urandom()\nrandom.seed(12345) # Seed based on integer given\nrandom.seed(b'bytedata') # Seed based on byte data"
      ]
    },
    {
      "cell_type": "markdown",
      "metadata": {},
      "source": [
        "\u9664\u4e86\u4e0a\u8ff0\u4ecb\u7ecd\u7684\u529f\u80fd\uff0crandom\u6a21\u5757\u8fd8\u5305\u542b\u57fa\u4e8e\u5747\u5300\u5206\u5e03\u3001\u9ad8\u65af\u5206\u5e03\u548c\u5176\u4ed6\u5206\u5e03\u7684\u968f\u673a\u6570\u751f\u6210\u51fd\u6570\u3002\n\u6bd4\u5982\uff0c random.uniform() \u8ba1\u7b97\u5747\u5300\u5206\u5e03\u968f\u673a\u6570\uff0c random.gauss() \u8ba1\u7b97\u6b63\u6001\u5206\u5e03\u968f\u673a\u6570\u3002\n\u5bf9\u4e8e\u5176\u4ed6\u7684\u5206\u5e03\u60c5\u51b5\u8bf7\u53c2\u8003\u5728\u7ebf\u6587\u6863\u3002"
      ]
    },
    {
      "cell_type": "markdown",
      "metadata": {},
      "source": [
        "\u5728 random \u6a21\u5757\u4e2d\u7684\u51fd\u6570\u4e0d\u5e94\u8be5\u7528\u5728\u548c\u5bc6\u7801\u5b66\u76f8\u5173\u7684\u7a0b\u5e8f\u4e2d\u3002\n\u5982\u679c\u4f60\u786e\u5b9e\u9700\u8981\u7c7b\u4f3c\u7684\u529f\u80fd\uff0c\u53ef\u4ee5\u4f7f\u7528ssl\u6a21\u5757\u4e2d\u76f8\u5e94\u7684\u51fd\u6570\u3002\n\u6bd4\u5982\uff0c ssl.RAND_bytes() \u53ef\u4ee5\u7528\u6765\u751f\u6210\u4e00\u4e2a\u5b89\u5168\u7684\u968f\u673a\u5b57\u8282\u5e8f\u5217\u3002"
      ]
    }
  ],
  "metadata": {
    "kernelspec": {
      "display_name": "Python 3",
      "language": "python",
      "name": "python3"
    },
    "language_info": {
      "codemirror_mode": {
        "name": "ipython",
        "version": 3
      },
      "file_extension": ".py",
      "mimetype": "text/x-python",
      "name": "python",
      "nbconvert_exporter": "python",
      "pygments_lexer": "ipython3",
      "version": "3.7.1"
    },
    "toc": {
      "base_numbering": 1,
      "nav_menu": {},
      "number_sections": true,
      "sideBar": true,
      "skip_h1_title": true,
      "title_cell": "Table of Contents",
      "title_sidebar": "Contents",
      "toc_cell": false,
      "toc_position": {},
      "toc_section_display": true,
      "toc_window_display": true
    }
  },
  "nbformat": 4,
  "nbformat_minor": 2
}