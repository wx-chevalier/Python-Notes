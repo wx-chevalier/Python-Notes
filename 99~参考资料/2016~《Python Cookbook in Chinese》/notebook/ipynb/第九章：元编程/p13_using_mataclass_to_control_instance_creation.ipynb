{
  "cells": [
    {
      "cell_type": "markdown",
      "metadata": {},
      "source": [
        "## 9.13 \u4f7f\u7528\u5143\u7c7b\u63a7\u5236\u5b9e\u4f8b\u7684\u521b\u5efa\n"
      ]
    },
    {
      "cell_type": "markdown",
      "metadata": {},
      "source": [
        "### \u95ee\u9898\n"
      ]
    },
    {
      "cell_type": "markdown",
      "metadata": {},
      "source": [
        "\u4f60\u60f3\u901a\u8fc7\u6539\u53d8\u5b9e\u4f8b\u521b\u5efa\u65b9\u5f0f\u6765\u5b9e\u73b0\u5355\u4f8b\u3001\u7f13\u5b58\u6216\u5176\u4ed6\u7c7b\u4f3c\u7684\u7279\u6027\u3002"
      ]
    },
    {
      "cell_type": "markdown",
      "metadata": {},
      "source": [
        "### \u89e3\u51b3\u65b9\u6848\n"
      ]
    },
    {
      "cell_type": "markdown",
      "metadata": {},
      "source": [
        "Python\u7a0b\u5e8f\u5458\u90fd\u77e5\u9053\uff0c\u5982\u679c\u4f60\u5b9a\u4e49\u4e86\u4e00\u4e2a\u7c7b\uff0c\u5c31\u80fd\u50cf\u51fd\u6570\u4e00\u6837\u7684\u8c03\u7528\u5b83\u6765\u521b\u5efa\u5b9e\u4f8b\uff0c\u4f8b\u5982\uff1a"
      ]
    },
    {
      "cell_type": "code",
      "execution_count": null,
      "metadata": {},
      "outputs": [],
      "source": [
        "class Spam:\n    def __init__(self, name):\n        self.name = name\n\na = Spam('Guido')\nb = Spam('Diana')"
      ]
    },
    {
      "cell_type": "markdown",
      "metadata": {},
      "source": [
        "\u5982\u679c\u4f60\u60f3\u81ea\u5b9a\u4e49\u8fd9\u4e2a\u6b65\u9aa4\uff0c\u4f60\u53ef\u4ee5\u5b9a\u4e49\u4e00\u4e2a\u5143\u7c7b\u5e76\u81ea\u5df1\u5b9e\u73b0 __call__() \u65b9\u6cd5\u3002"
      ]
    },
    {
      "cell_type": "markdown",
      "metadata": {},
      "source": [
        "\u4e3a\u4e86\u6f14\u793a\uff0c\u5047\u8bbe\u4f60\u4e0d\u60f3\u4efb\u4f55\u4eba\u521b\u5efa\u8fd9\u4e2a\u7c7b\u7684\u5b9e\u4f8b\uff1a"
      ]
    },
    {
      "cell_type": "code",
      "execution_count": null,
      "metadata": {},
      "outputs": [],
      "source": [
        "class NoInstances(type):\n    def __call__(self, *args, **kwargs):\n        raise TypeError(\"Can't instantiate directly\")\n\n# Example\nclass Spam(metaclass=NoInstances):\n    @staticmethod\n    def grok(x):\n        print('Spam.grok')"
      ]
    },
    {
      "cell_type": "markdown",
      "metadata": {},
      "source": [
        "\u8fd9\u6837\u7684\u8bdd\uff0c\u7528\u6237\u53ea\u80fd\u8c03\u7528\u8fd9\u4e2a\u7c7b\u7684\u9759\u6001\u65b9\u6cd5\uff0c\u800c\u4e0d\u80fd\u4f7f\u7528\u901a\u5e38\u7684\u65b9\u6cd5\u6765\u521b\u5efa\u5b83\u7684\u5b9e\u4f8b\u3002\u4f8b\u5982\uff1a"
      ]
    },
    {
      "cell_type": "code",
      "execution_count": null,
      "metadata": {},
      "outputs": [],
      "source": [
        "Spam.grok(42)"
      ]
    },
    {
      "cell_type": "code",
      "execution_count": null,
      "metadata": {},
      "outputs": [],
      "source": [
        "s = Spam()"
      ]
    },
    {
      "cell_type": "markdown",
      "metadata": {},
      "source": [
        "\u73b0\u5728\uff0c\u5047\u5982\u4f60\u60f3\u5b9e\u73b0\u5355\u4f8b\u6a21\u5f0f\uff08\u53ea\u80fd\u521b\u5efa\u552f\u4e00\u5b9e\u4f8b\u7684\u7c7b\uff09\uff0c\u5b9e\u73b0\u8d77\u6765\u4e5f\u5f88\u7b80\u5355\uff1a"
      ]
    },
    {
      "cell_type": "code",
      "execution_count": null,
      "metadata": {},
      "outputs": [],
      "source": [
        "class Singleton(type):\n    def __init__(self, *args, **kwargs):\n        self.__instance = None\n        super().__init__(*args, **kwargs)\n\n    def __call__(self, *args, **kwargs):\n        if self.__instance is None:\n            self.__instance = super().__call__(*args, **kwargs)\n            return self.__instance\n        else:\n            return self.__instance\n\n# Example\nclass Spam(metaclass=Singleton):\n    def __init__(self):\n        print('Creating Spam')"
      ]
    },
    {
      "cell_type": "markdown",
      "metadata": {},
      "source": [
        "\u90a3\u4e48Spam\u7c7b\u5c31\u53ea\u80fd\u521b\u5efa\u552f\u4e00\u7684\u5b9e\u4f8b\u4e86\uff0c\u6f14\u793a\u5982\u4e0b\uff1a"
      ]
    },
    {
      "cell_type": "code",
      "execution_count": null,
      "metadata": {},
      "outputs": [],
      "source": [
        "a = Spam()"
      ]
    },
    {
      "cell_type": "code",
      "execution_count": null,
      "metadata": {},
      "outputs": [],
      "source": [
        "b = Spam()\na is b"
      ]
    },
    {
      "cell_type": "code",
      "execution_count": null,
      "metadata": {},
      "outputs": [],
      "source": [
        "c = Spam()\na is c"
      ]
    },
    {
      "cell_type": "markdown",
      "metadata": {},
      "source": [
        "\u6700\u540e\uff0c\u5047\u8bbe\u4f60\u60f3\u521b\u5efa8.25\u5c0f\u8282\u4e2d\u90a3\u6837\u7684\u7f13\u5b58\u5b9e\u4f8b\u3002\u4e0b\u9762\u6211\u4eec\u53ef\u4ee5\u901a\u8fc7\u5143\u7c7b\u6765\u5b9e\u73b0\uff1a"
      ]
    },
    {
      "cell_type": "code",
      "execution_count": null,
      "metadata": {},
      "outputs": [],
      "source": [
        "import weakref\n\nclass Cached(type):\n    def __init__(self, *args, **kwargs):\n        super().__init__(*args, **kwargs)\n        self.__cache = weakref.WeakValueDictionary()\n\n    def __call__(self, *args):\n        if args in self.__cache:\n            return self.__cache[args]\n        else:\n            obj = super().__call__(*args)\n            self.__cache[args] = obj\n            return obj\n\n# Example\nclass Spam(metaclass=Cached):\n    def __init__(self, name):\n        print('Creating Spam({!r})'.format(name))\n        self.name = name"
      ]
    },
    {
      "cell_type": "markdown",
      "metadata": {},
      "source": [
        "\u7136\u540e\u6211\u4e5f\u6765\u6d4b\u8bd5\u4e00\u4e0b\uff1a"
      ]
    },
    {
      "cell_type": "code",
      "execution_count": null,
      "metadata": {},
      "outputs": [],
      "source": [
        "a = Spam('Guido')"
      ]
    },
    {
      "cell_type": "code",
      "execution_count": null,
      "metadata": {},
      "outputs": [],
      "source": [
        "b = Spam('Diana')"
      ]
    },
    {
      "cell_type": "code",
      "execution_count": null,
      "metadata": {},
      "outputs": [],
      "source": [
        "c = Spam('Guido') # Cached\na is b"
      ]
    },
    {
      "cell_type": "code",
      "execution_count": null,
      "metadata": {},
      "outputs": [],
      "source": [
        "a is c # Cached value returned"
      ]
    },
    {
      "cell_type": "markdown",
      "metadata": {},
      "source": [
        "### \u8ba8\u8bba\n"
      ]
    },
    {
      "cell_type": "markdown",
      "metadata": {},
      "source": [
        "\u5229\u7528\u5143\u7c7b\u5b9e\u73b0\u591a\u79cd\u5b9e\u4f8b\u521b\u5efa\u6a21\u5f0f\u901a\u5e38\u8981\u6bd4\u4e0d\u4f7f\u7528\u5143\u7c7b\u7684\u65b9\u5f0f\u4f18\u96c5\u5f97\u591a\u3002"
      ]
    },
    {
      "cell_type": "markdown",
      "metadata": {},
      "source": [
        "\u5047\u8bbe\u4f60\u4e0d\u4f7f\u7528\u5143\u7c7b\uff0c\u4f60\u53ef\u80fd\u9700\u8981\u5c06\u7c7b\u9690\u85cf\u5728\u67d0\u4e9b\u5de5\u5382\u51fd\u6570\u540e\u9762\u3002\n\u6bd4\u5982\u4e3a\u4e86\u5b9e\u73b0\u4e00\u4e2a\u5355\u4f8b\uff0c\u4f60\u4f60\u53ef\u80fd\u4f1a\u50cf\u4e0b\u9762\u8fd9\u6837\u5199\uff1a"
      ]
    },
    {
      "cell_type": "code",
      "execution_count": null,
      "metadata": {},
      "outputs": [],
      "source": [
        "class _Spam:\n    def __init__(self):\n        print('Creating Spam')\n\n_spam_instance = None\n\ndef Spam():\n    global _spam_instance\n\n    if _spam_instance is not None:\n        return _spam_instance\n    else:\n        _spam_instance = _Spam()\n        return _spam_instance"
      ]
    },
    {
      "cell_type": "markdown",
      "metadata": {},
      "source": [
        "\u5c3d\u7ba1\u4f7f\u7528\u5143\u7c7b\u53ef\u80fd\u4f1a\u6d89\u53ca\u5230\u6bd4\u8f83\u9ad8\u7ea7\u70b9\u7684\u6280\u672f\uff0c\u4f46\u662f\u5b83\u7684\u4ee3\u7801\u770b\u8d77\u6765\u4f1a\u66f4\u52a0\u7b80\u6d01\u8212\u670d\uff0c\u800c\u4e14\u4e5f\u66f4\u52a0\u76f4\u89c2\u3002"
      ]
    },
    {
      "cell_type": "markdown",
      "metadata": {},
      "source": [
        "\u66f4\u591a\u5173\u4e8e\u521b\u5efa\u7f13\u5b58\u5b9e\u4f8b\u3001\u5f31\u5f15\u7528\u7b49\u5185\u5bb9\uff0c\u8bf7\u53c2\u80038.25\u5c0f\u8282\u3002"
      ]
    }
  ],
  "metadata": {
    "kernelspec": {
      "display_name": "Python 3",
      "language": "python",
      "name": "python3"
    },
    "language_info": {
      "codemirror_mode": {
        "name": "ipython",
        "version": 3
      },
      "file_extension": ".py",
      "mimetype": "text/x-python",
      "name": "python",
      "nbconvert_exporter": "python",
      "pygments_lexer": "ipython3",
      "version": "3.7.1"
    },
    "toc": {
      "base_numbering": 1,
      "nav_menu": {},
      "number_sections": true,
      "sideBar": true,
      "skip_h1_title": true,
      "title_cell": "Table of Contents",
      "title_sidebar": "Contents",
      "toc_cell": false,
      "toc_position": {},
      "toc_section_display": true,
      "toc_window_display": true
    }
  },
  "nbformat": 4,
  "nbformat_minor": 2
}