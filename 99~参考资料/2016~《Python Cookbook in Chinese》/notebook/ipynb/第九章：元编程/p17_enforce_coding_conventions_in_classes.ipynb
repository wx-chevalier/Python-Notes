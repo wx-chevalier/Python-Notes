{
  "cells": [
    {
      "cell_type": "markdown",
      "metadata": {},
      "source": [
        "## 9.17 \u5728\u7c7b\u4e0a\u5f3a\u5236\u4f7f\u7528\u7f16\u7a0b\u89c4\u7ea6\n"
      ]
    },
    {
      "cell_type": "markdown",
      "metadata": {},
      "source": [
        "### \u95ee\u9898\n"
      ]
    },
    {
      "cell_type": "markdown",
      "metadata": {},
      "source": [
        "\u4f60\u7684\u7a0b\u5e8f\u5305\u542b\u4e00\u4e2a\u5f88\u5927\u7684\u7c7b\u7ee7\u627f\u4f53\u7cfb\uff0c\u4f60\u5e0c\u671b\u5f3a\u5236\u6267\u884c\u67d0\u4e9b\u7f16\u7a0b\u89c4\u7ea6\uff08\u6216\u8005\u4ee3\u7801\u8bca\u65ad\uff09\u6765\u5e2e\u52a9\u7a0b\u5e8f\u5458\u4fdd\u6301\u6e05\u9192\u3002"
      ]
    },
    {
      "cell_type": "markdown",
      "metadata": {},
      "source": [
        "### \u89e3\u51b3\u65b9\u6848\n"
      ]
    },
    {
      "cell_type": "markdown",
      "metadata": {},
      "source": [
        "\u5982\u679c\u4f60\u60f3\u76d1\u63a7\u7c7b\u7684\u5b9a\u4e49\uff0c\u901a\u5e38\u53ef\u4ee5\u901a\u8fc7\u5b9a\u4e49\u4e00\u4e2a\u5143\u7c7b\u3002\u4e00\u4e2a\u57fa\u672c\u5143\u7c7b\u901a\u5e38\u662f\u7ee7\u627f\u81ea type \u5e76\u91cd\u5b9a\u4e49\u5b83\u7684 __new__() \u65b9\u6cd5\n\u6216\u8005\u662f __init__() \u65b9\u6cd5\u3002\u6bd4\u5982\uff1a"
      ]
    },
    {
      "cell_type": "code",
      "execution_count": null,
      "metadata": {},
      "outputs": [],
      "source": [
        "class MyMeta(type):\n    def __new__(self, clsname, bases, clsdict):\n        # clsname is name of class being defined\n        # bases is tuple of base classes\n        # clsdict is class dictionary\n        return super().__new__(cls, clsname, bases, clsdict)"
      ]
    },
    {
      "cell_type": "markdown",
      "metadata": {},
      "source": [
        "\u53e6\u4e00\u79cd\u662f\uff0c\u5b9a\u4e49 __init__() \u65b9\u6cd5\uff1a"
      ]
    },
    {
      "cell_type": "code",
      "execution_count": null,
      "metadata": {},
      "outputs": [],
      "source": [
        "class MyMeta(type):\n    def __init__(self, clsname, bases, clsdict):\n        super().__init__(clsname, bases, clsdict)\n        # clsname is name of class being defined\n        # bases is tuple of base classes\n        # clsdict is class dictionary"
      ]
    },
    {
      "cell_type": "markdown",
      "metadata": {},
      "source": [
        "\u4e3a\u4e86\u4f7f\u7528\u8fd9\u4e2a\u5143\u7c7b\uff0c\u4f60\u901a\u5e38\u8981\u5c06\u5b83\u653e\u5230\u5230\u4e00\u4e2a\u9876\u7ea7\u7236\u7c7b\u5b9a\u4e49\u4e2d\uff0c\u7136\u540e\u5176\u4ed6\u7684\u7c7b\u7ee7\u627f\u8fd9\u4e2a\u9876\u7ea7\u7236\u7c7b\u3002\u4f8b\u5982\uff1a"
      ]
    },
    {
      "cell_type": "code",
      "execution_count": null,
      "metadata": {},
      "outputs": [],
      "source": [
        "class Root(metaclass=MyMeta):\n    pass\n\nclass A(Root):\n    pass\n\nclass B(Root):\n    pass"
      ]
    },
    {
      "cell_type": "markdown",
      "metadata": {},
      "source": [
        "\u5143\u7c7b\u7684\u4e00\u4e2a\u5173\u952e\u7279\u70b9\u662f\u5b83\u5141\u8bb8\u4f60\u5728\u5b9a\u4e49\u7684\u65f6\u5019\u68c0\u67e5\u7c7b\u7684\u5185\u5bb9\u3002\u5728\u91cd\u65b0\u5b9a\u4e49 __init__() \u65b9\u6cd5\u4e2d\uff0c\n\u4f60\u53ef\u4ee5\u5f88\u8f7b\u677e\u7684\u68c0\u67e5\u7c7b\u5b57\u5178\u3001\u7236\u7c7b\u7b49\u7b49\u3002\u5e76\u4e14\uff0c\u4e00\u65e6\u67d0\u4e2a\u5143\u7c7b\u88ab\u6307\u5b9a\u7ed9\u4e86\u67d0\u4e2a\u7c7b\uff0c\u90a3\u4e48\u5c31\u4f1a\u88ab\u7ee7\u627f\u5230\u6240\u6709\u5b50\u7c7b\u4e2d\u53bb\u3002\n\u56e0\u6b64\uff0c\u4e00\u4e2a\u6846\u67b6\u7684\u6784\u5efa\u8005\u5c31\u80fd\u5728\u5927\u578b\u7684\u7ee7\u627f\u4f53\u7cfb\u4e2d\u901a\u8fc7\u7ed9\u4e00\u4e2a\u9876\u7ea7\u7236\u7c7b\u6307\u5b9a\u4e00\u4e2a\u5143\u7c7b\u53bb\u6355\u83b7\u6240\u6709\u4e0b\u9762\u5b50\u7c7b\u7684\u5b9a\u4e49\u3002"
      ]
    },
    {
      "cell_type": "markdown",
      "metadata": {},
      "source": [
        "\u4f5c\u4e3a\u4e00\u4e2a\u5177\u4f53\u7684\u5e94\u7528\u4f8b\u5b50\uff0c\u4e0b\u9762\u5b9a\u4e49\u4e86\u4e00\u4e2a\u5143\u7c7b\uff0c\u5b83\u4f1a\u62d2\u7edd\u4efb\u4f55\u6709\u6df7\u5408\u5927\u5c0f\u5199\u540d\u5b57\u4f5c\u4e3a\u65b9\u6cd5\u7684\u7c7b\u5b9a\u4e49\uff08\u53ef\u80fd\u662f\u60f3\u6c14\u6b7bJava\u7a0b\u5e8f\u5458^_^\uff09\uff1a"
      ]
    },
    {
      "cell_type": "code",
      "execution_count": null,
      "metadata": {},
      "outputs": [],
      "source": [
        "class NoMixedCaseMeta(type):\n    def __new__(cls, clsname, bases, clsdict):\n        for name in clsdict:\n            if name.lower() != name:\n                raise TypeError('Bad attribute name: ' + name)\n        return super().__new__(cls, clsname, bases, clsdict)\n\nclass Root(metaclass=NoMixedCaseMeta):\n    pass\n\nclass A(Root):\n    def foo_bar(self): # Ok\n        pass\n\nclass B(Root):\n    def fooBar(self): # TypeError\n        pass"
      ]
    },
    {
      "cell_type": "markdown",
      "metadata": {},
      "source": [
        "\u4f5c\u4e3a\u66f4\u9ad8\u7ea7\u548c\u5b9e\u7528\u7684\u4f8b\u5b50\uff0c\u4e0b\u9762\u6709\u4e00\u4e2a\u5143\u7c7b\uff0c\u5b83\u7528\u6765\u68c0\u6d4b\u91cd\u8f7d\u65b9\u6cd5\uff0c\u786e\u4fdd\u5b83\u7684\u8c03\u7528\u53c2\u6570\u8ddf\u7236\u7c7b\u4e2d\u539f\u59cb\u65b9\u6cd5\u6709\u7740\u76f8\u540c\u7684\u53c2\u6570\u7b7e\u540d\u3002"
      ]
    },
    {
      "cell_type": "code",
      "execution_count": null,
      "metadata": {},
      "outputs": [],
      "source": [
        "from inspect import signature\nimport logging\n\nclass MatchSignaturesMeta(type):\n\n    def __init__(self, clsname, bases, clsdict):\n        super().__init__(clsname, bases, clsdict)\n        sup = super(self, self)\n        for name, value in clsdict.items():\n            if name.startswith('_') or not callable(value):\n                continue\n            # Get the previous definition (if any) and compare the signatures\n            prev_dfn = getattr(sup,name,None)\n            if prev_dfn:\n                prev_sig = signature(prev_dfn)\n                val_sig = signature(value)\n                if prev_sig != val_sig:\n                    logging.warning('Signature mismatch in %s. %s != %s',\n                                    value.__qualname__, prev_sig, val_sig)\n\n# Example\nclass Root(metaclass=MatchSignaturesMeta):\n    pass\n\nclass A(Root):\n    def foo(self, x, y):\n        pass\n\n    def spam(self, x, *, z):\n        pass\n\n# Class with redefined methods, but slightly different signatures\nclass B(A):\n    def foo(self, a, b):\n        pass\n\n    def spam(self,x,z):\n        pass"
      ]
    },
    {
      "cell_type": "markdown",
      "metadata": {},
      "source": [
        "\u5982\u679c\u4f60\u8fd0\u884c\u8fd9\u6bb5\u4ee3\u7801\uff0c\u5c31\u4f1a\u5f97\u5230\u4e0b\u9762\u8fd9\u6837\u7684\u8f93\u51fa\u7ed3\u679c\uff1a"
      ]
    },
    {
      "cell_type": "code",
      "execution_count": null,
      "metadata": {},
      "outputs": [],
      "source": [
        "WARNING:root:Signature mismatch in B.spam. (self, x, *, z) != (self, x, z)\nWARNING:root:Signature mismatch in B.foo. (self, x, y) != (self, a, b)"
      ]
    },
    {
      "cell_type": "markdown",
      "metadata": {},
      "source": [
        "\u8fd9\u79cd\u8b66\u544a\u4fe1\u606f\u5bf9\u4e8e\u6355\u83b7\u4e00\u4e9b\u5fae\u5999\u7684\u7a0b\u5e8fbug\u662f\u5f88\u6709\u7528\u7684\u3002\u4f8b\u5982\uff0c\u5982\u679c\u67d0\u4e2a\u4ee3\u7801\u4f9d\u8d56\u4e8e\u4f20\u9012\u7ed9\u65b9\u6cd5\u7684\u5173\u952e\u5b57\u53c2\u6570\uff0c\n\u90a3\u4e48\u5f53\u5b50\u7c7b\u6539\u53d8\u53c2\u6570\u540d\u5b57\u7684\u65f6\u5019\u5c31\u4f1a\u8c03\u7528\u51fa\u9519\u3002"
      ]
    },
    {
      "cell_type": "markdown",
      "metadata": {},
      "source": [
        "### \u8ba8\u8bba\n"
      ]
    },
    {
      "cell_type": "markdown",
      "metadata": {},
      "source": [
        "\u5728\u5927\u578b\u9762\u5411\u5bf9\u8c61\u7684\u7a0b\u5e8f\u4e2d\uff0c\u901a\u5e38\u5c06\u7c7b\u7684\u5b9a\u4e49\u653e\u5728\u5143\u7c7b\u4e2d\u63a7\u5236\u662f\u5f88\u6709\u7528\u7684\u3002\n\u5143\u7c7b\u53ef\u4ee5\u76d1\u63a7\u7c7b\u7684\u5b9a\u4e49\uff0c\u8b66\u544a\u7f16\u7a0b\u4eba\u5458\u67d0\u4e9b\u6ca1\u6709\u6ce8\u610f\u5230\u7684\u53ef\u80fd\u51fa\u73b0\u7684\u95ee\u9898\u3002"
      ]
    },
    {
      "cell_type": "markdown",
      "metadata": {},
      "source": [
        "\u6709\u4eba\u53ef\u80fd\u4f1a\u8bf4\uff0c\u50cf\u8fd9\u6837\u7684\u9519\u8bef\u53ef\u4ee5\u901a\u8fc7\u7a0b\u5e8f\u5206\u6790\u5de5\u5177\u6216IDE\u53bb\u505a\u4f1a\u66f4\u597d\u4e9b\u3002\u8bda\u7136\uff0c\u8fd9\u4e9b\u5de5\u5177\u662f\u5f88\u6709\u7528\u3002\n\u4f46\u662f\uff0c\u5982\u679c\u4f60\u5728\u6784\u5efa\u4e00\u4e2a\u6846\u67b6\u6216\u51fd\u6570\u5e93\u4f9b\u5176\u4ed6\u4eba\u4f7f\u7528\uff0c\u90a3\u4e48\u4f60\u6ca1\u529e\u6cd5\u53bb\u63a7\u5236\u4f7f\u7528\u8005\u8981\u4f7f\u7528\u4ec0\u4e48\u5de5\u5177\u3002\n\u56e0\u6b64\uff0c\u5bf9\u4e8e\u8fd9\u79cd\u7c7b\u578b\u7684\u7a0b\u5e8f\uff0c\u5982\u679c\u53ef\u4ee5\u5728\u5143\u7c7b\u4e2d\u505a\u68c0\u6d4b\u6216\u8bb8\u53ef\u4ee5\u5e26\u6765\u66f4\u597d\u7684\u7528\u6237\u4f53\u9a8c\u3002"
      ]
    },
    {
      "cell_type": "markdown",
      "metadata": {},
      "source": [
        "\u5728\u5143\u7c7b\u4e2d\u9009\u62e9\u91cd\u65b0\u5b9a\u4e49 __new__() \u65b9\u6cd5\u8fd8\u662f __init__() \u65b9\u6cd5\u53d6\u51b3\u4e8e\u4f60\u60f3\u600e\u6837\u4f7f\u7528\u7ed3\u679c\u7c7b\u3002\n__new__() \u65b9\u6cd5\u5728\u7c7b\u521b\u5efa\u4e4b\u524d\u88ab\u8c03\u7528\uff0c\u901a\u5e38\u7528\u4e8e\u901a\u8fc7\u67d0\u79cd\u65b9\u5f0f\uff08\u6bd4\u5982\u901a\u8fc7\u6539\u53d8\u7c7b\u5b57\u5178\u7684\u5185\u5bb9\uff09\u4fee\u6539\u7c7b\u7684\u5b9a\u4e49\u3002\n\u800c __init__() \u65b9\u6cd5\u662f\u5728\u7c7b\u88ab\u521b\u5efa\u4e4b\u540e\u88ab\u8c03\u7528\uff0c\u5f53\u4f60\u9700\u8981\u5b8c\u6574\u6784\u5efa\u7c7b\u5bf9\u8c61\u7684\u65f6\u5019\u4f1a\u5f88\u6709\u7528\u3002\n\u5728\u6700\u540e\u4e00\u4e2a\u4f8b\u5b50\u4e2d\uff0c\u8fd9\u662f\u5fc5\u8981\u7684\uff0c\u56e0\u4e3a\u5b83\u4f7f\u7528\u4e86 super() \u51fd\u6570\u6765\u641c\u7d22\u4e4b\u524d\u7684\u5b9a\u4e49\u3002\n\u5b83\u53ea\u80fd\u5728\u7c7b\u7684\u5b9e\u4f8b\u88ab\u521b\u5efa\u4e4b\u540e\uff0c\u5e76\u4e14\u76f8\u5e94\u7684\u65b9\u6cd5\u89e3\u6790\u987a\u5e8f\u4e5f\u5df2\u7ecf\u88ab\u8bbe\u7f6e\u597d\u4e86\u3002"
      ]
    },
    {
      "cell_type": "markdown",
      "metadata": {},
      "source": [
        "\u6700\u540e\u4e00\u4e2a\u4f8b\u5b50\u8fd8\u6f14\u793a\u4e86Python\u7684\u51fd\u6570\u7b7e\u540d\u5bf9\u8c61\u7684\u4f7f\u7528\u3002\n\u5b9e\u9645\u4e0a\uff0c\u5143\u7c7b\u5c06\u6bcf\u4e2a\u53ef\u8c03\u7528\u5b9a\u4e49\u653e\u5728\u4e00\u4e2a\u7c7b\u4e2d\uff0c\u641c\u7d22\u524d\u4e00\u4e2a\u5b9a\u4e49\uff08\u5982\u679c\u6709\u7684\u8bdd\uff09\uff0c\n\u7136\u540e\u901a\u8fc7\u4f7f\u7528 inspect.signature() \u6765\u7b80\u5355\u7684\u6bd4\u8f83\u5b83\u4eec\u7684\u8c03\u7528\u7b7e\u540d\u3002"
      ]
    },
    {
      "cell_type": "markdown",
      "metadata": {},
      "source": [
        "\u6700\u540e\u4e00\u70b9\uff0c\u4ee3\u7801\u4e2d\u6709\u4e00\u884c\u4f7f\u7528\u4e86 super(self, self) \u5e76\u4e0d\u662f\u6392\u7248\u9519\u8bef\u3002\n\u5f53\u4f7f\u7528\u5143\u7c7b\u7684\u65f6\u5019\uff0c\u6211\u4eec\u8981\u65f6\u523b\u8bb0\u4f4f\u4e00\u70b9\u5c31\u662f self \u5b9e\u9645\u4e0a\u662f\u4e00\u4e2a\u7c7b\u5bf9\u8c61\u3002\n\u56e0\u6b64\uff0c\u8fd9\u6761\u8bed\u53e5\u5176\u5b9e\u5c31\u662f\u7528\u6765\u5bfb\u627e\u4f4d\u4e8e\u7ee7\u627f\u4f53\u7cfb\u4e2d\u6784\u5efa self \u7236\u7c7b\u7684\u5b9a\u4e49\u3002"
      ]
    }
  ],
  "metadata": {
    "kernelspec": {
      "display_name": "Python 3",
      "language": "python",
      "name": "python3"
    },
    "language_info": {
      "codemirror_mode": {
        "name": "ipython",
        "version": 3
      },
      "file_extension": ".py",
      "mimetype": "text/x-python",
      "name": "python",
      "nbconvert_exporter": "python",
      "pygments_lexer": "ipython3",
      "version": "3.7.1"
    },
    "toc": {
      "base_numbering": 1,
      "nav_menu": {},
      "number_sections": true,
      "sideBar": true,
      "skip_h1_title": true,
      "title_cell": "Table of Contents",
      "title_sidebar": "Contents",
      "toc_cell": false,
      "toc_position": {},
      "toc_section_display": true,
      "toc_window_display": true
    }
  },
  "nbformat": 4,
  "nbformat_minor": 2
}