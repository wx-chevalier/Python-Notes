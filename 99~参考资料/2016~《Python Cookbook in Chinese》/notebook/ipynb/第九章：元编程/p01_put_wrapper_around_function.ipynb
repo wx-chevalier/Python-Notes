{
  "cells": [
    {
      "cell_type": "markdown",
      "metadata": {},
      "source": [
        "## 9.1 \u5728\u51fd\u6570\u4e0a\u6dfb\u52a0\u5305\u88c5\u5668\n"
      ]
    },
    {
      "cell_type": "markdown",
      "metadata": {},
      "source": [
        "### \u95ee\u9898\n"
      ]
    },
    {
      "cell_type": "markdown",
      "metadata": {},
      "source": [
        "\u4f60\u60f3\u5728\u51fd\u6570\u4e0a\u6dfb\u52a0\u4e00\u4e2a\u5305\u88c5\u5668\uff0c\u589e\u52a0\u989d\u5916\u7684\u64cd\u4f5c\u5904\u7406(\u6bd4\u5982\u65e5\u5fd7\u3001\u8ba1\u65f6\u7b49)\u3002"
      ]
    },
    {
      "cell_type": "markdown",
      "metadata": {},
      "source": [
        "### \u89e3\u51b3\u65b9\u6848\n"
      ]
    },
    {
      "cell_type": "markdown",
      "metadata": {},
      "source": [
        "\u5982\u679c\u4f60\u60f3\u4f7f\u7528\u989d\u5916\u7684\u4ee3\u7801\u5305\u88c5\u4e00\u4e2a\u51fd\u6570\uff0c\u53ef\u4ee5\u5b9a\u4e49\u4e00\u4e2a\u88c5\u9970\u5668\u51fd\u6570\uff0c\u4f8b\u5982\uff1a"
      ]
    },
    {
      "cell_type": "code",
      "execution_count": null,
      "metadata": {},
      "outputs": [],
      "source": [
        "import time\nfrom functools import wraps\n\ndef timethis(func):\n    '''\n    Decorator that reports the execution time.\n    '''\n    @wraps(func)\n    def wrapper(*args, **kwargs):\n        start = time.time()\n        result = func(*args, **kwargs)\n        end = time.time()\n        print(func.__name__, end-start)\n        return result\n    return wrapper"
      ]
    },
    {
      "cell_type": "markdown",
      "metadata": {},
      "source": [
        "\u4e0b\u9762\u662f\u4f7f\u7528\u88c5\u9970\u5668\u7684\u4f8b\u5b50\uff1a"
      ]
    },
    {
      "cell_type": "code",
      "execution_count": null,
      "metadata": {},
      "outputs": [],
      "source": [
        "@timethis\ndef countdown(n):\n    '''\n    Counts down\n    '''\n    while n > 0:\n        n -= 1\ncountdown(100000)"
      ]
    },
    {
      "cell_type": "code",
      "execution_count": null,
      "metadata": {},
      "outputs": [],
      "source": [
        "countdown(10000000)"
      ]
    },
    {
      "cell_type": "markdown",
      "metadata": {},
      "source": [
        "### \u8ba8\u8bba\n"
      ]
    },
    {
      "cell_type": "markdown",
      "metadata": {},
      "source": [
        "\u4e00\u4e2a\u88c5\u9970\u5668\u5c31\u662f\u4e00\u4e2a\u51fd\u6570\uff0c\u5b83\u63a5\u53d7\u4e00\u4e2a\u51fd\u6570\u4f5c\u4e3a\u53c2\u6570\u5e76\u8fd4\u56de\u4e00\u4e2a\u65b0\u7684\u51fd\u6570\u3002\n\u5f53\u4f60\u50cf\u4e0b\u9762\u8fd9\u6837\u5199\uff1a"
      ]
    },
    {
      "cell_type": "code",
      "execution_count": null,
      "metadata": {},
      "outputs": [],
      "source": [
        "@timethis\ndef countdown(n):\n    pass"
      ]
    },
    {
      "cell_type": "markdown",
      "metadata": {},
      "source": [
        "\u8ddf\u50cf\u4e0b\u9762\u8fd9\u6837\u5199\u5176\u5b9e\u6548\u679c\u662f\u4e00\u6837\u7684\uff1a"
      ]
    },
    {
      "cell_type": "code",
      "execution_count": null,
      "metadata": {},
      "outputs": [],
      "source": [
        "def countdown(n):\n    pass\ncountdown = timethis(countdown)"
      ]
    },
    {
      "cell_type": "markdown",
      "metadata": {},
      "source": [
        "\u987a\u4fbf\u8bf4\u4e00\u4e0b\uff0c\u5185\u7f6e\u7684\u88c5\u9970\u5668\u6bd4\u5982 @staticmethod, @classmethod,@property \u539f\u7406\u4e5f\u662f\u4e00\u6837\u7684\u3002\n\u4f8b\u5982\uff0c\u4e0b\u9762\u8fd9\u4e24\u4e2a\u4ee3\u7801\u7247\u6bb5\u662f\u7b49\u4ef7\u7684\uff1a"
      ]
    },
    {
      "cell_type": "code",
      "execution_count": null,
      "metadata": {},
      "outputs": [],
      "source": [
        "class A:\n    @classmethod\n    def method(cls):\n        pass\n\nclass B:\n    # Equivalent definition of a class method\n    def method(cls):\n        pass\n    method = classmethod(method)"
      ]
    },
    {
      "cell_type": "markdown",
      "metadata": {},
      "source": [
        "\u5728\u4e0a\u9762\u7684 wrapper() \u51fd\u6570\u4e2d\uff0c\n\u88c5\u9970\u5668\u5185\u90e8\u5b9a\u4e49\u4e86\u4e00\u4e2a\u4f7f\u7528 *args \u548c  **kwargs \u6765\u63a5\u53d7\u4efb\u610f\u53c2\u6570\u7684\u51fd\u6570\u3002\n\u5728\u8fd9\u4e2a\u51fd\u6570\u91cc\u9762\u8c03\u7528\u4e86\u539f\u59cb\u51fd\u6570\u5e76\u5c06\u5176\u7ed3\u679c\u8fd4\u56de\uff0c\u4e0d\u8fc7\u4f60\u8fd8\u53ef\u4ee5\u6dfb\u52a0\u5176\u4ed6\u989d\u5916\u7684\u4ee3\u7801(\u6bd4\u5982\u8ba1\u65f6)\u3002\n\u7136\u540e\u8fd9\u4e2a\u65b0\u7684\u51fd\u6570\u5305\u88c5\u5668\u88ab\u4f5c\u4e3a\u7ed3\u679c\u8fd4\u56de\u6765\u4ee3\u66ff\u539f\u59cb\u51fd\u6570\u3002"
      ]
    },
    {
      "cell_type": "markdown",
      "metadata": {},
      "source": [
        "\u9700\u8981\u5f3a\u8c03\u7684\u662f\u88c5\u9970\u5668\u5e76\u4e0d\u4f1a\u4fee\u6539\u539f\u59cb\u51fd\u6570\u7684\u53c2\u6570\u7b7e\u540d\u4ee5\u53ca\u8fd4\u56de\u503c\u3002\n\u4f7f\u7528 *args \u548c  **kwargs \u76ee\u7684\u5c31\u662f\u786e\u4fdd\u4efb\u4f55\u53c2\u6570\u90fd\u80fd\u9002\u7528\u3002\n\u800c\u8fd4\u56de\u7ed3\u679c\u503c\u57fa\u672c\u90fd\u662f\u8c03\u7528\u539f\u59cb\u51fd\u6570 func(*args, **kwargs) \u7684\u8fd4\u56de\u7ed3\u679c\uff0c\u5176\u4e2dfunc\u5c31\u662f\u539f\u59cb\u51fd\u6570\u3002"
      ]
    },
    {
      "cell_type": "markdown",
      "metadata": {},
      "source": [
        "\u521a\u5f00\u59cb\u5b66\u4e60\u88c5\u9970\u5668\u7684\u65f6\u5019\uff0c\u4f1a\u4f7f\u7528\u4e00\u4e9b\u7b80\u5355\u7684\u4f8b\u5b50\u6765\u8bf4\u660e\uff0c\u6bd4\u5982\u4e0a\u9762\u6f14\u793a\u7684\u8fd9\u4e2a\u3002\n\u4e0d\u8fc7\u5b9e\u9645\u573a\u666f\u4f7f\u7528\u65f6\uff0c\u8fd8\u662f\u6709\u4e00\u4e9b\u7ec6\u8282\u95ee\u9898\u8981\u6ce8\u610f\u7684\u3002\n\u6bd4\u5982\u4e0a\u9762\u4f7f\u7528 @wraps(func) \u6ce8\u89e3\u662f\u5f88\u91cd\u8981\u7684\uff0c\n\u5b83\u80fd\u4fdd\u7559\u539f\u59cb\u51fd\u6570\u7684\u5143\u6570\u636e(\u4e0b\u4e00\u5c0f\u8282\u4f1a\u8bb2\u5230)\uff0c\u65b0\u624b\u7ecf\u5e38\u4f1a\u5ffd\u7565\u8fd9\u4e2a\u7ec6\u8282\u3002\n\u63a5\u4e0b\u6765\u7684\u51e0\u4e2a\u5c0f\u8282\u6211\u4eec\u4f1a\u66f4\u52a0\u6df1\u5165\u7684\u8bb2\u89e3\u88c5\u9970\u5668\u51fd\u6570\u7684\u7ec6\u8282\u95ee\u9898\uff0c\u5982\u679c\u4f60\u60f3\u6784\u9020\u4f60\u81ea\u5df1\u7684\u88c5\u9970\u5668\u51fd\u6570\uff0c\u9700\u8981\u8ba4\u771f\u770b\u4e00\u4e0b\u3002"
      ]
    }
  ],
  "metadata": {
    "kernelspec": {
      "display_name": "Python 3",
      "language": "python",
      "name": "python3"
    },
    "language_info": {
      "codemirror_mode": {
        "name": "ipython",
        "version": 3
      },
      "file_extension": ".py",
      "mimetype": "text/x-python",
      "name": "python",
      "nbconvert_exporter": "python",
      "pygments_lexer": "ipython3",
      "version": "3.7.1"
    },
    "toc": {
      "base_numbering": 1,
      "nav_menu": {},
      "number_sections": true,
      "sideBar": true,
      "skip_h1_title": true,
      "title_cell": "Table of Contents",
      "title_sidebar": "Contents",
      "toc_cell": false,
      "toc_position": {},
      "toc_section_display": true,
      "toc_window_display": true
    }
  },
  "nbformat": 4,
  "nbformat_minor": 2
}