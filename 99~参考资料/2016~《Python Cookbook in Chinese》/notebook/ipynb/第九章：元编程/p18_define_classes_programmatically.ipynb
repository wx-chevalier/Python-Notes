{
  "cells": [
    {
      "cell_type": "markdown",
      "metadata": {},
      "source": [
        "## 9.18 \u4ee5\u7f16\u7a0b\u65b9\u5f0f\u5b9a\u4e49\u7c7b\n"
      ]
    },
    {
      "cell_type": "markdown",
      "metadata": {},
      "source": [
        "### \u95ee\u9898\n"
      ]
    },
    {
      "cell_type": "markdown",
      "metadata": {},
      "source": [
        "\u4f60\u5728\u5199\u4e00\u6bb5\u4ee3\u7801\uff0c\u6700\u7ec8\u9700\u8981\u521b\u5efa\u4e00\u4e2a\u65b0\u7684\u7c7b\u5bf9\u8c61\u3002\u4f60\u8003\u8651\u5c06\u7c7b\u7684\u5b9a\u4e49\u6e90\u4ee3\u7801\u4ee5\u5b57\u7b26\u4e32\u7684\u5f62\u5f0f\u53d1\u5e03\u51fa\u53bb\u3002\n\u5e76\u4e14\u4f7f\u7528\u51fd\u6570\u6bd4\u5982 exec() \u6765\u6267\u884c\u5b83\uff0c\u4f46\u662f\u4f60\u60f3\u5bfb\u627e\u4e00\u4e2a\u66f4\u52a0\u4f18\u96c5\u7684\u89e3\u51b3\u65b9\u6848\u3002"
      ]
    },
    {
      "cell_type": "markdown",
      "metadata": {},
      "source": [
        "### \u89e3\u51b3\u65b9\u6848\n"
      ]
    },
    {
      "cell_type": "markdown",
      "metadata": {},
      "source": [
        "\u4f60\u53ef\u4ee5\u4f7f\u7528\u51fd\u6570 types.new_class() \u6765\u521d\u59cb\u5316\u65b0\u7684\u7c7b\u5bf9\u8c61\u3002\n\u4f60\u9700\u8981\u505a\u7684\u53ea\u662f\u63d0\u4f9b\u7c7b\u7684\u540d\u5b57\u3001\u7236\u7c7b\u5143\u7ec4\u3001\u5173\u952e\u5b57\u53c2\u6570\uff0c\u4ee5\u53ca\u4e00\u4e2a\u7528\u6210\u5458\u53d8\u91cf\u586b\u5145\u7c7b\u5b57\u5178\u7684\u56de\u8c03\u51fd\u6570\u3002\u4f8b\u5982\uff1a"
      ]
    },
    {
      "cell_type": "code",
      "execution_count": null,
      "metadata": {},
      "outputs": [],
      "source": [
        "# stock.py\n# Example of making a class manually from parts\n\n# Methods\ndef __init__(self, name, shares, price):\n    self.name = name\n    self.shares = shares\n    self.price = price\ndef cost(self):\n    return self.shares * self.price\n\ncls_dict = {\n    '__init__' : __init__,\n    'cost' : cost,\n}\n\n# Make a class\nimport types\n\nStock = types.new_class('Stock', (), {}, lambda ns: ns.update(cls_dict))\nStock.__module__ = __name__"
      ]
    },
    {
      "cell_type": "markdown",
      "metadata": {},
      "source": [
        "\u8fd9\u79cd\u65b9\u5f0f\u4f1a\u6784\u5efa\u4e00\u4e2a\u666e\u901a\u7684\u7c7b\u5bf9\u8c61\uff0c\u5e76\u4e14\u6309\u7167\u4f60\u7684\u671f\u671b\u5de5\u4f5c\uff1a"
      ]
    },
    {
      "cell_type": "code",
      "execution_count": null,
      "metadata": {},
      "outputs": [],
      "source": [
        "s = Stock('ACME', 50, 91.1)\ns"
      ]
    },
    {
      "cell_type": "code",
      "execution_count": null,
      "metadata": {},
      "outputs": [],
      "source": [
        "s.cost()"
      ]
    },
    {
      "cell_type": "markdown",
      "metadata": {},
      "source": [
        "\u8fd9\u79cd\u65b9\u6cd5\u4e2d\uff0c\u4e00\u4e2a\u6bd4\u8f83\u96be\u7406\u89e3\u7684\u5730\u65b9\u662f\u5728\u8c03\u7528\u5b8c types.new_class() \u5bf9 Stock.__module__ \u7684\u8d4b\u503c\u3002\n\u6bcf\u6b21\u5f53\u4e00\u4e2a\u7c7b\u88ab\u5b9a\u4e49\u540e\uff0c\u5b83\u7684 __module__ \u5c5e\u6027\u5305\u542b\u5b9a\u4e49\u5b83\u7684\u6a21\u5757\u540d\u3002\n\u8fd9\u4e2a\u540d\u5b57\u7528\u4e8e\u751f\u6210 __repr__() \u65b9\u6cd5\u7684\u8f93\u51fa\u3002\u5b83\u540c\u6837\u4e5f\u88ab\u7528\u4e8e\u5f88\u591a\u5e93\uff0c\u6bd4\u5982 pickle \u3002\n\u56e0\u6b64\uff0c\u4e3a\u4e86\u8ba9\u4f60\u521b\u5efa\u7684\u7c7b\u662f\u201c\u6b63\u786e\u201d\u7684\uff0c\u4f60\u9700\u8981\u786e\u4fdd\u8fd9\u4e2a\u5c5e\u6027\u4e5f\u8bbe\u7f6e\u6b63\u786e\u4e86\u3002"
      ]
    },
    {
      "cell_type": "markdown",
      "metadata": {},
      "source": [
        "\u5982\u679c\u4f60\u60f3\u521b\u5efa\u7684\u7c7b\u9700\u8981\u4e00\u4e2a\u4e0d\u540c\u7684\u5143\u7c7b\uff0c\u53ef\u4ee5\u901a\u8fc7 types.new_class() \u7b2c\u4e09\u4e2a\u53c2\u6570\u4f20\u9012\u7ed9\u5b83\u3002\u4f8b\u5982\uff1a"
      ]
    },
    {
      "cell_type": "code",
      "execution_count": null,
      "metadata": {},
      "outputs": [],
      "source": [
        "import abc\nStock = types.new_class('Stock', (), {'metaclass': abc.ABCMeta},\n                        lambda ns: ns.update(cls_dict))\nStock.__module__ = __name__\nStock"
      ]
    },
    {
      "cell_type": "code",
      "execution_count": null,
      "metadata": {},
      "outputs": [],
      "source": [
        "type(Stock)"
      ]
    },
    {
      "cell_type": "markdown",
      "metadata": {},
      "source": [
        "\u7b2c\u4e09\u4e2a\u53c2\u6570\u8fd8\u53ef\u4ee5\u5305\u542b\u5176\u4ed6\u7684\u5173\u952e\u5b57\u53c2\u6570\u3002\u6bd4\u5982\uff0c\u4e00\u4e2a\u7c7b\u7684\u5b9a\u4e49\u5982\u4e0b\uff1a"
      ]
    },
    {
      "cell_type": "code",
      "execution_count": null,
      "metadata": {},
      "outputs": [],
      "source": [
        "class Spam(Base, debug=True, typecheck=False):\n    pass"
      ]
    },
    {
      "cell_type": "markdown",
      "metadata": {},
      "source": [
        "\u90a3\u4e48\u53ef\u4ee5\u5c06\u5176\u7ffb\u8bd1\u6210\u5982\u4e0b\u7684 new_class() \u8c03\u7528\u5f62\u5f0f\uff1a"
      ]
    },
    {
      "cell_type": "code",
      "execution_count": null,
      "metadata": {},
      "outputs": [],
      "source": [
        "Spam = types.new_class('Spam', (Base,),\n                        {'debug': True, 'typecheck': False},\n                        lambda ns: ns.update(cls_dict))"
      ]
    },
    {
      "cell_type": "markdown",
      "metadata": {},
      "source": [
        "new_class() \u7b2c\u56db\u4e2a\u53c2\u6570\u6700\u795e\u79d8\uff0c\u5b83\u662f\u4e00\u4e2a\u7528\u6765\u63a5\u53d7\u7c7b\u547d\u540d\u7a7a\u95f4\u7684\u6620\u5c04\u5bf9\u8c61\u7684\u51fd\u6570\u3002\n\u901a\u5e38\u8fd9\u662f\u4e00\u4e2a\u666e\u901a\u7684\u5b57\u5178\uff0c\u4f46\u662f\u5b83\u5b9e\u9645\u4e0a\u662f __prepare__() \u65b9\u6cd5\u8fd4\u56de\u7684\u4efb\u610f\u5bf9\u8c61\uff0c\u8fd9\u4e2a\u57289.14\u5c0f\u8282\u5df2\u7ecf\u4ecb\u7ecd\u8fc7\u4e86\u3002\n\u8fd9\u4e2a\u51fd\u6570\u9700\u8981\u4f7f\u7528\u4e0a\u9762\u6f14\u793a\u7684 update() \u65b9\u6cd5\u7ed9\u547d\u540d\u7a7a\u95f4\u589e\u52a0\u5185\u5bb9\u3002"
      ]
    },
    {
      "cell_type": "markdown",
      "metadata": {},
      "source": [
        "### \u8ba8\u8bba\n"
      ]
    },
    {
      "cell_type": "markdown",
      "metadata": {},
      "source": [
        "\u5f88\u591a\u65f6\u5019\u5982\u679c\u80fd\u6784\u9020\u65b0\u7684\u7c7b\u5bf9\u8c61\u662f\u5f88\u6709\u7528\u7684\u3002\n\u6709\u4e2a\u5f88\u719f\u6089\u7684\u4f8b\u5b50\u662f\u8c03\u7528 collections.namedtuple() \u51fd\u6570\uff0c\u4f8b\u5982\uff1a"
      ]
    },
    {
      "cell_type": "code",
      "execution_count": null,
      "metadata": {},
      "outputs": [],
      "source": [
        "Stock = collections.namedtuple('Stock', ['name', 'shares', 'price'])\nStock"
      ]
    },
    {
      "cell_type": "markdown",
      "metadata": {},
      "source": [
        "namedtuple() \u4f7f\u7528 exec() \u800c\u4e0d\u662f\u4e0a\u9762\u4ecb\u7ecd\u7684\u6280\u672f\u3002\u4f46\u662f\uff0c\u4e0b\u9762\u901a\u8fc7\u4e00\u4e2a\u7b80\u5355\u7684\u53d8\u5316\uff0c\n\u6211\u4eec\u76f4\u63a5\u521b\u5efa\u4e00\u4e2a\u7c7b\uff1a"
      ]
    },
    {
      "cell_type": "code",
      "execution_count": null,
      "metadata": {},
      "outputs": [],
      "source": [
        "import operator\nimport types\nimport sys\n\ndef named_tuple(classname, fieldnames):\n    # Populate a dictionary of field property accessors\n    cls_dict = { name: property(operator.itemgetter(n))\n                for n, name in enumerate(fieldnames) }\n\n    # Make a __new__ function and add to the class dict\n    def __new__(cls, *args):\n        if len(args) != len(fieldnames):\n            raise TypeError('Expected {} arguments'.format(len(fieldnames)))\n        return tuple.__new__(cls, args)\n\n    cls_dict['__new__'] = __new__\n\n    # Make the class\n    cls = types.new_class(classname, (tuple,), {},\n                        lambda ns: ns.update(cls_dict))\n\n    # Set the module to that of the caller\n    cls.__module__ = sys._getframe(1).f_globals['__name__']\n    return cls"
      ]
    },
    {
      "cell_type": "markdown",
      "metadata": {},
      "source": [
        "\u8fd9\u6bb5\u4ee3\u7801\u7684\u6700\u540e\u90e8\u5206\u4f7f\u7528\u4e86\u4e00\u4e2a\u6240\u8c13\u7684\u201d\u6846\u67b6\u9b54\u6cd5\u201d\uff0c\u901a\u8fc7\u8c03\u7528 sys._getframe() \u6765\u83b7\u53d6\u8c03\u7528\u8005\u7684\u6a21\u5757\u540d\u3002\n\u53e6\u5916\u4e00\u4e2a\u6846\u67b6\u9b54\u6cd5\u4f8b\u5b50\u57282.15\u5c0f\u8282\u4e2d\u6709\u4ecb\u7ecd\u8fc7\u3002"
      ]
    },
    {
      "cell_type": "markdown",
      "metadata": {},
      "source": [
        "\u4e0b\u9762\u7684\u4f8b\u5b50\u6f14\u793a\u4e86\u524d\u9762\u7684\u4ee3\u7801\u662f\u5982\u4f55\u5de5\u4f5c\u7684\uff1a"
      ]
    },
    {
      "cell_type": "code",
      "execution_count": null,
      "metadata": {},
      "outputs": [],
      "source": [
        "Point = named_tuple('Point', ['x', 'y'])\nPoint"
      ]
    },
    {
      "cell_type": "code",
      "execution_count": null,
      "metadata": {},
      "outputs": [],
      "source": [
        "p = Point(4, 5)\nlen(p)"
      ]
    },
    {
      "cell_type": "code",
      "execution_count": null,
      "metadata": {},
      "outputs": [],
      "source": [
        "p.x"
      ]
    },
    {
      "cell_type": "code",
      "execution_count": null,
      "metadata": {},
      "outputs": [],
      "source": [
        "p.y"
      ]
    },
    {
      "cell_type": "code",
      "execution_count": null,
      "metadata": {},
      "outputs": [],
      "source": [
        "p.x = 2"
      ]
    },
    {
      "cell_type": "code",
      "execution_count": null,
      "metadata": {},
      "outputs": [],
      "source": [
        "print('%s %s' % p)"
      ]
    },
    {
      "cell_type": "markdown",
      "metadata": {},
      "source": [
        "\u8fd9\u9879\u6280\u672f\u4e00\u4e2a\u5f88\u91cd\u8981\u7684\u65b9\u9762\u662f\u5b83\u5bf9\u4e8e\u5143\u7c7b\u7684\u6b63\u786e\u4f7f\u7528\u3002\n\u4f60\u53ef\u80fd\u50cf\u901a\u8fc7\u76f4\u63a5\u5b9e\u4f8b\u5316\u4e00\u4e2a\u5143\u7c7b\u6765\u76f4\u63a5\u521b\u5efa\u4e00\u4e2a\u7c7b\uff1a"
      ]
    },
    {
      "cell_type": "code",
      "execution_count": null,
      "metadata": {},
      "outputs": [],
      "source": [
        "Stock = type('Stock', (), cls_dict)"
      ]
    },
    {
      "cell_type": "markdown",
      "metadata": {},
      "source": [
        "\u8fd9\u79cd\u65b9\u6cd5\u7684\u95ee\u9898\u5728\u4e8e\u5b83\u5ffd\u7565\u4e86\u4e00\u4e9b\u5173\u952e\u6b65\u9aa4\uff0c\u6bd4\u5982\u5bf9\u4e8e\u5143\u7c7b\u4e2d __prepare__() \u65b9\u6cd5\u7684\u8c03\u7528\u3002\n\u901a\u8fc7\u4f7f\u7528 types.new_class() \uff0c\u4f60\u53ef\u4ee5\u4fdd\u8bc1\u6240\u6709\u7684\u5fc5\u8981\u521d\u59cb\u5316\u6b65\u9aa4\u90fd\u80fd\u5f97\u5230\u6267\u884c\u3002\n\u6bd4\u5982\uff0ctypes.new_class() \u7b2c\u56db\u4e2a\u53c2\u6570\u7684\u56de\u8c03\u51fd\u6570\u63a5\u53d7 __prepare__() \u65b9\u6cd5\u8fd4\u56de\u7684\u6620\u5c04\u5bf9\u8c61\u3002"
      ]
    },
    {
      "cell_type": "markdown",
      "metadata": {},
      "source": [
        "\u5982\u679c\u4f60\u4ec5\u4ec5\u53ea\u662f\u60f3\u6267\u884c\u51c6\u5907\u6b65\u9aa4\uff0c\u53ef\u4ee5\u4f7f\u7528 types.prepare_class() \u3002\u4f8b\u5982\uff1a"
      ]
    },
    {
      "cell_type": "code",
      "execution_count": null,
      "metadata": {},
      "outputs": [],
      "source": [
        "import types\nmetaclass, kwargs, ns = types.prepare_class('Stock', (), {'metaclass': type})"
      ]
    },
    {
      "cell_type": "markdown",
      "metadata": {},
      "source": [
        "\u5b83\u4f1a\u67e5\u627e\u5408\u9002\u7684\u5143\u7c7b\u5e76\u8c03\u7528\u5b83\u7684 __prepare__() \u65b9\u6cd5\u3002\n\u7136\u540e\u8fd9\u4e2a\u5143\u7c7b\u4fdd\u5b58\u5b83\u7684\u5173\u952e\u5b57\u53c2\u6570\uff0c\u51c6\u5907\u547d\u540d\u7a7a\u95f4\u540e\u88ab\u8fd4\u56de\u3002"
      ]
    },
    {
      "cell_type": "markdown",
      "metadata": {},
      "source": [
        "\u66f4\u591a\u4fe1\u606f, \u8bf7\u53c2\u8003 PEP 3115 ,\n\u4ee5\u53ca Python documentation ."
      ]
    }
  ],
  "metadata": {
    "kernelspec": {
      "display_name": "Python 3",
      "language": "python",
      "name": "python3"
    },
    "language_info": {
      "codemirror_mode": {
        "name": "ipython",
        "version": 3
      },
      "file_extension": ".py",
      "mimetype": "text/x-python",
      "name": "python",
      "nbconvert_exporter": "python",
      "pygments_lexer": "ipython3",
      "version": "3.7.1"
    },
    "toc": {
      "base_numbering": 1,
      "nav_menu": {},
      "number_sections": true,
      "sideBar": true,
      "skip_h1_title": true,
      "title_cell": "Table of Contents",
      "title_sidebar": "Contents",
      "toc_cell": false,
      "toc_position": {},
      "toc_section_display": true,
      "toc_window_display": true
    }
  },
  "nbformat": 4,
  "nbformat_minor": 2
}