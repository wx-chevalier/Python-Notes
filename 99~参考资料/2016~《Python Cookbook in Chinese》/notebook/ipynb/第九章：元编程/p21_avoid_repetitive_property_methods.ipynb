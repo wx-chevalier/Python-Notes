{
  "cells": [
    {
      "cell_type": "markdown",
      "metadata": {},
      "source": [
        "## 9.21 \u907f\u514d\u91cd\u590d\u7684\u5c5e\u6027\u65b9\u6cd5\n"
      ]
    },
    {
      "cell_type": "markdown",
      "metadata": {},
      "source": [
        "### \u95ee\u9898\n"
      ]
    },
    {
      "cell_type": "markdown",
      "metadata": {},
      "source": [
        "\u4f60\u5728\u7c7b\u4e2d\u9700\u8981\u91cd\u590d\u7684\u5b9a\u4e49\u4e00\u4e9b\u6267\u884c\u76f8\u540c\u903b\u8f91\u7684\u5c5e\u6027\u65b9\u6cd5\uff0c\u6bd4\u5982\u8fdb\u884c\u7c7b\u578b\u68c0\u67e5\uff0c\u600e\u6837\u53bb\u7b80\u5316\u8fd9\u4e9b\u91cd\u590d\u4ee3\u7801\u5462\uff1f"
      ]
    },
    {
      "cell_type": "markdown",
      "metadata": {},
      "source": [
        "### \u89e3\u51b3\u65b9\u6848\n"
      ]
    },
    {
      "cell_type": "markdown",
      "metadata": {},
      "source": [
        "\u8003\u8651\u4e0b\u4e00\u4e2a\u7b80\u5355\u7684\u7c7b\uff0c\u5b83\u7684\u5c5e\u6027\u7531\u5c5e\u6027\u65b9\u6cd5\u5305\u88c5\uff1a"
      ]
    },
    {
      "cell_type": "code",
      "execution_count": null,
      "metadata": {},
      "outputs": [],
      "source": [
        "class Person:\n    def __init__(self, name ,age):\n        self.name = name\n        self.age = age\n\n    @property\n    def name(self):\n        return self._name\n\n    @name.setter\n    def name(self, value):\n        if not isinstance(value, str):\n            raise TypeError('name must be a string')\n        self._name = value\n\n    @property\n    def age(self):\n        return self._age\n\n    @age.setter\n    def age(self, value):\n        if not isinstance(value, int):\n            raise TypeError('age must be an int')\n        self._age = value"
      ]
    },
    {
      "cell_type": "markdown",
      "metadata": {},
      "source": [
        "\u53ef\u4ee5\u770b\u5230\uff0c\u4e3a\u4e86\u5b9e\u73b0\u5c5e\u6027\u503c\u7684\u7c7b\u578b\u68c0\u67e5\u6211\u4eec\u5199\u4e86\u5f88\u591a\u7684\u91cd\u590d\u4ee3\u7801\u3002\n\u53ea\u8981\u4f60\u4ee5\u540e\u770b\u5230\u7c7b\u4f3c\u8fd9\u6837\u7684\u4ee3\u7801\uff0c\u4f60\u90fd\u5e94\u8be5\u60f3\u529e\u6cd5\u53bb\u7b80\u5316\u5b83\u3002\n\u4e00\u4e2a\u53ef\u884c\u7684\u65b9\u6cd5\u662f\u521b\u5efa\u4e00\u4e2a\u51fd\u6570\u7528\u6765\u5b9a\u4e49\u5c5e\u6027\u5e76\u8fd4\u56de\u5b83\u3002\u4f8b\u5982\uff1a"
      ]
    },
    {
      "cell_type": "code",
      "execution_count": null,
      "metadata": {},
      "outputs": [],
      "source": [
        "def typed_property(name, expected_type):\n    storage_name = '_' + name\n\n    @property\n    def prop(self):\n        return getattr(self, storage_name)\n\n    @prop.setter\n    def prop(self, value):\n        if not isinstance(value, expected_type):\n            raise TypeError('{} must be a {}'.format(name, expected_type))\n        setattr(self, storage_name, value)\n\n    return prop\n\n# Example use\nclass Person:\n    name = typed_property('name', str)\n    age = typed_property('age', int)\n\n    def __init__(self, name, age):\n        self.name = name\n        self.age = age"
      ]
    },
    {
      "cell_type": "markdown",
      "metadata": {},
      "source": [
        "### \u8ba8\u8bba\n"
      ]
    },
    {
      "cell_type": "markdown",
      "metadata": {},
      "source": [
        "\u672c\u8282\u6211\u4eec\u6f14\u793a\u5185\u90e8\u51fd\u6570\u6216\u8005\u95ed\u5305\u7684\u4e00\u4e2a\u91cd\u8981\u7279\u6027\uff0c\u5b83\u4eec\u5f88\u50cf\u4e00\u4e2a\u5b8f\u3002\u4f8b\u5b50\u4e2d\u7684\u51fd\u6570 typed_property()\n\u770b\u4e0a\u53bb\u6709\u70b9\u96be\u7406\u89e3\uff0c\u5176\u5b9e\u5b83\u6240\u505a\u7684\u4ec5\u4ec5\u5c31\u662f\u4e3a\u4f60\u751f\u6210\u5c5e\u6027\u5e76\u8fd4\u56de\u8fd9\u4e2a\u5c5e\u6027\u5bf9\u8c61\u3002\n\u56e0\u6b64\uff0c\u5f53\u5728\u4e00\u4e2a\u7c7b\u4e2d\u4f7f\u7528\u5b83\u7684\u65f6\u5019\uff0c\u6548\u679c\u8ddf\u5c06\u5b83\u91cc\u9762\u7684\u4ee3\u7801\u653e\u5230\u7c7b\u5b9a\u4e49\u4e2d\u53bb\u662f\u4e00\u6837\u7684\u3002\n\u5c3d\u7ba1\u5c5e\u6027\u7684 getter \u548c setter \u65b9\u6cd5\u8bbf\u95ee\u4e86\u672c\u5730\u53d8\u91cf\u5982 name , expected_type\n\u4ee5\u53ca storate_name \uff0c\u8fd9\u4e2a\u5f88\u6b63\u5e38\uff0c\u8fd9\u4e9b\u53d8\u91cf\u7684\u503c\u4f1a\u4fdd\u5b58\u5728\u95ed\u5305\u5f53\u4e2d\u3002"
      ]
    },
    {
      "cell_type": "markdown",
      "metadata": {},
      "source": [
        "\u6211\u4eec\u8fd8\u53ef\u4ee5\u4f7f\u7528 functools.partial() \u6765\u7a0d\u7a0d\u6539\u53d8\u4e0b\u8fd9\u4e2a\u4f8b\u5b50\uff0c\u5f88\u6709\u8da3\u3002\u4f8b\u5982\uff0c\u4f60\u53ef\u4ee5\u50cf\u4e0b\u9762\u8fd9\u6837\uff1a"
      ]
    },
    {
      "cell_type": "code",
      "execution_count": null,
      "metadata": {},
      "outputs": [],
      "source": [
        "from functools import partial\n\nString = partial(typed_property, expected_type=str)\nInteger = partial(typed_property, expected_type=int)\n\n# Example:\nclass Person:\n    name = String('name')\n    age = Integer('age')\n\n    def __init__(self, name, age):\n        self.name = name\n        self.age = age"
      ]
    },
    {
      "cell_type": "markdown",
      "metadata": {},
      "source": [
        "\u5176\u5b9e\u4f60\u53ef\u4ee5\u53d1\u73b0\uff0c\u8fd9\u91cc\u7684\u4ee3\u7801\u8ddf8.13\u5c0f\u8282\u4e2d\u7684\u7c7b\u578b\u7cfb\u7edf\u63cf\u8ff0\u5668\u4ee3\u7801\u6709\u4e9b\u76f8\u4f3c\u3002"
      ]
    }
  ],
  "metadata": {
    "kernelspec": {
      "display_name": "Python 3",
      "language": "python",
      "name": "python3"
    },
    "language_info": {
      "codemirror_mode": {
        "name": "ipython",
        "version": 3
      },
      "file_extension": ".py",
      "mimetype": "text/x-python",
      "name": "python",
      "nbconvert_exporter": "python",
      "pygments_lexer": "ipython3",
      "version": "3.7.1"
    },
    "toc": {
      "base_numbering": 1,
      "nav_menu": {},
      "number_sections": true,
      "sideBar": true,
      "skip_h1_title": true,
      "title_cell": "Table of Contents",
      "title_sidebar": "Contents",
      "toc_cell": false,
      "toc_position": {},
      "toc_section_display": true,
      "toc_window_display": true
    }
  },
  "nbformat": 4,
  "nbformat_minor": 2
}