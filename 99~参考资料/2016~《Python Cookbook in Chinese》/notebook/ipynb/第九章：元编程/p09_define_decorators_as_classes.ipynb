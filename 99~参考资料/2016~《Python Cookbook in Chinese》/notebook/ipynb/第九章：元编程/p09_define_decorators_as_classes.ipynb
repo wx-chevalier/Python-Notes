{
  "cells": [
    {
      "cell_type": "markdown",
      "metadata": {},
      "source": [
        "## 9.9 \u5c06\u88c5\u9970\u5668\u5b9a\u4e49\u4e3a\u7c7b\n"
      ]
    },
    {
      "cell_type": "markdown",
      "metadata": {},
      "source": [
        "### \u95ee\u9898\n"
      ]
    },
    {
      "cell_type": "markdown",
      "metadata": {},
      "source": [
        "\u4f60\u60f3\u4f7f\u7528\u4e00\u4e2a\u88c5\u9970\u5668\u53bb\u5305\u88c5\u51fd\u6570\uff0c\u4f46\u662f\u5e0c\u671b\u8fd4\u56de\u4e00\u4e2a\u53ef\u8c03\u7528\u7684\u5b9e\u4f8b\u3002\n\u4f60\u9700\u8981\u8ba9\u4f60\u7684\u88c5\u9970\u5668\u53ef\u4ee5\u540c\u65f6\u5de5\u4f5c\u5728\u7c7b\u5b9a\u4e49\u7684\u5185\u90e8\u548c\u5916\u90e8\u3002"
      ]
    },
    {
      "cell_type": "markdown",
      "metadata": {},
      "source": [
        "### \u89e3\u51b3\u65b9\u6848\n"
      ]
    },
    {
      "cell_type": "markdown",
      "metadata": {},
      "source": [
        "\u4e3a\u4e86\u5c06\u88c5\u9970\u5668\u5b9a\u4e49\u6210\u4e00\u4e2a\u5b9e\u4f8b\uff0c\u4f60\u9700\u8981\u786e\u4fdd\u5b83\u5b9e\u73b0\u4e86 __call__() \u548c __get__() \u65b9\u6cd5\u3002\n\u4f8b\u5982\uff0c\u4e0b\u9762\u7684\u4ee3\u7801\u5b9a\u4e49\u4e86\u4e00\u4e2a\u7c7b\uff0c\u5b83\u5728\u5176\u4ed6\u51fd\u6570\u4e0a\u653e\u7f6e\u4e00\u4e2a\u7b80\u5355\u7684\u8bb0\u5f55\u5c42\uff1a"
      ]
    },
    {
      "cell_type": "code",
      "execution_count": null,
      "metadata": {},
      "outputs": [],
      "source": [
        "import types\nfrom functools import wraps\n\nclass Profiled:\n    def __init__(self, func):\n        wraps(func)(self)\n        self.ncalls = 0\n\n    def __call__(self, *args, **kwargs):\n        self.ncalls += 1\n        return self.__wrapped__(*args, **kwargs)\n\n    def __get__(self, instance, cls):\n        if instance is None:\n            return self\n        else:\n            return types.MethodType(self, instance)"
      ]
    },
    {
      "cell_type": "markdown",
      "metadata": {},
      "source": [
        "\u4f60\u53ef\u4ee5\u5c06\u5b83\u5f53\u505a\u4e00\u4e2a\u666e\u901a\u7684\u88c5\u9970\u5668\u6765\u4f7f\u7528\uff0c\u5728\u7c7b\u91cc\u9762\u6216\u5916\u9762\u90fd\u53ef\u4ee5\uff1a"
      ]
    },
    {
      "cell_type": "code",
      "execution_count": null,
      "metadata": {},
      "outputs": [],
      "source": [
        "@Profiled\ndef add(x, y):\n    return x + y\n\nclass Spam:\n    @Profiled\n    def bar(self, x):\n        print(self, x)"
      ]
    },
    {
      "cell_type": "markdown",
      "metadata": {},
      "source": [
        "\u5728\u4ea4\u4e92\u73af\u5883\u4e2d\u7684\u4f7f\u7528\u793a\u4f8b\uff1a"
      ]
    },
    {
      "cell_type": "code",
      "execution_count": null,
      "metadata": {},
      "outputs": [],
      "source": [
        "add(2, 3)"
      ]
    },
    {
      "cell_type": "code",
      "execution_count": null,
      "metadata": {},
      "outputs": [],
      "source": [
        "add(4, 5)"
      ]
    },
    {
      "cell_type": "code",
      "execution_count": null,
      "metadata": {},
      "outputs": [],
      "source": [
        "add.ncalls"
      ]
    },
    {
      "cell_type": "code",
      "execution_count": null,
      "metadata": {},
      "outputs": [],
      "source": [
        "s = Spam()\ns.bar(1)"
      ]
    },
    {
      "cell_type": "code",
      "execution_count": null,
      "metadata": {},
      "outputs": [],
      "source": [
        "s.bar(2)"
      ]
    },
    {
      "cell_type": "code",
      "execution_count": null,
      "metadata": {},
      "outputs": [],
      "source": [
        "s.bar(3)"
      ]
    },
    {
      "cell_type": "code",
      "execution_count": null,
      "metadata": {},
      "outputs": [],
      "source": [
        "Spam.bar.ncalls"
      ]
    },
    {
      "cell_type": "markdown",
      "metadata": {},
      "source": [
        "### \u8ba8\u8bba\n"
      ]
    },
    {
      "cell_type": "markdown",
      "metadata": {},
      "source": [
        "\u5c06\u88c5\u9970\u5668\u5b9a\u4e49\u6210\u7c7b\u901a\u5e38\u662f\u5f88\u7b80\u5355\u7684\u3002\u4f46\u662f\u8fd9\u91cc\u8fd8\u662f\u6709\u4e00\u4e9b\u7ec6\u8282\u9700\u8981\u89e3\u91ca\u4e0b\uff0c\u7279\u522b\u662f\u5f53\u4f60\u60f3\u5c06\u5b83\u4f5c\u7528\u5728\u5b9e\u4f8b\u65b9\u6cd5\u4e0a\u7684\u65f6\u5019\u3002"
      ]
    },
    {
      "cell_type": "markdown",
      "metadata": {},
      "source": [
        "\u9996\u5148\uff0c\u4f7f\u7528 functools.wraps() \u51fd\u6570\u7684\u4f5c\u7528\u8ddf\u4e4b\u524d\u8fd8\u662f\u4e00\u6837\uff0c\u5c06\u88ab\u5305\u88c5\u51fd\u6570\u7684\u5143\u4fe1\u606f\u590d\u5236\u5230\u53ef\u8c03\u7528\u5b9e\u4f8b\u4e2d\u53bb\u3002"
      ]
    },
    {
      "cell_type": "markdown",
      "metadata": {},
      "source": [
        "\u5176\u6b21\uff0c\u901a\u5e38\u5f88\u5bb9\u6613\u4f1a\u5ffd\u89c6\u4e0a\u9762\u7684 __get__() \u65b9\u6cd5\u3002\u5982\u679c\u4f60\u5ffd\u7565\u5b83\uff0c\u4fdd\u6301\u5176\u4ed6\u4ee3\u7801\u4e0d\u53d8\u518d\u6b21\u8fd0\u884c\uff0c\n\u4f60\u4f1a\u53d1\u73b0\u5f53\u4f60\u53bb\u8c03\u7528\u88ab\u88c5\u9970\u5b9e\u4f8b\u65b9\u6cd5\u65f6\u51fa\u73b0\u5f88\u5947\u602a\u7684\u95ee\u9898\u3002\u4f8b\u5982\uff1a"
      ]
    },
    {
      "cell_type": "code",
      "execution_count": null,
      "metadata": {},
      "outputs": [],
      "source": [
        "s = Spam()\ns.bar(3)"
      ]
    },
    {
      "cell_type": "markdown",
      "metadata": {},
      "source": [
        "\u51fa\u9519\u539f\u56e0\u662f\u5f53\u65b9\u6cd5\u51fd\u6570\u5728\u4e00\u4e2a\u7c7b\u4e2d\u88ab\u67e5\u627e\u65f6\uff0c\u5b83\u4eec\u7684 __get__() \u65b9\u6cd5\u4f9d\u636e\u63cf\u8ff0\u5668\u534f\u8bae\u88ab\u8c03\u7528\uff0c\n\u57288.9\u5c0f\u8282\u5df2\u7ecf\u8bb2\u8ff0\u8fc7\u63cf\u8ff0\u5668\u534f\u8bae\u4e86\u3002\u5728\u8fd9\u91cc\uff0c__get__() \u7684\u76ee\u7684\u662f\u521b\u5efa\u4e00\u4e2a\u7ed1\u5b9a\u65b9\u6cd5\u5bf9\u8c61\n(\u6700\u7ec8\u4f1a\u7ed9\u8fd9\u4e2a\u65b9\u6cd5\u4f20\u9012self\u53c2\u6570)\u3002\u4e0b\u9762\u662f\u4e00\u4e2a\u4f8b\u5b50\u6765\u6f14\u793a\u5e95\u5c42\u539f\u7406\uff1a"
      ]
    },
    {
      "cell_type": "code",
      "execution_count": null,
      "metadata": {},
      "outputs": [],
      "source": [
        "s = Spam()\ndef grok(self, x):\n    pass\ngrok.__get__(s, Spam)"
      ]
    },
    {
      "cell_type": "markdown",
      "metadata": {},
      "source": [
        "__get__() \u65b9\u6cd5\u662f\u4e3a\u4e86\u786e\u4fdd\u7ed1\u5b9a\u65b9\u6cd5\u5bf9\u8c61\u80fd\u88ab\u6b63\u786e\u7684\u521b\u5efa\u3002\ntype.MethodType() \u624b\u52a8\u521b\u5efa\u4e00\u4e2a\u7ed1\u5b9a\u65b9\u6cd5\u6765\u4f7f\u7528\u3002\u53ea\u6709\u5f53\u5b9e\u4f8b\u88ab\u4f7f\u7528\u7684\u65f6\u5019\u7ed1\u5b9a\u65b9\u6cd5\u624d\u4f1a\u88ab\u521b\u5efa\u3002\n\u5982\u679c\u8fd9\u4e2a\u65b9\u6cd5\u662f\u5728\u7c7b\u4e0a\u9762\u6765\u8bbf\u95ee\uff0c\n\u90a3\u4e48 __get__() \u4e2d\u7684instance\u53c2\u6570\u4f1a\u88ab\u8bbe\u7f6e\u6210None\u5e76\u76f4\u63a5\u8fd4\u56de Profiled \u5b9e\u4f8b\u672c\u8eab\u3002\n\u8fd9\u6837\u7684\u8bdd\u6211\u4eec\u5c31\u53ef\u4ee5\u63d0\u53d6\u5b83\u7684 ncalls \u5c5e\u6027\u4e86\u3002"
      ]
    },
    {
      "cell_type": "markdown",
      "metadata": {},
      "source": [
        "\u5982\u679c\u4f60\u60f3\u907f\u514d\u4e00\u4e9b\u6df7\u4e71\uff0c\u4e5f\u53ef\u4ee5\u8003\u8651\u53e6\u5916\u4e00\u4e2a\u4f7f\u7528\u95ed\u5305\u548c nonlocal \u53d8\u91cf\u5b9e\u73b0\u7684\u88c5\u9970\u5668\uff0c\u8fd9\u4e2a\u57289.5\u5c0f\u8282\u6709\u8bb2\u5230\u3002\u4f8b\u5982\uff1a"
      ]
    },
    {
      "cell_type": "code",
      "execution_count": null,
      "metadata": {},
      "outputs": [],
      "source": [
        "import types\nfrom functools import wraps\n\ndef profiled(func):\n    ncalls = 0\n    @wraps(func)\n    def wrapper(*args, **kwargs):\n        nonlocal ncalls\n        ncalls += 1\n        return func(*args, **kwargs)\n    wrapper.ncalls = lambda: ncalls\n    return wrapper\n\n# Example\n@profiled\ndef add(x, y):\n    return x + y"
      ]
    },
    {
      "cell_type": "markdown",
      "metadata": {},
      "source": [
        "\u8fd9\u4e2a\u65b9\u5f0f\u8ddf\u4e4b\u524d\u7684\u6548\u679c\u51e0\u4e4e\u4e00\u6837\uff0c\u9664\u4e86\u5bf9\u4e8e ncalls \u7684\u8bbf\u95ee\u73b0\u5728\u662f\u901a\u8fc7\u4e00\u4e2a\u88ab\u7ed1\u5b9a\u4e3a\u5c5e\u6027\u7684\u51fd\u6570\u6765\u5b9e\u73b0\uff0c\u4f8b\u5982\uff1a"
      ]
    },
    {
      "cell_type": "code",
      "execution_count": null,
      "metadata": {},
      "outputs": [],
      "source": [
        "add(2, 3)"
      ]
    },
    {
      "cell_type": "code",
      "execution_count": null,
      "metadata": {},
      "outputs": [],
      "source": [
        "add(4, 5)"
      ]
    },
    {
      "cell_type": "code",
      "execution_count": null,
      "metadata": {},
      "outputs": [],
      "source": [
        "add.ncalls()"
      ]
    }
  ],
  "metadata": {
    "kernelspec": {
      "display_name": "Python 3",
      "language": "python",
      "name": "python3"
    },
    "language_info": {
      "codemirror_mode": {
        "name": "ipython",
        "version": 3
      },
      "file_extension": ".py",
      "mimetype": "text/x-python",
      "name": "python",
      "nbconvert_exporter": "python",
      "pygments_lexer": "ipython3",
      "version": "3.7.1"
    },
    "toc": {
      "base_numbering": 1,
      "nav_menu": {},
      "number_sections": true,
      "sideBar": true,
      "skip_h1_title": true,
      "title_cell": "Table of Contents",
      "title_sidebar": "Contents",
      "toc_cell": false,
      "toc_position": {},
      "toc_section_display": true,
      "toc_window_display": true
    }
  },
  "nbformat": 4,
  "nbformat_minor": 2
}