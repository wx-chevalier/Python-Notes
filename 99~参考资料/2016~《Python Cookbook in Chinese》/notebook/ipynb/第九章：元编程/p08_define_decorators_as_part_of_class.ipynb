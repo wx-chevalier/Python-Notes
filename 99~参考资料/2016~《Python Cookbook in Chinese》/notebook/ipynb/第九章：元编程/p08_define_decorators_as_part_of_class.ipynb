{
  "cells": [
    {
      "cell_type": "markdown",
      "metadata": {},
      "source": [
        "## 9.8 \u5c06\u88c5\u9970\u5668\u5b9a\u4e49\u4e3a\u7c7b\u7684\u4e00\u90e8\u5206\n"
      ]
    },
    {
      "cell_type": "markdown",
      "metadata": {},
      "source": [
        "### \u95ee\u9898\n"
      ]
    },
    {
      "cell_type": "markdown",
      "metadata": {},
      "source": [
        "\u4f60\u60f3\u5728\u7c7b\u4e2d\u5b9a\u4e49\u88c5\u9970\u5668\uff0c\u5e76\u5c06\u5176\u4f5c\u7528\u5728\u5176\u4ed6\u51fd\u6570\u6216\u65b9\u6cd5\u4e0a\u3002"
      ]
    },
    {
      "cell_type": "markdown",
      "metadata": {},
      "source": [
        "### \u89e3\u51b3\u65b9\u6848\n"
      ]
    },
    {
      "cell_type": "markdown",
      "metadata": {},
      "source": [
        "\u5728\u7c7b\u91cc\u9762\u5b9a\u4e49\u88c5\u9970\u5668\u5f88\u7b80\u5355\uff0c\u4f46\u662f\u4f60\u9996\u5148\u8981\u786e\u8ba4\u5b83\u7684\u4f7f\u7528\u65b9\u5f0f\u3002\u6bd4\u5982\u5230\u5e95\u662f\u4f5c\u4e3a\u4e00\u4e2a\u5b9e\u4f8b\u65b9\u6cd5\u8fd8\u662f\u7c7b\u65b9\u6cd5\u3002\n\u4e0b\u9762\u6211\u4eec\u7528\u4f8b\u5b50\u6765\u9610\u8ff0\u5b83\u4eec\u7684\u4e0d\u540c\uff1a"
      ]
    },
    {
      "cell_type": "code",
      "execution_count": null,
      "metadata": {},
      "outputs": [],
      "source": [
        "from functools import wraps\n\nclass A:\n    # Decorator as an instance method\n    def decorator1(self, func):\n        @wraps(func)\n        def wrapper(*args, **kwargs):\n            print('Decorator 1')\n            return func(*args, **kwargs)\n        return wrapper\n\n    # Decorator as a class method\n    @classmethod\n    def decorator2(cls, func):\n        @wraps(func)\n        def wrapper(*args, **kwargs):\n            print('Decorator 2')\n            return func(*args, **kwargs)\n        return wrapper"
      ]
    },
    {
      "cell_type": "markdown",
      "metadata": {},
      "source": [
        "\u4e0b\u9762\u662f\u4e00\u4f7f\u7528\u4f8b\u5b50\uff1a"
      ]
    },
    {
      "cell_type": "code",
      "execution_count": null,
      "metadata": {},
      "outputs": [],
      "source": [
        "# As an instance method\na = A()\n@a.decorator1\ndef spam():\n    pass\n# As a class method\n@A.decorator2\ndef grok():\n    pass"
      ]
    },
    {
      "cell_type": "markdown",
      "metadata": {},
      "source": [
        "\u4ed4\u7ec6\u89c2\u5bdf\u53ef\u4ee5\u53d1\u73b0\u4e00\u4e2a\u662f\u5b9e\u4f8b\u8c03\u7528\uff0c\u4e00\u4e2a\u662f\u7c7b\u8c03\u7528\u3002"
      ]
    },
    {
      "cell_type": "markdown",
      "metadata": {},
      "source": [
        "### \u8ba8\u8bba\n"
      ]
    },
    {
      "cell_type": "markdown",
      "metadata": {},
      "source": [
        "\u5728\u7c7b\u4e2d\u5b9a\u4e49\u88c5\u9970\u5668\u521d\u770b\u4e0a\u53bb\u597d\u50cf\u5f88\u5947\u602a\uff0c\u4f46\u662f\u5728\u6807\u51c6\u5e93\u4e2d\u6709\u5f88\u591a\u8fd9\u6837\u7684\u4f8b\u5b50\u3002\n\u7279\u522b\u7684\uff0c@property \u88c5\u9970\u5668\u5b9e\u9645\u4e0a\u662f\u4e00\u4e2a\u7c7b\uff0c\u5b83\u91cc\u9762\u5b9a\u4e49\u4e86\u4e09\u4e2a\u65b9\u6cd5 getter(), setter(), deleter() ,\n\u6bcf\u4e00\u4e2a\u65b9\u6cd5\u90fd\u662f\u4e00\u4e2a\u88c5\u9970\u5668\u3002\u4f8b\u5982\uff1a"
      ]
    },
    {
      "cell_type": "code",
      "execution_count": null,
      "metadata": {},
      "outputs": [],
      "source": [
        "class Person:\n    # Create a property instance\n    first_name = property()\n\n    # Apply decorator methods\n    @first_name.getter\n    def first_name(self):\n        return self._first_name\n\n    @first_name.setter\n    def first_name(self, value):\n        if not isinstance(value, str):\n            raise TypeError('Expected a string')\n        self._first_name = value"
      ]
    },
    {
      "cell_type": "markdown",
      "metadata": {},
      "source": [
        "\u5b83\u4e3a\u4ec0\u4e48\u8981\u8fd9\u4e48\u5b9a\u4e49\u7684\u4e3b\u8981\u539f\u56e0\u662f\u5404\u79cd\u4e0d\u540c\u7684\u88c5\u9970\u5668\u65b9\u6cd5\u4f1a\u5728\u5173\u8054\u7684 property \u5b9e\u4f8b\u4e0a\u64cd\u4f5c\u5b83\u7684\u72b6\u6001\u3002\n\u56e0\u6b64\uff0c\u4efb\u4f55\u65f6\u5019\u53ea\u8981\u4f60\u78b0\u5230\u9700\u8981\u5728\u88c5\u9970\u5668\u4e2d\u8bb0\u5f55\u6216\u7ed1\u5b9a\u4fe1\u606f\uff0c\u90a3\u4e48\u8fd9\u4e0d\u5931\u4e3a\u4e00\u79cd\u53ef\u884c\u65b9\u6cd5\u3002"
      ]
    },
    {
      "cell_type": "markdown",
      "metadata": {},
      "source": [
        "\u5728\u7c7b\u4e2d\u5b9a\u4e49\u88c5\u9970\u5668\u6709\u4e2a\u96be\u7406\u89e3\u7684\u5730\u65b9\u5c31\u662f\u5bf9\u4e8e\u989d\u5916\u53c2\u6570 self \u6216 cls \u7684\u6b63\u786e\u4f7f\u7528\u3002\n\u5c3d\u7ba1\u6700\u5916\u5c42\u7684\u88c5\u9970\u5668\u51fd\u6570\u6bd4\u5982 decorator1() \u6216 decorator2() \u9700\u8981\u63d0\u4f9b\u4e00\u4e2a self \u6216 cls \u53c2\u6570\uff0c\n\u4f46\u662f\u5728\u4e24\u4e2a\u88c5\u9970\u5668\u5185\u90e8\u88ab\u521b\u5efa\u7684 wrapper() \u51fd\u6570\u5e76\u4e0d\u9700\u8981\u5305\u542b\u8fd9\u4e2a self \u53c2\u6570\u3002\n\u4f60\u552f\u4e00\u9700\u8981\u8fd9\u4e2a\u53c2\u6570\u662f\u5728\u4f60\u786e\u5b9e\u8981\u8bbf\u95ee\u5305\u88c5\u5668\u4e2d\u8fd9\u4e2a\u5b9e\u4f8b\u7684\u67d0\u4e9b\u90e8\u5206\u7684\u65f6\u5019\u3002\u5176\u4ed6\u60c5\u51b5\u4e0b\u90fd\u4e0d\u7528\u53bb\u7ba1\u5b83\u3002"
      ]
    },
    {
      "cell_type": "markdown",
      "metadata": {},
      "source": [
        "\u5bf9\u4e8e\u7c7b\u91cc\u9762\u5b9a\u4e49\u7684\u5305\u88c5\u5668\u8fd8\u6709\u4e00\u70b9\u6bd4\u8f83\u96be\u7406\u89e3\uff0c\u5c31\u662f\u5728\u6d89\u53ca\u5230\u7ee7\u627f\u7684\u65f6\u5019\u3002\n\u4f8b\u5982\uff0c\u5047\u8bbe\u4f60\u60f3\u8ba9\u5728A\u4e2d\u5b9a\u4e49\u7684\u88c5\u9970\u5668\u4f5c\u7528\u5728\u5b50\u7c7bB\u4e2d\u3002\u4f60\u9700\u8981\u50cf\u4e0b\u9762\u8fd9\u6837\u5199\uff1a"
      ]
    },
    {
      "cell_type": "code",
      "execution_count": null,
      "metadata": {},
      "outputs": [],
      "source": [
        "class B(A):\n    @A.decorator2\n    def bar(self):\n        pass"
      ]
    },
    {
      "cell_type": "markdown",
      "metadata": {},
      "source": [
        "\u4e5f\u5c31\u662f\u8bf4\uff0c\u88c5\u9970\u5668\u8981\u88ab\u5b9a\u4e49\u6210\u7c7b\u65b9\u6cd5\u5e76\u4e14\u4f60\u5fc5\u987b\u663e\u5f0f\u7684\u4f7f\u7528\u7236\u7c7b\u540d\u53bb\u8c03\u7528\u5b83\u3002\n\u4f60\u4e0d\u80fd\u4f7f\u7528 @B.decorator2 \uff0c\u56e0\u4e3a\u5728\u65b9\u6cd5\u5b9a\u4e49\u65f6\uff0c\u8fd9\u4e2a\u7c7bB\u8fd8\u6ca1\u6709\u88ab\u521b\u5efa\u3002"
      ]
    }
  ],
  "metadata": {
    "kernelspec": {
      "display_name": "Python 3",
      "language": "python",
      "name": "python3"
    },
    "language_info": {
      "codemirror_mode": {
        "name": "ipython",
        "version": 3
      },
      "file_extension": ".py",
      "mimetype": "text/x-python",
      "name": "python",
      "nbconvert_exporter": "python",
      "pygments_lexer": "ipython3",
      "version": "3.7.1"
    },
    "toc": {
      "base_numbering": 1,
      "nav_menu": {},
      "number_sections": true,
      "sideBar": true,
      "skip_h1_title": true,
      "title_cell": "Table of Contents",
      "title_sidebar": "Contents",
      "toc_cell": false,
      "toc_position": {},
      "toc_section_display": true,
      "toc_window_display": true
    }
  },
  "nbformat": 4,
  "nbformat_minor": 2
}