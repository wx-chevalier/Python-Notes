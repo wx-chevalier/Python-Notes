{
  "cells": [
    {
      "cell_type": "markdown",
      "metadata": {},
      "source": [
        "## 9.25 \u62c6\u89e3Python\u5b57\u8282\u7801\n"
      ]
    },
    {
      "cell_type": "markdown",
      "metadata": {},
      "source": [
        "### \u95ee\u9898\n"
      ]
    },
    {
      "cell_type": "markdown",
      "metadata": {},
      "source": [
        "\u4f60\u60f3\u901a\u8fc7\u5c06\u4f60\u7684\u4ee3\u7801\u53cd\u7f16\u8bd1\u6210\u4f4e\u7ea7\u7684\u5b57\u8282\u7801\u6765\u67e5\u770b\u5b83\u5e95\u5c42\u7684\u5de5\u4f5c\u673a\u5236\u3002"
      ]
    },
    {
      "cell_type": "markdown",
      "metadata": {},
      "source": [
        "### \u89e3\u51b3\u65b9\u6848\n"
      ]
    },
    {
      "cell_type": "markdown",
      "metadata": {},
      "source": [
        "dis \u6a21\u5757\u53ef\u4ee5\u88ab\u7528\u6765\u8f93\u51fa\u4efb\u4f55Python\u51fd\u6570\u7684\u53cd\u7f16\u8bd1\u7ed3\u679c\u3002\u4f8b\u5982\uff1a"
      ]
    },
    {
      "cell_type": "code",
      "execution_count": null,
      "metadata": {},
      "outputs": [],
      "source": [
        "def countdown(n):\nwhile n > 0:\n    print('T-minus', n)\n    n -= 1\nprint('Blastoff!')\nimport dis\ndis.dis(countdown)"
      ]
    },
    {
      "cell_type": "markdown",
      "metadata": {},
      "source": [
        "### \u8ba8\u8bba\n"
      ]
    },
    {
      "cell_type": "markdown",
      "metadata": {},
      "source": [
        "\u5f53\u4f60\u60f3\u8981\u77e5\u9053\u4f60\u7684\u7a0b\u5e8f\u5e95\u5c42\u7684\u8fd0\u884c\u673a\u5236\u7684\u65f6\u5019\uff0cdis \u6a21\u5757\u662f\u5f88\u6709\u7528\u7684\u3002\u6bd4\u5982\u5982\u679c\u4f60\u60f3\u8bd5\u7740\u7406\u89e3\u6027\u80fd\u7279\u5f81\u3002\n\u88ab dis() \u51fd\u6570\u89e3\u6790\u7684\u539f\u59cb\u5b57\u8282\u7801\u5982\u4e0b\u6240\u793a\uff1a"
      ]
    },
    {
      "cell_type": "code",
      "execution_count": null,
      "metadata": {},
      "outputs": [],
      "source": [
        "countdown.__code__.co_code"
      ]
    },
    {
      "cell_type": "markdown",
      "metadata": {},
      "source": [
        "\u5982\u679c\u4f60\u60f3\u81ea\u5df1\u89e3\u91ca\u8fd9\u6bb5\u4ee3\u7801\uff0c\u4f60\u9700\u8981\u4f7f\u7528\u4e00\u4e9b\u5728 opcode \u6a21\u5757\u4e2d\u5b9a\u4e49\u7684\u5e38\u91cf\u3002\u4f8b\u5982\uff1a"
      ]
    },
    {
      "cell_type": "code",
      "execution_count": null,
      "metadata": {},
      "outputs": [],
      "source": [
        "c = countdown.__code__.co_code\nimport opcode\nopcode.opname[c[0]]\nopcode.opname[c[0]]"
      ]
    },
    {
      "cell_type": "code",
      "execution_count": null,
      "metadata": {},
      "outputs": [],
      "source": [
        "opcode.opname[c[3]]"
      ]
    },
    {
      "cell_type": "markdown",
      "metadata": {},
      "source": [
        "\u5947\u602a\u7684\u662f\uff0c\u5728 dis \u6a21\u5757\u4e2d\u5e76\u6ca1\u6709\u51fd\u6570\u8ba9\u4f60\u4ee5\u7f16\u7a0b\u65b9\u5f0f\u5f88\u5bb9\u6613\u7684\u6765\u5904\u7406\u5b57\u8282\u7801\u3002\n\u4e0d\u8fc7\uff0c\u4e0b\u9762\u7684\u751f\u6210\u5668\u51fd\u6570\u53ef\u4ee5\u5c06\u539f\u59cb\u5b57\u8282\u7801\u5e8f\u5217\u8f6c\u6362\u6210 opcodes \u548c\u53c2\u6570\u3002"
      ]
    },
    {
      "cell_type": "code",
      "execution_count": null,
      "metadata": {},
      "outputs": [],
      "source": [
        "import opcode\n\ndef generate_opcodes(codebytes):\n    extended_arg = 0\n    i = 0\n    n = len(codebytes)\n    while i < n:\n        op = codebytes[i]\n        i += 1\n        if op >= opcode.HAVE_ARGUMENT:\n            oparg = codebytes[i] + codebytes[i+1]*256 + extended_arg\n            extended_arg = 0\n            i += 2\n            if op == opcode.EXTENDED_ARG:\n                extended_arg = oparg * 65536\n                continue\n        else:\n            oparg = None\n        yield (op, oparg)"
      ]
    },
    {
      "cell_type": "markdown",
      "metadata": {},
      "source": [
        "\u4f7f\u7528\u65b9\u6cd5\u5982\u4e0b\uff1a"
      ]
    },
    {
      "cell_type": "code",
      "execution_count": null,
      "metadata": {},
      "outputs": [],
      "source": [
        "for op, oparg in generate_opcodes(countdown.__code__.co_code):\n    print(op, opcode.opname[op], oparg)"
      ]
    },
    {
      "cell_type": "markdown",
      "metadata": {},
      "source": [
        "\u8fd9\u79cd\u65b9\u5f0f\u5f88\u5c11\u6709\u4eba\u77e5\u9053\uff0c\u4f60\u53ef\u4ee5\u5229\u7528\u5b83\u66ff\u6362\u4efb\u4f55\u4f60\u60f3\u8981\u66ff\u6362\u7684\u51fd\u6570\u7684\u539f\u59cb\u5b57\u8282\u7801\u3002\n\u4e0b\u9762\u6211\u4eec\u7528\u4e00\u4e2a\u793a\u4f8b\u6765\u6f14\u793a\u6574\u4e2a\u8fc7\u7a0b\uff1a"
      ]
    },
    {
      "cell_type": "code",
      "execution_count": null,
      "metadata": {},
      "outputs": [],
      "source": [
        "def add(x, y):\n    return x + y\nc = add.__code__\nc"
      ]
    },
    {
      "cell_type": "code",
      "execution_count": null,
      "metadata": {},
      "outputs": [],
      "source": [
        "c.co_code"
      ]
    },
    {
      "cell_type": "code",
      "execution_count": null,
      "metadata": {},
      "outputs": [],
      "source": [
        "# Make a completely new code object with bogus byte code\nimport types\nnewbytecode = b'xxxxxxx'\nnc = types.CodeType(c.co_argcount, c.co_kwonlyargcount,\n    c.co_nlocals, c.co_stacksize, c.co_flags, newbytecode, c.co_consts,\n    c.co_names, c.co_varnames, c.co_filename, c.co_name,\n    c.co_firstlineno, c.co_lnotab)\nnc"
      ]
    },
    {
      "cell_type": "code",
      "execution_count": null,
      "metadata": {},
      "outputs": [],
      "source": [
        "add.__code__ = nc\nadd(2,3)"
      ]
    },
    {
      "cell_type": "markdown",
      "metadata": {},
      "source": [
        "\u4f60\u53ef\u4ee5\u50cf\u8fd9\u6837\u800d\u5927\u62db\u8ba9\u89e3\u91ca\u5668\u5954\u6e83\u3002\u4f46\u662f\uff0c\u5bf9\u4e8e\u7f16\u5199\u66f4\u9ad8\u7ea7\u4f18\u5316\u548c\u5143\u7f16\u7a0b\u5de5\u5177\u7684\u7a0b\u5e8f\u5458\u6765\u8bb2\uff0c\n\u4ed6\u4eec\u53ef\u80fd\u771f\u7684\u9700\u8981\u91cd\u5199\u5b57\u8282\u7801\u3002\u672c\u8282\u6700\u540e\u7684\u90e8\u5206\u6f14\u793a\u4e86\u8fd9\u4e2a\u662f\u600e\u6837\u505a\u5230\u7684\u3002\u4f60\u8fd8\u53ef\u4ee5\u53c2\u8003\u53e6\u5916\u4e00\u4e2a\u7c7b\u4f3c\u7684\u4f8b\u5b50\uff1a\nthis code on ActiveState"
      ]
    }
  ],
  "metadata": {
    "kernelspec": {
      "display_name": "Python 3",
      "language": "python",
      "name": "python3"
    },
    "language_info": {
      "codemirror_mode": {
        "name": "ipython",
        "version": 3
      },
      "file_extension": ".py",
      "mimetype": "text/x-python",
      "name": "python",
      "nbconvert_exporter": "python",
      "pygments_lexer": "ipython3",
      "version": "3.7.1"
    },
    "toc": {
      "base_numbering": 1,
      "nav_menu": {},
      "number_sections": true,
      "sideBar": true,
      "skip_h1_title": true,
      "title_cell": "Table of Contents",
      "title_sidebar": "Contents",
      "toc_cell": false,
      "toc_position": {},
      "toc_section_display": true,
      "toc_window_display": true
    }
  },
  "nbformat": 4,
  "nbformat_minor": 2
}