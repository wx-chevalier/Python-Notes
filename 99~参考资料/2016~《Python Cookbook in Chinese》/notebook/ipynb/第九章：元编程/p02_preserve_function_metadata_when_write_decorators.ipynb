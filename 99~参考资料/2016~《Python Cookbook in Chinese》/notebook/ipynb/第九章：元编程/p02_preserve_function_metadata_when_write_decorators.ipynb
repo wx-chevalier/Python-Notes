{
  "cells": [
    {
      "cell_type": "markdown",
      "metadata": {},
      "source": [
        "## 9.2 \u521b\u5efa\u88c5\u9970\u5668\u65f6\u4fdd\u7559\u51fd\u6570\u5143\u4fe1\u606f\n"
      ]
    },
    {
      "cell_type": "markdown",
      "metadata": {},
      "source": [
        "### \u95ee\u9898\n"
      ]
    },
    {
      "cell_type": "markdown",
      "metadata": {},
      "source": [
        "\u4f60\u5199\u4e86\u4e00\u4e2a\u88c5\u9970\u5668\u4f5c\u7528\u5728\u67d0\u4e2a\u51fd\u6570\u4e0a\uff0c\u4f46\u662f\u8fd9\u4e2a\u51fd\u6570\u7684\u91cd\u8981\u7684\u5143\u4fe1\u606f\u6bd4\u5982\u540d\u5b57\u3001\u6587\u6863\u5b57\u7b26\u4e32\u3001\u6ce8\u89e3\u548c\u53c2\u6570\u7b7e\u540d\u90fd\u4e22\u5931\u4e86\u3002"
      ]
    },
    {
      "cell_type": "markdown",
      "metadata": {},
      "source": [
        "### \u89e3\u51b3\u65b9\u6848\n"
      ]
    },
    {
      "cell_type": "markdown",
      "metadata": {},
      "source": [
        "\u4efb\u4f55\u65f6\u5019\u4f60\u5b9a\u4e49\u88c5\u9970\u5668\u7684\u65f6\u5019\uff0c\u90fd\u5e94\u8be5\u4f7f\u7528 functools \u5e93\u4e2d\u7684 @wraps \u88c5\u9970\u5668\u6765\u6ce8\u89e3\u5e95\u5c42\u5305\u88c5\u51fd\u6570\u3002\u4f8b\u5982\uff1a"
      ]
    },
    {
      "cell_type": "code",
      "execution_count": null,
      "metadata": {},
      "outputs": [],
      "source": [
        "import time\nfrom functools import wraps\ndef timethis(func):\n    '''\n    Decorator that reports the execution time.\n    '''\n    @wraps(func)\n    def wrapper(*args, **kwargs):\n        start = time.time()\n        result = func(*args, **kwargs)\n        end = time.time()\n        print(func.__name__, end-start)\n        return result\n    return wrapper"
      ]
    },
    {
      "cell_type": "markdown",
      "metadata": {},
      "source": [
        "\u4e0b\u9762\u6211\u4eec\u4f7f\u7528\u8fd9\u4e2a\u88ab\u5305\u88c5\u540e\u7684\u51fd\u6570\u5e76\u68c0\u67e5\u5b83\u7684\u5143\u4fe1\u606f\uff1a"
      ]
    },
    {
      "cell_type": "code",
      "execution_count": null,
      "metadata": {},
      "outputs": [],
      "source": [
        "@timethis\ndef countdown(n):\n    '''\n    Counts down\n    '''\n    while n > 0:\n        n -= 1\ncountdown(100000)"
      ]
    },
    {
      "cell_type": "code",
      "execution_count": null,
      "metadata": {},
      "outputs": [],
      "source": [
        "countdown.__name__"
      ]
    },
    {
      "cell_type": "code",
      "execution_count": null,
      "metadata": {},
      "outputs": [],
      "source": [
        "countdown.__doc__"
      ]
    },
    {
      "cell_type": "code",
      "execution_count": null,
      "metadata": {},
      "outputs": [],
      "source": [
        "countdown.__annotations__"
      ]
    },
    {
      "cell_type": "markdown",
      "metadata": {},
      "source": [
        "### \u8ba8\u8bba\n"
      ]
    },
    {
      "cell_type": "markdown",
      "metadata": {},
      "source": [
        "\u5728\u7f16\u5199\u88c5\u9970\u5668\u7684\u65f6\u5019\u590d\u5236\u5143\u4fe1\u606f\u662f\u4e00\u4e2a\u975e\u5e38\u91cd\u8981\u7684\u90e8\u5206\u3002\u5982\u679c\u4f60\u5fd8\u8bb0\u4e86\u4f7f\u7528 @wraps \uff0c\n\u90a3\u4e48\u4f60\u4f1a\u53d1\u73b0\u88ab\u88c5\u9970\u51fd\u6570\u4e22\u5931\u4e86\u6240\u6709\u6709\u7528\u7684\u4fe1\u606f\u3002\u6bd4\u5982\u5982\u679c\u5ffd\u7565 @wraps \u540e\u7684\u6548\u679c\u662f\u4e0b\u9762\u8fd9\u6837\u7684\uff1a"
      ]
    },
    {
      "cell_type": "code",
      "execution_count": null,
      "metadata": {},
      "outputs": [],
      "source": [
        "countdown.__name__"
      ]
    },
    {
      "cell_type": "code",
      "execution_count": null,
      "metadata": {},
      "outputs": [],
      "source": [
        "countdown.__doc__\ncountdown.__annotations__"
      ]
    },
    {
      "cell_type": "markdown",
      "metadata": {},
      "source": [
        "@wraps \u6709\u4e00\u4e2a\u91cd\u8981\u7279\u5f81\u662f\u5b83\u80fd\u8ba9\u4f60\u901a\u8fc7\u5c5e\u6027 __wrapped__ \u76f4\u63a5\u8bbf\u95ee\u88ab\u5305\u88c5\u51fd\u6570\u3002\u4f8b\u5982:"
      ]
    },
    {
      "cell_type": "code",
      "execution_count": null,
      "metadata": {},
      "outputs": [],
      "source": [
        "countdown.__wrapped__(100000)"
      ]
    },
    {
      "cell_type": "markdown",
      "metadata": {},
      "source": [
        "__wrapped__ \u5c5e\u6027\u8fd8\u80fd\u8ba9\u88ab\u88c5\u9970\u51fd\u6570\u6b63\u786e\u66b4\u9732\u5e95\u5c42\u7684\u53c2\u6570\u7b7e\u540d\u4fe1\u606f\u3002\u4f8b\u5982\uff1a"
      ]
    },
    {
      "cell_type": "code",
      "execution_count": null,
      "metadata": {},
      "outputs": [],
      "source": [
        "from inspect import signature\nprint(signature(countdown))"
      ]
    },
    {
      "cell_type": "markdown",
      "metadata": {},
      "source": [
        "\u4e00\u4e2a\u5f88\u666e\u904d\u7684\u95ee\u9898\u662f\u600e\u6837\u8ba9\u88c5\u9970\u5668\u53bb\u76f4\u63a5\u590d\u5236\u539f\u59cb\u51fd\u6570\u7684\u53c2\u6570\u7b7e\u540d\u4fe1\u606f\uff0c\n\u5982\u679c\u60f3\u81ea\u5df1\u624b\u52a8\u5b9e\u73b0\u7684\u8bdd\u9700\u8981\u505a\u5927\u91cf\u7684\u5de5\u4f5c\uff0c\u6700\u597d\u5c31\u7b80\u5355\u7684\u4f7f\u7528 @wraps \u88c5\u9970\u5668\u3002\n\u901a\u8fc7\u5e95\u5c42\u7684 __wrapped__ \u5c5e\u6027\u8bbf\u95ee\u5230\u51fd\u6570\u7b7e\u540d\u4fe1\u606f\u3002\u66f4\u591a\u5173\u4e8e\u7b7e\u540d\u7684\u5185\u5bb9\u53ef\u4ee5\u53c2\u80039.16\u5c0f\u8282\u3002"
      ]
    }
  ],
  "metadata": {
    "kernelspec": {
      "display_name": "Python 3",
      "language": "python",
      "name": "python3"
    },
    "language_info": {
      "codemirror_mode": {
        "name": "ipython",
        "version": 3
      },
      "file_extension": ".py",
      "mimetype": "text/x-python",
      "name": "python",
      "nbconvert_exporter": "python",
      "pygments_lexer": "ipython3",
      "version": "3.7.1"
    },
    "toc": {
      "base_numbering": 1,
      "nav_menu": {},
      "number_sections": true,
      "sideBar": true,
      "skip_h1_title": true,
      "title_cell": "Table of Contents",
      "title_sidebar": "Contents",
      "toc_cell": false,
      "toc_position": {},
      "toc_section_display": true,
      "toc_window_display": true
    }
  },
  "nbformat": 4,
  "nbformat_minor": 2
}