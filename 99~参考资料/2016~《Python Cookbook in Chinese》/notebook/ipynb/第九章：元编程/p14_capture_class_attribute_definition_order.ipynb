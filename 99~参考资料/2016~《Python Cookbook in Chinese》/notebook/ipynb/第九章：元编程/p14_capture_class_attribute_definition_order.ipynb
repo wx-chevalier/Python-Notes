{
  "cells": [
    {
      "cell_type": "markdown",
      "metadata": {},
      "source": [
        "## 9.14 \u6355\u83b7\u7c7b\u7684\u5c5e\u6027\u5b9a\u4e49\u987a\u5e8f\n"
      ]
    },
    {
      "cell_type": "markdown",
      "metadata": {},
      "source": [
        "### \u95ee\u9898\n"
      ]
    },
    {
      "cell_type": "markdown",
      "metadata": {},
      "source": [
        "\u4f60\u60f3\u81ea\u52a8\u8bb0\u5f55\u4e00\u4e2a\u7c7b\u4e2d\u5c5e\u6027\u548c\u65b9\u6cd5\u5b9a\u4e49\u7684\u987a\u5e8f\uff0c\n\u7136\u540e\u53ef\u4ee5\u5229\u7528\u5b83\u6765\u505a\u5f88\u591a\u64cd\u4f5c\uff08\u6bd4\u5982\u5e8f\u5217\u5316\u3001\u6620\u5c04\u5230\u6570\u636e\u5e93\u7b49\u7b49\uff09\u3002"
      ]
    },
    {
      "cell_type": "markdown",
      "metadata": {},
      "source": [
        "### \u89e3\u51b3\u65b9\u6848\n"
      ]
    },
    {
      "cell_type": "markdown",
      "metadata": {},
      "source": [
        "\u5229\u7528\u5143\u7c7b\u53ef\u4ee5\u5f88\u5bb9\u6613\u7684\u6355\u83b7\u7c7b\u7684\u5b9a\u4e49\u4fe1\u606f\u3002\u4e0b\u9762\u662f\u4e00\u4e2a\u4f8b\u5b50\uff0c\u4f7f\u7528\u4e86\u4e00\u4e2aOrderedDict\u6765\u8bb0\u5f55\u63cf\u8ff0\u5668\u7684\u5b9a\u4e49\u987a\u5e8f\uff1a"
      ]
    },
    {
      "cell_type": "code",
      "execution_count": null,
      "metadata": {},
      "outputs": [],
      "source": [
        "from collections import OrderedDict\n\n# A set of descriptors for various types\nclass Typed:\n    _expected_type = type(None)\n    def __init__(self, name=None):\n        self._name = name\n\n    def __set__(self, instance, value):\n        if not isinstance(value, self._expected_type):\n            raise TypeError('Expected ' + str(self._expected_type))\n        instance.__dict__[self._name] = value\n\nclass Integer(Typed):\n    _expected_type = int\n\nclass Float(Typed):\n    _expected_type = float\n\nclass String(Typed):\n    _expected_type = str\n\n# Metaclass that uses an OrderedDict for class body\nclass OrderedMeta(type):\n    def __new__(cls, clsname, bases, clsdict):\n        d = dict(clsdict)\n        order = []\n        for name, value in clsdict.items():\n            if isinstance(value, Typed):\n                value._name = name\n                order.append(name)\n        d['_order'] = order\n        return type.__new__(cls, clsname, bases, d)\n\n    @classmethod\n    def __prepare__(cls, clsname, bases):\n        return OrderedDict()"
      ]
    },
    {
      "cell_type": "markdown",
      "metadata": {},
      "source": [
        "\u5728\u8fd9\u4e2a\u5143\u7c7b\u4e2d\uff0c\u6267\u884c\u7c7b\u4e3b\u4f53\u65f6\u63cf\u8ff0\u5668\u7684\u5b9a\u4e49\u987a\u5e8f\u4f1a\u88ab\u4e00\u4e2a OrderedDict``\u6355\u83b7\u5230\uff0c\n\u751f\u6210\u7684\u6709\u5e8f\u540d\u79f0\u4ece\u5b57\u5178\u4e2d\u63d0\u53d6\u51fa\u6765\u5e76\u653e\u5165\u7c7b\u5c5e\u6027 ``_order \u4e2d\u3002\u8fd9\u6837\u7684\u8bdd\u7c7b\u4e2d\u7684\u65b9\u6cd5\u53ef\u4ee5\u901a\u8fc7\u591a\u79cd\u65b9\u5f0f\u6765\u4f7f\u7528\u5b83\u3002\n\u4f8b\u5982\uff0c\u4e0b\u9762\u662f\u4e00\u4e2a\u7b80\u5355\u7684\u7c7b\uff0c\u4f7f\u7528\u8fd9\u4e2a\u6392\u5e8f\u5b57\u5178\u6765\u5b9e\u73b0\u5c06\u4e00\u4e2a\u7c7b\u5b9e\u4f8b\u7684\u6570\u636e\u5e8f\u5217\u5316\u4e3a\u4e00\u884cCSV\u6570\u636e\uff1a"
      ]
    },
    {
      "cell_type": "code",
      "execution_count": null,
      "metadata": {},
      "outputs": [],
      "source": [
        "class Structure(metaclass=OrderedMeta):\n    def as_csv(self):\n        return ','.join(str(getattr(self,name)) for name in self._order)\n\n# Example use\nclass Stock(Structure):\n    name = String()\n    shares = Integer()\n    price = Float()\n\n    def __init__(self, name, shares, price):\n        self.name = name\n        self.shares = shares\n        self.price = price"
      ]
    },
    {
      "cell_type": "markdown",
      "metadata": {},
      "source": [
        "\u6211\u4eec\u5728\u4ea4\u4e92\u5f0f\u73af\u5883\u4e2d\u6d4b\u8bd5\u4e00\u4e0b\u8fd9\u4e2aStock\u7c7b\uff1a"
      ]
    },
    {
      "cell_type": "code",
      "execution_count": null,
      "metadata": {},
      "outputs": [],
      "source": [
        "s = Stock('GOOG',100,490.1)\ns.name"
      ]
    },
    {
      "cell_type": "code",
      "execution_count": null,
      "metadata": {},
      "outputs": [],
      "source": [
        "s.as_csv()"
      ]
    },
    {
      "cell_type": "code",
      "execution_count": null,
      "metadata": {},
      "outputs": [],
      "source": [
        "t = Stock('AAPL','a lot', 610.23)"
      ]
    },
    {
      "cell_type": "markdown",
      "metadata": {},
      "source": [
        "### \u8ba8\u8bba\n"
      ]
    },
    {
      "cell_type": "markdown",
      "metadata": {},
      "source": [
        "\u672c\u8282\u4e00\u4e2a\u5173\u952e\u70b9\u5c31\u662fOrderedMeta\u5143\u7c7b\u4e2d\u5b9a\u4e49\u7684 `` __prepare__()`` \u65b9\u6cd5\u3002\n\u8fd9\u4e2a\u65b9\u6cd5\u4f1a\u5728\u5f00\u59cb\u5b9a\u4e49\u7c7b\u548c\u5b83\u7684\u7236\u7c7b\u7684\u65f6\u5019\u88ab\u6267\u884c\u3002\u5b83\u5fc5\u987b\u8fd4\u56de\u4e00\u4e2a\u6620\u5c04\u5bf9\u8c61\u4ee5\u4fbf\u5728\u7c7b\u5b9a\u4e49\u4f53\u4e2d\u88ab\u4f7f\u7528\u5230\u3002\n\u6211\u4eec\u8fd9\u91cc\u901a\u8fc7\u8fd4\u56de\u4e86\u4e00\u4e2aOrderedDict\u800c\u4e0d\u662f\u4e00\u4e2a\u666e\u901a\u7684\u5b57\u5178\uff0c\u53ef\u4ee5\u5f88\u5bb9\u6613\u7684\u6355\u83b7\u5b9a\u4e49\u7684\u987a\u5e8f\u3002"
      ]
    },
    {
      "cell_type": "markdown",
      "metadata": {},
      "source": [
        "\u5982\u679c\u4f60\u60f3\u6784\u9020\u81ea\u5df1\u7684\u7c7b\u5b57\u5178\u5bf9\u8c61\uff0c\u53ef\u4ee5\u5f88\u5bb9\u6613\u7684\u6269\u5c55\u8fd9\u4e2a\u529f\u80fd\u3002\u6bd4\u5982\uff0c\u4e0b\u9762\u7684\u8fd9\u4e2a\u4fee\u6539\u65b9\u6848\u53ef\u4ee5\u9632\u6b62\u91cd\u590d\u7684\u5b9a\u4e49\uff1a"
      ]
    },
    {
      "cell_type": "code",
      "execution_count": null,
      "metadata": {},
      "outputs": [],
      "source": [
        "from collections import OrderedDict\n\nclass NoDupOrderedDict(OrderedDict):\n    def __init__(self, clsname):\n        self.clsname = clsname\n        super().__init__()\n    def __setitem__(self, name, value):\n        if name in self:\n            raise TypeError('{} already defined in {}'.format(name, self.clsname))\n        super().__setitem__(name, value)\n\nclass OrderedMeta(type):\n    def __new__(cls, clsname, bases, clsdict):\n        d = dict(clsdict)\n        d['_order'] = [name for name in clsdict if name[0] != '_']\n        return type.__new__(cls, clsname, bases, d)\n\n    @classmethod\n    def __prepare__(cls, clsname, bases):\n        return NoDupOrderedDict(clsname)"
      ]
    },
    {
      "cell_type": "markdown",
      "metadata": {},
      "source": [
        "\u4e0b\u9762\u6211\u4eec\u6d4b\u8bd5\u91cd\u590d\u7684\u5b9a\u4e49\u4f1a\u51fa\u73b0\u4ec0\u4e48\u60c5\u51b5\uff1a"
      ]
    },
    {
      "cell_type": "code",
      "execution_count": null,
      "metadata": {},
      "outputs": [],
      "source": [
        "class A(metaclass=OrderedMeta):\ndef spam(self):\npass\ndef spam(self):\npass"
      ]
    },
    {
      "cell_type": "markdown",
      "metadata": {},
      "source": [
        "\u6700\u540e\u8fd8\u6709\u4e00\u70b9\u5f88\u91cd\u8981\uff0c\u5c31\u662f\u5728 __new__() \u65b9\u6cd5\u4e2d\u5bf9\u4e8e\u5143\u7c7b\u4e2d\u88ab\u4fee\u6539\u5b57\u5178\u7684\u5904\u7406\u3002\n\u5c3d\u7ba1\u7c7b\u4f7f\u7528\u4e86\u53e6\u5916\u4e00\u4e2a\u5b57\u5178\u6765\u5b9a\u4e49\uff0c\u5728\u6784\u9020\u6700\u7ec8\u7684 class \u5bf9\u8c61\u7684\u65f6\u5019\uff0c\n\u6211\u4eec\u4ecd\u7136\u9700\u8981\u5c06\u8fd9\u4e2a\u5b57\u5178\u8f6c\u6362\u4e3a\u4e00\u4e2a\u6b63\u786e\u7684 dict \u5b9e\u4f8b\u3002\n\u901a\u8fc7\u8bed\u53e5 d = dict(clsdict) \u6765\u5b8c\u6210\u8fd9\u4e2a\u6548\u679c\u3002"
      ]
    },
    {
      "cell_type": "markdown",
      "metadata": {},
      "source": [
        "\u5bf9\u4e8e\u5f88\u591a\u5e94\u7528\u7a0b\u5e8f\u800c\u5df2\uff0c\u80fd\u591f\u6355\u83b7\u7c7b\u5b9a\u4e49\u7684\u987a\u5e8f\u662f\u4e00\u4e2a\u770b\u4f3c\u4e0d\u8d77\u773c\u5374\u53c8\u975e\u5e38\u91cd\u8981\u7684\u7279\u6027\u3002\n\u4f8b\u5982\uff0c\u5728\u5bf9\u8c61\u5173\u7cfb\u6620\u5c04\u4e2d\uff0c\u6211\u4eec\u901a\u5e38\u4f1a\u770b\u5230\u4e0b\u9762\u8fd9\u79cd\u65b9\u5f0f\u5b9a\u4e49\u7684\u7c7b\uff1a"
      ]
    },
    {
      "cell_type": "code",
      "execution_count": null,
      "metadata": {},
      "outputs": [],
      "source": [
        "class Stock(Model):\n    name = String()\n    shares = Integer()\n    price = Float()"
      ]
    },
    {
      "cell_type": "markdown",
      "metadata": {},
      "source": [
        "\u5728\u6846\u67b6\u5e95\u5c42\uff0c\u6211\u4eec\u5fc5\u987b\u6355\u83b7\u5b9a\u4e49\u7684\u987a\u5e8f\u6765\u5c06\u5bf9\u8c61\u6620\u5c04\u5230\u5143\u7ec4\u6216\u6570\u636e\u5e93\u8868\u4e2d\u7684\u884c\uff08\u5c31\u7c7b\u4f3c\u4e8e\u4e0a\u9762\u4f8b\u5b50\u4e2d\u7684 as_csv() \u7684\u529f\u80fd\uff09\u3002\n\u8fd9\u8282\u6f14\u793a\u7684\u6280\u672f\u975e\u5e38\u7b80\u5355\uff0c\u5e76\u4e14\u901a\u5e38\u4f1a\u6bd4\u5176\u4ed6\u7c7b\u4f3c\u65b9\u6cd5\uff08\u901a\u5e38\u90fd\u8981\u5728\u63cf\u8ff0\u5668\u7c7b\u4e2d\u7ef4\u62a4\u4e00\u4e2a\u9690\u85cf\u7684\u8ba1\u6570\u5668\uff09\u8981\u7b80\u5355\u7684\u591a\u3002"
      ]
    }
  ],
  "metadata": {
    "kernelspec": {
      "display_name": "Python 3",
      "language": "python",
      "name": "python3"
    },
    "language_info": {
      "codemirror_mode": {
        "name": "ipython",
        "version": 3
      },
      "file_extension": ".py",
      "mimetype": "text/x-python",
      "name": "python",
      "nbconvert_exporter": "python",
      "pygments_lexer": "ipython3",
      "version": "3.7.1"
    },
    "toc": {
      "base_numbering": 1,
      "nav_menu": {},
      "number_sections": true,
      "sideBar": true,
      "skip_h1_title": true,
      "title_cell": "Table of Contents",
      "title_sidebar": "Contents",
      "toc_cell": false,
      "toc_position": {},
      "toc_section_display": true,
      "toc_window_display": true
    }
  },
  "nbformat": 4,
  "nbformat_minor": 2
}