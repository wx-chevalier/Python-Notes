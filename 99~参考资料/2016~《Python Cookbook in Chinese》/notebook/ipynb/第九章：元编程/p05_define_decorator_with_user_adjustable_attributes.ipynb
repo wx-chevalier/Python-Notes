{
  "cells": [
    {
      "cell_type": "markdown",
      "metadata": {},
      "source": [
        "## 9.5 \u53ef\u81ea\u5b9a\u4e49\u5c5e\u6027\u7684\u88c5\u9970\u5668\n"
      ]
    },
    {
      "cell_type": "markdown",
      "metadata": {},
      "source": [
        "### \u95ee\u9898\n"
      ]
    },
    {
      "cell_type": "markdown",
      "metadata": {},
      "source": [
        "\u4f60\u60f3\u5199\u4e00\u4e2a\u88c5\u9970\u5668\u6765\u5305\u88c5\u4e00\u4e2a\u51fd\u6570\uff0c\u5e76\u4e14\u5141\u8bb8\u7528\u6237\u63d0\u4f9b\u53c2\u6570\u5728\u8fd0\u884c\u65f6\u63a7\u5236\u88c5\u9970\u5668\u884c\u4e3a\u3002"
      ]
    },
    {
      "cell_type": "markdown",
      "metadata": {},
      "source": [
        "### \u89e3\u51b3\u65b9\u6848\n"
      ]
    },
    {
      "cell_type": "markdown",
      "metadata": {},
      "source": [
        "\u5f15\u5165\u4e00\u4e2a\u8bbf\u95ee\u51fd\u6570\uff0c\u4f7f\u7528 nonlocal \u6765\u4fee\u6539\u5185\u90e8\u53d8\u91cf\u3002\n\u7136\u540e\u8fd9\u4e2a\u8bbf\u95ee\u51fd\u6570\u88ab\u4f5c\u4e3a\u4e00\u4e2a\u5c5e\u6027\u8d4b\u503c\u7ed9\u5305\u88c5\u51fd\u6570\u3002"
      ]
    },
    {
      "cell_type": "code",
      "execution_count": null,
      "metadata": {},
      "outputs": [],
      "source": [
        "from functools import wraps, partial\nimport logging\n# Utility decorator to attach a function as an attribute of obj\ndef attach_wrapper(obj, func=None):\n    if func is None:\n        return partial(attach_wrapper, obj)\n    setattr(obj, func.__name__, func)\n    return func\n\ndef logged(level, name=None, message=None):\n    '''\n    Add logging to a function. level is the logging\n    level, name is the logger name, and message is the\n    log message. If name and message aren't specified,\n    they default to the function's module and name.\n    '''\n    def decorate(func):\n        logname = name if name else func.__module__\n        log = logging.getLogger(logname)\n        logmsg = message if message else func.__name__\n\n        @wraps(func)\n        def wrapper(*args, **kwargs):\n            log.log(level, logmsg)\n            return func(*args, **kwargs)\n\n        # Attach setter functions\n        @attach_wrapper(wrapper)\n        def set_level(newlevel):\n            nonlocal level\n            level = newlevel\n\n        @attach_wrapper(wrapper)\n        def set_message(newmsg):\n            nonlocal logmsg\n            logmsg = newmsg\n\n        return wrapper\n\n    return decorate\n\n# Example use\n@logged(logging.DEBUG)\ndef add(x, y):\n    return x + y\n\n@logged(logging.CRITICAL, 'example')\ndef spam():\n    print('Spam!')"
      ]
    },
    {
      "cell_type": "markdown",
      "metadata": {},
      "source": [
        "\u4e0b\u9762\u662f\u4ea4\u4e92\u73af\u5883\u4e0b\u7684\u4f7f\u7528\u4f8b\u5b50\uff1a"
      ]
    },
    {
      "cell_type": "code",
      "execution_count": null,
      "metadata": {},
      "outputs": [],
      "source": [
        "import logging\nlogging.basicConfig(level=logging.DEBUG)\nadd(2, 3)"
      ]
    },
    {
      "cell_type": "code",
      "execution_count": null,
      "metadata": {},
      "outputs": [],
      "source": [
        "# Change the log message\nadd.set_message('Add called')\nadd(2, 3)"
      ]
    },
    {
      "cell_type": "code",
      "execution_count": null,
      "metadata": {},
      "outputs": [],
      "source": [
        "# Change the log level\nadd.set_level(logging.WARNING)\nadd(2, 3)"
      ]
    },
    {
      "cell_type": "markdown",
      "metadata": {},
      "source": [
        "### \u8ba8\u8bba\n"
      ]
    },
    {
      "cell_type": "markdown",
      "metadata": {},
      "source": [
        "\u8fd9\u4e00\u5c0f\u8282\u7684\u5173\u952e\u70b9\u5728\u4e8e\u8bbf\u95ee\u51fd\u6570(\u5982 set_message() \u548c set_level() )\uff0c\u5b83\u4eec\u88ab\u4f5c\u4e3a\u5c5e\u6027\u8d4b\u7ed9\u5305\u88c5\u5668\u3002\n\u6bcf\u4e2a\u8bbf\u95ee\u51fd\u6570\u5141\u8bb8\u4f7f\u7528 nonlocal \u6765\u4fee\u6539\u51fd\u6570\u5185\u90e8\u7684\u53d8\u91cf\u3002"
      ]
    },
    {
      "cell_type": "markdown",
      "metadata": {},
      "source": [
        "\u8fd8\u6709\u4e00\u4e2a\u4ee4\u4eba\u5403\u60ca\u7684\u5730\u65b9\u662f\u8bbf\u95ee\u51fd\u6570\u4f1a\u5728\u591a\u5c42\u88c5\u9970\u5668\u95f4\u4f20\u64ad(\u5982\u679c\u4f60\u7684\u88c5\u9970\u5668\u90fd\u4f7f\u7528\u4e86 @functools.wraps \u6ce8\u89e3)\u3002\n\u4f8b\u5982\uff0c\u5047\u8bbe\u4f60\u5f15\u5165\u53e6\u5916\u4e00\u4e2a\u88c5\u9970\u5668\uff0c\u6bd4\u59829.2\u5c0f\u8282\u4e2d\u7684 @timethis \uff0c\u50cf\u4e0b\u9762\u8fd9\u6837\uff1a"
      ]
    },
    {
      "cell_type": "code",
      "execution_count": null,
      "metadata": {},
      "outputs": [],
      "source": [
        "@timethis\n@logged(logging.DEBUG)\ndef countdown(n):\n    while n > 0:\n        n -= 1"
      ]
    },
    {
      "cell_type": "markdown",
      "metadata": {},
      "source": [
        "\u4f60\u4f1a\u53d1\u73b0\u8bbf\u95ee\u51fd\u6570\u4f9d\u65e7\u6709\u6548\uff1a"
      ]
    },
    {
      "cell_type": "code",
      "execution_count": null,
      "metadata": {},
      "outputs": [],
      "source": [
        "countdown(10000000)"
      ]
    },
    {
      "cell_type": "code",
      "execution_count": null,
      "metadata": {},
      "outputs": [],
      "source": [
        "countdown.set_level(logging.WARNING)\ncountdown.set_message(\"Counting down to zero\")\ncountdown(10000000)"
      ]
    },
    {
      "cell_type": "markdown",
      "metadata": {},
      "source": [
        "\u4f60\u8fd8\u4f1a\u53d1\u73b0\u5373\u4f7f\u88c5\u9970\u5668\u50cf\u4e0b\u9762\u8fd9\u6837\u4ee5\u76f8\u53cd\u7684\u65b9\u5411\u6392\u653e\uff0c\u6548\u679c\u4e5f\u662f\u4e00\u6837\u7684\uff1a"
      ]
    },
    {
      "cell_type": "code",
      "execution_count": null,
      "metadata": {},
      "outputs": [],
      "source": [
        "@logged(logging.DEBUG)\n@timethis\ndef countdown(n):\n    while n > 0:\n        n -= 1"
      ]
    },
    {
      "cell_type": "markdown",
      "metadata": {},
      "source": [
        "\u8fd8\u80fd\u901a\u8fc7\u4f7f\u7528lambda\u8868\u8fbe\u5f0f\u4ee3\u7801\u6765\u8ba9\u8bbf\u95ee\u51fd\u6570\u7684\u8fd4\u56de\u4e0d\u540c\u7684\u8bbe\u5b9a\u503c\uff1a"
      ]
    },
    {
      "cell_type": "code",
      "execution_count": null,
      "metadata": {},
      "outputs": [],
      "source": [
        "@attach_wrapper(wrapper)\ndef get_level():\n    return level\n\n# Alternative\nwrapper.get_level = lambda: level"
      ]
    },
    {
      "cell_type": "markdown",
      "metadata": {},
      "source": [
        "\u4e00\u4e2a\u6bd4\u8f83\u96be\u7406\u89e3\u7684\u5730\u65b9\u5c31\u662f\u5bf9\u4e8e\u8bbf\u95ee\u51fd\u6570\u7684\u9996\u6b21\u4f7f\u7528\u3002\u4f8b\u5982\uff0c\u4f60\u53ef\u80fd\u4f1a\u8003\u8651\u53e6\u5916\u4e00\u4e2a\u65b9\u6cd5\u76f4\u63a5\u8bbf\u95ee\u51fd\u6570\u7684\u5c5e\u6027\uff0c\u5982\u4e0b\uff1a"
      ]
    },
    {
      "cell_type": "code",
      "execution_count": null,
      "metadata": {},
      "outputs": [],
      "source": [
        "@wraps(func)\ndef wrapper(*args, **kwargs):\n    wrapper.log.log(wrapper.level, wrapper.logmsg)\n    return func(*args, **kwargs)\n\n# Attach adjustable attributes\nwrapper.level = level\nwrapper.logmsg = logmsg\nwrapper.log = log"
      ]
    },
    {
      "cell_type": "markdown",
      "metadata": {},
      "source": [
        "\u8fd9\u4e2a\u65b9\u6cd5\u4e5f\u53ef\u80fd\u6b63\u5e38\u5de5\u4f5c\uff0c\u4f46\u524d\u63d0\u662f\u5b83\u5fc5\u987b\u662f\u6700\u5916\u5c42\u7684\u88c5\u9970\u5668\u624d\u884c\u3002\n\u5982\u679c\u5b83\u7684\u4e0a\u9762\u8fd8\u6709\u53e6\u5916\u7684\u88c5\u9970\u5668(\u6bd4\u5982\u4e0a\u9762\u63d0\u5230\u7684 @timethis \u4f8b\u5b50)\uff0c\u90a3\u4e48\u5b83\u4f1a\u9690\u85cf\u5e95\u5c42\u5c5e\u6027\uff0c\u4f7f\u5f97\u4fee\u6539\u5b83\u4eec\u6ca1\u6709\u4efb\u4f55\u4f5c\u7528\u3002\n\u800c\u901a\u8fc7\u4f7f\u7528\u8bbf\u95ee\u51fd\u6570\u5c31\u80fd\u907f\u514d\u8fd9\u6837\u7684\u5c40\u9650\u6027\u3002"
      ]
    },
    {
      "cell_type": "markdown",
      "metadata": {},
      "source": [
        "\u6700\u540e\u63d0\u4e00\u70b9\uff0c\u8fd9\u4e00\u5c0f\u8282\u7684\u65b9\u6848\u4e5f\u53ef\u4ee5\u4f5c\u4e3a9.9\u5c0f\u8282\u4e2d\u88c5\u9970\u5668\u7c7b\u7684\u53e6\u4e00\u79cd\u5b9e\u73b0\u65b9\u6cd5\u3002"
      ]
    }
  ],
  "metadata": {
    "kernelspec": {
      "display_name": "Python 3",
      "language": "python",
      "name": "python3"
    },
    "language_info": {
      "codemirror_mode": {
        "name": "ipython",
        "version": 3
      },
      "file_extension": ".py",
      "mimetype": "text/x-python",
      "name": "python",
      "nbconvert_exporter": "python",
      "pygments_lexer": "ipython3",
      "version": "3.7.1"
    },
    "toc": {
      "base_numbering": 1,
      "nav_menu": {},
      "number_sections": true,
      "sideBar": true,
      "skip_h1_title": true,
      "title_cell": "Table of Contents",
      "title_sidebar": "Contents",
      "toc_cell": false,
      "toc_position": {},
      "toc_section_display": true,
      "toc_window_display": true
    }
  },
  "nbformat": 4,
  "nbformat_minor": 2
}