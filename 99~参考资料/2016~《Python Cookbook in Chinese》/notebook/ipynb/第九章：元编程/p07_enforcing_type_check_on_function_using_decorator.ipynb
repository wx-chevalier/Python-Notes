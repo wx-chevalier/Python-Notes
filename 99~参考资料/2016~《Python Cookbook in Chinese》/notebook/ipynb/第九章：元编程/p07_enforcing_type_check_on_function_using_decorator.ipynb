{
  "cells": [
    {
      "cell_type": "markdown",
      "metadata": {},
      "source": [
        "## 9.7 \u5229\u7528\u88c5\u9970\u5668\u5f3a\u5236\u51fd\u6570\u4e0a\u7684\u7c7b\u578b\u68c0\u67e5\n"
      ]
    },
    {
      "cell_type": "markdown",
      "metadata": {},
      "source": [
        "### \u95ee\u9898\n"
      ]
    },
    {
      "cell_type": "markdown",
      "metadata": {},
      "source": [
        "\u4f5c\u4e3a\u67d0\u79cd\u7f16\u7a0b\u89c4\u7ea6\uff0c\u4f60\u60f3\u5728\u5bf9\u51fd\u6570\u53c2\u6570\u8fdb\u884c\u5f3a\u5236\u7c7b\u578b\u68c0\u67e5\u3002"
      ]
    },
    {
      "cell_type": "markdown",
      "metadata": {},
      "source": [
        "### \u89e3\u51b3\u65b9\u6848\n"
      ]
    },
    {
      "cell_type": "markdown",
      "metadata": {},
      "source": [
        "\u5728\u6f14\u793a\u5b9e\u9645\u4ee3\u7801\u524d\uff0c\u5148\u8bf4\u660e\u6211\u4eec\u7684\u76ee\u6807\uff1a\u80fd\u5bf9\u51fd\u6570\u53c2\u6570\u7c7b\u578b\u8fdb\u884c\u65ad\u8a00\uff0c\u7c7b\u4f3c\u4e0b\u9762\u8fd9\u6837\uff1a"
      ]
    },
    {
      "cell_type": "code",
      "execution_count": null,
      "metadata": {},
      "outputs": [],
      "source": [
        "@typeassert(int, int)\ndef add(x, y):\n    return x + y\nadd(2, 3)"
      ]
    },
    {
      "cell_type": "code",
      "execution_count": null,
      "metadata": {},
      "outputs": [],
      "source": [
        "add(2, 'hello')"
      ]
    },
    {
      "cell_type": "markdown",
      "metadata": {},
      "source": [
        "\u4e0b\u9762\u662f\u4f7f\u7528\u88c5\u9970\u5668\u6280\u672f\u6765\u5b9e\u73b0 @typeassert \uff1a"
      ]
    },
    {
      "cell_type": "code",
      "execution_count": null,
      "metadata": {},
      "outputs": [],
      "source": [
        "from inspect import signature\nfrom functools import wraps\n\ndef typeassert(*ty_args, **ty_kwargs):\n    def decorate(func):\n        # If in optimized mode, disable type checking\n        if not __debug__:\n            return func\n\n        # Map function argument names to supplied types\n        sig = signature(func)\n        bound_types = sig.bind_partial(*ty_args, **ty_kwargs).arguments\n\n        @wraps(func)\n        def wrapper(*args, **kwargs):\n            bound_values = sig.bind(*args, **kwargs)\n            # Enforce type assertions across supplied arguments\n            for name, value in bound_values.arguments.items():\n                if name in bound_types:\n                    if not isinstance(value, bound_types[name]):\n                        raise TypeError(\n                            'Argument {} must be {}'.format(name, bound_types[name])\n                            )\n            return func(*args, **kwargs)\n        return wrapper\n    return decorate"
      ]
    },
    {
      "cell_type": "markdown",
      "metadata": {},
      "source": [
        "\u53ef\u4ee5\u770b\u51fa\u8fd9\u4e2a\u88c5\u9970\u5668\u975e\u5e38\u7075\u6d3b\uff0c\u65e2\u53ef\u4ee5\u6307\u5b9a\u6240\u6709\u53c2\u6570\u7c7b\u578b\uff0c\u4e5f\u53ef\u4ee5\u53ea\u6307\u5b9a\u90e8\u5206\u3002\n\u5e76\u4e14\u53ef\u4ee5\u901a\u8fc7\u4f4d\u7f6e\u6216\u5173\u952e\u5b57\u6765\u6307\u5b9a\u53c2\u6570\u7c7b\u578b\u3002\u4e0b\u9762\u662f\u4f7f\u7528\u793a\u4f8b\uff1a"
      ]
    },
    {
      "cell_type": "code",
      "execution_count": null,
      "metadata": {},
      "outputs": [],
      "source": [
        "@typeassert(int, z=int)\ndef spam(x, y, z=42):\n    print(x, y, z)\nspam(1, 2, 3)"
      ]
    },
    {
      "cell_type": "code",
      "execution_count": null,
      "metadata": {},
      "outputs": [],
      "source": [
        "spam(1, 'hello', 3)"
      ]
    },
    {
      "cell_type": "code",
      "execution_count": null,
      "metadata": {},
      "outputs": [],
      "source": [
        "spam(1, 'hello', 'world')"
      ]
    },
    {
      "cell_type": "markdown",
      "metadata": {},
      "source": [
        "### \u8ba8\u8bba\n"
      ]
    },
    {
      "cell_type": "markdown",
      "metadata": {},
      "source": [
        "\u8fd9\u8282\u662f\u9ad8\u7ea7\u88c5\u9970\u5668\u793a\u4f8b\uff0c\u5f15\u5165\u4e86\u5f88\u591a\u91cd\u8981\u7684\u6982\u5ff5\u3002"
      ]
    },
    {
      "cell_type": "markdown",
      "metadata": {},
      "source": [
        "\u9996\u5148\uff0c\u88c5\u9970\u5668\u53ea\u4f1a\u5728\u51fd\u6570\u5b9a\u4e49\u65f6\u88ab\u8c03\u7528\u4e00\u6b21\u3002\n\u6709\u65f6\u5019\u4f60\u53bb\u6389\u88c5\u9970\u5668\u7684\u529f\u80fd\uff0c\u90a3\u4e48\u4f60\u53ea\u9700\u8981\u7b80\u5355\u7684\u8fd4\u56de\u88ab\u88c5\u9970\u51fd\u6570\u5373\u53ef\u3002\n\u4e0b\u9762\u7684\u4ee3\u7801\u4e2d\uff0c\u5982\u679c\u5168\u5c40\u53d8\u91cf\u3000__debug__ \u88ab\u8bbe\u7f6e\u6210\u4e86False(\u5f53\u4f60\u4f7f\u7528-O\u6216-OO\u53c2\u6570\u7684\u4f18\u5316\u6a21\u5f0f\u6267\u884c\u7a0b\u5e8f\u65f6)\uff0c\n\u90a3\u4e48\u5c31\u76f4\u63a5\u8fd4\u56de\u672a\u4fee\u6539\u8fc7\u7684\u51fd\u6570\u672c\u8eab\uff1a"
      ]
    },
    {
      "cell_type": "code",
      "execution_count": null,
      "metadata": {},
      "outputs": [],
      "source": [
        "def decorate(func):\n    # If in optimized mode, disable type checking\n    if not __debug__:\n        return func"
      ]
    },
    {
      "cell_type": "markdown",
      "metadata": {},
      "source": [
        "\u5176\u6b21\uff0c\u8fd9\u91cc\u8fd8\u5bf9\u88ab\u5305\u88c5\u51fd\u6570\u7684\u53c2\u6570\u7b7e\u540d\u8fdb\u884c\u4e86\u68c0\u67e5\uff0c\u6211\u4eec\u4f7f\u7528\u4e86 inspect.signature() \u51fd\u6570\u3002\n\u7b80\u5355\u6765\u8bb2\uff0c\u5b83\u8fd0\u884c\u4f60\u63d0\u53d6\u4e00\u4e2a\u53ef\u8c03\u7528\u5bf9\u8c61\u7684\u53c2\u6570\u7b7e\u540d\u4fe1\u606f\u3002\u4f8b\u5982\uff1a"
      ]
    },
    {
      "cell_type": "code",
      "execution_count": null,
      "metadata": {},
      "outputs": [],
      "source": [
        "from inspect import signature\ndef spam(x, y, z=42):\n    pass\nsig = signature(spam)\nprint(sig)"
      ]
    },
    {
      "cell_type": "code",
      "execution_count": null,
      "metadata": {},
      "outputs": [],
      "source": [
        "sig.parameters"
      ]
    },
    {
      "cell_type": "code",
      "execution_count": null,
      "metadata": {},
      "outputs": [],
      "source": [
        "sig.parameters['z'].name"
      ]
    },
    {
      "cell_type": "code",
      "execution_count": null,
      "metadata": {},
      "outputs": [],
      "source": [
        "sig.parameters['z'].default"
      ]
    },
    {
      "cell_type": "code",
      "execution_count": null,
      "metadata": {},
      "outputs": [],
      "source": [
        "sig.parameters['z'].kind"
      ]
    },
    {
      "cell_type": "markdown",
      "metadata": {},
      "source": [
        "\u88c5\u9970\u5668\u7684\u5f00\u59cb\u90e8\u5206\uff0c\u6211\u4eec\u4f7f\u7528\u4e86 bind_partial() \u65b9\u6cd5\u6765\u6267\u884c\u4ece\u6307\u5b9a\u7c7b\u578b\u5230\u540d\u79f0\u7684\u90e8\u5206\u7ed1\u5b9a\u3002\n\u4e0b\u9762\u662f\u4f8b\u5b50\u6f14\u793a\uff1a"
      ]
    },
    {
      "cell_type": "code",
      "execution_count": null,
      "metadata": {},
      "outputs": [],
      "source": [
        "bound_types = sig.bind_partial(int,z=int)\nbound_types"
      ]
    },
    {
      "cell_type": "code",
      "execution_count": null,
      "metadata": {},
      "outputs": [],
      "source": [
        "bound_types.arguments"
      ]
    },
    {
      "cell_type": "markdown",
      "metadata": {},
      "source": [
        "\u5728\u8fd9\u4e2a\u90e8\u5206\u7ed1\u5b9a\u4e2d\uff0c\u4f60\u53ef\u4ee5\u6ce8\u610f\u5230\u7f3a\u5931\u7684\u53c2\u6570\u88ab\u5ffd\u7565\u4e86(\u6bd4\u5982\u5e76\u6ca1\u6709\u5bf9y\u8fdb\u884c\u7ed1\u5b9a)\u3002\n\u4e0d\u8fc7\u6700\u91cd\u8981\u7684\u662f\u521b\u5efa\u4e86\u4e00\u4e2a\u6709\u5e8f\u5b57\u5178 bound_types.arguments \u3002\n\u8fd9\u4e2a\u5b57\u5178\u4f1a\u5c06\u53c2\u6570\u540d\u4ee5\u51fd\u6570\u7b7e\u540d\u4e2d\u76f8\u540c\u987a\u5e8f\u6620\u5c04\u5230\u6307\u5b9a\u7684\u7c7b\u578b\u503c\u4e0a\u9762\u53bb\u3002\n\u5728\u6211\u4eec\u7684\u88c5\u9970\u5668\u4f8b\u5b50\u4e2d\uff0c\u8fd9\u4e2a\u6620\u5c04\u5305\u542b\u4e86\u6211\u4eec\u8981\u5f3a\u5236\u6307\u5b9a\u7684\u7c7b\u578b\u65ad\u8a00\u3002"
      ]
    },
    {
      "cell_type": "markdown",
      "metadata": {},
      "source": [
        "\u5728\u88c5\u9970\u5668\u521b\u5efa\u7684\u5b9e\u9645\u5305\u88c5\u51fd\u6570\u4e2d\u4f7f\u7528\u5230\u4e86 sig.bind() \u65b9\u6cd5\u3002\nbind() \u8ddf bind_partial() \u7c7b\u4f3c\uff0c\u4f46\u662f\u5b83\u4e0d\u5141\u8bb8\u5ffd\u7565\u4efb\u4f55\u53c2\u6570\u3002\u56e0\u6b64\u6709\u4e86\u4e0b\u9762\u7684\u7ed3\u679c\uff1a"
      ]
    },
    {
      "cell_type": "code",
      "execution_count": null,
      "metadata": {},
      "outputs": [],
      "source": [
        "bound_values = sig.bind(1, 2, 3)\nbound_values.arguments"
      ]
    },
    {
      "cell_type": "markdown",
      "metadata": {},
      "source": [
        "\u4f7f\u7528\u8fd9\u4e2a\u6620\u5c04\u6211\u4eec\u53ef\u4ee5\u5f88\u8f7b\u677e\u7684\u5b9e\u73b0\u6211\u4eec\u7684\u5f3a\u5236\u7c7b\u578b\u68c0\u67e5\uff1a"
      ]
    },
    {
      "cell_type": "code",
      "execution_count": null,
      "metadata": {},
      "outputs": [],
      "source": [
        "for name, value in bound_values.arguments.items():\n    if name in bound_types.arguments:\n        if not isinstance(value, bound_types.arguments[name]):\n            raise TypeError()"
      ]
    },
    {
      "cell_type": "markdown",
      "metadata": {},
      "source": [
        "\u4e0d\u8fc7\u8fd9\u4e2a\u65b9\u6848\u8fd8\u6709\u70b9\u5c0f\u7455\u75b5\uff0c\u5b83\u5bf9\u4e8e\u6709\u9ed8\u8ba4\u503c\u7684\u53c2\u6570\u5e76\u4e0d\u9002\u7528\u3002\n\u6bd4\u5982\u4e0b\u9762\u7684\u4ee3\u7801\u53ef\u4ee5\u6b63\u5e38\u5de5\u4f5c\uff0c\u5c3d\u7ba1items\u7684\u7c7b\u578b\u662f\u9519\u8bef\u7684\uff1a"
      ]
    },
    {
      "cell_type": "code",
      "execution_count": null,
      "metadata": {},
      "outputs": [],
      "source": [
        "@typeassert(int, list)\ndef bar(x, items=None):\n    if items is None:\n        items = []\n    items.append(x)\n    return items\nbar(2)"
      ]
    },
    {
      "cell_type": "code",
      "execution_count": null,
      "metadata": {},
      "outputs": [],
      "source": [
        "bar(2,3)"
      ]
    },
    {
      "cell_type": "code",
      "execution_count": null,
      "metadata": {},
      "outputs": [],
      "source": [
        "bar(4, [1, 2, 3])"
      ]
    },
    {
      "cell_type": "markdown",
      "metadata": {},
      "source": [
        "\u6700\u540e\u4e00\u70b9\u662f\u5173\u4e8e\u9002\u7528\u88c5\u9970\u5668\u53c2\u6570\u548c\u51fd\u6570\u6ce8\u89e3\u4e4b\u95f4\u7684\u4e89\u8bba\u3002\n\u4f8b\u5982\uff0c\u4e3a\u4ec0\u4e48\u4e0d\u50cf\u4e0b\u9762\u8fd9\u6837\u5199\u4e00\u4e2a\u88c5\u9970\u5668\u6765\u67e5\u627e\u51fd\u6570\u4e2d\u7684\u6ce8\u89e3\u5462\uff1f"
      ]
    },
    {
      "cell_type": "code",
      "execution_count": null,
      "metadata": {},
      "outputs": [],
      "source": [
        "@typeassert\ndef spam(x:int, y, z:int = 42):\n    print(x,y,z)"
      ]
    },
    {
      "cell_type": "markdown",
      "metadata": {},
      "source": [
        "\u4e00\u4e2a\u53ef\u80fd\u7684\u539f\u56e0\u662f\u5982\u679c\u4f7f\u7528\u4e86\u51fd\u6570\u53c2\u6570\u6ce8\u89e3\uff0c\u90a3\u4e48\u5c31\u88ab\u9650\u5236\u4e86\u3002\n\u5982\u679c\u6ce8\u89e3\u88ab\u7528\u6765\u505a\u7c7b\u578b\u68c0\u67e5\u5c31\u4e0d\u80fd\u505a\u5176\u4ed6\u4e8b\u60c5\u4e86\u3002\u800c\u4e14 @typeassert \u4e0d\u80fd\u518d\u7528\u4e8e\u4f7f\u7528\u6ce8\u89e3\u505a\u5176\u4ed6\u4e8b\u60c5\u7684\u51fd\u6570\u4e86\u3002\n\u800c\u4f7f\u7528\u4e0a\u9762\u7684\u88c5\u9970\u5668\u53c2\u6570\u7075\u6d3b\u6027\u5927\u591a\u4e86\uff0c\u4e5f\u66f4\u52a0\u901a\u7528\u3002"
      ]
    },
    {
      "cell_type": "markdown",
      "metadata": {},
      "source": [
        "\u53ef\u4ee5\u5728PEP 362\u4ee5\u53ca inspect \u6a21\u5757\u4e2d\u627e\u5230\u66f4\u591a\u5173\u4e8e\u51fd\u6570\u53c2\u6570\u5bf9\u8c61\u7684\u4fe1\u606f\u3002\u57289.16\u5c0f\u8282\u8fd8\u6709\u53e6\u5916\u4e00\u4e2a\u4f8b\u5b50\u3002"
      ]
    }
  ],
  "metadata": {
    "kernelspec": {
      "display_name": "Python 3",
      "language": "python",
      "name": "python3"
    },
    "language_info": {
      "codemirror_mode": {
        "name": "ipython",
        "version": 3
      },
      "file_extension": ".py",
      "mimetype": "text/x-python",
      "name": "python",
      "nbconvert_exporter": "python",
      "pygments_lexer": "ipython3",
      "version": "3.7.1"
    },
    "toc": {
      "base_numbering": 1,
      "nav_menu": {},
      "number_sections": true,
      "sideBar": true,
      "skip_h1_title": true,
      "title_cell": "Table of Contents",
      "title_sidebar": "Contents",
      "toc_cell": false,
      "toc_position": {},
      "toc_section_display": true,
      "toc_window_display": true
    }
  },
  "nbformat": 4,
  "nbformat_minor": 2
}