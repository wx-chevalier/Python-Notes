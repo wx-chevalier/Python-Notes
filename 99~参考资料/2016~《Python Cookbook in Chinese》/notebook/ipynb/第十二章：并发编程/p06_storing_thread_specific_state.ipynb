{
  "cells": [
    {
      "cell_type": "markdown",
      "metadata": {},
      "source": [
        "## 12.6 \u4fdd\u5b58\u7ebf\u7a0b\u7684\u72b6\u6001\u4fe1\u606f\n"
      ]
    },
    {
      "cell_type": "markdown",
      "metadata": {},
      "source": [
        "### \u95ee\u9898\n"
      ]
    },
    {
      "cell_type": "markdown",
      "metadata": {},
      "source": [
        "\u4f60\u9700\u8981\u4fdd\u5b58\u6b63\u5728\u8fd0\u884c\u7ebf\u7a0b\u7684\u72b6\u6001\uff0c\u8fd9\u4e2a\u72b6\u6001\u5bf9\u4e8e\u5176\u4ed6\u7684\u7ebf\u7a0b\u662f\u4e0d\u53ef\u89c1\u7684\u3002"
      ]
    },
    {
      "cell_type": "markdown",
      "metadata": {},
      "source": [
        "### \u89e3\u51b3\u65b9\u6848\n"
      ]
    },
    {
      "cell_type": "markdown",
      "metadata": {},
      "source": [
        "\u6709\u65f6\u5728\u591a\u7ebf\u7a0b\u7f16\u7a0b\u4e2d\uff0c\u4f60\u9700\u8981\u53ea\u4fdd\u5b58\u5f53\u524d\u8fd0\u884c\u7ebf\u7a0b\u7684\u72b6\u6001\u3002\n\u8981\u8fd9\u4e48\u505a\uff0c\u53ef\u4f7f\u7528 thread.local() \u521b\u5efa\u4e00\u4e2a\u672c\u5730\u7ebf\u7a0b\u5b58\u50a8\u5bf9\u8c61\u3002\n\u5bf9\u8fd9\u4e2a\u5bf9\u8c61\u7684\u5c5e\u6027\u7684\u4fdd\u5b58\u548c\u8bfb\u53d6\u64cd\u4f5c\u90fd\u53ea\u4f1a\u5bf9\u6267\u884c\u7ebf\u7a0b\u53ef\u89c1\uff0c\u800c\u5176\u4ed6\u7ebf\u7a0b\u5e76\u4e0d\u53ef\u89c1\u3002"
      ]
    },
    {
      "cell_type": "markdown",
      "metadata": {},
      "source": [
        "\u4f5c\u4e3a\u4f7f\u7528\u672c\u5730\u5b58\u50a8\u7684\u4e00\u4e2a\u6709\u8da3\u7684\u5b9e\u9645\u4f8b\u5b50\uff0c\n\u8003\u8651\u57288.3\u5c0f\u8282\u5b9a\u4e49\u8fc7\u7684 LazyConnection \u4e0a\u4e0b\u6587\u7ba1\u7406\u5668\u7c7b\u3002\n\u4e0b\u9762\u6211\u4eec\u5bf9\u5b83\u8fdb\u884c\u4e00\u4e9b\u5c0f\u7684\u4fee\u6539\u4f7f\u5f97\u5b83\u53ef\u4ee5\u9002\u7528\u4e8e\u591a\u7ebf\u7a0b\uff1a"
      ]
    },
    {
      "cell_type": "code",
      "execution_count": null,
      "metadata": {},
      "outputs": [],
      "source": [
        "from socket import socket, AF_INET, SOCK_STREAM\nimport threading\n\nclass LazyConnection:\n    def __init__(self, address, family=AF_INET, type=SOCK_STREAM):\n        self.address = address\n        self.family = AF_INET\n        self.type = SOCK_STREAM\n        self.local = threading.local()\n\n    def __enter__(self):\n        if hasattr(self.local, 'sock'):\n            raise RuntimeError('Already connected')\n        self.local.sock = socket(self.family, self.type)\n        self.local.sock.connect(self.address)\n        return self.local.sock\n\n    def __exit__(self, exc_ty, exc_val, tb):\n        self.local.sock.close()\n        del self.local.sock"
      ]
    },
    {
      "cell_type": "markdown",
      "metadata": {},
      "source": [
        "\u4ee3\u7801\u4e2d\uff0c\u81ea\u5df1\u89c2\u5bdf\u5bf9\u4e8e self.local \u5c5e\u6027\u7684\u4f7f\u7528\u3002\n\u5b83\u88ab\u521d\u59cb\u5316\u4e3a\u4e00\u4e2a threading.local() \u5b9e\u4f8b\u3002\n\u5176\u4ed6\u65b9\u6cd5\u64cd\u4f5c\u88ab\u5b58\u50a8\u4e3a self.local.sock \u7684\u5957\u63a5\u5b57\u5bf9\u8c61\u3002\n\u6709\u4e86\u8fd9\u4e9b\u5c31\u53ef\u4ee5\u5728\u591a\u7ebf\u7a0b\u4e2d\u5b89\u5168\u7684\u4f7f\u7528 LazyConnection \u5b9e\u4f8b\u4e86\u3002\u4f8b\u5982\uff1a"
      ]
    },
    {
      "cell_type": "code",
      "execution_count": null,
      "metadata": {},
      "outputs": [],
      "source": [
        "from functools import partial\ndef test(conn):\n    with conn as s:\n        s.send(b'GET /index.html HTTP/1.0\\r\\n')\n        s.send(b'Host: www.python.org\\r\\n')\n\n        s.send(b'\\r\\n')\n        resp = b''.join(iter(partial(s.recv, 8192), b''))\n\n    print('Got {} bytes'.format(len(resp)))\n\nif __name__ == '__main__':\n    conn = LazyConnection(('www.python.org', 80))\n\n    t1 = threading.Thread(target=test, args=(conn,))\n    t2 = threading.Thread(target=test, args=(conn,))\n    t1.start()\n    t2.start()\n    t1.join()\n    t2.join()"
      ]
    },
    {
      "cell_type": "markdown",
      "metadata": {},
      "source": [
        "\u5b83\u4e4b\u6240\u4ee5\u884c\u5f97\u901a\u7684\u539f\u56e0\u662f\u6bcf\u4e2a\u7ebf\u7a0b\u4f1a\u521b\u5efa\u4e00\u4e2a\u81ea\u5df1\u4e13\u5c5e\u7684\u5957\u63a5\u5b57\u8fde\u63a5\uff08\u5b58\u50a8\u4e3aself.local.sock\uff09\u3002\n\u56e0\u6b64\uff0c\u5f53\u4e0d\u540c\u7684\u7ebf\u7a0b\u6267\u884c\u5957\u63a5\u5b57\u64cd\u4f5c\u65f6\uff0c\u7531\u4e8e\u64cd\u4f5c\u7684\u662f\u4e0d\u540c\u7684\u5957\u63a5\u5b57\uff0c\u56e0\u6b64\u5b83\u4eec\u4e0d\u4f1a\u76f8\u4e92\u5f71\u54cd\u3002"
      ]
    },
    {
      "cell_type": "markdown",
      "metadata": {},
      "source": [
        "### \u8ba8\u8bba\n"
      ]
    },
    {
      "cell_type": "markdown",
      "metadata": {},
      "source": [
        "\u5728\u5927\u90e8\u5206\u7a0b\u5e8f\u4e2d\u521b\u5efa\u548c\u64cd\u4f5c\u7ebf\u7a0b\u7279\u5b9a\u72b6\u6001\u5e76\u4e0d\u4f1a\u6709\u4ec0\u4e48\u95ee\u9898\u3002\n\u4e0d\u8fc7\uff0c\u5f53\u51fa\u4e86\u95ee\u9898\u7684\u65f6\u5019\uff0c\u901a\u5e38\u662f\u56e0\u4e3a\u67d0\u4e2a\u5bf9\u8c61\u88ab\u591a\u4e2a\u7ebf\u7a0b\u4f7f\u7528\u5230\uff0c\u7528\u6765\u64cd\u4f5c\u4e00\u4e9b\u4e13\u7528\u7684\u7cfb\u7edf\u8d44\u6e90\uff0c\n\u6bd4\u5982\u4e00\u4e2a\u5957\u63a5\u5b57\u6216\u6587\u4ef6\u3002\u4f60\u4e0d\u80fd\u8ba9\u6240\u6709\u7ebf\u7a0b\u5171\u4eab\u4e00\u4e2a\u5355\u72ec\u5bf9\u8c61\uff0c\n\u56e0\u4e3a\u591a\u4e2a\u7ebf\u7a0b\u540c\u65f6\u8bfb\u548c\u5199\u7684\u65f6\u5019\u4f1a\u4ea7\u751f\u6df7\u4e71\u3002\n\u672c\u5730\u7ebf\u7a0b\u5b58\u50a8\u901a\u8fc7\u8ba9\u8fd9\u4e9b\u8d44\u6e90\u53ea\u80fd\u5728\u88ab\u4f7f\u7528\u7684\u7ebf\u7a0b\u4e2d\u53ef\u89c1\u6765\u89e3\u51b3\u8fd9\u4e2a\u95ee\u9898\u3002"
      ]
    },
    {
      "cell_type": "markdown",
      "metadata": {},
      "source": [
        "\u672c\u8282\u4e2d\uff0c\u4f7f\u7528 thread.local() \u53ef\u4ee5\u8ba9 LazyConnection \u7c7b\u652f\u6301\u4e00\u4e2a\u7ebf\u7a0b\u4e00\u4e2a\u8fde\u63a5\uff0c\n\u800c\u4e0d\u662f\u5bf9\u4e8e\u6240\u6709\u7684\u8fdb\u7a0b\u90fd\u53ea\u6709\u4e00\u4e2a\u8fde\u63a5\u3002"
      ]
    },
    {
      "cell_type": "markdown",
      "metadata": {},
      "source": [
        "\u5176\u539f\u7406\u662f\uff0c\u6bcf\u4e2a threading.local() \u5b9e\u4f8b\u4e3a\u6bcf\u4e2a\u7ebf\u7a0b\u7ef4\u62a4\u7740\u4e00\u4e2a\u5355\u72ec\u7684\u5b9e\u4f8b\u5b57\u5178\u3002\n\u6240\u6709\u666e\u901a\u5b9e\u4f8b\u64cd\u4f5c\u6bd4\u5982\u83b7\u53d6\u3001\u4fee\u6539\u548c\u5220\u9664\u503c\u4ec5\u4ec5\u64cd\u4f5c\u8fd9\u4e2a\u5b57\u5178\u3002\n\u6bcf\u4e2a\u7ebf\u7a0b\u4f7f\u7528\u4e00\u4e2a\u72ec\u7acb\u7684\u5b57\u5178\u5c31\u53ef\u4ee5\u4fdd\u8bc1\u6570\u636e\u7684\u9694\u79bb\u4e86\u3002"
      ]
    }
  ],
  "metadata": {
    "kernelspec": {
      "display_name": "Python 3",
      "language": "python",
      "name": "python3"
    },
    "language_info": {
      "codemirror_mode": {
        "name": "ipython",
        "version": 3
      },
      "file_extension": ".py",
      "mimetype": "text/x-python",
      "name": "python",
      "nbconvert_exporter": "python",
      "pygments_lexer": "ipython3",
      "version": "3.7.1"
    },
    "toc": {
      "base_numbering": 1,
      "nav_menu": {},
      "number_sections": true,
      "sideBar": true,
      "skip_h1_title": true,
      "title_cell": "Table of Contents",
      "title_sidebar": "Contents",
      "toc_cell": false,
      "toc_position": {},
      "toc_section_display": true,
      "toc_window_display": true
    }
  },
  "nbformat": 4,
  "nbformat_minor": 2
}