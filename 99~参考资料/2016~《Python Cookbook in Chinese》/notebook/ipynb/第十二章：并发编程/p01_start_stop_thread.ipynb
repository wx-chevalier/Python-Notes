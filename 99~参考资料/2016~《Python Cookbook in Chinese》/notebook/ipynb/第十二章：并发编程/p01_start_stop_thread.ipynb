{
  "cells": [
    {
      "cell_type": "markdown",
      "metadata": {},
      "source": [
        "## 12.1 \u542f\u52a8\u4e0e\u505c\u6b62\u7ebf\u7a0b\n"
      ]
    },
    {
      "cell_type": "markdown",
      "metadata": {},
      "source": [
        "### \u95ee\u9898\n"
      ]
    },
    {
      "cell_type": "markdown",
      "metadata": {},
      "source": [
        "\u4f60\u8981\u4e3a\u9700\u8981\u5e76\u53d1\u6267\u884c\u7684\u4ee3\u7801\u521b\u5efa/\u9500\u6bc1\u7ebf\u7a0b"
      ]
    },
    {
      "cell_type": "markdown",
      "metadata": {},
      "source": [
        "### \u89e3\u51b3\u65b9\u6848\n"
      ]
    },
    {
      "cell_type": "markdown",
      "metadata": {},
      "source": [
        "threading \u5e93\u53ef\u4ee5\u5728\u5355\u72ec\u7684\u7ebf\u7a0b\u4e2d\u6267\u884c\u4efb\u4f55\u7684\u5728 Python \u4e2d\u53ef\u4ee5\u8c03\u7528\u7684\u5bf9\u8c61\u3002\u4f60\u53ef\u4ee5\u521b\u5efa\u4e00\u4e2a Thread \u5bf9\u8c61\u5e76\u5c06\u4f60\u8981\u6267\u884c\u7684\u5bf9\u8c61\u4ee5 target \u53c2\u6570\u7684\u5f62\u5f0f\u63d0\u4f9b\u7ed9\u8be5\u5bf9\u8c61\u3002\n\u4e0b\u9762\u662f\u4e00\u4e2a\u7b80\u5355\u7684\u4f8b\u5b50\uff1a"
      ]
    },
    {
      "cell_type": "code",
      "execution_count": null,
      "metadata": {},
      "outputs": [],
      "source": [
        "# Code to execute in an independent thread\nimport time\ndef countdown(n):\n    while n > 0:\n        print('T-minus', n)\n        n -= 1\n        time.sleep(5)\n\n# Create and launch a thread\nfrom threading import Thread\nt = Thread(target=countdown, args=(10,))\nt.start()"
      ]
    },
    {
      "cell_type": "markdown",
      "metadata": {},
      "source": [
        "\u5f53\u4f60\u521b\u5efa\u597d\u4e00\u4e2a\u7ebf\u7a0b\u5bf9\u8c61\u540e\uff0c\u8be5\u5bf9\u8c61\u5e76\u4e0d\u4f1a\u7acb\u5373\u6267\u884c\uff0c\u9664\u975e\u4f60\u8c03\u7528\u5b83\u7684 start() \u65b9\u6cd5\uff08\u5f53\u4f60\u8c03\u7528 start() \u65b9\u6cd5\u65f6\uff0c\u5b83\u4f1a\u8c03\u7528\u4f60\u4f20\u9012\u8fdb\u6765\u7684\u51fd\u6570\uff0c\u5e76\u628a\u4f60\u4f20\u9012\u8fdb\u6765\u7684\u53c2\u6570\u4f20\u9012\u7ed9\u8be5\u51fd\u6570\uff09\u3002Python\u4e2d\u7684\u7ebf\u7a0b\u4f1a\u5728\u4e00\u4e2a\u5355\u72ec\u7684\u7cfb\u7edf\u7ea7\u7ebf\u7a0b\u4e2d\u6267\u884c\uff08\u6bd4\u5982\u8bf4\u4e00\u4e2a POSIX \u7ebf\u7a0b\u6216\u8005\u4e00\u4e2a Windows \u7ebf\u7a0b\uff09\uff0c\u8fd9\u4e9b\u7ebf\u7a0b\u5c06\u7531\u64cd\u4f5c\u7cfb\u7edf\u6765\u5168\u6743\u7ba1\u7406\u3002\u7ebf\u7a0b\u4e00\u65e6\u542f\u52a8\uff0c\u5c06\u72ec\u7acb\u6267\u884c\u76f4\u5230\u76ee\u6807\u51fd\u6570\u8fd4\u56de\u3002\u4f60\u53ef\u4ee5\u67e5\u8be2\u4e00\u4e2a\u7ebf\u7a0b\u5bf9\u8c61\u7684\u72b6\u6001\uff0c\u770b\u5b83\u662f\u5426\u8fd8\u5728\u6267\u884c\uff1a"
      ]
    },
    {
      "cell_type": "code",
      "execution_count": null,
      "metadata": {},
      "outputs": [],
      "source": [
        "if t.is_alive():\n    print('Still running')\nelse:\n    print('Completed')"
      ]
    },
    {
      "cell_type": "markdown",
      "metadata": {},
      "source": [
        "\u4f60\u4e5f\u53ef\u4ee5\u5c06\u4e00\u4e2a\u7ebf\u7a0b\u52a0\u5165\u5230\u5f53\u524d\u7ebf\u7a0b\uff0c\u5e76\u7b49\u5f85\u5b83\u7ec8\u6b62\uff1a"
      ]
    },
    {
      "cell_type": "code",
      "execution_count": null,
      "metadata": {},
      "outputs": [],
      "source": [
        "t.join()"
      ]
    },
    {
      "cell_type": "markdown",
      "metadata": {},
      "source": [
        "Python\u89e3\u91ca\u5668\u76f4\u5230\u6240\u6709\u7ebf\u7a0b\u90fd\u7ec8\u6b62\u524d\u4ecd\u4fdd\u6301\u8fd0\u884c\u3002\u5bf9\u4e8e\u9700\u8981\u957f\u65f6\u95f4\u8fd0\u884c\u7684\u7ebf\u7a0b\u6216\u8005\u9700\u8981\u4e00\u76f4\u8fd0\u884c\u7684\u540e\u53f0\u4efb\u52a1\uff0c\u4f60\u5e94\u5f53\u8003\u8651\u4f7f\u7528\u540e\u53f0\u7ebf\u7a0b\u3002\n\u4f8b\u5982\uff1a"
      ]
    },
    {
      "cell_type": "code",
      "execution_count": null,
      "metadata": {},
      "outputs": [],
      "source": [
        "t = Thread(target=countdown, args=(10,), daemon=True)\nt.start()"
      ]
    },
    {
      "cell_type": "markdown",
      "metadata": {},
      "source": [
        "\u540e\u53f0\u7ebf\u7a0b\u65e0\u6cd5\u7b49\u5f85\uff0c\u4e0d\u8fc7\uff0c\u8fd9\u4e9b\u7ebf\u7a0b\u4f1a\u5728\u4e3b\u7ebf\u7a0b\u7ec8\u6b62\u65f6\u81ea\u52a8\u9500\u6bc1\u3002\n\u9664\u4e86\u5982\u4e0a\u6240\u793a\u7684\u4e24\u4e2a\u64cd\u4f5c\uff0c\u5e76\u6ca1\u6709\u592a\u591a\u53ef\u4ee5\u5bf9\u7ebf\u7a0b\u505a\u7684\u4e8b\u60c5\u3002\u4f60\u65e0\u6cd5\u7ed3\u675f\u4e00\u4e2a\u7ebf\u7a0b\uff0c\u65e0\u6cd5\u7ed9\u5b83\u53d1\u9001\u4fe1\u53f7\uff0c\u65e0\u6cd5\u8c03\u6574\u5b83\u7684\u8c03\u5ea6\uff0c\u4e5f\u65e0\u6cd5\u6267\u884c\u5176\u4ed6\u9ad8\u7ea7\u64cd\u4f5c\u3002\u5982\u679c\u9700\u8981\u8fd9\u4e9b\u7279\u6027\uff0c\u4f60\u9700\u8981\u81ea\u5df1\u6dfb\u52a0\u3002\u6bd4\u5982\u8bf4\uff0c\u5982\u679c\u4f60\u9700\u8981\u7ec8\u6b62\u7ebf\u7a0b\uff0c\u90a3\u4e48\u8fd9\u4e2a\u7ebf\u7a0b\u5fc5\u987b\u901a\u8fc7\u7f16\u7a0b\u5728\u67d0\u4e2a\u7279\u5b9a\u70b9\u8f6e\u8be2\u6765\u9000\u51fa\u3002\u4f60\u53ef\u4ee5\u50cf\u4e0b\u8fb9\u8fd9\u6837\u628a\u7ebf\u7a0b\u653e\u5165\u4e00\u4e2a\u7c7b\u4e2d\uff1a"
      ]
    },
    {
      "cell_type": "code",
      "execution_count": null,
      "metadata": {},
      "outputs": [],
      "source": [
        "class CountdownTask:\n    def __init__(self):\n        self._running = True\n\n    def terminate(self):\n        self._running = False\n\n    def run(self, n):\n        while self._running and n > 0:\n            print('T-minus', n)\n            n -= 1\n            time.sleep(5)\n\nc = CountdownTask()\nt = Thread(target=c.run, args=(10,))\nt.start()\nc.terminate() # Signal termination\nt.join()      # Wait for actual termination (if needed)"
      ]
    },
    {
      "cell_type": "markdown",
      "metadata": {},
      "source": [
        "\u5982\u679c\u7ebf\u7a0b\u6267\u884c\u4e00\u4e9b\u50cfI/O\u8fd9\u6837\u7684\u963b\u585e\u64cd\u4f5c\uff0c\u90a3\u4e48\u901a\u8fc7\u8f6e\u8be2\u6765\u7ec8\u6b62\u7ebf\u7a0b\u5c06\u4f7f\u5f97\u7ebf\u7a0b\u4e4b\u95f4\u7684\u534f\u8c03\u53d8\u5f97\u975e\u5e38\u68d8\u624b\u3002\u6bd4\u5982\uff0c\u5982\u679c\u4e00\u4e2a\u7ebf\u7a0b\u4e00\u76f4\u963b\u585e\u5728\u4e00\u4e2aI/O\u64cd\u4f5c\u4e0a\uff0c\u5b83\u5c31\u6c38\u8fdc\u65e0\u6cd5\u8fd4\u56de\uff0c\u4e5f\u5c31\u65e0\u6cd5\u68c0\u67e5\u81ea\u5df1\u662f\u5426\u5df2\u7ecf\u88ab\u7ed3\u675f\u4e86\u3002\u8981\u6b63\u786e\u5904\u7406\u8fd9\u4e9b\u95ee\u9898\uff0c\u4f60\u9700\u8981\u5229\u7528\u8d85\u65f6\u5faa\u73af\u6765\u5c0f\u5fc3\u64cd\u4f5c\u7ebf\u7a0b\u3002\n\u4f8b\u5b50\u5982\u4e0b\uff1a"
      ]
    },
    {
      "cell_type": "code",
      "execution_count": null,
      "metadata": {},
      "outputs": [],
      "source": [
        "class IOTask:\n    def terminate(self):\n        self._running = False\n\n    def run(self, sock):\n        # sock is a socket\n        sock.settimeout(5)        # Set timeout period\n        while self._running:\n            # Perform a blocking I/O operation w/ timeout\n            try:\n                data = sock.recv(8192)\n                break\n            except socket.timeout:\n                continue\n            # Continued processing\n            ...\n        # Terminated\n        return"
      ]
    },
    {
      "cell_type": "markdown",
      "metadata": {},
      "source": [
        "### \u8ba8\u8bba\n"
      ]
    },
    {
      "cell_type": "markdown",
      "metadata": {},
      "source": [
        "\u7531\u4e8e\u5168\u5c40\u89e3\u91ca\u9501\uff08GIL\uff09\u7684\u539f\u56e0\uff0cPython \u7684\u7ebf\u7a0b\u88ab\u9650\u5236\u5230\u540c\u4e00\u65f6\u523b\u53ea\u5141\u8bb8\u4e00\u4e2a\u7ebf\u7a0b\u6267\u884c\u8fd9\u6837\u4e00\u4e2a\u6267\u884c\u6a21\u578b\u3002\u6240\u4ee5\uff0cPython \u7684\u7ebf\u7a0b\u66f4\u9002\u7528\u4e8e\u5904\u7406I/O\u548c\u5176\u4ed6\u9700\u8981\u5e76\u53d1\u6267\u884c\u7684\u963b\u585e\u64cd\u4f5c\uff08\u6bd4\u5982\u7b49\u5f85I/O\u3001\u7b49\u5f85\u4ece\u6570\u636e\u5e93\u83b7\u53d6\u6570\u636e\u7b49\u7b49\uff09\uff0c\u800c\u4e0d\u662f\u9700\u8981\u591a\u5904\u7406\u5668\u5e76\u884c\u7684\u8ba1\u7b97\u5bc6\u96c6\u578b\u4efb\u52a1\u3002"
      ]
    },
    {
      "cell_type": "markdown",
      "metadata": {},
      "source": [
        "\u6709\u65f6\u4f60\u4f1a\u770b\u5230\u4e0b\u8fb9\u8fd9\u79cd\u901a\u8fc7\u7ee7\u627f Thread \u7c7b\u6765\u5b9e\u73b0\u7684\u7ebf\u7a0b\uff1a"
      ]
    },
    {
      "cell_type": "code",
      "execution_count": null,
      "metadata": {},
      "outputs": [],
      "source": [
        "from threading import Thread\n\nclass CountdownThread(Thread):\n    def __init__(self, n):\n        super().__init__()\n        self.n = n\n    def run(self):\n        while self.n > 0:\n\n            print('T-minus', self.n)\n            self.n -= 1\n            time.sleep(5)\n\nc = CountdownThread(5)\nc.start()"
      ]
    },
    {
      "cell_type": "markdown",
      "metadata": {},
      "source": [
        "\u5c3d\u7ba1\u8fd9\u6837\u4e5f\u53ef\u4ee5\u5de5\u4f5c\uff0c\u4f46\u8fd9\u4f7f\u5f97\u4f60\u7684\u4ee3\u7801\u4f9d\u8d56\u4e8e threading \u5e93\uff0c\u6240\u4ee5\u4f60\u7684\u8fd9\u4e9b\u4ee3\u7801\u53ea\u80fd\u5728\u7ebf\u7a0b\u4e0a\u4e0b\u6587\u4e2d\u4f7f\u7528\u3002\u4e0a\u6587\u6240\u5199\u7684\u90a3\u4e9b\u4ee3\u7801\u3001\u51fd\u6570\u90fd\u662f\u4e0e threading \u5e93\u65e0\u5173\u7684\uff0c\u8fd9\u6837\u5c31\u4f7f\u5f97\u8fd9\u4e9b\u4ee3\u7801\u53ef\u4ee5\u88ab\u7528\u5728\u5176\u4ed6\u7684\u4e0a\u4e0b\u6587\u4e2d\uff0c\u53ef\u80fd\u4e0e\u7ebf\u7a0b\u6709\u5173\uff0c\u4e5f\u53ef\u80fd\u4e0e\u7ebf\u7a0b\u65e0\u5173\u3002\u6bd4\u5982\uff0c\u4f60\u53ef\u4ee5\u901a\u8fc7 multiprocessing \u6a21\u5757\u5728\u4e00\u4e2a\u5355\u72ec\u7684\u8fdb\u7a0b\u4e2d\u6267\u884c\u4f60\u7684\u4ee3\u7801\uff1a"
      ]
    },
    {
      "cell_type": "code",
      "execution_count": null,
      "metadata": {},
      "outputs": [],
      "source": [
        "import multiprocessing\nc = CountdownTask(5)\np = multiprocessing.Process(target=c.run)\np.start()"
      ]
    },
    {
      "cell_type": "markdown",
      "metadata": {},
      "source": [
        "\u518d\u6b21\u91cd\u7533\uff0c\u8fd9\u6bb5\u4ee3\u7801\u4ec5\u9002\u7528\u4e8e CountdownTask \u7c7b\u662f\u4ee5\u72ec\u7acb\u4e8e\u5b9e\u9645\u7684\u5e76\u53d1\u624b\u6bb5\uff08\u591a\u7ebf\u7a0b\u3001\u591a\u8fdb\u7a0b\u7b49\u7b49\uff09\u5b9e\u73b0\u7684\u60c5\u51b5\u3002"
      ]
    }
  ],
  "metadata": {
    "kernelspec": {
      "display_name": "Python 3",
      "language": "python",
      "name": "python3"
    },
    "language_info": {
      "codemirror_mode": {
        "name": "ipython",
        "version": 3
      },
      "file_extension": ".py",
      "mimetype": "text/x-python",
      "name": "python",
      "nbconvert_exporter": "python",
      "pygments_lexer": "ipython3",
      "version": "3.7.1"
    },
    "toc": {
      "base_numbering": 1,
      "nav_menu": {},
      "number_sections": true,
      "sideBar": true,
      "skip_h1_title": true,
      "title_cell": "Table of Contents",
      "title_sidebar": "Contents",
      "toc_cell": false,
      "toc_position": {},
      "toc_section_display": true,
      "toc_window_display": true
    }
  },
  "nbformat": 4,
  "nbformat_minor": 2
}