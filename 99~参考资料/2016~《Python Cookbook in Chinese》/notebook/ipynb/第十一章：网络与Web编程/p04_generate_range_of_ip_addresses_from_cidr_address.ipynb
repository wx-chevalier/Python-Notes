{
  "cells": [
    {
      "cell_type": "markdown",
      "metadata": {},
      "source": [
        "## 11.4 \u901a\u8fc7CIDR\u5730\u5740\u751f\u6210\u5bf9\u5e94\u7684IP\u5730\u5740\u96c6\n"
      ]
    },
    {
      "cell_type": "markdown",
      "metadata": {},
      "source": [
        "### \u95ee\u9898\n"
      ]
    },
    {
      "cell_type": "markdown",
      "metadata": {},
      "source": [
        "\u4f60\u6709\u4e00\u4e2aCIDR\u7f51\u7edc\u5730\u5740\u6bd4\u5982\u201c123.45.67.89/27\u201d\uff0c\u4f60\u60f3\u5c06\u5176\u8f6c\u6362\u6210\u5b83\u6240\u4ee3\u8868\u7684\u6240\u6709IP\n\uff08\u6bd4\u5982\uff0c\u201c123.45.67.64\u201d, \u201c123.45.67.65\u201d, \u2026, \u201c123.45.67.95\u201d)\uff09"
      ]
    },
    {
      "cell_type": "markdown",
      "metadata": {},
      "source": [
        "### \u89e3\u51b3\u65b9\u6848\n"
      ]
    },
    {
      "cell_type": "markdown",
      "metadata": {},
      "source": [
        "\u53ef\u4ee5\u4f7f\u7528 ipaddress \u6a21\u5757\u5f88\u5bb9\u6613\u7684\u5b9e\u73b0\u8fd9\u6837\u7684\u8ba1\u7b97\u3002\u4f8b\u5982\uff1a"
      ]
    },
    {
      "cell_type": "code",
      "execution_count": null,
      "metadata": {},
      "outputs": [],
      "source": [
        "import ipaddress\nnet = ipaddress.ip_network('123.45.67.64/27')\nnet"
      ]
    },
    {
      "cell_type": "code",
      "execution_count": null,
      "metadata": {},
      "outputs": [],
      "source": [
        "for a in net:\n    print(a)"
      ]
    },
    {
      "cell_type": "code",
      "execution_count": null,
      "metadata": {},
      "outputs": [],
      "source": [
        "net6 = ipaddress.ip_network('12:3456:78:90ab:cd:ef01:23:30/125')\nnet6"
      ]
    },
    {
      "cell_type": "code",
      "execution_count": null,
      "metadata": {},
      "outputs": [],
      "source": [
        "for a in net6:\n    print(a)"
      ]
    },
    {
      "cell_type": "markdown",
      "metadata": {},
      "source": [
        "Network \u4e5f\u5141\u8bb8\u50cf\u6570\u7ec4\u4e00\u6837\u7684\u7d22\u5f15\u53d6\u503c\uff0c\u4f8b\u5982\uff1a"
      ]
    },
    {
      "cell_type": "code",
      "execution_count": null,
      "metadata": {},
      "outputs": [],
      "source": [
        "net.num_addresses"
      ]
    },
    {
      "cell_type": "code",
      "execution_count": null,
      "metadata": {},
      "outputs": [],
      "source": [
        "net[0]"
      ]
    },
    {
      "cell_type": "code",
      "execution_count": null,
      "metadata": {},
      "outputs": [],
      "source": [
        "net[1]"
      ]
    },
    {
      "cell_type": "code",
      "execution_count": null,
      "metadata": {},
      "outputs": [],
      "source": [
        "net[-1]"
      ]
    },
    {
      "cell_type": "code",
      "execution_count": null,
      "metadata": {},
      "outputs": [],
      "source": [
        "net[-2]"
      ]
    },
    {
      "cell_type": "markdown",
      "metadata": {},
      "source": [
        "\u53e6\u5916\uff0c\u4f60\u8fd8\u53ef\u4ee5\u6267\u884c\u7f51\u7edc\u6210\u5458\u68c0\u67e5\u4e4b\u7c7b\u7684\u64cd\u4f5c\uff1a"
      ]
    },
    {
      "cell_type": "code",
      "execution_count": null,
      "metadata": {},
      "outputs": [],
      "source": [
        "a = ipaddress.ip_address('123.45.67.69')\na in net"
      ]
    },
    {
      "cell_type": "code",
      "execution_count": null,
      "metadata": {},
      "outputs": [],
      "source": [
        "b = ipaddress.ip_address('123.45.67.123')\nb in net"
      ]
    },
    {
      "cell_type": "markdown",
      "metadata": {},
      "source": [
        "\u4e00\u4e2aIP\u5730\u5740\u548c\u7f51\u7edc\u5730\u5740\u80fd\u901a\u8fc7\u4e00\u4e2aIP\u63a5\u53e3\u6765\u6307\u5b9a\uff0c\u4f8b\u5982\uff1a"
      ]
    },
    {
      "cell_type": "code",
      "execution_count": null,
      "metadata": {},
      "outputs": [],
      "source": [
        "inet = ipaddress.ip_interface('123.45.67.73/27')\ninet.network"
      ]
    },
    {
      "cell_type": "code",
      "execution_count": null,
      "metadata": {},
      "outputs": [],
      "source": [
        "inet.ip"
      ]
    },
    {
      "cell_type": "markdown",
      "metadata": {},
      "source": [
        "### \u8ba8\u8bba\n"
      ]
    },
    {
      "cell_type": "markdown",
      "metadata": {},
      "source": [
        "ipaddress \u6a21\u5757\u6709\u5f88\u591a\u7c7b\u53ef\u4ee5\u8868\u793aIP\u5730\u5740\u3001\u7f51\u7edc\u548c\u63a5\u53e3\u3002\n\u5f53\u4f60\u9700\u8981\u64cd\u4f5c\u7f51\u7edc\u5730\u5740\uff08\u6bd4\u5982\u89e3\u6790\u3001\u6253\u5370\u3001\u9a8c\u8bc1\u7b49\uff09\u7684\u65f6\u5019\u4f1a\u5f88\u6709\u7528\u3002"
      ]
    },
    {
      "cell_type": "markdown",
      "metadata": {},
      "source": [
        "\u8981\u6ce8\u610f\u7684\u662f\uff0cipaddress \u6a21\u5757\u8ddf\u5176\u4ed6\u4e00\u4e9b\u548c\u7f51\u7edc\u76f8\u5173\u7684\u6a21\u5757\u6bd4\u5982 socket \u5e93\u4ea4\u96c6\u5f88\u5c11\u3002\n\u6240\u4ee5\uff0c\u4f60\u4e0d\u80fd\u4f7f\u7528 IPv4Address \u7684\u5b9e\u4f8b\u6765\u4ee3\u66ff\u4e00\u4e2a\u5730\u5740\u5b57\u7b26\u4e32\uff0c\u4f60\u9996\u5148\u5f97\u663e\u5f0f\u7684\u4f7f\u7528 str() \u8f6c\u6362\u5b83\u3002\u4f8b\u5982\uff1a"
      ]
    },
    {
      "cell_type": "code",
      "execution_count": null,
      "metadata": {},
      "outputs": [],
      "source": [
        "a = ipaddress.ip_address('127.0.0.1')\nfrom socket import socket, AF_INET, SOCK_STREAM\ns = socket(AF_INET, SOCK_STREAM)\ns.connect((a, 8080))"
      ]
    },
    {
      "cell_type": "code",
      "execution_count": null,
      "metadata": {},
      "outputs": [],
      "source": [
        "s.connect((str(a), 8080))"
      ]
    },
    {
      "cell_type": "markdown",
      "metadata": {},
      "source": [
        "\u66f4\u591a\u76f8\u5173\u5185\u5bb9\uff0c\u8bf7\u53c2\u8003 An Introduction to the ipaddress Module"
      ]
    }
  ],
  "metadata": {
    "kernelspec": {
      "display_name": "Python 3",
      "language": "python",
      "name": "python3"
    },
    "language_info": {
      "codemirror_mode": {
        "name": "ipython",
        "version": 3
      },
      "file_extension": ".py",
      "mimetype": "text/x-python",
      "name": "python",
      "nbconvert_exporter": "python",
      "pygments_lexer": "ipython3",
      "version": "3.7.1"
    },
    "toc": {
      "base_numbering": 1,
      "nav_menu": {},
      "number_sections": true,
      "sideBar": true,
      "skip_h1_title": true,
      "title_cell": "Table of Contents",
      "title_sidebar": "Contents",
      "toc_cell": false,
      "toc_position": {},
      "toc_section_display": true,
      "toc_window_display": true
    }
  },
  "nbformat": 4,
  "nbformat_minor": 2
}