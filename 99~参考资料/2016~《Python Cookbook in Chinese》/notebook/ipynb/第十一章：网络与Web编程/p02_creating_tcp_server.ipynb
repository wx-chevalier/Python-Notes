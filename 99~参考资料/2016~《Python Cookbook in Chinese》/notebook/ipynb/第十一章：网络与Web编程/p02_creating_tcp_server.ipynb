{
  "cells": [
    {
      "cell_type": "markdown",
      "metadata": {},
      "source": [
        "## 11.2 \u521b\u5efaTCP\u670d\u52a1\u5668\n"
      ]
    },
    {
      "cell_type": "markdown",
      "metadata": {},
      "source": [
        "### \u95ee\u9898\n"
      ]
    },
    {
      "cell_type": "markdown",
      "metadata": {},
      "source": [
        "\u4f60\u60f3\u5b9e\u73b0\u4e00\u4e2a\u670d\u52a1\u5668\uff0c\u901a\u8fc7TCP\u534f\u8bae\u548c\u5ba2\u6237\u7aef\u901a\u4fe1\u3002"
      ]
    },
    {
      "cell_type": "markdown",
      "metadata": {},
      "source": [
        "### \u89e3\u51b3\u65b9\u6848\n"
      ]
    },
    {
      "cell_type": "markdown",
      "metadata": {},
      "source": [
        "\u521b\u5efa\u4e00\u4e2aTCP\u670d\u52a1\u5668\u7684\u4e00\u4e2a\u7b80\u5355\u65b9\u6cd5\u662f\u4f7f\u7528 socketserver \u5e93\u3002\u4f8b\u5982\uff0c\u4e0b\u9762\u662f\u4e00\u4e2a\u7b80\u5355\u7684\u5e94\u7b54\u670d\u52a1\u5668\uff1a"
      ]
    },
    {
      "cell_type": "code",
      "execution_count": null,
      "metadata": {},
      "outputs": [],
      "source": [
        "from socketserver import BaseRequestHandler, TCPServer\n\nclass EchoHandler(BaseRequestHandler):\n    def handle(self):\n        print('Got connection from', self.client_address)\n        while True:\n\n            msg = self.request.recv(8192)\n            if not msg:\n                break\n            self.request.send(msg)\n\nif __name__ == '__main__':\n    serv = TCPServer(('', 20000), EchoHandler)\n    serv.serve_forever()"
      ]
    },
    {
      "cell_type": "markdown",
      "metadata": {},
      "source": [
        "\u5728\u8fd9\u6bb5\u4ee3\u7801\u4e2d\uff0c\u4f60\u5b9a\u4e49\u4e86\u4e00\u4e2a\u7279\u6b8a\u7684\u5904\u7406\u7c7b\uff0c\u5b9e\u73b0\u4e86\u4e00\u4e2a handle() \u65b9\u6cd5\uff0c\u7528\u6765\u4e3a\u5ba2\u6237\u7aef\u8fde\u63a5\u670d\u52a1\u3002\nrequest \u5c5e\u6027\u662f\u5ba2\u6237\u7aefsocket\uff0cclient_address \u6709\u5ba2\u6237\u7aef\u5730\u5740\u3002\n\u4e3a\u4e86\u6d4b\u8bd5\u8fd9\u4e2a\u670d\u52a1\u5668\uff0c\u8fd0\u884c\u5b83\u5e76\u6253\u5f00\u53e6\u5916\u4e00\u4e2aPython\u8fdb\u7a0b\u8fde\u63a5\u8fd9\u4e2a\u670d\u52a1\u5668\uff1a"
      ]
    },
    {
      "cell_type": "code",
      "execution_count": null,
      "metadata": {},
      "outputs": [],
      "source": [
        "from socket import socket, AF_INET, SOCK_STREAM\ns = socket(AF_INET, SOCK_STREAM)\ns.connect(('localhost', 20000))\ns.send(b'Hello')"
      ]
    },
    {
      "cell_type": "code",
      "execution_count": null,
      "metadata": {},
      "outputs": [],
      "source": [
        "s.recv(8192)"
      ]
    },
    {
      "cell_type": "markdown",
      "metadata": {},
      "source": [
        "\u5f88\u591a\u65f6\u5019\uff0c\u53ef\u4ee5\u5f88\u5bb9\u6613\u7684\u5b9a\u4e49\u4e00\u4e2a\u4e0d\u540c\u7684\u5904\u7406\u5668\u3002\u4e0b\u9762\u662f\u4e00\u4e2a\u4f7f\u7528 StreamRequestHandler\n\u57fa\u7c7b\u5c06\u4e00\u4e2a\u7c7b\u6587\u4ef6\u63a5\u53e3\u653e\u7f6e\u5728\u5e95\u5c42socket\u4e0a\u7684\u4f8b\u5b50\uff1a"
      ]
    },
    {
      "cell_type": "code",
      "execution_count": null,
      "metadata": {},
      "outputs": [],
      "source": [
        "from socketserver import StreamRequestHandler, TCPServer\n\nclass EchoHandler(StreamRequestHandler):\n    def handle(self):\n        print('Got connection from', self.client_address)\n        # self.rfile is a file-like object for reading\n        for line in self.rfile:\n            # self.wfile is a file-like object for writing\n            self.wfile.write(line)\n\nif __name__ == '__main__':\n    serv = TCPServer(('', 20000), EchoHandler)\n    serv.serve_forever()"
      ]
    },
    {
      "cell_type": "markdown",
      "metadata": {},
      "source": [
        "### \u8ba8\u8bba\n"
      ]
    },
    {
      "cell_type": "markdown",
      "metadata": {},
      "source": [
        "socketserver \u53ef\u4ee5\u8ba9\u6211\u4eec\u5f88\u5bb9\u6613\u7684\u521b\u5efa\u7b80\u5355\u7684TCP\u670d\u52a1\u5668\u3002\n\u4f46\u662f\uff0c\u4f60\u9700\u8981\u6ce8\u610f\u7684\u662f\uff0c\u9ed8\u8ba4\u60c5\u51b5\u4e0b\u8fd9\u79cd\u670d\u52a1\u5668\u662f\u5355\u7ebf\u7a0b\u7684\uff0c\u4e00\u6b21\u53ea\u80fd\u4e3a\u4e00\u4e2a\u5ba2\u6237\u7aef\u8fde\u63a5\u670d\u52a1\u3002\n\u5982\u679c\u4f60\u60f3\u5904\u7406\u591a\u4e2a\u5ba2\u6237\u7aef\uff0c\u53ef\u4ee5\u521d\u59cb\u5316\u4e00\u4e2a ForkingTCPServer \u6216\u8005\u662f ThreadingTCPServer \u5bf9\u8c61\u3002\u4f8b\u5982\uff1a"
      ]
    },
    {
      "cell_type": "code",
      "execution_count": null,
      "metadata": {},
      "outputs": [],
      "source": [
        "from socketserver import ThreadingTCPServer\n\n\nif __name__ == '__main__':\n    serv = ThreadingTCPServer(('', 20000), EchoHandler)\n    serv.serve_forever()"
      ]
    },
    {
      "cell_type": "markdown",
      "metadata": {},
      "source": [
        "\u4f7f\u7528fork\u6216\u7ebf\u7a0b\u670d\u52a1\u5668\u6709\u4e2a\u6f5c\u5728\u95ee\u9898\u5c31\u662f\u5b83\u4eec\u4f1a\u4e3a\u6bcf\u4e2a\u5ba2\u6237\u7aef\u8fde\u63a5\u521b\u5efa\u4e00\u4e2a\u65b0\u7684\u8fdb\u7a0b\u6216\u7ebf\u7a0b\u3002\n\u7531\u4e8e\u5ba2\u6237\u7aef\u8fde\u63a5\u6570\u662f\u6ca1\u6709\u9650\u5236\u7684\uff0c\u56e0\u6b64\u4e00\u4e2a\u6076\u610f\u7684\u9ed1\u5ba2\u53ef\u4ee5\u540c\u65f6\u53d1\u9001\u5927\u91cf\u7684\u8fde\u63a5\u8ba9\u4f60\u7684\u670d\u52a1\u5668\u5954\u6e83\u3002"
      ]
    },
    {
      "cell_type": "markdown",
      "metadata": {},
      "source": [
        "\u5982\u679c\u4f60\u62c5\u5fc3\u8fd9\u4e2a\u95ee\u9898\uff0c\u4f60\u53ef\u4ee5\u521b\u5efa\u4e00\u4e2a\u9884\u5148\u5206\u914d\u5927\u5c0f\u7684\u5de5\u4f5c\u7ebf\u7a0b\u6c60\u6216\u8fdb\u7a0b\u6c60\u3002\n\u4f60\u5148\u521b\u5efa\u4e00\u4e2a\u666e\u901a\u7684\u975e\u7ebf\u7a0b\u670d\u52a1\u5668\uff0c\u7136\u540e\u5728\u4e00\u4e2a\u7ebf\u7a0b\u6c60\u4e2d\u4f7f\u7528 serve_forever() \u65b9\u6cd5\u6765\u542f\u52a8\u5b83\u4eec\u3002"
      ]
    },
    {
      "cell_type": "code",
      "execution_count": null,
      "metadata": {},
      "outputs": [],
      "source": [
        "if __name__ == '__main__':\n    from threading import Thread\n    NWORKERS = 16\n    serv = TCPServer(('', 20000), EchoHandler)\n    for n in range(NWORKERS):\n        t = Thread(target=serv.serve_forever)\n        t.daemon = True\n        t.start()\n    serv.serve_forever()"
      ]
    },
    {
      "cell_type": "markdown",
      "metadata": {},
      "source": [
        "\u4e00\u822c\u6765\u8bb2\uff0c\u4e00\u4e2a TCPServer \u5728\u5b9e\u4f8b\u5316\u7684\u65f6\u5019\u4f1a\u7ed1\u5b9a\u5e76\u6fc0\u6d3b\u76f8\u5e94\u7684 socket \u3002\n\u4e0d\u8fc7\uff0c\u6709\u65f6\u5019\u4f60\u60f3\u901a\u8fc7\u8bbe\u7f6e\u67d0\u4e9b\u9009\u9879\u53bb\u8c03\u6574\u5e95\u4e0b\u7684 socket` \uff0c\u53ef\u4ee5\u8bbe\u7f6e\u53c2\u6570 bind_and_activate=False \u3002\u5982\u4e0b\uff1a"
      ]
    },
    {
      "cell_type": "code",
      "execution_count": null,
      "metadata": {},
      "outputs": [],
      "source": [
        "if __name__ == '__main__':\n    serv = TCPServer(('', 20000), EchoHandler, bind_and_activate=False)\n    # Set up various socket options\n    serv.socket.setsockopt(socket.SOL_SOCKET, socket.SO_REUSEADDR, True)\n    # Bind and activate\n    serv.server_bind()\n    serv.server_activate()\n    serv.serve_forever()"
      ]
    },
    {
      "cell_type": "markdown",
      "metadata": {},
      "source": [
        "\u4e0a\u9762\u7684 socket \u9009\u9879\u662f\u4e00\u4e2a\u975e\u5e38\u666e\u904d\u7684\u914d\u7f6e\u9879\uff0c\u5b83\u5141\u8bb8\u670d\u52a1\u5668\u91cd\u65b0\u7ed1\u5b9a\u4e00\u4e2a\u4e4b\u524d\u4f7f\u7528\u8fc7\u7684\u7aef\u53e3\u53f7\u3002\n\u7531\u4e8e\u8981\u88ab\u7ecf\u5e38\u4f7f\u7528\u5230\uff0c\u5b83\u88ab\u653e\u7f6e\u5230\u7c7b\u53d8\u91cf\u4e2d\uff0c\u53ef\u4ee5\u76f4\u63a5\u5728 TCPServer \u4e0a\u9762\u8bbe\u7f6e\u3002\n\u5728\u5b9e\u4f8b\u5316\u670d\u52a1\u5668\u7684\u65f6\u5019\u53bb\u8bbe\u7f6e\u5b83\u7684\u503c\uff0c\u5982\u4e0b\u6240\u793a\uff1a"
      ]
    },
    {
      "cell_type": "code",
      "execution_count": null,
      "metadata": {},
      "outputs": [],
      "source": [
        "if __name__ == '__main__':\n    TCPServer.allow_reuse_address = True\n    serv = TCPServer(('', 20000), EchoHandler)\n    serv.serve_forever()"
      ]
    },
    {
      "cell_type": "markdown",
      "metadata": {},
      "source": [
        "\u5728\u4e0a\u9762\u793a\u4f8b\u4e2d\uff0c\u6211\u4eec\u6f14\u793a\u4e86\u4e24\u79cd\u4e0d\u540c\u7684\u5904\u7406\u5668\u57fa\u7c7b\uff08 BaseRequestHandler \u548c StreamRequestHandler \uff09\u3002\nStreamRequestHandler \u66f4\u52a0\u7075\u6d3b\u70b9\uff0c\u80fd\u901a\u8fc7\u8bbe\u7f6e\u5176\u4ed6\u7684\u7c7b\u53d8\u91cf\u6765\u652f\u6301\u4e00\u4e9b\u65b0\u7684\u7279\u6027\u3002\u6bd4\u5982\uff1a"
      ]
    },
    {
      "cell_type": "code",
      "execution_count": null,
      "metadata": {},
      "outputs": [],
      "source": [
        "import socket\n\nclass EchoHandler(StreamRequestHandler):\n    # Optional settings (defaults shown)\n    timeout = 5                      # Timeout on all socket operations\n    rbufsize = -1                    # Read buffer size\n    wbufsize = 0                     # Write buffer size\n    disable_nagle_algorithm = False  # Sets TCP_NODELAY socket option\n    def handle(self):\n        print('Got connection from', self.client_address)\n        try:\n            for line in self.rfile:\n                # self.wfile is a file-like object for writing\n                self.wfile.write(line)\n        except socket.timeout:\n            print('Timed out!')"
      ]
    },
    {
      "cell_type": "markdown",
      "metadata": {},
      "source": [
        "\u6700\u540e\uff0c\u8fd8\u9700\u8981\u6ce8\u610f\u7684\u662f\u5de8\u5927\u90e8\u5206Python\u7684\u9ad8\u5c42\u7f51\u7edc\u6a21\u5757\uff08\u6bd4\u5982HTTP\u3001XML-RPC\u7b49\uff09\u90fd\u662f\u5efa\u7acb\u5728 socketserver \u529f\u80fd\u4e4b\u4e0a\u3002\n\u4e5f\u5c31\u662f\u8bf4\uff0c\u76f4\u63a5\u4f7f\u7528 socket \u5e93\u6765\u5b9e\u73b0\u670d\u52a1\u5668\u4e5f\u5e76\u4e0d\u662f\u5f88\u96be\u3002\n\u4e0b\u9762\u662f\u4e00\u4e2a\u4f7f\u7528 socket \u76f4\u63a5\u7f16\u7a0b\u5b9e\u73b0\u7684\u4e00\u4e2a\u670d\u52a1\u5668\u7b80\u5355\u4f8b\u5b50\uff1a"
      ]
    },
    {
      "cell_type": "code",
      "execution_count": null,
      "metadata": {},
      "outputs": [],
      "source": [
        "from socket import socket, AF_INET, SOCK_STREAM\n\ndef echo_handler(address, client_sock):\n    print('Got connection from {}'.format(address))\n    while True:\n        msg = client_sock.recv(8192)\n        if not msg:\n            break\n        client_sock.sendall(msg)\n    client_sock.close()\n\ndef echo_server(address, backlog=5):\n    sock = socket(AF_INET, SOCK_STREAM)\n    sock.bind(address)\n    sock.listen(backlog)\n    while True:\n        client_sock, client_addr = sock.accept()\n        echo_handler(client_addr, client_sock)\n\nif __name__ == '__main__':\n    echo_server(('', 20000))"
      ]
    }
  ],
  "metadata": {
    "kernelspec": {
      "display_name": "Python 3",
      "language": "python",
      "name": "python3"
    },
    "language_info": {
      "codemirror_mode": {
        "name": "ipython",
        "version": 3
      },
      "file_extension": ".py",
      "mimetype": "text/x-python",
      "name": "python",
      "nbconvert_exporter": "python",
      "pygments_lexer": "ipython3",
      "version": "3.7.1"
    },
    "toc": {
      "base_numbering": 1,
      "nav_menu": {},
      "number_sections": true,
      "sideBar": true,
      "skip_h1_title": true,
      "title_cell": "Table of Contents",
      "title_sidebar": "Contents",
      "toc_cell": false,
      "toc_position": {},
      "toc_section_display": true,
      "toc_window_display": true
    }
  },
  "nbformat": 4,
  "nbformat_minor": 2
}