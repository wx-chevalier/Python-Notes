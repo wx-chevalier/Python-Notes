{
  "cells": [
    {
      "cell_type": "markdown",
      "metadata": {},
      "source": [
        "## 11.6 \u901a\u8fc7XML-RPC\u5b9e\u73b0\u7b80\u5355\u7684\u8fdc\u7a0b\u8c03\u7528\n"
      ]
    },
    {
      "cell_type": "markdown",
      "metadata": {},
      "source": [
        "### \u95ee\u9898\n"
      ]
    },
    {
      "cell_type": "markdown",
      "metadata": {},
      "source": [
        "\u4f60\u60f3\u627e\u5230\u4e00\u4e2a\u7b80\u5355\u7684\u65b9\u5f0f\u53bb\u6267\u884c\u8fd0\u884c\u5728\u8fdc\u7a0b\u673a\u5668\u4e0a\u9762\u7684Python\u7a0b\u5e8f\u4e2d\u7684\u51fd\u6570\u6216\u65b9\u6cd5\u3002"
      ]
    },
    {
      "cell_type": "markdown",
      "metadata": {},
      "source": [
        "### \u89e3\u51b3\u65b9\u6848\n"
      ]
    },
    {
      "cell_type": "markdown",
      "metadata": {},
      "source": [
        "\u5b9e\u73b0\u4e00\u4e2a\u8fdc\u7a0b\u65b9\u6cd5\u8c03\u7528\u7684\u6700\u7b80\u5355\u65b9\u5f0f\u662f\u4f7f\u7528XML-RPC\u3002\u4e0b\u9762\u6211\u4eec\u6f14\u793a\u4e00\u4e0b\u4e00\u4e2a\u5b9e\u73b0\u4e86\u952e-\u503c\u5b58\u50a8\u529f\u80fd\u7684\u7b80\u5355\u670d\u52a1\u5668\uff1a"
      ]
    },
    {
      "cell_type": "code",
      "execution_count": null,
      "metadata": {},
      "outputs": [],
      "source": [
        "from xmlrpc.server import SimpleXMLRPCServer\n\nclass KeyValueServer:\n    _rpc_methods_ = ['get', 'set', 'delete', 'exists', 'keys']\n    def __init__(self, address):\n        self._data = {}\n        self._serv = SimpleXMLRPCServer(address, allow_none=True)\n        for name in self._rpc_methods_:\n            self._serv.register_function(getattr(self, name))\n\n    def get(self, name):\n        return self._data[name]\n\n    def set(self, name, value):\n        self._data[name] = value\n\n    def delete(self, name):\n        del self._data[name]\n\n    def exists(self, name):\n        return name in self._data\n\n    def keys(self):\n        return list(self._data)\n\n    def serve_forever(self):\n        self._serv.serve_forever()\n\n# Example\nif __name__ == '__main__':\n    kvserv = KeyValueServer(('', 15000))\n    kvserv.serve_forever()"
      ]
    },
    {
      "cell_type": "markdown",
      "metadata": {},
      "source": [
        "\u4e0b\u9762\u6211\u4eec\u4ece\u4e00\u4e2a\u5ba2\u6237\u7aef\u673a\u5668\u4e0a\u9762\u6765\u8bbf\u95ee\u670d\u52a1\u5668\uff1a"
      ]
    },
    {
      "cell_type": "code",
      "execution_count": null,
      "metadata": {},
      "outputs": [],
      "source": [
        "from xmlrpc.client import ServerProxy\ns = ServerProxy('http://localhost:15000', allow_none=True)\ns.set('foo', 'bar')\ns.set('spam', [1, 2, 3])\ns.keys()"
      ]
    },
    {
      "cell_type": "code",
      "execution_count": null,
      "metadata": {},
      "outputs": [],
      "source": [
        "s.get('foo')"
      ]
    },
    {
      "cell_type": "code",
      "execution_count": null,
      "metadata": {},
      "outputs": [],
      "source": [
        "s.get('spam')"
      ]
    },
    {
      "cell_type": "code",
      "execution_count": null,
      "metadata": {},
      "outputs": [],
      "source": [
        "s.delete('spam')\ns.exists('spam')"
      ]
    },
    {
      "cell_type": "markdown",
      "metadata": {},
      "source": [
        "### \u8ba8\u8bba\n"
      ]
    },
    {
      "cell_type": "markdown",
      "metadata": {},
      "source": [
        "XML-RPC \u53ef\u4ee5\u8ba9\u6211\u4eec\u5f88\u5bb9\u6613\u7684\u6784\u9020\u4e00\u4e2a\u7b80\u5355\u7684\u8fdc\u7a0b\u8c03\u7528\u670d\u52a1\u3002\u4f60\u6240\u9700\u8981\u505a\u7684\u4ec5\u4ec5\u662f\u521b\u5efa\u4e00\u4e2a\u670d\u52a1\u5668\u5b9e\u4f8b\uff0c\n\u901a\u8fc7\u5b83\u7684\u65b9\u6cd5 register_function() \u6765\u6ce8\u518c\u51fd\u6570\uff0c\u7136\u540e\u4f7f\u7528\u65b9\u6cd5 serve_forever() \u542f\u52a8\u5b83\u3002\n\u5728\u4e0a\u9762\u6211\u4eec\u5c06\u8fd9\u4e9b\u6b65\u9aa4\u653e\u5728\u4e00\u8d77\u5199\u5230\u4e00\u4e2a\u7c7b\u4e2d\uff0c\u4e0d\u591f\u8fd9\u5e76\u4e0d\u662f\u5fc5\u987b\u7684\u3002\u6bd4\u5982\u4f60\u8fd8\u53ef\u4ee5\u50cf\u4e0b\u9762\u8fd9\u6837\u521b\u5efa\u4e00\u4e2a\u670d\u52a1\u5668\uff1a"
      ]
    },
    {
      "cell_type": "code",
      "execution_count": null,
      "metadata": {},
      "outputs": [],
      "source": [
        "from xmlrpc.server import SimpleXMLRPCServer\ndef add(x,y):\n    return x+y\n\nserv = SimpleXMLRPCServer(('', 15000))\nserv.register_function(add)\nserv.serve_forever()"
      ]
    },
    {
      "cell_type": "markdown",
      "metadata": {},
      "source": [
        "XML-RPC\u66b4\u9732\u51fa\u6765\u7684\u51fd\u6570\u53ea\u80fd\u9002\u7528\u4e8e\u90e8\u5206\u6570\u636e\u7c7b\u578b\uff0c\u6bd4\u5982\u5b57\u7b26\u4e32\u3001\u6574\u5f62\u3001\u5217\u8868\u548c\u5b57\u5178\u3002\n\u5bf9\u4e8e\u5176\u4ed6\u7c7b\u578b\u5c31\u5f97\u9700\u8981\u505a\u4e9b\u989d\u5916\u7684\u529f\u8bfe\u4e86\u3002\n\u4f8b\u5982\uff0c\u5982\u679c\u4f60\u60f3\u901a\u8fc7 XML-RPC \u4f20\u9012\u4e00\u4e2a\u5bf9\u8c61\u5b9e\u4f8b\uff0c\u5b9e\u9645\u4e0a\u53ea\u6709\u4ed6\u7684\u5b9e\u4f8b\u5b57\u5178\u88ab\u5904\u7406\uff1a"
      ]
    },
    {
      "cell_type": "code",
      "execution_count": null,
      "metadata": {},
      "outputs": [],
      "source": [
        "class Point:\n    def __init__(self, x, y):\n            self.x = x\n            self.y = y\np = Point(2, 3)\ns.set('foo', p)\ns.get('foo')"
      ]
    },
    {
      "cell_type": "markdown",
      "metadata": {},
      "source": [
        "\u7c7b\u4f3c\u7684\uff0c\u5bf9\u4e8e\u4e8c\u8fdb\u5236\u6570\u636e\u7684\u5904\u7406\u4e5f\u8ddf\u4f60\u60f3\u8c61\u7684\u4e0d\u592a\u4e00\u6837\uff1a"
      ]
    },
    {
      "cell_type": "code",
      "execution_count": null,
      "metadata": {},
      "outputs": [],
      "source": [
        "s.set('foo', b'Hello World')\ns.get('foo')"
      ]
    },
    {
      "cell_type": "code",
      "execution_count": null,
      "metadata": {},
      "outputs": [],
      "source": [
        "_.data"
      ]
    },
    {
      "cell_type": "markdown",
      "metadata": {},
      "source": [
        "\u4e00\u822c\u6765\u8bb2\uff0c\u4f60\u4e0d\u5e94\u8be5\u5c06 XML-RPC \u670d\u52a1\u4ee5\u516c\u5171API\u7684\u65b9\u5f0f\u66b4\u9732\u51fa\u6765\u3002\n\u5bf9\u4e8e\u8fd9\u79cd\u60c5\u51b5\uff0c\u901a\u5e38\u5206\u5e03\u5f0f\u5e94\u7528\u7a0b\u5e8f\u4f1a\u662f\u4e00\u4e2a\u66f4\u597d\u7684\u9009\u62e9\u3002"
      ]
    },
    {
      "cell_type": "markdown",
      "metadata": {},
      "source": [
        "XML-RPC\u7684\u4e00\u4e2a\u7f3a\u70b9\u662f\u5b83\u7684\u6027\u80fd\u3002SimpleXMLRPCServer \u7684\u5b9e\u73b0\u662f\u5355\u7ebf\u7a0b\u7684\uff0c\n\u6240\u4ee5\u5b83\u4e0d\u9002\u5408\u4e8e\u5927\u578b\u7a0b\u5e8f\uff0c\u5c3d\u7ba1\u6211\u4eec\u572811.2\u5c0f\u8282\u4e2d\u6f14\u793a\u8fc7\u5b83\u662f\u53ef\u4ee5\u901a\u8fc7\u591a\u7ebf\u7a0b\u6765\u6267\u884c\u7684\u3002\n\u53e6\u5916\uff0c\u7531\u4e8e XML-RPC \u5c06\u6240\u6709\u6570\u636e\u90fd\u5e8f\u5217\u5316\u4e3aXML\u683c\u5f0f\uff0c\u6240\u4ee5\u5b83\u4f1a\u6bd4\u5176\u4ed6\u7684\u65b9\u5f0f\u8fd0\u884c\u7684\u6162\u4e00\u4e9b\u3002\n\u4f46\u662f\u5b83\u4e5f\u6709\u4f18\u70b9\uff0c\u8fd9\u79cd\u65b9\u5f0f\u7684\u7f16\u7801\u53ef\u4ee5\u88ab\u7edd\u5927\u90e8\u5206\u5176\u4ed6\u7f16\u7a0b\u8bed\u8a00\u652f\u6301\u3002\n\u901a\u8fc7\u4f7f\u7528\u8fd9\u79cd\u65b9\u5f0f\uff0c\u5176\u4ed6\u8bed\u8a00\u7684\u5ba2\u6237\u7aef\u7a0b\u5e8f\u90fd\u80fd\u8bbf\u95ee\u4f60\u7684\u670d\u52a1\u3002"
      ]
    },
    {
      "cell_type": "markdown",
      "metadata": {},
      "source": [
        "\u867d\u7136XML-RPC\u6709\u5f88\u591a\u7f3a\u70b9\uff0c\u4f46\u662f\u5982\u679c\u4f60\u9700\u8981\u5feb\u901f\u6784\u5efa\u4e00\u4e2a\u7b80\u5355\u8fdc\u7a0b\u8fc7\u7a0b\u8c03\u7528\u7cfb\u7edf\u7684\u8bdd\uff0c\u5b83\u4ecd\u7136\u503c\u5f97\u53bb\u5b66\u4e60\u7684\u3002\n\u6709\u65f6\u5019\uff0c\u7b80\u5355\u7684\u65b9\u6848\u5c31\u5df2\u7ecf\u8db3\u591f\u4e86\u3002"
      ]
    }
  ],
  "metadata": {
    "kernelspec": {
      "display_name": "Python 3",
      "language": "python",
      "name": "python3"
    },
    "language_info": {
      "codemirror_mode": {
        "name": "ipython",
        "version": 3
      },
      "file_extension": ".py",
      "mimetype": "text/x-python",
      "name": "python",
      "nbconvert_exporter": "python",
      "pygments_lexer": "ipython3",
      "version": "3.7.1"
    },
    "toc": {
      "base_numbering": 1,
      "nav_menu": {},
      "number_sections": true,
      "sideBar": true,
      "skip_h1_title": true,
      "title_cell": "Table of Contents",
      "title_sidebar": "Contents",
      "toc_cell": false,
      "toc_position": {},
      "toc_section_display": true,
      "toc_window_display": true
    }
  },
  "nbformat": 4,
  "nbformat_minor": 2
}