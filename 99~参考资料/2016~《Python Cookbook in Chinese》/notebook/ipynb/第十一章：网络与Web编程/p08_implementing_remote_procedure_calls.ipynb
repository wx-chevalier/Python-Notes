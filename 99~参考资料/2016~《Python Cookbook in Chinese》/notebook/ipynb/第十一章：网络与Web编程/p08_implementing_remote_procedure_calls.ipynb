{
  "cells": [
    {
      "cell_type": "markdown",
      "metadata": {},
      "source": [
        "## 11.8 \u5b9e\u73b0\u8fdc\u7a0b\u65b9\u6cd5\u8c03\u7528\n"
      ]
    },
    {
      "cell_type": "markdown",
      "metadata": {},
      "source": [
        "### \u95ee\u9898\n"
      ]
    },
    {
      "cell_type": "markdown",
      "metadata": {},
      "source": [
        "\u4f60\u60f3\u5728\u4e00\u4e2a\u6d88\u606f\u4f20\u8f93\u5c42\u5982 sockets \u3001multiprocessing connections \u6216 ZeroMQ\n\u7684\u57fa\u7840\u4e4b\u4e0a\u5b9e\u73b0\u4e00\u4e2a\u7b80\u5355\u7684\u8fdc\u7a0b\u8fc7\u7a0b\u8c03\u7528\uff08RPC\uff09\u3002"
      ]
    },
    {
      "cell_type": "markdown",
      "metadata": {},
      "source": [
        "### \u89e3\u51b3\u65b9\u6848\n"
      ]
    },
    {
      "cell_type": "markdown",
      "metadata": {},
      "source": [
        "\u5c06\u51fd\u6570\u8bf7\u6c42\u3001\u53c2\u6570\u548c\u8fd4\u56de\u503c\u4f7f\u7528pickle\u7f16\u7801\u540e\uff0c\u5728\u4e0d\u540c\u7684\u89e3\u91ca\u5668\u76f4\u63a5\u4f20\u9001pickle\u5b57\u8282\u5b57\u7b26\u4e32\uff0c\u53ef\u4ee5\u5f88\u5bb9\u6613\u7684\u5b9e\u73b0RPC\u3002\n\u4e0b\u9762\u662f\u4e00\u4e2a\u7b80\u5355\u7684PRC\u5904\u7406\u5668\uff0c\u53ef\u4ee5\u88ab\u6574\u5408\u5230\u4e00\u4e2a\u670d\u52a1\u5668\u4e2d\u53bb\uff1a"
      ]
    },
    {
      "cell_type": "code",
      "execution_count": null,
      "metadata": {},
      "outputs": [],
      "source": [
        "# rpcserver.py\n\nimport pickle\nclass RPCHandler:\n    def __init__(self):\n        self._functions = { }\n\n    def register_function(self, func):\n        self._functions[func.__name__] = func\n\n    def handle_connection(self, connection):\n        try:\n            while True:\n                # Receive a message\n                func_name, args, kwargs = pickle.loads(connection.recv())\n                # Run the RPC and send a response\n                try:\n                    r = self._functions[func_name](*args,**kwargs)\n                    connection.send(pickle.dumps(r))\n                except Exception as e:\n                    connection.send(pickle.dumps(e))\n        except EOFError:\n             pass"
      ]
    },
    {
      "cell_type": "markdown",
      "metadata": {},
      "source": [
        "\u8981\u4f7f\u7528\u8fd9\u4e2a\u5904\u7406\u5668\uff0c\u4f60\u9700\u8981\u5c06\u5b83\u52a0\u5165\u5230\u4e00\u4e2a\u6d88\u606f\u670d\u52a1\u5668\u4e2d\u3002\u4f60\u6709\u5f88\u591a\u79cd\u9009\u62e9\uff0c\n\u4f46\u662f\u4f7f\u7528 multiprocessing \u5e93\u662f\u6700\u7b80\u5355\u7684\u3002\u4e0b\u9762\u662f\u4e00\u4e2aRPC\u670d\u52a1\u5668\u4f8b\u5b50\uff1a"
      ]
    },
    {
      "cell_type": "code",
      "execution_count": null,
      "metadata": {},
      "outputs": [],
      "source": [
        "from multiprocessing.connection import Listener\nfrom threading import Thread\n\ndef rpc_server(handler, address, authkey):\n    sock = Listener(address, authkey=authkey)\n    while True:\n        client = sock.accept()\n        t = Thread(target=handler.handle_connection, args=(client,))\n        t.daemon = True\n        t.start()\n\n# Some remote functions\ndef add(x, y):\n    return x + y\n\ndef sub(x, y):\n    return x - y\n\n# Register with a handler\nhandler = RPCHandler()\nhandler.register_function(add)\nhandler.register_function(sub)\n\n# Run the server\nrpc_server(handler, ('localhost', 17000), authkey=b'peekaboo')"
      ]
    },
    {
      "cell_type": "markdown",
      "metadata": {},
      "source": [
        "\u4e3a\u4e86\u4ece\u4e00\u4e2a\u8fdc\u7a0b\u5ba2\u6237\u7aef\u8bbf\u95ee\u670d\u52a1\u5668\uff0c\u4f60\u9700\u8981\u521b\u5efa\u4e00\u4e2a\u5bf9\u5e94\u7684\u7528\u6765\u4f20\u9001\u8bf7\u6c42\u7684RPC\u4ee3\u7406\u7c7b\u3002\u4f8b\u5982"
      ]
    },
    {
      "cell_type": "code",
      "execution_count": null,
      "metadata": {},
      "outputs": [],
      "source": [
        "import pickle\n\nclass RPCProxy:\n    def __init__(self, connection):\n        self._connection = connection\n    def __getattr__(self, name):\n        def do_rpc(*args, **kwargs):\n            self._connection.send(pickle.dumps((name, args, kwargs)))\n            result = pickle.loads(self._connection.recv())\n            if isinstance(result, Exception):\n                raise result\n            return result\n        return do_rpc"
      ]
    },
    {
      "cell_type": "markdown",
      "metadata": {},
      "source": [
        "\u8981\u4f7f\u7528\u8fd9\u4e2a\u4ee3\u7406\u7c7b\uff0c\u4f60\u9700\u8981\u5c06\u5176\u5305\u88c5\u5230\u4e00\u4e2a\u670d\u52a1\u5668\u7684\u8fde\u63a5\u4e0a\u9762\uff0c\u4f8b\u5982\uff1a"
      ]
    },
    {
      "cell_type": "code",
      "execution_count": null,
      "metadata": {},
      "outputs": [],
      "source": [
        "from multiprocessing.connection import Client\nc = Client(('localhost', 17000), authkey=b'peekaboo')\nproxy = RPCProxy(c)\nproxy.add(2, 3)"
      ]
    },
    {
      "cell_type": "code",
      "execution_count": null,
      "metadata": {},
      "outputs": [],
      "source": [
        "proxy.sub(2, 3)"
      ]
    },
    {
      "cell_type": "code",
      "execution_count": null,
      "metadata": {},
      "outputs": [],
      "source": [
        "proxy.sub([1, 2], 4)"
      ]
    },
    {
      "cell_type": "markdown",
      "metadata": {},
      "source": [
        "\u8981\u6ce8\u610f\u7684\u662f\u5f88\u591a\u6d88\u606f\u5c42\uff08\u6bd4\u5982 multiprocessing \uff09\u5df2\u7ecf\u4f7f\u7528pickle\u5e8f\u5217\u5316\u4e86\u6570\u636e\u3002\n\u5982\u679c\u662f\u8fd9\u6837\u7684\u8bdd\uff0c\u5bf9 pickle.dumps() \u548c pickle.loads() \u7684\u8c03\u7528\u8981\u53bb\u6389\u3002"
      ]
    },
    {
      "cell_type": "markdown",
      "metadata": {},
      "source": [
        "### \u8ba8\u8bba\n"
      ]
    },
    {
      "cell_type": "markdown",
      "metadata": {},
      "source": [
        "RPCHandler \u548c RPCProxy \u7684\u57fa\u672c\u601d\u8def\u662f\u5f88\u6bd4\u8f83\u7b80\u5355\u7684\u3002\n\u5982\u679c\u4e00\u4e2a\u5ba2\u6237\u7aef\u60f3\u8981\u8c03\u7528\u4e00\u4e2a\u8fdc\u7a0b\u51fd\u6570\uff0c\u6bd4\u5982 foo(1, 2, z=3)\n,\u4ee3\u7406\u7c7b\u521b\u5efa\u4e00\u4e2a\u5305\u542b\u4e86\u51fd\u6570\u540d\u548c\u53c2\u6570\u7684\u5143\u7ec4 ('foo', (1, 2), {'z': 3}) \u3002\n\u8fd9\u4e2a\u5143\u7ec4\u88abpickle\u5e8f\u5217\u5316\u540e\u901a\u8fc7\u7f51\u7edc\u8fde\u63a5\u53d1\u751f\u51fa\u53bb\u3002\n\u8fd9\u4e00\u6b65\u5728 RPCProxy \u7684 __getattr__() \u65b9\u6cd5\u8fd4\u56de\u7684 do_rpc() \u95ed\u5305\u4e2d\u5b8c\u6210\u3002\n\u670d\u52a1\u5668\u63a5\u6536\u540e\u901a\u8fc7pickle\u53cd\u5e8f\u5217\u5316\u6d88\u606f\uff0c\u67e5\u627e\u51fd\u6570\u540d\u770b\u770b\u662f\u5426\u5df2\u7ecf\u6ce8\u518c\u8fc7\uff0c\u7136\u540e\u6267\u884c\u76f8\u5e94\u7684\u51fd\u6570\u3002\n\u6267\u884c\u7ed3\u679c(\u6216\u5f02\u5e38)\u88abpickle\u5e8f\u5217\u5316\u540e\u8fd4\u56de\u53d1\u9001\u7ed9\u5ba2\u6237\u7aef\u3002\u6211\u4eec\u7684\u5b9e\u4f8b\u9700\u8981\u4f9d\u8d56 multiprocessing \u8fdb\u884c\u901a\u4fe1\u3002\n\u4e0d\u8fc7\uff0c\u8fd9\u79cd\u65b9\u5f0f\u53ef\u4ee5\u9002\u7528\u4e8e\u5176\u4ed6\u4efb\u4f55\u6d88\u606f\u7cfb\u7edf\u3002\u4f8b\u5982\uff0c\u5982\u679c\u4f60\u60f3\u5728ZeroMQ\u4e4b\u4e0a\u5b9e\u4e60RPC\uff0c\n\u4ec5\u4ec5\u53ea\u9700\u8981\u5c06\u8fde\u63a5\u5bf9\u8c61\u6362\u6210\u5408\u9002\u7684ZeroMQ\u7684socket\u5bf9\u8c61\u5373\u53ef\u3002"
      ]
    },
    {
      "cell_type": "markdown",
      "metadata": {},
      "source": [
        "\u7531\u4e8e\u5e95\u5c42\u9700\u8981\u4f9d\u8d56pickle\uff0c\u90a3\u4e48\u5b89\u5168\u95ee\u9898\u5c31\u9700\u8981\u8003\u8651\u4e86\n\uff08\u56e0\u4e3a\u4e00\u4e2a\u806a\u660e\u7684\u9ed1\u5ba2\u53ef\u4ee5\u521b\u5efa\u7279\u5b9a\u7684\u6d88\u606f\uff0c\u80fd\u591f\u8ba9\u4efb\u610f\u51fd\u6570\u901a\u8fc7pickle\u53cd\u5e8f\u5217\u5316\u540e\u88ab\u6267\u884c\uff09\u3002\n\u56e0\u6b64\u4f60\u6c38\u8fdc\u4e0d\u8981\u5141\u8bb8\u6765\u81ea\u4e0d\u4fe1\u4efb\u6216\u672a\u8ba4\u8bc1\u7684\u5ba2\u6237\u7aef\u7684RPC\u3002\u7279\u522b\u662f\u4f60\u7edd\u5bf9\u4e0d\u8981\u5141\u8bb8\u6765\u81eaInternet\u7684\u4efb\u610f\u673a\u5668\u7684\u8bbf\u95ee\uff0c\n\u8fd9\u79cd\u53ea\u80fd\u5728\u5185\u90e8\u88ab\u4f7f\u7528\uff0c\u4f4d\u4e8e\u9632\u706b\u5899\u540e\u9762\u5e76\u4e14\u4e0d\u8981\u5bf9\u5916\u66b4\u9732\u3002"
      ]
    },
    {
      "cell_type": "markdown",
      "metadata": {},
      "source": [
        "\u4f5c\u4e3apickle\u7684\u66ff\u4ee3\uff0c\u4f60\u4e5f\u8bb8\u53ef\u4ee5\u8003\u8651\u4f7f\u7528JSON\u3001XML\u6216\u4e00\u4e9b\u5176\u4ed6\u7684\u7f16\u7801\u683c\u5f0f\u6765\u5e8f\u5217\u5316\u6d88\u606f\u3002\n\u4f8b\u5982\uff0c\u672c\u673a\u5b9e\u4f8b\u53ef\u4ee5\u5f88\u5bb9\u6613\u7684\u6539\u5199\u6210JSON\u7f16\u7801\u65b9\u6848\u3002\u8fd8\u9700\u8981\u5c06 pickle.loads() \u548c  pickle.dumps()\n\u66ff\u6362\u6210 json.loads() \u548c json.dumps() \u5373\u53ef\uff1a"
      ]
    },
    {
      "cell_type": "code",
      "execution_count": null,
      "metadata": {},
      "outputs": [],
      "source": [
        "# jsonrpcserver.py\nimport json\n\nclass RPCHandler:\n    def __init__(self):\n        self._functions = { }\n\n    def register_function(self, func):\n        self._functions[func.__name__] = func\n\n    def handle_connection(self, connection):\n        try:\n            while True:\n                # Receive a message\n                func_name, args, kwargs = json.loads(connection.recv())\n                # Run the RPC and send a response\n                try:\n                    r = self._functions[func_name](*args,**kwargs)\n                    connection.send(json.dumps(r))\n                except Exception as e:\n                    connection.send(json.dumps(str(e)))\n        except EOFError:\n             pass\n\n# jsonrpcclient.py\nimport json\n\nclass RPCProxy:\n    def __init__(self, connection):\n        self._connection = connection\n    def __getattr__(self, name):\n        def do_rpc(*args, **kwargs):\n            self._connection.send(json.dumps((name, args, kwargs)))\n            result = json.loads(self._connection.recv())\n            return result\n        return do_rpc"
      ]
    },
    {
      "cell_type": "markdown",
      "metadata": {},
      "source": [
        "\u5b9e\u73b0RPC\u7684\u4e00\u4e2a\u6bd4\u8f83\u590d\u6742\u7684\u95ee\u9898\u662f\u5982\u4f55\u53bb\u5904\u7406\u5f02\u5e38\u3002\u81f3\u5c11\uff0c\u5f53\u65b9\u6cd5\u4ea7\u751f\u5f02\u5e38\u65f6\u670d\u52a1\u5668\u4e0d\u5e94\u8be5\u5954\u6e83\u3002\n\u56e0\u6b64\uff0c\u8fd4\u56de\u7ed9\u5ba2\u6237\u7aef\u7684\u5f02\u5e38\u6240\u4ee3\u8868\u7684\u542b\u4e49\u5c31\u8981\u597d\u597d\u8bbe\u8ba1\u4e86\u3002\n\u5982\u679c\u4f60\u4f7f\u7528pickle\uff0c\u5f02\u5e38\u5bf9\u8c61\u5b9e\u4f8b\u5728\u5ba2\u6237\u7aef\u80fd\u88ab\u53cd\u5e8f\u5217\u5316\u5e76\u629b\u51fa\u3002\u5982\u679c\u4f60\u4f7f\u7528\u5176\u4ed6\u7684\u534f\u8bae\uff0c\u90a3\u5f97\u60f3\u60f3\u53e6\u5916\u7684\u65b9\u6cd5\u4e86\u3002\n\u4e0d\u8fc7\u81f3\u5c11\uff0c\u4f60\u5e94\u8be5\u5728\u54cd\u5e94\u4e2d\u8fd4\u56de\u5f02\u5e38\u5b57\u7b26\u4e32\u3002\u6211\u4eec\u5728JSON\u7684\u4f8b\u5b50\u4e2d\u5c31\u662f\u4f7f\u7528\u7684\u8fd9\u79cd\u65b9\u5f0f\u3002"
      ]
    },
    {
      "cell_type": "markdown",
      "metadata": {},
      "source": [
        "\u5bf9\u4e8e\u5176\u4ed6\u7684RPC\u5b9e\u73b0\u4f8b\u5b50\uff0c\u6211\u63a8\u8350\u4f60\u770b\u770b\u5728XML-RPC\u4e2d\u4f7f\u7528\u7684 SimpleXMLRPCServer \u548c ServerProxy \u7684\u5b9e\u73b0\uff0c\n\u4e5f\u5c31\u662f11.6\u5c0f\u8282\u4e2d\u7684\u5185\u5bb9\u3002"
      ]
    }
  ],
  "metadata": {
    "kernelspec": {
      "display_name": "Python 3",
      "language": "python",
      "name": "python3"
    },
    "language_info": {
      "codemirror_mode": {
        "name": "ipython",
        "version": 3
      },
      "file_extension": ".py",
      "mimetype": "text/x-python",
      "name": "python",
      "nbconvert_exporter": "python",
      "pygments_lexer": "ipython3",
      "version": "3.7.1"
    },
    "toc": {
      "base_numbering": 1,
      "nav_menu": {},
      "number_sections": true,
      "sideBar": true,
      "skip_h1_title": true,
      "title_cell": "Table of Contents",
      "title_sidebar": "Contents",
      "toc_cell": false,
      "toc_position": {},
      "toc_section_display": true,
      "toc_window_display": true
    }
  },
  "nbformat": 4,
  "nbformat_minor": 2
}