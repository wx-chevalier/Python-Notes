{
  "cells": [
    {
      "cell_type": "markdown",
      "metadata": {},
      "source": [
        "## 11.7 \u5728\u4e0d\u540c\u7684Python\u89e3\u91ca\u5668\u4e4b\u95f4\u4ea4\u4e92\n"
      ]
    },
    {
      "cell_type": "markdown",
      "metadata": {},
      "source": [
        "### \u95ee\u9898\n"
      ]
    },
    {
      "cell_type": "markdown",
      "metadata": {},
      "source": [
        "\u4f60\u5728\u4e0d\u540c\u7684\u673a\u5668\u4e0a\u9762\u8fd0\u884c\u7740\u591a\u4e2aPython\u89e3\u91ca\u5668\u5b9e\u4f8b\uff0c\u5e76\u5e0c\u671b\u80fd\u591f\u5728\u8fd9\u4e9b\u89e3\u91ca\u5668\u4e4b\u95f4\u901a\u8fc7\u6d88\u606f\u6765\u4ea4\u6362\u6570\u636e\u3002"
      ]
    },
    {
      "cell_type": "markdown",
      "metadata": {},
      "source": [
        "### \u89e3\u51b3\u65b9\u6848\n"
      ]
    },
    {
      "cell_type": "markdown",
      "metadata": {},
      "source": [
        "\u901a\u8fc7\u4f7f\u7528 multiprocessing.connection \u6a21\u5757\u53ef\u4ee5\u5f88\u5bb9\u6613\u7684\u5b9e\u73b0\u89e3\u91ca\u5668\u4e4b\u95f4\u7684\u901a\u4fe1\u3002\n\u4e0b\u9762\u662f\u4e00\u4e2a\u7b80\u5355\u7684\u5e94\u7b54\u670d\u52a1\u5668\u4f8b\u5b50\uff1a"
      ]
    },
    {
      "cell_type": "code",
      "execution_count": null,
      "metadata": {},
      "outputs": [],
      "source": [
        "from multiprocessing.connection import Listener\nimport traceback\n\ndef echo_client(conn):\n    try:\n        while True:\n            msg = conn.recv()\n            conn.send(msg)\n    except EOFError:\n        print('Connection closed')\n\ndef echo_server(address, authkey):\n    serv = Listener(address, authkey=authkey)\n    while True:\n        try:\n            client = serv.accept()\n\n            echo_client(client)\n        except Exception:\n            traceback.print_exc()\n\necho_server(('', 25000), authkey=b'peekaboo')"
      ]
    },
    {
      "cell_type": "markdown",
      "metadata": {},
      "source": [
        "\u7136\u540e\u5ba2\u6237\u7aef\u8fde\u63a5\u670d\u52a1\u5668\u5e76\u53d1\u9001\u6d88\u606f\u7684\u7b80\u5355\u793a\u4f8b\uff1a"
      ]
    },
    {
      "cell_type": "code",
      "execution_count": null,
      "metadata": {},
      "outputs": [],
      "source": [
        "from multiprocessing.connection import Client\nc = Client(('localhost', 25000), authkey=b'peekaboo')\nc.send('hello')\nc.recv()"
      ]
    },
    {
      "cell_type": "code",
      "execution_count": null,
      "metadata": {},
      "outputs": [],
      "source": [
        "c.send(42)\nc.recv()"
      ]
    },
    {
      "cell_type": "code",
      "execution_count": null,
      "metadata": {},
      "outputs": [],
      "source": [
        "c.send([1, 2, 3, 4, 5])\nc.recv()"
      ]
    },
    {
      "cell_type": "markdown",
      "metadata": {},
      "source": [
        "\u8ddf\u5e95\u5c42socket\u4e0d\u540c\u7684\u662f\uff0c\u6bcf\u4e2a\u6d88\u606f\u4f1a\u5b8c\u6574\u4fdd\u5b58\uff08\u6bcf\u4e00\u4e2a\u901a\u8fc7send()\u53d1\u9001\u7684\u5bf9\u8c61\u80fd\u901a\u8fc7recv()\u6765\u5b8c\u6574\u63a5\u53d7\uff09\u3002\n\u53e6\u5916\uff0c\u6240\u6709\u5bf9\u8c61\u4f1a\u901a\u8fc7pickle\u5e8f\u5217\u5316\u3002\u56e0\u6b64\uff0c\u4efb\u4f55\u517c\u5bb9pickle\u7684\u5bf9\u8c61\u90fd\u80fd\u5728\u6b64\u8fde\u63a5\u4e0a\u9762\u88ab\u53d1\u9001\u548c\u63a5\u53d7\u3002"
      ]
    },
    {
      "cell_type": "markdown",
      "metadata": {},
      "source": [
        "### \u8ba8\u8bba\n"
      ]
    },
    {
      "cell_type": "markdown",
      "metadata": {},
      "source": [
        "\u76ee\u524d\u6709\u5f88\u591a\u7528\u6765\u5b9e\u73b0\u5404\u79cd\u6d88\u606f\u4f20\u8f93\u7684\u5305\u548c\u51fd\u6570\u5e93\uff0c\u6bd4\u5982ZeroMQ\u3001Celery\u7b49\u3002\n\u4f60\u8fd8\u6709\u53e6\u5916\u4e00\u79cd\u9009\u62e9\u5c31\u662f\u81ea\u5df1\u5728\u5e95\u5c42socket\u57fa\u7840\u4e4b\u4e0a\u6765\u5b9e\u73b0\u4e00\u4e2a\u6d88\u606f\u4f20\u8f93\u5c42\u3002\n\u4f46\u662f\u4f60\u60f3\u8981\u7b80\u5355\u4e00\u70b9\u7684\u65b9\u6848\uff0c\u90a3\u4e48\u8fd9\u65f6\u5019 multiprocessing.connection \u5c31\u6d3e\u4e0a\u7528\u573a\u4e86\u3002\n\u4ec5\u4ec5\u4f7f\u7528\u4e00\u4e9b\u7b80\u5355\u7684\u8bed\u53e5\u5373\u53ef\u5b9e\u73b0\u591a\u4e2a\u89e3\u91ca\u5668\u4e4b\u95f4\u7684\u6d88\u606f\u901a\u4fe1\u3002"
      ]
    },
    {
      "cell_type": "markdown",
      "metadata": {},
      "source": [
        "\u5982\u679c\u4f60\u7684\u89e3\u91ca\u5668\u8fd0\u884c\u5728\u540c\u4e00\u53f0\u673a\u5668\u4e0a\u9762\uff0c\u90a3\u4e48\u4f60\u53ef\u4ee5\u4f7f\u7528\u53e6\u5916\u7684\u901a\u4fe1\u673a\u5236\uff0c\u6bd4\u5982Unix\u57df\u5957\u63a5\u5b57\u6216\u8005\u662fWindows\u547d\u540d\u7ba1\u9053\u3002\n\u8981\u60f3\u4f7f\u7528UNIX\u57df\u5957\u63a5\u5b57\u6765\u521b\u5efa\u4e00\u4e2a\u8fde\u63a5\uff0c\u53ea\u9700\u7b80\u5355\u7684\u5c06\u5730\u5740\u6539\u5199\u4e00\u4e2a\u6587\u4ef6\u540d\u5373\u53ef\uff1a"
      ]
    },
    {
      "cell_type": "code",
      "execution_count": null,
      "metadata": {},
      "outputs": [],
      "source": [
        "s = Listener('/tmp/myconn', authkey=b'peekaboo')"
      ]
    },
    {
      "cell_type": "markdown",
      "metadata": {},
      "source": [
        "\u8981\u60f3\u4f7f\u7528Windows\u547d\u540d\u7ba1\u9053\u6765\u521b\u5efa\u8fde\u63a5\uff0c\u53ea\u9700\u50cf\u4e0b\u9762\u8fd9\u6837\u4f7f\u7528\u4e00\u4e2a\u6587\u4ef6\u540d\uff1a"
      ]
    },
    {
      "cell_type": "code",
      "execution_count": null,
      "metadata": {},
      "outputs": [],
      "source": [
        "s = Listener(r'\\\\.\\pipe\\myconn', authkey=b'peekaboo')"
      ]
    },
    {
      "cell_type": "markdown",
      "metadata": {},
      "source": [
        "\u4e00\u4e2a\u901a\u7528\u51c6\u5219\u662f\uff0c\u4f60\u4e0d\u8981\u4f7f\u7528 multiprocessing \u6765\u5b9e\u73b0\u4e00\u4e2a\u5bf9\u5916\u7684\u516c\u5171\u670d\u52a1\u3002\nClient() \u548c Listener() \u4e2d\u7684 authkey \u53c2\u6570\u7528\u6765\u8ba4\u8bc1\u53d1\u8d77\u8fde\u63a5\u7684\u7ec8\u7aef\u7528\u6237\u3002\n\u5982\u679c\u5bc6\u94a5\u4e0d\u5bf9\u4f1a\u4ea7\u751f\u4e00\u4e2a\u5f02\u5e38\u3002\u6b64\u5916\uff0c\u8be5\u6a21\u5757\u6700\u9002\u5408\u7528\u6765\u5efa\u7acb\u957f\u8fde\u63a5\uff08\u800c\u4e0d\u662f\u5927\u91cf\u7684\u77ed\u8fde\u63a5\uff09\uff0c\n\u4f8b\u5982\uff0c\u4e24\u4e2a\u89e3\u91ca\u5668\u4e4b\u95f4\u542f\u52a8\u540e\u5c31\u5f00\u59cb\u5efa\u7acb\u8fde\u63a5\u5e76\u5728\u5904\u7406\u67d0\u4e2a\u95ee\u9898\u8fc7\u7a0b\u4e2d\u4f1a\u4e00\u76f4\u4fdd\u6301\u8fde\u63a5\u72b6\u6001\u3002"
      ]
    },
    {
      "cell_type": "markdown",
      "metadata": {},
      "source": [
        "\u5982\u679c\u4f60\u9700\u8981\u5bf9\u5e95\u5c42\u8fde\u63a5\u505a\u66f4\u591a\u7684\u63a7\u5236\uff0c\u6bd4\u5982\u9700\u8981\u652f\u6301\u8d85\u65f6\u3001\u975e\u963b\u585eI/O\u6216\u5176\u4ed6\u7c7b\u4f3c\u7684\u7279\u6027\uff0c\n\u4f60\u6700\u597d\u4f7f\u7528\u53e6\u5916\u7684\u5e93\u6216\u8005\u662f\u5728\u9ad8\u5c42socket\u4e0a\u6765\u5b9e\u73b0\u8fd9\u4e9b\u7279\u6027\u3002"
      ]
    }
  ],
  "metadata": {
    "kernelspec": {
      "display_name": "Python 3",
      "language": "python",
      "name": "python3"
    },
    "language_info": {
      "codemirror_mode": {
        "name": "ipython",
        "version": 3
      },
      "file_extension": ".py",
      "mimetype": "text/x-python",
      "name": "python",
      "nbconvert_exporter": "python",
      "pygments_lexer": "ipython3",
      "version": "3.7.1"
    },
    "toc": {
      "base_numbering": 1,
      "nav_menu": {},
      "number_sections": true,
      "sideBar": true,
      "skip_h1_title": true,
      "title_cell": "Table of Contents",
      "title_sidebar": "Contents",
      "toc_cell": false,
      "toc_position": {},
      "toc_section_display": true,
      "toc_window_display": true
    }
  },
  "nbformat": 4,
  "nbformat_minor": 2
}