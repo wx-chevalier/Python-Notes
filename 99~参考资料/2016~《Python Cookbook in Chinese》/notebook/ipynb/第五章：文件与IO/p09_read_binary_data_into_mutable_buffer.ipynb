{
  "cells": [
    {
      "cell_type": "markdown",
      "metadata": {},
      "source": [
        "## 5.9 \u8bfb\u53d6\u4e8c\u8fdb\u5236\u6570\u636e\u5230\u53ef\u53d8\u7f13\u51b2\u533a\u4e2d\n"
      ]
    },
    {
      "cell_type": "markdown",
      "metadata": {},
      "source": [
        "### \u95ee\u9898\n"
      ]
    },
    {
      "cell_type": "markdown",
      "metadata": {},
      "source": [
        "\u4f60\u60f3\u76f4\u63a5\u8bfb\u53d6\u4e8c\u8fdb\u5236\u6570\u636e\u5230\u4e00\u4e2a\u53ef\u53d8\u7f13\u51b2\u533a\u4e2d\uff0c\u800c\u4e0d\u9700\u8981\u505a\u4efb\u4f55\u7684\u4e2d\u95f4\u590d\u5236\u64cd\u4f5c\u3002\n\u6216\u8005\u4f60\u60f3\u539f\u5730\u4fee\u6539\u6570\u636e\u5e76\u5c06\u5b83\u5199\u56de\u5230\u4e00\u4e2a\u6587\u4ef6\u4e2d\u53bb\u3002"
      ]
    },
    {
      "cell_type": "markdown",
      "metadata": {},
      "source": [
        "### \u89e3\u51b3\u65b9\u6848\n"
      ]
    },
    {
      "cell_type": "markdown",
      "metadata": {},
      "source": [
        "\u4e3a\u4e86\u8bfb\u53d6\u6570\u636e\u5230\u4e00\u4e2a\u53ef\u53d8\u6570\u7ec4\u4e2d\uff0c\u4f7f\u7528\u6587\u4ef6\u5bf9\u8c61\u7684 readinto() \u65b9\u6cd5\u3002\u6bd4\u5982\uff1a"
      ]
    },
    {
      "cell_type": "code",
      "execution_count": null,
      "metadata": {},
      "outputs": [],
      "source": [
        "import os.path\n\ndef read_into_buffer(filename):\n    buf = bytearray(os.path.getsize(filename))\n    with open(filename, 'rb') as f:\n        f.readinto(buf)\n    return buf"
      ]
    },
    {
      "cell_type": "markdown",
      "metadata": {},
      "source": [
        "\u4e0b\u9762\u662f\u4e00\u4e2a\u6f14\u793a\u8fd9\u4e2a\u51fd\u6570\u4f7f\u7528\u65b9\u6cd5\u7684\u4f8b\u5b50\uff1a"
      ]
    },
    {
      "cell_type": "code",
      "execution_count": null,
      "metadata": {},
      "outputs": [],
      "source": [
        "# Write a sample file\nwith open('sample.bin', 'wb') as f:\n    f.write(b'Hello World')\nbuf = read_into_buffer('sample.bin')\nbuf"
      ]
    },
    {
      "cell_type": "code",
      "execution_count": null,
      "metadata": {},
      "outputs": [],
      "source": [
        "buf[0:5] = b'Hello'\nbuf"
      ]
    },
    {
      "cell_type": "code",
      "execution_count": null,
      "metadata": {},
      "outputs": [],
      "source": [
        "with open('newsample.bin', 'wb') as f:\n    f.write(buf)"
      ]
    },
    {
      "cell_type": "markdown",
      "metadata": {},
      "source": [
        "### \u8ba8\u8bba\n"
      ]
    },
    {
      "cell_type": "markdown",
      "metadata": {},
      "source": [
        "\u6587\u4ef6\u5bf9\u8c61\u7684 readinto() \u65b9\u6cd5\u80fd\u88ab\u7528\u6765\u4e3a\u9884\u5148\u5206\u914d\u5185\u5b58\u7684\u6570\u7ec4\u586b\u5145\u6570\u636e\uff0c\u751a\u81f3\u5305\u62ec\u7531 array \u6a21\u5757\u6216 numpy \u5e93\u521b\u5efa\u7684\u6570\u7ec4\u3002\n\u548c\u666e\u901a read() \u65b9\u6cd5\u4e0d\u540c\u7684\u662f\uff0c readinto() \u586b\u5145\u5df2\u5b58\u5728\u7684\u7f13\u51b2\u533a\u800c\u4e0d\u662f\u4e3a\u65b0\u5bf9\u8c61\u91cd\u65b0\u5206\u914d\u5185\u5b58\u518d\u8fd4\u56de\u5b83\u4eec\u3002\n\u56e0\u6b64\uff0c\u4f60\u53ef\u4ee5\u4f7f\u7528\u5b83\u6765\u907f\u514d\u5927\u91cf\u7684\u5185\u5b58\u5206\u914d\u64cd\u4f5c\u3002\n\u6bd4\u5982\uff0c\u5982\u679c\u4f60\u8bfb\u53d6\u4e00\u4e2a\u7531\u76f8\u540c\u5927\u5c0f\u7684\u8bb0\u5f55\u7ec4\u6210\u7684\u4e8c\u8fdb\u5236\u6587\u4ef6\u65f6\uff0c\u4f60\u53ef\u4ee5\u50cf\u4e0b\u9762\u8fd9\u6837\u5199\uff1a"
      ]
    },
    {
      "cell_type": "code",
      "execution_count": null,
      "metadata": {},
      "outputs": [],
      "source": [
        "record_size = 32 # Size of each record (adjust value)\n\nbuf = bytearray(record_size)\nwith open('somefile', 'rb') as f:\n    while True:\n        n = f.readinto(buf)\n        if n < record_size:\n            break\n        # Use the contents of buf\n        ..."
      ]
    },
    {
      "cell_type": "markdown",
      "metadata": {},
      "source": [
        "\u53e6\u5916\u6709\u4e00\u4e2a\u6709\u8da3\u7279\u6027\u5c31\u662f memoryview \uff0c\n\u5b83\u53ef\u4ee5\u901a\u8fc7\u96f6\u590d\u5236\u7684\u65b9\u5f0f\u5bf9\u5df2\u5b58\u5728\u7684\u7f13\u51b2\u533a\u6267\u884c\u5207\u7247\u64cd\u4f5c\uff0c\u751a\u81f3\u8fd8\u80fd\u4fee\u6539\u5b83\u7684\u5185\u5bb9\u3002\u6bd4\u5982\uff1a"
      ]
    },
    {
      "cell_type": "code",
      "execution_count": null,
      "metadata": {},
      "outputs": [],
      "source": [
        "buf"
      ]
    },
    {
      "cell_type": "code",
      "execution_count": null,
      "metadata": {},
      "outputs": [],
      "source": [
        "m1 = memoryview(buf)\nm2 = m1[-5:]\nm2"
      ]
    },
    {
      "cell_type": "code",
      "execution_count": null,
      "metadata": {},
      "outputs": [],
      "source": [
        "m2[:] = b'WORLD'\nbuf"
      ]
    },
    {
      "cell_type": "markdown",
      "metadata": {},
      "source": [
        "\u4f7f\u7528 f.readinto() \u65f6\u9700\u8981\u6ce8\u610f\u7684\u662f\uff0c\u4f60\u5fc5\u987b\u68c0\u67e5\u5b83\u7684\u8fd4\u56de\u503c\uff0c\u4e5f\u5c31\u662f\u5b9e\u9645\u8bfb\u53d6\u7684\u5b57\u8282\u6570\u3002"
      ]
    },
    {
      "cell_type": "markdown",
      "metadata": {},
      "source": [
        "\u5982\u679c\u5b57\u8282\u6570\u5c0f\u4e8e\u7f13\u51b2\u533a\u5927\u5c0f\uff0c\u8868\u660e\u6570\u636e\u88ab\u622a\u65ad\u6216\u8005\u88ab\u7834\u574f\u4e86(\u6bd4\u5982\u4f60\u671f\u671b\u6bcf\u6b21\u8bfb\u53d6\u6307\u5b9a\u6570\u91cf\u7684\u5b57\u8282)\u3002"
      ]
    },
    {
      "cell_type": "markdown",
      "metadata": {},
      "source": [
        "\u6700\u540e\uff0c\u7559\u5fc3\u89c2\u5bdf\u5176\u4ed6\u51fd\u6570\u5e93\u548c\u6a21\u5757\u4e2d\u548c into \u76f8\u5173\u7684\u51fd\u6570(\u6bd4\u5982 recv_into() \uff0c pack_into() \u7b49)\u3002\nPython\u7684\u5f88\u591a\u5176\u4ed6\u90e8\u5206\u5df2\u7ecf\u80fd\u652f\u6301\u76f4\u63a5\u7684I/O\u6216\u6570\u636e\u8bbf\u95ee\u64cd\u4f5c\uff0c\u8fd9\u4e9b\u64cd\u4f5c\u53ef\u88ab\u7528\u6765\u586b\u5145\u6216\u4fee\u6539\u6570\u7ec4\u548c\u7f13\u51b2\u533a\u5185\u5bb9\u3002"
      ]
    },
    {
      "cell_type": "markdown",
      "metadata": {},
      "source": [
        "\u5173\u4e8e\u89e3\u6790\u4e8c\u8fdb\u5236\u7ed3\u6784\u548c memoryviews \u4f7f\u7528\u65b9\u6cd5\u7684\u66f4\u9ad8\u7ea7\u4f8b\u5b50\uff0c\u8bf7\u53c2\u80036.12\u5c0f\u8282\u3002"
      ]
    }
  ],
  "metadata": {
    "kernelspec": {
      "display_name": "Python 3",
      "language": "python",
      "name": "python3"
    },
    "language_info": {
      "codemirror_mode": {
        "name": "ipython",
        "version": 3
      },
      "file_extension": ".py",
      "mimetype": "text/x-python",
      "name": "python",
      "nbconvert_exporter": "python",
      "pygments_lexer": "ipython3",
      "version": "3.7.1"
    },
    "toc": {
      "base_numbering": 1,
      "nav_menu": {},
      "number_sections": true,
      "sideBar": true,
      "skip_h1_title": true,
      "title_cell": "Table of Contents",
      "title_sidebar": "Contents",
      "toc_cell": false,
      "toc_position": {},
      "toc_section_display": true,
      "toc_window_display": true
    }
  },
  "nbformat": 4,
  "nbformat_minor": 2
}