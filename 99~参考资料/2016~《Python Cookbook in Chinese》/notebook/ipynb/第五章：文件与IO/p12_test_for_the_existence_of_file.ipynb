{
  "cells": [
    {
      "cell_type": "markdown",
      "metadata": {},
      "source": [
        "## 5.12 \u6d4b\u8bd5\u6587\u4ef6\u662f\u5426\u5b58\u5728\n"
      ]
    },
    {
      "cell_type": "markdown",
      "metadata": {},
      "source": [
        "### \u95ee\u9898\n"
      ]
    },
    {
      "cell_type": "markdown",
      "metadata": {},
      "source": [
        "\u4f60\u60f3\u6d4b\u8bd5\u4e00\u4e2a\u6587\u4ef6\u6216\u76ee\u5f55\u662f\u5426\u5b58\u5728\u3002"
      ]
    },
    {
      "cell_type": "markdown",
      "metadata": {},
      "source": [
        "### \u89e3\u51b3\u65b9\u6848\n"
      ]
    },
    {
      "cell_type": "markdown",
      "metadata": {},
      "source": [
        "\u4f7f\u7528 os.path \u6a21\u5757\u6765\u6d4b\u8bd5\u4e00\u4e2a\u6587\u4ef6\u6216\u76ee\u5f55\u662f\u5426\u5b58\u5728\u3002\u6bd4\u5982\uff1a"
      ]
    },
    {
      "cell_type": "code",
      "execution_count": null,
      "metadata": {},
      "outputs": [],
      "source": [
        "import os\nos.path.exists('/etc/passwd')"
      ]
    },
    {
      "cell_type": "code",
      "execution_count": null,
      "metadata": {},
      "outputs": [],
      "source": [
        "os.path.exists('/tmp/spam')"
      ]
    },
    {
      "cell_type": "markdown",
      "metadata": {},
      "source": [
        "\u4f60\u8fd8\u80fd\u8fdb\u4e00\u6b65\u6d4b\u8bd5\u8fd9\u4e2a\u6587\u4ef6\u65f6\u4ec0\u4e48\u7c7b\u578b\u7684\u3002\n\u5728\u4e0b\u9762\u8fd9\u4e9b\u6d4b\u8bd5\u4e2d\uff0c\u5982\u679c\u6d4b\u8bd5\u7684\u6587\u4ef6\u4e0d\u5b58\u5728\u7684\u65f6\u5019\uff0c\u7ed3\u679c\u90fd\u4f1a\u8fd4\u56deFalse\uff1a"
      ]
    },
    {
      "cell_type": "code",
      "execution_count": null,
      "metadata": {},
      "outputs": [],
      "source": [
        "# Is a regular file\nos.path.isfile('/etc/passwd')"
      ]
    },
    {
      "cell_type": "code",
      "execution_count": null,
      "metadata": {},
      "outputs": [],
      "source": [
        "# Is a directory\nos.path.isdir('/etc/passwd')"
      ]
    },
    {
      "cell_type": "code",
      "execution_count": null,
      "metadata": {},
      "outputs": [],
      "source": [
        "# Is a symbolic link\nos.path.islink('/usr/local/bin/python3')"
      ]
    },
    {
      "cell_type": "code",
      "execution_count": null,
      "metadata": {},
      "outputs": [],
      "source": [
        "# Get the file linked to\nos.path.realpath('/usr/local/bin/python3')"
      ]
    },
    {
      "cell_type": "markdown",
      "metadata": {},
      "source": [
        "\u5982\u679c\u4f60\u8fd8\u60f3\u83b7\u53d6\u5143\u6570\u636e(\u6bd4\u5982\u6587\u4ef6\u5927\u5c0f\u6216\u8005\u662f\u4fee\u6539\u65e5\u671f)\uff0c\u4e5f\u53ef\u4ee5\u4f7f\u7528 os.path \u6a21\u5757\u6765\u89e3\u51b3\uff1a"
      ]
    },
    {
      "cell_type": "code",
      "execution_count": null,
      "metadata": {},
      "outputs": [],
      "source": [
        "os.path.getsize('/etc/passwd')"
      ]
    },
    {
      "cell_type": "code",
      "execution_count": null,
      "metadata": {},
      "outputs": [],
      "source": [
        "os.path.getmtime('/etc/passwd')"
      ]
    },
    {
      "cell_type": "code",
      "execution_count": null,
      "metadata": {},
      "outputs": [],
      "source": [
        "import time\ntime.ctime(os.path.getmtime('/etc/passwd'))"
      ]
    },
    {
      "cell_type": "markdown",
      "metadata": {},
      "source": [
        "### \u8ba8\u8bba\n"
      ]
    },
    {
      "cell_type": "markdown",
      "metadata": {},
      "source": [
        "\u4f7f\u7528 os.path \u6765\u8fdb\u884c\u6587\u4ef6\u6d4b\u8bd5\u662f\u5f88\u7b80\u5355\u7684\u3002\n\u5728\u5199\u8fd9\u4e9b\u811a\u672c\u65f6\uff0c\u53ef\u80fd\u552f\u4e00\u9700\u8981\u6ce8\u610f\u7684\u5c31\u662f\u4f60\u9700\u8981\u8003\u8651\u6587\u4ef6\u6743\u9650\u7684\u95ee\u9898\uff0c\u7279\u522b\u662f\u5728\u83b7\u53d6\u5143\u6570\u636e\u65f6\u5019\u3002\u6bd4\u5982\uff1a"
      ]
    },
    {
      "cell_type": "code",
      "execution_count": null,
      "metadata": {},
      "outputs": [],
      "source": [
        "os.path.getsize('/Users/guido/Desktop/foo.txt')"
      ]
    }
  ],
  "metadata": {
    "kernelspec": {
      "display_name": "Python 3",
      "language": "python",
      "name": "python3"
    },
    "language_info": {
      "codemirror_mode": {
        "name": "ipython",
        "version": 3
      },
      "file_extension": ".py",
      "mimetype": "text/x-python",
      "name": "python",
      "nbconvert_exporter": "python",
      "pygments_lexer": "ipython3",
      "version": "3.7.1"
    },
    "toc": {
      "base_numbering": 1,
      "nav_menu": {},
      "number_sections": true,
      "sideBar": true,
      "skip_h1_title": true,
      "title_cell": "Table of Contents",
      "title_sidebar": "Contents",
      "toc_cell": false,
      "toc_position": {},
      "toc_section_display": true,
      "toc_window_display": true
    }
  },
  "nbformat": 4,
  "nbformat_minor": 2
}