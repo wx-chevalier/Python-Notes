{
  "cells": [
    {
      "cell_type": "markdown",
      "metadata": {},
      "source": [
        "## 5.20 \u4e0e\u4e32\u884c\u7aef\u53e3\u7684\u6570\u636e\u901a\u4fe1\n"
      ]
    },
    {
      "cell_type": "markdown",
      "metadata": {},
      "source": [
        "### \u95ee\u9898\n"
      ]
    },
    {
      "cell_type": "markdown",
      "metadata": {},
      "source": [
        "\u4f60\u60f3\u901a\u8fc7\u4e32\u884c\u7aef\u53e3\u8bfb\u5199\u6570\u636e\uff0c\u5178\u578b\u573a\u666f\u5c31\u662f\u548c\u4e00\u4e9b\u786c\u4ef6\u8bbe\u5907\u6253\u4ea4\u9053(\u6bd4\u5982\u4e00\u4e2a\u673a\u5668\u4eba\u6216\u4f20\u611f\u5668)\u3002"
      ]
    },
    {
      "cell_type": "markdown",
      "metadata": {},
      "source": [
        "### \u89e3\u51b3\u65b9\u6848\n"
      ]
    },
    {
      "cell_type": "markdown",
      "metadata": {},
      "source": [
        "\u5c3d\u7ba1\u4f60\u53ef\u4ee5\u901a\u8fc7\u4f7f\u7528Python\u5185\u7f6e\u7684I/O\u6a21\u5757\u6765\u5b8c\u6210\u8fd9\u4e2a\u4efb\u52a1\uff0c\u4f46\u5bf9\u4e8e\u4e32\u884c\u901a\u4fe1\u6700\u597d\u7684\u9009\u62e9\u662f\u4f7f\u7528\npySerial\u5305 \u3002\n\u8fd9\u4e2a\u5305\u7684\u4f7f\u7528\u975e\u5e38\u7b80\u5355\uff0c\u5148\u5b89\u88c5pySerial\uff0c\u4f7f\u7528\u7c7b\u4f3c\u4e0b\u9762\u8fd9\u6837\u7684\u4ee3\u7801\u5c31\u80fd\u5f88\u5bb9\u6613\u7684\u6253\u5f00\u4e00\u4e2a\u4e32\u884c\u7aef\u53e3\uff1a"
      ]
    },
    {
      "cell_type": "code",
      "execution_count": null,
      "metadata": {},
      "outputs": [],
      "source": [
        "import serial\nser = serial.Serial('/dev/tty.usbmodem641', # Device name varies\n                    baudrate=9600,\n                    bytesize=8,\n                    parity='N',\n                    stopbits=1)"
      ]
    },
    {
      "cell_type": "markdown",
      "metadata": {},
      "source": [
        "\u8bbe\u5907\u540d\u5bf9\u4e8e\u4e0d\u540c\u7684\u8bbe\u5907\u548c\u64cd\u4f5c\u7cfb\u7edf\u662f\u4e0d\u4e00\u6837\u7684\u3002\n\u6bd4\u5982\uff0c\u5728Windows\u7cfb\u7edf\u4e0a\uff0c\u4f60\u53ef\u4ee5\u4f7f\u75280, 1\u7b49\u8868\u793a\u7684\u4e00\u4e2a\u8bbe\u5907\u6765\u6253\u5f00\u901a\u4fe1\u7aef\u53e3\u201dCOM0\u201d\u548c\u201dCOM1\u201d\u3002\n\u4e00\u65e6\u7aef\u53e3\u6253\u5f00\uff0c\u90a3\u5c31\u53ef\u4ee5\u4f7f\u7528 read()\uff0creadline() \u548c write() \u51fd\u6570\u8bfb\u5199\u6570\u636e\u4e86\u3002\u4f8b\u5982\uff1a"
      ]
    },
    {
      "cell_type": "code",
      "execution_count": null,
      "metadata": {},
      "outputs": [],
      "source": [
        "ser.write(b'G1 X50 Y50\\r\\n')\nresp = ser.readline()"
      ]
    },
    {
      "cell_type": "markdown",
      "metadata": {},
      "source": [
        "\u5927\u591a\u6570\u60c5\u51b5\u4e0b\uff0c\u7b80\u5355\u7684\u4e32\u53e3\u901a\u4fe1\u4ece\u6b64\u53d8\u5f97\u5341\u5206\u7b80\u5355\u3002"
      ]
    },
    {
      "cell_type": "markdown",
      "metadata": {},
      "source": [
        "### \u8ba8\u8bba\n"
      ]
    },
    {
      "cell_type": "markdown",
      "metadata": {},
      "source": [
        "\u5c3d\u7ba1\u8868\u9762\u4e0a\u770b\u8d77\u6765\u5f88\u7b80\u5355\uff0c\u5176\u5b9e\u4e32\u53e3\u901a\u4fe1\u6709\u65f6\u5019\u4e5f\u662f\u633a\u9ebb\u70e6\u7684\u3002\n\u63a8\u8350\u4f60\u4f7f\u7528\u7b2c\u4e09\u65b9\u5305\u5982 pySerial \u7684\u4e00\u4e2a\u539f\u56e0\u662f\u5b83\u63d0\u4f9b\u4e86\u5bf9\u9ad8\u7ea7\u7279\u6027\u7684\u652f\u6301\n(\u6bd4\u5982\u8d85\u65f6\uff0c\u63a7\u5236\u6d41\uff0c\u7f13\u51b2\u533a\u5237\u65b0\uff0c\u63e1\u624b\u534f\u8bae\u7b49\u7b49)\u3002\u4e3e\u4e2a\u4f8b\u5b50\uff0c\u5982\u679c\u4f60\u60f3\u542f\u7528 RTS-CTS \u63e1\u624b\u534f\u8bae\uff0c\n\u4f60\u53ea\u9700\u8981\u7ed9 Serial() \u4f20\u9012\u4e00\u4e2a rtscts=True \u7684\u53c2\u6570\u5373\u53ef\u3002\n\u5176\u5b98\u65b9\u6587\u6863\u975e\u5e38\u5b8c\u5584\uff0c\u56e0\u6b64\u6211\u5728\u8fd9\u91cc\u6781\u529b\u63a8\u8350\u8fd9\u4e2a\u5305\u3002"
      ]
    },
    {
      "cell_type": "markdown",
      "metadata": {},
      "source": [
        "\u65f6\u523b\u8bb0\u4f4f\u6240\u6709\u6d89\u53ca\u5230\u4e32\u53e3\u7684I/O\u90fd\u662f\u4e8c\u8fdb\u5236\u6a21\u5f0f\u7684\u3002\u56e0\u6b64\uff0c\u786e\u4fdd\u4f60\u7684\u4ee3\u7801\u4f7f\u7528\u7684\u662f\u5b57\u8282\u800c\u4e0d\u662f\u6587\u672c\n(\u6216\u6709\u65f6\u5019\u6267\u884c\u6587\u672c\u7684\u7f16\u7801/\u89e3\u7801\u64cd\u4f5c)\u3002\n\u53e6\u5916\u5f53\u4f60\u9700\u8981\u521b\u5efa\u4e8c\u8fdb\u5236\u7f16\u7801\u7684\u6307\u4ee4\u6216\u6570\u636e\u5305\u7684\u65f6\u5019\uff0cstruct \u6a21\u5757\u4e5f\u662f\u975e\u5e38\u6709\u7528\u7684\u3002"
      ]
    }
  ],
  "metadata": {
    "kernelspec": {
      "display_name": "Python 3",
      "language": "python",
      "name": "python3"
    },
    "language_info": {
      "codemirror_mode": {
        "name": "ipython",
        "version": 3
      },
      "file_extension": ".py",
      "mimetype": "text/x-python",
      "name": "python",
      "nbconvert_exporter": "python",
      "pygments_lexer": "ipython3",
      "version": "3.7.1"
    },
    "toc": {
      "base_numbering": 1,
      "nav_menu": {},
      "number_sections": true,
      "sideBar": true,
      "skip_h1_title": true,
      "title_cell": "Table of Contents",
      "title_sidebar": "Contents",
      "toc_cell": false,
      "toc_position": {},
      "toc_section_display": true,
      "toc_window_display": true
    }
  },
  "nbformat": 4,
  "nbformat_minor": 2
}