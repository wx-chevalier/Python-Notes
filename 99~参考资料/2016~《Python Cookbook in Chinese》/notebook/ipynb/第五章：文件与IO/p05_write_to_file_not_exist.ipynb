{
  "cells": [
    {
      "cell_type": "markdown",
      "metadata": {},
      "source": [
        "## 5.5 \u6587\u4ef6\u4e0d\u5b58\u5728\u624d\u80fd\u5199\u5165\n"
      ]
    },
    {
      "cell_type": "markdown",
      "metadata": {},
      "source": [
        "### \u95ee\u9898\n"
      ]
    },
    {
      "cell_type": "markdown",
      "metadata": {},
      "source": [
        "\u4f60\u60f3\u50cf\u4e00\u4e2a\u6587\u4ef6\u4e2d\u5199\u5165\u6570\u636e\uff0c\u4f46\u662f\u524d\u63d0\u5fc5\u987b\u662f\u8fd9\u4e2a\u6587\u4ef6\u5728\u6587\u4ef6\u7cfb\u7edf\u4e0a\u4e0d\u5b58\u5728\u3002\n\u4e5f\u5c31\u662f\u4e0d\u5141\u8bb8\u8986\u76d6\u5df2\u5b58\u5728\u7684\u6587\u4ef6\u5185\u5bb9\u3002"
      ]
    },
    {
      "cell_type": "markdown",
      "metadata": {},
      "source": [
        "### \u89e3\u51b3\u65b9\u6848\n"
      ]
    },
    {
      "cell_type": "markdown",
      "metadata": {},
      "source": [
        "\u53ef\u4ee5\u5728 open() \u51fd\u6570\u4e2d\u4f7f\u7528 x \u6a21\u5f0f\u6765\u4ee3\u66ff w \u6a21\u5f0f\u7684\u65b9\u6cd5\u6765\u89e3\u51b3\u8fd9\u4e2a\u95ee\u9898\u3002\u6bd4\u5982\uff1a"
      ]
    },
    {
      "cell_type": "code",
      "execution_count": null,
      "metadata": {},
      "outputs": [],
      "source": [
        "with open('somefile', 'wt') as f:\n    f.write('Hello\\n')\nwith open('somefile', 'xt') as f:\n    f.write('Hello\\n')"
      ]
    },
    {
      "cell_type": "markdown",
      "metadata": {},
      "source": [
        "\u5982\u679c\u6587\u4ef6\u662f\u4e8c\u8fdb\u5236\u7684\uff0c\u4f7f\u7528 xb \u6765\u4ee3\u66ff xt"
      ]
    },
    {
      "cell_type": "markdown",
      "metadata": {},
      "source": [
        "### \u8ba8\u8bba\n"
      ]
    },
    {
      "cell_type": "markdown",
      "metadata": {},
      "source": [
        "\u8fd9\u4e00\u5c0f\u8282\u6f14\u793a\u4e86\u5728\u5199\u6587\u4ef6\u65f6\u901a\u5e38\u4f1a\u9047\u5230\u7684\u4e00\u4e2a\u95ee\u9898\u7684\u5b8c\u7f8e\u89e3\u51b3\u65b9\u6848(\u4e0d\u5c0f\u5fc3\u8986\u76d6\u4e00\u4e2a\u5df2\u5b58\u5728\u7684\u6587\u4ef6)\u3002\n\u4e00\u4e2a\u66ff\u4ee3\u65b9\u6848\u662f\u5148\u6d4b\u8bd5\u8fd9\u4e2a\u6587\u4ef6\u662f\u5426\u5b58\u5728\uff0c\u50cf\u4e0b\u9762\u8fd9\u6837\uff1a"
      ]
    },
    {
      "cell_type": "code",
      "execution_count": null,
      "metadata": {},
      "outputs": [],
      "source": [
        "import os\nif not os.path.exists('somefile'):\n    with open('somefile', 'wt') as f:\n        f.write('Hello\\n')\nelse:\n    print('File already exists!')"
      ]
    },
    {
      "cell_type": "markdown",
      "metadata": {},
      "source": [
        "\u663e\u800c\u6613\u89c1\uff0c\u4f7f\u7528x\u6587\u4ef6\u6a21\u5f0f\u66f4\u52a0\u7b80\u5355\u3002\u8981\u6ce8\u610f\u7684\u662fx\u6a21\u5f0f\u662f\u4e00\u4e2aPython3\u5bf9 open() \u51fd\u6570\u7279\u6709\u7684\u6269\u5c55\u3002\n\u5728Python\u7684\u65e7\u7248\u672c\u6216\u8005\u662fPython\u5b9e\u73b0\u7684\u5e95\u5c42C\u51fd\u6570\u5e93\u4e2d\u90fd\u662f\u6ca1\u6709\u8fd9\u4e2a\u6a21\u5f0f\u7684\u3002"
      ]
    }
  ],
  "metadata": {
    "kernelspec": {
      "display_name": "Python 3",
      "language": "python",
      "name": "python3"
    },
    "language_info": {
      "codemirror_mode": {
        "name": "ipython",
        "version": 3
      },
      "file_extension": ".py",
      "mimetype": "text/x-python",
      "name": "python",
      "nbconvert_exporter": "python",
      "pygments_lexer": "ipython3",
      "version": "3.7.1"
    },
    "toc": {
      "base_numbering": 1,
      "nav_menu": {},
      "number_sections": true,
      "sideBar": true,
      "skip_h1_title": true,
      "title_cell": "Table of Contents",
      "title_sidebar": "Contents",
      "toc_cell": false,
      "toc_position": {},
      "toc_section_display": true,
      "toc_window_display": true
    }
  },
  "nbformat": 4,
  "nbformat_minor": 2
}