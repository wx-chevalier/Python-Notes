{
  "cells": [
    {
      "cell_type": "markdown",
      "metadata": {},
      "source": [
        "## 5.17 \u5c06\u5b57\u8282\u5199\u5165\u6587\u672c\u6587\u4ef6\n"
      ]
    },
    {
      "cell_type": "markdown",
      "metadata": {},
      "source": [
        "### \u95ee\u9898\n"
      ]
    },
    {
      "cell_type": "markdown",
      "metadata": {},
      "source": [
        "\u4f60\u60f3\u5728\u6587\u672c\u6a21\u5f0f\u6253\u5f00\u7684\u6587\u4ef6\u4e2d\u5199\u5165\u539f\u59cb\u7684\u5b57\u8282\u6570\u636e\u3002"
      ]
    },
    {
      "cell_type": "markdown",
      "metadata": {},
      "source": [
        "### \u89e3\u51b3\u65b9\u6848\n"
      ]
    },
    {
      "cell_type": "markdown",
      "metadata": {},
      "source": [
        "\u5c06\u5b57\u8282\u6570\u636e\u76f4\u63a5\u5199\u5165\u6587\u4ef6\u7684\u7f13\u51b2\u533a\u5373\u53ef\uff0c\u4f8b\u5982\uff1a"
      ]
    },
    {
      "cell_type": "code",
      "execution_count": null,
      "metadata": {},
      "outputs": [],
      "source": [
        "import sys\nsys.stdout.write(b'Hello\\n')"
      ]
    },
    {
      "cell_type": "code",
      "execution_count": null,
      "metadata": {},
      "outputs": [],
      "source": [
        "sys.stdout.buffer.write(b'Hello\\n')"
      ]
    },
    {
      "cell_type": "markdown",
      "metadata": {},
      "source": [
        "\u7c7b\u4f3c\u7684\uff0c\u80fd\u591f\u901a\u8fc7\u8bfb\u53d6\u6587\u672c\u6587\u4ef6\u7684 buffer \u5c5e\u6027\u6765\u8bfb\u53d6\u4e8c\u8fdb\u5236\u6570\u636e\u3002"
      ]
    },
    {
      "cell_type": "markdown",
      "metadata": {},
      "source": [
        "### \u8ba8\u8bba\n"
      ]
    },
    {
      "cell_type": "markdown",
      "metadata": {},
      "source": [
        "I/O\u7cfb\u7edf\u4ee5\u5c42\u7ea7\u7ed3\u6784\u7684\u5f62\u5f0f\u6784\u5efa\u800c\u6210\u3002\n\u6587\u672c\u6587\u4ef6\u662f\u901a\u8fc7\u5728\u4e00\u4e2a\u62e5\u6709\u7f13\u51b2\u7684\u4e8c\u8fdb\u5236\u6a21\u5f0f\u6587\u4ef6\u4e0a\u589e\u52a0\u4e00\u4e2aUnicode\u7f16\u7801/\u89e3\u7801\u5c42\u6765\u521b\u5efa\u3002\nbuffer \u5c5e\u6027\u6307\u5411\u5bf9\u5e94\u7684\u5e95\u5c42\u6587\u4ef6\u3002\u5982\u679c\u4f60\u76f4\u63a5\u8bbf\u95ee\u5b83\u7684\u8bdd\u5c31\u4f1a\u7ed5\u8fc7\u6587\u672c\u7f16\u7801/\u89e3\u7801\u5c42\u3002"
      ]
    },
    {
      "cell_type": "markdown",
      "metadata": {},
      "source": [
        "\u672c\u5c0f\u8282\u4f8b\u5b50\u5c55\u793a\u7684 sys.stdout \u53ef\u80fd\u770b\u8d77\u6765\u6709\u70b9\u7279\u6b8a\u3002\n\u9ed8\u8ba4\u60c5\u51b5\u4e0b\uff0csys.stdout \u603b\u662f\u4ee5\u6587\u672c\u6a21\u5f0f\u6253\u5f00\u7684\u3002\n\u4f46\u662f\u5982\u679c\u4f60\u5728\u5199\u4e00\u4e2a\u9700\u8981\u6253\u5370\u4e8c\u8fdb\u5236\u6570\u636e\u5230\u6807\u51c6\u8f93\u51fa\u7684\u811a\u672c\u7684\u8bdd\uff0c\u4f60\u53ef\u4ee5\u4f7f\u7528\u4e0a\u9762\u6f14\u793a\u7684\u6280\u672f\u6765\u7ed5\u8fc7\u6587\u672c\u7f16\u7801\u5c42\u3002"
      ]
    }
  ],
  "metadata": {
    "kernelspec": {
      "display_name": "Python 3",
      "language": "python",
      "name": "python3"
    },
    "language_info": {
      "codemirror_mode": {
        "name": "ipython",
        "version": 3
      },
      "file_extension": ".py",
      "mimetype": "text/x-python",
      "name": "python",
      "nbconvert_exporter": "python",
      "pygments_lexer": "ipython3",
      "version": "3.7.1"
    },
    "toc": {
      "base_numbering": 1,
      "nav_menu": {},
      "number_sections": true,
      "sideBar": true,
      "skip_h1_title": true,
      "title_cell": "Table of Contents",
      "title_sidebar": "Contents",
      "toc_cell": false,
      "toc_position": {},
      "toc_section_display": true,
      "toc_window_display": true
    }
  },
  "nbformat": 4,
  "nbformat_minor": 2
}