{
  "cells": [
    {
      "cell_type": "markdown",
      "metadata": {},
      "source": [
        "## 5.18 \u5c06\u6587\u4ef6\u63cf\u8ff0\u7b26\u5305\u88c5\u6210\u6587\u4ef6\u5bf9\u8c61\n"
      ]
    },
    {
      "cell_type": "markdown",
      "metadata": {},
      "source": [
        "### \u95ee\u9898\n"
      ]
    },
    {
      "cell_type": "markdown",
      "metadata": {},
      "source": [
        "\u4f60\u6709\u4e00\u4e2a\u5bf9\u5e94\u4e8e\u64cd\u4f5c\u7cfb\u7edf\u4e0a\u4e00\u4e2a\u5df2\u6253\u5f00\u7684I/O\u901a\u9053(\u6bd4\u5982\u6587\u4ef6\u3001\u7ba1\u9053\u3001\u5957\u63a5\u5b57\u7b49)\u7684\u6574\u578b\u6587\u4ef6\u63cf\u8ff0\u7b26\uff0c\n\u4f60\u60f3\u5c06\u5b83\u5305\u88c5\u6210\u4e00\u4e2a\u66f4\u9ad8\u5c42\u7684Python\u6587\u4ef6\u5bf9\u8c61\u3002"
      ]
    },
    {
      "cell_type": "markdown",
      "metadata": {},
      "source": [
        "### \u89e3\u51b3\u65b9\u6848\n"
      ]
    },
    {
      "cell_type": "markdown",
      "metadata": {},
      "source": [
        "\u4e00\u4e2a\u6587\u4ef6\u63cf\u8ff0\u7b26\u548c\u4e00\u4e2a\u6253\u5f00\u7684\u666e\u901a\u6587\u4ef6\u662f\u4e0d\u4e00\u6837\u7684\u3002\n\u6587\u4ef6\u63cf\u8ff0\u7b26\u4ec5\u4ec5\u662f\u4e00\u4e2a\u7531\u64cd\u4f5c\u7cfb\u7edf\u6307\u5b9a\u7684\u6574\u6570\uff0c\u7528\u6765\u6307\u4ee3\u67d0\u4e2a\u7cfb\u7edf\u7684I/O\u901a\u9053\u3002\n\u5982\u679c\u4f60\u78b0\u5de7\u6709\u8fd9\u4e48\u4e00\u4e2a\u6587\u4ef6\u63cf\u8ff0\u7b26\uff0c\u4f60\u53ef\u4ee5\u901a\u8fc7\u4f7f\u7528 open() \u51fd\u6570\u6765\u5c06\u5176\u5305\u88c5\u4e3a\u4e00\u4e2aPython\u7684\u6587\u4ef6\u5bf9\u8c61\u3002\n\u4f60\u4ec5\u4ec5\u53ea\u9700\u8981\u4f7f\u7528\u8fd9\u4e2a\u6574\u6570\u503c\u7684\u6587\u4ef6\u63cf\u8ff0\u7b26\u4f5c\u4e3a\u7b2c\u4e00\u4e2a\u53c2\u6570\u6765\u4ee3\u66ff\u6587\u4ef6\u540d\u5373\u53ef\u3002\u4f8b\u5982\uff1a"
      ]
    },
    {
      "cell_type": "code",
      "execution_count": null,
      "metadata": {},
      "outputs": [],
      "source": [
        "# Open a low-level file descriptor\nimport os\nfd = os.open('somefile.txt', os.O_WRONLY | os.O_CREAT)\n\n# Turn into a proper file\nf = open(fd, 'wt')\nf.write('hello world\\n')\nf.close()"
      ]
    },
    {
      "cell_type": "markdown",
      "metadata": {},
      "source": [
        "\u5f53\u9ad8\u5c42\u7684\u6587\u4ef6\u5bf9\u8c61\u88ab\u5173\u95ed\u6216\u8005\u7834\u574f\u7684\u65f6\u5019\uff0c\u5e95\u5c42\u7684\u6587\u4ef6\u63cf\u8ff0\u7b26\u4e5f\u4f1a\u88ab\u5173\u95ed\u3002\n\u5982\u679c\u8fd9\u4e2a\u5e76\u4e0d\u662f\u4f60\u60f3\u8981\u7684\u7ed3\u679c\uff0c\u4f60\u53ef\u4ee5\u7ed9 open() \u51fd\u6570\u4f20\u9012\u4e00\u4e2a\u53ef\u9009\u7684 colsefd=False \u3002\u6bd4\u5982\uff1a"
      ]
    },
    {
      "cell_type": "code",
      "execution_count": null,
      "metadata": {},
      "outputs": [],
      "source": [
        "# Create a file object, but don't close underlying fd when done\nf = open(fd, 'wt', closefd=False)\n..."
      ]
    },
    {
      "cell_type": "markdown",
      "metadata": {},
      "source": [
        "### \u8ba8\u8bba\n"
      ]
    },
    {
      "cell_type": "markdown",
      "metadata": {},
      "source": [
        "\u5728Unix\u7cfb\u7edf\u4e2d\uff0c\u8fd9\u79cd\u5305\u88c5\u6587\u4ef6\u63cf\u8ff0\u7b26\u7684\u6280\u672f\u53ef\u4ee5\u5f88\u65b9\u4fbf\u7684\u5c06\u4e00\u4e2a\u7c7b\u6587\u4ef6\u63a5\u53e3\u4f5c\u7528\u4e8e\u4e00\u4e2a\u4ee5\u4e0d\u540c\u65b9\u5f0f\u6253\u5f00\u7684I/O\u901a\u9053\u4e0a\uff0c\n\u5982\u7ba1\u9053\u3001\u5957\u63a5\u5b57\u7b49\u3002\u4e3e\u4f8b\u6765\u8bb2\uff0c\u4e0b\u9762\u662f\u4e00\u4e2a\u64cd\u4f5c\u7ba1\u9053\u7684\u4f8b\u5b50\uff1a"
      ]
    },
    {
      "cell_type": "code",
      "execution_count": null,
      "metadata": {},
      "outputs": [],
      "source": [
        "from socket import socket, AF_INET, SOCK_STREAM\n\ndef echo_client(client_sock, addr):\n    print('Got connection from', addr)\n\n    # Make text-mode file wrappers for socket reading/writing\n    client_in = open(client_sock.fileno(), 'rt', encoding='latin-1',\n                closefd=False)\n\n    client_out = open(client_sock.fileno(), 'wt', encoding='latin-1',\n                closefd=False)\n\n    # Echo lines back to the client using file I/O\n    for line in client_in:\n        client_out.write(line)\n        client_out.flush()\n\n    client_sock.close()\n\ndef echo_server(address):\n    sock = socket(AF_INET, SOCK_STREAM)\n    sock.bind(address)\n    sock.listen(1)\n    while True:\n        client, addr = sock.accept()\n        echo_client(client, addr)"
      ]
    },
    {
      "cell_type": "markdown",
      "metadata": {},
      "source": [
        "\u9700\u8981\u91cd\u70b9\u5f3a\u8c03\u7684\u4e00\u70b9\u662f\uff0c\u4e0a\u9762\u7684\u4f8b\u5b50\u4ec5\u4ec5\u662f\u4e3a\u4e86\u6f14\u793a\u5185\u7f6e\u7684 open() \u51fd\u6570\u7684\u4e00\u4e2a\u7279\u6027\uff0c\u5e76\u4e14\u4e5f\u53ea\u9002\u7528\u4e8e\u57fa\u4e8eUnix\u7684\u7cfb\u7edf\u3002\n\u5982\u679c\u4f60\u60f3\u5c06\u4e00\u4e2a\u7c7b\u6587\u4ef6\u63a5\u53e3\u4f5c\u7528\u5728\u4e00\u4e2a\u5957\u63a5\u5b57\u5e76\u5e0c\u671b\u4f60\u7684\u4ee3\u7801\u53ef\u4ee5\u8de8\u5e73\u53f0\uff0c\u8bf7\u4f7f\u7528\u5957\u63a5\u5b57\u5bf9\u8c61\u7684 makefile() \u65b9\u6cd5\u3002\n\u4f46\u662f\u5982\u679c\u4e0d\u8003\u8651\u53ef\u79fb\u690d\u6027\u7684\u8bdd\uff0c\u90a3\u4e0a\u9762\u7684\u89e3\u51b3\u65b9\u6848\u4f1a\u6bd4\u4f7f\u7528 makefile() \u6027\u80fd\u66f4\u597d\u4e00\u70b9\u3002"
      ]
    },
    {
      "cell_type": "markdown",
      "metadata": {},
      "source": [
        "\u4f60\u4e5f\u53ef\u4ee5\u4f7f\u7528\u8fd9\u79cd\u6280\u672f\u6765\u6784\u9020\u4e00\u4e2a\u522b\u540d\uff0c\u5141\u8bb8\u4ee5\u4e0d\u540c\u4e8e\u7b2c\u4e00\u6b21\u6253\u5f00\u6587\u4ef6\u7684\u65b9\u5f0f\u4f7f\u7528\u5b83\u3002\n\u4f8b\u5982\uff0c\u4e0b\u9762\u6f14\u793a\u5982\u4f55\u521b\u5efa\u4e00\u4e2a\u6587\u4ef6\u5bf9\u8c61\uff0c\u5b83\u5141\u8bb8\u4f60\u8f93\u51fa\u4e8c\u8fdb\u5236\u6570\u636e\u5230\u6807\u51c6\u8f93\u51fa(\u901a\u5e38\u4ee5\u6587\u672c\u6a21\u5f0f\u6253\u5f00)\uff1a"
      ]
    },
    {
      "cell_type": "code",
      "execution_count": null,
      "metadata": {},
      "outputs": [],
      "source": [
        "import sys\n# Create a binary-mode file for stdout\nbstdout = open(sys.stdout.fileno(), 'wb', closefd=False)\nbstdout.write(b'Hello World\\n')\nbstdout.flush()"
      ]
    },
    {
      "cell_type": "markdown",
      "metadata": {},
      "source": [
        "\u5c3d\u7ba1\u53ef\u4ee5\u5c06\u4e00\u4e2a\u5df2\u5b58\u5728\u7684\u6587\u4ef6\u63cf\u8ff0\u7b26\u5305\u88c5\u6210\u4e00\u4e2a\u6b63\u5e38\u7684\u6587\u4ef6\u5bf9\u8c61\uff0c\n\u4f46\u662f\u8981\u6ce8\u610f\u7684\u662f\u5e76\u4e0d\u662f\u6240\u6709\u7684\u6587\u4ef6\u6a21\u5f0f\u90fd\u88ab\u652f\u6301\uff0c\u5e76\u4e14\u67d0\u4e9b\u7c7b\u578b\u7684\u6587\u4ef6\u63cf\u8ff0\u7b26\u53ef\u80fd\u4f1a\u6709\u526f\u4f5c\u7528\n(\u7279\u522b\u662f\u6d89\u53ca\u5230\u9519\u8bef\u5904\u7406\u3001\u6587\u4ef6\u7ed3\u5c3e\u6761\u4ef6\u7b49\u7b49\u7684\u65f6\u5019)\u3002\n\u5728\u4e0d\u540c\u7684\u64cd\u4f5c\u7cfb\u7edf\u4e0a\u8fd9\u79cd\u884c\u4e3a\u4e5f\u662f\u4e0d\u4e00\u6837\uff0c\u7279\u522b\u7684\uff0c\u4e0a\u9762\u7684\u4f8b\u5b50\u90fd\u4e0d\u80fd\u5728\u975eUnix\u7cfb\u7edf\u4e0a\u8fd0\u884c\u3002\n\u6211\u8bf4\u4e86\u8fd9\u4e48\u591a\uff0c\u610f\u601d\u5c31\u662f\u8ba9\u4f60\u5145\u5206\u6d4b\u8bd5\u81ea\u5df1\u7684\u5b9e\u73b0\u4ee3\u7801\uff0c\u786e\u4fdd\u5b83\u80fd\u6309\u7167\u671f\u671b\u5de5\u4f5c\u3002"
      ]
    }
  ],
  "metadata": {
    "kernelspec": {
      "display_name": "Python 3",
      "language": "python",
      "name": "python3"
    },
    "language_info": {
      "codemirror_mode": {
        "name": "ipython",
        "version": 3
      },
      "file_extension": ".py",
      "mimetype": "text/x-python",
      "name": "python",
      "nbconvert_exporter": "python",
      "pygments_lexer": "ipython3",
      "version": "3.7.1"
    },
    "toc": {
      "base_numbering": 1,
      "nav_menu": {},
      "number_sections": true,
      "sideBar": true,
      "skip_h1_title": true,
      "title_cell": "Table of Contents",
      "title_sidebar": "Contents",
      "toc_cell": false,
      "toc_position": {},
      "toc_section_display": true,
      "toc_window_display": true
    }
  },
  "nbformat": 4,
  "nbformat_minor": 2
}