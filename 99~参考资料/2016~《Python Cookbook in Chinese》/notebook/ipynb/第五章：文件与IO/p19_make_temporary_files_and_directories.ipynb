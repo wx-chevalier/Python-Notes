{
  "cells": [
    {
      "cell_type": "markdown",
      "metadata": {},
      "source": [
        "## 5.19 \u521b\u5efa\u4e34\u65f6\u6587\u4ef6\u548c\u6587\u4ef6\u5939\n"
      ]
    },
    {
      "cell_type": "markdown",
      "metadata": {},
      "source": [
        "### \u95ee\u9898\n"
      ]
    },
    {
      "cell_type": "markdown",
      "metadata": {},
      "source": [
        "\u4f60\u9700\u8981\u5728\u7a0b\u5e8f\u6267\u884c\u65f6\u521b\u5efa\u4e00\u4e2a\u4e34\u65f6\u6587\u4ef6\u6216\u76ee\u5f55\uff0c\u5e76\u5e0c\u671b\u4f7f\u7528\u5b8c\u4e4b\u540e\u53ef\u4ee5\u81ea\u52a8\u9500\u6bc1\u6389\u3002"
      ]
    },
    {
      "cell_type": "markdown",
      "metadata": {},
      "source": [
        "### \u89e3\u51b3\u65b9\u6848\n"
      ]
    },
    {
      "cell_type": "markdown",
      "metadata": {},
      "source": [
        "tempfile \u6a21\u5757\u4e2d\u6709\u5f88\u591a\u7684\u51fd\u6570\u53ef\u4ee5\u5b8c\u6210\u8fd9\u4efb\u52a1\u3002\n\u4e3a\u4e86\u521b\u5efa\u4e00\u4e2a\u533f\u540d\u7684\u4e34\u65f6\u6587\u4ef6\uff0c\u53ef\u4ee5\u4f7f\u7528 tempfile.TemporaryFile \uff1a"
      ]
    },
    {
      "cell_type": "code",
      "execution_count": null,
      "metadata": {},
      "outputs": [],
      "source": [
        "from tempfile import TemporaryFile\n\nwith TemporaryFile('w+t') as f:\n    # Read/write to the file\n    f.write('Hello World\\n')\n    f.write('Testing\\n')\n\n    # Seek back to beginning and read the data\n    f.seek(0)\n    data = f.read()\n\n# Temporary file is destroyed"
      ]
    },
    {
      "cell_type": "markdown",
      "metadata": {},
      "source": [
        "\u6216\u8005\uff0c\u5982\u679c\u4f60\u559c\u6b22\uff0c\u4f60\u8fd8\u53ef\u4ee5\u50cf\u8fd9\u6837\u4f7f\u7528\u4e34\u65f6\u6587\u4ef6\uff1a"
      ]
    },
    {
      "cell_type": "code",
      "execution_count": null,
      "metadata": {},
      "outputs": [],
      "source": [
        "f = TemporaryFile('w+t')\n# Use the temporary file\n...\nf.close()\n# File is destroyed"
      ]
    },
    {
      "cell_type": "markdown",
      "metadata": {},
      "source": [
        "TemporaryFile() \u7684\u7b2c\u4e00\u4e2a\u53c2\u6570\u662f\u6587\u4ef6\u6a21\u5f0f\uff0c\u901a\u5e38\u6765\u8bb2\u6587\u672c\u6a21\u5f0f\u4f7f\u7528 w+t \uff0c\u4e8c\u8fdb\u5236\u6a21\u5f0f\u4f7f\u7528 w+b \u3002\n\u8fd9\u4e2a\u6a21\u5f0f\u540c\u65f6\u652f\u6301\u8bfb\u548c\u5199\u64cd\u4f5c\uff0c\u5728\u8fd9\u91cc\u662f\u5f88\u6709\u7528\u7684\uff0c\u56e0\u4e3a\u5f53\u4f60\u5173\u95ed\u6587\u4ef6\u53bb\u6539\u53d8\u6a21\u5f0f\u7684\u65f6\u5019\uff0c\u6587\u4ef6\u5b9e\u9645\u4e0a\u5df2\u7ecf\u4e0d\u5b58\u5728\u4e86\u3002\nTemporaryFile() \u53e6\u5916\u8fd8\u652f\u6301\u8ddf\u5185\u7f6e\u7684 open() \u51fd\u6570\u4e00\u6837\u7684\u53c2\u6570\u3002\u6bd4\u5982\uff1a"
      ]
    },
    {
      "cell_type": "code",
      "execution_count": null,
      "metadata": {},
      "outputs": [],
      "source": [
        "with TemporaryFile('w+t', encoding='utf-8', errors='ignore') as f:\n    ..."
      ]
    },
    {
      "cell_type": "markdown",
      "metadata": {},
      "source": [
        "\u5728\u5927\u591a\u6570Unix\u7cfb\u7edf\u4e0a\uff0c\u901a\u8fc7 TemporaryFile() \u521b\u5efa\u7684\u6587\u4ef6\u90fd\u662f\u533f\u540d\u7684\uff0c\u751a\u81f3\u8fde\u76ee\u5f55\u90fd\u6ca1\u6709\u3002\n\u5982\u679c\u4f60\u60f3\u6253\u7834\u8fd9\u4e2a\u9650\u5236\uff0c\u53ef\u4ee5\u4f7f\u7528 NamedTemporaryFile() \u6765\u4ee3\u66ff\u3002\u6bd4\u5982\uff1a"
      ]
    },
    {
      "cell_type": "code",
      "execution_count": null,
      "metadata": {},
      "outputs": [],
      "source": [
        "from tempfile import NamedTemporaryFile\n\nwith NamedTemporaryFile('w+t') as f:\n    print('filename is:', f.name)\n    ...\n\n# File automatically destroyed"
      ]
    },
    {
      "cell_type": "markdown",
      "metadata": {},
      "source": [
        "\u8fd9\u91cc\uff0c\u88ab\u6253\u5f00\u6587\u4ef6\u7684 f.name \u5c5e\u6027\u5305\u542b\u4e86\u8be5\u4e34\u65f6\u6587\u4ef6\u7684\u6587\u4ef6\u540d\u3002\n\u5f53\u4f60\u9700\u8981\u5c06\u6587\u4ef6\u540d\u4f20\u9012\u7ed9\u5176\u4ed6\u4ee3\u7801\u6765\u6253\u5f00\u8fd9\u4e2a\u6587\u4ef6\u7684\u65f6\u5019\uff0c\u8fd9\u4e2a\u5c31\u5f88\u6709\u7528\u4e86\u3002\n\u548c TemporaryFile() \u4e00\u6837\uff0c\u7ed3\u679c\u6587\u4ef6\u5173\u95ed\u65f6\u4f1a\u88ab\u81ea\u52a8\u5220\u9664\u6389\u3002\n\u5982\u679c\u4f60\u4e0d\u60f3\u8fd9\u4e48\u505a\uff0c\u53ef\u4ee5\u4f20\u9012\u4e00\u4e2a\u5173\u952e\u5b57\u53c2\u6570 delete=False \u5373\u53ef\u3002\u6bd4\u5982\uff1a"
      ]
    },
    {
      "cell_type": "code",
      "execution_count": null,
      "metadata": {},
      "outputs": [],
      "source": [
        "with NamedTemporaryFile('w+t', delete=False) as f:\n    print('filename is:', f.name)\n    ..."
      ]
    },
    {
      "cell_type": "markdown",
      "metadata": {},
      "source": [
        "\u4e3a\u4e86\u521b\u5efa\u4e00\u4e2a\u4e34\u65f6\u76ee\u5f55\uff0c\u53ef\u4ee5\u4f7f\u7528 tempfile.TemporaryDirectory() \u3002\u6bd4\u5982\uff1a"
      ]
    },
    {
      "cell_type": "code",
      "execution_count": null,
      "metadata": {},
      "outputs": [],
      "source": [
        "from tempfile import TemporaryDirectory\n\nwith TemporaryDirectory() as dirname:\n    print('dirname is:', dirname)\n    # Use the directory\n    ...\n# Directory and all contents destroyed"
      ]
    },
    {
      "cell_type": "markdown",
      "metadata": {},
      "source": [
        "### \u8ba8\u8bba\n"
      ]
    },
    {
      "cell_type": "markdown",
      "metadata": {},
      "source": [
        "TemporaryFile() \u3001NamedTemporaryFile() \u548c TemporaryDirectory() \u51fd\u6570\n\u5e94\u8be5\u662f\u5904\u7406\u4e34\u65f6\u6587\u4ef6\u76ee\u5f55\u7684\u6700\u7b80\u5355\u7684\u65b9\u5f0f\u4e86\uff0c\u56e0\u4e3a\u5b83\u4eec\u4f1a\u81ea\u52a8\u5904\u7406\u6240\u6709\u7684\u521b\u5efa\u548c\u6e05\u7406\u6b65\u9aa4\u3002\n\u5728\u4e00\u4e2a\u66f4\u4f4e\u7684\u7ea7\u522b\uff0c\u4f60\u53ef\u4ee5\u4f7f\u7528 mkstemp() \u548c mkdtemp() \u6765\u521b\u5efa\u4e34\u65f6\u6587\u4ef6\u548c\u76ee\u5f55\u3002\u6bd4\u5982\uff1a"
      ]
    },
    {
      "cell_type": "code",
      "execution_count": null,
      "metadata": {},
      "outputs": [],
      "source": [
        "import tempfile\ntempfile.mkstemp()"
      ]
    },
    {
      "cell_type": "code",
      "execution_count": null,
      "metadata": {},
      "outputs": [],
      "source": [
        "tempfile.mkdtemp()"
      ]
    },
    {
      "cell_type": "markdown",
      "metadata": {},
      "source": [
        "\u4f46\u662f\uff0c\u8fd9\u4e9b\u51fd\u6570\u5e76\u4e0d\u4f1a\u505a\u8fdb\u4e00\u6b65\u7684\u7ba1\u7406\u4e86\u3002\n\u4f8b\u5982\uff0c\u51fd\u6570 mkstemp() \u4ec5\u4ec5\u5c31\u8fd4\u56de\u4e00\u4e2a\u539f\u59cb\u7684OS\u6587\u4ef6\u63cf\u8ff0\u7b26\uff0c\u4f60\u9700\u8981\u81ea\u5df1\u5c06\u5b83\u8f6c\u6362\u4e3a\u4e00\u4e2a\u771f\u6b63\u7684\u6587\u4ef6\u5bf9\u8c61\u3002\n\u540c\u6837\u4f60\u8fd8\u9700\u8981\u81ea\u5df1\u6e05\u7406\u8fd9\u4e9b\u6587\u4ef6\u3002"
      ]
    },
    {
      "cell_type": "markdown",
      "metadata": {},
      "source": [
        "\u901a\u5e38\u6765\u8bb2\uff0c\u4e34\u65f6\u6587\u4ef6\u5728\u7cfb\u7edf\u9ed8\u8ba4\u7684\u4f4d\u7f6e\u88ab\u521b\u5efa\uff0c\u6bd4\u5982 /var/tmp \u6216\u7c7b\u4f3c\u7684\u5730\u65b9\u3002\n\u4e3a\u4e86\u83b7\u53d6\u771f\u5b9e\u7684\u4f4d\u7f6e\uff0c\u53ef\u4ee5\u4f7f\u7528 tempfile.gettempdir() \u51fd\u6570\u3002\u6bd4\u5982\uff1a"
      ]
    },
    {
      "cell_type": "code",
      "execution_count": null,
      "metadata": {},
      "outputs": [],
      "source": [
        "tempfile.gettempdir()"
      ]
    },
    {
      "cell_type": "markdown",
      "metadata": {},
      "source": [
        "\u6240\u6709\u548c\u4e34\u65f6\u6587\u4ef6\u76f8\u5173\u7684\u51fd\u6570\u90fd\u5141\u8bb8\u4f60\u901a\u8fc7\u4f7f\u7528\u5173\u952e\u5b57\u53c2\u6570\nprefix \u3001suffix \u548c dir \u6765\u81ea\u5b9a\u4e49\u76ee\u5f55\u4ee5\u53ca\u547d\u540d\u89c4\u5219\u3002\u6bd4\u5982\uff1a"
      ]
    },
    {
      "cell_type": "code",
      "execution_count": null,
      "metadata": {},
      "outputs": [],
      "source": [
        "f = NamedTemporaryFile(prefix='mytemp', suffix='.txt', dir='/tmp')\nf.name"
      ]
    },
    {
      "cell_type": "markdown",
      "metadata": {},
      "source": [
        "\u6700\u540e\u8fd8\u6709\u4e00\u70b9\uff0c\u5c3d\u53ef\u80fd\u4ee5\u6700\u5b89\u5168\u7684\u65b9\u5f0f\u4f7f\u7528 tempfile \u6a21\u5757\u6765\u521b\u5efa\u4e34\u65f6\u6587\u4ef6\u3002\n\u5305\u62ec\u4ec5\u7ed9\u5f53\u524d\u7528\u6237\u6388\u6743\u8bbf\u95ee\u4ee5\u53ca\u5728\u6587\u4ef6\u521b\u5efa\u8fc7\u7a0b\u4e2d\u91c7\u53d6\u63aa\u65bd\u907f\u514d\u7ade\u6001\u6761\u4ef6\u3002\n\u8981\u6ce8\u610f\u7684\u662f\u4e0d\u540c\u7684\u5e73\u53f0\u53ef\u80fd\u4f1a\u4e0d\u4e00\u6837\u3002\u56e0\u6b64\u4f60\u6700\u597d\u9605\u8bfb\n\u5b98\u65b9\u6587\u6863 \u6765\u4e86\u89e3\u66f4\u591a\u7684\u7ec6\u8282\u3002"
      ]
    }
  ],
  "metadata": {
    "kernelspec": {
      "display_name": "Python 3",
      "language": "python",
      "name": "python3"
    },
    "language_info": {
      "codemirror_mode": {
        "name": "ipython",
        "version": 3
      },
      "file_extension": ".py",
      "mimetype": "text/x-python",
      "name": "python",
      "nbconvert_exporter": "python",
      "pygments_lexer": "ipython3",
      "version": "3.7.1"
    },
    "toc": {
      "base_numbering": 1,
      "nav_menu": {},
      "number_sections": true,
      "sideBar": true,
      "skip_h1_title": true,
      "title_cell": "Table of Contents",
      "title_sidebar": "Contents",
      "toc_cell": false,
      "toc_position": {},
      "toc_section_display": true,
      "toc_window_display": true
    }
  },
  "nbformat": 4,
  "nbformat_minor": 2
}