{
  "cells": [
    {
      "cell_type": "markdown",
      "metadata": {},
      "source": [
        "## 5.21 \u5e8f\u5217\u5316Python\u5bf9\u8c61\n"
      ]
    },
    {
      "cell_type": "markdown",
      "metadata": {},
      "source": [
        "### \u95ee\u9898\n"
      ]
    },
    {
      "cell_type": "markdown",
      "metadata": {},
      "source": [
        "\u4f60\u9700\u8981\u5c06\u4e00\u4e2aPython\u5bf9\u8c61\u5e8f\u5217\u5316\u4e3a\u4e00\u4e2a\u5b57\u8282\u6d41\uff0c\u4ee5\u4fbf\u5c06\u5b83\u4fdd\u5b58\u5230\u4e00\u4e2a\u6587\u4ef6\u3001\u5b58\u50a8\u5230\u6570\u636e\u5e93\u6216\u8005\u901a\u8fc7\u7f51\u7edc\u4f20\u8f93\u5b83\u3002"
      ]
    },
    {
      "cell_type": "markdown",
      "metadata": {},
      "source": [
        "### \u89e3\u51b3\u65b9\u6848\n"
      ]
    },
    {
      "cell_type": "markdown",
      "metadata": {},
      "source": [
        "\u5bf9\u4e8e\u5e8f\u5217\u5316\u6700\u666e\u904d\u7684\u505a\u6cd5\u5c31\u662f\u4f7f\u7528 pickle \u6a21\u5757\u3002\u4e3a\u4e86\u5c06\u4e00\u4e2a\u5bf9\u8c61\u4fdd\u5b58\u5230\u4e00\u4e2a\u6587\u4ef6\u4e2d\uff0c\u53ef\u4ee5\u8fd9\u6837\u505a\uff1a"
      ]
    },
    {
      "cell_type": "code",
      "execution_count": null,
      "metadata": {},
      "outputs": [],
      "source": [
        "import pickle\n\ndata = ... # Some Python object\nf = open('somefile', 'wb')\npickle.dump(data, f)"
      ]
    },
    {
      "cell_type": "markdown",
      "metadata": {},
      "source": [
        "\u4e3a\u4e86\u5c06\u4e00\u4e2a\u5bf9\u8c61\u8f6c\u50a8\u4e3a\u4e00\u4e2a\u5b57\u7b26\u4e32\uff0c\u53ef\u4ee5\u4f7f\u7528 pickle.dumps() \uff1a"
      ]
    },
    {
      "cell_type": "code",
      "execution_count": null,
      "metadata": {},
      "outputs": [],
      "source": [
        "s = pickle.dumps(data)"
      ]
    },
    {
      "cell_type": "markdown",
      "metadata": {},
      "source": [
        "\u4e3a\u4e86\u4ece\u5b57\u8282\u6d41\u4e2d\u6062\u590d\u4e00\u4e2a\u5bf9\u8c61\uff0c\u4f7f\u7528 pickle.load() \u6216 pickle.loads() \u51fd\u6570\u3002\u6bd4\u5982\uff1a"
      ]
    },
    {
      "cell_type": "code",
      "execution_count": null,
      "metadata": {},
      "outputs": [],
      "source": [
        "# Restore from a file\nf = open('somefile', 'rb')\ndata = pickle.load(f)\n\n# Restore from a string\ndata = pickle.loads(s)"
      ]
    },
    {
      "cell_type": "markdown",
      "metadata": {},
      "source": [
        "### \u8ba8\u8bba\n"
      ]
    },
    {
      "cell_type": "markdown",
      "metadata": {},
      "source": [
        "\u5bf9\u4e8e\u5927\u591a\u6570\u5e94\u7528\u7a0b\u5e8f\u6765\u8bb2\uff0cdump() \u548c load() \u51fd\u6570\u7684\u4f7f\u7528\u5c31\u662f\u4f60\u6709\u6548\u4f7f\u7528 pickle \u6a21\u5757\u6240\u9700\u7684\u5168\u90e8\u4e86\u3002\n\u5b83\u53ef\u9002\u7528\u4e8e\u7edd\u5927\u90e8\u5206Python\u6570\u636e\u7c7b\u578b\u548c\u7528\u6237\u81ea\u5b9a\u4e49\u7c7b\u7684\u5bf9\u8c61\u5b9e\u4f8b\u3002\n\u5982\u679c\u4f60\u78b0\u5230\u67d0\u4e2a\u5e93\u53ef\u4ee5\u8ba9\u4f60\u5728\u6570\u636e\u5e93\u4e2d\u4fdd\u5b58/\u6062\u590dPython\u5bf9\u8c61\u6216\u8005\u662f\u901a\u8fc7\u7f51\u7edc\u4f20\u8f93\u5bf9\u8c61\u7684\u8bdd\uff0c\n\u90a3\u4e48\u5f88\u6709\u53ef\u80fd\u8fd9\u4e2a\u5e93\u7684\u5e95\u5c42\u5c31\u4f7f\u7528\u4e86 pickle \u6a21\u5757\u3002"
      ]
    },
    {
      "cell_type": "markdown",
      "metadata": {},
      "source": [
        "pickle \u662f\u4e00\u79cdPython\u7279\u6709\u7684\u81ea\u63cf\u8ff0\u7684\u6570\u636e\u7f16\u7801\u3002\n\u901a\u8fc7\u81ea\u63cf\u8ff0\uff0c\u88ab\u5e8f\u5217\u5316\u540e\u7684\u6570\u636e\u5305\u542b\u6bcf\u4e2a\u5bf9\u8c61\u5f00\u59cb\u548c\u7ed3\u675f\u4ee5\u53ca\u5b83\u7684\u7c7b\u578b\u4fe1\u606f\u3002\n\u56e0\u6b64\uff0c\u4f60\u65e0\u9700\u62c5\u5fc3\u5bf9\u8c61\u8bb0\u5f55\u7684\u5b9a\u4e49\uff0c\u5b83\u603b\u662f\u80fd\u5de5\u4f5c\u3002\n\u4e3e\u4e2a\u4f8b\u5b50\uff0c\u5982\u679c\u8981\u5904\u7406\u591a\u4e2a\u5bf9\u8c61\uff0c\u4f60\u53ef\u4ee5\u8fd9\u6837\u505a\uff1a"
      ]
    },
    {
      "cell_type": "code",
      "execution_count": null,
      "metadata": {},
      "outputs": [],
      "source": [
        "import pickle\nf = open('somedata', 'wb')\npickle.dump([1, 2, 3, 4], f)\npickle.dump('hello', f)\npickle.dump({'Apple', 'Pear', 'Banana'}, f)\nf.close()\nf = open('somedata', 'rb')\npickle.load(f)"
      ]
    },
    {
      "cell_type": "code",
      "execution_count": null,
      "metadata": {},
      "outputs": [],
      "source": [
        "pickle.load(f)"
      ]
    },
    {
      "cell_type": "code",
      "execution_count": null,
      "metadata": {},
      "outputs": [],
      "source": [
        "pickle.load(f)"
      ]
    },
    {
      "cell_type": "markdown",
      "metadata": {},
      "source": [
        "\u4f60\u8fd8\u80fd\u5e8f\u5217\u5316\u51fd\u6570\uff0c\u7c7b\uff0c\u8fd8\u6709\u63a5\u53e3\uff0c\u4f46\u662f\u7ed3\u679c\u6570\u636e\u4ec5\u4ec5\u5c06\u5b83\u4eec\u7684\u540d\u79f0\u7f16\u7801\u6210\u5bf9\u5e94\u7684\u4ee3\u7801\u5bf9\u8c61\u3002\u4f8b\u5982\uff1a"
      ]
    },
    {
      "cell_type": "code",
      "execution_count": null,
      "metadata": {},
      "outputs": [],
      "source": [
        "import math\nimport pickle.\npickle.dumps(math.cos)"
      ]
    },
    {
      "cell_type": "markdown",
      "metadata": {},
      "source": [
        "\u5f53\u6570\u636e\u53cd\u5e8f\u5217\u5316\u56de\u6765\u7684\u65f6\u5019\uff0c\u4f1a\u5148\u5047\u5b9a\u6240\u6709\u7684\u6e90\u6570\u636e\u65f6\u53ef\u7528\u7684\u3002\n\u6a21\u5757\u3001\u7c7b\u548c\u51fd\u6570\u4f1a\u81ea\u52a8\u6309\u9700\u5bfc\u5165\u8fdb\u6765\u3002\u5bf9\u4e8ePython\u6570\u636e\u88ab\u4e0d\u540c\u673a\u5668\u4e0a\u7684\u89e3\u6790\u5668\u6240\u5171\u4eab\u7684\u5e94\u7528\u7a0b\u5e8f\u800c\u8a00\uff0c\n\u6570\u636e\u7684\u4fdd\u5b58\u53ef\u80fd\u4f1a\u6709\u95ee\u9898\uff0c\u56e0\u4e3a\u6240\u6709\u7684\u673a\u5668\u90fd\u5fc5\u987b\u8bbf\u95ee\u540c\u4e00\u4e2a\u6e90\u4ee3\u7801\u3002"
      ]
    },
    {
      "cell_type": "markdown",
      "metadata": {},
      "source": [
        "\u6ce8"
      ]
    },
    {
      "cell_type": "code",
      "execution_count": null,
      "metadata": {},
      "outputs": [],
      "source": [
        "\u5343\u4e07\u4e0d\u8981\u5bf9\u4e0d\u4fe1\u4efb\u7684\u6570\u636e\u4f7f\u7528pickle.load()\u3002\npickle\u5728\u52a0\u8f7d\u65f6\u6709\u4e00\u4e2a\u526f\u4f5c\u7528\u5c31\u662f\u5b83\u4f1a\u81ea\u52a8\u52a0\u8f7d\u76f8\u5e94\u6a21\u5757\u5e76\u6784\u9020\u5b9e\u4f8b\u5bf9\u8c61\u3002\n\u4f46\u662f\u67d0\u4e2a\u574f\u4eba\u5982\u679c\u77e5\u9053pickle\u7684\u5de5\u4f5c\u539f\u7406\uff0c\n\u4ed6\u5c31\u53ef\u4ee5\u521b\u5efa\u4e00\u4e2a\u6076\u610f\u7684\u6570\u636e\u5bfc\u81f4Python\u6267\u884c\u968f\u610f\u6307\u5b9a\u7684\u7cfb\u7edf\u547d\u4ee4\u3002\n\u56e0\u6b64\uff0c\u4e00\u5b9a\u8981\u4fdd\u8bc1pickle\u53ea\u5728\u76f8\u4e92\u4e4b\u95f4\u53ef\u4ee5\u8ba4\u8bc1\u5bf9\u65b9\u7684\u89e3\u6790\u5668\u7684\u5185\u90e8\u4f7f\u7528\u3002"
      ]
    },
    {
      "cell_type": "markdown",
      "metadata": {},
      "source": [
        "\u6709\u4e9b\u7c7b\u578b\u7684\u5bf9\u8c61\u662f\u4e0d\u80fd\u88ab\u5e8f\u5217\u5316\u7684\u3002\u8fd9\u4e9b\u901a\u5e38\u662f\u90a3\u4e9b\u4f9d\u8d56\u5916\u90e8\u7cfb\u7edf\u72b6\u6001\u7684\u5bf9\u8c61\uff0c\n\u6bd4\u5982\u6253\u5f00\u7684\u6587\u4ef6\uff0c\u7f51\u7edc\u8fde\u63a5\uff0c\u7ebf\u7a0b\uff0c\u8fdb\u7a0b\uff0c\u6808\u5e27\u7b49\u7b49\u3002\n\u7528\u6237\u81ea\u5b9a\u4e49\u7c7b\u53ef\u4ee5\u901a\u8fc7\u63d0\u4f9b __getstate__() \u548c __setstate__() \u65b9\u6cd5\u6765\u7ed5\u8fc7\u8fd9\u4e9b\u9650\u5236\u3002\n\u5982\u679c\u5b9a\u4e49\u4e86\u8fd9\u4e24\u4e2a\u65b9\u6cd5\uff0cpickle.dump() \u5c31\u4f1a\u8c03\u7528 __getstate__() \u83b7\u53d6\u5e8f\u5217\u5316\u7684\u5bf9\u8c61\u3002\n\u7c7b\u4f3c\u7684\uff0c__setstate__() \u5728\u53cd\u5e8f\u5217\u5316\u65f6\u88ab\u8c03\u7528\u3002\u4e3a\u4e86\u6f14\u793a\u8fd9\u4e2a\u5de5\u4f5c\u539f\u7406\uff0c\n\u4e0b\u9762\u662f\u4e00\u4e2a\u5728\u5185\u90e8\u5b9a\u4e49\u4e86\u4e00\u4e2a\u7ebf\u7a0b\u4f46\u4ecd\u7136\u53ef\u4ee5\u5e8f\u5217\u5316\u548c\u53cd\u5e8f\u5217\u5316\u7684\u7c7b\uff1a"
      ]
    },
    {
      "cell_type": "code",
      "execution_count": null,
      "metadata": {},
      "outputs": [],
      "source": [
        "# countdown.py\nimport time\nimport threading\n\nclass Countdown:\n    def __init__(self, n):\n        self.n = n\n        self.thr = threading.Thread(target=self.run)\n        self.thr.daemon = True\n        self.thr.start()\n\n    def run(self):\n        while self.n > 0:\n            print('T-minus', self.n)\n            self.n -= 1\n            time.sleep(5)\n\n    def __getstate__(self):\n        return self.n\n\n    def __setstate__(self, n):\n        self.__init__(n)"
      ]
    },
    {
      "cell_type": "markdown",
      "metadata": {},
      "source": [
        "\u8bd5\u7740\u8fd0\u884c\u4e0b\u9762\u7684\u5e8f\u5217\u5316\u8bd5\u9a8c\u4ee3\u7801\uff1a"
      ]
    },
    {
      "cell_type": "code",
      "execution_count": null,
      "metadata": {},
      "outputs": [],
      "source": [
        "import countdown\nc = countdown.Countdown(30)\nT-minus 30"
      ]
    },
    {
      "cell_type": "code",
      "execution_count": null,
      "metadata": {},
      "outputs": [],
      "source": [
        "# After a few moments\nf = open('cstate.p', 'wb')\nimport pickle\npickle.dump(c, f)\nf.close()"
      ]
    },
    {
      "cell_type": "markdown",
      "metadata": {},
      "source": [
        "\u7136\u540e\u9000\u51faPython\u89e3\u6790\u5668\u5e76\u91cd\u542f\u540e\u518d\u8bd5\u9a8c\u4e0b\uff1a"
      ]
    },
    {
      "cell_type": "code",
      "execution_count": null,
      "metadata": {},
      "outputs": [],
      "source": [
        "f = open('cstate.p', 'rb')\npickle.load(f)"
      ]
    },
    {
      "cell_type": "markdown",
      "metadata": {},
      "source": [
        "\u4f60\u53ef\u4ee5\u770b\u5230\u7ebf\u7a0b\u53c8\u5947\u8ff9\u822c\u7684\u91cd\u751f\u4e86\uff0c\u4ece\u4f60\u7b2c\u4e00\u6b21\u5e8f\u5217\u5316\u5b83\u7684\u5730\u65b9\u53c8\u6062\u590d\u8fc7\u6765\u3002"
      ]
    },
    {
      "cell_type": "markdown",
      "metadata": {},
      "source": [
        "pickle \u5bf9\u4e8e\u5927\u578b\u7684\u6570\u636e\u7ed3\u6784\u6bd4\u5982\u4f7f\u7528 array \u6216 numpy\n\u6a21\u5757\u521b\u5efa\u7684\u4e8c\u8fdb\u5236\u6570\u7ec4\u6548\u7387\u5e76\u4e0d\u662f\u4e00\u4e2a\u9ad8\u6548\u7684\u7f16\u7801\u65b9\u5f0f\u3002\n\u5982\u679c\u4f60\u9700\u8981\u79fb\u52a8\u5927\u91cf\u7684\u6570\u7ec4\u6570\u636e\uff0c\u4f60\u6700\u597d\u662f\u5148\u5728\u4e00\u4e2a\u6587\u4ef6\u4e2d\u5c06\u5176\u4fdd\u5b58\u4e3a\u6570\u7ec4\u6570\u636e\u5757\u6216\u4f7f\u7528\u66f4\u9ad8\u7ea7\u7684\u6807\u51c6\u7f16\u7801\u65b9\u5f0f\u5982HDF5\n(\u9700\u8981\u7b2c\u4e09\u65b9\u5e93\u7684\u652f\u6301)\u3002"
      ]
    },
    {
      "cell_type": "markdown",
      "metadata": {},
      "source": [
        "\u7531\u4e8e pickle \u662fPython\u7279\u6709\u7684\u5e76\u4e14\u9644\u7740\u5728\u6e90\u7801\u4e0a\uff0c\u6240\u6709\u5982\u679c\u9700\u8981\u957f\u671f\u5b58\u50a8\u6570\u636e\u7684\u65f6\u5019\u4e0d\u5e94\u8be5\u9009\u7528\u5b83\u3002\n\u4f8b\u5982\uff0c\u5982\u679c\u6e90\u7801\u53d8\u52a8\u4e86\uff0c\u4f60\u6240\u6709\u7684\u5b58\u50a8\u6570\u636e\u53ef\u80fd\u4f1a\u88ab\u7834\u574f\u5e76\u4e14\u53d8\u5f97\u4e0d\u53ef\u8bfb\u53d6\u3002\n\u5766\u767d\u6765\u8bb2\uff0c\u5bf9\u4e8e\u5728\u6570\u636e\u5e93\u548c\u5b58\u6863\u6587\u4ef6\u4e2d\u5b58\u50a8\u6570\u636e\u65f6\uff0c\u4f60\u6700\u597d\u4f7f\u7528\u66f4\u52a0\u6807\u51c6\u7684\u6570\u636e\u7f16\u7801\u683c\u5f0f\u5982XML\uff0cCSV\u6216JSON\u3002\n\u8fd9\u4e9b\u7f16\u7801\u683c\u5f0f\u66f4\u6807\u51c6\uff0c\u53ef\u4ee5\u88ab\u4e0d\u540c\u7684\u8bed\u8a00\u652f\u6301\uff0c\u5e76\u4e14\u4e5f\u80fd\u5f88\u597d\u7684\u9002\u5e94\u6e90\u7801\u53d8\u66f4\u3002"
      ]
    },
    {
      "cell_type": "markdown",
      "metadata": {},
      "source": [
        "\u6700\u540e\u4e00\u70b9\u8981\u6ce8\u610f\u7684\u662f  pickle \u6709\u5927\u91cf\u7684\u914d\u7f6e\u9009\u9879\u548c\u4e00\u4e9b\u68d8\u624b\u7684\u95ee\u9898\u3002\n\u5bf9\u4e8e\u6700\u5e38\u89c1\u7684\u4f7f\u7528\u573a\u666f\uff0c\u4f60\u4e0d\u9700\u8981\u53bb\u62c5\u5fc3\u8fd9\u4e2a\uff0c\u4f46\u662f\u5982\u679c\u4f60\u8981\u5728\u4e00\u4e2a\u91cd\u8981\u7684\u7a0b\u5e8f\u4e2d\u4f7f\u7528pickle\u53bb\u505a\u5e8f\u5217\u5316\u7684\u8bdd\uff0c\n\u6700\u597d\u53bb\u67e5\u9605\u4e00\u4e0b \u5b98\u65b9\u6587\u6863 \u3002"
      ]
    }
  ],
  "metadata": {
    "kernelspec": {
      "display_name": "Python 3",
      "language": "python",
      "name": "python3"
    },
    "language_info": {
      "codemirror_mode": {
        "name": "ipython",
        "version": 3
      },
      "file_extension": ".py",
      "mimetype": "text/x-python",
      "name": "python",
      "nbconvert_exporter": "python",
      "pygments_lexer": "ipython3",
      "version": "3.7.1"
    },
    "toc": {
      "base_numbering": 1,
      "nav_menu": {},
      "number_sections": true,
      "sideBar": true,
      "skip_h1_title": true,
      "title_cell": "Table of Contents",
      "title_sidebar": "Contents",
      "toc_cell": false,
      "toc_position": {},
      "toc_section_display": true,
      "toc_window_display": true
    }
  },
  "nbformat": 4,
  "nbformat_minor": 2
}