{
  "cells": [
    {
      "cell_type": "markdown",
      "metadata": {},
      "source": [
        "## 5.14 \u5ffd\u7565\u6587\u4ef6\u540d\u7f16\u7801\n"
      ]
    },
    {
      "cell_type": "markdown",
      "metadata": {},
      "source": [
        "### \u95ee\u9898\n"
      ]
    },
    {
      "cell_type": "markdown",
      "metadata": {},
      "source": [
        "\u4f60\u60f3\u4f7f\u7528\u539f\u59cb\u6587\u4ef6\u540d\u6267\u884c\u6587\u4ef6\u7684I/O\u64cd\u4f5c\uff0c\u4e5f\u5c31\u662f\u8bf4\u6587\u4ef6\u540d\u5e76\u6ca1\u6709\u7ecf\u8fc7\u7cfb\u7edf\u9ed8\u8ba4\u7f16\u7801\u53bb\u89e3\u7801\u6216\u7f16\u7801\u8fc7\u3002"
      ]
    },
    {
      "cell_type": "markdown",
      "metadata": {},
      "source": [
        "### \u89e3\u51b3\u65b9\u6848\n"
      ]
    },
    {
      "cell_type": "markdown",
      "metadata": {},
      "source": [
        "\u9ed8\u8ba4\u60c5\u51b5\u4e0b\uff0c\u6240\u6709\u7684\u6587\u4ef6\u540d\u90fd\u4f1a\u6839\u636e sys.getfilesystemencoding() \u8fd4\u56de\u7684\u6587\u672c\u7f16\u7801\u6765\u7f16\u7801\u6216\u89e3\u7801\u3002\u6bd4\u5982\uff1a"
      ]
    },
    {
      "cell_type": "code",
      "execution_count": null,
      "metadata": {},
      "outputs": [],
      "source": [
        "sys.getfilesystemencoding()"
      ]
    },
    {
      "cell_type": "markdown",
      "metadata": {},
      "source": [
        "\u5982\u679c\u56e0\u4e3a\u67d0\u79cd\u539f\u56e0\u4f60\u60f3\u5ffd\u7565\u8fd9\u79cd\u7f16\u7801\uff0c\u53ef\u4ee5\u4f7f\u7528\u4e00\u4e2a\u539f\u59cb\u5b57\u8282\u5b57\u7b26\u4e32\u6765\u6307\u5b9a\u4e00\u4e2a\u6587\u4ef6\u540d\u5373\u53ef\u3002\u6bd4\u5982\uff1a"
      ]
    },
    {
      "cell_type": "code",
      "execution_count": null,
      "metadata": {},
      "outputs": [],
      "source": [
        "# Wrte a file using a unicode filename\nwith open('jalape\\xf1o.txt', 'w') as f:\n    f.write('Spicy!')"
      ]
    },
    {
      "cell_type": "code",
      "execution_count": null,
      "metadata": {},
      "outputs": [],
      "source": [
        "# Directory listing (decoded)\nimport os\nos.listdir('.')"
      ]
    },
    {
      "cell_type": "code",
      "execution_count": null,
      "metadata": {},
      "outputs": [],
      "source": [
        "# Directory listing (raw)\nos.listdir(b'.') # Note: byte string"
      ]
    },
    {
      "cell_type": "code",
      "execution_count": null,
      "metadata": {},
      "outputs": [],
      "source": [
        "# Open file with raw filename\nwith open(b'jalapen\\xcc\\x83o.txt') as f:\n    print(f.read())"
      ]
    },
    {
      "cell_type": "markdown",
      "metadata": {},
      "source": [
        "\u6b63\u5982\u4f60\u6240\u89c1\uff0c\u5728\u6700\u540e\u4e24\u4e2a\u64cd\u4f5c\u4e2d\uff0c\u5f53\u4f60\u7ed9\u6587\u4ef6\u76f8\u5173\u51fd\u6570\u5982 open() \u548c os.listdir()\n\u4f20\u9012\u5b57\u8282\u5b57\u7b26\u4e32\u65f6\uff0c\u6587\u4ef6\u540d\u7684\u5904\u7406\u65b9\u5f0f\u4f1a\u7a0d\u6709\u4e0d\u540c\u3002"
      ]
    },
    {
      "cell_type": "markdown",
      "metadata": {},
      "source": [
        "### \u8ba8\u8bba\n"
      ]
    },
    {
      "cell_type": "markdown",
      "metadata": {},
      "source": [
        "\u901a\u5e38\u6765\u8bb2\uff0c\u4f60\u4e0d\u9700\u8981\u62c5\u5fc3\u6587\u4ef6\u540d\u7684\u7f16\u7801\u548c\u89e3\u7801\uff0c\u666e\u901a\u7684\u6587\u4ef6\u540d\u64cd\u4f5c\u5e94\u8be5\u5c31\u6ca1\u95ee\u9898\u4e86\u3002\n\u4f46\u662f\uff0c\u6709\u4e9b\u64cd\u4f5c\u7cfb\u7edf\u5141\u8bb8\u7528\u6237\u901a\u8fc7\u5076\u7136\u6216\u6076\u610f\u65b9\u5f0f\u53bb\u521b\u5efa\u540d\u5b57\u4e0d\u7b26\u5408\u9ed8\u8ba4\u7f16\u7801\u7684\u6587\u4ef6\u3002\n\u8fd9\u4e9b\u6587\u4ef6\u540d\u53ef\u80fd\u4f1a\u795e\u79d8\u5730\u4e2d\u65ad\u90a3\u4e9b\u9700\u8981\u5904\u7406\u5927\u91cf\u6587\u4ef6\u7684Python\u7a0b\u5e8f\u3002"
      ]
    },
    {
      "cell_type": "markdown",
      "metadata": {},
      "source": [
        "\u8bfb\u53d6\u76ee\u5f55\u5e76\u901a\u8fc7\u539f\u59cb\u672a\u89e3\u7801\u65b9\u5f0f\u5904\u7406\u6587\u4ef6\u540d\u53ef\u4ee5\u6709\u6548\u7684\u907f\u514d\u8fd9\u6837\u7684\u95ee\u9898\uff0c\n\u5c3d\u7ba1\u8fd9\u6837\u4f1a\u5e26\u6765\u4e00\u5b9a\u7684\u7f16\u7a0b\u96be\u5ea6\u3002"
      ]
    },
    {
      "cell_type": "markdown",
      "metadata": {},
      "source": [
        "\u5173\u4e8e\u6253\u5370\u4e0d\u53ef\u89e3\u7801\u7684\u6587\u4ef6\u540d\uff0c\u8bf7\u53c2\u80035.15\u5c0f\u8282\u3002"
      ]
    }
  ],
  "metadata": {
    "kernelspec": {
      "display_name": "Python 3",
      "language": "python",
      "name": "python3"
    },
    "language_info": {
      "codemirror_mode": {
        "name": "ipython",
        "version": 3
      },
      "file_extension": ".py",
      "mimetype": "text/x-python",
      "name": "python",
      "nbconvert_exporter": "python",
      "pygments_lexer": "ipython3",
      "version": "3.7.1"
    },
    "toc": {
      "base_numbering": 1,
      "nav_menu": {},
      "number_sections": true,
      "sideBar": true,
      "skip_h1_title": true,
      "title_cell": "Table of Contents",
      "title_sidebar": "Contents",
      "toc_cell": false,
      "toc_position": {},
      "toc_section_display": true,
      "toc_window_display": true
    }
  },
  "nbformat": 4,
  "nbformat_minor": 2
}