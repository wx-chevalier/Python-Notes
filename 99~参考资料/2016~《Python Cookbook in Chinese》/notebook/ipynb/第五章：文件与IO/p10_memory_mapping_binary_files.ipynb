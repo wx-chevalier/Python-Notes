{
  "cells": [
    {
      "cell_type": "markdown",
      "metadata": {},
      "source": [
        "## 5.10 \u5185\u5b58\u6620\u5c04\u7684\u4e8c\u8fdb\u5236\u6587\u4ef6\n"
      ]
    },
    {
      "cell_type": "markdown",
      "metadata": {},
      "source": [
        "### \u95ee\u9898\n"
      ]
    },
    {
      "cell_type": "markdown",
      "metadata": {},
      "source": [
        "\u4f60\u60f3\u5185\u5b58\u6620\u5c04\u4e00\u4e2a\u4e8c\u8fdb\u5236\u6587\u4ef6\u5230\u4e00\u4e2a\u53ef\u53d8\u5b57\u8282\u6570\u7ec4\u4e2d\uff0c\u76ee\u7684\u53ef\u80fd\u662f\u4e3a\u4e86\u968f\u673a\u8bbf\u95ee\u5b83\u7684\u5185\u5bb9\u6216\u8005\u662f\u539f\u5730\u505a\u4e9b\u4fee\u6539\u3002"
      ]
    },
    {
      "cell_type": "markdown",
      "metadata": {},
      "source": [
        "### \u89e3\u51b3\u65b9\u6848\n"
      ]
    },
    {
      "cell_type": "markdown",
      "metadata": {},
      "source": [
        "\u4f7f\u7528 mmap \u6a21\u5757\u6765\u5185\u5b58\u6620\u5c04\u6587\u4ef6\u3002\n\u4e0b\u9762\u662f\u4e00\u4e2a\u5de5\u5177\u51fd\u6570\uff0c\u5411\u4f60\u6f14\u793a\u4e86\u5982\u4f55\u6253\u5f00\u4e00\u4e2a\u6587\u4ef6\u5e76\u4ee5\u4e00\u79cd\u4fbf\u6377\u65b9\u5f0f\u5185\u5b58\u6620\u5c04\u8fd9\u4e2a\u6587\u4ef6\u3002"
      ]
    },
    {
      "cell_type": "code",
      "execution_count": null,
      "metadata": {},
      "outputs": [],
      "source": [
        "import os\nimport mmap\n\ndef memory_map(filename, access=mmap.ACCESS_WRITE):\n    size = os.path.getsize(filename)\n    fd = os.open(filename, os.O_RDWR)\n    return mmap.mmap(fd, size, access=access)"
      ]
    },
    {
      "cell_type": "markdown",
      "metadata": {},
      "source": [
        "\u4e3a\u4e86\u4f7f\u7528\u8fd9\u4e2a\u51fd\u6570\uff0c\u4f60\u9700\u8981\u6709\u4e00\u4e2a\u5df2\u521b\u5efa\u5e76\u4e14\u5185\u5bb9\u4e0d\u4e3a\u7a7a\u7684\u6587\u4ef6\u3002\n\u4e0b\u9762\u662f\u4e00\u4e2a\u4f8b\u5b50\uff0c\u6559\u4f60\u600e\u6837\u521d\u59cb\u521b\u5efa\u4e00\u4e2a\u6587\u4ef6\u5e76\u5c06\u5176\u5185\u5bb9\u6269\u5145\u5230\u6307\u5b9a\u5927\u5c0f\uff1a"
      ]
    },
    {
      "cell_type": "code",
      "execution_count": null,
      "metadata": {},
      "outputs": [],
      "source": [
        "size = 1000000\nwith open('data', 'wb') as f:\n    f.seek(size-1)\n    f.write(b'\\x00')"
      ]
    },
    {
      "cell_type": "markdown",
      "metadata": {},
      "source": [
        "\u4e0b\u9762\u662f\u4e00\u4e2a\u5229\u7528 memory_map() \u51fd\u6570\u7c7b\u5185\u5b58\u6620\u5c04\u6587\u4ef6\u5185\u5bb9\u7684\u4f8b\u5b50\uff1a"
      ]
    },
    {
      "cell_type": "code",
      "execution_count": null,
      "metadata": {},
      "outputs": [],
      "source": [
        "m = memory_map('data')\nlen(m)"
      ]
    },
    {
      "cell_type": "code",
      "execution_count": null,
      "metadata": {},
      "outputs": [],
      "source": [
        "m[0:10]"
      ]
    },
    {
      "cell_type": "code",
      "execution_count": null,
      "metadata": {},
      "outputs": [],
      "source": [
        "m[0]"
      ]
    },
    {
      "cell_type": "code",
      "execution_count": null,
      "metadata": {},
      "outputs": [],
      "source": [
        "# Reassign a slice\nm[0:11] = b'Hello World'\nm.close()"
      ]
    },
    {
      "cell_type": "code",
      "execution_count": null,
      "metadata": {},
      "outputs": [],
      "source": [
        "# Verify that changes were made\nwith open('data', 'rb') as f:\nprint(f.read(11))"
      ]
    },
    {
      "cell_type": "markdown",
      "metadata": {},
      "source": [
        "mmap() \u8fd4\u56de\u7684 mmap \u5bf9\u8c61\u540c\u6837\u4e5f\u53ef\u4ee5\u4f5c\u4e3a\u4e00\u4e2a\u4e0a\u4e0b\u6587\u7ba1\u7406\u5668\u6765\u4f7f\u7528\uff0c\n\u8fd9\u65f6\u5019\u5e95\u5c42\u7684\u6587\u4ef6\u4f1a\u88ab\u81ea\u52a8\u5173\u95ed\u3002\u6bd4\u5982\uff1a"
      ]
    },
    {
      "cell_type": "code",
      "execution_count": null,
      "metadata": {},
      "outputs": [],
      "source": [
        "with memory_map('data') as m:\n    print(len(m))\n    print(m[0:10])"
      ]
    },
    {
      "cell_type": "code",
      "execution_count": null,
      "metadata": {},
      "outputs": [],
      "source": [
        "m.closed"
      ]
    },
    {
      "cell_type": "markdown",
      "metadata": {},
      "source": [
        "\u9ed8\u8ba4\u60c5\u51b5\u4e0b\uff0c memeory_map() \u51fd\u6570\u6253\u5f00\u7684\u6587\u4ef6\u540c\u65f6\u652f\u6301\u8bfb\u548c\u5199\u64cd\u4f5c\u3002\n\u4efb\u4f55\u7684\u4fee\u6539\u5185\u5bb9\u90fd\u4f1a\u590d\u5236\u56de\u539f\u6765\u7684\u6587\u4ef6\u4e2d\u3002\n\u5982\u679c\u9700\u8981\u53ea\u8bfb\u7684\u8bbf\u95ee\u6a21\u5f0f\uff0c\u53ef\u4ee5\u7ed9\u53c2\u6570 access \u8d4b\u503c\u4e3a mmap.ACCESS_READ \u3002\u6bd4\u5982\uff1a"
      ]
    },
    {
      "cell_type": "code",
      "execution_count": null,
      "metadata": {},
      "outputs": [],
      "source": [
        "m = memory_map(filename, mmap.ACCESS_READ)"
      ]
    },
    {
      "cell_type": "markdown",
      "metadata": {},
      "source": [
        "\u5982\u679c\u4f60\u60f3\u5728\u672c\u5730\u4fee\u6539\u6570\u636e\uff0c\u4f46\u662f\u53c8\u4e0d\u60f3\u5c06\u4fee\u6539\u5199\u56de\u5230\u539f\u59cb\u6587\u4ef6\u4e2d\uff0c\u53ef\u4ee5\u4f7f\u7528 mmap.ACCESS_COPY \uff1a"
      ]
    },
    {
      "cell_type": "code",
      "execution_count": null,
      "metadata": {},
      "outputs": [],
      "source": [
        "m = memory_map(filename, mmap.ACCESS_COPY)"
      ]
    },
    {
      "cell_type": "markdown",
      "metadata": {},
      "source": [
        "### \u8ba8\u8bba\n"
      ]
    },
    {
      "cell_type": "markdown",
      "metadata": {},
      "source": [
        "\u4e3a\u4e86\u968f\u673a\u8bbf\u95ee\u6587\u4ef6\u7684\u5185\u5bb9\uff0c\u4f7f\u7528 mmap \u5c06\u6587\u4ef6\u6620\u5c04\u5230\u5185\u5b58\u4e2d\u662f\u4e00\u4e2a\u9ad8\u6548\u548c\u4f18\u96c5\u7684\u65b9\u6cd5\u3002\n\u4f8b\u5982\uff0c\u4f60\u65e0\u9700\u6253\u5f00\u4e00\u4e2a\u6587\u4ef6\u5e76\u6267\u884c\u5927\u91cf\u7684 seek() \uff0c read() \uff0c write() \u8c03\u7528\uff0c\n\u53ea\u9700\u8981\u7b80\u5355\u7684\u6620\u5c04\u6587\u4ef6\u5e76\u4f7f\u7528\u5207\u7247\u64cd\u4f5c\u8bbf\u95ee\u6570\u636e\u5373\u53ef\u3002"
      ]
    },
    {
      "cell_type": "markdown",
      "metadata": {},
      "source": [
        "\u4e00\u822c\u6765\u8bb2\uff0c mmap() \u6240\u66b4\u9732\u7684\u5185\u5b58\u770b\u4e0a\u53bb\u5c31\u662f\u4e00\u4e2a\u4e8c\u8fdb\u5236\u6570\u7ec4\u5bf9\u8c61\u3002\n\u4f46\u662f\uff0c\u4f60\u53ef\u4ee5\u4f7f\u7528\u4e00\u4e2a\u5185\u5b58\u89c6\u56fe\u6765\u89e3\u6790\u5176\u4e2d\u7684\u6570\u636e\u3002\u6bd4\u5982\uff1a"
      ]
    },
    {
      "cell_type": "code",
      "execution_count": null,
      "metadata": {},
      "outputs": [],
      "source": [
        "m = memory_map('data')\n# Memoryview of unsigned integers\nv = memoryview(m).cast('I')\nv[0] = 7\nm[0:4]"
      ]
    },
    {
      "cell_type": "code",
      "execution_count": null,
      "metadata": {},
      "outputs": [],
      "source": [
        "m[0:4] = b'\\x07\\x01\\x00\\x00'\nv[0]"
      ]
    },
    {
      "cell_type": "markdown",
      "metadata": {},
      "source": [
        "\u9700\u8981\u5f3a\u8c03\u7684\u4e00\u70b9\u662f\uff0c\u5185\u5b58\u6620\u5c04\u4e00\u4e2a\u6587\u4ef6\u5e76\u4e0d\u4f1a\u5bfc\u81f4\u6574\u4e2a\u6587\u4ef6\u88ab\u8bfb\u53d6\u5230\u5185\u5b58\u4e2d\u3002\n\u4e5f\u5c31\u662f\u8bf4\uff0c\u6587\u4ef6\u5e76\u6ca1\u6709\u88ab\u590d\u5236\u5230\u5185\u5b58\u7f13\u5b58\u6216\u6570\u7ec4\u4e2d\u3002\u76f8\u53cd\uff0c\u64cd\u4f5c\u7cfb\u7edf\u4ec5\u4ec5\u4e3a\u6587\u4ef6\u5185\u5bb9\u4fdd\u7559\u4e86\u4e00\u6bb5\u865a\u62df\u5185\u5b58\u3002\n\u5f53\u4f60\u8bbf\u95ee\u6587\u4ef6\u7684\u4e0d\u540c\u533a\u57df\u65f6\uff0c\u8fd9\u4e9b\u533a\u57df\u7684\u5185\u5bb9\u624d\u6839\u636e\u9700\u8981\u88ab\u8bfb\u53d6\u5e76\u6620\u5c04\u5230\u5185\u5b58\u533a\u57df\u4e2d\u3002\n\u800c\u90a3\u4e9b\u4ece\u6ca1\u88ab\u8bbf\u95ee\u5230\u7684\u90e8\u5206\u8fd8\u662f\u7559\u5728\u78c1\u76d8\u4e0a\u3002\u6240\u6709\u8fd9\u4e9b\u8fc7\u7a0b\u662f\u900f\u660e\u7684\uff0c\u5728\u5e55\u540e\u5b8c\u6210\uff01"
      ]
    },
    {
      "cell_type": "markdown",
      "metadata": {},
      "source": [
        "\u5982\u679c\u591a\u4e2aPython\u89e3\u91ca\u5668\u5185\u5b58\u6620\u5c04\u540c\u4e00\u4e2a\u6587\u4ef6\uff0c\u5f97\u5230\u7684 mmap \u5bf9\u8c61\u80fd\u591f\u88ab\u7528\u6765\u5728\u89e3\u91ca\u5668\u76f4\u63a5\u4ea4\u6362\u6570\u636e\u3002\n\u4e5f\u5c31\u662f\u8bf4\uff0c\u6240\u6709\u89e3\u91ca\u5668\u90fd\u80fd\u540c\u65f6\u8bfb\u5199\u6570\u636e\uff0c\u5e76\u4e14\u5176\u4e2d\u4e00\u4e2a\u89e3\u91ca\u5668\u6240\u505a\u7684\u4fee\u6539\u4f1a\u81ea\u52a8\u5448\u73b0\u5728\u5176\u4ed6\u89e3\u91ca\u5668\u4e2d\u3002\n\u5f88\u660e\u663e\uff0c\u8fd9\u91cc\u9700\u8981\u8003\u8651\u540c\u6b65\u7684\u95ee\u9898\u3002\u4f46\u662f\u8fd9\u79cd\u65b9\u6cd5\u6709\u65f6\u5019\u53ef\u4ee5\u7528\u6765\u5728\u7ba1\u9053\u6216\u5957\u63a5\u5b57\u95f4\u4f20\u9012\u6570\u636e\u3002"
      ]
    },
    {
      "cell_type": "markdown",
      "metadata": {},
      "source": [
        "\u8fd9\u4e00\u5c0f\u8282\u4e2d\u51fd\u6570\u5c3d\u91cf\u5199\u5f97\u5f88\u901a\u7528\uff0c\u540c\u65f6\u9002\u7528\u4e8eUnix\u548cWindows\u5e73\u53f0\u3002\n\u8981\u6ce8\u610f\u7684\u662f\u4f7f\u7528 mmap() \u51fd\u6570\u65f6\u4f1a\u5728\u5e95\u5c42\u6709\u4e00\u4e9b\u5e73\u53f0\u7684\u5dee\u5f02\u6027\u3002\n\u53e6\u5916\uff0c\u8fd8\u6709\u4e00\u4e9b\u9009\u9879\u53ef\u4ee5\u7528\u6765\u521b\u5efa\u533f\u540d\u7684\u5185\u5b58\u6620\u5c04\u533a\u57df\u3002\n\u5982\u679c\u4f60\u5bf9\u8fd9\u4e2a\u611f\u5174\u8da3\uff0c\u786e\u4fdd\u4f60\u4ed4\u7ec6\u7814\u8bfb\u4e86Python\u6587\u6863\u4e2d\n\u8fd9\u65b9\u9762\u7684\u5185\u5bb9 \u3002"
      ]
    }
  ],
  "metadata": {
    "kernelspec": {
      "display_name": "Python 3",
      "language": "python",
      "name": "python3"
    },
    "language_info": {
      "codemirror_mode": {
        "name": "ipython",
        "version": 3
      },
      "file_extension": ".py",
      "mimetype": "text/x-python",
      "name": "python",
      "nbconvert_exporter": "python",
      "pygments_lexer": "ipython3",
      "version": "3.7.1"
    },
    "toc": {
      "base_numbering": 1,
      "nav_menu": {},
      "number_sections": true,
      "sideBar": true,
      "skip_h1_title": true,
      "title_cell": "Table of Contents",
      "title_sidebar": "Contents",
      "toc_cell": false,
      "toc_position": {},
      "toc_section_display": true,
      "toc_window_display": true
    }
  },
  "nbformat": 4,
  "nbformat_minor": 2
}